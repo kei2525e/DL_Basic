{
  "nbformat": 4,
  "nbformat_minor": 0,
  "metadata": {
    "colab": {
      "provenance": [],
      "machine_shape": "hm",
      "gpuType": "V100"
    },
    "kernelspec": {
      "name": "python3",
      "display_name": "Python 3"
    },
    "language_info": {
      "name": "python"
    },
    "accelerator": "GPU"
  },
  "cells": [
    {
      "cell_type": "markdown",
      "source": [
        "### ドライブのマウント"
      ],
      "metadata": {
        "id": "m-QbZLFlyjCA"
      }
    },
    {
      "cell_type": "code",
      "execution_count": 1,
      "metadata": {
        "id": "9g8jY7G9ahIa",
        "colab": {
          "base_uri": "https://localhost:8080/"
        },
        "outputId": "b44c4a7a-24c2-4552-ff0c-a7d70b3b610f"
      },
      "outputs": [
        {
          "output_type": "stream",
          "name": "stdout",
          "text": [
            "Mounted at /content/drive\n"
          ]
        }
      ],
      "source": [
        "# Googleドライブをマウント\n",
        "from google.colab import drive\n",
        "drive.mount('/content/drive')"
      ]
    },
    {
      "cell_type": "markdown",
      "source": [
        "### ライブラリ・モジュールのインポート"
      ],
      "metadata": {
        "id": "cdzvZUWNzQAY"
      }
    },
    {
      "cell_type": "code",
      "source": [
        "# ライブラリの準備\n",
        "!pip install timm\n",
        "import torch\n",
        "import torch.nn as nn\n",
        "import torchvision\n",
        "import torchvision.transforms as transforms\n",
        "import torchvision.datasets as datasets\n",
        "import torch.nn.functional as F\n",
        "import torch.optim as optim\n",
        "import torch.optim.lr_scheduler as lr_scheduler\n",
        "from timm.scheduler import CosineLRScheduler\n",
        "import numpy as np\n",
        "import pandas as pd\n",
        "import matplotlib.pyplot as plt\n",
        "import math\n",
        "import random\n",
        "import pickle"
      ],
      "metadata": {
        "id": "l8wfSjPuboGS",
        "colab": {
          "base_uri": "https://localhost:8080/"
        },
        "outputId": "186342d9-6235-43fe-ffca-ae115f1de48c"
      },
      "execution_count": 2,
      "outputs": [
        {
          "output_type": "stream",
          "name": "stdout",
          "text": [
            "Collecting timm\n",
            "  Downloading timm-0.9.2-py3-none-any.whl (2.2 MB)\n",
            "\u001b[2K     \u001b[90m━━━━━━━━━━━━━━━━━━━━━━━━━━━━━━━━━━━━━━━━\u001b[0m \u001b[32m2.2/2.2 MB\u001b[0m \u001b[31m14.3 MB/s\u001b[0m eta \u001b[36m0:00:00\u001b[0m\n",
            "\u001b[?25hRequirement already satisfied: torch>=1.7 in /usr/local/lib/python3.10/dist-packages (from timm) (2.0.1+cu118)\n",
            "Requirement already satisfied: torchvision in /usr/local/lib/python3.10/dist-packages (from timm) (0.15.2+cu118)\n",
            "Requirement already satisfied: pyyaml in /usr/local/lib/python3.10/dist-packages (from timm) (6.0.1)\n",
            "Collecting huggingface-hub (from timm)\n",
            "  Downloading huggingface_hub-0.16.4-py3-none-any.whl (268 kB)\n",
            "\u001b[2K     \u001b[90m━━━━━━━━━━━━━━━━━━━━━━━━━━━━━━━━━━━━━━\u001b[0m \u001b[32m268.8/268.8 kB\u001b[0m \u001b[31m18.8 MB/s\u001b[0m eta \u001b[36m0:00:00\u001b[0m\n",
            "\u001b[?25hCollecting safetensors (from timm)\n",
            "  Downloading safetensors-0.3.1-cp310-cp310-manylinux_2_17_x86_64.manylinux2014_x86_64.whl (1.3 MB)\n",
            "\u001b[2K     \u001b[90m━━━━━━━━━━━━━━━━━━━━━━━━━━━━━━━━━━━━━━━━\u001b[0m \u001b[32m1.3/1.3 MB\u001b[0m \u001b[31m30.3 MB/s\u001b[0m eta \u001b[36m0:00:00\u001b[0m\n",
            "\u001b[?25hRequirement already satisfied: filelock in /usr/local/lib/python3.10/dist-packages (from torch>=1.7->timm) (3.12.2)\n",
            "Requirement already satisfied: typing-extensions in /usr/local/lib/python3.10/dist-packages (from torch>=1.7->timm) (4.7.1)\n",
            "Requirement already satisfied: sympy in /usr/local/lib/python3.10/dist-packages (from torch>=1.7->timm) (1.11.1)\n",
            "Requirement already satisfied: networkx in /usr/local/lib/python3.10/dist-packages (from torch>=1.7->timm) (3.1)\n",
            "Requirement already satisfied: jinja2 in /usr/local/lib/python3.10/dist-packages (from torch>=1.7->timm) (3.1.2)\n",
            "Requirement already satisfied: triton==2.0.0 in /usr/local/lib/python3.10/dist-packages (from torch>=1.7->timm) (2.0.0)\n",
            "Requirement already satisfied: cmake in /usr/local/lib/python3.10/dist-packages (from triton==2.0.0->torch>=1.7->timm) (3.25.2)\n",
            "Requirement already satisfied: lit in /usr/local/lib/python3.10/dist-packages (from triton==2.0.0->torch>=1.7->timm) (16.0.6)\n",
            "Requirement already satisfied: fsspec in /usr/local/lib/python3.10/dist-packages (from huggingface-hub->timm) (2023.6.0)\n",
            "Requirement already satisfied: requests in /usr/local/lib/python3.10/dist-packages (from huggingface-hub->timm) (2.27.1)\n",
            "Requirement already satisfied: tqdm>=4.42.1 in /usr/local/lib/python3.10/dist-packages (from huggingface-hub->timm) (4.65.0)\n",
            "Requirement already satisfied: packaging>=20.9 in /usr/local/lib/python3.10/dist-packages (from huggingface-hub->timm) (23.1)\n",
            "Requirement already satisfied: numpy in /usr/local/lib/python3.10/dist-packages (from torchvision->timm) (1.22.4)\n",
            "Requirement already satisfied: pillow!=8.3.*,>=5.3.0 in /usr/local/lib/python3.10/dist-packages (from torchvision->timm) (9.4.0)\n",
            "Requirement already satisfied: MarkupSafe>=2.0 in /usr/local/lib/python3.10/dist-packages (from jinja2->torch>=1.7->timm) (2.1.3)\n",
            "Requirement already satisfied: urllib3<1.27,>=1.21.1 in /usr/local/lib/python3.10/dist-packages (from requests->huggingface-hub->timm) (1.26.16)\n",
            "Requirement already satisfied: certifi>=2017.4.17 in /usr/local/lib/python3.10/dist-packages (from requests->huggingface-hub->timm) (2023.7.22)\n",
            "Requirement already satisfied: charset-normalizer~=2.0.0 in /usr/local/lib/python3.10/dist-packages (from requests->huggingface-hub->timm) (2.0.12)\n",
            "Requirement already satisfied: idna<4,>=2.5 in /usr/local/lib/python3.10/dist-packages (from requests->huggingface-hub->timm) (3.4)\n",
            "Requirement already satisfied: mpmath>=0.19 in /usr/local/lib/python3.10/dist-packages (from sympy->torch>=1.7->timm) (1.3.0)\n",
            "Installing collected packages: safetensors, huggingface-hub, timm\n",
            "Successfully installed huggingface-hub-0.16.4 safetensors-0.3.1 timm-0.9.2\n"
          ]
        }
      ]
    },
    {
      "cell_type": "markdown",
      "source": [
        "### シード値の設定"
      ],
      "metadata": {
        "id": "_8vKbM9TzkCb"
      }
    },
    {
      "cell_type": "code",
      "source": [
        "# シード値を設定\n",
        "def fix_seed(seed=1234):\n",
        "    random.seed(seed)\n",
        "    np.random.seed(seed)\n",
        "    torch.manual_seed(seed)\n",
        "    torch.cuda.manual_seed(seed)\n",
        "\n",
        "fix_seed(seed=1234)"
      ],
      "metadata": {
        "id": "pGX4Zk1LbtPr"
      },
      "execution_count": 3,
      "outputs": []
    },
    {
      "cell_type": "markdown",
      "source": [
        "### データセットの準備"
      ],
      "metadata": {
        "id": "9aOdldqfyoSt"
      }
    },
    {
      "cell_type": "code",
      "source": [
        "# 平均値と標準偏差を計算するためのCIFAR10データセットの前処理を定義\n",
        "pre_transform_cifar10 = transforms.Compose([\n",
        "    transforms.ToTensor()\n",
        "])\n",
        "\n",
        "# 平均値と標準偏差を計算するためのCIFAR10データセットの読み込み\n",
        "pre_train_dataset_cifar10 = datasets.CIFAR10(root='/content/data/', download=True, transform=pre_transform_cifar10)\n",
        "\n",
        "# 平均値と標準偏差を計算するための変数を初期化\n",
        "pre_mean_cifar10 = 0.0\n",
        "pre_std_cifar10 = 0.0\n",
        "pre_total_samples_cifar10 = len(pre_train_dataset_cifar10)\n",
        "\n",
        "# データセットのすべてのデータポイントに対して平均値と標準偏差を計算\n",
        "for data in pre_train_dataset_cifar10:\n",
        "    pre_image, _ = data\n",
        "    pre_mean_cifar10 += pre_image.mean(dim=(1, 2))  # テンソルのチャンネルごとに平均を計算\n",
        "    pre_std_cifar10 += pre_image.std(dim=(1, 2))    # テンソルのチャンネルごとに標準偏差を計算\n",
        "\n",
        "# データセット全体の平均値と標準偏差を計算\n",
        "pre_mean_cifar10 /= pre_total_samples_cifar10\n",
        "pre_std_cifar10 /= pre_total_samples_cifar10\n",
        "\n",
        "print(\"データセット全体の平均値: \", pre_mean_cifar10)\n",
        "print(\"データセット全体の標準偏差: \", pre_std_cifar10)"
      ],
      "metadata": {
        "id": "RLSipTJ0bu1w",
        "colab": {
          "base_uri": "https://localhost:8080/"
        },
        "outputId": "efa74374-1ef4-4bdb-a67e-c9518b619c6e"
      },
      "execution_count": 4,
      "outputs": [
        {
          "output_type": "stream",
          "name": "stdout",
          "text": [
            "Downloading https://www.cs.toronto.edu/~kriz/cifar-10-python.tar.gz to /content/data/cifar-10-python.tar.gz\n"
          ]
        },
        {
          "output_type": "stream",
          "name": "stderr",
          "text": [
            "100%|██████████| 170498071/170498071 [00:05<00:00, 29461755.44it/s]\n"
          ]
        },
        {
          "output_type": "stream",
          "name": "stdout",
          "text": [
            "Extracting /content/data/cifar-10-python.tar.gz to /content/data/\n",
            "データセット全体の平均値:  tensor([0.4914, 0.4822, 0.4465])\n",
            "データセット全体の標準偏差:  tensor([0.2023, 0.1994, 0.2010])\n"
          ]
        }
      ]
    },
    {
      "cell_type": "code",
      "source": [
        "# 学習用のCIFAR10データセットの前処理を定義\n",
        "train_transform_cifar10 = transforms.Compose([\n",
        "    transforms.RandomCrop(32, padding=4),\n",
        "    transforms.RandomHorizontalFlip(),\n",
        "    transforms.ToTensor(),\n",
        "    transforms.Normalize(mean=pre_mean_cifar10, std=pre_std_cifar10)\n",
        "    ])\n",
        "# テスト用のCIFAR10データセットの前処理を定義\n",
        "test_transform_cifar10 = transforms.Compose([\n",
        "    transforms.ToTensor(),\n",
        "    transforms.Normalize(mean=pre_mean_cifar10, std=pre_std_cifar10)\n",
        "    ])\n",
        "\n",
        "# 学習用のCIFAR10データセットの読み込み\n",
        "train_dataset_cifar10 = torchvision.datasets.CIFAR10(root='/content/data/', train=True, transform=train_transform_cifar10, download=True)\n",
        "# テスト用のCIFAR10データセットの読み込み\n",
        "test_dataset_cifar10 = torchvision.datasets.CIFAR10(root='/content/data/', train=False, transform=test_transform_cifar10, download=True)\n",
        "\n",
        "# 学習用のCIFAR10データローダーを作成\n",
        "train_loader_cifar10 = torch.utils.data.DataLoader(dataset=train_dataset_cifar10, batch_size=512, shuffle=True, num_workers=2)\n",
        "# テスト用のCIFAR10データローダーを作成\n",
        "test_loader_cifar10 = torch.utils.data.DataLoader(dataset=test_dataset_cifar10, batch_size=512, shuffle=False, num_workers=2)"
      ],
      "metadata": {
        "id": "ah3PRB7vb1UG",
        "colab": {
          "base_uri": "https://localhost:8080/"
        },
        "outputId": "4fb74960-bc28-4b3c-b592-5a6238e702f4"
      },
      "execution_count": 5,
      "outputs": [
        {
          "output_type": "stream",
          "name": "stdout",
          "text": [
            "Files already downloaded and verified\n",
            "Files already downloaded and verified\n"
          ]
        }
      ]
    },
    {
      "cell_type": "markdown",
      "source": [
        "### モデルの実装"
      ],
      "metadata": {
        "id": "upaYuBYxytGA"
      }
    },
    {
      "cell_type": "code",
      "source": [
        "# 1×1の畳み込みを定義\n",
        "def conv1x1(in_channels, out_channels, stride=1):\n",
        "    return nn.Conv2d(in_channels, out_channels, kernel_size=1, stride=stride, bias=False)\n",
        "\n",
        "# 3×3の畳み込みを定義\n",
        "def conv3x3(in_channels, out_channels, stride=1):\n",
        "    return nn.Conv2d(in_channels, out_channels, kernel_size=3, stride=stride, padding=1, bias=False)"
      ],
      "metadata": {
        "id": "uvwDV2h3b54A"
      },
      "execution_count": 6,
      "outputs": []
    },
    {
      "cell_type": "code",
      "source": [
        "# Residual Blocksを定義\n",
        "class BasicBlock(nn.Module):\n",
        "    # 入力チャンネル数に対する出力チャンネル数の倍率\n",
        "    expansion = 1\n",
        "\n",
        "    def __init__(self, in_channels, channels, stride=1):\n",
        "        super().__init__()\n",
        "        self.conv1 = conv3x3(in_channels, channels, stride)\n",
        "        self.bn1 = nn.BatchNorm2d(channels)\n",
        "        self.relu = nn.ReLU(inplace=True)\n",
        "        self.conv2 = conv3x3(channels, channels)\n",
        "        self.bn2 = nn.BatchNorm2d(channels)\n",
        "        # 入力と出力のチャンネル数が異なる場合（strideが1より大きい場合）、ダウンサンプリング\n",
        "        if in_channels != channels * self.expansion or stride > 1:\n",
        "            self.shortcut = nn.Sequential(\n",
        "                conv1x1(in_channels, channels * self.expansion, stride),\n",
        "                nn.BatchNorm2d(channels * self.expansion)\n",
        "            )\n",
        "        else:\n",
        "            self.shortcut = nn.Sequential()\n",
        "\n",
        "    def forward(self, x):\n",
        "        out = self.conv1(x)\n",
        "        out = self.bn1(out)\n",
        "        out = self.relu(out)\n",
        "        out = self.conv2(out)\n",
        "        out = self.bn2(out)\n",
        "        # 残差写像と恒等写像の和を計算\n",
        "        out += self.shortcut(x)\n",
        "        out = self.relu(out)\n",
        "        return out"
      ],
      "metadata": {
        "id": "8w0nTlLRb7iR"
      },
      "execution_count": 7,
      "outputs": []
    },
    {
      "cell_type": "code",
      "source": [
        "class ResNet(nn.Module):\n",
        "    def __init__(self, block, layers, num_classes=10):\n",
        "        super().__init__()\n",
        "        self.in_channels = 64\n",
        "        self.conv1 = nn.Conv2d(3, self.in_channels, kernel_size=7, stride=2, padding=3, bias=False)\n",
        "        self.bn1 = nn.BatchNorm2d(self.in_channels)\n",
        "        self.relu = nn.ReLU(inplace=True)\n",
        "        self.maxpool = nn.MaxPool2d(kernel_size=3, stride=2, padding=1)\n",
        "        # Residual Blocks(in_channels=64)\n",
        "        self.layer1 = self._make_layer(block, 64, layers[0], stride=1)\n",
        "        # Residual Blocks(in_channels=128)\n",
        "        self.layer2 = self._make_layer(block, 128, layers[1], stride=2)\n",
        "        # Residual Blocks(in_channels=256)\n",
        "        self.layer3 = self._make_layer(block, 256, layers[2], stride=2)\n",
        "        # Residual Blocks(in_channels=512)\n",
        "        self.layer4 = self._make_layer(block, 512, layers[3], stride=2)\n",
        "        self.avgpool = nn.AdaptiveAvgPool2d((1, 1))\n",
        "        self.fc = nn.Linear(512 * block.expansion, num_classes)\n",
        "\n",
        "        for m in self.modules():\n",
        "            if isinstance(m, nn.Conv2d):\n",
        "                # Heの初期化（正規分布）\n",
        "                nn.init.kaiming_normal_(m.weight, mode='fan_out', nonlinearity='relu')\n",
        "            elif isinstance(m, (nn.BatchNorm2d, nn.GroupNorm)):\n",
        "                # 重みを1に初期化\n",
        "                nn.init.constant_(m.weight, 1)\n",
        "                # バイアスを0に初期化\n",
        "                nn.init.constant_(m.bias, 0)\n",
        "\n",
        "    # Residual Blocksを作成する関数を定義\n",
        "    def _make_layer(self, block, channels, blocks, stride):\n",
        "        layers = []\n",
        "        # 最初のResidual Block（stride=stride）\n",
        "        layers.append(block(self.in_channels, channels, stride))\n",
        "        # 残りのResidual Block（stride=1）\n",
        "        self.in_channels = channels * block.expansion\n",
        "        for _ in range(1, blocks):\n",
        "            layers.append(block(self.in_channels, channels))\n",
        "        return nn.Sequential(*layers)\n",
        "\n",
        "    def forward(self, x):\n",
        "        x = self.conv1(x)\n",
        "        x = self.bn1(x)\n",
        "        x = self.relu(x)\n",
        "        x = self.maxpool(x)\n",
        "        x = self.layer1(x)\n",
        "        x = self.layer2(x)\n",
        "        x = self.layer3(x)\n",
        "        x = self.layer4(x)\n",
        "        x = self.avgpool(x)\n",
        "        x = torch.flatten(x, 1)\n",
        "        x = self.fc(x)\n",
        "        return x"
      ],
      "metadata": {
        "id": "OD2RW7mDb_C0"
      },
      "execution_count": 8,
      "outputs": []
    },
    {
      "cell_type": "code",
      "source": [
        "# モデルを呼び出す関数を定義\n",
        "def resnet18_10():\n",
        "    return ResNet(BasicBlock, [2, 2, 2, 2], num_classes=10)"
      ],
      "metadata": {
        "id": "m3mdYxMccGCq"
      },
      "execution_count": 9,
      "outputs": []
    },
    {
      "cell_type": "code",
      "source": [
        "# パラメータ数を計算する関数を定義\n",
        "def num_params(model):\n",
        "    return sum(x.numel() for x in model.parameters() if x.requires_grad)\n",
        "# デバイスを設定\n",
        "device = torch.device('cuda' if torch.cuda.is_available() else 'cpu')\n",
        "# モデルを設定\n",
        "model = resnet18_10().to(device)\n",
        "# モデルのパラメータ数を確認\n",
        "print(\"ResNet18のパラメータ数: {}\".format(num_params(model)))"
      ],
      "metadata": {
        "id": "8nb6_vBy3t68",
        "colab": {
          "base_uri": "https://localhost:8080/"
        },
        "outputId": "6f19027d-282d-4807-d3a9-409196953fb3"
      },
      "execution_count": 10,
      "outputs": [
        {
          "output_type": "stream",
          "name": "stdout",
          "text": [
            "ResNet18のパラメータ数: 11181642\n"
          ]
        }
      ]
    },
    {
      "cell_type": "markdown",
      "source": [
        "### 学習と評価（10 epochs）"
      ],
      "metadata": {
        "id": "5efZAiJWHxk9"
      }
    },
    {
      "cell_type": "code",
      "source": [
        "# デバイスを設定\n",
        "device = torch.device('cuda' if torch.cuda.is_available() else 'cpu')\n",
        "# モデルを定義\n",
        "model = resnet18_10().to(device)\n",
        "\n",
        "# 学習率を設定\n",
        "learning_rate = 0.001\n",
        "# 全体のepoch数を設定\n",
        "num_epochs = 10\n",
        "# warm-upするepoch数を設定\n",
        "warmup_epochs = 1\n",
        "\n",
        "# 損失関数を定義\n",
        "criterion = nn.CrossEntropyLoss()\n",
        "# オプティマイザーを設定\n",
        "optimizer = optim.Adam(model.parameters(), lr=learning_rate)\n",
        "# スケジューラーを設定\n",
        "scheduler = CosineLRScheduler(optimizer, t_initial=num_epochs, lr_min=1e-4, warmup_t=warmup_epochs, warmup_lr_init=1e-4, warmup_prefix=True)\n",
        "\n",
        "# モデルの学習\n",
        "for epoch in range(num_epochs):\n",
        "    total = 0\n",
        "    correct = 0\n",
        "    for i, (images, labels) in enumerate(train_loader_cifar10):\n",
        "        images = images.to(device)\n",
        "        labels = labels.to(device)\n",
        "        # 順伝播\n",
        "        outputs = model(images)\n",
        "        loss = criterion(outputs, labels)\n",
        "        # 逆伝播\n",
        "        optimizer.zero_grad()\n",
        "        loss.backward()\n",
        "        optimizer.step()\n",
        "        _, predicted = torch.max(outputs.data, 1)\n",
        "        # 全データ数\n",
        "        total += labels.size(0)\n",
        "        # 正解数\n",
        "        correct += (predicted == labels).sum().item()\n",
        "    # 正解率精度を計算\n",
        "    train_acc = 100 * correct / total\n",
        "    # 正解率精度と損失を確認\n",
        "    print(\"Epoch [{}/{}], Train Accuracy: {} %, Loss: {:.4f}\".format(epoch+1, num_epochs, 100 * correct / total, loss.item()))\n",
        "    # 1エポック終了後にスケジューラーを更新\n",
        "    scheduler.step(epoch)\n",
        "    # 学習率の確認\n",
        "    print(\"Epoch [{}/{}], Learning Rate: {}\".format(epoch+1, num_epochs, optimizer.param_groups[0]['lr']))\n",
        "\n",
        "# モデルを保存\n",
        "torch.save(model, '/content/drive/MyDrive/ResNet18_CIFAR10_10epochs_CLRS_restest.pth')"
      ],
      "metadata": {
        "colab": {
          "base_uri": "https://localhost:8080/"
        },
        "outputId": "1f8ebb1b-13cd-476f-c13a-c7e4ec5076ef",
        "id": "y2FzI00lHxk-"
      },
      "execution_count": 11,
      "outputs": [
        {
          "output_type": "stream",
          "name": "stdout",
          "text": [
            "Epoch [1/10], Train Accuracy: 31.49 %, Loss: 1.6316\n",
            "Epoch [1/10], Learning Rate: 0.0001\n",
            "Epoch [2/10], Train Accuracy: 43.43 %, Loss: 1.4183\n",
            "Epoch [2/10], Learning Rate: 0.001\n",
            "Epoch [3/10], Train Accuracy: 47.814 %, Loss: 1.2730\n",
            "Epoch [3/10], Learning Rate: 0.0009779754323328191\n",
            "Epoch [4/10], Train Accuracy: 56.33 %, Loss: 1.1417\n",
            "Epoch [4/10], Learning Rate: 0.0009140576474687263\n",
            "Epoch [5/10], Train Accuracy: 61.782 %, Loss: 1.0779\n",
            "Epoch [5/10], Learning Rate: 0.000814503363531613\n",
            "Epoch [6/10], Train Accuracy: 65.054 %, Loss: 0.9370\n",
            "Epoch [6/10], Learning Rate: 0.0006890576474687264\n",
            "Epoch [7/10], Train Accuracy: 68.146 %, Loss: 0.9242\n",
            "Epoch [7/10], Learning Rate: 0.00055\n",
            "Epoch [8/10], Train Accuracy: 70.456 %, Loss: 0.8076\n",
            "Epoch [8/10], Learning Rate: 0.0004109423525312737\n",
            "Epoch [9/10], Train Accuracy: 72.688 %, Loss: 0.7201\n",
            "Epoch [9/10], Learning Rate: 0.00028549663646838715\n",
            "Epoch [10/10], Train Accuracy: 74.226 %, Loss: 0.7428\n",
            "Epoch [10/10], Learning Rate: 0.00018594235253127368\n"
          ]
        }
      ]
    },
    {
      "cell_type": "code",
      "source": [
        "# モデルの評価\n",
        "model.eval()\n",
        "with torch.no_grad():\n",
        "    total = 0\n",
        "    correct = 0\n",
        "    for images, labels in test_loader_cifar10:\n",
        "        images = images.to(device)\n",
        "        labels = labels.to(device)\n",
        "        outputs = model(images)\n",
        "        _, predicted = torch.max(outputs.data, 1)\n",
        "        total += labels.size(0)\n",
        "        correct += (predicted == labels).sum().item()\n",
        "    # 正解率精度の確認\n",
        "    print('Test Accuracy: {} %'.format(100 * correct / total))"
      ],
      "metadata": {
        "colab": {
          "base_uri": "https://localhost:8080/"
        },
        "outputId": "ef6567a2-12d3-4944-d3d6-2b92a873250c",
        "id": "1gUd5eimHxk-"
      },
      "execution_count": 12,
      "outputs": [
        {
          "output_type": "stream",
          "name": "stdout",
          "text": [
            "Test Accuracy: 74.58 %\n"
          ]
        }
      ]
    },
    {
      "cell_type": "code",
      "source": [
        "# GPUメモリの解放\n",
        "del model\n",
        "torch.cuda.empty_cache()"
      ],
      "metadata": {
        "id": "ihmPqnFzHxk-"
      },
      "execution_count": 13,
      "outputs": []
    },
    {
      "cell_type": "markdown",
      "source": [
        "### 学習と評価（25 epochs）"
      ],
      "metadata": {
        "id": "dMefNG-BHrf2"
      }
    },
    {
      "cell_type": "code",
      "source": [
        "# デバイスを設定\n",
        "device = torch.device('cuda' if torch.cuda.is_available() else 'cpu')\n",
        "# モデルを定義\n",
        "model = resnet18_10().to(device)\n",
        "\n",
        "# 学習率を設定\n",
        "learning_rate = 0.001\n",
        "# 全体のepoch数を設定\n",
        "num_epochs = 25\n",
        "# warm-upするepoch数を設定\n",
        "warmup_epochs = 3\n",
        "\n",
        "# 損失関数を定義\n",
        "criterion = nn.CrossEntropyLoss()\n",
        "# オプティマイザーを設定\n",
        "optimizer = optim.Adam(model.parameters(), lr=learning_rate)\n",
        "# スケジューラーを設定\n",
        "scheduler = CosineLRScheduler(optimizer, t_initial=num_epochs, lr_min=1e-4, warmup_t=warmup_epochs, warmup_lr_init=1e-4, warmup_prefix=True)\n",
        "\n",
        "# モデルの学習\n",
        "for epoch in range(num_epochs):\n",
        "    total = 0\n",
        "    correct = 0\n",
        "    for i, (images, labels) in enumerate(train_loader_cifar10):\n",
        "        images = images.to(device)\n",
        "        labels = labels.to(device)\n",
        "        # 順伝播\n",
        "        outputs = model(images)\n",
        "        loss = criterion(outputs, labels)\n",
        "        # 逆伝播\n",
        "        optimizer.zero_grad()\n",
        "        loss.backward()\n",
        "        optimizer.step()\n",
        "        _, predicted = torch.max(outputs.data, 1)\n",
        "        # 全データ数\n",
        "        total += labels.size(0)\n",
        "        # 正解数\n",
        "        correct += (predicted == labels).sum().item()\n",
        "    # 正解率精度を計算\n",
        "    train_acc = 100 * correct / total\n",
        "    # 正解率精度と損失を確認\n",
        "    print(\"Epoch [{}/{}], Train Accuracy: {} %, Loss: {:.4f}\".format(epoch+1, num_epochs, 100 * correct / total, loss.item()))\n",
        "    # 1エポック終了後にスケジューラーを更新\n",
        "    scheduler.step(epoch)\n",
        "    # 学習率の確認\n",
        "    print(\"Epoch [{}/{}], Learning Rate: {}\".format(epoch+1, num_epochs, optimizer.param_groups[0]['lr']))\n",
        "\n",
        "# モデルを保存\n",
        "torch.save(model, '/content/drive/MyDrive/ResNet18_CIFAR10_25epochs_CLRS_restest.pth')"
      ],
      "metadata": {
        "colab": {
          "base_uri": "https://localhost:8080/"
        },
        "outputId": "9c662236-4a3a-4495-eaf2-462e9cee04fc",
        "id": "gWOOy0b5HrgD"
      },
      "execution_count": 14,
      "outputs": [
        {
          "output_type": "stream",
          "name": "stdout",
          "text": [
            "Epoch [1/25], Train Accuracy: 31.854 %, Loss: 1.6775\n",
            "Epoch [1/25], Learning Rate: 0.0001\n",
            "Epoch [2/25], Train Accuracy: 42.644 %, Loss: 1.4393\n",
            "Epoch [2/25], Learning Rate: 0.00039999999999999996\n",
            "Epoch [3/25], Train Accuracy: 47.16 %, Loss: 1.3104\n",
            "Epoch [3/25], Learning Rate: 0.0007\n",
            "Epoch [4/25], Train Accuracy: 53.488 %, Loss: 1.1144\n",
            "Epoch [4/25], Learning Rate: 0.001\n",
            "Epoch [5/25], Train Accuracy: 58.852 %, Loss: 0.9739\n",
            "Epoch [5/25], Learning Rate: 0.000996451615591515\n",
            "Epoch [6/25], Train Accuracy: 63.422 %, Loss: 0.9849\n",
            "Epoch [6/25], Learning Rate: 0.000985862422507884\n",
            "Epoch [7/25], Train Accuracy: 66.582 %, Loss: 0.9279\n",
            "Epoch [7/25], Learning Rate: 0.0009683994186497131\n",
            "Epoch [8/25], Train Accuracy: 69.154 %, Loss: 0.9404\n",
            "Epoch [8/25], Learning Rate: 0.0009443380060197386\n",
            "Epoch [9/25], Train Accuracy: 70.876 %, Loss: 0.8355\n",
            "Epoch [9/25], Learning Rate: 0.0009140576474687263\n",
            "Epoch [10/25], Train Accuracy: 72.714 %, Loss: 0.8471\n",
            "Epoch [10/25], Learning Rate: 0.0008780358823396353\n",
            "Epoch [11/25], Train Accuracy: 74.202 %, Loss: 0.7061\n",
            "Epoch [11/25], Learning Rate: 0.0008368407953869105\n",
            "Epoch [12/25], Train Accuracy: 75.27 %, Loss: 0.6600\n",
            "Epoch [12/25], Learning Rate: 0.0007911220577405485\n",
            "Epoch [13/25], Train Accuracy: 76.454 %, Loss: 0.6347\n",
            "Epoch [13/25], Learning Rate: 0.0007416006812042827\n",
            "Epoch [14/25], Train Accuracy: 77.554 %, Loss: 0.6074\n",
            "Epoch [14/25], Learning Rate: 0.0006890576474687264\n",
            "Epoch [15/25], Train Accuracy: 78.782 %, Loss: 0.5963\n",
            "Epoch [15/25], Learning Rate: 0.0006343215915635762\n",
            "Epoch [16/25], Train Accuracy: 79.46 %, Loss: 0.4820\n",
            "Epoch [16/25], Learning Rate: 0.0005782557337881911\n",
            "Epoch [17/25], Train Accuracy: 80.614 %, Loss: 0.5338\n",
            "Epoch [17/25], Learning Rate: 0.000521744266211809\n",
            "Epoch [18/25], Train Accuracy: 81.296 %, Loss: 0.5218\n",
            "Epoch [18/25], Learning Rate: 0.0004656784084364239\n",
            "Epoch [19/25], Train Accuracy: 82.146 %, Loss: 0.5208\n",
            "Epoch [19/25], Learning Rate: 0.0004109423525312738\n",
            "Epoch [20/25], Train Accuracy: 82.878 %, Loss: 0.4638\n",
            "Epoch [20/25], Learning Rate: 0.0003583993187957173\n",
            "Epoch [21/25], Train Accuracy: 84.138 %, Loss: 0.4633\n",
            "Epoch [21/25], Learning Rate: 0.0003088779422594514\n",
            "Epoch [22/25], Train Accuracy: 84.378 %, Loss: 0.3937\n",
            "Epoch [22/25], Learning Rate: 0.0002631592046130896\n",
            "Epoch [23/25], Train Accuracy: 85.558 %, Loss: 0.3832\n",
            "Epoch [23/25], Learning Rate: 0.0002219641176603649\n",
            "Epoch [24/25], Train Accuracy: 86.298 %, Loss: 0.4097\n",
            "Epoch [24/25], Learning Rate: 0.00018594235253127368\n",
            "Epoch [25/25], Train Accuracy: 86.846 %, Loss: 0.4024\n",
            "Epoch [25/25], Learning Rate: 0.0001556619939802614\n"
          ]
        }
      ]
    },
    {
      "cell_type": "code",
      "source": [
        "# モデルの評価\n",
        "model.eval()\n",
        "with torch.no_grad():\n",
        "    total = 0\n",
        "    correct = 0\n",
        "    for images, labels in test_loader_cifar10:\n",
        "        images = images.to(device)\n",
        "        labels = labels.to(device)\n",
        "        outputs = model(images)\n",
        "        _, predicted = torch.max(outputs.data, 1)\n",
        "        total += labels.size(0)\n",
        "        correct += (predicted == labels).sum().item()\n",
        "    # 正解率精度の確認\n",
        "    print('Test Accuracy: {} %'.format(100 * correct / total))"
      ],
      "metadata": {
        "colab": {
          "base_uri": "https://localhost:8080/"
        },
        "outputId": "e302db17-2384-499e-c8d5-97ee7ccddbf2",
        "id": "uvPWjLoHHrgI"
      },
      "execution_count": 15,
      "outputs": [
        {
          "output_type": "stream",
          "name": "stdout",
          "text": [
            "Test Accuracy: 80.8 %\n"
          ]
        }
      ]
    },
    {
      "cell_type": "code",
      "source": [
        "# GPUメモリの解放\n",
        "del model\n",
        "torch.cuda.empty_cache()"
      ],
      "metadata": {
        "id": "daRvqlyVHrgI"
      },
      "execution_count": 16,
      "outputs": []
    },
    {
      "cell_type": "markdown",
      "source": [
        "### 学習と評価（50 epochs）"
      ],
      "metadata": {
        "id": "X6RrdlPd5Zky"
      }
    },
    {
      "cell_type": "code",
      "source": [
        "# デバイスを設定\n",
        "device = torch.device('cuda' if torch.cuda.is_available() else 'cpu')\n",
        "# モデルを定義\n",
        "model = resnet18_10().to(device)\n",
        "\n",
        "# 学習率を設定\n",
        "learning_rate = 0.001\n",
        "# 全体のepoch数を設定\n",
        "num_epochs = 50\n",
        "# warm-upするepoch数を設定\n",
        "warmup_epochs = 5\n",
        "\n",
        "# 損失関数を定義\n",
        "criterion = nn.CrossEntropyLoss()\n",
        "# オプティマイザーを設定\n",
        "optimizer = optim.Adam(model.parameters(), lr=learning_rate)\n",
        "# スケジューラーを設定\n",
        "scheduler = CosineLRScheduler(optimizer, t_initial=num_epochs, lr_min=1e-4, warmup_t=warmup_epochs, warmup_lr_init=1e-4, warmup_prefix=True)\n",
        "\n",
        "# モデルの学習\n",
        "for epoch in range(num_epochs):\n",
        "    total = 0\n",
        "    correct = 0\n",
        "    for i, (images, labels) in enumerate(train_loader_cifar10):\n",
        "        images = images.to(device)\n",
        "        labels = labels.to(device)\n",
        "        # 順伝播\n",
        "        outputs = model(images)\n",
        "        loss = criterion(outputs, labels)\n",
        "        # 逆伝播\n",
        "        optimizer.zero_grad()\n",
        "        loss.backward()\n",
        "        optimizer.step()\n",
        "        _, predicted = torch.max(outputs.data, 1)\n",
        "        # 全データ数\n",
        "        total += labels.size(0)\n",
        "        # 正解数\n",
        "        correct += (predicted == labels).sum().item()\n",
        "    # 正解率精度を計算\n",
        "    train_acc = 100 * correct / total\n",
        "    # 正解率精度と損失を確認\n",
        "    print(\"Epoch [{}/{}], Train Accuracy: {} %, Loss: {:.4f}\".format(epoch+1, num_epochs, 100 * correct / total, loss.item()))\n",
        "    # 1エポック終了後にスケジューラーを更新\n",
        "    scheduler.step(epoch)\n",
        "    # 学習率の確認\n",
        "    print(\"Epoch [{}/{}], Learning Rate: {}\".format(epoch+1, num_epochs, optimizer.param_groups[0]['lr']))\n",
        "\n",
        "# モデルを保存\n",
        "torch.save(model, '/content/drive/MyDrive/ResNet18_CIFAR10_50epochs_CLRS_restest.pth')"
      ],
      "metadata": {
        "id": "vELsvQdc5Zk-",
        "colab": {
          "base_uri": "https://localhost:8080/"
        },
        "outputId": "2d7c7a6c-3730-4c12-a0ab-f7c32643a3f5"
      },
      "execution_count": 14,
      "outputs": [
        {
          "output_type": "stream",
          "name": "stdout",
          "text": [
            "Epoch [1/50], Train Accuracy: 32.032 %, Loss: 1.6488\n",
            "Epoch [1/50], Learning Rate: 0.0001\n",
            "Epoch [2/50], Train Accuracy: 43.176 %, Loss: 1.5201\n",
            "Epoch [2/50], Learning Rate: 0.00028\n",
            "Epoch [3/50], Train Accuracy: 48.698 %, Loss: 1.4118\n",
            "Epoch [3/50], Learning Rate: 0.00045999999999999996\n",
            "Epoch [4/50], Train Accuracy: 53.504 %, Loss: 1.2398\n",
            "Epoch [4/50], Learning Rate: 0.0006399999999999999\n",
            "Epoch [5/50], Train Accuracy: 57.492 %, Loss: 1.1531\n",
            "Epoch [5/50], Learning Rate: 0.00082\n",
            "Epoch [6/50], Train Accuracy: 61.132 %, Loss: 0.8977\n",
            "Epoch [6/50], Learning Rate: 0.001\n",
            "Epoch [7/50], Train Accuracy: 64.172 %, Loss: 1.0784\n",
            "Epoch [7/50], Learning Rate: 0.0009991120277927223\n",
            "Epoch [8/50], Train Accuracy: 67.058 %, Loss: 0.8826\n",
            "Epoch [8/50], Learning Rate: 0.000996451615591515\n",
            "Epoch [9/50], Train Accuracy: 69.424 %, Loss: 0.8289\n",
            "Epoch [9/50], Learning Rate: 0.00099202926282791\n",
            "Epoch [10/50], Train Accuracy: 71.176 %, Loss: 0.8500\n",
            "Epoch [10/50], Learning Rate: 0.000985862422507884\n",
            "Epoch [11/50], Train Accuracy: 72.892 %, Loss: 0.7570\n",
            "Epoch [11/50], Learning Rate: 0.0009779754323328191\n",
            "Epoch [12/50], Train Accuracy: 73.974 %, Loss: 0.8264\n",
            "Epoch [12/50], Learning Rate: 0.0009683994186497131\n",
            "Epoch [13/50], Train Accuracy: 74.9 %, Loss: 0.6577\n",
            "Epoch [13/50], Learning Rate: 0.0009571721736097088\n",
            "Epoch [14/50], Train Accuracy: 76.466 %, Loss: 0.6668\n",
            "Epoch [14/50], Learning Rate: 0.0009443380060197386\n",
            "Epoch [15/50], Train Accuracy: 77.192 %, Loss: 0.5814\n",
            "Epoch [15/50], Learning Rate: 0.0009299475664759069\n",
            "Epoch [16/50], Train Accuracy: 78.12 %, Loss: 0.5309\n",
            "Epoch [16/50], Learning Rate: 0.0009140576474687263\n",
            "Epoch [17/50], Train Accuracy: 78.96 %, Loss: 0.5642\n",
            "Epoch [17/50], Learning Rate: 0.0008967309592491052\n",
            "Epoch [18/50], Train Accuracy: 79.49 %, Loss: 0.6106\n",
            "Epoch [18/50], Learning Rate: 0.0008780358823396353\n",
            "Epoch [19/50], Train Accuracy: 80.65 %, Loss: 0.6131\n",
            "Epoch [19/50], Learning Rate: 0.0008580461976679099\n",
            "Epoch [20/50], Train Accuracy: 80.994 %, Loss: 0.5803\n",
            "Epoch [20/50], Learning Rate: 0.0008368407953869105\n",
            "Epoch [21/50], Train Accuracy: 81.656 %, Loss: 0.5098\n",
            "Epoch [21/50], Learning Rate: 0.0008145033635316131\n",
            "Epoch [22/50], Train Accuracy: 82.348 %, Loss: 0.4995\n",
            "Epoch [22/50], Learning Rate: 0.0007911220577405485\n",
            "Epoch [23/50], Train Accuracy: 82.836 %, Loss: 0.4377\n",
            "Epoch [23/50], Learning Rate: 0.0007667891533457719\n",
            "Epoch [24/50], Train Accuracy: 83.378 %, Loss: 0.4303\n",
            "Epoch [24/50], Learning Rate: 0.0007416006812042827\n",
            "Epoch [25/50], Train Accuracy: 83.952 %, Loss: 0.4990\n",
            "Epoch [25/50], Learning Rate: 0.0007156560487081052\n",
            "Epoch [26/50], Train Accuracy: 84.536 %, Loss: 0.4643\n",
            "Epoch [26/50], Learning Rate: 0.0006890576474687264\n",
            "Epoch [27/50], Train Accuracy: 85.152 %, Loss: 0.3730\n",
            "Epoch [27/50], Learning Rate: 0.0006619104492241846\n",
            "Epoch [28/50], Train Accuracy: 85.686 %, Loss: 0.4444\n",
            "Epoch [28/50], Learning Rate: 0.0006343215915635762\n",
            "Epoch [29/50], Train Accuracy: 86.164 %, Loss: 0.4078\n",
            "Epoch [29/50], Learning Rate: 0.000606399955103937\n",
            "Epoch [30/50], Train Accuracy: 86.728 %, Loss: 0.3438\n",
            "Epoch [30/50], Learning Rate: 0.0005782557337881911\n",
            "Epoch [31/50], Train Accuracy: 87.248 %, Loss: 0.3356\n",
            "Epoch [31/50], Learning Rate: 0.00055\n",
            "Epoch [32/50], Train Accuracy: 87.826 %, Loss: 0.2891\n",
            "Epoch [32/50], Learning Rate: 0.000521744266211809\n",
            "Epoch [33/50], Train Accuracy: 88.196 %, Loss: 0.3407\n",
            "Epoch [33/50], Learning Rate: 0.0004936000448960632\n",
            "Epoch [34/50], Train Accuracy: 88.688 %, Loss: 0.3455\n",
            "Epoch [34/50], Learning Rate: 0.0004656784084364239\n",
            "Epoch [35/50], Train Accuracy: 89.228 %, Loss: 0.3272\n",
            "Epoch [35/50], Learning Rate: 0.0004380895507758153\n",
            "Epoch [36/50], Train Accuracy: 89.68 %, Loss: 0.3313\n",
            "Epoch [36/50], Learning Rate: 0.0004109423525312738\n",
            "Epoch [37/50], Train Accuracy: 90.176 %, Loss: 0.3267\n",
            "Epoch [37/50], Learning Rate: 0.000384343951291895\n",
            "Epoch [38/50], Train Accuracy: 90.74 %, Loss: 0.2541\n",
            "Epoch [38/50], Learning Rate: 0.0003583993187957173\n",
            "Epoch [39/50], Train Accuracy: 91.042 %, Loss: 0.2794\n",
            "Epoch [39/50], Learning Rate: 0.0003332108466542281\n",
            "Epoch [40/50], Train Accuracy: 91.688 %, Loss: 0.1999\n",
            "Epoch [40/50], Learning Rate: 0.0003088779422594514\n",
            "Epoch [41/50], Train Accuracy: 91.982 %, Loss: 0.2141\n",
            "Epoch [41/50], Learning Rate: 0.00028549663646838715\n",
            "Epoch [42/50], Train Accuracy: 92.504 %, Loss: 0.2826\n",
            "Epoch [42/50], Learning Rate: 0.0002631592046130896\n",
            "Epoch [43/50], Train Accuracy: 93.098 %, Loss: 0.1986\n",
            "Epoch [43/50], Learning Rate: 0.00024195380233209008\n",
            "Epoch [44/50], Train Accuracy: 93.386 %, Loss: 0.2216\n",
            "Epoch [44/50], Learning Rate: 0.0002219641176603649\n",
            "Epoch [45/50], Train Accuracy: 93.656 %, Loss: 0.1492\n",
            "Epoch [45/50], Learning Rate: 0.00020326904075089488\n",
            "Epoch [46/50], Train Accuracy: 94.096 %, Loss: 0.1450\n",
            "Epoch [46/50], Learning Rate: 0.00018594235253127368\n",
            "Epoch [47/50], Train Accuracy: 94.492 %, Loss: 0.1894\n",
            "Epoch [47/50], Learning Rate: 0.00017005243352409332\n",
            "Epoch [48/50], Train Accuracy: 94.758 %, Loss: 0.1395\n",
            "Epoch [48/50], Learning Rate: 0.0001556619939802614\n",
            "Epoch [49/50], Train Accuracy: 95.086 %, Loss: 0.1216\n",
            "Epoch [49/50], Learning Rate: 0.0001428278263902913\n",
            "Epoch [50/50], Train Accuracy: 95.466 %, Loss: 0.1740\n",
            "Epoch [50/50], Learning Rate: 0.0001316005813502869\n"
          ]
        }
      ]
    },
    {
      "cell_type": "code",
      "source": [
        "# モデルの評価\n",
        "model.eval()\n",
        "with torch.no_grad():\n",
        "    total = 0\n",
        "    correct = 0\n",
        "    for images, labels in test_loader_cifar10:\n",
        "        images = images.to(device)\n",
        "        labels = labels.to(device)\n",
        "        outputs = model(images)\n",
        "        _, predicted = torch.max(outputs.data, 1)\n",
        "        total += labels.size(0)\n",
        "        correct += (predicted == labels).sum().item()\n",
        "    # 正解率精度の確認\n",
        "    print('Test Accuracy: {} %'.format(100 * correct / total))"
      ],
      "metadata": {
        "id": "RtGaIvN55Zk_",
        "colab": {
          "base_uri": "https://localhost:8080/"
        },
        "outputId": "2e1eb177-1be2-42bc-905d-f21f01608434"
      },
      "execution_count": 15,
      "outputs": [
        {
          "output_type": "stream",
          "name": "stdout",
          "text": [
            "Test Accuracy: 83.18 %\n"
          ]
        }
      ]
    },
    {
      "cell_type": "code",
      "source": [
        "# GPUメモリの解放\n",
        "del model\n",
        "torch.cuda.empty_cache()"
      ],
      "metadata": {
        "id": "kE02RIkS5Zk_"
      },
      "execution_count": 16,
      "outputs": []
    },
    {
      "cell_type": "markdown",
      "source": [
        "### 学習と評価（75 epochs）"
      ],
      "metadata": {
        "id": "3kY34phEF5FI"
      }
    },
    {
      "cell_type": "code",
      "source": [
        "# デバイスを設定\n",
        "device = torch.device('cuda' if torch.cuda.is_available() else 'cpu')\n",
        "# モデルを定義\n",
        "model = resnet18_10().to(device)\n",
        "\n",
        "# 学習率を設定\n",
        "learning_rate = 0.001\n",
        "# 全体のepoch数を設定\n",
        "num_epochs = 75\n",
        "# warm-upするepoch数を設定\n",
        "warmup_epochs = 8\n",
        "\n",
        "# 損失関数を定義\n",
        "criterion = nn.CrossEntropyLoss()\n",
        "# オプティマイザーを設定\n",
        "optimizer = optim.Adam(model.parameters(), lr=learning_rate)\n",
        "# スケジューラーを設定\n",
        "scheduler = CosineLRScheduler(optimizer, t_initial=num_epochs, lr_min=1e-4, warmup_t=warmup_epochs, warmup_lr_init=1e-4, warmup_prefix=True)\n",
        "\n",
        "# モデルの学習\n",
        "for epoch in range(num_epochs):\n",
        "    total = 0\n",
        "    correct = 0\n",
        "    for i, (images, labels) in enumerate(train_loader_cifar10):\n",
        "        images = images.to(device)\n",
        "        labels = labels.to(device)\n",
        "        # 順伝播\n",
        "        outputs = model(images)\n",
        "        loss = criterion(outputs, labels)\n",
        "        # 逆伝播\n",
        "        optimizer.zero_grad()\n",
        "        loss.backward()\n",
        "        optimizer.step()\n",
        "        _, predicted = torch.max(outputs.data, 1)\n",
        "        # 全データ数\n",
        "        total += labels.size(0)\n",
        "        # 正解数\n",
        "        correct += (predicted == labels).sum().item()\n",
        "    # 正解率精度を計算\n",
        "    train_acc = 100 * correct / total\n",
        "    # 正解率精度と損失を確認\n",
        "    print(\"Epoch [{}/{}], Train Accuracy: {} %, Loss: {:.4f}\".format(epoch+1, num_epochs, 100 * correct / total, loss.item()))\n",
        "    # 1エポック終了後にスケジューラーを更新\n",
        "    scheduler.step(epoch)\n",
        "    # 学習率の確認\n",
        "    print(\"Epoch [{}/{}], Learning Rate: {}\".format(epoch+1, num_epochs, optimizer.param_groups[0]['lr']))\n",
        "\n",
        "# モデルを保存\n",
        "torch.save(model, '/content/drive/MyDrive/ResNet18_CIFAR10_75epochs_CLRS_restest.pth')"
      ],
      "metadata": {
        "colab": {
          "base_uri": "https://localhost:8080/"
        },
        "outputId": "54dfe582-56a0-4b02-85d1-4b257a8ebda6",
        "id": "e-oO1GJ9F5FJ"
      },
      "execution_count": 17,
      "outputs": [
        {
          "output_type": "stream",
          "name": "stdout",
          "text": [
            "Epoch [1/75], Train Accuracy: 31.954 %, Loss: 1.6603\n",
            "Epoch [1/75], Learning Rate: 0.0001\n",
            "Epoch [2/75], Train Accuracy: 43.244 %, Loss: 1.4889\n",
            "Epoch [2/75], Learning Rate: 0.00021250000000000002\n",
            "Epoch [3/75], Train Accuracy: 48.122 %, Loss: 1.2742\n",
            "Epoch [3/75], Learning Rate: 0.000325\n",
            "Epoch [4/75], Train Accuracy: 52.924 %, Loss: 1.1634\n",
            "Epoch [4/75], Learning Rate: 0.0004375\n",
            "Epoch [5/75], Train Accuracy: 56.95 %, Loss: 1.1654\n",
            "Epoch [5/75], Learning Rate: 0.00055\n",
            "Epoch [6/75], Train Accuracy: 60.198 %, Loss: 1.1163\n",
            "Epoch [6/75], Learning Rate: 0.0006625\n",
            "Epoch [7/75], Train Accuracy: 62.906 %, Loss: 0.9053\n",
            "Epoch [7/75], Learning Rate: 0.0007750000000000001\n",
            "Epoch [8/75], Train Accuracy: 65.746 %, Loss: 0.9467\n",
            "Epoch [8/75], Learning Rate: 0.0008875\n",
            "Epoch [9/75], Train Accuracy: 67.342 %, Loss: 0.9543\n",
            "Epoch [9/75], Learning Rate: 0.001\n",
            "Epoch [10/75], Train Accuracy: 69.108 %, Loss: 0.7244\n",
            "Epoch [10/75], Learning Rate: 0.0009996052735444863\n",
            "Epoch [11/75], Train Accuracy: 71.044 %, Loss: 0.7742\n",
            "Epoch [11/75], Learning Rate: 0.000998421786662277\n",
            "Epoch [12/75], Train Accuracy: 72.496 %, Loss: 0.7100\n",
            "Epoch [12/75], Learning Rate: 0.000996451615591515\n",
            "Epoch [13/75], Train Accuracy: 73.782 %, Loss: 0.7943\n",
            "Epoch [13/75], Learning Rate: 0.0009936982166817271\n",
            "Epoch [14/75], Train Accuracy: 75.188 %, Loss: 0.7376\n",
            "Epoch [14/75], Learning Rate: 0.0009901664203302125\n",
            "Epoch [15/75], Train Accuracy: 76.35 %, Loss: 0.6723\n",
            "Epoch [15/75], Learning Rate: 0.000985862422507884\n",
            "Epoch [16/75], Train Accuracy: 77.29 %, Loss: 0.6921\n",
            "Epoch [16/75], Learning Rate: 0.0009807937738894302\n",
            "Epoch [17/75], Train Accuracy: 78.214 %, Loss: 0.6455\n",
            "Epoch [17/75], Learning Rate: 0.0009749693666068666\n",
            "Epoch [18/75], Train Accuracy: 78.86 %, Loss: 0.5915\n",
            "Epoch [18/75], Learning Rate: 0.0009683994186497131\n",
            "Epoch [19/75], Train Accuracy: 79.242 %, Loss: 0.5970\n",
            "Epoch [19/75], Learning Rate: 0.0009610954559391703\n",
            "Epoch [20/75], Train Accuracy: 80.512 %, Loss: 0.6345\n",
            "Epoch [20/75], Learning Rate: 0.0009530702921077359\n",
            "Epoch [21/75], Train Accuracy: 80.528 %, Loss: 0.5470\n",
            "Epoch [21/75], Learning Rate: 0.0009443380060197386\n",
            "Epoch [22/75], Train Accuracy: 81.342 %, Loss: 0.4398\n",
            "Epoch [22/75], Learning Rate: 0.000934913917072228\n",
            "Epoch [23/75], Train Accuracy: 82.106 %, Loss: 0.4853\n",
            "Epoch [23/75], Learning Rate: 0.0009248145583195447\n",
            "Epoch [24/75], Train Accuracy: 82.318 %, Loss: 0.5240\n",
            "Epoch [24/75], Learning Rate: 0.0009140576474687263\n",
            "Epoch [25/75], Train Accuracy: 83.054 %, Loss: 0.4715\n",
            "Epoch [25/75], Learning Rate: 0.000902662055796628\n",
            "Epoch [26/75], Train Accuracy: 83.584 %, Loss: 0.5566\n",
            "Epoch [26/75], Learning Rate: 0.0008906477750432905\n",
            "Epoch [27/75], Train Accuracy: 84.01 %, Loss: 0.4130\n",
            "Epoch [27/75], Learning Rate: 0.0008780358823396353\n",
            "Epoch [28/75], Train Accuracy: 84.58 %, Loss: 0.4842\n",
            "Epoch [28/75], Learning Rate: 0.0008648485032310146\n",
            "Epoch [29/75], Train Accuracy: 85.158 %, Loss: 0.4475\n",
            "Epoch [29/75], Learning Rate: 0.0008511087728614862\n",
            "Epoch [30/75], Train Accuracy: 85.362 %, Loss: 0.4004\n",
            "Epoch [30/75], Learning Rate: 0.0008368407953869105\n",
            "Epoch [31/75], Train Accuracy: 86.028 %, Loss: 0.2751\n",
            "Epoch [31/75], Learning Rate: 0.0008220696016880688\n",
            "Epoch [32/75], Train Accuracy: 86.304 %, Loss: 0.4108\n",
            "Epoch [32/75], Learning Rate: 0.0008068211054579944\n",
            "Epoch [33/75], Train Accuracy: 86.81 %, Loss: 0.3295\n",
            "Epoch [33/75], Learning Rate: 0.0007911220577405485\n",
            "Epoch [34/75], Train Accuracy: 87.236 %, Loss: 0.3825\n",
            "Epoch [34/75], Learning Rate: 0.0007750000000000001\n",
            "Epoch [35/75], Train Accuracy: 87.482 %, Loss: 0.4436\n",
            "Epoch [35/75], Learning Rate: 0.0007584832158039379\n",
            "Epoch [36/75], Train Accuracy: 87.786 %, Loss: 0.3262\n",
            "Epoch [36/75], Learning Rate: 0.0007416006812042827\n",
            "Epoch [37/75], Train Accuracy: 88.624 %, Loss: 0.3737\n",
            "Epoch [37/75], Learning Rate: 0.0007243820139034463\n",
            "Epoch [38/75], Train Accuracy: 88.508 %, Loss: 0.2972\n",
            "Epoch [38/75], Learning Rate: 0.0007068574212948169\n",
            "Epoch [39/75], Train Accuracy: 89.084 %, Loss: 0.2864\n",
            "Epoch [39/75], Learning Rate: 0.0006890576474687264\n",
            "Epoch [40/75], Train Accuracy: 89.504 %, Loss: 0.3312\n",
            "Epoch [40/75], Learning Rate: 0.0006710139192768696\n",
            "Epoch [41/75], Train Accuracy: 89.936 %, Loss: 0.3244\n",
            "Epoch [41/75], Learning Rate: 0.0006527578915497952\n",
            "Epoch [42/75], Train Accuracy: 90.152 %, Loss: 0.2828\n",
            "Epoch [42/75], Learning Rate: 0.0006343215915635762\n",
            "Epoch [43/75], Train Accuracy: 90.554 %, Loss: 0.1943\n",
            "Epoch [43/75], Learning Rate: 0.0006157373628530854\n",
            "Epoch [44/75], Train Accuracy: 90.77 %, Loss: 0.2601\n",
            "Epoch [44/75], Learning Rate: 0.0005970378084704443\n",
            "Epoch [45/75], Train Accuracy: 91.306 %, Loss: 0.2490\n",
            "Epoch [45/75], Learning Rate: 0.0005782557337881911\n",
            "Epoch [46/75], Train Accuracy: 91.748 %, Loss: 0.2318\n",
            "Epoch [46/75], Learning Rate: 0.0005594240889475107\n",
            "Epoch [47/75], Train Accuracy: 92.086 %, Loss: 0.2168\n",
            "Epoch [47/75], Learning Rate: 0.0005405759110524895\n",
            "Epoch [48/75], Train Accuracy: 92.32 %, Loss: 0.2082\n",
            "Epoch [48/75], Learning Rate: 0.0005217442662118091\n",
            "Epoch [49/75], Train Accuracy: 92.694 %, Loss: 0.1613\n",
            "Epoch [49/75], Learning Rate: 0.000502962191529556\n",
            "Epoch [50/75], Train Accuracy: 92.762 %, Loss: 0.1934\n",
            "Epoch [50/75], Learning Rate: 0.0004842626371469149\n",
            "Epoch [51/75], Train Accuracy: 93.506 %, Loss: 0.1948\n",
            "Epoch [51/75], Learning Rate: 0.0004656784084364239\n",
            "Epoch [52/75], Train Accuracy: 93.754 %, Loss: 0.1600\n",
            "Epoch [52/75], Learning Rate: 0.00044724210845020496\n",
            "Epoch [53/75], Train Accuracy: 93.882 %, Loss: 0.2162\n",
            "Epoch [53/75], Learning Rate: 0.00042898608072313056\n",
            "Epoch [54/75], Train Accuracy: 94.224 %, Loss: 0.1517\n",
            "Epoch [54/75], Learning Rate: 0.0004109423525312737\n",
            "Epoch [55/75], Train Accuracy: 94.506 %, Loss: 0.1396\n",
            "Epoch [55/75], Learning Rate: 0.00039314257870518325\n",
            "Epoch [56/75], Train Accuracy: 94.888 %, Loss: 0.1635\n",
            "Epoch [56/75], Learning Rate: 0.00037561798609655366\n",
            "Epoch [57/75], Train Accuracy: 94.878 %, Loss: 0.1132\n",
            "Epoch [57/75], Learning Rate: 0.0003583993187957173\n",
            "Epoch [58/75], Train Accuracy: 95.174 %, Loss: 0.1371\n",
            "Epoch [58/75], Learning Rate: 0.0003415167841960623\n",
            "Epoch [59/75], Train Accuracy: 95.744 %, Loss: 0.1397\n",
            "Epoch [59/75], Learning Rate: 0.0003249999999999999\n",
            "Epoch [60/75], Train Accuracy: 95.92 %, Loss: 0.1134\n",
            "Epoch [60/75], Learning Rate: 0.0003088779422594516\n",
            "Epoch [61/75], Train Accuracy: 95.832 %, Loss: 0.1293\n",
            "Epoch [61/75], Learning Rate: 0.0002931788945420058\n",
            "Epoch [62/75], Train Accuracy: 96.316 %, Loss: 0.0884\n",
            "Epoch [62/75], Learning Rate: 0.0002779303983119313\n",
            "Epoch [63/75], Train Accuracy: 96.676 %, Loss: 0.0878\n",
            "Epoch [63/75], Learning Rate: 0.0002631592046130896\n",
            "Epoch [64/75], Train Accuracy: 96.724 %, Loss: 0.1251\n",
            "Epoch [64/75], Learning Rate: 0.0002488912271385138\n",
            "Epoch [65/75], Train Accuracy: 96.986 %, Loss: 0.0600\n",
            "Epoch [65/75], Learning Rate: 0.0002351514967689855\n",
            "Epoch [66/75], Train Accuracy: 97.256 %, Loss: 0.0761\n",
            "Epoch [66/75], Learning Rate: 0.0002219641176603649\n",
            "Epoch [67/75], Train Accuracy: 97.158 %, Loss: 0.0847\n",
            "Epoch [67/75], Learning Rate: 0.00020935222495670967\n",
            "Epoch [68/75], Train Accuracy: 97.368 %, Loss: 0.0767\n",
            "Epoch [68/75], Learning Rate: 0.00019733794420337213\n",
            "Epoch [69/75], Train Accuracy: 97.554 %, Loss: 0.0651\n",
            "Epoch [69/75], Learning Rate: 0.00018594235253127368\n",
            "Epoch [70/75], Train Accuracy: 97.798 %, Loss: 0.0670\n",
            "Epoch [70/75], Learning Rate: 0.00017518544168045524\n",
            "Epoch [71/75], Train Accuracy: 97.838 %, Loss: 0.0331\n",
            "Epoch [71/75], Learning Rate: 0.00016508608292777201\n",
            "Epoch [72/75], Train Accuracy: 98.008 %, Loss: 0.0376\n",
            "Epoch [72/75], Learning Rate: 0.0001556619939802614\n",
            "Epoch [73/75], Train Accuracy: 97.964 %, Loss: 0.0793\n",
            "Epoch [73/75], Learning Rate: 0.0001469297078922643\n",
            "Epoch [74/75], Train Accuracy: 98.16 %, Loss: 0.0242\n",
            "Epoch [74/75], Learning Rate: 0.00013890454406082967\n",
            "Epoch [75/75], Train Accuracy: 98.154 %, Loss: 0.0830\n",
            "Epoch [75/75], Learning Rate: 0.0001316005813502869\n"
          ]
        }
      ]
    },
    {
      "cell_type": "code",
      "source": [
        "# モデルの評価\n",
        "model.eval()\n",
        "with torch.no_grad():\n",
        "    total = 0\n",
        "    correct = 0\n",
        "    for images, labels in test_loader_cifar10:\n",
        "        images = images.to(device)\n",
        "        labels = labels.to(device)\n",
        "        outputs = model(images)\n",
        "        _, predicted = torch.max(outputs.data, 1)\n",
        "        total += labels.size(0)\n",
        "        correct += (predicted == labels).sum().item()\n",
        "    # 正解率精度の確認\n",
        "    print('Test Accuracy: {} %'.format(100 * correct / total))"
      ],
      "metadata": {
        "colab": {
          "base_uri": "https://localhost:8080/"
        },
        "id": "0-fuKSmqF5FK",
        "outputId": "066b67bf-e180-4e4b-8e63-d0b3247c75e7"
      },
      "execution_count": 18,
      "outputs": [
        {
          "output_type": "stream",
          "name": "stdout",
          "text": [
            "Test Accuracy: 83.61 %\n"
          ]
        }
      ]
    },
    {
      "cell_type": "code",
      "source": [
        "# GPUメモリの解放\n",
        "del model\n",
        "torch.cuda.empty_cache()"
      ],
      "metadata": {
        "id": "dECOqykWF5FK"
      },
      "execution_count": 19,
      "outputs": []
    },
    {
      "cell_type": "markdown",
      "source": [
        "### 学習と評価（100 epochs）"
      ],
      "metadata": {
        "id": "pJyew3dez2Wc"
      }
    },
    {
      "cell_type": "code",
      "source": [
        "# デバイスを設定\n",
        "device = torch.device('cuda' if torch.cuda.is_available() else 'cpu')\n",
        "# モデルを定義\n",
        "model = resnet18_10().to(device)\n",
        "\n",
        "# 学習率を設定\n",
        "learning_rate = 0.001\n",
        "# 全体のepoch数を設定\n",
        "num_epochs = 100\n",
        "# warm-upするepoch数を設定\n",
        "warmup_epochs = 10\n",
        "\n",
        "# 損失関数を定義\n",
        "criterion = nn.CrossEntropyLoss()\n",
        "# オプティマイザーを設定\n",
        "optimizer = optim.Adam(model.parameters(), lr=learning_rate)\n",
        "# スケジューラーを設定\n",
        "scheduler = CosineLRScheduler(optimizer, t_initial=num_epochs, lr_min=1e-4, warmup_t=warmup_epochs, warmup_lr_init=1e-4, warmup_prefix=True)\n",
        "\n",
        "# モデルの学習\n",
        "for epoch in range(num_epochs):\n",
        "    total = 0\n",
        "    correct = 0\n",
        "    for i, (images, labels) in enumerate(train_loader_cifar10):\n",
        "        images = images.to(device)\n",
        "        labels = labels.to(device)\n",
        "        # 順伝播\n",
        "        outputs = model(images)\n",
        "        loss = criterion(outputs, labels)\n",
        "        # 逆伝播\n",
        "        optimizer.zero_grad()\n",
        "        loss.backward()\n",
        "        optimizer.step()\n",
        "        _, predicted = torch.max(outputs.data, 1)\n",
        "        # 全データ数\n",
        "        total += labels.size(0)\n",
        "        # 正解数\n",
        "        correct += (predicted == labels).sum().item()\n",
        "    # 正解率精度を計算\n",
        "    train_acc = 100 * correct / total\n",
        "    # 正解率精度と損失を確認\n",
        "    print(\"Epoch [{}/{}], Train Accuracy: {} %, Loss: {:.4f}\".format(epoch+1, num_epochs, 100 * correct / total, loss.item()))\n",
        "    # 1エポック終了後にスケジューラーを更新\n",
        "    scheduler.step(epoch)\n",
        "    # 学習率の確認\n",
        "    print(\"Epoch [{}/{}], Learning Rate: {}\".format(epoch+1, num_epochs, optimizer.param_groups[0]['lr']))\n",
        "\n",
        "# モデルを保存\n",
        "torch.save(model, '/content/drive/MyDrive/ResNet18_CIFAR10_100epochs_CLRS_restest.pth')"
      ],
      "metadata": {
        "id": "lkPQYc-Uz2Wc",
        "colab": {
          "base_uri": "https://localhost:8080/"
        },
        "outputId": "0e09388b-ac3c-4a0a-fb1a-8031381d2b4d"
      },
      "execution_count": 11,
      "outputs": [
        {
          "output_type": "stream",
          "name": "stdout",
          "text": [
            "Epoch [1/100], Train Accuracy: 31.644 %, Loss: 1.6263\n",
            "Epoch [1/100], Learning Rate: 0.0001\n",
            "Epoch [2/100], Train Accuracy: 43.466 %, Loss: 1.4489\n",
            "Epoch [2/100], Learning Rate: 0.00019\n",
            "Epoch [3/100], Train Accuracy: 48.302 %, Loss: 1.3311\n",
            "Epoch [3/100], Learning Rate: 0.00028\n",
            "Epoch [4/100], Train Accuracy: 52.512 %, Loss: 1.3009\n",
            "Epoch [4/100], Learning Rate: 0.00036999999999999994\n",
            "Epoch [5/100], Train Accuracy: 56.704 %, Loss: 1.2289\n",
            "Epoch [5/100], Learning Rate: 0.00045999999999999996\n",
            "Epoch [6/100], Train Accuracy: 59.19 %, Loss: 1.0599\n",
            "Epoch [6/100], Learning Rate: 0.00055\n",
            "Epoch [7/100], Train Accuracy: 62.164 %, Loss: 1.0554\n",
            "Epoch [7/100], Learning Rate: 0.0006399999999999999\n",
            "Epoch [8/100], Train Accuracy: 64.478 %, Loss: 0.9659\n",
            "Epoch [8/100], Learning Rate: 0.00073\n",
            "Epoch [9/100], Train Accuracy: 66.634 %, Loss: 0.9182\n",
            "Epoch [9/100], Learning Rate: 0.00082\n",
            "Epoch [10/100], Train Accuracy: 68.174 %, Loss: 0.9092\n",
            "Epoch [10/100], Learning Rate: 0.00091\n",
            "Epoch [11/100], Train Accuracy: 69.658 %, Loss: 0.8520\n",
            "Epoch [11/100], Learning Rate: 0.001\n",
            "Epoch [12/100], Train Accuracy: 70.976 %, Loss: 0.8376\n",
            "Epoch [12/100], Learning Rate: 0.0009997779521645793\n",
            "Epoch [13/100], Train Accuracy: 72.388 %, Loss: 0.7742\n",
            "Epoch [13/100], Learning Rate: 0.0009991120277927223\n",
            "Epoch [14/100], Train Accuracy: 74.032 %, Loss: 0.7550\n",
            "Epoch [14/100], Learning Rate: 0.000998002884071386\n",
            "Epoch [15/100], Train Accuracy: 75.296 %, Loss: 0.6605\n",
            "Epoch [15/100], Learning Rate: 0.000996451615591515\n",
            "Epoch [16/100], Train Accuracy: 76.1 %, Loss: 0.6907\n",
            "Epoch [16/100], Learning Rate: 0.000994459753267812\n",
            "Epoch [17/100], Train Accuracy: 76.776 %, Loss: 0.6703\n",
            "Epoch [17/100], Learning Rate: 0.00099202926282791\n",
            "Epoch [18/100], Train Accuracy: 78.286 %, Loss: 0.6236\n",
            "Epoch [18/100], Learning Rate: 0.0009891625428724363\n",
            "Epoch [19/100], Train Accuracy: 78.666 %, Loss: 0.6222\n",
            "Epoch [19/100], Learning Rate: 0.000985862422507884\n",
            "Epoch [20/100], Train Accuracy: 79.712 %, Loss: 0.6485\n",
            "Epoch [20/100], Learning Rate: 0.0009821321585546244\n",
            "Epoch [21/100], Train Accuracy: 80.272 %, Loss: 0.5262\n",
            "Epoch [21/100], Learning Rate: 0.0009779754323328191\n",
            "Epoch [22/100], Train Accuracy: 80.93 %, Loss: 0.5175\n",
            "Epoch [22/100], Learning Rate: 0.0009733963460294015\n",
            "Epoch [23/100], Train Accuracy: 81.586 %, Loss: 0.5493\n",
            "Epoch [23/100], Learning Rate: 0.0009683994186497131\n",
            "Epoch [24/100], Train Accuracy: 81.826 %, Loss: 0.4357\n",
            "Epoch [24/100], Learning Rate: 0.0009629895815577914\n",
            "Epoch [25/100], Train Accuracy: 82.612 %, Loss: 0.4626\n",
            "Epoch [25/100], Learning Rate: 0.0009571721736097088\n",
            "Epoch [26/100], Train Accuracy: 82.67 %, Loss: 0.4078\n",
            "Epoch [26/100], Learning Rate: 0.0009509529358847655\n",
            "Epoch [27/100], Train Accuracy: 83.434 %, Loss: 0.4692\n",
            "Epoch [27/100], Learning Rate: 0.0009443380060197386\n",
            "Epoch [28/100], Train Accuracy: 83.74 %, Loss: 0.4530\n",
            "Epoch [28/100], Learning Rate: 0.0009373339121517746\n",
            "Epoch [29/100], Train Accuracy: 84.324 %, Loss: 0.4868\n",
            "Epoch [29/100], Learning Rate: 0.0009299475664759069\n",
            "Epoch [30/100], Train Accuracy: 84.474 %, Loss: 0.4809\n",
            "Epoch [30/100], Learning Rate: 0.0009221862584235528\n",
            "Epoch [31/100], Train Accuracy: 85.066 %, Loss: 0.5094\n",
            "Epoch [31/100], Learning Rate: 0.0009140576474687263\n",
            "Epoch [32/100], Train Accuracy: 85.324 %, Loss: 0.3580\n",
            "Epoch [32/100], Learning Rate: 0.0009055697555690606\n",
            "Epoch [33/100], Train Accuracy: 86.116 %, Loss: 0.3600\n",
            "Epoch [33/100], Learning Rate: 0.0008967309592491052\n",
            "Epoch [34/100], Train Accuracy: 86.472 %, Loss: 0.3679\n",
            "Epoch [34/100], Learning Rate: 0.0008875499813337069\n",
            "Epoch [35/100], Train Accuracy: 86.698 %, Loss: 0.3450\n",
            "Epoch [35/100], Learning Rate: 0.0008780358823396353\n",
            "Epoch [36/100], Train Accuracy: 87.124 %, Loss: 0.4219\n",
            "Epoch [36/100], Learning Rate: 0.0008681980515339464\n",
            "Epoch [37/100], Train Accuracy: 87.486 %, Loss: 0.3614\n",
            "Epoch [37/100], Learning Rate: 0.0008580461976679099\n",
            "Epoch [38/100], Train Accuracy: 87.846 %, Loss: 0.3135\n",
            "Epoch [38/100], Learning Rate: 0.0008475903393956434\n",
            "Epoch [39/100], Train Accuracy: 88.178 %, Loss: 0.2894\n",
            "Epoch [39/100], Learning Rate: 0.0008368407953869105\n",
            "Epoch [40/100], Train Accuracy: 88.618 %, Loss: 0.3829\n",
            "Epoch [40/100], Learning Rate: 0.0008258081741438395\n",
            "Epoch [41/100], Train Accuracy: 88.988 %, Loss: 0.3287\n",
            "Epoch [41/100], Learning Rate: 0.0008145033635316131\n",
            "Epoch [42/100], Train Accuracy: 88.854 %, Loss: 0.4077\n",
            "Epoch [42/100], Learning Rate: 0.0008029375200334589\n",
            "Epoch [43/100], Train Accuracy: 89.322 %, Loss: 0.2922\n",
            "Epoch [43/100], Learning Rate: 0.0007911220577405485\n",
            "Epoch [44/100], Train Accuracy: 89.924 %, Loss: 0.3599\n",
            "Epoch [44/100], Learning Rate: 0.0007790686370876671\n",
            "Epoch [45/100], Train Accuracy: 90.028 %, Loss: 0.2996\n",
            "Epoch [45/100], Learning Rate: 0.0007667891533457719\n",
            "Epoch [46/100], Train Accuracy: 90.466 %, Loss: 0.2008\n",
            "Epoch [46/100], Learning Rate: 0.000754295724882796\n",
            "Epoch [47/100], Train Accuracy: 90.69 %, Loss: 0.2981\n",
            "Epoch [47/100], Learning Rate: 0.0007416006812042827\n",
            "Epoch [48/100], Train Accuracy: 91.024 %, Loss: 0.2591\n",
            "Epoch [48/100], Learning Rate: 0.0007287165507856513\n",
            "Epoch [49/100], Train Accuracy: 91.364 %, Loss: 0.1874\n",
            "Epoch [49/100], Learning Rate: 0.0007156560487081052\n",
            "Epoch [50/100], Train Accuracy: 91.61 %, Loss: 0.2179\n",
            "Epoch [50/100], Learning Rate: 0.0007024320641103813\n",
            "Epoch [51/100], Train Accuracy: 92.098 %, Loss: 0.1990\n",
            "Epoch [51/100], Learning Rate: 0.0006890576474687264\n",
            "Epoch [52/100], Train Accuracy: 92.188 %, Loss: 0.2573\n",
            "Epoch [52/100], Learning Rate: 0.0006755459977176532\n",
            "Epoch [53/100], Train Accuracy: 92.54 %, Loss: 0.2165\n",
            "Epoch [53/100], Learning Rate: 0.0006619104492241846\n",
            "Epoch [54/100], Train Accuracy: 92.956 %, Loss: 0.2197\n",
            "Epoch [54/100], Learning Rate: 0.0006481644586284443\n",
            "Epoch [55/100], Train Accuracy: 93.108 %, Loss: 0.1745\n",
            "Epoch [55/100], Learning Rate: 0.0006343215915635762\n",
            "Epoch [56/100], Train Accuracy: 93.256 %, Loss: 0.1751\n",
            "Epoch [56/100], Learning Rate: 0.000620395509268104\n",
            "Epoch [57/100], Train Accuracy: 93.682 %, Loss: 0.1534\n",
            "Epoch [57/100], Learning Rate: 0.000606399955103937\n",
            "Epoch [58/100], Train Accuracy: 93.878 %, Loss: 0.1897\n",
            "Epoch [58/100], Learning Rate: 0.0005923487409933315\n",
            "Epoch [59/100], Train Accuracy: 94.196 %, Loss: 0.1491\n",
            "Epoch [59/100], Learning Rate: 0.0005782557337881911\n",
            "Epoch [60/100], Train Accuracy: 94.172 %, Loss: 0.2210\n",
            "Epoch [60/100], Learning Rate: 0.0005641348415851578\n",
            "Epoch [61/100], Train Accuracy: 94.562 %, Loss: 0.1730\n",
            "Epoch [61/100], Learning Rate: 0.00055\n",
            "Epoch [62/100], Train Accuracy: 94.862 %, Loss: 0.1135\n",
            "Epoch [62/100], Learning Rate: 0.0005358651584148423\n",
            "Epoch [63/100], Train Accuracy: 95.0 %, Loss: 0.1495\n",
            "Epoch [63/100], Learning Rate: 0.000521744266211809\n",
            "Epoch [64/100], Train Accuracy: 95.188 %, Loss: 0.1631\n",
            "Epoch [64/100], Learning Rate: 0.0005076512590066686\n",
            "Epoch [65/100], Train Accuracy: 95.59 %, Loss: 0.1513\n",
            "Epoch [65/100], Learning Rate: 0.0004936000448960632\n",
            "Epoch [66/100], Train Accuracy: 95.846 %, Loss: 0.1332\n",
            "Epoch [66/100], Learning Rate: 0.0004796044907318961\n",
            "Epoch [67/100], Train Accuracy: 95.926 %, Loss: 0.1450\n",
            "Epoch [67/100], Learning Rate: 0.0004656784084364239\n",
            "Epoch [68/100], Train Accuracy: 95.906 %, Loss: 0.1464\n",
            "Epoch [68/100], Learning Rate: 0.00045183554137155597\n",
            "Epoch [69/100], Train Accuracy: 96.296 %, Loss: 0.1141\n",
            "Epoch [69/100], Learning Rate: 0.0004380895507758153\n",
            "Epoch [70/100], Train Accuracy: 96.26 %, Loss: 0.1094\n",
            "Epoch [70/100], Learning Rate: 0.00042445400228234684\n",
            "Epoch [71/100], Train Accuracy: 96.522 %, Loss: 0.0967\n",
            "Epoch [71/100], Learning Rate: 0.0004109423525312738\n",
            "Epoch [72/100], Train Accuracy: 96.754 %, Loss: 0.1057\n",
            "Epoch [72/100], Learning Rate: 0.0003975679358896189\n",
            "Epoch [73/100], Train Accuracy: 96.756 %, Loss: 0.1152\n",
            "Epoch [73/100], Learning Rate: 0.000384343951291895\n",
            "Epoch [74/100], Train Accuracy: 97.2 %, Loss: 0.0745\n",
            "Epoch [74/100], Learning Rate: 0.00037128344921434864\n",
            "Epoch [75/100], Train Accuracy: 97.314 %, Loss: 0.0585\n",
            "Epoch [75/100], Learning Rate: 0.0003583993187957173\n",
            "Epoch [76/100], Train Accuracy: 97.272 %, Loss: 0.0790\n",
            "Epoch [76/100], Learning Rate: 0.00034570427511720393\n",
            "Epoch [77/100], Train Accuracy: 97.328 %, Loss: 0.0814\n",
            "Epoch [77/100], Learning Rate: 0.0003332108466542281\n",
            "Epoch [78/100], Train Accuracy: 97.682 %, Loss: 0.0509\n",
            "Epoch [78/100], Learning Rate: 0.0003209313629123329\n",
            "Epoch [79/100], Train Accuracy: 97.72 %, Loss: 0.0794\n",
            "Epoch [79/100], Learning Rate: 0.0003088779422594514\n",
            "Epoch [80/100], Train Accuracy: 97.956 %, Loss: 0.0789\n",
            "Epoch [80/100], Learning Rate: 0.0002970624799665412\n",
            "Epoch [81/100], Train Accuracy: 97.97 %, Loss: 0.0405\n",
            "Epoch [81/100], Learning Rate: 0.00028549663646838715\n",
            "Epoch [82/100], Train Accuracy: 98.162 %, Loss: 0.0837\n",
            "Epoch [82/100], Learning Rate: 0.00027419182585616055\n",
            "Epoch [83/100], Train Accuracy: 98.18 %, Loss: 0.0521\n",
            "Epoch [83/100], Learning Rate: 0.0002631592046130896\n",
            "Epoch [84/100], Train Accuracy: 98.358 %, Loss: 0.0645\n",
            "Epoch [84/100], Learning Rate: 0.00025240966060435674\n",
            "Epoch [85/100], Train Accuracy: 98.22 %, Loss: 0.0617\n",
            "Epoch [85/100], Learning Rate: 0.00024195380233209008\n",
            "Epoch [86/100], Train Accuracy: 98.326 %, Loss: 0.0461\n",
            "Epoch [86/100], Learning Rate: 0.00023180194846605365\n",
            "Epoch [87/100], Train Accuracy: 98.478 %, Loss: 0.0440\n",
            "Epoch [87/100], Learning Rate: 0.0002219641176603649\n",
            "Epoch [88/100], Train Accuracy: 98.524 %, Loss: 0.0273\n",
            "Epoch [88/100], Learning Rate: 0.0002124500186662932\n",
            "Epoch [89/100], Train Accuracy: 98.788 %, Loss: 0.0328\n",
            "Epoch [89/100], Learning Rate: 0.00020326904075089488\n",
            "Epoch [90/100], Train Accuracy: 98.758 %, Loss: 0.0347\n",
            "Epoch [90/100], Learning Rate: 0.00019443024443093932\n",
            "Epoch [91/100], Train Accuracy: 98.818 %, Loss: 0.0276\n",
            "Epoch [91/100], Learning Rate: 0.00018594235253127368\n",
            "Epoch [92/100], Train Accuracy: 98.936 %, Loss: 0.0256\n",
            "Epoch [92/100], Learning Rate: 0.00017781374157644722\n",
            "Epoch [93/100], Train Accuracy: 98.742 %, Loss: 0.0141\n",
            "Epoch [93/100], Learning Rate: 0.00017005243352409332\n",
            "Epoch [94/100], Train Accuracy: 98.88 %, Loss: 0.0360\n",
            "Epoch [94/100], Learning Rate: 0.0001626660878482253\n",
            "Epoch [95/100], Train Accuracy: 99.098 %, Loss: 0.0270\n",
            "Epoch [95/100], Learning Rate: 0.0001556619939802614\n",
            "Epoch [96/100], Train Accuracy: 99.114 %, Loss: 0.0172\n",
            "Epoch [96/100], Learning Rate: 0.0001490470641152345\n",
            "Epoch [97/100], Train Accuracy: 99.058 %, Loss: 0.0320\n",
            "Epoch [97/100], Learning Rate: 0.0001428278263902913\n",
            "Epoch [98/100], Train Accuracy: 99.072 %, Loss: 0.0178\n",
            "Epoch [98/100], Learning Rate: 0.00013701041844220858\n",
            "Epoch [99/100], Train Accuracy: 99.128 %, Loss: 0.0307\n",
            "Epoch [99/100], Learning Rate: 0.0001316005813502869\n",
            "Epoch [100/100], Train Accuracy: 99.156 %, Loss: 0.0255\n",
            "Epoch [100/100], Learning Rate: 0.00012660365397059855\n"
          ]
        }
      ]
    },
    {
      "cell_type": "code",
      "source": [
        "# モデルの評価\n",
        "model.eval()\n",
        "with torch.no_grad():\n",
        "    total = 0\n",
        "    correct = 0\n",
        "    for images, labels in test_loader_cifar10:\n",
        "        images = images.to(device)\n",
        "        labels = labels.to(device)\n",
        "        outputs = model(images)\n",
        "        _, predicted = torch.max(outputs.data, 1)\n",
        "        total += labels.size(0)\n",
        "        correct += (predicted == labels).sum().item()\n",
        "    # 正解率精度の確認\n",
        "    print('Test Accuracy: {} %'.format(100 * correct / total))"
      ],
      "metadata": {
        "id": "1-yK4fD1z2Wd",
        "colab": {
          "base_uri": "https://localhost:8080/"
        },
        "outputId": "e6278055-e881-40b4-9068-2fe410c9f11e"
      },
      "execution_count": 12,
      "outputs": [
        {
          "output_type": "stream",
          "name": "stdout",
          "text": [
            "Test Accuracy: 84.28 %\n"
          ]
        }
      ]
    },
    {
      "cell_type": "code",
      "source": [
        "# GPUメモリの解放\n",
        "del model\n",
        "torch.cuda.empty_cache()"
      ],
      "metadata": {
        "id": "J-woiaozz2Wd"
      },
      "execution_count": 13,
      "outputs": []
    }
  ]
}