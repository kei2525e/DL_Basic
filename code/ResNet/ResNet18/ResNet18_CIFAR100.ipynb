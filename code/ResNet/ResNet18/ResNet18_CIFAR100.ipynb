{
  "nbformat": 4,
  "nbformat_minor": 0,
  "metadata": {
    "colab": {
      "provenance": [],
      "machine_shape": "hm",
      "gpuType": "V100"
    },
    "kernelspec": {
      "name": "python3",
      "display_name": "Python 3"
    },
    "language_info": {
      "name": "python"
    },
    "accelerator": "GPU"
  },
  "cells": [
    {
      "cell_type": "markdown",
      "source": [
        "### ドライブのマウント"
      ],
      "metadata": {
        "id": "m-QbZLFlyjCA"
      }
    },
    {
      "cell_type": "code",
      "execution_count": 1,
      "metadata": {
        "id": "9g8jY7G9ahIa",
        "colab": {
          "base_uri": "https://localhost:8080/"
        },
        "outputId": "b1145cbe-a9f2-4613-dd84-d21fd77a3b5a"
      },
      "outputs": [
        {
          "output_type": "stream",
          "name": "stdout",
          "text": [
            "Mounted at /content/drive\n"
          ]
        }
      ],
      "source": [
        "# Googleドライブをマウント\n",
        "from google.colab import drive\n",
        "drive.mount('/content/drive')"
      ]
    },
    {
      "cell_type": "markdown",
      "source": [
        "### ライブラリ・モジュールのインポート"
      ],
      "metadata": {
        "id": "cdzvZUWNzQAY"
      }
    },
    {
      "cell_type": "code",
      "source": [
        "# ライブラリの準備\n",
        "!pip install timm\n",
        "import torch\n",
        "import torch.nn as nn\n",
        "import torchvision\n",
        "import torchvision.transforms as transforms\n",
        "import torchvision.datasets as datasets\n",
        "import torch.nn.functional as F\n",
        "import torch.optim as optim\n",
        "import torch.optim.lr_scheduler as lr_scheduler\n",
        "from timm.scheduler import CosineLRScheduler\n",
        "import numpy as np\n",
        "import pandas as pd\n",
        "import matplotlib.pyplot as plt\n",
        "import math\n",
        "import random\n",
        "import pickle"
      ],
      "metadata": {
        "id": "l8wfSjPuboGS",
        "colab": {
          "base_uri": "https://localhost:8080/"
        },
        "outputId": "d4579e7d-f460-45cf-c1bd-08f6afc97a21"
      },
      "execution_count": 2,
      "outputs": [
        {
          "output_type": "stream",
          "name": "stdout",
          "text": [
            "Collecting timm\n",
            "  Downloading timm-0.9.2-py3-none-any.whl (2.2 MB)\n",
            "\u001b[2K     \u001b[90m━━━━━━━━━━━━━━━━━━━━━━━━━━━━━━━━━━━━━━━━\u001b[0m \u001b[32m2.2/2.2 MB\u001b[0m \u001b[31m12.9 MB/s\u001b[0m eta \u001b[36m0:00:00\u001b[0m\n",
            "\u001b[?25hRequirement already satisfied: torch>=1.7 in /usr/local/lib/python3.10/dist-packages (from timm) (2.0.1+cu118)\n",
            "Requirement already satisfied: torchvision in /usr/local/lib/python3.10/dist-packages (from timm) (0.15.2+cu118)\n",
            "Requirement already satisfied: pyyaml in /usr/local/lib/python3.10/dist-packages (from timm) (6.0.1)\n",
            "Collecting huggingface-hub (from timm)\n",
            "  Downloading huggingface_hub-0.16.4-py3-none-any.whl (268 kB)\n",
            "\u001b[2K     \u001b[90m━━━━━━━━━━━━━━━━━━━━━━━━━━━━━━━━━━━━━━\u001b[0m \u001b[32m268.8/268.8 kB\u001b[0m \u001b[31m16.5 MB/s\u001b[0m eta \u001b[36m0:00:00\u001b[0m\n",
            "\u001b[?25hCollecting safetensors (from timm)\n",
            "  Downloading safetensors-0.3.1-cp310-cp310-manylinux_2_17_x86_64.manylinux2014_x86_64.whl (1.3 MB)\n",
            "\u001b[2K     \u001b[90m━━━━━━━━━━━━━━━━━━━━━━━━━━━━━━━━━━━━━━━━\u001b[0m \u001b[32m1.3/1.3 MB\u001b[0m \u001b[31m24.0 MB/s\u001b[0m eta \u001b[36m0:00:00\u001b[0m\n",
            "\u001b[?25hRequirement already satisfied: filelock in /usr/local/lib/python3.10/dist-packages (from torch>=1.7->timm) (3.12.2)\n",
            "Requirement already satisfied: typing-extensions in /usr/local/lib/python3.10/dist-packages (from torch>=1.7->timm) (4.7.1)\n",
            "Requirement already satisfied: sympy in /usr/local/lib/python3.10/dist-packages (from torch>=1.7->timm) (1.11.1)\n",
            "Requirement already satisfied: networkx in /usr/local/lib/python3.10/dist-packages (from torch>=1.7->timm) (3.1)\n",
            "Requirement already satisfied: jinja2 in /usr/local/lib/python3.10/dist-packages (from torch>=1.7->timm) (3.1.2)\n",
            "Requirement already satisfied: triton==2.0.0 in /usr/local/lib/python3.10/dist-packages (from torch>=1.7->timm) (2.0.0)\n",
            "Requirement already satisfied: cmake in /usr/local/lib/python3.10/dist-packages (from triton==2.0.0->torch>=1.7->timm) (3.25.2)\n",
            "Requirement already satisfied: lit in /usr/local/lib/python3.10/dist-packages (from triton==2.0.0->torch>=1.7->timm) (16.0.6)\n",
            "Requirement already satisfied: fsspec in /usr/local/lib/python3.10/dist-packages (from huggingface-hub->timm) (2023.6.0)\n",
            "Requirement already satisfied: requests in /usr/local/lib/python3.10/dist-packages (from huggingface-hub->timm) (2.27.1)\n",
            "Requirement already satisfied: tqdm>=4.42.1 in /usr/local/lib/python3.10/dist-packages (from huggingface-hub->timm) (4.65.0)\n",
            "Requirement already satisfied: packaging>=20.9 in /usr/local/lib/python3.10/dist-packages (from huggingface-hub->timm) (23.1)\n",
            "Requirement already satisfied: numpy in /usr/local/lib/python3.10/dist-packages (from torchvision->timm) (1.22.4)\n",
            "Requirement already satisfied: pillow!=8.3.*,>=5.3.0 in /usr/local/lib/python3.10/dist-packages (from torchvision->timm) (9.4.0)\n",
            "Requirement already satisfied: MarkupSafe>=2.0 in /usr/local/lib/python3.10/dist-packages (from jinja2->torch>=1.7->timm) (2.1.3)\n",
            "Requirement already satisfied: urllib3<1.27,>=1.21.1 in /usr/local/lib/python3.10/dist-packages (from requests->huggingface-hub->timm) (1.26.16)\n",
            "Requirement already satisfied: certifi>=2017.4.17 in /usr/local/lib/python3.10/dist-packages (from requests->huggingface-hub->timm) (2023.7.22)\n",
            "Requirement already satisfied: charset-normalizer~=2.0.0 in /usr/local/lib/python3.10/dist-packages (from requests->huggingface-hub->timm) (2.0.12)\n",
            "Requirement already satisfied: idna<4,>=2.5 in /usr/local/lib/python3.10/dist-packages (from requests->huggingface-hub->timm) (3.4)\n",
            "Requirement already satisfied: mpmath>=0.19 in /usr/local/lib/python3.10/dist-packages (from sympy->torch>=1.7->timm) (1.3.0)\n",
            "Installing collected packages: safetensors, huggingface-hub, timm\n",
            "Successfully installed huggingface-hub-0.16.4 safetensors-0.3.1 timm-0.9.2\n"
          ]
        }
      ]
    },
    {
      "cell_type": "markdown",
      "source": [
        "### シード値の設定"
      ],
      "metadata": {
        "id": "_8vKbM9TzkCb"
      }
    },
    {
      "cell_type": "code",
      "source": [
        "# シード値を設定\n",
        "def fix_seed(seed=1234):\n",
        "    random.seed(seed)\n",
        "    np.random.seed(seed)\n",
        "    torch.manual_seed(seed)\n",
        "    torch.cuda.manual_seed(seed)\n",
        "\n",
        "fix_seed(seed=1234)"
      ],
      "metadata": {
        "id": "pGX4Zk1LbtPr"
      },
      "execution_count": 3,
      "outputs": []
    },
    {
      "cell_type": "markdown",
      "source": [
        "### データセットの準備"
      ],
      "metadata": {
        "id": "9aOdldqfyoSt"
      }
    },
    {
      "cell_type": "code",
      "source": [
        "# 平均値と標準偏差を計算するためのCIFAR100データセットの前処理を定義\n",
        "pre_transform_cifar100 = transforms.Compose([\n",
        "    transforms.ToTensor()\n",
        "])\n",
        "\n",
        "# 平均値と標準偏差を計算するためのCIFAR100データセットの読み込み\n",
        "pre_train_dataset_cifar100 = datasets.CIFAR100(root='/content/data/', download=True, transform=pre_transform_cifar100)\n",
        "\n",
        "# 平均値と標準偏差を計算するための変数を初期化\n",
        "pre_mean_cifar100 = 0.0\n",
        "pre_std_cifar100 = 0.0\n",
        "pre_total_samples_cifar100 = len(pre_train_dataset_cifar100)\n",
        "\n",
        "# データセットのすべてのデータポイントに対して平均値と標準偏差を計算\n",
        "for data in pre_train_dataset_cifar100:\n",
        "    pre_image, _ = data\n",
        "    pre_mean_cifar100 += pre_image.mean(dim=(1, 2))  # テンソルのチャンネルごとに平均を計算\n",
        "    pre_std_cifar100 += pre_image.std(dim=(1, 2))    # テンソルのチャンネルごとに標準偏差を計算\n",
        "\n",
        "# データセット全体の平均値と標準偏差を計算\n",
        "pre_mean_cifar100 /= pre_total_samples_cifar100\n",
        "pre_std_cifar100 /= pre_total_samples_cifar100\n",
        "\n",
        "print(\"データセット全体の平均値: \", pre_mean_cifar100)\n",
        "print(\"データセット全体の標準偏差: \", pre_std_cifar100)"
      ],
      "metadata": {
        "id": "RLSipTJ0bu1w",
        "colab": {
          "base_uri": "https://localhost:8080/"
        },
        "outputId": "16eca2bb-56e4-41dd-f428-a8fba3b011c8"
      },
      "execution_count": 4,
      "outputs": [
        {
          "output_type": "stream",
          "name": "stdout",
          "text": [
            "Downloading https://www.cs.toronto.edu/~kriz/cifar-100-python.tar.gz to /content/data/cifar-100-python.tar.gz\n"
          ]
        },
        {
          "output_type": "stream",
          "name": "stderr",
          "text": [
            "100%|██████████| 169001437/169001437 [00:03<00:00, 46042668.00it/s]\n"
          ]
        },
        {
          "output_type": "stream",
          "name": "stdout",
          "text": [
            "Extracting /content/data/cifar-100-python.tar.gz to /content/data/\n",
            "データセット全体の平均値:  tensor([0.5071, 0.4866, 0.4409])\n",
            "データセット全体の標準偏差:  tensor([0.2009, 0.1984, 0.2023])\n"
          ]
        }
      ]
    },
    {
      "cell_type": "code",
      "source": [
        "# 学習用のCIFAR100データセットの前処理を定義\n",
        "train_transform_cifar100 = transforms.Compose([\n",
        "    transforms.RandomCrop(32, padding=4),\n",
        "    transforms.RandomHorizontalFlip(),\n",
        "    transforms.ToTensor(),\n",
        "    transforms.Normalize(mean=pre_mean_cifar100, std=pre_std_cifar100)\n",
        "    ])\n",
        "# テスト用のCIFAR100データセットの前処理を定義\n",
        "test_transform_cifar100 = transforms.Compose([\n",
        "    transforms.ToTensor(),\n",
        "    transforms.Normalize(mean=pre_mean_cifar100, std=pre_std_cifar100)\n",
        "    ])\n",
        "\n",
        "# 学習用のCIFAR100データセットの読み込み\n",
        "train_dataset_cifar100 = torchvision.datasets.CIFAR100(root='/content/data/', train=True, transform=train_transform_cifar100, download=True)\n",
        "# テスト用のCIFAR100データセットの読み込み\n",
        "test_dataset_cifar100 = torchvision.datasets.CIFAR100(root='/content/data/', train=False, transform=test_transform_cifar100, download=True)\n",
        "\n",
        "# 学習用のCIFAR100データローダーを作成\n",
        "train_loader_cifar100 = torch.utils.data.DataLoader(dataset=train_dataset_cifar100, batch_size=512, shuffle=True, num_workers=2)\n",
        "# テスト用のCIFAR100データローダーを作成\n",
        "test_loader_cifar100 = torch.utils.data.DataLoader(dataset=test_dataset_cifar100, batch_size=512, shuffle=False, num_workers=2)"
      ],
      "metadata": {
        "id": "ah3PRB7vb1UG",
        "colab": {
          "base_uri": "https://localhost:8080/"
        },
        "outputId": "51178225-2434-4c7f-da30-d16ff00d200d"
      },
      "execution_count": 5,
      "outputs": [
        {
          "output_type": "stream",
          "name": "stdout",
          "text": [
            "Files already downloaded and verified\n",
            "Files already downloaded and verified\n"
          ]
        }
      ]
    },
    {
      "cell_type": "markdown",
      "source": [
        "### モデルの実装"
      ],
      "metadata": {
        "id": "upaYuBYxytGA"
      }
    },
    {
      "cell_type": "code",
      "source": [
        "# 1×1の畳み込みを定義\n",
        "def conv1x1(in_channels, out_channels, stride=1):\n",
        "    return nn.Conv2d(in_channels, out_channels, kernel_size=1, stride=stride, bias=False)\n",
        "\n",
        "# 3×3の畳み込みを定義\n",
        "def conv3x3(in_channels, out_channels, stride=1):\n",
        "    return nn.Conv2d(in_channels, out_channels, kernel_size=3, stride=stride, padding=1, bias=False)"
      ],
      "metadata": {
        "id": "uvwDV2h3b54A"
      },
      "execution_count": 6,
      "outputs": []
    },
    {
      "cell_type": "code",
      "source": [
        "# Residual Blocksを定義\n",
        "class BasicBlock(nn.Module):\n",
        "    # 入力チャンネル数に対する出力チャンネル数の倍率\n",
        "    expansion = 1\n",
        "\n",
        "    def __init__(self, in_channels, channels, stride=1):\n",
        "        super().__init__()\n",
        "        self.conv1 = conv3x3(in_channels, channels, stride)\n",
        "        self.bn1 = nn.BatchNorm2d(channels)\n",
        "        self.relu = nn.ReLU(inplace=True)\n",
        "        self.conv2 = conv3x3(channels, channels)\n",
        "        self.bn2 = nn.BatchNorm2d(channels)\n",
        "        # 入力と出力のチャンネル数が異なる場合（strideが1より大きい場合）、ダウンサンプリング\n",
        "        if in_channels != channels * self.expansion or stride > 1:\n",
        "            self.shortcut = nn.Sequential(\n",
        "                conv1x1(in_channels, channels * self.expansion, stride),\n",
        "                nn.BatchNorm2d(channels * self.expansion)\n",
        "            )\n",
        "        else:\n",
        "            self.shortcut = nn.Sequential()\n",
        "\n",
        "    def forward(self, x):\n",
        "        out = self.conv1(x)\n",
        "        out = self.bn1(out)\n",
        "        out = self.relu(out)\n",
        "        out = self.conv2(out)\n",
        "        out = self.bn2(out)\n",
        "        # 残差写像と恒等写像の和を計算\n",
        "        out += self.shortcut(x)\n",
        "        out = self.relu(out)\n",
        "        return out"
      ],
      "metadata": {
        "id": "8w0nTlLRb7iR"
      },
      "execution_count": 7,
      "outputs": []
    },
    {
      "cell_type": "code",
      "source": [
        "class ResNet(nn.Module):\n",
        "    def __init__(self, block, layers, num_classes=10):\n",
        "        super().__init__()\n",
        "        self.in_channels = 64\n",
        "        self.conv1 = nn.Conv2d(3, self.in_channels, kernel_size=7, stride=2, padding=3, bias=False)\n",
        "        self.bn1 = nn.BatchNorm2d(self.in_channels)\n",
        "        self.relu = nn.ReLU(inplace=True)\n",
        "        self.maxpool = nn.MaxPool2d(kernel_size=3, stride=2, padding=1)\n",
        "        # Residual Blocks(in_channels=64)\n",
        "        self.layer1 = self._make_layer(block, 64, layers[0], stride=1)\n",
        "        # Residual Blocks(in_channels=128)\n",
        "        self.layer2 = self._make_layer(block, 128, layers[1], stride=2)\n",
        "        # Residual Blocks(in_channels=256)\n",
        "        self.layer3 = self._make_layer(block, 256, layers[2], stride=2)\n",
        "        # Residual Blocks(in_channels=512)\n",
        "        self.layer4 = self._make_layer(block, 512, layers[3], stride=2)\n",
        "        self.avgpool = nn.AdaptiveAvgPool2d((1, 1))\n",
        "        self.fc = nn.Linear(512 * block.expansion, num_classes)\n",
        "\n",
        "        for m in self.modules():\n",
        "            if isinstance(m, nn.Conv2d):\n",
        "                # Heの初期化（正規分布）\n",
        "                nn.init.kaiming_normal_(m.weight, mode='fan_out', nonlinearity='relu')\n",
        "            elif isinstance(m, (nn.BatchNorm2d, nn.GroupNorm)):\n",
        "                # 重みを1に初期化\n",
        "                nn.init.constant_(m.weight, 1)\n",
        "                # バイアスを0に初期化\n",
        "                nn.init.constant_(m.bias, 0)\n",
        "\n",
        "    # Residual Blocksを作成する関数を定義\n",
        "    def _make_layer(self, block, channels, blocks, stride):\n",
        "        layers = []\n",
        "        # 最初のResidual Block（stride=stride）\n",
        "        layers.append(block(self.in_channels, channels, stride))\n",
        "        # 残りのResidual Block（stride=1）\n",
        "        self.in_channels = channels * block.expansion\n",
        "        for _ in range(1, blocks):\n",
        "            layers.append(block(self.in_channels, channels))\n",
        "        return nn.Sequential(*layers)\n",
        "\n",
        "    def forward(self, x):\n",
        "        x = self.conv1(x)\n",
        "        x = self.bn1(x)\n",
        "        x = self.relu(x)\n",
        "        x = self.maxpool(x)\n",
        "        x = self.layer1(x)\n",
        "        x = self.layer2(x)\n",
        "        x = self.layer3(x)\n",
        "        x = self.layer4(x)\n",
        "        x = self.avgpool(x)\n",
        "        x = torch.flatten(x, 1)\n",
        "        x = self.fc(x)\n",
        "        return x"
      ],
      "metadata": {
        "id": "OD2RW7mDb_C0"
      },
      "execution_count": 8,
      "outputs": []
    },
    {
      "cell_type": "code",
      "source": [
        "# モデルを呼び出す関数を定義\n",
        "def resnet18_100():\n",
        "    return ResNet(BasicBlock, [2, 2, 2, 2], num_classes=100)"
      ],
      "metadata": {
        "id": "m3mdYxMccGCq"
      },
      "execution_count": 9,
      "outputs": []
    },
    {
      "cell_type": "code",
      "source": [
        "# パラメータ数を計算する関数を定義\n",
        "def num_params(model):\n",
        "    return sum(x.numel() for x in model.parameters() if x.requires_grad)\n",
        "# デバイスを設定\n",
        "device = torch.device('cuda' if torch.cuda.is_available() else 'cpu')\n",
        "# モデルを設定\n",
        "model = resnet18_100().to(device)\n",
        "# モデルのパラメータ数を確認\n",
        "print(\"ResNet18のパラメータ数: {}\".format(num_params(model)))"
      ],
      "metadata": {
        "id": "8nb6_vBy3t68",
        "colab": {
          "base_uri": "https://localhost:8080/"
        },
        "outputId": "44c466e1-304e-4087-fb78-3ef7eed30f30"
      },
      "execution_count": 10,
      "outputs": [
        {
          "output_type": "stream",
          "name": "stdout",
          "text": [
            "ResNet18のパラメータ数: 11227812\n"
          ]
        }
      ]
    },
    {
      "cell_type": "markdown",
      "source": [
        "### 学習と評価（10 epochs）"
      ],
      "metadata": {
        "id": "t22Ahx_tP5qt"
      }
    },
    {
      "cell_type": "code",
      "source": [
        "# デバイスを設定\n",
        "device = torch.device('cuda' if torch.cuda.is_available() else 'cpu')\n",
        "# モデルを定義\n",
        "model = resnet18_100().to(device)\n",
        "\n",
        "# 学習率を設定\n",
        "learning_rate = 0.001\n",
        "# 全体のepoch数を設定\n",
        "num_epochs = 10\n",
        "# warm-upするepoch数を設定\n",
        "warmup_epochs = 1\n",
        "\n",
        "# 損失関数を定義\n",
        "criterion = nn.CrossEntropyLoss()\n",
        "# オプティマイザーを設定\n",
        "optimizer = optim.Adam(model.parameters(), lr=learning_rate)\n",
        "# スケジューラーを設定\n",
        "scheduler = CosineLRScheduler(optimizer, t_initial=num_epochs, lr_min=1e-4, warmup_t=warmup_epochs, warmup_lr_init=1e-4, warmup_prefix=True)\n",
        "\n",
        "# モデルの学習\n",
        "for epoch in range(num_epochs):\n",
        "    total = 0\n",
        "    correct = 0\n",
        "    for i, (images, labels) in enumerate(train_loader_cifar100):\n",
        "        images = images.to(device)\n",
        "        labels = labels.to(device)\n",
        "        # 順伝播\n",
        "        outputs = model(images)\n",
        "        loss = criterion(outputs, labels)\n",
        "        # 逆伝播\n",
        "        optimizer.zero_grad()\n",
        "        loss.backward()\n",
        "        optimizer.step()\n",
        "        _, predicted = torch.max(outputs.data, 1)\n",
        "        # 全データ数\n",
        "        total += labels.size(0)\n",
        "        # 正解数\n",
        "        correct += (predicted == labels).sum().item()\n",
        "    # 正解率精度を計算\n",
        "    train_acc = 100 * correct / total\n",
        "    # 正解率精度と損失を確認\n",
        "    print(\"Epoch [{}/{}], Train Accuracy: {} %, Loss: {:.4f}\".format(epoch+1, num_epochs, 100 * correct / total, loss.item()))\n",
        "    # 1エポック終了後にスケジューラーを更新\n",
        "    scheduler.step(epoch)\n",
        "    # 学習率の確認\n",
        "    print(\"Epoch [{}/{}], Learning Rate: {}\".format(epoch+1, num_epochs, optimizer.param_groups[0]['lr']))\n",
        "\n",
        "# モデルを保存\n",
        "torch.save(model, '/content/drive/MyDrive/ResNet18_CIFAR100_10epochs_CLRS_restest.pth')"
      ],
      "metadata": {
        "colab": {
          "base_uri": "https://localhost:8080/"
        },
        "outputId": "e9cb3e93-8d66-48a1-eb32-30e6ba47846c",
        "id": "Wk-pvFsaP5qt"
      },
      "execution_count": 14,
      "outputs": [
        {
          "output_type": "stream",
          "name": "stdout",
          "text": [
            "Epoch [1/10], Train Accuracy: 6.506 %, Loss: 3.9649\n",
            "Epoch [1/10], Learning Rate: 0.0001\n",
            "Epoch [2/10], Train Accuracy: 13.466 %, Loss: 3.6850\n",
            "Epoch [2/10], Learning Rate: 0.001\n",
            "Epoch [3/10], Train Accuracy: 17.212 %, Loss: 3.1493\n",
            "Epoch [3/10], Learning Rate: 0.0009779754323328191\n",
            "Epoch [4/10], Train Accuracy: 24.714 %, Loss: 2.7822\n",
            "Epoch [4/10], Learning Rate: 0.0009140576474687263\n",
            "Epoch [5/10], Train Accuracy: 29.368 %, Loss: 2.6094\n",
            "Epoch [5/10], Learning Rate: 0.000814503363531613\n",
            "Epoch [6/10], Train Accuracy: 34.014 %, Loss: 2.4776\n",
            "Epoch [6/10], Learning Rate: 0.0006890576474687264\n",
            "Epoch [7/10], Train Accuracy: 37.316 %, Loss: 2.3171\n",
            "Epoch [7/10], Learning Rate: 0.00055\n",
            "Epoch [8/10], Train Accuracy: 40.686 %, Loss: 2.4793\n",
            "Epoch [8/10], Learning Rate: 0.0004109423525312737\n",
            "Epoch [9/10], Train Accuracy: 44.356 %, Loss: 2.0856\n",
            "Epoch [9/10], Learning Rate: 0.00028549663646838715\n",
            "Epoch [10/10], Train Accuracy: 46.814 %, Loss: 2.0950\n",
            "Epoch [10/10], Learning Rate: 0.00018594235253127368\n"
          ]
        }
      ]
    },
    {
      "cell_type": "code",
      "source": [
        "# モデルの評価\n",
        "model.eval()\n",
        "with torch.no_grad():\n",
        "    total = 0\n",
        "    correct = 0\n",
        "    for images, labels in test_loader_cifar100:\n",
        "        images = images.to(device)\n",
        "        labels = labels.to(device)\n",
        "        outputs = model(images)\n",
        "        _, predicted = torch.max(outputs.data, 1)\n",
        "        total += labels.size(0)\n",
        "        correct += (predicted == labels).sum().item()\n",
        "    # 正解率精度の確認\n",
        "    print('Test Accuracy: {} %'.format(100 * correct / total))"
      ],
      "metadata": {
        "colab": {
          "base_uri": "https://localhost:8080/"
        },
        "outputId": "5bc19f90-53b3-4b3c-bbcc-53a5ef538fc7",
        "id": "5sHwsFeaP5qu"
      },
      "execution_count": 15,
      "outputs": [
        {
          "output_type": "stream",
          "name": "stdout",
          "text": [
            "Test Accuracy: 43.38 %\n"
          ]
        }
      ]
    },
    {
      "cell_type": "code",
      "source": [
        "# GPUメモリの解放\n",
        "del model\n",
        "torch.cuda.empty_cache()"
      ],
      "metadata": {
        "id": "z7WBwljwP5qu"
      },
      "execution_count": 16,
      "outputs": []
    },
    {
      "cell_type": "markdown",
      "source": [
        "### 学習と評価（25 epochs）"
      ],
      "metadata": {
        "id": "LWc-VeRuPzRw"
      }
    },
    {
      "cell_type": "code",
      "source": [
        "# デバイスを設定\n",
        "device = torch.device('cuda' if torch.cuda.is_available() else 'cpu')\n",
        "# モデルを定義\n",
        "model = resnet18_100().to(device)\n",
        "\n",
        "# 学習率を設定\n",
        "learning_rate = 0.001\n",
        "# 全体のepoch数を設定\n",
        "num_epochs = 25\n",
        "# warm-upするepoch数を設定\n",
        "warmup_epochs = 3\n",
        "\n",
        "# 損失関数を定義\n",
        "criterion = nn.CrossEntropyLoss()\n",
        "# オプティマイザーを設定\n",
        "optimizer = optim.Adam(model.parameters(), lr=learning_rate)\n",
        "# スケジューラーを設定\n",
        "scheduler = CosineLRScheduler(optimizer, t_initial=num_epochs, lr_min=1e-4, warmup_t=warmup_epochs, warmup_lr_init=1e-4, warmup_prefix=True)\n",
        "\n",
        "# モデルの学習\n",
        "for epoch in range(num_epochs):\n",
        "    total = 0\n",
        "    correct = 0\n",
        "    for i, (images, labels) in enumerate(train_loader_cifar100):\n",
        "        images = images.to(device)\n",
        "        labels = labels.to(device)\n",
        "        # 順伝播\n",
        "        outputs = model(images)\n",
        "        loss = criterion(outputs, labels)\n",
        "        # 逆伝播\n",
        "        optimizer.zero_grad()\n",
        "        loss.backward()\n",
        "        optimizer.step()\n",
        "        _, predicted = torch.max(outputs.data, 1)\n",
        "        # 全データ数\n",
        "        total += labels.size(0)\n",
        "        # 正解数\n",
        "        correct += (predicted == labels).sum().item()\n",
        "    # 正解率精度を計算\n",
        "    train_acc = 100 * correct / total\n",
        "    # 正解率精度と損失を確認\n",
        "    print(\"Epoch [{}/{}], Train Accuracy: {} %, Loss: {:.4f}\".format(epoch+1, num_epochs, 100 * correct / total, loss.item()))\n",
        "    # 1エポック終了後にスケジューラーを更新\n",
        "    scheduler.step(epoch)\n",
        "    # 学習率の確認\n",
        "    print(\"Epoch [{}/{}], Learning Rate: {}\".format(epoch+1, num_epochs, optimizer.param_groups[0]['lr']))\n",
        "\n",
        "# モデルを保存\n",
        "torch.save(model, '/content/drive/MyDrive/ResNet18_CIFAR100_25epochs_CLRS_restest.pth')"
      ],
      "metadata": {
        "colab": {
          "base_uri": "https://localhost:8080/"
        },
        "outputId": "5cc9d13c-cd76-41d5-e73a-4cf5de1aab38",
        "id": "4zKuDfGuPzR9"
      },
      "execution_count": 11,
      "outputs": [
        {
          "output_type": "stream",
          "name": "stdout",
          "text": [
            "Epoch [1/25], Train Accuracy: 6.594 %, Loss: 3.9133\n",
            "Epoch [1/25], Learning Rate: 0.0001\n",
            "Epoch [2/25], Train Accuracy: 13.978 %, Loss: 3.5205\n",
            "Epoch [2/25], Learning Rate: 0.00039999999999999996\n",
            "Epoch [3/25], Train Accuracy: 18.28 %, Loss: 3.3709\n",
            "Epoch [3/25], Learning Rate: 0.0007\n",
            "Epoch [4/25], Train Accuracy: 22.462 %, Loss: 2.9074\n",
            "Epoch [4/25], Learning Rate: 0.001\n",
            "Epoch [5/25], Train Accuracy: 26.282 %, Loss: 2.7978\n",
            "Epoch [5/25], Learning Rate: 0.000996451615591515\n",
            "Epoch [6/25], Train Accuracy: 30.406 %, Loss: 2.6966\n",
            "Epoch [6/25], Learning Rate: 0.000985862422507884\n",
            "Epoch [7/25], Train Accuracy: 34.718 %, Loss: 2.3474\n",
            "Epoch [7/25], Learning Rate: 0.0009683994186497131\n",
            "Epoch [8/25], Train Accuracy: 37.56 %, Loss: 2.2527\n",
            "Epoch [8/25], Learning Rate: 0.0009443380060197386\n",
            "Epoch [9/25], Train Accuracy: 40.528 %, Loss: 2.1562\n",
            "Epoch [9/25], Learning Rate: 0.0009140576474687263\n",
            "Epoch [10/25], Train Accuracy: 43.154 %, Loss: 2.0390\n",
            "Epoch [10/25], Learning Rate: 0.0008780358823396353\n",
            "Epoch [11/25], Train Accuracy: 45.008 %, Loss: 2.1536\n",
            "Epoch [11/25], Learning Rate: 0.0008368407953869105\n",
            "Epoch [12/25], Train Accuracy: 47.484 %, Loss: 1.8691\n",
            "Epoch [12/25], Learning Rate: 0.0007911220577405485\n",
            "Epoch [13/25], Train Accuracy: 49.846 %, Loss: 1.9818\n",
            "Epoch [13/25], Learning Rate: 0.0007416006812042827\n",
            "Epoch [14/25], Train Accuracy: 51.89 %, Loss: 1.5809\n",
            "Epoch [14/25], Learning Rate: 0.0006890576474687264\n",
            "Epoch [15/25], Train Accuracy: 54.004 %, Loss: 1.8546\n",
            "Epoch [15/25], Learning Rate: 0.0006343215915635762\n",
            "Epoch [16/25], Train Accuracy: 56.492 %, Loss: 1.5067\n",
            "Epoch [16/25], Learning Rate: 0.0005782557337881911\n",
            "Epoch [17/25], Train Accuracy: 58.72 %, Loss: 1.5476\n",
            "Epoch [17/25], Learning Rate: 0.000521744266211809\n",
            "Epoch [18/25], Train Accuracy: 60.63 %, Loss: 1.5055\n",
            "Epoch [18/25], Learning Rate: 0.0004656784084364239\n",
            "Epoch [19/25], Train Accuracy: 62.948 %, Loss: 1.3652\n",
            "Epoch [19/25], Learning Rate: 0.0004109423525312738\n",
            "Epoch [20/25], Train Accuracy: 65.666 %, Loss: 1.1034\n",
            "Epoch [20/25], Learning Rate: 0.0003583993187957173\n",
            "Epoch [21/25], Train Accuracy: 68.14 %, Loss: 1.1251\n",
            "Epoch [21/25], Learning Rate: 0.0003088779422594514\n",
            "Epoch [22/25], Train Accuracy: 70.828 %, Loss: 1.0497\n",
            "Epoch [22/25], Learning Rate: 0.0002631592046130896\n",
            "Epoch [23/25], Train Accuracy: 72.91 %, Loss: 0.9247\n",
            "Epoch [23/25], Learning Rate: 0.0002219641176603649\n",
            "Epoch [24/25], Train Accuracy: 75.554 %, Loss: 0.9041\n",
            "Epoch [24/25], Learning Rate: 0.00018594235253127368\n",
            "Epoch [25/25], Train Accuracy: 77.71 %, Loss: 0.7934\n",
            "Epoch [25/25], Learning Rate: 0.0001556619939802614\n"
          ]
        }
      ]
    },
    {
      "cell_type": "code",
      "source": [
        "# モデルの評価\n",
        "model.eval()\n",
        "with torch.no_grad():\n",
        "    total = 0\n",
        "    correct = 0\n",
        "    for images, labels in test_loader_cifar100:\n",
        "        images = images.to(device)\n",
        "        labels = labels.to(device)\n",
        "        outputs = model(images)\n",
        "        _, predicted = torch.max(outputs.data, 1)\n",
        "        total += labels.size(0)\n",
        "        correct += (predicted == labels).sum().item()\n",
        "    # 正解率精度の確認\n",
        "    print('Test Accuracy: {} %'.format(100 * correct / total))"
      ],
      "metadata": {
        "colab": {
          "base_uri": "https://localhost:8080/"
        },
        "outputId": "7d302d29-18bc-4925-8398-ef363c11a79a",
        "id": "KuJDV6pfPzR-"
      },
      "execution_count": 12,
      "outputs": [
        {
          "output_type": "stream",
          "name": "stdout",
          "text": [
            "Test Accuracy: 50.96 %\n"
          ]
        }
      ]
    },
    {
      "cell_type": "code",
      "source": [
        "# GPUメモリの解放\n",
        "del model\n",
        "torch.cuda.empty_cache()"
      ],
      "metadata": {
        "id": "s1iPiqmfPzR-"
      },
      "execution_count": 13,
      "outputs": []
    },
    {
      "cell_type": "markdown",
      "source": [
        "### 学習と評価（50 epochs）"
      ],
      "metadata": {
        "id": "X6RrdlPd5Zky"
      }
    },
    {
      "cell_type": "code",
      "source": [
        "# デバイスを設定\n",
        "device = torch.device('cuda' if torch.cuda.is_available() else 'cpu')\n",
        "# モデルを定義\n",
        "model = resnet18_100().to(device)\n",
        "\n",
        "# 学習率を設定\n",
        "learning_rate = 0.001\n",
        "# 全体のepoch数を設定\n",
        "num_epochs = 50\n",
        "# warm-upするepoch数を設定\n",
        "warmup_epochs = 5\n",
        "\n",
        "# 損失関数を定義\n",
        "criterion = nn.CrossEntropyLoss()\n",
        "# オプティマイザーを設定\n",
        "optimizer = optim.Adam(model.parameters(), lr=learning_rate)\n",
        "# スケジューラーを設定\n",
        "scheduler = CosineLRScheduler(optimizer, t_initial=num_epochs, lr_min=1e-4, warmup_t=warmup_epochs, warmup_lr_init=1e-4, warmup_prefix=True)\n",
        "\n",
        "# モデルの学習\n",
        "for epoch in range(num_epochs):\n",
        "    total = 0\n",
        "    correct = 0\n",
        "    for i, (images, labels) in enumerate(train_loader_cifar100):\n",
        "        images = images.to(device)\n",
        "        labels = labels.to(device)\n",
        "        # 順伝播\n",
        "        outputs = model(images)\n",
        "        loss = criterion(outputs, labels)\n",
        "        # 逆伝播\n",
        "        optimizer.zero_grad()\n",
        "        loss.backward()\n",
        "        optimizer.step()\n",
        "        _, predicted = torch.max(outputs.data, 1)\n",
        "        # 全データ数\n",
        "        total += labels.size(0)\n",
        "        # 正解数\n",
        "        correct += (predicted == labels).sum().item()\n",
        "    # 正解率精度を計算\n",
        "    train_acc = 100 * correct / total\n",
        "    # 正解率精度と損失を確認\n",
        "    print(\"Epoch [{}/{}], Train Accuracy: {} %, Loss: {:.4f}\".format(epoch+1, num_epochs, 100 * correct / total, loss.item()))\n",
        "    # 1エポック終了後にスケジューラーを更新\n",
        "    scheduler.step(epoch)\n",
        "    # 学習率の確認\n",
        "    print(\"Epoch [{}/{}], Learning Rate: {}\".format(epoch+1, num_epochs, optimizer.param_groups[0]['lr']))\n",
        "\n",
        "# モデルを保存\n",
        "torch.save(model, '/content/drive/MyDrive/ResNet18_CIFAR100_50epochs_CLRS_restest.pth')"
      ],
      "metadata": {
        "id": "vELsvQdc5Zk-",
        "colab": {
          "base_uri": "https://localhost:8080/"
        },
        "outputId": "614c8651-2482-427e-d866-aade6d0febca"
      },
      "execution_count": 11,
      "outputs": [
        {
          "output_type": "stream",
          "name": "stdout",
          "text": [
            "Epoch [1/50], Train Accuracy: 6.598 %, Loss: 3.9117\n",
            "Epoch [1/50], Learning Rate: 0.0001\n",
            "Epoch [2/50], Train Accuracy: 13.748 %, Loss: 3.5239\n",
            "Epoch [2/50], Learning Rate: 0.00028\n",
            "Epoch [3/50], Train Accuracy: 18.15 %, Loss: 3.3595\n",
            "Epoch [3/50], Learning Rate: 0.00045999999999999996\n",
            "Epoch [4/50], Train Accuracy: 21.928 %, Loss: 2.9469\n",
            "Epoch [4/50], Learning Rate: 0.0006399999999999999\n",
            "Epoch [5/50], Train Accuracy: 25.626 %, Loss: 2.8064\n",
            "Epoch [5/50], Learning Rate: 0.00082\n",
            "Epoch [6/50], Train Accuracy: 28.868 %, Loss: 2.7775\n",
            "Epoch [6/50], Learning Rate: 0.001\n",
            "Epoch [7/50], Train Accuracy: 31.824 %, Loss: 2.3757\n",
            "Epoch [7/50], Learning Rate: 0.0009991120277927223\n",
            "Epoch [8/50], Train Accuracy: 35.408 %, Loss: 2.3344\n",
            "Epoch [8/50], Learning Rate: 0.000996451615591515\n",
            "Epoch [9/50], Train Accuracy: 38.768 %, Loss: 2.2517\n",
            "Epoch [9/50], Learning Rate: 0.00099202926282791\n",
            "Epoch [10/50], Train Accuracy: 41.486 %, Loss: 2.1849\n",
            "Epoch [10/50], Learning Rate: 0.000985862422507884\n",
            "Epoch [11/50], Train Accuracy: 43.476 %, Loss: 2.2043\n",
            "Epoch [11/50], Learning Rate: 0.0009779754323328191\n",
            "Epoch [12/50], Train Accuracy: 45.626 %, Loss: 1.9454\n",
            "Epoch [12/50], Learning Rate: 0.0009683994186497131\n",
            "Epoch [13/50], Train Accuracy: 47.816 %, Loss: 2.0333\n",
            "Epoch [13/50], Learning Rate: 0.0009571721736097088\n",
            "Epoch [14/50], Train Accuracy: 49.434 %, Loss: 1.6712\n",
            "Epoch [14/50], Learning Rate: 0.0009443380060197386\n",
            "Epoch [15/50], Train Accuracy: 51.792 %, Loss: 1.8690\n",
            "Epoch [15/50], Learning Rate: 0.0009299475664759069\n",
            "Epoch [16/50], Train Accuracy: 53.49 %, Loss: 1.6957\n",
            "Epoch [16/50], Learning Rate: 0.0009140576474687263\n",
            "Epoch [17/50], Train Accuracy: 55.276 %, Loss: 1.6851\n",
            "Epoch [17/50], Learning Rate: 0.0008967309592491052\n",
            "Epoch [18/50], Train Accuracy: 57.004 %, Loss: 1.5987\n",
            "Epoch [18/50], Learning Rate: 0.0008780358823396353\n",
            "Epoch [19/50], Train Accuracy: 58.892 %, Loss: 1.6135\n",
            "Epoch [19/50], Learning Rate: 0.0008580461976679099\n",
            "Epoch [20/50], Train Accuracy: 60.894 %, Loss: 1.2997\n",
            "Epoch [20/50], Learning Rate: 0.0008368407953869105\n",
            "Epoch [21/50], Train Accuracy: 62.688 %, Loss: 1.3206\n",
            "Epoch [21/50], Learning Rate: 0.0008145033635316131\n",
            "Epoch [22/50], Train Accuracy: 64.25 %, Loss: 1.1976\n",
            "Epoch [22/50], Learning Rate: 0.0007911220577405485\n",
            "Epoch [23/50], Train Accuracy: 66.296 %, Loss: 1.2086\n",
            "Epoch [23/50], Learning Rate: 0.0007667891533457719\n",
            "Epoch [24/50], Train Accuracy: 68.308 %, Loss: 1.2203\n",
            "Epoch [24/50], Learning Rate: 0.0007416006812042827\n",
            "Epoch [25/50], Train Accuracy: 69.976 %, Loss: 1.0548\n",
            "Epoch [25/50], Learning Rate: 0.0007156560487081052\n",
            "Epoch [26/50], Train Accuracy: 72.154 %, Loss: 0.8809\n",
            "Epoch [26/50], Learning Rate: 0.0006890576474687264\n",
            "Epoch [27/50], Train Accuracy: 74.048 %, Loss: 0.8400\n",
            "Epoch [27/50], Learning Rate: 0.0006619104492241846\n",
            "Epoch [28/50], Train Accuracy: 76.074 %, Loss: 0.7896\n",
            "Epoch [28/50], Learning Rate: 0.0006343215915635762\n",
            "Epoch [29/50], Train Accuracy: 77.996 %, Loss: 0.8204\n",
            "Epoch [29/50], Learning Rate: 0.000606399955103937\n",
            "Epoch [30/50], Train Accuracy: 79.832 %, Loss: 0.6864\n",
            "Epoch [30/50], Learning Rate: 0.0005782557337881911\n",
            "Epoch [31/50], Train Accuracy: 82.132 %, Loss: 0.5467\n",
            "Epoch [31/50], Learning Rate: 0.00055\n",
            "Epoch [32/50], Train Accuracy: 84.122 %, Loss: 0.5215\n",
            "Epoch [32/50], Learning Rate: 0.000521744266211809\n",
            "Epoch [33/50], Train Accuracy: 85.35 %, Loss: 0.4936\n",
            "Epoch [33/50], Learning Rate: 0.0004936000448960632\n",
            "Epoch [34/50], Train Accuracy: 87.884 %, Loss: 0.4413\n",
            "Epoch [34/50], Learning Rate: 0.0004656784084364239\n",
            "Epoch [35/50], Train Accuracy: 88.926 %, Loss: 0.3716\n",
            "Epoch [35/50], Learning Rate: 0.0004380895507758153\n",
            "Epoch [36/50], Train Accuracy: 90.354 %, Loss: 0.3403\n",
            "Epoch [36/50], Learning Rate: 0.0004109423525312738\n",
            "Epoch [37/50], Train Accuracy: 91.798 %, Loss: 0.3302\n",
            "Epoch [37/50], Learning Rate: 0.000384343951291895\n",
            "Epoch [38/50], Train Accuracy: 92.838 %, Loss: 0.3164\n",
            "Epoch [38/50], Learning Rate: 0.0003583993187957173\n",
            "Epoch [39/50], Train Accuracy: 93.87 %, Loss: 0.2484\n",
            "Epoch [39/50], Learning Rate: 0.0003332108466542281\n",
            "Epoch [40/50], Train Accuracy: 94.652 %, Loss: 0.2106\n",
            "Epoch [40/50], Learning Rate: 0.0003088779422594514\n",
            "Epoch [41/50], Train Accuracy: 95.592 %, Loss: 0.1961\n",
            "Epoch [41/50], Learning Rate: 0.00028549663646838715\n",
            "Epoch [42/50], Train Accuracy: 96.142 %, Loss: 0.1778\n",
            "Epoch [42/50], Learning Rate: 0.0002631592046130896\n",
            "Epoch [43/50], Train Accuracy: 96.808 %, Loss: 0.1600\n",
            "Epoch [43/50], Learning Rate: 0.00024195380233209008\n",
            "Epoch [44/50], Train Accuracy: 97.118 %, Loss: 0.1177\n",
            "Epoch [44/50], Learning Rate: 0.0002219641176603649\n",
            "Epoch [45/50], Train Accuracy: 97.552 %, Loss: 0.1153\n",
            "Epoch [45/50], Learning Rate: 0.00020326904075089488\n",
            "Epoch [46/50], Train Accuracy: 97.84 %, Loss: 0.0703\n",
            "Epoch [46/50], Learning Rate: 0.00018594235253127368\n",
            "Epoch [47/50], Train Accuracy: 98.236 %, Loss: 0.0802\n",
            "Epoch [47/50], Learning Rate: 0.00017005243352409332\n",
            "Epoch [48/50], Train Accuracy: 98.432 %, Loss: 0.0704\n",
            "Epoch [48/50], Learning Rate: 0.0001556619939802614\n",
            "Epoch [49/50], Train Accuracy: 98.564 %, Loss: 0.0816\n",
            "Epoch [49/50], Learning Rate: 0.0001428278263902913\n",
            "Epoch [50/50], Train Accuracy: 98.71 %, Loss: 0.0584\n",
            "Epoch [50/50], Learning Rate: 0.0001316005813502869\n"
          ]
        }
      ]
    },
    {
      "cell_type": "code",
      "source": [
        "# モデルの評価\n",
        "model.eval()\n",
        "with torch.no_grad():\n",
        "    total = 0\n",
        "    correct = 0\n",
        "    for images, labels in test_loader_cifar100:\n",
        "        images = images.to(device)\n",
        "        labels = labels.to(device)\n",
        "        outputs = model(images)\n",
        "        _, predicted = torch.max(outputs.data, 1)\n",
        "        total += labels.size(0)\n",
        "        correct += (predicted == labels).sum().item()\n",
        "    # 正解率精度の確認\n",
        "    print('Test Accuracy: {} %'.format(100 * correct / total))"
      ],
      "metadata": {
        "id": "RtGaIvN55Zk_",
        "colab": {
          "base_uri": "https://localhost:8080/"
        },
        "outputId": "1db06d18-4de8-4174-bc43-a16d11138500"
      },
      "execution_count": 12,
      "outputs": [
        {
          "output_type": "stream",
          "name": "stdout",
          "text": [
            "Test Accuracy: 52.46 %\n"
          ]
        }
      ]
    },
    {
      "cell_type": "code",
      "source": [
        "# GPUメモリの解放\n",
        "del model\n",
        "torch.cuda.empty_cache()"
      ],
      "metadata": {
        "id": "kE02RIkS5Zk_"
      },
      "execution_count": 13,
      "outputs": []
    },
    {
      "cell_type": "markdown",
      "source": [
        "### 学習と評価（75 epochs）"
      ],
      "metadata": {
        "id": "3kY34phEF5FI"
      }
    },
    {
      "cell_type": "code",
      "source": [
        "# デバイスを設定\n",
        "device = torch.device('cuda' if torch.cuda.is_available() else 'cpu')\n",
        "# モデルを定義\n",
        "model = resnet18_100().to(device)\n",
        "\n",
        "# 学習率を設定\n",
        "learning_rate = 0.001\n",
        "# 全体のepoch数を設定\n",
        "num_epochs = 75\n",
        "# warm-upするepoch数を設定\n",
        "warmup_epochs = 8\n",
        "\n",
        "# 損失関数を定義\n",
        "criterion = nn.CrossEntropyLoss()\n",
        "# オプティマイザーを設定\n",
        "optimizer = optim.Adam(model.parameters(), lr=learning_rate)\n",
        "# スケジューラーを設定\n",
        "scheduler = CosineLRScheduler(optimizer, t_initial=num_epochs, lr_min=1e-4, warmup_t=warmup_epochs, warmup_lr_init=1e-4, warmup_prefix=True)\n",
        "\n",
        "# モデルの学習\n",
        "for epoch in range(num_epochs):\n",
        "    total = 0\n",
        "    correct = 0\n",
        "    for i, (images, labels) in enumerate(train_loader_cifar100):\n",
        "        images = images.to(device)\n",
        "        labels = labels.to(device)\n",
        "        # 順伝播\n",
        "        outputs = model(images)\n",
        "        loss = criterion(outputs, labels)\n",
        "        # 逆伝播\n",
        "        optimizer.zero_grad()\n",
        "        loss.backward()\n",
        "        optimizer.step()\n",
        "        _, predicted = torch.max(outputs.data, 1)\n",
        "        # 全データ数\n",
        "        total += labels.size(0)\n",
        "        # 正解数\n",
        "        correct += (predicted == labels).sum().item()\n",
        "    # 正解率精度を計算\n",
        "    train_acc = 100 * correct / total\n",
        "    # 正解率精度と損失を確認\n",
        "    print(\"Epoch [{}/{}], Train Accuracy: {} %, Loss: {:.4f}\".format(epoch+1, num_epochs, 100 * correct / total, loss.item()))\n",
        "    # 1エポック終了後にスケジューラーを更新\n",
        "    scheduler.step(epoch)\n",
        "    # 学習率の確認\n",
        "    print(\"Epoch [{}/{}], Learning Rate: {}\".format(epoch+1, num_epochs, optimizer.param_groups[0]['lr']))\n",
        "\n",
        "# モデルを保存\n",
        "torch.save(model, '/content/drive/MyDrive/ResNet18_CIFAR100_75epochs_CLRS_restest.pth')"
      ],
      "metadata": {
        "colab": {
          "base_uri": "https://localhost:8080/"
        },
        "outputId": "f59d5d8c-998d-427d-8098-7c7435400a14",
        "id": "e-oO1GJ9F5FJ"
      },
      "execution_count": 11,
      "outputs": [
        {
          "output_type": "stream",
          "name": "stdout",
          "text": [
            "Epoch [1/75], Train Accuracy: 6.576 %, Loss: 3.9066\n",
            "Epoch [1/75], Learning Rate: 0.0001\n",
            "Epoch [2/75], Train Accuracy: 13.82 %, Loss: 3.5107\n",
            "Epoch [2/75], Learning Rate: 0.00021250000000000002\n",
            "Epoch [3/75], Train Accuracy: 18.254 %, Loss: 3.3762\n",
            "Epoch [3/75], Learning Rate: 0.000325\n",
            "Epoch [4/75], Train Accuracy: 21.746 %, Loss: 2.9389\n",
            "Epoch [4/75], Learning Rate: 0.0004375\n",
            "Epoch [5/75], Train Accuracy: 25.454 %, Loss: 2.8922\n",
            "Epoch [5/75], Learning Rate: 0.00055\n",
            "Epoch [6/75], Train Accuracy: 28.562 %, Loss: 2.7931\n",
            "Epoch [6/75], Learning Rate: 0.0006625\n",
            "Epoch [7/75], Train Accuracy: 31.552 %, Loss: 2.4478\n",
            "Epoch [7/75], Learning Rate: 0.0007750000000000001\n",
            "Epoch [8/75], Train Accuracy: 34.1 %, Loss: 2.4383\n",
            "Epoch [8/75], Learning Rate: 0.0008875\n",
            "Epoch [9/75], Train Accuracy: 36.388 %, Loss: 2.3713\n",
            "Epoch [9/75], Learning Rate: 0.001\n",
            "Epoch [10/75], Train Accuracy: 38.686 %, Loss: 2.2730\n",
            "Epoch [10/75], Learning Rate: 0.0009996052735444863\n",
            "Epoch [11/75], Train Accuracy: 40.96 %, Loss: 2.3116\n",
            "Epoch [11/75], Learning Rate: 0.000998421786662277\n",
            "Epoch [12/75], Train Accuracy: 43.348 %, Loss: 2.0526\n",
            "Epoch [12/75], Learning Rate: 0.000996451615591515\n",
            "Epoch [13/75], Train Accuracy: 45.828 %, Loss: 2.1336\n",
            "Epoch [13/75], Learning Rate: 0.0009936982166817271\n",
            "Epoch [14/75], Train Accuracy: 47.626 %, Loss: 1.7365\n",
            "Epoch [14/75], Learning Rate: 0.0009901664203302125\n",
            "Epoch [15/75], Train Accuracy: 49.988 %, Loss: 2.0279\n",
            "Epoch [15/75], Learning Rate: 0.000985862422507884\n",
            "Epoch [16/75], Train Accuracy: 52.136 %, Loss: 1.7712\n",
            "Epoch [16/75], Learning Rate: 0.0009807937738894302\n",
            "Epoch [17/75], Train Accuracy: 53.328 %, Loss: 1.7242\n",
            "Epoch [17/75], Learning Rate: 0.0009749693666068666\n",
            "Epoch [18/75], Train Accuracy: 54.682 %, Loss: 1.7262\n",
            "Epoch [18/75], Learning Rate: 0.0009683994186497131\n",
            "Epoch [19/75], Train Accuracy: 56.988 %, Loss: 1.7655\n",
            "Epoch [19/75], Learning Rate: 0.0009610954559391703\n",
            "Epoch [20/75], Train Accuracy: 58.318 %, Loss: 1.4405\n",
            "Epoch [20/75], Learning Rate: 0.0009530702921077359\n",
            "Epoch [21/75], Train Accuracy: 60.468 %, Loss: 1.4195\n",
            "Epoch [21/75], Learning Rate: 0.0009443380060197386\n",
            "Epoch [22/75], Train Accuracy: 62.082 %, Loss: 1.3599\n",
            "Epoch [22/75], Learning Rate: 0.000934913917072228\n",
            "Epoch [23/75], Train Accuracy: 63.534 %, Loss: 1.3297\n",
            "Epoch [23/75], Learning Rate: 0.0009248145583195447\n",
            "Epoch [24/75], Train Accuracy: 65.168 %, Loss: 1.3112\n",
            "Epoch [24/75], Learning Rate: 0.0009140576474687263\n",
            "Epoch [25/75], Train Accuracy: 66.92 %, Loss: 1.3052\n",
            "Epoch [25/75], Learning Rate: 0.000902662055796628\n",
            "Epoch [26/75], Train Accuracy: 68.676 %, Loss: 1.0527\n",
            "Epoch [26/75], Learning Rate: 0.0008906477750432905\n",
            "Epoch [27/75], Train Accuracy: 70.36 %, Loss: 1.0492\n",
            "Epoch [27/75], Learning Rate: 0.0008780358823396353\n",
            "Epoch [28/75], Train Accuracy: 71.84 %, Loss: 0.9446\n",
            "Epoch [28/75], Learning Rate: 0.0008648485032310146\n",
            "Epoch [29/75], Train Accuracy: 73.992 %, Loss: 1.0351\n",
            "Epoch [29/75], Learning Rate: 0.0008511087728614862\n",
            "Epoch [30/75], Train Accuracy: 75.454 %, Loss: 0.8473\n",
            "Epoch [30/75], Learning Rate: 0.0008368407953869105\n",
            "Epoch [31/75], Train Accuracy: 77.444 %, Loss: 0.7145\n",
            "Epoch [31/75], Learning Rate: 0.0008220696016880688\n",
            "Epoch [32/75], Train Accuracy: 79.028 %, Loss: 0.7357\n",
            "Epoch [32/75], Learning Rate: 0.0008068211054579944\n",
            "Epoch [33/75], Train Accuracy: 80.458 %, Loss: 0.5947\n",
            "Epoch [33/75], Learning Rate: 0.0007911220577405485\n",
            "Epoch [34/75], Train Accuracy: 82.264 %, Loss: 0.5644\n",
            "Epoch [34/75], Learning Rate: 0.0007750000000000001\n",
            "Epoch [35/75], Train Accuracy: 83.914 %, Loss: 0.5642\n",
            "Epoch [35/75], Learning Rate: 0.0007584832158039379\n",
            "Epoch [36/75], Train Accuracy: 85.254 %, Loss: 0.5693\n",
            "Epoch [36/75], Learning Rate: 0.0007416006812042827\n",
            "Epoch [37/75], Train Accuracy: 86.264 %, Loss: 0.5514\n",
            "Epoch [37/75], Learning Rate: 0.0007243820139034463\n",
            "Epoch [38/75], Train Accuracy: 87.988 %, Loss: 0.4872\n",
            "Epoch [38/75], Learning Rate: 0.0007068574212948169\n",
            "Epoch [39/75], Train Accuracy: 89.0 %, Loss: 0.3593\n",
            "Epoch [39/75], Learning Rate: 0.0006890576474687264\n",
            "Epoch [40/75], Train Accuracy: 90.236 %, Loss: 0.3327\n",
            "Epoch [40/75], Learning Rate: 0.0006710139192768696\n",
            "Epoch [41/75], Train Accuracy: 91.124 %, Loss: 0.3606\n",
            "Epoch [41/75], Learning Rate: 0.0006527578915497952\n",
            "Epoch [42/75], Train Accuracy: 91.702 %, Loss: 0.3460\n",
            "Epoch [42/75], Learning Rate: 0.0006343215915635762\n",
            "Epoch [43/75], Train Accuracy: 92.758 %, Loss: 0.3005\n",
            "Epoch [43/75], Learning Rate: 0.0006157373628530854\n",
            "Epoch [44/75], Train Accuracy: 93.488 %, Loss: 0.2613\n",
            "Epoch [44/75], Learning Rate: 0.0005970378084704443\n",
            "Epoch [45/75], Train Accuracy: 93.712 %, Loss: 0.2061\n",
            "Epoch [45/75], Learning Rate: 0.0005782557337881911\n",
            "Epoch [46/75], Train Accuracy: 94.63 %, Loss: 0.1577\n",
            "Epoch [46/75], Learning Rate: 0.0005594240889475107\n",
            "Epoch [47/75], Train Accuracy: 95.276 %, Loss: 0.1522\n",
            "Epoch [47/75], Learning Rate: 0.0005405759110524895\n",
            "Epoch [48/75], Train Accuracy: 95.382 %, Loss: 0.1506\n",
            "Epoch [48/75], Learning Rate: 0.0005217442662118091\n",
            "Epoch [49/75], Train Accuracy: 96.184 %, Loss: 0.1375\n",
            "Epoch [49/75], Learning Rate: 0.000502962191529556\n",
            "Epoch [50/75], Train Accuracy: 96.596 %, Loss: 0.1371\n",
            "Epoch [50/75], Learning Rate: 0.0004842626371469149\n",
            "Epoch [51/75], Train Accuracy: 96.868 %, Loss: 0.1005\n",
            "Epoch [51/75], Learning Rate: 0.0004656784084364239\n",
            "Epoch [52/75], Train Accuracy: 97.316 %, Loss: 0.1079\n",
            "Epoch [52/75], Learning Rate: 0.00044724210845020496\n",
            "Epoch [53/75], Train Accuracy: 97.57 %, Loss: 0.0857\n",
            "Epoch [53/75], Learning Rate: 0.00042898608072313056\n",
            "Epoch [54/75], Train Accuracy: 97.712 %, Loss: 0.0789\n",
            "Epoch [54/75], Learning Rate: 0.0004109423525312737\n",
            "Epoch [55/75], Train Accuracy: 97.766 %, Loss: 0.0798\n",
            "Epoch [55/75], Learning Rate: 0.00039314257870518325\n",
            "Epoch [56/75], Train Accuracy: 98.192 %, Loss: 0.0873\n",
            "Epoch [56/75], Learning Rate: 0.00037561798609655366\n",
            "Epoch [57/75], Train Accuracy: 98.26 %, Loss: 0.0965\n",
            "Epoch [57/75], Learning Rate: 0.0003583993187957173\n",
            "Epoch [58/75], Train Accuracy: 98.48 %, Loss: 0.0782\n",
            "Epoch [58/75], Learning Rate: 0.0003415167841960623\n",
            "Epoch [59/75], Train Accuracy: 98.63 %, Loss: 0.0422\n",
            "Epoch [59/75], Learning Rate: 0.0003249999999999999\n",
            "Epoch [60/75], Train Accuracy: 98.764 %, Loss: 0.0494\n",
            "Epoch [60/75], Learning Rate: 0.0003088779422594516\n",
            "Epoch [61/75], Train Accuracy: 98.866 %, Loss: 0.0284\n",
            "Epoch [61/75], Learning Rate: 0.0002931788945420058\n",
            "Epoch [62/75], Train Accuracy: 99.016 %, Loss: 0.0408\n",
            "Epoch [62/75], Learning Rate: 0.0002779303983119313\n",
            "Epoch [63/75], Train Accuracy: 99.134 %, Loss: 0.0344\n",
            "Epoch [63/75], Learning Rate: 0.0002631592046130896\n",
            "Epoch [64/75], Train Accuracy: 99.176 %, Loss: 0.0531\n",
            "Epoch [64/75], Learning Rate: 0.0002488912271385138\n",
            "Epoch [65/75], Train Accuracy: 99.19 %, Loss: 0.0333\n",
            "Epoch [65/75], Learning Rate: 0.0002351514967689855\n",
            "Epoch [66/75], Train Accuracy: 99.422 %, Loss: 0.0314\n",
            "Epoch [66/75], Learning Rate: 0.0002219641176603649\n",
            "Epoch [67/75], Train Accuracy: 99.408 %, Loss: 0.0341\n",
            "Epoch [67/75], Learning Rate: 0.00020935222495670967\n",
            "Epoch [68/75], Train Accuracy: 99.462 %, Loss: 0.0202\n",
            "Epoch [68/75], Learning Rate: 0.00019733794420337213\n",
            "Epoch [69/75], Train Accuracy: 99.54 %, Loss: 0.0234\n",
            "Epoch [69/75], Learning Rate: 0.00018594235253127368\n",
            "Epoch [70/75], Train Accuracy: 99.598 %, Loss: 0.0219\n",
            "Epoch [70/75], Learning Rate: 0.00017518544168045524\n",
            "Epoch [71/75], Train Accuracy: 99.604 %, Loss: 0.0250\n",
            "Epoch [71/75], Learning Rate: 0.00016508608292777201\n",
            "Epoch [72/75], Train Accuracy: 99.65 %, Loss: 0.0243\n",
            "Epoch [72/75], Learning Rate: 0.0001556619939802614\n",
            "Epoch [73/75], Train Accuracy: 99.672 %, Loss: 0.0256\n",
            "Epoch [73/75], Learning Rate: 0.0001469297078922643\n",
            "Epoch [74/75], Train Accuracy: 99.69 %, Loss: 0.0212\n",
            "Epoch [74/75], Learning Rate: 0.00013890454406082967\n",
            "Epoch [75/75], Train Accuracy: 99.754 %, Loss: 0.0057\n",
            "Epoch [75/75], Learning Rate: 0.0001316005813502869\n"
          ]
        }
      ]
    },
    {
      "cell_type": "code",
      "source": [
        "# モデルの評価\n",
        "model.eval()\n",
        "with torch.no_grad():\n",
        "    total = 0\n",
        "    correct = 0\n",
        "    for images, labels in test_loader_cifar100:\n",
        "        images = images.to(device)\n",
        "        labels = labels.to(device)\n",
        "        outputs = model(images)\n",
        "        _, predicted = torch.max(outputs.data, 1)\n",
        "        total += labels.size(0)\n",
        "        correct += (predicted == labels).sum().item()\n",
        "    # 正解率精度の確認\n",
        "    print('Test Accuracy: {} %'.format(100 * correct / total))"
      ],
      "metadata": {
        "colab": {
          "base_uri": "https://localhost:8080/"
        },
        "id": "0-fuKSmqF5FK",
        "outputId": "2696a0b5-57ea-402b-c990-92beed89ffd3"
      },
      "execution_count": 12,
      "outputs": [
        {
          "output_type": "stream",
          "name": "stdout",
          "text": [
            "Test Accuracy: 52.1 %\n"
          ]
        }
      ]
    },
    {
      "cell_type": "code",
      "source": [
        "# GPUメモリの解放\n",
        "del model\n",
        "torch.cuda.empty_cache()"
      ],
      "metadata": {
        "id": "dECOqykWF5FK"
      },
      "execution_count": 13,
      "outputs": []
    },
    {
      "cell_type": "markdown",
      "source": [
        "### 学習と評価（100 epochs）"
      ],
      "metadata": {
        "id": "pJyew3dez2Wc"
      }
    },
    {
      "cell_type": "code",
      "source": [
        "# デバイスを設定\n",
        "device = torch.device('cuda' if torch.cuda.is_available() else 'cpu')\n",
        "# モデルを定義\n",
        "model = resnet18_100().to(device)\n",
        "\n",
        "# 学習率を設定\n",
        "learning_rate = 0.001\n",
        "# 全体のepoch数を設定\n",
        "num_epochs = 100\n",
        "# warm-upするepoch数を設定\n",
        "warmup_epochs = 10\n",
        "\n",
        "# 損失関数を定義\n",
        "criterion = nn.CrossEntropyLoss()\n",
        "# オプティマイザーを設定\n",
        "optimizer = optim.Adam(model.parameters(), lr=learning_rate)\n",
        "# スケジューラーを設定\n",
        "scheduler = CosineLRScheduler(optimizer, t_initial=num_epochs, lr_min=1e-4, warmup_t=warmup_epochs, warmup_lr_init=1e-4, warmup_prefix=True)\n",
        "\n",
        "# モデルの学習\n",
        "for epoch in range(num_epochs):\n",
        "    total = 0\n",
        "    correct = 0\n",
        "    for i, (images, labels) in enumerate(train_loader_cifar100):\n",
        "        images = images.to(device)\n",
        "        labels = labels.to(device)\n",
        "        # 順伝播\n",
        "        outputs = model(images)\n",
        "        loss = criterion(outputs, labels)\n",
        "        # 逆伝播\n",
        "        optimizer.zero_grad()\n",
        "        loss.backward()\n",
        "        optimizer.step()\n",
        "        _, predicted = torch.max(outputs.data, 1)\n",
        "        # 全データ数\n",
        "        total += labels.size(0)\n",
        "        # 正解数\n",
        "        correct += (predicted == labels).sum().item()\n",
        "    # 正解率精度を計算\n",
        "    train_acc = 100 * correct / total\n",
        "    # 正解率精度と損失を確認\n",
        "    print(\"Epoch [{}/{}], Train Accuracy: {} %, Loss: {:.4f}\".format(epoch+1, num_epochs, 100 * correct / total, loss.item()))\n",
        "    # 1エポック終了後にスケジューラーを更新\n",
        "    scheduler.step(epoch)\n",
        "    # 学習率の確認\n",
        "    print(\"Epoch [{}/{}], Learning Rate: {}\".format(epoch+1, num_epochs, optimizer.param_groups[0]['lr']))\n",
        "\n",
        "# モデルを保存\n",
        "torch.save(model, '/content/drive/MyDrive/ResNet18_CIFAR100_100epochs_CLRS_restest.pth')"
      ],
      "metadata": {
        "id": "lkPQYc-Uz2Wc",
        "colab": {
          "base_uri": "https://localhost:8080/"
        },
        "outputId": "d023f39d-206d-4524-b633-f3bf1e9cbdfd"
      },
      "execution_count": 17,
      "outputs": [
        {
          "output_type": "stream",
          "name": "stdout",
          "text": [
            "Epoch [1/100], Train Accuracy: 6.842 %, Loss: 3.8339\n",
            "Epoch [1/100], Learning Rate: 0.0001\n",
            "Epoch [2/100], Train Accuracy: 14.098 %, Loss: 3.6539\n",
            "Epoch [2/100], Learning Rate: 0.00019\n",
            "Epoch [3/100], Train Accuracy: 18.166 %, Loss: 3.4643\n",
            "Epoch [3/100], Learning Rate: 0.00028\n",
            "Epoch [4/100], Train Accuracy: 22.34 %, Loss: 3.2037\n",
            "Epoch [4/100], Learning Rate: 0.00036999999999999994\n",
            "Epoch [5/100], Train Accuracy: 26.14 %, Loss: 2.8888\n",
            "Epoch [5/100], Learning Rate: 0.00045999999999999996\n",
            "Epoch [6/100], Train Accuracy: 28.93 %, Loss: 2.7962\n",
            "Epoch [6/100], Learning Rate: 0.00055\n",
            "Epoch [7/100], Train Accuracy: 31.456 %, Loss: 2.7560\n",
            "Epoch [7/100], Learning Rate: 0.0006399999999999999\n",
            "Epoch [8/100], Train Accuracy: 34.248 %, Loss: 2.4639\n",
            "Epoch [8/100], Learning Rate: 0.00073\n",
            "Epoch [9/100], Train Accuracy: 36.524 %, Loss: 2.3882\n",
            "Epoch [9/100], Learning Rate: 0.00082\n",
            "Epoch [10/100], Train Accuracy: 38.864 %, Loss: 2.3748\n",
            "Epoch [10/100], Learning Rate: 0.00091\n",
            "Epoch [11/100], Train Accuracy: 40.226 %, Loss: 2.4386\n",
            "Epoch [11/100], Learning Rate: 0.001\n",
            "Epoch [12/100], Train Accuracy: 42.094 %, Loss: 2.1198\n",
            "Epoch [12/100], Learning Rate: 0.0009997779521645793\n",
            "Epoch [13/100], Train Accuracy: 44.23 %, Loss: 2.1862\n",
            "Epoch [13/100], Learning Rate: 0.0009991120277927223\n",
            "Epoch [14/100], Train Accuracy: 46.746 %, Loss: 2.0480\n",
            "Epoch [14/100], Learning Rate: 0.000998002884071386\n",
            "Epoch [15/100], Train Accuracy: 49.026 %, Loss: 1.9400\n",
            "Epoch [15/100], Learning Rate: 0.000996451615591515\n",
            "Epoch [16/100], Train Accuracy: 50.498 %, Loss: 1.9159\n",
            "Epoch [16/100], Learning Rate: 0.000994459753267812\n",
            "Epoch [17/100], Train Accuracy: 52.12 %, Loss: 1.9005\n",
            "Epoch [17/100], Learning Rate: 0.00099202926282791\n",
            "Epoch [18/100], Train Accuracy: 53.948 %, Loss: 1.6059\n",
            "Epoch [18/100], Learning Rate: 0.0009891625428724363\n",
            "Epoch [19/100], Train Accuracy: 55.678 %, Loss: 1.7270\n",
            "Epoch [19/100], Learning Rate: 0.000985862422507884\n",
            "Epoch [20/100], Train Accuracy: 57.504 %, Loss: 1.5328\n",
            "Epoch [20/100], Learning Rate: 0.0009821321585546244\n",
            "Epoch [21/100], Train Accuracy: 58.634 %, Loss: 1.6456\n",
            "Epoch [21/100], Learning Rate: 0.0009779754323328191\n",
            "Epoch [22/100], Train Accuracy: 60.492 %, Loss: 1.5266\n",
            "Epoch [22/100], Learning Rate: 0.0009733963460294015\n",
            "Epoch [23/100], Train Accuracy: 62.362 %, Loss: 1.5769\n",
            "Epoch [23/100], Learning Rate: 0.0009683994186497131\n",
            "Epoch [24/100], Train Accuracy: 63.722 %, Loss: 1.3102\n",
            "Epoch [24/100], Learning Rate: 0.0009629895815577914\n",
            "Epoch [25/100], Train Accuracy: 65.69 %, Loss: 1.1953\n",
            "Epoch [25/100], Learning Rate: 0.0009571721736097088\n",
            "Epoch [26/100], Train Accuracy: 66.798 %, Loss: 1.1294\n",
            "Epoch [26/100], Learning Rate: 0.0009509529358847655\n",
            "Epoch [27/100], Train Accuracy: 68.33 %, Loss: 1.1166\n",
            "Epoch [27/100], Learning Rate: 0.0009443380060197386\n",
            "Epoch [28/100], Train Accuracy: 70.574 %, Loss: 0.9911\n",
            "Epoch [28/100], Learning Rate: 0.0009373339121517746\n",
            "Epoch [29/100], Train Accuracy: 71.814 %, Loss: 1.1152\n",
            "Epoch [29/100], Learning Rate: 0.0009299475664759069\n",
            "Epoch [30/100], Train Accuracy: 73.26 %, Loss: 0.9027\n",
            "Epoch [30/100], Learning Rate: 0.0009221862584235528\n",
            "Epoch [31/100], Train Accuracy: 74.822 %, Loss: 0.8081\n",
            "Epoch [31/100], Learning Rate: 0.0009140576474687263\n",
            "Epoch [32/100], Train Accuracy: 76.528 %, Loss: 0.7624\n",
            "Epoch [32/100], Learning Rate: 0.0009055697555690606\n",
            "Epoch [33/100], Train Accuracy: 78.108 %, Loss: 0.8341\n",
            "Epoch [33/100], Learning Rate: 0.0008967309592491052\n",
            "Epoch [34/100], Train Accuracy: 79.624 %, Loss: 0.7299\n",
            "Epoch [34/100], Learning Rate: 0.0008875499813337069\n",
            "Epoch [35/100], Train Accuracy: 81.078 %, Loss: 0.6962\n",
            "Epoch [35/100], Learning Rate: 0.0008780358823396353\n",
            "Epoch [36/100], Train Accuracy: 82.416 %, Loss: 0.6705\n",
            "Epoch [36/100], Learning Rate: 0.0008681980515339464\n",
            "Epoch [37/100], Train Accuracy: 83.526 %, Loss: 0.5964\n",
            "Epoch [37/100], Learning Rate: 0.0008580461976679099\n",
            "Epoch [38/100], Train Accuracy: 84.862 %, Loss: 0.5783\n",
            "Epoch [38/100], Learning Rate: 0.0008475903393956434\n",
            "Epoch [39/100], Train Accuracy: 85.892 %, Loss: 0.4199\n",
            "Epoch [39/100], Learning Rate: 0.0008368407953869105\n",
            "Epoch [40/100], Train Accuracy: 87.184 %, Loss: 0.5425\n",
            "Epoch [40/100], Learning Rate: 0.0008258081741438395\n",
            "Epoch [41/100], Train Accuracy: 87.978 %, Loss: 0.4339\n",
            "Epoch [41/100], Learning Rate: 0.0008145033635316131\n",
            "Epoch [42/100], Train Accuracy: 88.788 %, Loss: 0.3349\n",
            "Epoch [42/100], Learning Rate: 0.0008029375200334589\n",
            "Epoch [43/100], Train Accuracy: 90.122 %, Loss: 0.3136\n",
            "Epoch [43/100], Learning Rate: 0.0007911220577405485\n",
            "Epoch [44/100], Train Accuracy: 90.878 %, Loss: 0.4345\n",
            "Epoch [44/100], Learning Rate: 0.0007790686370876671\n",
            "Epoch [45/100], Train Accuracy: 91.682 %, Loss: 0.3654\n",
            "Epoch [45/100], Learning Rate: 0.0007667891533457719\n",
            "Epoch [46/100], Train Accuracy: 92.132 %, Loss: 0.2562\n",
            "Epoch [46/100], Learning Rate: 0.000754295724882796\n",
            "Epoch [47/100], Train Accuracy: 92.996 %, Loss: 0.2011\n",
            "Epoch [47/100], Learning Rate: 0.0007416006812042827\n",
            "Epoch [48/100], Train Accuracy: 93.548 %, Loss: 0.2520\n",
            "Epoch [48/100], Learning Rate: 0.0007287165507856513\n",
            "Epoch [49/100], Train Accuracy: 93.938 %, Loss: 0.2034\n",
            "Epoch [49/100], Learning Rate: 0.0007156560487081052\n",
            "Epoch [50/100], Train Accuracy: 94.176 %, Loss: 0.1769\n",
            "Epoch [50/100], Learning Rate: 0.0007024320641103813\n",
            "Epoch [51/100], Train Accuracy: 94.466 %, Loss: 0.1637\n",
            "Epoch [51/100], Learning Rate: 0.0006890576474687264\n",
            "Epoch [52/100], Train Accuracy: 94.69 %, Loss: 0.2550\n",
            "Epoch [52/100], Learning Rate: 0.0006755459977176532\n",
            "Epoch [53/100], Train Accuracy: 95.182 %, Loss: 0.1667\n",
            "Epoch [53/100], Learning Rate: 0.0006619104492241846\n",
            "Epoch [54/100], Train Accuracy: 95.664 %, Loss: 0.1659\n",
            "Epoch [54/100], Learning Rate: 0.0006481644586284443\n",
            "Epoch [55/100], Train Accuracy: 95.808 %, Loss: 0.1416\n",
            "Epoch [55/100], Learning Rate: 0.0006343215915635762\n",
            "Epoch [56/100], Train Accuracy: 96.044 %, Loss: 0.1128\n",
            "Epoch [56/100], Learning Rate: 0.000620395509268104\n",
            "Epoch [57/100], Train Accuracy: 96.416 %, Loss: 0.0932\n",
            "Epoch [57/100], Learning Rate: 0.000606399955103937\n",
            "Epoch [58/100], Train Accuracy: 96.676 %, Loss: 0.1280\n",
            "Epoch [58/100], Learning Rate: 0.0005923487409933315\n",
            "Epoch [59/100], Train Accuracy: 96.692 %, Loss: 0.0935\n",
            "Epoch [59/100], Learning Rate: 0.0005782557337881911\n",
            "Epoch [60/100], Train Accuracy: 96.976 %, Loss: 0.0734\n",
            "Epoch [60/100], Learning Rate: 0.0005641348415851578\n",
            "Epoch [61/100], Train Accuracy: 97.182 %, Loss: 0.0875\n",
            "Epoch [61/100], Learning Rate: 0.00055\n",
            "Epoch [62/100], Train Accuracy: 97.598 %, Loss: 0.0990\n",
            "Epoch [62/100], Learning Rate: 0.0005358651584148423\n",
            "Epoch [63/100], Train Accuracy: 97.87 %, Loss: 0.0770\n",
            "Epoch [63/100], Learning Rate: 0.000521744266211809\n",
            "Epoch [64/100], Train Accuracy: 97.65 %, Loss: 0.0763\n",
            "Epoch [64/100], Learning Rate: 0.0005076512590066686\n",
            "Epoch [65/100], Train Accuracy: 98.02 %, Loss: 0.0912\n",
            "Epoch [65/100], Learning Rate: 0.0004936000448960632\n",
            "Epoch [66/100], Train Accuracy: 98.106 %, Loss: 0.0836\n",
            "Epoch [66/100], Learning Rate: 0.0004796044907318961\n",
            "Epoch [67/100], Train Accuracy: 98.082 %, Loss: 0.0673\n",
            "Epoch [67/100], Learning Rate: 0.0004656784084364239\n",
            "Epoch [68/100], Train Accuracy: 98.436 %, Loss: 0.0639\n",
            "Epoch [68/100], Learning Rate: 0.00045183554137155597\n",
            "Epoch [69/100], Train Accuracy: 98.456 %, Loss: 0.0767\n",
            "Epoch [69/100], Learning Rate: 0.0004380895507758153\n",
            "Epoch [70/100], Train Accuracy: 98.394 %, Loss: 0.0734\n",
            "Epoch [70/100], Learning Rate: 0.00042445400228234684\n",
            "Epoch [71/100], Train Accuracy: 98.508 %, Loss: 0.0580\n",
            "Epoch [71/100], Learning Rate: 0.0004109423525312738\n",
            "Epoch [72/100], Train Accuracy: 98.784 %, Loss: 0.0462\n",
            "Epoch [72/100], Learning Rate: 0.0003975679358896189\n",
            "Epoch [73/100], Train Accuracy: 98.926 %, Loss: 0.0719\n",
            "Epoch [73/100], Learning Rate: 0.000384343951291895\n",
            "Epoch [74/100], Train Accuracy: 98.954 %, Loss: 0.0233\n",
            "Epoch [74/100], Learning Rate: 0.00037128344921434864\n",
            "Epoch [75/100], Train Accuracy: 99.162 %, Loss: 0.0221\n",
            "Epoch [75/100], Learning Rate: 0.0003583993187957173\n",
            "Epoch [76/100], Train Accuracy: 99.168 %, Loss: 0.0346\n",
            "Epoch [76/100], Learning Rate: 0.00034570427511720393\n",
            "Epoch [77/100], Train Accuracy: 99.238 %, Loss: 0.0144\n",
            "Epoch [77/100], Learning Rate: 0.0003332108466542281\n",
            "Epoch [78/100], Train Accuracy: 99.358 %, Loss: 0.0329\n",
            "Epoch [78/100], Learning Rate: 0.0003209313629123329\n",
            "Epoch [79/100], Train Accuracy: 99.322 %, Loss: 0.0225\n",
            "Epoch [79/100], Learning Rate: 0.0003088779422594514\n",
            "Epoch [80/100], Train Accuracy: 99.326 %, Loss: 0.0299\n",
            "Epoch [80/100], Learning Rate: 0.0002970624799665412\n",
            "Epoch [81/100], Train Accuracy: 99.404 %, Loss: 0.0306\n",
            "Epoch [81/100], Learning Rate: 0.00028549663646838715\n",
            "Epoch [82/100], Train Accuracy: 99.418 %, Loss: 0.0254\n",
            "Epoch [82/100], Learning Rate: 0.00027419182585616055\n",
            "Epoch [83/100], Train Accuracy: 99.436 %, Loss: 0.0304\n",
            "Epoch [83/100], Learning Rate: 0.0002631592046130896\n",
            "Epoch [84/100], Train Accuracy: 99.562 %, Loss: 0.0133\n",
            "Epoch [84/100], Learning Rate: 0.00025240966060435674\n",
            "Epoch [85/100], Train Accuracy: 99.622 %, Loss: 0.0228\n",
            "Epoch [85/100], Learning Rate: 0.00024195380233209008\n",
            "Epoch [86/100], Train Accuracy: 99.628 %, Loss: 0.0186\n",
            "Epoch [86/100], Learning Rate: 0.00023180194846605365\n",
            "Epoch [87/100], Train Accuracy: 99.65 %, Loss: 0.0066\n",
            "Epoch [87/100], Learning Rate: 0.0002219641176603649\n",
            "Epoch [88/100], Train Accuracy: 99.642 %, Loss: 0.0198\n",
            "Epoch [88/100], Learning Rate: 0.0002124500186662932\n",
            "Epoch [89/100], Train Accuracy: 99.668 %, Loss: 0.0140\n",
            "Epoch [89/100], Learning Rate: 0.00020326904075089488\n",
            "Epoch [90/100], Train Accuracy: 99.708 %, Loss: 0.0196\n",
            "Epoch [90/100], Learning Rate: 0.00019443024443093932\n",
            "Epoch [91/100], Train Accuracy: 99.746 %, Loss: 0.0110\n",
            "Epoch [91/100], Learning Rate: 0.00018594235253127368\n",
            "Epoch [92/100], Train Accuracy: 99.746 %, Loss: 0.0087\n",
            "Epoch [92/100], Learning Rate: 0.00017781374157644722\n",
            "Epoch [93/100], Train Accuracy: 99.746 %, Loss: 0.0137\n",
            "Epoch [93/100], Learning Rate: 0.00017005243352409332\n",
            "Epoch [94/100], Train Accuracy: 99.744 %, Loss: 0.0041\n",
            "Epoch [94/100], Learning Rate: 0.0001626660878482253\n",
            "Epoch [95/100], Train Accuracy: 99.786 %, Loss: 0.0097\n",
            "Epoch [95/100], Learning Rate: 0.0001556619939802614\n",
            "Epoch [96/100], Train Accuracy: 99.78 %, Loss: 0.0365\n",
            "Epoch [96/100], Learning Rate: 0.0001490470641152345\n",
            "Epoch [97/100], Train Accuracy: 99.814 %, Loss: 0.0139\n",
            "Epoch [97/100], Learning Rate: 0.0001428278263902913\n",
            "Epoch [98/100], Train Accuracy: 99.82 %, Loss: 0.0128\n",
            "Epoch [98/100], Learning Rate: 0.00013701041844220858\n",
            "Epoch [99/100], Train Accuracy: 99.848 %, Loss: 0.0095\n",
            "Epoch [99/100], Learning Rate: 0.0001316005813502869\n",
            "Epoch [100/100], Train Accuracy: 99.836 %, Loss: 0.0084\n",
            "Epoch [100/100], Learning Rate: 0.00012660365397059855\n"
          ]
        }
      ]
    },
    {
      "cell_type": "code",
      "source": [
        "# モデルの評価\n",
        "model.eval()\n",
        "with torch.no_grad():\n",
        "    total = 0\n",
        "    correct = 0\n",
        "    for images, labels in test_loader_cifar100:\n",
        "        images = images.to(device)\n",
        "        labels = labels.to(device)\n",
        "        outputs = model(images)\n",
        "        _, predicted = torch.max(outputs.data, 1)\n",
        "        total += labels.size(0)\n",
        "        correct += (predicted == labels).sum().item()\n",
        "    # 正解率精度の確認\n",
        "    print('Test Accuracy: {} %'.format(100 * correct / total))"
      ],
      "metadata": {
        "id": "1-yK4fD1z2Wd",
        "colab": {
          "base_uri": "https://localhost:8080/"
        },
        "outputId": "89610c04-bf5f-4830-cc70-deea68452712"
      },
      "execution_count": 18,
      "outputs": [
        {
          "output_type": "stream",
          "name": "stdout",
          "text": [
            "Test Accuracy: 51.85 %\n"
          ]
        }
      ]
    },
    {
      "cell_type": "code",
      "source": [
        "# GPUメモリの解放\n",
        "del model\n",
        "torch.cuda.empty_cache()"
      ],
      "metadata": {
        "id": "J-woiaozz2Wd"
      },
      "execution_count": 19,
      "outputs": []
    }
  ]
}
