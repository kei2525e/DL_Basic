{
  "nbformat": 4,
  "nbformat_minor": 0,
  "metadata": {
    "colab": {
      "provenance": [],
      "machine_shape": "hm",
      "gpuType": "A100"
    },
    "kernelspec": {
      "name": "python3",
      "display_name": "Python 3"
    },
    "language_info": {
      "name": "python"
    },
    "accelerator": "GPU"
  },
  "cells": [
    {
      "cell_type": "markdown",
      "source": [
        "### ドライブのマウント"
      ],
      "metadata": {
        "id": "m-QbZLFlyjCA"
      }
    },
    {
      "cell_type": "code",
      "execution_count": 1,
      "metadata": {
        "id": "9g8jY7G9ahIa",
        "colab": {
          "base_uri": "https://localhost:8080/"
        },
        "outputId": "faaed8a3-c020-4738-c526-5cfcf9b43ba7"
      },
      "outputs": [
        {
          "output_type": "stream",
          "name": "stdout",
          "text": [
            "Mounted at /content/drive\n"
          ]
        }
      ],
      "source": [
        "# Googleドライブをマウント\n",
        "from google.colab import drive\n",
        "drive.mount('/content/drive')"
      ]
    },
    {
      "cell_type": "markdown",
      "source": [
        "### ライブラリ・モジュールのインポート"
      ],
      "metadata": {
        "id": "cdzvZUWNzQAY"
      }
    },
    {
      "cell_type": "code",
      "source": [
        "# ライブラリの準備\n",
        "!pip install timm\n",
        "import torch\n",
        "import torch.nn as nn\n",
        "import torchvision\n",
        "import torchvision.transforms as transforms\n",
        "import torchvision.datasets as datasets\n",
        "import torch.nn.functional as F\n",
        "import torch.optim as optim\n",
        "import torch.optim.lr_scheduler as lr_scheduler\n",
        "from timm.scheduler import CosineLRScheduler\n",
        "import numpy as np\n",
        "import pandas as pd\n",
        "import matplotlib.pyplot as plt\n",
        "import math\n",
        "import random\n",
        "import pickle"
      ],
      "metadata": {
        "id": "l8wfSjPuboGS",
        "colab": {
          "base_uri": "https://localhost:8080/"
        },
        "outputId": "90d8f4b9-f1dc-47af-c55e-7f2ca0500b6b"
      },
      "execution_count": 2,
      "outputs": [
        {
          "output_type": "stream",
          "name": "stdout",
          "text": [
            "Collecting timm\n",
            "  Downloading timm-0.9.2-py3-none-any.whl (2.2 MB)\n",
            "\u001b[2K     \u001b[90m━━━━━━━━━━━━━━━━━━━━━━━━━━━━━━━━━━━━━━━━\u001b[0m \u001b[32m2.2/2.2 MB\u001b[0m \u001b[31m18.6 MB/s\u001b[0m eta \u001b[36m0:00:00\u001b[0m\n",
            "\u001b[?25hRequirement already satisfied: torch>=1.7 in /usr/local/lib/python3.10/dist-packages (from timm) (2.0.1+cu118)\n",
            "Requirement already satisfied: torchvision in /usr/local/lib/python3.10/dist-packages (from timm) (0.15.2+cu118)\n",
            "Requirement already satisfied: pyyaml in /usr/local/lib/python3.10/dist-packages (from timm) (6.0.1)\n",
            "Collecting huggingface-hub (from timm)\n",
            "  Downloading huggingface_hub-0.16.4-py3-none-any.whl (268 kB)\n",
            "\u001b[2K     \u001b[90m━━━━━━━━━━━━━━━━━━━━━━━━━━━━━━━━━━━━━━\u001b[0m \u001b[32m268.8/268.8 kB\u001b[0m \u001b[31m28.9 MB/s\u001b[0m eta \u001b[36m0:00:00\u001b[0m\n",
            "\u001b[?25hCollecting safetensors (from timm)\n",
            "  Downloading safetensors-0.3.1-cp310-cp310-manylinux_2_17_x86_64.manylinux2014_x86_64.whl (1.3 MB)\n",
            "\u001b[2K     \u001b[90m━━━━━━━━━━━━━━━━━━━━━━━━━━━━━━━━━━━━━━━━\u001b[0m \u001b[32m1.3/1.3 MB\u001b[0m \u001b[31m67.3 MB/s\u001b[0m eta \u001b[36m0:00:00\u001b[0m\n",
            "\u001b[?25hRequirement already satisfied: filelock in /usr/local/lib/python3.10/dist-packages (from torch>=1.7->timm) (3.12.2)\n",
            "Requirement already satisfied: typing-extensions in /usr/local/lib/python3.10/dist-packages (from torch>=1.7->timm) (4.7.1)\n",
            "Requirement already satisfied: sympy in /usr/local/lib/python3.10/dist-packages (from torch>=1.7->timm) (1.11.1)\n",
            "Requirement already satisfied: networkx in /usr/local/lib/python3.10/dist-packages (from torch>=1.7->timm) (3.1)\n",
            "Requirement already satisfied: jinja2 in /usr/local/lib/python3.10/dist-packages (from torch>=1.7->timm) (3.1.2)\n",
            "Requirement already satisfied: triton==2.0.0 in /usr/local/lib/python3.10/dist-packages (from torch>=1.7->timm) (2.0.0)\n",
            "Requirement already satisfied: cmake in /usr/local/lib/python3.10/dist-packages (from triton==2.0.0->torch>=1.7->timm) (3.25.2)\n",
            "Requirement already satisfied: lit in /usr/local/lib/python3.10/dist-packages (from triton==2.0.0->torch>=1.7->timm) (16.0.6)\n",
            "Requirement already satisfied: fsspec in /usr/local/lib/python3.10/dist-packages (from huggingface-hub->timm) (2023.6.0)\n",
            "Requirement already satisfied: requests in /usr/local/lib/python3.10/dist-packages (from huggingface-hub->timm) (2.27.1)\n",
            "Requirement already satisfied: tqdm>=4.42.1 in /usr/local/lib/python3.10/dist-packages (from huggingface-hub->timm) (4.65.0)\n",
            "Requirement already satisfied: packaging>=20.9 in /usr/local/lib/python3.10/dist-packages (from huggingface-hub->timm) (23.1)\n",
            "Requirement already satisfied: numpy in /usr/local/lib/python3.10/dist-packages (from torchvision->timm) (1.22.4)\n",
            "Requirement already satisfied: pillow!=8.3.*,>=5.3.0 in /usr/local/lib/python3.10/dist-packages (from torchvision->timm) (9.4.0)\n",
            "Requirement already satisfied: MarkupSafe>=2.0 in /usr/local/lib/python3.10/dist-packages (from jinja2->torch>=1.7->timm) (2.1.3)\n",
            "Requirement already satisfied: urllib3<1.27,>=1.21.1 in /usr/local/lib/python3.10/dist-packages (from requests->huggingface-hub->timm) (1.26.16)\n",
            "Requirement already satisfied: certifi>=2017.4.17 in /usr/local/lib/python3.10/dist-packages (from requests->huggingface-hub->timm) (2023.7.22)\n",
            "Requirement already satisfied: charset-normalizer~=2.0.0 in /usr/local/lib/python3.10/dist-packages (from requests->huggingface-hub->timm) (2.0.12)\n",
            "Requirement already satisfied: idna<4,>=2.5 in /usr/local/lib/python3.10/dist-packages (from requests->huggingface-hub->timm) (3.4)\n",
            "Requirement already satisfied: mpmath>=0.19 in /usr/local/lib/python3.10/dist-packages (from sympy->torch>=1.7->timm) (1.3.0)\n",
            "Installing collected packages: safetensors, huggingface-hub, timm\n",
            "Successfully installed huggingface-hub-0.16.4 safetensors-0.3.1 timm-0.9.2\n"
          ]
        }
      ]
    },
    {
      "cell_type": "markdown",
      "source": [
        "### シード値の設定"
      ],
      "metadata": {
        "id": "_8vKbM9TzkCb"
      }
    },
    {
      "cell_type": "code",
      "source": [
        "# シード値を設定\n",
        "def fix_seed(seed=1234):\n",
        "    random.seed(seed)\n",
        "    np.random.seed(seed)\n",
        "    torch.manual_seed(seed)\n",
        "    torch.cuda.manual_seed(seed)\n",
        "\n",
        "fix_seed(seed=1234)"
      ],
      "metadata": {
        "id": "pGX4Zk1LbtPr"
      },
      "execution_count": 3,
      "outputs": []
    },
    {
      "cell_type": "markdown",
      "source": [
        "### データセットの準備"
      ],
      "metadata": {
        "id": "9aOdldqfyoSt"
      }
    },
    {
      "cell_type": "code",
      "source": [
        "# 平均値と標準偏差を計算するためのCIFAR100データセットの前処理を定義\n",
        "pre_transform_cifar100 = transforms.Compose([\n",
        "    transforms.ToTensor()\n",
        "])\n",
        "\n",
        "# 平均値と標準偏差を計算するためのCIFAR100データセットの読み込み\n",
        "pre_train_dataset_cifar100 = datasets.CIFAR100(root='/content/data/', download=True, transform=pre_transform_cifar100)\n",
        "\n",
        "# 平均値と標準偏差を計算するための変数を初期化\n",
        "pre_mean_cifar100 = 0.0\n",
        "pre_std_cifar100 = 0.0\n",
        "pre_total_samples_cifar100 = len(pre_train_dataset_cifar100)\n",
        "\n",
        "# データセットのすべてのデータポイントに対して平均値と標準偏差を計算\n",
        "for data in pre_train_dataset_cifar100:\n",
        "    pre_image, _ = data\n",
        "    pre_mean_cifar100 += pre_image.mean(dim=(1, 2))  # テンソルのチャンネルごとに平均を計算\n",
        "    pre_std_cifar100 += pre_image.std(dim=(1, 2))    # テンソルのチャンネルごとに標準偏差を計算\n",
        "\n",
        "# データセット全体の平均値と標準偏差を計算\n",
        "pre_mean_cifar100 /= pre_total_samples_cifar100\n",
        "pre_std_cifar100 /= pre_total_samples_cifar100\n",
        "\n",
        "print(\"データセット全体の平均値: \", pre_mean_cifar100)\n",
        "print(\"データセット全体の標準偏差: \", pre_std_cifar100)"
      ],
      "metadata": {
        "id": "RLSipTJ0bu1w",
        "colab": {
          "base_uri": "https://localhost:8080/"
        },
        "outputId": "2735e73e-709d-43b2-f0cf-3083b8f3bf8e"
      },
      "execution_count": 4,
      "outputs": [
        {
          "output_type": "stream",
          "name": "stdout",
          "text": [
            "Downloading https://www.cs.toronto.edu/~kriz/cifar-100-python.tar.gz to /content/data/cifar-100-python.tar.gz\n"
          ]
        },
        {
          "output_type": "stream",
          "name": "stderr",
          "text": [
            "100%|██████████| 169001437/169001437 [00:13<00:00, 12843730.92it/s]\n"
          ]
        },
        {
          "output_type": "stream",
          "name": "stdout",
          "text": [
            "Extracting /content/data/cifar-100-python.tar.gz to /content/data/\n",
            "データセット全体の平均値:  tensor([0.5071, 0.4866, 0.4409])\n",
            "データセット全体の標準偏差:  tensor([0.2009, 0.1984, 0.2023])\n"
          ]
        }
      ]
    },
    {
      "cell_type": "code",
      "source": [
        "# 学習用のCIFAR100データセットの前処理を定義\n",
        "train_transform_cifar100 = transforms.Compose([\n",
        "    transforms.RandomCrop(32, padding=4),\n",
        "    transforms.RandomHorizontalFlip(),\n",
        "    transforms.ToTensor(),\n",
        "    transforms.Normalize(mean=pre_mean_cifar100, std=pre_std_cifar100)\n",
        "    ])\n",
        "# テスト用のCIFAR100データセットの前処理を定義\n",
        "test_transform_cifar100 = transforms.Compose([\n",
        "    transforms.ToTensor(),\n",
        "    transforms.Normalize(mean=pre_mean_cifar100, std=pre_std_cifar100)\n",
        "    ])\n",
        "\n",
        "# 学習用のCIFAR100データセットの読み込み\n",
        "train_dataset_cifar100 = torchvision.datasets.CIFAR100(root='/content/data/', train=True, transform=train_transform_cifar100, download=True)\n",
        "# テスト用のCIFAR100データセットの読み込み\n",
        "test_dataset_cifar100 = torchvision.datasets.CIFAR100(root='/content/data/', train=False, transform=test_transform_cifar100, download=True)\n",
        "\n",
        "# 学習用のCIFAR100データローダーを作成\n",
        "train_loader_cifar100 = torch.utils.data.DataLoader(dataset=train_dataset_cifar100, batch_size=512, shuffle=True, num_workers=2)\n",
        "# テスト用のCIFAR100データローダーを作成\n",
        "test_loader_cifar100 = torch.utils.data.DataLoader(dataset=test_dataset_cifar100, batch_size=512, shuffle=False, num_workers=2)"
      ],
      "metadata": {
        "id": "ah3PRB7vb1UG",
        "colab": {
          "base_uri": "https://localhost:8080/"
        },
        "outputId": "57139d3c-c182-4a59-dee4-7ac6c71e5b02"
      },
      "execution_count": 5,
      "outputs": [
        {
          "output_type": "stream",
          "name": "stdout",
          "text": [
            "Files already downloaded and verified\n",
            "Files already downloaded and verified\n"
          ]
        }
      ]
    },
    {
      "cell_type": "markdown",
      "source": [
        "### モデルの実装"
      ],
      "metadata": {
        "id": "upaYuBYxytGA"
      }
    },
    {
      "cell_type": "code",
      "source": [
        "# 1×1の畳み込みを定義\n",
        "def conv1x1(in_channels, out_channels, stride=1):\n",
        "    return nn.Conv2d(in_channels, out_channels, kernel_size=1, stride=stride, bias=False)\n",
        "\n",
        "# 3×3の畳み込みを定義\n",
        "def conv3x3(in_channels, out_channels, stride=1):\n",
        "    return nn.Conv2d(in_channels, out_channels, kernel_size=3, stride=stride, padding=1, bias=False)"
      ],
      "metadata": {
        "id": "uvwDV2h3b54A"
      },
      "execution_count": 6,
      "outputs": []
    },
    {
      "cell_type": "code",
      "source": [
        "# Residual Blocksを定義\n",
        "class BuildingBlock(nn.Module):\n",
        "    def __init__(self, in_channels, out_channels, stride=1):\n",
        "        super().__init__()\n",
        "        self.bn1 = nn.BatchNorm2d(in_channels)\n",
        "        self.conv1 = conv3x3(in_channels, out_channels, stride)\n",
        "        self.bn2 = nn.BatchNorm2d(out_channels)\n",
        "        self.conv2 = conv3x3(out_channels, out_channels)\n",
        "        self.dropout = nn.Dropout(p=0.3)\n",
        "        self.relu = nn.ReLU(inplace=True)\n",
        "\n",
        "        # 入力と出力のチャンネル数が異なる場合（strideが1より大きい場合）、ダウンサンプリング\n",
        "        if in_channels != out_channels or stride > 1:\n",
        "            self.shortcut = conv1x1(in_channels, out_channels, stride)\n",
        "        else:\n",
        "            self.shortcut = nn.Sequential()\n",
        "\n",
        "    def forward(self, x):\n",
        "        out = self.bn1(x)\n",
        "        out = self.relu(out)\n",
        "        out = self.conv1(out)\n",
        "        out = self.bn2(out)\n",
        "        out = self.relu(out)\n",
        "        out = self.dropout(out)\n",
        "        out = self.conv2(out)\n",
        "        # 残差写像と恒等写像の要素毎の和を計算\n",
        "        out += self.shortcut(x)\n",
        "        return out"
      ],
      "metadata": {
        "id": "pibhyT9q7T-K"
      },
      "execution_count": 7,
      "outputs": []
    },
    {
      "cell_type": "code",
      "source": [
        "class WideResNet(nn.Module):\n",
        "    def __init__(self, block, depth, k, num_classes=10):\n",
        "        super().__init__()\n",
        "        assert (depth - 4) % 6 == 0, \"depth should be 6n + 4\"\n",
        "        n = (depth - 4) // 6\n",
        "        channels = [16, 16 * k, 32 * k, 64 * k]\n",
        "        self.conv1 = conv3x3(3, channels[0])\n",
        "        # Residual Blocks（1)\n",
        "        self.layer1 = self._make_layer(block, channels[0], channels[1], n)\n",
        "        # Residual Blocks（2）\n",
        "        self.layer2 = self._make_layer(block, channels[1], channels[2], n, stride=2)\n",
        "        # Residual Blocks（3）\n",
        "        self.layer3 = self._make_layer(block, channels[2], channels[3], n, stride=2)\n",
        "        self.bn = nn.BatchNorm2d(channels[3])\n",
        "        self.relu = nn.ReLU(inplace=True)\n",
        "        self.avgpool = nn.AdaptiveAvgPool2d((1, 1))\n",
        "        self.fc = nn.Linear(channels[3], num_classes)\n",
        "\n",
        "        for m in self.modules():\n",
        "            if isinstance(m, nn.Conv2d):\n",
        "                # Heの初期化（正規分布）\n",
        "                nn.init.kaiming_normal_(m.weight, mode='fan_out', nonlinearity='relu')\n",
        "            elif isinstance(m, (nn.BatchNorm2d, nn.GroupNorm)):\n",
        "                # 重みを1に初期化\n",
        "                nn.init.constant_(m.weight, 1)\n",
        "                # バイアスを0に初期化\n",
        "                nn.init.constant_(m.bias, 0)\n",
        "\n",
        "    # Residual Blocksを作成する関数を定義\n",
        "    def _make_layer(self, block, in_channels, out_channels, blocks, stride=1):\n",
        "        layers = []\n",
        "        # 最初の Residual Block（stride=stride）\n",
        "        layers.append(block(in_channels, out_channels, stride))\n",
        "        # 残りの Residual Block（stride=1）\n",
        "        for _ in range(1, blocks):\n",
        "            layers.append(block(out_channels, out_channels))\n",
        "        return nn.Sequential(*layers)\n",
        "\n",
        "    def forward(self, x):\n",
        "        x = self.conv1(x)\n",
        "        x = self.layer1(x)\n",
        "        x = self.layer2(x)\n",
        "        x = self.layer3(x)\n",
        "        x = self.bn(x)\n",
        "        x = self.relu(x)\n",
        "        x = self.avgpool(x)\n",
        "        x = torch.flatten(x, 1)\n",
        "        x = self.fc(x)\n",
        "        return x"
      ],
      "metadata": {
        "id": "QY3GI8Vu7cP2"
      },
      "execution_count": 8,
      "outputs": []
    },
    {
      "cell_type": "code",
      "source": [
        "# モデルを呼び出す関数を定義\n",
        "def wideresnet28_10_100():\n",
        "    return WideResNet(BuildingBlock, 28, 10, num_classes=100)"
      ],
      "metadata": {
        "id": "m3mdYxMccGCq"
      },
      "execution_count": 9,
      "outputs": []
    },
    {
      "cell_type": "code",
      "source": [
        "# パラメータ数を計算する関数を定義\n",
        "def num_params(model):\n",
        "    return sum(x.numel() for x in model.parameters() if x.requires_grad)\n",
        "# デバイスを設定\n",
        "device = torch.device('cuda' if torch.cuda.is_available() else 'cpu')\n",
        "# モデルを定義\n",
        "model = wideresnet28_10_100().to(device)\n",
        "# モデルのパラメータ数を確認\n",
        "print(\"WideResNet18のパラメータ数: {}\".format(num_params(model)))"
      ],
      "metadata": {
        "id": "8nb6_vBy3t68",
        "colab": {
          "base_uri": "https://localhost:8080/"
        },
        "outputId": "733da171-5ece-43aa-8ca4-b8e4b3117c7b"
      },
      "execution_count": 10,
      "outputs": [
        {
          "output_type": "stream",
          "name": "stdout",
          "text": [
            "WideResNet18のパラメータ数: 36536884\n"
          ]
        }
      ]
    },
    {
      "cell_type": "markdown",
      "source": [
        "### 学習と評価（10 epochs）"
      ],
      "metadata": {
        "id": "dWzqKlwRWqLW"
      }
    },
    {
      "cell_type": "code",
      "source": [
        "# デバイスを設定\n",
        "device = torch.device('cuda' if torch.cuda.is_available() else 'cpu')\n",
        "# モデルを定義\n",
        "model = wideresnet28_10_100().to(device)\n",
        "\n",
        "# 学習率を設定\n",
        "learning_rate = 0.001\n",
        "# 全体のepoch数を設定\n",
        "num_epochs = 10\n",
        "# warm-upするepoch数を設定\n",
        "warmup_epochs = 1\n",
        "\n",
        "# 損失関数を定義\n",
        "criterion = nn.CrossEntropyLoss()\n",
        "# オプティマイザーを設定\n",
        "optimizer = optim.Adam(model.parameters(), lr=learning_rate)\n",
        "# スケジューラーを設定\n",
        "scheduler = CosineLRScheduler(optimizer, t_initial=num_epochs, lr_min=1e-4, warmup_t=warmup_epochs, warmup_lr_init=1e-4, warmup_prefix=True)\n",
        "\n",
        "# モデルの学習\n",
        "for epoch in range(num_epochs):\n",
        "    total = 0\n",
        "    correct = 0\n",
        "    for i, (images, labels) in enumerate(train_loader_cifar100):\n",
        "        images = images.to(device)\n",
        "        labels = labels.to(device)\n",
        "        # 順伝播\n",
        "        outputs = model(images)\n",
        "        loss = criterion(outputs, labels)\n",
        "        # 逆伝播\n",
        "        optimizer.zero_grad()\n",
        "        loss.backward()\n",
        "        optimizer.step()\n",
        "        _, predicted = torch.max(outputs.data, 1)\n",
        "        # 全データ数\n",
        "        total += labels.size(0)\n",
        "        # 正解数\n",
        "        correct += (predicted == labels).sum().item()\n",
        "    # 正解率精度を計算\n",
        "    train_acc = 100 * correct / total\n",
        "    # 正解率精度と損失を確認\n",
        "    print(\"Epoch [{}/{}], Train Accuracy: {} %, Loss: {:.4f}\".format(epoch+1, num_epochs, 100 * correct / total, loss.item()))\n",
        "    # 1エポック終了後にスケジューラーを更新\n",
        "    scheduler.step(epoch)\n",
        "    # 学習率の確認\n",
        "    print(\"Epoch [{}/{}], Learning Rate: {}\".format(epoch+1, num_epochs, optimizer.param_groups[0]['lr']))\n",
        "\n",
        "# モデルを保存\n",
        "torch.save(model, '/content/drive/MyDrive/WideResNet28_10_CIFAR100_10epochs_CLRS_restest.pth')"
      ],
      "metadata": {
        "colab": {
          "base_uri": "https://localhost:8080/"
        },
        "outputId": "0f67f14f-10d3-4f23-9a2d-36f9b56aa20e",
        "id": "yds9g-QVWqLX"
      },
      "execution_count": 14,
      "outputs": [
        {
          "output_type": "stream",
          "name": "stdout",
          "text": [
            "Epoch [1/10], Train Accuracy: 8.362 %, Loss: 3.8241\n",
            "Epoch [1/10], Learning Rate: 0.0001\n",
            "Epoch [2/10], Train Accuracy: 14.558 %, Loss: 3.6105\n",
            "Epoch [2/10], Learning Rate: 0.001\n",
            "Epoch [3/10], Train Accuracy: 16.142 %, Loss: 3.1876\n",
            "Epoch [3/10], Learning Rate: 0.0009779754323328191\n",
            "Epoch [4/10], Train Accuracy: 26.318 %, Loss: 2.6831\n",
            "Epoch [4/10], Learning Rate: 0.0009140576474687263\n",
            "Epoch [5/10], Train Accuracy: 33.678 %, Loss: 2.3721\n",
            "Epoch [5/10], Learning Rate: 0.000814503363531613\n",
            "Epoch [6/10], Train Accuracy: 40.126 %, Loss: 2.0669\n",
            "Epoch [6/10], Learning Rate: 0.0006890576474687264\n",
            "Epoch [7/10], Train Accuracy: 45.596 %, Loss: 1.7433\n",
            "Epoch [7/10], Learning Rate: 0.00055\n",
            "Epoch [8/10], Train Accuracy: 50.574 %, Loss: 1.7206\n",
            "Epoch [8/10], Learning Rate: 0.0004109423525312737\n",
            "Epoch [9/10], Train Accuracy: 54.798 %, Loss: 1.5275\n",
            "Epoch [9/10], Learning Rate: 0.00028549663646838715\n",
            "Epoch [10/10], Train Accuracy: 58.89 %, Loss: 1.4001\n",
            "Epoch [10/10], Learning Rate: 0.00018594235253127368\n"
          ]
        }
      ]
    },
    {
      "cell_type": "code",
      "source": [
        "# モデルの評価\n",
        "model.eval()\n",
        "with torch.no_grad():\n",
        "    total = 0\n",
        "    correct = 0\n",
        "    for images, labels in test_loader_cifar100:\n",
        "        images = images.to(device)\n",
        "        labels = labels.to(device)\n",
        "        outputs = model(images)\n",
        "        _, predicted = torch.max(outputs.data, 1)\n",
        "        total += labels.size(0)\n",
        "        correct += (predicted == labels).sum().item()\n",
        "    # 正解率精度の確認\n",
        "    print('Test Accuracy: {} %'.format(100 * correct / total))"
      ],
      "metadata": {
        "colab": {
          "base_uri": "https://localhost:8080/"
        },
        "outputId": "0aa5e411-fb6d-445d-9a69-9bfeb13e1be0",
        "id": "TevCt7oEWqLX"
      },
      "execution_count": 15,
      "outputs": [
        {
          "output_type": "stream",
          "name": "stdout",
          "text": [
            "Test Accuracy: 53.3 %\n"
          ]
        }
      ]
    },
    {
      "cell_type": "code",
      "source": [
        "# GPUメモリの解放\n",
        "del model\n",
        "torch.cuda.empty_cache()"
      ],
      "metadata": {
        "id": "UxkGk0bJWqLX"
      },
      "execution_count": 16,
      "outputs": []
    },
    {
      "cell_type": "markdown",
      "source": [
        "### 学習と評価（25 epochs）"
      ],
      "metadata": {
        "id": "d0msFTYKWkDY"
      }
    },
    {
      "cell_type": "code",
      "source": [
        "# デバイスを設定\n",
        "device = torch.device('cuda' if torch.cuda.is_available() else 'cpu')\n",
        "# モデルを定義\n",
        "model = wideresnet28_10_100().to(device)\n",
        "\n",
        "# 学習率を設定\n",
        "learning_rate = 0.001\n",
        "# 全体のepoch数を設定\n",
        "num_epochs = 25\n",
        "# warm-upするepoch数を設定\n",
        "warmup_epochs = 3\n",
        "\n",
        "# 損失関数を定義\n",
        "criterion = nn.CrossEntropyLoss()\n",
        "# オプティマイザーを設定\n",
        "optimizer = optim.Adam(model.parameters(), lr=learning_rate)\n",
        "# スケジューラーを設定\n",
        "scheduler = CosineLRScheduler(optimizer, t_initial=num_epochs, lr_min=1e-4, warmup_t=warmup_epochs, warmup_lr_init=1e-4, warmup_prefix=True)\n",
        "\n",
        "# モデルの学習\n",
        "for epoch in range(num_epochs):\n",
        "    total = 0\n",
        "    correct = 0\n",
        "    for i, (images, labels) in enumerate(train_loader_cifar100):\n",
        "        images = images.to(device)\n",
        "        labels = labels.to(device)\n",
        "        # 順伝播\n",
        "        outputs = model(images)\n",
        "        loss = criterion(outputs, labels)\n",
        "        # 逆伝播\n",
        "        optimizer.zero_grad()\n",
        "        loss.backward()\n",
        "        optimizer.step()\n",
        "        _, predicted = torch.max(outputs.data, 1)\n",
        "        # 全データ数\n",
        "        total += labels.size(0)\n",
        "        # 正解数\n",
        "        correct += (predicted == labels).sum().item()\n",
        "    # 正解率精度を計算\n",
        "    train_acc = 100 * correct / total\n",
        "    # 正解率精度と損失を確認\n",
        "    print(\"Epoch [{}/{}], Train Accuracy: {} %, Loss: {:.4f}\".format(epoch+1, num_epochs, 100 * correct / total, loss.item()))\n",
        "    # 1エポック終了後にスケジューラーを更新\n",
        "    scheduler.step(epoch)\n",
        "    # 学習率の確認\n",
        "    print(\"Epoch [{}/{}], Learning Rate: {}\".format(epoch+1, num_epochs, optimizer.param_groups[0]['lr']))\n",
        "\n",
        "# モデルを保存\n",
        "torch.save(model, '/content/drive/MyDrive/WideResNet28_10_CIFAR100_25epochs_CLRS_restest.pth')"
      ],
      "metadata": {
        "colab": {
          "base_uri": "https://localhost:8080/"
        },
        "outputId": "44974d6c-02fd-4398-e97b-8bd9d3a4daba",
        "id": "st9Tj1i3WkDZ"
      },
      "execution_count": 11,
      "outputs": [
        {
          "output_type": "stream",
          "name": "stdout",
          "text": [
            "Epoch [1/25], Train Accuracy: 8.28 %, Loss: 3.7940\n",
            "Epoch [1/25], Learning Rate: 0.0001\n",
            "Epoch [2/25], Train Accuracy: 14.606 %, Loss: 3.6052\n",
            "Epoch [2/25], Learning Rate: 0.00039999999999999996\n",
            "Epoch [3/25], Train Accuracy: 18.558 %, Loss: 3.1996\n",
            "Epoch [3/25], Learning Rate: 0.0007\n",
            "Epoch [4/25], Train Accuracy: 26.132 %, Loss: 2.6515\n",
            "Epoch [4/25], Learning Rate: 0.001\n",
            "Epoch [5/25], Train Accuracy: 32.814 %, Loss: 2.4828\n",
            "Epoch [5/25], Learning Rate: 0.000996451615591515\n",
            "Epoch [6/25], Train Accuracy: 40.282 %, Loss: 2.0508\n",
            "Epoch [6/25], Learning Rate: 0.000985862422507884\n",
            "Epoch [7/25], Train Accuracy: 45.586 %, Loss: 2.0075\n",
            "Epoch [7/25], Learning Rate: 0.0009683994186497131\n",
            "Epoch [8/25], Train Accuracy: 50.744 %, Loss: 1.4873\n",
            "Epoch [8/25], Learning Rate: 0.0009443380060197386\n",
            "Epoch [9/25], Train Accuracy: 54.712 %, Loss: 1.5521\n",
            "Epoch [9/25], Learning Rate: 0.0009140576474687263\n",
            "Epoch [10/25], Train Accuracy: 57.86 %, Loss: 1.3467\n",
            "Epoch [10/25], Learning Rate: 0.0008780358823396353\n",
            "Epoch [11/25], Train Accuracy: 61.51 %, Loss: 1.3237\n",
            "Epoch [11/25], Learning Rate: 0.0008368407953869105\n",
            "Epoch [12/25], Train Accuracy: 64.14 %, Loss: 1.3389\n",
            "Epoch [12/25], Learning Rate: 0.0007911220577405485\n",
            "Epoch [13/25], Train Accuracy: 66.33 %, Loss: 1.1136\n",
            "Epoch [13/25], Learning Rate: 0.0007416006812042827\n",
            "Epoch [14/25], Train Accuracy: 69.072 %, Loss: 1.0225\n",
            "Epoch [14/25], Learning Rate: 0.0006890576474687264\n",
            "Epoch [15/25], Train Accuracy: 70.914 %, Loss: 0.9813\n",
            "Epoch [15/25], Learning Rate: 0.0006343215915635762\n",
            "Epoch [16/25], Train Accuracy: 73.522 %, Loss: 0.8754\n",
            "Epoch [16/25], Learning Rate: 0.0005782557337881911\n",
            "Epoch [17/25], Train Accuracy: 75.596 %, Loss: 0.8164\n",
            "Epoch [17/25], Learning Rate: 0.000521744266211809\n",
            "Epoch [18/25], Train Accuracy: 77.68 %, Loss: 0.7684\n",
            "Epoch [18/25], Learning Rate: 0.0004656784084364239\n",
            "Epoch [19/25], Train Accuracy: 79.606 %, Loss: 0.6312\n",
            "Epoch [19/25], Learning Rate: 0.0004109423525312738\n",
            "Epoch [20/25], Train Accuracy: 81.334 %, Loss: 0.6545\n",
            "Epoch [20/25], Learning Rate: 0.0003583993187957173\n",
            "Epoch [21/25], Train Accuracy: 83.254 %, Loss: 0.5599\n",
            "Epoch [21/25], Learning Rate: 0.0003088779422594514\n",
            "Epoch [22/25], Train Accuracy: 85.282 %, Loss: 0.4591\n",
            "Epoch [22/25], Learning Rate: 0.0002631592046130896\n",
            "Epoch [23/25], Train Accuracy: 87.056 %, Loss: 0.4992\n",
            "Epoch [23/25], Learning Rate: 0.0002219641176603649\n",
            "Epoch [24/25], Train Accuracy: 88.43 %, Loss: 0.4659\n",
            "Epoch [24/25], Learning Rate: 0.00018594235253127368\n",
            "Epoch [25/25], Train Accuracy: 89.976 %, Loss: 0.3400\n",
            "Epoch [25/25], Learning Rate: 0.0001556619939802614\n"
          ]
        }
      ]
    },
    {
      "cell_type": "code",
      "source": [
        "# モデルの評価\n",
        "model.eval()\n",
        "with torch.no_grad():\n",
        "    total = 0\n",
        "    correct = 0\n",
        "    for images, labels in test_loader_cifar100:\n",
        "        images = images.to(device)\n",
        "        labels = labels.to(device)\n",
        "        outputs = model(images)\n",
        "        _, predicted = torch.max(outputs.data, 1)\n",
        "        total += labels.size(0)\n",
        "        correct += (predicted == labels).sum().item()\n",
        "    # 正解率精度の確認\n",
        "    print('Test Accuracy: {} %'.format(100 * correct / total))"
      ],
      "metadata": {
        "colab": {
          "base_uri": "https://localhost:8080/"
        },
        "outputId": "8a28922d-4bff-42d7-b741-02eebae5f833",
        "id": "pMAIUOZzWkDa"
      },
      "execution_count": 12,
      "outputs": [
        {
          "output_type": "stream",
          "name": "stdout",
          "text": [
            "Test Accuracy: 70.38 %\n"
          ]
        }
      ]
    },
    {
      "cell_type": "code",
      "source": [
        "# GPUメモリの解放\n",
        "del model\n",
        "torch.cuda.empty_cache()"
      ],
      "metadata": {
        "id": "JgQBHYiHWkDa"
      },
      "execution_count": 13,
      "outputs": []
    },
    {
      "cell_type": "markdown",
      "source": [
        "### 学習と評価（50 epochs）"
      ],
      "metadata": {
        "id": "X6RrdlPd5Zky"
      }
    },
    {
      "cell_type": "code",
      "source": [
        "# デバイスを設定\n",
        "device = torch.device('cuda' if torch.cuda.is_available() else 'cpu')\n",
        "# モデルを定義\n",
        "model = wideresnet28_10_100().to(device)\n",
        "\n",
        "# 学習率を設定\n",
        "learning_rate = 0.001\n",
        "# 全体のepoch数を設定\n",
        "num_epochs = 50\n",
        "# warm-upするepoch数を設定\n",
        "warmup_epochs = 5\n",
        "\n",
        "# 損失関数を定義\n",
        "criterion = nn.CrossEntropyLoss()\n",
        "# オプティマイザーを設定\n",
        "optimizer = optim.Adam(model.parameters(), lr=learning_rate)\n",
        "# スケジューラーを設定\n",
        "scheduler = CosineLRScheduler(optimizer, t_initial=num_epochs, lr_min=1e-4, warmup_t=warmup_epochs, warmup_lr_init=1e-4, warmup_prefix=True)\n",
        "\n",
        "# モデルの学習\n",
        "for epoch in range(num_epochs):\n",
        "    total = 0\n",
        "    correct = 0\n",
        "    for i, (images, labels) in enumerate(train_loader_cifar100):\n",
        "        images = images.to(device)\n",
        "        labels = labels.to(device)\n",
        "        # 順伝播\n",
        "        outputs = model(images)\n",
        "        loss = criterion(outputs, labels)\n",
        "        # 逆伝播\n",
        "        optimizer.zero_grad()\n",
        "        loss.backward()\n",
        "        optimizer.step()\n",
        "        _, predicted = torch.max(outputs.data, 1)\n",
        "        # 全データ数\n",
        "        total += labels.size(0)\n",
        "        # 正解数\n",
        "        correct += (predicted == labels).sum().item()\n",
        "    # 正解率精度を計算\n",
        "    train_acc = 100 * correct / total\n",
        "    # 正解率精度と損失を確認\n",
        "    print(\"Epoch [{}/{}], Train Accuracy: {} %, Loss: {:.4f}\".format(epoch+1, num_epochs, 100 * correct / total, loss.item()))\n",
        "    # 1エポック終了後にスケジューラーを更新\n",
        "    scheduler.step(epoch)\n",
        "    # 学習率の確認\n",
        "    print(\"Epoch [{}/{}], Learning Rate: {}\".format(epoch+1, num_epochs, optimizer.param_groups[0]['lr']))\n",
        "\n",
        "# モデルを保存\n",
        "torch.save(model, '/content/drive/MyDrive/WideResNet28_10_CIFAR100_50epochs_CLRS_restest.pth')"
      ],
      "metadata": {
        "id": "vELsvQdc5Zk-",
        "colab": {
          "base_uri": "https://localhost:8080/"
        },
        "outputId": "a380db43-2f08-4a5b-efb1-bba9c21537ec"
      },
      "execution_count": 11,
      "outputs": [
        {
          "output_type": "stream",
          "name": "stdout",
          "text": [
            "Epoch [1/50], Train Accuracy: 8.282 %, Loss: 3.7939\n",
            "Epoch [1/50], Learning Rate: 0.0001\n",
            "Epoch [2/50], Train Accuracy: 14.64 %, Loss: 3.6050\n",
            "Epoch [2/50], Learning Rate: 0.00028\n",
            "Epoch [3/50], Train Accuracy: 18.752 %, Loss: 3.2343\n",
            "Epoch [3/50], Learning Rate: 0.00045999999999999996\n",
            "Epoch [4/50], Train Accuracy: 25.578 %, Loss: 2.7194\n",
            "Epoch [4/50], Learning Rate: 0.0006399999999999999\n",
            "Epoch [5/50], Train Accuracy: 32.048 %, Loss: 2.5799\n",
            "Epoch [5/50], Learning Rate: 0.00082\n",
            "Epoch [6/50], Train Accuracy: 37.868 %, Loss: 2.1084\n",
            "Epoch [6/50], Learning Rate: 0.001\n",
            "Epoch [7/50], Train Accuracy: 42.712 %, Loss: 2.0830\n",
            "Epoch [7/50], Learning Rate: 0.0009991120277927223\n",
            "Epoch [8/50], Train Accuracy: 48.682 %, Loss: 1.5634\n",
            "Epoch [8/50], Learning Rate: 0.000996451615591515\n",
            "Epoch [9/50], Train Accuracy: 52.956 %, Loss: 1.6355\n",
            "Epoch [9/50], Learning Rate: 0.00099202926282791\n",
            "Epoch [10/50], Train Accuracy: 56.27 %, Loss: 1.3944\n",
            "Epoch [10/50], Learning Rate: 0.000985862422507884\n",
            "Epoch [11/50], Train Accuracy: 60.332 %, Loss: 1.4062\n",
            "Epoch [11/50], Learning Rate: 0.0009779754323328191\n",
            "Epoch [12/50], Train Accuracy: 62.494 %, Loss: 1.4051\n",
            "Epoch [12/50], Learning Rate: 0.0009683994186497131\n",
            "Epoch [13/50], Train Accuracy: 64.924 %, Loss: 1.1718\n",
            "Epoch [13/50], Learning Rate: 0.0009571721736097088\n",
            "Epoch [14/50], Train Accuracy: 67.298 %, Loss: 1.1249\n",
            "Epoch [14/50], Learning Rate: 0.0009443380060197386\n",
            "Epoch [15/50], Train Accuracy: 69.072 %, Loss: 1.0298\n",
            "Epoch [15/50], Learning Rate: 0.0009299475664759069\n",
            "Epoch [16/50], Train Accuracy: 71.324 %, Loss: 0.9405\n",
            "Epoch [16/50], Learning Rate: 0.0009140576474687263\n",
            "Epoch [17/50], Train Accuracy: 73.15 %, Loss: 0.8954\n",
            "Epoch [17/50], Learning Rate: 0.0008967309592491052\n",
            "Epoch [18/50], Train Accuracy: 74.814 %, Loss: 0.8848\n",
            "Epoch [18/50], Learning Rate: 0.0008780358823396353\n",
            "Epoch [19/50], Train Accuracy: 76.42 %, Loss: 0.7463\n",
            "Epoch [19/50], Learning Rate: 0.0008580461976679099\n",
            "Epoch [20/50], Train Accuracy: 77.926 %, Loss: 0.7482\n",
            "Epoch [20/50], Learning Rate: 0.0008368407953869105\n",
            "Epoch [21/50], Train Accuracy: 79.54 %, Loss: 0.6920\n",
            "Epoch [21/50], Learning Rate: 0.0008145033635316131\n",
            "Epoch [22/50], Train Accuracy: 81.212 %, Loss: 0.5633\n",
            "Epoch [22/50], Learning Rate: 0.0007911220577405485\n",
            "Epoch [23/50], Train Accuracy: 82.87 %, Loss: 0.6337\n",
            "Epoch [23/50], Learning Rate: 0.0007667891533457719\n",
            "Epoch [24/50], Train Accuracy: 84.202 %, Loss: 0.5790\n",
            "Epoch [24/50], Learning Rate: 0.0007416006812042827\n",
            "Epoch [25/50], Train Accuracy: 85.478 %, Loss: 0.4997\n",
            "Epoch [25/50], Learning Rate: 0.0007156560487081052\n",
            "Epoch [26/50], Train Accuracy: 86.684 %, Loss: 0.5208\n",
            "Epoch [26/50], Learning Rate: 0.0006890576474687264\n",
            "Epoch [27/50], Train Accuracy: 87.998 %, Loss: 0.4148\n",
            "Epoch [27/50], Learning Rate: 0.0006619104492241846\n",
            "Epoch [28/50], Train Accuracy: 89.564 %, Loss: 0.3870\n",
            "Epoch [28/50], Learning Rate: 0.0006343215915635762\n",
            "Epoch [29/50], Train Accuracy: 90.846 %, Loss: 0.3018\n",
            "Epoch [29/50], Learning Rate: 0.000606399955103937\n",
            "Epoch [30/50], Train Accuracy: 91.758 %, Loss: 0.3406\n",
            "Epoch [30/50], Learning Rate: 0.0005782557337881911\n",
            "Epoch [31/50], Train Accuracy: 92.81 %, Loss: 0.2496\n",
            "Epoch [31/50], Learning Rate: 0.00055\n",
            "Epoch [32/50], Train Accuracy: 93.584 %, Loss: 0.2422\n",
            "Epoch [32/50], Learning Rate: 0.000521744266211809\n",
            "Epoch [33/50], Train Accuracy: 94.59 %, Loss: 0.1839\n",
            "Epoch [33/50], Learning Rate: 0.0004936000448960632\n",
            "Epoch [34/50], Train Accuracy: 95.308 %, Loss: 0.2055\n",
            "Epoch [34/50], Learning Rate: 0.0004656784084364239\n",
            "Epoch [35/50], Train Accuracy: 96.066 %, Loss: 0.1695\n",
            "Epoch [35/50], Learning Rate: 0.0004380895507758153\n",
            "Epoch [36/50], Train Accuracy: 96.338 %, Loss: 0.1087\n",
            "Epoch [36/50], Learning Rate: 0.0004109423525312738\n",
            "Epoch [37/50], Train Accuracy: 96.966 %, Loss: 0.1209\n",
            "Epoch [37/50], Learning Rate: 0.000384343951291895\n",
            "Epoch [38/50], Train Accuracy: 97.498 %, Loss: 0.1082\n",
            "Epoch [38/50], Learning Rate: 0.0003583993187957173\n",
            "Epoch [39/50], Train Accuracy: 97.818 %, Loss: 0.0656\n",
            "Epoch [39/50], Learning Rate: 0.0003332108466542281\n",
            "Epoch [40/50], Train Accuracy: 98.164 %, Loss: 0.0471\n",
            "Epoch [40/50], Learning Rate: 0.0003088779422594514\n",
            "Epoch [41/50], Train Accuracy: 98.558 %, Loss: 0.0827\n",
            "Epoch [41/50], Learning Rate: 0.00028549663646838715\n",
            "Epoch [42/50], Train Accuracy: 98.756 %, Loss: 0.0420\n",
            "Epoch [42/50], Learning Rate: 0.0002631592046130896\n",
            "Epoch [43/50], Train Accuracy: 98.922 %, Loss: 0.0317\n",
            "Epoch [43/50], Learning Rate: 0.00024195380233209008\n",
            "Epoch [44/50], Train Accuracy: 99.044 %, Loss: 0.0392\n",
            "Epoch [44/50], Learning Rate: 0.0002219641176603649\n",
            "Epoch [45/50], Train Accuracy: 99.232 %, Loss: 0.0234\n",
            "Epoch [45/50], Learning Rate: 0.00020326904075089488\n",
            "Epoch [46/50], Train Accuracy: 99.382 %, Loss: 0.0277\n",
            "Epoch [46/50], Learning Rate: 0.00018594235253127368\n",
            "Epoch [47/50], Train Accuracy: 99.394 %, Loss: 0.0174\n",
            "Epoch [47/50], Learning Rate: 0.00017005243352409332\n",
            "Epoch [48/50], Train Accuracy: 99.55 %, Loss: 0.0254\n",
            "Epoch [48/50], Learning Rate: 0.0001556619939802614\n",
            "Epoch [49/50], Train Accuracy: 99.558 %, Loss: 0.0252\n",
            "Epoch [49/50], Learning Rate: 0.0001428278263902913\n",
            "Epoch [50/50], Train Accuracy: 99.602 %, Loss: 0.0306\n",
            "Epoch [50/50], Learning Rate: 0.0001316005813502869\n"
          ]
        }
      ]
    },
    {
      "cell_type": "code",
      "source": [
        "# モデルの評価\n",
        "model.eval()\n",
        "with torch.no_grad():\n",
        "    total = 0\n",
        "    correct = 0\n",
        "    for images, labels in test_loader_cifar100:\n",
        "        images = images.to(device)\n",
        "        labels = labels.to(device)\n",
        "        outputs = model(images)\n",
        "        _, predicted = torch.max(outputs.data, 1)\n",
        "        total += labels.size(0)\n",
        "        correct += (predicted == labels).sum().item()\n",
        "    # 正解率精度の確認\n",
        "    print('Test Accuracy: {} %'.format(100 * correct / total))"
      ],
      "metadata": {
        "id": "RtGaIvN55Zk_",
        "colab": {
          "base_uri": "https://localhost:8080/"
        },
        "outputId": "8323d208-3ad1-4a78-cbe3-0d5eebcd7d86"
      },
      "execution_count": 12,
      "outputs": [
        {
          "output_type": "stream",
          "name": "stdout",
          "text": [
            "Test Accuracy: 74.48 %\n"
          ]
        }
      ]
    },
    {
      "cell_type": "code",
      "source": [
        "# GPUメモリの解放\n",
        "del model\n",
        "torch.cuda.empty_cache()"
      ],
      "metadata": {
        "id": "kE02RIkS5Zk_"
      },
      "execution_count": 13,
      "outputs": []
    },
    {
      "cell_type": "markdown",
      "source": [
        "### 学習と評価（75 epochs）"
      ],
      "metadata": {
        "id": "t-k7-j4nFQXb"
      }
    },
    {
      "cell_type": "code",
      "source": [
        "# デバイスを設定\n",
        "device = torch.device('cuda' if torch.cuda.is_available() else 'cpu')\n",
        "# モデルを定義\n",
        "model = wideresnet28_10_100().to(device)\n",
        "\n",
        "# 学習率を設定\n",
        "learning_rate = 0.001\n",
        "# 全体のepoch数を設定\n",
        "num_epochs = 75\n",
        "# warm-upするepoch数を設定\n",
        "warmup_epochs = 8\n",
        "\n",
        "# 損失関数を定義\n",
        "criterion = nn.CrossEntropyLoss()\n",
        "# オプティマイザーを設定\n",
        "optimizer = optim.Adam(model.parameters(), lr=learning_rate)\n",
        "# スケジューラーを設定\n",
        "scheduler = CosineLRScheduler(optimizer, t_initial=num_epochs, lr_min=1e-4, warmup_t=warmup_epochs, warmup_lr_init=1e-4, warmup_prefix=True)\n",
        "\n",
        "# モデルの学習\n",
        "for epoch in range(num_epochs):\n",
        "    total = 0\n",
        "    correct = 0\n",
        "    for i, (images, labels) in enumerate(train_loader_cifar100):\n",
        "        images = images.to(device)\n",
        "        labels = labels.to(device)\n",
        "        # 順伝播\n",
        "        outputs = model(images)\n",
        "        loss = criterion(outputs, labels)\n",
        "        # 逆伝播\n",
        "        optimizer.zero_grad()\n",
        "        loss.backward()\n",
        "        optimizer.step()\n",
        "        _, predicted = torch.max(outputs.data, 1)\n",
        "        # 全データ数\n",
        "        total += labels.size(0)\n",
        "        # 正解数\n",
        "        correct += (predicted == labels).sum().item()\n",
        "    # 正解率精度を計算\n",
        "    train_acc = 100 * correct / total\n",
        "    # 正解率精度と損失を確認\n",
        "    print(\"Epoch [{}/{}], Train Accuracy: {} %, Loss: {:.4f}\".format(epoch+1, num_epochs, 100 * correct / total, loss.item()))\n",
        "    # 1エポック終了後にスケジューラーを更新\n",
        "    scheduler.step(epoch)\n",
        "    # 学習率の確認\n",
        "    print(\"Epoch [{}/{}], Learning Rate: {}\".format(epoch+1, num_epochs, optimizer.param_groups[0]['lr']))\n",
        "\n",
        "# モデルを保存\n",
        "torch.save(model, '/content/drive/MyDrive/WideResNet28_10_CIFAR100_75epochs_CLRS_restest.pth')"
      ],
      "metadata": {
        "colab": {
          "base_uri": "https://localhost:8080/"
        },
        "id": "xYIxZQ5GFWuW",
        "outputId": "d2269f41-1ce9-4d20-96f3-8b809864c367"
      },
      "execution_count": 17,
      "outputs": [
        {
          "output_type": "stream",
          "name": "stdout",
          "text": [
            "Epoch [1/75], Train Accuracy: 8.538 %, Loss: 3.8172\n",
            "Epoch [1/75], Learning Rate: 0.0001\n",
            "Epoch [2/75], Train Accuracy: 14.414 %, Loss: 3.5198\n",
            "Epoch [2/75], Learning Rate: 0.00021250000000000002\n",
            "Epoch [3/75], Train Accuracy: 18.872 %, Loss: 3.3334\n",
            "Epoch [3/75], Learning Rate: 0.000325\n",
            "Epoch [4/75], Train Accuracy: 24.97 %, Loss: 2.9313\n",
            "Epoch [4/75], Learning Rate: 0.0004375\n",
            "Epoch [5/75], Train Accuracy: 31.032 %, Loss: 2.5042\n",
            "Epoch [5/75], Learning Rate: 0.00055\n",
            "Epoch [6/75], Train Accuracy: 36.556 %, Loss: 2.3260\n",
            "Epoch [6/75], Learning Rate: 0.0006625\n",
            "Epoch [7/75], Train Accuracy: 41.422 %, Loss: 2.1119\n",
            "Epoch [7/75], Learning Rate: 0.0007750000000000001\n",
            "Epoch [8/75], Train Accuracy: 45.58 %, Loss: 2.0163\n",
            "Epoch [8/75], Learning Rate: 0.0008875\n",
            "Epoch [9/75], Train Accuracy: 49.526 %, Loss: 1.8787\n",
            "Epoch [9/75], Learning Rate: 0.001\n",
            "Epoch [10/75], Train Accuracy: 53.088 %, Loss: 1.5446\n",
            "Epoch [10/75], Learning Rate: 0.0009996052735444863\n",
            "Epoch [11/75], Train Accuracy: 56.808 %, Loss: 1.5367\n",
            "Epoch [11/75], Learning Rate: 0.000998421786662277\n",
            "Epoch [12/75], Train Accuracy: 59.972 %, Loss: 1.3855\n",
            "Epoch [12/75], Learning Rate: 0.000996451615591515\n",
            "Epoch [13/75], Train Accuracy: 62.836 %, Loss: 1.2786\n",
            "Epoch [13/75], Learning Rate: 0.0009936982166817271\n",
            "Epoch [14/75], Train Accuracy: 65.288 %, Loss: 1.2058\n",
            "Epoch [14/75], Learning Rate: 0.0009901664203302125\n",
            "Epoch [15/75], Train Accuracy: 67.666 %, Loss: 1.0131\n",
            "Epoch [15/75], Learning Rate: 0.000985862422507884\n",
            "Epoch [16/75], Train Accuracy: 69.408 %, Loss: 1.0426\n",
            "Epoch [16/75], Learning Rate: 0.0009807937738894302\n",
            "Epoch [17/75], Train Accuracy: 71.78 %, Loss: 0.9316\n",
            "Epoch [17/75], Learning Rate: 0.0009749693666068666\n",
            "Epoch [18/75], Train Accuracy: 73.192 %, Loss: 0.9639\n",
            "Epoch [18/75], Learning Rate: 0.0009683994186497131\n",
            "Epoch [19/75], Train Accuracy: 74.418 %, Loss: 0.8291\n",
            "Epoch [19/75], Learning Rate: 0.0009610954559391703\n",
            "Epoch [20/75], Train Accuracy: 76.436 %, Loss: 0.8135\n",
            "Epoch [20/75], Learning Rate: 0.0009530702921077359\n",
            "Epoch [21/75], Train Accuracy: 78.122 %, Loss: 0.8843\n",
            "Epoch [21/75], Learning Rate: 0.0009443380060197386\n",
            "Epoch [22/75], Train Accuracy: 79.284 %, Loss: 0.7003\n",
            "Epoch [22/75], Learning Rate: 0.000934913917072228\n",
            "Epoch [23/75], Train Accuracy: 80.57 %, Loss: 0.6740\n",
            "Epoch [23/75], Learning Rate: 0.0009248145583195447\n",
            "Epoch [24/75], Train Accuracy: 82.138 %, Loss: 0.5384\n",
            "Epoch [24/75], Learning Rate: 0.0009140576474687263\n",
            "Epoch [25/75], Train Accuracy: 83.162 %, Loss: 0.6785\n",
            "Epoch [25/75], Learning Rate: 0.000902662055796628\n",
            "Epoch [26/75], Train Accuracy: 84.65 %, Loss: 0.6043\n",
            "Epoch [26/75], Learning Rate: 0.0008906477750432905\n",
            "Epoch [27/75], Train Accuracy: 85.758 %, Loss: 0.4877\n",
            "Epoch [27/75], Learning Rate: 0.0008780358823396353\n",
            "Epoch [28/75], Train Accuracy: 87.046 %, Loss: 0.4594\n",
            "Epoch [28/75], Learning Rate: 0.0008648485032310146\n",
            "Epoch [29/75], Train Accuracy: 87.832 %, Loss: 0.3599\n",
            "Epoch [29/75], Learning Rate: 0.0008511087728614862\n",
            "Epoch [30/75], Train Accuracy: 88.766 %, Loss: 0.3605\n",
            "Epoch [30/75], Learning Rate: 0.0008368407953869105\n",
            "Epoch [31/75], Train Accuracy: 89.622 %, Loss: 0.3194\n",
            "Epoch [31/75], Learning Rate: 0.0008220696016880688\n",
            "Epoch [32/75], Train Accuracy: 90.85 %, Loss: 0.2921\n",
            "Epoch [32/75], Learning Rate: 0.0008068211054579944\n",
            "Epoch [33/75], Train Accuracy: 91.758 %, Loss: 0.3607\n",
            "Epoch [33/75], Learning Rate: 0.0007911220577405485\n",
            "Epoch [34/75], Train Accuracy: 92.462 %, Loss: 0.2380\n",
            "Epoch [34/75], Learning Rate: 0.0007750000000000001\n",
            "Epoch [35/75], Train Accuracy: 93.19 %, Loss: 0.2097\n",
            "Epoch [35/75], Learning Rate: 0.0007584832158039379\n",
            "Epoch [36/75], Train Accuracy: 94.146 %, Loss: 0.2101\n",
            "Epoch [36/75], Learning Rate: 0.0007416006812042827\n",
            "Epoch [37/75], Train Accuracy: 94.626 %, Loss: 0.1881\n",
            "Epoch [37/75], Learning Rate: 0.0007243820139034463\n",
            "Epoch [38/75], Train Accuracy: 94.908 %, Loss: 0.2252\n",
            "Epoch [38/75], Learning Rate: 0.0007068574212948169\n",
            "Epoch [39/75], Train Accuracy: 95.636 %, Loss: 0.1339\n",
            "Epoch [39/75], Learning Rate: 0.0006890576474687264\n",
            "Epoch [40/75], Train Accuracy: 95.864 %, Loss: 0.1059\n",
            "Epoch [40/75], Learning Rate: 0.0006710139192768696\n",
            "Epoch [41/75], Train Accuracy: 96.44 %, Loss: 0.1076\n",
            "Epoch [41/75], Learning Rate: 0.0006527578915497952\n",
            "Epoch [42/75], Train Accuracy: 96.948 %, Loss: 0.1012\n",
            "Epoch [42/75], Learning Rate: 0.0006343215915635762\n",
            "Epoch [43/75], Train Accuracy: 97.14 %, Loss: 0.1132\n",
            "Epoch [43/75], Learning Rate: 0.0006157373628530854\n",
            "Epoch [44/75], Train Accuracy: 97.162 %, Loss: 0.0985\n",
            "Epoch [44/75], Learning Rate: 0.0005970378084704443\n",
            "Epoch [45/75], Train Accuracy: 97.694 %, Loss: 0.0607\n",
            "Epoch [45/75], Learning Rate: 0.0005782557337881911\n",
            "Epoch [46/75], Train Accuracy: 97.996 %, Loss: 0.0927\n",
            "Epoch [46/75], Learning Rate: 0.0005594240889475107\n",
            "Epoch [47/75], Train Accuracy: 98.058 %, Loss: 0.0684\n",
            "Epoch [47/75], Learning Rate: 0.0005405759110524895\n",
            "Epoch [48/75], Train Accuracy: 98.142 %, Loss: 0.0560\n",
            "Epoch [48/75], Learning Rate: 0.0005217442662118091\n",
            "Epoch [49/75], Train Accuracy: 98.388 %, Loss: 0.0904\n",
            "Epoch [49/75], Learning Rate: 0.000502962191529556\n",
            "Epoch [50/75], Train Accuracy: 98.552 %, Loss: 0.0590\n",
            "Epoch [50/75], Learning Rate: 0.0004842626371469149\n",
            "Epoch [51/75], Train Accuracy: 98.656 %, Loss: 0.0391\n",
            "Epoch [51/75], Learning Rate: 0.0004656784084364239\n",
            "Epoch [52/75], Train Accuracy: 98.796 %, Loss: 0.0457\n",
            "Epoch [52/75], Learning Rate: 0.00044724210845020496\n",
            "Epoch [53/75], Train Accuracy: 99.116 %, Loss: 0.0391\n",
            "Epoch [53/75], Learning Rate: 0.00042898608072313056\n",
            "Epoch [54/75], Train Accuracy: 99.198 %, Loss: 0.0305\n",
            "Epoch [54/75], Learning Rate: 0.0004109423525312737\n",
            "Epoch [55/75], Train Accuracy: 99.226 %, Loss: 0.0265\n",
            "Epoch [55/75], Learning Rate: 0.00039314257870518325\n",
            "Epoch [56/75], Train Accuracy: 99.302 %, Loss: 0.0171\n",
            "Epoch [56/75], Learning Rate: 0.00037561798609655366\n",
            "Epoch [57/75], Train Accuracy: 99.308 %, Loss: 0.0271\n",
            "Epoch [57/75], Learning Rate: 0.0003583993187957173\n",
            "Epoch [58/75], Train Accuracy: 99.294 %, Loss: 0.0147\n",
            "Epoch [58/75], Learning Rate: 0.0003415167841960623\n",
            "Epoch [59/75], Train Accuracy: 99.47 %, Loss: 0.0206\n",
            "Epoch [59/75], Learning Rate: 0.0003249999999999999\n",
            "Epoch [60/75], Train Accuracy: 99.552 %, Loss: 0.0100\n",
            "Epoch [60/75], Learning Rate: 0.0003088779422594516\n",
            "Epoch [61/75], Train Accuracy: 99.656 %, Loss: 0.0080\n",
            "Epoch [61/75], Learning Rate: 0.0002931788945420058\n",
            "Epoch [62/75], Train Accuracy: 99.632 %, Loss: 0.0084\n",
            "Epoch [62/75], Learning Rate: 0.0002779303983119313\n",
            "Epoch [63/75], Train Accuracy: 99.59 %, Loss: 0.0105\n",
            "Epoch [63/75], Learning Rate: 0.0002631592046130896\n",
            "Epoch [64/75], Train Accuracy: 99.59 %, Loss: 0.0113\n",
            "Epoch [64/75], Learning Rate: 0.0002488912271385138\n",
            "Epoch [65/75], Train Accuracy: 99.59 %, Loss: 0.0278\n",
            "Epoch [65/75], Learning Rate: 0.0002351514967689855\n",
            "Epoch [66/75], Train Accuracy: 99.67 %, Loss: 0.0089\n",
            "Epoch [66/75], Learning Rate: 0.0002219641176603649\n",
            "Epoch [67/75], Train Accuracy: 99.754 %, Loss: 0.0116\n",
            "Epoch [67/75], Learning Rate: 0.00020935222495670967\n",
            "Epoch [68/75], Train Accuracy: 99.776 %, Loss: 0.0032\n",
            "Epoch [68/75], Learning Rate: 0.00019733794420337213\n",
            "Epoch [69/75], Train Accuracy: 99.788 %, Loss: 0.0096\n",
            "Epoch [69/75], Learning Rate: 0.00018594235253127368\n",
            "Epoch [70/75], Train Accuracy: 99.82 %, Loss: 0.0098\n",
            "Epoch [70/75], Learning Rate: 0.00017518544168045524\n",
            "Epoch [71/75], Train Accuracy: 99.814 %, Loss: 0.0081\n",
            "Epoch [71/75], Learning Rate: 0.00016508608292777201\n",
            "Epoch [72/75], Train Accuracy: 99.828 %, Loss: 0.0081\n",
            "Epoch [72/75], Learning Rate: 0.0001556619939802614\n",
            "Epoch [73/75], Train Accuracy: 99.864 %, Loss: 0.0114\n",
            "Epoch [73/75], Learning Rate: 0.0001469297078922643\n",
            "Epoch [74/75], Train Accuracy: 99.872 %, Loss: 0.0061\n",
            "Epoch [74/75], Learning Rate: 0.00013890454406082967\n",
            "Epoch [75/75], Train Accuracy: 99.884 %, Loss: 0.0048\n",
            "Epoch [75/75], Learning Rate: 0.0001316005813502869\n"
          ]
        }
      ]
    },
    {
      "cell_type": "code",
      "source": [
        "# モデルの評価\n",
        "model.eval()\n",
        "with torch.no_grad():\n",
        "    total = 0\n",
        "    correct = 0\n",
        "    for images, labels in test_loader_cifar100:\n",
        "        images = images.to(device)\n",
        "        labels = labels.to(device)\n",
        "        outputs = model(images)\n",
        "        _, predicted = torch.max(outputs.data, 1)\n",
        "        total += labels.size(0)\n",
        "        correct += (predicted == labels).sum().item()\n",
        "    # 正解率精度の確認\n",
        "    print('Test Accuracy: {} %'.format(100 * correct / total))"
      ],
      "metadata": {
        "colab": {
          "base_uri": "https://localhost:8080/"
        },
        "id": "uElJSN1cFQXc",
        "outputId": "d6c2d6dc-9e27-4382-a82d-bf89e9bc6ccf"
      },
      "execution_count": 18,
      "outputs": [
        {
          "output_type": "stream",
          "name": "stdout",
          "text": [
            "Test Accuracy: 75.68 %\n"
          ]
        }
      ]
    },
    {
      "cell_type": "code",
      "source": [
        "# GPUメモリの解放\n",
        "del model\n",
        "torch.cuda.empty_cache()"
      ],
      "metadata": {
        "id": "mdCUTS3CFQXc"
      },
      "execution_count": 19,
      "outputs": []
    },
    {
      "cell_type": "markdown",
      "source": [
        "### 学習と評価（100 epochs）"
      ],
      "metadata": {
        "id": "pJyew3dez2Wc"
      }
    },
    {
      "cell_type": "code",
      "source": [
        "# デバイスを設定\n",
        "device = torch.device('cuda' if torch.cuda.is_available() else 'cpu')\n",
        "# モデルを定義\n",
        "model = wideresnet28_10_100().to(device)\n",
        "\n",
        "# 学習率を設定\n",
        "learning_rate = 0.001\n",
        "# 全体のepoch数を設定\n",
        "num_epochs = 100\n",
        "# warm-upするepoch数を設定\n",
        "warmup_epochs = 10\n",
        "\n",
        "# 損失関数を定義\n",
        "criterion = nn.CrossEntropyLoss()\n",
        "# オプティマイザーを設定\n",
        "optimizer = optim.Adam(model.parameters(), lr=learning_rate)\n",
        "# スケジューラーを設定\n",
        "scheduler = CosineLRScheduler(optimizer, t_initial=num_epochs, lr_min=1e-4, warmup_t=warmup_epochs, warmup_lr_init=1e-4, warmup_prefix=True)\n",
        "\n",
        "# モデルの学習\n",
        "for epoch in range(num_epochs):\n",
        "    total = 0\n",
        "    correct = 0\n",
        "    for i, (images, labels) in enumerate(train_loader_cifar100):\n",
        "        images = images.to(device)\n",
        "        labels = labels.to(device)\n",
        "        # 順伝播\n",
        "        outputs = model(images)\n",
        "        loss = criterion(outputs, labels)\n",
        "        # 逆伝播\n",
        "        optimizer.zero_grad()\n",
        "        loss.backward()\n",
        "        optimizer.step()\n",
        "        _, predicted = torch.max(outputs.data, 1)\n",
        "        # 全データ数\n",
        "        total += labels.size(0)\n",
        "        # 正解数\n",
        "        correct += (predicted == labels).sum().item()\n",
        "    # 正解率精度を計算\n",
        "    train_acc = 100 * correct / total\n",
        "    # 正解率精度と損失を確認\n",
        "    print(\"Epoch [{}/{}], Train Accuracy: {} %, Loss: {:.4f}\".format(epoch+1, num_epochs, 100 * correct / total, loss.item()))\n",
        "    # 1エポック終了後にスケジューラーを更新\n",
        "    scheduler.step(epoch)\n",
        "    # 学習率の確認\n",
        "    print(\"Epoch [{}/{}], Learning Rate: {}\".format(epoch+1, num_epochs, optimizer.param_groups[0]['lr']))\n",
        "\n",
        "# モデルを保存\n",
        "torch.save(model, '/content/drive/MyDrive/WideResNet28_10_CIFAR100_100epochs_CLRS_restest.pth')"
      ],
      "metadata": {
        "id": "lkPQYc-Uz2Wc",
        "colab": {
          "base_uri": "https://localhost:8080/"
        },
        "outputId": "b5824ed2-744b-44ac-bd93-0809fefafe48"
      },
      "execution_count": 14,
      "outputs": [
        {
          "output_type": "stream",
          "name": "stdout",
          "text": [
            "Epoch [1/100], Train Accuracy: 8.266 %, Loss: 3.8483\n",
            "Epoch [1/100], Learning Rate: 0.0001\n",
            "Epoch [2/100], Train Accuracy: 14.836 %, Loss: 3.4816\n",
            "Epoch [2/100], Learning Rate: 0.00019\n",
            "Epoch [3/100], Train Accuracy: 19.266 %, Loss: 3.2049\n",
            "Epoch [3/100], Learning Rate: 0.00028\n",
            "Epoch [4/100], Train Accuracy: 25.732 %, Loss: 2.8074\n",
            "Epoch [4/100], Learning Rate: 0.00036999999999999994\n",
            "Epoch [5/100], Train Accuracy: 31.556 %, Loss: 2.5629\n",
            "Epoch [5/100], Learning Rate: 0.00045999999999999996\n",
            "Epoch [6/100], Train Accuracy: 36.694 %, Loss: 2.2562\n",
            "Epoch [6/100], Learning Rate: 0.00055\n",
            "Epoch [7/100], Train Accuracy: 41.69 %, Loss: 2.0971\n",
            "Epoch [7/100], Learning Rate: 0.0006399999999999999\n",
            "Epoch [8/100], Train Accuracy: 45.788 %, Loss: 1.9129\n",
            "Epoch [8/100], Learning Rate: 0.00073\n",
            "Epoch [9/100], Train Accuracy: 50.074 %, Loss: 1.9266\n",
            "Epoch [9/100], Learning Rate: 0.00082\n",
            "Epoch [10/100], Train Accuracy: 53.272 %, Loss: 1.7099\n",
            "Epoch [10/100], Learning Rate: 0.00091\n",
            "Epoch [11/100], Train Accuracy: 56.286 %, Loss: 1.3580\n",
            "Epoch [11/100], Learning Rate: 0.001\n",
            "Epoch [12/100], Train Accuracy: 58.96 %, Loss: 1.5338\n",
            "Epoch [12/100], Learning Rate: 0.0009997779521645793\n",
            "Epoch [13/100], Train Accuracy: 61.788 %, Loss: 1.2655\n",
            "Epoch [13/100], Learning Rate: 0.0009991120277927223\n",
            "Epoch [14/100], Train Accuracy: 64.136 %, Loss: 1.2357\n",
            "Epoch [14/100], Learning Rate: 0.000998002884071386\n",
            "Epoch [15/100], Train Accuracy: 66.804 %, Loss: 1.1263\n",
            "Epoch [15/100], Learning Rate: 0.000996451615591515\n",
            "Epoch [16/100], Train Accuracy: 68.646 %, Loss: 1.0455\n",
            "Epoch [16/100], Learning Rate: 0.000994459753267812\n",
            "Epoch [17/100], Train Accuracy: 70.832 %, Loss: 0.9356\n",
            "Epoch [17/100], Learning Rate: 0.00099202926282791\n",
            "Epoch [18/100], Train Accuracy: 72.262 %, Loss: 1.0229\n",
            "Epoch [18/100], Learning Rate: 0.0009891625428724363\n",
            "Epoch [19/100], Train Accuracy: 74.078 %, Loss: 0.7680\n",
            "Epoch [19/100], Learning Rate: 0.000985862422507884\n",
            "Epoch [20/100], Train Accuracy: 75.828 %, Loss: 0.7266\n",
            "Epoch [20/100], Learning Rate: 0.0009821321585546244\n",
            "Epoch [21/100], Train Accuracy: 77.48 %, Loss: 0.7643\n",
            "Epoch [21/100], Learning Rate: 0.0009779754323328191\n",
            "Epoch [22/100], Train Accuracy: 78.448 %, Loss: 0.7139\n",
            "Epoch [22/100], Learning Rate: 0.0009733963460294015\n",
            "Epoch [23/100], Train Accuracy: 80.08 %, Loss: 0.5739\n",
            "Epoch [23/100], Learning Rate: 0.0009683994186497131\n",
            "Epoch [24/100], Train Accuracy: 81.052 %, Loss: 0.5746\n",
            "Epoch [24/100], Learning Rate: 0.0009629895815577914\n",
            "Epoch [25/100], Train Accuracy: 82.774 %, Loss: 0.5801\n",
            "Epoch [25/100], Learning Rate: 0.0009571721736097088\n",
            "Epoch [26/100], Train Accuracy: 84.002 %, Loss: 0.5606\n",
            "Epoch [26/100], Learning Rate: 0.0009509529358847655\n",
            "Epoch [27/100], Train Accuracy: 85.012 %, Loss: 0.4454\n",
            "Epoch [27/100], Learning Rate: 0.0009443380060197386\n",
            "Epoch [28/100], Train Accuracy: 85.704 %, Loss: 0.4193\n",
            "Epoch [28/100], Learning Rate: 0.0009373339121517746\n",
            "Epoch [29/100], Train Accuracy: 87.17 %, Loss: 0.5497\n",
            "Epoch [29/100], Learning Rate: 0.0009299475664759069\n",
            "Epoch [30/100], Train Accuracy: 88.146 %, Loss: 0.4487\n",
            "Epoch [30/100], Learning Rate: 0.0009221862584235528\n",
            "Epoch [31/100], Train Accuracy: 88.996 %, Loss: 0.3853\n",
            "Epoch [31/100], Learning Rate: 0.0009140576474687263\n",
            "Epoch [32/100], Train Accuracy: 89.998 %, Loss: 0.3655\n",
            "Epoch [32/100], Learning Rate: 0.0009055697555690606\n",
            "Epoch [33/100], Train Accuracy: 90.91 %, Loss: 0.2974\n",
            "Epoch [33/100], Learning Rate: 0.0008967309592491052\n",
            "Epoch [34/100], Train Accuracy: 91.77 %, Loss: 0.2989\n",
            "Epoch [34/100], Learning Rate: 0.0008875499813337069\n",
            "Epoch [35/100], Train Accuracy: 92.582 %, Loss: 0.2757\n",
            "Epoch [35/100], Learning Rate: 0.0008780358823396353\n",
            "Epoch [36/100], Train Accuracy: 92.674 %, Loss: 0.2252\n",
            "Epoch [36/100], Learning Rate: 0.0008681980515339464\n",
            "Epoch [37/100], Train Accuracy: 93.446 %, Loss: 0.2496\n",
            "Epoch [37/100], Learning Rate: 0.0008580461976679099\n",
            "Epoch [38/100], Train Accuracy: 94.154 %, Loss: 0.2074\n",
            "Epoch [38/100], Learning Rate: 0.0008475903393956434\n",
            "Epoch [39/100], Train Accuracy: 94.192 %, Loss: 0.1569\n",
            "Epoch [39/100], Learning Rate: 0.0008368407953869105\n",
            "Epoch [40/100], Train Accuracy: 94.676 %, Loss: 0.1496\n",
            "Epoch [40/100], Learning Rate: 0.0008258081741438395\n",
            "Epoch [41/100], Train Accuracy: 95.096 %, Loss: 0.1911\n",
            "Epoch [41/100], Learning Rate: 0.0008145033635316131\n",
            "Epoch [42/100], Train Accuracy: 95.492 %, Loss: 0.1214\n",
            "Epoch [42/100], Learning Rate: 0.0008029375200334589\n",
            "Epoch [43/100], Train Accuracy: 96.298 %, Loss: 0.1384\n",
            "Epoch [43/100], Learning Rate: 0.0007911220577405485\n",
            "Epoch [44/100], Train Accuracy: 96.328 %, Loss: 0.1210\n",
            "Epoch [44/100], Learning Rate: 0.0007790686370876671\n",
            "Epoch [45/100], Train Accuracy: 96.418 %, Loss: 0.1079\n",
            "Epoch [45/100], Learning Rate: 0.0007667891533457719\n",
            "Epoch [46/100], Train Accuracy: 96.702 %, Loss: 0.1797\n",
            "Epoch [46/100], Learning Rate: 0.000754295724882796\n",
            "Epoch [47/100], Train Accuracy: 97.178 %, Loss: 0.1027\n",
            "Epoch [47/100], Learning Rate: 0.0007416006812042827\n",
            "Epoch [48/100], Train Accuracy: 97.178 %, Loss: 0.0483\n",
            "Epoch [48/100], Learning Rate: 0.0007287165507856513\n",
            "Epoch [49/100], Train Accuracy: 97.522 %, Loss: 0.1035\n",
            "Epoch [49/100], Learning Rate: 0.0007156560487081052\n",
            "Epoch [50/100], Train Accuracy: 97.706 %, Loss: 0.0677\n",
            "Epoch [50/100], Learning Rate: 0.0007024320641103813\n",
            "Epoch [51/100], Train Accuracy: 97.43 %, Loss: 0.0684\n",
            "Epoch [51/100], Learning Rate: 0.0006890576474687264\n",
            "Epoch [52/100], Train Accuracy: 97.564 %, Loss: 0.1079\n",
            "Epoch [52/100], Learning Rate: 0.0006755459977176532\n",
            "Epoch [53/100], Train Accuracy: 97.874 %, Loss: 0.1086\n",
            "Epoch [53/100], Learning Rate: 0.0006619104492241846\n",
            "Epoch [54/100], Train Accuracy: 98.05 %, Loss: 0.0920\n",
            "Epoch [54/100], Learning Rate: 0.0006481644586284443\n",
            "Epoch [55/100], Train Accuracy: 98.186 %, Loss: 0.1134\n",
            "Epoch [55/100], Learning Rate: 0.0006343215915635762\n",
            "Epoch [56/100], Train Accuracy: 98.422 %, Loss: 0.0611\n",
            "Epoch [56/100], Learning Rate: 0.000620395509268104\n",
            "Epoch [57/100], Train Accuracy: 98.492 %, Loss: 0.0585\n",
            "Epoch [57/100], Learning Rate: 0.000606399955103937\n",
            "Epoch [58/100], Train Accuracy: 98.684 %, Loss: 0.0388\n",
            "Epoch [58/100], Learning Rate: 0.0005923487409933315\n",
            "Epoch [59/100], Train Accuracy: 98.718 %, Loss: 0.0453\n",
            "Epoch [59/100], Learning Rate: 0.0005782557337881911\n",
            "Epoch [60/100], Train Accuracy: 98.872 %, Loss: 0.0181\n",
            "Epoch [60/100], Learning Rate: 0.0005641348415851578\n",
            "Epoch [61/100], Train Accuracy: 98.826 %, Loss: 0.0213\n",
            "Epoch [61/100], Learning Rate: 0.00055\n",
            "Epoch [62/100], Train Accuracy: 98.904 %, Loss: 0.0352\n",
            "Epoch [62/100], Learning Rate: 0.0005358651584148423\n",
            "Epoch [63/100], Train Accuracy: 99.062 %, Loss: 0.0402\n",
            "Epoch [63/100], Learning Rate: 0.000521744266211809\n",
            "Epoch [64/100], Train Accuracy: 98.946 %, Loss: 0.0645\n",
            "Epoch [64/100], Learning Rate: 0.0005076512590066686\n",
            "Epoch [65/100], Train Accuracy: 99.042 %, Loss: 0.0223\n",
            "Epoch [65/100], Learning Rate: 0.0004936000448960632\n",
            "Epoch [66/100], Train Accuracy: 99.156 %, Loss: 0.0175\n",
            "Epoch [66/100], Learning Rate: 0.0004796044907318961\n",
            "Epoch [67/100], Train Accuracy: 99.138 %, Loss: 0.0235\n",
            "Epoch [67/100], Learning Rate: 0.0004656784084364239\n",
            "Epoch [68/100], Train Accuracy: 99.306 %, Loss: 0.0355\n",
            "Epoch [68/100], Learning Rate: 0.00045183554137155597\n",
            "Epoch [69/100], Train Accuracy: 99.368 %, Loss: 0.0144\n",
            "Epoch [69/100], Learning Rate: 0.0004380895507758153\n",
            "Epoch [70/100], Train Accuracy: 99.426 %, Loss: 0.0298\n",
            "Epoch [70/100], Learning Rate: 0.00042445400228234684\n",
            "Epoch [71/100], Train Accuracy: 99.42 %, Loss: 0.0223\n",
            "Epoch [71/100], Learning Rate: 0.0004109423525312738\n",
            "Epoch [72/100], Train Accuracy: 99.606 %, Loss: 0.0280\n",
            "Epoch [72/100], Learning Rate: 0.0003975679358896189\n",
            "Epoch [73/100], Train Accuracy: 99.612 %, Loss: 0.0221\n",
            "Epoch [73/100], Learning Rate: 0.000384343951291895\n",
            "Epoch [74/100], Train Accuracy: 99.514 %, Loss: 0.0216\n",
            "Epoch [74/100], Learning Rate: 0.00037128344921434864\n",
            "Epoch [75/100], Train Accuracy: 99.514 %, Loss: 0.0051\n",
            "Epoch [75/100], Learning Rate: 0.0003583993187957173\n",
            "Epoch [76/100], Train Accuracy: 99.644 %, Loss: 0.0148\n",
            "Epoch [76/100], Learning Rate: 0.00034570427511720393\n",
            "Epoch [77/100], Train Accuracy: 99.734 %, Loss: 0.0053\n",
            "Epoch [77/100], Learning Rate: 0.0003332108466542281\n",
            "Epoch [78/100], Train Accuracy: 99.748 %, Loss: 0.0126\n",
            "Epoch [78/100], Learning Rate: 0.0003209313629123329\n",
            "Epoch [79/100], Train Accuracy: 99.754 %, Loss: 0.0116\n",
            "Epoch [79/100], Learning Rate: 0.0003088779422594514\n",
            "Epoch [80/100], Train Accuracy: 99.75 %, Loss: 0.0292\n",
            "Epoch [80/100], Learning Rate: 0.0002970624799665412\n",
            "Epoch [81/100], Train Accuracy: 99.698 %, Loss: 0.0073\n",
            "Epoch [81/100], Learning Rate: 0.00028549663646838715\n",
            "Epoch [82/100], Train Accuracy: 99.728 %, Loss: 0.0063\n",
            "Epoch [82/100], Learning Rate: 0.00027419182585616055\n",
            "Epoch [83/100], Train Accuracy: 99.818 %, Loss: 0.0096\n",
            "Epoch [83/100], Learning Rate: 0.0002631592046130896\n",
            "Epoch [84/100], Train Accuracy: 99.826 %, Loss: 0.0030\n",
            "Epoch [84/100], Learning Rate: 0.00025240966060435674\n",
            "Epoch [85/100], Train Accuracy: 99.812 %, Loss: 0.0241\n",
            "Epoch [85/100], Learning Rate: 0.00024195380233209008\n",
            "Epoch [86/100], Train Accuracy: 99.844 %, Loss: 0.0032\n",
            "Epoch [86/100], Learning Rate: 0.00023180194846605365\n",
            "Epoch [87/100], Train Accuracy: 99.874 %, Loss: 0.0018\n",
            "Epoch [87/100], Learning Rate: 0.0002219641176603649\n",
            "Epoch [88/100], Train Accuracy: 99.846 %, Loss: 0.0105\n",
            "Epoch [88/100], Learning Rate: 0.0002124500186662932\n",
            "Epoch [89/100], Train Accuracy: 99.842 %, Loss: 0.0077\n",
            "Epoch [89/100], Learning Rate: 0.00020326904075089488\n",
            "Epoch [90/100], Train Accuracy: 99.856 %, Loss: 0.0052\n",
            "Epoch [90/100], Learning Rate: 0.00019443024443093932\n",
            "Epoch [91/100], Train Accuracy: 99.844 %, Loss: 0.0025\n",
            "Epoch [91/100], Learning Rate: 0.00018594235253127368\n",
            "Epoch [92/100], Train Accuracy: 99.89 %, Loss: 0.0022\n",
            "Epoch [92/100], Learning Rate: 0.00017781374157644722\n",
            "Epoch [93/100], Train Accuracy: 99.866 %, Loss: 0.0017\n",
            "Epoch [93/100], Learning Rate: 0.00017005243352409332\n",
            "Epoch [94/100], Train Accuracy: 99.894 %, Loss: 0.0019\n",
            "Epoch [94/100], Learning Rate: 0.0001626660878482253\n",
            "Epoch [95/100], Train Accuracy: 99.902 %, Loss: 0.0022\n",
            "Epoch [95/100], Learning Rate: 0.0001556619939802614\n",
            "Epoch [96/100], Train Accuracy: 99.94 %, Loss: 0.0009\n",
            "Epoch [96/100], Learning Rate: 0.0001490470641152345\n",
            "Epoch [97/100], Train Accuracy: 99.922 %, Loss: 0.0065\n",
            "Epoch [97/100], Learning Rate: 0.0001428278263902913\n",
            "Epoch [98/100], Train Accuracy: 99.894 %, Loss: 0.0012\n",
            "Epoch [98/100], Learning Rate: 0.00013701041844220858\n",
            "Epoch [99/100], Train Accuracy: 99.898 %, Loss: 0.0060\n",
            "Epoch [99/100], Learning Rate: 0.0001316005813502869\n",
            "Epoch [100/100], Train Accuracy: 99.93 %, Loss: 0.0015\n",
            "Epoch [100/100], Learning Rate: 0.00012660365397059855\n"
          ]
        }
      ]
    },
    {
      "cell_type": "code",
      "source": [
        "# モデルの評価\n",
        "model.eval()\n",
        "with torch.no_grad():\n",
        "    total = 0\n",
        "    correct = 0\n",
        "    for images, labels in test_loader_cifar100:\n",
        "        images = images.to(device)\n",
        "        labels = labels.to(device)\n",
        "        outputs = model(images)\n",
        "        _, predicted = torch.max(outputs.data, 1)\n",
        "        total += labels.size(0)\n",
        "        correct += (predicted == labels).sum().item()\n",
        "    # 正解率精度の確認\n",
        "    print('Test Accuracy: {} %'.format(100 * correct / total))"
      ],
      "metadata": {
        "id": "1-yK4fD1z2Wd",
        "colab": {
          "base_uri": "https://localhost:8080/"
        },
        "outputId": "66fa8076-fb8c-4389-fd49-df829b4bfbe0"
      },
      "execution_count": 15,
      "outputs": [
        {
          "output_type": "stream",
          "name": "stdout",
          "text": [
            "Test Accuracy: 75.75 %\n"
          ]
        }
      ]
    },
    {
      "cell_type": "code",
      "source": [
        "# GPUメモリの解放\n",
        "del model\n",
        "torch.cuda.empty_cache()"
      ],
      "metadata": {
        "id": "J-woiaozz2Wd"
      },
      "execution_count": 16,
      "outputs": []
    }
  ]
}