{
  "nbformat": 4,
  "nbformat_minor": 0,
  "metadata": {
    "colab": {
      "provenance": [],
      "machine_shape": "hm",
      "gpuType": "A100"
    },
    "kernelspec": {
      "name": "python3",
      "display_name": "Python 3"
    },
    "language_info": {
      "name": "python"
    },
    "accelerator": "GPU"
  },
  "cells": [
    {
      "cell_type": "markdown",
      "source": [
        "### ドライブのマウント"
      ],
      "metadata": {
        "id": "m-QbZLFlyjCA"
      }
    },
    {
      "cell_type": "code",
      "execution_count": 1,
      "metadata": {
        "id": "9g8jY7G9ahIa",
        "colab": {
          "base_uri": "https://localhost:8080/"
        },
        "outputId": "b6baec92-6a5d-40ba-9275-5233e0959c75"
      },
      "outputs": [
        {
          "output_type": "stream",
          "name": "stdout",
          "text": [
            "Mounted at /content/drive\n"
          ]
        }
      ],
      "source": [
        "# Googleドライブをマウント\n",
        "from google.colab import drive\n",
        "drive.mount('/content/drive')"
      ]
    },
    {
      "cell_type": "markdown",
      "source": [
        "### ライブラリ・モジュールのインポート"
      ],
      "metadata": {
        "id": "cdzvZUWNzQAY"
      }
    },
    {
      "cell_type": "code",
      "source": [
        "# ライブラリの準備\n",
        "!pip install timm\n",
        "import torch\n",
        "import torch.nn as nn\n",
        "import torchvision\n",
        "import torchvision.transforms as transforms\n",
        "import torchvision.datasets as datasets\n",
        "import torch.nn.functional as F\n",
        "import torch.optim as optim\n",
        "import torch.optim.lr_scheduler as lr_scheduler\n",
        "from timm.scheduler import CosineLRScheduler\n",
        "import numpy as np\n",
        "import pandas as pd\n",
        "import matplotlib.pyplot as plt\n",
        "import os\n",
        "import math\n",
        "import random\n",
        "from PIL import Image\n",
        "import pickle"
      ],
      "metadata": {
        "id": "l8wfSjPuboGS",
        "colab": {
          "base_uri": "https://localhost:8080/"
        },
        "outputId": "0b28c061-dfb9-4fbf-eb68-47c7dbf1d4ec"
      },
      "execution_count": 2,
      "outputs": [
        {
          "output_type": "stream",
          "name": "stdout",
          "text": [
            "Collecting timm\n",
            "  Downloading timm-0.9.2-py3-none-any.whl (2.2 MB)\n",
            "\u001b[2K     \u001b[90m━━━━━━━━━━━━━━━━━━━━━━━━━━━━━━━━━━━━━━━━\u001b[0m \u001b[32m2.2/2.2 MB\u001b[0m \u001b[31m26.9 MB/s\u001b[0m eta \u001b[36m0:00:00\u001b[0m\n",
            "\u001b[?25hRequirement already satisfied: torch>=1.7 in /usr/local/lib/python3.10/dist-packages (from timm) (2.0.1+cu118)\n",
            "Requirement already satisfied: torchvision in /usr/local/lib/python3.10/dist-packages (from timm) (0.15.2+cu118)\n",
            "Requirement already satisfied: pyyaml in /usr/local/lib/python3.10/dist-packages (from timm) (6.0.1)\n",
            "Collecting huggingface-hub (from timm)\n",
            "  Downloading huggingface_hub-0.16.4-py3-none-any.whl (268 kB)\n",
            "\u001b[2K     \u001b[90m━━━━━━━━━━━━━━━━━━━━━━━━━━━━━━━━━━━━━━\u001b[0m \u001b[32m268.8/268.8 kB\u001b[0m \u001b[31m35.1 MB/s\u001b[0m eta \u001b[36m0:00:00\u001b[0m\n",
            "\u001b[?25hCollecting safetensors (from timm)\n",
            "  Downloading safetensors-0.3.1-cp310-cp310-manylinux_2_17_x86_64.manylinux2014_x86_64.whl (1.3 MB)\n",
            "\u001b[2K     \u001b[90m━━━━━━━━━━━━━━━━━━━━━━━━━━━━━━━━━━━━━━━━\u001b[0m \u001b[32m1.3/1.3 MB\u001b[0m \u001b[31m83.0 MB/s\u001b[0m eta \u001b[36m0:00:00\u001b[0m\n",
            "\u001b[?25hRequirement already satisfied: filelock in /usr/local/lib/python3.10/dist-packages (from torch>=1.7->timm) (3.12.2)\n",
            "Requirement already satisfied: typing-extensions in /usr/local/lib/python3.10/dist-packages (from torch>=1.7->timm) (4.7.1)\n",
            "Requirement already satisfied: sympy in /usr/local/lib/python3.10/dist-packages (from torch>=1.7->timm) (1.11.1)\n",
            "Requirement already satisfied: networkx in /usr/local/lib/python3.10/dist-packages (from torch>=1.7->timm) (3.1)\n",
            "Requirement already satisfied: jinja2 in /usr/local/lib/python3.10/dist-packages (from torch>=1.7->timm) (3.1.2)\n",
            "Requirement already satisfied: triton==2.0.0 in /usr/local/lib/python3.10/dist-packages (from torch>=1.7->timm) (2.0.0)\n",
            "Requirement already satisfied: cmake in /usr/local/lib/python3.10/dist-packages (from triton==2.0.0->torch>=1.7->timm) (3.25.2)\n",
            "Requirement already satisfied: lit in /usr/local/lib/python3.10/dist-packages (from triton==2.0.0->torch>=1.7->timm) (16.0.6)\n",
            "Requirement already satisfied: fsspec in /usr/local/lib/python3.10/dist-packages (from huggingface-hub->timm) (2023.6.0)\n",
            "Requirement already satisfied: requests in /usr/local/lib/python3.10/dist-packages (from huggingface-hub->timm) (2.27.1)\n",
            "Requirement already satisfied: tqdm>=4.42.1 in /usr/local/lib/python3.10/dist-packages (from huggingface-hub->timm) (4.65.0)\n",
            "Requirement already satisfied: packaging>=20.9 in /usr/local/lib/python3.10/dist-packages (from huggingface-hub->timm) (23.1)\n",
            "Requirement already satisfied: numpy in /usr/local/lib/python3.10/dist-packages (from torchvision->timm) (1.22.4)\n",
            "Requirement already satisfied: pillow!=8.3.*,>=5.3.0 in /usr/local/lib/python3.10/dist-packages (from torchvision->timm) (9.4.0)\n",
            "Requirement already satisfied: MarkupSafe>=2.0 in /usr/local/lib/python3.10/dist-packages (from jinja2->torch>=1.7->timm) (2.1.3)\n",
            "Requirement already satisfied: urllib3<1.27,>=1.21.1 in /usr/local/lib/python3.10/dist-packages (from requests->huggingface-hub->timm) (1.26.16)\n",
            "Requirement already satisfied: certifi>=2017.4.17 in /usr/local/lib/python3.10/dist-packages (from requests->huggingface-hub->timm) (2023.7.22)\n",
            "Requirement already satisfied: charset-normalizer~=2.0.0 in /usr/local/lib/python3.10/dist-packages (from requests->huggingface-hub->timm) (2.0.12)\n",
            "Requirement already satisfied: idna<4,>=2.5 in /usr/local/lib/python3.10/dist-packages (from requests->huggingface-hub->timm) (3.4)\n",
            "Requirement already satisfied: mpmath>=0.19 in /usr/local/lib/python3.10/dist-packages (from sympy->torch>=1.7->timm) (1.3.0)\n",
            "Installing collected packages: safetensors, huggingface-hub, timm\n",
            "Successfully installed huggingface-hub-0.16.4 safetensors-0.3.1 timm-0.9.2\n"
          ]
        }
      ]
    },
    {
      "cell_type": "markdown",
      "source": [
        "### シード値の設定"
      ],
      "metadata": {
        "id": "_8vKbM9TzkCb"
      }
    },
    {
      "cell_type": "code",
      "source": [
        "# シード値を設定\n",
        "def fix_seed(seed=1234):\n",
        "    random.seed(seed)\n",
        "    np.random.seed(seed)\n",
        "    torch.manual_seed(seed)\n",
        "    torch.cuda.manual_seed(seed)\n",
        "\n",
        "fix_seed(seed=1234)"
      ],
      "metadata": {
        "id": "pGX4Zk1LbtPr"
      },
      "execution_count": 3,
      "outputs": []
    },
    {
      "cell_type": "markdown",
      "source": [
        "### データセットの準備"
      ],
      "metadata": {
        "id": "9aOdldqfyoSt"
      }
    },
    {
      "cell_type": "code",
      "source": [
        "# Colabのローカルファイルに自作データをコピー（初めからローカルファイルにアップロードする場合は不要）\n",
        "!cp -r \"/content/drive/MyDrive/HandSigns/\" \"/content/HandSigns/\""
      ],
      "metadata": {
        "id": "Y3PcozNzefyo"
      },
      "execution_count": 4,
      "outputs": []
    },
    {
      "cell_type": "code",
      "source": [
        "# 自作データをリサイズして、ファイル構造を保ったまま新しいフォルダに保存する関数を定義\n",
        "def resize_images(base_dir, new_base_dir, image_size=(32, 32)):\n",
        "    for folder in os.listdir(base_dir):\n",
        "        folder_path = os.path.join(base_dir, folder)\n",
        "        new_folder_path = os.path.join(new_base_dir, folder)\n",
        "        # リサイズした自作データを保存する新しいフォルダを作成\n",
        "        os.makedirs(new_folder_path, exist_ok=True)\n",
        "        for filename in os.listdir(folder_path):\n",
        "            file_path = os.path.join(folder_path, filename)\n",
        "            # 拡張子の確認\n",
        "            if file_path.endswith(('.jpg', '.jpeg')):\n",
        "                # 画像を展開\n",
        "                img = Image.open(file_path)\n",
        "                # 画像をリサイズ\n",
        "                img_resized = img.resize(image_size)\n",
        "                # リサイズした画像を新しいフォルダに保存\n",
        "                img_resized.save(os.path.join(new_folder_path, filename))\n",
        "\n",
        "# 学習用の自作データのディレクトリを設定\n",
        "train_base_dir = '/content/HandSigns/train'\n",
        "# テスト用の自作データのディレクトリを設定\n",
        "test_base_dir = '/content/HandSigns/test'\n",
        "\n",
        "# リサイズした学習用の自作データを保存するディレクトリを設定\n",
        "new_train_base_dir = '/content/HandSigns/resized_train_32'\n",
        "# リサイズしたテスト用の自作データを保存するディレクトリを設定\n",
        "new_test_base_dir = '/content/HandSigns/resized_test_32'\n",
        "# リサイズする大きさを設定\n",
        "image_size = (32, 32)\n",
        "\n",
        "# 学習用の自作データをリサイズ\n",
        "resize_images(train_base_dir, new_train_base_dir, image_size)\n",
        "# テスト用の自作データをリサイズ\n",
        "resize_images(test_base_dir, new_test_base_dir, image_size)"
      ],
      "metadata": {
        "id": "Z8zfdM7qoClj"
      },
      "execution_count": 5,
      "outputs": []
    },
    {
      "cell_type": "code",
      "source": [
        "# 平均値と標準偏差を計算するためのHandSignsの前処理を定義\n",
        "pre_transform_handsigns = transforms.Compose([\n",
        "    transforms.ToTensor()\n",
        "])\n",
        "\n",
        "# 平均値と標準偏差を計算するためのHandSignsデータセットの前処理を定義\n",
        "pre_train_dataset_handsigns = torchvision.datasets.ImageFolder(\"/content/HandSigns/resized_train_32\", transform=pre_transform_handsigns)\n",
        "\n",
        "# 平均値と標準偏差を計算するための変数を初期化\n",
        "pre_mean_handsigns = 0.0\n",
        "pre_std_handsigns = 0.0\n",
        "pre_total_samples_handsigns = len(pre_train_dataset_handsigns)\n",
        "\n",
        "# データセットのすべてのデータポイントに対して平均値と標準偏差を計算\n",
        "for data in pre_train_dataset_handsigns:\n",
        "    pre_image, _ = data\n",
        "    pre_mean_handsigns += pre_image.mean(dim=(1, 2))  # テンソルのチャンネルごとに平均を計算\n",
        "    pre_std_handsigns += pre_image.std(dim=(1, 2))    # テンソルのチャンネルごとに標準偏差を計算\n",
        "\n",
        "# データセット全体の平均値と標準偏差を計算\n",
        "pre_mean_handsigns /= pre_total_samples_handsigns\n",
        "pre_std_handsigns /= pre_total_samples_handsigns\n",
        "\n",
        "print(\"データセット全体の平均値: \", pre_mean_handsigns)\n",
        "print(\"データセット全体の標準偏差: \", pre_std_handsigns)"
      ],
      "metadata": {
        "id": "nmHDAzTx7_mM",
        "colab": {
          "base_uri": "https://localhost:8080/"
        },
        "outputId": "310d362f-aafd-4872-dc59-215285b19106"
      },
      "execution_count": 6,
      "outputs": [
        {
          "output_type": "stream",
          "name": "stdout",
          "text": [
            "データセット全体の平均値:  tensor([0.6954, 0.6754, 0.6450])\n",
            "データセット全体の標準偏差:  tensor([0.1331, 0.1565, 0.1689])\n"
          ]
        }
      ]
    },
    {
      "cell_type": "code",
      "source": [
        "# 学習用のHandSignsデータセットの前処理を定義\n",
        "train_transform_handsigns = transforms.Compose([\n",
        "    transforms.RandomCrop(32, padding=4),\n",
        "    transforms.RandomHorizontalFlip(),\n",
        "    transforms.ToTensor(),\n",
        "    transforms.Normalize(mean=pre_mean_handsigns, std=pre_std_handsigns)\n",
        "    ])\n",
        "\n",
        "# テスト用のHandSignsデータセットの前処理を定義\n",
        "test_transform_handsigns = transforms.Compose([\n",
        "    transforms.ToTensor(),\n",
        "    transforms.Normalize(mean=pre_mean_handsigns, std=pre_std_handsigns)\n",
        "    ])\n",
        "\n",
        "# 学習用のHandSignsデータセットの読み込み\n",
        "train_dataset_handsigns = torchvision.datasets.ImageFolder(\"/content/HandSigns/resized_train_32\", transform=train_transform_handsigns)\n",
        "# テスト用のHandSignsデータセットの読み込み\n",
        "test_dataset_handsigns = torchvision.datasets.ImageFolder(\"/content/HandSigns/resized_test_32\", transform=test_transform_handsigns)\n",
        "\n",
        "# 学習用のHandSignsデータローダーを作成\n",
        "train_loader_handsigns = torch.utils.data.DataLoader(dataset=train_dataset_handsigns, batch_size=16, shuffle=True, num_workers=2)\n",
        "# テスト用のHandSignsデータローダーを作成\n",
        "test_loader_handsigns = torch.utils.data.DataLoader(dataset=test_dataset_handsigns, batch_size=16, shuffle=False, num_workers=2)"
      ],
      "metadata": {
        "id": "-HEpFd1if95E"
      },
      "execution_count": 7,
      "outputs": []
    },
    {
      "cell_type": "code",
      "source": [
        "# 学習データのクラス名とラベルの対応を確認\n",
        "print(train_dataset_handsigns.class_to_idx)\n",
        "# テストデータのクラス名とラベルの対応を確認\n",
        "print(test_dataset_handsigns.class_to_idx)"
      ],
      "metadata": {
        "colab": {
          "base_uri": "https://localhost:8080/"
        },
        "id": "SfjHvYVchpC1",
        "outputId": "6093f9be-04e5-4313-ba61-a9a60892c244"
      },
      "execution_count": 8,
      "outputs": [
        {
          "output_type": "stream",
          "name": "stdout",
          "text": [
            "{'100000': 0, '100001': 1, '100111': 2, '101000': 3, '110000': 4, '110001': 5, '111000': 6, '111001': 7, '111100': 8, '111111': 9}\n",
            "{'100000': 0, '100001': 1, '100111': 2, '101000': 3, '110000': 4, '110001': 5, '111000': 6, '111001': 7, '111100': 8, '111111': 9}\n"
          ]
        }
      ]
    },
    {
      "cell_type": "code",
      "source": [
        "# イテレータを作成\n",
        "data_iter = iter(train_loader_handsigns)\n",
        "\n",
        "# データを1バッチ分取得\n",
        "images, labels = next(data_iter)\n",
        "\n",
        "# 取得したバッチの画像とラベルの情報を確認\n",
        "print(\"画像の形状:\", images.shape)  # (バッチサイズ, チャンネル数, 高さ, 幅)\n",
        "print(\"ラベル:\", labels)"
      ],
      "metadata": {
        "colab": {
          "base_uri": "https://localhost:8080/"
        },
        "id": "COkrTTnDknvR",
        "outputId": "efba9775-078c-431f-dff6-e89ddb4e89f2"
      },
      "execution_count": 9,
      "outputs": [
        {
          "output_type": "stream",
          "name": "stdout",
          "text": [
            "画像の形状: torch.Size([16, 3, 32, 32])\n",
            "ラベル: tensor([3, 7, 4, 1, 3, 5, 6, 9, 9, 5, 3, 0, 4, 0, 2, 1])\n"
          ]
        }
      ]
    },
    {
      "cell_type": "markdown",
      "source": [
        "### モデルの実装"
      ],
      "metadata": {
        "id": "upaYuBYxytGA"
      }
    },
    {
      "cell_type": "code",
      "source": [
        "# 1×1の畳み込みを定義\n",
        "def conv1x1(in_channels, out_channels, stride=1):\n",
        "    return nn.Conv2d(in_channels, out_channels, kernel_size=1, stride=stride, bias=False)\n",
        "\n",
        "# 3×3の畳み込みを定義\n",
        "def conv3x3(in_channels, out_channels, stride=1):\n",
        "    return nn.Conv2d(in_channels, out_channels, kernel_size=3, stride=stride, padding=1, bias=False)"
      ],
      "metadata": {
        "id": "uvwDV2h3b54A"
      },
      "execution_count": 10,
      "outputs": []
    },
    {
      "cell_type": "code",
      "source": [
        "# Residual Blocksを定義\n",
        "class BuildingBlock(nn.Module):\n",
        "    def __init__(self, in_channels, out_channels, stride=1):\n",
        "        super().__init__()\n",
        "        self.bn1 = nn.BatchNorm2d(in_channels)\n",
        "        self.conv1 = conv3x3(in_channels, out_channels, stride)\n",
        "        self.bn2 = nn.BatchNorm2d(out_channels)\n",
        "        self.conv2 = conv3x3(out_channels, out_channels)\n",
        "        self.dropout = nn.Dropout(p=0.3)\n",
        "        self.relu = nn.ReLU(inplace=True)\n",
        "\n",
        "        # 入力と出力のチャンネル数が異なる場合（strideが1より大きい場合）、ダウンサンプリング\n",
        "        if in_channels != out_channels or stride > 1:\n",
        "            self.shortcut = conv1x1(in_channels, out_channels, stride)\n",
        "        else:\n",
        "            self.shortcut = nn.Sequential()\n",
        "\n",
        "    def forward(self, x):\n",
        "        out = self.bn1(x)\n",
        "        out = self.relu(out)\n",
        "        out = self.conv1(out)\n",
        "        out = self.bn2(out)\n",
        "        out = self.relu(out)\n",
        "        out = self.dropout(out)\n",
        "        out = self.conv2(out)\n",
        "        # 残差写像と恒等写像の要素毎の和を計算\n",
        "        out += self.shortcut(x)\n",
        "        return out"
      ],
      "metadata": {
        "id": "pibhyT9q7T-K"
      },
      "execution_count": 11,
      "outputs": []
    },
    {
      "cell_type": "code",
      "source": [
        "class WideResNet(nn.Module):\n",
        "    def __init__(self, block, depth, k, num_classes=10):\n",
        "        super().__init__()\n",
        "        assert (depth - 4) % 6 == 0, \"depth should be 6n + 4\"\n",
        "        n = (depth - 4) // 6\n",
        "        channels = [16, 16 * k, 32 * k, 64 * k]\n",
        "        self.conv1 = conv3x3(3, channels[0])\n",
        "        # Residual Blocks（1)\n",
        "        self.layer1 = self._make_layer(block, channels[0], channels[1], n)\n",
        "        # Residual Blocks（2）\n",
        "        self.layer2 = self._make_layer(block, channels[1], channels[2], n, stride=2)\n",
        "        # Residual Blocks（3）\n",
        "        self.layer3 = self._make_layer(block, channels[2], channels[3], n, stride=2)\n",
        "        self.bn = nn.BatchNorm2d(channels[3])\n",
        "        self.relu = nn.ReLU(inplace=True)\n",
        "        self.avgpool = nn.AdaptiveAvgPool2d((1, 1))\n",
        "        self.fc = nn.Linear(channels[3], num_classes)\n",
        "\n",
        "        for m in self.modules():\n",
        "            if isinstance(m, nn.Conv2d):\n",
        "                # Heの初期化（正規分布）\n",
        "                nn.init.kaiming_normal_(m.weight, mode='fan_out', nonlinearity='relu')\n",
        "            elif isinstance(m, (nn.BatchNorm2d, nn.GroupNorm)):\n",
        "                # 重みを1に初期化\n",
        "                nn.init.constant_(m.weight, 1)\n",
        "                # バイアスを0に初期化\n",
        "                nn.init.constant_(m.bias, 0)\n",
        "\n",
        "    # Residual Blocksを作成する関数を定義\n",
        "    def _make_layer(self, block, in_channels, out_channels, blocks, stride=1):\n",
        "        layers = []\n",
        "        # 最初の Residual Block（stride=stride）\n",
        "        layers.append(block(in_channels, out_channels, stride))\n",
        "        # 残りの Residual Block（stride=1）\n",
        "        for _ in range(1, blocks):\n",
        "            layers.append(block(out_channels, out_channels))\n",
        "        return nn.Sequential(*layers)\n",
        "\n",
        "    def forward(self, x):\n",
        "        x = self.conv1(x)\n",
        "        x = self.layer1(x)\n",
        "        x = self.layer2(x)\n",
        "        x = self.layer3(x)\n",
        "        x = self.bn(x)\n",
        "        x = self.relu(x)\n",
        "        x = self.avgpool(x)\n",
        "        x = torch.flatten(x, 1)\n",
        "        x = self.fc(x)\n",
        "        return x"
      ],
      "metadata": {
        "id": "QY3GI8Vu7cP2"
      },
      "execution_count": 12,
      "outputs": []
    },
    {
      "cell_type": "code",
      "source": [
        "# モデルを呼び出す関数を定義\n",
        "def wideresnet28_10_10():\n",
        "    return WideResNet(BuildingBlock, 28, 10, num_classes=10)"
      ],
      "metadata": {
        "id": "m3mdYxMccGCq"
      },
      "execution_count": 13,
      "outputs": []
    },
    {
      "cell_type": "code",
      "source": [
        "# パラメータ数を計算する関数を定義\n",
        "def num_params(model):\n",
        "    return sum(x.numel() for x in model.parameters() if x.requires_grad)\n",
        "# デバイスを設定\n",
        "device = torch.device('cuda' if torch.cuda.is_available() else 'cpu')\n",
        "# モデルを定義\n",
        "model = wideresnet28_10_10().to(device)\n",
        "# モデルのパラメータ数を確認\n",
        "print(\"WideResNet18のパラメータ数: {}\".format(num_params(model)))"
      ],
      "metadata": {
        "id": "8nb6_vBy3t68",
        "colab": {
          "base_uri": "https://localhost:8080/"
        },
        "outputId": "2f9d1f57-3fc0-4398-bb9b-743b232f633f"
      },
      "execution_count": 14,
      "outputs": [
        {
          "output_type": "stream",
          "name": "stdout",
          "text": [
            "WideResNet18のパラメータ数: 36479194\n"
          ]
        }
      ]
    },
    {
      "cell_type": "markdown",
      "source": [
        "### 学習と評価（10 epochs）"
      ],
      "metadata": {
        "id": "0LfeYUA1zZi9"
      }
    },
    {
      "cell_type": "code",
      "source": [
        "# デバイスを設定\n",
        "device = torch.device('cuda' if torch.cuda.is_available() else 'cpu')\n",
        "# モデルを定義\n",
        "model = wideresnet28_10_10().to(device)\n",
        "\n",
        "# 学習率を設定\n",
        "learning_rate = 0.001\n",
        "# 全体のepoch数を設定\n",
        "num_epochs = 10\n",
        "# warm-upするepoch数を設定\n",
        "warmup_epochs = 1\n",
        "\n",
        "# 損失関数を定義\n",
        "criterion = nn.CrossEntropyLoss()\n",
        "# オプティマイザーを設定\n",
        "optimizer = optim.Adam(model.parameters(), lr=learning_rate)\n",
        "# スケジューラーを設定\n",
        "scheduler = CosineLRScheduler(optimizer, t_initial=num_epochs, lr_min=1e-4, warmup_t=warmup_epochs, warmup_lr_init=1e-4, warmup_prefix=True)\n",
        "\n",
        "# モデルの学習\n",
        "for epoch in range(num_epochs):\n",
        "    total = 0\n",
        "    correct = 0\n",
        "    for i, (images, labels) in enumerate(train_loader_handsigns):\n",
        "        images = images.to(device)\n",
        "        labels = labels.to(device)\n",
        "        # 順伝播\n",
        "        outputs = model(images)\n",
        "        loss = criterion(outputs, labels)\n",
        "        # 逆伝播\n",
        "        optimizer.zero_grad()\n",
        "        loss.backward()\n",
        "        optimizer.step()\n",
        "        _, predicted = torch.max(outputs.data, 1)\n",
        "        # 全データ数\n",
        "        total += labels.size(0)\n",
        "        # 正解数\n",
        "        correct += (predicted == labels).sum().item()\n",
        "    # 正解率精度を計算\n",
        "    train_acc = 100 * correct / total\n",
        "    # 正解率精度と損失を確認\n",
        "    print(\"Epoch [{}/{}], Train Accuracy: {} %, Loss: {:.4f}\".format(epoch+1, num_epochs, 100 * correct / total, loss.item()))\n",
        "    # 1エポック終了後にスケジューラーを更新\n",
        "    scheduler.step(epoch)\n",
        "    # 学習率の確認\n",
        "    print(\"Epoch [{}/{}], Learning Rate: {}\".format(epoch+1, num_epochs, optimizer.param_groups[0]['lr']))\n",
        "\n",
        "# モデルを保存\n",
        "torch.save(model, '/content/drive/MyDrive/WideResNet28_10_HandSigns_10epochs_CLRS_restest.pth')"
      ],
      "metadata": {
        "colab": {
          "base_uri": "https://localhost:8080/"
        },
        "outputId": "636f5a75-78fe-4d60-f0fd-9ab4cd441780",
        "id": "7LCM-zZjzZjL"
      },
      "execution_count": 54,
      "outputs": [
        {
          "output_type": "stream",
          "name": "stdout",
          "text": [
            "Epoch [1/10], Train Accuracy: 9.7 %, Loss: 2.1075\n",
            "Epoch [1/10], Learning Rate: 0.0001\n",
            "Epoch [2/10], Train Accuracy: 23.5 %, Loss: 1.8087\n",
            "Epoch [2/10], Learning Rate: 0.001\n",
            "Epoch [3/10], Train Accuracy: 32.9 %, Loss: 1.9757\n",
            "Epoch [3/10], Learning Rate: 0.0009779754323328191\n",
            "Epoch [4/10], Train Accuracy: 44.3 %, Loss: 2.1735\n",
            "Epoch [4/10], Learning Rate: 0.0009140576474687263\n",
            "Epoch [5/10], Train Accuracy: 53.5 %, Loss: 0.9223\n",
            "Epoch [5/10], Learning Rate: 0.000814503363531613\n",
            "Epoch [6/10], Train Accuracy: 57.6 %, Loss: 1.1129\n",
            "Epoch [6/10], Learning Rate: 0.0006890576474687264\n",
            "Epoch [7/10], Train Accuracy: 63.9 %, Loss: 0.6397\n",
            "Epoch [7/10], Learning Rate: 0.00055\n",
            "Epoch [8/10], Train Accuracy: 67.0 %, Loss: 1.2346\n",
            "Epoch [8/10], Learning Rate: 0.0004109423525312737\n",
            "Epoch [9/10], Train Accuracy: 76.3 %, Loss: 0.6690\n",
            "Epoch [9/10], Learning Rate: 0.00028549663646838715\n",
            "Epoch [10/10], Train Accuracy: 76.4 %, Loss: 0.7491\n",
            "Epoch [10/10], Learning Rate: 0.00018594235253127368\n"
          ]
        }
      ]
    },
    {
      "cell_type": "code",
      "source": [
        "# モデルの評価\n",
        "model.eval()\n",
        "with torch.no_grad():\n",
        "    total = 0\n",
        "    correct = 0\n",
        "    for images, labels in test_loader_handsigns:\n",
        "        images = images.to(device)\n",
        "        labels = labels.to(device)\n",
        "        outputs = model(images)\n",
        "        _, predicted = torch.max(outputs.data, 1)\n",
        "        total += labels.size(0)\n",
        "        correct += (predicted == labels).sum().item()\n",
        "    # 正解率精度の確認\n",
        "    print('Test Accuracy: {} %'.format(100 * correct / total))"
      ],
      "metadata": {
        "colab": {
          "base_uri": "https://localhost:8080/"
        },
        "outputId": "22d57cfb-87aa-4688-9f82-44815eb3e16b",
        "id": "WUo72F24zZjM"
      },
      "execution_count": 55,
      "outputs": [
        {
          "output_type": "stream",
          "name": "stdout",
          "text": [
            "Test Accuracy: 80.0 %\n"
          ]
        }
      ]
    },
    {
      "cell_type": "code",
      "source": [
        "# GPUメモリの解放\n",
        "del model\n",
        "torch.cuda.empty_cache()"
      ],
      "metadata": {
        "id": "js9R17gfzZjM"
      },
      "execution_count": 56,
      "outputs": []
    },
    {
      "cell_type": "markdown",
      "source": [
        "### 学習と評価（25 epochs）"
      ],
      "metadata": {
        "id": "0h39M-Eosszs"
      }
    },
    {
      "cell_type": "code",
      "source": [
        "# デバイスを設定\n",
        "device = torch.device('cuda' if torch.cuda.is_available() else 'cpu')\n",
        "# モデルを定義\n",
        "model = wideresnet28_10_10().to(device)\n",
        "\n",
        "# 学習率を設定\n",
        "learning_rate = 0.001\n",
        "# 全体のepoch数を設定\n",
        "num_epochs = 25\n",
        "# warm-upするepoch数を設定\n",
        "warmup_epochs = 3\n",
        "\n",
        "# 損失関数を定義\n",
        "criterion = nn.CrossEntropyLoss()\n",
        "# オプティマイザーを設定\n",
        "optimizer = optim.Adam(model.parameters(), lr=learning_rate)\n",
        "# スケジューラーを設定\n",
        "scheduler = CosineLRScheduler(optimizer, t_initial=num_epochs, lr_min=1e-4, warmup_t=warmup_epochs, warmup_lr_init=1e-4, warmup_prefix=True)\n",
        "\n",
        "# モデルの学習\n",
        "for epoch in range(num_epochs):\n",
        "    total = 0\n",
        "    correct = 0\n",
        "    for i, (images, labels) in enumerate(train_loader_handsigns):\n",
        "        images = images.to(device)\n",
        "        labels = labels.to(device)\n",
        "        # 順伝播\n",
        "        outputs = model(images)\n",
        "        loss = criterion(outputs, labels)\n",
        "        # 逆伝播\n",
        "        optimizer.zero_grad()\n",
        "        loss.backward()\n",
        "        optimizer.step()\n",
        "        _, predicted = torch.max(outputs.data, 1)\n",
        "        # 全データ数\n",
        "        total += labels.size(0)\n",
        "        # 正解数\n",
        "        correct += (predicted == labels).sum().item()\n",
        "    # 正解率精度を計算\n",
        "    train_acc = 100 * correct / total\n",
        "    # 正解率精度と損失を確認\n",
        "    print(\"Epoch [{}/{}], Train Accuracy: {} %, Loss: {:.4f}\".format(epoch+1, num_epochs, 100 * correct / total, loss.item()))\n",
        "    # 1エポック終了後にスケジューラーを更新\n",
        "    scheduler.step(epoch)\n",
        "    # 学習率の確認\n",
        "    print(\"Epoch [{}/{}], Learning Rate: {}\".format(epoch+1, num_epochs, optimizer.param_groups[0]['lr']))\n",
        "\n",
        "# モデルを保存\n",
        "torch.save(model, '/content/drive/MyDrive/WideResNet28_10_HandSigns_25epochs_CLRS_restest.pth')"
      ],
      "metadata": {
        "colab": {
          "base_uri": "https://localhost:8080/"
        },
        "outputId": "6e46a39f-e2ab-48c2-db84-591ca694acf3",
        "id": "ixQlsbxysszt"
      },
      "execution_count": 51,
      "outputs": [
        {
          "output_type": "stream",
          "name": "stdout",
          "text": [
            "Epoch [1/25], Train Accuracy: 12.1 %, Loss: 2.2783\n",
            "Epoch [1/25], Learning Rate: 0.0001\n",
            "Epoch [2/25], Train Accuracy: 23.5 %, Loss: 1.7008\n",
            "Epoch [2/25], Learning Rate: 0.00039999999999999996\n",
            "Epoch [3/25], Train Accuracy: 35.9 %, Loss: 1.2976\n",
            "Epoch [3/25], Learning Rate: 0.0007\n",
            "Epoch [4/25], Train Accuracy: 43.2 %, Loss: 1.8990\n",
            "Epoch [4/25], Learning Rate: 0.001\n",
            "Epoch [5/25], Train Accuracy: 44.3 %, Loss: 1.2114\n",
            "Epoch [5/25], Learning Rate: 0.000996451615591515\n",
            "Epoch [6/25], Train Accuracy: 52.1 %, Loss: 1.1339\n",
            "Epoch [6/25], Learning Rate: 0.000985862422507884\n",
            "Epoch [7/25], Train Accuracy: 56.8 %, Loss: 1.1914\n",
            "Epoch [7/25], Learning Rate: 0.0009683994186497131\n",
            "Epoch [8/25], Train Accuracy: 65.6 %, Loss: 2.0956\n",
            "Epoch [8/25], Learning Rate: 0.0009443380060197386\n",
            "Epoch [9/25], Train Accuracy: 64.1 %, Loss: 1.1618\n",
            "Epoch [9/25], Learning Rate: 0.0009140576474687263\n",
            "Epoch [10/25], Train Accuracy: 69.6 %, Loss: 3.9160\n",
            "Epoch [10/25], Learning Rate: 0.0008780358823396353\n",
            "Epoch [11/25], Train Accuracy: 75.6 %, Loss: 0.4001\n",
            "Epoch [11/25], Learning Rate: 0.0008368407953869105\n",
            "Epoch [12/25], Train Accuracy: 76.9 %, Loss: 1.1995\n",
            "Epoch [12/25], Learning Rate: 0.0007911220577405485\n",
            "Epoch [13/25], Train Accuracy: 79.2 %, Loss: 0.3403\n",
            "Epoch [13/25], Learning Rate: 0.0007416006812042827\n",
            "Epoch [14/25], Train Accuracy: 78.7 %, Loss: 0.7058\n",
            "Epoch [14/25], Learning Rate: 0.0006890576474687264\n",
            "Epoch [15/25], Train Accuracy: 83.5 %, Loss: 0.5535\n",
            "Epoch [15/25], Learning Rate: 0.0006343215915635762\n",
            "Epoch [16/25], Train Accuracy: 84.0 %, Loss: 0.3225\n",
            "Epoch [16/25], Learning Rate: 0.0005782557337881911\n",
            "Epoch [17/25], Train Accuracy: 87.2 %, Loss: 0.1794\n",
            "Epoch [17/25], Learning Rate: 0.000521744266211809\n",
            "Epoch [18/25], Train Accuracy: 87.9 %, Loss: 0.0939\n",
            "Epoch [18/25], Learning Rate: 0.0004656784084364239\n",
            "Epoch [19/25], Train Accuracy: 86.8 %, Loss: 0.1801\n",
            "Epoch [19/25], Learning Rate: 0.0004109423525312738\n",
            "Epoch [20/25], Train Accuracy: 89.9 %, Loss: 0.2682\n",
            "Epoch [20/25], Learning Rate: 0.0003583993187957173\n",
            "Epoch [21/25], Train Accuracy: 91.9 %, Loss: 0.1764\n",
            "Epoch [21/25], Learning Rate: 0.0003088779422594514\n",
            "Epoch [22/25], Train Accuracy: 93.0 %, Loss: 0.9111\n",
            "Epoch [22/25], Learning Rate: 0.0002631592046130896\n",
            "Epoch [23/25], Train Accuracy: 93.9 %, Loss: 0.2427\n",
            "Epoch [23/25], Learning Rate: 0.0002219641176603649\n",
            "Epoch [24/25], Train Accuracy: 94.7 %, Loss: 0.0592\n",
            "Epoch [24/25], Learning Rate: 0.00018594235253127368\n",
            "Epoch [25/25], Train Accuracy: 96.5 %, Loss: 0.1496\n",
            "Epoch [25/25], Learning Rate: 0.0001556619939802614\n"
          ]
        }
      ]
    },
    {
      "cell_type": "code",
      "source": [
        "# モデルの評価\n",
        "model.eval()\n",
        "with torch.no_grad():\n",
        "    total = 0\n",
        "    correct = 0\n",
        "    for images, labels in test_loader_handsigns:\n",
        "        images = images.to(device)\n",
        "        labels = labels.to(device)\n",
        "        outputs = model(images)\n",
        "        _, predicted = torch.max(outputs.data, 1)\n",
        "        total += labels.size(0)\n",
        "        correct += (predicted == labels).sum().item()\n",
        "    # 正解率精度の確認\n",
        "    print('Test Accuracy: {} %'.format(100 * correct / total))"
      ],
      "metadata": {
        "colab": {
          "base_uri": "https://localhost:8080/"
        },
        "outputId": "9cd5e5dd-347b-4618-c187-51b06ea394c0",
        "id": "G8uMuQz1sszt"
      },
      "execution_count": 52,
      "outputs": [
        {
          "output_type": "stream",
          "name": "stdout",
          "text": [
            "Test Accuracy: 100.0 %\n"
          ]
        }
      ]
    },
    {
      "cell_type": "code",
      "source": [
        "# GPUメモリの解放\n",
        "del model\n",
        "torch.cuda.empty_cache()"
      ],
      "metadata": {
        "id": "oRc3f4hqsszu"
      },
      "execution_count": 53,
      "outputs": []
    },
    {
      "cell_type": "markdown",
      "source": [
        "### 学習と評価（50 epochs）"
      ],
      "metadata": {
        "id": "X6RrdlPd5Zky"
      }
    },
    {
      "cell_type": "code",
      "source": [
        "# デバイスを設定\n",
        "device = torch.device('cuda' if torch.cuda.is_available() else 'cpu')\n",
        "# モデルを定義\n",
        "model = wideresnet28_10_10().to(device)\n",
        "\n",
        "# 学習率を設定\n",
        "learning_rate = 0.001\n",
        "# 全体のepoch数を設定\n",
        "num_epochs = 50\n",
        "# warm-upするepoch数を設定\n",
        "warmup_epochs = 5\n",
        "\n",
        "# 損失関数を定義\n",
        "criterion = nn.CrossEntropyLoss()\n",
        "# オプティマイザーを設定\n",
        "optimizer = optim.Adam(model.parameters(), lr=learning_rate)\n",
        "# スケジューラーを設定\n",
        "scheduler = CosineLRScheduler(optimizer, t_initial=num_epochs, lr_min=1e-4, warmup_t=warmup_epochs, warmup_lr_init=1e-4, warmup_prefix=True)\n",
        "\n",
        "# モデルの学習\n",
        "for epoch in range(num_epochs):\n",
        "    total = 0\n",
        "    correct = 0\n",
        "    for i, (images, labels) in enumerate(train_loader_handsigns):\n",
        "        images = images.to(device)\n",
        "        labels = labels.to(device)\n",
        "        # 順伝播\n",
        "        outputs = model(images)\n",
        "        loss = criterion(outputs, labels)\n",
        "        # 逆伝播\n",
        "        optimizer.zero_grad()\n",
        "        loss.backward()\n",
        "        optimizer.step()\n",
        "        _, predicted = torch.max(outputs.data, 1)\n",
        "        # 全データ数\n",
        "        total += labels.size(0)\n",
        "        # 正解数\n",
        "        correct += (predicted == labels).sum().item()\n",
        "    # 正解率精度を計算\n",
        "    train_acc = 100 * correct / total\n",
        "    # 正解率精度と損失を確認\n",
        "    print(\"Epoch [{}/{}], Train Accuracy: {} %, Loss: {:.4f}\".format(epoch+1, num_epochs, 100 * correct / total, loss.item()))\n",
        "    # 1エポック終了後にスケジューラーを更新\n",
        "    scheduler.step(epoch)\n",
        "    # 学習率の確認\n",
        "    print(\"Epoch [{}/{}], Learning Rate: {}\".format(epoch+1, num_epochs, optimizer.param_groups[0]['lr']))\n",
        "\n",
        "# モデルを保存\n",
        "torch.save(model, '/content/drive/MyDrive/WideResNet28_10_HandSigns_50epochs_CLRS_restest.pth')"
      ],
      "metadata": {
        "id": "vELsvQdc5Zk-",
        "colab": {
          "base_uri": "https://localhost:8080/"
        },
        "outputId": "2a384286-2dde-4f4a-ef61-cac29f7b7b6b"
      },
      "execution_count": 15,
      "outputs": [
        {
          "output_type": "stream",
          "name": "stdout",
          "text": [
            "Epoch [1/50], Train Accuracy: 12.4 %, Loss: 2.2204\n",
            "Epoch [1/50], Learning Rate: 0.0001\n",
            "Epoch [2/50], Train Accuracy: 23.7 %, Loss: 2.1256\n",
            "Epoch [2/50], Learning Rate: 0.00028\n",
            "Epoch [3/50], Train Accuracy: 39.1 %, Loss: 1.2859\n",
            "Epoch [3/50], Learning Rate: 0.00045999999999999996\n",
            "Epoch [4/50], Train Accuracy: 49.8 %, Loss: 1.7179\n",
            "Epoch [4/50], Learning Rate: 0.0006399999999999999\n",
            "Epoch [5/50], Train Accuracy: 48.2 %, Loss: 1.7776\n",
            "Epoch [5/50], Learning Rate: 0.00082\n",
            "Epoch [6/50], Train Accuracy: 53.7 %, Loss: 1.7833\n",
            "Epoch [6/50], Learning Rate: 0.001\n",
            "Epoch [7/50], Train Accuracy: 54.6 %, Loss: 1.1233\n",
            "Epoch [7/50], Learning Rate: 0.0009991120277927223\n",
            "Epoch [8/50], Train Accuracy: 64.4 %, Loss: 1.7416\n",
            "Epoch [8/50], Learning Rate: 0.000996451615591515\n",
            "Epoch [9/50], Train Accuracy: 67.0 %, Loss: 0.5860\n",
            "Epoch [9/50], Learning Rate: 0.00099202926282791\n",
            "Epoch [10/50], Train Accuracy: 72.2 %, Loss: 0.6407\n",
            "Epoch [10/50], Learning Rate: 0.000985862422507884\n",
            "Epoch [11/50], Train Accuracy: 71.1 %, Loss: 0.4885\n",
            "Epoch [11/50], Learning Rate: 0.0009779754323328191\n",
            "Epoch [12/50], Train Accuracy: 75.8 %, Loss: 0.4616\n",
            "Epoch [12/50], Learning Rate: 0.0009683994186497131\n",
            "Epoch [13/50], Train Accuracy: 80.3 %, Loss: 0.9697\n",
            "Epoch [13/50], Learning Rate: 0.0009571721736097088\n",
            "Epoch [14/50], Train Accuracy: 77.6 %, Loss: 0.4719\n",
            "Epoch [14/50], Learning Rate: 0.0009443380060197386\n",
            "Epoch [15/50], Train Accuracy: 82.0 %, Loss: 0.4001\n",
            "Epoch [15/50], Learning Rate: 0.0009299475664759069\n",
            "Epoch [16/50], Train Accuracy: 82.7 %, Loss: 0.0651\n",
            "Epoch [16/50], Learning Rate: 0.0009140576474687263\n",
            "Epoch [17/50], Train Accuracy: 88.2 %, Loss: 0.8641\n",
            "Epoch [17/50], Learning Rate: 0.0008967309592491052\n",
            "Epoch [18/50], Train Accuracy: 84.6 %, Loss: 0.3127\n",
            "Epoch [18/50], Learning Rate: 0.0008780358823396353\n",
            "Epoch [19/50], Train Accuracy: 86.8 %, Loss: 0.1523\n",
            "Epoch [19/50], Learning Rate: 0.0008580461976679099\n",
            "Epoch [20/50], Train Accuracy: 90.1 %, Loss: 0.3121\n",
            "Epoch [20/50], Learning Rate: 0.0008368407953869105\n",
            "Epoch [21/50], Train Accuracy: 88.8 %, Loss: 0.1288\n",
            "Epoch [21/50], Learning Rate: 0.0008145033635316131\n",
            "Epoch [22/50], Train Accuracy: 90.2 %, Loss: 0.1120\n",
            "Epoch [22/50], Learning Rate: 0.0007911220577405485\n",
            "Epoch [23/50], Train Accuracy: 89.2 %, Loss: 0.5565\n",
            "Epoch [23/50], Learning Rate: 0.0007667891533457719\n",
            "Epoch [24/50], Train Accuracy: 91.9 %, Loss: 0.5241\n",
            "Epoch [24/50], Learning Rate: 0.0007416006812042827\n",
            "Epoch [25/50], Train Accuracy: 93.3 %, Loss: 0.1283\n",
            "Epoch [25/50], Learning Rate: 0.0007156560487081052\n",
            "Epoch [26/50], Train Accuracy: 90.9 %, Loss: 0.4387\n",
            "Epoch [26/50], Learning Rate: 0.0006890576474687264\n",
            "Epoch [27/50], Train Accuracy: 95.1 %, Loss: 0.0855\n",
            "Epoch [27/50], Learning Rate: 0.0006619104492241846\n",
            "Epoch [28/50], Train Accuracy: 97.0 %, Loss: 0.0611\n",
            "Epoch [28/50], Learning Rate: 0.0006343215915635762\n",
            "Epoch [29/50], Train Accuracy: 96.3 %, Loss: 0.0664\n",
            "Epoch [29/50], Learning Rate: 0.000606399955103937\n",
            "Epoch [30/50], Train Accuracy: 97.0 %, Loss: 0.1154\n",
            "Epoch [30/50], Learning Rate: 0.0005782557337881911\n",
            "Epoch [31/50], Train Accuracy: 96.9 %, Loss: 0.0583\n",
            "Epoch [31/50], Learning Rate: 0.00055\n",
            "Epoch [32/50], Train Accuracy: 95.2 %, Loss: 0.0768\n",
            "Epoch [32/50], Learning Rate: 0.000521744266211809\n",
            "Epoch [33/50], Train Accuracy: 95.3 %, Loss: 0.0525\n",
            "Epoch [33/50], Learning Rate: 0.0004936000448960632\n",
            "Epoch [34/50], Train Accuracy: 97.0 %, Loss: 0.1773\n",
            "Epoch [34/50], Learning Rate: 0.0004656784084364239\n",
            "Epoch [35/50], Train Accuracy: 98.0 %, Loss: 0.2608\n",
            "Epoch [35/50], Learning Rate: 0.0004380895507758153\n",
            "Epoch [36/50], Train Accuracy: 96.9 %, Loss: 0.0244\n",
            "Epoch [36/50], Learning Rate: 0.0004109423525312738\n",
            "Epoch [37/50], Train Accuracy: 98.8 %, Loss: 0.0886\n",
            "Epoch [37/50], Learning Rate: 0.000384343951291895\n",
            "Epoch [38/50], Train Accuracy: 98.3 %, Loss: 0.2023\n",
            "Epoch [38/50], Learning Rate: 0.0003583993187957173\n",
            "Epoch [39/50], Train Accuracy: 98.4 %, Loss: 0.0164\n",
            "Epoch [39/50], Learning Rate: 0.0003332108466542281\n",
            "Epoch [40/50], Train Accuracy: 97.3 %, Loss: 0.0104\n",
            "Epoch [40/50], Learning Rate: 0.0003088779422594514\n",
            "Epoch [41/50], Train Accuracy: 98.9 %, Loss: 0.0339\n",
            "Epoch [41/50], Learning Rate: 0.00028549663646838715\n",
            "Epoch [42/50], Train Accuracy: 98.7 %, Loss: 0.1197\n",
            "Epoch [42/50], Learning Rate: 0.0002631592046130896\n",
            "Epoch [43/50], Train Accuracy: 98.2 %, Loss: 0.0037\n",
            "Epoch [43/50], Learning Rate: 0.00024195380233209008\n",
            "Epoch [44/50], Train Accuracy: 99.1 %, Loss: 0.0207\n",
            "Epoch [44/50], Learning Rate: 0.0002219641176603649\n",
            "Epoch [45/50], Train Accuracy: 98.7 %, Loss: 0.4113\n",
            "Epoch [45/50], Learning Rate: 0.00020326904075089488\n",
            "Epoch [46/50], Train Accuracy: 99.4 %, Loss: 0.2690\n",
            "Epoch [46/50], Learning Rate: 0.00018594235253127368\n",
            "Epoch [47/50], Train Accuracy: 98.9 %, Loss: 0.0112\n",
            "Epoch [47/50], Learning Rate: 0.00017005243352409332\n",
            "Epoch [48/50], Train Accuracy: 99.4 %, Loss: 0.7729\n",
            "Epoch [48/50], Learning Rate: 0.0001556619939802614\n",
            "Epoch [49/50], Train Accuracy: 99.6 %, Loss: 0.0089\n",
            "Epoch [49/50], Learning Rate: 0.0001428278263902913\n",
            "Epoch [50/50], Train Accuracy: 99.7 %, Loss: 0.0543\n",
            "Epoch [50/50], Learning Rate: 0.0001316005813502869\n"
          ]
        }
      ]
    },
    {
      "cell_type": "code",
      "source": [
        "# モデルの評価\n",
        "model.eval()\n",
        "with torch.no_grad():\n",
        "    total = 0\n",
        "    correct = 0\n",
        "    for images, labels in test_loader_handsigns:\n",
        "        images = images.to(device)\n",
        "        labels = labels.to(device)\n",
        "        outputs = model(images)\n",
        "        _, predicted = torch.max(outputs.data, 1)\n",
        "        total += labels.size(0)\n",
        "        correct += (predicted == labels).sum().item()\n",
        "    # 正解率精度の確認\n",
        "    print('Test Accuracy: {} %'.format(100 * correct / total))"
      ],
      "metadata": {
        "id": "RtGaIvN55Zk_",
        "colab": {
          "base_uri": "https://localhost:8080/"
        },
        "outputId": "d1c36d0a-4cab-4841-c63c-890421f34fd4"
      },
      "execution_count": 16,
      "outputs": [
        {
          "output_type": "stream",
          "name": "stdout",
          "text": [
            "Test Accuracy: 100.0 %\n"
          ]
        }
      ]
    },
    {
      "cell_type": "code",
      "source": [
        "# GPUメモリの解放\n",
        "del model\n",
        "torch.cuda.empty_cache()"
      ],
      "metadata": {
        "id": "kE02RIkS5Zk_"
      },
      "execution_count": 17,
      "outputs": []
    },
    {
      "cell_type": "markdown",
      "source": [
        "### 学習と評価（75 epochs）"
      ],
      "metadata": {
        "id": "t-k7-j4nFQXb"
      }
    },
    {
      "cell_type": "code",
      "source": [
        "# デバイスを設定\n",
        "device = torch.device('cuda' if torch.cuda.is_available() else 'cpu')\n",
        "# モデルを定義\n",
        "model = wideresnet28_10_10().to(device)\n",
        "\n",
        "# 学習率を設定\n",
        "learning_rate = 0.001\n",
        "# 全体のepoch数を設定\n",
        "num_epochs = 75\n",
        "# warm-upするepoch数を設定\n",
        "warmup_epochs = 8\n",
        "\n",
        "# 損失関数を定義\n",
        "criterion = nn.CrossEntropyLoss()\n",
        "# オプティマイザーを設定\n",
        "optimizer = optim.Adam(model.parameters(), lr=learning_rate)\n",
        "# スケジューラーを設定\n",
        "scheduler = CosineLRScheduler(optimizer, t_initial=num_epochs, lr_min=1e-4, warmup_t=warmup_epochs, warmup_lr_init=1e-4, warmup_prefix=True)\n",
        "\n",
        "# モデルの学習\n",
        "for epoch in range(num_epochs):\n",
        "    total = 0\n",
        "    correct = 0\n",
        "    for i, (images, labels) in enumerate(train_loader_handsigns):\n",
        "        images = images.to(device)\n",
        "        labels = labels.to(device)\n",
        "        # 順伝播\n",
        "        outputs = model(images)\n",
        "        loss = criterion(outputs, labels)\n",
        "        # 逆伝播\n",
        "        optimizer.zero_grad()\n",
        "        loss.backward()\n",
        "        optimizer.step()\n",
        "        _, predicted = torch.max(outputs.data, 1)\n",
        "        # 全データ数\n",
        "        total += labels.size(0)\n",
        "        # 正解数\n",
        "        correct += (predicted == labels).sum().item()\n",
        "    # 正解率精度を計算\n",
        "    train_acc = 100 * correct / total\n",
        "    # 正解率精度と損失を確認\n",
        "    print(\"Epoch [{}/{}], Train Accuracy: {} %, Loss: {:.4f}\".format(epoch+1, num_epochs, 100 * correct / total, loss.item()))\n",
        "    # 1エポック終了後にスケジューラーを更新\n",
        "    scheduler.step(epoch)\n",
        "    # 学習率の確認\n",
        "    print(\"Epoch [{}/{}], Learning Rate: {}\".format(epoch+1, num_epochs, optimizer.param_groups[0]['lr']))\n",
        "\n",
        "# モデルを保存\n",
        "torch.save(model, '/content/drive/MyDrive/WideResNet28_10_HandSigns_75epochs_CLRS_restest.pth')"
      ],
      "metadata": {
        "colab": {
          "base_uri": "https://localhost:8080/"
        },
        "id": "xYIxZQ5GFWuW",
        "outputId": "dfd795c8-dd8e-431f-cef4-a461739b1bcf"
      },
      "execution_count": 45,
      "outputs": [
        {
          "output_type": "stream",
          "name": "stdout",
          "text": [
            "Epoch [1/75], Train Accuracy: 15.0 %, Loss: 2.3220\n",
            "Epoch [1/75], Learning Rate: 0.0001\n",
            "Epoch [2/75], Train Accuracy: 31.7 %, Loss: 2.1850\n",
            "Epoch [2/75], Learning Rate: 0.00021250000000000002\n",
            "Epoch [3/75], Train Accuracy: 42.5 %, Loss: 1.3276\n",
            "Epoch [3/75], Learning Rate: 0.000325\n",
            "Epoch [4/75], Train Accuracy: 50.1 %, Loss: 1.1169\n",
            "Epoch [4/75], Learning Rate: 0.0004375\n",
            "Epoch [5/75], Train Accuracy: 53.9 %, Loss: 1.0319\n",
            "Epoch [5/75], Learning Rate: 0.00055\n",
            "Epoch [6/75], Train Accuracy: 55.7 %, Loss: 1.4830\n",
            "Epoch [6/75], Learning Rate: 0.0006625\n",
            "Epoch [7/75], Train Accuracy: 62.3 %, Loss: 0.8697\n",
            "Epoch [7/75], Learning Rate: 0.0007750000000000001\n",
            "Epoch [8/75], Train Accuracy: 64.6 %, Loss: 0.7880\n",
            "Epoch [8/75], Learning Rate: 0.0008875\n",
            "Epoch [9/75], Train Accuracy: 67.4 %, Loss: 0.6687\n",
            "Epoch [9/75], Learning Rate: 0.001\n",
            "Epoch [10/75], Train Accuracy: 65.9 %, Loss: 0.7920\n",
            "Epoch [10/75], Learning Rate: 0.0009996052735444863\n",
            "Epoch [11/75], Train Accuracy: 71.4 %, Loss: 1.0858\n",
            "Epoch [11/75], Learning Rate: 0.000998421786662277\n",
            "Epoch [12/75], Train Accuracy: 76.8 %, Loss: 0.2601\n",
            "Epoch [12/75], Learning Rate: 0.000996451615591515\n",
            "Epoch [13/75], Train Accuracy: 80.0 %, Loss: 0.6347\n",
            "Epoch [13/75], Learning Rate: 0.0009936982166817271\n",
            "Epoch [14/75], Train Accuracy: 80.4 %, Loss: 1.0791\n",
            "Epoch [14/75], Learning Rate: 0.0009901664203302125\n",
            "Epoch [15/75], Train Accuracy: 81.8 %, Loss: 0.8365\n",
            "Epoch [15/75], Learning Rate: 0.000985862422507884\n",
            "Epoch [16/75], Train Accuracy: 86.1 %, Loss: 0.3885\n",
            "Epoch [16/75], Learning Rate: 0.0009807937738894302\n",
            "Epoch [17/75], Train Accuracy: 83.6 %, Loss: 0.5417\n",
            "Epoch [17/75], Learning Rate: 0.0009749693666068666\n",
            "Epoch [18/75], Train Accuracy: 86.4 %, Loss: 0.2778\n",
            "Epoch [18/75], Learning Rate: 0.0009683994186497131\n",
            "Epoch [19/75], Train Accuracy: 87.0 %, Loss: 0.2378\n",
            "Epoch [19/75], Learning Rate: 0.0009610954559391703\n",
            "Epoch [20/75], Train Accuracy: 90.8 %, Loss: 0.1969\n",
            "Epoch [20/75], Learning Rate: 0.0009530702921077359\n",
            "Epoch [21/75], Train Accuracy: 90.8 %, Loss: 0.4559\n",
            "Epoch [21/75], Learning Rate: 0.0009443380060197386\n",
            "Epoch [22/75], Train Accuracy: 90.6 %, Loss: 0.1036\n",
            "Epoch [22/75], Learning Rate: 0.000934913917072228\n",
            "Epoch [23/75], Train Accuracy: 89.7 %, Loss: 1.2354\n",
            "Epoch [23/75], Learning Rate: 0.0009248145583195447\n",
            "Epoch [24/75], Train Accuracy: 90.1 %, Loss: 0.1225\n",
            "Epoch [24/75], Learning Rate: 0.0009140576474687263\n",
            "Epoch [25/75], Train Accuracy: 93.0 %, Loss: 0.1678\n",
            "Epoch [25/75], Learning Rate: 0.000902662055796628\n",
            "Epoch [26/75], Train Accuracy: 93.0 %, Loss: 0.4988\n",
            "Epoch [26/75], Learning Rate: 0.0008906477750432905\n",
            "Epoch [27/75], Train Accuracy: 93.0 %, Loss: 0.0954\n",
            "Epoch [27/75], Learning Rate: 0.0008780358823396353\n",
            "Epoch [28/75], Train Accuracy: 92.1 %, Loss: 0.2634\n",
            "Epoch [28/75], Learning Rate: 0.0008648485032310146\n",
            "Epoch [29/75], Train Accuracy: 94.6 %, Loss: 0.7995\n",
            "Epoch [29/75], Learning Rate: 0.0008511087728614862\n",
            "Epoch [30/75], Train Accuracy: 93.6 %, Loss: 0.5013\n",
            "Epoch [30/75], Learning Rate: 0.0008368407953869105\n",
            "Epoch [31/75], Train Accuracy: 95.4 %, Loss: 0.0317\n",
            "Epoch [31/75], Learning Rate: 0.0008220696016880688\n",
            "Epoch [32/75], Train Accuracy: 96.4 %, Loss: 0.1243\n",
            "Epoch [32/75], Learning Rate: 0.0008068211054579944\n",
            "Epoch [33/75], Train Accuracy: 95.3 %, Loss: 0.0135\n",
            "Epoch [33/75], Learning Rate: 0.0007911220577405485\n",
            "Epoch [34/75], Train Accuracy: 96.5 %, Loss: 0.5510\n",
            "Epoch [34/75], Learning Rate: 0.0007750000000000001\n",
            "Epoch [35/75], Train Accuracy: 96.5 %, Loss: 0.0880\n",
            "Epoch [35/75], Learning Rate: 0.0007584832158039379\n",
            "Epoch [36/75], Train Accuracy: 96.3 %, Loss: 0.2184\n",
            "Epoch [36/75], Learning Rate: 0.0007416006812042827\n",
            "Epoch [37/75], Train Accuracy: 96.2 %, Loss: 0.5621\n",
            "Epoch [37/75], Learning Rate: 0.0007243820139034463\n",
            "Epoch [38/75], Train Accuracy: 94.5 %, Loss: 0.3307\n",
            "Epoch [38/75], Learning Rate: 0.0007068574212948169\n",
            "Epoch [39/75], Train Accuracy: 96.6 %, Loss: 0.1220\n",
            "Epoch [39/75], Learning Rate: 0.0006890576474687264\n",
            "Epoch [40/75], Train Accuracy: 98.1 %, Loss: 0.0859\n",
            "Epoch [40/75], Learning Rate: 0.0006710139192768696\n",
            "Epoch [41/75], Train Accuracy: 98.3 %, Loss: 0.0135\n",
            "Epoch [41/75], Learning Rate: 0.0006527578915497952\n",
            "Epoch [42/75], Train Accuracy: 97.6 %, Loss: 0.0563\n",
            "Epoch [42/75], Learning Rate: 0.0006343215915635762\n",
            "Epoch [43/75], Train Accuracy: 98.0 %, Loss: 0.0776\n",
            "Epoch [43/75], Learning Rate: 0.0006157373628530854\n",
            "Epoch [44/75], Train Accuracy: 99.1 %, Loss: 0.0150\n",
            "Epoch [44/75], Learning Rate: 0.0005970378084704443\n",
            "Epoch [45/75], Train Accuracy: 98.9 %, Loss: 0.0075\n",
            "Epoch [45/75], Learning Rate: 0.0005782557337881911\n",
            "Epoch [46/75], Train Accuracy: 97.4 %, Loss: 1.0700\n",
            "Epoch [46/75], Learning Rate: 0.0005594240889475107\n",
            "Epoch [47/75], Train Accuracy: 97.5 %, Loss: 0.0363\n",
            "Epoch [47/75], Learning Rate: 0.0005405759110524895\n",
            "Epoch [48/75], Train Accuracy: 97.1 %, Loss: 0.4333\n",
            "Epoch [48/75], Learning Rate: 0.0005217442662118091\n",
            "Epoch [49/75], Train Accuracy: 98.3 %, Loss: 0.0338\n",
            "Epoch [49/75], Learning Rate: 0.000502962191529556\n",
            "Epoch [50/75], Train Accuracy: 98.6 %, Loss: 0.1873\n",
            "Epoch [50/75], Learning Rate: 0.0004842626371469149\n",
            "Epoch [51/75], Train Accuracy: 98.7 %, Loss: 0.0009\n",
            "Epoch [51/75], Learning Rate: 0.0004656784084364239\n",
            "Epoch [52/75], Train Accuracy: 99.3 %, Loss: 0.0595\n",
            "Epoch [52/75], Learning Rate: 0.00044724210845020496\n",
            "Epoch [53/75], Train Accuracy: 98.9 %, Loss: 0.0546\n",
            "Epoch [53/75], Learning Rate: 0.00042898608072313056\n",
            "Epoch [54/75], Train Accuracy: 98.1 %, Loss: 0.0229\n",
            "Epoch [54/75], Learning Rate: 0.0004109423525312737\n",
            "Epoch [55/75], Train Accuracy: 99.4 %, Loss: 0.0290\n",
            "Epoch [55/75], Learning Rate: 0.00039314257870518325\n",
            "Epoch [56/75], Train Accuracy: 97.9 %, Loss: 0.0171\n",
            "Epoch [56/75], Learning Rate: 0.00037561798609655366\n",
            "Epoch [57/75], Train Accuracy: 98.0 %, Loss: 0.0514\n",
            "Epoch [57/75], Learning Rate: 0.0003583993187957173\n",
            "Epoch [58/75], Train Accuracy: 98.9 %, Loss: 0.1033\n",
            "Epoch [58/75], Learning Rate: 0.0003415167841960623\n",
            "Epoch [59/75], Train Accuracy: 99.2 %, Loss: 0.0749\n",
            "Epoch [59/75], Learning Rate: 0.0003249999999999999\n",
            "Epoch [60/75], Train Accuracy: 98.9 %, Loss: 0.0855\n",
            "Epoch [60/75], Learning Rate: 0.0003088779422594516\n",
            "Epoch [61/75], Train Accuracy: 99.2 %, Loss: 0.0084\n",
            "Epoch [61/75], Learning Rate: 0.0002931788945420058\n",
            "Epoch [62/75], Train Accuracy: 99.3 %, Loss: 0.0181\n",
            "Epoch [62/75], Learning Rate: 0.0002779303983119313\n",
            "Epoch [63/75], Train Accuracy: 99.7 %, Loss: 0.0017\n",
            "Epoch [63/75], Learning Rate: 0.0002631592046130896\n",
            "Epoch [64/75], Train Accuracy: 99.8 %, Loss: 0.0329\n",
            "Epoch [64/75], Learning Rate: 0.0002488912271385138\n",
            "Epoch [65/75], Train Accuracy: 99.6 %, Loss: 0.5233\n",
            "Epoch [65/75], Learning Rate: 0.0002351514967689855\n",
            "Epoch [66/75], Train Accuracy: 99.0 %, Loss: 0.0316\n",
            "Epoch [66/75], Learning Rate: 0.0002219641176603649\n",
            "Epoch [67/75], Train Accuracy: 99.1 %, Loss: 0.4186\n",
            "Epoch [67/75], Learning Rate: 0.00020935222495670967\n",
            "Epoch [68/75], Train Accuracy: 99.4 %, Loss: 0.0182\n",
            "Epoch [68/75], Learning Rate: 0.00019733794420337213\n",
            "Epoch [69/75], Train Accuracy: 99.4 %, Loss: 0.0004\n",
            "Epoch [69/75], Learning Rate: 0.00018594235253127368\n",
            "Epoch [70/75], Train Accuracy: 99.9 %, Loss: 0.0043\n",
            "Epoch [70/75], Learning Rate: 0.00017518544168045524\n",
            "Epoch [71/75], Train Accuracy: 99.8 %, Loss: 0.0662\n",
            "Epoch [71/75], Learning Rate: 0.00016508608292777201\n",
            "Epoch [72/75], Train Accuracy: 99.5 %, Loss: 0.1247\n",
            "Epoch [72/75], Learning Rate: 0.0001556619939802614\n",
            "Epoch [73/75], Train Accuracy: 99.0 %, Loss: 0.0147\n",
            "Epoch [73/75], Learning Rate: 0.0001469297078922643\n",
            "Epoch [74/75], Train Accuracy: 99.6 %, Loss: 0.0078\n",
            "Epoch [74/75], Learning Rate: 0.00013890454406082967\n",
            "Epoch [75/75], Train Accuracy: 99.8 %, Loss: 0.2581\n",
            "Epoch [75/75], Learning Rate: 0.0001316005813502869\n"
          ]
        }
      ]
    },
    {
      "cell_type": "code",
      "source": [
        "# モデルの評価\n",
        "model.eval()\n",
        "with torch.no_grad():\n",
        "    total = 0\n",
        "    correct = 0\n",
        "    for images, labels in test_loader_handsigns:\n",
        "        images = images.to(device)\n",
        "        labels = labels.to(device)\n",
        "        outputs = model(images)\n",
        "        _, predicted = torch.max(outputs.data, 1)\n",
        "        total += labels.size(0)\n",
        "        correct += (predicted == labels).sum().item()\n",
        "    # 正解率精度の確認\n",
        "    print('Test Accuracy: {} %'.format(100 * correct / total))"
      ],
      "metadata": {
        "colab": {
          "base_uri": "https://localhost:8080/"
        },
        "id": "uElJSN1cFQXc",
        "outputId": "3d52d56d-1b72-47ec-b733-d8b752e37706"
      },
      "execution_count": 46,
      "outputs": [
        {
          "output_type": "stream",
          "name": "stdout",
          "text": [
            "Test Accuracy: 99.0 %\n"
          ]
        }
      ]
    },
    {
      "cell_type": "code",
      "source": [
        "# GPUメモリの解放\n",
        "del model\n",
        "torch.cuda.empty_cache()"
      ],
      "metadata": {
        "id": "mdCUTS3CFQXc"
      },
      "execution_count": 47,
      "outputs": []
    },
    {
      "cell_type": "markdown",
      "source": [
        "### 学習と評価（100 epochs）"
      ],
      "metadata": {
        "id": "pJyew3dez2Wc"
      }
    },
    {
      "cell_type": "code",
      "source": [
        "# デバイスを設定\n",
        "device = torch.device('cuda' if torch.cuda.is_available() else 'cpu')\n",
        "# モデルを定義\n",
        "model = wideresnet28_10_10().to(device)\n",
        "\n",
        "# 学習率を設定\n",
        "learning_rate = 0.001\n",
        "# 全体のepoch数を設定\n",
        "num_epochs = 100\n",
        "# warm-upするepoch数を設定\n",
        "warmup_epochs = 10\n",
        "\n",
        "# 損失関数を定義\n",
        "criterion = nn.CrossEntropyLoss()\n",
        "# オプティマイザーを設定\n",
        "optimizer = optim.Adam(model.parameters(), lr=learning_rate)\n",
        "# スケジューラーを設定\n",
        "scheduler = CosineLRScheduler(optimizer, t_initial=num_epochs, lr_min=1e-4, warmup_t=warmup_epochs, warmup_lr_init=1e-4, warmup_prefix=True)\n",
        "\n",
        "# モデルの学習\n",
        "for epoch in range(num_epochs):\n",
        "    total = 0\n",
        "    correct = 0\n",
        "    for i, (images, labels) in enumerate(train_loader_handsigns):\n",
        "        images = images.to(device)\n",
        "        labels = labels.to(device)\n",
        "        # 順伝播\n",
        "        outputs = model(images)\n",
        "        loss = criterion(outputs, labels)\n",
        "        # 逆伝播\n",
        "        optimizer.zero_grad()\n",
        "        loss.backward()\n",
        "        optimizer.step()\n",
        "        _, predicted = torch.max(outputs.data, 1)\n",
        "        # 全データ数\n",
        "        total += labels.size(0)\n",
        "        # 正解数\n",
        "        correct += (predicted == labels).sum().item()\n",
        "    # 正解率精度を計算\n",
        "    train_acc = 100 * correct / total\n",
        "    # 正解率精度と損失を確認\n",
        "    print(\"Epoch [{}/{}], Train Accuracy: {} %, Loss: {:.4f}\".format(epoch+1, num_epochs, 100 * correct / total, loss.item()))\n",
        "    # 1エポック終了後にスケジューラーを更新\n",
        "    scheduler.step(epoch)\n",
        "    # 学習率の確認\n",
        "    print(\"Epoch [{}/{}], Learning Rate: {}\".format(epoch+1, num_epochs, optimizer.param_groups[0]['lr']))\n",
        "\n",
        "# モデルを保存\n",
        "torch.save(model, '/content/drive/MyDrive/WideResNet28_10_HandSigns_100epochs_CLRS_restest.pth')"
      ],
      "metadata": {
        "id": "lkPQYc-Uz2Wc",
        "colab": {
          "base_uri": "https://localhost:8080/"
        },
        "outputId": "1b7d3e20-fa32-4b21-b324-befc0d9de019"
      },
      "execution_count": 48,
      "outputs": [
        {
          "output_type": "stream",
          "name": "stdout",
          "text": [
            "Epoch [1/100], Train Accuracy: 14.1 %, Loss: 2.2487\n",
            "Epoch [1/100], Learning Rate: 0.0001\n",
            "Epoch [2/100], Train Accuracy: 26.4 %, Loss: 1.7487\n",
            "Epoch [2/100], Learning Rate: 0.00019\n",
            "Epoch [3/100], Train Accuracy: 40.6 %, Loss: 1.5157\n",
            "Epoch [3/100], Learning Rate: 0.00028\n",
            "Epoch [4/100], Train Accuracy: 47.5 %, Loss: 1.5252\n",
            "Epoch [4/100], Learning Rate: 0.00036999999999999994\n",
            "Epoch [5/100], Train Accuracy: 53.9 %, Loss: 1.4142\n",
            "Epoch [5/100], Learning Rate: 0.00045999999999999996\n",
            "Epoch [6/100], Train Accuracy: 57.7 %, Loss: 1.0485\n",
            "Epoch [6/100], Learning Rate: 0.00055\n",
            "Epoch [7/100], Train Accuracy: 65.6 %, Loss: 1.1804\n",
            "Epoch [7/100], Learning Rate: 0.0006399999999999999\n",
            "Epoch [8/100], Train Accuracy: 69.4 %, Loss: 0.9938\n",
            "Epoch [8/100], Learning Rate: 0.00073\n",
            "Epoch [9/100], Train Accuracy: 68.2 %, Loss: 0.4637\n",
            "Epoch [9/100], Learning Rate: 0.00082\n",
            "Epoch [10/100], Train Accuracy: 71.5 %, Loss: 0.4993\n",
            "Epoch [10/100], Learning Rate: 0.00091\n",
            "Epoch [11/100], Train Accuracy: 70.6 %, Loss: 0.8731\n",
            "Epoch [11/100], Learning Rate: 0.001\n",
            "Epoch [12/100], Train Accuracy: 72.1 %, Loss: 0.2474\n",
            "Epoch [12/100], Learning Rate: 0.0009997779521645793\n",
            "Epoch [13/100], Train Accuracy: 75.9 %, Loss: 0.7669\n",
            "Epoch [13/100], Learning Rate: 0.0009991120277927223\n",
            "Epoch [14/100], Train Accuracy: 77.9 %, Loss: 0.7495\n",
            "Epoch [14/100], Learning Rate: 0.000998002884071386\n",
            "Epoch [15/100], Train Accuracy: 81.9 %, Loss: 0.5178\n",
            "Epoch [15/100], Learning Rate: 0.000996451615591515\n",
            "Epoch [16/100], Train Accuracy: 81.8 %, Loss: 0.5567\n",
            "Epoch [16/100], Learning Rate: 0.000994459753267812\n",
            "Epoch [17/100], Train Accuracy: 84.8 %, Loss: 0.6598\n",
            "Epoch [17/100], Learning Rate: 0.00099202926282791\n",
            "Epoch [18/100], Train Accuracy: 88.2 %, Loss: 1.3118\n",
            "Epoch [18/100], Learning Rate: 0.0009891625428724363\n",
            "Epoch [19/100], Train Accuracy: 87.7 %, Loss: 0.7270\n",
            "Epoch [19/100], Learning Rate: 0.000985862422507884\n",
            "Epoch [20/100], Train Accuracy: 89.7 %, Loss: 0.3153\n",
            "Epoch [20/100], Learning Rate: 0.0009821321585546244\n",
            "Epoch [21/100], Train Accuracy: 88.3 %, Loss: 0.1877\n",
            "Epoch [21/100], Learning Rate: 0.0009779754323328191\n",
            "Epoch [22/100], Train Accuracy: 91.7 %, Loss: 0.6991\n",
            "Epoch [22/100], Learning Rate: 0.0009733963460294015\n",
            "Epoch [23/100], Train Accuracy: 89.1 %, Loss: 0.0727\n",
            "Epoch [23/100], Learning Rate: 0.0009683994186497131\n",
            "Epoch [24/100], Train Accuracy: 86.4 %, Loss: 0.0648\n",
            "Epoch [24/100], Learning Rate: 0.0009629895815577914\n",
            "Epoch [25/100], Train Accuracy: 90.2 %, Loss: 0.0719\n",
            "Epoch [25/100], Learning Rate: 0.0009571721736097088\n",
            "Epoch [26/100], Train Accuracy: 93.1 %, Loss: 1.5194\n",
            "Epoch [26/100], Learning Rate: 0.0009509529358847655\n",
            "Epoch [27/100], Train Accuracy: 91.3 %, Loss: 0.3292\n",
            "Epoch [27/100], Learning Rate: 0.0009443380060197386\n",
            "Epoch [28/100], Train Accuracy: 93.9 %, Loss: 0.3467\n",
            "Epoch [28/100], Learning Rate: 0.0009373339121517746\n",
            "Epoch [29/100], Train Accuracy: 94.5 %, Loss: 0.1146\n",
            "Epoch [29/100], Learning Rate: 0.0009299475664759069\n",
            "Epoch [30/100], Train Accuracy: 93.3 %, Loss: 0.3124\n",
            "Epoch [30/100], Learning Rate: 0.0009221862584235528\n",
            "Epoch [31/100], Train Accuracy: 96.0 %, Loss: 0.1612\n",
            "Epoch [31/100], Learning Rate: 0.0009140576474687263\n",
            "Epoch [32/100], Train Accuracy: 94.2 %, Loss: 0.1452\n",
            "Epoch [32/100], Learning Rate: 0.0009055697555690606\n",
            "Epoch [33/100], Train Accuracy: 93.2 %, Loss: 0.7127\n",
            "Epoch [33/100], Learning Rate: 0.0008967309592491052\n",
            "Epoch [34/100], Train Accuracy: 94.0 %, Loss: 0.0932\n",
            "Epoch [34/100], Learning Rate: 0.0008875499813337069\n",
            "Epoch [35/100], Train Accuracy: 96.2 %, Loss: 1.4632\n",
            "Epoch [35/100], Learning Rate: 0.0008780358823396353\n",
            "Epoch [36/100], Train Accuracy: 92.8 %, Loss: 0.1180\n",
            "Epoch [36/100], Learning Rate: 0.0008681980515339464\n",
            "Epoch [37/100], Train Accuracy: 95.6 %, Loss: 0.0917\n",
            "Epoch [37/100], Learning Rate: 0.0008580461976679099\n",
            "Epoch [38/100], Train Accuracy: 96.7 %, Loss: 0.0154\n",
            "Epoch [38/100], Learning Rate: 0.0008475903393956434\n",
            "Epoch [39/100], Train Accuracy: 97.4 %, Loss: 0.3277\n",
            "Epoch [39/100], Learning Rate: 0.0008368407953869105\n",
            "Epoch [40/100], Train Accuracy: 97.3 %, Loss: 0.0998\n",
            "Epoch [40/100], Learning Rate: 0.0008258081741438395\n",
            "Epoch [41/100], Train Accuracy: 95.9 %, Loss: 0.2851\n",
            "Epoch [41/100], Learning Rate: 0.0008145033635316131\n",
            "Epoch [42/100], Train Accuracy: 95.7 %, Loss: 0.4166\n",
            "Epoch [42/100], Learning Rate: 0.0008029375200334589\n",
            "Epoch [43/100], Train Accuracy: 95.9 %, Loss: 0.1011\n",
            "Epoch [43/100], Learning Rate: 0.0007911220577405485\n",
            "Epoch [44/100], Train Accuracy: 96.7 %, Loss: 0.0389\n",
            "Epoch [44/100], Learning Rate: 0.0007790686370876671\n",
            "Epoch [45/100], Train Accuracy: 95.6 %, Loss: 0.6970\n",
            "Epoch [45/100], Learning Rate: 0.0007667891533457719\n",
            "Epoch [46/100], Train Accuracy: 96.3 %, Loss: 0.1134\n",
            "Epoch [46/100], Learning Rate: 0.000754295724882796\n",
            "Epoch [47/100], Train Accuracy: 97.8 %, Loss: 0.0433\n",
            "Epoch [47/100], Learning Rate: 0.0007416006812042827\n",
            "Epoch [48/100], Train Accuracy: 98.1 %, Loss: 0.0639\n",
            "Epoch [48/100], Learning Rate: 0.0007287165507856513\n",
            "Epoch [49/100], Train Accuracy: 97.0 %, Loss: 0.0450\n",
            "Epoch [49/100], Learning Rate: 0.0007156560487081052\n",
            "Epoch [50/100], Train Accuracy: 96.6 %, Loss: 0.0354\n",
            "Epoch [50/100], Learning Rate: 0.0007024320641103813\n",
            "Epoch [51/100], Train Accuracy: 97.8 %, Loss: 0.0218\n",
            "Epoch [51/100], Learning Rate: 0.0006890576474687264\n",
            "Epoch [52/100], Train Accuracy: 98.3 %, Loss: 0.0096\n",
            "Epoch [52/100], Learning Rate: 0.0006755459977176532\n",
            "Epoch [53/100], Train Accuracy: 97.8 %, Loss: 0.0404\n",
            "Epoch [53/100], Learning Rate: 0.0006619104492241846\n",
            "Epoch [54/100], Train Accuracy: 98.8 %, Loss: 0.0020\n",
            "Epoch [54/100], Learning Rate: 0.0006481644586284443\n",
            "Epoch [55/100], Train Accuracy: 99.9 %, Loss: 0.0081\n",
            "Epoch [55/100], Learning Rate: 0.0006343215915635762\n",
            "Epoch [56/100], Train Accuracy: 98.7 %, Loss: 0.0237\n",
            "Epoch [56/100], Learning Rate: 0.000620395509268104\n",
            "Epoch [57/100], Train Accuracy: 97.9 %, Loss: 0.2326\n",
            "Epoch [57/100], Learning Rate: 0.000606399955103937\n",
            "Epoch [58/100], Train Accuracy: 97.6 %, Loss: 0.0982\n",
            "Epoch [58/100], Learning Rate: 0.0005923487409933315\n",
            "Epoch [59/100], Train Accuracy: 97.1 %, Loss: 0.0158\n",
            "Epoch [59/100], Learning Rate: 0.0005782557337881911\n",
            "Epoch [60/100], Train Accuracy: 98.4 %, Loss: 0.3575\n",
            "Epoch [60/100], Learning Rate: 0.0005641348415851578\n",
            "Epoch [61/100], Train Accuracy: 99.3 %, Loss: 0.1263\n",
            "Epoch [61/100], Learning Rate: 0.00055\n",
            "Epoch [62/100], Train Accuracy: 98.2 %, Loss: 0.0028\n",
            "Epoch [62/100], Learning Rate: 0.0005358651584148423\n",
            "Epoch [63/100], Train Accuracy: 99.7 %, Loss: 0.0011\n",
            "Epoch [63/100], Learning Rate: 0.000521744266211809\n",
            "Epoch [64/100], Train Accuracy: 98.8 %, Loss: 0.0098\n",
            "Epoch [64/100], Learning Rate: 0.0005076512590066686\n",
            "Epoch [65/100], Train Accuracy: 98.9 %, Loss: 0.0265\n",
            "Epoch [65/100], Learning Rate: 0.0004936000448960632\n",
            "Epoch [66/100], Train Accuracy: 99.3 %, Loss: 0.0017\n",
            "Epoch [66/100], Learning Rate: 0.0004796044907318961\n",
            "Epoch [67/100], Train Accuracy: 98.8 %, Loss: 0.0071\n",
            "Epoch [67/100], Learning Rate: 0.0004656784084364239\n",
            "Epoch [68/100], Train Accuracy: 99.4 %, Loss: 0.0013\n",
            "Epoch [68/100], Learning Rate: 0.00045183554137155597\n",
            "Epoch [69/100], Train Accuracy: 99.8 %, Loss: 0.2443\n",
            "Epoch [69/100], Learning Rate: 0.0004380895507758153\n",
            "Epoch [70/100], Train Accuracy: 99.4 %, Loss: 0.0086\n",
            "Epoch [70/100], Learning Rate: 0.00042445400228234684\n",
            "Epoch [71/100], Train Accuracy: 99.6 %, Loss: 0.0371\n",
            "Epoch [71/100], Learning Rate: 0.0004109423525312738\n",
            "Epoch [72/100], Train Accuracy: 99.7 %, Loss: 0.1044\n",
            "Epoch [72/100], Learning Rate: 0.0003975679358896189\n",
            "Epoch [73/100], Train Accuracy: 99.0 %, Loss: 0.0211\n",
            "Epoch [73/100], Learning Rate: 0.000384343951291895\n",
            "Epoch [74/100], Train Accuracy: 99.6 %, Loss: 0.0037\n",
            "Epoch [74/100], Learning Rate: 0.00037128344921434864\n",
            "Epoch [75/100], Train Accuracy: 99.5 %, Loss: 0.0014\n",
            "Epoch [75/100], Learning Rate: 0.0003583993187957173\n",
            "Epoch [76/100], Train Accuracy: 99.9 %, Loss: 0.0062\n",
            "Epoch [76/100], Learning Rate: 0.00034570427511720393\n",
            "Epoch [77/100], Train Accuracy: 99.9 %, Loss: 0.0299\n",
            "Epoch [77/100], Learning Rate: 0.0003332108466542281\n",
            "Epoch [78/100], Train Accuracy: 99.8 %, Loss: 0.0009\n",
            "Epoch [78/100], Learning Rate: 0.0003209313629123329\n",
            "Epoch [79/100], Train Accuracy: 99.6 %, Loss: 0.0013\n",
            "Epoch [79/100], Learning Rate: 0.0003088779422594514\n",
            "Epoch [80/100], Train Accuracy: 99.0 %, Loss: 0.0027\n",
            "Epoch [80/100], Learning Rate: 0.0002970624799665412\n",
            "Epoch [81/100], Train Accuracy: 99.5 %, Loss: 0.0244\n",
            "Epoch [81/100], Learning Rate: 0.00028549663646838715\n",
            "Epoch [82/100], Train Accuracy: 99.8 %, Loss: 0.0118\n",
            "Epoch [82/100], Learning Rate: 0.00027419182585616055\n",
            "Epoch [83/100], Train Accuracy: 99.8 %, Loss: 0.0101\n",
            "Epoch [83/100], Learning Rate: 0.0002631592046130896\n",
            "Epoch [84/100], Train Accuracy: 99.7 %, Loss: 0.0043\n",
            "Epoch [84/100], Learning Rate: 0.00025240966060435674\n",
            "Epoch [85/100], Train Accuracy: 99.5 %, Loss: 0.2673\n",
            "Epoch [85/100], Learning Rate: 0.00024195380233209008\n",
            "Epoch [86/100], Train Accuracy: 99.1 %, Loss: 0.0326\n",
            "Epoch [86/100], Learning Rate: 0.00023180194846605365\n",
            "Epoch [87/100], Train Accuracy: 99.5 %, Loss: 0.0065\n",
            "Epoch [87/100], Learning Rate: 0.0002219641176603649\n",
            "Epoch [88/100], Train Accuracy: 99.7 %, Loss: 0.0013\n",
            "Epoch [88/100], Learning Rate: 0.0002124500186662932\n",
            "Epoch [89/100], Train Accuracy: 99.8 %, Loss: 0.0027\n",
            "Epoch [89/100], Learning Rate: 0.00020326904075089488\n",
            "Epoch [90/100], Train Accuracy: 99.5 %, Loss: 0.0142\n",
            "Epoch [90/100], Learning Rate: 0.00019443024443093932\n",
            "Epoch [91/100], Train Accuracy: 99.8 %, Loss: 0.0008\n",
            "Epoch [91/100], Learning Rate: 0.00018594235253127368\n",
            "Epoch [92/100], Train Accuracy: 99.9 %, Loss: 0.0018\n",
            "Epoch [92/100], Learning Rate: 0.00017781374157644722\n",
            "Epoch [93/100], Train Accuracy: 100.0 %, Loss: 0.0058\n",
            "Epoch [93/100], Learning Rate: 0.00017005243352409332\n",
            "Epoch [94/100], Train Accuracy: 99.9 %, Loss: 0.0008\n",
            "Epoch [94/100], Learning Rate: 0.0001626660878482253\n",
            "Epoch [95/100], Train Accuracy: 99.8 %, Loss: 0.0119\n",
            "Epoch [95/100], Learning Rate: 0.0001556619939802614\n",
            "Epoch [96/100], Train Accuracy: 99.9 %, Loss: 0.0010\n",
            "Epoch [96/100], Learning Rate: 0.0001490470641152345\n",
            "Epoch [97/100], Train Accuracy: 100.0 %, Loss: 0.0004\n",
            "Epoch [97/100], Learning Rate: 0.0001428278263902913\n",
            "Epoch [98/100], Train Accuracy: 100.0 %, Loss: 0.0004\n",
            "Epoch [98/100], Learning Rate: 0.00013701041844220858\n",
            "Epoch [99/100], Train Accuracy: 100.0 %, Loss: 0.0070\n",
            "Epoch [99/100], Learning Rate: 0.0001316005813502869\n",
            "Epoch [100/100], Train Accuracy: 99.9 %, Loss: 0.0014\n",
            "Epoch [100/100], Learning Rate: 0.00012660365397059855\n"
          ]
        }
      ]
    },
    {
      "cell_type": "code",
      "source": [
        "# モデルの評価\n",
        "model.eval()\n",
        "with torch.no_grad():\n",
        "    total = 0\n",
        "    correct = 0\n",
        "    for images, labels in test_loader_handsigns:\n",
        "        images = images.to(device)\n",
        "        labels = labels.to(device)\n",
        "        outputs = model(images)\n",
        "        _, predicted = torch.max(outputs.data, 1)\n",
        "        total += labels.size(0)\n",
        "        correct += (predicted == labels).sum().item()\n",
        "    # 正解率精度の確認\n",
        "    print('Test Accuracy: {} %'.format(100 * correct / total))"
      ],
      "metadata": {
        "id": "1-yK4fD1z2Wd",
        "colab": {
          "base_uri": "https://localhost:8080/"
        },
        "outputId": "e6f0cb91-4a62-4fb9-a09e-5e381979df00"
      },
      "execution_count": 49,
      "outputs": [
        {
          "output_type": "stream",
          "name": "stdout",
          "text": [
            "Test Accuracy: 100.0 %\n"
          ]
        }
      ]
    },
    {
      "cell_type": "code",
      "source": [
        "# GPUメモリの解放\n",
        "del model\n",
        "torch.cuda.empty_cache()"
      ],
      "metadata": {
        "id": "J-woiaozz2Wd"
      },
      "execution_count": 50,
      "outputs": []
    }
  ]
}