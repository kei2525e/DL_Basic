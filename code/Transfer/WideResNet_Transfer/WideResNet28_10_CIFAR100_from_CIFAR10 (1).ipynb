{
  "nbformat": 4,
  "nbformat_minor": 0,
  "metadata": {
    "colab": {
      "provenance": [],
      "machine_shape": "hm",
      "gpuType": "A100",
      "collapsed_sections": [
        "m-QbZLFlyjCA",
        "cdzvZUWNzQAY",
        "_8vKbM9TzkCb",
        "9aOdldqfyoSt",
        "upaYuBYxytGA",
        "nac63oxOH5wc"
      ]
    },
    "kernelspec": {
      "name": "python3",
      "display_name": "Python 3"
    },
    "language_info": {
      "name": "python"
    },
    "accelerator": "GPU"
  },
  "cells": [
    {
      "cell_type": "markdown",
      "source": [
        "### ドライブのマウント"
      ],
      "metadata": {
        "id": "m-QbZLFlyjCA"
      }
    },
    {
      "cell_type": "code",
      "execution_count": 1,
      "metadata": {
        "id": "9g8jY7G9ahIa",
        "colab": {
          "base_uri": "https://localhost:8080/"
        },
        "outputId": "0c0de4d8-d28c-4fe5-d509-2625b6308b0b"
      },
      "outputs": [
        {
          "output_type": "stream",
          "name": "stdout",
          "text": [
            "Mounted at /content/drive\n"
          ]
        }
      ],
      "source": [
        "# Googleドライブをマウント\n",
        "from google.colab import drive\n",
        "drive.mount('/content/drive')"
      ]
    },
    {
      "cell_type": "markdown",
      "source": [
        "### ライブラリ・モジュールのインポート"
      ],
      "metadata": {
        "id": "cdzvZUWNzQAY"
      }
    },
    {
      "cell_type": "code",
      "source": [
        "# ライブラリの準備\n",
        "!pip install timm\n",
        "import torch\n",
        "import torch.nn as nn\n",
        "import torchvision\n",
        "import torchvision.transforms as transforms\n",
        "import torchvision.datasets as datasets\n",
        "import torch.nn.functional as F\n",
        "import torch.optim as optim\n",
        "import torch.optim.lr_scheduler as lr_scheduler\n",
        "from timm.scheduler import CosineLRScheduler\n",
        "import numpy as np\n",
        "import pandas as pd\n",
        "import matplotlib.pyplot as plt\n",
        "import math\n",
        "import copy\n",
        "import random\n",
        "import pickle"
      ],
      "metadata": {
        "id": "l8wfSjPuboGS",
        "colab": {
          "base_uri": "https://localhost:8080/"
        },
        "outputId": "81f7c5f6-0b39-45a5-a8f4-84c4fbce0716"
      },
      "execution_count": 2,
      "outputs": [
        {
          "output_type": "stream",
          "name": "stdout",
          "text": [
            "Collecting timm\n",
            "  Downloading timm-0.9.2-py3-none-any.whl (2.2 MB)\n",
            "\u001b[2K     \u001b[90m━━━━━━━━━━━━━━━━━━━━━━━━━━━━━━━━━━━━━━━━\u001b[0m \u001b[32m2.2/2.2 MB\u001b[0m \u001b[31m25.7 MB/s\u001b[0m eta \u001b[36m0:00:00\u001b[0m\n",
            "\u001b[?25hRequirement already satisfied: torch>=1.7 in /usr/local/lib/python3.10/dist-packages (from timm) (2.0.1+cu118)\n",
            "Requirement already satisfied: torchvision in /usr/local/lib/python3.10/dist-packages (from timm) (0.15.2+cu118)\n",
            "Requirement already satisfied: pyyaml in /usr/local/lib/python3.10/dist-packages (from timm) (6.0.1)\n",
            "Collecting huggingface-hub (from timm)\n",
            "  Downloading huggingface_hub-0.16.4-py3-none-any.whl (268 kB)\n",
            "\u001b[2K     \u001b[90m━━━━━━━━━━━━━━━━━━━━━━━━━━━━━━━━━━━━━━\u001b[0m \u001b[32m268.8/268.8 kB\u001b[0m \u001b[31m32.6 MB/s\u001b[0m eta \u001b[36m0:00:00\u001b[0m\n",
            "\u001b[?25hCollecting safetensors (from timm)\n",
            "  Downloading safetensors-0.3.1-cp310-cp310-manylinux_2_17_x86_64.manylinux2014_x86_64.whl (1.3 MB)\n",
            "\u001b[2K     \u001b[90m━━━━━━━━━━━━━━━━━━━━━━━━━━━━━━━━━━━━━━━━\u001b[0m \u001b[32m1.3/1.3 MB\u001b[0m \u001b[31m79.1 MB/s\u001b[0m eta \u001b[36m0:00:00\u001b[0m\n",
            "\u001b[?25hRequirement already satisfied: filelock in /usr/local/lib/python3.10/dist-packages (from torch>=1.7->timm) (3.12.2)\n",
            "Requirement already satisfied: typing-extensions in /usr/local/lib/python3.10/dist-packages (from torch>=1.7->timm) (4.7.1)\n",
            "Requirement already satisfied: sympy in /usr/local/lib/python3.10/dist-packages (from torch>=1.7->timm) (1.11.1)\n",
            "Requirement already satisfied: networkx in /usr/local/lib/python3.10/dist-packages (from torch>=1.7->timm) (3.1)\n",
            "Requirement already satisfied: jinja2 in /usr/local/lib/python3.10/dist-packages (from torch>=1.7->timm) (3.1.2)\n",
            "Requirement already satisfied: triton==2.0.0 in /usr/local/lib/python3.10/dist-packages (from torch>=1.7->timm) (2.0.0)\n",
            "Requirement already satisfied: cmake in /usr/local/lib/python3.10/dist-packages (from triton==2.0.0->torch>=1.7->timm) (3.25.2)\n",
            "Requirement already satisfied: lit in /usr/local/lib/python3.10/dist-packages (from triton==2.0.0->torch>=1.7->timm) (16.0.6)\n",
            "Requirement already satisfied: fsspec in /usr/local/lib/python3.10/dist-packages (from huggingface-hub->timm) (2023.6.0)\n",
            "Requirement already satisfied: requests in /usr/local/lib/python3.10/dist-packages (from huggingface-hub->timm) (2.27.1)\n",
            "Requirement already satisfied: tqdm>=4.42.1 in /usr/local/lib/python3.10/dist-packages (from huggingface-hub->timm) (4.65.0)\n",
            "Requirement already satisfied: packaging>=20.9 in /usr/local/lib/python3.10/dist-packages (from huggingface-hub->timm) (23.1)\n",
            "Requirement already satisfied: numpy in /usr/local/lib/python3.10/dist-packages (from torchvision->timm) (1.22.4)\n",
            "Requirement already satisfied: pillow!=8.3.*,>=5.3.0 in /usr/local/lib/python3.10/dist-packages (from torchvision->timm) (9.4.0)\n",
            "Requirement already satisfied: MarkupSafe>=2.0 in /usr/local/lib/python3.10/dist-packages (from jinja2->torch>=1.7->timm) (2.1.3)\n",
            "Requirement already satisfied: urllib3<1.27,>=1.21.1 in /usr/local/lib/python3.10/dist-packages (from requests->huggingface-hub->timm) (1.26.16)\n",
            "Requirement already satisfied: certifi>=2017.4.17 in /usr/local/lib/python3.10/dist-packages (from requests->huggingface-hub->timm) (2023.7.22)\n",
            "Requirement already satisfied: charset-normalizer~=2.0.0 in /usr/local/lib/python3.10/dist-packages (from requests->huggingface-hub->timm) (2.0.12)\n",
            "Requirement already satisfied: idna<4,>=2.5 in /usr/local/lib/python3.10/dist-packages (from requests->huggingface-hub->timm) (3.4)\n",
            "Requirement already satisfied: mpmath>=0.19 in /usr/local/lib/python3.10/dist-packages (from sympy->torch>=1.7->timm) (1.3.0)\n",
            "Installing collected packages: safetensors, huggingface-hub, timm\n",
            "Successfully installed huggingface-hub-0.16.4 safetensors-0.3.1 timm-0.9.2\n"
          ]
        }
      ]
    },
    {
      "cell_type": "markdown",
      "source": [
        "### シード値の設定"
      ],
      "metadata": {
        "id": "_8vKbM9TzkCb"
      }
    },
    {
      "cell_type": "code",
      "source": [
        "# シード値を設定\n",
        "def fix_seed(seed=1234):\n",
        "    random.seed(seed)\n",
        "    np.random.seed(seed)\n",
        "    torch.manual_seed(seed)\n",
        "    torch.cuda.manual_seed(seed)\n",
        "\n",
        "fix_seed(seed=1234)"
      ],
      "metadata": {
        "id": "pGX4Zk1LbtPr"
      },
      "execution_count": 3,
      "outputs": []
    },
    {
      "cell_type": "markdown",
      "source": [
        "### データセットの準備"
      ],
      "metadata": {
        "id": "9aOdldqfyoSt"
      }
    },
    {
      "cell_type": "code",
      "source": [
        "# 平均値と標準偏差を計算するためのCIFAR100データセットの前処理を定義\n",
        "pre_transform_cifar100 = transforms.Compose([\n",
        "    transforms.ToTensor()\n",
        "])\n",
        "\n",
        "# 平均値と標準偏差を計算するためのCIFAR100データセットの読み込み\n",
        "pre_train_dataset_cifar100 = datasets.CIFAR100(root='/content/data/', download=True, transform=pre_transform_cifar100)\n",
        "\n",
        "# 平均値と標準偏差を計算するための変数を初期化\n",
        "pre_mean_cifar100 = 0.0\n",
        "pre_std_cifar100 = 0.0\n",
        "pre_total_samples_cifar100 = len(pre_train_dataset_cifar100)\n",
        "\n",
        "# データセットのすべてのデータポイントに対して平均値と標準偏差を計算\n",
        "for data in pre_train_dataset_cifar100:\n",
        "    pre_image, _ = data\n",
        "    pre_mean_cifar100 += pre_image.mean(dim=(1, 2))  # テンソルのチャンネルごとに平均を計算\n",
        "    pre_std_cifar100 += pre_image.std(dim=(1, 2))    # テンソルのチャンネルごとに標準偏差を計算\n",
        "\n",
        "# データセット全体の平均値と標準偏差を計算\n",
        "pre_mean_cifar100 /= pre_total_samples_cifar100\n",
        "pre_std_cifar100 /= pre_total_samples_cifar100\n",
        "\n",
        "print(\"データセット全体の平均値: \", pre_mean_cifar100)\n",
        "print(\"データセット全体の標準偏差: \", pre_std_cifar100)"
      ],
      "metadata": {
        "id": "RLSipTJ0bu1w",
        "colab": {
          "base_uri": "https://localhost:8080/"
        },
        "outputId": "43acb3ba-54bc-403f-f622-56c9943ddee4"
      },
      "execution_count": 4,
      "outputs": [
        {
          "output_type": "stream",
          "name": "stdout",
          "text": [
            "Downloading https://www.cs.toronto.edu/~kriz/cifar-100-python.tar.gz to /content/data/cifar-100-python.tar.gz\n"
          ]
        },
        {
          "output_type": "stream",
          "name": "stderr",
          "text": [
            "100%|██████████| 169001437/169001437 [00:13<00:00, 12894900.63it/s]\n"
          ]
        },
        {
          "output_type": "stream",
          "name": "stdout",
          "text": [
            "Extracting /content/data/cifar-100-python.tar.gz to /content/data/\n",
            "データセット全体の平均値:  tensor([0.5071, 0.4866, 0.4409])\n",
            "データセット全体の標準偏差:  tensor([0.2009, 0.1984, 0.2023])\n"
          ]
        }
      ]
    },
    {
      "cell_type": "code",
      "source": [
        "# 学習用のCIFAR100データセットの前処理を定義\n",
        "train_transform_cifar100 = transforms.Compose([\n",
        "    transforms.RandomCrop(32, padding=4),\n",
        "    transforms.RandomHorizontalFlip(),\n",
        "    transforms.ToTensor(),\n",
        "    transforms.Normalize(mean=pre_mean_cifar100, std=pre_std_cifar100)\n",
        "    ])\n",
        "# テスト用のCIFAR100データセットの前処理を定義\n",
        "test_transform_cifar100 = transforms.Compose([\n",
        "    transforms.ToTensor(),\n",
        "    transforms.Normalize(mean=pre_mean_cifar100, std=pre_std_cifar100)\n",
        "    ])\n",
        "\n",
        "# 学習用のCIFAR100データセットの読み込み\n",
        "train_dataset_cifar100 = torchvision.datasets.CIFAR100(root='/content/data/', train=True, transform=train_transform_cifar100, download=True)\n",
        "# テスト用のCIFAR100データセットの読み込み\n",
        "test_dataset_cifar100 = torchvision.datasets.CIFAR100(root='/content/data/', train=False, transform=test_transform_cifar100, download=True)\n",
        "\n",
        "# 学習用のCIFAR100データローダーを作成\n",
        "train_loader_cifar100 = torch.utils.data.DataLoader(dataset=train_dataset_cifar100, batch_size=512, shuffle=True, num_workers=2)\n",
        "# テスト用のCIFAR100データローダーを作成\n",
        "test_loader_cifar100 = torch.utils.data.DataLoader(dataset=test_dataset_cifar100, batch_size=512, shuffle=False, num_workers=2)"
      ],
      "metadata": {
        "id": "ah3PRB7vb1UG",
        "colab": {
          "base_uri": "https://localhost:8080/"
        },
        "outputId": "312d2ccd-89eb-4758-ada9-a1d1920c4828"
      },
      "execution_count": 5,
      "outputs": [
        {
          "output_type": "stream",
          "name": "stdout",
          "text": [
            "Files already downloaded and verified\n",
            "Files already downloaded and verified\n"
          ]
        }
      ]
    },
    {
      "cell_type": "markdown",
      "source": [
        "### モデルの実装"
      ],
      "metadata": {
        "id": "upaYuBYxytGA"
      }
    },
    {
      "cell_type": "code",
      "source": [
        "# 1×1の畳み込みを定義\n",
        "def conv1x1(in_channels, out_channels, stride=1):\n",
        "    return nn.Conv2d(in_channels, out_channels, kernel_size=1, stride=stride, bias=False)\n",
        "\n",
        "# 3×3の畳み込みを定義\n",
        "def conv3x3(in_channels, out_channels, stride=1):\n",
        "    return nn.Conv2d(in_channels, out_channels, kernel_size=3, stride=stride, padding=1, bias=False)"
      ],
      "metadata": {
        "id": "uvwDV2h3b54A"
      },
      "execution_count": 6,
      "outputs": []
    },
    {
      "cell_type": "code",
      "source": [
        "# Residual Blocksを定義\n",
        "class BuildingBlock(nn.Module):\n",
        "    def __init__(self, in_channels, out_channels, stride=1):\n",
        "        super().__init__()\n",
        "        self.bn1 = nn.BatchNorm2d(in_channels)\n",
        "        self.conv1 = conv3x3(in_channels, out_channels, stride)\n",
        "        self.bn2 = nn.BatchNorm2d(out_channels)\n",
        "        self.conv2 = conv3x3(out_channels, out_channels)\n",
        "        self.dropout = nn.Dropout(p=0.3)\n",
        "        self.relu = nn.ReLU(inplace=True)\n",
        "\n",
        "        # 入力と出力のチャンネル数が異なる場合（strideが1より大きい場合）、ダウンサンプリング\n",
        "        if in_channels != out_channels or stride > 1:\n",
        "            self.shortcut = conv1x1(in_channels, out_channels, stride)\n",
        "        else:\n",
        "            self.shortcut = nn.Sequential()\n",
        "\n",
        "    def forward(self, x):\n",
        "        out = self.bn1(x)\n",
        "        out = self.relu(out)\n",
        "        out = self.conv1(out)\n",
        "        out = self.bn2(out)\n",
        "        out = self.relu(out)\n",
        "        out = self.dropout(out)\n",
        "        out = self.conv2(out)\n",
        "        # 残差写像と恒等写像の要素毎の和を計算\n",
        "        out += self.shortcut(x)\n",
        "        return out"
      ],
      "metadata": {
        "id": "pibhyT9q7T-K"
      },
      "execution_count": 7,
      "outputs": []
    },
    {
      "cell_type": "code",
      "source": [
        "class WideResNet(nn.Module):\n",
        "    def __init__(self, block, depth, k, num_classes=10):\n",
        "        super().__init__()\n",
        "        assert (depth - 4) % 6 == 0, \"depth should be 6n + 4\"\n",
        "        n = (depth - 4) // 6\n",
        "        channels = [16, 16 * k, 32 * k, 64 * k]\n",
        "        self.conv1 = conv3x3(3, channels[0])\n",
        "        # Residual Blocks（1)\n",
        "        self.layer1 = self._make_layer(block, channels[0], channels[1], n)\n",
        "        # Residual Blocks（2）\n",
        "        self.layer2 = self._make_layer(block, channels[1], channels[2], n, stride=2)\n",
        "        # Residual Blocks（3）\n",
        "        self.layer3 = self._make_layer(block, channels[2], channels[3], n, stride=2)\n",
        "        self.bn = nn.BatchNorm2d(channels[3])\n",
        "        self.relu = nn.ReLU(inplace=True)\n",
        "        self.avgpool = nn.AdaptiveAvgPool2d((1, 1))\n",
        "        self.fc = nn.Linear(channels[3], num_classes)\n",
        "\n",
        "        for m in self.modules():\n",
        "            if isinstance(m, nn.Conv2d):\n",
        "                # Heの初期化（正規分布）\n",
        "                nn.init.kaiming_normal_(m.weight, mode='fan_out', nonlinearity='relu')\n",
        "            elif isinstance(m, (nn.BatchNorm2d, nn.GroupNorm)):\n",
        "                # 重みを1に初期化\n",
        "                nn.init.constant_(m.weight, 1)\n",
        "                # バイアスを0に初期化\n",
        "                nn.init.constant_(m.bias, 0)\n",
        "\n",
        "    # Residual Blocksを作成する関数を定義\n",
        "    def _make_layer(self, block, in_channels, out_channels, blocks, stride=1):\n",
        "        layers = []\n",
        "        # 最初の Residual Block（stride=stride）\n",
        "        layers.append(block(in_channels, out_channels, stride))\n",
        "        # 残りの Residual Block（stride=1）\n",
        "        for _ in range(1, blocks):\n",
        "            layers.append(block(out_channels, out_channels))\n",
        "        return nn.Sequential(*layers)\n",
        "\n",
        "    def forward(self, x):\n",
        "        x = self.conv1(x)\n",
        "        x = self.layer1(x)\n",
        "        x = self.layer2(x)\n",
        "        x = self.layer3(x)\n",
        "        x = self.bn(x)\n",
        "        x = self.relu(x)\n",
        "        x = self.avgpool(x)\n",
        "        x = torch.flatten(x, 1)\n",
        "        x = self.fc(x)\n",
        "        return x"
      ],
      "metadata": {
        "id": "QY3GI8Vu7cP2"
      },
      "execution_count": 8,
      "outputs": []
    },
    {
      "cell_type": "markdown",
      "source": [
        "### 学習と評価（50 epochs, learning_rate=0.001）"
      ],
      "metadata": {
        "id": "r6X56V_anSea"
      }
    },
    {
      "cell_type": "code",
      "source": [
        "# デバイスを設定\n",
        "device = torch.device('cuda' if torch.cuda.is_available() else 'cpu')\n",
        "# モデルを定義（一番精度の高かったモデルを採用）\n",
        "model = torch.load('/content/drive/MyDrive/WideResNet28_10_CIFAR10_75epochs_CLRS_restest.pth')\n",
        "# 最終層を変更\n",
        "model.fc = nn.Linear(model.fc.in_features, 100)\n",
        "# 最終層以外のパラメータの勾配計算を停止\n",
        "for param in model.parameters():\n",
        "    param.requires_grad = False\n",
        "# 最終層のパラメータのみを学習するように設定\n",
        "for param in model.fc.parameters():\n",
        "    param.requires_grad = True\n",
        "# モデルをデバイスに転送\n",
        "model = model.to(device)\n",
        "# 学習前のモデルの重みを保存\n",
        "model_init = copy.deepcopy(model)\n",
        "\n",
        "# 学習率を設定\n",
        "learning_rate = 0.001\n",
        "# 全体のepoch数を設定\n",
        "num_epochs = 50\n",
        "# warm-upするepoch数を設定\n",
        "warmup_epochs = 5\n",
        "\n",
        "# 損失関数を定義\n",
        "criterion = nn.CrossEntropyLoss()\n",
        "# オプティマイザーを設定\n",
        "optimizer = optim.Adam(model.fc.parameters(), lr=learning_rate)\n",
        "# スケジューラーを設定\n",
        "scheduler = CosineLRScheduler(optimizer, t_initial=num_epochs, lr_min=1e-4, warmup_t=warmup_epochs, warmup_lr_init=1e-4, warmup_prefix=True)\n",
        "\n",
        "# モデルの学習\n",
        "for epoch in range(num_epochs):\n",
        "    total = 0\n",
        "    correct = 0\n",
        "    for i, (images, labels) in enumerate(train_loader_cifar100):\n",
        "        images = images.to(device)\n",
        "        labels = labels.to(device)\n",
        "        # 順伝播\n",
        "        outputs = model(images)\n",
        "        loss = criterion(outputs, labels)\n",
        "        # 逆伝播\n",
        "        optimizer.zero_grad()\n",
        "        loss.backward()\n",
        "        optimizer.step()\n",
        "        _, predicted = torch.max(outputs.data, 1)\n",
        "        # 全データ数\n",
        "        total += labels.size(0)\n",
        "        # 正解数\n",
        "        correct += (predicted == labels).sum().item()\n",
        "    # 正解率精度を計算\n",
        "    train_acc = 100 * correct / total\n",
        "    # 正解率精度と損失を確認\n",
        "    print(\"Epoch [{}/{}], Train Accuracy: {} %, Loss: {:.4f}\".format(epoch+1, num_epochs, 100 * correct / total, loss.item()))\n",
        "    # 1エポック終了後にスケジューラーを更新\n",
        "    scheduler.step(epoch)\n",
        "    # 学習率の確認\n",
        "    print(\"Epoch [{}/{}], Learning Rate: {}\".format(epoch+1, num_epochs, optimizer.param_groups[0]['lr']))\n",
        "\n",
        "# モデルを保存\n",
        "torch.save(model, '/content/drive/MyDrive/WideResNet28_10_CIFAR100_from_CIFAR10_75epochs_CLRS_50epochs_lr0.001_CLRS_restest.pth')"
      ],
      "metadata": {
        "colab": {
          "base_uri": "https://localhost:8080/"
        },
        "outputId": "b3d2e217-8ebe-4b53-c36d-86c57a6bdcfc",
        "id": "vEIl39w2nSea"
      },
      "execution_count": 9,
      "outputs": [
        {
          "output_type": "stream",
          "name": "stdout",
          "text": [
            "Epoch [1/50], Train Accuracy: 5.764 %, Loss: 4.0497\n",
            "Epoch [1/50], Learning Rate: 0.0001\n",
            "Epoch [2/50], Train Accuracy: 12.994 %, Loss: 3.7939\n",
            "Epoch [2/50], Learning Rate: 0.00028\n",
            "Epoch [3/50], Train Accuracy: 16.746 %, Loss: 3.4296\n",
            "Epoch [3/50], Learning Rate: 0.00045999999999999996\n",
            "Epoch [4/50], Train Accuracy: 19.4 %, Loss: 3.2886\n",
            "Epoch [4/50], Learning Rate: 0.0006399999999999999\n",
            "Epoch [5/50], Train Accuracy: 21.72 %, Loss: 3.0591\n",
            "Epoch [5/50], Learning Rate: 0.00082\n",
            "Epoch [6/50], Train Accuracy: 23.714 %, Loss: 3.0551\n",
            "Epoch [6/50], Learning Rate: 0.001\n",
            "Epoch [7/50], Train Accuracy: 25.354 %, Loss: 2.8889\n",
            "Epoch [7/50], Learning Rate: 0.0009991120277927223\n",
            "Epoch [8/50], Train Accuracy: 27.51 %, Loss: 2.9084\n",
            "Epoch [8/50], Learning Rate: 0.000996451615591515\n",
            "Epoch [9/50], Train Accuracy: 29.012 %, Loss: 2.9153\n",
            "Epoch [9/50], Learning Rate: 0.00099202926282791\n",
            "Epoch [10/50], Train Accuracy: 30.33 %, Loss: 2.8997\n",
            "Epoch [10/50], Learning Rate: 0.000985862422507884\n",
            "Epoch [11/50], Train Accuracy: 31.546 %, Loss: 2.7603\n",
            "Epoch [11/50], Learning Rate: 0.0009779754323328191\n",
            "Epoch [12/50], Train Accuracy: 32.518 %, Loss: 2.6804\n",
            "Epoch [12/50], Learning Rate: 0.0009683994186497131\n",
            "Epoch [13/50], Train Accuracy: 33.564 %, Loss: 2.6351\n",
            "Epoch [13/50], Learning Rate: 0.0009571721736097088\n",
            "Epoch [14/50], Train Accuracy: 34.296 %, Loss: 2.5390\n",
            "Epoch [14/50], Learning Rate: 0.0009443380060197386\n",
            "Epoch [15/50], Train Accuracy: 35.112 %, Loss: 2.6408\n",
            "Epoch [15/50], Learning Rate: 0.0009299475664759069\n",
            "Epoch [16/50], Train Accuracy: 35.792 %, Loss: 2.3156\n",
            "Epoch [16/50], Learning Rate: 0.0009140576474687263\n",
            "Epoch [17/50], Train Accuracy: 36.308 %, Loss: 2.4899\n",
            "Epoch [17/50], Learning Rate: 0.0008967309592491052\n",
            "Epoch [18/50], Train Accuracy: 36.708 %, Loss: 2.4964\n",
            "Epoch [18/50], Learning Rate: 0.0008780358823396353\n",
            "Epoch [19/50], Train Accuracy: 37.294 %, Loss: 2.4579\n",
            "Epoch [19/50], Learning Rate: 0.0008580461976679099\n",
            "Epoch [20/50], Train Accuracy: 37.82 %, Loss: 2.3667\n",
            "Epoch [20/50], Learning Rate: 0.0008368407953869105\n",
            "Epoch [21/50], Train Accuracy: 38.044 %, Loss: 2.3366\n",
            "Epoch [21/50], Learning Rate: 0.0008145033635316131\n",
            "Epoch [22/50], Train Accuracy: 38.592 %, Loss: 2.3368\n",
            "Epoch [22/50], Learning Rate: 0.0007911220577405485\n",
            "Epoch [23/50], Train Accuracy: 38.47 %, Loss: 2.3196\n",
            "Epoch [23/50], Learning Rate: 0.0007667891533457719\n",
            "Epoch [24/50], Train Accuracy: 38.85 %, Loss: 2.3014\n",
            "Epoch [24/50], Learning Rate: 0.0007416006812042827\n",
            "Epoch [25/50], Train Accuracy: 39.348 %, Loss: 2.2835\n",
            "Epoch [25/50], Learning Rate: 0.0007156560487081052\n",
            "Epoch [26/50], Train Accuracy: 39.834 %, Loss: 2.3920\n",
            "Epoch [26/50], Learning Rate: 0.0006890576474687264\n",
            "Epoch [27/50], Train Accuracy: 40.008 %, Loss: 2.3900\n",
            "Epoch [27/50], Learning Rate: 0.0006619104492241846\n",
            "Epoch [28/50], Train Accuracy: 40.046 %, Loss: 2.1960\n",
            "Epoch [28/50], Learning Rate: 0.0006343215915635762\n",
            "Epoch [29/50], Train Accuracy: 40.434 %, Loss: 2.3136\n",
            "Epoch [29/50], Learning Rate: 0.000606399955103937\n",
            "Epoch [30/50], Train Accuracy: 40.574 %, Loss: 2.3762\n",
            "Epoch [30/50], Learning Rate: 0.0005782557337881911\n",
            "Epoch [31/50], Train Accuracy: 41.016 %, Loss: 2.3703\n",
            "Epoch [31/50], Learning Rate: 0.00055\n",
            "Epoch [32/50], Train Accuracy: 41.348 %, Loss: 2.3785\n",
            "Epoch [32/50], Learning Rate: 0.000521744266211809\n",
            "Epoch [33/50], Train Accuracy: 41.236 %, Loss: 2.2402\n",
            "Epoch [33/50], Learning Rate: 0.0004936000448960632\n",
            "Epoch [34/50], Train Accuracy: 41.556 %, Loss: 2.3212\n",
            "Epoch [34/50], Learning Rate: 0.0004656784084364239\n",
            "Epoch [35/50], Train Accuracy: 41.888 %, Loss: 2.1484\n",
            "Epoch [35/50], Learning Rate: 0.0004380895507758153\n",
            "Epoch [36/50], Train Accuracy: 41.866 %, Loss: 2.1532\n",
            "Epoch [36/50], Learning Rate: 0.0004109423525312738\n",
            "Epoch [37/50], Train Accuracy: 41.898 %, Loss: 2.2192\n",
            "Epoch [37/50], Learning Rate: 0.000384343951291895\n",
            "Epoch [38/50], Train Accuracy: 42.368 %, Loss: 2.3501\n",
            "Epoch [38/50], Learning Rate: 0.0003583993187957173\n",
            "Epoch [39/50], Train Accuracy: 42.308 %, Loss: 2.3623\n",
            "Epoch [39/50], Learning Rate: 0.0003332108466542281\n",
            "Epoch [40/50], Train Accuracy: 42.468 %, Loss: 2.1901\n",
            "Epoch [40/50], Learning Rate: 0.0003088779422594514\n",
            "Epoch [41/50], Train Accuracy: 42.54 %, Loss: 2.2294\n",
            "Epoch [41/50], Learning Rate: 0.00028549663646838715\n",
            "Epoch [42/50], Train Accuracy: 42.556 %, Loss: 2.2196\n",
            "Epoch [42/50], Learning Rate: 0.0002631592046130896\n",
            "Epoch [43/50], Train Accuracy: 42.866 %, Loss: 2.1955\n",
            "Epoch [43/50], Learning Rate: 0.00024195380233209008\n",
            "Epoch [44/50], Train Accuracy: 42.914 %, Loss: 2.0316\n",
            "Epoch [44/50], Learning Rate: 0.0002219641176603649\n",
            "Epoch [45/50], Train Accuracy: 42.964 %, Loss: 2.1890\n",
            "Epoch [45/50], Learning Rate: 0.00020326904075089488\n",
            "Epoch [46/50], Train Accuracy: 42.798 %, Loss: 2.4269\n",
            "Epoch [46/50], Learning Rate: 0.00018594235253127368\n",
            "Epoch [47/50], Train Accuracy: 43.124 %, Loss: 2.1538\n",
            "Epoch [47/50], Learning Rate: 0.00017005243352409332\n",
            "Epoch [48/50], Train Accuracy: 43.036 %, Loss: 2.3002\n",
            "Epoch [48/50], Learning Rate: 0.0001556619939802614\n",
            "Epoch [49/50], Train Accuracy: 43.238 %, Loss: 2.1981\n",
            "Epoch [49/50], Learning Rate: 0.0001428278263902913\n",
            "Epoch [50/50], Train Accuracy: 43.09 %, Loss: 2.3458\n",
            "Epoch [50/50], Learning Rate: 0.0001316005813502869\n"
          ]
        }
      ]
    },
    {
      "cell_type": "code",
      "source": [
        "# 学習前後のモデルの最終層以外の重みを比較する関数を作成\n",
        "def check_weight_change_except_last(model, model_init):\n",
        "    for (name, param), (name_init, param_init) in zip(model.named_parameters(), model_init.named_parameters()):\n",
        "        # 最終層を除く\n",
        "        if name != 'fc.weight' and name != 'fc.bias':\n",
        "            weights_changed = (param.data != param_init.data).any()\n",
        "            if weights_changed:\n",
        "                return print('最終層以外の重みが変化しています')\n",
        "    return print('最終層以外の重みは変化していません')\n",
        "\n",
        "# 学習前後のモデルの最終層の重みを比較する関数を作成\n",
        "def check_weight_change_last(model, model_init):\n",
        "    weights_changed = (model.fc.weight.data != model_init.fc.weight.data).any() or \\\n",
        "                      (model.fc.bias.data != model_init.fc.bias.data).any()\n",
        "    if weights_changed:\n",
        "        return print('最終層の重みは変化しています')\n",
        "    else:\n",
        "        return print('最終層の重みは変化していません')\n",
        "\n",
        "# 学習前後でモデルの最終層以外の重みが変化していないかを確認\n",
        "check_weight_change_except_last(model, model_init)\n",
        "# 学習前後でモデルの最終層の重みが変化しているかを確認\n",
        "check_weight_change_last(model, model_init)"
      ],
      "metadata": {
        "colab": {
          "base_uri": "https://localhost:8080/"
        },
        "outputId": "1720024e-846a-4d3a-a91d-57ce6a130fab",
        "id": "R6l17Q70nSeb"
      },
      "execution_count": 10,
      "outputs": [
        {
          "output_type": "stream",
          "name": "stdout",
          "text": [
            "最終層以外の重みは変化していません\n",
            "最終層の重みは変化しています\n"
          ]
        }
      ]
    },
    {
      "cell_type": "code",
      "source": [
        "# モデルの評価\n",
        "model.eval()\n",
        "with torch.no_grad():\n",
        "    total = 0\n",
        "    correct = 0\n",
        "    for images, labels in test_loader_cifar100:\n",
        "        images = images.to(device)\n",
        "        labels = labels.to(device)\n",
        "        outputs = model(images)\n",
        "        _, predicted = torch.max(outputs.data, 1)\n",
        "        total += labels.size(0)\n",
        "        correct += (predicted == labels).sum().item()\n",
        "    # 正解率精度の確認\n",
        "    print('Test Accuracy: {} %'.format(100 * correct / total))"
      ],
      "metadata": {
        "colab": {
          "base_uri": "https://localhost:8080/"
        },
        "outputId": "7d1978c6-d779-41a8-ca99-1fe734008460",
        "id": "RoUmxl2pnSeb"
      },
      "execution_count": 11,
      "outputs": [
        {
          "output_type": "stream",
          "name": "stdout",
          "text": [
            "Test Accuracy: 42.08 %\n"
          ]
        }
      ]
    },
    {
      "cell_type": "code",
      "source": [
        "# GPUメモリの解放\n",
        "del model, model_init\n",
        "torch.cuda.empty_cache()"
      ],
      "metadata": {
        "id": "GU6V6g7snSeb"
      },
      "execution_count": 12,
      "outputs": []
    },
    {
      "cell_type": "markdown",
      "source": [
        "### 学習と評価（50 epochs, learning_rate=0.005）"
      ],
      "metadata": {
        "id": "mW5ERnSVnSec"
      }
    },
    {
      "cell_type": "code",
      "source": [
        "# デバイスを設定\n",
        "device = torch.device('cuda' if torch.cuda.is_available() else 'cpu')\n",
        "# モデルを定義（一番精度の高かったモデルを採用）\n",
        "model = torch.load('/content/drive/MyDrive/WideResNet28_10_CIFAR10_75epochs_CLRS_restest.pth')\n",
        "# 最終層を変更\n",
        "model.fc = nn.Linear(model.fc.in_features, 100)\n",
        "# 最終層以外のパラメータの勾配計算を停止\n",
        "for param in model.parameters():\n",
        "    param.requires_grad = False\n",
        "# 最終層のパラメータのみを学習するように設定\n",
        "for param in model.fc.parameters():\n",
        "    param.requires_grad = True\n",
        "# モデルをデバイスに転送\n",
        "model = model.to(device)\n",
        "# 学習前のモデルの重みを保存\n",
        "model_init = copy.deepcopy(model)\n",
        "\n",
        "# 学習率を設定\n",
        "learning_rate = 0.005\n",
        "# 全体のepoch数を設定\n",
        "num_epochs = 50\n",
        "# warm-upするepoch数を設定\n",
        "warmup_epochs = 5\n",
        "\n",
        "# 損失関数を定義\n",
        "criterion = nn.CrossEntropyLoss()\n",
        "# オプティマイザーを設定\n",
        "optimizer = optim.Adam(model.fc.parameters(), lr=learning_rate)\n",
        "# スケジューラーを設定\n",
        "scheduler = CosineLRScheduler(optimizer, t_initial=num_epochs, lr_min=1e-4, warmup_t=warmup_epochs, warmup_lr_init=1e-4, warmup_prefix=True)\n",
        "\n",
        "# モデルの学習\n",
        "for epoch in range(num_epochs):\n",
        "    total = 0\n",
        "    correct = 0\n",
        "    for i, (images, labels) in enumerate(train_loader_cifar100):\n",
        "        images = images.to(device)\n",
        "        labels = labels.to(device)\n",
        "        # 順伝播\n",
        "        outputs = model(images)\n",
        "        loss = criterion(outputs, labels)\n",
        "        # 逆伝播\n",
        "        optimizer.zero_grad()\n",
        "        loss.backward()\n",
        "        optimizer.step()\n",
        "        _, predicted = torch.max(outputs.data, 1)\n",
        "        # 全データ数\n",
        "        total += labels.size(0)\n",
        "        # 正解数\n",
        "        correct += (predicted == labels).sum().item()\n",
        "    # 正解率精度を計算\n",
        "    train_acc = 100 * correct / total\n",
        "    # 正解率精度と損失を確認\n",
        "    print(\"Epoch [{}/{}], Train Accuracy: {} %, Loss: {:.4f}\".format(epoch+1, num_epochs, 100 * correct / total, loss.item()))\n",
        "    # 1エポック終了後にスケジューラーを更新\n",
        "    scheduler.step(epoch)\n",
        "    # 学習率の確認\n",
        "    print(\"Epoch [{}/{}], Learning Rate: {}\".format(epoch+1, num_epochs, optimizer.param_groups[0]['lr']))\n",
        "\n",
        "# モデルを保存\n",
        "torch.save(model, '/content/drive/MyDrive/WideResNet28_10_CIFAR100_from_CIFAR10_75epochs_CLRS_50epochs_lr0.005_CLRS_restest.pth')"
      ],
      "metadata": {
        "colab": {
          "base_uri": "https://localhost:8080/"
        },
        "outputId": "585be4e3-daff-44c4-916c-d6092c28e201",
        "id": "uaRvyKfLnSec"
      },
      "execution_count": 13,
      "outputs": [
        {
          "output_type": "stream",
          "name": "stdout",
          "text": [
            "Epoch [1/50], Train Accuracy: 6.69 %, Loss: 4.0488\n",
            "Epoch [1/50], Learning Rate: 0.0001\n",
            "Epoch [2/50], Train Accuracy: 12.812 %, Loss: 3.7507\n",
            "Epoch [2/50], Learning Rate: 0.00108\n",
            "Epoch [3/50], Train Accuracy: 18.444 %, Loss: 3.3071\n",
            "Epoch [3/50], Learning Rate: 0.0020599999999999998\n",
            "Epoch [4/50], Train Accuracy: 22.788 %, Loss: 3.0878\n",
            "Epoch [4/50], Learning Rate: 0.0030399999999999997\n",
            "Epoch [5/50], Train Accuracy: 26.684 %, Loss: 2.8747\n",
            "Epoch [5/50], Learning Rate: 0.00402\n",
            "Epoch [6/50], Train Accuracy: 29.654 %, Loss: 2.7659\n",
            "Epoch [6/50], Learning Rate: 0.005\n",
            "Epoch [7/50], Train Accuracy: 31.5 %, Loss: 2.6540\n",
            "Epoch [7/50], Learning Rate: 0.004995165484649265\n",
            "Epoch [8/50], Train Accuracy: 34.334 %, Loss: 2.5094\n",
            "Epoch [8/50], Learning Rate: 0.004980681018220471\n",
            "Epoch [9/50], Train Accuracy: 35.978 %, Loss: 2.5344\n",
            "Epoch [9/50], Learning Rate: 0.004956603764285287\n",
            "Epoch [10/50], Train Accuracy: 37.32 %, Loss: 2.2645\n",
            "Epoch [10/50], Learning Rate: 0.0049230287447651466\n",
            "Epoch [11/50], Train Accuracy: 38.474 %, Loss: 2.3867\n",
            "Epoch [11/50], Learning Rate: 0.004880088464923126\n",
            "Epoch [12/50], Train Accuracy: 39.524 %, Loss: 2.2259\n",
            "Epoch [12/50], Learning Rate: 0.004827952390426216\n",
            "Epoch [13/50], Train Accuracy: 40.024 %, Loss: 2.2657\n",
            "Epoch [13/50], Learning Rate: 0.004766826278541748\n",
            "Epoch [14/50], Train Accuracy: 40.568 %, Loss: 2.3034\n",
            "Epoch [14/50], Learning Rate: 0.004696951366107466\n",
            "Epoch [15/50], Train Accuracy: 41.324 %, Loss: 2.2264\n",
            "Epoch [15/50], Learning Rate: 0.004618603417479937\n",
            "Epoch [16/50], Train Accuracy: 41.742 %, Loss: 2.2802\n",
            "Epoch [16/50], Learning Rate: 0.004532091636218621\n",
            "Epoch [17/50], Train Accuracy: 42.576 %, Loss: 2.1057\n",
            "Epoch [17/50], Learning Rate: 0.004437757444800684\n",
            "Epoch [18/50], Train Accuracy: 42.888 %, Loss: 2.2156\n",
            "Epoch [18/50], Learning Rate: 0.004335973137182458\n",
            "Epoch [19/50], Train Accuracy: 43.826 %, Loss: 2.0028\n",
            "Epoch [19/50], Learning Rate: 0.004227140409525288\n",
            "Epoch [20/50], Train Accuracy: 43.932 %, Loss: 2.1409\n",
            "Epoch [20/50], Learning Rate: 0.00411168877488429\n",
            "Epoch [21/50], Train Accuracy: 44.372 %, Loss: 2.0325\n",
            "Epoch [21/50], Learning Rate: 0.00399007386811656\n",
            "Epoch [22/50], Train Accuracy: 44.718 %, Loss: 2.0080\n",
            "Epoch [22/50], Learning Rate: 0.0038627756476985412\n",
            "Epoch [23/50], Train Accuracy: 45.01 %, Loss: 2.0165\n",
            "Epoch [23/50], Learning Rate: 0.003730296501549202\n",
            "Epoch [24/50], Train Accuracy: 45.506 %, Loss: 2.2365\n",
            "Epoch [24/50], Learning Rate: 0.003593159264334428\n",
            "Epoch [25/50], Train Accuracy: 45.958 %, Loss: 2.0358\n",
            "Epoch [25/50], Learning Rate: 0.003451905154077461\n",
            "Epoch [26/50], Train Accuracy: 46.244 %, Loss: 2.1449\n",
            "Epoch [26/50], Learning Rate: 0.003307091636218621\n",
            "Epoch [27/50], Train Accuracy: 46.194 %, Loss: 2.0629\n",
            "Epoch [27/50], Learning Rate: 0.0031592902235538936\n",
            "Epoch [28/50], Train Accuracy: 46.542 %, Loss: 2.1009\n",
            "Epoch [28/50], Learning Rate: 0.0030090842207350257\n",
            "Epoch [29/50], Train Accuracy: 46.788 %, Loss: 2.1303\n",
            "Epoch [29/50], Learning Rate: 0.002857066422232546\n",
            "Epoch [30/50], Train Accuracy: 47.064 %, Loss: 1.9966\n",
            "Epoch [30/50], Learning Rate: 0.0027038367728468176\n",
            "Epoch [31/50], Train Accuracy: 47.602 %, Loss: 1.8340\n",
            "Epoch [31/50], Learning Rate: 0.0025499999999999997\n",
            "Epoch [32/50], Train Accuracy: 47.972 %, Loss: 1.8035\n",
            "Epoch [32/50], Learning Rate: 0.002396163227153182\n",
            "Epoch [33/50], Train Accuracy: 47.92 %, Loss: 2.0611\n",
            "Epoch [33/50], Learning Rate: 0.0022429335777674544\n",
            "Epoch [34/50], Train Accuracy: 48.278 %, Loss: 1.9111\n",
            "Epoch [34/50], Learning Rate: 0.0020909157792649746\n",
            "Epoch [35/50], Train Accuracy: 48.68 %, Loss: 1.9031\n",
            "Epoch [35/50], Learning Rate: 0.0019407097764461056\n",
            "Epoch [36/50], Train Accuracy: 48.584 %, Loss: 2.0321\n",
            "Epoch [36/50], Learning Rate: 0.0017929083637813795\n",
            "Epoch [37/50], Train Accuracy: 48.942 %, Loss: 2.0993\n",
            "Epoch [37/50], Learning Rate: 0.0016480948459225396\n",
            "Epoch [38/50], Train Accuracy: 48.976 %, Loss: 1.9577\n",
            "Epoch [38/50], Learning Rate: 0.001506840735665572\n",
            "Epoch [39/50], Train Accuracy: 49.212 %, Loss: 1.6947\n",
            "Epoch [39/50], Learning Rate: 0.0013697034984507972\n",
            "Epoch [40/50], Train Accuracy: 49.396 %, Loss: 2.0938\n",
            "Epoch [40/50], Learning Rate: 0.0012372243523014576\n",
            "Epoch [41/50], Train Accuracy: 49.754 %, Loss: 2.0436\n",
            "Epoch [41/50], Learning Rate: 0.001109926131883441\n",
            "Epoch [42/50], Train Accuracy: 50.216 %, Loss: 1.8100\n",
            "Epoch [42/50], Learning Rate: 0.00098831122511571\n",
            "Epoch [43/50], Train Accuracy: 49.95 %, Loss: 1.8862\n",
            "Epoch [43/50], Learning Rate: 0.0008728595904747127\n",
            "Epoch [44/50], Train Accuracy: 50.282 %, Loss: 1.8896\n",
            "Epoch [44/50], Learning Rate: 0.0007640268628175422\n",
            "Epoch [45/50], Train Accuracy: 50.344 %, Loss: 1.8992\n",
            "Epoch [45/50], Learning Rate: 0.0006622425551993166\n",
            "Epoch [46/50], Train Accuracy: 50.67 %, Loss: 1.8934\n",
            "Epoch [46/50], Learning Rate: 0.000567908363781379\n",
            "Epoch [47/50], Train Accuracy: 50.668 %, Loss: 1.7616\n",
            "Epoch [47/50], Learning Rate: 0.0004813965825200636\n",
            "Epoch [48/50], Train Accuracy: 50.846 %, Loss: 1.8134\n",
            "Epoch [48/50], Learning Rate: 0.0004030486338925342\n",
            "Epoch [49/50], Train Accuracy: 50.774 %, Loss: 1.9160\n",
            "Epoch [49/50], Learning Rate: 0.0003331737214582526\n",
            "Epoch [50/50], Train Accuracy: 50.976 %, Loss: 1.8062\n",
            "Epoch [50/50], Learning Rate: 0.0002720476095737842\n"
          ]
        }
      ]
    },
    {
      "cell_type": "code",
      "source": [
        "# 学習前後のモデルの最終層以外の重みを比較する関数を作成\n",
        "def check_weight_change_except_last(model, model_init):\n",
        "    for (name, param), (name_init, param_init) in zip(model.named_parameters(), model_init.named_parameters()):\n",
        "        # 最終層を除く\n",
        "        if name != 'fc.weight' and name != 'fc.bias':\n",
        "            weights_changed = (param.data != param_init.data).any()\n",
        "            if weights_changed:\n",
        "                return print('最終層以外の重みが変化しています')\n",
        "    return print('最終層以外の重みは変化していません')\n",
        "\n",
        "# 学習前後のモデルの最終層の重みを比較する関数を作成\n",
        "def check_weight_change_last(model, model_init):\n",
        "    weights_changed = (model.fc.weight.data != model_init.fc.weight.data).any() or \\\n",
        "                      (model.fc.bias.data != model_init.fc.bias.data).any()\n",
        "    if weights_changed:\n",
        "        return print('最終層の重みは変化しています')\n",
        "    else:\n",
        "        return print('最終層の重みは変化していません')\n",
        "\n",
        "# 学習前後でモデルの最終層以外の重みが変化していないかを確認\n",
        "check_weight_change_except_last(model, model_init)\n",
        "# 学習前後でモデルの最終層の重みが変化しているかを確認\n",
        "check_weight_change_last(model, model_init)"
      ],
      "metadata": {
        "colab": {
          "base_uri": "https://localhost:8080/"
        },
        "outputId": "a9250bd2-c58f-478e-e303-77e23d413a06",
        "id": "Vx3YoauUnSec"
      },
      "execution_count": 14,
      "outputs": [
        {
          "output_type": "stream",
          "name": "stdout",
          "text": [
            "最終層以外の重みは変化していません\n",
            "最終層の重みは変化しています\n"
          ]
        }
      ]
    },
    {
      "cell_type": "code",
      "source": [
        "# モデルの評価\n",
        "model.eval()\n",
        "with torch.no_grad():\n",
        "    total = 0\n",
        "    correct = 0\n",
        "    for images, labels in test_loader_cifar100:\n",
        "        images = images.to(device)\n",
        "        labels = labels.to(device)\n",
        "        outputs = model(images)\n",
        "        _, predicted = torch.max(outputs.data, 1)\n",
        "        total += labels.size(0)\n",
        "        correct += (predicted == labels).sum().item()\n",
        "    # 正解率精度の確認\n",
        "    print('Test Accuracy: {} %'.format(100 * correct / total))"
      ],
      "metadata": {
        "colab": {
          "base_uri": "https://localhost:8080/"
        },
        "outputId": "4a3b19c6-2764-41f4-f214-62a12159925a",
        "id": "spLYnIQXnSec"
      },
      "execution_count": 15,
      "outputs": [
        {
          "output_type": "stream",
          "name": "stdout",
          "text": [
            "Test Accuracy: 48.41 %\n"
          ]
        }
      ]
    },
    {
      "cell_type": "code",
      "source": [
        "# GPUメモリの解放\n",
        "del model, model_init\n",
        "torch.cuda.empty_cache()"
      ],
      "metadata": {
        "id": "4Xnx4gW_nSec"
      },
      "execution_count": 16,
      "outputs": []
    },
    {
      "cell_type": "markdown",
      "source": [
        "### 学習と評価（50 epochs, learning_rate=0.01）"
      ],
      "metadata": {
        "id": "ZJHAF08RnSec"
      }
    },
    {
      "cell_type": "code",
      "source": [
        "# デバイスを設定\n",
        "device = torch.device('cuda' if torch.cuda.is_available() else 'cpu')\n",
        "# モデルを定義（一番精度の高かったモデルを採用）\n",
        "model = torch.load('/content/drive/MyDrive/WideResNet28_10_CIFAR10_75epochs_CLRS_restest.pth')\n",
        "# 最終層を変更\n",
        "model.fc = nn.Linear(model.fc.in_features, 100)\n",
        "# 最終層以外のパラメータの勾配計算を停止\n",
        "for param in model.parameters():\n",
        "    param.requires_grad = False\n",
        "# 最終層のパラメータのみを学習するように設定\n",
        "for param in model.fc.parameters():\n",
        "    param.requires_grad = True\n",
        "# モデルをデバイスに転送\n",
        "model = model.to(device)\n",
        "# 学習前のモデルの重みを保存\n",
        "model_init = copy.deepcopy(model)\n",
        "\n",
        "# 学習率を設定\n",
        "learning_rate = 0.01\n",
        "# 全体のepoch数を設定\n",
        "num_epochs = 50\n",
        "# warm-upするepoch数を設定\n",
        "warmup_epochs = 5\n",
        "\n",
        "# 損失関数を定義\n",
        "criterion = nn.CrossEntropyLoss()\n",
        "# オプティマイザーを設定\n",
        "optimizer = optim.Adam(model.fc.parameters(), lr=learning_rate)\n",
        "# スケジューラーを設定\n",
        "scheduler = CosineLRScheduler(optimizer, t_initial=num_epochs, lr_min=1e-4, warmup_t=warmup_epochs, warmup_lr_init=1e-4, warmup_prefix=True)\n",
        "\n",
        "# モデルの学習\n",
        "for epoch in range(num_epochs):\n",
        "    total = 0\n",
        "    correct = 0\n",
        "    for i, (images, labels) in enumerate(train_loader_cifar100):\n",
        "        images = images.to(device)\n",
        "        labels = labels.to(device)\n",
        "        # 順伝播\n",
        "        outputs = model(images)\n",
        "        loss = criterion(outputs, labels)\n",
        "        # 逆伝播\n",
        "        optimizer.zero_grad()\n",
        "        loss.backward()\n",
        "        optimizer.step()\n",
        "        _, predicted = torch.max(outputs.data, 1)\n",
        "        # 全データ数\n",
        "        total += labels.size(0)\n",
        "        # 正解数\n",
        "        correct += (predicted == labels).sum().item()\n",
        "    # 正解率精度を計算\n",
        "    train_acc = 100 * correct / total\n",
        "    # 正解率精度と損失を確認\n",
        "    print(\"Epoch [{}/{}], Train Accuracy: {} %, Loss: {:.4f}\".format(epoch+1, num_epochs, 100 * correct / total, loss.item()))\n",
        "    # 1エポック終了後にスケジューラーを更新\n",
        "    scheduler.step(epoch)\n",
        "    # 学習率の確認\n",
        "    print(\"Epoch [{}/{}], Learning Rate: {}\".format(epoch+1, num_epochs, optimizer.param_groups[0]['lr']))\n",
        "\n",
        "# モデルを保存\n",
        "torch.save(model, '/content/drive/MyDrive/WideResNet28_10_CIFAR100_from_CIFAR10_75epochs_CLRS_50epochs_lr0.01_CLRS_restest.pth')"
      ],
      "metadata": {
        "colab": {
          "base_uri": "https://localhost:8080/"
        },
        "outputId": "ea4920fc-29c6-4fc9-f894-187aabe84295",
        "id": "xEx8zATMnSec"
      },
      "execution_count": 17,
      "outputs": [
        {
          "output_type": "stream",
          "name": "stdout",
          "text": [
            "Epoch [1/50], Train Accuracy: 5.478 %, Loss: 4.0426\n",
            "Epoch [1/50], Learning Rate: 0.0001\n",
            "Epoch [2/50], Train Accuracy: 12.93 %, Loss: 3.7529\n",
            "Epoch [2/50], Learning Rate: 0.00208\n",
            "Epoch [3/50], Train Accuracy: 19.238 %, Loss: 3.2192\n",
            "Epoch [3/50], Learning Rate: 0.00406\n",
            "Epoch [4/50], Train Accuracy: 24.78 %, Loss: 2.8163\n",
            "Epoch [4/50], Learning Rate: 0.00604\n",
            "Epoch [5/50], Train Accuracy: 28.572 %, Loss: 2.9075\n",
            "Epoch [5/50], Learning Rate: 0.00802\n",
            "Epoch [6/50], Train Accuracy: 30.836 %, Loss: 2.6344\n",
            "Epoch [6/50], Learning Rate: 0.01\n",
            "Epoch [7/50], Train Accuracy: 33.048 %, Loss: 2.6657\n",
            "Epoch [7/50], Learning Rate: 0.009990232305719944\n",
            "Epoch [8/50], Train Accuracy: 34.89 %, Loss: 2.3911\n",
            "Epoch [8/50], Learning Rate: 0.009960967771506667\n",
            "Epoch [9/50], Train Accuracy: 36.966 %, Loss: 2.3122\n",
            "Epoch [9/50], Learning Rate: 0.00991232189110701\n",
            "Epoch [10/50], Train Accuracy: 38.204 %, Loss: 2.3422\n",
            "Epoch [10/50], Learning Rate: 0.009844486647586723\n",
            "Epoch [11/50], Train Accuracy: 39.358 %, Loss: 2.1602\n",
            "Epoch [11/50], Learning Rate: 0.009757729755661011\n",
            "Epoch [12/50], Train Accuracy: 39.69 %, Loss: 2.2676\n",
            "Epoch [12/50], Learning Rate: 0.009652393605146845\n",
            "Epoch [13/50], Train Accuracy: 40.7 %, Loss: 2.4770\n",
            "Epoch [13/50], Learning Rate: 0.009528893909706798\n",
            "Epoch [14/50], Train Accuracy: 41.154 %, Loss: 2.0646\n",
            "Epoch [14/50], Learning Rate: 0.009387718066217124\n",
            "Epoch [15/50], Train Accuracy: 42.284 %, Loss: 2.1949\n",
            "Epoch [15/50], Learning Rate: 0.009229423231234974\n",
            "Epoch [16/50], Train Accuracy: 42.704 %, Loss: 2.3731\n",
            "Epoch [16/50], Learning Rate: 0.00905463412215599\n",
            "Epoch [17/50], Train Accuracy: 43.544 %, Loss: 2.1976\n",
            "Epoch [17/50], Learning Rate: 0.008864040551740157\n",
            "Epoch [18/50], Train Accuracy: 43.82 %, Loss: 2.2547\n",
            "Epoch [18/50], Learning Rate: 0.008658394705735987\n",
            "Epoch [19/50], Train Accuracy: 44.366 %, Loss: 1.9539\n",
            "Epoch [19/50], Learning Rate: 0.00843850817434701\n",
            "Epoch [20/50], Train Accuracy: 44.688 %, Loss: 2.0341\n",
            "Epoch [20/50], Learning Rate: 0.008205248749256015\n",
            "Epoch [21/50], Train Accuracy: 44.862 %, Loss: 1.9319\n",
            "Epoch [21/50], Learning Rate: 0.007959536998847744\n",
            "Epoch [22/50], Train Accuracy: 45.656 %, Loss: 2.0421\n",
            "Epoch [22/50], Learning Rate: 0.007702342635146034\n",
            "Epoch [23/50], Train Accuracy: 46.47 %, Loss: 2.0735\n",
            "Epoch [23/50], Learning Rate: 0.007434680686803491\n",
            "Epoch [24/50], Train Accuracy: 46.466 %, Loss: 1.8949\n",
            "Epoch [24/50], Learning Rate: 0.0071576074932471105\n",
            "Epoch [25/50], Train Accuracy: 46.544 %, Loss: 1.7739\n",
            "Epoch [25/50], Learning Rate: 0.006872216535789157\n",
            "Epoch [26/50], Train Accuracy: 46.862 %, Loss: 2.0233\n",
            "Epoch [26/50], Learning Rate: 0.006579634122155991\n",
            "Epoch [27/50], Train Accuracy: 47.438 %, Loss: 2.1069\n",
            "Epoch [27/50], Learning Rate: 0.0062810149414660316\n",
            "Epoch [28/50], Train Accuracy: 48.238 %, Loss: 1.9509\n",
            "Epoch [28/50], Learning Rate: 0.005977537507199339\n",
            "Epoch [29/50], Train Accuracy: 48.286 %, Loss: 1.7551\n",
            "Epoch [29/50], Learning Rate: 0.005670399506143308\n",
            "Epoch [30/50], Train Accuracy: 48.492 %, Loss: 2.0167\n",
            "Epoch [30/50], Learning Rate: 0.005360813071670102\n",
            "Epoch [31/50], Train Accuracy: 48.962 %, Loss: 1.8826\n",
            "Epoch [31/50], Learning Rate: 0.005050000000000001\n",
            "Epoch [32/50], Train Accuracy: 49.008 %, Loss: 1.8992\n",
            "Epoch [32/50], Learning Rate: 0.004739186928329899\n",
            "Epoch [33/50], Train Accuracy: 49.488 %, Loss: 1.9375\n",
            "Epoch [33/50], Learning Rate: 0.004429600493856695\n",
            "Epoch [34/50], Train Accuracy: 49.874 %, Loss: 1.8583\n",
            "Epoch [34/50], Learning Rate: 0.0041224624928006635\n",
            "Epoch [35/50], Train Accuracy: 50.074 %, Loss: 1.9146\n",
            "Epoch [35/50], Learning Rate: 0.0038189850585339685\n",
            "Epoch [36/50], Train Accuracy: 50.264 %, Loss: 1.8396\n",
            "Epoch [36/50], Learning Rate: 0.003520365877844012\n",
            "Epoch [37/50], Train Accuracy: 50.736 %, Loss: 1.8939\n",
            "Epoch [37/50], Learning Rate: 0.0032277834642108457\n",
            "Epoch [38/50], Train Accuracy: 51.03 %, Loss: 1.7809\n",
            "Epoch [38/50], Learning Rate: 0.0029423925067528904\n",
            "Epoch [39/50], Train Accuracy: 51.366 %, Loss: 1.8578\n",
            "Epoch [39/50], Learning Rate: 0.002665319313196509\n",
            "Epoch [40/50], Train Accuracy: 51.44 %, Loss: 1.7854\n",
            "Epoch [40/50], Learning Rate: 0.0023976573648539653\n",
            "Epoch [41/50], Train Accuracy: 51.784 %, Loss: 1.6868\n",
            "Epoch [41/50], Learning Rate: 0.0021404630011522584\n",
            "Epoch [42/50], Train Accuracy: 52.042 %, Loss: 1.8056\n",
            "Epoch [42/50], Learning Rate: 0.001894751250743986\n",
            "Epoch [43/50], Train Accuracy: 52.172 %, Loss: 1.6648\n",
            "Epoch [43/50], Learning Rate: 0.001661491825652991\n",
            "Epoch [44/50], Train Accuracy: 52.702 %, Loss: 1.5943\n",
            "Epoch [44/50], Learning Rate: 0.001441605294264014\n",
            "Epoch [45/50], Train Accuracy: 52.884 %, Loss: 1.7215\n",
            "Epoch [45/50], Learning Rate: 0.001235959448259844\n",
            "Epoch [46/50], Train Accuracy: 52.706 %, Loss: 1.8958\n",
            "Epoch [46/50], Learning Rate: 0.0010453658778440107\n",
            "Epoch [47/50], Train Accuracy: 53.408 %, Loss: 1.6951\n",
            "Epoch [47/50], Learning Rate: 0.0008705767687650265\n",
            "Epoch [48/50], Train Accuracy: 53.338 %, Loss: 1.7071\n",
            "Epoch [48/50], Learning Rate: 0.0007122819337828754\n",
            "Epoch [49/50], Train Accuracy: 53.446 %, Loss: 1.7552\n",
            "Epoch [49/50], Learning Rate: 0.0005711060902932043\n",
            "Epoch [50/50], Train Accuracy: 53.718 %, Loss: 1.6785\n",
            "Epoch [50/50], Learning Rate: 0.00044760639485315584\n"
          ]
        }
      ]
    },
    {
      "cell_type": "code",
      "source": [
        "# 学習前後のモデルの最終層以外の重みを比較する関数を作成\n",
        "def check_weight_change_except_last(model, model_init):\n",
        "    for (name, param), (name_init, param_init) in zip(model.named_parameters(), model_init.named_parameters()):\n",
        "        # 最終層を除く\n",
        "        if name != 'fc.weight' and name != 'fc.bias':\n",
        "            weights_changed = (param.data != param_init.data).any()\n",
        "            if weights_changed:\n",
        "                return print('最終層以外の重みが変化しています')\n",
        "    return print('最終層以外の重みは変化していません')\n",
        "\n",
        "# 学習前後のモデルの最終層の重みを比較する関数を作成\n",
        "def check_weight_change_last(model, model_init):\n",
        "    weights_changed = (model.fc.weight.data != model_init.fc.weight.data).any() or \\\n",
        "                      (model.fc.bias.data != model_init.fc.bias.data).any()\n",
        "    if weights_changed:\n",
        "        return print('最終層の重みは変化しています')\n",
        "    else:\n",
        "        return print('最終層の重みは変化していません')\n",
        "\n",
        "# 学習前後でモデルの最終層以外の重みが変化していないかを確認\n",
        "check_weight_change_except_last(model, model_init)\n",
        "# 学習前後でモデルの最終層の重みが変化しているかを確認\n",
        "check_weight_change_last(model, model_init)"
      ],
      "metadata": {
        "colab": {
          "base_uri": "https://localhost:8080/"
        },
        "outputId": "dbec949a-d0fe-4757-a285-9c4691ee694c",
        "id": "kvDqo-e-nSed"
      },
      "execution_count": 18,
      "outputs": [
        {
          "output_type": "stream",
          "name": "stdout",
          "text": [
            "最終層以外の重みは変化していません\n",
            "最終層の重みは変化しています\n"
          ]
        }
      ]
    },
    {
      "cell_type": "code",
      "source": [
        "# モデルの評価\n",
        "model.eval()\n",
        "with torch.no_grad():\n",
        "    total = 0\n",
        "    correct = 0\n",
        "    for images, labels in test_loader_cifar100:\n",
        "        images = images.to(device)\n",
        "        labels = labels.to(device)\n",
        "        outputs = model(images)\n",
        "        _, predicted = torch.max(outputs.data, 1)\n",
        "        total += labels.size(0)\n",
        "        correct += (predicted == labels).sum().item()\n",
        "    # 正解率精度の確認\n",
        "    print('Test Accuracy: {} %'.format(100 * correct / total))"
      ],
      "metadata": {
        "colab": {
          "base_uri": "https://localhost:8080/"
        },
        "outputId": "74587724-fb67-416f-bd1f-56d6b6ade6ea",
        "id": "TlGBb7c_nSed"
      },
      "execution_count": 19,
      "outputs": [
        {
          "output_type": "stream",
          "name": "stdout",
          "text": [
            "Test Accuracy: 50.83 %\n"
          ]
        }
      ]
    },
    {
      "cell_type": "code",
      "source": [
        "# GPUメモリの解放\n",
        "del model, model_init\n",
        "torch.cuda.empty_cache()"
      ],
      "metadata": {
        "id": "D7kSJlIxnSed"
      },
      "execution_count": 20,
      "outputs": []
    }
  ]
}