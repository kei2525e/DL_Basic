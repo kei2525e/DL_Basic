{
  "nbformat": 4,
  "nbformat_minor": 0,
  "metadata": {
    "colab": {
      "provenance": [],
      "machine_shape": "hm",
      "gpuType": "V100",
      "collapsed_sections": [
        "m-QbZLFlyjCA",
        "cdzvZUWNzQAY",
        "_8vKbM9TzkCb",
        "9aOdldqfyoSt",
        "upaYuBYxytGA",
        "nac63oxOH5wc"
      ]
    },
    "kernelspec": {
      "name": "python3",
      "display_name": "Python 3"
    },
    "language_info": {
      "name": "python"
    },
    "accelerator": "GPU"
  },
  "cells": [
    {
      "cell_type": "markdown",
      "source": [
        "### ドライブのマウント"
      ],
      "metadata": {
        "id": "m-QbZLFlyjCA"
      }
    },
    {
      "cell_type": "code",
      "execution_count": 1,
      "metadata": {
        "id": "9g8jY7G9ahIa",
        "colab": {
          "base_uri": "https://localhost:8080/"
        },
        "outputId": "78d47a12-0405-4586-df72-b05c2e77bbf2"
      },
      "outputs": [
        {
          "output_type": "stream",
          "name": "stdout",
          "text": [
            "Mounted at /content/drive\n"
          ]
        }
      ],
      "source": [
        "# Googleドライブをマウント\n",
        "from google.colab import drive\n",
        "drive.mount('/content/drive')"
      ]
    },
    {
      "cell_type": "markdown",
      "source": [
        "### ライブラリ・モジュールのインポート"
      ],
      "metadata": {
        "id": "cdzvZUWNzQAY"
      }
    },
    {
      "cell_type": "code",
      "source": [
        "# ライブラリの準備\n",
        "!pip install timm\n",
        "import torch\n",
        "import torch.nn as nn\n",
        "import torchvision\n",
        "import torchvision.transforms as transforms\n",
        "import torchvision.datasets as datasets\n",
        "import torch.nn.functional as F\n",
        "import torch.optim as optim\n",
        "import torch.optim.lr_scheduler as lr_scheduler\n",
        "from timm.scheduler import CosineLRScheduler\n",
        "import numpy as np\n",
        "import pandas as pd\n",
        "import matplotlib.pyplot as plt\n",
        "import os\n",
        "import math\n",
        "import copy\n",
        "import random\n",
        "from PIL import Image\n",
        "import pickle"
      ],
      "metadata": {
        "id": "l8wfSjPuboGS",
        "colab": {
          "base_uri": "https://localhost:8080/"
        },
        "outputId": "72f725cb-4f65-43e2-ec6a-375313d83f24"
      },
      "execution_count": 2,
      "outputs": [
        {
          "output_type": "stream",
          "name": "stdout",
          "text": [
            "Collecting timm\n",
            "  Downloading timm-0.9.2-py3-none-any.whl (2.2 MB)\n",
            "\u001b[2K     \u001b[90m━━━━━━━━━━━━━━━━━━━━━━━━━━━━━━━━━━━━━━━━\u001b[0m \u001b[32m2.2/2.2 MB\u001b[0m \u001b[31m11.9 MB/s\u001b[0m eta \u001b[36m0:00:00\u001b[0m\n",
            "\u001b[?25hRequirement already satisfied: torch>=1.7 in /usr/local/lib/python3.10/dist-packages (from timm) (2.0.1+cu118)\n",
            "Requirement already satisfied: torchvision in /usr/local/lib/python3.10/dist-packages (from timm) (0.15.2+cu118)\n",
            "Requirement already satisfied: pyyaml in /usr/local/lib/python3.10/dist-packages (from timm) (6.0.1)\n",
            "Collecting huggingface-hub (from timm)\n",
            "  Downloading huggingface_hub-0.16.4-py3-none-any.whl (268 kB)\n",
            "\u001b[2K     \u001b[90m━━━━━━━━━━━━━━━━━━━━━━━━━━━━━━━━━━━━━━\u001b[0m \u001b[32m268.8/268.8 kB\u001b[0m \u001b[31m18.4 MB/s\u001b[0m eta \u001b[36m0:00:00\u001b[0m\n",
            "\u001b[?25hCollecting safetensors (from timm)\n",
            "  Downloading safetensors-0.3.1-cp310-cp310-manylinux_2_17_x86_64.manylinux2014_x86_64.whl (1.3 MB)\n",
            "\u001b[2K     \u001b[90m━━━━━━━━━━━━━━━━━━━━━━━━━━━━━━━━━━━━━━━━\u001b[0m \u001b[32m1.3/1.3 MB\u001b[0m \u001b[31m22.8 MB/s\u001b[0m eta \u001b[36m0:00:00\u001b[0m\n",
            "\u001b[?25hRequirement already satisfied: filelock in /usr/local/lib/python3.10/dist-packages (from torch>=1.7->timm) (3.12.2)\n",
            "Requirement already satisfied: typing-extensions in /usr/local/lib/python3.10/dist-packages (from torch>=1.7->timm) (4.7.1)\n",
            "Requirement already satisfied: sympy in /usr/local/lib/python3.10/dist-packages (from torch>=1.7->timm) (1.11.1)\n",
            "Requirement already satisfied: networkx in /usr/local/lib/python3.10/dist-packages (from torch>=1.7->timm) (3.1)\n",
            "Requirement already satisfied: jinja2 in /usr/local/lib/python3.10/dist-packages (from torch>=1.7->timm) (3.1.2)\n",
            "Requirement already satisfied: triton==2.0.0 in /usr/local/lib/python3.10/dist-packages (from torch>=1.7->timm) (2.0.0)\n",
            "Requirement already satisfied: cmake in /usr/local/lib/python3.10/dist-packages (from triton==2.0.0->torch>=1.7->timm) (3.25.2)\n",
            "Requirement already satisfied: lit in /usr/local/lib/python3.10/dist-packages (from triton==2.0.0->torch>=1.7->timm) (16.0.6)\n",
            "Requirement already satisfied: fsspec in /usr/local/lib/python3.10/dist-packages (from huggingface-hub->timm) (2023.6.0)\n",
            "Requirement already satisfied: requests in /usr/local/lib/python3.10/dist-packages (from huggingface-hub->timm) (2.27.1)\n",
            "Requirement already satisfied: tqdm>=4.42.1 in /usr/local/lib/python3.10/dist-packages (from huggingface-hub->timm) (4.65.0)\n",
            "Requirement already satisfied: packaging>=20.9 in /usr/local/lib/python3.10/dist-packages (from huggingface-hub->timm) (23.1)\n",
            "Requirement already satisfied: numpy in /usr/local/lib/python3.10/dist-packages (from torchvision->timm) (1.22.4)\n",
            "Requirement already satisfied: pillow!=8.3.*,>=5.3.0 in /usr/local/lib/python3.10/dist-packages (from torchvision->timm) (9.4.0)\n",
            "Requirement already satisfied: MarkupSafe>=2.0 in /usr/local/lib/python3.10/dist-packages (from jinja2->torch>=1.7->timm) (2.1.3)\n",
            "Requirement already satisfied: urllib3<1.27,>=1.21.1 in /usr/local/lib/python3.10/dist-packages (from requests->huggingface-hub->timm) (1.26.16)\n",
            "Requirement already satisfied: certifi>=2017.4.17 in /usr/local/lib/python3.10/dist-packages (from requests->huggingface-hub->timm) (2023.7.22)\n",
            "Requirement already satisfied: charset-normalizer~=2.0.0 in /usr/local/lib/python3.10/dist-packages (from requests->huggingface-hub->timm) (2.0.12)\n",
            "Requirement already satisfied: idna<4,>=2.5 in /usr/local/lib/python3.10/dist-packages (from requests->huggingface-hub->timm) (3.4)\n",
            "Requirement already satisfied: mpmath>=0.19 in /usr/local/lib/python3.10/dist-packages (from sympy->torch>=1.7->timm) (1.3.0)\n",
            "Installing collected packages: safetensors, huggingface-hub, timm\n",
            "Successfully installed huggingface-hub-0.16.4 safetensors-0.3.1 timm-0.9.2\n"
          ]
        }
      ]
    },
    {
      "cell_type": "markdown",
      "source": [
        "### シード値の設定"
      ],
      "metadata": {
        "id": "_8vKbM9TzkCb"
      }
    },
    {
      "cell_type": "code",
      "source": [
        "# シード値を設定\n",
        "def fix_seed(seed=1234):\n",
        "    random.seed(seed)\n",
        "    np.random.seed(seed)\n",
        "    torch.manual_seed(seed)\n",
        "    torch.cuda.manual_seed(seed)\n",
        "\n",
        "fix_seed(seed=1234)"
      ],
      "metadata": {
        "id": "pGX4Zk1LbtPr"
      },
      "execution_count": 3,
      "outputs": []
    },
    {
      "cell_type": "markdown",
      "source": [
        "### データセットの準備"
      ],
      "metadata": {
        "id": "9aOdldqfyoSt"
      }
    },
    {
      "cell_type": "code",
      "source": [
        "# Colabのローカルファイルに自作データをコピー（初めからローカルファイルにアップロードする場合は不要）\n",
        "!cp -r \"/content/drive/MyDrive/HandSigns/\" \"/content/HandSigns/\""
      ],
      "metadata": {
        "id": "Y3PcozNzefyo"
      },
      "execution_count": 4,
      "outputs": []
    },
    {
      "cell_type": "code",
      "source": [
        "# 自作データをリサイズして、ファイル構造を保ったまま新しいフォルダに保存する関数を定義\n",
        "def resize_images(base_dir, new_base_dir, image_size=(32, 32)):\n",
        "    for folder in os.listdir(base_dir):\n",
        "        folder_path = os.path.join(base_dir, folder)\n",
        "        new_folder_path = os.path.join(new_base_dir, folder)\n",
        "        # リサイズした自作データを保存する新しいフォルダを作成\n",
        "        os.makedirs(new_folder_path, exist_ok=True)\n",
        "        for filename in os.listdir(folder_path):\n",
        "            file_path = os.path.join(folder_path, filename)\n",
        "            # 拡張子の確認\n",
        "            if file_path.endswith(('.jpg', '.jpeg')):\n",
        "                # 画像を展開\n",
        "                img = Image.open(file_path)\n",
        "                # 画像をリサイズ\n",
        "                img_resized = img.resize(image_size)\n",
        "                # リサイズした画像を新しいフォルダに保存\n",
        "                img_resized.save(os.path.join(new_folder_path, filename))\n",
        "\n",
        "# 学習用の自作データのディレクトリを設定\n",
        "train_base_dir = '/content/HandSigns/train'\n",
        "# テスト用の自作データのディレクトリを設定\n",
        "test_base_dir = '/content/HandSigns/test'\n",
        "\n",
        "# リサイズした学習用の自作データを保存するディレクトリを設定\n",
        "new_train_base_dir = '/content/HandSigns/resized_train_32'\n",
        "# リサイズしたテスト用の自作データを保存するディレクトリを設定\n",
        "new_test_base_dir = '/content/HandSigns/resized_test_32'\n",
        "# リサイズする大きさを設定\n",
        "image_size = (32, 32)\n",
        "\n",
        "# 学習用の自作データをリサイズ\n",
        "resize_images(train_base_dir, new_train_base_dir, image_size)\n",
        "# テスト用の自作データをリサイズ\n",
        "resize_images(test_base_dir, new_test_base_dir, image_size)"
      ],
      "metadata": {
        "id": "Z8zfdM7qoClj"
      },
      "execution_count": 5,
      "outputs": []
    },
    {
      "cell_type": "code",
      "source": [
        "# 平均値と標準偏差を計算するためのHandSignsの前処理を定義\n",
        "pre_transform_handsigns = transforms.Compose([\n",
        "    transforms.ToTensor()\n",
        "])\n",
        "\n",
        "# 平均値と標準偏差を計算するためのHandSignsデータセットの前処理を定義\n",
        "pre_train_dataset_handsigns = torchvision.datasets.ImageFolder(\"/content/HandSigns/resized_train_32\", transform=pre_transform_handsigns)\n",
        "\n",
        "# 平均値と標準偏差を計算するための変数を初期化\n",
        "pre_mean_handsigns = 0.0\n",
        "pre_std_handsigns = 0.0\n",
        "pre_total_samples_handsigns = len(pre_train_dataset_handsigns)\n",
        "\n",
        "# データセットのすべてのデータポイントに対して平均値と標準偏差を計算\n",
        "for data in pre_train_dataset_handsigns:\n",
        "    pre_image, _ = data\n",
        "    pre_mean_handsigns += pre_image.mean(dim=(1, 2))  # テンソルのチャンネルごとに平均を計算\n",
        "    pre_std_handsigns += pre_image.std(dim=(1, 2))    # テンソルのチャンネルごとに標準偏差を計算\n",
        "\n",
        "# データセット全体の平均値と標準偏差を計算\n",
        "pre_mean_handsigns /= pre_total_samples_handsigns\n",
        "pre_std_handsigns /= pre_total_samples_handsigns\n",
        "\n",
        "print(\"データセット全体の平均値: \", pre_mean_handsigns)\n",
        "print(\"データセット全体の標準偏差: \", pre_std_handsigns)"
      ],
      "metadata": {
        "id": "nmHDAzTx7_mM",
        "colab": {
          "base_uri": "https://localhost:8080/"
        },
        "outputId": "5804c54f-8d10-48ee-fd36-042051cd54ba"
      },
      "execution_count": 6,
      "outputs": [
        {
          "output_type": "stream",
          "name": "stdout",
          "text": [
            "データセット全体の平均値:  tensor([0.6954, 0.6754, 0.6450])\n",
            "データセット全体の標準偏差:  tensor([0.1331, 0.1565, 0.1689])\n"
          ]
        }
      ]
    },
    {
      "cell_type": "code",
      "source": [
        "# 学習用のHandSignsデータセットの前処理を定義\n",
        "train_transform_handsigns = transforms.Compose([\n",
        "    transforms.RandomCrop(32, padding=4),\n",
        "    transforms.RandomHorizontalFlip(),\n",
        "    transforms.ToTensor(),\n",
        "    transforms.Normalize(mean=pre_mean_handsigns, std=pre_std_handsigns)\n",
        "    ])\n",
        "\n",
        "# テスト用のHandSignsデータセットの前処理を定義\n",
        "test_transform_handsigns = transforms.Compose([\n",
        "    transforms.ToTensor(),\n",
        "    transforms.Normalize(mean=pre_mean_handsigns, std=pre_std_handsigns)\n",
        "    ])\n",
        "\n",
        "# 学習用のHandSignsデータセットの読み込み\n",
        "train_dataset_handsigns = torchvision.datasets.ImageFolder(\"/content/HandSigns/resized_train_32\", transform=train_transform_handsigns)\n",
        "# テスト用のHandSignsデータセットの読み込み\n",
        "test_dataset_handsigns = torchvision.datasets.ImageFolder(\"/content/HandSigns/resized_test_32\", transform=test_transform_handsigns)\n",
        "\n",
        "# 学習用のHandSignsデータローダーを作成\n",
        "train_loader_handsigns = torch.utils.data.DataLoader(dataset=train_dataset_handsigns, batch_size=16, shuffle=True, num_workers=2)\n",
        "# テスト用のHandSignsデータローダーを作成\n",
        "test_loader_handsigns = torch.utils.data.DataLoader(dataset=test_dataset_handsigns, batch_size=16, shuffle=False, num_workers=2)"
      ],
      "metadata": {
        "id": "-HEpFd1if95E"
      },
      "execution_count": 7,
      "outputs": []
    },
    {
      "cell_type": "code",
      "source": [
        "# 学習データのクラス名とラベルの対応を確認\n",
        "print(train_dataset_handsigns.class_to_idx)\n",
        "# テストデータのクラス名とラベルの対応を確認\n",
        "print(test_dataset_handsigns.class_to_idx)"
      ],
      "metadata": {
        "id": "SfjHvYVchpC1",
        "colab": {
          "base_uri": "https://localhost:8080/"
        },
        "outputId": "b7476f53-cdfb-4104-c70a-ad7b6959f331"
      },
      "execution_count": 8,
      "outputs": [
        {
          "output_type": "stream",
          "name": "stdout",
          "text": [
            "{'100000': 0, '100001': 1, '100111': 2, '101000': 3, '110000': 4, '110001': 5, '111000': 6, '111001': 7, '111100': 8, '111111': 9}\n",
            "{'100000': 0, '100001': 1, '100111': 2, '101000': 3, '110000': 4, '110001': 5, '111000': 6, '111001': 7, '111100': 8, '111111': 9}\n"
          ]
        }
      ]
    },
    {
      "cell_type": "code",
      "source": [
        "# イテレータを作成\n",
        "data_iter = iter(train_loader_handsigns)\n",
        "\n",
        "# データを1バッチ分取得\n",
        "images, labels = next(data_iter)\n",
        "\n",
        "# 取得したバッチの画像とラベルの情報を確認\n",
        "print(\"画像の形状:\", images.shape)  # (バッチサイズ, チャンネル数, 高さ, 幅)\n",
        "print(\"ラベル:\", labels)"
      ],
      "metadata": {
        "id": "COkrTTnDknvR",
        "colab": {
          "base_uri": "https://localhost:8080/"
        },
        "outputId": "d4b28540-2b70-4bbc-a434-1fea86006932"
      },
      "execution_count": 9,
      "outputs": [
        {
          "output_type": "stream",
          "name": "stdout",
          "text": [
            "画像の形状: torch.Size([16, 3, 32, 32])\n",
            "ラベル: tensor([3, 7, 4, 1, 3, 5, 6, 9, 9, 5, 3, 0, 4, 0, 2, 1])\n"
          ]
        }
      ]
    },
    {
      "cell_type": "markdown",
      "source": [
        "### モデルの実装"
      ],
      "metadata": {
        "id": "upaYuBYxytGA"
      }
    },
    {
      "cell_type": "code",
      "source": [
        "# 1×1の畳み込みを定義\n",
        "def conv1x1(in_channels, out_channels, stride=1):\n",
        "    return nn.Conv2d(in_channels, out_channels, kernel_size=1, stride=stride, bias=False)\n",
        "\n",
        "# 3×3の畳み込みを定義\n",
        "def conv3x3(in_channels, out_channels, stride=1):\n",
        "    return nn.Conv2d(in_channels, out_channels, kernel_size=3, stride=stride, padding=1, bias=False)"
      ],
      "metadata": {
        "id": "uvwDV2h3b54A"
      },
      "execution_count": 10,
      "outputs": []
    },
    {
      "cell_type": "code",
      "source": [
        "# Residual Blocksを定義\n",
        "class BuildingBlock(nn.Module):\n",
        "    def __init__(self, in_channels, out_channels, stride=1):\n",
        "        super().__init__()\n",
        "        self.bn1 = nn.BatchNorm2d(in_channels)\n",
        "        self.conv1 = conv3x3(in_channels, out_channels, stride)\n",
        "        self.bn2 = nn.BatchNorm2d(out_channels)\n",
        "        self.conv2 = conv3x3(out_channels, out_channels)\n",
        "        self.dropout = nn.Dropout(p=0.3)\n",
        "        self.relu = nn.ReLU(inplace=True)\n",
        "\n",
        "        # 入力と出力のチャンネル数が異なる場合（strideが1より大きい場合）、ダウンサンプリング\n",
        "        if in_channels != out_channels or stride > 1:\n",
        "            self.shortcut = conv1x1(in_channels, out_channels, stride)\n",
        "        else:\n",
        "            self.shortcut = nn.Sequential()\n",
        "\n",
        "    def forward(self, x):\n",
        "        out = self.bn1(x)\n",
        "        out = self.relu(out)\n",
        "        out = self.conv1(out)\n",
        "        out = self.bn2(out)\n",
        "        out = self.relu(out)\n",
        "        out = self.dropout(out)\n",
        "        out = self.conv2(out)\n",
        "        # 残差写像と恒等写像の要素毎の和を計算\n",
        "        out += self.shortcut(x)\n",
        "        return out"
      ],
      "metadata": {
        "id": "pibhyT9q7T-K"
      },
      "execution_count": 11,
      "outputs": []
    },
    {
      "cell_type": "code",
      "source": [
        "class WideResNet(nn.Module):\n",
        "    def __init__(self, block, depth, k, num_classes=10):\n",
        "        super().__init__()\n",
        "        assert (depth - 4) % 6 == 0, \"depth should be 6n + 4\"\n",
        "        n = (depth - 4) // 6\n",
        "        channels = [16, 16 * k, 32 * k, 64 * k]\n",
        "        self.conv1 = conv3x3(3, channels[0])\n",
        "        # Residual Blocks（1)\n",
        "        self.layer1 = self._make_layer(block, channels[0], channels[1], n)\n",
        "        # Residual Blocks（2）\n",
        "        self.layer2 = self._make_layer(block, channels[1], channels[2], n, stride=2)\n",
        "        # Residual Blocks（3）\n",
        "        self.layer3 = self._make_layer(block, channels[2], channels[3], n, stride=2)\n",
        "        self.bn = nn.BatchNorm2d(channels[3])\n",
        "        self.relu = nn.ReLU(inplace=True)\n",
        "        self.avgpool = nn.AdaptiveAvgPool2d((1, 1))\n",
        "        self.fc = nn.Linear(channels[3], num_classes)\n",
        "\n",
        "        for m in self.modules():\n",
        "            if isinstance(m, nn.Conv2d):\n",
        "                # Heの初期化（正規分布）\n",
        "                nn.init.kaiming_normal_(m.weight, mode='fan_out', nonlinearity='relu')\n",
        "            elif isinstance(m, (nn.BatchNorm2d, nn.GroupNorm)):\n",
        "                # 重みを1に初期化\n",
        "                nn.init.constant_(m.weight, 1)\n",
        "                # バイアスを0に初期化\n",
        "                nn.init.constant_(m.bias, 0)\n",
        "\n",
        "    # Residual Blocksを作成する関数を定義\n",
        "    def _make_layer(self, block, in_channels, out_channels, blocks, stride=1):\n",
        "        layers = []\n",
        "        # 最初の Residual Block（stride=stride）\n",
        "        layers.append(block(in_channels, out_channels, stride))\n",
        "        # 残りの Residual Block（stride=1）\n",
        "        for _ in range(1, blocks):\n",
        "            layers.append(block(out_channels, out_channels))\n",
        "        return nn.Sequential(*layers)\n",
        "\n",
        "    def forward(self, x):\n",
        "        x = self.conv1(x)\n",
        "        x = self.layer1(x)\n",
        "        x = self.layer2(x)\n",
        "        x = self.layer3(x)\n",
        "        x = self.bn(x)\n",
        "        x = self.relu(x)\n",
        "        x = self.avgpool(x)\n",
        "        x = torch.flatten(x, 1)\n",
        "        x = self.fc(x)\n",
        "        return x"
      ],
      "metadata": {
        "id": "QY3GI8Vu7cP2"
      },
      "execution_count": 12,
      "outputs": []
    },
    {
      "cell_type": "markdown",
      "source": [
        "### 学習と評価（50 epochs, learning_rate=0.001）"
      ],
      "metadata": {
        "id": "k8F-G113klD4"
      }
    },
    {
      "cell_type": "code",
      "source": [
        "# デバイスを設定\n",
        "device = torch.device('cuda' if torch.cuda.is_available() else 'cpu')\n",
        "# モデルを定義（一番精度の高かったモデルを採用）\n",
        "model = torch.load('/content/drive/MyDrive/WideResNet28_10_CIFAR100_100epochs_CLRS_restest.pth')\n",
        "# 最終層を変更\n",
        "model.fc = nn.Linear(model.fc.in_features, 10)\n",
        "# 最終層以外のパラメータの勾配計算を停止\n",
        "for param in model.parameters():\n",
        "    param.requires_grad = False\n",
        "# 最終層のパラメータのみを学習するように設定\n",
        "for param in model.fc.parameters():\n",
        "    param.requires_grad = True\n",
        "# モデルをデバイスに転送\n",
        "model = model.to(device)\n",
        "# 学習前のモデルの重みを保存\n",
        "model_init = copy.deepcopy(model)\n",
        "\n",
        "# 学習率を設定\n",
        "learning_rate = 0.001\n",
        "# 全体のepoch数を設定\n",
        "num_epochs = 50\n",
        "# warm-upするepoch数を設定\n",
        "warmup_epochs = 10\n",
        "\n",
        "# 損失関数を定義\n",
        "criterion = nn.CrossEntropyLoss()\n",
        "# オプティマイザーを設定\n",
        "optimizer = optim.Adam(model.fc.parameters(), lr=learning_rate)\n",
        "# スケジューラーを設定\n",
        "scheduler = CosineLRScheduler(optimizer, t_initial=num_epochs, lr_min=1e-4, warmup_t=warmup_epochs, warmup_lr_init=1e-4, warmup_prefix=True)\n",
        "\n",
        "# モデルの学習\n",
        "for epoch in range(num_epochs):\n",
        "    total = 0\n",
        "    correct = 0\n",
        "    for i, (images, labels) in enumerate(train_loader_handsigns):\n",
        "        images = images.to(device)\n",
        "        labels = labels.to(device)\n",
        "        # 順伝播\n",
        "        outputs = model(images)\n",
        "        loss = criterion(outputs, labels)\n",
        "        # 逆伝播\n",
        "        optimizer.zero_grad()\n",
        "        loss.backward()\n",
        "        optimizer.step()\n",
        "        _, predicted = torch.max(outputs.data, 1)\n",
        "        # 全データ数\n",
        "        total += labels.size(0)\n",
        "        # 正解数\n",
        "        correct += (predicted == labels).sum().item()\n",
        "    # 正解率精度を計算\n",
        "    train_acc = 100 * correct / total\n",
        "    # 正解率精度と損失を確認\n",
        "    print(\"Epoch [{}/{}], Train Accuracy: {} %, Loss: {:.4f}\".format(epoch+1, num_epochs, 100 * correct / total, loss.item()))\n",
        "    # 1エポック終了後にスケジューラーを更新\n",
        "    scheduler.step(epoch)\n",
        "    # 学習率の確認\n",
        "    print(\"Epoch [{}/{}], Learning Rate: {}\".format(epoch+1, num_epochs, optimizer.param_groups[0]['lr']))\n",
        "\n",
        "# モデルを保存\n",
        "torch.save(model, '/content/drive/MyDrive/WideResNet28_10_HandSigns_from_CIFAR100_100epochs_CLRS_50epochs_lr0.001_CLRS_restest.pth')"
      ],
      "metadata": {
        "colab": {
          "base_uri": "https://localhost:8080/"
        },
        "outputId": "60e5b979-2e48-4c92-8e68-d13af8d41da0",
        "id": "ZfNJKBgnklD5"
      },
      "execution_count": 25,
      "outputs": [
        {
          "output_type": "stream",
          "name": "stdout",
          "text": [
            "Epoch [1/50], Train Accuracy: 16.3 %, Loss: 2.1872\n",
            "Epoch [1/50], Learning Rate: 0.0001\n",
            "Epoch [2/50], Train Accuracy: 28.4 %, Loss: 1.9151\n",
            "Epoch [2/50], Learning Rate: 0.00019\n",
            "Epoch [3/50], Train Accuracy: 39.1 %, Loss: 2.1232\n",
            "Epoch [3/50], Learning Rate: 0.00028\n",
            "Epoch [4/50], Train Accuracy: 47.8 %, Loss: 1.7690\n",
            "Epoch [4/50], Learning Rate: 0.00036999999999999994\n",
            "Epoch [5/50], Train Accuracy: 51.5 %, Loss: 1.6091\n",
            "Epoch [5/50], Learning Rate: 0.00045999999999999996\n",
            "Epoch [6/50], Train Accuracy: 56.3 %, Loss: 1.4586\n",
            "Epoch [6/50], Learning Rate: 0.00055\n",
            "Epoch [7/50], Train Accuracy: 58.9 %, Loss: 1.2362\n",
            "Epoch [7/50], Learning Rate: 0.0006399999999999999\n",
            "Epoch [8/50], Train Accuracy: 63.1 %, Loss: 0.9741\n",
            "Epoch [8/50], Learning Rate: 0.00073\n",
            "Epoch [9/50], Train Accuracy: 63.5 %, Loss: 0.7284\n",
            "Epoch [9/50], Learning Rate: 0.00082\n",
            "Epoch [10/50], Train Accuracy: 68.9 %, Loss: 0.5754\n",
            "Epoch [10/50], Learning Rate: 0.00091\n",
            "Epoch [11/50], Train Accuracy: 66.4 %, Loss: 1.1605\n",
            "Epoch [11/50], Learning Rate: 0.001\n",
            "Epoch [12/50], Train Accuracy: 64.9 %, Loss: 0.8338\n",
            "Epoch [12/50], Learning Rate: 0.0009991120277927223\n",
            "Epoch [13/50], Train Accuracy: 69.3 %, Loss: 0.9814\n",
            "Epoch [13/50], Learning Rate: 0.000996451615591515\n",
            "Epoch [14/50], Train Accuracy: 67.8 %, Loss: 1.2641\n",
            "Epoch [14/50], Learning Rate: 0.00099202926282791\n",
            "Epoch [15/50], Train Accuracy: 72.9 %, Loss: 1.5185\n",
            "Epoch [15/50], Learning Rate: 0.000985862422507884\n",
            "Epoch [16/50], Train Accuracy: 70.4 %, Loss: 0.6561\n",
            "Epoch [16/50], Learning Rate: 0.0009779754323328191\n",
            "Epoch [17/50], Train Accuracy: 70.5 %, Loss: 0.7139\n",
            "Epoch [17/50], Learning Rate: 0.0009683994186497131\n",
            "Epoch [18/50], Train Accuracy: 74.8 %, Loss: 0.8472\n",
            "Epoch [18/50], Learning Rate: 0.0009571721736097088\n",
            "Epoch [19/50], Train Accuracy: 76.1 %, Loss: 0.7398\n",
            "Epoch [19/50], Learning Rate: 0.0009443380060197386\n",
            "Epoch [20/50], Train Accuracy: 73.7 %, Loss: 1.3344\n",
            "Epoch [20/50], Learning Rate: 0.0009299475664759069\n",
            "Epoch [21/50], Train Accuracy: 72.1 %, Loss: 0.6252\n",
            "Epoch [21/50], Learning Rate: 0.0009140576474687263\n",
            "Epoch [22/50], Train Accuracy: 74.8 %, Loss: 1.1068\n",
            "Epoch [22/50], Learning Rate: 0.0008967309592491052\n",
            "Epoch [23/50], Train Accuracy: 73.4 %, Loss: 0.7183\n",
            "Epoch [23/50], Learning Rate: 0.0008780358823396353\n",
            "Epoch [24/50], Train Accuracy: 73.1 %, Loss: 1.5997\n",
            "Epoch [24/50], Learning Rate: 0.0008580461976679099\n",
            "Epoch [25/50], Train Accuracy: 74.0 %, Loss: 0.3379\n",
            "Epoch [25/50], Learning Rate: 0.0008368407953869105\n",
            "Epoch [26/50], Train Accuracy: 74.6 %, Loss: 0.4891\n",
            "Epoch [26/50], Learning Rate: 0.0008145033635316131\n",
            "Epoch [27/50], Train Accuracy: 76.3 %, Loss: 1.4826\n",
            "Epoch [27/50], Learning Rate: 0.0007911220577405485\n",
            "Epoch [28/50], Train Accuracy: 76.2 %, Loss: 1.1164\n",
            "Epoch [28/50], Learning Rate: 0.0007667891533457719\n",
            "Epoch [29/50], Train Accuracy: 74.5 %, Loss: 0.4942\n",
            "Epoch [29/50], Learning Rate: 0.0007416006812042827\n",
            "Epoch [30/50], Train Accuracy: 77.8 %, Loss: 1.2953\n",
            "Epoch [30/50], Learning Rate: 0.0007156560487081052\n",
            "Epoch [31/50], Train Accuracy: 76.1 %, Loss: 1.1284\n",
            "Epoch [31/50], Learning Rate: 0.0006890576474687264\n",
            "Epoch [32/50], Train Accuracy: 77.6 %, Loss: 0.5048\n",
            "Epoch [32/50], Learning Rate: 0.0006619104492241846\n",
            "Epoch [33/50], Train Accuracy: 76.1 %, Loss: 0.6594\n",
            "Epoch [33/50], Learning Rate: 0.0006343215915635762\n",
            "Epoch [34/50], Train Accuracy: 78.0 %, Loss: 0.5173\n",
            "Epoch [34/50], Learning Rate: 0.000606399955103937\n",
            "Epoch [35/50], Train Accuracy: 77.8 %, Loss: 0.8901\n",
            "Epoch [35/50], Learning Rate: 0.0005782557337881911\n",
            "Epoch [36/50], Train Accuracy: 80.6 %, Loss: 0.4884\n",
            "Epoch [36/50], Learning Rate: 0.00055\n",
            "Epoch [37/50], Train Accuracy: 77.7 %, Loss: 0.5648\n",
            "Epoch [37/50], Learning Rate: 0.000521744266211809\n",
            "Epoch [38/50], Train Accuracy: 78.1 %, Loss: 0.4229\n",
            "Epoch [38/50], Learning Rate: 0.0004936000448960632\n",
            "Epoch [39/50], Train Accuracy: 78.0 %, Loss: 0.5750\n",
            "Epoch [39/50], Learning Rate: 0.0004656784084364239\n",
            "Epoch [40/50], Train Accuracy: 80.6 %, Loss: 0.5392\n",
            "Epoch [40/50], Learning Rate: 0.0004380895507758153\n",
            "Epoch [41/50], Train Accuracy: 80.7 %, Loss: 0.3928\n",
            "Epoch [41/50], Learning Rate: 0.0004109423525312738\n",
            "Epoch [42/50], Train Accuracy: 80.5 %, Loss: 1.1187\n",
            "Epoch [42/50], Learning Rate: 0.000384343951291895\n",
            "Epoch [43/50], Train Accuracy: 81.3 %, Loss: 0.9231\n",
            "Epoch [43/50], Learning Rate: 0.0003583993187957173\n",
            "Epoch [44/50], Train Accuracy: 80.7 %, Loss: 1.0619\n",
            "Epoch [44/50], Learning Rate: 0.0003332108466542281\n",
            "Epoch [45/50], Train Accuracy: 82.8 %, Loss: 1.2124\n",
            "Epoch [45/50], Learning Rate: 0.0003088779422594514\n",
            "Epoch [46/50], Train Accuracy: 80.6 %, Loss: 0.6725\n",
            "Epoch [46/50], Learning Rate: 0.00028549663646838715\n",
            "Epoch [47/50], Train Accuracy: 83.8 %, Loss: 0.8799\n",
            "Epoch [47/50], Learning Rate: 0.0002631592046130896\n",
            "Epoch [48/50], Train Accuracy: 79.7 %, Loss: 1.0391\n",
            "Epoch [48/50], Learning Rate: 0.00024195380233209008\n",
            "Epoch [49/50], Train Accuracy: 81.3 %, Loss: 0.4913\n",
            "Epoch [49/50], Learning Rate: 0.0002219641176603649\n",
            "Epoch [50/50], Train Accuracy: 81.5 %, Loss: 0.5361\n",
            "Epoch [50/50], Learning Rate: 0.00020326904075089488\n"
          ]
        }
      ]
    },
    {
      "cell_type": "code",
      "source": [
        "# 学習前後のモデルの最終層以外の重みを比較する関数を作成\n",
        "def check_weight_change_except_last(model, model_init):\n",
        "    for (name, param), (name_init, param_init) in zip(model.named_parameters(), model_init.named_parameters()):\n",
        "        # 最終層を除く\n",
        "        if name != 'fc.weight' and name != 'fc.bias':\n",
        "            weights_changed = (param.data != param_init.data).any()\n",
        "            if weights_changed:\n",
        "                return print('最終層以外の重みが変化しています')\n",
        "    return print('最終層以外の重みは変化していません')\n",
        "\n",
        "# 学習前後のモデルの最終層の重みを比較する関数を作成\n",
        "def check_weight_change_last(model, model_init):\n",
        "    weights_changed = (model.fc.weight.data != model_init.fc.weight.data).any() or \\\n",
        "                      (model.fc.bias.data != model_init.fc.bias.data).any()\n",
        "    if weights_changed:\n",
        "        return print('最終層の重みは変化しています')\n",
        "    else:\n",
        "        return print('最終層の重みは変化していません')\n",
        "\n",
        "# 学習前後でモデルの最終層以外の重みが変化していないかを確認\n",
        "check_weight_change_except_last(model, model_init)\n",
        "# 学習前後でモデルの最終層の重みが変化しているかを確認\n",
        "check_weight_change_last(model, model_init)"
      ],
      "metadata": {
        "colab": {
          "base_uri": "https://localhost:8080/"
        },
        "outputId": "3e399cfa-d92a-425e-8376-6181278e443e",
        "id": "umzD5mVhklD5"
      },
      "execution_count": 26,
      "outputs": [
        {
          "output_type": "stream",
          "name": "stdout",
          "text": [
            "最終層以外の重みは変化していません\n",
            "最終層の重みは変化しています\n"
          ]
        }
      ]
    },
    {
      "cell_type": "code",
      "source": [
        "# モデルの評価\n",
        "model.eval()\n",
        "with torch.no_grad():\n",
        "    total = 0\n",
        "    correct = 0\n",
        "    for images, labels in test_loader_handsigns:\n",
        "        images = images.to(device)\n",
        "        labels = labels.to(device)\n",
        "        outputs = model(images)\n",
        "        _, predicted = torch.max(outputs.data, 1)\n",
        "        total += labels.size(0)\n",
        "        correct += (predicted == labels).sum().item()\n",
        "    # 正解率精度の確認\n",
        "    print('Test Accuracy: {} %'.format(100 * correct / total))"
      ],
      "metadata": {
        "colab": {
          "base_uri": "https://localhost:8080/"
        },
        "outputId": "dd95650f-67c6-45e1-b8fc-622da5beac15",
        "id": "ez0QwgOxklD6"
      },
      "execution_count": 27,
      "outputs": [
        {
          "output_type": "stream",
          "name": "stdout",
          "text": [
            "Test Accuracy: 79.0 %\n"
          ]
        }
      ]
    },
    {
      "cell_type": "code",
      "source": [
        "# GPUメモリの解放\n",
        "del model, model_init\n",
        "torch.cuda.empty_cache()"
      ],
      "metadata": {
        "id": "yth-DonXklD6"
      },
      "execution_count": 28,
      "outputs": []
    },
    {
      "cell_type": "markdown",
      "source": [
        "### 学習と評価（50 epochs, learning_rate=0.005）"
      ],
      "metadata": {
        "id": "JhFxk93vklD6"
      }
    },
    {
      "cell_type": "code",
      "source": [
        "# デバイスを設定\n",
        "device = torch.device('cuda' if torch.cuda.is_available() else 'cpu')\n",
        "# モデルを定義（一番精度の高かったモデルを採用）\n",
        "model = torch.load('/content/drive/MyDrive/WideResNet28_10_CIFAR100_100epochs_CLRS_restest.pth')\n",
        "# 最終層を変更\n",
        "model.fc = nn.Linear(model.fc.in_features, 10)\n",
        "# 最終層以外のパラメータの勾配計算を停止\n",
        "for param in model.parameters():\n",
        "    param.requires_grad = False\n",
        "# 最終層のパラメータのみを学習するように設定\n",
        "for param in model.fc.parameters():\n",
        "    param.requires_grad = True\n",
        "# モデルをデバイスに転送\n",
        "model = model.to(device)\n",
        "# 学習前のモデルの重みを保存\n",
        "model_init = copy.deepcopy(model)\n",
        "\n",
        "# 学習率を設定\n",
        "learning_rate = 0.005\n",
        "# 全体のepoch数を設定\n",
        "num_epochs = 50\n",
        "# warm-upするepoch数を設定\n",
        "warmup_epochs = 5\n",
        "\n",
        "# 損失関数を定義\n",
        "criterion = nn.CrossEntropyLoss()\n",
        "# オプティマイザーを設定\n",
        "optimizer = optim.Adam(model.fc.parameters(), lr=learning_rate)\n",
        "# スケジューラーを設定\n",
        "scheduler = CosineLRScheduler(optimizer, t_initial=num_epochs, lr_min=1e-4, warmup_t=warmup_epochs, warmup_lr_init=1e-4, warmup_prefix=True)\n",
        "\n",
        "# モデルの学習\n",
        "for epoch in range(num_epochs):\n",
        "    total = 0\n",
        "    correct = 0\n",
        "    for i, (images, labels) in enumerate(train_loader_handsigns):\n",
        "        images = images.to(device)\n",
        "        labels = labels.to(device)\n",
        "        # 順伝播\n",
        "        outputs = model(images)\n",
        "        loss = criterion(outputs, labels)\n",
        "        # 逆伝播\n",
        "        optimizer.zero_grad()\n",
        "        loss.backward()\n",
        "        optimizer.step()\n",
        "        _, predicted = torch.max(outputs.data, 1)\n",
        "        # 全データ数\n",
        "        total += labels.size(0)\n",
        "        # 正解数\n",
        "        correct += (predicted == labels).sum().item()\n",
        "    # 正解率精度を計算\n",
        "    train_acc = 100 * correct / total\n",
        "    # 正解率精度と損失を確認\n",
        "    print(\"Epoch [{}/{}], Train Accuracy: {} %, Loss: {:.4f}\".format(epoch+1, num_epochs, 100 * correct / total, loss.item()))\n",
        "    # 1エポック終了後にスケジューラーを更新\n",
        "    scheduler.step(epoch)\n",
        "    # 学習率の確認\n",
        "    print(\"Epoch [{}/{}], Learning Rate: {}\".format(epoch+1, num_epochs, optimizer.param_groups[0]['lr']))\n",
        "\n",
        "# モデルを保存\n",
        "torch.save(model, '/content/drive/MyDrive/WideResNet28_10_HandSigns_from_CIFAR100_100epochs_CLRS_50epochs_lr0.005_CLRS_restest.pth')"
      ],
      "metadata": {
        "colab": {
          "base_uri": "https://localhost:8080/"
        },
        "outputId": "37d66618-68ef-4c64-a8fe-81f4dc6a5265",
        "id": "5GCjwl-SklD6"
      },
      "execution_count": 17,
      "outputs": [
        {
          "output_type": "stream",
          "name": "stdout",
          "text": [
            "Epoch [1/50], Train Accuracy: 17.8 %, Loss: 2.3667\n",
            "Epoch [1/50], Learning Rate: 0.0001\n",
            "Epoch [2/50], Train Accuracy: 25.3 %, Loss: 2.1458\n",
            "Epoch [2/50], Learning Rate: 0.00108\n",
            "Epoch [3/50], Train Accuracy: 40.8 %, Loss: 1.7269\n",
            "Epoch [3/50], Learning Rate: 0.0020599999999999998\n",
            "Epoch [4/50], Train Accuracy: 55.2 %, Loss: 1.2470\n",
            "Epoch [4/50], Learning Rate: 0.0030399999999999997\n",
            "Epoch [5/50], Train Accuracy: 56.9 %, Loss: 1.4606\n",
            "Epoch [5/50], Learning Rate: 0.00402\n",
            "Epoch [6/50], Train Accuracy: 60.2 %, Loss: 1.4957\n",
            "Epoch [6/50], Learning Rate: 0.005\n",
            "Epoch [7/50], Train Accuracy: 61.4 %, Loss: 1.7982\n",
            "Epoch [7/50], Learning Rate: 0.004995165484649265\n",
            "Epoch [8/50], Train Accuracy: 67.8 %, Loss: 0.8988\n",
            "Epoch [8/50], Learning Rate: 0.004980681018220471\n",
            "Epoch [9/50], Train Accuracy: 68.4 %, Loss: 1.0325\n",
            "Epoch [9/50], Learning Rate: 0.004956603764285287\n",
            "Epoch [10/50], Train Accuracy: 69.5 %, Loss: 1.1446\n",
            "Epoch [10/50], Learning Rate: 0.0049230287447651466\n",
            "Epoch [11/50], Train Accuracy: 67.5 %, Loss: 0.9580\n",
            "Epoch [11/50], Learning Rate: 0.004880088464923126\n",
            "Epoch [12/50], Train Accuracy: 67.9 %, Loss: 1.6083\n",
            "Epoch [12/50], Learning Rate: 0.004827952390426216\n",
            "Epoch [13/50], Train Accuracy: 72.4 %, Loss: 1.1350\n",
            "Epoch [13/50], Learning Rate: 0.004766826278541748\n",
            "Epoch [14/50], Train Accuracy: 72.4 %, Loss: 1.2550\n",
            "Epoch [14/50], Learning Rate: 0.004696951366107466\n",
            "Epoch [15/50], Train Accuracy: 72.5 %, Loss: 0.4786\n",
            "Epoch [15/50], Learning Rate: 0.004618603417479937\n",
            "Epoch [16/50], Train Accuracy: 75.8 %, Loss: 0.1865\n",
            "Epoch [16/50], Learning Rate: 0.004532091636218621\n",
            "Epoch [17/50], Train Accuracy: 75.6 %, Loss: 1.8901\n",
            "Epoch [17/50], Learning Rate: 0.004437757444800684\n",
            "Epoch [18/50], Train Accuracy: 75.9 %, Loss: 1.1193\n",
            "Epoch [18/50], Learning Rate: 0.004335973137182458\n",
            "Epoch [19/50], Train Accuracy: 75.9 %, Loss: 1.4343\n",
            "Epoch [19/50], Learning Rate: 0.004227140409525288\n",
            "Epoch [20/50], Train Accuracy: 76.7 %, Loss: 1.4291\n",
            "Epoch [20/50], Learning Rate: 0.00411168877488429\n",
            "Epoch [21/50], Train Accuracy: 77.5 %, Loss: 2.1772\n",
            "Epoch [21/50], Learning Rate: 0.00399007386811656\n",
            "Epoch [22/50], Train Accuracy: 79.8 %, Loss: 0.6957\n",
            "Epoch [22/50], Learning Rate: 0.0038627756476985412\n",
            "Epoch [23/50], Train Accuracy: 78.5 %, Loss: 0.3821\n",
            "Epoch [23/50], Learning Rate: 0.003730296501549202\n",
            "Epoch [24/50], Train Accuracy: 81.5 %, Loss: 0.3731\n",
            "Epoch [24/50], Learning Rate: 0.003593159264334428\n",
            "Epoch [25/50], Train Accuracy: 83.6 %, Loss: 0.5525\n",
            "Epoch [25/50], Learning Rate: 0.003451905154077461\n",
            "Epoch [26/50], Train Accuracy: 78.4 %, Loss: 1.6466\n",
            "Epoch [26/50], Learning Rate: 0.003307091636218621\n",
            "Epoch [27/50], Train Accuracy: 80.8 %, Loss: 0.5623\n",
            "Epoch [27/50], Learning Rate: 0.0031592902235538936\n",
            "Epoch [28/50], Train Accuracy: 82.6 %, Loss: 0.9778\n",
            "Epoch [28/50], Learning Rate: 0.0030090842207350257\n",
            "Epoch [29/50], Train Accuracy: 79.7 %, Loss: 0.5025\n",
            "Epoch [29/50], Learning Rate: 0.002857066422232546\n",
            "Epoch [30/50], Train Accuracy: 81.6 %, Loss: 1.2534\n",
            "Epoch [30/50], Learning Rate: 0.0027038367728468176\n",
            "Epoch [31/50], Train Accuracy: 78.2 %, Loss: 0.6760\n",
            "Epoch [31/50], Learning Rate: 0.0025499999999999997\n",
            "Epoch [32/50], Train Accuracy: 82.2 %, Loss: 0.6036\n",
            "Epoch [32/50], Learning Rate: 0.002396163227153182\n",
            "Epoch [33/50], Train Accuracy: 82.8 %, Loss: 0.7964\n",
            "Epoch [33/50], Learning Rate: 0.0022429335777674544\n",
            "Epoch [34/50], Train Accuracy: 83.9 %, Loss: 1.1772\n",
            "Epoch [34/50], Learning Rate: 0.0020909157792649746\n",
            "Epoch [35/50], Train Accuracy: 82.7 %, Loss: 0.3900\n",
            "Epoch [35/50], Learning Rate: 0.0019407097764461056\n",
            "Epoch [36/50], Train Accuracy: 85.0 %, Loss: 0.8031\n",
            "Epoch [36/50], Learning Rate: 0.0017929083637813795\n",
            "Epoch [37/50], Train Accuracy: 84.9 %, Loss: 0.2645\n",
            "Epoch [37/50], Learning Rate: 0.0016480948459225396\n",
            "Epoch [38/50], Train Accuracy: 83.6 %, Loss: 1.1677\n",
            "Epoch [38/50], Learning Rate: 0.001506840735665572\n",
            "Epoch [39/50], Train Accuracy: 84.8 %, Loss: 0.4976\n",
            "Epoch [39/50], Learning Rate: 0.0013697034984507972\n",
            "Epoch [40/50], Train Accuracy: 87.0 %, Loss: 0.3643\n",
            "Epoch [40/50], Learning Rate: 0.0012372243523014576\n",
            "Epoch [41/50], Train Accuracy: 86.3 %, Loss: 0.1355\n",
            "Epoch [41/50], Learning Rate: 0.001109926131883441\n",
            "Epoch [42/50], Train Accuracy: 84.6 %, Loss: 0.7273\n",
            "Epoch [42/50], Learning Rate: 0.00098831122511571\n",
            "Epoch [43/50], Train Accuracy: 87.0 %, Loss: 0.2387\n",
            "Epoch [43/50], Learning Rate: 0.0008728595904747127\n",
            "Epoch [44/50], Train Accuracy: 86.6 %, Loss: 1.1339\n",
            "Epoch [44/50], Learning Rate: 0.0007640268628175422\n",
            "Epoch [45/50], Train Accuracy: 87.4 %, Loss: 0.3193\n",
            "Epoch [45/50], Learning Rate: 0.0006622425551993166\n",
            "Epoch [46/50], Train Accuracy: 86.3 %, Loss: 0.2910\n",
            "Epoch [46/50], Learning Rate: 0.000567908363781379\n",
            "Epoch [47/50], Train Accuracy: 86.7 %, Loss: 0.6752\n",
            "Epoch [47/50], Learning Rate: 0.0004813965825200636\n",
            "Epoch [48/50], Train Accuracy: 88.3 %, Loss: 0.6022\n",
            "Epoch [48/50], Learning Rate: 0.0004030486338925342\n",
            "Epoch [49/50], Train Accuracy: 86.8 %, Loss: 1.6689\n",
            "Epoch [49/50], Learning Rate: 0.0003331737214582526\n",
            "Epoch [50/50], Train Accuracy: 87.4 %, Loss: 0.6363\n",
            "Epoch [50/50], Learning Rate: 0.0002720476095737842\n"
          ]
        }
      ]
    },
    {
      "cell_type": "code",
      "source": [
        "# 学習前後のモデルの最終層以外の重みを比較する関数を作成\n",
        "def check_weight_change_except_last(model, model_init):\n",
        "    for (name, param), (name_init, param_init) in zip(model.named_parameters(), model_init.named_parameters()):\n",
        "        # 最終層を除く\n",
        "        if name != 'fc.weight' and name != 'fc.bias':\n",
        "            weights_changed = (param.data != param_init.data).any()\n",
        "            if weights_changed:\n",
        "                return print('最終層以外の重みが変化しています')\n",
        "    return print('最終層以外の重みは変化していません')\n",
        "\n",
        "# 学習前後のモデルの最終層の重みを比較する関数を作成\n",
        "def check_weight_change_last(model, model_init):\n",
        "    weights_changed = (model.fc.weight.data != model_init.fc.weight.data).any() or \\\n",
        "                      (model.fc.bias.data != model_init.fc.bias.data).any()\n",
        "    if weights_changed:\n",
        "        return print('最終層の重みは変化しています')\n",
        "    else:\n",
        "        return print('最終層の重みは変化していません')\n",
        "\n",
        "# 学習前後でモデルの最終層以外の重みが変化していないかを確認\n",
        "check_weight_change_except_last(model, model_init)\n",
        "# 学習前後でモデルの最終層の重みが変化しているかを確認\n",
        "check_weight_change_last(model, model_init)"
      ],
      "metadata": {
        "colab": {
          "base_uri": "https://localhost:8080/"
        },
        "outputId": "5b935b11-47aa-466d-ab69-34d3fe4144d2",
        "id": "RYWRgywUklD7"
      },
      "execution_count": 18,
      "outputs": [
        {
          "output_type": "stream",
          "name": "stdout",
          "text": [
            "最終層以外の重みは変化していません\n",
            "最終層の重みは変化しています\n"
          ]
        }
      ]
    },
    {
      "cell_type": "code",
      "source": [
        "# モデルの評価\n",
        "model.eval()\n",
        "with torch.no_grad():\n",
        "    total = 0\n",
        "    correct = 0\n",
        "    for images, labels in test_loader_handsigns:\n",
        "        images = images.to(device)\n",
        "        labels = labels.to(device)\n",
        "        outputs = model(images)\n",
        "        _, predicted = torch.max(outputs.data, 1)\n",
        "        total += labels.size(0)\n",
        "        correct += (predicted == labels).sum().item()\n",
        "    # 正解率精度の確認\n",
        "    print('Test Accuracy: {} %'.format(100 * correct / total))"
      ],
      "metadata": {
        "colab": {
          "base_uri": "https://localhost:8080/"
        },
        "outputId": "f23ba49b-9b47-4c03-a4ff-cb83acb86dc4",
        "id": "HhzpMZr0klD7"
      },
      "execution_count": 19,
      "outputs": [
        {
          "output_type": "stream",
          "name": "stdout",
          "text": [
            "Test Accuracy: 82.0 %\n"
          ]
        }
      ]
    },
    {
      "cell_type": "code",
      "source": [
        "# GPUメモリの解放\n",
        "del model, model_init\n",
        "torch.cuda.empty_cache()"
      ],
      "metadata": {
        "id": "tivhpxPnklD7"
      },
      "execution_count": 20,
      "outputs": []
    },
    {
      "cell_type": "markdown",
      "source": [
        "### 学習と評価（50 epochs, learning_rate=0.01）"
      ],
      "metadata": {
        "id": "ktjnOaa-klD7"
      }
    },
    {
      "cell_type": "code",
      "source": [
        "# デバイスを設定\n",
        "device = torch.device('cuda' if torch.cuda.is_available() else 'cpu')\n",
        "# モデルを定義（一番精度の高かったモデルを採用）\n",
        "model = torch.load('/content/drive/MyDrive/WideResNet28_10_CIFAR100_100epochs_CLRS_restest.pth')\n",
        "# 最終層を変更\n",
        "model.fc = nn.Linear(model.fc.in_features, 10)\n",
        "# 最終層以外のパラメータの勾配計算を停止\n",
        "for param in model.parameters():\n",
        "    param.requires_grad = False\n",
        "# 最終層のパラメータのみを学習するように設定\n",
        "for param in model.fc.parameters():\n",
        "    param.requires_grad = True\n",
        "# モデルをデバイスに転送\n",
        "model = model.to(device)\n",
        "# 学習前のモデルの重みを保存\n",
        "model_init = copy.deepcopy(model)\n",
        "\n",
        "# 学習率を設定\n",
        "learning_rate = 0.01\n",
        "# 全体のepoch数を設定\n",
        "num_epochs = 50\n",
        "# warm-upするepoch数を設定\n",
        "warmup_epochs = 5\n",
        "\n",
        "# 損失関数を定義\n",
        "criterion = nn.CrossEntropyLoss()\n",
        "# オプティマイザーを設定\n",
        "optimizer = optim.Adam(model.fc.parameters(), lr=learning_rate)\n",
        "# スケジューラーを設定\n",
        "scheduler = CosineLRScheduler(optimizer, t_initial=num_epochs, lr_min=1e-4, warmup_t=warmup_epochs, warmup_lr_init=1e-4, warmup_prefix=True)\n",
        "\n",
        "# モデルの学習\n",
        "for epoch in range(num_epochs):\n",
        "    total = 0\n",
        "    correct = 0\n",
        "    for i, (images, labels) in enumerate(train_loader_handsigns):\n",
        "        images = images.to(device)\n",
        "        labels = labels.to(device)\n",
        "        # 順伝播\n",
        "        outputs = model(images)\n",
        "        loss = criterion(outputs, labels)\n",
        "        # 逆伝播\n",
        "        optimizer.zero_grad()\n",
        "        loss.backward()\n",
        "        optimizer.step()\n",
        "        _, predicted = torch.max(outputs.data, 1)\n",
        "        # 全データ数\n",
        "        total += labels.size(0)\n",
        "        # 正解数\n",
        "        correct += (predicted == labels).sum().item()\n",
        "    # 正解率精度を計算\n",
        "    train_acc = 100 * correct / total\n",
        "    # 正解率精度と損失を確認\n",
        "    print(\"Epoch [{}/{}], Train Accuracy: {} %, Loss: {:.4f}\".format(epoch+1, num_epochs, 100 * correct / total, loss.item()))\n",
        "    # 1エポック終了後にスケジューラーを更新\n",
        "    scheduler.step(epoch)\n",
        "    # 学習率の確認\n",
        "    print(\"Epoch [{}/{}], Learning Rate: {}\".format(epoch+1, num_epochs, optimizer.param_groups[0]['lr']))\n",
        "\n",
        "# モデルを保存\n",
        "torch.save(model, '/content/drive/MyDrive/WideResNet28_10_HandSigns_from_CIFAR100_100epochs_CLRS_50epochs_lr0.01_CLRS_restest.pth')"
      ],
      "metadata": {
        "colab": {
          "base_uri": "https://localhost:8080/"
        },
        "outputId": "98635846-0800-4607-bb28-dcd28d8a811f",
        "id": "z7q_g8VHklD7"
      },
      "execution_count": 21,
      "outputs": [
        {
          "output_type": "stream",
          "name": "stdout",
          "text": [
            "Epoch [1/50], Train Accuracy: 14.9 %, Loss: 2.0921\n",
            "Epoch [1/50], Learning Rate: 0.0001\n",
            "Epoch [2/50], Train Accuracy: 26.7 %, Loss: 2.0453\n",
            "Epoch [2/50], Learning Rate: 0.00208\n",
            "Epoch [3/50], Train Accuracy: 46.4 %, Loss: 1.0604\n",
            "Epoch [3/50], Learning Rate: 0.00406\n",
            "Epoch [4/50], Train Accuracy: 57.6 %, Loss: 1.5830\n",
            "Epoch [4/50], Learning Rate: 0.00604\n",
            "Epoch [5/50], Train Accuracy: 60.5 %, Loss: 0.6368\n",
            "Epoch [5/50], Learning Rate: 0.00802\n",
            "Epoch [6/50], Train Accuracy: 61.2 %, Loss: 0.6475\n",
            "Epoch [6/50], Learning Rate: 0.01\n",
            "Epoch [7/50], Train Accuracy: 60.5 %, Loss: 2.6591\n",
            "Epoch [7/50], Learning Rate: 0.009990232305719944\n",
            "Epoch [8/50], Train Accuracy: 64.1 %, Loss: 3.0240\n",
            "Epoch [8/50], Learning Rate: 0.009960967771506667\n",
            "Epoch [9/50], Train Accuracy: 65.9 %, Loss: 2.5505\n",
            "Epoch [9/50], Learning Rate: 0.00991232189110701\n",
            "Epoch [10/50], Train Accuracy: 65.4 %, Loss: 1.5400\n",
            "Epoch [10/50], Learning Rate: 0.009844486647586723\n",
            "Epoch [11/50], Train Accuracy: 65.9 %, Loss: 3.9026\n",
            "Epoch [11/50], Learning Rate: 0.009757729755661011\n",
            "Epoch [12/50], Train Accuracy: 66.2 %, Loss: 0.5251\n",
            "Epoch [12/50], Learning Rate: 0.009652393605146845\n",
            "Epoch [13/50], Train Accuracy: 71.4 %, Loss: 0.8465\n",
            "Epoch [13/50], Learning Rate: 0.009528893909706798\n",
            "Epoch [14/50], Train Accuracy: 69.7 %, Loss: 0.8426\n",
            "Epoch [14/50], Learning Rate: 0.009387718066217124\n",
            "Epoch [15/50], Train Accuracy: 70.4 %, Loss: 3.1109\n",
            "Epoch [15/50], Learning Rate: 0.009229423231234974\n",
            "Epoch [16/50], Train Accuracy: 69.4 %, Loss: 0.9815\n",
            "Epoch [16/50], Learning Rate: 0.00905463412215599\n",
            "Epoch [17/50], Train Accuracy: 69.8 %, Loss: 0.1515\n",
            "Epoch [17/50], Learning Rate: 0.008864040551740157\n",
            "Epoch [18/50], Train Accuracy: 76.1 %, Loss: 2.2470\n",
            "Epoch [18/50], Learning Rate: 0.008658394705735987\n",
            "Epoch [19/50], Train Accuracy: 77.0 %, Loss: 0.2389\n",
            "Epoch [19/50], Learning Rate: 0.00843850817434701\n",
            "Epoch [20/50], Train Accuracy: 76.8 %, Loss: 0.9686\n",
            "Epoch [20/50], Learning Rate: 0.008205248749256015\n",
            "Epoch [21/50], Train Accuracy: 74.2 %, Loss: 3.1651\n",
            "Epoch [21/50], Learning Rate: 0.007959536998847744\n",
            "Epoch [22/50], Train Accuracy: 74.7 %, Loss: 3.9483\n",
            "Epoch [22/50], Learning Rate: 0.007702342635146034\n",
            "Epoch [23/50], Train Accuracy: 79.4 %, Loss: 0.3561\n",
            "Epoch [23/50], Learning Rate: 0.007434680686803491\n",
            "Epoch [24/50], Train Accuracy: 76.2 %, Loss: 1.8148\n",
            "Epoch [24/50], Learning Rate: 0.0071576074932471105\n",
            "Epoch [25/50], Train Accuracy: 79.1 %, Loss: 0.6395\n",
            "Epoch [25/50], Learning Rate: 0.006872216535789157\n",
            "Epoch [26/50], Train Accuracy: 78.9 %, Loss: 1.2750\n",
            "Epoch [26/50], Learning Rate: 0.006579634122155991\n",
            "Epoch [27/50], Train Accuracy: 80.3 %, Loss: 0.6521\n",
            "Epoch [27/50], Learning Rate: 0.0062810149414660316\n",
            "Epoch [28/50], Train Accuracy: 81.2 %, Loss: 0.7425\n",
            "Epoch [28/50], Learning Rate: 0.005977537507199339\n",
            "Epoch [29/50], Train Accuracy: 83.9 %, Loss: 1.1469\n",
            "Epoch [29/50], Learning Rate: 0.005670399506143308\n",
            "Epoch [30/50], Train Accuracy: 84.0 %, Loss: 0.8481\n",
            "Epoch [30/50], Learning Rate: 0.005360813071670102\n",
            "Epoch [31/50], Train Accuracy: 82.0 %, Loss: 1.1141\n",
            "Epoch [31/50], Learning Rate: 0.005050000000000001\n",
            "Epoch [32/50], Train Accuracy: 81.6 %, Loss: 0.6200\n",
            "Epoch [32/50], Learning Rate: 0.004739186928329899\n",
            "Epoch [33/50], Train Accuracy: 81.8 %, Loss: 0.4891\n",
            "Epoch [33/50], Learning Rate: 0.004429600493856695\n",
            "Epoch [34/50], Train Accuracy: 85.3 %, Loss: 0.6982\n",
            "Epoch [34/50], Learning Rate: 0.0041224624928006635\n",
            "Epoch [35/50], Train Accuracy: 83.8 %, Loss: 1.2208\n",
            "Epoch [35/50], Learning Rate: 0.0038189850585339685\n",
            "Epoch [36/50], Train Accuracy: 85.8 %, Loss: 0.7437\n",
            "Epoch [36/50], Learning Rate: 0.003520365877844012\n",
            "Epoch [37/50], Train Accuracy: 85.7 %, Loss: 1.5906\n",
            "Epoch [37/50], Learning Rate: 0.0032277834642108457\n",
            "Epoch [38/50], Train Accuracy: 85.0 %, Loss: 0.2565\n",
            "Epoch [38/50], Learning Rate: 0.0029423925067528904\n",
            "Epoch [39/50], Train Accuracy: 86.6 %, Loss: 0.2086\n",
            "Epoch [39/50], Learning Rate: 0.002665319313196509\n",
            "Epoch [40/50], Train Accuracy: 89.1 %, Loss: 0.5921\n",
            "Epoch [40/50], Learning Rate: 0.0023976573648539653\n",
            "Epoch [41/50], Train Accuracy: 87.2 %, Loss: 1.9023\n",
            "Epoch [41/50], Learning Rate: 0.0021404630011522584\n",
            "Epoch [42/50], Train Accuracy: 86.8 %, Loss: 0.1956\n",
            "Epoch [42/50], Learning Rate: 0.001894751250743986\n",
            "Epoch [43/50], Train Accuracy: 88.1 %, Loss: 0.6634\n",
            "Epoch [43/50], Learning Rate: 0.001661491825652991\n",
            "Epoch [44/50], Train Accuracy: 86.7 %, Loss: 0.4368\n",
            "Epoch [44/50], Learning Rate: 0.001441605294264014\n",
            "Epoch [45/50], Train Accuracy: 86.9 %, Loss: 0.3180\n",
            "Epoch [45/50], Learning Rate: 0.001235959448259844\n",
            "Epoch [46/50], Train Accuracy: 88.6 %, Loss: 0.5734\n",
            "Epoch [46/50], Learning Rate: 0.0010453658778440107\n",
            "Epoch [47/50], Train Accuracy: 87.2 %, Loss: 0.1598\n",
            "Epoch [47/50], Learning Rate: 0.0008705767687650265\n",
            "Epoch [48/50], Train Accuracy: 89.6 %, Loss: 0.7559\n",
            "Epoch [48/50], Learning Rate: 0.0007122819337828754\n",
            "Epoch [49/50], Train Accuracy: 90.1 %, Loss: 0.1943\n",
            "Epoch [49/50], Learning Rate: 0.0005711060902932043\n",
            "Epoch [50/50], Train Accuracy: 89.5 %, Loss: 0.3037\n",
            "Epoch [50/50], Learning Rate: 0.00044760639485315584\n"
          ]
        }
      ]
    },
    {
      "cell_type": "code",
      "source": [
        "# 学習前後のモデルの最終層以外の重みを比較する関数を作成\n",
        "def check_weight_change_except_last(model, model_init):\n",
        "    for (name, param), (name_init, param_init) in zip(model.named_parameters(), model_init.named_parameters()):\n",
        "        # 最終層を除く\n",
        "        if name != 'fc.weight' and name != 'fc.bias':\n",
        "            weights_changed = (param.data != param_init.data).any()\n",
        "            if weights_changed:\n",
        "                return print('最終層以外の重みが変化しています')\n",
        "    return print('最終層以外の重みは変化していません')\n",
        "\n",
        "# 学習前後のモデルの最終層の重みを比較する関数を作成\n",
        "def check_weight_change_last(model, model_init):\n",
        "    weights_changed = (model.fc.weight.data != model_init.fc.weight.data).any() or \\\n",
        "                      (model.fc.bias.data != model_init.fc.bias.data).any()\n",
        "    if weights_changed:\n",
        "        return print('最終層の重みは変化しています')\n",
        "    else:\n",
        "        return print('最終層の重みは変化していません')\n",
        "\n",
        "# 学習前後でモデルの最終層以外の重みが変化していないかを確認\n",
        "check_weight_change_except_last(model, model_init)\n",
        "# 学習前後でモデルの最終層の重みが変化しているかを確認\n",
        "check_weight_change_last(model, model_init)"
      ],
      "metadata": {
        "colab": {
          "base_uri": "https://localhost:8080/"
        },
        "outputId": "c0a04447-78ef-429f-8c4d-debac1306d34",
        "id": "tLEWoMnZklD8"
      },
      "execution_count": 22,
      "outputs": [
        {
          "output_type": "stream",
          "name": "stdout",
          "text": [
            "最終層以外の重みは変化していません\n",
            "最終層の重みは変化しています\n"
          ]
        }
      ]
    },
    {
      "cell_type": "code",
      "source": [
        "# モデルの評価\n",
        "model.eval()\n",
        "with torch.no_grad():\n",
        "    total = 0\n",
        "    correct = 0\n",
        "    for images, labels in test_loader_handsigns:\n",
        "        images = images.to(device)\n",
        "        labels = labels.to(device)\n",
        "        outputs = model(images)\n",
        "        _, predicted = torch.max(outputs.data, 1)\n",
        "        total += labels.size(0)\n",
        "        correct += (predicted == labels).sum().item()\n",
        "    # 正解率精度の確認\n",
        "    print('Test Accuracy: {} %'.format(100 * correct / total))"
      ],
      "metadata": {
        "colab": {
          "base_uri": "https://localhost:8080/"
        },
        "outputId": "0eac34a9-44f8-4849-d6da-625112fce862",
        "id": "yo5uhIinklD8"
      },
      "execution_count": 23,
      "outputs": [
        {
          "output_type": "stream",
          "name": "stdout",
          "text": [
            "Test Accuracy: 89.0 %\n"
          ]
        }
      ]
    },
    {
      "cell_type": "code",
      "source": [
        "# GPUメモリの解放\n",
        "del model, model_init\n",
        "torch.cuda.empty_cache()"
      ],
      "metadata": {
        "id": "9MST6XARklD9"
      },
      "execution_count": 24,
      "outputs": []
    }
  ]
}