{
  "nbformat": 4,
  "nbformat_minor": 0,
  "metadata": {
    "colab": {
      "provenance": [],
      "machine_shape": "hm",
      "gpuType": "A100",
      "collapsed_sections": [
        "m-QbZLFlyjCA",
        "cdzvZUWNzQAY",
        "_8vKbM9TzkCb",
        "9aOdldqfyoSt",
        "4rSZ0nNXXi1A",
        "0ty5QkTRkUW5",
        "6ElRLLrbv0op",
        "pKsq6UgsvrGu",
        "jQuP9L3Bxccy",
        "pJyew3dez2Wc",
        "_KprKABkwBxe",
        "2atmPsCD5ThV",
        "a4Ae9a4VE3O2",
        "mcIPdm2gkbP7",
        "X4eX_0UDwK0F",
        "Alvf6x5vwDkh",
        "VFsN4qoY1qFw",
        "B6yICeOH1qFz",
        "xHXKrn9M6L_s",
        "_i257mg66Lan",
        "JieVvX5XFKMT",
        "RZRZkudPkkDd",
        "lIwvJcJBwchg",
        "ZMJwIP8WwUjg",
        "o7FBIYbw4QVa",
        "BCsx6dqv4QVb",
        "PSXOlVSN4QVc"
      ]
    },
    "kernelspec": {
      "name": "python3",
      "display_name": "Python 3"
    },
    "language_info": {
      "name": "python"
    },
    "accelerator": "GPU"
  },
  "cells": [
    {
      "cell_type": "markdown",
      "source": [
        "### ドライブのマウント"
      ],
      "metadata": {
        "id": "m-QbZLFlyjCA"
      }
    },
    {
      "cell_type": "code",
      "execution_count": 1,
      "metadata": {
        "id": "9g8jY7G9ahIa",
        "colab": {
          "base_uri": "https://localhost:8080/"
        },
        "outputId": "ecf0c4d0-580f-47b3-c076-c8c7c8df6c76"
      },
      "outputs": [
        {
          "output_type": "stream",
          "name": "stdout",
          "text": [
            "Mounted at /content/drive\n"
          ]
        }
      ],
      "source": [
        "# Googleドライブをマウント\n",
        "from google.colab import drive\n",
        "drive.mount('/content/drive')"
      ]
    },
    {
      "cell_type": "markdown",
      "source": [
        "### ライブラリ・モジュールのインポート"
      ],
      "metadata": {
        "id": "cdzvZUWNzQAY"
      }
    },
    {
      "cell_type": "code",
      "source": [
        "# ライブラリの準備\n",
        "!pip install timm\n",
        "import torch\n",
        "import torch.nn as nn\n",
        "import torchvision\n",
        "import torchvision.transforms as transforms\n",
        "import torchvision.datasets as datasets\n",
        "import torch.nn.functional as F\n",
        "import torch.autograd as autograd\n",
        "import torch.optim as optim\n",
        "import torch.optim.lr_scheduler as lr_scheduler\n",
        "from timm.scheduler import CosineLRScheduler\n",
        "import numpy as np\n",
        "import pandas as pd\n",
        "import matplotlib.pyplot as plt\n",
        "import os\n",
        "import math\n",
        "import copy\n",
        "import random\n",
        "from PIL import Image\n",
        "import pickle"
      ],
      "metadata": {
        "id": "l8wfSjPuboGS",
        "colab": {
          "base_uri": "https://localhost:8080/"
        },
        "outputId": "964ade57-1f15-4cd1-e670-809c1bfe5f17"
      },
      "execution_count": 2,
      "outputs": [
        {
          "output_type": "stream",
          "name": "stdout",
          "text": [
            "Collecting timm\n",
            "  Downloading timm-0.9.2-py3-none-any.whl (2.2 MB)\n",
            "\u001b[?25l     \u001b[90m━━━━━━━━━━━━━━━━━━━━━━━━━━━━━━━━━━━━━━━━\u001b[0m \u001b[32m0.0/2.2 MB\u001b[0m \u001b[31m?\u001b[0m eta \u001b[36m-:--:--\u001b[0m\r\u001b[2K     \u001b[91m━\u001b[0m\u001b[91m╸\u001b[0m\u001b[90m━━━━━━━━━━━━━━━━━━━━━━━━━━━━━━━━━━━━━━\u001b[0m \u001b[32m0.1/2.2 MB\u001b[0m \u001b[31m2.5 MB/s\u001b[0m eta \u001b[36m0:00:01\u001b[0m\r\u001b[2K     \u001b[91m━━━━━━━━━━━━━━━━━━━━━━━━━━━━━━━━━━━━━━━\u001b[0m\u001b[91m╸\u001b[0m \u001b[32m2.2/2.2 MB\u001b[0m \u001b[31m32.3 MB/s\u001b[0m eta \u001b[36m0:00:01\u001b[0m\r\u001b[2K     \u001b[90m━━━━━━━━━━━━━━━━━━━━━━━━━━━━━━━━━━━━━━━━\u001b[0m \u001b[32m2.2/2.2 MB\u001b[0m \u001b[31m27.2 MB/s\u001b[0m eta \u001b[36m0:00:00\u001b[0m\n",
            "\u001b[?25hRequirement already satisfied: torch>=1.7 in /usr/local/lib/python3.10/dist-packages (from timm) (2.0.1+cu118)\n",
            "Requirement already satisfied: torchvision in /usr/local/lib/python3.10/dist-packages (from timm) (0.15.2+cu118)\n",
            "Requirement already satisfied: pyyaml in /usr/local/lib/python3.10/dist-packages (from timm) (6.0.1)\n",
            "Collecting huggingface-hub (from timm)\n",
            "  Downloading huggingface_hub-0.16.4-py3-none-any.whl (268 kB)\n",
            "\u001b[2K     \u001b[90m━━━━━━━━━━━━━━━━━━━━━━━━━━━━━━━━━━━━━━\u001b[0m \u001b[32m268.8/268.8 kB\u001b[0m \u001b[31m33.6 MB/s\u001b[0m eta \u001b[36m0:00:00\u001b[0m\n",
            "\u001b[?25hCollecting safetensors (from timm)\n",
            "  Downloading safetensors-0.3.1-cp310-cp310-manylinux_2_17_x86_64.manylinux2014_x86_64.whl (1.3 MB)\n",
            "\u001b[2K     \u001b[90m━━━━━━━━━━━━━━━━━━━━━━━━━━━━━━━━━━━━━━━━\u001b[0m \u001b[32m1.3/1.3 MB\u001b[0m \u001b[31m85.3 MB/s\u001b[0m eta \u001b[36m0:00:00\u001b[0m\n",
            "\u001b[?25hRequirement already satisfied: filelock in /usr/local/lib/python3.10/dist-packages (from torch>=1.7->timm) (3.12.2)\n",
            "Requirement already satisfied: typing-extensions in /usr/local/lib/python3.10/dist-packages (from torch>=1.7->timm) (4.7.1)\n",
            "Requirement already satisfied: sympy in /usr/local/lib/python3.10/dist-packages (from torch>=1.7->timm) (1.11.1)\n",
            "Requirement already satisfied: networkx in /usr/local/lib/python3.10/dist-packages (from torch>=1.7->timm) (3.1)\n",
            "Requirement already satisfied: jinja2 in /usr/local/lib/python3.10/dist-packages (from torch>=1.7->timm) (3.1.2)\n",
            "Requirement already satisfied: triton==2.0.0 in /usr/local/lib/python3.10/dist-packages (from torch>=1.7->timm) (2.0.0)\n",
            "Requirement already satisfied: cmake in /usr/local/lib/python3.10/dist-packages (from triton==2.0.0->torch>=1.7->timm) (3.25.2)\n",
            "Requirement already satisfied: lit in /usr/local/lib/python3.10/dist-packages (from triton==2.0.0->torch>=1.7->timm) (16.0.6)\n",
            "Requirement already satisfied: fsspec in /usr/local/lib/python3.10/dist-packages (from huggingface-hub->timm) (2023.6.0)\n",
            "Requirement already satisfied: requests in /usr/local/lib/python3.10/dist-packages (from huggingface-hub->timm) (2.27.1)\n",
            "Requirement already satisfied: tqdm>=4.42.1 in /usr/local/lib/python3.10/dist-packages (from huggingface-hub->timm) (4.65.0)\n",
            "Requirement already satisfied: packaging>=20.9 in /usr/local/lib/python3.10/dist-packages (from huggingface-hub->timm) (23.1)\n",
            "Requirement already satisfied: numpy in /usr/local/lib/python3.10/dist-packages (from torchvision->timm) (1.22.4)\n",
            "Requirement already satisfied: pillow!=8.3.*,>=5.3.0 in /usr/local/lib/python3.10/dist-packages (from torchvision->timm) (9.4.0)\n",
            "Requirement already satisfied: MarkupSafe>=2.0 in /usr/local/lib/python3.10/dist-packages (from jinja2->torch>=1.7->timm) (2.1.3)\n",
            "Requirement already satisfied: urllib3<1.27,>=1.21.1 in /usr/local/lib/python3.10/dist-packages (from requests->huggingface-hub->timm) (1.26.16)\n",
            "Requirement already satisfied: certifi>=2017.4.17 in /usr/local/lib/python3.10/dist-packages (from requests->huggingface-hub->timm) (2023.7.22)\n",
            "Requirement already satisfied: charset-normalizer~=2.0.0 in /usr/local/lib/python3.10/dist-packages (from requests->huggingface-hub->timm) (2.0.12)\n",
            "Requirement already satisfied: idna<4,>=2.5 in /usr/local/lib/python3.10/dist-packages (from requests->huggingface-hub->timm) (3.4)\n",
            "Requirement already satisfied: mpmath>=0.19 in /usr/local/lib/python3.10/dist-packages (from sympy->torch>=1.7->timm) (1.3.0)\n",
            "Installing collected packages: safetensors, huggingface-hub, timm\n",
            "Successfully installed huggingface-hub-0.16.4 safetensors-0.3.1 timm-0.9.2\n"
          ]
        }
      ]
    },
    {
      "cell_type": "markdown",
      "source": [
        "### シード値の設定"
      ],
      "metadata": {
        "id": "_8vKbM9TzkCb"
      }
    },
    {
      "cell_type": "code",
      "source": [
        "# シード値を設定\n",
        "def fix_seed(seed=1234):\n",
        "    random.seed(seed)\n",
        "    np.random.seed(seed)\n",
        "    torch.manual_seed(seed)\n",
        "    torch.cuda.manual_seed(seed)\n",
        "\n",
        "fix_seed(seed=1234)"
      ],
      "metadata": {
        "id": "pGX4Zk1LbtPr"
      },
      "execution_count": 3,
      "outputs": []
    },
    {
      "cell_type": "markdown",
      "source": [
        "### データセットの準備"
      ],
      "metadata": {
        "id": "9aOdldqfyoSt"
      }
    },
    {
      "cell_type": "code",
      "source": [
        "# Colabのローカルファイルに自作データをコピー（初めからローカルファイルにアップロードする場合は不要）\n",
        "!cp -r \"/content/drive/MyDrive/HandSigns/\" \"/content/HandSigns/\""
      ],
      "metadata": {
        "id": "Y3PcozNzefyo"
      },
      "execution_count": 4,
      "outputs": []
    },
    {
      "cell_type": "code",
      "source": [
        "# 自作データをリサイズして、ファイル構造を保ったまま新しいフォルダに保存する関数を定義\n",
        "def resize_images(base_dir, new_base_dir, image_size=(32, 32)):\n",
        "    for folder in os.listdir(base_dir):\n",
        "        folder_path = os.path.join(base_dir, folder)\n",
        "        new_folder_path = os.path.join(new_base_dir, folder)\n",
        "        # リサイズした自作データを保存する新しいフォルダを作成\n",
        "        os.makedirs(new_folder_path, exist_ok=True)\n",
        "        for filename in os.listdir(folder_path):\n",
        "            file_path = os.path.join(folder_path, filename)\n",
        "            # 拡張子の確認\n",
        "            if file_path.endswith(('.jpg', '.jpeg')):\n",
        "                # 画像を展開\n",
        "                img = Image.open(file_path)\n",
        "                # 画像をリサイズ\n",
        "                img_resized = img.resize(image_size)\n",
        "                # リサイズした画像を新しいフォルダに保存\n",
        "                img_resized.save(os.path.join(new_folder_path, filename))\n",
        "\n",
        "# 学習用の自作データのディレクトリを設定\n",
        "train_base_dir = '/content/HandSigns/train'\n",
        "# テスト用の自作データのディレクトリを設定\n",
        "test_base_dir = '/content/HandSigns/test'\n",
        "\n",
        "# リサイズした学習用の自作データを保存するディレクトリを設定\n",
        "new_train_base_dir = '/content/HandSigns/resized_train_32'\n",
        "# リサイズしたテスト用の自作データを保存するディレクトリを設定\n",
        "new_test_base_dir = '/content/HandSigns/resized_test_32'\n",
        "# リサイズする大きさを設定\n",
        "image_size = (32, 32)\n",
        "\n",
        "# 学習用の自作データをリサイズ\n",
        "resize_images(train_base_dir, new_train_base_dir, image_size)\n",
        "# テスト用の自作データをリサイズ\n",
        "resize_images(test_base_dir, new_test_base_dir, image_size)"
      ],
      "metadata": {
        "id": "Z8zfdM7qoClj"
      },
      "execution_count": 5,
      "outputs": []
    },
    {
      "cell_type": "code",
      "source": [
        "# 平均値と標準偏差を計算するためのHandSignsの前処理を定義\n",
        "pre_transform_handsigns = transforms.Compose([\n",
        "    transforms.ToTensor()\n",
        "])\n",
        "\n",
        "# 平均値と標準偏差を計算するためのHandSignsデータセットの前処理を定義\n",
        "pre_train_dataset_handsigns = torchvision.datasets.ImageFolder(\"/content/HandSigns/resized_train_32\", transform=pre_transform_handsigns)\n",
        "\n",
        "# 平均値と標準偏差を計算するための変数を初期化\n",
        "pre_mean_handsigns = 0.0\n",
        "pre_std_handsigns = 0.0\n",
        "pre_total_samples_handsigns = len(pre_train_dataset_handsigns)\n",
        "\n",
        "# データセットのすべてのデータポイントに対して平均値と標準偏差を計算\n",
        "for data in pre_train_dataset_handsigns:\n",
        "    pre_image, _ = data\n",
        "    pre_mean_handsigns += pre_image.mean(dim=(1, 2))  # テンソルのチャンネルごとに平均を計算\n",
        "    pre_std_handsigns += pre_image.std(dim=(1, 2))    # テンソルのチャンネルごとに標準偏差を計算\n",
        "\n",
        "# データセット全体の平均値と標準偏差を計算\n",
        "pre_mean_handsigns /= pre_total_samples_handsigns\n",
        "pre_std_handsigns /= pre_total_samples_handsigns\n",
        "\n",
        "print(\"データセット全体の平均値: \", pre_mean_handsigns)\n",
        "print(\"データセット全体の標準偏差: \", pre_std_handsigns)"
      ],
      "metadata": {
        "id": "nmHDAzTx7_mM",
        "colab": {
          "base_uri": "https://localhost:8080/"
        },
        "outputId": "df0330a2-aa36-48e6-af2d-c2f292f71755"
      },
      "execution_count": 6,
      "outputs": [
        {
          "output_type": "stream",
          "name": "stdout",
          "text": [
            "データセット全体の平均値:  tensor([0.6954, 0.6754, 0.6450])\n",
            "データセット全体の標準偏差:  tensor([0.1331, 0.1565, 0.1689])\n"
          ]
        }
      ]
    },
    {
      "cell_type": "code",
      "source": [
        "# 学習用のHandSignsデータセットの前処理を定義\n",
        "train_transform_handsigns = transforms.Compose([\n",
        "    transforms.RandomCrop(32, padding=4),\n",
        "    transforms.RandomHorizontalFlip(),\n",
        "    transforms.ToTensor(),\n",
        "    transforms.Normalize(mean=pre_mean_handsigns, std=pre_std_handsigns)\n",
        "    ])\n",
        "\n",
        "# テスト用のHandSignsデータセットの前処理を定義\n",
        "test_transform_handsigns = transforms.Compose([\n",
        "    transforms.ToTensor(),\n",
        "    transforms.Normalize(mean=pre_mean_handsigns, std=pre_std_handsigns)\n",
        "    ])\n",
        "\n",
        "# 学習用のHandSignsデータセットの読み込み\n",
        "train_dataset_handsigns = torchvision.datasets.ImageFolder(\"/content/HandSigns/resized_train_32\", transform=train_transform_handsigns)\n",
        "# テスト用のHandSignsデータセットの読み込み\n",
        "test_dataset_handsigns = torchvision.datasets.ImageFolder(\"/content/HandSigns/resized_test_32\", transform=test_transform_handsigns)\n",
        "\n",
        "# 学習用のHandSignsデータローダーを作成\n",
        "train_loader_handsigns = torch.utils.data.DataLoader(dataset=train_dataset_handsigns, batch_size=16, shuffle=True, num_workers=2)\n",
        "# テスト用のHandSignsデータローダーを作成\n",
        "test_loader_handsigns = torch.utils.data.DataLoader(dataset=test_dataset_handsigns, batch_size=16, shuffle=False, num_workers=2)"
      ],
      "metadata": {
        "id": "-HEpFd1if95E"
      },
      "execution_count": 7,
      "outputs": []
    },
    {
      "cell_type": "code",
      "source": [
        "# 学習データのクラス名とラベルの対応を確認\n",
        "print(train_dataset_handsigns.class_to_idx)\n",
        "# テストデータのクラス名とラベルの対応を確認\n",
        "print(test_dataset_handsigns.class_to_idx)"
      ],
      "metadata": {
        "colab": {
          "base_uri": "https://localhost:8080/"
        },
        "id": "SfjHvYVchpC1",
        "outputId": "ad85db34-0497-4f8a-9163-b011d6ac9fd9"
      },
      "execution_count": 8,
      "outputs": [
        {
          "output_type": "stream",
          "name": "stdout",
          "text": [
            "{'100000': 0, '100001': 1, '100111': 2, '101000': 3, '110000': 4, '110001': 5, '111000': 6, '111001': 7, '111100': 8, '111111': 9}\n",
            "{'100000': 0, '100001': 1, '100111': 2, '101000': 3, '110000': 4, '110001': 5, '111000': 6, '111001': 7, '111100': 8, '111111': 9}\n"
          ]
        }
      ]
    },
    {
      "cell_type": "code",
      "source": [
        "# イテレータを作成\n",
        "data_iter = iter(train_loader_handsigns)\n",
        "\n",
        "# データを1バッチ分取得\n",
        "images, labels = next(data_iter)\n",
        "\n",
        "# 取得したバッチの画像とラベルの情報を確認\n",
        "print(\"画像の形状:\", images.shape)  # (バッチサイズ, チャンネル数, 高さ, 幅)\n",
        "print(\"ラベル:\", labels)"
      ],
      "metadata": {
        "colab": {
          "base_uri": "https://localhost:8080/"
        },
        "id": "COkrTTnDknvR",
        "outputId": "dd293df9-2d6e-44fb-8d99-2a4801a4be27"
      },
      "execution_count": 9,
      "outputs": [
        {
          "output_type": "stream",
          "name": "stdout",
          "text": [
            "画像の形状: torch.Size([16, 3, 32, 32])\n",
            "ラベル: tensor([3, 7, 4, 1, 3, 5, 6, 9, 9, 5, 3, 0, 4, 0, 2, 1])\n"
          ]
        }
      ]
    },
    {
      "cell_type": "markdown",
      "source": [
        "## モデルの実装"
      ],
      "metadata": {
        "id": "4rSZ0nNXXi1A"
      }
    },
    {
      "cell_type": "code",
      "source": [
        "# 1×1のサブネットワーク獲得用の畳み込みを定義\n",
        "def supermaskconv1x1(in_channels, out_channels, stride=1):\n",
        "    return SupermaskConv(in_channels, out_channels, kernel_size=1, stride=stride, bias=False)\n",
        "\n",
        "# 3×3のサブネットワーク獲得用の畳み込みを定義\n",
        "def supermaskconv3x3(in_channels, out_channels, stride=1):\n",
        "    return SupermaskConv(in_channels, out_channels, kernel_size=3, stride=stride, padding=1, bias=False)"
      ],
      "metadata": {
        "id": "LGXnnKFiXoBI"
      },
      "execution_count": 10,
      "outputs": []
    },
    {
      "cell_type": "code",
      "source": [
        "# サブネットワーク獲得用のバッチ正則化として、非アフィン正規化を使用する（学習可能なパラメータを使用しない）\n",
        "class NonAffineBatchNorm(nn.BatchNorm2d):\n",
        "    def __init__(self, dim):\n",
        "        super(NonAffineBatchNorm, self).__init__(dim, affine=False)"
      ],
      "metadata": {
        "id": "lsTzgaTYXum7"
      },
      "execution_count": 11,
      "outputs": []
    },
    {
      "cell_type": "code",
      "source": [
        "# 各重みにスコアを付与したスコアをソートしてtop k%を使用することでサブネットワークを獲得する\n",
        "class GetSubnet(autograd.Function):\n",
        "    @staticmethod\n",
        "    def forward(ctx, scores, k):\n",
        "        # スコアを複製する\n",
        "        out = scores.clone()\n",
        "        # スコアを昇順でソートする\n",
        "        _, idx = scores.flatten().sort()\n",
        "        # top k%以下のスコアの数\n",
        "        j = int((1 - k) * scores.numel())\n",
        "        # flat_outとoutは同じメモリを参照する（flat_outを変更するとoutにも影響する）\n",
        "        flat_out = out.flatten()\n",
        "        # top k%の要素を1にする\n",
        "        flat_out[idx[j:]] = 1\n",
        "        # top k%以外の要素を0にする\n",
        "        flat_out[idx[:j]] = 0\n",
        "        return out\n",
        "\n",
        "    @staticmethod\n",
        "    def backward(ctx, g):\n",
        "        # 逆伝播時に勾配gをそのまま伝える\n",
        "        return g, None"
      ],
      "metadata": {
        "id": "MWW1Jx9JXzGI"
      },
      "execution_count": 12,
      "outputs": []
    },
    {
      "cell_type": "code",
      "source": [
        "# サブネットワーク獲得用の畳み込みを定義\n",
        "class SupermaskConv(nn.Conv2d):\n",
        "    def __init__(self, *args, **kwargs):\n",
        "        super().__init__(*args, **kwargs)\n",
        "        # 重みと同じ形状のスコアを用意\n",
        "        self.scores = nn.Parameter(torch.Tensor(self.weight.size()))\n",
        "        # スコアを一様分布で初期化\n",
        "        nn.init.kaiming_uniform_(self.scores, a=math.sqrt(5))\n",
        "        # 重みの勾配を無効化する\n",
        "        self.weight.requires_grad = False\n",
        "\n",
        "    def _init_conv(self):\n",
        "        # 重みを一様分布で初期化\n",
        "        if self.init == 'kaiming_uniform':\n",
        "            nn.init.kaiming_uniform_(self.weight, mode='fan_out', nonlinearity='relu')\n",
        "        # 重みを正規分布で初期化\n",
        "        elif self.init == 'kaiming_normal':\n",
        "            nn.init.kaiming_normal_(self.weight, mode='fan_out', nonlinearity='relu')\n",
        "        # 重みを符号つき定数で初期化\n",
        "        elif self.init == 'signed_constant':\n",
        "            fan = nn.init._calculate_correct_fan(self.weight, mode='fan_out')\n",
        "            gain = nn.init.calculate_gain('relu')\n",
        "            std = gain / math.sqrt(fan)\n",
        "            self.weight.data = self.weight.data.sign() * std\n",
        "\n",
        "    def set_init(self, init):\n",
        "        # 初期化手法を設定\n",
        "        self.init = init\n",
        "\n",
        "    def set_prune_rate(self, prune_rate):\n",
        "        # 刈り込み率を設定\n",
        "        self.prune_rate = prune_rate\n",
        "\n",
        "    @property\n",
        "    def clamped_scores(self):\n",
        "        # スコアとして非負の値を返すようにする（重要度を表す）\n",
        "        return self.scores.abs()\n",
        "\n",
        "    def forward(self, x):\n",
        "        # サブネットワークを獲得\n",
        "        subnet = GetSubnet.apply(self.clamped_scores, 1 - self.prune_rate)\n",
        "        # サブネットワークでマスク\n",
        "        w = self.weight * subnet\n",
        "        x = F.conv2d(x, w, self.bias, self.stride, self.padding, self.dilation, self.groups)\n",
        "        return x"
      ],
      "metadata": {
        "id": "GMJZoKQHZQu2"
      },
      "execution_count": 13,
      "outputs": []
    },
    {
      "cell_type": "code",
      "source": [
        "# サブネットワーク獲得用のResidual Blocksを定義\n",
        "class SupermaskBuildingBlock(nn.Module):\n",
        "    def __init__(self, in_channels, out_channels, stride=1):\n",
        "        super().__init__()\n",
        "        self.bn1 = NonAffineBatchNorm(in_channels)\n",
        "        self.conv1 = supermaskconv3x3(in_channels, out_channels, stride)\n",
        "        self.bn2 = NonAffineBatchNorm(out_channels)\n",
        "        self.conv2 = supermaskconv3x3(out_channels, out_channels)\n",
        "        self.dropout = nn.Dropout(p=0.3)\n",
        "        self.relu = nn.ReLU(inplace=True)\n",
        "\n",
        "        # 入力と出力のチャンネル数が異なる場合（strideが1より大きい場合）、ダウンサンプリング\n",
        "        if in_channels != out_channels or stride > 1:\n",
        "            self.shortcut = supermaskconv1x1(in_channels, out_channels, stride)\n",
        "        else:\n",
        "            self.shortcut = nn.Sequential()\n",
        "\n",
        "    def forward(self, x):\n",
        "        out = self.bn1(x)\n",
        "        out = self.relu(out)\n",
        "        out = self.conv1(out)\n",
        "        out = self.bn2(out)\n",
        "        out = self.relu(out)\n",
        "        out = self.dropout(out)\n",
        "        out = self.conv2(out)\n",
        "        # 残差写像と恒等写像の要素毎の和を計算\n",
        "        out += self.shortcut(x)\n",
        "        return out"
      ],
      "metadata": {
        "id": "ESo-AKn0HM3s"
      },
      "execution_count": 14,
      "outputs": []
    },
    {
      "cell_type": "code",
      "source": [
        "class SupermaskWideResNet(nn.Module):\n",
        "    def __init__(self, block, depth, k, num_classes=10):\n",
        "        super().__init__()\n",
        "        assert (depth - 4) % 6 == 0, \"depth should be 6n + 4\"\n",
        "        n = (depth - 4) // 6\n",
        "        channels = [16, 16 * k, 32 * k, 64 * k]\n",
        "        self.conv1 = supermaskconv3x3(3, channels[0])\n",
        "        # Residual Blocks（1)\n",
        "        self.layer1 = self._make_layer(block, channels[0], channels[1], n)\n",
        "        # Residual Blocks（2）\n",
        "        self.layer2 = self._make_layer(block, channels[1], channels[2], n, stride=2)\n",
        "        # Residual Blocks（3）\n",
        "        self.layer3 = self._make_layer(block, channels[2], channels[3], n, stride=2)\n",
        "        self.bn = NonAffineBatchNorm(channels[3])\n",
        "        self.relu = nn.ReLU(inplace=True)\n",
        "        self.avgpool = nn.AdaptiveAvgPool2d((1, 1))\n",
        "        self.fc = nn.Linear(channels[3], num_classes)\n",
        "\n",
        "        # 重みの初期化\n",
        "        for m in self.modules():\n",
        "            if isinstance(m, nn.Conv2d):\n",
        "                # 初期化手法を設定\n",
        "                m.set_init(init)\n",
        "                # 刈り込み率を設定\n",
        "                m.set_prune_rate(prune_rate)\n",
        "                # 重みを初期化\n",
        "                m._init_conv()\n",
        "\n",
        "    # Residual Blocksを作成する関数を定義\n",
        "    def _make_layer(self, block, in_channels, out_channels, blocks, stride=1):\n",
        "        layers = []\n",
        "        # 最初の Residual Block（stride=stride）\n",
        "        layers.append(block(in_channels, out_channels, stride))\n",
        "        # 残りの Residual Block（stride=1）\n",
        "        for _ in range(1, blocks):\n",
        "            layers.append(block(out_channels, out_channels))\n",
        "        return nn.Sequential(*layers)\n",
        "\n",
        "    def forward(self, x):\n",
        "        x = self.conv1(x)\n",
        "        x = self.layer1(x)\n",
        "        x = self.layer2(x)\n",
        "        x = self.layer3(x)\n",
        "        x = self.bn(x)\n",
        "        x = self.relu(x)\n",
        "        x = self.avgpool(x)\n",
        "        x = torch.flatten(x, 1)\n",
        "        x = self.fc(x)\n",
        "        return x"
      ],
      "metadata": {
        "id": "o4DEbfdQH0hs"
      },
      "execution_count": 15,
      "outputs": []
    },
    {
      "cell_type": "markdown",
      "source": [
        "## 学習と評価（100 epochs, init=kaiming_uniform）"
      ],
      "metadata": {
        "id": "b5CnW4IW4iww"
      }
    },
    {
      "cell_type": "markdown",
      "source": [
        "### prune_rate=0.999"
      ],
      "metadata": {
        "id": "XGLNB5K_Eb5D"
      }
    },
    {
      "cell_type": "code",
      "source": [
        "# デバイスを設定\n",
        "device = torch.device('cuda' if torch.cuda.is_available() else 'cpu')\n",
        "# モデルを定義\n",
        "model = torch.load('/content/drive/MyDrive/SupermaskWideResNet28_10_CIFAR100_100epochs_pr0.999_uniform_CLRS_restest.pth')\n",
        "# 最終層を変更\n",
        "model.fc = nn.Linear(model.fc.in_features, 10)\n",
        "# 最終層以外のパラメータの勾配計算を停止\n",
        "for param in model.parameters():\n",
        "    param.requires_grad = False\n",
        "# 最終層のパラメータのみを学習するように設定\n",
        "for param in model.fc.parameters():\n",
        "    param.requires_grad = True\n",
        "# モデルをデバイスに転送\n",
        "model = model.to(device)\n",
        "# 変更後のモデルの重みを保存\n",
        "model_init = copy.deepcopy(model)\n",
        "\n",
        "# 学習率を設定\n",
        "learning_rate = 0.01\n",
        "# 全体のepoch数を設定\n",
        "num_epochs = 50\n",
        "# warm-upするepoch数を設定\n",
        "warmup_epochs = 5\n",
        "\n",
        "# 損失関数を定義\n",
        "criterion = nn.CrossEntropyLoss()\n",
        "# オプティマイザーを設定\n",
        "optimizer = optim.Adam(model.fc.parameters(), lr=learning_rate)\n",
        "# スケジューラーを設定\n",
        "scheduler = CosineLRScheduler(optimizer, t_initial=num_epochs, lr_min=1e-4, warmup_t=warmup_epochs, warmup_lr_init=1e-4, warmup_prefix=True)\n",
        "\n",
        "# モデルの学習\n",
        "for epoch in range(num_epochs):\n",
        "    total = 0\n",
        "    correct = 0\n",
        "    for i, (images, labels) in enumerate(train_loader_handsigns):\n",
        "        images = images.to(device)\n",
        "        labels = labels.to(device)\n",
        "        # 順伝播\n",
        "        outputs = model(images)\n",
        "        loss = criterion(outputs, labels)\n",
        "        # 逆伝播\n",
        "        optimizer.zero_grad()\n",
        "        loss.backward()\n",
        "        optimizer.step()\n",
        "        _, predicted = torch.max(outputs.data, 1)\n",
        "        # 全データ数\n",
        "        total += labels.size(0)\n",
        "        # 正解数\n",
        "        correct += (predicted == labels).sum().item()\n",
        "    # 正解率精度を計算\n",
        "    train_acc = 100 * correct / total\n",
        "    # 正解率精度と損失を確認\n",
        "    print(\"Epoch [{}/{}], Train Accuracy: {} %, Loss: {:.4f}\".format(epoch+1, num_epochs, 100 * correct / total, loss.item()))\n",
        "    # 1エポック終了後にスケジューラーを更新\n",
        "    scheduler.step(epoch)\n",
        "    # 学習率の確認\n",
        "    print(\"Epoch [{}/{}], Learning Rate: {}\".format(epoch+1, num_epochs, optimizer.param_groups[0]['lr']))\n",
        "\n",
        "\n",
        "# モデルを保存\n",
        "torch.save(model, '/content/drive/MyDrive/SupermaskWideResNet28_10_HandSigns_from_CIFAR100_100epochs_pr0.999_uniform_50epochs_lr0.01_CLRS_restest.pth')"
      ],
      "metadata": {
        "colab": {
          "base_uri": "https://localhost:8080/"
        },
        "id": "AUdmMBeNCokH",
        "outputId": "458a3f1d-aaa1-450c-f4ed-3f7134ee0ed0"
      },
      "execution_count": 16,
      "outputs": [
        {
          "output_type": "stream",
          "name": "stdout",
          "text": [
            "Epoch [1/50], Train Accuracy: 11.0 %, Loss: 2.3556\n",
            "Epoch [1/50], Learning Rate: 0.0001\n",
            "Epoch [2/50], Train Accuracy: 14.7 %, Loss: 2.2715\n",
            "Epoch [2/50], Learning Rate: 0.00208\n",
            "Epoch [3/50], Train Accuracy: 25.2 %, Loss: 2.0170\n",
            "Epoch [3/50], Learning Rate: 0.00406\n",
            "Epoch [4/50], Train Accuracy: 25.7 %, Loss: 1.9384\n",
            "Epoch [4/50], Learning Rate: 0.00604\n",
            "Epoch [5/50], Train Accuracy: 30.2 %, Loss: 2.0662\n",
            "Epoch [5/50], Learning Rate: 0.00802\n",
            "Epoch [6/50], Train Accuracy: 32.7 %, Loss: 1.2611\n",
            "Epoch [6/50], Learning Rate: 0.01\n",
            "Epoch [7/50], Train Accuracy: 35.6 %, Loss: 1.5516\n",
            "Epoch [7/50], Learning Rate: 0.009990232305719944\n",
            "Epoch [8/50], Train Accuracy: 35.9 %, Loss: 1.4276\n",
            "Epoch [8/50], Learning Rate: 0.009960967771506667\n",
            "Epoch [9/50], Train Accuracy: 37.8 %, Loss: 2.5165\n",
            "Epoch [9/50], Learning Rate: 0.00991232189110701\n",
            "Epoch [10/50], Train Accuracy: 40.4 %, Loss: 1.8307\n",
            "Epoch [10/50], Learning Rate: 0.009844486647586723\n",
            "Epoch [11/50], Train Accuracy: 43.5 %, Loss: 1.1343\n",
            "Epoch [11/50], Learning Rate: 0.009757729755661011\n",
            "Epoch [12/50], Train Accuracy: 41.3 %, Loss: 1.7723\n",
            "Epoch [12/50], Learning Rate: 0.009652393605146845\n",
            "Epoch [13/50], Train Accuracy: 39.5 %, Loss: 1.5535\n",
            "Epoch [13/50], Learning Rate: 0.009528893909706798\n",
            "Epoch [14/50], Train Accuracy: 45.6 %, Loss: 1.8060\n",
            "Epoch [14/50], Learning Rate: 0.009387718066217124\n",
            "Epoch [15/50], Train Accuracy: 42.2 %, Loss: 1.9746\n",
            "Epoch [15/50], Learning Rate: 0.009229423231234974\n",
            "Epoch [16/50], Train Accuracy: 46.3 %, Loss: 2.8144\n",
            "Epoch [16/50], Learning Rate: 0.00905463412215599\n",
            "Epoch [17/50], Train Accuracy: 42.4 %, Loss: 2.7462\n",
            "Epoch [17/50], Learning Rate: 0.008864040551740157\n",
            "Epoch [18/50], Train Accuracy: 46.4 %, Loss: 1.9533\n",
            "Epoch [18/50], Learning Rate: 0.008658394705735987\n",
            "Epoch [19/50], Train Accuracy: 46.8 %, Loss: 2.2400\n",
            "Epoch [19/50], Learning Rate: 0.00843850817434701\n",
            "Epoch [20/50], Train Accuracy: 49.3 %, Loss: 1.9040\n",
            "Epoch [20/50], Learning Rate: 0.008205248749256015\n",
            "Epoch [21/50], Train Accuracy: 48.8 %, Loss: 1.0336\n",
            "Epoch [21/50], Learning Rate: 0.007959536998847744\n",
            "Epoch [22/50], Train Accuracy: 45.6 %, Loss: 1.6220\n",
            "Epoch [22/50], Learning Rate: 0.007702342635146034\n",
            "Epoch [23/50], Train Accuracy: 43.8 %, Loss: 1.3778\n",
            "Epoch [23/50], Learning Rate: 0.007434680686803491\n",
            "Epoch [24/50], Train Accuracy: 49.6 %, Loss: 1.0680\n",
            "Epoch [24/50], Learning Rate: 0.0071576074932471105\n",
            "Epoch [25/50], Train Accuracy: 49.3 %, Loss: 0.8301\n",
            "Epoch [25/50], Learning Rate: 0.006872216535789157\n",
            "Epoch [26/50], Train Accuracy: 47.1 %, Loss: 1.1164\n",
            "Epoch [26/50], Learning Rate: 0.006579634122155991\n",
            "Epoch [27/50], Train Accuracy: 45.2 %, Loss: 0.9361\n",
            "Epoch [27/50], Learning Rate: 0.0062810149414660316\n",
            "Epoch [28/50], Train Accuracy: 46.3 %, Loss: 2.6360\n",
            "Epoch [28/50], Learning Rate: 0.005977537507199339\n",
            "Epoch [29/50], Train Accuracy: 50.1 %, Loss: 1.1427\n",
            "Epoch [29/50], Learning Rate: 0.005670399506143308\n",
            "Epoch [30/50], Train Accuracy: 49.8 %, Loss: 1.9317\n",
            "Epoch [30/50], Learning Rate: 0.005360813071670102\n",
            "Epoch [31/50], Train Accuracy: 48.6 %, Loss: 1.7091\n",
            "Epoch [31/50], Learning Rate: 0.005050000000000001\n",
            "Epoch [32/50], Train Accuracy: 49.8 %, Loss: 1.6701\n",
            "Epoch [32/50], Learning Rate: 0.004739186928329899\n",
            "Epoch [33/50], Train Accuracy: 50.2 %, Loss: 0.8401\n",
            "Epoch [33/50], Learning Rate: 0.004429600493856695\n",
            "Epoch [34/50], Train Accuracy: 49.2 %, Loss: 0.8687\n",
            "Epoch [34/50], Learning Rate: 0.0041224624928006635\n",
            "Epoch [35/50], Train Accuracy: 49.1 %, Loss: 1.5704\n",
            "Epoch [35/50], Learning Rate: 0.0038189850585339685\n",
            "Epoch [36/50], Train Accuracy: 49.5 %, Loss: 1.3178\n",
            "Epoch [36/50], Learning Rate: 0.003520365877844012\n",
            "Epoch [37/50], Train Accuracy: 49.0 %, Loss: 1.3335\n",
            "Epoch [37/50], Learning Rate: 0.0032277834642108457\n",
            "Epoch [38/50], Train Accuracy: 55.8 %, Loss: 1.2200\n",
            "Epoch [38/50], Learning Rate: 0.0029423925067528904\n",
            "Epoch [39/50], Train Accuracy: 49.6 %, Loss: 1.3910\n",
            "Epoch [39/50], Learning Rate: 0.002665319313196509\n",
            "Epoch [40/50], Train Accuracy: 51.4 %, Loss: 2.1989\n",
            "Epoch [40/50], Learning Rate: 0.0023976573648539653\n",
            "Epoch [41/50], Train Accuracy: 54.2 %, Loss: 1.0594\n",
            "Epoch [41/50], Learning Rate: 0.0021404630011522584\n",
            "Epoch [42/50], Train Accuracy: 55.9 %, Loss: 1.7095\n",
            "Epoch [42/50], Learning Rate: 0.001894751250743986\n",
            "Epoch [43/50], Train Accuracy: 51.0 %, Loss: 2.0355\n",
            "Epoch [43/50], Learning Rate: 0.001661491825652991\n",
            "Epoch [44/50], Train Accuracy: 54.3 %, Loss: 1.1405\n",
            "Epoch [44/50], Learning Rate: 0.001441605294264014\n",
            "Epoch [45/50], Train Accuracy: 54.8 %, Loss: 0.6118\n",
            "Epoch [45/50], Learning Rate: 0.001235959448259844\n",
            "Epoch [46/50], Train Accuracy: 55.5 %, Loss: 2.5278\n",
            "Epoch [46/50], Learning Rate: 0.0010453658778440107\n",
            "Epoch [47/50], Train Accuracy: 56.0 %, Loss: 0.8824\n",
            "Epoch [47/50], Learning Rate: 0.0008705767687650265\n",
            "Epoch [48/50], Train Accuracy: 54.9 %, Loss: 1.1984\n",
            "Epoch [48/50], Learning Rate: 0.0007122819337828754\n",
            "Epoch [49/50], Train Accuracy: 58.4 %, Loss: 1.1754\n",
            "Epoch [49/50], Learning Rate: 0.0005711060902932043\n",
            "Epoch [50/50], Train Accuracy: 55.9 %, Loss: 0.8506\n",
            "Epoch [50/50], Learning Rate: 0.00044760639485315584\n"
          ]
        }
      ]
    },
    {
      "cell_type": "code",
      "source": [
        "# モデルの刈り込み率を計算する関数を作成\n",
        "def calculate_pruned_ratio(model):\n",
        "    total_weights = 0\n",
        "    total_pruned_weights = 0\n",
        "\n",
        "    for module in model.modules():\n",
        "        # モジュールがSupermaskConvであるか確認\n",
        "        if isinstance(module, SupermaskConv):\n",
        "            # SupermaskConv層の重みを取得\n",
        "            weight = module.weight.data\n",
        "            # 刈り込みを適用した後の重みを取得\n",
        "            subnet = GetSubnet.apply(module.clamped_scores, 1 - module.prune_rate)\n",
        "            pruned_weight = weight * subnet\n",
        "            # 0である要素数を計算\n",
        "            pruned_weights_count = (pruned_weight == 0).sum().item()\n",
        "            total_pruned_weights += pruned_weights_count\n",
        "            # 重みの全要素数を計算\n",
        "            total_weights_count = pruned_weight.numel()\n",
        "            total_weights += total_weights_count\n",
        "\n",
        "    # 刈り込みが行われた割合を計算\n",
        "    pruned_ratio = total_pruned_weights / total_weights\n",
        "    return print(f\"刈り込み率は{pruned_ratio:.3f}です\")\n",
        "\n",
        "# モデルの刈り込み率を確認\n",
        "calculate_pruned_ratio(model)"
      ],
      "metadata": {
        "colab": {
          "base_uri": "https://localhost:8080/"
        },
        "id": "etp2AT1Rbptm",
        "outputId": "214d65fd-2b65-4107-d31e-bc9c5d734f0d"
      },
      "execution_count": 17,
      "outputs": [
        {
          "output_type": "stream",
          "name": "stdout",
          "text": [
            "刈り込み率は0.999です\n"
          ]
        }
      ]
    },
    {
      "cell_type": "code",
      "source": [
        "# 学習前後のモデルのスコアを比較する関数を作成\n",
        "def check_scores_change(model, model_init):\n",
        "    # 各モデルの名前付きモジュールを順に調べる\n",
        "    for (name, module), (name_init, module_init) in zip(model.named_modules(), model_init.named_modules()):\n",
        "        # 両モジュールがConv2dのインスタンスであるかを確認\n",
        "        if isinstance(module, torch.nn.Conv2d) and isinstance(module_init, torch.nn.Conv2d):\n",
        "            # 両モジュールが'scores'属性を持っているかを確認\n",
        "            if hasattr(module, 'scores') and hasattr(module_init, 'scores'):\n",
        "                # 両モジュールの'scores'属性が一致しているかを確認\n",
        "                # 一致していない場合、変更があったことを示すメッセージを出力\n",
        "                if not torch.equal(module.scores, module_init.scores):\n",
        "                    print(f'{name}のスコアが変化しています')\n",
        "                    return\n",
        "    # すべてのconv層で'scores'が変更されていない場合、その旨を出力\n",
        "    print('すべてのスコアは変化していません')\n",
        "\n",
        "# 学習前後でモデルのスコアが変化していないかを確認\n",
        "check_scores_change(model, model_init)"
      ],
      "metadata": {
        "colab": {
          "base_uri": "https://localhost:8080/"
        },
        "id": "5a7OBC3PdrKz",
        "outputId": "ee874040-66a2-4569-e5c8-2b743373fccd"
      },
      "execution_count": 18,
      "outputs": [
        {
          "output_type": "stream",
          "name": "stdout",
          "text": [
            "すべてのスコアは変化していません\n"
          ]
        }
      ]
    },
    {
      "cell_type": "code",
      "source": [
        "# 学習前後のモデルの最終層以外の重みを比較する関数を作成\n",
        "def check_weight_change_except_last(model, model_init):\n",
        "    for (name, param), (name_init, param_init) in zip(model.named_parameters(), model_init.named_parameters()):\n",
        "        # 最終層を除く\n",
        "        if name != 'fc.weight' and name != 'fc.bias':\n",
        "            weights_changed = (param.data != param_init.data).any()\n",
        "            if weights_changed:\n",
        "                return print('最終層以外の重みが変化しています')\n",
        "    return print('最終層以外の重みは変化していません')\n",
        "\n",
        "# 学習前後でモデルの最終層以外の重みが変化していないかを確認\n",
        "check_weight_change_except_last(model, model_init)"
      ],
      "metadata": {
        "colab": {
          "base_uri": "https://localhost:8080/"
        },
        "id": "mbnhyD8vDdWO",
        "outputId": "02e81ba7-fd08-4b3e-a942-8fa6eea99b0e"
      },
      "execution_count": 19,
      "outputs": [
        {
          "output_type": "stream",
          "name": "stdout",
          "text": [
            "最終層以外の重みは変化していません\n"
          ]
        }
      ]
    },
    {
      "cell_type": "code",
      "source": [
        "# モデルの評価\n",
        "model.eval()\n",
        "with torch.no_grad():\n",
        "    total = 0\n",
        "    correct = 0\n",
        "    for images, labels in test_loader_handsigns:\n",
        "        images = images.to(device)\n",
        "        labels = labels.to(device)\n",
        "        outputs = model(images)\n",
        "        _, predicted = torch.max(outputs.data, 1)\n",
        "        total += labels.size(0)\n",
        "        correct += (predicted == labels).sum().item()\n",
        "    # 正解率精度の確認\n",
        "    print('Test Accuracy: {} %'.format(100 * correct / total))"
      ],
      "metadata": {
        "colab": {
          "base_uri": "https://localhost:8080/"
        },
        "outputId": "2d4e86ee-f1c7-4d48-86cb-42712b305cdb",
        "id": "VPS2IC-WEb5R"
      },
      "execution_count": 20,
      "outputs": [
        {
          "output_type": "stream",
          "name": "stdout",
          "text": [
            "Test Accuracy: 59.0 %\n"
          ]
        }
      ]
    },
    {
      "cell_type": "code",
      "source": [
        "# GPUメモリの解放\n",
        "del model, model_init\n",
        "torch.cuda.empty_cache()"
      ],
      "metadata": {
        "id": "NKfkZTN0Eb5R"
      },
      "execution_count": 21,
      "outputs": []
    },
    {
      "cell_type": "markdown",
      "source": [
        "### prune_rate=0.995"
      ],
      "metadata": {
        "id": "NqbMSuRrpjNv"
      }
    },
    {
      "cell_type": "code",
      "source": [
        "# デバイスを設定\n",
        "device = torch.device('cuda' if torch.cuda.is_available() else 'cpu')\n",
        "# モデルを定義\n",
        "model = torch.load('/content/drive/MyDrive/SupermaskWideResNet28_10_CIFAR100_100epochs_pr0.995_uniform_CLRS_restest.pth')\n",
        "# 最終層を変更\n",
        "model.fc = nn.Linear(model.fc.in_features, 10)\n",
        "# 最終層以外のパラメータの勾配計算を停止\n",
        "for param in model.parameters():\n",
        "    param.requires_grad = False\n",
        "# 最終層のパラメータのみを学習するように設定\n",
        "for param in model.fc.parameters():\n",
        "    param.requires_grad = True\n",
        "# モデルをデバイスに転送\n",
        "model = model.to(device)\n",
        "# 変更後のモデルの重みを保存\n",
        "model_init = copy.deepcopy(model)\n",
        "\n",
        "# 学習率を設定\n",
        "learning_rate = 0.01\n",
        "# 全体のepoch数を設定\n",
        "num_epochs = 50\n",
        "# warm-upするepoch数を設定\n",
        "warmup_epochs = 5\n",
        "\n",
        "# 損失関数を定義\n",
        "criterion = nn.CrossEntropyLoss()\n",
        "# オプティマイザーを設定\n",
        "optimizer = optim.Adam(model.fc.parameters(), lr=learning_rate)\n",
        "# スケジューラーを設定\n",
        "scheduler = CosineLRScheduler(optimizer, t_initial=num_epochs, lr_min=1e-4, warmup_t=warmup_epochs, warmup_lr_init=1e-4, warmup_prefix=True)\n",
        "\n",
        "# モデルの学習\n",
        "for epoch in range(num_epochs):\n",
        "    total = 0\n",
        "    correct = 0\n",
        "    for i, (images, labels) in enumerate(train_loader_handsigns):\n",
        "        images = images.to(device)\n",
        "        labels = labels.to(device)\n",
        "        # 順伝播\n",
        "        outputs = model(images)\n",
        "        loss = criterion(outputs, labels)\n",
        "        # 逆伝播\n",
        "        optimizer.zero_grad()\n",
        "        loss.backward()\n",
        "        optimizer.step()\n",
        "        _, predicted = torch.max(outputs.data, 1)\n",
        "        # 全データ数\n",
        "        total += labels.size(0)\n",
        "        # 正解数\n",
        "        correct += (predicted == labels).sum().item()\n",
        "    # 正解率精度を計算\n",
        "    train_acc = 100 * correct / total\n",
        "    # 正解率精度と損失を確認\n",
        "    print(\"Epoch [{}/{}], Train Accuracy: {} %, Loss: {:.4f}\".format(epoch+1, num_epochs, 100 * correct / total, loss.item()))\n",
        "    # 1エポック終了後にスケジューラーを更新\n",
        "    scheduler.step(epoch)\n",
        "    # 学習率の確認\n",
        "    print(\"Epoch [{}/{}], Learning Rate: {}\".format(epoch+1, num_epochs, optimizer.param_groups[0]['lr']))\n",
        "\n",
        "\n",
        "# モデルを保存\n",
        "torch.save(model, '/content/drive/MyDrive/SupermaskWideResNet28_10_HandSigns_from_CIFAR100_100epochs_pr0.995_uniform_50epochs_lr0.01_CLRS_restest.pth')"
      ],
      "metadata": {
        "colab": {
          "base_uri": "https://localhost:8080/"
        },
        "outputId": "c6695a26-f7f9-469f-f737-2ffe8d8b9a72",
        "id": "MkGq7iD0pjN8"
      },
      "execution_count": 22,
      "outputs": [
        {
          "output_type": "stream",
          "name": "stdout",
          "text": [
            "Epoch [1/50], Train Accuracy: 14.1 %, Loss: 2.2326\n",
            "Epoch [1/50], Learning Rate: 0.0001\n",
            "Epoch [2/50], Train Accuracy: 25.6 %, Loss: 2.2115\n",
            "Epoch [2/50], Learning Rate: 0.00208\n",
            "Epoch [3/50], Train Accuracy: 34.5 %, Loss: 1.9586\n",
            "Epoch [3/50], Learning Rate: 0.00406\n",
            "Epoch [4/50], Train Accuracy: 45.9 %, Loss: 1.3850\n",
            "Epoch [4/50], Learning Rate: 0.00604\n",
            "Epoch [5/50], Train Accuracy: 47.9 %, Loss: 1.7803\n",
            "Epoch [5/50], Learning Rate: 0.00802\n",
            "Epoch [6/50], Train Accuracy: 52.0 %, Loss: 2.0324\n",
            "Epoch [6/50], Learning Rate: 0.01\n",
            "Epoch [7/50], Train Accuracy: 55.1 %, Loss: 1.3911\n",
            "Epoch [7/50], Learning Rate: 0.009990232305719944\n",
            "Epoch [8/50], Train Accuracy: 58.7 %, Loss: 1.2975\n",
            "Epoch [8/50], Learning Rate: 0.009960967771506667\n",
            "Epoch [9/50], Train Accuracy: 60.9 %, Loss: 0.8733\n",
            "Epoch [9/50], Learning Rate: 0.00991232189110701\n",
            "Epoch [10/50], Train Accuracy: 60.4 %, Loss: 1.1043\n",
            "Epoch [10/50], Learning Rate: 0.009844486647586723\n",
            "Epoch [11/50], Train Accuracy: 58.0 %, Loss: 1.3189\n",
            "Epoch [11/50], Learning Rate: 0.009757729755661011\n",
            "Epoch [12/50], Train Accuracy: 62.7 %, Loss: 1.3375\n",
            "Epoch [12/50], Learning Rate: 0.009652393605146845\n",
            "Epoch [13/50], Train Accuracy: 61.3 %, Loss: 1.0235\n",
            "Epoch [13/50], Learning Rate: 0.009528893909706798\n",
            "Epoch [14/50], Train Accuracy: 65.0 %, Loss: 1.4979\n",
            "Epoch [14/50], Learning Rate: 0.009387718066217124\n",
            "Epoch [15/50], Train Accuracy: 66.8 %, Loss: 1.6701\n",
            "Epoch [15/50], Learning Rate: 0.009229423231234974\n",
            "Epoch [16/50], Train Accuracy: 66.5 %, Loss: 0.4319\n",
            "Epoch [16/50], Learning Rate: 0.00905463412215599\n",
            "Epoch [17/50], Train Accuracy: 66.1 %, Loss: 0.6834\n",
            "Epoch [17/50], Learning Rate: 0.008864040551740157\n",
            "Epoch [18/50], Train Accuracy: 66.6 %, Loss: 1.5896\n",
            "Epoch [18/50], Learning Rate: 0.008658394705735987\n",
            "Epoch [19/50], Train Accuracy: 69.3 %, Loss: 2.9749\n",
            "Epoch [19/50], Learning Rate: 0.00843850817434701\n",
            "Epoch [20/50], Train Accuracy: 69.9 %, Loss: 1.3066\n",
            "Epoch [20/50], Learning Rate: 0.008205248749256015\n",
            "Epoch [21/50], Train Accuracy: 70.9 %, Loss: 1.6833\n",
            "Epoch [21/50], Learning Rate: 0.007959536998847744\n",
            "Epoch [22/50], Train Accuracy: 70.0 %, Loss: 1.7143\n",
            "Epoch [22/50], Learning Rate: 0.007702342635146034\n",
            "Epoch [23/50], Train Accuracy: 73.0 %, Loss: 0.3238\n",
            "Epoch [23/50], Learning Rate: 0.007434680686803491\n",
            "Epoch [24/50], Train Accuracy: 73.2 %, Loss: 0.9401\n",
            "Epoch [24/50], Learning Rate: 0.0071576074932471105\n",
            "Epoch [25/50], Train Accuracy: 70.9 %, Loss: 0.7293\n",
            "Epoch [25/50], Learning Rate: 0.006872216535789157\n",
            "Epoch [26/50], Train Accuracy: 70.1 %, Loss: 1.7974\n",
            "Epoch [26/50], Learning Rate: 0.006579634122155991\n",
            "Epoch [27/50], Train Accuracy: 72.3 %, Loss: 1.0265\n",
            "Epoch [27/50], Learning Rate: 0.0062810149414660316\n",
            "Epoch [28/50], Train Accuracy: 70.4 %, Loss: 1.3443\n",
            "Epoch [28/50], Learning Rate: 0.005977537507199339\n",
            "Epoch [29/50], Train Accuracy: 72.6 %, Loss: 0.7205\n",
            "Epoch [29/50], Learning Rate: 0.005670399506143308\n",
            "Epoch [30/50], Train Accuracy: 72.5 %, Loss: 1.0639\n",
            "Epoch [30/50], Learning Rate: 0.005360813071670102\n",
            "Epoch [31/50], Train Accuracy: 70.3 %, Loss: 0.3661\n",
            "Epoch [31/50], Learning Rate: 0.005050000000000001\n",
            "Epoch [32/50], Train Accuracy: 74.4 %, Loss: 1.6551\n",
            "Epoch [32/50], Learning Rate: 0.004739186928329899\n",
            "Epoch [33/50], Train Accuracy: 74.4 %, Loss: 0.6498\n",
            "Epoch [33/50], Learning Rate: 0.004429600493856695\n",
            "Epoch [34/50], Train Accuracy: 73.4 %, Loss: 2.7143\n",
            "Epoch [34/50], Learning Rate: 0.0041224624928006635\n",
            "Epoch [35/50], Train Accuracy: 73.5 %, Loss: 0.5905\n",
            "Epoch [35/50], Learning Rate: 0.0038189850585339685\n",
            "Epoch [36/50], Train Accuracy: 76.2 %, Loss: 1.0668\n",
            "Epoch [36/50], Learning Rate: 0.003520365877844012\n",
            "Epoch [37/50], Train Accuracy: 77.2 %, Loss: 0.7136\n",
            "Epoch [37/50], Learning Rate: 0.0032277834642108457\n",
            "Epoch [38/50], Train Accuracy: 75.3 %, Loss: 1.3638\n",
            "Epoch [38/50], Learning Rate: 0.0029423925067528904\n",
            "Epoch [39/50], Train Accuracy: 76.5 %, Loss: 2.1760\n",
            "Epoch [39/50], Learning Rate: 0.002665319313196509\n",
            "Epoch [40/50], Train Accuracy: 75.8 %, Loss: 0.6008\n",
            "Epoch [40/50], Learning Rate: 0.0023976573648539653\n",
            "Epoch [41/50], Train Accuracy: 77.1 %, Loss: 0.8636\n",
            "Epoch [41/50], Learning Rate: 0.0021404630011522584\n",
            "Epoch [42/50], Train Accuracy: 78.7 %, Loss: 0.4849\n",
            "Epoch [42/50], Learning Rate: 0.001894751250743986\n",
            "Epoch [43/50], Train Accuracy: 76.6 %, Loss: 0.7314\n",
            "Epoch [43/50], Learning Rate: 0.001661491825652991\n",
            "Epoch [44/50], Train Accuracy: 78.6 %, Loss: 0.6976\n",
            "Epoch [44/50], Learning Rate: 0.001441605294264014\n",
            "Epoch [45/50], Train Accuracy: 78.0 %, Loss: 0.9534\n",
            "Epoch [45/50], Learning Rate: 0.001235959448259844\n",
            "Epoch [46/50], Train Accuracy: 77.9 %, Loss: 0.3091\n",
            "Epoch [46/50], Learning Rate: 0.0010453658778440107\n",
            "Epoch [47/50], Train Accuracy: 80.5 %, Loss: 1.3171\n",
            "Epoch [47/50], Learning Rate: 0.0008705767687650265\n",
            "Epoch [48/50], Train Accuracy: 77.8 %, Loss: 0.7897\n",
            "Epoch [48/50], Learning Rate: 0.0007122819337828754\n",
            "Epoch [49/50], Train Accuracy: 78.7 %, Loss: 1.0247\n",
            "Epoch [49/50], Learning Rate: 0.0005711060902932043\n",
            "Epoch [50/50], Train Accuracy: 79.4 %, Loss: 0.4833\n",
            "Epoch [50/50], Learning Rate: 0.00044760639485315584\n"
          ]
        }
      ]
    },
    {
      "cell_type": "code",
      "source": [
        "# モデルの刈り込み率を計算する関数を作成\n",
        "def calculate_pruned_ratio(model):\n",
        "    total_weights = 0\n",
        "    total_pruned_weights = 0\n",
        "\n",
        "    for module in model.modules():\n",
        "        # モジュールがSupermaskConvであるか確認\n",
        "        if isinstance(module, SupermaskConv):\n",
        "            # SupermaskConv層の重みを取得\n",
        "            weight = module.weight.data\n",
        "            # 刈り込みを適用した後の重みを取得\n",
        "            subnet = GetSubnet.apply(module.clamped_scores, 1 - module.prune_rate)\n",
        "            pruned_weight = weight * subnet\n",
        "            # 0である要素数を計算\n",
        "            pruned_weights_count = (pruned_weight == 0).sum().item()\n",
        "            total_pruned_weights += pruned_weights_count\n",
        "            # 重みの全要素数を計算\n",
        "            total_weights_count = pruned_weight.numel()\n",
        "            total_weights += total_weights_count\n",
        "\n",
        "    # 刈り込みが行われた割合を計算\n",
        "    pruned_ratio = total_pruned_weights / total_weights\n",
        "    return print(f\"刈り込み率は{pruned_ratio:.3f}です\")\n",
        "\n",
        "# モデルの刈り込み率を確認\n",
        "calculate_pruned_ratio(model)"
      ],
      "metadata": {
        "colab": {
          "base_uri": "https://localhost:8080/"
        },
        "outputId": "120f218b-c382-4bcb-fd30-505074c51f5f",
        "id": "jg3iGXzRpjN9"
      },
      "execution_count": 23,
      "outputs": [
        {
          "output_type": "stream",
          "name": "stdout",
          "text": [
            "刈り込み率は0.995です\n"
          ]
        }
      ]
    },
    {
      "cell_type": "code",
      "source": [
        "# 学習前後のモデルのスコアを比較する関数を作成\n",
        "def check_scores_change(model, model_init):\n",
        "    # 各モデルの名前付きモジュールを順に調べる\n",
        "    for (name, module), (name_init, module_init) in zip(model.named_modules(), model_init.named_modules()):\n",
        "        # 両モジュールがConv2dのインスタンスであるかを確認\n",
        "        if isinstance(module, torch.nn.Conv2d) and isinstance(module_init, torch.nn.Conv2d):\n",
        "            # 両モジュールが'scores'属性を持っているかを確認\n",
        "            if hasattr(module, 'scores') and hasattr(module_init, 'scores'):\n",
        "                # 両モジュールの'scores'属性が一致しているかを確認\n",
        "                # 一致していない場合、変更があったことを示すメッセージを出力\n",
        "                if not torch.equal(module.scores, module_init.scores):\n",
        "                    print(f'{name}のスコアが変化しています')\n",
        "                    return\n",
        "    # すべてのconv層で'scores'が変更されていない場合、その旨を出力\n",
        "    print('すべてのスコアは変化していません')\n",
        "\n",
        "# 学習前後でモデルのスコアが変化していないかを確認\n",
        "check_scores_change(model, model_init)"
      ],
      "metadata": {
        "colab": {
          "base_uri": "https://localhost:8080/"
        },
        "outputId": "ec4c9f9a-dad4-48bb-9348-09cb055f0c2d",
        "id": "7M8dj_pcpjN9"
      },
      "execution_count": 24,
      "outputs": [
        {
          "output_type": "stream",
          "name": "stdout",
          "text": [
            "すべてのスコアは変化していません\n"
          ]
        }
      ]
    },
    {
      "cell_type": "code",
      "source": [
        "# 学習前後のモデルの最終層以外の重みを比較する関数を作成\n",
        "def check_weight_change_except_last(model, model_init):\n",
        "    for (name, param), (name_init, param_init) in zip(model.named_parameters(), model_init.named_parameters()):\n",
        "        # 最終層を除く\n",
        "        if name != 'fc.weight' and name != 'fc.bias':\n",
        "            weights_changed = (param.data != param_init.data).any()\n",
        "            if weights_changed:\n",
        "                return print('最終層以外の重みが変化しています')\n",
        "    return print('最終層以外の重みは変化していません')\n",
        "\n",
        "# 学習前後でモデルの最終層以外の重みが変化していないかを確認\n",
        "check_weight_change_except_last(model, model_init)"
      ],
      "metadata": {
        "colab": {
          "base_uri": "https://localhost:8080/"
        },
        "outputId": "ff4eb265-ec26-46ac-dd92-fc5b74530c4a",
        "id": "brxdcBfIpjN9"
      },
      "execution_count": 25,
      "outputs": [
        {
          "output_type": "stream",
          "name": "stdout",
          "text": [
            "最終層以外の重みは変化していません\n"
          ]
        }
      ]
    },
    {
      "cell_type": "code",
      "source": [
        "# モデルの評価\n",
        "model.eval()\n",
        "with torch.no_grad():\n",
        "    total = 0\n",
        "    correct = 0\n",
        "    for images, labels in test_loader_handsigns:\n",
        "        images = images.to(device)\n",
        "        labels = labels.to(device)\n",
        "        outputs = model(images)\n",
        "        _, predicted = torch.max(outputs.data, 1)\n",
        "        total += labels.size(0)\n",
        "        correct += (predicted == labels).sum().item()\n",
        "    # 正解率精度の確認\n",
        "    print('Test Accuracy: {} %'.format(100 * correct / total))"
      ],
      "metadata": {
        "colab": {
          "base_uri": "https://localhost:8080/"
        },
        "outputId": "5127c30a-6af2-45c5-9430-d3d0025b171a",
        "id": "ZVfoVbqrpjN9"
      },
      "execution_count": 26,
      "outputs": [
        {
          "output_type": "stream",
          "name": "stdout",
          "text": [
            "Test Accuracy: 83.0 %\n"
          ]
        }
      ]
    },
    {
      "cell_type": "code",
      "source": [
        "# GPUメモリの解放\n",
        "del model, model_init\n",
        "torch.cuda.empty_cache()"
      ],
      "metadata": {
        "id": "GoQgBKvNpjN9"
      },
      "execution_count": 27,
      "outputs": []
    },
    {
      "cell_type": "markdown",
      "source": [
        "### prune_rate=0.99"
      ],
      "metadata": {
        "id": "lRIgIz-4pzit"
      }
    },
    {
      "cell_type": "code",
      "source": [
        "# デバイスを設定\n",
        "device = torch.device('cuda' if torch.cuda.is_available() else 'cpu')\n",
        "# モデルを定義\n",
        "model = torch.load('/content/drive/MyDrive/SupermaskWideResNet28_10_CIFAR100_100epochs_pr0.99_uniform_CLRS_restest.pth')\n",
        "# 最終層を変更\n",
        "model.fc = nn.Linear(model.fc.in_features, 10)\n",
        "# 最終層以外のパラメータの勾配計算を停止\n",
        "for param in model.parameters():\n",
        "    param.requires_grad = False\n",
        "# 最終層のパラメータのみを学習するように設定\n",
        "for param in model.fc.parameters():\n",
        "    param.requires_grad = True\n",
        "# モデルをデバイスに転送\n",
        "model = model.to(device)\n",
        "# 変更後のモデルの重みを保存\n",
        "model_init = copy.deepcopy(model)\n",
        "\n",
        "# 学習率を設定\n",
        "learning_rate = 0.01\n",
        "# 全体のepoch数を設定\n",
        "num_epochs = 50\n",
        "# warm-upするepoch数を設定\n",
        "warmup_epochs = 5\n",
        "\n",
        "# 損失関数を定義\n",
        "criterion = nn.CrossEntropyLoss()\n",
        "# オプティマイザーを設定\n",
        "optimizer = optim.Adam(model.fc.parameters(), lr=learning_rate)\n",
        "# スケジューラーを設定\n",
        "scheduler = CosineLRScheduler(optimizer, t_initial=num_epochs, lr_min=1e-4, warmup_t=warmup_epochs, warmup_lr_init=1e-4, warmup_prefix=True)\n",
        "\n",
        "# モデルの学習\n",
        "for epoch in range(num_epochs):\n",
        "    total = 0\n",
        "    correct = 0\n",
        "    for i, (images, labels) in enumerate(train_loader_handsigns):\n",
        "        images = images.to(device)\n",
        "        labels = labels.to(device)\n",
        "        # 順伝播\n",
        "        outputs = model(images)\n",
        "        loss = criterion(outputs, labels)\n",
        "        # 逆伝播\n",
        "        optimizer.zero_grad()\n",
        "        loss.backward()\n",
        "        optimizer.step()\n",
        "        _, predicted = torch.max(outputs.data, 1)\n",
        "        # 全データ数\n",
        "        total += labels.size(0)\n",
        "        # 正解数\n",
        "        correct += (predicted == labels).sum().item()\n",
        "    # 正解率精度を計算\n",
        "    train_acc = 100 * correct / total\n",
        "    # 正解率精度と損失を確認\n",
        "    print(\"Epoch [{}/{}], Train Accuracy: {} %, Loss: {:.4f}\".format(epoch+1, num_epochs, 100 * correct / total, loss.item()))\n",
        "    # 1エポック終了後にスケジューラーを更新\n",
        "    scheduler.step(epoch)\n",
        "    # 学習率の確認\n",
        "    print(\"Epoch [{}/{}], Learning Rate: {}\".format(epoch+1, num_epochs, optimizer.param_groups[0]['lr']))\n",
        "\n",
        "\n",
        "# モデルを保存\n",
        "torch.save(model, '/content/drive/MyDrive/SupermaskWideResNet28_10_HandSigns_from_CIFAR100_100epochs_pr0.99_uniform_50epochs_lr0.01_CLRS_restest.pth')"
      ],
      "metadata": {
        "colab": {
          "base_uri": "https://localhost:8080/"
        },
        "outputId": "a576a429-56bf-425b-d881-1716eaf6ec5b",
        "id": "TU8wv-8hpzit"
      },
      "execution_count": 28,
      "outputs": [
        {
          "output_type": "stream",
          "name": "stdout",
          "text": [
            "Epoch [1/50], Train Accuracy: 17.1 %, Loss: 2.1661\n",
            "Epoch [1/50], Learning Rate: 0.0001\n",
            "Epoch [2/50], Train Accuracy: 24.9 %, Loss: 2.2266\n",
            "Epoch [2/50], Learning Rate: 0.00208\n",
            "Epoch [3/50], Train Accuracy: 39.6 %, Loss: 1.5521\n",
            "Epoch [3/50], Learning Rate: 0.00406\n",
            "Epoch [4/50], Train Accuracy: 52.0 %, Loss: 1.1774\n",
            "Epoch [4/50], Learning Rate: 0.00604\n",
            "Epoch [5/50], Train Accuracy: 59.2 %, Loss: 0.7397\n",
            "Epoch [5/50], Learning Rate: 0.00802\n",
            "Epoch [6/50], Train Accuracy: 60.8 %, Loss: 0.6776\n",
            "Epoch [6/50], Learning Rate: 0.01\n",
            "Epoch [7/50], Train Accuracy: 57.5 %, Loss: 1.7969\n",
            "Epoch [7/50], Learning Rate: 0.009990232305719944\n",
            "Epoch [8/50], Train Accuracy: 64.6 %, Loss: 2.3607\n",
            "Epoch [8/50], Learning Rate: 0.009960967771506667\n",
            "Epoch [9/50], Train Accuracy: 65.3 %, Loss: 1.6955\n",
            "Epoch [9/50], Learning Rate: 0.00991232189110701\n",
            "Epoch [10/50], Train Accuracy: 64.4 %, Loss: 1.3339\n",
            "Epoch [10/50], Learning Rate: 0.009844486647586723\n",
            "Epoch [11/50], Train Accuracy: 70.9 %, Loss: 2.4059\n",
            "Epoch [11/50], Learning Rate: 0.009757729755661011\n",
            "Epoch [12/50], Train Accuracy: 69.8 %, Loss: 0.6234\n",
            "Epoch [12/50], Learning Rate: 0.009652393605146845\n",
            "Epoch [13/50], Train Accuracy: 69.6 %, Loss: 0.3756\n",
            "Epoch [13/50], Learning Rate: 0.009528893909706798\n",
            "Epoch [14/50], Train Accuracy: 71.0 %, Loss: 1.6353\n",
            "Epoch [14/50], Learning Rate: 0.009387718066217124\n",
            "Epoch [15/50], Train Accuracy: 69.1 %, Loss: 2.1478\n",
            "Epoch [15/50], Learning Rate: 0.009229423231234974\n",
            "Epoch [16/50], Train Accuracy: 70.9 %, Loss: 0.9605\n",
            "Epoch [16/50], Learning Rate: 0.00905463412215599\n",
            "Epoch [17/50], Train Accuracy: 71.8 %, Loss: 0.3260\n",
            "Epoch [17/50], Learning Rate: 0.008864040551740157\n",
            "Epoch [18/50], Train Accuracy: 74.3 %, Loss: 1.5942\n",
            "Epoch [18/50], Learning Rate: 0.008658394705735987\n",
            "Epoch [19/50], Train Accuracy: 76.2 %, Loss: 0.3499\n",
            "Epoch [19/50], Learning Rate: 0.00843850817434701\n",
            "Epoch [20/50], Train Accuracy: 73.5 %, Loss: 2.7810\n",
            "Epoch [20/50], Learning Rate: 0.008205248749256015\n",
            "Epoch [21/50], Train Accuracy: 74.4 %, Loss: 1.7066\n",
            "Epoch [21/50], Learning Rate: 0.007959536998847744\n",
            "Epoch [22/50], Train Accuracy: 75.9 %, Loss: 1.5621\n",
            "Epoch [22/50], Learning Rate: 0.007702342635146034\n",
            "Epoch [23/50], Train Accuracy: 78.7 %, Loss: 0.5567\n",
            "Epoch [23/50], Learning Rate: 0.007434680686803491\n",
            "Epoch [24/50], Train Accuracy: 75.8 %, Loss: 1.1465\n",
            "Epoch [24/50], Learning Rate: 0.0071576074932471105\n",
            "Epoch [25/50], Train Accuracy: 77.1 %, Loss: 0.4638\n",
            "Epoch [25/50], Learning Rate: 0.006872216535789157\n",
            "Epoch [26/50], Train Accuracy: 76.5 %, Loss: 0.9442\n",
            "Epoch [26/50], Learning Rate: 0.006579634122155991\n",
            "Epoch [27/50], Train Accuracy: 79.0 %, Loss: 0.2486\n",
            "Epoch [27/50], Learning Rate: 0.0062810149414660316\n",
            "Epoch [28/50], Train Accuracy: 76.7 %, Loss: 0.5741\n",
            "Epoch [28/50], Learning Rate: 0.005977537507199339\n",
            "Epoch [29/50], Train Accuracy: 80.0 %, Loss: 1.2818\n",
            "Epoch [29/50], Learning Rate: 0.005670399506143308\n",
            "Epoch [30/50], Train Accuracy: 79.9 %, Loss: 1.1827\n",
            "Epoch [30/50], Learning Rate: 0.005360813071670102\n",
            "Epoch [31/50], Train Accuracy: 77.8 %, Loss: 0.8562\n",
            "Epoch [31/50], Learning Rate: 0.005050000000000001\n",
            "Epoch [32/50], Train Accuracy: 79.5 %, Loss: 0.1373\n",
            "Epoch [32/50], Learning Rate: 0.004739186928329899\n",
            "Epoch [33/50], Train Accuracy: 81.8 %, Loss: 0.5371\n",
            "Epoch [33/50], Learning Rate: 0.004429600493856695\n",
            "Epoch [34/50], Train Accuracy: 80.8 %, Loss: 1.1375\n",
            "Epoch [34/50], Learning Rate: 0.0041224624928006635\n",
            "Epoch [35/50], Train Accuracy: 79.6 %, Loss: 0.5194\n",
            "Epoch [35/50], Learning Rate: 0.0038189850585339685\n",
            "Epoch [36/50], Train Accuracy: 81.8 %, Loss: 0.4754\n",
            "Epoch [36/50], Learning Rate: 0.003520365877844012\n",
            "Epoch [37/50], Train Accuracy: 83.1 %, Loss: 0.2839\n",
            "Epoch [37/50], Learning Rate: 0.0032277834642108457\n",
            "Epoch [38/50], Train Accuracy: 82.4 %, Loss: 1.1713\n",
            "Epoch [38/50], Learning Rate: 0.0029423925067528904\n",
            "Epoch [39/50], Train Accuracy: 82.6 %, Loss: 0.2566\n",
            "Epoch [39/50], Learning Rate: 0.002665319313196509\n",
            "Epoch [40/50], Train Accuracy: 82.8 %, Loss: 0.9761\n",
            "Epoch [40/50], Learning Rate: 0.0023976573648539653\n",
            "Epoch [41/50], Train Accuracy: 83.1 %, Loss: 0.7088\n",
            "Epoch [41/50], Learning Rate: 0.0021404630011522584\n",
            "Epoch [42/50], Train Accuracy: 82.4 %, Loss: 0.2697\n",
            "Epoch [42/50], Learning Rate: 0.001894751250743986\n",
            "Epoch [43/50], Train Accuracy: 85.0 %, Loss: 1.2796\n",
            "Epoch [43/50], Learning Rate: 0.001661491825652991\n",
            "Epoch [44/50], Train Accuracy: 83.1 %, Loss: 0.9854\n",
            "Epoch [44/50], Learning Rate: 0.001441605294264014\n",
            "Epoch [45/50], Train Accuracy: 83.1 %, Loss: 0.6468\n",
            "Epoch [45/50], Learning Rate: 0.001235959448259844\n",
            "Epoch [46/50], Train Accuracy: 83.0 %, Loss: 0.9289\n",
            "Epoch [46/50], Learning Rate: 0.0010453658778440107\n",
            "Epoch [47/50], Train Accuracy: 84.5 %, Loss: 0.2070\n",
            "Epoch [47/50], Learning Rate: 0.0008705767687650265\n",
            "Epoch [48/50], Train Accuracy: 85.2 %, Loss: 0.5034\n",
            "Epoch [48/50], Learning Rate: 0.0007122819337828754\n",
            "Epoch [49/50], Train Accuracy: 84.6 %, Loss: 0.9097\n",
            "Epoch [49/50], Learning Rate: 0.0005711060902932043\n",
            "Epoch [50/50], Train Accuracy: 85.7 %, Loss: 0.4448\n",
            "Epoch [50/50], Learning Rate: 0.00044760639485315584\n"
          ]
        }
      ]
    },
    {
      "cell_type": "code",
      "source": [
        "# モデルの刈り込み率を計算する関数を作成\n",
        "def calculate_pruned_ratio(model):\n",
        "    total_weights = 0\n",
        "    total_pruned_weights = 0\n",
        "\n",
        "    for module in model.modules():\n",
        "        # モジュールがSupermaskConvであるか確認\n",
        "        if isinstance(module, SupermaskConv):\n",
        "            # SupermaskConv層の重みを取得\n",
        "            weight = module.weight.data\n",
        "            # 刈り込みを適用した後の重みを取得\n",
        "            subnet = GetSubnet.apply(module.clamped_scores, 1 - module.prune_rate)\n",
        "            pruned_weight = weight * subnet\n",
        "            # 0である要素数を計算\n",
        "            pruned_weights_count = (pruned_weight == 0).sum().item()\n",
        "            total_pruned_weights += pruned_weights_count\n",
        "            # 重みの全要素数を計算\n",
        "            total_weights_count = pruned_weight.numel()\n",
        "            total_weights += total_weights_count\n",
        "\n",
        "    # 刈り込みが行われた割合を計算\n",
        "    pruned_ratio = total_pruned_weights / total_weights\n",
        "    return print(f\"刈り込み率は{pruned_ratio:.3f}です\")\n",
        "\n",
        "# モデルの刈り込み率を確認\n",
        "calculate_pruned_ratio(model)"
      ],
      "metadata": {
        "colab": {
          "base_uri": "https://localhost:8080/"
        },
        "outputId": "82d0fae5-494e-4a6a-cba3-0e6fec883823",
        "id": "v-An9AWNpziu"
      },
      "execution_count": 29,
      "outputs": [
        {
          "output_type": "stream",
          "name": "stdout",
          "text": [
            "刈り込み率は0.990です\n"
          ]
        }
      ]
    },
    {
      "cell_type": "code",
      "source": [
        "# 学習前後のモデルのスコアを比較する関数を作成\n",
        "def check_scores_change(model, model_init):\n",
        "    # 各モデルの名前付きモジュールを順に調べる\n",
        "    for (name, module), (name_init, module_init) in zip(model.named_modules(), model_init.named_modules()):\n",
        "        # 両モジュールがConv2dのインスタンスであるかを確認\n",
        "        if isinstance(module, torch.nn.Conv2d) and isinstance(module_init, torch.nn.Conv2d):\n",
        "            # 両モジュールが'scores'属性を持っているかを確認\n",
        "            if hasattr(module, 'scores') and hasattr(module_init, 'scores'):\n",
        "                # 両モジュールの'scores'属性が一致しているかを確認\n",
        "                # 一致していない場合、変更があったことを示すメッセージを出力\n",
        "                if not torch.equal(module.scores, module_init.scores):\n",
        "                    print(f'{name}のスコアが変化しています')\n",
        "                    return\n",
        "    # すべてのconv層で'scores'が変更されていない場合、その旨を出力\n",
        "    print('すべてのスコアは変化していません')\n",
        "\n",
        "# 学習前後でモデルのスコアが変化していないかを確認\n",
        "check_scores_change(model, model_init)"
      ],
      "metadata": {
        "colab": {
          "base_uri": "https://localhost:8080/"
        },
        "outputId": "17da06e0-8cff-4dc7-b3c0-f40053fb3762",
        "id": "mHvzdVrrpziu"
      },
      "execution_count": 30,
      "outputs": [
        {
          "output_type": "stream",
          "name": "stdout",
          "text": [
            "すべてのスコアは変化していません\n"
          ]
        }
      ]
    },
    {
      "cell_type": "code",
      "source": [
        "# 学習前後のモデルの最終層以外の重みを比較する関数を作成\n",
        "def check_weight_change_except_last(model, model_init):\n",
        "    for (name, param), (name_init, param_init) in zip(model.named_parameters(), model_init.named_parameters()):\n",
        "        # 最終層を除く\n",
        "        if name != 'fc.weight' and name != 'fc.bias':\n",
        "            weights_changed = (param.data != param_init.data).any()\n",
        "            if weights_changed:\n",
        "                return print('最終層以外の重みが変化しています')\n",
        "    return print('最終層以外の重みは変化していません')\n",
        "\n",
        "# 学習前後でモデルの最終層以外の重みが変化していないかを確認\n",
        "check_weight_change_except_last(model, model_init)"
      ],
      "metadata": {
        "colab": {
          "base_uri": "https://localhost:8080/"
        },
        "outputId": "599185ee-2a32-450b-d70b-cbdabbd36871",
        "id": "h6zL_iAfpziu"
      },
      "execution_count": 31,
      "outputs": [
        {
          "output_type": "stream",
          "name": "stdout",
          "text": [
            "最終層以外の重みは変化していません\n"
          ]
        }
      ]
    },
    {
      "cell_type": "code",
      "source": [
        "# モデルの評価\n",
        "model.eval()\n",
        "with torch.no_grad():\n",
        "    total = 0\n",
        "    correct = 0\n",
        "    for images, labels in test_loader_handsigns:\n",
        "        images = images.to(device)\n",
        "        labels = labels.to(device)\n",
        "        outputs = model(images)\n",
        "        _, predicted = torch.max(outputs.data, 1)\n",
        "        total += labels.size(0)\n",
        "        correct += (predicted == labels).sum().item()\n",
        "    # 正解率精度の確認\n",
        "    print('Test Accuracy: {} %'.format(100 * correct / total))"
      ],
      "metadata": {
        "colab": {
          "base_uri": "https://localhost:8080/"
        },
        "outputId": "7f06cb94-c4d8-4c37-d7c3-384e90b775dc",
        "id": "Gn0LIrVEpziu"
      },
      "execution_count": 32,
      "outputs": [
        {
          "output_type": "stream",
          "name": "stdout",
          "text": [
            "Test Accuracy: 85.0 %\n"
          ]
        }
      ]
    },
    {
      "cell_type": "code",
      "source": [
        "# GPUメモリの解放\n",
        "del model, model_init\n",
        "torch.cuda.empty_cache()"
      ],
      "metadata": {
        "id": "pKv1NeZFpziu"
      },
      "execution_count": 33,
      "outputs": []
    },
    {
      "cell_type": "markdown",
      "source": [
        "### prune_rate=0.95"
      ],
      "metadata": {
        "id": "_6ADYB7Wp6FQ"
      }
    },
    {
      "cell_type": "code",
      "source": [
        "# デバイスを設定\n",
        "device = torch.device('cuda' if torch.cuda.is_available() else 'cpu')\n",
        "# モデルを定義\n",
        "model = torch.load('/content/drive/MyDrive/SupermaskWideResNet28_10_CIFAR100_100epochs_pr0.95_uniform_CLRS_restest.pth')\n",
        "# 最終層を変更\n",
        "model.fc = nn.Linear(model.fc.in_features, 10)\n",
        "# 最終層以外のパラメータの勾配計算を停止\n",
        "for param in model.parameters():\n",
        "    param.requires_grad = False\n",
        "# 最終層のパラメータのみを学習するように設定\n",
        "for param in model.fc.parameters():\n",
        "    param.requires_grad = True\n",
        "# モデルをデバイスに転送\n",
        "model = model.to(device)\n",
        "# 変更後のモデルの重みを保存\n",
        "model_init = copy.deepcopy(model)\n",
        "\n",
        "# 学習率を設定\n",
        "learning_rate = 0.01\n",
        "# 全体のepoch数を設定\n",
        "num_epochs = 50\n",
        "# warm-upするepoch数を設定\n",
        "warmup_epochs = 5\n",
        "\n",
        "# 損失関数を定義\n",
        "criterion = nn.CrossEntropyLoss()\n",
        "# オプティマイザーを設定\n",
        "optimizer = optim.Adam(model.fc.parameters(), lr=learning_rate)\n",
        "# スケジューラーを設定\n",
        "scheduler = CosineLRScheduler(optimizer, t_initial=num_epochs, lr_min=1e-4, warmup_t=warmup_epochs, warmup_lr_init=1e-4, warmup_prefix=True)\n",
        "\n",
        "# モデルの学習\n",
        "for epoch in range(num_epochs):\n",
        "    total = 0\n",
        "    correct = 0\n",
        "    for i, (images, labels) in enumerate(train_loader_handsigns):\n",
        "        images = images.to(device)\n",
        "        labels = labels.to(device)\n",
        "        # 順伝播\n",
        "        outputs = model(images)\n",
        "        loss = criterion(outputs, labels)\n",
        "        # 逆伝播\n",
        "        optimizer.zero_grad()\n",
        "        loss.backward()\n",
        "        optimizer.step()\n",
        "        _, predicted = torch.max(outputs.data, 1)\n",
        "        # 全データ数\n",
        "        total += labels.size(0)\n",
        "        # 正解数\n",
        "        correct += (predicted == labels).sum().item()\n",
        "    # 正解率精度を計算\n",
        "    train_acc = 100 * correct / total\n",
        "    # 正解率精度と損失を確認\n",
        "    print(\"Epoch [{}/{}], Train Accuracy: {} %, Loss: {:.4f}\".format(epoch+1, num_epochs, 100 * correct / total, loss.item()))\n",
        "    # 1エポック終了後にスケジューラーを更新\n",
        "    scheduler.step(epoch)\n",
        "    # 学習率の確認\n",
        "    print(\"Epoch [{}/{}], Learning Rate: {}\".format(epoch+1, num_epochs, optimizer.param_groups[0]['lr']))\n",
        "\n",
        "\n",
        "# モデルを保存\n",
        "torch.save(model, '/content/drive/MyDrive/SupermaskWideResNet28_10_HandSigns_from_CIFAR100_100epochs_pr0.95_uniform_50epochs_lr0.01_CLRS_restest.pth')"
      ],
      "metadata": {
        "colab": {
          "base_uri": "https://localhost:8080/"
        },
        "id": "3xDoTvA6qB5k",
        "outputId": "57db49ec-c330-4a4a-9502-74c1e9db4881"
      },
      "execution_count": 34,
      "outputs": [
        {
          "output_type": "stream",
          "name": "stdout",
          "text": [
            "Epoch [1/50], Train Accuracy: 10.1 %, Loss: 2.3428\n",
            "Epoch [1/50], Learning Rate: 0.0001\n",
            "Epoch [2/50], Train Accuracy: 20.7 %, Loss: 2.2705\n",
            "Epoch [2/50], Learning Rate: 0.00208\n",
            "Epoch [3/50], Train Accuracy: 41.0 %, Loss: 1.7888\n",
            "Epoch [3/50], Learning Rate: 0.00406\n",
            "Epoch [4/50], Train Accuracy: 51.4 %, Loss: 1.2176\n",
            "Epoch [4/50], Learning Rate: 0.00604\n",
            "Epoch [5/50], Train Accuracy: 58.3 %, Loss: 1.3319\n",
            "Epoch [5/50], Learning Rate: 0.00802\n",
            "Epoch [6/50], Train Accuracy: 61.0 %, Loss: 1.5627\n",
            "Epoch [6/50], Learning Rate: 0.01\n",
            "Epoch [7/50], Train Accuracy: 62.4 %, Loss: 1.6452\n",
            "Epoch [7/50], Learning Rate: 0.009990232305719944\n",
            "Epoch [8/50], Train Accuracy: 64.8 %, Loss: 0.7591\n",
            "Epoch [8/50], Learning Rate: 0.009960967771506667\n",
            "Epoch [9/50], Train Accuracy: 66.8 %, Loss: 0.7547\n",
            "Epoch [9/50], Learning Rate: 0.00991232189110701\n",
            "Epoch [10/50], Train Accuracy: 65.8 %, Loss: 1.0968\n",
            "Epoch [10/50], Learning Rate: 0.009844486647586723\n",
            "Epoch [11/50], Train Accuracy: 66.7 %, Loss: 1.7497\n",
            "Epoch [11/50], Learning Rate: 0.009757729755661011\n",
            "Epoch [12/50], Train Accuracy: 65.6 %, Loss: 1.1773\n",
            "Epoch [12/50], Learning Rate: 0.009652393605146845\n",
            "Epoch [13/50], Train Accuracy: 72.7 %, Loss: 0.6942\n",
            "Epoch [13/50], Learning Rate: 0.009528893909706798\n",
            "Epoch [14/50], Train Accuracy: 71.1 %, Loss: 0.8554\n",
            "Epoch [14/50], Learning Rate: 0.009387718066217124\n",
            "Epoch [15/50], Train Accuracy: 75.5 %, Loss: 1.7930\n",
            "Epoch [15/50], Learning Rate: 0.009229423231234974\n",
            "Epoch [16/50], Train Accuracy: 70.5 %, Loss: 0.6929\n",
            "Epoch [16/50], Learning Rate: 0.00905463412215599\n",
            "Epoch [17/50], Train Accuracy: 75.8 %, Loss: 0.8041\n",
            "Epoch [17/50], Learning Rate: 0.008864040551740157\n",
            "Epoch [18/50], Train Accuracy: 78.0 %, Loss: 0.3474\n",
            "Epoch [18/50], Learning Rate: 0.008658394705735987\n",
            "Epoch [19/50], Train Accuracy: 77.7 %, Loss: 0.4837\n",
            "Epoch [19/50], Learning Rate: 0.00843850817434701\n",
            "Epoch [20/50], Train Accuracy: 78.2 %, Loss: 3.2238\n",
            "Epoch [20/50], Learning Rate: 0.008205248749256015\n",
            "Epoch [21/50], Train Accuracy: 74.5 %, Loss: 0.1262\n",
            "Epoch [21/50], Learning Rate: 0.007959536998847744\n",
            "Epoch [22/50], Train Accuracy: 77.2 %, Loss: 1.1325\n",
            "Epoch [22/50], Learning Rate: 0.007702342635146034\n",
            "Epoch [23/50], Train Accuracy: 78.4 %, Loss: 1.4675\n",
            "Epoch [23/50], Learning Rate: 0.007434680686803491\n",
            "Epoch [24/50], Train Accuracy: 77.9 %, Loss: 1.3118\n",
            "Epoch [24/50], Learning Rate: 0.0071576074932471105\n",
            "Epoch [25/50], Train Accuracy: 79.5 %, Loss: 0.2405\n",
            "Epoch [25/50], Learning Rate: 0.006872216535789157\n",
            "Epoch [26/50], Train Accuracy: 78.5 %, Loss: 0.4274\n",
            "Epoch [26/50], Learning Rate: 0.006579634122155991\n",
            "Epoch [27/50], Train Accuracy: 80.3 %, Loss: 0.8271\n",
            "Epoch [27/50], Learning Rate: 0.0062810149414660316\n",
            "Epoch [28/50], Train Accuracy: 81.1 %, Loss: 0.7675\n",
            "Epoch [28/50], Learning Rate: 0.005977537507199339\n",
            "Epoch [29/50], Train Accuracy: 78.7 %, Loss: 0.9407\n",
            "Epoch [29/50], Learning Rate: 0.005670399506143308\n",
            "Epoch [30/50], Train Accuracy: 81.4 %, Loss: 1.4119\n",
            "Epoch [30/50], Learning Rate: 0.005360813071670102\n",
            "Epoch [31/50], Train Accuracy: 80.9 %, Loss: 0.8846\n",
            "Epoch [31/50], Learning Rate: 0.005050000000000001\n",
            "Epoch [32/50], Train Accuracy: 83.9 %, Loss: 0.7305\n",
            "Epoch [32/50], Learning Rate: 0.004739186928329899\n",
            "Epoch [33/50], Train Accuracy: 82.4 %, Loss: 0.4626\n",
            "Epoch [33/50], Learning Rate: 0.004429600493856695\n",
            "Epoch [34/50], Train Accuracy: 83.3 %, Loss: 0.5003\n",
            "Epoch [34/50], Learning Rate: 0.0041224624928006635\n",
            "Epoch [35/50], Train Accuracy: 83.8 %, Loss: 1.2531\n",
            "Epoch [35/50], Learning Rate: 0.0038189850585339685\n",
            "Epoch [36/50], Train Accuracy: 82.1 %, Loss: 0.6465\n",
            "Epoch [36/50], Learning Rate: 0.003520365877844012\n",
            "Epoch [37/50], Train Accuracy: 84.4 %, Loss: 0.3314\n",
            "Epoch [37/50], Learning Rate: 0.0032277834642108457\n",
            "Epoch [38/50], Train Accuracy: 86.7 %, Loss: 0.4946\n",
            "Epoch [38/50], Learning Rate: 0.0029423925067528904\n",
            "Epoch [39/50], Train Accuracy: 86.2 %, Loss: 0.3774\n",
            "Epoch [39/50], Learning Rate: 0.002665319313196509\n",
            "Epoch [40/50], Train Accuracy: 86.2 %, Loss: 0.4897\n",
            "Epoch [40/50], Learning Rate: 0.0023976573648539653\n",
            "Epoch [41/50], Train Accuracy: 85.5 %, Loss: 0.1464\n",
            "Epoch [41/50], Learning Rate: 0.0021404630011522584\n",
            "Epoch [42/50], Train Accuracy: 87.0 %, Loss: 0.6174\n",
            "Epoch [42/50], Learning Rate: 0.001894751250743986\n",
            "Epoch [43/50], Train Accuracy: 85.6 %, Loss: 0.9340\n",
            "Epoch [43/50], Learning Rate: 0.001661491825652991\n",
            "Epoch [44/50], Train Accuracy: 86.4 %, Loss: 0.3098\n",
            "Epoch [44/50], Learning Rate: 0.001441605294264014\n",
            "Epoch [45/50], Train Accuracy: 87.2 %, Loss: 0.7013\n",
            "Epoch [45/50], Learning Rate: 0.001235959448259844\n",
            "Epoch [46/50], Train Accuracy: 85.7 %, Loss: 0.3344\n",
            "Epoch [46/50], Learning Rate: 0.0010453658778440107\n",
            "Epoch [47/50], Train Accuracy: 88.3 %, Loss: 0.7940\n",
            "Epoch [47/50], Learning Rate: 0.0008705767687650265\n",
            "Epoch [48/50], Train Accuracy: 86.9 %, Loss: 0.9122\n",
            "Epoch [48/50], Learning Rate: 0.0007122819337828754\n",
            "Epoch [49/50], Train Accuracy: 87.6 %, Loss: 0.6845\n",
            "Epoch [49/50], Learning Rate: 0.0005711060902932043\n",
            "Epoch [50/50], Train Accuracy: 87.3 %, Loss: 0.7970\n",
            "Epoch [50/50], Learning Rate: 0.00044760639485315584\n"
          ]
        }
      ]
    },
    {
      "cell_type": "code",
      "source": [
        "# モデルの刈り込み率を計算する関数を作成\n",
        "def calculate_pruned_ratio(model):\n",
        "    total_weights = 0\n",
        "    total_pruned_weights = 0\n",
        "\n",
        "    for module in model.modules():\n",
        "        # モジュールがSupermaskConvであるか確認\n",
        "        if isinstance(module, SupermaskConv):\n",
        "            # SupermaskConv層の重みを取得\n",
        "            weight = module.weight.data\n",
        "            # 刈り込みを適用した後の重みを取得\n",
        "            subnet = GetSubnet.apply(module.clamped_scores, 1 - module.prune_rate)\n",
        "            pruned_weight = weight * subnet\n",
        "            # 0である要素数を計算\n",
        "            pruned_weights_count = (pruned_weight == 0).sum().item()\n",
        "            total_pruned_weights += pruned_weights_count\n",
        "            # 重みの全要素数を計算\n",
        "            total_weights_count = pruned_weight.numel()\n",
        "            total_weights += total_weights_count\n",
        "\n",
        "    # 刈り込みが行われた割合を計算\n",
        "    pruned_ratio = total_pruned_weights / total_weights\n",
        "    return print(f\"刈り込み率は{pruned_ratio:.3f}です\")\n",
        "\n",
        "# モデルの刈り込み率を確認\n",
        "calculate_pruned_ratio(model)"
      ],
      "metadata": {
        "colab": {
          "base_uri": "https://localhost:8080/"
        },
        "outputId": "ebdb4b38-ae5e-4523-dbcd-e2589c01b737",
        "id": "n3NzFshJp6FR"
      },
      "execution_count": 35,
      "outputs": [
        {
          "output_type": "stream",
          "name": "stdout",
          "text": [
            "刈り込み率は0.950です\n"
          ]
        }
      ]
    },
    {
      "cell_type": "code",
      "source": [
        "# 学習前後のモデルのスコアを比較する関数を作成\n",
        "def check_scores_change(model, model_init):\n",
        "    # 各モデルの名前付きモジュールを順に調べる\n",
        "    for (name, module), (name_init, module_init) in zip(model.named_modules(), model_init.named_modules()):\n",
        "        # 両モジュールがConv2dのインスタンスであるかを確認\n",
        "        if isinstance(module, torch.nn.Conv2d) and isinstance(module_init, torch.nn.Conv2d):\n",
        "            # 両モジュールが'scores'属性を持っているかを確認\n",
        "            if hasattr(module, 'scores') and hasattr(module_init, 'scores'):\n",
        "                # 両モジュールの'scores'属性が一致しているかを確認\n",
        "                # 一致していない場合、変更があったことを示すメッセージを出力\n",
        "                if not torch.equal(module.scores, module_init.scores):\n",
        "                    print(f'{name}のスコアが変化しています')\n",
        "                    return\n",
        "    # すべてのconv層で'scores'が変更されていない場合、その旨を出力\n",
        "    print('すべてのスコアは変化していません')\n",
        "\n",
        "# 学習前後でモデルのスコアが変化していないかを確認\n",
        "check_scores_change(model, model_init)"
      ],
      "metadata": {
        "colab": {
          "base_uri": "https://localhost:8080/"
        },
        "outputId": "025ce435-10f4-48fe-da5a-bf4c2194699b",
        "id": "CpNLpONSp6FS"
      },
      "execution_count": 36,
      "outputs": [
        {
          "output_type": "stream",
          "name": "stdout",
          "text": [
            "すべてのスコアは変化していません\n"
          ]
        }
      ]
    },
    {
      "cell_type": "code",
      "source": [
        "# 学習前後のモデルの最終層以外の重みを比較する関数を作成\n",
        "def check_weight_change_except_last(model, model_init):\n",
        "    for (name, param), (name_init, param_init) in zip(model.named_parameters(), model_init.named_parameters()):\n",
        "        # 最終層を除く\n",
        "        if name != 'fc.weight' and name != 'fc.bias':\n",
        "            weights_changed = (param.data != param_init.data).any()\n",
        "            if weights_changed:\n",
        "                return print('最終層以外の重みが変化しています')\n",
        "    return print('最終層以外の重みは変化していません')\n",
        "\n",
        "# 学習前後でモデルの最終層以外の重みが変化していないかを確認\n",
        "check_weight_change_except_last(model, model_init)"
      ],
      "metadata": {
        "colab": {
          "base_uri": "https://localhost:8080/"
        },
        "outputId": "32b48a05-0c36-498d-b961-f8ac032f95f6",
        "id": "ZzTrzJ3ip6FS"
      },
      "execution_count": 37,
      "outputs": [
        {
          "output_type": "stream",
          "name": "stdout",
          "text": [
            "最終層以外の重みは変化していません\n"
          ]
        }
      ]
    },
    {
      "cell_type": "code",
      "source": [
        "# モデルの評価\n",
        "model.eval()\n",
        "with torch.no_grad():\n",
        "    total = 0\n",
        "    correct = 0\n",
        "    for images, labels in test_loader_handsigns:\n",
        "        images = images.to(device)\n",
        "        labels = labels.to(device)\n",
        "        outputs = model(images)\n",
        "        _, predicted = torch.max(outputs.data, 1)\n",
        "        total += labels.size(0)\n",
        "        correct += (predicted == labels).sum().item()\n",
        "    # 正解率精度の確認\n",
        "    print('Test Accuracy: {} %'.format(100 * correct / total))"
      ],
      "metadata": {
        "colab": {
          "base_uri": "https://localhost:8080/"
        },
        "outputId": "cbfddd72-24be-438b-877e-4573902d5a2b",
        "id": "shsBdnlYp6FS"
      },
      "execution_count": 38,
      "outputs": [
        {
          "output_type": "stream",
          "name": "stdout",
          "text": [
            "Test Accuracy: 87.0 %\n"
          ]
        }
      ]
    },
    {
      "cell_type": "code",
      "source": [
        "# GPUメモリの解放\n",
        "del model, model_init\n",
        "torch.cuda.empty_cache()"
      ],
      "metadata": {
        "id": "M5kErUQsp6FS"
      },
      "execution_count": 39,
      "outputs": []
    },
    {
      "cell_type": "markdown",
      "source": [
        "### prune_rate=0.9"
      ],
      "metadata": {
        "id": "JZemFpwOqHR-"
      }
    },
    {
      "cell_type": "code",
      "source": [
        "# デバイスを設定\n",
        "device = torch.device('cuda' if torch.cuda.is_available() else 'cpu')\n",
        "# モデルを定義\n",
        "model = torch.load('/content/drive/MyDrive/SupermaskWideResNet28_10_CIFAR100_100epochs_pr0.9_uniform_CLRS_restest.pth')\n",
        "# 最終層を変更\n",
        "model.fc = nn.Linear(model.fc.in_features, 10)\n",
        "# 最終層以外のパラメータの勾配計算を停止\n",
        "for param in model.parameters():\n",
        "    param.requires_grad = False\n",
        "# 最終層のパラメータのみを学習するように設定\n",
        "for param in model.fc.parameters():\n",
        "    param.requires_grad = True\n",
        "# モデルをデバイスに転送\n",
        "model = model.to(device)\n",
        "# 変更後のモデルの重みを保存\n",
        "model_init = copy.deepcopy(model)\n",
        "\n",
        "# 学習率を設定\n",
        "learning_rate = 0.01\n",
        "# 全体のepoch数を設定\n",
        "num_epochs = 50\n",
        "# warm-upするepoch数を設定\n",
        "warmup_epochs = 5\n",
        "\n",
        "# 損失関数を定義\n",
        "criterion = nn.CrossEntropyLoss()\n",
        "# オプティマイザーを設定\n",
        "optimizer = optim.Adam(model.fc.parameters(), lr=learning_rate)\n",
        "# スケジューラーを設定\n",
        "scheduler = CosineLRScheduler(optimizer, t_initial=num_epochs, lr_min=1e-4, warmup_t=warmup_epochs, warmup_lr_init=1e-4, warmup_prefix=True)\n",
        "\n",
        "# モデルの学習\n",
        "for epoch in range(num_epochs):\n",
        "    total = 0\n",
        "    correct = 0\n",
        "    for i, (images, labels) in enumerate(train_loader_handsigns):\n",
        "        images = images.to(device)\n",
        "        labels = labels.to(device)\n",
        "        # 順伝播\n",
        "        outputs = model(images)\n",
        "        loss = criterion(outputs, labels)\n",
        "        # 逆伝播\n",
        "        optimizer.zero_grad()\n",
        "        loss.backward()\n",
        "        optimizer.step()\n",
        "        _, predicted = torch.max(outputs.data, 1)\n",
        "        # 全データ数\n",
        "        total += labels.size(0)\n",
        "        # 正解数\n",
        "        correct += (predicted == labels).sum().item()\n",
        "    # 正解率精度を計算\n",
        "    train_acc = 100 * correct / total\n",
        "    # 正解率精度と損失を確認\n",
        "    print(\"Epoch [{}/{}], Train Accuracy: {} %, Loss: {:.4f}\".format(epoch+1, num_epochs, 100 * correct / total, loss.item()))\n",
        "    # 1エポック終了後にスケジューラーを更新\n",
        "    scheduler.step(epoch)\n",
        "    # 学習率の確認\n",
        "    print(\"Epoch [{}/{}], Learning Rate: {}\".format(epoch+1, num_epochs, optimizer.param_groups[0]['lr']))\n",
        "\n",
        "\n",
        "# モデルを保存\n",
        "torch.save(model, '/content/drive/MyDrive/SupermaskWideResNet28_10_HandSigns_from_CIFAR100_100epochs_pr0.9_uniform_50epochs_lr0.01_CLRS_restest.pth')"
      ],
      "metadata": {
        "id": "IH0Apj5PqHR-",
        "colab": {
          "base_uri": "https://localhost:8080/"
        },
        "outputId": "d65eb5e1-ad6d-45e4-9016-e8e85973bfa1"
      },
      "execution_count": 40,
      "outputs": [
        {
          "output_type": "stream",
          "name": "stdout",
          "text": [
            "Epoch [1/50], Train Accuracy: 13.3 %, Loss: 2.1887\n",
            "Epoch [1/50], Learning Rate: 0.0001\n",
            "Epoch [2/50], Train Accuracy: 25.5 %, Loss: 2.2162\n",
            "Epoch [2/50], Learning Rate: 0.00208\n",
            "Epoch [3/50], Train Accuracy: 40.7 %, Loss: 1.4023\n",
            "Epoch [3/50], Learning Rate: 0.00406\n",
            "Epoch [4/50], Train Accuracy: 55.9 %, Loss: 1.2182\n",
            "Epoch [4/50], Learning Rate: 0.00604\n",
            "Epoch [5/50], Train Accuracy: 59.6 %, Loss: 0.6903\n",
            "Epoch [5/50], Learning Rate: 0.00802\n",
            "Epoch [6/50], Train Accuracy: 64.8 %, Loss: 1.3975\n",
            "Epoch [6/50], Learning Rate: 0.01\n",
            "Epoch [7/50], Train Accuracy: 65.8 %, Loss: 1.7481\n",
            "Epoch [7/50], Learning Rate: 0.009990232305719944\n",
            "Epoch [8/50], Train Accuracy: 64.4 %, Loss: 1.1170\n",
            "Epoch [8/50], Learning Rate: 0.009960967771506667\n",
            "Epoch [9/50], Train Accuracy: 67.4 %, Loss: 1.1762\n",
            "Epoch [9/50], Learning Rate: 0.00991232189110701\n",
            "Epoch [10/50], Train Accuracy: 71.1 %, Loss: 1.3206\n",
            "Epoch [10/50], Learning Rate: 0.009844486647586723\n",
            "Epoch [11/50], Train Accuracy: 72.6 %, Loss: 1.6867\n",
            "Epoch [11/50], Learning Rate: 0.009757729755661011\n",
            "Epoch [12/50], Train Accuracy: 76.0 %, Loss: 1.1932\n",
            "Epoch [12/50], Learning Rate: 0.009652393605146845\n",
            "Epoch [13/50], Train Accuracy: 74.8 %, Loss: 0.8186\n",
            "Epoch [13/50], Learning Rate: 0.009528893909706798\n",
            "Epoch [14/50], Train Accuracy: 77.2 %, Loss: 0.6964\n",
            "Epoch [14/50], Learning Rate: 0.009387718066217124\n",
            "Epoch [15/50], Train Accuracy: 77.9 %, Loss: 1.4053\n",
            "Epoch [15/50], Learning Rate: 0.009229423231234974\n",
            "Epoch [16/50], Train Accuracy: 77.2 %, Loss: 1.7851\n",
            "Epoch [16/50], Learning Rate: 0.00905463412215599\n",
            "Epoch [17/50], Train Accuracy: 73.8 %, Loss: 0.5283\n",
            "Epoch [17/50], Learning Rate: 0.008864040551740157\n",
            "Epoch [18/50], Train Accuracy: 78.7 %, Loss: 1.4323\n",
            "Epoch [18/50], Learning Rate: 0.008658394705735987\n",
            "Epoch [19/50], Train Accuracy: 77.2 %, Loss: 0.5974\n",
            "Epoch [19/50], Learning Rate: 0.00843850817434701\n",
            "Epoch [20/50], Train Accuracy: 77.5 %, Loss: 0.7721\n",
            "Epoch [20/50], Learning Rate: 0.008205248749256015\n",
            "Epoch [21/50], Train Accuracy: 76.7 %, Loss: 0.2006\n",
            "Epoch [21/50], Learning Rate: 0.007959536998847744\n",
            "Epoch [22/50], Train Accuracy: 77.9 %, Loss: 0.9970\n",
            "Epoch [22/50], Learning Rate: 0.007702342635146034\n",
            "Epoch [23/50], Train Accuracy: 79.8 %, Loss: 0.0595\n",
            "Epoch [23/50], Learning Rate: 0.007434680686803491\n",
            "Epoch [24/50], Train Accuracy: 80.2 %, Loss: 0.5584\n",
            "Epoch [24/50], Learning Rate: 0.0071576074932471105\n",
            "Epoch [25/50], Train Accuracy: 79.0 %, Loss: 1.3877\n",
            "Epoch [25/50], Learning Rate: 0.006872216535789157\n",
            "Epoch [26/50], Train Accuracy: 80.2 %, Loss: 1.1333\n",
            "Epoch [26/50], Learning Rate: 0.006579634122155991\n",
            "Epoch [27/50], Train Accuracy: 80.4 %, Loss: 0.1793\n",
            "Epoch [27/50], Learning Rate: 0.0062810149414660316\n",
            "Epoch [28/50], Train Accuracy: 84.4 %, Loss: 1.9206\n",
            "Epoch [28/50], Learning Rate: 0.005977537507199339\n",
            "Epoch [29/50], Train Accuracy: 81.4 %, Loss: 0.2736\n",
            "Epoch [29/50], Learning Rate: 0.005670399506143308\n",
            "Epoch [30/50], Train Accuracy: 83.3 %, Loss: 0.5197\n",
            "Epoch [30/50], Learning Rate: 0.005360813071670102\n",
            "Epoch [31/50], Train Accuracy: 81.8 %, Loss: 0.9640\n",
            "Epoch [31/50], Learning Rate: 0.005050000000000001\n",
            "Epoch [32/50], Train Accuracy: 85.9 %, Loss: 0.3539\n",
            "Epoch [32/50], Learning Rate: 0.004739186928329899\n",
            "Epoch [33/50], Train Accuracy: 84.2 %, Loss: 0.6531\n",
            "Epoch [33/50], Learning Rate: 0.004429600493856695\n",
            "Epoch [34/50], Train Accuracy: 84.3 %, Loss: 0.5592\n",
            "Epoch [34/50], Learning Rate: 0.0041224624928006635\n",
            "Epoch [35/50], Train Accuracy: 84.8 %, Loss: 0.5468\n",
            "Epoch [35/50], Learning Rate: 0.0038189850585339685\n",
            "Epoch [36/50], Train Accuracy: 85.3 %, Loss: 1.2332\n",
            "Epoch [36/50], Learning Rate: 0.003520365877844012\n",
            "Epoch [37/50], Train Accuracy: 85.4 %, Loss: 0.2447\n",
            "Epoch [37/50], Learning Rate: 0.0032277834642108457\n",
            "Epoch [38/50], Train Accuracy: 87.1 %, Loss: 0.1809\n",
            "Epoch [38/50], Learning Rate: 0.0029423925067528904\n",
            "Epoch [39/50], Train Accuracy: 86.1 %, Loss: 0.4503\n",
            "Epoch [39/50], Learning Rate: 0.002665319313196509\n",
            "Epoch [40/50], Train Accuracy: 85.9 %, Loss: 0.7912\n",
            "Epoch [40/50], Learning Rate: 0.0023976573648539653\n",
            "Epoch [41/50], Train Accuracy: 86.9 %, Loss: 0.3051\n",
            "Epoch [41/50], Learning Rate: 0.0021404630011522584\n",
            "Epoch [42/50], Train Accuracy: 87.3 %, Loss: 0.2262\n",
            "Epoch [42/50], Learning Rate: 0.001894751250743986\n",
            "Epoch [43/50], Train Accuracy: 87.0 %, Loss: 0.4881\n",
            "Epoch [43/50], Learning Rate: 0.001661491825652991\n",
            "Epoch [44/50], Train Accuracy: 89.6 %, Loss: 0.5394\n",
            "Epoch [44/50], Learning Rate: 0.001441605294264014\n",
            "Epoch [45/50], Train Accuracy: 87.2 %, Loss: 0.5674\n",
            "Epoch [45/50], Learning Rate: 0.001235959448259844\n",
            "Epoch [46/50], Train Accuracy: 88.2 %, Loss: 0.2390\n",
            "Epoch [46/50], Learning Rate: 0.0010453658778440107\n",
            "Epoch [47/50], Train Accuracy: 88.7 %, Loss: 0.3032\n",
            "Epoch [47/50], Learning Rate: 0.0008705767687650265\n",
            "Epoch [48/50], Train Accuracy: 87.2 %, Loss: 0.7070\n",
            "Epoch [48/50], Learning Rate: 0.0007122819337828754\n",
            "Epoch [49/50], Train Accuracy: 87.6 %, Loss: 0.1306\n",
            "Epoch [49/50], Learning Rate: 0.0005711060902932043\n",
            "Epoch [50/50], Train Accuracy: 89.1 %, Loss: 0.8935\n",
            "Epoch [50/50], Learning Rate: 0.00044760639485315584\n"
          ]
        }
      ]
    },
    {
      "cell_type": "code",
      "source": [
        "# モデルの刈り込み率を計算する関数を作成\n",
        "def calculate_pruned_ratio(model):\n",
        "    total_weights = 0\n",
        "    total_pruned_weights = 0\n",
        "\n",
        "    for module in model.modules():\n",
        "        # モジュールがSupermaskConvであるか確認\n",
        "        if isinstance(module, SupermaskConv):\n",
        "            # SupermaskConv層の重みを取得\n",
        "            weight = module.weight.data\n",
        "            # 刈り込みを適用した後の重みを取得\n",
        "            subnet = GetSubnet.apply(module.clamped_scores, 1 - module.prune_rate)\n",
        "            pruned_weight = weight * subnet\n",
        "            # 0である要素数を計算\n",
        "            pruned_weights_count = (pruned_weight == 0).sum().item()\n",
        "            total_pruned_weights += pruned_weights_count\n",
        "            # 重みの全要素数を計算\n",
        "            total_weights_count = pruned_weight.numel()\n",
        "            total_weights += total_weights_count\n",
        "\n",
        "    # 刈り込みが行われた割合を計算\n",
        "    pruned_ratio = total_pruned_weights / total_weights\n",
        "    return print(f\"刈り込み率は{pruned_ratio:.3f}です\")\n",
        "\n",
        "# モデルの刈り込み率を確認\n",
        "calculate_pruned_ratio(model)"
      ],
      "metadata": {
        "id": "tbX-WoiHqHR_",
        "colab": {
          "base_uri": "https://localhost:8080/"
        },
        "outputId": "be299c76-302f-4811-cca1-12d328503af0"
      },
      "execution_count": 41,
      "outputs": [
        {
          "output_type": "stream",
          "name": "stdout",
          "text": [
            "刈り込み率は0.900です\n"
          ]
        }
      ]
    },
    {
      "cell_type": "code",
      "source": [
        "# 学習前後のモデルのスコアを比較する関数を作成\n",
        "def check_scores_change(model, model_init):\n",
        "    # 各モデルの名前付きモジュールを順に調べる\n",
        "    for (name, module), (name_init, module_init) in zip(model.named_modules(), model_init.named_modules()):\n",
        "        # 両モジュールがConv2dのインスタンスであるかを確認\n",
        "        if isinstance(module, torch.nn.Conv2d) and isinstance(module_init, torch.nn.Conv2d):\n",
        "            # 両モジュールが'scores'属性を持っているかを確認\n",
        "            if hasattr(module, 'scores') and hasattr(module_init, 'scores'):\n",
        "                # 両モジュールの'scores'属性が一致しているかを確認\n",
        "                # 一致していない場合、変更があったことを示すメッセージを出力\n",
        "                if not torch.equal(module.scores, module_init.scores):\n",
        "                    print(f'{name}のスコアが変化しています')\n",
        "                    return\n",
        "    # すべてのconv層で'scores'が変更されていない場合、その旨を出力\n",
        "    print('すべてのスコアは変化していません')\n",
        "\n",
        "# 学習前後でモデルのスコアが変化していないかを確認\n",
        "check_scores_change(model, model_init)"
      ],
      "metadata": {
        "id": "Dy8h6ktHqHR_",
        "colab": {
          "base_uri": "https://localhost:8080/"
        },
        "outputId": "f931f8c8-9812-4993-bb8e-bab0974eb17e"
      },
      "execution_count": 42,
      "outputs": [
        {
          "output_type": "stream",
          "name": "stdout",
          "text": [
            "すべてのスコアは変化していません\n"
          ]
        }
      ]
    },
    {
      "cell_type": "code",
      "source": [
        "# 学習前後のモデルの最終層以外の重みを比較する関数を作成\n",
        "def check_weight_change_except_last(model, model_init):\n",
        "    for (name, param), (name_init, param_init) in zip(model.named_parameters(), model_init.named_parameters()):\n",
        "        # 最終層を除く\n",
        "        if name != 'fc.weight' and name != 'fc.bias':\n",
        "            weights_changed = (param.data != param_init.data).any()\n",
        "            if weights_changed:\n",
        "                return print('最終層以外の重みが変化しています')\n",
        "    return print('最終層以外の重みは変化していません')\n",
        "\n",
        "# 学習前後でモデルの最終層以外の重みが変化していないかを確認\n",
        "check_weight_change_except_last(model, model_init)"
      ],
      "metadata": {
        "id": "HWqTGq1DqHR_",
        "colab": {
          "base_uri": "https://localhost:8080/"
        },
        "outputId": "4969dcda-b60b-4f91-accd-aa87792d4e67"
      },
      "execution_count": 43,
      "outputs": [
        {
          "output_type": "stream",
          "name": "stdout",
          "text": [
            "最終層以外の重みは変化していません\n"
          ]
        }
      ]
    },
    {
      "cell_type": "code",
      "source": [
        "# モデルの評価\n",
        "model.eval()\n",
        "with torch.no_grad():\n",
        "    total = 0\n",
        "    correct = 0\n",
        "    for images, labels in test_loader_handsigns:\n",
        "        images = images.to(device)\n",
        "        labels = labels.to(device)\n",
        "        outputs = model(images)\n",
        "        _, predicted = torch.max(outputs.data, 1)\n",
        "        total += labels.size(0)\n",
        "        correct += (predicted == labels).sum().item()\n",
        "    # 正解率精度の確認\n",
        "    print('Test Accuracy: {} %'.format(100 * correct / total))"
      ],
      "metadata": {
        "id": "z4BAg4wpqHSA",
        "colab": {
          "base_uri": "https://localhost:8080/"
        },
        "outputId": "27176938-8a2a-4ead-fca2-356c11454744"
      },
      "execution_count": 44,
      "outputs": [
        {
          "output_type": "stream",
          "name": "stdout",
          "text": [
            "Test Accuracy: 83.0 %\n"
          ]
        }
      ]
    },
    {
      "cell_type": "code",
      "source": [
        "# GPUメモリの解放\n",
        "del model, model_init\n",
        "torch.cuda.empty_cache()"
      ],
      "metadata": {
        "id": "Hb_KVRnsqHSA"
      },
      "execution_count": 45,
      "outputs": []
    },
    {
      "cell_type": "markdown",
      "source": [
        "### prune_rate=0.7"
      ],
      "metadata": {
        "id": "Y4UVvVqgqNiG"
      }
    },
    {
      "cell_type": "code",
      "source": [
        "# デバイスを設定\n",
        "device = torch.device('cuda' if torch.cuda.is_available() else 'cpu')\n",
        "# モデルを定義\n",
        "model = torch.load('/content/drive/MyDrive/SupermaskWideResNet28_10_CIFAR100_100epochs_pr0.7_uniform_CLRS_restest.pth')\n",
        "# 最終層を変更\n",
        "model.fc = nn.Linear(model.fc.in_features, 10)\n",
        "# 最終層以外のパラメータの勾配計算を停止\n",
        "for param in model.parameters():\n",
        "    param.requires_grad = False\n",
        "# 最終層のパラメータのみを学習するように設定\n",
        "for param in model.fc.parameters():\n",
        "    param.requires_grad = True\n",
        "# モデルをデバイスに転送\n",
        "model = model.to(device)\n",
        "# 変更後のモデルの重みを保存\n",
        "model_init = copy.deepcopy(model)\n",
        "\n",
        "# 学習率を設定\n",
        "learning_rate = 0.01\n",
        "# 全体のepoch数を設定\n",
        "num_epochs = 50\n",
        "# warm-upするepoch数を設定\n",
        "warmup_epochs = 5\n",
        "\n",
        "# 損失関数を定義\n",
        "criterion = nn.CrossEntropyLoss()\n",
        "# オプティマイザーを設定\n",
        "optimizer = optim.Adam(model.fc.parameters(), lr=learning_rate)\n",
        "# スケジューラーを設定\n",
        "scheduler = CosineLRScheduler(optimizer, t_initial=num_epochs, lr_min=1e-4, warmup_t=warmup_epochs, warmup_lr_init=1e-4, warmup_prefix=True)\n",
        "\n",
        "# モデルの学習\n",
        "for epoch in range(num_epochs):\n",
        "    total = 0\n",
        "    correct = 0\n",
        "    for i, (images, labels) in enumerate(train_loader_handsigns):\n",
        "        images = images.to(device)\n",
        "        labels = labels.to(device)\n",
        "        # 順伝播\n",
        "        outputs = model(images)\n",
        "        loss = criterion(outputs, labels)\n",
        "        # 逆伝播\n",
        "        optimizer.zero_grad()\n",
        "        loss.backward()\n",
        "        optimizer.step()\n",
        "        _, predicted = torch.max(outputs.data, 1)\n",
        "        # 全データ数\n",
        "        total += labels.size(0)\n",
        "        # 正解数\n",
        "        correct += (predicted == labels).sum().item()\n",
        "    # 正解率精度を計算\n",
        "    train_acc = 100 * correct / total\n",
        "    # 正解率精度と損失を確認\n",
        "    print(\"Epoch [{}/{}], Train Accuracy: {} %, Loss: {:.4f}\".format(epoch+1, num_epochs, 100 * correct / total, loss.item()))\n",
        "    # 1エポック終了後にスケジューラーを更新\n",
        "    scheduler.step(epoch)\n",
        "    # 学習率の確認\n",
        "    print(\"Epoch [{}/{}], Learning Rate: {}\".format(epoch+1, num_epochs, optimizer.param_groups[0]['lr']))\n",
        "\n",
        "\n",
        "# モデルを保存\n",
        "torch.save(model, '/content/drive/MyDrive/SupermaskWideResNet28_10_HandSigns_from_CIFAR100_100epochs_pr0.7_uniform_50epochs_lr0.01_CLRS_restest.pth')"
      ],
      "metadata": {
        "colab": {
          "base_uri": "https://localhost:8080/"
        },
        "id": "nxuTMT2UqNiH",
        "outputId": "d5ce401b-a425-46da-b395-c698ad45f935"
      },
      "execution_count": 46,
      "outputs": [
        {
          "output_type": "stream",
          "name": "stdout",
          "text": [
            "Epoch [1/50], Train Accuracy: 14.1 %, Loss: 2.2238\n",
            "Epoch [1/50], Learning Rate: 0.0001\n",
            "Epoch [2/50], Train Accuracy: 27.4 %, Loss: 2.2502\n",
            "Epoch [2/50], Learning Rate: 0.00208\n",
            "Epoch [3/50], Train Accuracy: 41.4 %, Loss: 1.8784\n",
            "Epoch [3/50], Learning Rate: 0.00406\n",
            "Epoch [4/50], Train Accuracy: 54.7 %, Loss: 1.2482\n",
            "Epoch [4/50], Learning Rate: 0.00604\n",
            "Epoch [5/50], Train Accuracy: 56.1 %, Loss: 1.4110\n",
            "Epoch [5/50], Learning Rate: 0.00802\n",
            "Epoch [6/50], Train Accuracy: 62.2 %, Loss: 1.9865\n",
            "Epoch [6/50], Learning Rate: 0.01\n",
            "Epoch [7/50], Train Accuracy: 62.0 %, Loss: 0.7834\n",
            "Epoch [7/50], Learning Rate: 0.009990232305719944\n",
            "Epoch [8/50], Train Accuracy: 68.5 %, Loss: 0.6342\n",
            "Epoch [8/50], Learning Rate: 0.009960967771506667\n",
            "Epoch [9/50], Train Accuracy: 69.4 %, Loss: 0.9412\n",
            "Epoch [9/50], Learning Rate: 0.00991232189110701\n",
            "Epoch [10/50], Train Accuracy: 71.2 %, Loss: 0.3773\n",
            "Epoch [10/50], Learning Rate: 0.009844486647586723\n",
            "Epoch [11/50], Train Accuracy: 70.8 %, Loss: 0.8319\n",
            "Epoch [11/50], Learning Rate: 0.009757729755661011\n",
            "Epoch [12/50], Train Accuracy: 68.0 %, Loss: 0.9529\n",
            "Epoch [12/50], Learning Rate: 0.009652393605146845\n",
            "Epoch [13/50], Train Accuracy: 71.8 %, Loss: 1.3272\n",
            "Epoch [13/50], Learning Rate: 0.009528893909706798\n",
            "Epoch [14/50], Train Accuracy: 74.9 %, Loss: 0.6040\n",
            "Epoch [14/50], Learning Rate: 0.009387718066217124\n",
            "Epoch [15/50], Train Accuracy: 75.2 %, Loss: 0.9812\n",
            "Epoch [15/50], Learning Rate: 0.009229423231234974\n",
            "Epoch [16/50], Train Accuracy: 74.4 %, Loss: 0.7171\n",
            "Epoch [16/50], Learning Rate: 0.00905463412215599\n",
            "Epoch [17/50], Train Accuracy: 74.6 %, Loss: 2.0453\n",
            "Epoch [17/50], Learning Rate: 0.008864040551740157\n",
            "Epoch [18/50], Train Accuracy: 72.9 %, Loss: 1.2293\n",
            "Epoch [18/50], Learning Rate: 0.008658394705735987\n",
            "Epoch [19/50], Train Accuracy: 75.8 %, Loss: 0.6750\n",
            "Epoch [19/50], Learning Rate: 0.00843850817434701\n",
            "Epoch [20/50], Train Accuracy: 75.5 %, Loss: 1.0950\n",
            "Epoch [20/50], Learning Rate: 0.008205248749256015\n",
            "Epoch [21/50], Train Accuracy: 80.6 %, Loss: 1.4567\n",
            "Epoch [21/50], Learning Rate: 0.007959536998847744\n",
            "Epoch [22/50], Train Accuracy: 80.2 %, Loss: 0.4839\n",
            "Epoch [22/50], Learning Rate: 0.007702342635146034\n",
            "Epoch [23/50], Train Accuracy: 79.5 %, Loss: 1.8033\n",
            "Epoch [23/50], Learning Rate: 0.007434680686803491\n",
            "Epoch [24/50], Train Accuracy: 79.0 %, Loss: 0.3392\n",
            "Epoch [24/50], Learning Rate: 0.0071576074932471105\n",
            "Epoch [25/50], Train Accuracy: 80.4 %, Loss: 1.0313\n",
            "Epoch [25/50], Learning Rate: 0.006872216535789157\n",
            "Epoch [26/50], Train Accuracy: 80.5 %, Loss: 0.3746\n",
            "Epoch [26/50], Learning Rate: 0.006579634122155991\n",
            "Epoch [27/50], Train Accuracy: 80.6 %, Loss: 1.3340\n",
            "Epoch [27/50], Learning Rate: 0.0062810149414660316\n",
            "Epoch [28/50], Train Accuracy: 80.9 %, Loss: 0.6659\n",
            "Epoch [28/50], Learning Rate: 0.005977537507199339\n",
            "Epoch [29/50], Train Accuracy: 81.6 %, Loss: 0.7919\n",
            "Epoch [29/50], Learning Rate: 0.005670399506143308\n",
            "Epoch [30/50], Train Accuracy: 83.5 %, Loss: 0.2381\n",
            "Epoch [30/50], Learning Rate: 0.005360813071670102\n",
            "Epoch [31/50], Train Accuracy: 83.7 %, Loss: 0.4081\n",
            "Epoch [31/50], Learning Rate: 0.005050000000000001\n",
            "Epoch [32/50], Train Accuracy: 81.9 %, Loss: 0.9184\n",
            "Epoch [32/50], Learning Rate: 0.004739186928329899\n",
            "Epoch [33/50], Train Accuracy: 82.2 %, Loss: 1.1753\n",
            "Epoch [33/50], Learning Rate: 0.004429600493856695\n",
            "Epoch [34/50], Train Accuracy: 83.6 %, Loss: 0.1824\n",
            "Epoch [34/50], Learning Rate: 0.0041224624928006635\n",
            "Epoch [35/50], Train Accuracy: 83.4 %, Loss: 0.3161\n",
            "Epoch [35/50], Learning Rate: 0.0038189850585339685\n",
            "Epoch [36/50], Train Accuracy: 83.2 %, Loss: 1.5929\n",
            "Epoch [36/50], Learning Rate: 0.003520365877844012\n",
            "Epoch [37/50], Train Accuracy: 84.5 %, Loss: 0.2192\n",
            "Epoch [37/50], Learning Rate: 0.0032277834642108457\n",
            "Epoch [38/50], Train Accuracy: 87.0 %, Loss: 0.2803\n",
            "Epoch [38/50], Learning Rate: 0.0029423925067528904\n",
            "Epoch [39/50], Train Accuracy: 88.6 %, Loss: 0.5782\n",
            "Epoch [39/50], Learning Rate: 0.002665319313196509\n",
            "Epoch [40/50], Train Accuracy: 86.8 %, Loss: 0.1730\n",
            "Epoch [40/50], Learning Rate: 0.0023976573648539653\n",
            "Epoch [41/50], Train Accuracy: 87.7 %, Loss: 0.1506\n",
            "Epoch [41/50], Learning Rate: 0.0021404630011522584\n",
            "Epoch [42/50], Train Accuracy: 88.4 %, Loss: 0.1538\n",
            "Epoch [42/50], Learning Rate: 0.001894751250743986\n",
            "Epoch [43/50], Train Accuracy: 85.9 %, Loss: 0.8233\n",
            "Epoch [43/50], Learning Rate: 0.001661491825652991\n",
            "Epoch [44/50], Train Accuracy: 88.0 %, Loss: 0.5894\n",
            "Epoch [44/50], Learning Rate: 0.001441605294264014\n",
            "Epoch [45/50], Train Accuracy: 89.8 %, Loss: 0.1751\n",
            "Epoch [45/50], Learning Rate: 0.001235959448259844\n",
            "Epoch [46/50], Train Accuracy: 88.6 %, Loss: 0.2476\n",
            "Epoch [46/50], Learning Rate: 0.0010453658778440107\n",
            "Epoch [47/50], Train Accuracy: 89.9 %, Loss: 0.2084\n",
            "Epoch [47/50], Learning Rate: 0.0008705767687650265\n",
            "Epoch [48/50], Train Accuracy: 88.5 %, Loss: 0.2595\n",
            "Epoch [48/50], Learning Rate: 0.0007122819337828754\n",
            "Epoch [49/50], Train Accuracy: 87.4 %, Loss: 0.6643\n",
            "Epoch [49/50], Learning Rate: 0.0005711060902932043\n",
            "Epoch [50/50], Train Accuracy: 89.2 %, Loss: 0.0415\n",
            "Epoch [50/50], Learning Rate: 0.00044760639485315584\n"
          ]
        }
      ]
    },
    {
      "cell_type": "code",
      "source": [
        "# モデルの刈り込み率を計算する関数を作成\n",
        "def calculate_pruned_ratio(model):\n",
        "    total_weights = 0\n",
        "    total_pruned_weights = 0\n",
        "\n",
        "    for module in model.modules():\n",
        "        # モジュールがSupermaskConvであるか確認\n",
        "        if isinstance(module, SupermaskConv):\n",
        "            # SupermaskConv層の重みを取得\n",
        "            weight = module.weight.data\n",
        "            # 刈り込みを適用した後の重みを取得\n",
        "            subnet = GetSubnet.apply(module.clamped_scores, 1 - module.prune_rate)\n",
        "            pruned_weight = weight * subnet\n",
        "            # 0である要素数を計算\n",
        "            pruned_weights_count = (pruned_weight == 0).sum().item()\n",
        "            total_pruned_weights += pruned_weights_count\n",
        "            # 重みの全要素数を計算\n",
        "            total_weights_count = pruned_weight.numel()\n",
        "            total_weights += total_weights_count\n",
        "\n",
        "    # 刈り込みが行われた割合を計算\n",
        "    pruned_ratio = total_pruned_weights / total_weights\n",
        "    return print(f\"刈り込み率は{pruned_ratio:.3f}です\")\n",
        "\n",
        "# モデルの刈り込み率を確認\n",
        "calculate_pruned_ratio(model)"
      ],
      "metadata": {
        "id": "kbNrQNCAqNiI",
        "colab": {
          "base_uri": "https://localhost:8080/"
        },
        "outputId": "53d34a63-d9be-4055-f0a5-10f54fa0633c"
      },
      "execution_count": 47,
      "outputs": [
        {
          "output_type": "stream",
          "name": "stdout",
          "text": [
            "刈り込み率は0.700です\n"
          ]
        }
      ]
    },
    {
      "cell_type": "code",
      "source": [
        "# 学習前後のモデルのスコアを比較する関数を作成\n",
        "def check_scores_change(model, model_init):\n",
        "    # 各モデルの名前付きモジュールを順に調べる\n",
        "    for (name, module), (name_init, module_init) in zip(model.named_modules(), model_init.named_modules()):\n",
        "        # 両モジュールがConv2dのインスタンスであるかを確認\n",
        "        if isinstance(module, torch.nn.Conv2d) and isinstance(module_init, torch.nn.Conv2d):\n",
        "            # 両モジュールが'scores'属性を持っているかを確認\n",
        "            if hasattr(module, 'scores') and hasattr(module_init, 'scores'):\n",
        "                # 両モジュールの'scores'属性が一致しているかを確認\n",
        "                # 一致していない場合、変更があったことを示すメッセージを出力\n",
        "                if not torch.equal(module.scores, module_init.scores):\n",
        "                    print(f'{name}のスコアが変化しています')\n",
        "                    return\n",
        "    # すべてのconv層で'scores'が変更されていない場合、その旨を出力\n",
        "    print('すべてのスコアは変化していません')\n",
        "\n",
        "# 学習前後でモデルのスコアが変化していないかを確認\n",
        "check_scores_change(model, model_init)"
      ],
      "metadata": {
        "id": "ZVWwwKmPqNiI",
        "colab": {
          "base_uri": "https://localhost:8080/"
        },
        "outputId": "293143cd-4530-4cee-9270-f0bdcc3f4471"
      },
      "execution_count": 48,
      "outputs": [
        {
          "output_type": "stream",
          "name": "stdout",
          "text": [
            "すべてのスコアは変化していません\n"
          ]
        }
      ]
    },
    {
      "cell_type": "code",
      "source": [
        "# 学習前後のモデルの最終層以外の重みを比較する関数を作成\n",
        "def check_weight_change_except_last(model, model_init):\n",
        "    for (name, param), (name_init, param_init) in zip(model.named_parameters(), model_init.named_parameters()):\n",
        "        # 最終層を除く\n",
        "        if name != 'fc.weight' and name != 'fc.bias':\n",
        "            weights_changed = (param.data != param_init.data).any()\n",
        "            if weights_changed:\n",
        "                return print('最終層以外の重みが変化しています')\n",
        "    return print('最終層以外の重みは変化していません')\n",
        "\n",
        "# 学習前後でモデルの最終層以外の重みが変化していないかを確認\n",
        "check_weight_change_except_last(model, model_init)"
      ],
      "metadata": {
        "id": "hGwPZA1QqNiI",
        "colab": {
          "base_uri": "https://localhost:8080/"
        },
        "outputId": "0dc790b5-8eea-45b0-e4db-997515530fad"
      },
      "execution_count": 49,
      "outputs": [
        {
          "output_type": "stream",
          "name": "stdout",
          "text": [
            "最終層以外の重みは変化していません\n"
          ]
        }
      ]
    },
    {
      "cell_type": "code",
      "source": [
        "# モデルの評価\n",
        "model.eval()\n",
        "with torch.no_grad():\n",
        "    total = 0\n",
        "    correct = 0\n",
        "    for images, labels in test_loader_handsigns:\n",
        "        images = images.to(device)\n",
        "        labels = labels.to(device)\n",
        "        outputs = model(images)\n",
        "        _, predicted = torch.max(outputs.data, 1)\n",
        "        total += labels.size(0)\n",
        "        correct += (predicted == labels).sum().item()\n",
        "    # 正解率精度の確認\n",
        "    print('Test Accuracy: {} %'.format(100 * correct / total))"
      ],
      "metadata": {
        "id": "_fUK0AL7qNiI",
        "colab": {
          "base_uri": "https://localhost:8080/"
        },
        "outputId": "db0ead72-3166-46bd-94d6-3300e181b8bd"
      },
      "execution_count": 50,
      "outputs": [
        {
          "output_type": "stream",
          "name": "stdout",
          "text": [
            "Test Accuracy: 86.0 %\n"
          ]
        }
      ]
    },
    {
      "cell_type": "code",
      "source": [
        "# GPUメモリの解放\n",
        "del model, model_init\n",
        "torch.cuda.empty_cache()"
      ],
      "metadata": {
        "id": "P0yCgmcsqNiI"
      },
      "execution_count": 51,
      "outputs": []
    },
    {
      "cell_type": "markdown",
      "source": [
        "### prune_rate=0.5"
      ],
      "metadata": {
        "id": "BxdxiNhUqUtn"
      }
    },
    {
      "cell_type": "code",
      "source": [
        "# デバイスを設定\n",
        "device = torch.device('cuda' if torch.cuda.is_available() else 'cpu')\n",
        "# モデルを定義\n",
        "model = torch.load('/content/drive/MyDrive/SupermaskWideResNet28_10_CIFAR100_100epochs_pr0.5_uniform_CLRS_restest.pth')\n",
        "# 最終層を変更\n",
        "model.fc = nn.Linear(model.fc.in_features, 10)\n",
        "# 最終層以外のパラメータの勾配計算を停止\n",
        "for param in model.parameters():\n",
        "    param.requires_grad = False\n",
        "# 最終層のパラメータのみを学習するように設定\n",
        "for param in model.fc.parameters():\n",
        "    param.requires_grad = True\n",
        "# モデルをデバイスに転送\n",
        "model = model.to(device)\n",
        "# 変更後のモデルの重みを保存\n",
        "model_init = copy.deepcopy(model)\n",
        "\n",
        "# 学習率を設定\n",
        "learning_rate = 0.01\n",
        "# 全体のepoch数を設定\n",
        "num_epochs = 50\n",
        "# warm-upするepoch数を設定\n",
        "warmup_epochs = 5\n",
        "\n",
        "# 損失関数を定義\n",
        "criterion = nn.CrossEntropyLoss()\n",
        "# オプティマイザーを設定\n",
        "optimizer = optim.Adam(model.fc.parameters(), lr=learning_rate)\n",
        "# スケジューラーを設定\n",
        "scheduler = CosineLRScheduler(optimizer, t_initial=num_epochs, lr_min=1e-4, warmup_t=warmup_epochs, warmup_lr_init=1e-4, warmup_prefix=True)\n",
        "\n",
        "# モデルの学習\n",
        "for epoch in range(num_epochs):\n",
        "    total = 0\n",
        "    correct = 0\n",
        "    for i, (images, labels) in enumerate(train_loader_handsigns):\n",
        "        images = images.to(device)\n",
        "        labels = labels.to(device)\n",
        "        # 順伝播\n",
        "        outputs = model(images)\n",
        "        loss = criterion(outputs, labels)\n",
        "        # 逆伝播\n",
        "        optimizer.zero_grad()\n",
        "        loss.backward()\n",
        "        optimizer.step()\n",
        "        _, predicted = torch.max(outputs.data, 1)\n",
        "        # 全データ数\n",
        "        total += labels.size(0)\n",
        "        # 正解数\n",
        "        correct += (predicted == labels).sum().item()\n",
        "    # 正解率精度を計算\n",
        "    train_acc = 100 * correct / total\n",
        "    # 正解率精度と損失を確認\n",
        "    print(\"Epoch [{}/{}], Train Accuracy: {} %, Loss: {:.4f}\".format(epoch+1, num_epochs, 100 * correct / total, loss.item()))\n",
        "    # 1エポック終了後にスケジューラーを更新\n",
        "    scheduler.step(epoch)\n",
        "    # 学習率の確認\n",
        "    print(\"Epoch [{}/{}], Learning Rate: {}\".format(epoch+1, num_epochs, optimizer.param_groups[0]['lr']))\n",
        "\n",
        "\n",
        "# モデルを保存\n",
        "torch.save(model, '/content/drive/MyDrive/SupermaskWideResNet28_10_HandSigns_from_CIFAR100_100epochs_pr0.5_uniform_50epochs_lr0.01_CLRS_restest.pth')"
      ],
      "metadata": {
        "id": "k5t5PfxlqUtn",
        "colab": {
          "base_uri": "https://localhost:8080/"
        },
        "outputId": "f7666255-6bd2-4ac5-bac0-d7e0cd1e282f"
      },
      "execution_count": 52,
      "outputs": [
        {
          "output_type": "stream",
          "name": "stdout",
          "text": [
            "Epoch [1/50], Train Accuracy: 10.6 %, Loss: 2.2414\n",
            "Epoch [1/50], Learning Rate: 0.0001\n",
            "Epoch [2/50], Train Accuracy: 20.6 %, Loss: 2.1862\n",
            "Epoch [2/50], Learning Rate: 0.00208\n",
            "Epoch [3/50], Train Accuracy: 39.4 %, Loss: 1.3055\n",
            "Epoch [3/50], Learning Rate: 0.00406\n",
            "Epoch [4/50], Train Accuracy: 59.5 %, Loss: 0.9427\n",
            "Epoch [4/50], Learning Rate: 0.00604\n",
            "Epoch [5/50], Train Accuracy: 59.7 %, Loss: 1.6106\n",
            "Epoch [5/50], Learning Rate: 0.00802\n",
            "Epoch [6/50], Train Accuracy: 60.4 %, Loss: 0.7420\n",
            "Epoch [6/50], Learning Rate: 0.01\n",
            "Epoch [7/50], Train Accuracy: 65.0 %, Loss: 0.5195\n",
            "Epoch [7/50], Learning Rate: 0.009990232305719944\n",
            "Epoch [8/50], Train Accuracy: 67.1 %, Loss: 1.6537\n",
            "Epoch [8/50], Learning Rate: 0.009960967771506667\n",
            "Epoch [9/50], Train Accuracy: 68.3 %, Loss: 1.0543\n",
            "Epoch [9/50], Learning Rate: 0.00991232189110701\n",
            "Epoch [10/50], Train Accuracy: 70.2 %, Loss: 0.8011\n",
            "Epoch [10/50], Learning Rate: 0.009844486647586723\n",
            "Epoch [11/50], Train Accuracy: 72.3 %, Loss: 0.5138\n",
            "Epoch [11/50], Learning Rate: 0.009757729755661011\n",
            "Epoch [12/50], Train Accuracy: 72.3 %, Loss: 1.4522\n",
            "Epoch [12/50], Learning Rate: 0.009652393605146845\n",
            "Epoch [13/50], Train Accuracy: 71.6 %, Loss: 0.8947\n",
            "Epoch [13/50], Learning Rate: 0.009528893909706798\n",
            "Epoch [14/50], Train Accuracy: 73.2 %, Loss: 0.9811\n",
            "Epoch [14/50], Learning Rate: 0.009387718066217124\n",
            "Epoch [15/50], Train Accuracy: 75.9 %, Loss: 1.0764\n",
            "Epoch [15/50], Learning Rate: 0.009229423231234974\n",
            "Epoch [16/50], Train Accuracy: 76.5 %, Loss: 0.3196\n",
            "Epoch [16/50], Learning Rate: 0.00905463412215599\n",
            "Epoch [17/50], Train Accuracy: 77.3 %, Loss: 1.3690\n",
            "Epoch [17/50], Learning Rate: 0.008864040551740157\n",
            "Epoch [18/50], Train Accuracy: 78.2 %, Loss: 0.6423\n",
            "Epoch [18/50], Learning Rate: 0.008658394705735987\n",
            "Epoch [19/50], Train Accuracy: 75.6 %, Loss: 0.6369\n",
            "Epoch [19/50], Learning Rate: 0.00843850817434701\n",
            "Epoch [20/50], Train Accuracy: 80.2 %, Loss: 2.1405\n",
            "Epoch [20/50], Learning Rate: 0.008205248749256015\n",
            "Epoch [21/50], Train Accuracy: 77.7 %, Loss: 2.0462\n",
            "Epoch [21/50], Learning Rate: 0.007959536998847744\n",
            "Epoch [22/50], Train Accuracy: 78.2 %, Loss: 0.1315\n",
            "Epoch [22/50], Learning Rate: 0.007702342635146034\n",
            "Epoch [23/50], Train Accuracy: 82.1 %, Loss: 0.8308\n",
            "Epoch [23/50], Learning Rate: 0.007434680686803491\n",
            "Epoch [24/50], Train Accuracy: 81.3 %, Loss: 0.7648\n",
            "Epoch [24/50], Learning Rate: 0.0071576074932471105\n",
            "Epoch [25/50], Train Accuracy: 79.2 %, Loss: 1.8344\n",
            "Epoch [25/50], Learning Rate: 0.006872216535789157\n",
            "Epoch [26/50], Train Accuracy: 80.7 %, Loss: 0.2477\n",
            "Epoch [26/50], Learning Rate: 0.006579634122155991\n",
            "Epoch [27/50], Train Accuracy: 80.3 %, Loss: 0.3640\n",
            "Epoch [27/50], Learning Rate: 0.0062810149414660316\n",
            "Epoch [28/50], Train Accuracy: 82.3 %, Loss: 1.1790\n",
            "Epoch [28/50], Learning Rate: 0.005977537507199339\n",
            "Epoch [29/50], Train Accuracy: 85.1 %, Loss: 0.9903\n",
            "Epoch [29/50], Learning Rate: 0.005670399506143308\n",
            "Epoch [30/50], Train Accuracy: 84.4 %, Loss: 0.4453\n",
            "Epoch [30/50], Learning Rate: 0.005360813071670102\n",
            "Epoch [31/50], Train Accuracy: 83.3 %, Loss: 0.6160\n",
            "Epoch [31/50], Learning Rate: 0.005050000000000001\n",
            "Epoch [32/50], Train Accuracy: 82.4 %, Loss: 0.3276\n",
            "Epoch [32/50], Learning Rate: 0.004739186928329899\n",
            "Epoch [33/50], Train Accuracy: 86.2 %, Loss: 0.3598\n",
            "Epoch [33/50], Learning Rate: 0.004429600493856695\n",
            "Epoch [34/50], Train Accuracy: 85.4 %, Loss: 1.0349\n",
            "Epoch [34/50], Learning Rate: 0.0041224624928006635\n",
            "Epoch [35/50], Train Accuracy: 84.8 %, Loss: 0.5879\n",
            "Epoch [35/50], Learning Rate: 0.0038189850585339685\n",
            "Epoch [36/50], Train Accuracy: 83.8 %, Loss: 0.1368\n",
            "Epoch [36/50], Learning Rate: 0.003520365877844012\n",
            "Epoch [37/50], Train Accuracy: 83.5 %, Loss: 1.4442\n",
            "Epoch [37/50], Learning Rate: 0.0032277834642108457\n",
            "Epoch [38/50], Train Accuracy: 85.1 %, Loss: 0.5844\n",
            "Epoch [38/50], Learning Rate: 0.0029423925067528904\n",
            "Epoch [39/50], Train Accuracy: 85.4 %, Loss: 0.5847\n",
            "Epoch [39/50], Learning Rate: 0.002665319313196509\n",
            "Epoch [40/50], Train Accuracy: 86.2 %, Loss: 0.1828\n",
            "Epoch [40/50], Learning Rate: 0.0023976573648539653\n",
            "Epoch [41/50], Train Accuracy: 86.6 %, Loss: 0.3657\n",
            "Epoch [41/50], Learning Rate: 0.0021404630011522584\n",
            "Epoch [42/50], Train Accuracy: 83.8 %, Loss: 0.5486\n",
            "Epoch [42/50], Learning Rate: 0.001894751250743986\n",
            "Epoch [43/50], Train Accuracy: 88.9 %, Loss: 0.0538\n",
            "Epoch [43/50], Learning Rate: 0.001661491825652991\n",
            "Epoch [44/50], Train Accuracy: 88.9 %, Loss: 0.4984\n",
            "Epoch [44/50], Learning Rate: 0.001441605294264014\n",
            "Epoch [45/50], Train Accuracy: 87.1 %, Loss: 0.3774\n",
            "Epoch [45/50], Learning Rate: 0.001235959448259844\n",
            "Epoch [46/50], Train Accuracy: 88.0 %, Loss: 0.3006\n",
            "Epoch [46/50], Learning Rate: 0.0010453658778440107\n",
            "Epoch [47/50], Train Accuracy: 88.9 %, Loss: 0.1716\n",
            "Epoch [47/50], Learning Rate: 0.0008705767687650265\n",
            "Epoch [48/50], Train Accuracy: 88.4 %, Loss: 0.8216\n",
            "Epoch [48/50], Learning Rate: 0.0007122819337828754\n",
            "Epoch [49/50], Train Accuracy: 88.1 %, Loss: 0.3757\n",
            "Epoch [49/50], Learning Rate: 0.0005711060902932043\n",
            "Epoch [50/50], Train Accuracy: 90.3 %, Loss: 0.2667\n",
            "Epoch [50/50], Learning Rate: 0.00044760639485315584\n"
          ]
        }
      ]
    },
    {
      "cell_type": "code",
      "source": [
        "# モデルの刈り込み率を計算する関数を作成\n",
        "def calculate_pruned_ratio(model):\n",
        "    total_weights = 0\n",
        "    total_pruned_weights = 0\n",
        "\n",
        "    for module in model.modules():\n",
        "        # モジュールがSupermaskConvであるか確認\n",
        "        if isinstance(module, SupermaskConv):\n",
        "            # SupermaskConv層の重みを取得\n",
        "            weight = module.weight.data\n",
        "            # 刈り込みを適用した後の重みを取得\n",
        "            subnet = GetSubnet.apply(module.clamped_scores, 1 - module.prune_rate)\n",
        "            pruned_weight = weight * subnet\n",
        "            # 0である要素数を計算\n",
        "            pruned_weights_count = (pruned_weight == 0).sum().item()\n",
        "            total_pruned_weights += pruned_weights_count\n",
        "            # 重みの全要素数を計算\n",
        "            total_weights_count = pruned_weight.numel()\n",
        "            total_weights += total_weights_count\n",
        "\n",
        "    # 刈り込みが行われた割合を計算\n",
        "    pruned_ratio = total_pruned_weights / total_weights\n",
        "    return print(f\"刈り込み率は{pruned_ratio:.3f}です\")\n",
        "\n",
        "# モデルの刈り込み率を確認\n",
        "calculate_pruned_ratio(model)"
      ],
      "metadata": {
        "id": "W97JiUXFqUto",
        "colab": {
          "base_uri": "https://localhost:8080/"
        },
        "outputId": "4d2bff9a-27f6-43d1-9eff-f932039bf8b3"
      },
      "execution_count": 53,
      "outputs": [
        {
          "output_type": "stream",
          "name": "stdout",
          "text": [
            "刈り込み率は0.500です\n"
          ]
        }
      ]
    },
    {
      "cell_type": "code",
      "source": [
        "# 学習前後のモデルのスコアを比較する関数を作成\n",
        "def check_scores_change(model, model_init):\n",
        "    # 各モデルの名前付きモジュールを順に調べる\n",
        "    for (name, module), (name_init, module_init) in zip(model.named_modules(), model_init.named_modules()):\n",
        "        # 両モジュールがConv2dのインスタンスであるかを確認\n",
        "        if isinstance(module, torch.nn.Conv2d) and isinstance(module_init, torch.nn.Conv2d):\n",
        "            # 両モジュールが'scores'属性を持っているかを確認\n",
        "            if hasattr(module, 'scores') and hasattr(module_init, 'scores'):\n",
        "                # 両モジュールの'scores'属性が一致しているかを確認\n",
        "                # 一致していない場合、変更があったことを示すメッセージを出力\n",
        "                if not torch.equal(module.scores, module_init.scores):\n",
        "                    print(f'{name}のスコアが変化しています')\n",
        "                    return\n",
        "    # すべてのconv層で'scores'が変更されていない場合、その旨を出力\n",
        "    print('すべてのスコアは変化していません')\n",
        "\n",
        "# 学習前後でモデルのスコアが変化していないかを確認\n",
        "check_scores_change(model, model_init)"
      ],
      "metadata": {
        "id": "_igSGIU6qUto",
        "colab": {
          "base_uri": "https://localhost:8080/"
        },
        "outputId": "b00d96a0-9c24-4a49-d178-e9b11da0da20"
      },
      "execution_count": 54,
      "outputs": [
        {
          "output_type": "stream",
          "name": "stdout",
          "text": [
            "すべてのスコアは変化していません\n"
          ]
        }
      ]
    },
    {
      "cell_type": "code",
      "source": [
        "# 学習前後のモデルの最終層以外の重みを比較する関数を作成\n",
        "def check_weight_change_except_last(model, model_init):\n",
        "    for (name, param), (name_init, param_init) in zip(model.named_parameters(), model_init.named_parameters()):\n",
        "        # 最終層を除く\n",
        "        if name != 'fc.weight' and name != 'fc.bias':\n",
        "            weights_changed = (param.data != param_init.data).any()\n",
        "            if weights_changed:\n",
        "                return print('最終層以外の重みが変化しています')\n",
        "    return print('最終層以外の重みは変化していません')\n",
        "\n",
        "# 学習前後でモデルの最終層以外の重みが変化していないかを確認\n",
        "check_weight_change_except_last(model, model_init)"
      ],
      "metadata": {
        "id": "fOIcNLDzqUto",
        "colab": {
          "base_uri": "https://localhost:8080/"
        },
        "outputId": "17ee823c-88ed-4b46-b9ea-d09f5628111c"
      },
      "execution_count": 55,
      "outputs": [
        {
          "output_type": "stream",
          "name": "stdout",
          "text": [
            "最終層以外の重みは変化していません\n"
          ]
        }
      ]
    },
    {
      "cell_type": "code",
      "source": [
        "# モデルの評価\n",
        "model.eval()\n",
        "with torch.no_grad():\n",
        "    total = 0\n",
        "    correct = 0\n",
        "    for images, labels in test_loader_handsigns:\n",
        "        images = images.to(device)\n",
        "        labels = labels.to(device)\n",
        "        outputs = model(images)\n",
        "        _, predicted = torch.max(outputs.data, 1)\n",
        "        total += labels.size(0)\n",
        "        correct += (predicted == labels).sum().item()\n",
        "    # 正解率精度の確認\n",
        "    print('Test Accuracy: {} %'.format(100 * correct / total))"
      ],
      "metadata": {
        "id": "AiKw0GhHqUto",
        "colab": {
          "base_uri": "https://localhost:8080/"
        },
        "outputId": "0f62b50b-1f96-4699-fe7e-4b9548c5f4a0"
      },
      "execution_count": 56,
      "outputs": [
        {
          "output_type": "stream",
          "name": "stdout",
          "text": [
            "Test Accuracy: 89.0 %\n"
          ]
        }
      ]
    },
    {
      "cell_type": "code",
      "source": [
        "# GPUメモリの解放\n",
        "del model, model_init\n",
        "torch.cuda.empty_cache()"
      ],
      "metadata": {
        "id": "ikDtoXLbqUto"
      },
      "execution_count": 57,
      "outputs": []
    },
    {
      "cell_type": "markdown",
      "source": [
        "## 学習と評価（100 epochs, init=kaiming_normal）"
      ],
      "metadata": {
        "id": "2atmPsCD5ThV"
      }
    },
    {
      "cell_type": "markdown",
      "source": [
        "### prune_rate=0.999"
      ],
      "metadata": {
        "id": "XohYpLpwsKjY"
      }
    },
    {
      "cell_type": "code",
      "source": [
        "# デバイスを設定\n",
        "device = torch.device('cuda' if torch.cuda.is_available() else 'cpu')\n",
        "# モデルを定義\n",
        "model = torch.load('/content/drive/MyDrive/SupermaskWideResNet28_10_CIFAR100_100epochs_pr0.999_normal_CLRS_restest.pth')\n",
        "# 最終層を変更\n",
        "model.fc = nn.Linear(model.fc.in_features, 10)\n",
        "# 最終層以外のパラメータの勾配計算を停止\n",
        "for param in model.parameters():\n",
        "    param.requires_grad = False\n",
        "# 最終層のパラメータのみを学習するように設定\n",
        "for param in model.fc.parameters():\n",
        "    param.requires_grad = True\n",
        "# モデルをデバイスに転送\n",
        "model = model.to(device)\n",
        "# 変更後のモデルの重みを保存\n",
        "model_init = copy.deepcopy(model)\n",
        "\n",
        "# 学習率を設定\n",
        "learning_rate = 0.01\n",
        "# 全体のepoch数を設定\n",
        "num_epochs = 50\n",
        "# warm-upするepoch数を設定\n",
        "warmup_epochs = 5\n",
        "\n",
        "# 損失関数を定義\n",
        "criterion = nn.CrossEntropyLoss()\n",
        "# オプティマイザーを設定\n",
        "optimizer = optim.Adam(model.fc.parameters(), lr=learning_rate)\n",
        "# スケジューラーを設定\n",
        "scheduler = CosineLRScheduler(optimizer, t_initial=num_epochs, lr_min=1e-4, warmup_t=warmup_epochs, warmup_lr_init=1e-4, warmup_prefix=True)\n",
        "\n",
        "# モデルの学習\n",
        "for epoch in range(num_epochs):\n",
        "    total = 0\n",
        "    correct = 0\n",
        "    for i, (images, labels) in enumerate(train_loader_handsigns):\n",
        "        images = images.to(device)\n",
        "        labels = labels.to(device)\n",
        "        # 順伝播\n",
        "        outputs = model(images)\n",
        "        loss = criterion(outputs, labels)\n",
        "        # 逆伝播\n",
        "        optimizer.zero_grad()\n",
        "        loss.backward()\n",
        "        optimizer.step()\n",
        "        _, predicted = torch.max(outputs.data, 1)\n",
        "        # 全データ数\n",
        "        total += labels.size(0)\n",
        "        # 正解数\n",
        "        correct += (predicted == labels).sum().item()\n",
        "    # 正解率精度を計算\n",
        "    train_acc = 100 * correct / total\n",
        "    # 正解率精度と損失を確認\n",
        "    print(\"Epoch [{}/{}], Train Accuracy: {} %, Loss: {:.4f}\".format(epoch+1, num_epochs, 100 * correct / total, loss.item()))\n",
        "    # 1エポック終了後にスケジューラーを更新\n",
        "    scheduler.step(epoch)\n",
        "    # 学習率の確認\n",
        "    print(\"Epoch [{}/{}], Learning Rate: {}\".format(epoch+1, num_epochs, optimizer.param_groups[0]['lr']))\n",
        "\n",
        "\n",
        "# モデルを保存\n",
        "torch.save(model, '/content/drive/MyDrive/SupermaskWideResNet28_10_HandSigns_from_CIFAR100_100epochs_pr0.999_normal_50epochs_lr0.01_CLRS_restest.pth')"
      ],
      "metadata": {
        "id": "AmY2J5YpsKjm",
        "colab": {
          "base_uri": "https://localhost:8080/"
        },
        "outputId": "894b1bd5-2c44-4e93-e0b1-1f21d68d37de"
      },
      "execution_count": 58,
      "outputs": [
        {
          "output_type": "stream",
          "name": "stdout",
          "text": [
            "Epoch [1/50], Train Accuracy: 12.9 %, Loss: 2.2783\n",
            "Epoch [1/50], Learning Rate: 0.0001\n",
            "Epoch [2/50], Train Accuracy: 16.4 %, Loss: 2.1581\n",
            "Epoch [2/50], Learning Rate: 0.00208\n",
            "Epoch [3/50], Train Accuracy: 21.4 %, Loss: 2.0116\n",
            "Epoch [3/50], Learning Rate: 0.00406\n",
            "Epoch [4/50], Train Accuracy: 29.8 %, Loss: 2.1605\n",
            "Epoch [4/50], Learning Rate: 0.00604\n",
            "Epoch [5/50], Train Accuracy: 35.0 %, Loss: 1.7792\n",
            "Epoch [5/50], Learning Rate: 0.00802\n",
            "Epoch [6/50], Train Accuracy: 34.6 %, Loss: 1.3753\n",
            "Epoch [6/50], Learning Rate: 0.01\n",
            "Epoch [7/50], Train Accuracy: 36.0 %, Loss: 2.5086\n",
            "Epoch [7/50], Learning Rate: 0.009990232305719944\n",
            "Epoch [8/50], Train Accuracy: 35.6 %, Loss: 2.5267\n",
            "Epoch [8/50], Learning Rate: 0.009960967771506667\n",
            "Epoch [9/50], Train Accuracy: 39.4 %, Loss: 2.0190\n",
            "Epoch [9/50], Learning Rate: 0.00991232189110701\n",
            "Epoch [10/50], Train Accuracy: 42.2 %, Loss: 1.8656\n",
            "Epoch [10/50], Learning Rate: 0.009844486647586723\n",
            "Epoch [11/50], Train Accuracy: 39.7 %, Loss: 1.6853\n",
            "Epoch [11/50], Learning Rate: 0.009757729755661011\n",
            "Epoch [12/50], Train Accuracy: 40.4 %, Loss: 0.9882\n",
            "Epoch [12/50], Learning Rate: 0.009652393605146845\n",
            "Epoch [13/50], Train Accuracy: 42.4 %, Loss: 1.5138\n",
            "Epoch [13/50], Learning Rate: 0.009528893909706798\n",
            "Epoch [14/50], Train Accuracy: 41.0 %, Loss: 1.7948\n",
            "Epoch [14/50], Learning Rate: 0.009387718066217124\n",
            "Epoch [15/50], Train Accuracy: 43.6 %, Loss: 1.7327\n",
            "Epoch [15/50], Learning Rate: 0.009229423231234974\n",
            "Epoch [16/50], Train Accuracy: 45.3 %, Loss: 2.0367\n",
            "Epoch [16/50], Learning Rate: 0.00905463412215599\n",
            "Epoch [17/50], Train Accuracy: 45.1 %, Loss: 2.7690\n",
            "Epoch [17/50], Learning Rate: 0.008864040551740157\n",
            "Epoch [18/50], Train Accuracy: 42.0 %, Loss: 1.3702\n",
            "Epoch [18/50], Learning Rate: 0.008658394705735987\n",
            "Epoch [19/50], Train Accuracy: 49.3 %, Loss: 2.5797\n",
            "Epoch [19/50], Learning Rate: 0.00843850817434701\n",
            "Epoch [20/50], Train Accuracy: 46.2 %, Loss: 1.9621\n",
            "Epoch [20/50], Learning Rate: 0.008205248749256015\n",
            "Epoch [21/50], Train Accuracy: 48.0 %, Loss: 1.8587\n",
            "Epoch [21/50], Learning Rate: 0.007959536998847744\n",
            "Epoch [22/50], Train Accuracy: 48.4 %, Loss: 1.5524\n",
            "Epoch [22/50], Learning Rate: 0.007702342635146034\n",
            "Epoch [23/50], Train Accuracy: 47.3 %, Loss: 1.2497\n",
            "Epoch [23/50], Learning Rate: 0.007434680686803491\n",
            "Epoch [24/50], Train Accuracy: 46.1 %, Loss: 1.3548\n",
            "Epoch [24/50], Learning Rate: 0.0071576074932471105\n",
            "Epoch [25/50], Train Accuracy: 47.5 %, Loss: 2.2707\n",
            "Epoch [25/50], Learning Rate: 0.006872216535789157\n",
            "Epoch [26/50], Train Accuracy: 48.2 %, Loss: 1.9140\n",
            "Epoch [26/50], Learning Rate: 0.006579634122155991\n",
            "Epoch [27/50], Train Accuracy: 47.7 %, Loss: 1.1556\n",
            "Epoch [27/50], Learning Rate: 0.0062810149414660316\n",
            "Epoch [28/50], Train Accuracy: 49.0 %, Loss: 0.7780\n",
            "Epoch [28/50], Learning Rate: 0.005977537507199339\n",
            "Epoch [29/50], Train Accuracy: 50.8 %, Loss: 1.5326\n",
            "Epoch [29/50], Learning Rate: 0.005670399506143308\n",
            "Epoch [30/50], Train Accuracy: 52.3 %, Loss: 2.3878\n",
            "Epoch [30/50], Learning Rate: 0.005360813071670102\n",
            "Epoch [31/50], Train Accuracy: 51.2 %, Loss: 1.4217\n",
            "Epoch [31/50], Learning Rate: 0.005050000000000001\n",
            "Epoch [32/50], Train Accuracy: 49.8 %, Loss: 1.0638\n",
            "Epoch [32/50], Learning Rate: 0.004739186928329899\n",
            "Epoch [33/50], Train Accuracy: 51.4 %, Loss: 1.7121\n",
            "Epoch [33/50], Learning Rate: 0.004429600493856695\n",
            "Epoch [34/50], Train Accuracy: 51.6 %, Loss: 1.4478\n",
            "Epoch [34/50], Learning Rate: 0.0041224624928006635\n",
            "Epoch [35/50], Train Accuracy: 54.2 %, Loss: 1.7449\n",
            "Epoch [35/50], Learning Rate: 0.0038189850585339685\n",
            "Epoch [36/50], Train Accuracy: 52.4 %, Loss: 0.9550\n",
            "Epoch [36/50], Learning Rate: 0.003520365877844012\n",
            "Epoch [37/50], Train Accuracy: 56.4 %, Loss: 1.6139\n",
            "Epoch [37/50], Learning Rate: 0.0032277834642108457\n",
            "Epoch [38/50], Train Accuracy: 51.9 %, Loss: 1.4774\n",
            "Epoch [38/50], Learning Rate: 0.0029423925067528904\n",
            "Epoch [39/50], Train Accuracy: 56.9 %, Loss: 1.2641\n",
            "Epoch [39/50], Learning Rate: 0.002665319313196509\n",
            "Epoch [40/50], Train Accuracy: 52.6 %, Loss: 1.9563\n",
            "Epoch [40/50], Learning Rate: 0.0023976573648539653\n",
            "Epoch [41/50], Train Accuracy: 54.5 %, Loss: 1.7321\n",
            "Epoch [41/50], Learning Rate: 0.0021404630011522584\n",
            "Epoch [42/50], Train Accuracy: 54.0 %, Loss: 0.9147\n",
            "Epoch [42/50], Learning Rate: 0.001894751250743986\n",
            "Epoch [43/50], Train Accuracy: 56.3 %, Loss: 1.3491\n",
            "Epoch [43/50], Learning Rate: 0.001661491825652991\n",
            "Epoch [44/50], Train Accuracy: 59.7 %, Loss: 1.0812\n",
            "Epoch [44/50], Learning Rate: 0.001441605294264014\n",
            "Epoch [45/50], Train Accuracy: 55.9 %, Loss: 1.7762\n",
            "Epoch [45/50], Learning Rate: 0.001235959448259844\n",
            "Epoch [46/50], Train Accuracy: 59.2 %, Loss: 1.8718\n",
            "Epoch [46/50], Learning Rate: 0.0010453658778440107\n",
            "Epoch [47/50], Train Accuracy: 56.2 %, Loss: 1.0414\n",
            "Epoch [47/50], Learning Rate: 0.0008705767687650265\n",
            "Epoch [48/50], Train Accuracy: 58.7 %, Loss: 1.4189\n",
            "Epoch [48/50], Learning Rate: 0.0007122819337828754\n",
            "Epoch [49/50], Train Accuracy: 57.8 %, Loss: 1.6481\n",
            "Epoch [49/50], Learning Rate: 0.0005711060902932043\n",
            "Epoch [50/50], Train Accuracy: 58.2 %, Loss: 0.6611\n",
            "Epoch [50/50], Learning Rate: 0.00044760639485315584\n"
          ]
        }
      ]
    },
    {
      "cell_type": "code",
      "source": [
        "# モデルの刈り込み率を計算する関数を作成\n",
        "def calculate_pruned_ratio(model):\n",
        "    total_weights = 0\n",
        "    total_pruned_weights = 0\n",
        "\n",
        "    for module in model.modules():\n",
        "        # モジュールがSupermaskConvであるか確認\n",
        "        if isinstance(module, SupermaskConv):\n",
        "            # SupermaskConv層の重みを取得\n",
        "            weight = module.weight.data\n",
        "            # 刈り込みを適用した後の重みを取得\n",
        "            subnet = GetSubnet.apply(module.clamped_scores, 1 - module.prune_rate)\n",
        "            pruned_weight = weight * subnet\n",
        "            # 0である要素数を計算\n",
        "            pruned_weights_count = (pruned_weight == 0).sum().item()\n",
        "            total_pruned_weights += pruned_weights_count\n",
        "            # 重みの全要素数を計算\n",
        "            total_weights_count = pruned_weight.numel()\n",
        "            total_weights += total_weights_count\n",
        "\n",
        "    # 刈り込みが行われた割合を計算\n",
        "    pruned_ratio = total_pruned_weights / total_weights\n",
        "    return print(f\"刈り込み率は{pruned_ratio:.3f}です\")\n",
        "\n",
        "# モデルの刈り込み率を確認\n",
        "calculate_pruned_ratio(model)"
      ],
      "metadata": {
        "id": "9BhXxkuFsKjn",
        "colab": {
          "base_uri": "https://localhost:8080/"
        },
        "outputId": "8afb40e5-e243-4c5a-a543-db69a51d0c6b"
      },
      "execution_count": 59,
      "outputs": [
        {
          "output_type": "stream",
          "name": "stdout",
          "text": [
            "刈り込み率は0.999です\n"
          ]
        }
      ]
    },
    {
      "cell_type": "code",
      "source": [
        "# 学習前後のモデルのスコアを比較する関数を作成\n",
        "def check_scores_change(model, model_init):\n",
        "    # 各モデルの名前付きモジュールを順に調べる\n",
        "    for (name, module), (name_init, module_init) in zip(model.named_modules(), model_init.named_modules()):\n",
        "        # 両モジュールがConv2dのインスタンスであるかを確認\n",
        "        if isinstance(module, torch.nn.Conv2d) and isinstance(module_init, torch.nn.Conv2d):\n",
        "            # 両モジュールが'scores'属性を持っているかを確認\n",
        "            if hasattr(module, 'scores') and hasattr(module_init, 'scores'):\n",
        "                # 両モジュールの'scores'属性が一致しているかを確認\n",
        "                # 一致していない場合、変更があったことを示すメッセージを出力\n",
        "                if not torch.equal(module.scores, module_init.scores):\n",
        "                    print(f'{name}のスコアが変化しています')\n",
        "                    return\n",
        "    # すべてのconv層で'scores'が変更されていない場合、その旨を出力\n",
        "    print('すべてのスコアは変化していません')\n",
        "\n",
        "# 学習前後でモデルのスコアが変化していないかを確認\n",
        "check_scores_change(model, model_init)"
      ],
      "metadata": {
        "id": "b2_21nPhsKjn",
        "colab": {
          "base_uri": "https://localhost:8080/"
        },
        "outputId": "daa73b6b-f903-4361-aec3-8bd57aae5f7d"
      },
      "execution_count": 60,
      "outputs": [
        {
          "output_type": "stream",
          "name": "stdout",
          "text": [
            "すべてのスコアは変化していません\n"
          ]
        }
      ]
    },
    {
      "cell_type": "code",
      "source": [
        "# 学習前後のモデルの最終層以外の重みを比較する関数を作成\n",
        "def check_weight_change_except_last(model, model_init):\n",
        "    for (name, param), (name_init, param_init) in zip(model.named_parameters(), model_init.named_parameters()):\n",
        "        # 最終層を除く\n",
        "        if name != 'fc.weight' and name != 'fc.bias':\n",
        "            weights_changed = (param.data != param_init.data).any()\n",
        "            if weights_changed:\n",
        "                return print('最終層以外の重みが変化しています')\n",
        "    return print('最終層以外の重みは変化していません')\n",
        "\n",
        "# 学習前後でモデルの最終層以外の重みが変化していないかを確認\n",
        "check_weight_change_except_last(model, model_init)"
      ],
      "metadata": {
        "id": "gdRkxqThsKjn",
        "colab": {
          "base_uri": "https://localhost:8080/"
        },
        "outputId": "c55ed886-4865-4ff7-8ccc-ed896a4b598a"
      },
      "execution_count": 61,
      "outputs": [
        {
          "output_type": "stream",
          "name": "stdout",
          "text": [
            "最終層以外の重みは変化していません\n"
          ]
        }
      ]
    },
    {
      "cell_type": "code",
      "source": [
        "# モデルの評価\n",
        "model.eval()\n",
        "with torch.no_grad():\n",
        "    total = 0\n",
        "    correct = 0\n",
        "    for images, labels in test_loader_handsigns:\n",
        "        images = images.to(device)\n",
        "        labels = labels.to(device)\n",
        "        outputs = model(images)\n",
        "        _, predicted = torch.max(outputs.data, 1)\n",
        "        total += labels.size(0)\n",
        "        correct += (predicted == labels).sum().item()\n",
        "    # 正解率精度の確認\n",
        "    print('Test Accuracy: {} %'.format(100 * correct / total))"
      ],
      "metadata": {
        "id": "4uT1Zu5xsKjn",
        "colab": {
          "base_uri": "https://localhost:8080/"
        },
        "outputId": "52d07a50-4f14-49b6-e78d-17b5cc427fae"
      },
      "execution_count": 62,
      "outputs": [
        {
          "output_type": "stream",
          "name": "stdout",
          "text": [
            "Test Accuracy: 63.0 %\n"
          ]
        }
      ]
    },
    {
      "cell_type": "code",
      "source": [
        "# GPUメモリの解放\n",
        "del model, model_init\n",
        "torch.cuda.empty_cache()"
      ],
      "metadata": {
        "id": "-ufE10onsKjo"
      },
      "execution_count": 63,
      "outputs": []
    },
    {
      "cell_type": "markdown",
      "source": [
        "### prune_rate=0.995"
      ],
      "metadata": {
        "id": "ckkkthdAsKjo"
      }
    },
    {
      "cell_type": "code",
      "source": [
        "# デバイスを設定\n",
        "device = torch.device('cuda' if torch.cuda.is_available() else 'cpu')\n",
        "# モデルを定義\n",
        "model = torch.load('/content/drive/MyDrive/SupermaskWideResNet28_10_CIFAR100_100epochs_pr0.995_normal_CLRS_restest.pth')\n",
        "# 最終層を変更\n",
        "model.fc = nn.Linear(model.fc.in_features, 10)\n",
        "# 最終層以外のパラメータの勾配計算を停止\n",
        "for param in model.parameters():\n",
        "    param.requires_grad = False\n",
        "# 最終層のパラメータのみを学習するように設定\n",
        "for param in model.fc.parameters():\n",
        "    param.requires_grad = True\n",
        "# モデルをデバイスに転送\n",
        "model = model.to(device)\n",
        "# 変更後のモデルの重みを保存\n",
        "model_init = copy.deepcopy(model)\n",
        "\n",
        "# 学習率を設定\n",
        "learning_rate = 0.01\n",
        "# 全体のepoch数を設定\n",
        "num_epochs = 50\n",
        "# warm-upするepoch数を設定\n",
        "warmup_epochs = 5\n",
        "\n",
        "# 損失関数を定義\n",
        "criterion = nn.CrossEntropyLoss()\n",
        "# オプティマイザーを設定\n",
        "optimizer = optim.Adam(model.fc.parameters(), lr=learning_rate)\n",
        "# スケジューラーを設定\n",
        "scheduler = CosineLRScheduler(optimizer, t_initial=num_epochs, lr_min=1e-4, warmup_t=warmup_epochs, warmup_lr_init=1e-4, warmup_prefix=True)\n",
        "\n",
        "# モデルの学習\n",
        "for epoch in range(num_epochs):\n",
        "    total = 0\n",
        "    correct = 0\n",
        "    for i, (images, labels) in enumerate(train_loader_handsigns):\n",
        "        images = images.to(device)\n",
        "        labels = labels.to(device)\n",
        "        # 順伝播\n",
        "        outputs = model(images)\n",
        "        loss = criterion(outputs, labels)\n",
        "        # 逆伝播\n",
        "        optimizer.zero_grad()\n",
        "        loss.backward()\n",
        "        optimizer.step()\n",
        "        _, predicted = torch.max(outputs.data, 1)\n",
        "        # 全データ数\n",
        "        total += labels.size(0)\n",
        "        # 正解数\n",
        "        correct += (predicted == labels).sum().item()\n",
        "    # 正解率精度を計算\n",
        "    train_acc = 100 * correct / total\n",
        "    # 正解率精度と損失を確認\n",
        "    print(\"Epoch [{}/{}], Train Accuracy: {} %, Loss: {:.4f}\".format(epoch+1, num_epochs, 100 * correct / total, loss.item()))\n",
        "    # 1エポック終了後にスケジューラーを更新\n",
        "    scheduler.step(epoch)\n",
        "    # 学習率の確認\n",
        "    print(\"Epoch [{}/{}], Learning Rate: {}\".format(epoch+1, num_epochs, optimizer.param_groups[0]['lr']))\n",
        "\n",
        "\n",
        "# モデルを保存\n",
        "torch.save(model, '/content/drive/MyDrive/SupermaskWideResNet28_10_HandSigns_from_CIFAR100_100epochs_pr0.995_normal_50epochs_lr0.01_CLRS_restest.pth')"
      ],
      "metadata": {
        "id": "Ys6GaW9nsKjo",
        "colab": {
          "base_uri": "https://localhost:8080/"
        },
        "outputId": "4f0095e0-1dfc-4573-ced1-f684241ed7cc"
      },
      "execution_count": 64,
      "outputs": [
        {
          "output_type": "stream",
          "name": "stdout",
          "text": [
            "Epoch [1/50], Train Accuracy: 12.1 %, Loss: 2.3028\n",
            "Epoch [1/50], Learning Rate: 0.0001\n",
            "Epoch [2/50], Train Accuracy: 20.3 %, Loss: 2.1820\n",
            "Epoch [2/50], Learning Rate: 0.00208\n",
            "Epoch [3/50], Train Accuracy: 33.9 %, Loss: 2.1227\n",
            "Epoch [3/50], Learning Rate: 0.00406\n",
            "Epoch [4/50], Train Accuracy: 42.7 %, Loss: 1.6912\n",
            "Epoch [4/50], Learning Rate: 0.00604\n",
            "Epoch [5/50], Train Accuracy: 46.5 %, Loss: 1.3162\n",
            "Epoch [5/50], Learning Rate: 0.00802\n",
            "Epoch [6/50], Train Accuracy: 53.1 %, Loss: 1.1858\n",
            "Epoch [6/50], Learning Rate: 0.01\n",
            "Epoch [7/50], Train Accuracy: 53.7 %, Loss: 2.1313\n",
            "Epoch [7/50], Learning Rate: 0.009990232305719944\n",
            "Epoch [8/50], Train Accuracy: 57.5 %, Loss: 1.6273\n",
            "Epoch [8/50], Learning Rate: 0.009960967771506667\n",
            "Epoch [9/50], Train Accuracy: 55.8 %, Loss: 1.7905\n",
            "Epoch [9/50], Learning Rate: 0.00991232189110701\n",
            "Epoch [10/50], Train Accuracy: 56.9 %, Loss: 2.2290\n",
            "Epoch [10/50], Learning Rate: 0.009844486647586723\n",
            "Epoch [11/50], Train Accuracy: 59.3 %, Loss: 1.2015\n",
            "Epoch [11/50], Learning Rate: 0.009757729755661011\n",
            "Epoch [12/50], Train Accuracy: 62.3 %, Loss: 0.9673\n",
            "Epoch [12/50], Learning Rate: 0.009652393605146845\n",
            "Epoch [13/50], Train Accuracy: 60.7 %, Loss: 1.6953\n",
            "Epoch [13/50], Learning Rate: 0.009528893909706798\n",
            "Epoch [14/50], Train Accuracy: 64.8 %, Loss: 0.6463\n",
            "Epoch [14/50], Learning Rate: 0.009387718066217124\n",
            "Epoch [15/50], Train Accuracy: 65.5 %, Loss: 0.9045\n",
            "Epoch [15/50], Learning Rate: 0.009229423231234974\n",
            "Epoch [16/50], Train Accuracy: 66.0 %, Loss: 0.3426\n",
            "Epoch [16/50], Learning Rate: 0.00905463412215599\n",
            "Epoch [17/50], Train Accuracy: 70.6 %, Loss: 1.0625\n",
            "Epoch [17/50], Learning Rate: 0.008864040551740157\n",
            "Epoch [18/50], Train Accuracy: 69.9 %, Loss: 1.0744\n",
            "Epoch [18/50], Learning Rate: 0.008658394705735987\n",
            "Epoch [19/50], Train Accuracy: 65.1 %, Loss: 0.6740\n",
            "Epoch [19/50], Learning Rate: 0.00843850817434701\n",
            "Epoch [20/50], Train Accuracy: 68.4 %, Loss: 0.9839\n",
            "Epoch [20/50], Learning Rate: 0.008205248749256015\n",
            "Epoch [21/50], Train Accuracy: 69.7 %, Loss: 1.4799\n",
            "Epoch [21/50], Learning Rate: 0.007959536998847744\n",
            "Epoch [22/50], Train Accuracy: 72.6 %, Loss: 0.3196\n",
            "Epoch [22/50], Learning Rate: 0.007702342635146034\n",
            "Epoch [23/50], Train Accuracy: 67.8 %, Loss: 0.7826\n",
            "Epoch [23/50], Learning Rate: 0.007434680686803491\n",
            "Epoch [24/50], Train Accuracy: 70.8 %, Loss: 1.2977\n",
            "Epoch [24/50], Learning Rate: 0.0071576074932471105\n",
            "Epoch [25/50], Train Accuracy: 69.4 %, Loss: 0.3443\n",
            "Epoch [25/50], Learning Rate: 0.006872216535789157\n",
            "Epoch [26/50], Train Accuracy: 71.8 %, Loss: 1.8117\n",
            "Epoch [26/50], Learning Rate: 0.006579634122155991\n",
            "Epoch [27/50], Train Accuracy: 71.3 %, Loss: 1.4254\n",
            "Epoch [27/50], Learning Rate: 0.0062810149414660316\n",
            "Epoch [28/50], Train Accuracy: 70.9 %, Loss: 1.2237\n",
            "Epoch [28/50], Learning Rate: 0.005977537507199339\n",
            "Epoch [29/50], Train Accuracy: 73.8 %, Loss: 0.8764\n",
            "Epoch [29/50], Learning Rate: 0.005670399506143308\n",
            "Epoch [30/50], Train Accuracy: 72.3 %, Loss: 1.5643\n",
            "Epoch [30/50], Learning Rate: 0.005360813071670102\n",
            "Epoch [31/50], Train Accuracy: 72.4 %, Loss: 1.0568\n",
            "Epoch [31/50], Learning Rate: 0.005050000000000001\n",
            "Epoch [32/50], Train Accuracy: 74.0 %, Loss: 0.1922\n",
            "Epoch [32/50], Learning Rate: 0.004739186928329899\n",
            "Epoch [33/50], Train Accuracy: 74.3 %, Loss: 1.2412\n",
            "Epoch [33/50], Learning Rate: 0.004429600493856695\n",
            "Epoch [34/50], Train Accuracy: 74.8 %, Loss: 1.3291\n",
            "Epoch [34/50], Learning Rate: 0.0041224624928006635\n",
            "Epoch [35/50], Train Accuracy: 75.9 %, Loss: 1.3240\n",
            "Epoch [35/50], Learning Rate: 0.0038189850585339685\n",
            "Epoch [36/50], Train Accuracy: 74.5 %, Loss: 0.7359\n",
            "Epoch [36/50], Learning Rate: 0.003520365877844012\n",
            "Epoch [37/50], Train Accuracy: 76.5 %, Loss: 0.7501\n",
            "Epoch [37/50], Learning Rate: 0.0032277834642108457\n",
            "Epoch [38/50], Train Accuracy: 76.4 %, Loss: 0.6433\n",
            "Epoch [38/50], Learning Rate: 0.0029423925067528904\n",
            "Epoch [39/50], Train Accuracy: 75.6 %, Loss: 1.1449\n",
            "Epoch [39/50], Learning Rate: 0.002665319313196509\n",
            "Epoch [40/50], Train Accuracy: 76.4 %, Loss: 0.8429\n",
            "Epoch [40/50], Learning Rate: 0.0023976573648539653\n",
            "Epoch [41/50], Train Accuracy: 77.4 %, Loss: 0.3599\n",
            "Epoch [41/50], Learning Rate: 0.0021404630011522584\n",
            "Epoch [42/50], Train Accuracy: 78.6 %, Loss: 0.5159\n",
            "Epoch [42/50], Learning Rate: 0.001894751250743986\n",
            "Epoch [43/50], Train Accuracy: 77.7 %, Loss: 0.4425\n",
            "Epoch [43/50], Learning Rate: 0.001661491825652991\n",
            "Epoch [44/50], Train Accuracy: 77.5 %, Loss: 0.8337\n",
            "Epoch [44/50], Learning Rate: 0.001441605294264014\n",
            "Epoch [45/50], Train Accuracy: 78.5 %, Loss: 0.6225\n",
            "Epoch [45/50], Learning Rate: 0.001235959448259844\n",
            "Epoch [46/50], Train Accuracy: 78.6 %, Loss: 1.0381\n",
            "Epoch [46/50], Learning Rate: 0.0010453658778440107\n",
            "Epoch [47/50], Train Accuracy: 77.5 %, Loss: 0.7723\n",
            "Epoch [47/50], Learning Rate: 0.0008705767687650265\n",
            "Epoch [48/50], Train Accuracy: 79.8 %, Loss: 0.8405\n",
            "Epoch [48/50], Learning Rate: 0.0007122819337828754\n",
            "Epoch [49/50], Train Accuracy: 80.2 %, Loss: 0.9742\n",
            "Epoch [49/50], Learning Rate: 0.0005711060902932043\n",
            "Epoch [50/50], Train Accuracy: 77.6 %, Loss: 1.1624\n",
            "Epoch [50/50], Learning Rate: 0.00044760639485315584\n"
          ]
        }
      ]
    },
    {
      "cell_type": "code",
      "source": [
        "# モデルの刈り込み率を計算する関数を作成\n",
        "def calculate_pruned_ratio(model):\n",
        "    total_weights = 0\n",
        "    total_pruned_weights = 0\n",
        "\n",
        "    for module in model.modules():\n",
        "        # モジュールがSupermaskConvであるか確認\n",
        "        if isinstance(module, SupermaskConv):\n",
        "            # SupermaskConv層の重みを取得\n",
        "            weight = module.weight.data\n",
        "            # 刈り込みを適用した後の重みを取得\n",
        "            subnet = GetSubnet.apply(module.clamped_scores, 1 - module.prune_rate)\n",
        "            pruned_weight = weight * subnet\n",
        "            # 0である要素数を計算\n",
        "            pruned_weights_count = (pruned_weight == 0).sum().item()\n",
        "            total_pruned_weights += pruned_weights_count\n",
        "            # 重みの全要素数を計算\n",
        "            total_weights_count = pruned_weight.numel()\n",
        "            total_weights += total_weights_count\n",
        "\n",
        "    # 刈り込みが行われた割合を計算\n",
        "    pruned_ratio = total_pruned_weights / total_weights\n",
        "    return print(f\"刈り込み率は{pruned_ratio:.3f}です\")\n",
        "\n",
        "# モデルの刈り込み率を確認\n",
        "calculate_pruned_ratio(model)"
      ],
      "metadata": {
        "id": "FKdXWvTGsKjo",
        "colab": {
          "base_uri": "https://localhost:8080/"
        },
        "outputId": "c011d1bb-b46e-47b0-eb29-dee01fe4a091"
      },
      "execution_count": 65,
      "outputs": [
        {
          "output_type": "stream",
          "name": "stdout",
          "text": [
            "刈り込み率は0.995です\n"
          ]
        }
      ]
    },
    {
      "cell_type": "code",
      "source": [
        "# 学習前後のモデルのスコアを比較する関数を作成\n",
        "def check_scores_change(model, model_init):\n",
        "    # 各モデルの名前付きモジュールを順に調べる\n",
        "    for (name, module), (name_init, module_init) in zip(model.named_modules(), model_init.named_modules()):\n",
        "        # 両モジュールがConv2dのインスタンスであるかを確認\n",
        "        if isinstance(module, torch.nn.Conv2d) and isinstance(module_init, torch.nn.Conv2d):\n",
        "            # 両モジュールが'scores'属性を持っているかを確認\n",
        "            if hasattr(module, 'scores') and hasattr(module_init, 'scores'):\n",
        "                # 両モジュールの'scores'属性が一致しているかを確認\n",
        "                # 一致していない場合、変更があったことを示すメッセージを出力\n",
        "                if not torch.equal(module.scores, module_init.scores):\n",
        "                    print(f'{name}のスコアが変化しています')\n",
        "                    return\n",
        "    # すべてのconv層で'scores'が変更されていない場合、その旨を出力\n",
        "    print('すべてのスコアは変化していません')\n",
        "\n",
        "# 学習前後でモデルのスコアが変化していないかを確認\n",
        "check_scores_change(model, model_init)"
      ],
      "metadata": {
        "id": "av4C_G4hsKjo",
        "colab": {
          "base_uri": "https://localhost:8080/"
        },
        "outputId": "06138d4c-5dea-413b-9f44-b7339e5e3302"
      },
      "execution_count": 66,
      "outputs": [
        {
          "output_type": "stream",
          "name": "stdout",
          "text": [
            "すべてのスコアは変化していません\n"
          ]
        }
      ]
    },
    {
      "cell_type": "code",
      "source": [
        "# 学習前後のモデルの最終層以外の重みを比較する関数を作成\n",
        "def check_weight_change_except_last(model, model_init):\n",
        "    for (name, param), (name_init, param_init) in zip(model.named_parameters(), model_init.named_parameters()):\n",
        "        # 最終層を除く\n",
        "        if name != 'fc.weight' and name != 'fc.bias':\n",
        "            weights_changed = (param.data != param_init.data).any()\n",
        "            if weights_changed:\n",
        "                return print('最終層以外の重みが変化しています')\n",
        "    return print('最終層以外の重みは変化していません')\n",
        "\n",
        "# 学習前後でモデルの最終層以外の重みが変化していないかを確認\n",
        "check_weight_change_except_last(model, model_init)"
      ],
      "metadata": {
        "id": "g-VKHtD_sKjo",
        "colab": {
          "base_uri": "https://localhost:8080/"
        },
        "outputId": "5a169600-f0ae-4368-b930-66d390e1ebe2"
      },
      "execution_count": 67,
      "outputs": [
        {
          "output_type": "stream",
          "name": "stdout",
          "text": [
            "最終層以外の重みは変化していません\n"
          ]
        }
      ]
    },
    {
      "cell_type": "code",
      "source": [
        "# モデルの評価\n",
        "model.eval()\n",
        "with torch.no_grad():\n",
        "    total = 0\n",
        "    correct = 0\n",
        "    for images, labels in test_loader_handsigns:\n",
        "        images = images.to(device)\n",
        "        labels = labels.to(device)\n",
        "        outputs = model(images)\n",
        "        _, predicted = torch.max(outputs.data, 1)\n",
        "        total += labels.size(0)\n",
        "        correct += (predicted == labels).sum().item()\n",
        "    # 正解率精度の確認\n",
        "    print('Test Accuracy: {} %'.format(100 * correct / total))"
      ],
      "metadata": {
        "id": "ZCufdW6FsKjo",
        "colab": {
          "base_uri": "https://localhost:8080/"
        },
        "outputId": "a05a3f57-7c3b-48ed-8e41-3783b7e34dda"
      },
      "execution_count": 68,
      "outputs": [
        {
          "output_type": "stream",
          "name": "stdout",
          "text": [
            "Test Accuracy: 81.0 %\n"
          ]
        }
      ]
    },
    {
      "cell_type": "code",
      "source": [
        "# GPUメモリの解放\n",
        "del model, model_init\n",
        "torch.cuda.empty_cache()"
      ],
      "metadata": {
        "id": "Y9-eOxW1sKjp"
      },
      "execution_count": 69,
      "outputs": []
    },
    {
      "cell_type": "markdown",
      "source": [
        "### prune_rate=0.99"
      ],
      "metadata": {
        "id": "VkScBTgxsKjp"
      }
    },
    {
      "cell_type": "code",
      "source": [
        "# デバイスを設定\n",
        "device = torch.device('cuda' if torch.cuda.is_available() else 'cpu')\n",
        "# モデルを定義\n",
        "model = torch.load('/content/drive/MyDrive/SupermaskWideResNet28_10_CIFAR100_100epochs_pr0.99_normal_CLRS_restest.pth')\n",
        "# 最終層を変更\n",
        "model.fc = nn.Linear(model.fc.in_features, 10)\n",
        "# 最終層以外のパラメータの勾配計算を停止\n",
        "for param in model.parameters():\n",
        "    param.requires_grad = False\n",
        "# 最終層のパラメータのみを学習するように設定\n",
        "for param in model.fc.parameters():\n",
        "    param.requires_grad = True\n",
        "# モデルをデバイスに転送\n",
        "model = model.to(device)\n",
        "# 変更後のモデルの重みを保存\n",
        "model_init = copy.deepcopy(model)\n",
        "\n",
        "# 学習率を設定\n",
        "learning_rate = 0.01\n",
        "# 全体のepoch数を設定\n",
        "num_epochs = 50\n",
        "# warm-upするepoch数を設定\n",
        "warmup_epochs = 5\n",
        "\n",
        "# 損失関数を定義\n",
        "criterion = nn.CrossEntropyLoss()\n",
        "# オプティマイザーを設定\n",
        "optimizer = optim.Adam(model.fc.parameters(), lr=learning_rate)\n",
        "# スケジューラーを設定\n",
        "scheduler = CosineLRScheduler(optimizer, t_initial=num_epochs, lr_min=1e-4, warmup_t=warmup_epochs, warmup_lr_init=1e-4, warmup_prefix=True)\n",
        "\n",
        "# モデルの学習\n",
        "for epoch in range(num_epochs):\n",
        "    total = 0\n",
        "    correct = 0\n",
        "    for i, (images, labels) in enumerate(train_loader_handsigns):\n",
        "        images = images.to(device)\n",
        "        labels = labels.to(device)\n",
        "        # 順伝播\n",
        "        outputs = model(images)\n",
        "        loss = criterion(outputs, labels)\n",
        "        # 逆伝播\n",
        "        optimizer.zero_grad()\n",
        "        loss.backward()\n",
        "        optimizer.step()\n",
        "        _, predicted = torch.max(outputs.data, 1)\n",
        "        # 全データ数\n",
        "        total += labels.size(0)\n",
        "        # 正解数\n",
        "        correct += (predicted == labels).sum().item()\n",
        "    # 正解率精度を計算\n",
        "    train_acc = 100 * correct / total\n",
        "    # 正解率精度と損失を確認\n",
        "    print(\"Epoch [{}/{}], Train Accuracy: {} %, Loss: {:.4f}\".format(epoch+1, num_epochs, 100 * correct / total, loss.item()))\n",
        "    # 1エポック終了後にスケジューラーを更新\n",
        "    scheduler.step(epoch)\n",
        "    # 学習率の確認\n",
        "    print(\"Epoch [{}/{}], Learning Rate: {}\".format(epoch+1, num_epochs, optimizer.param_groups[0]['lr']))\n",
        "\n",
        "\n",
        "# モデルを保存\n",
        "torch.save(model, '/content/drive/MyDrive/SupermaskWideResNet28_10_HandSigns_from_CIFAR100_100epochs_pr0.99_normal_50epochs_lr0.01_CLRS_restest.pth')"
      ],
      "metadata": {
        "id": "QiH_-IeRsKjp",
        "colab": {
          "base_uri": "https://localhost:8080/"
        },
        "outputId": "b9d3a117-974d-466c-97d3-b9e00e8e9a1e"
      },
      "execution_count": 70,
      "outputs": [
        {
          "output_type": "stream",
          "name": "stdout",
          "text": [
            "Epoch [1/50], Train Accuracy: 12.8 %, Loss: 2.2755\n",
            "Epoch [1/50], Learning Rate: 0.0001\n",
            "Epoch [2/50], Train Accuracy: 24.8 %, Loss: 2.2159\n",
            "Epoch [2/50], Learning Rate: 0.00208\n",
            "Epoch [3/50], Train Accuracy: 37.3 %, Loss: 1.6395\n",
            "Epoch [3/50], Learning Rate: 0.00406\n",
            "Epoch [4/50], Train Accuracy: 51.5 %, Loss: 1.8506\n",
            "Epoch [4/50], Learning Rate: 0.00604\n",
            "Epoch [5/50], Train Accuracy: 51.1 %, Loss: 1.2633\n",
            "Epoch [5/50], Learning Rate: 0.00802\n",
            "Epoch [6/50], Train Accuracy: 54.6 %, Loss: 2.2236\n",
            "Epoch [6/50], Learning Rate: 0.01\n",
            "Epoch [7/50], Train Accuracy: 56.6 %, Loss: 1.2103\n",
            "Epoch [7/50], Learning Rate: 0.009990232305719944\n",
            "Epoch [8/50], Train Accuracy: 63.2 %, Loss: 0.6266\n",
            "Epoch [8/50], Learning Rate: 0.009960967771506667\n",
            "Epoch [9/50], Train Accuracy: 58.5 %, Loss: 0.7785\n",
            "Epoch [9/50], Learning Rate: 0.00991232189110701\n",
            "Epoch [10/50], Train Accuracy: 62.6 %, Loss: 1.4964\n",
            "Epoch [10/50], Learning Rate: 0.009844486647586723\n",
            "Epoch [11/50], Train Accuracy: 66.7 %, Loss: 0.4929\n",
            "Epoch [11/50], Learning Rate: 0.009757729755661011\n",
            "Epoch [12/50], Train Accuracy: 65.3 %, Loss: 1.4692\n",
            "Epoch [12/50], Learning Rate: 0.009652393605146845\n",
            "Epoch [13/50], Train Accuracy: 65.3 %, Loss: 1.4474\n",
            "Epoch [13/50], Learning Rate: 0.009528893909706798\n",
            "Epoch [14/50], Train Accuracy: 67.5 %, Loss: 0.9357\n",
            "Epoch [14/50], Learning Rate: 0.009387718066217124\n",
            "Epoch [15/50], Train Accuracy: 64.7 %, Loss: 0.9863\n",
            "Epoch [15/50], Learning Rate: 0.009229423231234974\n",
            "Epoch [16/50], Train Accuracy: 70.2 %, Loss: 2.3480\n",
            "Epoch [16/50], Learning Rate: 0.00905463412215599\n",
            "Epoch [17/50], Train Accuracy: 71.0 %, Loss: 0.8288\n",
            "Epoch [17/50], Learning Rate: 0.008864040551740157\n",
            "Epoch [18/50], Train Accuracy: 68.7 %, Loss: 1.2034\n",
            "Epoch [18/50], Learning Rate: 0.008658394705735987\n",
            "Epoch [19/50], Train Accuracy: 68.9 %, Loss: 0.9412\n",
            "Epoch [19/50], Learning Rate: 0.00843850817434701\n",
            "Epoch [20/50], Train Accuracy: 72.1 %, Loss: 1.3089\n",
            "Epoch [20/50], Learning Rate: 0.008205248749256015\n",
            "Epoch [21/50], Train Accuracy: 72.7 %, Loss: 1.2716\n",
            "Epoch [21/50], Learning Rate: 0.007959536998847744\n",
            "Epoch [22/50], Train Accuracy: 68.5 %, Loss: 0.4812\n",
            "Epoch [22/50], Learning Rate: 0.007702342635146034\n",
            "Epoch [23/50], Train Accuracy: 71.6 %, Loss: 1.6270\n",
            "Epoch [23/50], Learning Rate: 0.007434680686803491\n",
            "Epoch [24/50], Train Accuracy: 71.0 %, Loss: 1.0312\n",
            "Epoch [24/50], Learning Rate: 0.0071576074932471105\n",
            "Epoch [25/50], Train Accuracy: 70.7 %, Loss: 0.5120\n",
            "Epoch [25/50], Learning Rate: 0.006872216535789157\n",
            "Epoch [26/50], Train Accuracy: 76.7 %, Loss: 0.9399\n",
            "Epoch [26/50], Learning Rate: 0.006579634122155991\n",
            "Epoch [27/50], Train Accuracy: 75.6 %, Loss: 1.8042\n",
            "Epoch [27/50], Learning Rate: 0.0062810149414660316\n",
            "Epoch [28/50], Train Accuracy: 76.8 %, Loss: 1.2854\n",
            "Epoch [28/50], Learning Rate: 0.005977537507199339\n",
            "Epoch [29/50], Train Accuracy: 75.4 %, Loss: 1.3117\n",
            "Epoch [29/50], Learning Rate: 0.005670399506143308\n",
            "Epoch [30/50], Train Accuracy: 77.0 %, Loss: 0.7705\n",
            "Epoch [30/50], Learning Rate: 0.005360813071670102\n",
            "Epoch [31/50], Train Accuracy: 78.1 %, Loss: 1.2928\n",
            "Epoch [31/50], Learning Rate: 0.005050000000000001\n",
            "Epoch [32/50], Train Accuracy: 79.1 %, Loss: 0.3724\n",
            "Epoch [32/50], Learning Rate: 0.004739186928329899\n",
            "Epoch [33/50], Train Accuracy: 77.3 %, Loss: 0.2079\n",
            "Epoch [33/50], Learning Rate: 0.004429600493856695\n",
            "Epoch [34/50], Train Accuracy: 78.6 %, Loss: 0.8791\n",
            "Epoch [34/50], Learning Rate: 0.0041224624928006635\n",
            "Epoch [35/50], Train Accuracy: 77.1 %, Loss: 0.8105\n",
            "Epoch [35/50], Learning Rate: 0.0038189850585339685\n",
            "Epoch [36/50], Train Accuracy: 75.6 %, Loss: 0.5506\n",
            "Epoch [36/50], Learning Rate: 0.003520365877844012\n",
            "Epoch [37/50], Train Accuracy: 79.1 %, Loss: 1.0109\n",
            "Epoch [37/50], Learning Rate: 0.0032277834642108457\n",
            "Epoch [38/50], Train Accuracy: 79.9 %, Loss: 0.9755\n",
            "Epoch [38/50], Learning Rate: 0.0029423925067528904\n",
            "Epoch [39/50], Train Accuracy: 79.2 %, Loss: 0.3533\n",
            "Epoch [39/50], Learning Rate: 0.002665319313196509\n",
            "Epoch [40/50], Train Accuracy: 77.7 %, Loss: 0.6763\n",
            "Epoch [40/50], Learning Rate: 0.0023976573648539653\n",
            "Epoch [41/50], Train Accuracy: 79.7 %, Loss: 1.8473\n",
            "Epoch [41/50], Learning Rate: 0.0021404630011522584\n",
            "Epoch [42/50], Train Accuracy: 80.6 %, Loss: 1.5820\n",
            "Epoch [42/50], Learning Rate: 0.001894751250743986\n",
            "Epoch [43/50], Train Accuracy: 84.2 %, Loss: 0.1463\n",
            "Epoch [43/50], Learning Rate: 0.001661491825652991\n",
            "Epoch [44/50], Train Accuracy: 80.8 %, Loss: 0.5690\n",
            "Epoch [44/50], Learning Rate: 0.001441605294264014\n",
            "Epoch [45/50], Train Accuracy: 82.3 %, Loss: 0.3905\n",
            "Epoch [45/50], Learning Rate: 0.001235959448259844\n",
            "Epoch [46/50], Train Accuracy: 82.1 %, Loss: 0.8763\n",
            "Epoch [46/50], Learning Rate: 0.0010453658778440107\n",
            "Epoch [47/50], Train Accuracy: 80.6 %, Loss: 0.5866\n",
            "Epoch [47/50], Learning Rate: 0.0008705767687650265\n",
            "Epoch [48/50], Train Accuracy: 81.9 %, Loss: 0.3919\n",
            "Epoch [48/50], Learning Rate: 0.0007122819337828754\n",
            "Epoch [49/50], Train Accuracy: 82.3 %, Loss: 0.7172\n",
            "Epoch [49/50], Learning Rate: 0.0005711060902932043\n",
            "Epoch [50/50], Train Accuracy: 81.3 %, Loss: 0.4135\n",
            "Epoch [50/50], Learning Rate: 0.00044760639485315584\n"
          ]
        }
      ]
    },
    {
      "cell_type": "code",
      "source": [
        "# モデルの刈り込み率を計算する関数を作成\n",
        "def calculate_pruned_ratio(model):\n",
        "    total_weights = 0\n",
        "    total_pruned_weights = 0\n",
        "\n",
        "    for module in model.modules():\n",
        "        # モジュールがSupermaskConvであるか確認\n",
        "        if isinstance(module, SupermaskConv):\n",
        "            # SupermaskConv層の重みを取得\n",
        "            weight = module.weight.data\n",
        "            # 刈り込みを適用した後の重みを取得\n",
        "            subnet = GetSubnet.apply(module.clamped_scores, 1 - module.prune_rate)\n",
        "            pruned_weight = weight * subnet\n",
        "            # 0である要素数を計算\n",
        "            pruned_weights_count = (pruned_weight == 0).sum().item()\n",
        "            total_pruned_weights += pruned_weights_count\n",
        "            # 重みの全要素数を計算\n",
        "            total_weights_count = pruned_weight.numel()\n",
        "            total_weights += total_weights_count\n",
        "\n",
        "    # 刈り込みが行われた割合を計算\n",
        "    pruned_ratio = total_pruned_weights / total_weights\n",
        "    return print(f\"刈り込み率は{pruned_ratio:.3f}です\")\n",
        "\n",
        "# モデルの刈り込み率を確認\n",
        "calculate_pruned_ratio(model)"
      ],
      "metadata": {
        "id": "cJfgbkhZsKjp",
        "colab": {
          "base_uri": "https://localhost:8080/"
        },
        "outputId": "26cd0e73-189b-4bd8-cc6b-ef19ce267fe6"
      },
      "execution_count": 71,
      "outputs": [
        {
          "output_type": "stream",
          "name": "stdout",
          "text": [
            "刈り込み率は0.990です\n"
          ]
        }
      ]
    },
    {
      "cell_type": "code",
      "source": [
        "# 学習前後のモデルのスコアを比較する関数を作成\n",
        "def check_scores_change(model, model_init):\n",
        "    # 各モデルの名前付きモジュールを順に調べる\n",
        "    for (name, module), (name_init, module_init) in zip(model.named_modules(), model_init.named_modules()):\n",
        "        # 両モジュールがConv2dのインスタンスであるかを確認\n",
        "        if isinstance(module, torch.nn.Conv2d) and isinstance(module_init, torch.nn.Conv2d):\n",
        "            # 両モジュールが'scores'属性を持っているかを確認\n",
        "            if hasattr(module, 'scores') and hasattr(module_init, 'scores'):\n",
        "                # 両モジュールの'scores'属性が一致しているかを確認\n",
        "                # 一致していない場合、変更があったことを示すメッセージを出力\n",
        "                if not torch.equal(module.scores, module_init.scores):\n",
        "                    print(f'{name}のスコアが変化しています')\n",
        "                    return\n",
        "    # すべてのconv層で'scores'が変更されていない場合、その旨を出力\n",
        "    print('すべてのスコアは変化していません')\n",
        "\n",
        "# 学習前後でモデルのスコアが変化していないかを確認\n",
        "check_scores_change(model, model_init)"
      ],
      "metadata": {
        "id": "nH5bKN32sKjp",
        "colab": {
          "base_uri": "https://localhost:8080/"
        },
        "outputId": "b56a6cbd-3f8c-4fff-b5c1-b797eae4871e"
      },
      "execution_count": 72,
      "outputs": [
        {
          "output_type": "stream",
          "name": "stdout",
          "text": [
            "すべてのスコアは変化していません\n"
          ]
        }
      ]
    },
    {
      "cell_type": "code",
      "source": [
        "# 学習前後のモデルの最終層以外の重みを比較する関数を作成\n",
        "def check_weight_change_except_last(model, model_init):\n",
        "    for (name, param), (name_init, param_init) in zip(model.named_parameters(), model_init.named_parameters()):\n",
        "        # 最終層を除く\n",
        "        if name != 'fc.weight' and name != 'fc.bias':\n",
        "            weights_changed = (param.data != param_init.data).any()\n",
        "            if weights_changed:\n",
        "                return print('最終層以外の重みが変化しています')\n",
        "    return print('最終層以外の重みは変化していません')\n",
        "\n",
        "# 学習前後でモデルの最終層以外の重みが変化していないかを確認\n",
        "check_weight_change_except_last(model, model_init)"
      ],
      "metadata": {
        "id": "HTHezonHsKjp",
        "colab": {
          "base_uri": "https://localhost:8080/"
        },
        "outputId": "ed86f282-6b71-4ae7-9973-7c171114b782"
      },
      "execution_count": 73,
      "outputs": [
        {
          "output_type": "stream",
          "name": "stdout",
          "text": [
            "最終層以外の重みは変化していません\n"
          ]
        }
      ]
    },
    {
      "cell_type": "code",
      "source": [
        "# モデルの評価\n",
        "model.eval()\n",
        "with torch.no_grad():\n",
        "    total = 0\n",
        "    correct = 0\n",
        "    for images, labels in test_loader_handsigns:\n",
        "        images = images.to(device)\n",
        "        labels = labels.to(device)\n",
        "        outputs = model(images)\n",
        "        _, predicted = torch.max(outputs.data, 1)\n",
        "        total += labels.size(0)\n",
        "        correct += (predicted == labels).sum().item()\n",
        "    # 正解率精度の確認\n",
        "    print('Test Accuracy: {} %'.format(100 * correct / total))"
      ],
      "metadata": {
        "id": "6zrYAw0HsKjp",
        "colab": {
          "base_uri": "https://localhost:8080/"
        },
        "outputId": "012deefe-117e-4272-e40b-489be3c10172"
      },
      "execution_count": 74,
      "outputs": [
        {
          "output_type": "stream",
          "name": "stdout",
          "text": [
            "Test Accuracy: 75.0 %\n"
          ]
        }
      ]
    },
    {
      "cell_type": "code",
      "source": [
        "# GPUメモリの解放\n",
        "del model, model_init\n",
        "torch.cuda.empty_cache()"
      ],
      "metadata": {
        "id": "lHw2fRutsKjq"
      },
      "execution_count": 75,
      "outputs": []
    },
    {
      "cell_type": "markdown",
      "source": [
        "### prune_rate=0.95"
      ],
      "metadata": {
        "id": "jol7GLjisKjq"
      }
    },
    {
      "cell_type": "code",
      "source": [
        "# デバイスを設定\n",
        "device = torch.device('cuda' if torch.cuda.is_available() else 'cpu')\n",
        "# モデルを定義\n",
        "model = torch.load('/content/drive/MyDrive/SupermaskWideResNet28_10_CIFAR100_100epochs_pr0.95_normal_CLRS_restest.pth')\n",
        "# 最終層を変更\n",
        "model.fc = nn.Linear(model.fc.in_features, 10)\n",
        "# 最終層以外のパラメータの勾配計算を停止\n",
        "for param in model.parameters():\n",
        "    param.requires_grad = False\n",
        "# 最終層のパラメータのみを学習するように設定\n",
        "for param in model.fc.parameters():\n",
        "    param.requires_grad = True\n",
        "# モデルをデバイスに転送\n",
        "model = model.to(device)\n",
        "# 変更後のモデルの重みを保存\n",
        "model_init = copy.deepcopy(model)\n",
        "\n",
        "# 学習率を設定\n",
        "learning_rate = 0.01\n",
        "# 全体のepoch数を設定\n",
        "num_epochs = 50\n",
        "# warm-upするepoch数を設定\n",
        "warmup_epochs = 5\n",
        "\n",
        "# 損失関数を定義\n",
        "criterion = nn.CrossEntropyLoss()\n",
        "# オプティマイザーを設定\n",
        "optimizer = optim.Adam(model.fc.parameters(), lr=learning_rate)\n",
        "# スケジューラーを設定\n",
        "scheduler = CosineLRScheduler(optimizer, t_initial=num_epochs, lr_min=1e-4, warmup_t=warmup_epochs, warmup_lr_init=1e-4, warmup_prefix=True)\n",
        "\n",
        "# モデルの学習\n",
        "for epoch in range(num_epochs):\n",
        "    total = 0\n",
        "    correct = 0\n",
        "    for i, (images, labels) in enumerate(train_loader_handsigns):\n",
        "        images = images.to(device)\n",
        "        labels = labels.to(device)\n",
        "        # 順伝播\n",
        "        outputs = model(images)\n",
        "        loss = criterion(outputs, labels)\n",
        "        # 逆伝播\n",
        "        optimizer.zero_grad()\n",
        "        loss.backward()\n",
        "        optimizer.step()\n",
        "        _, predicted = torch.max(outputs.data, 1)\n",
        "        # 全データ数\n",
        "        total += labels.size(0)\n",
        "        # 正解数\n",
        "        correct += (predicted == labels).sum().item()\n",
        "    # 正解率精度を計算\n",
        "    train_acc = 100 * correct / total\n",
        "    # 正解率精度と損失を確認\n",
        "    print(\"Epoch [{}/{}], Train Accuracy: {} %, Loss: {:.4f}\".format(epoch+1, num_epochs, 100 * correct / total, loss.item()))\n",
        "    # 1エポック終了後にスケジューラーを更新\n",
        "    scheduler.step(epoch)\n",
        "    # 学習率の確認\n",
        "    print(\"Epoch [{}/{}], Learning Rate: {}\".format(epoch+1, num_epochs, optimizer.param_groups[0]['lr']))\n",
        "\n",
        "\n",
        "# モデルを保存\n",
        "torch.save(model, '/content/drive/MyDrive/SupermaskWideResNet28_10_HandSigns_from_CIFAR100_100epochs_pr0.95_normal_50epochs_lr0.01_CLRS_restest.pth')"
      ],
      "metadata": {
        "id": "J_B7bedqsKjq",
        "colab": {
          "base_uri": "https://localhost:8080/"
        },
        "outputId": "5d8066ef-2b33-4fbb-ee55-2e33e9465bdf"
      },
      "execution_count": 76,
      "outputs": [
        {
          "output_type": "stream",
          "name": "stdout",
          "text": [
            "Epoch [1/50], Train Accuracy: 7.9 %, Loss: 2.2513\n",
            "Epoch [1/50], Learning Rate: 0.0001\n",
            "Epoch [2/50], Train Accuracy: 20.2 %, Loss: 2.1191\n",
            "Epoch [2/50], Learning Rate: 0.00208\n",
            "Epoch [3/50], Train Accuracy: 40.9 %, Loss: 1.4720\n",
            "Epoch [3/50], Learning Rate: 0.00406\n",
            "Epoch [4/50], Train Accuracy: 54.7 %, Loss: 0.8214\n",
            "Epoch [4/50], Learning Rate: 0.00604\n",
            "Epoch [5/50], Train Accuracy: 60.9 %, Loss: 0.9439\n",
            "Epoch [5/50], Learning Rate: 0.00802\n",
            "Epoch [6/50], Train Accuracy: 59.4 %, Loss: 1.3865\n",
            "Epoch [6/50], Learning Rate: 0.01\n",
            "Epoch [7/50], Train Accuracy: 63.4 %, Loss: 1.7270\n",
            "Epoch [7/50], Learning Rate: 0.009990232305719944\n",
            "Epoch [8/50], Train Accuracy: 68.3 %, Loss: 1.5527\n",
            "Epoch [8/50], Learning Rate: 0.009960967771506667\n",
            "Epoch [9/50], Train Accuracy: 67.0 %, Loss: 1.9623\n",
            "Epoch [9/50], Learning Rate: 0.00991232189110701\n",
            "Epoch [10/50], Train Accuracy: 68.0 %, Loss: 1.5890\n",
            "Epoch [10/50], Learning Rate: 0.009844486647586723\n",
            "Epoch [11/50], Train Accuracy: 73.7 %, Loss: 0.3357\n",
            "Epoch [11/50], Learning Rate: 0.009757729755661011\n",
            "Epoch [12/50], Train Accuracy: 74.2 %, Loss: 0.7443\n",
            "Epoch [12/50], Learning Rate: 0.009652393605146845\n",
            "Epoch [13/50], Train Accuracy: 74.9 %, Loss: 1.5078\n",
            "Epoch [13/50], Learning Rate: 0.009528893909706798\n",
            "Epoch [14/50], Train Accuracy: 73.7 %, Loss: 0.5134\n",
            "Epoch [14/50], Learning Rate: 0.009387718066217124\n",
            "Epoch [15/50], Train Accuracy: 78.1 %, Loss: 1.1904\n",
            "Epoch [15/50], Learning Rate: 0.009229423231234974\n",
            "Epoch [16/50], Train Accuracy: 74.9 %, Loss: 1.0291\n",
            "Epoch [16/50], Learning Rate: 0.00905463412215599\n",
            "Epoch [17/50], Train Accuracy: 75.8 %, Loss: 2.0016\n",
            "Epoch [17/50], Learning Rate: 0.008864040551740157\n",
            "Epoch [18/50], Train Accuracy: 75.9 %, Loss: 0.3742\n",
            "Epoch [18/50], Learning Rate: 0.008658394705735987\n",
            "Epoch [19/50], Train Accuracy: 76.3 %, Loss: 0.8278\n",
            "Epoch [19/50], Learning Rate: 0.00843850817434701\n",
            "Epoch [20/50], Train Accuracy: 81.1 %, Loss: 0.5332\n",
            "Epoch [20/50], Learning Rate: 0.008205248749256015\n",
            "Epoch [21/50], Train Accuracy: 79.9 %, Loss: 0.4586\n",
            "Epoch [21/50], Learning Rate: 0.007959536998847744\n",
            "Epoch [22/50], Train Accuracy: 78.7 %, Loss: 0.4481\n",
            "Epoch [22/50], Learning Rate: 0.007702342635146034\n",
            "Epoch [23/50], Train Accuracy: 78.4 %, Loss: 0.6022\n",
            "Epoch [23/50], Learning Rate: 0.007434680686803491\n",
            "Epoch [24/50], Train Accuracy: 80.9 %, Loss: 0.9571\n",
            "Epoch [24/50], Learning Rate: 0.0071576074932471105\n",
            "Epoch [25/50], Train Accuracy: 80.6 %, Loss: 1.2993\n",
            "Epoch [25/50], Learning Rate: 0.006872216535789157\n",
            "Epoch [26/50], Train Accuracy: 84.1 %, Loss: 0.4516\n",
            "Epoch [26/50], Learning Rate: 0.006579634122155991\n",
            "Epoch [27/50], Train Accuracy: 81.0 %, Loss: 0.2283\n",
            "Epoch [27/50], Learning Rate: 0.0062810149414660316\n",
            "Epoch [28/50], Train Accuracy: 81.6 %, Loss: 0.8399\n",
            "Epoch [28/50], Learning Rate: 0.005977537507199339\n",
            "Epoch [29/50], Train Accuracy: 82.2 %, Loss: 0.2061\n",
            "Epoch [29/50], Learning Rate: 0.005670399506143308\n",
            "Epoch [30/50], Train Accuracy: 86.2 %, Loss: 0.3664\n",
            "Epoch [30/50], Learning Rate: 0.005360813071670102\n",
            "Epoch [31/50], Train Accuracy: 80.6 %, Loss: 0.2088\n",
            "Epoch [31/50], Learning Rate: 0.005050000000000001\n",
            "Epoch [32/50], Train Accuracy: 83.8 %, Loss: 0.5834\n",
            "Epoch [32/50], Learning Rate: 0.004739186928329899\n",
            "Epoch [33/50], Train Accuracy: 86.4 %, Loss: 0.4259\n",
            "Epoch [33/50], Learning Rate: 0.004429600493856695\n",
            "Epoch [34/50], Train Accuracy: 84.1 %, Loss: 0.3956\n",
            "Epoch [34/50], Learning Rate: 0.0041224624928006635\n",
            "Epoch [35/50], Train Accuracy: 83.2 %, Loss: 1.0461\n",
            "Epoch [35/50], Learning Rate: 0.0038189850585339685\n",
            "Epoch [36/50], Train Accuracy: 83.5 %, Loss: 0.4934\n",
            "Epoch [36/50], Learning Rate: 0.003520365877844012\n",
            "Epoch [37/50], Train Accuracy: 84.5 %, Loss: 1.0367\n",
            "Epoch [37/50], Learning Rate: 0.0032277834642108457\n",
            "Epoch [38/50], Train Accuracy: 85.9 %, Loss: 0.7976\n",
            "Epoch [38/50], Learning Rate: 0.0029423925067528904\n",
            "Epoch [39/50], Train Accuracy: 85.4 %, Loss: 0.4825\n",
            "Epoch [39/50], Learning Rate: 0.002665319313196509\n",
            "Epoch [40/50], Train Accuracy: 86.4 %, Loss: 0.5190\n",
            "Epoch [40/50], Learning Rate: 0.0023976573648539653\n",
            "Epoch [41/50], Train Accuracy: 86.3 %, Loss: 0.1753\n",
            "Epoch [41/50], Learning Rate: 0.0021404630011522584\n",
            "Epoch [42/50], Train Accuracy: 86.6 %, Loss: 0.2014\n",
            "Epoch [42/50], Learning Rate: 0.001894751250743986\n",
            "Epoch [43/50], Train Accuracy: 89.3 %, Loss: 0.7523\n",
            "Epoch [43/50], Learning Rate: 0.001661491825652991\n",
            "Epoch [44/50], Train Accuracy: 87.1 %, Loss: 0.4096\n",
            "Epoch [44/50], Learning Rate: 0.001441605294264014\n",
            "Epoch [45/50], Train Accuracy: 89.4 %, Loss: 0.3824\n",
            "Epoch [45/50], Learning Rate: 0.001235959448259844\n",
            "Epoch [46/50], Train Accuracy: 87.5 %, Loss: 0.3229\n",
            "Epoch [46/50], Learning Rate: 0.0010453658778440107\n",
            "Epoch [47/50], Train Accuracy: 90.0 %, Loss: 0.2483\n",
            "Epoch [47/50], Learning Rate: 0.0008705767687650265\n",
            "Epoch [48/50], Train Accuracy: 88.7 %, Loss: 0.6074\n",
            "Epoch [48/50], Learning Rate: 0.0007122819337828754\n",
            "Epoch [49/50], Train Accuracy: 88.3 %, Loss: 0.6579\n",
            "Epoch [49/50], Learning Rate: 0.0005711060902932043\n",
            "Epoch [50/50], Train Accuracy: 89.7 %, Loss: 0.6691\n",
            "Epoch [50/50], Learning Rate: 0.00044760639485315584\n"
          ]
        }
      ]
    },
    {
      "cell_type": "code",
      "source": [
        "# モデルの刈り込み率を計算する関数を作成\n",
        "def calculate_pruned_ratio(model):\n",
        "    total_weights = 0\n",
        "    total_pruned_weights = 0\n",
        "\n",
        "    for module in model.modules():\n",
        "        # モジュールがSupermaskConvであるか確認\n",
        "        if isinstance(module, SupermaskConv):\n",
        "            # SupermaskConv層の重みを取得\n",
        "            weight = module.weight.data\n",
        "            # 刈り込みを適用した後の重みを取得\n",
        "            subnet = GetSubnet.apply(module.clamped_scores, 1 - module.prune_rate)\n",
        "            pruned_weight = weight * subnet\n",
        "            # 0である要素数を計算\n",
        "            pruned_weights_count = (pruned_weight == 0).sum().item()\n",
        "            total_pruned_weights += pruned_weights_count\n",
        "            # 重みの全要素数を計算\n",
        "            total_weights_count = pruned_weight.numel()\n",
        "            total_weights += total_weights_count\n",
        "\n",
        "    # 刈り込みが行われた割合を計算\n",
        "    pruned_ratio = total_pruned_weights / total_weights\n",
        "    return print(f\"刈り込み率は{pruned_ratio:.3f}です\")\n",
        "\n",
        "# モデルの刈り込み率を確認\n",
        "calculate_pruned_ratio(model)"
      ],
      "metadata": {
        "id": "1aZxqP9IsKjq",
        "colab": {
          "base_uri": "https://localhost:8080/"
        },
        "outputId": "379e4ef0-1ce4-4947-ef29-ccef7dbfa787"
      },
      "execution_count": 77,
      "outputs": [
        {
          "output_type": "stream",
          "name": "stdout",
          "text": [
            "刈り込み率は0.950です\n"
          ]
        }
      ]
    },
    {
      "cell_type": "code",
      "source": [
        "# 学習前後のモデルのスコアを比較する関数を作成\n",
        "def check_scores_change(model, model_init):\n",
        "    # 各モデルの名前付きモジュールを順に調べる\n",
        "    for (name, module), (name_init, module_init) in zip(model.named_modules(), model_init.named_modules()):\n",
        "        # 両モジュールがConv2dのインスタンスであるかを確認\n",
        "        if isinstance(module, torch.nn.Conv2d) and isinstance(module_init, torch.nn.Conv2d):\n",
        "            # 両モジュールが'scores'属性を持っているかを確認\n",
        "            if hasattr(module, 'scores') and hasattr(module_init, 'scores'):\n",
        "                # 両モジュールの'scores'属性が一致しているかを確認\n",
        "                # 一致していない場合、変更があったことを示すメッセージを出力\n",
        "                if not torch.equal(module.scores, module_init.scores):\n",
        "                    print(f'{name}のスコアが変化しています')\n",
        "                    return\n",
        "    # すべてのconv層で'scores'が変更されていない場合、その旨を出力\n",
        "    print('すべてのスコアは変化していません')\n",
        "\n",
        "# 学習前後でモデルのスコアが変化していないかを確認\n",
        "check_scores_change(model, model_init)"
      ],
      "metadata": {
        "id": "RFnYJCFQsKjq",
        "colab": {
          "base_uri": "https://localhost:8080/"
        },
        "outputId": "9fd2f9d0-47a0-4adf-9363-e9fd2abf550a"
      },
      "execution_count": 78,
      "outputs": [
        {
          "output_type": "stream",
          "name": "stdout",
          "text": [
            "すべてのスコアは変化していません\n"
          ]
        }
      ]
    },
    {
      "cell_type": "code",
      "source": [
        "# 学習前後のモデルの最終層以外の重みを比較する関数を作成\n",
        "def check_weight_change_except_last(model, model_init):\n",
        "    for (name, param), (name_init, param_init) in zip(model.named_parameters(), model_init.named_parameters()):\n",
        "        # 最終層を除く\n",
        "        if name != 'fc.weight' and name != 'fc.bias':\n",
        "            weights_changed = (param.data != param_init.data).any()\n",
        "            if weights_changed:\n",
        "                return print('最終層以外の重みが変化しています')\n",
        "    return print('最終層以外の重みは変化していません')\n",
        "\n",
        "# 学習前後でモデルの最終層以外の重みが変化していないかを確認\n",
        "check_weight_change_except_last(model, model_init)"
      ],
      "metadata": {
        "id": "QDeN9Kt9sKjq",
        "colab": {
          "base_uri": "https://localhost:8080/"
        },
        "outputId": "10923ee3-61fb-4256-b8e2-5b3e29ae35d9"
      },
      "execution_count": 79,
      "outputs": [
        {
          "output_type": "stream",
          "name": "stdout",
          "text": [
            "最終層以外の重みは変化していません\n"
          ]
        }
      ]
    },
    {
      "cell_type": "code",
      "source": [
        "# モデルの評価\n",
        "model.eval()\n",
        "with torch.no_grad():\n",
        "    total = 0\n",
        "    correct = 0\n",
        "    for images, labels in test_loader_handsigns:\n",
        "        images = images.to(device)\n",
        "        labels = labels.to(device)\n",
        "        outputs = model(images)\n",
        "        _, predicted = torch.max(outputs.data, 1)\n",
        "        total += labels.size(0)\n",
        "        correct += (predicted == labels).sum().item()\n",
        "    # 正解率精度の確認\n",
        "    print('Test Accuracy: {} %'.format(100 * correct / total))"
      ],
      "metadata": {
        "id": "GxfuSX3GsKjq",
        "colab": {
          "base_uri": "https://localhost:8080/"
        },
        "outputId": "a27a8ea1-9b9b-4393-d3d1-4c465cb3f05b"
      },
      "execution_count": 80,
      "outputs": [
        {
          "output_type": "stream",
          "name": "stdout",
          "text": [
            "Test Accuracy: 83.0 %\n"
          ]
        }
      ]
    },
    {
      "cell_type": "code",
      "source": [
        "# GPUメモリの解放\n",
        "del model, model_init\n",
        "torch.cuda.empty_cache()"
      ],
      "metadata": {
        "id": "nF-avApBsKjr"
      },
      "execution_count": 81,
      "outputs": []
    },
    {
      "cell_type": "markdown",
      "source": [
        "### prune_rate=0.9"
      ],
      "metadata": {
        "id": "Y1vtYNaysKjr"
      }
    },
    {
      "cell_type": "code",
      "source": [
        "# デバイスを設定\n",
        "device = torch.device('cuda' if torch.cuda.is_available() else 'cpu')\n",
        "# モデルを定義\n",
        "model = torch.load('/content/drive/MyDrive/SupermaskWideResNet28_10_CIFAR100_100epochs_pr0.9_normal_CLRS_restest.pth')\n",
        "# 最終層を変更\n",
        "model.fc = nn.Linear(model.fc.in_features, 10)\n",
        "# 最終層以外のパラメータの勾配計算を停止\n",
        "for param in model.parameters():\n",
        "    param.requires_grad = False\n",
        "# 最終層のパラメータのみを学習するように設定\n",
        "for param in model.fc.parameters():\n",
        "    param.requires_grad = True\n",
        "# モデルをデバイスに転送\n",
        "model = model.to(device)\n",
        "# 変更後のモデルの重みを保存\n",
        "model_init = copy.deepcopy(model)\n",
        "\n",
        "# 学習率を設定\n",
        "learning_rate = 0.01\n",
        "# 全体のepoch数を設定\n",
        "num_epochs = 50\n",
        "# warm-upするepoch数を設定\n",
        "warmup_epochs = 5\n",
        "\n",
        "# 損失関数を定義\n",
        "criterion = nn.CrossEntropyLoss()\n",
        "# オプティマイザーを設定\n",
        "optimizer = optim.Adam(model.fc.parameters(), lr=learning_rate)\n",
        "# スケジューラーを設定\n",
        "scheduler = CosineLRScheduler(optimizer, t_initial=num_epochs, lr_min=1e-4, warmup_t=warmup_epochs, warmup_lr_init=1e-4, warmup_prefix=True)\n",
        "\n",
        "# モデルの学習\n",
        "for epoch in range(num_epochs):\n",
        "    total = 0\n",
        "    correct = 0\n",
        "    for i, (images, labels) in enumerate(train_loader_handsigns):\n",
        "        images = images.to(device)\n",
        "        labels = labels.to(device)\n",
        "        # 順伝播\n",
        "        outputs = model(images)\n",
        "        loss = criterion(outputs, labels)\n",
        "        # 逆伝播\n",
        "        optimizer.zero_grad()\n",
        "        loss.backward()\n",
        "        optimizer.step()\n",
        "        _, predicted = torch.max(outputs.data, 1)\n",
        "        # 全データ数\n",
        "        total += labels.size(0)\n",
        "        # 正解数\n",
        "        correct += (predicted == labels).sum().item()\n",
        "    # 正解率精度を計算\n",
        "    train_acc = 100 * correct / total\n",
        "    # 正解率精度と損失を確認\n",
        "    print(\"Epoch [{}/{}], Train Accuracy: {} %, Loss: {:.4f}\".format(epoch+1, num_epochs, 100 * correct / total, loss.item()))\n",
        "    # 1エポック終了後にスケジューラーを更新\n",
        "    scheduler.step(epoch)\n",
        "    # 学習率の確認\n",
        "    print(\"Epoch [{}/{}], Learning Rate: {}\".format(epoch+1, num_epochs, optimizer.param_groups[0]['lr']))\n",
        "\n",
        "\n",
        "# モデルを保存\n",
        "torch.save(model, '/content/drive/MyDrive/SupermaskWideResNet28_10_HandSigns_from_CIFAR100_100epochs_pr0.9_normal_50epochs_lr0.01_CLRS_restest.pth')"
      ],
      "metadata": {
        "id": "T3yxTJAisKjr",
        "colab": {
          "base_uri": "https://localhost:8080/"
        },
        "outputId": "7021ec01-6375-4831-e3c6-174a91db8273"
      },
      "execution_count": 82,
      "outputs": [
        {
          "output_type": "stream",
          "name": "stdout",
          "text": [
            "Epoch [1/50], Train Accuracy: 16.7 %, Loss: 2.2916\n",
            "Epoch [1/50], Learning Rate: 0.0001\n",
            "Epoch [2/50], Train Accuracy: 27.7 %, Loss: 2.1635\n",
            "Epoch [2/50], Learning Rate: 0.00208\n",
            "Epoch [3/50], Train Accuracy: 43.5 %, Loss: 1.7982\n",
            "Epoch [3/50], Learning Rate: 0.00406\n",
            "Epoch [4/50], Train Accuracy: 56.4 %, Loss: 1.6203\n",
            "Epoch [4/50], Learning Rate: 0.00604\n",
            "Epoch [5/50], Train Accuracy: 60.0 %, Loss: 1.4700\n",
            "Epoch [5/50], Learning Rate: 0.00802\n",
            "Epoch [6/50], Train Accuracy: 63.0 %, Loss: 1.2516\n",
            "Epoch [6/50], Learning Rate: 0.01\n",
            "Epoch [7/50], Train Accuracy: 62.4 %, Loss: 0.2554\n",
            "Epoch [7/50], Learning Rate: 0.009990232305719944\n",
            "Epoch [8/50], Train Accuracy: 65.7 %, Loss: 1.3673\n",
            "Epoch [8/50], Learning Rate: 0.009960967771506667\n",
            "Epoch [9/50], Train Accuracy: 66.5 %, Loss: 1.1690\n",
            "Epoch [9/50], Learning Rate: 0.00991232189110701\n",
            "Epoch [10/50], Train Accuracy: 68.3 %, Loss: 1.6153\n",
            "Epoch [10/50], Learning Rate: 0.009844486647586723\n",
            "Epoch [11/50], Train Accuracy: 71.4 %, Loss: 1.4519\n",
            "Epoch [11/50], Learning Rate: 0.009757729755661011\n",
            "Epoch [12/50], Train Accuracy: 74.2 %, Loss: 0.7787\n",
            "Epoch [12/50], Learning Rate: 0.009652393605146845\n",
            "Epoch [13/50], Train Accuracy: 73.0 %, Loss: 0.9732\n",
            "Epoch [13/50], Learning Rate: 0.009528893909706798\n",
            "Epoch [14/50], Train Accuracy: 70.7 %, Loss: 0.6435\n",
            "Epoch [14/50], Learning Rate: 0.009387718066217124\n",
            "Epoch [15/50], Train Accuracy: 77.1 %, Loss: 0.4215\n",
            "Epoch [15/50], Learning Rate: 0.009229423231234974\n",
            "Epoch [16/50], Train Accuracy: 75.7 %, Loss: 0.9449\n",
            "Epoch [16/50], Learning Rate: 0.00905463412215599\n",
            "Epoch [17/50], Train Accuracy: 75.2 %, Loss: 0.3397\n",
            "Epoch [17/50], Learning Rate: 0.008864040551740157\n",
            "Epoch [18/50], Train Accuracy: 73.5 %, Loss: 0.1620\n",
            "Epoch [18/50], Learning Rate: 0.008658394705735987\n",
            "Epoch [19/50], Train Accuracy: 77.9 %, Loss: 0.9435\n",
            "Epoch [19/50], Learning Rate: 0.00843850817434701\n",
            "Epoch [20/50], Train Accuracy: 77.7 %, Loss: 1.1988\n",
            "Epoch [20/50], Learning Rate: 0.008205248749256015\n",
            "Epoch [21/50], Train Accuracy: 77.0 %, Loss: 0.3413\n",
            "Epoch [21/50], Learning Rate: 0.007959536998847744\n",
            "Epoch [22/50], Train Accuracy: 77.4 %, Loss: 0.7826\n",
            "Epoch [22/50], Learning Rate: 0.007702342635146034\n",
            "Epoch [23/50], Train Accuracy: 79.8 %, Loss: 1.1428\n",
            "Epoch [23/50], Learning Rate: 0.007434680686803491\n",
            "Epoch [24/50], Train Accuracy: 80.2 %, Loss: 1.1040\n",
            "Epoch [24/50], Learning Rate: 0.0071576074932471105\n",
            "Epoch [25/50], Train Accuracy: 79.3 %, Loss: 2.8374\n",
            "Epoch [25/50], Learning Rate: 0.006872216535789157\n",
            "Epoch [26/50], Train Accuracy: 77.2 %, Loss: 1.0350\n",
            "Epoch [26/50], Learning Rate: 0.006579634122155991\n",
            "Epoch [27/50], Train Accuracy: 80.6 %, Loss: 0.6948\n",
            "Epoch [27/50], Learning Rate: 0.0062810149414660316\n",
            "Epoch [28/50], Train Accuracy: 80.1 %, Loss: 0.8127\n",
            "Epoch [28/50], Learning Rate: 0.005977537507199339\n",
            "Epoch [29/50], Train Accuracy: 82.8 %, Loss: 0.6132\n",
            "Epoch [29/50], Learning Rate: 0.005670399506143308\n",
            "Epoch [30/50], Train Accuracy: 81.8 %, Loss: 0.7787\n",
            "Epoch [30/50], Learning Rate: 0.005360813071670102\n",
            "Epoch [31/50], Train Accuracy: 82.1 %, Loss: 0.7161\n",
            "Epoch [31/50], Learning Rate: 0.005050000000000001\n",
            "Epoch [32/50], Train Accuracy: 83.7 %, Loss: 0.6536\n",
            "Epoch [32/50], Learning Rate: 0.004739186928329899\n",
            "Epoch [33/50], Train Accuracy: 83.2 %, Loss: 0.5904\n",
            "Epoch [33/50], Learning Rate: 0.004429600493856695\n",
            "Epoch [34/50], Train Accuracy: 81.1 %, Loss: 0.1701\n",
            "Epoch [34/50], Learning Rate: 0.0041224624928006635\n",
            "Epoch [35/50], Train Accuracy: 82.2 %, Loss: 0.3818\n",
            "Epoch [35/50], Learning Rate: 0.0038189850585339685\n",
            "Epoch [36/50], Train Accuracy: 85.8 %, Loss: 0.5318\n",
            "Epoch [36/50], Learning Rate: 0.003520365877844012\n",
            "Epoch [37/50], Train Accuracy: 84.9 %, Loss: 1.0221\n",
            "Epoch [37/50], Learning Rate: 0.0032277834642108457\n",
            "Epoch [38/50], Train Accuracy: 85.5 %, Loss: 0.5198\n",
            "Epoch [38/50], Learning Rate: 0.0029423925067528904\n",
            "Epoch [39/50], Train Accuracy: 84.5 %, Loss: 0.2430\n",
            "Epoch [39/50], Learning Rate: 0.002665319313196509\n",
            "Epoch [40/50], Train Accuracy: 84.5 %, Loss: 0.3347\n",
            "Epoch [40/50], Learning Rate: 0.0023976573648539653\n",
            "Epoch [41/50], Train Accuracy: 82.0 %, Loss: 1.6771\n",
            "Epoch [41/50], Learning Rate: 0.0021404630011522584\n",
            "Epoch [42/50], Train Accuracy: 87.5 %, Loss: 0.1856\n",
            "Epoch [42/50], Learning Rate: 0.001894751250743986\n",
            "Epoch [43/50], Train Accuracy: 86.8 %, Loss: 0.6598\n",
            "Epoch [43/50], Learning Rate: 0.001661491825652991\n",
            "Epoch [44/50], Train Accuracy: 87.2 %, Loss: 0.1321\n",
            "Epoch [44/50], Learning Rate: 0.001441605294264014\n",
            "Epoch [45/50], Train Accuracy: 86.7 %, Loss: 0.7211\n",
            "Epoch [45/50], Learning Rate: 0.001235959448259844\n",
            "Epoch [46/50], Train Accuracy: 88.1 %, Loss: 0.3016\n",
            "Epoch [46/50], Learning Rate: 0.0010453658778440107\n",
            "Epoch [47/50], Train Accuracy: 86.5 %, Loss: 0.0941\n",
            "Epoch [47/50], Learning Rate: 0.0008705767687650265\n",
            "Epoch [48/50], Train Accuracy: 89.4 %, Loss: 0.5429\n",
            "Epoch [48/50], Learning Rate: 0.0007122819337828754\n",
            "Epoch [49/50], Train Accuracy: 89.3 %, Loss: 0.0703\n",
            "Epoch [49/50], Learning Rate: 0.0005711060902932043\n",
            "Epoch [50/50], Train Accuracy: 88.5 %, Loss: 2.1164\n",
            "Epoch [50/50], Learning Rate: 0.00044760639485315584\n"
          ]
        }
      ]
    },
    {
      "cell_type": "code",
      "source": [
        "# モデルの刈り込み率を計算する関数を作成\n",
        "def calculate_pruned_ratio(model):\n",
        "    total_weights = 0\n",
        "    total_pruned_weights = 0\n",
        "\n",
        "    for module in model.modules():\n",
        "        # モジュールがSupermaskConvであるか確認\n",
        "        if isinstance(module, SupermaskConv):\n",
        "            # SupermaskConv層の重みを取得\n",
        "            weight = module.weight.data\n",
        "            # 刈り込みを適用した後の重みを取得\n",
        "            subnet = GetSubnet.apply(module.clamped_scores, 1 - module.prune_rate)\n",
        "            pruned_weight = weight * subnet\n",
        "            # 0である要素数を計算\n",
        "            pruned_weights_count = (pruned_weight == 0).sum().item()\n",
        "            total_pruned_weights += pruned_weights_count\n",
        "            # 重みの全要素数を計算\n",
        "            total_weights_count = pruned_weight.numel()\n",
        "            total_weights += total_weights_count\n",
        "\n",
        "    # 刈り込みが行われた割合を計算\n",
        "    pruned_ratio = total_pruned_weights / total_weights\n",
        "    return print(f\"刈り込み率は{pruned_ratio:.3f}です\")\n",
        "\n",
        "# モデルの刈り込み率を確認\n",
        "calculate_pruned_ratio(model)"
      ],
      "metadata": {
        "id": "ZCUErTQzsKjr",
        "colab": {
          "base_uri": "https://localhost:8080/"
        },
        "outputId": "f4802af8-2378-4008-e704-6f8b1685de75"
      },
      "execution_count": 83,
      "outputs": [
        {
          "output_type": "stream",
          "name": "stdout",
          "text": [
            "刈り込み率は0.900です\n"
          ]
        }
      ]
    },
    {
      "cell_type": "code",
      "source": [
        "# 学習前後のモデルのスコアを比較する関数を作成\n",
        "def check_scores_change(model, model_init):\n",
        "    # 各モデルの名前付きモジュールを順に調べる\n",
        "    for (name, module), (name_init, module_init) in zip(model.named_modules(), model_init.named_modules()):\n",
        "        # 両モジュールがConv2dのインスタンスであるかを確認\n",
        "        if isinstance(module, torch.nn.Conv2d) and isinstance(module_init, torch.nn.Conv2d):\n",
        "            # 両モジュールが'scores'属性を持っているかを確認\n",
        "            if hasattr(module, 'scores') and hasattr(module_init, 'scores'):\n",
        "                # 両モジュールの'scores'属性が一致しているかを確認\n",
        "                # 一致していない場合、変更があったことを示すメッセージを出力\n",
        "                if not torch.equal(module.scores, module_init.scores):\n",
        "                    print(f'{name}のスコアが変化しています')\n",
        "                    return\n",
        "    # すべてのconv層で'scores'が変更されていない場合、その旨を出力\n",
        "    print('すべてのスコアは変化していません')\n",
        "\n",
        "# 学習前後でモデルのスコアが変化していないかを確認\n",
        "check_scores_change(model, model_init)"
      ],
      "metadata": {
        "id": "ktJdEMAnsKjr",
        "colab": {
          "base_uri": "https://localhost:8080/"
        },
        "outputId": "e0a2f239-1328-4317-f3a8-5f123e07f4c3"
      },
      "execution_count": 84,
      "outputs": [
        {
          "output_type": "stream",
          "name": "stdout",
          "text": [
            "すべてのスコアは変化していません\n"
          ]
        }
      ]
    },
    {
      "cell_type": "code",
      "source": [
        "# 学習前後のモデルの最終層以外の重みを比較する関数を作成\n",
        "def check_weight_change_except_last(model, model_init):\n",
        "    for (name, param), (name_init, param_init) in zip(model.named_parameters(), model_init.named_parameters()):\n",
        "        # 最終層を除く\n",
        "        if name != 'fc.weight' and name != 'fc.bias':\n",
        "            weights_changed = (param.data != param_init.data).any()\n",
        "            if weights_changed:\n",
        "                return print('最終層以外の重みが変化しています')\n",
        "    return print('最終層以外の重みは変化していません')\n",
        "\n",
        "# 学習前後でモデルの最終層以外の重みが変化していないかを確認\n",
        "check_weight_change_except_last(model, model_init)"
      ],
      "metadata": {
        "id": "qAm-mNessKjr",
        "colab": {
          "base_uri": "https://localhost:8080/"
        },
        "outputId": "f1afbdb2-dbbd-4bb7-9e7e-fa1d1335a342"
      },
      "execution_count": 85,
      "outputs": [
        {
          "output_type": "stream",
          "name": "stdout",
          "text": [
            "最終層以外の重みは変化していません\n"
          ]
        }
      ]
    },
    {
      "cell_type": "code",
      "source": [
        "# モデルの評価\n",
        "model.eval()\n",
        "with torch.no_grad():\n",
        "    total = 0\n",
        "    correct = 0\n",
        "    for images, labels in test_loader_handsigns:\n",
        "        images = images.to(device)\n",
        "        labels = labels.to(device)\n",
        "        outputs = model(images)\n",
        "        _, predicted = torch.max(outputs.data, 1)\n",
        "        total += labels.size(0)\n",
        "        correct += (predicted == labels).sum().item()\n",
        "    # 正解率精度の確認\n",
        "    print('Test Accuracy: {} %'.format(100 * correct / total))"
      ],
      "metadata": {
        "id": "bZ23nJSnsKjr",
        "colab": {
          "base_uri": "https://localhost:8080/"
        },
        "outputId": "3bd86bac-069c-454b-f8ea-a6f06055c474"
      },
      "execution_count": 86,
      "outputs": [
        {
          "output_type": "stream",
          "name": "stdout",
          "text": [
            "Test Accuracy: 84.0 %\n"
          ]
        }
      ]
    },
    {
      "cell_type": "code",
      "source": [
        "# GPUメモリの解放\n",
        "del model, model_init\n",
        "torch.cuda.empty_cache()"
      ],
      "metadata": {
        "id": "RZman30_sKjr"
      },
      "execution_count": 87,
      "outputs": []
    },
    {
      "cell_type": "markdown",
      "source": [
        "### prune_rate=0.7"
      ],
      "metadata": {
        "id": "wkPFUm8TsKjs"
      }
    },
    {
      "cell_type": "code",
      "source": [
        "# デバイスを設定\n",
        "device = torch.device('cuda' if torch.cuda.is_available() else 'cpu')\n",
        "# モデルを定義\n",
        "model = torch.load('/content/drive/MyDrive/SupermaskWideResNet28_10_CIFAR100_100epochs_pr0.7_normal_CLRS_restest.pth')\n",
        "# 最終層を変更\n",
        "model.fc = nn.Linear(model.fc.in_features, 10)\n",
        "# 最終層以外のパラメータの勾配計算を停止\n",
        "for param in model.parameters():\n",
        "    param.requires_grad = False\n",
        "# 最終層のパラメータのみを学習するように設定\n",
        "for param in model.fc.parameters():\n",
        "    param.requires_grad = True\n",
        "# モデルをデバイスに転送\n",
        "model = model.to(device)\n",
        "# 変更後のモデルの重みを保存\n",
        "model_init = copy.deepcopy(model)\n",
        "\n",
        "# 学習率を設定\n",
        "learning_rate = 0.01\n",
        "# 全体のepoch数を設定\n",
        "num_epochs = 50\n",
        "# warm-upするepoch数を設定\n",
        "warmup_epochs = 5\n",
        "\n",
        "# 損失関数を定義\n",
        "criterion = nn.CrossEntropyLoss()\n",
        "# オプティマイザーを設定\n",
        "optimizer = optim.Adam(model.fc.parameters(), lr=learning_rate)\n",
        "# スケジューラーを設定\n",
        "scheduler = CosineLRScheduler(optimizer, t_initial=num_epochs, lr_min=1e-4, warmup_t=warmup_epochs, warmup_lr_init=1e-4, warmup_prefix=True)\n",
        "\n",
        "# モデルの学習\n",
        "for epoch in range(num_epochs):\n",
        "    total = 0\n",
        "    correct = 0\n",
        "    for i, (images, labels) in enumerate(train_loader_handsigns):\n",
        "        images = images.to(device)\n",
        "        labels = labels.to(device)\n",
        "        # 順伝播\n",
        "        outputs = model(images)\n",
        "        loss = criterion(outputs, labels)\n",
        "        # 逆伝播\n",
        "        optimizer.zero_grad()\n",
        "        loss.backward()\n",
        "        optimizer.step()\n",
        "        _, predicted = torch.max(outputs.data, 1)\n",
        "        # 全データ数\n",
        "        total += labels.size(0)\n",
        "        # 正解数\n",
        "        correct += (predicted == labels).sum().item()\n",
        "    # 正解率精度を計算\n",
        "    train_acc = 100 * correct / total\n",
        "    # 正解率精度と損失を確認\n",
        "    print(\"Epoch [{}/{}], Train Accuracy: {} %, Loss: {:.4f}\".format(epoch+1, num_epochs, 100 * correct / total, loss.item()))\n",
        "    # 1エポック終了後にスケジューラーを更新\n",
        "    scheduler.step(epoch)\n",
        "    # 学習率の確認\n",
        "    print(\"Epoch [{}/{}], Learning Rate: {}\".format(epoch+1, num_epochs, optimizer.param_groups[0]['lr']))\n",
        "\n",
        "\n",
        "# モデルを保存\n",
        "torch.save(model, '/content/drive/MyDrive/SupermaskWideResNet28_10_HandSigns_from_CIFAR100_100epochs_pr0.7_normal_50epochs_lr0.01_CLRS_restest.pth')"
      ],
      "metadata": {
        "id": "Le-oqnFvsKjs",
        "colab": {
          "base_uri": "https://localhost:8080/"
        },
        "outputId": "0c1d9133-3bb6-4bd1-8bc2-ee426d8c51bf"
      },
      "execution_count": 92,
      "outputs": [
        {
          "output_type": "stream",
          "name": "stdout",
          "text": [
            "Epoch [1/50], Train Accuracy: 14.0 %, Loss: 2.2480\n",
            "Epoch [1/50], Learning Rate: 0.0001\n",
            "Epoch [2/50], Train Accuracy: 22.4 %, Loss: 2.2903\n",
            "Epoch [2/50], Learning Rate: 0.00208\n",
            "Epoch [3/50], Train Accuracy: 45.8 %, Loss: 1.7439\n",
            "Epoch [3/50], Learning Rate: 0.00406\n",
            "Epoch [4/50], Train Accuracy: 54.4 %, Loss: 1.6700\n",
            "Epoch [4/50], Learning Rate: 0.00604\n",
            "Epoch [5/50], Train Accuracy: 61.1 %, Loss: 1.3511\n",
            "Epoch [5/50], Learning Rate: 0.00802\n",
            "Epoch [6/50], Train Accuracy: 62.7 %, Loss: 1.0437\n",
            "Epoch [6/50], Learning Rate: 0.01\n",
            "Epoch [7/50], Train Accuracy: 65.3 %, Loss: 0.5259\n",
            "Epoch [7/50], Learning Rate: 0.009990232305719944\n",
            "Epoch [8/50], Train Accuracy: 68.6 %, Loss: 1.5957\n",
            "Epoch [8/50], Learning Rate: 0.009960967771506667\n",
            "Epoch [9/50], Train Accuracy: 73.0 %, Loss: 0.5855\n",
            "Epoch [9/50], Learning Rate: 0.00991232189110701\n",
            "Epoch [10/50], Train Accuracy: 70.7 %, Loss: 0.6820\n",
            "Epoch [10/50], Learning Rate: 0.009844486647586723\n",
            "Epoch [11/50], Train Accuracy: 71.0 %, Loss: 0.6161\n",
            "Epoch [11/50], Learning Rate: 0.009757729755661011\n",
            "Epoch [12/50], Train Accuracy: 71.8 %, Loss: 1.0378\n",
            "Epoch [12/50], Learning Rate: 0.009652393605146845\n",
            "Epoch [13/50], Train Accuracy: 74.3 %, Loss: 0.8906\n",
            "Epoch [13/50], Learning Rate: 0.009528893909706798\n",
            "Epoch [14/50], Train Accuracy: 77.2 %, Loss: 1.3939\n",
            "Epoch [14/50], Learning Rate: 0.009387718066217124\n",
            "Epoch [15/50], Train Accuracy: 75.6 %, Loss: 1.1850\n",
            "Epoch [15/50], Learning Rate: 0.009229423231234974\n",
            "Epoch [16/50], Train Accuracy: 76.3 %, Loss: 0.5752\n",
            "Epoch [16/50], Learning Rate: 0.00905463412215599\n",
            "Epoch [17/50], Train Accuracy: 78.7 %, Loss: 0.8645\n",
            "Epoch [17/50], Learning Rate: 0.008864040551740157\n",
            "Epoch [18/50], Train Accuracy: 75.4 %, Loss: 0.1377\n",
            "Epoch [18/50], Learning Rate: 0.008658394705735987\n",
            "Epoch [19/50], Train Accuracy: 79.7 %, Loss: 0.9240\n",
            "Epoch [19/50], Learning Rate: 0.00843850817434701\n",
            "Epoch [20/50], Train Accuracy: 78.9 %, Loss: 1.2145\n",
            "Epoch [20/50], Learning Rate: 0.008205248749256015\n",
            "Epoch [21/50], Train Accuracy: 79.9 %, Loss: 0.8389\n",
            "Epoch [21/50], Learning Rate: 0.007959536998847744\n",
            "Epoch [22/50], Train Accuracy: 81.4 %, Loss: 2.6839\n",
            "Epoch [22/50], Learning Rate: 0.007702342635146034\n",
            "Epoch [23/50], Train Accuracy: 79.6 %, Loss: 0.1588\n",
            "Epoch [23/50], Learning Rate: 0.007434680686803491\n",
            "Epoch [24/50], Train Accuracy: 81.5 %, Loss: 1.0542\n",
            "Epoch [24/50], Learning Rate: 0.0071576074932471105\n",
            "Epoch [25/50], Train Accuracy: 77.3 %, Loss: 0.5279\n",
            "Epoch [25/50], Learning Rate: 0.006872216535789157\n",
            "Epoch [26/50], Train Accuracy: 83.0 %, Loss: 1.4399\n",
            "Epoch [26/50], Learning Rate: 0.006579634122155991\n",
            "Epoch [27/50], Train Accuracy: 81.1 %, Loss: 0.6189\n",
            "Epoch [27/50], Learning Rate: 0.0062810149414660316\n",
            "Epoch [28/50], Train Accuracy: 81.9 %, Loss: 0.3549\n",
            "Epoch [28/50], Learning Rate: 0.005977537507199339\n",
            "Epoch [29/50], Train Accuracy: 83.8 %, Loss: 0.7607\n",
            "Epoch [29/50], Learning Rate: 0.005670399506143308\n",
            "Epoch [30/50], Train Accuracy: 83.5 %, Loss: 1.0832\n",
            "Epoch [30/50], Learning Rate: 0.005360813071670102\n",
            "Epoch [31/50], Train Accuracy: 84.5 %, Loss: 0.0664\n",
            "Epoch [31/50], Learning Rate: 0.005050000000000001\n",
            "Epoch [32/50], Train Accuracy: 84.9 %, Loss: 0.7476\n",
            "Epoch [32/50], Learning Rate: 0.004739186928329899\n",
            "Epoch [33/50], Train Accuracy: 84.8 %, Loss: 1.3585\n",
            "Epoch [33/50], Learning Rate: 0.004429600493856695\n",
            "Epoch [34/50], Train Accuracy: 83.0 %, Loss: 0.2268\n",
            "Epoch [34/50], Learning Rate: 0.0041224624928006635\n",
            "Epoch [35/50], Train Accuracy: 86.3 %, Loss: 0.9476\n",
            "Epoch [35/50], Learning Rate: 0.0038189850585339685\n",
            "Epoch [36/50], Train Accuracy: 85.2 %, Loss: 0.4607\n",
            "Epoch [36/50], Learning Rate: 0.003520365877844012\n",
            "Epoch [37/50], Train Accuracy: 86.8 %, Loss: 0.2607\n",
            "Epoch [37/50], Learning Rate: 0.0032277834642108457\n",
            "Epoch [38/50], Train Accuracy: 84.4 %, Loss: 0.7692\n",
            "Epoch [38/50], Learning Rate: 0.0029423925067528904\n",
            "Epoch [39/50], Train Accuracy: 88.1 %, Loss: 0.1944\n",
            "Epoch [39/50], Learning Rate: 0.002665319313196509\n",
            "Epoch [40/50], Train Accuracy: 87.7 %, Loss: 0.3121\n",
            "Epoch [40/50], Learning Rate: 0.0023976573648539653\n",
            "Epoch [41/50], Train Accuracy: 88.1 %, Loss: 0.2816\n",
            "Epoch [41/50], Learning Rate: 0.0021404630011522584\n",
            "Epoch [42/50], Train Accuracy: 88.6 %, Loss: 0.5105\n",
            "Epoch [42/50], Learning Rate: 0.001894751250743986\n",
            "Epoch [43/50], Train Accuracy: 88.5 %, Loss: 0.7995\n",
            "Epoch [43/50], Learning Rate: 0.001661491825652991\n",
            "Epoch [44/50], Train Accuracy: 88.3 %, Loss: 1.0019\n",
            "Epoch [44/50], Learning Rate: 0.001441605294264014\n",
            "Epoch [45/50], Train Accuracy: 87.1 %, Loss: 0.3847\n",
            "Epoch [45/50], Learning Rate: 0.001235959448259844\n",
            "Epoch [46/50], Train Accuracy: 89.7 %, Loss: 0.1603\n",
            "Epoch [46/50], Learning Rate: 0.0010453658778440107\n",
            "Epoch [47/50], Train Accuracy: 88.8 %, Loss: 0.6053\n",
            "Epoch [47/50], Learning Rate: 0.0008705767687650265\n",
            "Epoch [48/50], Train Accuracy: 87.4 %, Loss: 0.3298\n",
            "Epoch [48/50], Learning Rate: 0.0007122819337828754\n",
            "Epoch [49/50], Train Accuracy: 88.2 %, Loss: 0.9626\n",
            "Epoch [49/50], Learning Rate: 0.0005711060902932043\n",
            "Epoch [50/50], Train Accuracy: 89.2 %, Loss: 0.3664\n",
            "Epoch [50/50], Learning Rate: 0.00044760639485315584\n"
          ]
        }
      ]
    },
    {
      "cell_type": "code",
      "source": [
        "# モデルの刈り込み率を計算する関数を作成\n",
        "def calculate_pruned_ratio(model):\n",
        "    total_weights = 0\n",
        "    total_pruned_weights = 0\n",
        "\n",
        "    for module in model.modules():\n",
        "        # モジュールがSupermaskConvであるか確認\n",
        "        if isinstance(module, SupermaskConv):\n",
        "            # SupermaskConv層の重みを取得\n",
        "            weight = module.weight.data\n",
        "            # 刈り込みを適用した後の重みを取得\n",
        "            subnet = GetSubnet.apply(module.clamped_scores, 1 - module.prune_rate)\n",
        "            pruned_weight = weight * subnet\n",
        "            # 0である要素数を計算\n",
        "            pruned_weights_count = (pruned_weight == 0).sum().item()\n",
        "            total_pruned_weights += pruned_weights_count\n",
        "            # 重みの全要素数を計算\n",
        "            total_weights_count = pruned_weight.numel()\n",
        "            total_weights += total_weights_count\n",
        "\n",
        "    # 刈り込みが行われた割合を計算\n",
        "    pruned_ratio = total_pruned_weights / total_weights\n",
        "    return print(f\"刈り込み率は{pruned_ratio:.3f}です\")\n",
        "\n",
        "# モデルの刈り込み率を確認\n",
        "calculate_pruned_ratio(model)"
      ],
      "metadata": {
        "id": "mdIU4ohVsKjs",
        "colab": {
          "base_uri": "https://localhost:8080/"
        },
        "outputId": "b074f8a2-0b28-4706-e8ba-5e2e4c5bde24"
      },
      "execution_count": 93,
      "outputs": [
        {
          "output_type": "stream",
          "name": "stdout",
          "text": [
            "刈り込み率は0.700です\n"
          ]
        }
      ]
    },
    {
      "cell_type": "code",
      "source": [
        "# 学習前後のモデルのスコアを比較する関数を作成\n",
        "def check_scores_change(model, model_init):\n",
        "    # 各モデルの名前付きモジュールを順に調べる\n",
        "    for (name, module), (name_init, module_init) in zip(model.named_modules(), model_init.named_modules()):\n",
        "        # 両モジュールがConv2dのインスタンスであるかを確認\n",
        "        if isinstance(module, torch.nn.Conv2d) and isinstance(module_init, torch.nn.Conv2d):\n",
        "            # 両モジュールが'scores'属性を持っているかを確認\n",
        "            if hasattr(module, 'scores') and hasattr(module_init, 'scores'):\n",
        "                # 両モジュールの'scores'属性が一致しているかを確認\n",
        "                # 一致していない場合、変更があったことを示すメッセージを出力\n",
        "                if not torch.equal(module.scores, module_init.scores):\n",
        "                    print(f'{name}のスコアが変化しています')\n",
        "                    return\n",
        "    # すべてのconv層で'scores'が変更されていない場合、その旨を出力\n",
        "    print('すべてのスコアは変化していません')\n",
        "\n",
        "# 学習前後でモデルのスコアが変化していないかを確認\n",
        "check_scores_change(model, model_init)"
      ],
      "metadata": {
        "id": "5J_I6epfsKjs",
        "colab": {
          "base_uri": "https://localhost:8080/"
        },
        "outputId": "c6cf9aed-6e8b-41d7-9c69-d0ac4da2d888"
      },
      "execution_count": 94,
      "outputs": [
        {
          "output_type": "stream",
          "name": "stdout",
          "text": [
            "すべてのスコアは変化していません\n"
          ]
        }
      ]
    },
    {
      "cell_type": "code",
      "source": [
        "# 学習前後のモデルの最終層以外の重みを比較する関数を作成\n",
        "def check_weight_change_except_last(model, model_init):\n",
        "    for (name, param), (name_init, param_init) in zip(model.named_parameters(), model_init.named_parameters()):\n",
        "        # 最終層を除く\n",
        "        if name != 'fc.weight' and name != 'fc.bias':\n",
        "            weights_changed = (param.data != param_init.data).any()\n",
        "            if weights_changed:\n",
        "                return print('最終層以外の重みが変化しています')\n",
        "    return print('最終層以外の重みは変化していません')\n",
        "\n",
        "# 学習前後でモデルの最終層以外の重みが変化していないかを確認\n",
        "check_weight_change_except_last(model, model_init)"
      ],
      "metadata": {
        "id": "8CKWYgN3sKjs",
        "colab": {
          "base_uri": "https://localhost:8080/"
        },
        "outputId": "0811e718-728e-4ced-bee0-8a0c4bd6be01"
      },
      "execution_count": 95,
      "outputs": [
        {
          "output_type": "stream",
          "name": "stdout",
          "text": [
            "最終層以外の重みは変化していません\n"
          ]
        }
      ]
    },
    {
      "cell_type": "code",
      "source": [
        "# モデルの評価\n",
        "model.eval()\n",
        "with torch.no_grad():\n",
        "    total = 0\n",
        "    correct = 0\n",
        "    for images, labels in test_loader_handsigns:\n",
        "        images = images.to(device)\n",
        "        labels = labels.to(device)\n",
        "        outputs = model(images)\n",
        "        _, predicted = torch.max(outputs.data, 1)\n",
        "        total += labels.size(0)\n",
        "        correct += (predicted == labels).sum().item()\n",
        "    # 正解率精度の確認\n",
        "    print('Test Accuracy: {} %'.format(100 * correct / total))"
      ],
      "metadata": {
        "id": "G2ba207QsKjs",
        "colab": {
          "base_uri": "https://localhost:8080/"
        },
        "outputId": "530f1614-7db8-4b00-ff5d-0f712e0ddf7f"
      },
      "execution_count": 96,
      "outputs": [
        {
          "output_type": "stream",
          "name": "stdout",
          "text": [
            "Test Accuracy: 81.0 %\n"
          ]
        }
      ]
    },
    {
      "cell_type": "code",
      "source": [
        "# GPUメモリの解放\n",
        "del model, model_init\n",
        "torch.cuda.empty_cache()"
      ],
      "metadata": {
        "id": "xcVxnxg6sKjs"
      },
      "execution_count": 97,
      "outputs": []
    },
    {
      "cell_type": "markdown",
      "source": [
        "### prune_rate=0.5"
      ],
      "metadata": {
        "id": "8W8kzd_SsKjs"
      }
    },
    {
      "cell_type": "code",
      "source": [
        "# デバイスを設定\n",
        "device = torch.device('cuda' if torch.cuda.is_available() else 'cpu')\n",
        "# モデルを定義\n",
        "model = torch.load('/content/drive/MyDrive/SupermaskWideResNet28_10_CIFAR100_100epochs_pr0.5_normal_CLRS_restest.pth')\n",
        "# 最終層を変更\n",
        "model.fc = nn.Linear(model.fc.in_features, 10)\n",
        "# 最終層以外のパラメータの勾配計算を停止\n",
        "for param in model.parameters():\n",
        "    param.requires_grad = False\n",
        "# 最終層のパラメータのみを学習するように設定\n",
        "for param in model.fc.parameters():\n",
        "    param.requires_grad = True\n",
        "# モデルをデバイスに転送\n",
        "model = model.to(device)\n",
        "# 変更後のモデルの重みを保存\n",
        "model_init = copy.deepcopy(model)\n",
        "\n",
        "# 学習率を設定\n",
        "learning_rate = 0.01\n",
        "# 全体のepoch数を設定\n",
        "num_epochs = 50\n",
        "# warm-upするepoch数を設定\n",
        "warmup_epochs = 5\n",
        "\n",
        "# 損失関数を定義\n",
        "criterion = nn.CrossEntropyLoss()\n",
        "# オプティマイザーを設定\n",
        "optimizer = optim.Adam(model.fc.parameters(), lr=learning_rate)\n",
        "# スケジューラーを設定\n",
        "scheduler = CosineLRScheduler(optimizer, t_initial=num_epochs, lr_min=1e-4, warmup_t=warmup_epochs, warmup_lr_init=1e-4, warmup_prefix=True)\n",
        "\n",
        "# モデルの学習\n",
        "for epoch in range(num_epochs):\n",
        "    total = 0\n",
        "    correct = 0\n",
        "    for i, (images, labels) in enumerate(train_loader_handsigns):\n",
        "        images = images.to(device)\n",
        "        labels = labels.to(device)\n",
        "        # 順伝播\n",
        "        outputs = model(images)\n",
        "        loss = criterion(outputs, labels)\n",
        "        # 逆伝播\n",
        "        optimizer.zero_grad()\n",
        "        loss.backward()\n",
        "        optimizer.step()\n",
        "        _, predicted = torch.max(outputs.data, 1)\n",
        "        # 全データ数\n",
        "        total += labels.size(0)\n",
        "        # 正解数\n",
        "        correct += (predicted == labels).sum().item()\n",
        "    # 正解率精度を計算\n",
        "    train_acc = 100 * correct / total\n",
        "    # 正解率精度と損失を確認\n",
        "    print(\"Epoch [{}/{}], Train Accuracy: {} %, Loss: {:.4f}\".format(epoch+1, num_epochs, 100 * correct / total, loss.item()))\n",
        "    # 1エポック終了後にスケジューラーを更新\n",
        "    scheduler.step(epoch)\n",
        "    # 学習率の確認\n",
        "    print(\"Epoch [{}/{}], Learning Rate: {}\".format(epoch+1, num_epochs, optimizer.param_groups[0]['lr']))\n",
        "\n",
        "\n",
        "# モデルを保存\n",
        "torch.save(model, '/content/drive/MyDrive/SupermaskWideResNet28_10_HandSigns_from_CIFAR100_100epochs_pr0.5_normal_50epochs_lr0.01_CLRS_restest.pth')"
      ],
      "metadata": {
        "id": "Resn6m1tsKjs",
        "colab": {
          "base_uri": "https://localhost:8080/"
        },
        "outputId": "f99ae3e2-e223-4ae7-d647-6f4b2bfb8ec2"
      },
      "execution_count": 98,
      "outputs": [
        {
          "output_type": "stream",
          "name": "stdout",
          "text": [
            "Epoch [1/50], Train Accuracy: 14.5 %, Loss: 2.2787\n",
            "Epoch [1/50], Learning Rate: 0.0001\n",
            "Epoch [2/50], Train Accuracy: 27.9 %, Loss: 2.2102\n",
            "Epoch [2/50], Learning Rate: 0.00208\n",
            "Epoch [3/50], Train Accuracy: 41.8 %, Loss: 1.4520\n",
            "Epoch [3/50], Learning Rate: 0.00406\n",
            "Epoch [4/50], Train Accuracy: 52.8 %, Loss: 1.2068\n",
            "Epoch [4/50], Learning Rate: 0.00604\n",
            "Epoch [5/50], Train Accuracy: 64.4 %, Loss: 1.1264\n",
            "Epoch [5/50], Learning Rate: 0.00802\n",
            "Epoch [6/50], Train Accuracy: 64.6 %, Loss: 2.2898\n",
            "Epoch [6/50], Learning Rate: 0.01\n",
            "Epoch [7/50], Train Accuracy: 65.6 %, Loss: 0.5181\n",
            "Epoch [7/50], Learning Rate: 0.009990232305719944\n",
            "Epoch [8/50], Train Accuracy: 71.1 %, Loss: 0.8143\n",
            "Epoch [8/50], Learning Rate: 0.009960967771506667\n",
            "Epoch [9/50], Train Accuracy: 72.1 %, Loss: 1.8367\n",
            "Epoch [9/50], Learning Rate: 0.00991232189110701\n",
            "Epoch [10/50], Train Accuracy: 75.7 %, Loss: 0.6405\n",
            "Epoch [10/50], Learning Rate: 0.009844486647586723\n",
            "Epoch [11/50], Train Accuracy: 73.3 %, Loss: 1.7329\n",
            "Epoch [11/50], Learning Rate: 0.009757729755661011\n",
            "Epoch [12/50], Train Accuracy: 76.0 %, Loss: 1.1990\n",
            "Epoch [12/50], Learning Rate: 0.009652393605146845\n",
            "Epoch [13/50], Train Accuracy: 77.6 %, Loss: 0.3040\n",
            "Epoch [13/50], Learning Rate: 0.009528893909706798\n",
            "Epoch [14/50], Train Accuracy: 77.9 %, Loss: 0.4170\n",
            "Epoch [14/50], Learning Rate: 0.009387718066217124\n",
            "Epoch [15/50], Train Accuracy: 77.9 %, Loss: 0.3603\n",
            "Epoch [15/50], Learning Rate: 0.009229423231234974\n",
            "Epoch [16/50], Train Accuracy: 78.7 %, Loss: 0.9521\n",
            "Epoch [16/50], Learning Rate: 0.00905463412215599\n",
            "Epoch [17/50], Train Accuracy: 77.2 %, Loss: 0.9632\n",
            "Epoch [17/50], Learning Rate: 0.008864040551740157\n",
            "Epoch [18/50], Train Accuracy: 77.2 %, Loss: 1.3323\n",
            "Epoch [18/50], Learning Rate: 0.008658394705735987\n",
            "Epoch [19/50], Train Accuracy: 80.4 %, Loss: 0.8811\n",
            "Epoch [19/50], Learning Rate: 0.00843850817434701\n",
            "Epoch [20/50], Train Accuracy: 81.2 %, Loss: 0.6277\n",
            "Epoch [20/50], Learning Rate: 0.008205248749256015\n",
            "Epoch [21/50], Train Accuracy: 82.3 %, Loss: 0.6144\n",
            "Epoch [21/50], Learning Rate: 0.007959536998847744\n",
            "Epoch [22/50], Train Accuracy: 78.1 %, Loss: 1.5799\n",
            "Epoch [22/50], Learning Rate: 0.007702342635146034\n",
            "Epoch [23/50], Train Accuracy: 78.3 %, Loss: 0.8945\n",
            "Epoch [23/50], Learning Rate: 0.007434680686803491\n",
            "Epoch [24/50], Train Accuracy: 78.9 %, Loss: 0.3782\n",
            "Epoch [24/50], Learning Rate: 0.0071576074932471105\n",
            "Epoch [25/50], Train Accuracy: 84.1 %, Loss: 0.4432\n",
            "Epoch [25/50], Learning Rate: 0.006872216535789157\n",
            "Epoch [26/50], Train Accuracy: 83.0 %, Loss: 0.6013\n",
            "Epoch [26/50], Learning Rate: 0.006579634122155991\n",
            "Epoch [27/50], Train Accuracy: 82.7 %, Loss: 1.1004\n",
            "Epoch [27/50], Learning Rate: 0.0062810149414660316\n",
            "Epoch [28/50], Train Accuracy: 80.9 %, Loss: 0.3431\n",
            "Epoch [28/50], Learning Rate: 0.005977537507199339\n",
            "Epoch [29/50], Train Accuracy: 82.6 %, Loss: 1.2048\n",
            "Epoch [29/50], Learning Rate: 0.005670399506143308\n",
            "Epoch [30/50], Train Accuracy: 82.9 %, Loss: 1.7327\n",
            "Epoch [30/50], Learning Rate: 0.005360813071670102\n",
            "Epoch [31/50], Train Accuracy: 85.0 %, Loss: 1.3464\n",
            "Epoch [31/50], Learning Rate: 0.005050000000000001\n",
            "Epoch [32/50], Train Accuracy: 86.3 %, Loss: 0.8267\n",
            "Epoch [32/50], Learning Rate: 0.004739186928329899\n",
            "Epoch [33/50], Train Accuracy: 88.1 %, Loss: 0.6428\n",
            "Epoch [33/50], Learning Rate: 0.004429600493856695\n",
            "Epoch [34/50], Train Accuracy: 87.1 %, Loss: 0.2464\n",
            "Epoch [34/50], Learning Rate: 0.0041224624928006635\n",
            "Epoch [35/50], Train Accuracy: 86.6 %, Loss: 0.8199\n",
            "Epoch [35/50], Learning Rate: 0.0038189850585339685\n",
            "Epoch [36/50], Train Accuracy: 85.9 %, Loss: 0.6077\n",
            "Epoch [36/50], Learning Rate: 0.003520365877844012\n",
            "Epoch [37/50], Train Accuracy: 86.5 %, Loss: 0.8977\n",
            "Epoch [37/50], Learning Rate: 0.0032277834642108457\n",
            "Epoch [38/50], Train Accuracy: 87.4 %, Loss: 0.3793\n",
            "Epoch [38/50], Learning Rate: 0.0029423925067528904\n",
            "Epoch [39/50], Train Accuracy: 86.9 %, Loss: 0.4339\n",
            "Epoch [39/50], Learning Rate: 0.002665319313196509\n",
            "Epoch [40/50], Train Accuracy: 88.7 %, Loss: 0.0903\n",
            "Epoch [40/50], Learning Rate: 0.0023976573648539653\n",
            "Epoch [41/50], Train Accuracy: 85.6 %, Loss: 0.1186\n",
            "Epoch [41/50], Learning Rate: 0.0021404630011522584\n",
            "Epoch [42/50], Train Accuracy: 87.6 %, Loss: 0.3253\n",
            "Epoch [42/50], Learning Rate: 0.001894751250743986\n",
            "Epoch [43/50], Train Accuracy: 89.5 %, Loss: 0.3958\n",
            "Epoch [43/50], Learning Rate: 0.001661491825652991\n",
            "Epoch [44/50], Train Accuracy: 88.9 %, Loss: 0.1907\n",
            "Epoch [44/50], Learning Rate: 0.001441605294264014\n",
            "Epoch [45/50], Train Accuracy: 89.8 %, Loss: 1.1950\n",
            "Epoch [45/50], Learning Rate: 0.001235959448259844\n",
            "Epoch [46/50], Train Accuracy: 89.7 %, Loss: 0.5206\n",
            "Epoch [46/50], Learning Rate: 0.0010453658778440107\n",
            "Epoch [47/50], Train Accuracy: 89.7 %, Loss: 0.1222\n",
            "Epoch [47/50], Learning Rate: 0.0008705767687650265\n",
            "Epoch [48/50], Train Accuracy: 88.9 %, Loss: 0.3747\n",
            "Epoch [48/50], Learning Rate: 0.0007122819337828754\n",
            "Epoch [49/50], Train Accuracy: 90.0 %, Loss: 0.1308\n",
            "Epoch [49/50], Learning Rate: 0.0005711060902932043\n",
            "Epoch [50/50], Train Accuracy: 89.0 %, Loss: 0.0944\n",
            "Epoch [50/50], Learning Rate: 0.00044760639485315584\n"
          ]
        }
      ]
    },
    {
      "cell_type": "code",
      "source": [
        "# モデルの刈り込み率を計算する関数を作成\n",
        "def calculate_pruned_ratio(model):\n",
        "    total_weights = 0\n",
        "    total_pruned_weights = 0\n",
        "\n",
        "    for module in model.modules():\n",
        "        # モジュールがSupermaskConvであるか確認\n",
        "        if isinstance(module, SupermaskConv):\n",
        "            # SupermaskConv層の重みを取得\n",
        "            weight = module.weight.data\n",
        "            # 刈り込みを適用した後の重みを取得\n",
        "            subnet = GetSubnet.apply(module.clamped_scores, 1 - module.prune_rate)\n",
        "            pruned_weight = weight * subnet\n",
        "            # 0である要素数を計算\n",
        "            pruned_weights_count = (pruned_weight == 0).sum().item()\n",
        "            total_pruned_weights += pruned_weights_count\n",
        "            # 重みの全要素数を計算\n",
        "            total_weights_count = pruned_weight.numel()\n",
        "            total_weights += total_weights_count\n",
        "\n",
        "    # 刈り込みが行われた割合を計算\n",
        "    pruned_ratio = total_pruned_weights / total_weights\n",
        "    return print(f\"刈り込み率は{pruned_ratio:.3f}です\")\n",
        "\n",
        "# モデルの刈り込み率を確認\n",
        "calculate_pruned_ratio(model)"
      ],
      "metadata": {
        "id": "0_x414z_sKjt",
        "colab": {
          "base_uri": "https://localhost:8080/"
        },
        "outputId": "7d6fe593-394e-4f53-9db2-7d722ff14ca7"
      },
      "execution_count": 99,
      "outputs": [
        {
          "output_type": "stream",
          "name": "stdout",
          "text": [
            "刈り込み率は0.500です\n"
          ]
        }
      ]
    },
    {
      "cell_type": "code",
      "source": [
        "# 学習前後のモデルのスコアを比較する関数を作成\n",
        "def check_scores_change(model, model_init):\n",
        "    # 各モデルの名前付きモジュールを順に調べる\n",
        "    for (name, module), (name_init, module_init) in zip(model.named_modules(), model_init.named_modules()):\n",
        "        # 両モジュールがConv2dのインスタンスであるかを確認\n",
        "        if isinstance(module, torch.nn.Conv2d) and isinstance(module_init, torch.nn.Conv2d):\n",
        "            # 両モジュールが'scores'属性を持っているかを確認\n",
        "            if hasattr(module, 'scores') and hasattr(module_init, 'scores'):\n",
        "                # 両モジュールの'scores'属性が一致しているかを確認\n",
        "                # 一致していない場合、変更があったことを示すメッセージを出力\n",
        "                if not torch.equal(module.scores, module_init.scores):\n",
        "                    print(f'{name}のスコアが変化しています')\n",
        "                    return\n",
        "    # すべてのconv層で'scores'が変更されていない場合、その旨を出力\n",
        "    print('すべてのスコアは変化していません')\n",
        "\n",
        "# 学習前後でモデルのスコアが変化していないかを確認\n",
        "check_scores_change(model, model_init)"
      ],
      "metadata": {
        "id": "pXcOmaxJsKjt",
        "colab": {
          "base_uri": "https://localhost:8080/"
        },
        "outputId": "dc3d0c07-b055-43e4-e641-96bfa6f8b61c"
      },
      "execution_count": 100,
      "outputs": [
        {
          "output_type": "stream",
          "name": "stdout",
          "text": [
            "すべてのスコアは変化していません\n"
          ]
        }
      ]
    },
    {
      "cell_type": "code",
      "source": [
        "# 学習前後のモデルの最終層以外の重みを比較する関数を作成\n",
        "def check_weight_change_except_last(model, model_init):\n",
        "    for (name, param), (name_init, param_init) in zip(model.named_parameters(), model_init.named_parameters()):\n",
        "        # 最終層を除く\n",
        "        if name != 'fc.weight' and name != 'fc.bias':\n",
        "            weights_changed = (param.data != param_init.data).any()\n",
        "            if weights_changed:\n",
        "                return print('最終層以外の重みが変化しています')\n",
        "    return print('最終層以外の重みは変化していません')\n",
        "\n",
        "# 学習前後でモデルの最終層以外の重みが変化していないかを確認\n",
        "check_weight_change_except_last(model, model_init)"
      ],
      "metadata": {
        "id": "K-9nEL2msKjt",
        "colab": {
          "base_uri": "https://localhost:8080/"
        },
        "outputId": "2438e25a-7af4-4783-8395-8cf7c8525dfc"
      },
      "execution_count": 101,
      "outputs": [
        {
          "output_type": "stream",
          "name": "stdout",
          "text": [
            "最終層以外の重みは変化していません\n"
          ]
        }
      ]
    },
    {
      "cell_type": "code",
      "source": [
        "# モデルの評価\n",
        "model.eval()\n",
        "with torch.no_grad():\n",
        "    total = 0\n",
        "    correct = 0\n",
        "    for images, labels in test_loader_handsigns:\n",
        "        images = images.to(device)\n",
        "        labels = labels.to(device)\n",
        "        outputs = model(images)\n",
        "        _, predicted = torch.max(outputs.data, 1)\n",
        "        total += labels.size(0)\n",
        "        correct += (predicted == labels).sum().item()\n",
        "    # 正解率精度の確認\n",
        "    print('Test Accuracy: {} %'.format(100 * correct / total))"
      ],
      "metadata": {
        "id": "bRLJ9NWVsKjt",
        "colab": {
          "base_uri": "https://localhost:8080/"
        },
        "outputId": "256fb21a-c59e-41a7-ad78-b2af89dc0355"
      },
      "execution_count": 102,
      "outputs": [
        {
          "output_type": "stream",
          "name": "stdout",
          "text": [
            "Test Accuracy: 83.0 %\n"
          ]
        }
      ]
    },
    {
      "cell_type": "code",
      "source": [
        "# GPUメモリの解放\n",
        "del model, model_init\n",
        "torch.cuda.empty_cache()"
      ],
      "metadata": {
        "id": "KhAW-8QqsKjt"
      },
      "execution_count": 103,
      "outputs": []
    },
    {
      "cell_type": "markdown",
      "source": [
        "## 学習と評価（100 epochs, init=signed_constant）"
      ],
      "metadata": {
        "id": "_i257mg66Lan"
      }
    },
    {
      "cell_type": "markdown",
      "source": [
        "### prune_rate=0.999"
      ],
      "metadata": {
        "id": "Htel3svDs206"
      }
    },
    {
      "cell_type": "code",
      "source": [
        "# デバイスを設定\n",
        "device = torch.device('cuda' if torch.cuda.is_available() else 'cpu')\n",
        "# モデルを定義\n",
        "model = torch.load('/content/drive/MyDrive/SupermaskWideResNet28_10_CIFAR100_100epochs_pr0.999_constant_CLRS_restest.pth')\n",
        "# 最終層を変更\n",
        "model.fc = nn.Linear(model.fc.in_features, 10)\n",
        "# 最終層以外のパラメータの勾配計算を停止\n",
        "for param in model.parameters():\n",
        "    param.requires_grad = False\n",
        "# 最終層のパラメータのみを学習するように設定\n",
        "for param in model.fc.parameters():\n",
        "    param.requires_grad = True\n",
        "# モデルをデバイスに転送\n",
        "model = model.to(device)\n",
        "# 変更後のモデルの重みを保存\n",
        "model_init = copy.deepcopy(model)\n",
        "\n",
        "# 学習率を設定\n",
        "learning_rate = 0.01\n",
        "# 全体のepoch数を設定\n",
        "num_epochs = 50\n",
        "# warm-upするepoch数を設定\n",
        "warmup_epochs = 5\n",
        "\n",
        "# 損失関数を定義\n",
        "criterion = nn.CrossEntropyLoss()\n",
        "# オプティマイザーを設定\n",
        "optimizer = optim.Adam(model.fc.parameters(), lr=learning_rate)\n",
        "# スケジューラーを設定\n",
        "scheduler = CosineLRScheduler(optimizer, t_initial=num_epochs, lr_min=1e-4, warmup_t=warmup_epochs, warmup_lr_init=1e-4, warmup_prefix=True)\n",
        "\n",
        "# モデルの学習\n",
        "for epoch in range(num_epochs):\n",
        "    total = 0\n",
        "    correct = 0\n",
        "    for i, (images, labels) in enumerate(train_loader_handsigns):\n",
        "        images = images.to(device)\n",
        "        labels = labels.to(device)\n",
        "        # 順伝播\n",
        "        outputs = model(images)\n",
        "        loss = criterion(outputs, labels)\n",
        "        # 逆伝播\n",
        "        optimizer.zero_grad()\n",
        "        loss.backward()\n",
        "        optimizer.step()\n",
        "        _, predicted = torch.max(outputs.data, 1)\n",
        "        # 全データ数\n",
        "        total += labels.size(0)\n",
        "        # 正解数\n",
        "        correct += (predicted == labels).sum().item()\n",
        "    # 正解率精度を計算\n",
        "    train_acc = 100 * correct / total\n",
        "    # 正解率精度と損失を確認\n",
        "    print(\"Epoch [{}/{}], Train Accuracy: {} %, Loss: {:.4f}\".format(epoch+1, num_epochs, 100 * correct / total, loss.item()))\n",
        "    # 1エポック終了後にスケジューラーを更新\n",
        "    scheduler.step(epoch)\n",
        "    # 学習率の確認\n",
        "    print(\"Epoch [{}/{}], Learning Rate: {}\".format(epoch+1, num_epochs, optimizer.param_groups[0]['lr']))\n",
        "\n",
        "\n",
        "# モデルを保存\n",
        "torch.save(model, '/content/drive/MyDrive/SupermaskWideResNet28_10_HandSigns_from_CIFAR100_100epochs_pr0.999_constant_50epochs_lr0.01_CLRS_restest.pth')"
      ],
      "metadata": {
        "id": "Tn-SMFp7s21G",
        "colab": {
          "base_uri": "https://localhost:8080/"
        },
        "outputId": "f58815d5-c42d-4236-f535-7e285e22f635"
      },
      "execution_count": 104,
      "outputs": [
        {
          "output_type": "stream",
          "name": "stdout",
          "text": [
            "Epoch [1/50], Train Accuracy: 11.4 %, Loss: 2.3257\n",
            "Epoch [1/50], Learning Rate: 0.0001\n",
            "Epoch [2/50], Train Accuracy: 14.5 %, Loss: 2.3157\n",
            "Epoch [2/50], Learning Rate: 0.00208\n",
            "Epoch [3/50], Train Accuracy: 23.5 %, Loss: 2.2275\n",
            "Epoch [3/50], Learning Rate: 0.00406\n",
            "Epoch [4/50], Train Accuracy: 31.7 %, Loss: 1.4331\n",
            "Epoch [4/50], Learning Rate: 0.00604\n",
            "Epoch [5/50], Train Accuracy: 37.3 %, Loss: 1.8470\n",
            "Epoch [5/50], Learning Rate: 0.00802\n",
            "Epoch [6/50], Train Accuracy: 39.8 %, Loss: 2.0902\n",
            "Epoch [6/50], Learning Rate: 0.01\n",
            "Epoch [7/50], Train Accuracy: 37.8 %, Loss: 1.4546\n",
            "Epoch [7/50], Learning Rate: 0.009990232305719944\n",
            "Epoch [8/50], Train Accuracy: 38.7 %, Loss: 1.6280\n",
            "Epoch [8/50], Learning Rate: 0.009960967771506667\n",
            "Epoch [9/50], Train Accuracy: 44.3 %, Loss: 1.9248\n",
            "Epoch [9/50], Learning Rate: 0.00991232189110701\n",
            "Epoch [10/50], Train Accuracy: 43.3 %, Loss: 2.4547\n",
            "Epoch [10/50], Learning Rate: 0.009844486647586723\n",
            "Epoch [11/50], Train Accuracy: 49.5 %, Loss: 1.2127\n",
            "Epoch [11/50], Learning Rate: 0.009757729755661011\n",
            "Epoch [12/50], Train Accuracy: 47.5 %, Loss: 2.5825\n",
            "Epoch [12/50], Learning Rate: 0.009652393605146845\n",
            "Epoch [13/50], Train Accuracy: 46.9 %, Loss: 1.4925\n",
            "Epoch [13/50], Learning Rate: 0.009528893909706798\n",
            "Epoch [14/50], Train Accuracy: 49.3 %, Loss: 2.1513\n",
            "Epoch [14/50], Learning Rate: 0.009387718066217124\n",
            "Epoch [15/50], Train Accuracy: 46.4 %, Loss: 1.1153\n",
            "Epoch [15/50], Learning Rate: 0.009229423231234974\n",
            "Epoch [16/50], Train Accuracy: 49.6 %, Loss: 1.4964\n",
            "Epoch [16/50], Learning Rate: 0.00905463412215599\n",
            "Epoch [17/50], Train Accuracy: 49.2 %, Loss: 1.8927\n",
            "Epoch [17/50], Learning Rate: 0.008864040551740157\n",
            "Epoch [18/50], Train Accuracy: 50.6 %, Loss: 2.5259\n",
            "Epoch [18/50], Learning Rate: 0.008658394705735987\n",
            "Epoch [19/50], Train Accuracy: 51.5 %, Loss: 1.6345\n",
            "Epoch [19/50], Learning Rate: 0.00843850817434701\n",
            "Epoch [20/50], Train Accuracy: 53.1 %, Loss: 0.7920\n",
            "Epoch [20/50], Learning Rate: 0.008205248749256015\n",
            "Epoch [21/50], Train Accuracy: 53.1 %, Loss: 1.5753\n",
            "Epoch [21/50], Learning Rate: 0.007959536998847744\n",
            "Epoch [22/50], Train Accuracy: 51.7 %, Loss: 1.8965\n",
            "Epoch [22/50], Learning Rate: 0.007702342635146034\n",
            "Epoch [23/50], Train Accuracy: 51.2 %, Loss: 1.3324\n",
            "Epoch [23/50], Learning Rate: 0.007434680686803491\n",
            "Epoch [24/50], Train Accuracy: 51.3 %, Loss: 1.3105\n",
            "Epoch [24/50], Learning Rate: 0.0071576074932471105\n",
            "Epoch [25/50], Train Accuracy: 52.7 %, Loss: 1.1938\n",
            "Epoch [25/50], Learning Rate: 0.006872216535789157\n",
            "Epoch [26/50], Train Accuracy: 53.8 %, Loss: 1.2694\n",
            "Epoch [26/50], Learning Rate: 0.006579634122155991\n",
            "Epoch [27/50], Train Accuracy: 55.3 %, Loss: 1.0982\n",
            "Epoch [27/50], Learning Rate: 0.0062810149414660316\n",
            "Epoch [28/50], Train Accuracy: 54.3 %, Loss: 1.1286\n",
            "Epoch [28/50], Learning Rate: 0.005977537507199339\n",
            "Epoch [29/50], Train Accuracy: 55.2 %, Loss: 1.6203\n",
            "Epoch [29/50], Learning Rate: 0.005670399506143308\n",
            "Epoch [30/50], Train Accuracy: 56.0 %, Loss: 1.1948\n",
            "Epoch [30/50], Learning Rate: 0.005360813071670102\n",
            "Epoch [31/50], Train Accuracy: 55.2 %, Loss: 2.2861\n",
            "Epoch [31/50], Learning Rate: 0.005050000000000001\n",
            "Epoch [32/50], Train Accuracy: 57.6 %, Loss: 1.9285\n",
            "Epoch [32/50], Learning Rate: 0.004739186928329899\n",
            "Epoch [33/50], Train Accuracy: 60.6 %, Loss: 2.4347\n",
            "Epoch [33/50], Learning Rate: 0.004429600493856695\n",
            "Epoch [34/50], Train Accuracy: 58.2 %, Loss: 1.7722\n",
            "Epoch [34/50], Learning Rate: 0.0041224624928006635\n",
            "Epoch [35/50], Train Accuracy: 54.0 %, Loss: 1.9411\n",
            "Epoch [35/50], Learning Rate: 0.0038189850585339685\n",
            "Epoch [36/50], Train Accuracy: 58.2 %, Loss: 1.4646\n",
            "Epoch [36/50], Learning Rate: 0.003520365877844012\n",
            "Epoch [37/50], Train Accuracy: 59.6 %, Loss: 0.7887\n",
            "Epoch [37/50], Learning Rate: 0.0032277834642108457\n",
            "Epoch [38/50], Train Accuracy: 59.3 %, Loss: 2.0977\n",
            "Epoch [38/50], Learning Rate: 0.0029423925067528904\n",
            "Epoch [39/50], Train Accuracy: 57.2 %, Loss: 2.5689\n",
            "Epoch [39/50], Learning Rate: 0.002665319313196509\n",
            "Epoch [40/50], Train Accuracy: 58.8 %, Loss: 0.5395\n",
            "Epoch [40/50], Learning Rate: 0.0023976573648539653\n",
            "Epoch [41/50], Train Accuracy: 61.4 %, Loss: 2.0825\n",
            "Epoch [41/50], Learning Rate: 0.0021404630011522584\n",
            "Epoch [42/50], Train Accuracy: 59.9 %, Loss: 1.6478\n",
            "Epoch [42/50], Learning Rate: 0.001894751250743986\n",
            "Epoch [43/50], Train Accuracy: 60.5 %, Loss: 1.1151\n",
            "Epoch [43/50], Learning Rate: 0.001661491825652991\n",
            "Epoch [44/50], Train Accuracy: 62.2 %, Loss: 0.7281\n",
            "Epoch [44/50], Learning Rate: 0.001441605294264014\n",
            "Epoch [45/50], Train Accuracy: 65.1 %, Loss: 0.9147\n",
            "Epoch [45/50], Learning Rate: 0.001235959448259844\n",
            "Epoch [46/50], Train Accuracy: 62.7 %, Loss: 1.5033\n",
            "Epoch [46/50], Learning Rate: 0.0010453658778440107\n",
            "Epoch [47/50], Train Accuracy: 61.7 %, Loss: 1.0917\n",
            "Epoch [47/50], Learning Rate: 0.0008705767687650265\n",
            "Epoch [48/50], Train Accuracy: 60.8 %, Loss: 0.8015\n",
            "Epoch [48/50], Learning Rate: 0.0007122819337828754\n",
            "Epoch [49/50], Train Accuracy: 63.8 %, Loss: 1.4829\n",
            "Epoch [49/50], Learning Rate: 0.0005711060902932043\n",
            "Epoch [50/50], Train Accuracy: 63.7 %, Loss: 0.7097\n",
            "Epoch [50/50], Learning Rate: 0.00044760639485315584\n"
          ]
        }
      ]
    },
    {
      "cell_type": "code",
      "source": [
        "# モデルの刈り込み率を計算する関数を作成\n",
        "def calculate_pruned_ratio(model):\n",
        "    total_weights = 0\n",
        "    total_pruned_weights = 0\n",
        "\n",
        "    for module in model.modules():\n",
        "        # モジュールがSupermaskConvであるか確認\n",
        "        if isinstance(module, SupermaskConv):\n",
        "            # SupermaskConv層の重みを取得\n",
        "            weight = module.weight.data\n",
        "            # 刈り込みを適用した後の重みを取得\n",
        "            subnet = GetSubnet.apply(module.clamped_scores, 1 - module.prune_rate)\n",
        "            pruned_weight = weight * subnet\n",
        "            # 0である要素数を計算\n",
        "            pruned_weights_count = (pruned_weight == 0).sum().item()\n",
        "            total_pruned_weights += pruned_weights_count\n",
        "            # 重みの全要素数を計算\n",
        "            total_weights_count = pruned_weight.numel()\n",
        "            total_weights += total_weights_count\n",
        "\n",
        "    # 刈り込みが行われた割合を計算\n",
        "    pruned_ratio = total_pruned_weights / total_weights\n",
        "    return print(f\"刈り込み率は{pruned_ratio:.3f}です\")\n",
        "\n",
        "# モデルの刈り込み率を確認\n",
        "calculate_pruned_ratio(model)"
      ],
      "metadata": {
        "id": "UNPEeFvms21G",
        "colab": {
          "base_uri": "https://localhost:8080/"
        },
        "outputId": "170969e1-18ff-48cb-ecc3-7b06b680a49c"
      },
      "execution_count": 105,
      "outputs": [
        {
          "output_type": "stream",
          "name": "stdout",
          "text": [
            "刈り込み率は0.999です\n"
          ]
        }
      ]
    },
    {
      "cell_type": "code",
      "source": [
        "# 学習前後のモデルのスコアを比較する関数を作成\n",
        "def check_scores_change(model, model_init):\n",
        "    # 各モデルの名前付きモジュールを順に調べる\n",
        "    for (name, module), (name_init, module_init) in zip(model.named_modules(), model_init.named_modules()):\n",
        "        # 両モジュールがConv2dのインスタンスであるかを確認\n",
        "        if isinstance(module, torch.nn.Conv2d) and isinstance(module_init, torch.nn.Conv2d):\n",
        "            # 両モジュールが'scores'属性を持っているかを確認\n",
        "            if hasattr(module, 'scores') and hasattr(module_init, 'scores'):\n",
        "                # 両モジュールの'scores'属性が一致しているかを確認\n",
        "                # 一致していない場合、変更があったことを示すメッセージを出力\n",
        "                if not torch.equal(module.scores, module_init.scores):\n",
        "                    print(f'{name}のスコアが変化しています')\n",
        "                    return\n",
        "    # すべてのconv層で'scores'が変更されていない場合、その旨を出力\n",
        "    print('すべてのスコアは変化していません')\n",
        "\n",
        "# 学習前後でモデルのスコアが変化していないかを確認\n",
        "check_scores_change(model, model_init)"
      ],
      "metadata": {
        "id": "4Hw5ym78s21G",
        "colab": {
          "base_uri": "https://localhost:8080/"
        },
        "outputId": "e9383f0e-3bd6-437b-85ae-8faab76a1e85"
      },
      "execution_count": 106,
      "outputs": [
        {
          "output_type": "stream",
          "name": "stdout",
          "text": [
            "すべてのスコアは変化していません\n"
          ]
        }
      ]
    },
    {
      "cell_type": "code",
      "source": [
        "# 学習前後のモデルの最終層以外の重みを比較する関数を作成\n",
        "def check_weight_change_except_last(model, model_init):\n",
        "    for (name, param), (name_init, param_init) in zip(model.named_parameters(), model_init.named_parameters()):\n",
        "        # 最終層を除く\n",
        "        if name != 'fc.weight' and name != 'fc.bias':\n",
        "            weights_changed = (param.data != param_init.data).any()\n",
        "            if weights_changed:\n",
        "                return print('最終層以外の重みが変化しています')\n",
        "    return print('最終層以外の重みは変化していません')\n",
        "\n",
        "# 学習前後でモデルの最終層以外の重みが変化していないかを確認\n",
        "check_weight_change_except_last(model, model_init)"
      ],
      "metadata": {
        "id": "Yc0q_v-as21H",
        "colab": {
          "base_uri": "https://localhost:8080/"
        },
        "outputId": "2ea8528f-9e91-456c-8793-d0d418785a13"
      },
      "execution_count": 107,
      "outputs": [
        {
          "output_type": "stream",
          "name": "stdout",
          "text": [
            "最終層以外の重みは変化していません\n"
          ]
        }
      ]
    },
    {
      "cell_type": "code",
      "source": [
        "# モデルの評価\n",
        "model.eval()\n",
        "with torch.no_grad():\n",
        "    total = 0\n",
        "    correct = 0\n",
        "    for images, labels in test_loader_handsigns:\n",
        "        images = images.to(device)\n",
        "        labels = labels.to(device)\n",
        "        outputs = model(images)\n",
        "        _, predicted = torch.max(outputs.data, 1)\n",
        "        total += labels.size(0)\n",
        "        correct += (predicted == labels).sum().item()\n",
        "    # 正解率精度の確認\n",
        "    print('Test Accuracy: {} %'.format(100 * correct / total))"
      ],
      "metadata": {
        "id": "wTIz7vT0s21H",
        "colab": {
          "base_uri": "https://localhost:8080/"
        },
        "outputId": "97bac529-db74-4c8a-9c6b-9519733bfac2"
      },
      "execution_count": 108,
      "outputs": [
        {
          "output_type": "stream",
          "name": "stdout",
          "text": [
            "Test Accuracy: 72.0 %\n"
          ]
        }
      ]
    },
    {
      "cell_type": "code",
      "source": [
        "# GPUメモリの解放\n",
        "del model, model_init\n",
        "torch.cuda.empty_cache()"
      ],
      "metadata": {
        "id": "adYD1gbrs21H"
      },
      "execution_count": 109,
      "outputs": []
    },
    {
      "cell_type": "markdown",
      "source": [
        "### prune_rate=0.995"
      ],
      "metadata": {
        "id": "kAI328b9s21H"
      }
    },
    {
      "cell_type": "code",
      "source": [
        "# デバイスを設定\n",
        "device = torch.device('cuda' if torch.cuda.is_available() else 'cpu')\n",
        "# モデルを定義\n",
        "model = torch.load('/content/drive/MyDrive/SupermaskWideResNet28_10_CIFAR100_100epochs_pr0.995_constant_CLRS_restest.pth')\n",
        "# 最終層を変更\n",
        "model.fc = nn.Linear(model.fc.in_features, 10)\n",
        "# 最終層以外のパラメータの勾配計算を停止\n",
        "for param in model.parameters():\n",
        "    param.requires_grad = False\n",
        "# 最終層のパラメータのみを学習するように設定\n",
        "for param in model.fc.parameters():\n",
        "    param.requires_grad = True\n",
        "# モデルをデバイスに転送\n",
        "model = model.to(device)\n",
        "# 変更後のモデルの重みを保存\n",
        "model_init = copy.deepcopy(model)\n",
        "\n",
        "# 学習率を設定\n",
        "learning_rate = 0.01\n",
        "# 全体のepoch数を設定\n",
        "num_epochs = 50\n",
        "# warm-upするepoch数を設定\n",
        "warmup_epochs = 5\n",
        "\n",
        "# 損失関数を定義\n",
        "criterion = nn.CrossEntropyLoss()\n",
        "# オプティマイザーを設定\n",
        "optimizer = optim.Adam(model.fc.parameters(), lr=learning_rate)\n",
        "# スケジューラーを設定\n",
        "scheduler = CosineLRScheduler(optimizer, t_initial=num_epochs, lr_min=1e-4, warmup_t=warmup_epochs, warmup_lr_init=1e-4, warmup_prefix=True)\n",
        "\n",
        "# モデルの学習\n",
        "for epoch in range(num_epochs):\n",
        "    total = 0\n",
        "    correct = 0\n",
        "    for i, (images, labels) in enumerate(train_loader_handsigns):\n",
        "        images = images.to(device)\n",
        "        labels = labels.to(device)\n",
        "        # 順伝播\n",
        "        outputs = model(images)\n",
        "        loss = criterion(outputs, labels)\n",
        "        # 逆伝播\n",
        "        optimizer.zero_grad()\n",
        "        loss.backward()\n",
        "        optimizer.step()\n",
        "        _, predicted = torch.max(outputs.data, 1)\n",
        "        # 全データ数\n",
        "        total += labels.size(0)\n",
        "        # 正解数\n",
        "        correct += (predicted == labels).sum().item()\n",
        "    # 正解率精度を計算\n",
        "    train_acc = 100 * correct / total\n",
        "    # 正解率精度と損失を確認\n",
        "    print(\"Epoch [{}/{}], Train Accuracy: {} %, Loss: {:.4f}\".format(epoch+1, num_epochs, 100 * correct / total, loss.item()))\n",
        "    # 1エポック終了後にスケジューラーを更新\n",
        "    scheduler.step(epoch)\n",
        "    # 学習率の確認\n",
        "    print(\"Epoch [{}/{}], Learning Rate: {}\".format(epoch+1, num_epochs, optimizer.param_groups[0]['lr']))\n",
        "\n",
        "\n",
        "# モデルを保存\n",
        "torch.save(model, '/content/drive/MyDrive/SupermaskWideResNet28_10_HandSigns_from_CIFAR100_100epochs_pr0.995_constant_50epochs_lr0.01_CLRS_restest.pth')"
      ],
      "metadata": {
        "id": "0qd4qkxos21H",
        "colab": {
          "base_uri": "https://localhost:8080/"
        },
        "outputId": "5bb4a443-71a9-48f5-f40b-1c4e836e9bc3"
      },
      "execution_count": 110,
      "outputs": [
        {
          "output_type": "stream",
          "name": "stdout",
          "text": [
            "Epoch [1/50], Train Accuracy: 10.7 %, Loss: 2.2526\n",
            "Epoch [1/50], Learning Rate: 0.0001\n",
            "Epoch [2/50], Train Accuracy: 19.3 %, Loss: 2.2313\n",
            "Epoch [2/50], Learning Rate: 0.00208\n",
            "Epoch [3/50], Train Accuracy: 37.3 %, Loss: 1.8772\n",
            "Epoch [3/50], Learning Rate: 0.00406\n",
            "Epoch [4/50], Train Accuracy: 47.4 %, Loss: 1.5783\n",
            "Epoch [4/50], Learning Rate: 0.00604\n",
            "Epoch [5/50], Train Accuracy: 52.5 %, Loss: 1.2925\n",
            "Epoch [5/50], Learning Rate: 0.00802\n",
            "Epoch [6/50], Train Accuracy: 56.4 %, Loss: 1.0626\n",
            "Epoch [6/50], Learning Rate: 0.01\n",
            "Epoch [7/50], Train Accuracy: 57.9 %, Loss: 1.8460\n",
            "Epoch [7/50], Learning Rate: 0.009990232305719944\n",
            "Epoch [8/50], Train Accuracy: 60.8 %, Loss: 0.9956\n",
            "Epoch [8/50], Learning Rate: 0.009960967771506667\n",
            "Epoch [9/50], Train Accuracy: 60.1 %, Loss: 1.5115\n",
            "Epoch [9/50], Learning Rate: 0.00991232189110701\n",
            "Epoch [10/50], Train Accuracy: 63.5 %, Loss: 0.7786\n",
            "Epoch [10/50], Learning Rate: 0.009844486647586723\n",
            "Epoch [11/50], Train Accuracy: 68.9 %, Loss: 1.7461\n",
            "Epoch [11/50], Learning Rate: 0.009757729755661011\n",
            "Epoch [12/50], Train Accuracy: 68.8 %, Loss: 0.4444\n",
            "Epoch [12/50], Learning Rate: 0.009652393605146845\n",
            "Epoch [13/50], Train Accuracy: 68.8 %, Loss: 2.5829\n",
            "Epoch [13/50], Learning Rate: 0.009528893909706798\n",
            "Epoch [14/50], Train Accuracy: 71.2 %, Loss: 0.8175\n",
            "Epoch [14/50], Learning Rate: 0.009387718066217124\n",
            "Epoch [15/50], Train Accuracy: 69.8 %, Loss: 1.9874\n",
            "Epoch [15/50], Learning Rate: 0.009229423231234974\n",
            "Epoch [16/50], Train Accuracy: 68.1 %, Loss: 0.5473\n",
            "Epoch [16/50], Learning Rate: 0.00905463412215599\n",
            "Epoch [17/50], Train Accuracy: 72.5 %, Loss: 0.6510\n",
            "Epoch [17/50], Learning Rate: 0.008864040551740157\n",
            "Epoch [18/50], Train Accuracy: 72.5 %, Loss: 0.9704\n",
            "Epoch [18/50], Learning Rate: 0.008658394705735987\n",
            "Epoch [19/50], Train Accuracy: 71.1 %, Loss: 0.6350\n",
            "Epoch [19/50], Learning Rate: 0.00843850817434701\n",
            "Epoch [20/50], Train Accuracy: 70.5 %, Loss: 1.2469\n",
            "Epoch [20/50], Learning Rate: 0.008205248749256015\n",
            "Epoch [21/50], Train Accuracy: 67.4 %, Loss: 0.4558\n",
            "Epoch [21/50], Learning Rate: 0.007959536998847744\n",
            "Epoch [22/50], Train Accuracy: 69.5 %, Loss: 2.3733\n",
            "Epoch [22/50], Learning Rate: 0.007702342635146034\n",
            "Epoch [23/50], Train Accuracy: 73.2 %, Loss: 0.7564\n",
            "Epoch [23/50], Learning Rate: 0.007434680686803491\n",
            "Epoch [24/50], Train Accuracy: 75.8 %, Loss: 0.9997\n",
            "Epoch [24/50], Learning Rate: 0.0071576074932471105\n",
            "Epoch [25/50], Train Accuracy: 73.8 %, Loss: 0.4695\n",
            "Epoch [25/50], Learning Rate: 0.006872216535789157\n",
            "Epoch [26/50], Train Accuracy: 77.2 %, Loss: 1.1951\n",
            "Epoch [26/50], Learning Rate: 0.006579634122155991\n",
            "Epoch [27/50], Train Accuracy: 75.4 %, Loss: 0.1943\n",
            "Epoch [27/50], Learning Rate: 0.0062810149414660316\n",
            "Epoch [28/50], Train Accuracy: 77.1 %, Loss: 0.6080\n",
            "Epoch [28/50], Learning Rate: 0.005977537507199339\n",
            "Epoch [29/50], Train Accuracy: 77.5 %, Loss: 0.6203\n",
            "Epoch [29/50], Learning Rate: 0.005670399506143308\n",
            "Epoch [30/50], Train Accuracy: 74.2 %, Loss: 1.5933\n",
            "Epoch [30/50], Learning Rate: 0.005360813071670102\n",
            "Epoch [31/50], Train Accuracy: 74.5 %, Loss: 1.2819\n",
            "Epoch [31/50], Learning Rate: 0.005050000000000001\n",
            "Epoch [32/50], Train Accuracy: 76.7 %, Loss: 1.2798\n",
            "Epoch [32/50], Learning Rate: 0.004739186928329899\n",
            "Epoch [33/50], Train Accuracy: 78.4 %, Loss: 0.5317\n",
            "Epoch [33/50], Learning Rate: 0.004429600493856695\n",
            "Epoch [34/50], Train Accuracy: 79.0 %, Loss: 0.4473\n",
            "Epoch [34/50], Learning Rate: 0.0041224624928006635\n",
            "Epoch [35/50], Train Accuracy: 78.3 %, Loss: 1.0089\n",
            "Epoch [35/50], Learning Rate: 0.0038189850585339685\n",
            "Epoch [36/50], Train Accuracy: 79.3 %, Loss: 0.8149\n",
            "Epoch [36/50], Learning Rate: 0.003520365877844012\n",
            "Epoch [37/50], Train Accuracy: 80.4 %, Loss: 2.3187\n",
            "Epoch [37/50], Learning Rate: 0.0032277834642108457\n",
            "Epoch [38/50], Train Accuracy: 79.4 %, Loss: 0.5508\n",
            "Epoch [38/50], Learning Rate: 0.0029423925067528904\n",
            "Epoch [39/50], Train Accuracy: 82.2 %, Loss: 0.3547\n",
            "Epoch [39/50], Learning Rate: 0.002665319313196509\n",
            "Epoch [40/50], Train Accuracy: 82.3 %, Loss: 1.1464\n",
            "Epoch [40/50], Learning Rate: 0.0023976573648539653\n",
            "Epoch [41/50], Train Accuracy: 82.8 %, Loss: 1.1556\n",
            "Epoch [41/50], Learning Rate: 0.0021404630011522584\n",
            "Epoch [42/50], Train Accuracy: 82.8 %, Loss: 0.4444\n",
            "Epoch [42/50], Learning Rate: 0.001894751250743986\n",
            "Epoch [43/50], Train Accuracy: 80.9 %, Loss: 0.8853\n",
            "Epoch [43/50], Learning Rate: 0.001661491825652991\n",
            "Epoch [44/50], Train Accuracy: 83.5 %, Loss: 1.5614\n",
            "Epoch [44/50], Learning Rate: 0.001441605294264014\n",
            "Epoch [45/50], Train Accuracy: 82.1 %, Loss: 0.6552\n",
            "Epoch [45/50], Learning Rate: 0.001235959448259844\n",
            "Epoch [46/50], Train Accuracy: 83.3 %, Loss: 1.1185\n",
            "Epoch [46/50], Learning Rate: 0.0010453658778440107\n",
            "Epoch [47/50], Train Accuracy: 82.6 %, Loss: 0.4353\n",
            "Epoch [47/50], Learning Rate: 0.0008705767687650265\n",
            "Epoch [48/50], Train Accuracy: 83.8 %, Loss: 1.0285\n",
            "Epoch [48/50], Learning Rate: 0.0007122819337828754\n",
            "Epoch [49/50], Train Accuracy: 84.0 %, Loss: 0.6494\n",
            "Epoch [49/50], Learning Rate: 0.0005711060902932043\n",
            "Epoch [50/50], Train Accuracy: 81.7 %, Loss: 0.9138\n",
            "Epoch [50/50], Learning Rate: 0.00044760639485315584\n"
          ]
        }
      ]
    },
    {
      "cell_type": "code",
      "source": [
        "# モデルの刈り込み率を計算する関数を作成\n",
        "def calculate_pruned_ratio(model):\n",
        "    total_weights = 0\n",
        "    total_pruned_weights = 0\n",
        "\n",
        "    for module in model.modules():\n",
        "        # モジュールがSupermaskConvであるか確認\n",
        "        if isinstance(module, SupermaskConv):\n",
        "            # SupermaskConv層の重みを取得\n",
        "            weight = module.weight.data\n",
        "            # 刈り込みを適用した後の重みを取得\n",
        "            subnet = GetSubnet.apply(module.clamped_scores, 1 - module.prune_rate)\n",
        "            pruned_weight = weight * subnet\n",
        "            # 0である要素数を計算\n",
        "            pruned_weights_count = (pruned_weight == 0).sum().item()\n",
        "            total_pruned_weights += pruned_weights_count\n",
        "            # 重みの全要素数を計算\n",
        "            total_weights_count = pruned_weight.numel()\n",
        "            total_weights += total_weights_count\n",
        "\n",
        "    # 刈り込みが行われた割合を計算\n",
        "    pruned_ratio = total_pruned_weights / total_weights\n",
        "    return print(f\"刈り込み率は{pruned_ratio:.3f}です\")\n",
        "\n",
        "# モデルの刈り込み率を確認\n",
        "calculate_pruned_ratio(model)"
      ],
      "metadata": {
        "id": "r-HW5IK_s21H",
        "colab": {
          "base_uri": "https://localhost:8080/"
        },
        "outputId": "12d538bd-0a56-44d3-852a-c23cc5747293"
      },
      "execution_count": 111,
      "outputs": [
        {
          "output_type": "stream",
          "name": "stdout",
          "text": [
            "刈り込み率は0.995です\n"
          ]
        }
      ]
    },
    {
      "cell_type": "code",
      "source": [
        "# 学習前後のモデルのスコアを比較する関数を作成\n",
        "def check_scores_change(model, model_init):\n",
        "    # 各モデルの名前付きモジュールを順に調べる\n",
        "    for (name, module), (name_init, module_init) in zip(model.named_modules(), model_init.named_modules()):\n",
        "        # 両モジュールがConv2dのインスタンスであるかを確認\n",
        "        if isinstance(module, torch.nn.Conv2d) and isinstance(module_init, torch.nn.Conv2d):\n",
        "            # 両モジュールが'scores'属性を持っているかを確認\n",
        "            if hasattr(module, 'scores') and hasattr(module_init, 'scores'):\n",
        "                # 両モジュールの'scores'属性が一致しているかを確認\n",
        "                # 一致していない場合、変更があったことを示すメッセージを出力\n",
        "                if not torch.equal(module.scores, module_init.scores):\n",
        "                    print(f'{name}のスコアが変化しています')\n",
        "                    return\n",
        "    # すべてのconv層で'scores'が変更されていない場合、その旨を出力\n",
        "    print('すべてのスコアは変化していません')\n",
        "\n",
        "# 学習前後でモデルのスコアが変化していないかを確認\n",
        "check_scores_change(model, model_init)"
      ],
      "metadata": {
        "id": "1LJb0Krws21H",
        "colab": {
          "base_uri": "https://localhost:8080/"
        },
        "outputId": "15a0df1e-5326-4b6a-ef58-25cda0d24b61"
      },
      "execution_count": 112,
      "outputs": [
        {
          "output_type": "stream",
          "name": "stdout",
          "text": [
            "すべてのスコアは変化していません\n"
          ]
        }
      ]
    },
    {
      "cell_type": "code",
      "source": [
        "# 学習前後のモデルの最終層以外の重みを比較する関数を作成\n",
        "def check_weight_change_except_last(model, model_init):\n",
        "    for (name, param), (name_init, param_init) in zip(model.named_parameters(), model_init.named_parameters()):\n",
        "        # 最終層を除く\n",
        "        if name != 'fc.weight' and name != 'fc.bias':\n",
        "            weights_changed = (param.data != param_init.data).any()\n",
        "            if weights_changed:\n",
        "                return print('最終層以外の重みが変化しています')\n",
        "    return print('最終層以外の重みは変化していません')\n",
        "\n",
        "# 学習前後でモデルの最終層以外の重みが変化していないかを確認\n",
        "check_weight_change_except_last(model, model_init)"
      ],
      "metadata": {
        "id": "0qCmgtNHs21I",
        "colab": {
          "base_uri": "https://localhost:8080/"
        },
        "outputId": "20f4e190-5522-4ca0-9de6-e8fcb1e32875"
      },
      "execution_count": 113,
      "outputs": [
        {
          "output_type": "stream",
          "name": "stdout",
          "text": [
            "最終層以外の重みは変化していません\n"
          ]
        }
      ]
    },
    {
      "cell_type": "code",
      "source": [
        "# モデルの評価\n",
        "model.eval()\n",
        "with torch.no_grad():\n",
        "    total = 0\n",
        "    correct = 0\n",
        "    for images, labels in test_loader_handsigns:\n",
        "        images = images.to(device)\n",
        "        labels = labels.to(device)\n",
        "        outputs = model(images)\n",
        "        _, predicted = torch.max(outputs.data, 1)\n",
        "        total += labels.size(0)\n",
        "        correct += (predicted == labels).sum().item()\n",
        "    # 正解率精度の確認\n",
        "    print('Test Accuracy: {} %'.format(100 * correct / total))"
      ],
      "metadata": {
        "id": "Lfmi-sz_s21I",
        "colab": {
          "base_uri": "https://localhost:8080/"
        },
        "outputId": "d78d6208-2506-4342-a38e-0725a561c4de"
      },
      "execution_count": 114,
      "outputs": [
        {
          "output_type": "stream",
          "name": "stdout",
          "text": [
            "Test Accuracy: 85.0 %\n"
          ]
        }
      ]
    },
    {
      "cell_type": "code",
      "source": [
        "# GPUメモリの解放\n",
        "del model, model_init\n",
        "torch.cuda.empty_cache()"
      ],
      "metadata": {
        "id": "8HWIItpbs21I"
      },
      "execution_count": 115,
      "outputs": []
    },
    {
      "cell_type": "markdown",
      "source": [
        "### prune_rate=0.99"
      ],
      "metadata": {
        "id": "N6XhVlw1s21I"
      }
    },
    {
      "cell_type": "code",
      "source": [
        "# デバイスを設定\n",
        "device = torch.device('cuda' if torch.cuda.is_available() else 'cpu')\n",
        "# モデルを定義\n",
        "model = torch.load('/content/drive/MyDrive/SupermaskWideResNet28_10_CIFAR100_100epochs_pr0.99_constant_CLRS_restest.pth')\n",
        "# 最終層を変更\n",
        "model.fc = nn.Linear(model.fc.in_features, 10)\n",
        "# 最終層以外のパラメータの勾配計算を停止\n",
        "for param in model.parameters():\n",
        "    param.requires_grad = False\n",
        "# 最終層のパラメータのみを学習するように設定\n",
        "for param in model.fc.parameters():\n",
        "    param.requires_grad = True\n",
        "# モデルをデバイスに転送\n",
        "model = model.to(device)\n",
        "# 変更後のモデルの重みを保存\n",
        "model_init = copy.deepcopy(model)\n",
        "\n",
        "# 学習率を設定\n",
        "learning_rate = 0.01\n",
        "# 全体のepoch数を設定\n",
        "num_epochs = 50\n",
        "# warm-upするepoch数を設定\n",
        "warmup_epochs = 5\n",
        "\n",
        "# 損失関数を定義\n",
        "criterion = nn.CrossEntropyLoss()\n",
        "# オプティマイザーを設定\n",
        "optimizer = optim.Adam(model.fc.parameters(), lr=learning_rate)\n",
        "# スケジューラーを設定\n",
        "scheduler = CosineLRScheduler(optimizer, t_initial=num_epochs, lr_min=1e-4, warmup_t=warmup_epochs, warmup_lr_init=1e-4, warmup_prefix=True)\n",
        "\n",
        "# モデルの学習\n",
        "for epoch in range(num_epochs):\n",
        "    total = 0\n",
        "    correct = 0\n",
        "    for i, (images, labels) in enumerate(train_loader_handsigns):\n",
        "        images = images.to(device)\n",
        "        labels = labels.to(device)\n",
        "        # 順伝播\n",
        "        outputs = model(images)\n",
        "        loss = criterion(outputs, labels)\n",
        "        # 逆伝播\n",
        "        optimizer.zero_grad()\n",
        "        loss.backward()\n",
        "        optimizer.step()\n",
        "        _, predicted = torch.max(outputs.data, 1)\n",
        "        # 全データ数\n",
        "        total += labels.size(0)\n",
        "        # 正解数\n",
        "        correct += (predicted == labels).sum().item()\n",
        "    # 正解率精度を計算\n",
        "    train_acc = 100 * correct / total\n",
        "    # 正解率精度と損失を確認\n",
        "    print(\"Epoch [{}/{}], Train Accuracy: {} %, Loss: {:.4f}\".format(epoch+1, num_epochs, 100 * correct / total, loss.item()))\n",
        "    # 1エポック終了後にスケジューラーを更新\n",
        "    scheduler.step(epoch)\n",
        "    # 学習率の確認\n",
        "    print(\"Epoch [{}/{}], Learning Rate: {}\".format(epoch+1, num_epochs, optimizer.param_groups[0]['lr']))\n",
        "\n",
        "\n",
        "# モデルを保存\n",
        "torch.save(model, '/content/drive/MyDrive/SupermaskWideResNet28_10_HandSigns_from_CIFAR100_100epochs_pr0.99_constant_50epochs_lr0.01_CLRS_restest.pth')"
      ],
      "metadata": {
        "id": "DbZHlg62s21I",
        "colab": {
          "base_uri": "https://localhost:8080/"
        },
        "outputId": "03fdd8b4-a82a-48fb-bcb4-c83dad53a79a"
      },
      "execution_count": 116,
      "outputs": [
        {
          "output_type": "stream",
          "name": "stdout",
          "text": [
            "Epoch [1/50], Train Accuracy: 17.6 %, Loss: 2.2915\n",
            "Epoch [1/50], Learning Rate: 0.0001\n",
            "Epoch [2/50], Train Accuracy: 29.1 %, Loss: 2.1678\n",
            "Epoch [2/50], Learning Rate: 0.00208\n",
            "Epoch [3/50], Train Accuracy: 37.2 %, Loss: 1.7900\n",
            "Epoch [3/50], Learning Rate: 0.00406\n",
            "Epoch [4/50], Train Accuracy: 53.1 %, Loss: 1.3972\n",
            "Epoch [4/50], Learning Rate: 0.00604\n",
            "Epoch [5/50], Train Accuracy: 57.0 %, Loss: 1.5406\n",
            "Epoch [5/50], Learning Rate: 0.00802\n",
            "Epoch [6/50], Train Accuracy: 62.4 %, Loss: 0.5340\n",
            "Epoch [6/50], Learning Rate: 0.01\n",
            "Epoch [7/50], Train Accuracy: 61.9 %, Loss: 1.7171\n",
            "Epoch [7/50], Learning Rate: 0.009990232305719944\n",
            "Epoch [8/50], Train Accuracy: 67.2 %, Loss: 0.6327\n",
            "Epoch [8/50], Learning Rate: 0.009960967771506667\n",
            "Epoch [9/50], Train Accuracy: 67.0 %, Loss: 1.7356\n",
            "Epoch [9/50], Learning Rate: 0.00991232189110701\n",
            "Epoch [10/50], Train Accuracy: 65.7 %, Loss: 0.5745\n",
            "Epoch [10/50], Learning Rate: 0.009844486647586723\n",
            "Epoch [11/50], Train Accuracy: 68.3 %, Loss: 0.7126\n",
            "Epoch [11/50], Learning Rate: 0.009757729755661011\n",
            "Epoch [12/50], Train Accuracy: 68.5 %, Loss: 1.1825\n",
            "Epoch [12/50], Learning Rate: 0.009652393605146845\n",
            "Epoch [13/50], Train Accuracy: 73.6 %, Loss: 1.3804\n",
            "Epoch [13/50], Learning Rate: 0.009528893909706798\n",
            "Epoch [14/50], Train Accuracy: 69.8 %, Loss: 0.5569\n",
            "Epoch [14/50], Learning Rate: 0.009387718066217124\n",
            "Epoch [15/50], Train Accuracy: 74.2 %, Loss: 0.4961\n",
            "Epoch [15/50], Learning Rate: 0.009229423231234974\n",
            "Epoch [16/50], Train Accuracy: 74.1 %, Loss: 0.7809\n",
            "Epoch [16/50], Learning Rate: 0.00905463412215599\n",
            "Epoch [17/50], Train Accuracy: 74.4 %, Loss: 4.0673\n",
            "Epoch [17/50], Learning Rate: 0.008864040551740157\n",
            "Epoch [18/50], Train Accuracy: 75.7 %, Loss: 0.4868\n",
            "Epoch [18/50], Learning Rate: 0.008658394705735987\n",
            "Epoch [19/50], Train Accuracy: 74.1 %, Loss: 0.9520\n",
            "Epoch [19/50], Learning Rate: 0.00843850817434701\n",
            "Epoch [20/50], Train Accuracy: 76.6 %, Loss: 0.2039\n",
            "Epoch [20/50], Learning Rate: 0.008205248749256015\n",
            "Epoch [21/50], Train Accuracy: 76.4 %, Loss: 0.4498\n",
            "Epoch [21/50], Learning Rate: 0.007959536998847744\n",
            "Epoch [22/50], Train Accuracy: 76.5 %, Loss: 0.2907\n",
            "Epoch [22/50], Learning Rate: 0.007702342635146034\n",
            "Epoch [23/50], Train Accuracy: 78.7 %, Loss: 1.4949\n",
            "Epoch [23/50], Learning Rate: 0.007434680686803491\n",
            "Epoch [24/50], Train Accuracy: 76.0 %, Loss: 2.0088\n",
            "Epoch [24/50], Learning Rate: 0.0071576074932471105\n",
            "Epoch [25/50], Train Accuracy: 78.5 %, Loss: 1.4112\n",
            "Epoch [25/50], Learning Rate: 0.006872216535789157\n",
            "Epoch [26/50], Train Accuracy: 81.1 %, Loss: 1.4679\n",
            "Epoch [26/50], Learning Rate: 0.006579634122155991\n",
            "Epoch [27/50], Train Accuracy: 79.7 %, Loss: 0.2593\n",
            "Epoch [27/50], Learning Rate: 0.0062810149414660316\n",
            "Epoch [28/50], Train Accuracy: 81.7 %, Loss: 0.6850\n",
            "Epoch [28/50], Learning Rate: 0.005977537507199339\n",
            "Epoch [29/50], Train Accuracy: 81.4 %, Loss: 0.4597\n",
            "Epoch [29/50], Learning Rate: 0.005670399506143308\n",
            "Epoch [30/50], Train Accuracy: 83.5 %, Loss: 0.1018\n",
            "Epoch [30/50], Learning Rate: 0.005360813071670102\n",
            "Epoch [31/50], Train Accuracy: 79.4 %, Loss: 1.2009\n",
            "Epoch [31/50], Learning Rate: 0.005050000000000001\n",
            "Epoch [32/50], Train Accuracy: 82.6 %, Loss: 0.1409\n",
            "Epoch [32/50], Learning Rate: 0.004739186928329899\n",
            "Epoch [33/50], Train Accuracy: 82.6 %, Loss: 0.7098\n",
            "Epoch [33/50], Learning Rate: 0.004429600493856695\n",
            "Epoch [34/50], Train Accuracy: 83.3 %, Loss: 0.4063\n",
            "Epoch [34/50], Learning Rate: 0.0041224624928006635\n",
            "Epoch [35/50], Train Accuracy: 83.3 %, Loss: 0.5319\n",
            "Epoch [35/50], Learning Rate: 0.0038189850585339685\n",
            "Epoch [36/50], Train Accuracy: 84.6 %, Loss: 0.2948\n",
            "Epoch [36/50], Learning Rate: 0.003520365877844012\n",
            "Epoch [37/50], Train Accuracy: 80.6 %, Loss: 0.0842\n",
            "Epoch [37/50], Learning Rate: 0.0032277834642108457\n",
            "Epoch [38/50], Train Accuracy: 82.8 %, Loss: 0.8427\n",
            "Epoch [38/50], Learning Rate: 0.0029423925067528904\n",
            "Epoch [39/50], Train Accuracy: 84.6 %, Loss: 0.6679\n",
            "Epoch [39/50], Learning Rate: 0.002665319313196509\n",
            "Epoch [40/50], Train Accuracy: 84.9 %, Loss: 1.0127\n",
            "Epoch [40/50], Learning Rate: 0.0023976573648539653\n",
            "Epoch [41/50], Train Accuracy: 85.1 %, Loss: 0.5025\n",
            "Epoch [41/50], Learning Rate: 0.0021404630011522584\n",
            "Epoch [42/50], Train Accuracy: 86.7 %, Loss: 0.6107\n",
            "Epoch [42/50], Learning Rate: 0.001894751250743986\n",
            "Epoch [43/50], Train Accuracy: 83.8 %, Loss: 1.2117\n",
            "Epoch [43/50], Learning Rate: 0.001661491825652991\n",
            "Epoch [44/50], Train Accuracy: 85.8 %, Loss: 0.4332\n",
            "Epoch [44/50], Learning Rate: 0.001441605294264014\n",
            "Epoch [45/50], Train Accuracy: 86.1 %, Loss: 0.1636\n",
            "Epoch [45/50], Learning Rate: 0.001235959448259844\n",
            "Epoch [46/50], Train Accuracy: 88.0 %, Loss: 0.2715\n",
            "Epoch [46/50], Learning Rate: 0.0010453658778440107\n",
            "Epoch [47/50], Train Accuracy: 86.9 %, Loss: 0.5134\n",
            "Epoch [47/50], Learning Rate: 0.0008705767687650265\n",
            "Epoch [48/50], Train Accuracy: 87.3 %, Loss: 0.4309\n",
            "Epoch [48/50], Learning Rate: 0.0007122819337828754\n",
            "Epoch [49/50], Train Accuracy: 86.3 %, Loss: 0.5642\n",
            "Epoch [49/50], Learning Rate: 0.0005711060902932043\n",
            "Epoch [50/50], Train Accuracy: 86.9 %, Loss: 0.4293\n",
            "Epoch [50/50], Learning Rate: 0.00044760639485315584\n"
          ]
        }
      ]
    },
    {
      "cell_type": "code",
      "source": [
        "# モデルの刈り込み率を計算する関数を作成\n",
        "def calculate_pruned_ratio(model):\n",
        "    total_weights = 0\n",
        "    total_pruned_weights = 0\n",
        "\n",
        "    for module in model.modules():\n",
        "        # モジュールがSupermaskConvであるか確認\n",
        "        if isinstance(module, SupermaskConv):\n",
        "            # SupermaskConv層の重みを取得\n",
        "            weight = module.weight.data\n",
        "            # 刈り込みを適用した後の重みを取得\n",
        "            subnet = GetSubnet.apply(module.clamped_scores, 1 - module.prune_rate)\n",
        "            pruned_weight = weight * subnet\n",
        "            # 0である要素数を計算\n",
        "            pruned_weights_count = (pruned_weight == 0).sum().item()\n",
        "            total_pruned_weights += pruned_weights_count\n",
        "            # 重みの全要素数を計算\n",
        "            total_weights_count = pruned_weight.numel()\n",
        "            total_weights += total_weights_count\n",
        "\n",
        "    # 刈り込みが行われた割合を計算\n",
        "    pruned_ratio = total_pruned_weights / total_weights\n",
        "    return print(f\"刈り込み率は{pruned_ratio:.3f}です\")\n",
        "\n",
        "# モデルの刈り込み率を確認\n",
        "calculate_pruned_ratio(model)"
      ],
      "metadata": {
        "id": "lS1L0HJms21I",
        "colab": {
          "base_uri": "https://localhost:8080/"
        },
        "outputId": "d81a4a5b-ce63-45f9-ef5d-f402c2a896be"
      },
      "execution_count": 117,
      "outputs": [
        {
          "output_type": "stream",
          "name": "stdout",
          "text": [
            "刈り込み率は0.990です\n"
          ]
        }
      ]
    },
    {
      "cell_type": "code",
      "source": [
        "# 学習前後のモデルのスコアを比較する関数を作成\n",
        "def check_scores_change(model, model_init):\n",
        "    # 各モデルの名前付きモジュールを順に調べる\n",
        "    for (name, module), (name_init, module_init) in zip(model.named_modules(), model_init.named_modules()):\n",
        "        # 両モジュールがConv2dのインスタンスであるかを確認\n",
        "        if isinstance(module, torch.nn.Conv2d) and isinstance(module_init, torch.nn.Conv2d):\n",
        "            # 両モジュールが'scores'属性を持っているかを確認\n",
        "            if hasattr(module, 'scores') and hasattr(module_init, 'scores'):\n",
        "                # 両モジュールの'scores'属性が一致しているかを確認\n",
        "                # 一致していない場合、変更があったことを示すメッセージを出力\n",
        "                if not torch.equal(module.scores, module_init.scores):\n",
        "                    print(f'{name}のスコアが変化しています')\n",
        "                    return\n",
        "    # すべてのconv層で'scores'が変更されていない場合、その旨を出力\n",
        "    print('すべてのスコアは変化していません')\n",
        "\n",
        "# 学習前後でモデルのスコアが変化していないかを確認\n",
        "check_scores_change(model, model_init)"
      ],
      "metadata": {
        "id": "bliiLq6fs21J",
        "colab": {
          "base_uri": "https://localhost:8080/"
        },
        "outputId": "8ab2c512-7288-41f9-e331-5dfd13bcb0c6"
      },
      "execution_count": 118,
      "outputs": [
        {
          "output_type": "stream",
          "name": "stdout",
          "text": [
            "すべてのスコアは変化していません\n"
          ]
        }
      ]
    },
    {
      "cell_type": "code",
      "source": [
        "# 学習前後のモデルの最終層以外の重みを比較する関数を作成\n",
        "def check_weight_change_except_last(model, model_init):\n",
        "    for (name, param), (name_init, param_init) in zip(model.named_parameters(), model_init.named_parameters()):\n",
        "        # 最終層を除く\n",
        "        if name != 'fc.weight' and name != 'fc.bias':\n",
        "            weights_changed = (param.data != param_init.data).any()\n",
        "            if weights_changed:\n",
        "                return print('最終層以外の重みが変化しています')\n",
        "    return print('最終層以外の重みは変化していません')\n",
        "\n",
        "# 学習前後でモデルの最終層以外の重みが変化していないかを確認\n",
        "check_weight_change_except_last(model, model_init)"
      ],
      "metadata": {
        "id": "hjjVdDxus21J",
        "colab": {
          "base_uri": "https://localhost:8080/"
        },
        "outputId": "4e76f706-e015-49e0-e6e1-376f1f4b56ae"
      },
      "execution_count": 119,
      "outputs": [
        {
          "output_type": "stream",
          "name": "stdout",
          "text": [
            "最終層以外の重みは変化していません\n"
          ]
        }
      ]
    },
    {
      "cell_type": "code",
      "source": [
        "# モデルの評価\n",
        "model.eval()\n",
        "with torch.no_grad():\n",
        "    total = 0\n",
        "    correct = 0\n",
        "    for images, labels in test_loader_handsigns:\n",
        "        images = images.to(device)\n",
        "        labels = labels.to(device)\n",
        "        outputs = model(images)\n",
        "        _, predicted = torch.max(outputs.data, 1)\n",
        "        total += labels.size(0)\n",
        "        correct += (predicted == labels).sum().item()\n",
        "    # 正解率精度の確認\n",
        "    print('Test Accuracy: {} %'.format(100 * correct / total))"
      ],
      "metadata": {
        "id": "tfBGy-xJs21J",
        "colab": {
          "base_uri": "https://localhost:8080/"
        },
        "outputId": "08981b86-e1bc-47e7-ea73-2384fa6ada89"
      },
      "execution_count": 120,
      "outputs": [
        {
          "output_type": "stream",
          "name": "stdout",
          "text": [
            "Test Accuracy: 83.0 %\n"
          ]
        }
      ]
    },
    {
      "cell_type": "code",
      "source": [
        "# GPUメモリの解放\n",
        "del model, model_init\n",
        "torch.cuda.empty_cache()"
      ],
      "metadata": {
        "id": "zO_k4GEqs21J"
      },
      "execution_count": 121,
      "outputs": []
    },
    {
      "cell_type": "markdown",
      "source": [
        "### prune_rate=0.95"
      ],
      "metadata": {
        "id": "TJ7H2XHys21J"
      }
    },
    {
      "cell_type": "code",
      "source": [
        "# デバイスを設定\n",
        "device = torch.device('cuda' if torch.cuda.is_available() else 'cpu')\n",
        "# モデルを定義\n",
        "model = torch.load('/content/drive/MyDrive/SupermaskWideResNet28_10_CIFAR100_100epochs_pr0.95_constant_CLRS_restest.pth')\n",
        "# 最終層を変更\n",
        "model.fc = nn.Linear(model.fc.in_features, 10)\n",
        "# 最終層以外のパラメータの勾配計算を停止\n",
        "for param in model.parameters():\n",
        "    param.requires_grad = False\n",
        "# 最終層のパラメータのみを学習するように設定\n",
        "for param in model.fc.parameters():\n",
        "    param.requires_grad = True\n",
        "# モデルをデバイスに転送\n",
        "model = model.to(device)\n",
        "# 変更後のモデルの重みを保存\n",
        "model_init = copy.deepcopy(model)\n",
        "\n",
        "# 学習率を設定\n",
        "learning_rate = 0.01\n",
        "# 全体のepoch数を設定\n",
        "num_epochs = 50\n",
        "# warm-upするepoch数を設定\n",
        "warmup_epochs = 5\n",
        "\n",
        "# 損失関数を定義\n",
        "criterion = nn.CrossEntropyLoss()\n",
        "# オプティマイザーを設定\n",
        "optimizer = optim.Adam(model.fc.parameters(), lr=learning_rate)\n",
        "# スケジューラーを設定\n",
        "scheduler = CosineLRScheduler(optimizer, t_initial=num_epochs, lr_min=1e-4, warmup_t=warmup_epochs, warmup_lr_init=1e-4, warmup_prefix=True)\n",
        "\n",
        "# モデルの学習\n",
        "for epoch in range(num_epochs):\n",
        "    total = 0\n",
        "    correct = 0\n",
        "    for i, (images, labels) in enumerate(train_loader_handsigns):\n",
        "        images = images.to(device)\n",
        "        labels = labels.to(device)\n",
        "        # 順伝播\n",
        "        outputs = model(images)\n",
        "        loss = criterion(outputs, labels)\n",
        "        # 逆伝播\n",
        "        optimizer.zero_grad()\n",
        "        loss.backward()\n",
        "        optimizer.step()\n",
        "        _, predicted = torch.max(outputs.data, 1)\n",
        "        # 全データ数\n",
        "        total += labels.size(0)\n",
        "        # 正解数\n",
        "        correct += (predicted == labels).sum().item()\n",
        "    # 正解率精度を計算\n",
        "    train_acc = 100 * correct / total\n",
        "    # 正解率精度と損失を確認\n",
        "    print(\"Epoch [{}/{}], Train Accuracy: {} %, Loss: {:.4f}\".format(epoch+1, num_epochs, 100 * correct / total, loss.item()))\n",
        "    # 1エポック終了後にスケジューラーを更新\n",
        "    scheduler.step(epoch)\n",
        "    # 学習率の確認\n",
        "    print(\"Epoch [{}/{}], Learning Rate: {}\".format(epoch+1, num_epochs, optimizer.param_groups[0]['lr']))\n",
        "\n",
        "\n",
        "# モデルを保存\n",
        "torch.save(model, '/content/drive/MyDrive/SupermaskWideResNet28_10_HandSigns_from_CIFAR100_100epochs_pr0.95_constant_50epochs_lr0.01_CLRS_restest.pth')"
      ],
      "metadata": {
        "id": "ErQjafPns21J",
        "colab": {
          "base_uri": "https://localhost:8080/"
        },
        "outputId": "a07f7b0a-7cfc-4ea7-c3e0-2591d31cf3b2"
      },
      "execution_count": 122,
      "outputs": [
        {
          "output_type": "stream",
          "name": "stdout",
          "text": [
            "Epoch [1/50], Train Accuracy: 14.5 %, Loss: 2.2381\n",
            "Epoch [1/50], Learning Rate: 0.0001\n",
            "Epoch [2/50], Train Accuracy: 23.0 %, Loss: 2.2129\n",
            "Epoch [2/50], Learning Rate: 0.00208\n",
            "Epoch [3/50], Train Accuracy: 43.5 %, Loss: 1.9391\n",
            "Epoch [3/50], Learning Rate: 0.00406\n",
            "Epoch [4/50], Train Accuracy: 55.4 %, Loss: 1.2686\n",
            "Epoch [4/50], Learning Rate: 0.00604\n",
            "Epoch [5/50], Train Accuracy: 62.5 %, Loss: 0.5647\n",
            "Epoch [5/50], Learning Rate: 0.00802\n",
            "Epoch [6/50], Train Accuracy: 63.6 %, Loss: 1.3266\n",
            "Epoch [6/50], Learning Rate: 0.01\n",
            "Epoch [7/50], Train Accuracy: 61.4 %, Loss: 2.3870\n",
            "Epoch [7/50], Learning Rate: 0.009990232305719944\n",
            "Epoch [8/50], Train Accuracy: 66.7 %, Loss: 1.9649\n",
            "Epoch [8/50], Learning Rate: 0.009960967771506667\n",
            "Epoch [9/50], Train Accuracy: 71.2 %, Loss: 0.5711\n",
            "Epoch [9/50], Learning Rate: 0.00991232189110701\n",
            "Epoch [10/50], Train Accuracy: 72.0 %, Loss: 0.5900\n",
            "Epoch [10/50], Learning Rate: 0.009844486647586723\n",
            "Epoch [11/50], Train Accuracy: 74.1 %, Loss: 1.8351\n",
            "Epoch [11/50], Learning Rate: 0.009757729755661011\n",
            "Epoch [12/50], Train Accuracy: 75.1 %, Loss: 0.9205\n",
            "Epoch [12/50], Learning Rate: 0.009652393605146845\n",
            "Epoch [13/50], Train Accuracy: 75.4 %, Loss: 1.5447\n",
            "Epoch [13/50], Learning Rate: 0.009528893909706798\n",
            "Epoch [14/50], Train Accuracy: 75.4 %, Loss: 0.1927\n",
            "Epoch [14/50], Learning Rate: 0.009387718066217124\n",
            "Epoch [15/50], Train Accuracy: 73.6 %, Loss: 1.1258\n",
            "Epoch [15/50], Learning Rate: 0.009229423231234974\n",
            "Epoch [16/50], Train Accuracy: 78.1 %, Loss: 0.6254\n",
            "Epoch [16/50], Learning Rate: 0.00905463412215599\n",
            "Epoch [17/50], Train Accuracy: 80.8 %, Loss: 1.2436\n",
            "Epoch [17/50], Learning Rate: 0.008864040551740157\n",
            "Epoch [18/50], Train Accuracy: 79.2 %, Loss: 0.3427\n",
            "Epoch [18/50], Learning Rate: 0.008658394705735987\n",
            "Epoch [19/50], Train Accuracy: 78.4 %, Loss: 0.3692\n",
            "Epoch [19/50], Learning Rate: 0.00843850817434701\n",
            "Epoch [20/50], Train Accuracy: 80.1 %, Loss: 0.8468\n",
            "Epoch [20/50], Learning Rate: 0.008205248749256015\n",
            "Epoch [21/50], Train Accuracy: 81.2 %, Loss: 0.1808\n",
            "Epoch [21/50], Learning Rate: 0.007959536998847744\n",
            "Epoch [22/50], Train Accuracy: 80.9 %, Loss: 0.3403\n",
            "Epoch [22/50], Learning Rate: 0.007702342635146034\n",
            "Epoch [23/50], Train Accuracy: 82.6 %, Loss: 0.3264\n",
            "Epoch [23/50], Learning Rate: 0.007434680686803491\n",
            "Epoch [24/50], Train Accuracy: 80.3 %, Loss: 0.3221\n",
            "Epoch [24/50], Learning Rate: 0.0071576074932471105\n",
            "Epoch [25/50], Train Accuracy: 80.2 %, Loss: 0.5145\n",
            "Epoch [25/50], Learning Rate: 0.006872216535789157\n",
            "Epoch [26/50], Train Accuracy: 82.9 %, Loss: 0.4839\n",
            "Epoch [26/50], Learning Rate: 0.006579634122155991\n",
            "Epoch [27/50], Train Accuracy: 84.6 %, Loss: 0.8801\n",
            "Epoch [27/50], Learning Rate: 0.0062810149414660316\n",
            "Epoch [28/50], Train Accuracy: 84.6 %, Loss: 0.6935\n",
            "Epoch [28/50], Learning Rate: 0.005977537507199339\n",
            "Epoch [29/50], Train Accuracy: 82.7 %, Loss: 0.6914\n",
            "Epoch [29/50], Learning Rate: 0.005670399506143308\n",
            "Epoch [30/50], Train Accuracy: 84.7 %, Loss: 0.2380\n",
            "Epoch [30/50], Learning Rate: 0.005360813071670102\n",
            "Epoch [31/50], Train Accuracy: 84.2 %, Loss: 0.5173\n",
            "Epoch [31/50], Learning Rate: 0.005050000000000001\n",
            "Epoch [32/50], Train Accuracy: 83.7 %, Loss: 0.1237\n",
            "Epoch [32/50], Learning Rate: 0.004739186928329899\n",
            "Epoch [33/50], Train Accuracy: 86.4 %, Loss: 0.3730\n",
            "Epoch [33/50], Learning Rate: 0.004429600493856695\n",
            "Epoch [34/50], Train Accuracy: 85.8 %, Loss: 0.3820\n",
            "Epoch [34/50], Learning Rate: 0.0041224624928006635\n",
            "Epoch [35/50], Train Accuracy: 86.2 %, Loss: 1.0488\n",
            "Epoch [35/50], Learning Rate: 0.0038189850585339685\n",
            "Epoch [36/50], Train Accuracy: 86.1 %, Loss: 1.7400\n",
            "Epoch [36/50], Learning Rate: 0.003520365877844012\n",
            "Epoch [37/50], Train Accuracy: 86.0 %, Loss: 0.3240\n",
            "Epoch [37/50], Learning Rate: 0.0032277834642108457\n",
            "Epoch [38/50], Train Accuracy: 87.9 %, Loss: 0.0765\n",
            "Epoch [38/50], Learning Rate: 0.0029423925067528904\n",
            "Epoch [39/50], Train Accuracy: 87.9 %, Loss: 0.1125\n",
            "Epoch [39/50], Learning Rate: 0.002665319313196509\n",
            "Epoch [40/50], Train Accuracy: 86.3 %, Loss: 0.4361\n",
            "Epoch [40/50], Learning Rate: 0.0023976573648539653\n",
            "Epoch [41/50], Train Accuracy: 88.8 %, Loss: 0.1869\n",
            "Epoch [41/50], Learning Rate: 0.0021404630011522584\n",
            "Epoch [42/50], Train Accuracy: 89.5 %, Loss: 0.1046\n",
            "Epoch [42/50], Learning Rate: 0.001894751250743986\n",
            "Epoch [43/50], Train Accuracy: 88.5 %, Loss: 0.4667\n",
            "Epoch [43/50], Learning Rate: 0.001661491825652991\n",
            "Epoch [44/50], Train Accuracy: 86.0 %, Loss: 0.3280\n",
            "Epoch [44/50], Learning Rate: 0.001441605294264014\n",
            "Epoch [45/50], Train Accuracy: 88.1 %, Loss: 0.9215\n",
            "Epoch [45/50], Learning Rate: 0.001235959448259844\n",
            "Epoch [46/50], Train Accuracy: 90.2 %, Loss: 0.1233\n",
            "Epoch [46/50], Learning Rate: 0.0010453658778440107\n",
            "Epoch [47/50], Train Accuracy: 88.9 %, Loss: 0.1039\n",
            "Epoch [47/50], Learning Rate: 0.0008705767687650265\n",
            "Epoch [48/50], Train Accuracy: 89.6 %, Loss: 0.6166\n",
            "Epoch [48/50], Learning Rate: 0.0007122819337828754\n",
            "Epoch [49/50], Train Accuracy: 89.9 %, Loss: 0.7270\n",
            "Epoch [49/50], Learning Rate: 0.0005711060902932043\n",
            "Epoch [50/50], Train Accuracy: 88.7 %, Loss: 0.1123\n",
            "Epoch [50/50], Learning Rate: 0.00044760639485315584\n"
          ]
        }
      ]
    },
    {
      "cell_type": "code",
      "source": [
        "# モデルの刈り込み率を計算する関数を作成\n",
        "def calculate_pruned_ratio(model):\n",
        "    total_weights = 0\n",
        "    total_pruned_weights = 0\n",
        "\n",
        "    for module in model.modules():\n",
        "        # モジュールがSupermaskConvであるか確認\n",
        "        if isinstance(module, SupermaskConv):\n",
        "            # SupermaskConv層の重みを取得\n",
        "            weight = module.weight.data\n",
        "            # 刈り込みを適用した後の重みを取得\n",
        "            subnet = GetSubnet.apply(module.clamped_scores, 1 - module.prune_rate)\n",
        "            pruned_weight = weight * subnet\n",
        "            # 0である要素数を計算\n",
        "            pruned_weights_count = (pruned_weight == 0).sum().item()\n",
        "            total_pruned_weights += pruned_weights_count\n",
        "            # 重みの全要素数を計算\n",
        "            total_weights_count = pruned_weight.numel()\n",
        "            total_weights += total_weights_count\n",
        "\n",
        "    # 刈り込みが行われた割合を計算\n",
        "    pruned_ratio = total_pruned_weights / total_weights\n",
        "    return print(f\"刈り込み率は{pruned_ratio:.3f}です\")\n",
        "\n",
        "# モデルの刈り込み率を確認\n",
        "calculate_pruned_ratio(model)"
      ],
      "metadata": {
        "id": "TWR3MV5Us21J",
        "colab": {
          "base_uri": "https://localhost:8080/"
        },
        "outputId": "64f856aa-27e2-4efa-95bb-e15f76fe88a3"
      },
      "execution_count": 123,
      "outputs": [
        {
          "output_type": "stream",
          "name": "stdout",
          "text": [
            "刈り込み率は0.950です\n"
          ]
        }
      ]
    },
    {
      "cell_type": "code",
      "source": [
        "# 学習前後のモデルのスコアを比較する関数を作成\n",
        "def check_scores_change(model, model_init):\n",
        "    # 各モデルの名前付きモジュールを順に調べる\n",
        "    for (name, module), (name_init, module_init) in zip(model.named_modules(), model_init.named_modules()):\n",
        "        # 両モジュールがConv2dのインスタンスであるかを確認\n",
        "        if isinstance(module, torch.nn.Conv2d) and isinstance(module_init, torch.nn.Conv2d):\n",
        "            # 両モジュールが'scores'属性を持っているかを確認\n",
        "            if hasattr(module, 'scores') and hasattr(module_init, 'scores'):\n",
        "                # 両モジュールの'scores'属性が一致しているかを確認\n",
        "                # 一致していない場合、変更があったことを示すメッセージを出力\n",
        "                if not torch.equal(module.scores, module_init.scores):\n",
        "                    print(f'{name}のスコアが変化しています')\n",
        "                    return\n",
        "    # すべてのconv層で'scores'が変更されていない場合、その旨を出力\n",
        "    print('すべてのスコアは変化していません')\n",
        "\n",
        "# 学習前後でモデルのスコアが変化していないかを確認\n",
        "check_scores_change(model, model_init)"
      ],
      "metadata": {
        "id": "5DQxTiBGs21J",
        "colab": {
          "base_uri": "https://localhost:8080/"
        },
        "outputId": "21f3c03a-abc1-4bb4-c016-39ca8a55de09"
      },
      "execution_count": 124,
      "outputs": [
        {
          "output_type": "stream",
          "name": "stdout",
          "text": [
            "すべてのスコアは変化していません\n"
          ]
        }
      ]
    },
    {
      "cell_type": "code",
      "source": [
        "# 学習前後のモデルの最終層以外の重みを比較する関数を作成\n",
        "def check_weight_change_except_last(model, model_init):\n",
        "    for (name, param), (name_init, param_init) in zip(model.named_parameters(), model_init.named_parameters()):\n",
        "        # 最終層を除く\n",
        "        if name != 'fc.weight' and name != 'fc.bias':\n",
        "            weights_changed = (param.data != param_init.data).any()\n",
        "            if weights_changed:\n",
        "                return print('最終層以外の重みが変化しています')\n",
        "    return print('最終層以外の重みは変化していません')\n",
        "\n",
        "# 学習前後でモデルの最終層以外の重みが変化していないかを確認\n",
        "check_weight_change_except_last(model, model_init)"
      ],
      "metadata": {
        "id": "NzrsH2Dis21J",
        "colab": {
          "base_uri": "https://localhost:8080/"
        },
        "outputId": "4c8d04fb-ea07-433b-c7d6-09f2d996bec3"
      },
      "execution_count": 125,
      "outputs": [
        {
          "output_type": "stream",
          "name": "stdout",
          "text": [
            "最終層以外の重みは変化していません\n"
          ]
        }
      ]
    },
    {
      "cell_type": "code",
      "source": [
        "# モデルの評価\n",
        "model.eval()\n",
        "with torch.no_grad():\n",
        "    total = 0\n",
        "    correct = 0\n",
        "    for images, labels in test_loader_handsigns:\n",
        "        images = images.to(device)\n",
        "        labels = labels.to(device)\n",
        "        outputs = model(images)\n",
        "        _, predicted = torch.max(outputs.data, 1)\n",
        "        total += labels.size(0)\n",
        "        correct += (predicted == labels).sum().item()\n",
        "    # 正解率精度の確認\n",
        "    print('Test Accuracy: {} %'.format(100 * correct / total))"
      ],
      "metadata": {
        "id": "_UoT7wX3s21K",
        "colab": {
          "base_uri": "https://localhost:8080/"
        },
        "outputId": "28bc38fb-7c35-4eff-8051-fa123b9f78c6"
      },
      "execution_count": 126,
      "outputs": [
        {
          "output_type": "stream",
          "name": "stdout",
          "text": [
            "Test Accuracy: 84.0 %\n"
          ]
        }
      ]
    },
    {
      "cell_type": "code",
      "source": [
        "# GPUメモリの解放\n",
        "del model, model_init\n",
        "torch.cuda.empty_cache()"
      ],
      "metadata": {
        "id": "9FtgtCFks21K"
      },
      "execution_count": 127,
      "outputs": []
    },
    {
      "cell_type": "markdown",
      "source": [
        "### prune_rate=0.9"
      ],
      "metadata": {
        "id": "WUxMDoMfs21K"
      }
    },
    {
      "cell_type": "code",
      "source": [
        "# デバイスを設定\n",
        "device = torch.device('cuda' if torch.cuda.is_available() else 'cpu')\n",
        "# モデルを定義\n",
        "model = torch.load('/content/drive/MyDrive/SupermaskWideResNet28_10_CIFAR100_100epochs_pr0.9_constant_CLRS_restest.pth')\n",
        "# 最終層を変更\n",
        "model.fc = nn.Linear(model.fc.in_features, 10)\n",
        "# 最終層以外のパラメータの勾配計算を停止\n",
        "for param in model.parameters():\n",
        "    param.requires_grad = False\n",
        "# 最終層のパラメータのみを学習するように設定\n",
        "for param in model.fc.parameters():\n",
        "    param.requires_grad = True\n",
        "# モデルをデバイスに転送\n",
        "model = model.to(device)\n",
        "# 変更後のモデルの重みを保存\n",
        "model_init = copy.deepcopy(model)\n",
        "\n",
        "# 学習率を設定\n",
        "learning_rate = 0.01\n",
        "# 全体のepoch数を設定\n",
        "num_epochs = 50\n",
        "# warm-upするepoch数を設定\n",
        "warmup_epochs = 5\n",
        "\n",
        "# 損失関数を定義\n",
        "criterion = nn.CrossEntropyLoss()\n",
        "# オプティマイザーを設定\n",
        "optimizer = optim.Adam(model.fc.parameters(), lr=learning_rate)\n",
        "# スケジューラーを設定\n",
        "scheduler = CosineLRScheduler(optimizer, t_initial=num_epochs, lr_min=1e-4, warmup_t=warmup_epochs, warmup_lr_init=1e-4, warmup_prefix=True)\n",
        "\n",
        "# モデルの学習\n",
        "for epoch in range(num_epochs):\n",
        "    total = 0\n",
        "    correct = 0\n",
        "    for i, (images, labels) in enumerate(train_loader_handsigns):\n",
        "        images = images.to(device)\n",
        "        labels = labels.to(device)\n",
        "        # 順伝播\n",
        "        outputs = model(images)\n",
        "        loss = criterion(outputs, labels)\n",
        "        # 逆伝播\n",
        "        optimizer.zero_grad()\n",
        "        loss.backward()\n",
        "        optimizer.step()\n",
        "        _, predicted = torch.max(outputs.data, 1)\n",
        "        # 全データ数\n",
        "        total += labels.size(0)\n",
        "        # 正解数\n",
        "        correct += (predicted == labels).sum().item()\n",
        "    # 正解率精度を計算\n",
        "    train_acc = 100 * correct / total\n",
        "    # 正解率精度と損失を確認\n",
        "    print(\"Epoch [{}/{}], Train Accuracy: {} %, Loss: {:.4f}\".format(epoch+1, num_epochs, 100 * correct / total, loss.item()))\n",
        "    # 1エポック終了後にスケジューラーを更新\n",
        "    scheduler.step(epoch)\n",
        "    # 学習率の確認\n",
        "    print(\"Epoch [{}/{}], Learning Rate: {}\".format(epoch+1, num_epochs, optimizer.param_groups[0]['lr']))\n",
        "\n",
        "\n",
        "# モデルを保存\n",
        "torch.save(model, '/content/drive/MyDrive/SupermaskWideResNet28_10_HandSigns_from_CIFAR100_100epochs_pr0.9_constant_50epochs_lr0.01_CLRS_restest.pth')"
      ],
      "metadata": {
        "id": "LkANN8ohs21K",
        "colab": {
          "base_uri": "https://localhost:8080/"
        },
        "outputId": "2089cf88-4d5a-4699-9077-a88f3a57b12c"
      },
      "execution_count": 128,
      "outputs": [
        {
          "output_type": "stream",
          "name": "stdout",
          "text": [
            "Epoch [1/50], Train Accuracy: 14.4 %, Loss: 2.2874\n",
            "Epoch [1/50], Learning Rate: 0.0001\n",
            "Epoch [2/50], Train Accuracy: 24.0 %, Loss: 2.1638\n",
            "Epoch [2/50], Learning Rate: 0.00208\n",
            "Epoch [3/50], Train Accuracy: 40.8 %, Loss: 1.7649\n",
            "Epoch [3/50], Learning Rate: 0.00406\n",
            "Epoch [4/50], Train Accuracy: 52.4 %, Loss: 0.9643\n",
            "Epoch [4/50], Learning Rate: 0.00604\n",
            "Epoch [5/50], Train Accuracy: 60.6 %, Loss: 0.7434\n",
            "Epoch [5/50], Learning Rate: 0.00802\n",
            "Epoch [6/50], Train Accuracy: 66.2 %, Loss: 1.4542\n",
            "Epoch [6/50], Learning Rate: 0.01\n",
            "Epoch [7/50], Train Accuracy: 63.7 %, Loss: 0.7922\n",
            "Epoch [7/50], Learning Rate: 0.009990232305719944\n",
            "Epoch [8/50], Train Accuracy: 66.8 %, Loss: 1.4499\n",
            "Epoch [8/50], Learning Rate: 0.009960967771506667\n",
            "Epoch [9/50], Train Accuracy: 69.6 %, Loss: 2.2684\n",
            "Epoch [9/50], Learning Rate: 0.00991232189110701\n",
            "Epoch [10/50], Train Accuracy: 71.3 %, Loss: 0.6516\n",
            "Epoch [10/50], Learning Rate: 0.009844486647586723\n",
            "Epoch [11/50], Train Accuracy: 72.8 %, Loss: 0.2352\n",
            "Epoch [11/50], Learning Rate: 0.009757729755661011\n",
            "Epoch [12/50], Train Accuracy: 72.6 %, Loss: 1.6802\n",
            "Epoch [12/50], Learning Rate: 0.009652393605146845\n",
            "Epoch [13/50], Train Accuracy: 74.0 %, Loss: 1.6560\n",
            "Epoch [13/50], Learning Rate: 0.009528893909706798\n",
            "Epoch [14/50], Train Accuracy: 77.9 %, Loss: 2.4567\n",
            "Epoch [14/50], Learning Rate: 0.009387718066217124\n",
            "Epoch [15/50], Train Accuracy: 74.6 %, Loss: 0.5025\n",
            "Epoch [15/50], Learning Rate: 0.009229423231234974\n",
            "Epoch [16/50], Train Accuracy: 77.2 %, Loss: 1.3029\n",
            "Epoch [16/50], Learning Rate: 0.00905463412215599\n",
            "Epoch [17/50], Train Accuracy: 76.5 %, Loss: 0.7621\n",
            "Epoch [17/50], Learning Rate: 0.008864040551740157\n",
            "Epoch [18/50], Train Accuracy: 78.6 %, Loss: 0.7276\n",
            "Epoch [18/50], Learning Rate: 0.008658394705735987\n",
            "Epoch [19/50], Train Accuracy: 78.0 %, Loss: 1.1803\n",
            "Epoch [19/50], Learning Rate: 0.00843850817434701\n",
            "Epoch [20/50], Train Accuracy: 78.7 %, Loss: 0.5729\n",
            "Epoch [20/50], Learning Rate: 0.008205248749256015\n",
            "Epoch [21/50], Train Accuracy: 80.4 %, Loss: 1.1904\n",
            "Epoch [21/50], Learning Rate: 0.007959536998847744\n",
            "Epoch [22/50], Train Accuracy: 80.7 %, Loss: 0.9735\n",
            "Epoch [22/50], Learning Rate: 0.007702342635146034\n",
            "Epoch [23/50], Train Accuracy: 82.2 %, Loss: 0.7665\n",
            "Epoch [23/50], Learning Rate: 0.007434680686803491\n",
            "Epoch [24/50], Train Accuracy: 79.5 %, Loss: 0.2632\n",
            "Epoch [24/50], Learning Rate: 0.0071576074932471105\n",
            "Epoch [25/50], Train Accuracy: 83.9 %, Loss: 0.3634\n",
            "Epoch [25/50], Learning Rate: 0.006872216535789157\n",
            "Epoch [26/50], Train Accuracy: 84.0 %, Loss: 0.1320\n",
            "Epoch [26/50], Learning Rate: 0.006579634122155991\n",
            "Epoch [27/50], Train Accuracy: 83.0 %, Loss: 1.0359\n",
            "Epoch [27/50], Learning Rate: 0.0062810149414660316\n",
            "Epoch [28/50], Train Accuracy: 82.8 %, Loss: 0.3684\n",
            "Epoch [28/50], Learning Rate: 0.005977537507199339\n",
            "Epoch [29/50], Train Accuracy: 82.8 %, Loss: 0.7171\n",
            "Epoch [29/50], Learning Rate: 0.005670399506143308\n",
            "Epoch [30/50], Train Accuracy: 82.8 %, Loss: 0.6812\n",
            "Epoch [30/50], Learning Rate: 0.005360813071670102\n",
            "Epoch [31/50], Train Accuracy: 81.9 %, Loss: 0.3425\n",
            "Epoch [31/50], Learning Rate: 0.005050000000000001\n",
            "Epoch [32/50], Train Accuracy: 82.3 %, Loss: 0.4005\n",
            "Epoch [32/50], Learning Rate: 0.004739186928329899\n",
            "Epoch [33/50], Train Accuracy: 85.6 %, Loss: 0.8124\n",
            "Epoch [33/50], Learning Rate: 0.004429600493856695\n",
            "Epoch [34/50], Train Accuracy: 84.6 %, Loss: 0.1947\n",
            "Epoch [34/50], Learning Rate: 0.0041224624928006635\n",
            "Epoch [35/50], Train Accuracy: 85.8 %, Loss: 0.3289\n",
            "Epoch [35/50], Learning Rate: 0.0038189850585339685\n",
            "Epoch [36/50], Train Accuracy: 86.9 %, Loss: 0.6284\n",
            "Epoch [36/50], Learning Rate: 0.003520365877844012\n",
            "Epoch [37/50], Train Accuracy: 83.6 %, Loss: 0.7836\n",
            "Epoch [37/50], Learning Rate: 0.0032277834642108457\n",
            "Epoch [38/50], Train Accuracy: 84.7 %, Loss: 0.5170\n",
            "Epoch [38/50], Learning Rate: 0.0029423925067528904\n",
            "Epoch [39/50], Train Accuracy: 87.3 %, Loss: 0.0624\n",
            "Epoch [39/50], Learning Rate: 0.002665319313196509\n",
            "Epoch [40/50], Train Accuracy: 88.7 %, Loss: 0.8035\n",
            "Epoch [40/50], Learning Rate: 0.0023976573648539653\n",
            "Epoch [41/50], Train Accuracy: 88.0 %, Loss: 0.7380\n",
            "Epoch [41/50], Learning Rate: 0.0021404630011522584\n",
            "Epoch [42/50], Train Accuracy: 87.4 %, Loss: 0.2573\n",
            "Epoch [42/50], Learning Rate: 0.001894751250743986\n",
            "Epoch [43/50], Train Accuracy: 87.9 %, Loss: 0.4250\n",
            "Epoch [43/50], Learning Rate: 0.001661491825652991\n",
            "Epoch [44/50], Train Accuracy: 88.1 %, Loss: 1.8447\n",
            "Epoch [44/50], Learning Rate: 0.001441605294264014\n",
            "Epoch [45/50], Train Accuracy: 90.3 %, Loss: 0.4141\n",
            "Epoch [45/50], Learning Rate: 0.001235959448259844\n",
            "Epoch [46/50], Train Accuracy: 87.1 %, Loss: 2.6164\n",
            "Epoch [46/50], Learning Rate: 0.0010453658778440107\n",
            "Epoch [47/50], Train Accuracy: 87.3 %, Loss: 0.4122\n",
            "Epoch [47/50], Learning Rate: 0.0008705767687650265\n",
            "Epoch [48/50], Train Accuracy: 88.7 %, Loss: 0.7170\n",
            "Epoch [48/50], Learning Rate: 0.0007122819337828754\n",
            "Epoch [49/50], Train Accuracy: 89.5 %, Loss: 0.5304\n",
            "Epoch [49/50], Learning Rate: 0.0005711060902932043\n",
            "Epoch [50/50], Train Accuracy: 90.0 %, Loss: 0.2053\n",
            "Epoch [50/50], Learning Rate: 0.00044760639485315584\n"
          ]
        }
      ]
    },
    {
      "cell_type": "code",
      "source": [
        "# モデルの刈り込み率を計算する関数を作成\n",
        "def calculate_pruned_ratio(model):\n",
        "    total_weights = 0\n",
        "    total_pruned_weights = 0\n",
        "\n",
        "    for module in model.modules():\n",
        "        # モジュールがSupermaskConvであるか確認\n",
        "        if isinstance(module, SupermaskConv):\n",
        "            # SupermaskConv層の重みを取得\n",
        "            weight = module.weight.data\n",
        "            # 刈り込みを適用した後の重みを取得\n",
        "            subnet = GetSubnet.apply(module.clamped_scores, 1 - module.prune_rate)\n",
        "            pruned_weight = weight * subnet\n",
        "            # 0である要素数を計算\n",
        "            pruned_weights_count = (pruned_weight == 0).sum().item()\n",
        "            total_pruned_weights += pruned_weights_count\n",
        "            # 重みの全要素数を計算\n",
        "            total_weights_count = pruned_weight.numel()\n",
        "            total_weights += total_weights_count\n",
        "\n",
        "    # 刈り込みが行われた割合を計算\n",
        "    pruned_ratio = total_pruned_weights / total_weights\n",
        "    return print(f\"刈り込み率は{pruned_ratio:.3f}です\")\n",
        "\n",
        "# モデルの刈り込み率を確認\n",
        "calculate_pruned_ratio(model)"
      ],
      "metadata": {
        "id": "lWABLj1ds21K",
        "colab": {
          "base_uri": "https://localhost:8080/"
        },
        "outputId": "111f6381-25fb-46b0-fa7f-633a06d01647"
      },
      "execution_count": 129,
      "outputs": [
        {
          "output_type": "stream",
          "name": "stdout",
          "text": [
            "刈り込み率は0.900です\n"
          ]
        }
      ]
    },
    {
      "cell_type": "code",
      "source": [
        "# 学習前後のモデルのスコアを比較する関数を作成\n",
        "def check_scores_change(model, model_init):\n",
        "    # 各モデルの名前付きモジュールを順に調べる\n",
        "    for (name, module), (name_init, module_init) in zip(model.named_modules(), model_init.named_modules()):\n",
        "        # 両モジュールがConv2dのインスタンスであるかを確認\n",
        "        if isinstance(module, torch.nn.Conv2d) and isinstance(module_init, torch.nn.Conv2d):\n",
        "            # 両モジュールが'scores'属性を持っているかを確認\n",
        "            if hasattr(module, 'scores') and hasattr(module_init, 'scores'):\n",
        "                # 両モジュールの'scores'属性が一致しているかを確認\n",
        "                # 一致していない場合、変更があったことを示すメッセージを出力\n",
        "                if not torch.equal(module.scores, module_init.scores):\n",
        "                    print(f'{name}のスコアが変化しています')\n",
        "                    return\n",
        "    # すべてのconv層で'scores'が変更されていない場合、その旨を出力\n",
        "    print('すべてのスコアは変化していません')\n",
        "\n",
        "# 学習前後でモデルのスコアが変化していないかを確認\n",
        "check_scores_change(model, model_init)"
      ],
      "metadata": {
        "id": "dc9CZSNAs21K",
        "colab": {
          "base_uri": "https://localhost:8080/"
        },
        "outputId": "3e19e7a1-1ffc-4c02-e20c-aa2a064276d0"
      },
      "execution_count": 130,
      "outputs": [
        {
          "output_type": "stream",
          "name": "stdout",
          "text": [
            "すべてのスコアは変化していません\n"
          ]
        }
      ]
    },
    {
      "cell_type": "code",
      "source": [
        "# 学習前後のモデルの最終層以外の重みを比較する関数を作成\n",
        "def check_weight_change_except_last(model, model_init):\n",
        "    for (name, param), (name_init, param_init) in zip(model.named_parameters(), model_init.named_parameters()):\n",
        "        # 最終層を除く\n",
        "        if name != 'fc.weight' and name != 'fc.bias':\n",
        "            weights_changed = (param.data != param_init.data).any()\n",
        "            if weights_changed:\n",
        "                return print('最終層以外の重みが変化しています')\n",
        "    return print('最終層以外の重みは変化していません')\n",
        "\n",
        "# 学習前後でモデルの最終層以外の重みが変化していないかを確認\n",
        "check_weight_change_except_last(model, model_init)"
      ],
      "metadata": {
        "id": "dsr5A2-6s21K",
        "colab": {
          "base_uri": "https://localhost:8080/"
        },
        "outputId": "f7fc9b84-7bc2-4bc6-ecdf-a41660ab2aad"
      },
      "execution_count": 131,
      "outputs": [
        {
          "output_type": "stream",
          "name": "stdout",
          "text": [
            "最終層以外の重みは変化していません\n"
          ]
        }
      ]
    },
    {
      "cell_type": "code",
      "source": [
        "# モデルの評価\n",
        "model.eval()\n",
        "with torch.no_grad():\n",
        "    total = 0\n",
        "    correct = 0\n",
        "    for images, labels in test_loader_handsigns:\n",
        "        images = images.to(device)\n",
        "        labels = labels.to(device)\n",
        "        outputs = model(images)\n",
        "        _, predicted = torch.max(outputs.data, 1)\n",
        "        total += labels.size(0)\n",
        "        correct += (predicted == labels).sum().item()\n",
        "    # 正解率精度の確認\n",
        "    print('Test Accuracy: {} %'.format(100 * correct / total))"
      ],
      "metadata": {
        "id": "6iYQQFccs21K",
        "colab": {
          "base_uri": "https://localhost:8080/"
        },
        "outputId": "29873e09-52e8-4c6c-fe7b-38fd94bcea56"
      },
      "execution_count": 132,
      "outputs": [
        {
          "output_type": "stream",
          "name": "stdout",
          "text": [
            "Test Accuracy: 84.0 %\n"
          ]
        }
      ]
    },
    {
      "cell_type": "code",
      "source": [
        "# GPUメモリの解放\n",
        "del model, model_init\n",
        "torch.cuda.empty_cache()"
      ],
      "metadata": {
        "id": "VCZYzfPis21K"
      },
      "execution_count": 133,
      "outputs": []
    },
    {
      "cell_type": "markdown",
      "source": [
        "### prune_rate=0.7"
      ],
      "metadata": {
        "id": "Cco3ZO64s21K"
      }
    },
    {
      "cell_type": "code",
      "source": [
        "# デバイスを設定\n",
        "device = torch.device('cuda' if torch.cuda.is_available() else 'cpu')\n",
        "# モデルを定義\n",
        "model = torch.load('/content/drive/MyDrive/SupermaskWideResNet28_10_CIFAR100_100epochs_pr0.7_constant_CLRS_restest.pth')\n",
        "# 最終層を変更\n",
        "model.fc = nn.Linear(model.fc.in_features, 10)\n",
        "# 最終層以外のパラメータの勾配計算を停止\n",
        "for param in model.parameters():\n",
        "    param.requires_grad = False\n",
        "# 最終層のパラメータのみを学習するように設定\n",
        "for param in model.fc.parameters():\n",
        "    param.requires_grad = True\n",
        "# モデルをデバイスに転送\n",
        "model = model.to(device)\n",
        "# 変更後のモデルの重みを保存\n",
        "model_init = copy.deepcopy(model)\n",
        "\n",
        "# 学習率を設定\n",
        "learning_rate = 0.01\n",
        "# 全体のepoch数を設定\n",
        "num_epochs = 50\n",
        "# warm-upするepoch数を設定\n",
        "warmup_epochs = 5\n",
        "\n",
        "# 損失関数を定義\n",
        "criterion = nn.CrossEntropyLoss()\n",
        "# オプティマイザーを設定\n",
        "optimizer = optim.Adam(model.fc.parameters(), lr=learning_rate)\n",
        "# スケジューラーを設定\n",
        "scheduler = CosineLRScheduler(optimizer, t_initial=num_epochs, lr_min=1e-4, warmup_t=warmup_epochs, warmup_lr_init=1e-4, warmup_prefix=True)\n",
        "\n",
        "# モデルの学習\n",
        "for epoch in range(num_epochs):\n",
        "    total = 0\n",
        "    correct = 0\n",
        "    for i, (images, labels) in enumerate(train_loader_handsigns):\n",
        "        images = images.to(device)\n",
        "        labels = labels.to(device)\n",
        "        # 順伝播\n",
        "        outputs = model(images)\n",
        "        loss = criterion(outputs, labels)\n",
        "        # 逆伝播\n",
        "        optimizer.zero_grad()\n",
        "        loss.backward()\n",
        "        optimizer.step()\n",
        "        _, predicted = torch.max(outputs.data, 1)\n",
        "        # 全データ数\n",
        "        total += labels.size(0)\n",
        "        # 正解数\n",
        "        correct += (predicted == labels).sum().item()\n",
        "    # 正解率精度を計算\n",
        "    train_acc = 100 * correct / total\n",
        "    # 正解率精度と損失を確認\n",
        "    print(\"Epoch [{}/{}], Train Accuracy: {} %, Loss: {:.4f}\".format(epoch+1, num_epochs, 100 * correct / total, loss.item()))\n",
        "    # 1エポック終了後にスケジューラーを更新\n",
        "    scheduler.step(epoch)\n",
        "    # 学習率の確認\n",
        "    print(\"Epoch [{}/{}], Learning Rate: {}\".format(epoch+1, num_epochs, optimizer.param_groups[0]['lr']))\n",
        "\n",
        "\n",
        "# モデルを保存\n",
        "torch.save(model, '/content/drive/MyDrive/SupermaskWideResNet28_10_HandSigns_from_CIFAR100_100epochs_pr0.7_constant_50epochs_lr0.01_CLRS_restest.pth')"
      ],
      "metadata": {
        "id": "A6iOOZK2s21L",
        "colab": {
          "base_uri": "https://localhost:8080/"
        },
        "outputId": "8214b480-ce18-4e46-8a6d-c9d741e443d0"
      },
      "execution_count": 134,
      "outputs": [
        {
          "output_type": "stream",
          "name": "stdout",
          "text": [
            "Epoch [1/50], Train Accuracy: 15.1 %, Loss: 2.2950\n",
            "Epoch [1/50], Learning Rate: 0.0001\n",
            "Epoch [2/50], Train Accuracy: 23.8 %, Loss: 2.1667\n",
            "Epoch [2/50], Learning Rate: 0.00208\n",
            "Epoch [3/50], Train Accuracy: 38.7 %, Loss: 1.4350\n",
            "Epoch [3/50], Learning Rate: 0.00406\n",
            "Epoch [4/50], Train Accuracy: 52.5 %, Loss: 1.0676\n",
            "Epoch [4/50], Learning Rate: 0.00604\n",
            "Epoch [5/50], Train Accuracy: 60.2 %, Loss: 0.9464\n",
            "Epoch [5/50], Learning Rate: 0.00802\n",
            "Epoch [6/50], Train Accuracy: 65.2 %, Loss: 1.2024\n",
            "Epoch [6/50], Learning Rate: 0.01\n",
            "Epoch [7/50], Train Accuracy: 66.2 %, Loss: 0.3819\n",
            "Epoch [7/50], Learning Rate: 0.009990232305719944\n",
            "Epoch [8/50], Train Accuracy: 67.7 %, Loss: 1.8556\n",
            "Epoch [8/50], Learning Rate: 0.009960967771506667\n",
            "Epoch [9/50], Train Accuracy: 69.8 %, Loss: 0.9325\n",
            "Epoch [9/50], Learning Rate: 0.00991232189110701\n",
            "Epoch [10/50], Train Accuracy: 69.7 %, Loss: 0.1598\n",
            "Epoch [10/50], Learning Rate: 0.009844486647586723\n",
            "Epoch [11/50], Train Accuracy: 73.9 %, Loss: 1.4551\n",
            "Epoch [11/50], Learning Rate: 0.009757729755661011\n",
            "Epoch [12/50], Train Accuracy: 72.5 %, Loss: 1.6683\n",
            "Epoch [12/50], Learning Rate: 0.009652393605146845\n",
            "Epoch [13/50], Train Accuracy: 73.1 %, Loss: 0.3175\n",
            "Epoch [13/50], Learning Rate: 0.009528893909706798\n",
            "Epoch [14/50], Train Accuracy: 74.2 %, Loss: 0.9544\n",
            "Epoch [14/50], Learning Rate: 0.009387718066217124\n",
            "Epoch [15/50], Train Accuracy: 77.0 %, Loss: 0.7972\n",
            "Epoch [15/50], Learning Rate: 0.009229423231234974\n",
            "Epoch [16/50], Train Accuracy: 77.2 %, Loss: 0.5309\n",
            "Epoch [16/50], Learning Rate: 0.00905463412215599\n",
            "Epoch [17/50], Train Accuracy: 73.8 %, Loss: 1.0036\n",
            "Epoch [17/50], Learning Rate: 0.008864040551740157\n",
            "Epoch [18/50], Train Accuracy: 77.3 %, Loss: 0.4205\n",
            "Epoch [18/50], Learning Rate: 0.008658394705735987\n",
            "Epoch [19/50], Train Accuracy: 76.2 %, Loss: 1.2409\n",
            "Epoch [19/50], Learning Rate: 0.00843850817434701\n",
            "Epoch [20/50], Train Accuracy: 77.5 %, Loss: 1.5976\n",
            "Epoch [20/50], Learning Rate: 0.008205248749256015\n",
            "Epoch [21/50], Train Accuracy: 78.2 %, Loss: 0.4344\n",
            "Epoch [21/50], Learning Rate: 0.007959536998847744\n",
            "Epoch [22/50], Train Accuracy: 78.8 %, Loss: 1.4855\n",
            "Epoch [22/50], Learning Rate: 0.007702342635146034\n",
            "Epoch [23/50], Train Accuracy: 81.2 %, Loss: 0.3742\n",
            "Epoch [23/50], Learning Rate: 0.007434680686803491\n",
            "Epoch [24/50], Train Accuracy: 81.3 %, Loss: 2.4354\n",
            "Epoch [24/50], Learning Rate: 0.0071576074932471105\n",
            "Epoch [25/50], Train Accuracy: 81.1 %, Loss: 0.1363\n",
            "Epoch [25/50], Learning Rate: 0.006872216535789157\n",
            "Epoch [26/50], Train Accuracy: 80.7 %, Loss: 0.2233\n",
            "Epoch [26/50], Learning Rate: 0.006579634122155991\n",
            "Epoch [27/50], Train Accuracy: 82.5 %, Loss: 0.3297\n",
            "Epoch [27/50], Learning Rate: 0.0062810149414660316\n",
            "Epoch [28/50], Train Accuracy: 81.8 %, Loss: 0.6225\n",
            "Epoch [28/50], Learning Rate: 0.005977537507199339\n",
            "Epoch [29/50], Train Accuracy: 87.3 %, Loss: 1.0600\n",
            "Epoch [29/50], Learning Rate: 0.005670399506143308\n",
            "Epoch [30/50], Train Accuracy: 81.4 %, Loss: 0.5659\n",
            "Epoch [30/50], Learning Rate: 0.005360813071670102\n",
            "Epoch [31/50], Train Accuracy: 85.3 %, Loss: 1.1669\n",
            "Epoch [31/50], Learning Rate: 0.005050000000000001\n",
            "Epoch [32/50], Train Accuracy: 84.1 %, Loss: 1.1891\n",
            "Epoch [32/50], Learning Rate: 0.004739186928329899\n",
            "Epoch [33/50], Train Accuracy: 82.8 %, Loss: 0.5853\n",
            "Epoch [33/50], Learning Rate: 0.004429600493856695\n",
            "Epoch [34/50], Train Accuracy: 85.2 %, Loss: 0.3541\n",
            "Epoch [34/50], Learning Rate: 0.0041224624928006635\n",
            "Epoch [35/50], Train Accuracy: 86.7 %, Loss: 0.4614\n",
            "Epoch [35/50], Learning Rate: 0.0038189850585339685\n",
            "Epoch [36/50], Train Accuracy: 84.2 %, Loss: 1.7472\n",
            "Epoch [36/50], Learning Rate: 0.003520365877844012\n",
            "Epoch [37/50], Train Accuracy: 86.4 %, Loss: 0.2802\n",
            "Epoch [37/50], Learning Rate: 0.0032277834642108457\n",
            "Epoch [38/50], Train Accuracy: 86.5 %, Loss: 0.4026\n",
            "Epoch [38/50], Learning Rate: 0.0029423925067528904\n",
            "Epoch [39/50], Train Accuracy: 86.9 %, Loss: 0.4909\n",
            "Epoch [39/50], Learning Rate: 0.002665319313196509\n",
            "Epoch [40/50], Train Accuracy: 85.1 %, Loss: 0.1053\n",
            "Epoch [40/50], Learning Rate: 0.0023976573648539653\n",
            "Epoch [41/50], Train Accuracy: 88.8 %, Loss: 0.4970\n",
            "Epoch [41/50], Learning Rate: 0.0021404630011522584\n",
            "Epoch [42/50], Train Accuracy: 87.9 %, Loss: 0.9955\n",
            "Epoch [42/50], Learning Rate: 0.001894751250743986\n",
            "Epoch [43/50], Train Accuracy: 87.2 %, Loss: 0.5026\n",
            "Epoch [43/50], Learning Rate: 0.001661491825652991\n",
            "Epoch [44/50], Train Accuracy: 88.3 %, Loss: 0.4858\n",
            "Epoch [44/50], Learning Rate: 0.001441605294264014\n",
            "Epoch [45/50], Train Accuracy: 88.8 %, Loss: 0.2686\n",
            "Epoch [45/50], Learning Rate: 0.001235959448259844\n",
            "Epoch [46/50], Train Accuracy: 89.1 %, Loss: 0.1833\n",
            "Epoch [46/50], Learning Rate: 0.0010453658778440107\n",
            "Epoch [47/50], Train Accuracy: 88.1 %, Loss: 0.9024\n",
            "Epoch [47/50], Learning Rate: 0.0008705767687650265\n",
            "Epoch [48/50], Train Accuracy: 89.2 %, Loss: 0.4607\n",
            "Epoch [48/50], Learning Rate: 0.0007122819337828754\n",
            "Epoch [49/50], Train Accuracy: 88.9 %, Loss: 0.6146\n",
            "Epoch [49/50], Learning Rate: 0.0005711060902932043\n",
            "Epoch [50/50], Train Accuracy: 89.1 %, Loss: 0.6727\n",
            "Epoch [50/50], Learning Rate: 0.00044760639485315584\n"
          ]
        }
      ]
    },
    {
      "cell_type": "code",
      "source": [
        "# モデルの刈り込み率を計算する関数を作成\n",
        "def calculate_pruned_ratio(model):\n",
        "    total_weights = 0\n",
        "    total_pruned_weights = 0\n",
        "\n",
        "    for module in model.modules():\n",
        "        # モジュールがSupermaskConvであるか確認\n",
        "        if isinstance(module, SupermaskConv):\n",
        "            # SupermaskConv層の重みを取得\n",
        "            weight = module.weight.data\n",
        "            # 刈り込みを適用した後の重みを取得\n",
        "            subnet = GetSubnet.apply(module.clamped_scores, 1 - module.prune_rate)\n",
        "            pruned_weight = weight * subnet\n",
        "            # 0である要素数を計算\n",
        "            pruned_weights_count = (pruned_weight == 0).sum().item()\n",
        "            total_pruned_weights += pruned_weights_count\n",
        "            # 重みの全要素数を計算\n",
        "            total_weights_count = pruned_weight.numel()\n",
        "            total_weights += total_weights_count\n",
        "\n",
        "    # 刈り込みが行われた割合を計算\n",
        "    pruned_ratio = total_pruned_weights / total_weights\n",
        "    return print(f\"刈り込み率は{pruned_ratio:.3f}です\")\n",
        "\n",
        "# モデルの刈り込み率を確認\n",
        "calculate_pruned_ratio(model)"
      ],
      "metadata": {
        "id": "Jhsabi6fs21L",
        "colab": {
          "base_uri": "https://localhost:8080/"
        },
        "outputId": "67783c63-07ac-4cca-d99b-f9c4020e6696"
      },
      "execution_count": 135,
      "outputs": [
        {
          "output_type": "stream",
          "name": "stdout",
          "text": [
            "刈り込み率は0.700です\n"
          ]
        }
      ]
    },
    {
      "cell_type": "code",
      "source": [
        "# 学習前後のモデルのスコアを比較する関数を作成\n",
        "def check_scores_change(model, model_init):\n",
        "    # 各モデルの名前付きモジュールを順に調べる\n",
        "    for (name, module), (name_init, module_init) in zip(model.named_modules(), model_init.named_modules()):\n",
        "        # 両モジュールがConv2dのインスタンスであるかを確認\n",
        "        if isinstance(module, torch.nn.Conv2d) and isinstance(module_init, torch.nn.Conv2d):\n",
        "            # 両モジュールが'scores'属性を持っているかを確認\n",
        "            if hasattr(module, 'scores') and hasattr(module_init, 'scores'):\n",
        "                # 両モジュールの'scores'属性が一致しているかを確認\n",
        "                # 一致していない場合、変更があったことを示すメッセージを出力\n",
        "                if not torch.equal(module.scores, module_init.scores):\n",
        "                    print(f'{name}のスコアが変化しています')\n",
        "                    return\n",
        "    # すべてのconv層で'scores'が変更されていない場合、その旨を出力\n",
        "    print('すべてのスコアは変化していません')\n",
        "\n",
        "# 学習前後でモデルのスコアが変化していないかを確認\n",
        "check_scores_change(model, model_init)"
      ],
      "metadata": {
        "id": "aNxpALBcs21L",
        "colab": {
          "base_uri": "https://localhost:8080/"
        },
        "outputId": "5a5e25f9-2515-471f-b95f-3aa1d67273e1"
      },
      "execution_count": 136,
      "outputs": [
        {
          "output_type": "stream",
          "name": "stdout",
          "text": [
            "すべてのスコアは変化していません\n"
          ]
        }
      ]
    },
    {
      "cell_type": "code",
      "source": [
        "# 学習前後のモデルの最終層以外の重みを比較する関数を作成\n",
        "def check_weight_change_except_last(model, model_init):\n",
        "    for (name, param), (name_init, param_init) in zip(model.named_parameters(), model_init.named_parameters()):\n",
        "        # 最終層を除く\n",
        "        if name != 'fc.weight' and name != 'fc.bias':\n",
        "            weights_changed = (param.data != param_init.data).any()\n",
        "            if weights_changed:\n",
        "                return print('最終層以外の重みが変化しています')\n",
        "    return print('最終層以外の重みは変化していません')\n",
        "\n",
        "# 学習前後でモデルの最終層以外の重みが変化していないかを確認\n",
        "check_weight_change_except_last(model, model_init)"
      ],
      "metadata": {
        "id": "nOxbB0UZs21L",
        "colab": {
          "base_uri": "https://localhost:8080/"
        },
        "outputId": "4b2c7d63-2c72-4b0c-cce9-8c2eab6919d7"
      },
      "execution_count": 137,
      "outputs": [
        {
          "output_type": "stream",
          "name": "stdout",
          "text": [
            "最終層以外の重みは変化していません\n"
          ]
        }
      ]
    },
    {
      "cell_type": "code",
      "source": [
        "# モデルの評価\n",
        "model.eval()\n",
        "with torch.no_grad():\n",
        "    total = 0\n",
        "    correct = 0\n",
        "    for images, labels in test_loader_handsigns:\n",
        "        images = images.to(device)\n",
        "        labels = labels.to(device)\n",
        "        outputs = model(images)\n",
        "        _, predicted = torch.max(outputs.data, 1)\n",
        "        total += labels.size(0)\n",
        "        correct += (predicted == labels).sum().item()\n",
        "    # 正解率精度の確認\n",
        "    print('Test Accuracy: {} %'.format(100 * correct / total))"
      ],
      "metadata": {
        "id": "RFVsb7ZOs21L",
        "colab": {
          "base_uri": "https://localhost:8080/"
        },
        "outputId": "a34dcfa7-54bd-4dfe-c373-aebb661666c7"
      },
      "execution_count": 138,
      "outputs": [
        {
          "output_type": "stream",
          "name": "stdout",
          "text": [
            "Test Accuracy: 86.0 %\n"
          ]
        }
      ]
    },
    {
      "cell_type": "code",
      "source": [
        "# GPUメモリの解放\n",
        "del model, model_init\n",
        "torch.cuda.empty_cache()"
      ],
      "metadata": {
        "id": "OLnXW3Pjs21L"
      },
      "execution_count": 139,
      "outputs": []
    },
    {
      "cell_type": "markdown",
      "source": [
        "### prune_rate=0.5"
      ],
      "metadata": {
        "id": "NOHLe2YEs21L"
      }
    },
    {
      "cell_type": "code",
      "source": [
        "# デバイスを設定\n",
        "device = torch.device('cuda' if torch.cuda.is_available() else 'cpu')\n",
        "# モデルを定義\n",
        "model = torch.load('/content/drive/MyDrive/SupermaskWideResNet28_10_CIFAR100_100epochs_pr0.5_constant_CLRS_restest.pth')\n",
        "# 最終層を変更\n",
        "model.fc = nn.Linear(model.fc.in_features, 10)\n",
        "# 最終層以外のパラメータの勾配計算を停止\n",
        "for param in model.parameters():\n",
        "    param.requires_grad = False\n",
        "# 最終層のパラメータのみを学習するように設定\n",
        "for param in model.fc.parameters():\n",
        "    param.requires_grad = True\n",
        "# モデルをデバイスに転送\n",
        "model = model.to(device)\n",
        "# 変更後のモデルの重みを保存\n",
        "model_init = copy.deepcopy(model)\n",
        "\n",
        "# 学習率を設定\n",
        "learning_rate = 0.01\n",
        "# 全体のepoch数を設定\n",
        "num_epochs = 50\n",
        "# warm-upするepoch数を設定\n",
        "warmup_epochs = 5\n",
        "\n",
        "# 損失関数を定義\n",
        "criterion = nn.CrossEntropyLoss()\n",
        "# オプティマイザーを設定\n",
        "optimizer = optim.Adam(model.fc.parameters(), lr=learning_rate)\n",
        "# スケジューラーを設定\n",
        "scheduler = CosineLRScheduler(optimizer, t_initial=num_epochs, lr_min=1e-4, warmup_t=warmup_epochs, warmup_lr_init=1e-4, warmup_prefix=True)\n",
        "\n",
        "# モデルの学習\n",
        "for epoch in range(num_epochs):\n",
        "    total = 0\n",
        "    correct = 0\n",
        "    for i, (images, labels) in enumerate(train_loader_handsigns):\n",
        "        images = images.to(device)\n",
        "        labels = labels.to(device)\n",
        "        # 順伝播\n",
        "        outputs = model(images)\n",
        "        loss = criterion(outputs, labels)\n",
        "        # 逆伝播\n",
        "        optimizer.zero_grad()\n",
        "        loss.backward()\n",
        "        optimizer.step()\n",
        "        _, predicted = torch.max(outputs.data, 1)\n",
        "        # 全データ数\n",
        "        total += labels.size(0)\n",
        "        # 正解数\n",
        "        correct += (predicted == labels).sum().item()\n",
        "    # 正解率精度を計算\n",
        "    train_acc = 100 * correct / total\n",
        "    # 正解率精度と損失を確認\n",
        "    print(\"Epoch [{}/{}], Train Accuracy: {} %, Loss: {:.4f}\".format(epoch+1, num_epochs, 100 * correct / total, loss.item()))\n",
        "    # 1エポック終了後にスケジューラーを更新\n",
        "    scheduler.step(epoch)\n",
        "    # 学習率の確認\n",
        "    print(\"Epoch [{}/{}], Learning Rate: {}\".format(epoch+1, num_epochs, optimizer.param_groups[0]['lr']))\n",
        "\n",
        "\n",
        "# モデルを保存\n",
        "torch.save(model, '/content/drive/MyDrive/SupermaskWideResNet28_10_HandSigns_from_CIFAR100_100epochs_pr0.5_constant_50epochs_lr0.01_CLRS_restest.pth')"
      ],
      "metadata": {
        "id": "702jIUxAs21L",
        "colab": {
          "base_uri": "https://localhost:8080/"
        },
        "outputId": "781b7ec4-6dc3-4f3b-e57e-e680c3fd0946"
      },
      "execution_count": 140,
      "outputs": [
        {
          "output_type": "stream",
          "name": "stdout",
          "text": [
            "Epoch [1/50], Train Accuracy: 12.7 %, Loss: 2.3092\n",
            "Epoch [1/50], Learning Rate: 0.0001\n",
            "Epoch [2/50], Train Accuracy: 24.1 %, Loss: 2.2553\n",
            "Epoch [2/50], Learning Rate: 0.00208\n",
            "Epoch [3/50], Train Accuracy: 41.0 %, Loss: 1.5336\n",
            "Epoch [3/50], Learning Rate: 0.00406\n",
            "Epoch [4/50], Train Accuracy: 54.7 %, Loss: 1.4949\n",
            "Epoch [4/50], Learning Rate: 0.00604\n",
            "Epoch [5/50], Train Accuracy: 60.4 %, Loss: 1.4781\n",
            "Epoch [5/50], Learning Rate: 0.00802\n",
            "Epoch [6/50], Train Accuracy: 61.9 %, Loss: 1.0885\n",
            "Epoch [6/50], Learning Rate: 0.01\n",
            "Epoch [7/50], Train Accuracy: 61.8 %, Loss: 0.8228\n",
            "Epoch [7/50], Learning Rate: 0.009990232305719944\n",
            "Epoch [8/50], Train Accuracy: 69.5 %, Loss: 0.6067\n",
            "Epoch [8/50], Learning Rate: 0.009960967771506667\n",
            "Epoch [9/50], Train Accuracy: 63.2 %, Loss: 1.5003\n",
            "Epoch [9/50], Learning Rate: 0.00991232189110701\n",
            "Epoch [10/50], Train Accuracy: 67.4 %, Loss: 0.7392\n",
            "Epoch [10/50], Learning Rate: 0.009844486647586723\n",
            "Epoch [11/50], Train Accuracy: 71.9 %, Loss: 2.1804\n",
            "Epoch [11/50], Learning Rate: 0.009757729755661011\n",
            "Epoch [12/50], Train Accuracy: 71.1 %, Loss: 1.6104\n",
            "Epoch [12/50], Learning Rate: 0.009652393605146845\n",
            "Epoch [13/50], Train Accuracy: 73.0 %, Loss: 1.0834\n",
            "Epoch [13/50], Learning Rate: 0.009528893909706798\n",
            "Epoch [14/50], Train Accuracy: 73.3 %, Loss: 0.3561\n",
            "Epoch [14/50], Learning Rate: 0.009387718066217124\n",
            "Epoch [15/50], Train Accuracy: 76.0 %, Loss: 0.9959\n",
            "Epoch [15/50], Learning Rate: 0.009229423231234974\n",
            "Epoch [16/50], Train Accuracy: 73.8 %, Loss: 1.5347\n",
            "Epoch [16/50], Learning Rate: 0.00905463412215599\n",
            "Epoch [17/50], Train Accuracy: 76.1 %, Loss: 1.0136\n",
            "Epoch [17/50], Learning Rate: 0.008864040551740157\n",
            "Epoch [18/50], Train Accuracy: 76.4 %, Loss: 0.2808\n",
            "Epoch [18/50], Learning Rate: 0.008658394705735987\n",
            "Epoch [19/50], Train Accuracy: 76.6 %, Loss: 0.4720\n",
            "Epoch [19/50], Learning Rate: 0.00843850817434701\n",
            "Epoch [20/50], Train Accuracy: 77.3 %, Loss: 1.0792\n",
            "Epoch [20/50], Learning Rate: 0.008205248749256015\n",
            "Epoch [21/50], Train Accuracy: 77.5 %, Loss: 1.4915\n",
            "Epoch [21/50], Learning Rate: 0.007959536998847744\n",
            "Epoch [22/50], Train Accuracy: 78.1 %, Loss: 0.9838\n",
            "Epoch [22/50], Learning Rate: 0.007702342635146034\n",
            "Epoch [23/50], Train Accuracy: 77.7 %, Loss: 0.6947\n",
            "Epoch [23/50], Learning Rate: 0.007434680686803491\n",
            "Epoch [24/50], Train Accuracy: 80.2 %, Loss: 0.1578\n",
            "Epoch [24/50], Learning Rate: 0.0071576074932471105\n",
            "Epoch [25/50], Train Accuracy: 80.8 %, Loss: 0.7711\n",
            "Epoch [25/50], Learning Rate: 0.006872216535789157\n",
            "Epoch [26/50], Train Accuracy: 80.1 %, Loss: 0.9816\n",
            "Epoch [26/50], Learning Rate: 0.006579634122155991\n",
            "Epoch [27/50], Train Accuracy: 81.3 %, Loss: 0.3747\n",
            "Epoch [27/50], Learning Rate: 0.0062810149414660316\n",
            "Epoch [28/50], Train Accuracy: 83.3 %, Loss: 0.8946\n",
            "Epoch [28/50], Learning Rate: 0.005977537507199339\n",
            "Epoch [29/50], Train Accuracy: 80.9 %, Loss: 0.3792\n",
            "Epoch [29/50], Learning Rate: 0.005670399506143308\n",
            "Epoch [30/50], Train Accuracy: 83.6 %, Loss: 0.7801\n",
            "Epoch [30/50], Learning Rate: 0.005360813071670102\n",
            "Epoch [31/50], Train Accuracy: 84.3 %, Loss: 0.3956\n",
            "Epoch [31/50], Learning Rate: 0.005050000000000001\n",
            "Epoch [32/50], Train Accuracy: 82.9 %, Loss: 0.9445\n",
            "Epoch [32/50], Learning Rate: 0.004739186928329899\n",
            "Epoch [33/50], Train Accuracy: 81.6 %, Loss: 0.5038\n",
            "Epoch [33/50], Learning Rate: 0.004429600493856695\n",
            "Epoch [34/50], Train Accuracy: 82.6 %, Loss: 1.1701\n",
            "Epoch [34/50], Learning Rate: 0.0041224624928006635\n",
            "Epoch [35/50], Train Accuracy: 82.2 %, Loss: 0.8705\n",
            "Epoch [35/50], Learning Rate: 0.0038189850585339685\n",
            "Epoch [36/50], Train Accuracy: 83.7 %, Loss: 0.9920\n",
            "Epoch [36/50], Learning Rate: 0.003520365877844012\n",
            "Epoch [37/50], Train Accuracy: 85.6 %, Loss: 0.1109\n",
            "Epoch [37/50], Learning Rate: 0.0032277834642108457\n",
            "Epoch [38/50], Train Accuracy: 84.9 %, Loss: 0.8888\n",
            "Epoch [38/50], Learning Rate: 0.0029423925067528904\n",
            "Epoch [39/50], Train Accuracy: 86.6 %, Loss: 1.3177\n",
            "Epoch [39/50], Learning Rate: 0.002665319313196509\n",
            "Epoch [40/50], Train Accuracy: 85.1 %, Loss: 1.1784\n",
            "Epoch [40/50], Learning Rate: 0.0023976573648539653\n",
            "Epoch [41/50], Train Accuracy: 86.3 %, Loss: 0.3370\n",
            "Epoch [41/50], Learning Rate: 0.0021404630011522584\n",
            "Epoch [42/50], Train Accuracy: 89.6 %, Loss: 0.8041\n",
            "Epoch [42/50], Learning Rate: 0.001894751250743986\n",
            "Epoch [43/50], Train Accuracy: 86.8 %, Loss: 0.1720\n",
            "Epoch [43/50], Learning Rate: 0.001661491825652991\n",
            "Epoch [44/50], Train Accuracy: 86.5 %, Loss: 0.8431\n",
            "Epoch [44/50], Learning Rate: 0.001441605294264014\n",
            "Epoch [45/50], Train Accuracy: 87.6 %, Loss: 0.4918\n",
            "Epoch [45/50], Learning Rate: 0.001235959448259844\n",
            "Epoch [46/50], Train Accuracy: 86.7 %, Loss: 0.1759\n",
            "Epoch [46/50], Learning Rate: 0.0010453658778440107\n",
            "Epoch [47/50], Train Accuracy: 88.1 %, Loss: 0.1052\n",
            "Epoch [47/50], Learning Rate: 0.0008705767687650265\n",
            "Epoch [48/50], Train Accuracy: 87.8 %, Loss: 0.5711\n",
            "Epoch [48/50], Learning Rate: 0.0007122819337828754\n",
            "Epoch [49/50], Train Accuracy: 88.2 %, Loss: 0.8151\n",
            "Epoch [49/50], Learning Rate: 0.0005711060902932043\n",
            "Epoch [50/50], Train Accuracy: 89.0 %, Loss: 0.3424\n",
            "Epoch [50/50], Learning Rate: 0.00044760639485315584\n"
          ]
        }
      ]
    },
    {
      "cell_type": "code",
      "source": [
        "# モデルの刈り込み率を計算する関数を作成\n",
        "def calculate_pruned_ratio(model):\n",
        "    total_weights = 0\n",
        "    total_pruned_weights = 0\n",
        "\n",
        "    for module in model.modules():\n",
        "        # モジュールがSupermaskConvであるか確認\n",
        "        if isinstance(module, SupermaskConv):\n",
        "            # SupermaskConv層の重みを取得\n",
        "            weight = module.weight.data\n",
        "            # 刈り込みを適用した後の重みを取得\n",
        "            subnet = GetSubnet.apply(module.clamped_scores, 1 - module.prune_rate)\n",
        "            pruned_weight = weight * subnet\n",
        "            # 0である要素数を計算\n",
        "            pruned_weights_count = (pruned_weight == 0).sum().item()\n",
        "            total_pruned_weights += pruned_weights_count\n",
        "            # 重みの全要素数を計算\n",
        "            total_weights_count = pruned_weight.numel()\n",
        "            total_weights += total_weights_count\n",
        "\n",
        "    # 刈り込みが行われた割合を計算\n",
        "    pruned_ratio = total_pruned_weights / total_weights\n",
        "    return print(f\"刈り込み率は{pruned_ratio:.3f}です\")\n",
        "\n",
        "# モデルの刈り込み率を確認\n",
        "calculate_pruned_ratio(model)"
      ],
      "metadata": {
        "id": "xk_gOEAns21L",
        "colab": {
          "base_uri": "https://localhost:8080/"
        },
        "outputId": "03b1fd1d-96ea-49a8-d9f4-c9a672cc9205"
      },
      "execution_count": 141,
      "outputs": [
        {
          "output_type": "stream",
          "name": "stdout",
          "text": [
            "刈り込み率は0.500です\n"
          ]
        }
      ]
    },
    {
      "cell_type": "code",
      "source": [
        "# 学習前後のモデルのスコアを比較する関数を作成\n",
        "def check_scores_change(model, model_init):\n",
        "    # 各モデルの名前付きモジュールを順に調べる\n",
        "    for (name, module), (name_init, module_init) in zip(model.named_modules(), model_init.named_modules()):\n",
        "        # 両モジュールがConv2dのインスタンスであるかを確認\n",
        "        if isinstance(module, torch.nn.Conv2d) and isinstance(module_init, torch.nn.Conv2d):\n",
        "            # 両モジュールが'scores'属性を持っているかを確認\n",
        "            if hasattr(module, 'scores') and hasattr(module_init, 'scores'):\n",
        "                # 両モジュールの'scores'属性が一致しているかを確認\n",
        "                # 一致していない場合、変更があったことを示すメッセージを出力\n",
        "                if not torch.equal(module.scores, module_init.scores):\n",
        "                    print(f'{name}のスコアが変化しています')\n",
        "                    return\n",
        "    # すべてのconv層で'scores'が変更されていない場合、その旨を出力\n",
        "    print('すべてのスコアは変化していません')\n",
        "\n",
        "# 学習前後でモデルのスコアが変化していないかを確認\n",
        "check_scores_change(model, model_init)"
      ],
      "metadata": {
        "id": "Pw0PWjias21M",
        "colab": {
          "base_uri": "https://localhost:8080/"
        },
        "outputId": "694fa55b-24db-46f8-98f1-4e39cf03f0a0"
      },
      "execution_count": 142,
      "outputs": [
        {
          "output_type": "stream",
          "name": "stdout",
          "text": [
            "すべてのスコアは変化していません\n"
          ]
        }
      ]
    },
    {
      "cell_type": "code",
      "source": [
        "# 学習前後のモデルの最終層以外の重みを比較する関数を作成\n",
        "def check_weight_change_except_last(model, model_init):\n",
        "    for (name, param), (name_init, param_init) in zip(model.named_parameters(), model_init.named_parameters()):\n",
        "        # 最終層を除く\n",
        "        if name != 'fc.weight' and name != 'fc.bias':\n",
        "            weights_changed = (param.data != param_init.data).any()\n",
        "            if weights_changed:\n",
        "                return print('最終層以外の重みが変化しています')\n",
        "    return print('最終層以外の重みは変化していません')\n",
        "\n",
        "# 学習前後でモデルの最終層以外の重みが変化していないかを確認\n",
        "check_weight_change_except_last(model, model_init)"
      ],
      "metadata": {
        "id": "I8aQW-dBs21M",
        "colab": {
          "base_uri": "https://localhost:8080/"
        },
        "outputId": "6c39079f-a6fd-4840-f274-b3d3fff8d56a"
      },
      "execution_count": 143,
      "outputs": [
        {
          "output_type": "stream",
          "name": "stdout",
          "text": [
            "最終層以外の重みは変化していません\n"
          ]
        }
      ]
    },
    {
      "cell_type": "code",
      "source": [
        "# モデルの評価\n",
        "model.eval()\n",
        "with torch.no_grad():\n",
        "    total = 0\n",
        "    correct = 0\n",
        "    for images, labels in test_loader_handsigns:\n",
        "        images = images.to(device)\n",
        "        labels = labels.to(device)\n",
        "        outputs = model(images)\n",
        "        _, predicted = torch.max(outputs.data, 1)\n",
        "        total += labels.size(0)\n",
        "        correct += (predicted == labels).sum().item()\n",
        "    # 正解率精度の確認\n",
        "    print('Test Accuracy: {} %'.format(100 * correct / total))"
      ],
      "metadata": {
        "id": "3q088eN2s21M",
        "colab": {
          "base_uri": "https://localhost:8080/"
        },
        "outputId": "d8c45d5d-13a7-4494-8fee-1bdb189716ac"
      },
      "execution_count": 144,
      "outputs": [
        {
          "output_type": "stream",
          "name": "stdout",
          "text": [
            "Test Accuracy: 88.0 %\n"
          ]
        }
      ]
    },
    {
      "cell_type": "code",
      "source": [
        "# GPUメモリの解放\n",
        "del model, model_init\n",
        "torch.cuda.empty_cache()"
      ],
      "metadata": {
        "id": "k9H_mGkns21M"
      },
      "execution_count": 145,
      "outputs": []
    }
  ]
}