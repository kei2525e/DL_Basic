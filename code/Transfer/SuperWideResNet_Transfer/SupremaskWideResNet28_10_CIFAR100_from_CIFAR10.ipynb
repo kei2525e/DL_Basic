{
  "nbformat": 4,
  "nbformat_minor": 0,
  "metadata": {
    "colab": {
      "provenance": [],
      "machine_shape": "hm",
      "gpuType": "A100",
      "collapsed_sections": [
        "m-QbZLFlyjCA",
        "cdzvZUWNzQAY",
        "_8vKbM9TzkCb",
        "9aOdldqfyoSt",
        "4rSZ0nNXXi1A",
        "0ty5QkTRkUW5",
        "6ElRLLrbv0op",
        "pKsq6UgsvrGu",
        "jQuP9L3Bxccy",
        "pJyew3dez2Wc",
        "_KprKABkwBxe",
        "2atmPsCD5ThV",
        "a4Ae9a4VE3O2",
        "mcIPdm2gkbP7",
        "X4eX_0UDwK0F",
        "Alvf6x5vwDkh",
        "VFsN4qoY1qFw",
        "B6yICeOH1qFz",
        "xHXKrn9M6L_s",
        "_i257mg66Lan",
        "JieVvX5XFKMT",
        "RZRZkudPkkDd",
        "lIwvJcJBwchg",
        "ZMJwIP8WwUjg",
        "o7FBIYbw4QVa",
        "BCsx6dqv4QVb",
        "PSXOlVSN4QVc"
      ]
    },
    "kernelspec": {
      "name": "python3",
      "display_name": "Python 3"
    },
    "language_info": {
      "name": "python"
    },
    "accelerator": "GPU"
  },
  "cells": [
    {
      "cell_type": "markdown",
      "source": [
        "### ドライブのマウント"
      ],
      "metadata": {
        "id": "m-QbZLFlyjCA"
      }
    },
    {
      "cell_type": "code",
      "execution_count": 1,
      "metadata": {
        "id": "9g8jY7G9ahIa",
        "colab": {
          "base_uri": "https://localhost:8080/"
        },
        "outputId": "3d0c845a-fa75-423f-db2a-d41442e50850"
      },
      "outputs": [
        {
          "output_type": "stream",
          "name": "stdout",
          "text": [
            "Mounted at /content/drive\n"
          ]
        }
      ],
      "source": [
        "# Googleドライブをマウント\n",
        "from google.colab import drive\n",
        "drive.mount('/content/drive')"
      ]
    },
    {
      "cell_type": "markdown",
      "source": [
        "### ライブラリ・モジュールのインポート"
      ],
      "metadata": {
        "id": "cdzvZUWNzQAY"
      }
    },
    {
      "cell_type": "code",
      "source": [
        "# ライブラリの準備\n",
        "!pip install timm\n",
        "import torch\n",
        "import torch.nn as nn\n",
        "import torchvision\n",
        "import torchvision.transforms as transforms\n",
        "import torchvision.datasets as datasets\n",
        "import torch.nn.functional as F\n",
        "import torch.autograd as autograd\n",
        "import torch.optim as optim\n",
        "import torch.optim.lr_scheduler as lr_scheduler\n",
        "from timm.scheduler import CosineLRScheduler\n",
        "import numpy as np\n",
        "import pandas as pd\n",
        "import matplotlib.pyplot as plt\n",
        "import math\n",
        "import copy\n",
        "import random\n",
        "import pickle"
      ],
      "metadata": {
        "id": "l8wfSjPuboGS",
        "colab": {
          "base_uri": "https://localhost:8080/"
        },
        "outputId": "2adda2f7-344b-4074-913c-d0c0ebfe978a"
      },
      "execution_count": 2,
      "outputs": [
        {
          "output_type": "stream",
          "name": "stdout",
          "text": [
            "Collecting timm\n",
            "  Downloading timm-0.9.2-py3-none-any.whl (2.2 MB)\n",
            "\u001b[2K     \u001b[90m━━━━━━━━━━━━━━━━━━━━━━━━━━━━━━━━━━━━━━━━\u001b[0m \u001b[32m2.2/2.2 MB\u001b[0m \u001b[31m25.3 MB/s\u001b[0m eta \u001b[36m0:00:00\u001b[0m\n",
            "\u001b[?25hRequirement already satisfied: torch>=1.7 in /usr/local/lib/python3.10/dist-packages (from timm) (2.0.1+cu118)\n",
            "Requirement already satisfied: torchvision in /usr/local/lib/python3.10/dist-packages (from timm) (0.15.2+cu118)\n",
            "Requirement already satisfied: pyyaml in /usr/local/lib/python3.10/dist-packages (from timm) (6.0.1)\n",
            "Collecting huggingface-hub (from timm)\n",
            "  Downloading huggingface_hub-0.16.4-py3-none-any.whl (268 kB)\n",
            "\u001b[2K     \u001b[90m━━━━━━━━━━━━━━━━━━━━━━━━━━━━━━━━━━━━━━\u001b[0m \u001b[32m268.8/268.8 kB\u001b[0m \u001b[31m25.8 MB/s\u001b[0m eta \u001b[36m0:00:00\u001b[0m\n",
            "\u001b[?25hCollecting safetensors (from timm)\n",
            "  Downloading safetensors-0.3.1-cp310-cp310-manylinux_2_17_x86_64.manylinux2014_x86_64.whl (1.3 MB)\n",
            "\u001b[2K     \u001b[90m━━━━━━━━━━━━━━━━━━━━━━━━━━━━━━━━━━━━━━━━\u001b[0m \u001b[32m1.3/1.3 MB\u001b[0m \u001b[31m51.8 MB/s\u001b[0m eta \u001b[36m0:00:00\u001b[0m\n",
            "\u001b[?25hRequirement already satisfied: filelock in /usr/local/lib/python3.10/dist-packages (from torch>=1.7->timm) (3.12.2)\n",
            "Requirement already satisfied: typing-extensions in /usr/local/lib/python3.10/dist-packages (from torch>=1.7->timm) (4.7.1)\n",
            "Requirement already satisfied: sympy in /usr/local/lib/python3.10/dist-packages (from torch>=1.7->timm) (1.11.1)\n",
            "Requirement already satisfied: networkx in /usr/local/lib/python3.10/dist-packages (from torch>=1.7->timm) (3.1)\n",
            "Requirement already satisfied: jinja2 in /usr/local/lib/python3.10/dist-packages (from torch>=1.7->timm) (3.1.2)\n",
            "Requirement already satisfied: triton==2.0.0 in /usr/local/lib/python3.10/dist-packages (from torch>=1.7->timm) (2.0.0)\n",
            "Requirement already satisfied: cmake in /usr/local/lib/python3.10/dist-packages (from triton==2.0.0->torch>=1.7->timm) (3.25.2)\n",
            "Requirement already satisfied: lit in /usr/local/lib/python3.10/dist-packages (from triton==2.0.0->torch>=1.7->timm) (16.0.6)\n",
            "Requirement already satisfied: fsspec in /usr/local/lib/python3.10/dist-packages (from huggingface-hub->timm) (2023.6.0)\n",
            "Requirement already satisfied: requests in /usr/local/lib/python3.10/dist-packages (from huggingface-hub->timm) (2.27.1)\n",
            "Requirement already satisfied: tqdm>=4.42.1 in /usr/local/lib/python3.10/dist-packages (from huggingface-hub->timm) (4.65.0)\n",
            "Requirement already satisfied: packaging>=20.9 in /usr/local/lib/python3.10/dist-packages (from huggingface-hub->timm) (23.1)\n",
            "Requirement already satisfied: numpy in /usr/local/lib/python3.10/dist-packages (from torchvision->timm) (1.22.4)\n",
            "Requirement already satisfied: pillow!=8.3.*,>=5.3.0 in /usr/local/lib/python3.10/dist-packages (from torchvision->timm) (9.4.0)\n",
            "Requirement already satisfied: MarkupSafe>=2.0 in /usr/local/lib/python3.10/dist-packages (from jinja2->torch>=1.7->timm) (2.1.3)\n",
            "Requirement already satisfied: urllib3<1.27,>=1.21.1 in /usr/local/lib/python3.10/dist-packages (from requests->huggingface-hub->timm) (1.26.16)\n",
            "Requirement already satisfied: certifi>=2017.4.17 in /usr/local/lib/python3.10/dist-packages (from requests->huggingface-hub->timm) (2023.7.22)\n",
            "Requirement already satisfied: charset-normalizer~=2.0.0 in /usr/local/lib/python3.10/dist-packages (from requests->huggingface-hub->timm) (2.0.12)\n",
            "Requirement already satisfied: idna<4,>=2.5 in /usr/local/lib/python3.10/dist-packages (from requests->huggingface-hub->timm) (3.4)\n",
            "Requirement already satisfied: mpmath>=0.19 in /usr/local/lib/python3.10/dist-packages (from sympy->torch>=1.7->timm) (1.3.0)\n",
            "Installing collected packages: safetensors, huggingface-hub, timm\n",
            "Successfully installed huggingface-hub-0.16.4 safetensors-0.3.1 timm-0.9.2\n"
          ]
        }
      ]
    },
    {
      "cell_type": "markdown",
      "source": [
        "### シード値の設定"
      ],
      "metadata": {
        "id": "_8vKbM9TzkCb"
      }
    },
    {
      "cell_type": "code",
      "source": [
        "# シード値を設定\n",
        "def fix_seed(seed=1234):\n",
        "    random.seed(seed)\n",
        "    np.random.seed(seed)\n",
        "    torch.manual_seed(seed)\n",
        "    torch.cuda.manual_seed(seed)\n",
        "\n",
        "fix_seed(seed=1234)"
      ],
      "metadata": {
        "id": "pGX4Zk1LbtPr"
      },
      "execution_count": 3,
      "outputs": []
    },
    {
      "cell_type": "markdown",
      "source": [
        "### データセットの準備"
      ],
      "metadata": {
        "id": "9aOdldqfyoSt"
      }
    },
    {
      "cell_type": "code",
      "source": [
        "# 平均値と標準偏差を計算するためのCIFAR100データセットの前処理を定義\n",
        "pre_transform_cifar100 = transforms.Compose([\n",
        "    transforms.ToTensor()\n",
        "])\n",
        "\n",
        "# 平均値と標準偏差を計算するためのCIFAR100データセットの読み込み\n",
        "pre_train_dataset_cifar100 = datasets.CIFAR100(root='/content/data/', download=True, transform=pre_transform_cifar100)\n",
        "\n",
        "# 平均値と標準偏差を計算するための変数を初期化\n",
        "pre_mean_cifar100 = 0.0\n",
        "pre_std_cifar100 = 0.0\n",
        "pre_total_samples_cifar100 = len(pre_train_dataset_cifar100)\n",
        "\n",
        "# データセットのすべてのデータポイントに対して平均値と標準偏差を計算\n",
        "for data in pre_train_dataset_cifar100:\n",
        "    pre_image, _ = data\n",
        "    pre_mean_cifar100 += pre_image.mean(dim=(1, 2))  # テンソルのチャンネルごとに平均を計算\n",
        "    pre_std_cifar100 += pre_image.std(dim=(1, 2))    # テンソルのチャンネルごとに標準偏差を計算\n",
        "\n",
        "# データセット全体の平均値と標準偏差を計算\n",
        "pre_mean_cifar100 /= pre_total_samples_cifar100\n",
        "pre_std_cifar100 /= pre_total_samples_cifar100\n",
        "\n",
        "print(\"データセット全体の平均値: \", pre_mean_cifar100)\n",
        "print(\"データセット全体の標準偏差: \", pre_std_cifar100)"
      ],
      "metadata": {
        "id": "RLSipTJ0bu1w",
        "colab": {
          "base_uri": "https://localhost:8080/"
        },
        "outputId": "3b01fe03-eab0-4a90-ea00-01835146bc32"
      },
      "execution_count": 4,
      "outputs": [
        {
          "output_type": "stream",
          "name": "stdout",
          "text": [
            "Downloading https://www.cs.toronto.edu/~kriz/cifar-100-python.tar.gz to /content/data/cifar-100-python.tar.gz\n"
          ]
        },
        {
          "output_type": "stream",
          "name": "stderr",
          "text": [
            "100%|██████████| 169001437/169001437 [00:12<00:00, 13223134.42it/s]\n"
          ]
        },
        {
          "output_type": "stream",
          "name": "stdout",
          "text": [
            "Extracting /content/data/cifar-100-python.tar.gz to /content/data/\n",
            "データセット全体の平均値:  tensor([0.5071, 0.4866, 0.4409])\n",
            "データセット全体の標準偏差:  tensor([0.2009, 0.1984, 0.2023])\n"
          ]
        }
      ]
    },
    {
      "cell_type": "code",
      "source": [
        "# 学習用のCIFAR100データセットの前処理を定義\n",
        "train_transform_cifar100 = transforms.Compose([\n",
        "    transforms.RandomCrop(32, padding=4),\n",
        "    transforms.RandomHorizontalFlip(),\n",
        "    transforms.ToTensor(),\n",
        "    transforms.Normalize(mean=pre_mean_cifar100, std=pre_std_cifar100)\n",
        "    ])\n",
        "# テスト用のCIFAR100データセットの前処理を定義\n",
        "test_transform_cifar100 = transforms.Compose([\n",
        "    transforms.ToTensor(),\n",
        "    transforms.Normalize(mean=pre_mean_cifar100, std=pre_std_cifar100)\n",
        "    ])\n",
        "\n",
        "# 学習用のCIFAR100データセットの読み込み\n",
        "train_dataset_cifar100 = torchvision.datasets.CIFAR100(root='/content/data/', train=True, transform=train_transform_cifar100, download=True)\n",
        "# テスト用のCIFAR100データセットの読み込み\n",
        "test_dataset_cifar100 = torchvision.datasets.CIFAR100(root='/content/data/', train=False, transform=test_transform_cifar100, download=True)\n",
        "\n",
        "# 学習用のCIFAR100データローダーを作成\n",
        "train_loader_cifar100 = torch.utils.data.DataLoader(dataset=train_dataset_cifar100, batch_size=512, shuffle=True, num_workers=2)\n",
        "# テスト用のCIFAR100データローダーを作成\n",
        "test_loader_cifar100 = torch.utils.data.DataLoader(dataset=test_dataset_cifar100, batch_size=512, shuffle=False, num_workers=2)"
      ],
      "metadata": {
        "id": "ah3PRB7vb1UG",
        "colab": {
          "base_uri": "https://localhost:8080/"
        },
        "outputId": "c6420548-5875-4903-f63f-afe00577c1cc"
      },
      "execution_count": 5,
      "outputs": [
        {
          "output_type": "stream",
          "name": "stdout",
          "text": [
            "Files already downloaded and verified\n",
            "Files already downloaded and verified\n"
          ]
        }
      ]
    },
    {
      "cell_type": "markdown",
      "source": [
        "## モデルの実装"
      ],
      "metadata": {
        "id": "4rSZ0nNXXi1A"
      }
    },
    {
      "cell_type": "code",
      "source": [
        "# 1×1のサブネットワーク獲得用の畳み込みを定義\n",
        "def supermaskconv1x1(in_channels, out_channels, stride=1):\n",
        "    return SupermaskConv(in_channels, out_channels, kernel_size=1, stride=stride, bias=False)\n",
        "\n",
        "# 3×3のサブネットワーク獲得用の畳み込みを定義\n",
        "def supermaskconv3x3(in_channels, out_channels, stride=1):\n",
        "    return SupermaskConv(in_channels, out_channels, kernel_size=3, stride=stride, padding=1, bias=False)"
      ],
      "metadata": {
        "id": "LGXnnKFiXoBI"
      },
      "execution_count": 6,
      "outputs": []
    },
    {
      "cell_type": "code",
      "source": [
        "# サブネットワーク獲得用のバッチ正則化として、非アフィン正規化を使用する（学習可能なパラメータを使用しない）\n",
        "class NonAffineBatchNorm(nn.BatchNorm2d):\n",
        "    def __init__(self, dim):\n",
        "        super(NonAffineBatchNorm, self).__init__(dim, affine=False)"
      ],
      "metadata": {
        "id": "lsTzgaTYXum7"
      },
      "execution_count": 7,
      "outputs": []
    },
    {
      "cell_type": "code",
      "source": [
        "# 各重みにスコアを付与したスコアをソートしてtop k%を使用することでサブネットワークを獲得する\n",
        "class GetSubnet(autograd.Function):\n",
        "    @staticmethod\n",
        "    def forward(ctx, scores, k):\n",
        "        # スコアを複製する\n",
        "        out = scores.clone()\n",
        "        # スコアを昇順でソートする\n",
        "        _, idx = scores.flatten().sort()\n",
        "        # top k%以下のスコアの数\n",
        "        j = int((1 - k) * scores.numel())\n",
        "        # flat_outとoutは同じメモリを参照する（flat_outを変更するとoutにも影響する）\n",
        "        flat_out = out.flatten()\n",
        "        # top k%の要素を1にする\n",
        "        flat_out[idx[j:]] = 1\n",
        "        # top k%以外の要素を0にする\n",
        "        flat_out[idx[:j]] = 0\n",
        "        return out\n",
        "\n",
        "    @staticmethod\n",
        "    def backward(ctx, g):\n",
        "        # 逆伝播時に勾配gをそのまま伝える\n",
        "        return g, None"
      ],
      "metadata": {
        "id": "MWW1Jx9JXzGI"
      },
      "execution_count": 8,
      "outputs": []
    },
    {
      "cell_type": "code",
      "source": [
        "# サブネットワーク獲得用の畳み込みを定義\n",
        "class SupermaskConv(nn.Conv2d):\n",
        "    def __init__(self, *args, **kwargs):\n",
        "        super().__init__(*args, **kwargs)\n",
        "        # 重みと同じ形状のスコアを用意\n",
        "        self.scores = nn.Parameter(torch.Tensor(self.weight.size()))\n",
        "        # スコアを一様分布で初期化\n",
        "        nn.init.kaiming_uniform_(self.scores, a=math.sqrt(5))\n",
        "        # 重みの勾配を無効化する\n",
        "        self.weight.requires_grad = False\n",
        "\n",
        "    def _init_conv(self):\n",
        "        # 重みを一様分布で初期化\n",
        "        if self.init == 'kaiming_uniform':\n",
        "            nn.init.kaiming_uniform_(self.weight, mode='fan_out', nonlinearity='relu')\n",
        "        # 重みを正規分布で初期化\n",
        "        elif self.init == 'kaiming_normal':\n",
        "            nn.init.kaiming_normal_(self.weight, mode='fan_out', nonlinearity='relu')\n",
        "        # 重みを符号つき定数で初期化\n",
        "        elif self.init == 'signed_constant':\n",
        "            fan = nn.init._calculate_correct_fan(self.weight, mode='fan_out')\n",
        "            gain = nn.init.calculate_gain('relu')\n",
        "            std = gain / math.sqrt(fan)\n",
        "            self.weight.data = self.weight.data.sign() * std\n",
        "\n",
        "    def set_init(self, init):\n",
        "        # 初期化手法を設定\n",
        "        self.init = init\n",
        "\n",
        "    def set_prune_rate(self, prune_rate):\n",
        "        # 刈り込み率を設定\n",
        "        self.prune_rate = prune_rate\n",
        "\n",
        "    @property\n",
        "    def clamped_scores(self):\n",
        "        # スコアとして非負の値を返すようにする（重要度を表す）\n",
        "        return self.scores.abs()\n",
        "\n",
        "    def forward(self, x):\n",
        "        # サブネットワークを獲得\n",
        "        subnet = GetSubnet.apply(self.clamped_scores, 1 - self.prune_rate)\n",
        "        # サブネットワークでマスク\n",
        "        w = self.weight * subnet\n",
        "        x = F.conv2d(x, w, self.bias, self.stride, self.padding, self.dilation, self.groups)\n",
        "        return x"
      ],
      "metadata": {
        "id": "GMJZoKQHZQu2"
      },
      "execution_count": 9,
      "outputs": []
    },
    {
      "cell_type": "code",
      "source": [
        "# サブネットワーク獲得用のResidual Blocksを定義\n",
        "class SupermaskBuildingBlock(nn.Module):\n",
        "    def __init__(self, in_channels, out_channels, stride=1):\n",
        "        super().__init__()\n",
        "        self.bn1 = NonAffineBatchNorm(in_channels)\n",
        "        self.conv1 = supermaskconv3x3(in_channels, out_channels, stride)\n",
        "        self.bn2 = NonAffineBatchNorm(out_channels)\n",
        "        self.conv2 = supermaskconv3x3(out_channels, out_channels)\n",
        "        self.dropout = nn.Dropout(p=0.3)\n",
        "        self.relu = nn.ReLU(inplace=True)\n",
        "\n",
        "        # 入力と出力のチャンネル数が異なる場合（strideが1より大きい場合）、ダウンサンプリング\n",
        "        if in_channels != out_channels or stride > 1:\n",
        "            self.shortcut = supermaskconv1x1(in_channels, out_channels, stride)\n",
        "        else:\n",
        "            self.shortcut = nn.Sequential()\n",
        "\n",
        "    def forward(self, x):\n",
        "        out = self.bn1(x)\n",
        "        out = self.relu(out)\n",
        "        out = self.conv1(out)\n",
        "        out = self.bn2(out)\n",
        "        out = self.relu(out)\n",
        "        out = self.dropout(out)\n",
        "        out = self.conv2(out)\n",
        "        # 残差写像と恒等写像の要素毎の和を計算\n",
        "        out += self.shortcut(x)\n",
        "        return out"
      ],
      "metadata": {
        "id": "ESo-AKn0HM3s"
      },
      "execution_count": 10,
      "outputs": []
    },
    {
      "cell_type": "code",
      "source": [
        "class SupermaskWideResNet(nn.Module):\n",
        "    def __init__(self, block, depth, k, num_classes=10):\n",
        "        super().__init__()\n",
        "        assert (depth - 4) % 6 == 0, \"depth should be 6n + 4\"\n",
        "        n = (depth - 4) // 6\n",
        "        channels = [16, 16 * k, 32 * k, 64 * k]\n",
        "        self.conv1 = supermaskconv3x3(3, channels[0])\n",
        "        # Residual Blocks（1)\n",
        "        self.layer1 = self._make_layer(block, channels[0], channels[1], n)\n",
        "        # Residual Blocks（2）\n",
        "        self.layer2 = self._make_layer(block, channels[1], channels[2], n, stride=2)\n",
        "        # Residual Blocks（3）\n",
        "        self.layer3 = self._make_layer(block, channels[2], channels[3], n, stride=2)\n",
        "        self.bn = NonAffineBatchNorm(channels[3])\n",
        "        self.relu = nn.ReLU(inplace=True)\n",
        "        self.avgpool = nn.AdaptiveAvgPool2d((1, 1))\n",
        "        self.fc = nn.Linear(channels[3], num_classes)\n",
        "\n",
        "        # 重みの初期化\n",
        "        for m in self.modules():\n",
        "            if isinstance(m, nn.Conv2d):\n",
        "                # 初期化手法を設定\n",
        "                m.set_init(init)\n",
        "                # 刈り込み率を設定\n",
        "                m.set_prune_rate(prune_rate)\n",
        "                # 重みを初期化\n",
        "                m._init_conv()\n",
        "\n",
        "    # Residual Blocksを作成する関数を定義\n",
        "    def _make_layer(self, block, in_channels, out_channels, blocks, stride=1):\n",
        "        layers = []\n",
        "        # 最初の Residual Block（stride=stride）\n",
        "        layers.append(block(in_channels, out_channels, stride))\n",
        "        # 残りの Residual Block（stride=1）\n",
        "        for _ in range(1, blocks):\n",
        "            layers.append(block(out_channels, out_channels))\n",
        "        return nn.Sequential(*layers)\n",
        "\n",
        "    def forward(self, x):\n",
        "        x = self.conv1(x)\n",
        "        x = self.layer1(x)\n",
        "        x = self.layer2(x)\n",
        "        x = self.layer3(x)\n",
        "        x = self.bn(x)\n",
        "        x = self.relu(x)\n",
        "        x = self.avgpool(x)\n",
        "        x = torch.flatten(x, 1)\n",
        "        x = self.fc(x)\n",
        "        return x"
      ],
      "metadata": {
        "id": "o4DEbfdQH0hs"
      },
      "execution_count": 11,
      "outputs": []
    },
    {
      "cell_type": "markdown",
      "source": [
        "## 学習と評価（100 epochs, init=kaiming_uniform）"
      ],
      "metadata": {
        "id": "b5CnW4IW4iww"
      }
    },
    {
      "cell_type": "markdown",
      "source": [
        "### prune_rate=0.999"
      ],
      "metadata": {
        "id": "XGLNB5K_Eb5D"
      }
    },
    {
      "cell_type": "code",
      "source": [
        "# デバイスを設定\n",
        "device = torch.device('cuda' if torch.cuda.is_available() else 'cpu')\n",
        "# モデルを定義\n",
        "model = torch.load('/content/drive/MyDrive/SupermaskWideResNet28_10_CIFAR10_100epochs_pr0.999_uniform_CLRS_restest.pth')\n",
        "# 最終層を変更\n",
        "model.fc = nn.Linear(model.fc.in_features, 100)\n",
        "# 最終層以外のパラメータの勾配計算を停止\n",
        "for param in model.parameters():\n",
        "    param.requires_grad = False\n",
        "# 最終層のパラメータのみを学習するように設定\n",
        "for param in model.fc.parameters():\n",
        "    param.requires_grad = True\n",
        "# モデルをデバイスに転送\n",
        "model = model.to(device)\n",
        "# 変更後のモデルの重みを保存\n",
        "model_init = copy.deepcopy(model)\n",
        "\n",
        "# 学習率を設定\n",
        "learning_rate = 0.01\n",
        "# 全体のepoch数を設定\n",
        "num_epochs = 50\n",
        "# warm-upするepoch数を設定\n",
        "warmup_epochs = 5\n",
        "\n",
        "# 損失関数を定義\n",
        "criterion = nn.CrossEntropyLoss()\n",
        "# オプティマイザーを設定\n",
        "optimizer = optim.Adam(model.fc.parameters(), lr=learning_rate)\n",
        "# スケジューラーを設定\n",
        "scheduler = CosineLRScheduler(optimizer, t_initial=num_epochs, lr_min=1e-4, warmup_t=warmup_epochs, warmup_lr_init=1e-4, warmup_prefix=True)\n",
        "\n",
        "# モデルの学習\n",
        "for epoch in range(num_epochs):\n",
        "    total = 0\n",
        "    correct = 0\n",
        "    for i, (images, labels) in enumerate(train_loader_cifar100):\n",
        "        images = images.to(device)\n",
        "        labels = labels.to(device)\n",
        "        # 順伝播\n",
        "        outputs = model(images)\n",
        "        loss = criterion(outputs, labels)\n",
        "        # 逆伝播\n",
        "        optimizer.zero_grad()\n",
        "        loss.backward()\n",
        "        optimizer.step()\n",
        "        _, predicted = torch.max(outputs.data, 1)\n",
        "        # 全データ数\n",
        "        total += labels.size(0)\n",
        "        # 正解数\n",
        "        correct += (predicted == labels).sum().item()\n",
        "    # 正解率精度を計算\n",
        "    train_acc = 100 * correct / total\n",
        "    # 正解率精度と損失を確認\n",
        "    print(\"Epoch [{}/{}], Train Accuracy: {} %, Loss: {:.4f}\".format(epoch+1, num_epochs, 100 * correct / total, loss.item()))\n",
        "    # 1エポック終了後にスケジューラーを更新\n",
        "    scheduler.step(epoch)\n",
        "    # 学習率の確認\n",
        "    print(\"Epoch [{}/{}], Learning Rate: {}\".format(epoch+1, num_epochs, optimizer.param_groups[0]['lr']))\n",
        "\n",
        "\n",
        "# モデルを保存\n",
        "torch.save(model, '/content/drive/MyDrive/SupermaskWideResNet28_10_CIFAR100_from_CIFAR10_100epochs_pr0.999_uniform_50epochs_lr0.01_CLRS_restest.pth')"
      ],
      "metadata": {
        "colab": {
          "base_uri": "https://localhost:8080/"
        },
        "id": "AUdmMBeNCokH",
        "outputId": "631cc090-af19-41d9-a7ea-8939f503393e"
      },
      "execution_count": 13,
      "outputs": [
        {
          "output_type": "stream",
          "name": "stdout",
          "text": [
            "Epoch [1/50], Train Accuracy: 1.0 %, Loss: 4.6058\n",
            "Epoch [1/50], Learning Rate: 0.0001\n",
            "Epoch [2/50], Train Accuracy: 1.0 %, Loss: 4.6061\n",
            "Epoch [2/50], Learning Rate: 0.00208\n",
            "Epoch [3/50], Train Accuracy: 0.822 %, Loss: 4.6046\n",
            "Epoch [3/50], Learning Rate: 0.00406\n",
            "Epoch [4/50], Train Accuracy: 0.858 %, Loss: 4.6055\n",
            "Epoch [4/50], Learning Rate: 0.00604\n",
            "Epoch [5/50], Train Accuracy: 0.912 %, Loss: 4.6068\n",
            "Epoch [5/50], Learning Rate: 0.00802\n",
            "Epoch [6/50], Train Accuracy: 0.864 %, Loss: 4.6080\n",
            "Epoch [6/50], Learning Rate: 0.01\n",
            "Epoch [7/50], Train Accuracy: 0.936 %, Loss: 4.6058\n",
            "Epoch [7/50], Learning Rate: 0.009990232305719944\n",
            "Epoch [8/50], Train Accuracy: 0.898 %, Loss: 4.6073\n",
            "Epoch [8/50], Learning Rate: 0.009960967771506667\n",
            "Epoch [9/50], Train Accuracy: 0.908 %, Loss: 4.6086\n",
            "Epoch [9/50], Learning Rate: 0.00991232189110701\n",
            "Epoch [10/50], Train Accuracy: 0.872 %, Loss: 4.6072\n",
            "Epoch [10/50], Learning Rate: 0.009844486647586723\n",
            "Epoch [11/50], Train Accuracy: 0.948 %, Loss: 4.6060\n",
            "Epoch [11/50], Learning Rate: 0.009757729755661011\n",
            "Epoch [12/50], Train Accuracy: 0.88 %, Loss: 4.6103\n",
            "Epoch [12/50], Learning Rate: 0.009652393605146845\n",
            "Epoch [13/50], Train Accuracy: 0.92 %, Loss: 4.6088\n",
            "Epoch [13/50], Learning Rate: 0.009528893909706798\n",
            "Epoch [14/50], Train Accuracy: 0.952 %, Loss: 4.6060\n",
            "Epoch [14/50], Learning Rate: 0.009387718066217124\n",
            "Epoch [15/50], Train Accuracy: 0.948 %, Loss: 4.6058\n",
            "Epoch [15/50], Learning Rate: 0.009229423231234974\n",
            "Epoch [16/50], Train Accuracy: 0.91 %, Loss: 4.6069\n",
            "Epoch [16/50], Learning Rate: 0.00905463412215599\n",
            "Epoch [17/50], Train Accuracy: 0.914 %, Loss: 4.6090\n",
            "Epoch [17/50], Learning Rate: 0.008864040551740157\n",
            "Epoch [18/50], Train Accuracy: 0.93 %, Loss: 4.6050\n",
            "Epoch [18/50], Learning Rate: 0.008658394705735987\n",
            "Epoch [19/50], Train Accuracy: 0.914 %, Loss: 4.6081\n",
            "Epoch [19/50], Learning Rate: 0.00843850817434701\n",
            "Epoch [20/50], Train Accuracy: 0.936 %, Loss: 4.6088\n",
            "Epoch [20/50], Learning Rate: 0.008205248749256015\n",
            "Epoch [21/50], Train Accuracy: 0.888 %, Loss: 4.6076\n",
            "Epoch [21/50], Learning Rate: 0.007959536998847744\n",
            "Epoch [22/50], Train Accuracy: 0.928 %, Loss: 4.6074\n",
            "Epoch [22/50], Learning Rate: 0.007702342635146034\n",
            "Epoch [23/50], Train Accuracy: 0.904 %, Loss: 4.6081\n",
            "Epoch [23/50], Learning Rate: 0.007434680686803491\n",
            "Epoch [24/50], Train Accuracy: 0.896 %, Loss: 4.6068\n",
            "Epoch [24/50], Learning Rate: 0.0071576074932471105\n",
            "Epoch [25/50], Train Accuracy: 0.92 %, Loss: 4.6064\n",
            "Epoch [25/50], Learning Rate: 0.006872216535789157\n",
            "Epoch [26/50], Train Accuracy: 0.91 %, Loss: 4.6071\n",
            "Epoch [26/50], Learning Rate: 0.006579634122155991\n",
            "Epoch [27/50], Train Accuracy: 0.894 %, Loss: 4.6055\n",
            "Epoch [27/50], Learning Rate: 0.0062810149414660316\n",
            "Epoch [28/50], Train Accuracy: 0.862 %, Loss: 4.6063\n",
            "Epoch [28/50], Learning Rate: 0.005977537507199339\n",
            "Epoch [29/50], Train Accuracy: 0.926 %, Loss: 4.6071\n",
            "Epoch [29/50], Learning Rate: 0.005670399506143308\n",
            "Epoch [30/50], Train Accuracy: 0.9 %, Loss: 4.6066\n",
            "Epoch [30/50], Learning Rate: 0.005360813071670102\n",
            "Epoch [31/50], Train Accuracy: 0.924 %, Loss: 4.6055\n",
            "Epoch [31/50], Learning Rate: 0.005050000000000001\n",
            "Epoch [32/50], Train Accuracy: 0.896 %, Loss: 4.6065\n",
            "Epoch [32/50], Learning Rate: 0.004739186928329899\n",
            "Epoch [33/50], Train Accuracy: 0.838 %, Loss: 4.6060\n",
            "Epoch [33/50], Learning Rate: 0.004429600493856695\n",
            "Epoch [34/50], Train Accuracy: 0.948 %, Loss: 4.6065\n",
            "Epoch [34/50], Learning Rate: 0.0041224624928006635\n",
            "Epoch [35/50], Train Accuracy: 0.936 %, Loss: 4.6063\n",
            "Epoch [35/50], Learning Rate: 0.0038189850585339685\n",
            "Epoch [36/50], Train Accuracy: 0.932 %, Loss: 4.6057\n",
            "Epoch [36/50], Learning Rate: 0.003520365877844012\n",
            "Epoch [37/50], Train Accuracy: 0.91 %, Loss: 4.6065\n",
            "Epoch [37/50], Learning Rate: 0.0032277834642108457\n",
            "Epoch [38/50], Train Accuracy: 0.882 %, Loss: 4.6066\n",
            "Epoch [38/50], Learning Rate: 0.0029423925067528904\n",
            "Epoch [39/50], Train Accuracy: 0.932 %, Loss: 4.6063\n",
            "Epoch [39/50], Learning Rate: 0.002665319313196509\n",
            "Epoch [40/50], Train Accuracy: 0.85 %, Loss: 4.6061\n",
            "Epoch [40/50], Learning Rate: 0.0023976573648539653\n",
            "Epoch [41/50], Train Accuracy: 0.89 %, Loss: 4.6056\n",
            "Epoch [41/50], Learning Rate: 0.0021404630011522584\n",
            "Epoch [42/50], Train Accuracy: 0.93 %, Loss: 4.6057\n",
            "Epoch [42/50], Learning Rate: 0.001894751250743986\n",
            "Epoch [43/50], Train Accuracy: 0.928 %, Loss: 4.6060\n",
            "Epoch [43/50], Learning Rate: 0.001661491825652991\n",
            "Epoch [44/50], Train Accuracy: 0.94 %, Loss: 4.6055\n",
            "Epoch [44/50], Learning Rate: 0.001441605294264014\n",
            "Epoch [45/50], Train Accuracy: 0.876 %, Loss: 4.6057\n",
            "Epoch [45/50], Learning Rate: 0.001235959448259844\n",
            "Epoch [46/50], Train Accuracy: 0.872 %, Loss: 4.6054\n",
            "Epoch [46/50], Learning Rate: 0.0010453658778440107\n",
            "Epoch [47/50], Train Accuracy: 0.876 %, Loss: 4.6055\n",
            "Epoch [47/50], Learning Rate: 0.0008705767687650265\n",
            "Epoch [48/50], Train Accuracy: 0.838 %, Loss: 4.6053\n",
            "Epoch [48/50], Learning Rate: 0.0007122819337828754\n",
            "Epoch [49/50], Train Accuracy: 0.902 %, Loss: 4.6055\n",
            "Epoch [49/50], Learning Rate: 0.0005711060902932043\n",
            "Epoch [50/50], Train Accuracy: 0.896 %, Loss: 4.6054\n",
            "Epoch [50/50], Learning Rate: 0.00044760639485315584\n"
          ]
        }
      ]
    },
    {
      "cell_type": "code",
      "source": [
        "# モデルの刈り込み率を計算する関数を作成\n",
        "def calculate_pruned_ratio(model):\n",
        "    total_weights = 0\n",
        "    total_pruned_weights = 0\n",
        "\n",
        "    for module in model.modules():\n",
        "        # モジュールがSupermaskConvであるか確認\n",
        "        if isinstance(module, SupermaskConv):\n",
        "            # SupermaskConv層の重みを取得\n",
        "            weight = module.weight.data\n",
        "            # 刈り込みを適用した後の重みを取得\n",
        "            subnet = GetSubnet.apply(module.clamped_scores, 1 - module.prune_rate)\n",
        "            pruned_weight = weight * subnet\n",
        "            # 0である要素数を計算\n",
        "            pruned_weights_count = (pruned_weight == 0).sum().item()\n",
        "            total_pruned_weights += pruned_weights_count\n",
        "            # 重みの全要素数を計算\n",
        "            total_weights_count = pruned_weight.numel()\n",
        "            total_weights += total_weights_count\n",
        "\n",
        "    # 刈り込みが行われた割合を計算\n",
        "    pruned_ratio = total_pruned_weights / total_weights\n",
        "    return print(f\"刈り込み率は{pruned_ratio:.3f}です\")\n",
        "\n",
        "# モデルの刈り込み率を確認\n",
        "calculate_pruned_ratio(model)"
      ],
      "metadata": {
        "colab": {
          "base_uri": "https://localhost:8080/"
        },
        "id": "etp2AT1Rbptm",
        "outputId": "f5db8e68-1e1e-4ead-d44d-e68dc09cf6a7"
      },
      "execution_count": 14,
      "outputs": [
        {
          "output_type": "stream",
          "name": "stdout",
          "text": [
            "刈り込み率は0.999です\n"
          ]
        }
      ]
    },
    {
      "cell_type": "code",
      "source": [
        "# 学習前後のモデルのスコアを比較する関数を作成\n",
        "def check_scores_change(model, model_init):\n",
        "    # 各モデルの名前付きモジュールを順に調べる\n",
        "    for (name, module), (name_init, module_init) in zip(model.named_modules(), model_init.named_modules()):\n",
        "        # 両モジュールがConv2dのインスタンスであるかを確認\n",
        "        if isinstance(module, torch.nn.Conv2d) and isinstance(module_init, torch.nn.Conv2d):\n",
        "            # 両モジュールが'scores'属性を持っているかを確認\n",
        "            if hasattr(module, 'scores') and hasattr(module_init, 'scores'):\n",
        "                # 両モジュールの'scores'属性が一致しているかを確認\n",
        "                # 一致していない場合、変更があったことを示すメッセージを出力\n",
        "                if not torch.equal(module.scores, module_init.scores):\n",
        "                    print(f'{name}のスコアが変化しています')\n",
        "                    return\n",
        "    # すべてのconv層で'scores'が変更されていない場合、その旨を出力\n",
        "    print('すべてのスコアは変化していません')\n",
        "\n",
        "# 学習前後でモデルのスコアが変化していないかを確認\n",
        "check_scores_change(model, model_init)"
      ],
      "metadata": {
        "colab": {
          "base_uri": "https://localhost:8080/"
        },
        "id": "5a7OBC3PdrKz",
        "outputId": "58ad59d6-6f43-4ca3-930e-98f449dad884"
      },
      "execution_count": 15,
      "outputs": [
        {
          "output_type": "stream",
          "name": "stdout",
          "text": [
            "すべてのスコアは変化していません\n"
          ]
        }
      ]
    },
    {
      "cell_type": "code",
      "source": [
        "# 学習前後のモデルの最終層以外の重みを比較する関数を作成\n",
        "def check_weight_change_except_last(model, model_init):\n",
        "    for (name, param), (name_init, param_init) in zip(model.named_parameters(), model_init.named_parameters()):\n",
        "        # 最終層を除く\n",
        "        if name != 'fc.weight' and name != 'fc.bias':\n",
        "            weights_changed = (param.data != param_init.data).any()\n",
        "            if weights_changed:\n",
        "                return print('最終層以外の重みが変化しています')\n",
        "    return print('最終層以外の重みは変化していません')\n",
        "\n",
        "# 学習前後でモデルの最終層以外の重みが変化していないかを確認\n",
        "check_weight_change_except_last(model, model_init)"
      ],
      "metadata": {
        "colab": {
          "base_uri": "https://localhost:8080/"
        },
        "id": "mbnhyD8vDdWO",
        "outputId": "e0a9fe53-ae69-4cd3-aa44-3976cb83a0f9"
      },
      "execution_count": 16,
      "outputs": [
        {
          "output_type": "stream",
          "name": "stdout",
          "text": [
            "最終層以外の重みは変化していません\n"
          ]
        }
      ]
    },
    {
      "cell_type": "code",
      "source": [
        "# モデルの評価\n",
        "model.eval()\n",
        "with torch.no_grad():\n",
        "    total = 0\n",
        "    correct = 0\n",
        "    for images, labels in test_loader_cifar100:\n",
        "        images = images.to(device)\n",
        "        labels = labels.to(device)\n",
        "        outputs = model(images)\n",
        "        _, predicted = torch.max(outputs.data, 1)\n",
        "        total += labels.size(0)\n",
        "        correct += (predicted == labels).sum().item()\n",
        "    # 正解率精度の確認\n",
        "    print('Test Accuracy: {} %'.format(100 * correct / total))"
      ],
      "metadata": {
        "colab": {
          "base_uri": "https://localhost:8080/"
        },
        "outputId": "bf86b266-80bd-448b-c96a-dd8b22b09e30",
        "id": "VPS2IC-WEb5R"
      },
      "execution_count": 17,
      "outputs": [
        {
          "output_type": "stream",
          "name": "stdout",
          "text": [
            "Test Accuracy: 1.0 %\n"
          ]
        }
      ]
    },
    {
      "cell_type": "code",
      "source": [
        "# GPUメモリの解放\n",
        "del model, model_init\n",
        "torch.cuda.empty_cache()"
      ],
      "metadata": {
        "id": "NKfkZTN0Eb5R"
      },
      "execution_count": 18,
      "outputs": []
    },
    {
      "cell_type": "markdown",
      "source": [
        "### prune_rate=0.995"
      ],
      "metadata": {
        "id": "NqbMSuRrpjNv"
      }
    },
    {
      "cell_type": "code",
      "source": [
        "# デバイスを設定\n",
        "device = torch.device('cuda' if torch.cuda.is_available() else 'cpu')\n",
        "# モデルを定義\n",
        "model = torch.load('/content/drive/MyDrive/SupermaskWideResNet28_10_CIFAR10_100epochs_pr0.995_uniform_CLRS_restest.pth')\n",
        "# 最終層を変更\n",
        "model.fc = nn.Linear(model.fc.in_features, 100)\n",
        "# 最終層以外のパラメータの勾配計算を停止\n",
        "for param in model.parameters():\n",
        "    param.requires_grad = False\n",
        "# 最終層のパラメータのみを学習するように設定\n",
        "for param in model.fc.parameters():\n",
        "    param.requires_grad = True\n",
        "# モデルをデバイスに転送\n",
        "model = model.to(device)\n",
        "# 変更後のモデルの重みを保存\n",
        "model_init = copy.deepcopy(model)\n",
        "\n",
        "# 学習率を設定\n",
        "learning_rate = 0.01\n",
        "# 全体のepoch数を設定\n",
        "num_epochs = 50\n",
        "# warm-upするepoch数を設定\n",
        "warmup_epochs = 5\n",
        "\n",
        "# 損失関数を定義\n",
        "criterion = nn.CrossEntropyLoss()\n",
        "# オプティマイザーを設定\n",
        "optimizer = optim.Adam(model.fc.parameters(), lr=learning_rate)\n",
        "# スケジューラーを設定\n",
        "scheduler = CosineLRScheduler(optimizer, t_initial=num_epochs, lr_min=1e-4, warmup_t=warmup_epochs, warmup_lr_init=1e-4, warmup_prefix=True)\n",
        "\n",
        "# モデルの学習\n",
        "for epoch in range(num_epochs):\n",
        "    total = 0\n",
        "    correct = 0\n",
        "    for i, (images, labels) in enumerate(train_loader_cifar100):\n",
        "        images = images.to(device)\n",
        "        labels = labels.to(device)\n",
        "        # 順伝播\n",
        "        outputs = model(images)\n",
        "        loss = criterion(outputs, labels)\n",
        "        # 逆伝播\n",
        "        optimizer.zero_grad()\n",
        "        loss.backward()\n",
        "        optimizer.step()\n",
        "        _, predicted = torch.max(outputs.data, 1)\n",
        "        # 全データ数\n",
        "        total += labels.size(0)\n",
        "        # 正解数\n",
        "        correct += (predicted == labels).sum().item()\n",
        "    # 正解率精度を計算\n",
        "    train_acc = 100 * correct / total\n",
        "    # 正解率精度と損失を確認\n",
        "    print(\"Epoch [{}/{}], Train Accuracy: {} %, Loss: {:.4f}\".format(epoch+1, num_epochs, 100 * correct / total, loss.item()))\n",
        "    # 1エポック終了後にスケジューラーを更新\n",
        "    scheduler.step(epoch)\n",
        "    # 学習率の確認\n",
        "    print(\"Epoch [{}/{}], Learning Rate: {}\".format(epoch+1, num_epochs, optimizer.param_groups[0]['lr']))\n",
        "\n",
        "\n",
        "# モデルを保存\n",
        "torch.save(model, '/content/drive/MyDrive/SupermaskWideResNet28_10_CIFAR100_from_CIFAR10_100epochs_pr0.995_uniform_50epochs_lr0.01_CLRS_restest.pth')"
      ],
      "metadata": {
        "colab": {
          "base_uri": "https://localhost:8080/"
        },
        "outputId": "5eac6a89-0a70-44f0-9398-8f04746f5446",
        "id": "MkGq7iD0pjN8"
      },
      "execution_count": 19,
      "outputs": [
        {
          "output_type": "stream",
          "name": "stdout",
          "text": [
            "Epoch [1/50], Train Accuracy: 4.88 %, Loss: 4.3367\n",
            "Epoch [1/50], Learning Rate: 0.0001\n",
            "Epoch [2/50], Train Accuracy: 13.048 %, Loss: 4.1033\n",
            "Epoch [2/50], Learning Rate: 0.00208\n",
            "Epoch [3/50], Train Accuracy: 22.474 %, Loss: 3.0170\n",
            "Epoch [3/50], Learning Rate: 0.00406\n",
            "Epoch [4/50], Train Accuracy: 27.984 %, Loss: 2.8080\n",
            "Epoch [4/50], Learning Rate: 0.00604\n",
            "Epoch [5/50], Train Accuracy: 30.186 %, Loss: 2.7679\n",
            "Epoch [5/50], Learning Rate: 0.00802\n",
            "Epoch [6/50], Train Accuracy: 31.792 %, Loss: 2.7001\n",
            "Epoch [6/50], Learning Rate: 0.01\n",
            "Epoch [7/50], Train Accuracy: 32.16 %, Loss: 2.9023\n",
            "Epoch [7/50], Learning Rate: 0.009990232305719944\n",
            "Epoch [8/50], Train Accuracy: 33.408 %, Loss: 2.6110\n",
            "Epoch [8/50], Learning Rate: 0.009960967771506667\n",
            "Epoch [9/50], Train Accuracy: 34.866 %, Loss: 2.5699\n",
            "Epoch [9/50], Learning Rate: 0.00991232189110701\n",
            "Epoch [10/50], Train Accuracy: 35.618 %, Loss: 2.4940\n",
            "Epoch [10/50], Learning Rate: 0.009844486647586723\n",
            "Epoch [11/50], Train Accuracy: 36.124 %, Loss: 2.4166\n",
            "Epoch [11/50], Learning Rate: 0.009757729755661011\n",
            "Epoch [12/50], Train Accuracy: 36.632 %, Loss: 2.6394\n",
            "Epoch [12/50], Learning Rate: 0.009652393605146845\n",
            "Epoch [13/50], Train Accuracy: 37.336 %, Loss: 2.4933\n",
            "Epoch [13/50], Learning Rate: 0.009528893909706798\n",
            "Epoch [14/50], Train Accuracy: 37.784 %, Loss: 2.3647\n",
            "Epoch [14/50], Learning Rate: 0.009387718066217124\n",
            "Epoch [15/50], Train Accuracy: 37.89 %, Loss: 2.5568\n",
            "Epoch [15/50], Learning Rate: 0.009229423231234974\n",
            "Epoch [16/50], Train Accuracy: 38.338 %, Loss: 2.5342\n",
            "Epoch [16/50], Learning Rate: 0.00905463412215599\n",
            "Epoch [17/50], Train Accuracy: 38.854 %, Loss: 2.4445\n",
            "Epoch [17/50], Learning Rate: 0.008864040551740157\n",
            "Epoch [18/50], Train Accuracy: 38.98 %, Loss: 2.2168\n",
            "Epoch [18/50], Learning Rate: 0.008658394705735987\n",
            "Epoch [19/50], Train Accuracy: 39.512 %, Loss: 2.5274\n",
            "Epoch [19/50], Learning Rate: 0.00843850817434701\n",
            "Epoch [20/50], Train Accuracy: 39.47 %, Loss: 2.4476\n",
            "Epoch [20/50], Learning Rate: 0.008205248749256015\n",
            "Epoch [21/50], Train Accuracy: 40.06 %, Loss: 2.2991\n",
            "Epoch [21/50], Learning Rate: 0.007959536998847744\n",
            "Epoch [22/50], Train Accuracy: 40.322 %, Loss: 2.2715\n",
            "Epoch [22/50], Learning Rate: 0.007702342635146034\n",
            "Epoch [23/50], Train Accuracy: 40.41 %, Loss: 2.3528\n",
            "Epoch [23/50], Learning Rate: 0.007434680686803491\n",
            "Epoch [24/50], Train Accuracy: 40.928 %, Loss: 2.3872\n",
            "Epoch [24/50], Learning Rate: 0.0071576074932471105\n",
            "Epoch [25/50], Train Accuracy: 41.126 %, Loss: 2.3913\n",
            "Epoch [25/50], Learning Rate: 0.006872216535789157\n",
            "Epoch [26/50], Train Accuracy: 41.446 %, Loss: 2.3323\n",
            "Epoch [26/50], Learning Rate: 0.006579634122155991\n",
            "Epoch [27/50], Train Accuracy: 41.914 %, Loss: 2.2418\n",
            "Epoch [27/50], Learning Rate: 0.0062810149414660316\n",
            "Epoch [28/50], Train Accuracy: 41.662 %, Loss: 2.1114\n",
            "Epoch [28/50], Learning Rate: 0.005977537507199339\n",
            "Epoch [29/50], Train Accuracy: 42.052 %, Loss: 2.4146\n",
            "Epoch [29/50], Learning Rate: 0.005670399506143308\n",
            "Epoch [30/50], Train Accuracy: 42.27 %, Loss: 2.2996\n",
            "Epoch [30/50], Learning Rate: 0.005360813071670102\n",
            "Epoch [31/50], Train Accuracy: 42.468 %, Loss: 2.3207\n",
            "Epoch [31/50], Learning Rate: 0.005050000000000001\n",
            "Epoch [32/50], Train Accuracy: 42.736 %, Loss: 2.1877\n",
            "Epoch [32/50], Learning Rate: 0.004739186928329899\n",
            "Epoch [33/50], Train Accuracy: 42.6 %, Loss: 2.3612\n",
            "Epoch [33/50], Learning Rate: 0.004429600493856695\n",
            "Epoch [34/50], Train Accuracy: 43.112 %, Loss: 2.1784\n",
            "Epoch [34/50], Learning Rate: 0.0041224624928006635\n",
            "Epoch [35/50], Train Accuracy: 43.402 %, Loss: 2.2270\n",
            "Epoch [35/50], Learning Rate: 0.0038189850585339685\n",
            "Epoch [36/50], Train Accuracy: 43.452 %, Loss: 2.0137\n",
            "Epoch [36/50], Learning Rate: 0.003520365877844012\n",
            "Epoch [37/50], Train Accuracy: 43.744 %, Loss: 2.1073\n",
            "Epoch [37/50], Learning Rate: 0.0032277834642108457\n",
            "Epoch [38/50], Train Accuracy: 44.122 %, Loss: 2.0323\n",
            "Epoch [38/50], Learning Rate: 0.0029423925067528904\n",
            "Epoch [39/50], Train Accuracy: 44.288 %, Loss: 2.4504\n",
            "Epoch [39/50], Learning Rate: 0.002665319313196509\n",
            "Epoch [40/50], Train Accuracy: 44.178 %, Loss: 2.1373\n",
            "Epoch [40/50], Learning Rate: 0.0023976573648539653\n",
            "Epoch [41/50], Train Accuracy: 44.52 %, Loss: 2.1083\n",
            "Epoch [41/50], Learning Rate: 0.0021404630011522584\n",
            "Epoch [42/50], Train Accuracy: 44.602 %, Loss: 2.0674\n",
            "Epoch [42/50], Learning Rate: 0.001894751250743986\n",
            "Epoch [43/50], Train Accuracy: 44.894 %, Loss: 2.1902\n",
            "Epoch [43/50], Learning Rate: 0.001661491825652991\n",
            "Epoch [44/50], Train Accuracy: 45.344 %, Loss: 2.0866\n",
            "Epoch [44/50], Learning Rate: 0.001441605294264014\n",
            "Epoch [45/50], Train Accuracy: 45.256 %, Loss: 2.2448\n",
            "Epoch [45/50], Learning Rate: 0.001235959448259844\n",
            "Epoch [46/50], Train Accuracy: 45.426 %, Loss: 2.0040\n",
            "Epoch [46/50], Learning Rate: 0.0010453658778440107\n",
            "Epoch [47/50], Train Accuracy: 45.636 %, Loss: 2.0688\n",
            "Epoch [47/50], Learning Rate: 0.0008705767687650265\n",
            "Epoch [48/50], Train Accuracy: 45.518 %, Loss: 2.1643\n",
            "Epoch [48/50], Learning Rate: 0.0007122819337828754\n",
            "Epoch [49/50], Train Accuracy: 45.782 %, Loss: 1.9956\n",
            "Epoch [49/50], Learning Rate: 0.0005711060902932043\n",
            "Epoch [50/50], Train Accuracy: 45.956 %, Loss: 2.1420\n",
            "Epoch [50/50], Learning Rate: 0.00044760639485315584\n"
          ]
        }
      ]
    },
    {
      "cell_type": "code",
      "source": [
        "# モデルの刈り込み率を計算する関数を作成\n",
        "def calculate_pruned_ratio(model):\n",
        "    total_weights = 0\n",
        "    total_pruned_weights = 0\n",
        "\n",
        "    for module in model.modules():\n",
        "        # モジュールがSupermaskConvであるか確認\n",
        "        if isinstance(module, SupermaskConv):\n",
        "            # SupermaskConv層の重みを取得\n",
        "            weight = module.weight.data\n",
        "            # 刈り込みを適用した後の重みを取得\n",
        "            subnet = GetSubnet.apply(module.clamped_scores, 1 - module.prune_rate)\n",
        "            pruned_weight = weight * subnet\n",
        "            # 0である要素数を計算\n",
        "            pruned_weights_count = (pruned_weight == 0).sum().item()\n",
        "            total_pruned_weights += pruned_weights_count\n",
        "            # 重みの全要素数を計算\n",
        "            total_weights_count = pruned_weight.numel()\n",
        "            total_weights += total_weights_count\n",
        "\n",
        "    # 刈り込みが行われた割合を計算\n",
        "    pruned_ratio = total_pruned_weights / total_weights\n",
        "    return print(f\"刈り込み率は{pruned_ratio:.3f}です\")\n",
        "\n",
        "# モデルの刈り込み率を確認\n",
        "calculate_pruned_ratio(model)"
      ],
      "metadata": {
        "id": "jg3iGXzRpjN9",
        "colab": {
          "base_uri": "https://localhost:8080/"
        },
        "outputId": "1a7f4c58-5972-419c-82ac-aac48f95e489"
      },
      "execution_count": 20,
      "outputs": [
        {
          "output_type": "stream",
          "name": "stdout",
          "text": [
            "刈り込み率は0.995です\n"
          ]
        }
      ]
    },
    {
      "cell_type": "code",
      "source": [
        "# 学習前後のモデルのスコアを比較する関数を作成\n",
        "def check_scores_change(model, model_init):\n",
        "    # 各モデルの名前付きモジュールを順に調べる\n",
        "    for (name, module), (name_init, module_init) in zip(model.named_modules(), model_init.named_modules()):\n",
        "        # 両モジュールがConv2dのインスタンスであるかを確認\n",
        "        if isinstance(module, torch.nn.Conv2d) and isinstance(module_init, torch.nn.Conv2d):\n",
        "            # 両モジュールが'scores'属性を持っているかを確認\n",
        "            if hasattr(module, 'scores') and hasattr(module_init, 'scores'):\n",
        "                # 両モジュールの'scores'属性が一致しているかを確認\n",
        "                # 一致していない場合、変更があったことを示すメッセージを出力\n",
        "                if not torch.equal(module.scores, module_init.scores):\n",
        "                    print(f'{name}のスコアが変化しています')\n",
        "                    return\n",
        "    # すべてのconv層で'scores'が変更されていない場合、その旨を出力\n",
        "    print('すべてのスコアは変化していません')\n",
        "\n",
        "# 学習前後でモデルのスコアが変化していないかを確認\n",
        "check_scores_change(model, model_init)"
      ],
      "metadata": {
        "id": "7M8dj_pcpjN9",
        "colab": {
          "base_uri": "https://localhost:8080/"
        },
        "outputId": "236ae908-fdd9-4b5d-9e3c-100566e74426"
      },
      "execution_count": 21,
      "outputs": [
        {
          "output_type": "stream",
          "name": "stdout",
          "text": [
            "すべてのスコアは変化していません\n"
          ]
        }
      ]
    },
    {
      "cell_type": "code",
      "source": [
        "# 学習前後のモデルの最終層以外の重みを比較する関数を作成\n",
        "def check_weight_change_except_last(model, model_init):\n",
        "    for (name, param), (name_init, param_init) in zip(model.named_parameters(), model_init.named_parameters()):\n",
        "        # 最終層を除く\n",
        "        if name != 'fc.weight' and name != 'fc.bias':\n",
        "            weights_changed = (param.data != param_init.data).any()\n",
        "            if weights_changed:\n",
        "                return print('最終層以外の重みが変化しています')\n",
        "    return print('最終層以外の重みは変化していません')\n",
        "\n",
        "# 学習前後でモデルの最終層以外の重みが変化していないかを確認\n",
        "check_weight_change_except_last(model, model_init)"
      ],
      "metadata": {
        "id": "brxdcBfIpjN9",
        "colab": {
          "base_uri": "https://localhost:8080/"
        },
        "outputId": "c63c1c3f-f221-4e22-b5ed-239eca97dfc5"
      },
      "execution_count": 22,
      "outputs": [
        {
          "output_type": "stream",
          "name": "stdout",
          "text": [
            "最終層以外の重みは変化していません\n"
          ]
        }
      ]
    },
    {
      "cell_type": "code",
      "source": [
        "# モデルの評価\n",
        "model.eval()\n",
        "with torch.no_grad():\n",
        "    total = 0\n",
        "    correct = 0\n",
        "    for images, labels in test_loader_cifar100:\n",
        "        images = images.to(device)\n",
        "        labels = labels.to(device)\n",
        "        outputs = model(images)\n",
        "        _, predicted = torch.max(outputs.data, 1)\n",
        "        total += labels.size(0)\n",
        "        correct += (predicted == labels).sum().item()\n",
        "    # 正解率精度の確認\n",
        "    print('Test Accuracy: {} %'.format(100 * correct / total))"
      ],
      "metadata": {
        "id": "ZVfoVbqrpjN9",
        "colab": {
          "base_uri": "https://localhost:8080/"
        },
        "outputId": "9634bacf-023a-42bd-ee01-8f3dff737bd7"
      },
      "execution_count": 23,
      "outputs": [
        {
          "output_type": "stream",
          "name": "stdout",
          "text": [
            "Test Accuracy: 44.34 %\n"
          ]
        }
      ]
    },
    {
      "cell_type": "code",
      "source": [
        "# GPUメモリの解放\n",
        "del model, model_init\n",
        "torch.cuda.empty_cache()"
      ],
      "metadata": {
        "id": "GoQgBKvNpjN9"
      },
      "execution_count": 24,
      "outputs": []
    },
    {
      "cell_type": "markdown",
      "source": [
        "### prune_rate=0.99"
      ],
      "metadata": {
        "id": "lRIgIz-4pzit"
      }
    },
    {
      "cell_type": "code",
      "source": [
        "# デバイスを設定\n",
        "device = torch.device('cuda' if torch.cuda.is_available() else 'cpu')\n",
        "# モデルを定義\n",
        "model = torch.load('/content/drive/MyDrive/SupermaskWideResNet28_10_CIFAR10_100epochs_pr0.99_uniform_CLRS_restest.pth')\n",
        "# 最終層を変更\n",
        "model.fc = nn.Linear(model.fc.in_features, 100)\n",
        "# 最終層以外のパラメータの勾配計算を停止\n",
        "for param in model.parameters():\n",
        "    param.requires_grad = False\n",
        "# 最終層のパラメータのみを学習するように設定\n",
        "for param in model.fc.parameters():\n",
        "    param.requires_grad = True\n",
        "# モデルをデバイスに転送\n",
        "model = model.to(device)\n",
        "# 変更後のモデルの重みを保存\n",
        "model_init = copy.deepcopy(model)\n",
        "\n",
        "# 学習率を設定\n",
        "learning_rate = 0.01\n",
        "# 全体のepoch数を設定\n",
        "num_epochs = 50\n",
        "# warm-upするepoch数を設定\n",
        "warmup_epochs = 5\n",
        "\n",
        "# 損失関数を定義\n",
        "criterion = nn.CrossEntropyLoss()\n",
        "# オプティマイザーを設定\n",
        "optimizer = optim.Adam(model.fc.parameters(), lr=learning_rate)\n",
        "# スケジューラーを設定\n",
        "scheduler = CosineLRScheduler(optimizer, t_initial=num_epochs, lr_min=1e-4, warmup_t=warmup_epochs, warmup_lr_init=1e-4, warmup_prefix=True)\n",
        "\n",
        "# モデルの学習\n",
        "for epoch in range(num_epochs):\n",
        "    total = 0\n",
        "    correct = 0\n",
        "    for i, (images, labels) in enumerate(train_loader_cifar100):\n",
        "        images = images.to(device)\n",
        "        labels = labels.to(device)\n",
        "        # 順伝播\n",
        "        outputs = model(images)\n",
        "        loss = criterion(outputs, labels)\n",
        "        # 逆伝播\n",
        "        optimizer.zero_grad()\n",
        "        loss.backward()\n",
        "        optimizer.step()\n",
        "        _, predicted = torch.max(outputs.data, 1)\n",
        "        # 全データ数\n",
        "        total += labels.size(0)\n",
        "        # 正解数\n",
        "        correct += (predicted == labels).sum().item()\n",
        "    # 正解率精度を計算\n",
        "    train_acc = 100 * correct / total\n",
        "    # 正解率精度と損失を確認\n",
        "    print(\"Epoch [{}/{}], Train Accuracy: {} %, Loss: {:.4f}\".format(epoch+1, num_epochs, 100 * correct / total, loss.item()))\n",
        "    # 1エポック終了後にスケジューラーを更新\n",
        "    scheduler.step(epoch)\n",
        "    # 学習率の確認\n",
        "    print(\"Epoch [{}/{}], Learning Rate: {}\".format(epoch+1, num_epochs, optimizer.param_groups[0]['lr']))\n",
        "\n",
        "\n",
        "# モデルを保存\n",
        "torch.save(model, '/content/drive/MyDrive/SupermaskWideResNet28_10_CIFAR100_from_CIFAR10_100epochs_pr0.99_uniform_50epochs_lr0.01_CLRS_restest.pth')"
      ],
      "metadata": {
        "id": "TU8wv-8hpzit",
        "colab": {
          "base_uri": "https://localhost:8080/"
        },
        "outputId": "3f5f4636-9e0b-4196-ba0d-a03fafad2f72"
      },
      "execution_count": 25,
      "outputs": [
        {
          "output_type": "stream",
          "name": "stdout",
          "text": [
            "Epoch [1/50], Train Accuracy: 4.71 %, Loss: 4.2969\n",
            "Epoch [1/50], Learning Rate: 0.0001\n",
            "Epoch [2/50], Train Accuracy: 14.072 %, Loss: 4.0258\n",
            "Epoch [2/50], Learning Rate: 0.00208\n",
            "Epoch [3/50], Train Accuracy: 24.656 %, Loss: 2.9359\n",
            "Epoch [3/50], Learning Rate: 0.00406\n",
            "Epoch [4/50], Train Accuracy: 30.536 %, Loss: 2.8412\n",
            "Epoch [4/50], Learning Rate: 0.00604\n",
            "Epoch [5/50], Train Accuracy: 33.256 %, Loss: 2.5289\n",
            "Epoch [5/50], Learning Rate: 0.00802\n",
            "Epoch [6/50], Train Accuracy: 35.192 %, Loss: 2.4012\n",
            "Epoch [6/50], Learning Rate: 0.01\n",
            "Epoch [7/50], Train Accuracy: 35.98 %, Loss: 2.4537\n",
            "Epoch [7/50], Learning Rate: 0.009990232305719944\n",
            "Epoch [8/50], Train Accuracy: 37.252 %, Loss: 2.4564\n",
            "Epoch [8/50], Learning Rate: 0.009960967771506667\n",
            "Epoch [9/50], Train Accuracy: 38.648 %, Loss: 2.3390\n",
            "Epoch [9/50], Learning Rate: 0.00991232189110701\n",
            "Epoch [10/50], Train Accuracy: 39.408 %, Loss: 2.3951\n",
            "Epoch [10/50], Learning Rate: 0.009844486647586723\n",
            "Epoch [11/50], Train Accuracy: 40.412 %, Loss: 2.3491\n",
            "Epoch [11/50], Learning Rate: 0.009757729755661011\n",
            "Epoch [12/50], Train Accuracy: 40.896 %, Loss: 2.3608\n",
            "Epoch [12/50], Learning Rate: 0.009652393605146845\n",
            "Epoch [13/50], Train Accuracy: 41.884 %, Loss: 2.2458\n",
            "Epoch [13/50], Learning Rate: 0.009528893909706798\n",
            "Epoch [14/50], Train Accuracy: 41.66 %, Loss: 2.3236\n",
            "Epoch [14/50], Learning Rate: 0.009387718066217124\n",
            "Epoch [15/50], Train Accuracy: 42.468 %, Loss: 2.2317\n",
            "Epoch [15/50], Learning Rate: 0.009229423231234974\n",
            "Epoch [16/50], Train Accuracy: 42.778 %, Loss: 2.2173\n",
            "Epoch [16/50], Learning Rate: 0.00905463412215599\n",
            "Epoch [17/50], Train Accuracy: 43.356 %, Loss: 2.0794\n",
            "Epoch [17/50], Learning Rate: 0.008864040551740157\n",
            "Epoch [18/50], Train Accuracy: 43.482 %, Loss: 2.2944\n",
            "Epoch [18/50], Learning Rate: 0.008658394705735987\n",
            "Epoch [19/50], Train Accuracy: 43.85 %, Loss: 2.0099\n",
            "Epoch [19/50], Learning Rate: 0.00843850817434701\n",
            "Epoch [20/50], Train Accuracy: 44.28 %, Loss: 2.1618\n",
            "Epoch [20/50], Learning Rate: 0.008205248749256015\n",
            "Epoch [21/50], Train Accuracy: 44.756 %, Loss: 2.0010\n",
            "Epoch [21/50], Learning Rate: 0.007959536998847744\n",
            "Epoch [22/50], Train Accuracy: 44.96 %, Loss: 2.1262\n",
            "Epoch [22/50], Learning Rate: 0.007702342635146034\n",
            "Epoch [23/50], Train Accuracy: 45.05 %, Loss: 2.0737\n",
            "Epoch [23/50], Learning Rate: 0.007434680686803491\n",
            "Epoch [24/50], Train Accuracy: 45.322 %, Loss: 2.1924\n",
            "Epoch [24/50], Learning Rate: 0.0071576074932471105\n",
            "Epoch [25/50], Train Accuracy: 45.928 %, Loss: 2.0105\n",
            "Epoch [25/50], Learning Rate: 0.006872216535789157\n",
            "Epoch [26/50], Train Accuracy: 46.076 %, Loss: 2.1965\n",
            "Epoch [26/50], Learning Rate: 0.006579634122155991\n",
            "Epoch [27/50], Train Accuracy: 46.098 %, Loss: 1.9594\n",
            "Epoch [27/50], Learning Rate: 0.0062810149414660316\n",
            "Epoch [28/50], Train Accuracy: 46.314 %, Loss: 2.1869\n",
            "Epoch [28/50], Learning Rate: 0.005977537507199339\n",
            "Epoch [29/50], Train Accuracy: 46.568 %, Loss: 1.9038\n",
            "Epoch [29/50], Learning Rate: 0.005670399506143308\n",
            "Epoch [30/50], Train Accuracy: 47.212 %, Loss: 1.9074\n",
            "Epoch [30/50], Learning Rate: 0.005360813071670102\n",
            "Epoch [31/50], Train Accuracy: 47.446 %, Loss: 2.0914\n",
            "Epoch [31/50], Learning Rate: 0.005050000000000001\n",
            "Epoch [32/50], Train Accuracy: 47.606 %, Loss: 1.9159\n",
            "Epoch [32/50], Learning Rate: 0.004739186928329899\n",
            "Epoch [33/50], Train Accuracy: 47.884 %, Loss: 2.0157\n",
            "Epoch [33/50], Learning Rate: 0.004429600493856695\n",
            "Epoch [34/50], Train Accuracy: 48.234 %, Loss: 2.0239\n",
            "Epoch [34/50], Learning Rate: 0.0041224624928006635\n",
            "Epoch [35/50], Train Accuracy: 48.15 %, Loss: 2.0582\n",
            "Epoch [35/50], Learning Rate: 0.0038189850585339685\n",
            "Epoch [36/50], Train Accuracy: 48.406 %, Loss: 1.9557\n",
            "Epoch [36/50], Learning Rate: 0.003520365877844012\n",
            "Epoch [37/50], Train Accuracy: 48.788 %, Loss: 2.0608\n",
            "Epoch [37/50], Learning Rate: 0.0032277834642108457\n",
            "Epoch [38/50], Train Accuracy: 48.818 %, Loss: 1.8937\n",
            "Epoch [38/50], Learning Rate: 0.0029423925067528904\n",
            "Epoch [39/50], Train Accuracy: 48.998 %, Loss: 2.0480\n",
            "Epoch [39/50], Learning Rate: 0.002665319313196509\n",
            "Epoch [40/50], Train Accuracy: 49.046 %, Loss: 1.9852\n",
            "Epoch [40/50], Learning Rate: 0.0023976573648539653\n",
            "Epoch [41/50], Train Accuracy: 49.432 %, Loss: 1.9979\n",
            "Epoch [41/50], Learning Rate: 0.0021404630011522584\n",
            "Epoch [42/50], Train Accuracy: 49.75 %, Loss: 2.0083\n",
            "Epoch [42/50], Learning Rate: 0.001894751250743986\n",
            "Epoch [43/50], Train Accuracy: 49.768 %, Loss: 2.0029\n",
            "Epoch [43/50], Learning Rate: 0.001661491825652991\n",
            "Epoch [44/50], Train Accuracy: 49.822 %, Loss: 1.9520\n",
            "Epoch [44/50], Learning Rate: 0.001441605294264014\n",
            "Epoch [45/50], Train Accuracy: 50.504 %, Loss: 2.0417\n",
            "Epoch [45/50], Learning Rate: 0.001235959448259844\n",
            "Epoch [46/50], Train Accuracy: 50.212 %, Loss: 1.9092\n",
            "Epoch [46/50], Learning Rate: 0.0010453658778440107\n",
            "Epoch [47/50], Train Accuracy: 50.524 %, Loss: 1.8187\n",
            "Epoch [47/50], Learning Rate: 0.0008705767687650265\n",
            "Epoch [48/50], Train Accuracy: 50.494 %, Loss: 1.7860\n",
            "Epoch [48/50], Learning Rate: 0.0007122819337828754\n",
            "Epoch [49/50], Train Accuracy: 50.788 %, Loss: 1.9095\n",
            "Epoch [49/50], Learning Rate: 0.0005711060902932043\n",
            "Epoch [50/50], Train Accuracy: 50.896 %, Loss: 1.9768\n",
            "Epoch [50/50], Learning Rate: 0.00044760639485315584\n"
          ]
        }
      ]
    },
    {
      "cell_type": "code",
      "source": [
        "# モデルの刈り込み率を計算する関数を作成\n",
        "def calculate_pruned_ratio(model):\n",
        "    total_weights = 0\n",
        "    total_pruned_weights = 0\n",
        "\n",
        "    for module in model.modules():\n",
        "        # モジュールがSupermaskConvであるか確認\n",
        "        if isinstance(module, SupermaskConv):\n",
        "            # SupermaskConv層の重みを取得\n",
        "            weight = module.weight.data\n",
        "            # 刈り込みを適用した後の重みを取得\n",
        "            subnet = GetSubnet.apply(module.clamped_scores, 1 - module.prune_rate)\n",
        "            pruned_weight = weight * subnet\n",
        "            # 0である要素数を計算\n",
        "            pruned_weights_count = (pruned_weight == 0).sum().item()\n",
        "            total_pruned_weights += pruned_weights_count\n",
        "            # 重みの全要素数を計算\n",
        "            total_weights_count = pruned_weight.numel()\n",
        "            total_weights += total_weights_count\n",
        "\n",
        "    # 刈り込みが行われた割合を計算\n",
        "    pruned_ratio = total_pruned_weights / total_weights\n",
        "    return print(f\"刈り込み率は{pruned_ratio:.3f}です\")\n",
        "\n",
        "# モデルの刈り込み率を確認\n",
        "calculate_pruned_ratio(model)"
      ],
      "metadata": {
        "id": "v-An9AWNpziu",
        "colab": {
          "base_uri": "https://localhost:8080/"
        },
        "outputId": "2444b210-74ed-40c8-fa91-88b02fb25ac6"
      },
      "execution_count": 26,
      "outputs": [
        {
          "output_type": "stream",
          "name": "stdout",
          "text": [
            "刈り込み率は0.990です\n"
          ]
        }
      ]
    },
    {
      "cell_type": "code",
      "source": [
        "# 学習前後のモデルのスコアを比較する関数を作成\n",
        "def check_scores_change(model, model_init):\n",
        "    # 各モデルの名前付きモジュールを順に調べる\n",
        "    for (name, module), (name_init, module_init) in zip(model.named_modules(), model_init.named_modules()):\n",
        "        # 両モジュールがConv2dのインスタンスであるかを確認\n",
        "        if isinstance(module, torch.nn.Conv2d) and isinstance(module_init, torch.nn.Conv2d):\n",
        "            # 両モジュールが'scores'属性を持っているかを確認\n",
        "            if hasattr(module, 'scores') and hasattr(module_init, 'scores'):\n",
        "                # 両モジュールの'scores'属性が一致しているかを確認\n",
        "                # 一致していない場合、変更があったことを示すメッセージを出力\n",
        "                if not torch.equal(module.scores, module_init.scores):\n",
        "                    print(f'{name}のスコアが変化しています')\n",
        "                    return\n",
        "    # すべてのconv層で'scores'が変更されていない場合、その旨を出力\n",
        "    print('すべてのスコアは変化していません')\n",
        "\n",
        "# 学習前後でモデルのスコアが変化していないかを確認\n",
        "check_scores_change(model, model_init)"
      ],
      "metadata": {
        "id": "mHvzdVrrpziu",
        "colab": {
          "base_uri": "https://localhost:8080/"
        },
        "outputId": "83d3afcb-48e9-46a4-fac5-50e27e133d86"
      },
      "execution_count": 27,
      "outputs": [
        {
          "output_type": "stream",
          "name": "stdout",
          "text": [
            "すべてのスコアは変化していません\n"
          ]
        }
      ]
    },
    {
      "cell_type": "code",
      "source": [
        "# 学習前後のモデルの最終層以外の重みを比較する関数を作成\n",
        "def check_weight_change_except_last(model, model_init):\n",
        "    for (name, param), (name_init, param_init) in zip(model.named_parameters(), model_init.named_parameters()):\n",
        "        # 最終層を除く\n",
        "        if name != 'fc.weight' and name != 'fc.bias':\n",
        "            weights_changed = (param.data != param_init.data).any()\n",
        "            if weights_changed:\n",
        "                return print('最終層以外の重みが変化しています')\n",
        "    return print('最終層以外の重みは変化していません')\n",
        "\n",
        "# 学習前後でモデルの最終層以外の重みが変化していないかを確認\n",
        "check_weight_change_except_last(model, model_init)"
      ],
      "metadata": {
        "id": "h6zL_iAfpziu",
        "colab": {
          "base_uri": "https://localhost:8080/"
        },
        "outputId": "1decc446-9b91-4fa9-de66-c521310ae2c9"
      },
      "execution_count": 28,
      "outputs": [
        {
          "output_type": "stream",
          "name": "stdout",
          "text": [
            "最終層以外の重みは変化していません\n"
          ]
        }
      ]
    },
    {
      "cell_type": "code",
      "source": [
        "# モデルの評価\n",
        "model.eval()\n",
        "with torch.no_grad():\n",
        "    total = 0\n",
        "    correct = 0\n",
        "    for images, labels in test_loader_cifar100:\n",
        "        images = images.to(device)\n",
        "        labels = labels.to(device)\n",
        "        outputs = model(images)\n",
        "        _, predicted = torch.max(outputs.data, 1)\n",
        "        total += labels.size(0)\n",
        "        correct += (predicted == labels).sum().item()\n",
        "    # 正解率精度の確認\n",
        "    print('Test Accuracy: {} %'.format(100 * correct / total))"
      ],
      "metadata": {
        "id": "Gn0LIrVEpziu",
        "colab": {
          "base_uri": "https://localhost:8080/"
        },
        "outputId": "8fe32313-ebfb-4f5b-d613-dc61fd1c05b5"
      },
      "execution_count": 29,
      "outputs": [
        {
          "output_type": "stream",
          "name": "stdout",
          "text": [
            "Test Accuracy: 50.15 %\n"
          ]
        }
      ]
    },
    {
      "cell_type": "code",
      "source": [
        "# GPUメモリの解放\n",
        "del model, model_init\n",
        "torch.cuda.empty_cache()"
      ],
      "metadata": {
        "id": "pKv1NeZFpziu"
      },
      "execution_count": 30,
      "outputs": []
    },
    {
      "cell_type": "markdown",
      "source": [
        "### prune_rate=0.95"
      ],
      "metadata": {
        "id": "_6ADYB7Wp6FQ"
      }
    },
    {
      "cell_type": "code",
      "source": [
        "# デバイスを設定\n",
        "device = torch.device('cuda' if torch.cuda.is_available() else 'cpu')\n",
        "# モデルを定義\n",
        "model = torch.load('/content/drive/MyDrive/SupermaskWideResNet28_10_CIFAR10_100epochs_pr0.95_uniform_CLRS_restest.pth')\n",
        "# 最終層を変更\n",
        "model.fc = nn.Linear(model.fc.in_features, 100)\n",
        "# 最終層以外のパラメータの勾配計算を停止\n",
        "for param in model.parameters():\n",
        "    param.requires_grad = False\n",
        "# 最終層のパラメータのみを学習するように設定\n",
        "for param in model.fc.parameters():\n",
        "    param.requires_grad = True\n",
        "# モデルをデバイスに転送\n",
        "model = model.to(device)\n",
        "# 変更後のモデルの重みを保存\n",
        "model_init = copy.deepcopy(model)\n",
        "\n",
        "# 学習率を設定\n",
        "learning_rate = 0.01\n",
        "# 全体のepoch数を設定\n",
        "num_epochs = 50\n",
        "# warm-upするepoch数を設定\n",
        "warmup_epochs = 5\n",
        "\n",
        "# 損失関数を定義\n",
        "criterion = nn.CrossEntropyLoss()\n",
        "# オプティマイザーを設定\n",
        "optimizer = optim.Adam(model.fc.parameters(), lr=learning_rate)\n",
        "# スケジューラーを設定\n",
        "scheduler = CosineLRScheduler(optimizer, t_initial=num_epochs, lr_min=1e-4, warmup_t=warmup_epochs, warmup_lr_init=1e-4, warmup_prefix=True)\n",
        "\n",
        "# モデルの学習\n",
        "for epoch in range(num_epochs):\n",
        "    total = 0\n",
        "    correct = 0\n",
        "    for i, (images, labels) in enumerate(train_loader_cifar100):\n",
        "        images = images.to(device)\n",
        "        labels = labels.to(device)\n",
        "        # 順伝播\n",
        "        outputs = model(images)\n",
        "        loss = criterion(outputs, labels)\n",
        "        # 逆伝播\n",
        "        optimizer.zero_grad()\n",
        "        loss.backward()\n",
        "        optimizer.step()\n",
        "        _, predicted = torch.max(outputs.data, 1)\n",
        "        # 全データ数\n",
        "        total += labels.size(0)\n",
        "        # 正解数\n",
        "        correct += (predicted == labels).sum().item()\n",
        "    # 正解率精度を計算\n",
        "    train_acc = 100 * correct / total\n",
        "    # 正解率精度と損失を確認\n",
        "    print(\"Epoch [{}/{}], Train Accuracy: {} %, Loss: {:.4f}\".format(epoch+1, num_epochs, 100 * correct / total, loss.item()))\n",
        "    # 1エポック終了後にスケジューラーを更新\n",
        "    scheduler.step(epoch)\n",
        "    # 学習率の確認\n",
        "    print(\"Epoch [{}/{}], Learning Rate: {}\".format(epoch+1, num_epochs, optimizer.param_groups[0]['lr']))\n",
        "\n",
        "\n",
        "# モデルを保存\n",
        "torch.save(model, '/content/drive/MyDrive/SupermaskWideResNet28_10_CIFAR100_from_CIFAR10_100epochs_pr0.95_uniform_50epochs_lr0.01_CLRS_restest.pth')"
      ],
      "metadata": {
        "id": "3xDoTvA6qB5k",
        "colab": {
          "base_uri": "https://localhost:8080/"
        },
        "outputId": "c68af546-7d70-4ec8-d018-1e088aa730e8"
      },
      "execution_count": 31,
      "outputs": [
        {
          "output_type": "stream",
          "name": "stdout",
          "text": [
            "Epoch [1/50], Train Accuracy: 5.716 %, Loss: 4.1947\n",
            "Epoch [1/50], Learning Rate: 0.0001\n",
            "Epoch [2/50], Train Accuracy: 13.586 %, Loss: 3.8826\n",
            "Epoch [2/50], Learning Rate: 0.00208\n",
            "Epoch [3/50], Train Accuracy: 21.714 %, Loss: 3.1225\n",
            "Epoch [3/50], Learning Rate: 0.00406\n",
            "Epoch [4/50], Train Accuracy: 28.202 %, Loss: 2.6982\n",
            "Epoch [4/50], Learning Rate: 0.00604\n",
            "Epoch [5/50], Train Accuracy: 31.826 %, Loss: 2.5374\n",
            "Epoch [5/50], Learning Rate: 0.00802\n",
            "Epoch [6/50], Train Accuracy: 34.278 %, Loss: 2.5072\n",
            "Epoch [6/50], Learning Rate: 0.01\n",
            "Epoch [7/50], Train Accuracy: 35.402 %, Loss: 2.4011\n",
            "Epoch [7/50], Learning Rate: 0.009990232305719944\n",
            "Epoch [8/50], Train Accuracy: 37.94 %, Loss: 2.5374\n",
            "Epoch [8/50], Learning Rate: 0.009960967771506667\n",
            "Epoch [9/50], Train Accuracy: 38.912 %, Loss: 2.2793\n",
            "Epoch [9/50], Learning Rate: 0.00991232189110701\n",
            "Epoch [10/50], Train Accuracy: 40.41 %, Loss: 2.3602\n",
            "Epoch [10/50], Learning Rate: 0.009844486647586723\n",
            "Epoch [11/50], Train Accuracy: 41.348 %, Loss: 2.1807\n",
            "Epoch [11/50], Learning Rate: 0.009757729755661011\n",
            "Epoch [12/50], Train Accuracy: 41.546 %, Loss: 2.1869\n",
            "Epoch [12/50], Learning Rate: 0.009652393605146845\n",
            "Epoch [13/50], Train Accuracy: 42.678 %, Loss: 2.1446\n",
            "Epoch [13/50], Learning Rate: 0.009528893909706798\n",
            "Epoch [14/50], Train Accuracy: 43.53 %, Loss: 2.0802\n",
            "Epoch [14/50], Learning Rate: 0.009387718066217124\n",
            "Epoch [15/50], Train Accuracy: 43.516 %, Loss: 2.0274\n",
            "Epoch [15/50], Learning Rate: 0.009229423231234974\n",
            "Epoch [16/50], Train Accuracy: 44.402 %, Loss: 2.1028\n",
            "Epoch [16/50], Learning Rate: 0.00905463412215599\n",
            "Epoch [17/50], Train Accuracy: 44.32 %, Loss: 2.0764\n",
            "Epoch [17/50], Learning Rate: 0.008864040551740157\n",
            "Epoch [18/50], Train Accuracy: 45.3 %, Loss: 2.0351\n",
            "Epoch [18/50], Learning Rate: 0.008658394705735987\n",
            "Epoch [19/50], Train Accuracy: 45.93 %, Loss: 1.9728\n",
            "Epoch [19/50], Learning Rate: 0.00843850817434701\n",
            "Epoch [20/50], Train Accuracy: 46.14 %, Loss: 2.0588\n",
            "Epoch [20/50], Learning Rate: 0.008205248749256015\n",
            "Epoch [21/50], Train Accuracy: 46.16 %, Loss: 2.0315\n",
            "Epoch [21/50], Learning Rate: 0.007959536998847744\n",
            "Epoch [22/50], Train Accuracy: 46.892 %, Loss: 2.0073\n",
            "Epoch [22/50], Learning Rate: 0.007702342635146034\n",
            "Epoch [23/50], Train Accuracy: 46.75 %, Loss: 2.2323\n",
            "Epoch [23/50], Learning Rate: 0.007434680686803491\n",
            "Epoch [24/50], Train Accuracy: 47.67 %, Loss: 1.8000\n",
            "Epoch [24/50], Learning Rate: 0.0071576074932471105\n",
            "Epoch [25/50], Train Accuracy: 48.22 %, Loss: 1.9162\n",
            "Epoch [25/50], Learning Rate: 0.006872216535789157\n",
            "Epoch [26/50], Train Accuracy: 48.386 %, Loss: 1.8510\n",
            "Epoch [26/50], Learning Rate: 0.006579634122155991\n",
            "Epoch [27/50], Train Accuracy: 48.578 %, Loss: 2.0397\n",
            "Epoch [27/50], Learning Rate: 0.0062810149414660316\n",
            "Epoch [28/50], Train Accuracy: 48.68 %, Loss: 1.8700\n",
            "Epoch [28/50], Learning Rate: 0.005977537507199339\n",
            "Epoch [29/50], Train Accuracy: 49.198 %, Loss: 1.6890\n",
            "Epoch [29/50], Learning Rate: 0.005670399506143308\n",
            "Epoch [30/50], Train Accuracy: 49.588 %, Loss: 1.9507\n",
            "Epoch [30/50], Learning Rate: 0.005360813071670102\n",
            "Epoch [31/50], Train Accuracy: 49.656 %, Loss: 1.9466\n",
            "Epoch [31/50], Learning Rate: 0.005050000000000001\n",
            "Epoch [32/50], Train Accuracy: 50.026 %, Loss: 1.8730\n",
            "Epoch [32/50], Learning Rate: 0.004739186928329899\n",
            "Epoch [33/50], Train Accuracy: 50.38 %, Loss: 1.6568\n",
            "Epoch [33/50], Learning Rate: 0.004429600493856695\n",
            "Epoch [34/50], Train Accuracy: 50.362 %, Loss: 1.9110\n",
            "Epoch [34/50], Learning Rate: 0.0041224624928006635\n",
            "Epoch [35/50], Train Accuracy: 50.618 %, Loss: 1.9596\n",
            "Epoch [35/50], Learning Rate: 0.0038189850585339685\n",
            "Epoch [36/50], Train Accuracy: 51.18 %, Loss: 1.8069\n",
            "Epoch [36/50], Learning Rate: 0.003520365877844012\n",
            "Epoch [37/50], Train Accuracy: 51.27 %, Loss: 1.7949\n",
            "Epoch [37/50], Learning Rate: 0.0032277834642108457\n",
            "Epoch [38/50], Train Accuracy: 51.608 %, Loss: 1.7480\n",
            "Epoch [38/50], Learning Rate: 0.0029423925067528904\n",
            "Epoch [39/50], Train Accuracy: 51.714 %, Loss: 1.8994\n",
            "Epoch [39/50], Learning Rate: 0.002665319313196509\n",
            "Epoch [40/50], Train Accuracy: 52.008 %, Loss: 1.7889\n",
            "Epoch [40/50], Learning Rate: 0.0023976573648539653\n",
            "Epoch [41/50], Train Accuracy: 52.276 %, Loss: 1.9207\n",
            "Epoch [41/50], Learning Rate: 0.0021404630011522584\n",
            "Epoch [42/50], Train Accuracy: 52.432 %, Loss: 1.8043\n",
            "Epoch [42/50], Learning Rate: 0.001894751250743986\n",
            "Epoch [43/50], Train Accuracy: 52.568 %, Loss: 1.8461\n",
            "Epoch [43/50], Learning Rate: 0.001661491825652991\n",
            "Epoch [44/50], Train Accuracy: 52.612 %, Loss: 1.7678\n",
            "Epoch [44/50], Learning Rate: 0.001441605294264014\n",
            "Epoch [45/50], Train Accuracy: 52.968 %, Loss: 1.6908\n",
            "Epoch [45/50], Learning Rate: 0.001235959448259844\n",
            "Epoch [46/50], Train Accuracy: 53.396 %, Loss: 1.6628\n",
            "Epoch [46/50], Learning Rate: 0.0010453658778440107\n",
            "Epoch [47/50], Train Accuracy: 53.55 %, Loss: 1.8788\n",
            "Epoch [47/50], Learning Rate: 0.0008705767687650265\n",
            "Epoch [48/50], Train Accuracy: 53.672 %, Loss: 1.6539\n",
            "Epoch [48/50], Learning Rate: 0.0007122819337828754\n",
            "Epoch [49/50], Train Accuracy: 53.894 %, Loss: 1.6847\n",
            "Epoch [49/50], Learning Rate: 0.0005711060902932043\n",
            "Epoch [50/50], Train Accuracy: 53.792 %, Loss: 1.5645\n",
            "Epoch [50/50], Learning Rate: 0.00044760639485315584\n"
          ]
        }
      ]
    },
    {
      "cell_type": "code",
      "source": [
        "# モデルの刈り込み率を計算する関数を作成\n",
        "def calculate_pruned_ratio(model):\n",
        "    total_weights = 0\n",
        "    total_pruned_weights = 0\n",
        "\n",
        "    for module in model.modules():\n",
        "        # モジュールがSupermaskConvであるか確認\n",
        "        if isinstance(module, SupermaskConv):\n",
        "            # SupermaskConv層の重みを取得\n",
        "            weight = module.weight.data\n",
        "            # 刈り込みを適用した後の重みを取得\n",
        "            subnet = GetSubnet.apply(module.clamped_scores, 1 - module.prune_rate)\n",
        "            pruned_weight = weight * subnet\n",
        "            # 0である要素数を計算\n",
        "            pruned_weights_count = (pruned_weight == 0).sum().item()\n",
        "            total_pruned_weights += pruned_weights_count\n",
        "            # 重みの全要素数を計算\n",
        "            total_weights_count = pruned_weight.numel()\n",
        "            total_weights += total_weights_count\n",
        "\n",
        "    # 刈り込みが行われた割合を計算\n",
        "    pruned_ratio = total_pruned_weights / total_weights\n",
        "    return print(f\"刈り込み率は{pruned_ratio:.3f}です\")\n",
        "\n",
        "# モデルの刈り込み率を確認\n",
        "calculate_pruned_ratio(model)"
      ],
      "metadata": {
        "id": "n3NzFshJp6FR",
        "colab": {
          "base_uri": "https://localhost:8080/"
        },
        "outputId": "d4020e8c-a5b4-4f98-c8c1-7ba4b33de699"
      },
      "execution_count": 32,
      "outputs": [
        {
          "output_type": "stream",
          "name": "stdout",
          "text": [
            "刈り込み率は0.950です\n"
          ]
        }
      ]
    },
    {
      "cell_type": "code",
      "source": [
        "# 学習前後のモデルのスコアを比較する関数を作成\n",
        "def check_scores_change(model, model_init):\n",
        "    # 各モデルの名前付きモジュールを順に調べる\n",
        "    for (name, module), (name_init, module_init) in zip(model.named_modules(), model_init.named_modules()):\n",
        "        # 両モジュールがConv2dのインスタンスであるかを確認\n",
        "        if isinstance(module, torch.nn.Conv2d) and isinstance(module_init, torch.nn.Conv2d):\n",
        "            # 両モジュールが'scores'属性を持っているかを確認\n",
        "            if hasattr(module, 'scores') and hasattr(module_init, 'scores'):\n",
        "                # 両モジュールの'scores'属性が一致しているかを確認\n",
        "                # 一致していない場合、変更があったことを示すメッセージを出力\n",
        "                if not torch.equal(module.scores, module_init.scores):\n",
        "                    print(f'{name}のスコアが変化しています')\n",
        "                    return\n",
        "    # すべてのconv層で'scores'が変更されていない場合、その旨を出力\n",
        "    print('すべてのスコアは変化していません')\n",
        "\n",
        "# 学習前後でモデルのスコアが変化していないかを確認\n",
        "check_scores_change(model, model_init)"
      ],
      "metadata": {
        "id": "CpNLpONSp6FS",
        "colab": {
          "base_uri": "https://localhost:8080/"
        },
        "outputId": "2547aba8-382e-48a2-ba4f-54fce0cb45e6"
      },
      "execution_count": 33,
      "outputs": [
        {
          "output_type": "stream",
          "name": "stdout",
          "text": [
            "すべてのスコアは変化していません\n"
          ]
        }
      ]
    },
    {
      "cell_type": "code",
      "source": [
        "# 学習前後のモデルの最終層以外の重みを比較する関数を作成\n",
        "def check_weight_change_except_last(model, model_init):\n",
        "    for (name, param), (name_init, param_init) in zip(model.named_parameters(), model_init.named_parameters()):\n",
        "        # 最終層を除く\n",
        "        if name != 'fc.weight' and name != 'fc.bias':\n",
        "            weights_changed = (param.data != param_init.data).any()\n",
        "            if weights_changed:\n",
        "                return print('最終層以外の重みが変化しています')\n",
        "    return print('最終層以外の重みは変化していません')\n",
        "\n",
        "# 学習前後でモデルの最終層以外の重みが変化していないかを確認\n",
        "check_weight_change_except_last(model, model_init)"
      ],
      "metadata": {
        "id": "ZzTrzJ3ip6FS",
        "colab": {
          "base_uri": "https://localhost:8080/"
        },
        "outputId": "5759bfc3-6a40-48f8-c295-bc49cab2c3d8"
      },
      "execution_count": 34,
      "outputs": [
        {
          "output_type": "stream",
          "name": "stdout",
          "text": [
            "最終層以外の重みは変化していません\n"
          ]
        }
      ]
    },
    {
      "cell_type": "code",
      "source": [
        "# モデルの評価\n",
        "model.eval()\n",
        "with torch.no_grad():\n",
        "    total = 0\n",
        "    correct = 0\n",
        "    for images, labels in test_loader_cifar100:\n",
        "        images = images.to(device)\n",
        "        labels = labels.to(device)\n",
        "        outputs = model(images)\n",
        "        _, predicted = torch.max(outputs.data, 1)\n",
        "        total += labels.size(0)\n",
        "        correct += (predicted == labels).sum().item()\n",
        "    # 正解率精度の確認\n",
        "    print('Test Accuracy: {} %'.format(100 * correct / total))"
      ],
      "metadata": {
        "id": "shsBdnlYp6FS",
        "colab": {
          "base_uri": "https://localhost:8080/"
        },
        "outputId": "37acb8ee-a14c-47a5-9984-528b80b896e1"
      },
      "execution_count": 35,
      "outputs": [
        {
          "output_type": "stream",
          "name": "stdout",
          "text": [
            "Test Accuracy: 51.44 %\n"
          ]
        }
      ]
    },
    {
      "cell_type": "code",
      "source": [
        "# GPUメモリの解放\n",
        "del model, model_init\n",
        "torch.cuda.empty_cache()"
      ],
      "metadata": {
        "id": "M5kErUQsp6FS"
      },
      "execution_count": 36,
      "outputs": []
    },
    {
      "cell_type": "markdown",
      "source": [
        "### prune_rate=0.9"
      ],
      "metadata": {
        "id": "JZemFpwOqHR-"
      }
    },
    {
      "cell_type": "code",
      "source": [
        "# デバイスを設定\n",
        "device = torch.device('cuda' if torch.cuda.is_available() else 'cpu')\n",
        "# モデルを定義\n",
        "model = torch.load('/content/drive/MyDrive/SupermaskWideResNet28_10_CIFAR10_100epochs_pr0.9_uniform_CLRS_restest.pth')\n",
        "# 最終層を変更\n",
        "model.fc = nn.Linear(model.fc.in_features, 100)\n",
        "# 最終層以外のパラメータの勾配計算を停止\n",
        "for param in model.parameters():\n",
        "    param.requires_grad = False\n",
        "# 最終層のパラメータのみを学習するように設定\n",
        "for param in model.fc.parameters():\n",
        "    param.requires_grad = True\n",
        "# モデルをデバイスに転送\n",
        "model = model.to(device)\n",
        "# 変更後のモデルの重みを保存\n",
        "model_init = copy.deepcopy(model)\n",
        "\n",
        "# 学習率を設定\n",
        "learning_rate = 0.01\n",
        "# 全体のepoch数を設定\n",
        "num_epochs = 50\n",
        "# warm-upするepoch数を設定\n",
        "warmup_epochs = 5\n",
        "\n",
        "# 損失関数を定義\n",
        "criterion = nn.CrossEntropyLoss()\n",
        "# オプティマイザーを設定\n",
        "optimizer = optim.Adam(model.fc.parameters(), lr=learning_rate)\n",
        "# スケジューラーを設定\n",
        "scheduler = CosineLRScheduler(optimizer, t_initial=num_epochs, lr_min=1e-4, warmup_t=warmup_epochs, warmup_lr_init=1e-4, warmup_prefix=True)\n",
        "\n",
        "# モデルの学習\n",
        "for epoch in range(num_epochs):\n",
        "    total = 0\n",
        "    correct = 0\n",
        "    for i, (images, labels) in enumerate(train_loader_cifar100):\n",
        "        images = images.to(device)\n",
        "        labels = labels.to(device)\n",
        "        # 順伝播\n",
        "        outputs = model(images)\n",
        "        loss = criterion(outputs, labels)\n",
        "        # 逆伝播\n",
        "        optimizer.zero_grad()\n",
        "        loss.backward()\n",
        "        optimizer.step()\n",
        "        _, predicted = torch.max(outputs.data, 1)\n",
        "        # 全データ数\n",
        "        total += labels.size(0)\n",
        "        # 正解数\n",
        "        correct += (predicted == labels).sum().item()\n",
        "    # 正解率精度を計算\n",
        "    train_acc = 100 * correct / total\n",
        "    # 正解率精度と損失を確認\n",
        "    print(\"Epoch [{}/{}], Train Accuracy: {} %, Loss: {:.4f}\".format(epoch+1, num_epochs, 100 * correct / total, loss.item()))\n",
        "    # 1エポック終了後にスケジューラーを更新\n",
        "    scheduler.step(epoch)\n",
        "    # 学習率の確認\n",
        "    print(\"Epoch [{}/{}], Learning Rate: {}\".format(epoch+1, num_epochs, optimizer.param_groups[0]['lr']))\n",
        "\n",
        "\n",
        "# モデルを保存\n",
        "torch.save(model, '/content/drive/MyDrive/SupermaskWideResNet28_10_CIFAR100_from_CIFAR10_100epochs_pr0.9_uniform_50epochs_lr0.01_CLRS_restest.pth')"
      ],
      "metadata": {
        "id": "IH0Apj5PqHR-",
        "colab": {
          "base_uri": "https://localhost:8080/"
        },
        "outputId": "6d6f545b-367f-4810-ca57-b139dabbb1c1"
      },
      "execution_count": 37,
      "outputs": [
        {
          "output_type": "stream",
          "name": "stdout",
          "text": [
            "Epoch [1/50], Train Accuracy: 6.022 %, Loss: 4.1644\n",
            "Epoch [1/50], Learning Rate: 0.0001\n",
            "Epoch [2/50], Train Accuracy: 13.574 %, Loss: 3.8762\n",
            "Epoch [2/50], Learning Rate: 0.00208\n",
            "Epoch [3/50], Train Accuracy: 20.286 %, Loss: 3.0265\n",
            "Epoch [3/50], Learning Rate: 0.00406\n",
            "Epoch [4/50], Train Accuracy: 26.794 %, Loss: 2.8266\n",
            "Epoch [4/50], Learning Rate: 0.00604\n",
            "Epoch [5/50], Train Accuracy: 30.656 %, Loss: 2.5475\n",
            "Epoch [5/50], Learning Rate: 0.00802\n",
            "Epoch [6/50], Train Accuracy: 33.306 %, Loss: 2.7853\n",
            "Epoch [6/50], Learning Rate: 0.01\n",
            "Epoch [7/50], Train Accuracy: 34.756 %, Loss: 2.6046\n",
            "Epoch [7/50], Learning Rate: 0.009990232305719944\n",
            "Epoch [8/50], Train Accuracy: 37.22 %, Loss: 2.3489\n",
            "Epoch [8/50], Learning Rate: 0.009960967771506667\n",
            "Epoch [9/50], Train Accuracy: 38.604 %, Loss: 2.3818\n",
            "Epoch [9/50], Learning Rate: 0.00991232189110701\n",
            "Epoch [10/50], Train Accuracy: 40.048 %, Loss: 2.3804\n",
            "Epoch [10/50], Learning Rate: 0.009844486647586723\n",
            "Epoch [11/50], Train Accuracy: 40.858 %, Loss: 2.3889\n",
            "Epoch [11/50], Learning Rate: 0.009757729755661011\n",
            "Epoch [12/50], Train Accuracy: 41.758 %, Loss: 2.0876\n",
            "Epoch [12/50], Learning Rate: 0.009652393605146845\n",
            "Epoch [13/50], Train Accuracy: 42.358 %, Loss: 2.1069\n",
            "Epoch [13/50], Learning Rate: 0.009528893909706798\n",
            "Epoch [14/50], Train Accuracy: 42.822 %, Loss: 2.1711\n",
            "Epoch [14/50], Learning Rate: 0.009387718066217124\n",
            "Epoch [15/50], Train Accuracy: 43.498 %, Loss: 2.0214\n",
            "Epoch [15/50], Learning Rate: 0.009229423231234974\n",
            "Epoch [16/50], Train Accuracy: 44.01 %, Loss: 2.0325\n",
            "Epoch [16/50], Learning Rate: 0.00905463412215599\n",
            "Epoch [17/50], Train Accuracy: 44.7 %, Loss: 2.1122\n",
            "Epoch [17/50], Learning Rate: 0.008864040551740157\n",
            "Epoch [18/50], Train Accuracy: 45.168 %, Loss: 2.0390\n",
            "Epoch [18/50], Learning Rate: 0.008658394705735987\n",
            "Epoch [19/50], Train Accuracy: 45.206 %, Loss: 1.9305\n",
            "Epoch [19/50], Learning Rate: 0.00843850817434701\n",
            "Epoch [20/50], Train Accuracy: 45.718 %, Loss: 2.1490\n",
            "Epoch [20/50], Learning Rate: 0.008205248749256015\n",
            "Epoch [21/50], Train Accuracy: 45.9 %, Loss: 2.0655\n",
            "Epoch [21/50], Learning Rate: 0.007959536998847744\n",
            "Epoch [22/50], Train Accuracy: 46.408 %, Loss: 2.0895\n",
            "Epoch [22/50], Learning Rate: 0.007702342635146034\n",
            "Epoch [23/50], Train Accuracy: 46.834 %, Loss: 2.0877\n",
            "Epoch [23/50], Learning Rate: 0.007434680686803491\n",
            "Epoch [24/50], Train Accuracy: 47.502 %, Loss: 1.9154\n",
            "Epoch [24/50], Learning Rate: 0.0071576074932471105\n",
            "Epoch [25/50], Train Accuracy: 48.014 %, Loss: 1.8280\n",
            "Epoch [25/50], Learning Rate: 0.006872216535789157\n",
            "Epoch [26/50], Train Accuracy: 48.31 %, Loss: 2.1017\n",
            "Epoch [26/50], Learning Rate: 0.006579634122155991\n",
            "Epoch [27/50], Train Accuracy: 48.586 %, Loss: 1.8982\n",
            "Epoch [27/50], Learning Rate: 0.0062810149414660316\n",
            "Epoch [28/50], Train Accuracy: 48.524 %, Loss: 2.0132\n",
            "Epoch [28/50], Learning Rate: 0.005977537507199339\n",
            "Epoch [29/50], Train Accuracy: 48.972 %, Loss: 2.0659\n",
            "Epoch [29/50], Learning Rate: 0.005670399506143308\n",
            "Epoch [30/50], Train Accuracy: 49.276 %, Loss: 1.8928\n",
            "Epoch [30/50], Learning Rate: 0.005360813071670102\n",
            "Epoch [31/50], Train Accuracy: 49.734 %, Loss: 1.9231\n",
            "Epoch [31/50], Learning Rate: 0.005050000000000001\n",
            "Epoch [32/50], Train Accuracy: 50.07 %, Loss: 1.8773\n",
            "Epoch [32/50], Learning Rate: 0.004739186928329899\n",
            "Epoch [33/50], Train Accuracy: 50.032 %, Loss: 2.0298\n",
            "Epoch [33/50], Learning Rate: 0.004429600493856695\n",
            "Epoch [34/50], Train Accuracy: 50.498 %, Loss: 1.9539\n",
            "Epoch [34/50], Learning Rate: 0.0041224624928006635\n",
            "Epoch [35/50], Train Accuracy: 50.756 %, Loss: 1.9290\n",
            "Epoch [35/50], Learning Rate: 0.0038189850585339685\n",
            "Epoch [36/50], Train Accuracy: 50.93 %, Loss: 1.8527\n",
            "Epoch [36/50], Learning Rate: 0.003520365877844012\n",
            "Epoch [37/50], Train Accuracy: 51.322 %, Loss: 1.9570\n",
            "Epoch [37/50], Learning Rate: 0.0032277834642108457\n",
            "Epoch [38/50], Train Accuracy: 51.454 %, Loss: 1.8299\n",
            "Epoch [38/50], Learning Rate: 0.0029423925067528904\n",
            "Epoch [39/50], Train Accuracy: 51.56 %, Loss: 1.7976\n",
            "Epoch [39/50], Learning Rate: 0.002665319313196509\n",
            "Epoch [40/50], Train Accuracy: 51.96 %, Loss: 1.8694\n",
            "Epoch [40/50], Learning Rate: 0.0023976573648539653\n",
            "Epoch [41/50], Train Accuracy: 52.164 %, Loss: 1.7066\n",
            "Epoch [41/50], Learning Rate: 0.0021404630011522584\n",
            "Epoch [42/50], Train Accuracy: 52.502 %, Loss: 1.7819\n",
            "Epoch [42/50], Learning Rate: 0.001894751250743986\n",
            "Epoch [43/50], Train Accuracy: 52.932 %, Loss: 1.7760\n",
            "Epoch [43/50], Learning Rate: 0.001661491825652991\n",
            "Epoch [44/50], Train Accuracy: 52.678 %, Loss: 1.7875\n",
            "Epoch [44/50], Learning Rate: 0.001441605294264014\n",
            "Epoch [45/50], Train Accuracy: 52.898 %, Loss: 1.6284\n",
            "Epoch [45/50], Learning Rate: 0.001235959448259844\n",
            "Epoch [46/50], Train Accuracy: 53.354 %, Loss: 1.6743\n",
            "Epoch [46/50], Learning Rate: 0.0010453658778440107\n",
            "Epoch [47/50], Train Accuracy: 53.48 %, Loss: 1.8059\n",
            "Epoch [47/50], Learning Rate: 0.0008705767687650265\n",
            "Epoch [48/50], Train Accuracy: 53.376 %, Loss: 1.6178\n",
            "Epoch [48/50], Learning Rate: 0.0007122819337828754\n",
            "Epoch [49/50], Train Accuracy: 53.908 %, Loss: 1.7884\n",
            "Epoch [49/50], Learning Rate: 0.0005711060902932043\n",
            "Epoch [50/50], Train Accuracy: 53.954 %, Loss: 1.7379\n",
            "Epoch [50/50], Learning Rate: 0.00044760639485315584\n"
          ]
        }
      ]
    },
    {
      "cell_type": "code",
      "source": [
        "# モデルの刈り込み率を計算する関数を作成\n",
        "def calculate_pruned_ratio(model):\n",
        "    total_weights = 0\n",
        "    total_pruned_weights = 0\n",
        "\n",
        "    for module in model.modules():\n",
        "        # モジュールがSupermaskConvであるか確認\n",
        "        if isinstance(module, SupermaskConv):\n",
        "            # SupermaskConv層の重みを取得\n",
        "            weight = module.weight.data\n",
        "            # 刈り込みを適用した後の重みを取得\n",
        "            subnet = GetSubnet.apply(module.clamped_scores, 1 - module.prune_rate)\n",
        "            pruned_weight = weight * subnet\n",
        "            # 0である要素数を計算\n",
        "            pruned_weights_count = (pruned_weight == 0).sum().item()\n",
        "            total_pruned_weights += pruned_weights_count\n",
        "            # 重みの全要素数を計算\n",
        "            total_weights_count = pruned_weight.numel()\n",
        "            total_weights += total_weights_count\n",
        "\n",
        "    # 刈り込みが行われた割合を計算\n",
        "    pruned_ratio = total_pruned_weights / total_weights\n",
        "    return print(f\"刈り込み率は{pruned_ratio:.3f}です\")\n",
        "\n",
        "# モデルの刈り込み率を確認\n",
        "calculate_pruned_ratio(model)"
      ],
      "metadata": {
        "id": "tbX-WoiHqHR_",
        "colab": {
          "base_uri": "https://localhost:8080/"
        },
        "outputId": "5f10a736-92c3-4c4c-8c66-dc7cbd3f2af0"
      },
      "execution_count": 38,
      "outputs": [
        {
          "output_type": "stream",
          "name": "stdout",
          "text": [
            "刈り込み率は0.900です\n"
          ]
        }
      ]
    },
    {
      "cell_type": "code",
      "source": [
        "# 学習前後のモデルのスコアを比較する関数を作成\n",
        "def check_scores_change(model, model_init):\n",
        "    # 各モデルの名前付きモジュールを順に調べる\n",
        "    for (name, module), (name_init, module_init) in zip(model.named_modules(), model_init.named_modules()):\n",
        "        # 両モジュールがConv2dのインスタンスであるかを確認\n",
        "        if isinstance(module, torch.nn.Conv2d) and isinstance(module_init, torch.nn.Conv2d):\n",
        "            # 両モジュールが'scores'属性を持っているかを確認\n",
        "            if hasattr(module, 'scores') and hasattr(module_init, 'scores'):\n",
        "                # 両モジュールの'scores'属性が一致しているかを確認\n",
        "                # 一致していない場合、変更があったことを示すメッセージを出力\n",
        "                if not torch.equal(module.scores, module_init.scores):\n",
        "                    print(f'{name}のスコアが変化しています')\n",
        "                    return\n",
        "    # すべてのconv層で'scores'が変更されていない場合、その旨を出力\n",
        "    print('すべてのスコアは変化していません')\n",
        "\n",
        "# 学習前後でモデルのスコアが変化していないかを確認\n",
        "check_scores_change(model, model_init)"
      ],
      "metadata": {
        "id": "Dy8h6ktHqHR_",
        "colab": {
          "base_uri": "https://localhost:8080/"
        },
        "outputId": "0ec8341f-2ee1-45c3-8ded-e83d31b40077"
      },
      "execution_count": 39,
      "outputs": [
        {
          "output_type": "stream",
          "name": "stdout",
          "text": [
            "すべてのスコアは変化していません\n"
          ]
        }
      ]
    },
    {
      "cell_type": "code",
      "source": [
        "# 学習前後のモデルの最終層以外の重みを比較する関数を作成\n",
        "def check_weight_change_except_last(model, model_init):\n",
        "    for (name, param), (name_init, param_init) in zip(model.named_parameters(), model_init.named_parameters()):\n",
        "        # 最終層を除く\n",
        "        if name != 'fc.weight' and name != 'fc.bias':\n",
        "            weights_changed = (param.data != param_init.data).any()\n",
        "            if weights_changed:\n",
        "                return print('最終層以外の重みが変化しています')\n",
        "    return print('最終層以外の重みは変化していません')\n",
        "\n",
        "# 学習前後でモデルの最終層以外の重みが変化していないかを確認\n",
        "check_weight_change_except_last(model, model_init)"
      ],
      "metadata": {
        "id": "HWqTGq1DqHR_",
        "colab": {
          "base_uri": "https://localhost:8080/"
        },
        "outputId": "7f96929b-f7e6-4c0e-f65b-74ad8b8ec0ca"
      },
      "execution_count": 40,
      "outputs": [
        {
          "output_type": "stream",
          "name": "stdout",
          "text": [
            "最終層以外の重みは変化していません\n"
          ]
        }
      ]
    },
    {
      "cell_type": "code",
      "source": [
        "# モデルの評価\n",
        "model.eval()\n",
        "with torch.no_grad():\n",
        "    total = 0\n",
        "    correct = 0\n",
        "    for images, labels in test_loader_cifar100:\n",
        "        images = images.to(device)\n",
        "        labels = labels.to(device)\n",
        "        outputs = model(images)\n",
        "        _, predicted = torch.max(outputs.data, 1)\n",
        "        total += labels.size(0)\n",
        "        correct += (predicted == labels).sum().item()\n",
        "    # 正解率精度の確認\n",
        "    print('Test Accuracy: {} %'.format(100 * correct / total))"
      ],
      "metadata": {
        "id": "z4BAg4wpqHSA",
        "colab": {
          "base_uri": "https://localhost:8080/"
        },
        "outputId": "c900ecd1-9708-4c57-b598-b3e8d0d83869"
      },
      "execution_count": 41,
      "outputs": [
        {
          "output_type": "stream",
          "name": "stdout",
          "text": [
            "Test Accuracy: 51.06 %\n"
          ]
        }
      ]
    },
    {
      "cell_type": "code",
      "source": [
        "# GPUメモリの解放\n",
        "del model, model_init\n",
        "torch.cuda.empty_cache()"
      ],
      "metadata": {
        "id": "Hb_KVRnsqHSA"
      },
      "execution_count": 42,
      "outputs": []
    },
    {
      "cell_type": "markdown",
      "source": [
        "### prune_rate=0.7"
      ],
      "metadata": {
        "id": "Y4UVvVqgqNiG"
      }
    },
    {
      "cell_type": "code",
      "source": [
        "# デバイスを設定\n",
        "device = torch.device('cuda' if torch.cuda.is_available() else 'cpu')\n",
        "# モデルを定義\n",
        "model = torch.load('/content/drive/MyDrive/SupermaskWideResNet28_10_CIFAR10_100epochs_pr0.7_uniform_CLRS_restest.pth')\n",
        "# 最終層を変更\n",
        "model.fc = nn.Linear(model.fc.in_features, 100)\n",
        "# 最終層以外のパラメータの勾配計算を停止\n",
        "for param in model.parameters():\n",
        "    param.requires_grad = False\n",
        "# 最終層のパラメータのみを学習するように設定\n",
        "for param in model.fc.parameters():\n",
        "    param.requires_grad = True\n",
        "# モデルをデバイスに転送\n",
        "model = model.to(device)\n",
        "# 変更後のモデルの重みを保存\n",
        "model_init = copy.deepcopy(model)\n",
        "\n",
        "# 学習率を設定\n",
        "learning_rate = 0.01\n",
        "# 全体のepoch数を設定\n",
        "num_epochs = 50\n",
        "# warm-upするepoch数を設定\n",
        "warmup_epochs = 5\n",
        "\n",
        "# 損失関数を定義\n",
        "criterion = nn.CrossEntropyLoss()\n",
        "# オプティマイザーを設定\n",
        "optimizer = optim.Adam(model.fc.parameters(), lr=learning_rate)\n",
        "# スケジューラーを設定\n",
        "scheduler = CosineLRScheduler(optimizer, t_initial=num_epochs, lr_min=1e-4, warmup_t=warmup_epochs, warmup_lr_init=1e-4, warmup_prefix=True)\n",
        "\n",
        "# モデルの学習\n",
        "for epoch in range(num_epochs):\n",
        "    total = 0\n",
        "    correct = 0\n",
        "    for i, (images, labels) in enumerate(train_loader_cifar100):\n",
        "        images = images.to(device)\n",
        "        labels = labels.to(device)\n",
        "        # 順伝播\n",
        "        outputs = model(images)\n",
        "        loss = criterion(outputs, labels)\n",
        "        # 逆伝播\n",
        "        optimizer.zero_grad()\n",
        "        loss.backward()\n",
        "        optimizer.step()\n",
        "        _, predicted = torch.max(outputs.data, 1)\n",
        "        # 全データ数\n",
        "        total += labels.size(0)\n",
        "        # 正解数\n",
        "        correct += (predicted == labels).sum().item()\n",
        "    # 正解率精度を計算\n",
        "    train_acc = 100 * correct / total\n",
        "    # 正解率精度と損失を確認\n",
        "    print(\"Epoch [{}/{}], Train Accuracy: {} %, Loss: {:.4f}\".format(epoch+1, num_epochs, 100 * correct / total, loss.item()))\n",
        "    # 1エポック終了後にスケジューラーを更新\n",
        "    scheduler.step(epoch)\n",
        "    # 学習率の確認\n",
        "    print(\"Epoch [{}/{}], Learning Rate: {}\".format(epoch+1, num_epochs, optimizer.param_groups[0]['lr']))\n",
        "\n",
        "\n",
        "# モデルを保存\n",
        "torch.save(model, '/content/drive/MyDrive/SupermaskWideResNet28_10_CIFAR100_from_CIFAR10_100epochs_pr0.7_uniform_50epochs_lr0.01_CLRS_restest.pth')"
      ],
      "metadata": {
        "id": "nxuTMT2UqNiH",
        "colab": {
          "base_uri": "https://localhost:8080/"
        },
        "outputId": "3cc8798b-65b6-44f7-8360-5d3d6ebb8810"
      },
      "execution_count": 43,
      "outputs": [
        {
          "output_type": "stream",
          "name": "stdout",
          "text": [
            "Epoch [1/50], Train Accuracy: 5.676 %, Loss: 4.2255\n",
            "Epoch [1/50], Learning Rate: 0.0001\n",
            "Epoch [2/50], Train Accuracy: 12.002 %, Loss: 4.0286\n",
            "Epoch [2/50], Learning Rate: 0.00208\n",
            "Epoch [3/50], Train Accuracy: 19.606 %, Loss: 3.1067\n",
            "Epoch [3/50], Learning Rate: 0.00406\n",
            "Epoch [4/50], Train Accuracy: 26.212 %, Loss: 2.9099\n",
            "Epoch [4/50], Learning Rate: 0.00604\n",
            "Epoch [5/50], Train Accuracy: 30.392 %, Loss: 2.6654\n",
            "Epoch [5/50], Learning Rate: 0.00802\n",
            "Epoch [6/50], Train Accuracy: 33.562 %, Loss: 2.5126\n",
            "Epoch [6/50], Learning Rate: 0.01\n",
            "Epoch [7/50], Train Accuracy: 35.124 %, Loss: 2.5860\n",
            "Epoch [7/50], Learning Rate: 0.009990232305719944\n",
            "Epoch [8/50], Train Accuracy: 37.328 %, Loss: 2.5986\n",
            "Epoch [8/50], Learning Rate: 0.009960967771506667\n",
            "Epoch [9/50], Train Accuracy: 39.4 %, Loss: 2.2659\n",
            "Epoch [9/50], Learning Rate: 0.00991232189110701\n",
            "Epoch [10/50], Train Accuracy: 40.364 %, Loss: 2.2413\n",
            "Epoch [10/50], Learning Rate: 0.009844486647586723\n",
            "Epoch [11/50], Train Accuracy: 41.082 %, Loss: 2.3270\n",
            "Epoch [11/50], Learning Rate: 0.009757729755661011\n",
            "Epoch [12/50], Train Accuracy: 42.318 %, Loss: 2.2433\n",
            "Epoch [12/50], Learning Rate: 0.009652393605146845\n",
            "Epoch [13/50], Train Accuracy: 42.484 %, Loss: 2.1190\n",
            "Epoch [13/50], Learning Rate: 0.009528893909706798\n",
            "Epoch [14/50], Train Accuracy: 43.082 %, Loss: 2.2594\n",
            "Epoch [14/50], Learning Rate: 0.009387718066217124\n",
            "Epoch [15/50], Train Accuracy: 44.09 %, Loss: 2.1416\n",
            "Epoch [15/50], Learning Rate: 0.009229423231234974\n",
            "Epoch [16/50], Train Accuracy: 44.582 %, Loss: 2.0124\n",
            "Epoch [16/50], Learning Rate: 0.00905463412215599\n",
            "Epoch [17/50], Train Accuracy: 44.926 %, Loss: 2.0904\n",
            "Epoch [17/50], Learning Rate: 0.008864040551740157\n",
            "Epoch [18/50], Train Accuracy: 45.68 %, Loss: 1.9934\n",
            "Epoch [18/50], Learning Rate: 0.008658394705735987\n",
            "Epoch [19/50], Train Accuracy: 46.142 %, Loss: 2.0377\n",
            "Epoch [19/50], Learning Rate: 0.00843850817434701\n",
            "Epoch [20/50], Train Accuracy: 46.234 %, Loss: 2.1833\n",
            "Epoch [20/50], Learning Rate: 0.008205248749256015\n",
            "Epoch [21/50], Train Accuracy: 46.38 %, Loss: 1.9374\n",
            "Epoch [21/50], Learning Rate: 0.007959536998847744\n",
            "Epoch [22/50], Train Accuracy: 47.208 %, Loss: 1.8862\n",
            "Epoch [22/50], Learning Rate: 0.007702342635146034\n",
            "Epoch [23/50], Train Accuracy: 47.836 %, Loss: 2.0062\n",
            "Epoch [23/50], Learning Rate: 0.007434680686803491\n",
            "Epoch [24/50], Train Accuracy: 47.978 %, Loss: 1.8605\n",
            "Epoch [24/50], Learning Rate: 0.0071576074932471105\n",
            "Epoch [25/50], Train Accuracy: 48.272 %, Loss: 1.9323\n",
            "Epoch [25/50], Learning Rate: 0.006872216535789157\n",
            "Epoch [26/50], Train Accuracy: 48.546 %, Loss: 1.9964\n",
            "Epoch [26/50], Learning Rate: 0.006579634122155991\n",
            "Epoch [27/50], Train Accuracy: 49.11 %, Loss: 2.0268\n",
            "Epoch [27/50], Learning Rate: 0.0062810149414660316\n",
            "Epoch [28/50], Train Accuracy: 49.38 %, Loss: 1.9465\n",
            "Epoch [28/50], Learning Rate: 0.005977537507199339\n",
            "Epoch [29/50], Train Accuracy: 49.724 %, Loss: 1.8239\n",
            "Epoch [29/50], Learning Rate: 0.005670399506143308\n",
            "Epoch [30/50], Train Accuracy: 49.976 %, Loss: 1.7739\n",
            "Epoch [30/50], Learning Rate: 0.005360813071670102\n",
            "Epoch [31/50], Train Accuracy: 50.314 %, Loss: 1.8742\n",
            "Epoch [31/50], Learning Rate: 0.005050000000000001\n",
            "Epoch [32/50], Train Accuracy: 50.152 %, Loss: 1.8725\n",
            "Epoch [32/50], Learning Rate: 0.004739186928329899\n",
            "Epoch [33/50], Train Accuracy: 50.838 %, Loss: 1.9904\n",
            "Epoch [33/50], Learning Rate: 0.004429600493856695\n",
            "Epoch [34/50], Train Accuracy: 51.274 %, Loss: 1.7668\n",
            "Epoch [34/50], Learning Rate: 0.0041224624928006635\n",
            "Epoch [35/50], Train Accuracy: 51.332 %, Loss: 1.8048\n",
            "Epoch [35/50], Learning Rate: 0.0038189850585339685\n",
            "Epoch [36/50], Train Accuracy: 51.526 %, Loss: 1.8158\n",
            "Epoch [36/50], Learning Rate: 0.003520365877844012\n",
            "Epoch [37/50], Train Accuracy: 52.01 %, Loss: 1.8276\n",
            "Epoch [37/50], Learning Rate: 0.0032277834642108457\n",
            "Epoch [38/50], Train Accuracy: 52.138 %, Loss: 1.8937\n",
            "Epoch [38/50], Learning Rate: 0.0029423925067528904\n",
            "Epoch [39/50], Train Accuracy: 52.242 %, Loss: 1.8701\n",
            "Epoch [39/50], Learning Rate: 0.002665319313196509\n",
            "Epoch [40/50], Train Accuracy: 52.626 %, Loss: 1.6393\n",
            "Epoch [40/50], Learning Rate: 0.0023976573648539653\n",
            "Epoch [41/50], Train Accuracy: 52.828 %, Loss: 1.8938\n",
            "Epoch [41/50], Learning Rate: 0.0021404630011522584\n",
            "Epoch [42/50], Train Accuracy: 52.954 %, Loss: 1.8689\n",
            "Epoch [42/50], Learning Rate: 0.001894751250743986\n",
            "Epoch [43/50], Train Accuracy: 53.378 %, Loss: 1.7294\n",
            "Epoch [43/50], Learning Rate: 0.001661491825652991\n",
            "Epoch [44/50], Train Accuracy: 53.374 %, Loss: 1.7270\n",
            "Epoch [44/50], Learning Rate: 0.001441605294264014\n",
            "Epoch [45/50], Train Accuracy: 53.676 %, Loss: 1.7395\n",
            "Epoch [45/50], Learning Rate: 0.001235959448259844\n",
            "Epoch [46/50], Train Accuracy: 53.908 %, Loss: 1.6729\n",
            "Epoch [46/50], Learning Rate: 0.0010453658778440107\n",
            "Epoch [47/50], Train Accuracy: 53.956 %, Loss: 1.7723\n",
            "Epoch [47/50], Learning Rate: 0.0008705767687650265\n",
            "Epoch [48/50], Train Accuracy: 54.2 %, Loss: 1.7141\n",
            "Epoch [48/50], Learning Rate: 0.0007122819337828754\n",
            "Epoch [49/50], Train Accuracy: 54.096 %, Loss: 1.7110\n",
            "Epoch [49/50], Learning Rate: 0.0005711060902932043\n",
            "Epoch [50/50], Train Accuracy: 54.152 %, Loss: 1.8304\n",
            "Epoch [50/50], Learning Rate: 0.00044760639485315584\n"
          ]
        }
      ]
    },
    {
      "cell_type": "code",
      "source": [
        "# モデルの刈り込み率を計算する関数を作成\n",
        "def calculate_pruned_ratio(model):\n",
        "    total_weights = 0\n",
        "    total_pruned_weights = 0\n",
        "\n",
        "    for module in model.modules():\n",
        "        # モジュールがSupermaskConvであるか確認\n",
        "        if isinstance(module, SupermaskConv):\n",
        "            # SupermaskConv層の重みを取得\n",
        "            weight = module.weight.data\n",
        "            # 刈り込みを適用した後の重みを取得\n",
        "            subnet = GetSubnet.apply(module.clamped_scores, 1 - module.prune_rate)\n",
        "            pruned_weight = weight * subnet\n",
        "            # 0である要素数を計算\n",
        "            pruned_weights_count = (pruned_weight == 0).sum().item()\n",
        "            total_pruned_weights += pruned_weights_count\n",
        "            # 重みの全要素数を計算\n",
        "            total_weights_count = pruned_weight.numel()\n",
        "            total_weights += total_weights_count\n",
        "\n",
        "    # 刈り込みが行われた割合を計算\n",
        "    pruned_ratio = total_pruned_weights / total_weights\n",
        "    return print(f\"刈り込み率は{pruned_ratio:.3f}です\")\n",
        "\n",
        "# モデルの刈り込み率を確認\n",
        "calculate_pruned_ratio(model)"
      ],
      "metadata": {
        "id": "kbNrQNCAqNiI",
        "colab": {
          "base_uri": "https://localhost:8080/"
        },
        "outputId": "fe9f68dd-da55-4226-c8f7-ee17ca59cce5"
      },
      "execution_count": 44,
      "outputs": [
        {
          "output_type": "stream",
          "name": "stdout",
          "text": [
            "刈り込み率は0.700です\n"
          ]
        }
      ]
    },
    {
      "cell_type": "code",
      "source": [
        "# 学習前後のモデルのスコアを比較する関数を作成\n",
        "def check_scores_change(model, model_init):\n",
        "    # 各モデルの名前付きモジュールを順に調べる\n",
        "    for (name, module), (name_init, module_init) in zip(model.named_modules(), model_init.named_modules()):\n",
        "        # 両モジュールがConv2dのインスタンスであるかを確認\n",
        "        if isinstance(module, torch.nn.Conv2d) and isinstance(module_init, torch.nn.Conv2d):\n",
        "            # 両モジュールが'scores'属性を持っているかを確認\n",
        "            if hasattr(module, 'scores') and hasattr(module_init, 'scores'):\n",
        "                # 両モジュールの'scores'属性が一致しているかを確認\n",
        "                # 一致していない場合、変更があったことを示すメッセージを出力\n",
        "                if not torch.equal(module.scores, module_init.scores):\n",
        "                    print(f'{name}のスコアが変化しています')\n",
        "                    return\n",
        "    # すべてのconv層で'scores'が変更されていない場合、その旨を出力\n",
        "    print('すべてのスコアは変化していません')\n",
        "\n",
        "# 学習前後でモデルのスコアが変化していないかを確認\n",
        "check_scores_change(model, model_init)"
      ],
      "metadata": {
        "id": "ZVWwwKmPqNiI",
        "colab": {
          "base_uri": "https://localhost:8080/"
        },
        "outputId": "1dbe5c7a-4560-45ca-8392-815fe948ccb9"
      },
      "execution_count": 45,
      "outputs": [
        {
          "output_type": "stream",
          "name": "stdout",
          "text": [
            "すべてのスコアは変化していません\n"
          ]
        }
      ]
    },
    {
      "cell_type": "code",
      "source": [
        "# 学習前後のモデルの最終層以外の重みを比較する関数を作成\n",
        "def check_weight_change_except_last(model, model_init):\n",
        "    for (name, param), (name_init, param_init) in zip(model.named_parameters(), model_init.named_parameters()):\n",
        "        # 最終層を除く\n",
        "        if name != 'fc.weight' and name != 'fc.bias':\n",
        "            weights_changed = (param.data != param_init.data).any()\n",
        "            if weights_changed:\n",
        "                return print('最終層以外の重みが変化しています')\n",
        "    return print('最終層以外の重みは変化していません')\n",
        "\n",
        "# 学習前後でモデルの最終層以外の重みが変化していないかを確認\n",
        "check_weight_change_except_last(model, model_init)"
      ],
      "metadata": {
        "id": "hGwPZA1QqNiI",
        "colab": {
          "base_uri": "https://localhost:8080/"
        },
        "outputId": "067be4cf-86f3-4522-ca1a-72207f1e620b"
      },
      "execution_count": 46,
      "outputs": [
        {
          "output_type": "stream",
          "name": "stdout",
          "text": [
            "最終層以外の重みは変化していません\n"
          ]
        }
      ]
    },
    {
      "cell_type": "code",
      "source": [
        "# モデルの評価\n",
        "model.eval()\n",
        "with torch.no_grad():\n",
        "    total = 0\n",
        "    correct = 0\n",
        "    for images, labels in test_loader_cifar100:\n",
        "        images = images.to(device)\n",
        "        labels = labels.to(device)\n",
        "        outputs = model(images)\n",
        "        _, predicted = torch.max(outputs.data, 1)\n",
        "        total += labels.size(0)\n",
        "        correct += (predicted == labels).sum().item()\n",
        "    # 正解率精度の確認\n",
        "    print('Test Accuracy: {} %'.format(100 * correct / total))"
      ],
      "metadata": {
        "id": "_fUK0AL7qNiI",
        "colab": {
          "base_uri": "https://localhost:8080/"
        },
        "outputId": "4448e99a-c728-4136-ea29-faf2084632e4"
      },
      "execution_count": 47,
      "outputs": [
        {
          "output_type": "stream",
          "name": "stdout",
          "text": [
            "Test Accuracy: 52.01 %\n"
          ]
        }
      ]
    },
    {
      "cell_type": "code",
      "source": [
        "# GPUメモリの解放\n",
        "del model, model_init\n",
        "torch.cuda.empty_cache()"
      ],
      "metadata": {
        "id": "P0yCgmcsqNiI"
      },
      "execution_count": 48,
      "outputs": []
    },
    {
      "cell_type": "markdown",
      "source": [
        "### prune_rate=0.5"
      ],
      "metadata": {
        "id": "BxdxiNhUqUtn"
      }
    },
    {
      "cell_type": "code",
      "source": [
        "# デバイスを設定\n",
        "device = torch.device('cuda' if torch.cuda.is_available() else 'cpu')\n",
        "# モデルを定義\n",
        "model = torch.load('/content/drive/MyDrive/SupermaskWideResNet28_10_CIFAR10_100epochs_pr0.5_uniform_CLRS_restest.pth')\n",
        "# 最終層を変更\n",
        "model.fc = nn.Linear(model.fc.in_features, 100)\n",
        "# 最終層以外のパラメータの勾配計算を停止\n",
        "for param in model.parameters():\n",
        "    param.requires_grad = False\n",
        "# 最終層のパラメータのみを学習するように設定\n",
        "for param in model.fc.parameters():\n",
        "    param.requires_grad = True\n",
        "# モデルをデバイスに転送\n",
        "model = model.to(device)\n",
        "# 変更後のモデルの重みを保存\n",
        "model_init = copy.deepcopy(model)\n",
        "\n",
        "# 学習率を設定\n",
        "learning_rate = 0.01\n",
        "# 全体のepoch数を設定\n",
        "num_epochs = 50\n",
        "# warm-upするepoch数を設定\n",
        "warmup_epochs = 5\n",
        "\n",
        "# 損失関数を定義\n",
        "criterion = nn.CrossEntropyLoss()\n",
        "# オプティマイザーを設定\n",
        "optimizer = optim.Adam(model.fc.parameters(), lr=learning_rate)\n",
        "# スケジューラーを設定\n",
        "scheduler = CosineLRScheduler(optimizer, t_initial=num_epochs, lr_min=1e-4, warmup_t=warmup_epochs, warmup_lr_init=1e-4, warmup_prefix=True)\n",
        "\n",
        "# モデルの学習\n",
        "for epoch in range(num_epochs):\n",
        "    total = 0\n",
        "    correct = 0\n",
        "    for i, (images, labels) in enumerate(train_loader_cifar100):\n",
        "        images = images.to(device)\n",
        "        labels = labels.to(device)\n",
        "        # 順伝播\n",
        "        outputs = model(images)\n",
        "        loss = criterion(outputs, labels)\n",
        "        # 逆伝播\n",
        "        optimizer.zero_grad()\n",
        "        loss.backward()\n",
        "        optimizer.step()\n",
        "        _, predicted = torch.max(outputs.data, 1)\n",
        "        # 全データ数\n",
        "        total += labels.size(0)\n",
        "        # 正解数\n",
        "        correct += (predicted == labels).sum().item()\n",
        "    # 正解率精度を計算\n",
        "    train_acc = 100 * correct / total\n",
        "    # 正解率精度と損失を確認\n",
        "    print(\"Epoch [{}/{}], Train Accuracy: {} %, Loss: {:.4f}\".format(epoch+1, num_epochs, 100 * correct / total, loss.item()))\n",
        "    # 1エポック終了後にスケジューラーを更新\n",
        "    scheduler.step(epoch)\n",
        "    # 学習率の確認\n",
        "    print(\"Epoch [{}/{}], Learning Rate: {}\".format(epoch+1, num_epochs, optimizer.param_groups[0]['lr']))\n",
        "\n",
        "\n",
        "# モデルを保存\n",
        "torch.save(model, '/content/drive/MyDrive/SupermaskWideResNet28_10_CIFAR100_from_CIFAR10_100epochs_pr0.5_uniform_50epochs_lr0.01_CLRS_restest.pth')"
      ],
      "metadata": {
        "id": "k5t5PfxlqUtn",
        "colab": {
          "base_uri": "https://localhost:8080/"
        },
        "outputId": "d18dd450-8eca-4dac-8d9b-19409090a346"
      },
      "execution_count": 49,
      "outputs": [
        {
          "output_type": "stream",
          "name": "stdout",
          "text": [
            "Epoch [1/50], Train Accuracy: 5.106 %, Loss: 4.2302\n",
            "Epoch [1/50], Learning Rate: 0.0001\n",
            "Epoch [2/50], Train Accuracy: 12.276 %, Loss: 3.9433\n",
            "Epoch [2/50], Learning Rate: 0.00208\n",
            "Epoch [3/50], Train Accuracy: 19.42 %, Loss: 3.1438\n",
            "Epoch [3/50], Learning Rate: 0.00406\n",
            "Epoch [4/50], Train Accuracy: 25.782 %, Loss: 2.9600\n",
            "Epoch [4/50], Learning Rate: 0.00604\n",
            "Epoch [5/50], Train Accuracy: 30.476 %, Loss: 2.6506\n",
            "Epoch [5/50], Learning Rate: 0.00802\n",
            "Epoch [6/50], Train Accuracy: 33.416 %, Loss: 2.4220\n",
            "Epoch [6/50], Learning Rate: 0.01\n",
            "Epoch [7/50], Train Accuracy: 35.282 %, Loss: 2.5359\n",
            "Epoch [7/50], Learning Rate: 0.009990232305719944\n",
            "Epoch [8/50], Train Accuracy: 37.392 %, Loss: 2.2772\n",
            "Epoch [8/50], Learning Rate: 0.009960967771506667\n",
            "Epoch [9/50], Train Accuracy: 39.178 %, Loss: 2.4224\n",
            "Epoch [9/50], Learning Rate: 0.00991232189110701\n",
            "Epoch [10/50], Train Accuracy: 40.338 %, Loss: 2.2789\n",
            "Epoch [10/50], Learning Rate: 0.009844486647586723\n",
            "Epoch [11/50], Train Accuracy: 41.282 %, Loss: 2.2815\n",
            "Epoch [11/50], Learning Rate: 0.009757729755661011\n",
            "Epoch [12/50], Train Accuracy: 42.358 %, Loss: 2.3532\n",
            "Epoch [12/50], Learning Rate: 0.009652393605146845\n",
            "Epoch [13/50], Train Accuracy: 43.396 %, Loss: 2.2361\n",
            "Epoch [13/50], Learning Rate: 0.009528893909706798\n",
            "Epoch [14/50], Train Accuracy: 43.936 %, Loss: 2.1187\n",
            "Epoch [14/50], Learning Rate: 0.009387718066217124\n",
            "Epoch [15/50], Train Accuracy: 44.49 %, Loss: 2.0821\n",
            "Epoch [15/50], Learning Rate: 0.009229423231234974\n",
            "Epoch [16/50], Train Accuracy: 44.8 %, Loss: 2.1218\n",
            "Epoch [16/50], Learning Rate: 0.00905463412215599\n",
            "Epoch [17/50], Train Accuracy: 45.558 %, Loss: 2.0243\n",
            "Epoch [17/50], Learning Rate: 0.008864040551740157\n",
            "Epoch [18/50], Train Accuracy: 46.08 %, Loss: 2.0172\n",
            "Epoch [18/50], Learning Rate: 0.008658394705735987\n",
            "Epoch [19/50], Train Accuracy: 46.158 %, Loss: 2.0950\n",
            "Epoch [19/50], Learning Rate: 0.00843850817434701\n",
            "Epoch [20/50], Train Accuracy: 46.6 %, Loss: 2.0492\n",
            "Epoch [20/50], Learning Rate: 0.008205248749256015\n",
            "Epoch [21/50], Train Accuracy: 46.968 %, Loss: 2.0355\n",
            "Epoch [21/50], Learning Rate: 0.007959536998847744\n",
            "Epoch [22/50], Train Accuracy: 47.234 %, Loss: 1.9249\n",
            "Epoch [22/50], Learning Rate: 0.007702342635146034\n",
            "Epoch [23/50], Train Accuracy: 47.844 %, Loss: 1.9834\n",
            "Epoch [23/50], Learning Rate: 0.007434680686803491\n",
            "Epoch [24/50], Train Accuracy: 48.01 %, Loss: 1.9657\n",
            "Epoch [24/50], Learning Rate: 0.0071576074932471105\n",
            "Epoch [25/50], Train Accuracy: 48.428 %, Loss: 1.9597\n",
            "Epoch [25/50], Learning Rate: 0.006872216535789157\n",
            "Epoch [26/50], Train Accuracy: 49.086 %, Loss: 1.9008\n",
            "Epoch [26/50], Learning Rate: 0.006579634122155991\n",
            "Epoch [27/50], Train Accuracy: 48.966 %, Loss: 1.8480\n",
            "Epoch [27/50], Learning Rate: 0.0062810149414660316\n",
            "Epoch [28/50], Train Accuracy: 49.438 %, Loss: 1.9332\n",
            "Epoch [28/50], Learning Rate: 0.005977537507199339\n",
            "Epoch [29/50], Train Accuracy: 49.776 %, Loss: 1.7737\n",
            "Epoch [29/50], Learning Rate: 0.005670399506143308\n",
            "Epoch [30/50], Train Accuracy: 50.344 %, Loss: 1.6756\n",
            "Epoch [30/50], Learning Rate: 0.005360813071670102\n",
            "Epoch [31/50], Train Accuracy: 50.518 %, Loss: 1.7170\n",
            "Epoch [31/50], Learning Rate: 0.005050000000000001\n",
            "Epoch [32/50], Train Accuracy: 50.768 %, Loss: 1.9418\n",
            "Epoch [32/50], Learning Rate: 0.004739186928329899\n",
            "Epoch [33/50], Train Accuracy: 50.978 %, Loss: 1.8344\n",
            "Epoch [33/50], Learning Rate: 0.004429600493856695\n",
            "Epoch [34/50], Train Accuracy: 51.608 %, Loss: 1.7527\n",
            "Epoch [34/50], Learning Rate: 0.0041224624928006635\n",
            "Epoch [35/50], Train Accuracy: 51.776 %, Loss: 1.8006\n",
            "Epoch [35/50], Learning Rate: 0.0038189850585339685\n",
            "Epoch [36/50], Train Accuracy: 51.814 %, Loss: 1.8487\n",
            "Epoch [36/50], Learning Rate: 0.003520365877844012\n",
            "Epoch [37/50], Train Accuracy: 51.864 %, Loss: 1.6640\n",
            "Epoch [37/50], Learning Rate: 0.0032277834642108457\n",
            "Epoch [38/50], Train Accuracy: 52.43 %, Loss: 1.7229\n",
            "Epoch [38/50], Learning Rate: 0.0029423925067528904\n",
            "Epoch [39/50], Train Accuracy: 52.66 %, Loss: 1.7431\n",
            "Epoch [39/50], Learning Rate: 0.002665319313196509\n",
            "Epoch [40/50], Train Accuracy: 52.662 %, Loss: 1.7423\n",
            "Epoch [40/50], Learning Rate: 0.0023976573648539653\n",
            "Epoch [41/50], Train Accuracy: 53.164 %, Loss: 1.6544\n",
            "Epoch [41/50], Learning Rate: 0.0021404630011522584\n",
            "Epoch [42/50], Train Accuracy: 53.214 %, Loss: 1.8086\n",
            "Epoch [42/50], Learning Rate: 0.001894751250743986\n",
            "Epoch [43/50], Train Accuracy: 53.512 %, Loss: 1.7849\n",
            "Epoch [43/50], Learning Rate: 0.001661491825652991\n",
            "Epoch [44/50], Train Accuracy: 53.53 %, Loss: 1.6278\n",
            "Epoch [44/50], Learning Rate: 0.001441605294264014\n",
            "Epoch [45/50], Train Accuracy: 53.746 %, Loss: 1.5905\n",
            "Epoch [45/50], Learning Rate: 0.001235959448259844\n",
            "Epoch [46/50], Train Accuracy: 54.018 %, Loss: 1.7374\n",
            "Epoch [46/50], Learning Rate: 0.0010453658778440107\n",
            "Epoch [47/50], Train Accuracy: 54.14 %, Loss: 1.5741\n",
            "Epoch [47/50], Learning Rate: 0.0008705767687650265\n",
            "Epoch [48/50], Train Accuracy: 54.08 %, Loss: 1.7803\n",
            "Epoch [48/50], Learning Rate: 0.0007122819337828754\n",
            "Epoch [49/50], Train Accuracy: 54.136 %, Loss: 1.6692\n",
            "Epoch [49/50], Learning Rate: 0.0005711060902932043\n",
            "Epoch [50/50], Train Accuracy: 54.564 %, Loss: 1.8305\n",
            "Epoch [50/50], Learning Rate: 0.00044760639485315584\n"
          ]
        }
      ]
    },
    {
      "cell_type": "code",
      "source": [
        "# モデルの刈り込み率を計算する関数を作成\n",
        "def calculate_pruned_ratio(model):\n",
        "    total_weights = 0\n",
        "    total_pruned_weights = 0\n",
        "\n",
        "    for module in model.modules():\n",
        "        # モジュールがSupermaskConvであるか確認\n",
        "        if isinstance(module, SupermaskConv):\n",
        "            # SupermaskConv層の重みを取得\n",
        "            weight = module.weight.data\n",
        "            # 刈り込みを適用した後の重みを取得\n",
        "            subnet = GetSubnet.apply(module.clamped_scores, 1 - module.prune_rate)\n",
        "            pruned_weight = weight * subnet\n",
        "            # 0である要素数を計算\n",
        "            pruned_weights_count = (pruned_weight == 0).sum().item()\n",
        "            total_pruned_weights += pruned_weights_count\n",
        "            # 重みの全要素数を計算\n",
        "            total_weights_count = pruned_weight.numel()\n",
        "            total_weights += total_weights_count\n",
        "\n",
        "    # 刈り込みが行われた割合を計算\n",
        "    pruned_ratio = total_pruned_weights / total_weights\n",
        "    return print(f\"刈り込み率は{pruned_ratio:.3f}です\")\n",
        "\n",
        "# モデルの刈り込み率を確認\n",
        "calculate_pruned_ratio(model)"
      ],
      "metadata": {
        "id": "W97JiUXFqUto",
        "colab": {
          "base_uri": "https://localhost:8080/"
        },
        "outputId": "4dee3601-1cc6-4e7f-d69a-6f12eac2ccd1"
      },
      "execution_count": 50,
      "outputs": [
        {
          "output_type": "stream",
          "name": "stdout",
          "text": [
            "刈り込み率は0.500です\n"
          ]
        }
      ]
    },
    {
      "cell_type": "code",
      "source": [
        "# 学習前後のモデルのスコアを比較する関数を作成\n",
        "def check_scores_change(model, model_init):\n",
        "    # 各モデルの名前付きモジュールを順に調べる\n",
        "    for (name, module), (name_init, module_init) in zip(model.named_modules(), model_init.named_modules()):\n",
        "        # 両モジュールがConv2dのインスタンスであるかを確認\n",
        "        if isinstance(module, torch.nn.Conv2d) and isinstance(module_init, torch.nn.Conv2d):\n",
        "            # 両モジュールが'scores'属性を持っているかを確認\n",
        "            if hasattr(module, 'scores') and hasattr(module_init, 'scores'):\n",
        "                # 両モジュールの'scores'属性が一致しているかを確認\n",
        "                # 一致していない場合、変更があったことを示すメッセージを出力\n",
        "                if not torch.equal(module.scores, module_init.scores):\n",
        "                    print(f'{name}のスコアが変化しています')\n",
        "                    return\n",
        "    # すべてのconv層で'scores'が変更されていない場合、その旨を出力\n",
        "    print('すべてのスコアは変化していません')\n",
        "\n",
        "# 学習前後でモデルのスコアが変化していないかを確認\n",
        "check_scores_change(model, model_init)"
      ],
      "metadata": {
        "id": "_igSGIU6qUto",
        "colab": {
          "base_uri": "https://localhost:8080/"
        },
        "outputId": "4effbd0e-ef90-4c1d-fde1-9b453850ee63"
      },
      "execution_count": 51,
      "outputs": [
        {
          "output_type": "stream",
          "name": "stdout",
          "text": [
            "すべてのスコアは変化していません\n"
          ]
        }
      ]
    },
    {
      "cell_type": "code",
      "source": [
        "# 学習前後のモデルの最終層以外の重みを比較する関数を作成\n",
        "def check_weight_change_except_last(model, model_init):\n",
        "    for (name, param), (name_init, param_init) in zip(model.named_parameters(), model_init.named_parameters()):\n",
        "        # 最終層を除く\n",
        "        if name != 'fc.weight' and name != 'fc.bias':\n",
        "            weights_changed = (param.data != param_init.data).any()\n",
        "            if weights_changed:\n",
        "                return print('最終層以外の重みが変化しています')\n",
        "    return print('最終層以外の重みは変化していません')\n",
        "\n",
        "# 学習前後でモデルの最終層以外の重みが変化していないかを確認\n",
        "check_weight_change_except_last(model, model_init)"
      ],
      "metadata": {
        "id": "fOIcNLDzqUto",
        "colab": {
          "base_uri": "https://localhost:8080/"
        },
        "outputId": "3d528cec-f066-43a5-a46b-1193545b1c65"
      },
      "execution_count": 52,
      "outputs": [
        {
          "output_type": "stream",
          "name": "stdout",
          "text": [
            "最終層以外の重みは変化していません\n"
          ]
        }
      ]
    },
    {
      "cell_type": "code",
      "source": [
        "# モデルの評価\n",
        "model.eval()\n",
        "with torch.no_grad():\n",
        "    total = 0\n",
        "    correct = 0\n",
        "    for images, labels in test_loader_cifar100:\n",
        "        images = images.to(device)\n",
        "        labels = labels.to(device)\n",
        "        outputs = model(images)\n",
        "        _, predicted = torch.max(outputs.data, 1)\n",
        "        total += labels.size(0)\n",
        "        correct += (predicted == labels).sum().item()\n",
        "    # 正解率精度の確認\n",
        "    print('Test Accuracy: {} %'.format(100 * correct / total))"
      ],
      "metadata": {
        "id": "AiKw0GhHqUto",
        "colab": {
          "base_uri": "https://localhost:8080/"
        },
        "outputId": "c8fe73fc-e261-43d8-fd5a-b53e675223d7"
      },
      "execution_count": 53,
      "outputs": [
        {
          "output_type": "stream",
          "name": "stdout",
          "text": [
            "Test Accuracy: 51.66 %\n"
          ]
        }
      ]
    },
    {
      "cell_type": "code",
      "source": [
        "# GPUメモリの解放\n",
        "del model, model_init\n",
        "torch.cuda.empty_cache()"
      ],
      "metadata": {
        "id": "ikDtoXLbqUto"
      },
      "execution_count": 54,
      "outputs": []
    },
    {
      "cell_type": "markdown",
      "source": [
        "## 学習と評価（100 epochs, init=kaiming_normal）"
      ],
      "metadata": {
        "id": "2atmPsCD5ThV"
      }
    },
    {
      "cell_type": "markdown",
      "source": [
        "### prune_rate=0.999"
      ],
      "metadata": {
        "id": "XohYpLpwsKjY"
      }
    },
    {
      "cell_type": "code",
      "source": [
        "# デバイスを設定\n",
        "device = torch.device('cuda' if torch.cuda.is_available() else 'cpu')\n",
        "# モデルを定義\n",
        "model = torch.load('/content/drive/MyDrive/SupermaskWideResNet28_10_CIFAR10_100epochs_pr0.999_normal_CLRS_restest.pth')\n",
        "# 最終層を変更\n",
        "model.fc = nn.Linear(model.fc.in_features, 100)\n",
        "# 最終層以外のパラメータの勾配計算を停止\n",
        "for param in model.parameters():\n",
        "    param.requires_grad = False\n",
        "# 最終層のパラメータのみを学習するように設定\n",
        "for param in model.fc.parameters():\n",
        "    param.requires_grad = True\n",
        "# モデルをデバイスに転送\n",
        "model = model.to(device)\n",
        "# 変更後のモデルの重みを保存\n",
        "model_init = copy.deepcopy(model)\n",
        "\n",
        "# 学習率を設定\n",
        "learning_rate = 0.01\n",
        "# 全体のepoch数を設定\n",
        "num_epochs = 50\n",
        "# warm-upするepoch数を設定\n",
        "warmup_epochs = 5\n",
        "\n",
        "# 損失関数を定義\n",
        "criterion = nn.CrossEntropyLoss()\n",
        "# オプティマイザーを設定\n",
        "optimizer = optim.Adam(model.fc.parameters(), lr=learning_rate)\n",
        "# スケジューラーを設定\n",
        "scheduler = CosineLRScheduler(optimizer, t_initial=num_epochs, lr_min=1e-4, warmup_t=warmup_epochs, warmup_lr_init=1e-4, warmup_prefix=True)\n",
        "\n",
        "# モデルの学習\n",
        "for epoch in range(num_epochs):\n",
        "    total = 0\n",
        "    correct = 0\n",
        "    for i, (images, labels) in enumerate(train_loader_cifar100):\n",
        "        images = images.to(device)\n",
        "        labels = labels.to(device)\n",
        "        # 順伝播\n",
        "        outputs = model(images)\n",
        "        loss = criterion(outputs, labels)\n",
        "        # 逆伝播\n",
        "        optimizer.zero_grad()\n",
        "        loss.backward()\n",
        "        optimizer.step()\n",
        "        _, predicted = torch.max(outputs.data, 1)\n",
        "        # 全データ数\n",
        "        total += labels.size(0)\n",
        "        # 正解数\n",
        "        correct += (predicted == labels).sum().item()\n",
        "    # 正解率精度を計算\n",
        "    train_acc = 100 * correct / total\n",
        "    # 正解率精度と損失を確認\n",
        "    print(\"Epoch [{}/{}], Train Accuracy: {} %, Loss: {:.4f}\".format(epoch+1, num_epochs, 100 * correct / total, loss.item()))\n",
        "    # 1エポック終了後にスケジューラーを更新\n",
        "    scheduler.step(epoch)\n",
        "    # 学習率の確認\n",
        "    print(\"Epoch [{}/{}], Learning Rate: {}\".format(epoch+1, num_epochs, optimizer.param_groups[0]['lr']))\n",
        "\n",
        "\n",
        "# モデルを保存\n",
        "torch.save(model, '/content/drive/MyDrive/SupermaskWideResNet28_10_CIFAR100_from_CIFAR10_100epochs_pr0.999_normal_50epochs_lr0.01_CLRS_restest.pth')"
      ],
      "metadata": {
        "id": "AmY2J5YpsKjm",
        "colab": {
          "base_uri": "https://localhost:8080/"
        },
        "outputId": "67b9535f-1775-4958-dd9d-87dfe87e9328"
      },
      "execution_count": 55,
      "outputs": [
        {
          "output_type": "stream",
          "name": "stdout",
          "text": [
            "Epoch [1/50], Train Accuracy: 2.908 %, Loss: 4.4327\n",
            "Epoch [1/50], Learning Rate: 0.0001\n",
            "Epoch [2/50], Train Accuracy: 8.306 %, Loss: 4.2829\n",
            "Epoch [2/50], Learning Rate: 0.00208\n",
            "Epoch [3/50], Train Accuracy: 14.098 %, Loss: 3.4848\n",
            "Epoch [3/50], Learning Rate: 0.00406\n",
            "Epoch [4/50], Train Accuracy: 17.962 %, Loss: 3.3479\n",
            "Epoch [4/50], Learning Rate: 0.00604\n",
            "Epoch [5/50], Train Accuracy: 19.534 %, Loss: 3.1932\n",
            "Epoch [5/50], Learning Rate: 0.00802\n",
            "Epoch [6/50], Train Accuracy: 20.34 %, Loss: 3.1484\n",
            "Epoch [6/50], Learning Rate: 0.01\n",
            "Epoch [7/50], Train Accuracy: 20.428 %, Loss: 3.2670\n",
            "Epoch [7/50], Learning Rate: 0.009990232305719944\n",
            "Epoch [8/50], Train Accuracy: 21.344 %, Loss: 3.2714\n",
            "Epoch [8/50], Learning Rate: 0.009960967771506667\n",
            "Epoch [9/50], Train Accuracy: 21.962 %, Loss: 3.2500\n",
            "Epoch [9/50], Learning Rate: 0.00991232189110701\n",
            "Epoch [10/50], Train Accuracy: 22.638 %, Loss: 3.2256\n",
            "Epoch [10/50], Learning Rate: 0.009844486647586723\n",
            "Epoch [11/50], Train Accuracy: 23.082 %, Loss: 3.2274\n",
            "Epoch [11/50], Learning Rate: 0.009757729755661011\n",
            "Epoch [12/50], Train Accuracy: 23.07 %, Loss: 3.2089\n",
            "Epoch [12/50], Learning Rate: 0.009652393605146845\n",
            "Epoch [13/50], Train Accuracy: 23.882 %, Loss: 3.2292\n",
            "Epoch [13/50], Learning Rate: 0.009528893909706798\n",
            "Epoch [14/50], Train Accuracy: 23.898 %, Loss: 3.0434\n",
            "Epoch [14/50], Learning Rate: 0.009387718066217124\n",
            "Epoch [15/50], Train Accuracy: 23.768 %, Loss: 3.1156\n",
            "Epoch [15/50], Learning Rate: 0.009229423231234974\n",
            "Epoch [16/50], Train Accuracy: 24.08 %, Loss: 3.2012\n",
            "Epoch [16/50], Learning Rate: 0.00905463412215599\n",
            "Epoch [17/50], Train Accuracy: 24.292 %, Loss: 3.1919\n",
            "Epoch [17/50], Learning Rate: 0.008864040551740157\n",
            "Epoch [18/50], Train Accuracy: 24.608 %, Loss: 3.0516\n",
            "Epoch [18/50], Learning Rate: 0.008658394705735987\n",
            "Epoch [19/50], Train Accuracy: 25.03 %, Loss: 3.0456\n",
            "Epoch [19/50], Learning Rate: 0.00843850817434701\n",
            "Epoch [20/50], Train Accuracy: 25.174 %, Loss: 3.0934\n",
            "Epoch [20/50], Learning Rate: 0.008205248749256015\n",
            "Epoch [21/50], Train Accuracy: 25.5 %, Loss: 2.9899\n",
            "Epoch [21/50], Learning Rate: 0.007959536998847744\n",
            "Epoch [22/50], Train Accuracy: 25.4 %, Loss: 3.1364\n",
            "Epoch [22/50], Learning Rate: 0.007702342635146034\n",
            "Epoch [23/50], Train Accuracy: 25.468 %, Loss: 3.2693\n",
            "Epoch [23/50], Learning Rate: 0.007434680686803491\n",
            "Epoch [24/50], Train Accuracy: 25.596 %, Loss: 3.1659\n",
            "Epoch [24/50], Learning Rate: 0.0071576074932471105\n",
            "Epoch [25/50], Train Accuracy: 25.964 %, Loss: 3.0254\n",
            "Epoch [25/50], Learning Rate: 0.006872216535789157\n",
            "Epoch [26/50], Train Accuracy: 25.948 %, Loss: 3.0221\n",
            "Epoch [26/50], Learning Rate: 0.006579634122155991\n",
            "Epoch [27/50], Train Accuracy: 26.02 %, Loss: 3.1092\n",
            "Epoch [27/50], Learning Rate: 0.0062810149414660316\n",
            "Epoch [28/50], Train Accuracy: 26.206 %, Loss: 3.0363\n",
            "Epoch [28/50], Learning Rate: 0.005977537507199339\n",
            "Epoch [29/50], Train Accuracy: 26.592 %, Loss: 2.9988\n",
            "Epoch [29/50], Learning Rate: 0.005670399506143308\n",
            "Epoch [30/50], Train Accuracy: 26.554 %, Loss: 2.8849\n",
            "Epoch [30/50], Learning Rate: 0.005360813071670102\n",
            "Epoch [31/50], Train Accuracy: 26.628 %, Loss: 3.1712\n",
            "Epoch [31/50], Learning Rate: 0.005050000000000001\n",
            "Epoch [32/50], Train Accuracy: 27.208 %, Loss: 2.7720\n",
            "Epoch [32/50], Learning Rate: 0.004739186928329899\n",
            "Epoch [33/50], Train Accuracy: 27.406 %, Loss: 3.3013\n",
            "Epoch [33/50], Learning Rate: 0.004429600493856695\n",
            "Epoch [34/50], Train Accuracy: 27.608 %, Loss: 2.8949\n",
            "Epoch [34/50], Learning Rate: 0.0041224624928006635\n",
            "Epoch [35/50], Train Accuracy: 27.464 %, Loss: 2.8452\n",
            "Epoch [35/50], Learning Rate: 0.0038189850585339685\n",
            "Epoch [36/50], Train Accuracy: 27.882 %, Loss: 2.8217\n",
            "Epoch [36/50], Learning Rate: 0.003520365877844012\n",
            "Epoch [37/50], Train Accuracy: 27.704 %, Loss: 2.9779\n",
            "Epoch [37/50], Learning Rate: 0.0032277834642108457\n",
            "Epoch [38/50], Train Accuracy: 28.146 %, Loss: 2.8511\n",
            "Epoch [38/50], Learning Rate: 0.0029423925067528904\n",
            "Epoch [39/50], Train Accuracy: 28.006 %, Loss: 2.8337\n",
            "Epoch [39/50], Learning Rate: 0.002665319313196509\n",
            "Epoch [40/50], Train Accuracy: 28.374 %, Loss: 2.9034\n",
            "Epoch [40/50], Learning Rate: 0.0023976573648539653\n",
            "Epoch [41/50], Train Accuracy: 28.346 %, Loss: 2.9422\n",
            "Epoch [41/50], Learning Rate: 0.0021404630011522584\n",
            "Epoch [42/50], Train Accuracy: 28.544 %, Loss: 2.9399\n",
            "Epoch [42/50], Learning Rate: 0.001894751250743986\n",
            "Epoch [43/50], Train Accuracy: 28.516 %, Loss: 3.0130\n",
            "Epoch [43/50], Learning Rate: 0.001661491825652991\n",
            "Epoch [44/50], Train Accuracy: 28.528 %, Loss: 3.0592\n",
            "Epoch [44/50], Learning Rate: 0.001441605294264014\n",
            "Epoch [45/50], Train Accuracy: 28.902 %, Loss: 2.9668\n",
            "Epoch [45/50], Learning Rate: 0.001235959448259844\n",
            "Epoch [46/50], Train Accuracy: 28.726 %, Loss: 2.8022\n",
            "Epoch [46/50], Learning Rate: 0.0010453658778440107\n",
            "Epoch [47/50], Train Accuracy: 29.124 %, Loss: 2.9780\n",
            "Epoch [47/50], Learning Rate: 0.0008705767687650265\n",
            "Epoch [48/50], Train Accuracy: 29.008 %, Loss: 2.8827\n",
            "Epoch [48/50], Learning Rate: 0.0007122819337828754\n",
            "Epoch [49/50], Train Accuracy: 29.132 %, Loss: 3.0624\n",
            "Epoch [49/50], Learning Rate: 0.0005711060902932043\n",
            "Epoch [50/50], Train Accuracy: 29.334 %, Loss: 2.9010\n",
            "Epoch [50/50], Learning Rate: 0.00044760639485315584\n"
          ]
        }
      ]
    },
    {
      "cell_type": "code",
      "source": [
        "# モデルの刈り込み率を計算する関数を作成\n",
        "def calculate_pruned_ratio(model):\n",
        "    total_weights = 0\n",
        "    total_pruned_weights = 0\n",
        "\n",
        "    for module in model.modules():\n",
        "        # モジュールがSupermaskConvであるか確認\n",
        "        if isinstance(module, SupermaskConv):\n",
        "            # SupermaskConv層の重みを取得\n",
        "            weight = module.weight.data\n",
        "            # 刈り込みを適用した後の重みを取得\n",
        "            subnet = GetSubnet.apply(module.clamped_scores, 1 - module.prune_rate)\n",
        "            pruned_weight = weight * subnet\n",
        "            # 0である要素数を計算\n",
        "            pruned_weights_count = (pruned_weight == 0).sum().item()\n",
        "            total_pruned_weights += pruned_weights_count\n",
        "            # 重みの全要素数を計算\n",
        "            total_weights_count = pruned_weight.numel()\n",
        "            total_weights += total_weights_count\n",
        "\n",
        "    # 刈り込みが行われた割合を計算\n",
        "    pruned_ratio = total_pruned_weights / total_weights\n",
        "    return print(f\"刈り込み率は{pruned_ratio:.3f}です\")\n",
        "\n",
        "# モデルの刈り込み率を確認\n",
        "calculate_pruned_ratio(model)"
      ],
      "metadata": {
        "id": "9BhXxkuFsKjn",
        "colab": {
          "base_uri": "https://localhost:8080/"
        },
        "outputId": "ca71ad38-eeda-4e75-d4cd-40af2d8dba99"
      },
      "execution_count": 56,
      "outputs": [
        {
          "output_type": "stream",
          "name": "stdout",
          "text": [
            "刈り込み率は0.999です\n"
          ]
        }
      ]
    },
    {
      "cell_type": "code",
      "source": [
        "# 学習前後のモデルのスコアを比較する関数を作成\n",
        "def check_scores_change(model, model_init):\n",
        "    # 各モデルの名前付きモジュールを順に調べる\n",
        "    for (name, module), (name_init, module_init) in zip(model.named_modules(), model_init.named_modules()):\n",
        "        # 両モジュールがConv2dのインスタンスであるかを確認\n",
        "        if isinstance(module, torch.nn.Conv2d) and isinstance(module_init, torch.nn.Conv2d):\n",
        "            # 両モジュールが'scores'属性を持っているかを確認\n",
        "            if hasattr(module, 'scores') and hasattr(module_init, 'scores'):\n",
        "                # 両モジュールの'scores'属性が一致しているかを確認\n",
        "                # 一致していない場合、変更があったことを示すメッセージを出力\n",
        "                if not torch.equal(module.scores, module_init.scores):\n",
        "                    print(f'{name}のスコアが変化しています')\n",
        "                    return\n",
        "    # すべてのconv層で'scores'が変更されていない場合、その旨を出力\n",
        "    print('すべてのスコアは変化していません')\n",
        "\n",
        "# 学習前後でモデルのスコアが変化していないかを確認\n",
        "check_scores_change(model, model_init)"
      ],
      "metadata": {
        "id": "b2_21nPhsKjn",
        "colab": {
          "base_uri": "https://localhost:8080/"
        },
        "outputId": "90c14977-9336-48f9-f619-2926e3e7ae85"
      },
      "execution_count": 57,
      "outputs": [
        {
          "output_type": "stream",
          "name": "stdout",
          "text": [
            "すべてのスコアは変化していません\n"
          ]
        }
      ]
    },
    {
      "cell_type": "code",
      "source": [
        "# 学習前後のモデルの最終層以外の重みを比較する関数を作成\n",
        "def check_weight_change_except_last(model, model_init):\n",
        "    for (name, param), (name_init, param_init) in zip(model.named_parameters(), model_init.named_parameters()):\n",
        "        # 最終層を除く\n",
        "        if name != 'fc.weight' and name != 'fc.bias':\n",
        "            weights_changed = (param.data != param_init.data).any()\n",
        "            if weights_changed:\n",
        "                return print('最終層以外の重みが変化しています')\n",
        "    return print('最終層以外の重みは変化していません')\n",
        "\n",
        "# 学習前後でモデルの最終層以外の重みが変化していないかを確認\n",
        "check_weight_change_except_last(model, model_init)"
      ],
      "metadata": {
        "id": "gdRkxqThsKjn",
        "colab": {
          "base_uri": "https://localhost:8080/"
        },
        "outputId": "8b39d4d5-84c9-4c2f-9be1-b9cdfdf8ff09"
      },
      "execution_count": 58,
      "outputs": [
        {
          "output_type": "stream",
          "name": "stdout",
          "text": [
            "最終層以外の重みは変化していません\n"
          ]
        }
      ]
    },
    {
      "cell_type": "code",
      "source": [
        "# モデルの評価\n",
        "model.eval()\n",
        "with torch.no_grad():\n",
        "    total = 0\n",
        "    correct = 0\n",
        "    for images, labels in test_loader_cifar100:\n",
        "        images = images.to(device)\n",
        "        labels = labels.to(device)\n",
        "        outputs = model(images)\n",
        "        _, predicted = torch.max(outputs.data, 1)\n",
        "        total += labels.size(0)\n",
        "        correct += (predicted == labels).sum().item()\n",
        "    # 正解率精度の確認\n",
        "    print('Test Accuracy: {} %'.format(100 * correct / total))"
      ],
      "metadata": {
        "id": "4uT1Zu5xsKjn",
        "colab": {
          "base_uri": "https://localhost:8080/"
        },
        "outputId": "850f90c2-87fb-4a6d-df7c-8ff9f9de66c7"
      },
      "execution_count": 59,
      "outputs": [
        {
          "output_type": "stream",
          "name": "stdout",
          "text": [
            "Test Accuracy: 27.39 %\n"
          ]
        }
      ]
    },
    {
      "cell_type": "code",
      "source": [
        "# GPUメモリの解放\n",
        "del model, model_init\n",
        "torch.cuda.empty_cache()"
      ],
      "metadata": {
        "id": "-ufE10onsKjo"
      },
      "execution_count": 60,
      "outputs": []
    },
    {
      "cell_type": "markdown",
      "source": [
        "### prune_rate=0.995"
      ],
      "metadata": {
        "id": "ckkkthdAsKjo"
      }
    },
    {
      "cell_type": "code",
      "source": [
        "# デバイスを設定\n",
        "device = torch.device('cuda' if torch.cuda.is_available() else 'cpu')\n",
        "# モデルを定義\n",
        "model = torch.load('/content/drive/MyDrive/SupermaskWideResNet28_10_CIFAR10_100epochs_pr0.995_normal_CLRS_restest.pth')\n",
        "# 最終層を変更\n",
        "model.fc = nn.Linear(model.fc.in_features, 100)\n",
        "# 最終層以外のパラメータの勾配計算を停止\n",
        "for param in model.parameters():\n",
        "    param.requires_grad = False\n",
        "# 最終層のパラメータのみを学習するように設定\n",
        "for param in model.fc.parameters():\n",
        "    param.requires_grad = True\n",
        "# モデルをデバイスに転送\n",
        "model = model.to(device)\n",
        "# 変更後のモデルの重みを保存\n",
        "model_init = copy.deepcopy(model)\n",
        "\n",
        "# 学習率を設定\n",
        "learning_rate = 0.01\n",
        "# 全体のepoch数を設定\n",
        "num_epochs = 50\n",
        "# warm-upするepoch数を設定\n",
        "warmup_epochs = 5\n",
        "\n",
        "# 損失関数を定義\n",
        "criterion = nn.CrossEntropyLoss()\n",
        "# オプティマイザーを設定\n",
        "optimizer = optim.Adam(model.fc.parameters(), lr=learning_rate)\n",
        "# スケジューラーを設定\n",
        "scheduler = CosineLRScheduler(optimizer, t_initial=num_epochs, lr_min=1e-4, warmup_t=warmup_epochs, warmup_lr_init=1e-4, warmup_prefix=True)\n",
        "\n",
        "# モデルの学習\n",
        "for epoch in range(num_epochs):\n",
        "    total = 0\n",
        "    correct = 0\n",
        "    for i, (images, labels) in enumerate(train_loader_cifar100):\n",
        "        images = images.to(device)\n",
        "        labels = labels.to(device)\n",
        "        # 順伝播\n",
        "        outputs = model(images)\n",
        "        loss = criterion(outputs, labels)\n",
        "        # 逆伝播\n",
        "        optimizer.zero_grad()\n",
        "        loss.backward()\n",
        "        optimizer.step()\n",
        "        _, predicted = torch.max(outputs.data, 1)\n",
        "        # 全データ数\n",
        "        total += labels.size(0)\n",
        "        # 正解数\n",
        "        correct += (predicted == labels).sum().item()\n",
        "    # 正解率精度を計算\n",
        "    train_acc = 100 * correct / total\n",
        "    # 正解率精度と損失を確認\n",
        "    print(\"Epoch [{}/{}], Train Accuracy: {} %, Loss: {:.4f}\".format(epoch+1, num_epochs, 100 * correct / total, loss.item()))\n",
        "    # 1エポック終了後にスケジューラーを更新\n",
        "    scheduler.step(epoch)\n",
        "    # 学習率の確認\n",
        "    print(\"Epoch [{}/{}], Learning Rate: {}\".format(epoch+1, num_epochs, optimizer.param_groups[0]['lr']))\n",
        "\n",
        "\n",
        "# モデルを保存\n",
        "torch.save(model, '/content/drive/MyDrive/SupermaskWideResNet28_10_CIFAR100_from_CIFAR10_100epochs_pr0.995_normal_50epochs_lr0.01_CLRS_restest.pth')"
      ],
      "metadata": {
        "id": "Ys6GaW9nsKjo",
        "colab": {
          "base_uri": "https://localhost:8080/"
        },
        "outputId": "6aa4d6f9-3ee3-4cc2-a118-81168bdf31d7"
      },
      "execution_count": 61,
      "outputs": [
        {
          "output_type": "stream",
          "name": "stdout",
          "text": [
            "Epoch [1/50], Train Accuracy: 4.966 %, Loss: 4.3411\n",
            "Epoch [1/50], Learning Rate: 0.0001\n",
            "Epoch [2/50], Train Accuracy: 12.666 %, Loss: 4.1011\n",
            "Epoch [2/50], Learning Rate: 0.00208\n",
            "Epoch [3/50], Train Accuracy: 21.778 %, Loss: 2.9889\n",
            "Epoch [3/50], Learning Rate: 0.00406\n",
            "Epoch [4/50], Train Accuracy: 26.516 %, Loss: 2.8600\n",
            "Epoch [4/50], Learning Rate: 0.00604\n",
            "Epoch [5/50], Train Accuracy: 28.818 %, Loss: 2.7075\n",
            "Epoch [5/50], Learning Rate: 0.00802\n",
            "Epoch [6/50], Train Accuracy: 29.694 %, Loss: 2.7622\n",
            "Epoch [6/50], Learning Rate: 0.01\n",
            "Epoch [7/50], Train Accuracy: 30.684 %, Loss: 2.7747\n",
            "Epoch [7/50], Learning Rate: 0.009990232305719944\n",
            "Epoch [8/50], Train Accuracy: 32.12 %, Loss: 2.5854\n",
            "Epoch [8/50], Learning Rate: 0.009960967771506667\n",
            "Epoch [9/50], Train Accuracy: 33.082 %, Loss: 2.6937\n",
            "Epoch [9/50], Learning Rate: 0.00991232189110701\n",
            "Epoch [10/50], Train Accuracy: 33.518 %, Loss: 2.7289\n",
            "Epoch [10/50], Learning Rate: 0.009844486647586723\n",
            "Epoch [11/50], Train Accuracy: 34.06 %, Loss: 2.6667\n",
            "Epoch [11/50], Learning Rate: 0.009757729755661011\n",
            "Epoch [12/50], Train Accuracy: 34.472 %, Loss: 2.6416\n",
            "Epoch [12/50], Learning Rate: 0.009652393605146845\n",
            "Epoch [13/50], Train Accuracy: 34.966 %, Loss: 2.7182\n",
            "Epoch [13/50], Learning Rate: 0.009528893909706798\n",
            "Epoch [14/50], Train Accuracy: 35.602 %, Loss: 2.6090\n",
            "Epoch [14/50], Learning Rate: 0.009387718066217124\n",
            "Epoch [15/50], Train Accuracy: 36.306 %, Loss: 2.5791\n",
            "Epoch [15/50], Learning Rate: 0.009229423231234974\n",
            "Epoch [16/50], Train Accuracy: 36.398 %, Loss: 2.4752\n",
            "Epoch [16/50], Learning Rate: 0.00905463412215599\n",
            "Epoch [17/50], Train Accuracy: 36.302 %, Loss: 2.4741\n",
            "Epoch [17/50], Learning Rate: 0.008864040551740157\n",
            "Epoch [18/50], Train Accuracy: 36.898 %, Loss: 2.5848\n",
            "Epoch [18/50], Learning Rate: 0.008658394705735987\n",
            "Epoch [19/50], Train Accuracy: 37.15 %, Loss: 2.4448\n",
            "Epoch [19/50], Learning Rate: 0.00843850817434701\n",
            "Epoch [20/50], Train Accuracy: 37.152 %, Loss: 2.1752\n",
            "Epoch [20/50], Learning Rate: 0.008205248749256015\n",
            "Epoch [21/50], Train Accuracy: 37.466 %, Loss: 2.6221\n",
            "Epoch [21/50], Learning Rate: 0.007959536998847744\n",
            "Epoch [22/50], Train Accuracy: 37.856 %, Loss: 2.3593\n",
            "Epoch [22/50], Learning Rate: 0.007702342635146034\n",
            "Epoch [23/50], Train Accuracy: 38.508 %, Loss: 2.6022\n",
            "Epoch [23/50], Learning Rate: 0.007434680686803491\n",
            "Epoch [24/50], Train Accuracy: 38.566 %, Loss: 2.4325\n",
            "Epoch [24/50], Learning Rate: 0.0071576074932471105\n",
            "Epoch [25/50], Train Accuracy: 38.76 %, Loss: 2.5412\n",
            "Epoch [25/50], Learning Rate: 0.006872216535789157\n",
            "Epoch [26/50], Train Accuracy: 39.146 %, Loss: 2.3036\n",
            "Epoch [26/50], Learning Rate: 0.006579634122155991\n",
            "Epoch [27/50], Train Accuracy: 39.372 %, Loss: 2.4715\n",
            "Epoch [27/50], Learning Rate: 0.0062810149414660316\n",
            "Epoch [28/50], Train Accuracy: 39.804 %, Loss: 2.4777\n",
            "Epoch [28/50], Learning Rate: 0.005977537507199339\n",
            "Epoch [29/50], Train Accuracy: 39.526 %, Loss: 2.3688\n",
            "Epoch [29/50], Learning Rate: 0.005670399506143308\n",
            "Epoch [30/50], Train Accuracy: 40.088 %, Loss: 2.3627\n",
            "Epoch [30/50], Learning Rate: 0.005360813071670102\n",
            "Epoch [31/50], Train Accuracy: 40.154 %, Loss: 2.2783\n",
            "Epoch [31/50], Learning Rate: 0.005050000000000001\n",
            "Epoch [32/50], Train Accuracy: 40.398 %, Loss: 2.3154\n",
            "Epoch [32/50], Learning Rate: 0.004739186928329899\n",
            "Epoch [33/50], Train Accuracy: 40.758 %, Loss: 2.3950\n",
            "Epoch [33/50], Learning Rate: 0.004429600493856695\n",
            "Epoch [34/50], Train Accuracy: 40.68 %, Loss: 2.4129\n",
            "Epoch [34/50], Learning Rate: 0.0041224624928006635\n",
            "Epoch [35/50], Train Accuracy: 41.136 %, Loss: 2.2508\n",
            "Epoch [35/50], Learning Rate: 0.0038189850585339685\n",
            "Epoch [36/50], Train Accuracy: 41.24 %, Loss: 2.3222\n",
            "Epoch [36/50], Learning Rate: 0.003520365877844012\n",
            "Epoch [37/50], Train Accuracy: 41.608 %, Loss: 2.3441\n",
            "Epoch [37/50], Learning Rate: 0.0032277834642108457\n",
            "Epoch [38/50], Train Accuracy: 41.486 %, Loss: 2.3447\n",
            "Epoch [38/50], Learning Rate: 0.0029423925067528904\n",
            "Epoch [39/50], Train Accuracy: 41.61 %, Loss: 2.5450\n",
            "Epoch [39/50], Learning Rate: 0.002665319313196509\n",
            "Epoch [40/50], Train Accuracy: 42.126 %, Loss: 2.4129\n",
            "Epoch [40/50], Learning Rate: 0.0023976573648539653\n",
            "Epoch [41/50], Train Accuracy: 42.094 %, Loss: 2.3943\n",
            "Epoch [41/50], Learning Rate: 0.0021404630011522584\n",
            "Epoch [42/50], Train Accuracy: 42.606 %, Loss: 2.2713\n",
            "Epoch [42/50], Learning Rate: 0.001894751250743986\n",
            "Epoch [43/50], Train Accuracy: 42.442 %, Loss: 2.2448\n",
            "Epoch [43/50], Learning Rate: 0.001661491825652991\n",
            "Epoch [44/50], Train Accuracy: 42.7 %, Loss: 2.1791\n",
            "Epoch [44/50], Learning Rate: 0.001441605294264014\n",
            "Epoch [45/50], Train Accuracy: 42.888 %, Loss: 2.3254\n",
            "Epoch [45/50], Learning Rate: 0.001235959448259844\n",
            "Epoch [46/50], Train Accuracy: 42.96 %, Loss: 2.3177\n",
            "Epoch [46/50], Learning Rate: 0.0010453658778440107\n",
            "Epoch [47/50], Train Accuracy: 43.246 %, Loss: 2.1909\n",
            "Epoch [47/50], Learning Rate: 0.0008705767687650265\n",
            "Epoch [48/50], Train Accuracy: 43.308 %, Loss: 2.2290\n",
            "Epoch [48/50], Learning Rate: 0.0007122819337828754\n",
            "Epoch [49/50], Train Accuracy: 43.54 %, Loss: 2.1127\n",
            "Epoch [49/50], Learning Rate: 0.0005711060902932043\n",
            "Epoch [50/50], Train Accuracy: 43.608 %, Loss: 1.9983\n",
            "Epoch [50/50], Learning Rate: 0.00044760639485315584\n"
          ]
        }
      ]
    },
    {
      "cell_type": "code",
      "source": [
        "# モデルの刈り込み率を計算する関数を作成\n",
        "def calculate_pruned_ratio(model):\n",
        "    total_weights = 0\n",
        "    total_pruned_weights = 0\n",
        "\n",
        "    for module in model.modules():\n",
        "        # モジュールがSupermaskConvであるか確認\n",
        "        if isinstance(module, SupermaskConv):\n",
        "            # SupermaskConv層の重みを取得\n",
        "            weight = module.weight.data\n",
        "            # 刈り込みを適用した後の重みを取得\n",
        "            subnet = GetSubnet.apply(module.clamped_scores, 1 - module.prune_rate)\n",
        "            pruned_weight = weight * subnet\n",
        "            # 0である要素数を計算\n",
        "            pruned_weights_count = (pruned_weight == 0).sum().item()\n",
        "            total_pruned_weights += pruned_weights_count\n",
        "            # 重みの全要素数を計算\n",
        "            total_weights_count = pruned_weight.numel()\n",
        "            total_weights += total_weights_count\n",
        "\n",
        "    # 刈り込みが行われた割合を計算\n",
        "    pruned_ratio = total_pruned_weights / total_weights\n",
        "    return print(f\"刈り込み率は{pruned_ratio:.3f}です\")\n",
        "\n",
        "# モデルの刈り込み率を確認\n",
        "calculate_pruned_ratio(model)"
      ],
      "metadata": {
        "id": "FKdXWvTGsKjo",
        "colab": {
          "base_uri": "https://localhost:8080/"
        },
        "outputId": "ff1c9406-4d12-4079-a5d4-d19fd950dc7d"
      },
      "execution_count": 62,
      "outputs": [
        {
          "output_type": "stream",
          "name": "stdout",
          "text": [
            "刈り込み率は0.995です\n"
          ]
        }
      ]
    },
    {
      "cell_type": "code",
      "source": [
        "# 学習前後のモデルのスコアを比較する関数を作成\n",
        "def check_scores_change(model, model_init):\n",
        "    # 各モデルの名前付きモジュールを順に調べる\n",
        "    for (name, module), (name_init, module_init) in zip(model.named_modules(), model_init.named_modules()):\n",
        "        # 両モジュールがConv2dのインスタンスであるかを確認\n",
        "        if isinstance(module, torch.nn.Conv2d) and isinstance(module_init, torch.nn.Conv2d):\n",
        "            # 両モジュールが'scores'属性を持っているかを確認\n",
        "            if hasattr(module, 'scores') and hasattr(module_init, 'scores'):\n",
        "                # 両モジュールの'scores'属性が一致しているかを確認\n",
        "                # 一致していない場合、変更があったことを示すメッセージを出力\n",
        "                if not torch.equal(module.scores, module_init.scores):\n",
        "                    print(f'{name}のスコアが変化しています')\n",
        "                    return\n",
        "    # すべてのconv層で'scores'が変更されていない場合、その旨を出力\n",
        "    print('すべてのスコアは変化していません')\n",
        "\n",
        "# 学習前後でモデルのスコアが変化していないかを確認\n",
        "check_scores_change(model, model_init)"
      ],
      "metadata": {
        "id": "av4C_G4hsKjo",
        "colab": {
          "base_uri": "https://localhost:8080/"
        },
        "outputId": "0c8ce56c-bbe2-46f0-e437-e85227a0409a"
      },
      "execution_count": 63,
      "outputs": [
        {
          "output_type": "stream",
          "name": "stdout",
          "text": [
            "すべてのスコアは変化していません\n"
          ]
        }
      ]
    },
    {
      "cell_type": "code",
      "source": [
        "# 学習前後のモデルの最終層以外の重みを比較する関数を作成\n",
        "def check_weight_change_except_last(model, model_init):\n",
        "    for (name, param), (name_init, param_init) in zip(model.named_parameters(), model_init.named_parameters()):\n",
        "        # 最終層を除く\n",
        "        if name != 'fc.weight' and name != 'fc.bias':\n",
        "            weights_changed = (param.data != param_init.data).any()\n",
        "            if weights_changed:\n",
        "                return print('最終層以外の重みが変化しています')\n",
        "    return print('最終層以外の重みは変化していません')\n",
        "\n",
        "# 学習前後でモデルの最終層以外の重みが変化していないかを確認\n",
        "check_weight_change_except_last(model, model_init)"
      ],
      "metadata": {
        "id": "g-VKHtD_sKjo",
        "colab": {
          "base_uri": "https://localhost:8080/"
        },
        "outputId": "66960b48-0ce7-41f4-8c9f-0eef041aa00d"
      },
      "execution_count": 64,
      "outputs": [
        {
          "output_type": "stream",
          "name": "stdout",
          "text": [
            "最終層以外の重みは変化していません\n"
          ]
        }
      ]
    },
    {
      "cell_type": "code",
      "source": [
        "# モデルの評価\n",
        "model.eval()\n",
        "with torch.no_grad():\n",
        "    total = 0\n",
        "    correct = 0\n",
        "    for images, labels in test_loader_cifar100:\n",
        "        images = images.to(device)\n",
        "        labels = labels.to(device)\n",
        "        outputs = model(images)\n",
        "        _, predicted = torch.max(outputs.data, 1)\n",
        "        total += labels.size(0)\n",
        "        correct += (predicted == labels).sum().item()\n",
        "    # 正解率精度の確認\n",
        "    print('Test Accuracy: {} %'.format(100 * correct / total))"
      ],
      "metadata": {
        "id": "ZCufdW6FsKjo",
        "colab": {
          "base_uri": "https://localhost:8080/"
        },
        "outputId": "0cb8ceeb-2792-4432-f507-af86ab6febef"
      },
      "execution_count": 65,
      "outputs": [
        {
          "output_type": "stream",
          "name": "stdout",
          "text": [
            "Test Accuracy: 42.03 %\n"
          ]
        }
      ]
    },
    {
      "cell_type": "code",
      "source": [
        "# GPUメモリの解放\n",
        "del model, model_init\n",
        "torch.cuda.empty_cache()"
      ],
      "metadata": {
        "id": "Y9-eOxW1sKjp"
      },
      "execution_count": 66,
      "outputs": []
    },
    {
      "cell_type": "markdown",
      "source": [
        "### prune_rate=0.99"
      ],
      "metadata": {
        "id": "VkScBTgxsKjp"
      }
    },
    {
      "cell_type": "code",
      "source": [
        "# デバイスを設定\n",
        "device = torch.device('cuda' if torch.cuda.is_available() else 'cpu')\n",
        "# モデルを定義\n",
        "model = torch.load('/content/drive/MyDrive/SupermaskWideResNet28_10_CIFAR10_100epochs_pr0.99_normal_CLRS_restest.pth')\n",
        "# 最終層を変更\n",
        "model.fc = nn.Linear(model.fc.in_features, 100)\n",
        "# 最終層以外のパラメータの勾配計算を停止\n",
        "for param in model.parameters():\n",
        "    param.requires_grad = False\n",
        "# 最終層のパラメータのみを学習するように設定\n",
        "for param in model.fc.parameters():\n",
        "    param.requires_grad = True\n",
        "# モデルをデバイスに転送\n",
        "model = model.to(device)\n",
        "# 変更後のモデルの重みを保存\n",
        "model_init = copy.deepcopy(model)\n",
        "\n",
        "# 学習率を設定\n",
        "learning_rate = 0.01\n",
        "# 全体のepoch数を設定\n",
        "num_epochs = 50\n",
        "# warm-upするepoch数を設定\n",
        "warmup_epochs = 5\n",
        "\n",
        "# 損失関数を定義\n",
        "criterion = nn.CrossEntropyLoss()\n",
        "# オプティマイザーを設定\n",
        "optimizer = optim.Adam(model.fc.parameters(), lr=learning_rate)\n",
        "# スケジューラーを設定\n",
        "scheduler = CosineLRScheduler(optimizer, t_initial=num_epochs, lr_min=1e-4, warmup_t=warmup_epochs, warmup_lr_init=1e-4, warmup_prefix=True)\n",
        "\n",
        "# モデルの学習\n",
        "for epoch in range(num_epochs):\n",
        "    total = 0\n",
        "    correct = 0\n",
        "    for i, (images, labels) in enumerate(train_loader_cifar100):\n",
        "        images = images.to(device)\n",
        "        labels = labels.to(device)\n",
        "        # 順伝播\n",
        "        outputs = model(images)\n",
        "        loss = criterion(outputs, labels)\n",
        "        # 逆伝播\n",
        "        optimizer.zero_grad()\n",
        "        loss.backward()\n",
        "        optimizer.step()\n",
        "        _, predicted = torch.max(outputs.data, 1)\n",
        "        # 全データ数\n",
        "        total += labels.size(0)\n",
        "        # 正解数\n",
        "        correct += (predicted == labels).sum().item()\n",
        "    # 正解率精度を計算\n",
        "    train_acc = 100 * correct / total\n",
        "    # 正解率精度と損失を確認\n",
        "    print(\"Epoch [{}/{}], Train Accuracy: {} %, Loss: {:.4f}\".format(epoch+1, num_epochs, 100 * correct / total, loss.item()))\n",
        "    # 1エポック終了後にスケジューラーを更新\n",
        "    scheduler.step(epoch)\n",
        "    # 学習率の確認\n",
        "    print(\"Epoch [{}/{}], Learning Rate: {}\".format(epoch+1, num_epochs, optimizer.param_groups[0]['lr']))\n",
        "\n",
        "\n",
        "# モデルを保存\n",
        "torch.save(model, '/content/drive/MyDrive/SupermaskWideResNet28_10_CIFAR100_from_CIFAR10_100epochs_pr0.99_normal_50epochs_lr0.01_CLRS_restest.pth')"
      ],
      "metadata": {
        "id": "QiH_-IeRsKjp",
        "colab": {
          "base_uri": "https://localhost:8080/"
        },
        "outputId": "75168da7-a7b6-43d3-d845-1bb764ecc925"
      },
      "execution_count": 67,
      "outputs": [
        {
          "output_type": "stream",
          "name": "stdout",
          "text": [
            "Epoch [1/50], Train Accuracy: 5.558 %, Loss: 4.2711\n",
            "Epoch [1/50], Learning Rate: 0.0001\n",
            "Epoch [2/50], Train Accuracy: 14.226 %, Loss: 4.0231\n",
            "Epoch [2/50], Learning Rate: 0.00208\n",
            "Epoch [3/50], Train Accuracy: 25.276 %, Loss: 2.9027\n",
            "Epoch [3/50], Learning Rate: 0.00406\n",
            "Epoch [4/50], Train Accuracy: 31.63 %, Loss: 2.6971\n",
            "Epoch [4/50], Learning Rate: 0.00604\n",
            "Epoch [5/50], Train Accuracy: 34.126 %, Loss: 2.6127\n",
            "Epoch [5/50], Learning Rate: 0.00802\n",
            "Epoch [6/50], Train Accuracy: 35.63 %, Loss: 2.5276\n",
            "Epoch [6/50], Learning Rate: 0.01\n",
            "Epoch [7/50], Train Accuracy: 36.614 %, Loss: 2.5193\n",
            "Epoch [7/50], Learning Rate: 0.009990232305719944\n",
            "Epoch [8/50], Train Accuracy: 38.064 %, Loss: 2.3230\n",
            "Epoch [8/50], Learning Rate: 0.009960967771506667\n",
            "Epoch [9/50], Train Accuracy: 39.43 %, Loss: 2.3558\n",
            "Epoch [9/50], Learning Rate: 0.00991232189110701\n",
            "Epoch [10/50], Train Accuracy: 40.482 %, Loss: 2.2271\n",
            "Epoch [10/50], Learning Rate: 0.009844486647586723\n",
            "Epoch [11/50], Train Accuracy: 40.792 %, Loss: 2.2665\n",
            "Epoch [11/50], Learning Rate: 0.009757729755661011\n",
            "Epoch [12/50], Train Accuracy: 41.748 %, Loss: 2.3206\n",
            "Epoch [12/50], Learning Rate: 0.009652393605146845\n",
            "Epoch [13/50], Train Accuracy: 42.146 %, Loss: 2.3873\n",
            "Epoch [13/50], Learning Rate: 0.009528893909706798\n",
            "Epoch [14/50], Train Accuracy: 43.084 %, Loss: 2.2234\n",
            "Epoch [14/50], Learning Rate: 0.009387718066217124\n",
            "Epoch [15/50], Train Accuracy: 43.252 %, Loss: 2.1394\n",
            "Epoch [15/50], Learning Rate: 0.009229423231234974\n",
            "Epoch [16/50], Train Accuracy: 43.788 %, Loss: 2.2246\n",
            "Epoch [16/50], Learning Rate: 0.00905463412215599\n",
            "Epoch [17/50], Train Accuracy: 44.074 %, Loss: 2.0889\n",
            "Epoch [17/50], Learning Rate: 0.008864040551740157\n",
            "Epoch [18/50], Train Accuracy: 44.576 %, Loss: 2.0202\n",
            "Epoch [18/50], Learning Rate: 0.008658394705735987\n",
            "Epoch [19/50], Train Accuracy: 45.04 %, Loss: 2.2377\n",
            "Epoch [19/50], Learning Rate: 0.00843850817434701\n",
            "Epoch [20/50], Train Accuracy: 45.296 %, Loss: 2.0733\n",
            "Epoch [20/50], Learning Rate: 0.008205248749256015\n",
            "Epoch [21/50], Train Accuracy: 45.704 %, Loss: 2.1375\n",
            "Epoch [21/50], Learning Rate: 0.007959536998847744\n",
            "Epoch [22/50], Train Accuracy: 45.882 %, Loss: 2.0230\n",
            "Epoch [22/50], Learning Rate: 0.007702342635146034\n",
            "Epoch [23/50], Train Accuracy: 46.362 %, Loss: 2.1664\n",
            "Epoch [23/50], Learning Rate: 0.007434680686803491\n",
            "Epoch [24/50], Train Accuracy: 46.508 %, Loss: 1.9844\n",
            "Epoch [24/50], Learning Rate: 0.0071576074932471105\n",
            "Epoch [25/50], Train Accuracy: 46.944 %, Loss: 2.1080\n",
            "Epoch [25/50], Learning Rate: 0.006872216535789157\n",
            "Epoch [26/50], Train Accuracy: 47.338 %, Loss: 2.2257\n",
            "Epoch [26/50], Learning Rate: 0.006579634122155991\n",
            "Epoch [27/50], Train Accuracy: 47.552 %, Loss: 2.1089\n",
            "Epoch [27/50], Learning Rate: 0.0062810149414660316\n",
            "Epoch [28/50], Train Accuracy: 47.456 %, Loss: 2.1508\n",
            "Epoch [28/50], Learning Rate: 0.005977537507199339\n",
            "Epoch [29/50], Train Accuracy: 47.948 %, Loss: 1.8982\n",
            "Epoch [29/50], Learning Rate: 0.005670399506143308\n",
            "Epoch [30/50], Train Accuracy: 48.116 %, Loss: 1.9904\n",
            "Epoch [30/50], Learning Rate: 0.005360813071670102\n",
            "Epoch [31/50], Train Accuracy: 48.6 %, Loss: 1.9029\n",
            "Epoch [31/50], Learning Rate: 0.005050000000000001\n",
            "Epoch [32/50], Train Accuracy: 48.668 %, Loss: 1.8384\n",
            "Epoch [32/50], Learning Rate: 0.004739186928329899\n",
            "Epoch [33/50], Train Accuracy: 48.906 %, Loss: 2.0304\n",
            "Epoch [33/50], Learning Rate: 0.004429600493856695\n",
            "Epoch [34/50], Train Accuracy: 49.204 %, Loss: 1.8436\n",
            "Epoch [34/50], Learning Rate: 0.0041224624928006635\n",
            "Epoch [35/50], Train Accuracy: 49.544 %, Loss: 1.8289\n",
            "Epoch [35/50], Learning Rate: 0.0038189850585339685\n",
            "Epoch [36/50], Train Accuracy: 49.34 %, Loss: 1.9122\n",
            "Epoch [36/50], Learning Rate: 0.003520365877844012\n",
            "Epoch [37/50], Train Accuracy: 49.83 %, Loss: 1.9511\n",
            "Epoch [37/50], Learning Rate: 0.0032277834642108457\n",
            "Epoch [38/50], Train Accuracy: 50.176 %, Loss: 1.8050\n",
            "Epoch [38/50], Learning Rate: 0.0029423925067528904\n",
            "Epoch [39/50], Train Accuracy: 50.168 %, Loss: 1.8590\n",
            "Epoch [39/50], Learning Rate: 0.002665319313196509\n",
            "Epoch [40/50], Train Accuracy: 50.552 %, Loss: 1.6489\n",
            "Epoch [40/50], Learning Rate: 0.0023976573648539653\n",
            "Epoch [41/50], Train Accuracy: 50.694 %, Loss: 1.7785\n",
            "Epoch [41/50], Learning Rate: 0.0021404630011522584\n",
            "Epoch [42/50], Train Accuracy: 50.964 %, Loss: 1.9475\n",
            "Epoch [42/50], Learning Rate: 0.001894751250743986\n",
            "Epoch [43/50], Train Accuracy: 51.052 %, Loss: 1.7463\n",
            "Epoch [43/50], Learning Rate: 0.001661491825652991\n",
            "Epoch [44/50], Train Accuracy: 50.982 %, Loss: 1.7904\n",
            "Epoch [44/50], Learning Rate: 0.001441605294264014\n",
            "Epoch [45/50], Train Accuracy: 51.464 %, Loss: 1.8454\n",
            "Epoch [45/50], Learning Rate: 0.001235959448259844\n",
            "Epoch [46/50], Train Accuracy: 51.554 %, Loss: 1.7949\n",
            "Epoch [46/50], Learning Rate: 0.0010453658778440107\n",
            "Epoch [47/50], Train Accuracy: 51.56 %, Loss: 1.7268\n",
            "Epoch [47/50], Learning Rate: 0.0008705767687650265\n",
            "Epoch [48/50], Train Accuracy: 51.758 %, Loss: 1.7868\n",
            "Epoch [48/50], Learning Rate: 0.0007122819337828754\n",
            "Epoch [49/50], Train Accuracy: 52.14 %, Loss: 1.8198\n",
            "Epoch [49/50], Learning Rate: 0.0005711060902932043\n",
            "Epoch [50/50], Train Accuracy: 52.042 %, Loss: 1.7830\n",
            "Epoch [50/50], Learning Rate: 0.00044760639485315584\n"
          ]
        }
      ]
    },
    {
      "cell_type": "code",
      "source": [
        "# モデルの刈り込み率を計算する関数を作成\n",
        "def calculate_pruned_ratio(model):\n",
        "    total_weights = 0\n",
        "    total_pruned_weights = 0\n",
        "\n",
        "    for module in model.modules():\n",
        "        # モジュールがSupermaskConvであるか確認\n",
        "        if isinstance(module, SupermaskConv):\n",
        "            # SupermaskConv層の重みを取得\n",
        "            weight = module.weight.data\n",
        "            # 刈り込みを適用した後の重みを取得\n",
        "            subnet = GetSubnet.apply(module.clamped_scores, 1 - module.prune_rate)\n",
        "            pruned_weight = weight * subnet\n",
        "            # 0である要素数を計算\n",
        "            pruned_weights_count = (pruned_weight == 0).sum().item()\n",
        "            total_pruned_weights += pruned_weights_count\n",
        "            # 重みの全要素数を計算\n",
        "            total_weights_count = pruned_weight.numel()\n",
        "            total_weights += total_weights_count\n",
        "\n",
        "    # 刈り込みが行われた割合を計算\n",
        "    pruned_ratio = total_pruned_weights / total_weights\n",
        "    return print(f\"刈り込み率は{pruned_ratio:.3f}です\")\n",
        "\n",
        "# モデルの刈り込み率を確認\n",
        "calculate_pruned_ratio(model)"
      ],
      "metadata": {
        "id": "cJfgbkhZsKjp",
        "colab": {
          "base_uri": "https://localhost:8080/"
        },
        "outputId": "df2cf453-f68c-4c4d-d2bb-e023255e646f"
      },
      "execution_count": 68,
      "outputs": [
        {
          "output_type": "stream",
          "name": "stdout",
          "text": [
            "刈り込み率は0.990です\n"
          ]
        }
      ]
    },
    {
      "cell_type": "code",
      "source": [
        "# 学習前後のモデルのスコアを比較する関数を作成\n",
        "def check_scores_change(model, model_init):\n",
        "    # 各モデルの名前付きモジュールを順に調べる\n",
        "    for (name, module), (name_init, module_init) in zip(model.named_modules(), model_init.named_modules()):\n",
        "        # 両モジュールがConv2dのインスタンスであるかを確認\n",
        "        if isinstance(module, torch.nn.Conv2d) and isinstance(module_init, torch.nn.Conv2d):\n",
        "            # 両モジュールが'scores'属性を持っているかを確認\n",
        "            if hasattr(module, 'scores') and hasattr(module_init, 'scores'):\n",
        "                # 両モジュールの'scores'属性が一致しているかを確認\n",
        "                # 一致していない場合、変更があったことを示すメッセージを出力\n",
        "                if not torch.equal(module.scores, module_init.scores):\n",
        "                    print(f'{name}のスコアが変化しています')\n",
        "                    return\n",
        "    # すべてのconv層で'scores'が変更されていない場合、その旨を出力\n",
        "    print('すべてのスコアは変化していません')\n",
        "\n",
        "# 学習前後でモデルのスコアが変化していないかを確認\n",
        "check_scores_change(model, model_init)"
      ],
      "metadata": {
        "id": "nH5bKN32sKjp",
        "colab": {
          "base_uri": "https://localhost:8080/"
        },
        "outputId": "6e902eb6-25d7-4826-e01d-9505435e6802"
      },
      "execution_count": 69,
      "outputs": [
        {
          "output_type": "stream",
          "name": "stdout",
          "text": [
            "すべてのスコアは変化していません\n"
          ]
        }
      ]
    },
    {
      "cell_type": "code",
      "source": [
        "# 学習前後のモデルの最終層以外の重みを比較する関数を作成\n",
        "def check_weight_change_except_last(model, model_init):\n",
        "    for (name, param), (name_init, param_init) in zip(model.named_parameters(), model_init.named_parameters()):\n",
        "        # 最終層を除く\n",
        "        if name != 'fc.weight' and name != 'fc.bias':\n",
        "            weights_changed = (param.data != param_init.data).any()\n",
        "            if weights_changed:\n",
        "                return print('最終層以外の重みが変化しています')\n",
        "    return print('最終層以外の重みは変化していません')\n",
        "\n",
        "# 学習前後でモデルの最終層以外の重みが変化していないかを確認\n",
        "check_weight_change_except_last(model, model_init)"
      ],
      "metadata": {
        "id": "HTHezonHsKjp",
        "colab": {
          "base_uri": "https://localhost:8080/"
        },
        "outputId": "fe5c60b1-94e3-4579-9955-03b5b3fa77aa"
      },
      "execution_count": 70,
      "outputs": [
        {
          "output_type": "stream",
          "name": "stdout",
          "text": [
            "最終層以外の重みは変化していません\n"
          ]
        }
      ]
    },
    {
      "cell_type": "code",
      "source": [
        "# モデルの評価\n",
        "model.eval()\n",
        "with torch.no_grad():\n",
        "    total = 0\n",
        "    correct = 0\n",
        "    for images, labels in test_loader_cifar100:\n",
        "        images = images.to(device)\n",
        "        labels = labels.to(device)\n",
        "        outputs = model(images)\n",
        "        _, predicted = torch.max(outputs.data, 1)\n",
        "        total += labels.size(0)\n",
        "        correct += (predicted == labels).sum().item()\n",
        "    # 正解率精度の確認\n",
        "    print('Test Accuracy: {} %'.format(100 * correct / total))"
      ],
      "metadata": {
        "id": "6zrYAw0HsKjp",
        "colab": {
          "base_uri": "https://localhost:8080/"
        },
        "outputId": "e794b47f-78d5-489d-c371-2ad9728acb8a"
      },
      "execution_count": 71,
      "outputs": [
        {
          "output_type": "stream",
          "name": "stdout",
          "text": [
            "Test Accuracy: 51.99 %\n"
          ]
        }
      ]
    },
    {
      "cell_type": "code",
      "source": [
        "# GPUメモリの解放\n",
        "del model, model_init\n",
        "torch.cuda.empty_cache()"
      ],
      "metadata": {
        "id": "lHw2fRutsKjq"
      },
      "execution_count": 72,
      "outputs": []
    },
    {
      "cell_type": "markdown",
      "source": [
        "### prune_rate=0.95"
      ],
      "metadata": {
        "id": "jol7GLjisKjq"
      }
    },
    {
      "cell_type": "code",
      "source": [
        "# デバイスを設定\n",
        "device = torch.device('cuda' if torch.cuda.is_available() else 'cpu')\n",
        "# モデルを定義\n",
        "model = torch.load('/content/drive/MyDrive/SupermaskWideResNet28_10_CIFAR10_100epochs_pr0.95_normal_CLRS_restest.pth')\n",
        "# 最終層を変更\n",
        "model.fc = nn.Linear(model.fc.in_features, 100)\n",
        "# 最終層以外のパラメータの勾配計算を停止\n",
        "for param in model.parameters():\n",
        "    param.requires_grad = False\n",
        "# 最終層のパラメータのみを学習するように設定\n",
        "for param in model.fc.parameters():\n",
        "    param.requires_grad = True\n",
        "# モデルをデバイスに転送\n",
        "model = model.to(device)\n",
        "# 変更後のモデルの重みを保存\n",
        "model_init = copy.deepcopy(model)\n",
        "\n",
        "# 学習率を設定\n",
        "learning_rate = 0.01\n",
        "# 全体のepoch数を設定\n",
        "num_epochs = 50\n",
        "# warm-upするepoch数を設定\n",
        "warmup_epochs = 5\n",
        "\n",
        "# 損失関数を定義\n",
        "criterion = nn.CrossEntropyLoss()\n",
        "# オプティマイザーを設定\n",
        "optimizer = optim.Adam(model.fc.parameters(), lr=learning_rate)\n",
        "# スケジューラーを設定\n",
        "scheduler = CosineLRScheduler(optimizer, t_initial=num_epochs, lr_min=1e-4, warmup_t=warmup_epochs, warmup_lr_init=1e-4, warmup_prefix=True)\n",
        "\n",
        "# モデルの学習\n",
        "for epoch in range(num_epochs):\n",
        "    total = 0\n",
        "    correct = 0\n",
        "    for i, (images, labels) in enumerate(train_loader_cifar100):\n",
        "        images = images.to(device)\n",
        "        labels = labels.to(device)\n",
        "        # 順伝播\n",
        "        outputs = model(images)\n",
        "        loss = criterion(outputs, labels)\n",
        "        # 逆伝播\n",
        "        optimizer.zero_grad()\n",
        "        loss.backward()\n",
        "        optimizer.step()\n",
        "        _, predicted = torch.max(outputs.data, 1)\n",
        "        # 全データ数\n",
        "        total += labels.size(0)\n",
        "        # 正解数\n",
        "        correct += (predicted == labels).sum().item()\n",
        "    # 正解率精度を計算\n",
        "    train_acc = 100 * correct / total\n",
        "    # 正解率精度と損失を確認\n",
        "    print(\"Epoch [{}/{}], Train Accuracy: {} %, Loss: {:.4f}\".format(epoch+1, num_epochs, 100 * correct / total, loss.item()))\n",
        "    # 1エポック終了後にスケジューラーを更新\n",
        "    scheduler.step(epoch)\n",
        "    # 学習率の確認\n",
        "    print(\"Epoch [{}/{}], Learning Rate: {}\".format(epoch+1, num_epochs, optimizer.param_groups[0]['lr']))\n",
        "\n",
        "\n",
        "# モデルを保存\n",
        "torch.save(model, '/content/drive/MyDrive/SupermaskWideResNet28_10_CIFAR100_from_CIFAR10_100epochs_pr0.95_normal_50epochs_lr0.01_CLRS_restest.pth')"
      ],
      "metadata": {
        "id": "J_B7bedqsKjq",
        "colab": {
          "base_uri": "https://localhost:8080/"
        },
        "outputId": "2c928e94-a71e-4d62-9976-15fb4ce87133"
      },
      "execution_count": 73,
      "outputs": [
        {
          "output_type": "stream",
          "name": "stdout",
          "text": [
            "Epoch [1/50], Train Accuracy: 5.732 %, Loss: 4.2158\n",
            "Epoch [1/50], Learning Rate: 0.0001\n",
            "Epoch [2/50], Train Accuracy: 14.024 %, Loss: 3.9188\n",
            "Epoch [2/50], Learning Rate: 0.00208\n",
            "Epoch [3/50], Train Accuracy: 22.924 %, Loss: 3.0425\n",
            "Epoch [3/50], Learning Rate: 0.00406\n",
            "Epoch [4/50], Train Accuracy: 29.06 %, Loss: 2.6123\n",
            "Epoch [4/50], Learning Rate: 0.00604\n",
            "Epoch [5/50], Train Accuracy: 33.048 %, Loss: 2.4996\n",
            "Epoch [5/50], Learning Rate: 0.00802\n",
            "Epoch [6/50], Train Accuracy: 35.41 %, Loss: 2.4582\n",
            "Epoch [6/50], Learning Rate: 0.01\n",
            "Epoch [7/50], Train Accuracy: 37.06 %, Loss: 2.4245\n",
            "Epoch [7/50], Learning Rate: 0.009990232305719944\n",
            "Epoch [8/50], Train Accuracy: 38.738 %, Loss: 2.4288\n",
            "Epoch [8/50], Learning Rate: 0.009960967771506667\n",
            "Epoch [9/50], Train Accuracy: 39.968 %, Loss: 2.3988\n",
            "Epoch [9/50], Learning Rate: 0.00991232189110701\n",
            "Epoch [10/50], Train Accuracy: 41.312 %, Loss: 2.2333\n",
            "Epoch [10/50], Learning Rate: 0.009844486647586723\n",
            "Epoch [11/50], Train Accuracy: 42.074 %, Loss: 2.2325\n",
            "Epoch [11/50], Learning Rate: 0.009757729755661011\n",
            "Epoch [12/50], Train Accuracy: 43.068 %, Loss: 2.0764\n",
            "Epoch [12/50], Learning Rate: 0.009652393605146845\n",
            "Epoch [13/50], Train Accuracy: 43.72 %, Loss: 2.1143\n",
            "Epoch [13/50], Learning Rate: 0.009528893909706798\n",
            "Epoch [14/50], Train Accuracy: 44.376 %, Loss: 2.1076\n",
            "Epoch [14/50], Learning Rate: 0.009387718066217124\n",
            "Epoch [15/50], Train Accuracy: 44.932 %, Loss: 1.9911\n",
            "Epoch [15/50], Learning Rate: 0.009229423231234974\n",
            "Epoch [16/50], Train Accuracy: 45.45 %, Loss: 2.1201\n",
            "Epoch [16/50], Learning Rate: 0.00905463412215599\n",
            "Epoch [17/50], Train Accuracy: 45.516 %, Loss: 2.0520\n",
            "Epoch [17/50], Learning Rate: 0.008864040551740157\n",
            "Epoch [18/50], Train Accuracy: 46.132 %, Loss: 2.0048\n",
            "Epoch [18/50], Learning Rate: 0.008658394705735987\n",
            "Epoch [19/50], Train Accuracy: 47.008 %, Loss: 1.8064\n",
            "Epoch [19/50], Learning Rate: 0.00843850817434701\n",
            "Epoch [20/50], Train Accuracy: 47.31 %, Loss: 1.9340\n",
            "Epoch [20/50], Learning Rate: 0.008205248749256015\n",
            "Epoch [21/50], Train Accuracy: 47.762 %, Loss: 1.8662\n",
            "Epoch [21/50], Learning Rate: 0.007959536998847744\n",
            "Epoch [22/50], Train Accuracy: 47.888 %, Loss: 1.8731\n",
            "Epoch [22/50], Learning Rate: 0.007702342635146034\n",
            "Epoch [23/50], Train Accuracy: 48.304 %, Loss: 1.7637\n",
            "Epoch [23/50], Learning Rate: 0.007434680686803491\n",
            "Epoch [24/50], Train Accuracy: 48.714 %, Loss: 1.9357\n",
            "Epoch [24/50], Learning Rate: 0.0071576074932471105\n",
            "Epoch [25/50], Train Accuracy: 49.232 %, Loss: 1.7714\n",
            "Epoch [25/50], Learning Rate: 0.006872216535789157\n",
            "Epoch [26/50], Train Accuracy: 49.122 %, Loss: 1.8813\n",
            "Epoch [26/50], Learning Rate: 0.006579634122155991\n",
            "Epoch [27/50], Train Accuracy: 49.566 %, Loss: 1.7972\n",
            "Epoch [27/50], Learning Rate: 0.0062810149414660316\n",
            "Epoch [28/50], Train Accuracy: 49.864 %, Loss: 1.9476\n",
            "Epoch [28/50], Learning Rate: 0.005977537507199339\n",
            "Epoch [29/50], Train Accuracy: 50.206 %, Loss: 1.8488\n",
            "Epoch [29/50], Learning Rate: 0.005670399506143308\n",
            "Epoch [30/50], Train Accuracy: 50.33 %, Loss: 1.8603\n",
            "Epoch [30/50], Learning Rate: 0.005360813071670102\n",
            "Epoch [31/50], Train Accuracy: 50.71 %, Loss: 1.8266\n",
            "Epoch [31/50], Learning Rate: 0.005050000000000001\n",
            "Epoch [32/50], Train Accuracy: 51.054 %, Loss: 1.9197\n",
            "Epoch [32/50], Learning Rate: 0.004739186928329899\n",
            "Epoch [33/50], Train Accuracy: 51.17 %, Loss: 2.0253\n",
            "Epoch [33/50], Learning Rate: 0.004429600493856695\n",
            "Epoch [34/50], Train Accuracy: 51.578 %, Loss: 1.6149\n",
            "Epoch [34/50], Learning Rate: 0.0041224624928006635\n",
            "Epoch [35/50], Train Accuracy: 52.012 %, Loss: 1.9364\n",
            "Epoch [35/50], Learning Rate: 0.0038189850585339685\n",
            "Epoch [36/50], Train Accuracy: 52.188 %, Loss: 1.8670\n",
            "Epoch [36/50], Learning Rate: 0.003520365877844012\n",
            "Epoch [37/50], Train Accuracy: 52.446 %, Loss: 1.7046\n",
            "Epoch [37/50], Learning Rate: 0.0032277834642108457\n",
            "Epoch [38/50], Train Accuracy: 52.534 %, Loss: 1.7803\n",
            "Epoch [38/50], Learning Rate: 0.0029423925067528904\n",
            "Epoch [39/50], Train Accuracy: 52.64 %, Loss: 1.9474\n",
            "Epoch [39/50], Learning Rate: 0.002665319313196509\n",
            "Epoch [40/50], Train Accuracy: 52.948 %, Loss: 1.8263\n",
            "Epoch [40/50], Learning Rate: 0.0023976573648539653\n",
            "Epoch [41/50], Train Accuracy: 53.356 %, Loss: 1.6806\n",
            "Epoch [41/50], Learning Rate: 0.0021404630011522584\n",
            "Epoch [42/50], Train Accuracy: 53.442 %, Loss: 1.6450\n",
            "Epoch [42/50], Learning Rate: 0.001894751250743986\n",
            "Epoch [43/50], Train Accuracy: 53.694 %, Loss: 1.7391\n",
            "Epoch [43/50], Learning Rate: 0.001661491825652991\n",
            "Epoch [44/50], Train Accuracy: 53.802 %, Loss: 1.6446\n",
            "Epoch [44/50], Learning Rate: 0.001441605294264014\n",
            "Epoch [45/50], Train Accuracy: 53.95 %, Loss: 1.7128\n",
            "Epoch [45/50], Learning Rate: 0.001235959448259844\n",
            "Epoch [46/50], Train Accuracy: 54.106 %, Loss: 1.6566\n",
            "Epoch [46/50], Learning Rate: 0.0010453658778440107\n",
            "Epoch [47/50], Train Accuracy: 54.318 %, Loss: 1.7917\n",
            "Epoch [47/50], Learning Rate: 0.0008705767687650265\n",
            "Epoch [48/50], Train Accuracy: 54.608 %, Loss: 1.6726\n",
            "Epoch [48/50], Learning Rate: 0.0007122819337828754\n",
            "Epoch [49/50], Train Accuracy: 54.536 %, Loss: 1.8128\n",
            "Epoch [49/50], Learning Rate: 0.0005711060902932043\n",
            "Epoch [50/50], Train Accuracy: 54.644 %, Loss: 1.6738\n",
            "Epoch [50/50], Learning Rate: 0.00044760639485315584\n"
          ]
        }
      ]
    },
    {
      "cell_type": "code",
      "source": [
        "# モデルの刈り込み率を計算する関数を作成\n",
        "def calculate_pruned_ratio(model):\n",
        "    total_weights = 0\n",
        "    total_pruned_weights = 0\n",
        "\n",
        "    for module in model.modules():\n",
        "        # モジュールがSupermaskConvであるか確認\n",
        "        if isinstance(module, SupermaskConv):\n",
        "            # SupermaskConv層の重みを取得\n",
        "            weight = module.weight.data\n",
        "            # 刈り込みを適用した後の重みを取得\n",
        "            subnet = GetSubnet.apply(module.clamped_scores, 1 - module.prune_rate)\n",
        "            pruned_weight = weight * subnet\n",
        "            # 0である要素数を計算\n",
        "            pruned_weights_count = (pruned_weight == 0).sum().item()\n",
        "            total_pruned_weights += pruned_weights_count\n",
        "            # 重みの全要素数を計算\n",
        "            total_weights_count = pruned_weight.numel()\n",
        "            total_weights += total_weights_count\n",
        "\n",
        "    # 刈り込みが行われた割合を計算\n",
        "    pruned_ratio = total_pruned_weights / total_weights\n",
        "    return print(f\"刈り込み率は{pruned_ratio:.3f}です\")\n",
        "\n",
        "# モデルの刈り込み率を確認\n",
        "calculate_pruned_ratio(model)"
      ],
      "metadata": {
        "id": "1aZxqP9IsKjq",
        "colab": {
          "base_uri": "https://localhost:8080/"
        },
        "outputId": "d5bd3642-df27-45ed-c405-b099591d2c85"
      },
      "execution_count": 74,
      "outputs": [
        {
          "output_type": "stream",
          "name": "stdout",
          "text": [
            "刈り込み率は0.950です\n"
          ]
        }
      ]
    },
    {
      "cell_type": "code",
      "source": [
        "# 学習前後のモデルのスコアを比較する関数を作成\n",
        "def check_scores_change(model, model_init):\n",
        "    # 各モデルの名前付きモジュールを順に調べる\n",
        "    for (name, module), (name_init, module_init) in zip(model.named_modules(), model_init.named_modules()):\n",
        "        # 両モジュールがConv2dのインスタンスであるかを確認\n",
        "        if isinstance(module, torch.nn.Conv2d) and isinstance(module_init, torch.nn.Conv2d):\n",
        "            # 両モジュールが'scores'属性を持っているかを確認\n",
        "            if hasattr(module, 'scores') and hasattr(module_init, 'scores'):\n",
        "                # 両モジュールの'scores'属性が一致しているかを確認\n",
        "                # 一致していない場合、変更があったことを示すメッセージを出力\n",
        "                if not torch.equal(module.scores, module_init.scores):\n",
        "                    print(f'{name}のスコアが変化しています')\n",
        "                    return\n",
        "    # すべてのconv層で'scores'が変更されていない場合、その旨を出力\n",
        "    print('すべてのスコアは変化していません')\n",
        "\n",
        "# 学習前後でモデルのスコアが変化していないかを確認\n",
        "check_scores_change(model, model_init)"
      ],
      "metadata": {
        "id": "RFnYJCFQsKjq",
        "colab": {
          "base_uri": "https://localhost:8080/"
        },
        "outputId": "910ca72e-820b-4753-e8d7-aee0c70eac36"
      },
      "execution_count": 75,
      "outputs": [
        {
          "output_type": "stream",
          "name": "stdout",
          "text": [
            "すべてのスコアは変化していません\n"
          ]
        }
      ]
    },
    {
      "cell_type": "code",
      "source": [
        "# 学習前後のモデルの最終層以外の重みを比較する関数を作成\n",
        "def check_weight_change_except_last(model, model_init):\n",
        "    for (name, param), (name_init, param_init) in zip(model.named_parameters(), model_init.named_parameters()):\n",
        "        # 最終層を除く\n",
        "        if name != 'fc.weight' and name != 'fc.bias':\n",
        "            weights_changed = (param.data != param_init.data).any()\n",
        "            if weights_changed:\n",
        "                return print('最終層以外の重みが変化しています')\n",
        "    return print('最終層以外の重みは変化していません')\n",
        "\n",
        "# 学習前後でモデルの最終層以外の重みが変化していないかを確認\n",
        "check_weight_change_except_last(model, model_init)"
      ],
      "metadata": {
        "id": "QDeN9Kt9sKjq",
        "colab": {
          "base_uri": "https://localhost:8080/"
        },
        "outputId": "49e2919e-f03c-4850-8f36-a1f8994eda59"
      },
      "execution_count": 76,
      "outputs": [
        {
          "output_type": "stream",
          "name": "stdout",
          "text": [
            "最終層以外の重みは変化していません\n"
          ]
        }
      ]
    },
    {
      "cell_type": "code",
      "source": [
        "# モデルの評価\n",
        "model.eval()\n",
        "with torch.no_grad():\n",
        "    total = 0\n",
        "    correct = 0\n",
        "    for images, labels in test_loader_cifar100:\n",
        "        images = images.to(device)\n",
        "        labels = labels.to(device)\n",
        "        outputs = model(images)\n",
        "        _, predicted = torch.max(outputs.data, 1)\n",
        "        total += labels.size(0)\n",
        "        correct += (predicted == labels).sum().item()\n",
        "    # 正解率精度の確認\n",
        "    print('Test Accuracy: {} %'.format(100 * correct / total))"
      ],
      "metadata": {
        "id": "GxfuSX3GsKjq",
        "colab": {
          "base_uri": "https://localhost:8080/"
        },
        "outputId": "5c97868c-ce8f-47ed-b900-a992d2603934"
      },
      "execution_count": 77,
      "outputs": [
        {
          "output_type": "stream",
          "name": "stdout",
          "text": [
            "Test Accuracy: 52.35 %\n"
          ]
        }
      ]
    },
    {
      "cell_type": "code",
      "source": [
        "# GPUメモリの解放\n",
        "del model, model_init\n",
        "torch.cuda.empty_cache()"
      ],
      "metadata": {
        "id": "nF-avApBsKjr"
      },
      "execution_count": 78,
      "outputs": []
    },
    {
      "cell_type": "markdown",
      "source": [
        "### prune_rate=0.9"
      ],
      "metadata": {
        "id": "Y1vtYNaysKjr"
      }
    },
    {
      "cell_type": "code",
      "source": [
        "# デバイスを設定\n",
        "device = torch.device('cuda' if torch.cuda.is_available() else 'cpu')\n",
        "# モデルを定義\n",
        "model = torch.load('/content/drive/MyDrive/SupermaskWideResNet28_10_CIFAR10_100epochs_pr0.9_normal_CLRS_restest.pth')\n",
        "# 最終層を変更\n",
        "model.fc = nn.Linear(model.fc.in_features, 100)\n",
        "# 最終層以外のパラメータの勾配計算を停止\n",
        "for param in model.parameters():\n",
        "    param.requires_grad = False\n",
        "# 最終層のパラメータのみを学習するように設定\n",
        "for param in model.fc.parameters():\n",
        "    param.requires_grad = True\n",
        "# モデルをデバイスに転送\n",
        "model = model.to(device)\n",
        "# 変更後のモデルの重みを保存\n",
        "model_init = copy.deepcopy(model)\n",
        "\n",
        "# 学習率を設定\n",
        "learning_rate = 0.01\n",
        "# 全体のepoch数を設定\n",
        "num_epochs = 50\n",
        "# warm-upするepoch数を設定\n",
        "warmup_epochs = 5\n",
        "\n",
        "# 損失関数を定義\n",
        "criterion = nn.CrossEntropyLoss()\n",
        "# オプティマイザーを設定\n",
        "optimizer = optim.Adam(model.fc.parameters(), lr=learning_rate)\n",
        "# スケジューラーを設定\n",
        "scheduler = CosineLRScheduler(optimizer, t_initial=num_epochs, lr_min=1e-4, warmup_t=warmup_epochs, warmup_lr_init=1e-4, warmup_prefix=True)\n",
        "\n",
        "# モデルの学習\n",
        "for epoch in range(num_epochs):\n",
        "    total = 0\n",
        "    correct = 0\n",
        "    for i, (images, labels) in enumerate(train_loader_cifar100):\n",
        "        images = images.to(device)\n",
        "        labels = labels.to(device)\n",
        "        # 順伝播\n",
        "        outputs = model(images)\n",
        "        loss = criterion(outputs, labels)\n",
        "        # 逆伝播\n",
        "        optimizer.zero_grad()\n",
        "        loss.backward()\n",
        "        optimizer.step()\n",
        "        _, predicted = torch.max(outputs.data, 1)\n",
        "        # 全データ数\n",
        "        total += labels.size(0)\n",
        "        # 正解数\n",
        "        correct += (predicted == labels).sum().item()\n",
        "    # 正解率精度を計算\n",
        "    train_acc = 100 * correct / total\n",
        "    # 正解率精度と損失を確認\n",
        "    print(\"Epoch [{}/{}], Train Accuracy: {} %, Loss: {:.4f}\".format(epoch+1, num_epochs, 100 * correct / total, loss.item()))\n",
        "    # 1エポック終了後にスケジューラーを更新\n",
        "    scheduler.step(epoch)\n",
        "    # 学習率の確認\n",
        "    print(\"Epoch [{}/{}], Learning Rate: {}\".format(epoch+1, num_epochs, optimizer.param_groups[0]['lr']))\n",
        "\n",
        "\n",
        "# モデルを保存\n",
        "torch.save(model, '/content/drive/MyDrive/SupermaskWideResNet28_10_CIFAR100_from_CIFAR10_100epochs_pr0.9_normal_50epochs_lr0.01_CLRS_restest.pth')"
      ],
      "metadata": {
        "id": "T3yxTJAisKjr",
        "colab": {
          "base_uri": "https://localhost:8080/"
        },
        "outputId": "d22f587e-b05f-4916-93e1-25a6258cb9ff"
      },
      "execution_count": 79,
      "outputs": [
        {
          "output_type": "stream",
          "name": "stdout",
          "text": [
            "Epoch [1/50], Train Accuracy: 5.398 %, Loss: 4.2004\n",
            "Epoch [1/50], Learning Rate: 0.0001\n",
            "Epoch [2/50], Train Accuracy: 12.844 %, Loss: 3.8878\n",
            "Epoch [2/50], Learning Rate: 0.00208\n",
            "Epoch [3/50], Train Accuracy: 20.478 %, Loss: 3.1279\n",
            "Epoch [3/50], Learning Rate: 0.00406\n",
            "Epoch [4/50], Train Accuracy: 27.034 %, Loss: 2.7914\n",
            "Epoch [4/50], Learning Rate: 0.00604\n",
            "Epoch [5/50], Train Accuracy: 31.296 %, Loss: 2.5613\n",
            "Epoch [5/50], Learning Rate: 0.00802\n",
            "Epoch [6/50], Train Accuracy: 33.486 %, Loss: 2.4542\n",
            "Epoch [6/50], Learning Rate: 0.01\n",
            "Epoch [7/50], Train Accuracy: 34.948 %, Loss: 2.4450\n",
            "Epoch [7/50], Learning Rate: 0.009990232305719944\n",
            "Epoch [8/50], Train Accuracy: 37.57 %, Loss: 2.4311\n",
            "Epoch [8/50], Learning Rate: 0.009960967771506667\n",
            "Epoch [9/50], Train Accuracy: 38.826 %, Loss: 2.3436\n",
            "Epoch [9/50], Learning Rate: 0.00991232189110701\n",
            "Epoch [10/50], Train Accuracy: 40.036 %, Loss: 2.1374\n",
            "Epoch [10/50], Learning Rate: 0.009844486647586723\n",
            "Epoch [11/50], Train Accuracy: 40.802 %, Loss: 2.2089\n",
            "Epoch [11/50], Learning Rate: 0.009757729755661011\n",
            "Epoch [12/50], Train Accuracy: 41.57 %, Loss: 2.3199\n",
            "Epoch [12/50], Learning Rate: 0.009652393605146845\n",
            "Epoch [13/50], Train Accuracy: 42.584 %, Loss: 2.1552\n",
            "Epoch [13/50], Learning Rate: 0.009528893909706798\n",
            "Epoch [14/50], Train Accuracy: 43.312 %, Loss: 2.1947\n",
            "Epoch [14/50], Learning Rate: 0.009387718066217124\n",
            "Epoch [15/50], Train Accuracy: 43.788 %, Loss: 2.0972\n",
            "Epoch [15/50], Learning Rate: 0.009229423231234974\n",
            "Epoch [16/50], Train Accuracy: 44.362 %, Loss: 1.9534\n",
            "Epoch [16/50], Learning Rate: 0.00905463412215599\n",
            "Epoch [17/50], Train Accuracy: 45.086 %, Loss: 2.0618\n",
            "Epoch [17/50], Learning Rate: 0.008864040551740157\n",
            "Epoch [18/50], Train Accuracy: 45.066 %, Loss: 1.9503\n",
            "Epoch [18/50], Learning Rate: 0.008658394705735987\n",
            "Epoch [19/50], Train Accuracy: 45.39 %, Loss: 1.8104\n",
            "Epoch [19/50], Learning Rate: 0.00843850817434701\n",
            "Epoch [20/50], Train Accuracy: 45.924 %, Loss: 2.1490\n",
            "Epoch [20/50], Learning Rate: 0.008205248749256015\n",
            "Epoch [21/50], Train Accuracy: 46.45 %, Loss: 2.0790\n",
            "Epoch [21/50], Learning Rate: 0.007959536998847744\n",
            "Epoch [22/50], Train Accuracy: 46.806 %, Loss: 2.2203\n",
            "Epoch [22/50], Learning Rate: 0.007702342635146034\n",
            "Epoch [23/50], Train Accuracy: 47.342 %, Loss: 2.1015\n",
            "Epoch [23/50], Learning Rate: 0.007434680686803491\n",
            "Epoch [24/50], Train Accuracy: 47.958 %, Loss: 2.0497\n",
            "Epoch [24/50], Learning Rate: 0.0071576074932471105\n",
            "Epoch [25/50], Train Accuracy: 47.706 %, Loss: 1.9298\n",
            "Epoch [25/50], Learning Rate: 0.006872216535789157\n",
            "Epoch [26/50], Train Accuracy: 48.138 %, Loss: 1.9232\n",
            "Epoch [26/50], Learning Rate: 0.006579634122155991\n",
            "Epoch [27/50], Train Accuracy: 48.498 %, Loss: 1.8975\n",
            "Epoch [27/50], Learning Rate: 0.0062810149414660316\n",
            "Epoch [28/50], Train Accuracy: 48.796 %, Loss: 1.7961\n",
            "Epoch [28/50], Learning Rate: 0.005977537507199339\n",
            "Epoch [29/50], Train Accuracy: 49.304 %, Loss: 1.8729\n",
            "Epoch [29/50], Learning Rate: 0.005670399506143308\n",
            "Epoch [30/50], Train Accuracy: 49.28 %, Loss: 1.8311\n",
            "Epoch [30/50], Learning Rate: 0.005360813071670102\n",
            "Epoch [31/50], Train Accuracy: 49.898 %, Loss: 1.8713\n",
            "Epoch [31/50], Learning Rate: 0.005050000000000001\n",
            "Epoch [32/50], Train Accuracy: 49.908 %, Loss: 1.7598\n",
            "Epoch [32/50], Learning Rate: 0.004739186928329899\n",
            "Epoch [33/50], Train Accuracy: 50.168 %, Loss: 1.9566\n",
            "Epoch [33/50], Learning Rate: 0.004429600493856695\n",
            "Epoch [34/50], Train Accuracy: 50.46 %, Loss: 1.7397\n",
            "Epoch [34/50], Learning Rate: 0.0041224624928006635\n",
            "Epoch [35/50], Train Accuracy: 50.95 %, Loss: 1.6684\n",
            "Epoch [35/50], Learning Rate: 0.0038189850585339685\n",
            "Epoch [36/50], Train Accuracy: 50.964 %, Loss: 1.8923\n",
            "Epoch [36/50], Learning Rate: 0.003520365877844012\n",
            "Epoch [37/50], Train Accuracy: 51.102 %, Loss: 1.9910\n",
            "Epoch [37/50], Learning Rate: 0.0032277834642108457\n",
            "Epoch [38/50], Train Accuracy: 51.382 %, Loss: 1.8149\n",
            "Epoch [38/50], Learning Rate: 0.0029423925067528904\n",
            "Epoch [39/50], Train Accuracy: 51.818 %, Loss: 1.7062\n",
            "Epoch [39/50], Learning Rate: 0.002665319313196509\n",
            "Epoch [40/50], Train Accuracy: 52.008 %, Loss: 1.7763\n",
            "Epoch [40/50], Learning Rate: 0.0023976573648539653\n",
            "Epoch [41/50], Train Accuracy: 52.128 %, Loss: 1.7745\n",
            "Epoch [41/50], Learning Rate: 0.0021404630011522584\n",
            "Epoch [42/50], Train Accuracy: 52.538 %, Loss: 1.7980\n",
            "Epoch [42/50], Learning Rate: 0.001894751250743986\n",
            "Epoch [43/50], Train Accuracy: 52.486 %, Loss: 1.8143\n",
            "Epoch [43/50], Learning Rate: 0.001661491825652991\n",
            "Epoch [44/50], Train Accuracy: 52.84 %, Loss: 1.7924\n",
            "Epoch [44/50], Learning Rate: 0.001441605294264014\n",
            "Epoch [45/50], Train Accuracy: 53.426 %, Loss: 1.9305\n",
            "Epoch [45/50], Learning Rate: 0.001235959448259844\n",
            "Epoch [46/50], Train Accuracy: 53.218 %, Loss: 1.7256\n",
            "Epoch [46/50], Learning Rate: 0.0010453658778440107\n",
            "Epoch [47/50], Train Accuracy: 53.05 %, Loss: 1.8885\n",
            "Epoch [47/50], Learning Rate: 0.0008705767687650265\n",
            "Epoch [48/50], Train Accuracy: 53.42 %, Loss: 1.8349\n",
            "Epoch [48/50], Learning Rate: 0.0007122819337828754\n",
            "Epoch [49/50], Train Accuracy: 53.556 %, Loss: 1.7457\n",
            "Epoch [49/50], Learning Rate: 0.0005711060902932043\n",
            "Epoch [50/50], Train Accuracy: 53.848 %, Loss: 1.6796\n",
            "Epoch [50/50], Learning Rate: 0.00044760639485315584\n"
          ]
        }
      ]
    },
    {
      "cell_type": "code",
      "source": [
        "# モデルの刈り込み率を計算する関数を作成\n",
        "def calculate_pruned_ratio(model):\n",
        "    total_weights = 0\n",
        "    total_pruned_weights = 0\n",
        "\n",
        "    for module in model.modules():\n",
        "        # モジュールがSupermaskConvであるか確認\n",
        "        if isinstance(module, SupermaskConv):\n",
        "            # SupermaskConv層の重みを取得\n",
        "            weight = module.weight.data\n",
        "            # 刈り込みを適用した後の重みを取得\n",
        "            subnet = GetSubnet.apply(module.clamped_scores, 1 - module.prune_rate)\n",
        "            pruned_weight = weight * subnet\n",
        "            # 0である要素数を計算\n",
        "            pruned_weights_count = (pruned_weight == 0).sum().item()\n",
        "            total_pruned_weights += pruned_weights_count\n",
        "            # 重みの全要素数を計算\n",
        "            total_weights_count = pruned_weight.numel()\n",
        "            total_weights += total_weights_count\n",
        "\n",
        "    # 刈り込みが行われた割合を計算\n",
        "    pruned_ratio = total_pruned_weights / total_weights\n",
        "    return print(f\"刈り込み率は{pruned_ratio:.3f}です\")\n",
        "\n",
        "# モデルの刈り込み率を確認\n",
        "calculate_pruned_ratio(model)"
      ],
      "metadata": {
        "id": "ZCUErTQzsKjr",
        "colab": {
          "base_uri": "https://localhost:8080/"
        },
        "outputId": "1162b918-e02b-4969-f0e7-724580b96c75"
      },
      "execution_count": 80,
      "outputs": [
        {
          "output_type": "stream",
          "name": "stdout",
          "text": [
            "刈り込み率は0.900です\n"
          ]
        }
      ]
    },
    {
      "cell_type": "code",
      "source": [
        "# 学習前後のモデルのスコアを比較する関数を作成\n",
        "def check_scores_change(model, model_init):\n",
        "    # 各モデルの名前付きモジュールを順に調べる\n",
        "    for (name, module), (name_init, module_init) in zip(model.named_modules(), model_init.named_modules()):\n",
        "        # 両モジュールがConv2dのインスタンスであるかを確認\n",
        "        if isinstance(module, torch.nn.Conv2d) and isinstance(module_init, torch.nn.Conv2d):\n",
        "            # 両モジュールが'scores'属性を持っているかを確認\n",
        "            if hasattr(module, 'scores') and hasattr(module_init, 'scores'):\n",
        "                # 両モジュールの'scores'属性が一致しているかを確認\n",
        "                # 一致していない場合、変更があったことを示すメッセージを出力\n",
        "                if not torch.equal(module.scores, module_init.scores):\n",
        "                    print(f'{name}のスコアが変化しています')\n",
        "                    return\n",
        "    # すべてのconv層で'scores'が変更されていない場合、その旨を出力\n",
        "    print('すべてのスコアは変化していません')\n",
        "\n",
        "# 学習前後でモデルのスコアが変化していないかを確認\n",
        "check_scores_change(model, model_init)"
      ],
      "metadata": {
        "id": "ktJdEMAnsKjr",
        "colab": {
          "base_uri": "https://localhost:8080/"
        },
        "outputId": "0787d83b-e4f7-4017-a1a7-574d733c0d23"
      },
      "execution_count": 81,
      "outputs": [
        {
          "output_type": "stream",
          "name": "stdout",
          "text": [
            "すべてのスコアは変化していません\n"
          ]
        }
      ]
    },
    {
      "cell_type": "code",
      "source": [
        "# 学習前後のモデルの最終層以外の重みを比較する関数を作成\n",
        "def check_weight_change_except_last(model, model_init):\n",
        "    for (name, param), (name_init, param_init) in zip(model.named_parameters(), model_init.named_parameters()):\n",
        "        # 最終層を除く\n",
        "        if name != 'fc.weight' and name != 'fc.bias':\n",
        "            weights_changed = (param.data != param_init.data).any()\n",
        "            if weights_changed:\n",
        "                return print('最終層以外の重みが変化しています')\n",
        "    return print('最終層以外の重みは変化していません')\n",
        "\n",
        "# 学習前後でモデルの最終層以外の重みが変化していないかを確認\n",
        "check_weight_change_except_last(model, model_init)"
      ],
      "metadata": {
        "id": "qAm-mNessKjr",
        "colab": {
          "base_uri": "https://localhost:8080/"
        },
        "outputId": "8cd624bb-2d77-4a2c-c203-bed532ff9e44"
      },
      "execution_count": 82,
      "outputs": [
        {
          "output_type": "stream",
          "name": "stdout",
          "text": [
            "最終層以外の重みは変化していません\n"
          ]
        }
      ]
    },
    {
      "cell_type": "code",
      "source": [
        "# モデルの評価\n",
        "model.eval()\n",
        "with torch.no_grad():\n",
        "    total = 0\n",
        "    correct = 0\n",
        "    for images, labels in test_loader_cifar100:\n",
        "        images = images.to(device)\n",
        "        labels = labels.to(device)\n",
        "        outputs = model(images)\n",
        "        _, predicted = torch.max(outputs.data, 1)\n",
        "        total += labels.size(0)\n",
        "        correct += (predicted == labels).sum().item()\n",
        "    # 正解率精度の確認\n",
        "    print('Test Accuracy: {} %'.format(100 * correct / total))"
      ],
      "metadata": {
        "id": "bZ23nJSnsKjr",
        "colab": {
          "base_uri": "https://localhost:8080/"
        },
        "outputId": "66ae56ee-9c58-4106-e74a-b9c2dfe656f2"
      },
      "execution_count": 83,
      "outputs": [
        {
          "output_type": "stream",
          "name": "stdout",
          "text": [
            "Test Accuracy: 50.72 %\n"
          ]
        }
      ]
    },
    {
      "cell_type": "code",
      "source": [
        "# GPUメモリの解放\n",
        "del model, model_init\n",
        "torch.cuda.empty_cache()"
      ],
      "metadata": {
        "id": "RZman30_sKjr"
      },
      "execution_count": 84,
      "outputs": []
    },
    {
      "cell_type": "markdown",
      "source": [
        "### prune_rate=0.7"
      ],
      "metadata": {
        "id": "wkPFUm8TsKjs"
      }
    },
    {
      "cell_type": "code",
      "source": [
        "# デバイスを設定\n",
        "device = torch.device('cuda' if torch.cuda.is_available() else 'cpu')\n",
        "# モデルを定義\n",
        "model = torch.load('/content/drive/MyDrive/SupermaskWideResNet28_10_CIFAR10_100epochs_pr0.7_normal_CLRS_restest.pth')\n",
        "# 最終層を変更\n",
        "model.fc = nn.Linear(model.fc.in_features, 100)\n",
        "# 最終層以外のパラメータの勾配計算を停止\n",
        "for param in model.parameters():\n",
        "    param.requires_grad = False\n",
        "# 最終層のパラメータのみを学習するように設定\n",
        "for param in model.fc.parameters():\n",
        "    param.requires_grad = True\n",
        "# モデルをデバイスに転送\n",
        "model = model.to(device)\n",
        "# 変更後のモデルの重みを保存\n",
        "model_init = copy.deepcopy(model)\n",
        "\n",
        "# 学習率を設定\n",
        "learning_rate = 0.01\n",
        "# 全体のepoch数を設定\n",
        "num_epochs = 50\n",
        "# warm-upするepoch数を設定\n",
        "warmup_epochs = 5\n",
        "\n",
        "# 損失関数を定義\n",
        "criterion = nn.CrossEntropyLoss()\n",
        "# オプティマイザーを設定\n",
        "optimizer = optim.Adam(model.fc.parameters(), lr=learning_rate)\n",
        "# スケジューラーを設定\n",
        "scheduler = CosineLRScheduler(optimizer, t_initial=num_epochs, lr_min=1e-4, warmup_t=warmup_epochs, warmup_lr_init=1e-4, warmup_prefix=True)\n",
        "\n",
        "# モデルの学習\n",
        "for epoch in range(num_epochs):\n",
        "    total = 0\n",
        "    correct = 0\n",
        "    for i, (images, labels) in enumerate(train_loader_cifar100):\n",
        "        images = images.to(device)\n",
        "        labels = labels.to(device)\n",
        "        # 順伝播\n",
        "        outputs = model(images)\n",
        "        loss = criterion(outputs, labels)\n",
        "        # 逆伝播\n",
        "        optimizer.zero_grad()\n",
        "        loss.backward()\n",
        "        optimizer.step()\n",
        "        _, predicted = torch.max(outputs.data, 1)\n",
        "        # 全データ数\n",
        "        total += labels.size(0)\n",
        "        # 正解数\n",
        "        correct += (predicted == labels).sum().item()\n",
        "    # 正解率精度を計算\n",
        "    train_acc = 100 * correct / total\n",
        "    # 正解率精度と損失を確認\n",
        "    print(\"Epoch [{}/{}], Train Accuracy: {} %, Loss: {:.4f}\".format(epoch+1, num_epochs, 100 * correct / total, loss.item()))\n",
        "    # 1エポック終了後にスケジューラーを更新\n",
        "    scheduler.step(epoch)\n",
        "    # 学習率の確認\n",
        "    print(\"Epoch [{}/{}], Learning Rate: {}\".format(epoch+1, num_epochs, optimizer.param_groups[0]['lr']))\n",
        "\n",
        "\n",
        "# モデルを保存\n",
        "torch.save(model, '/content/drive/MyDrive/SupermaskWideResNet28_10_CIFAR100_from_CIFAR10_100epochs_pr0.7_normal_50epochs_lr0.01_CLRS_restest.pth')"
      ],
      "metadata": {
        "id": "Le-oqnFvsKjs",
        "colab": {
          "base_uri": "https://localhost:8080/"
        },
        "outputId": "d9cc92e1-9853-416b-f0af-194cb0009216"
      },
      "execution_count": 85,
      "outputs": [
        {
          "output_type": "stream",
          "name": "stdout",
          "text": [
            "Epoch [1/50], Train Accuracy: 6.28 %, Loss: 4.1835\n",
            "Epoch [1/50], Learning Rate: 0.0001\n",
            "Epoch [2/50], Train Accuracy: 12.816 %, Loss: 3.9315\n",
            "Epoch [2/50], Learning Rate: 0.00208\n",
            "Epoch [3/50], Train Accuracy: 20.21 %, Loss: 3.0548\n",
            "Epoch [3/50], Learning Rate: 0.00406\n",
            "Epoch [4/50], Train Accuracy: 26.212 %, Loss: 2.8830\n",
            "Epoch [4/50], Learning Rate: 0.00604\n",
            "Epoch [5/50], Train Accuracy: 30.282 %, Loss: 2.5688\n",
            "Epoch [5/50], Learning Rate: 0.00802\n",
            "Epoch [6/50], Train Accuracy: 32.834 %, Loss: 2.4426\n",
            "Epoch [6/50], Learning Rate: 0.01\n",
            "Epoch [7/50], Train Accuracy: 34.968 %, Loss: 2.4532\n",
            "Epoch [7/50], Learning Rate: 0.009990232305719944\n",
            "Epoch [8/50], Train Accuracy: 37.438 %, Loss: 2.3475\n",
            "Epoch [8/50], Learning Rate: 0.009960967771506667\n",
            "Epoch [9/50], Train Accuracy: 38.986 %, Loss: 2.4530\n",
            "Epoch [9/50], Learning Rate: 0.00991232189110701\n",
            "Epoch [10/50], Train Accuracy: 39.604 %, Loss: 2.5355\n",
            "Epoch [10/50], Learning Rate: 0.009844486647586723\n",
            "Epoch [11/50], Train Accuracy: 40.868 %, Loss: 2.1762\n",
            "Epoch [11/50], Learning Rate: 0.009757729755661011\n",
            "Epoch [12/50], Train Accuracy: 41.926 %, Loss: 2.3430\n",
            "Epoch [12/50], Learning Rate: 0.009652393605146845\n",
            "Epoch [13/50], Train Accuracy: 42.72 %, Loss: 2.2783\n",
            "Epoch [13/50], Learning Rate: 0.009528893909706798\n",
            "Epoch [14/50], Train Accuracy: 43.648 %, Loss: 2.1088\n",
            "Epoch [14/50], Learning Rate: 0.009387718066217124\n",
            "Epoch [15/50], Train Accuracy: 43.778 %, Loss: 2.1219\n",
            "Epoch [15/50], Learning Rate: 0.009229423231234974\n",
            "Epoch [16/50], Train Accuracy: 44.232 %, Loss: 2.0894\n",
            "Epoch [16/50], Learning Rate: 0.00905463412215599\n",
            "Epoch [17/50], Train Accuracy: 44.724 %, Loss: 2.1464\n",
            "Epoch [17/50], Learning Rate: 0.008864040551740157\n",
            "Epoch [18/50], Train Accuracy: 45.066 %, Loss: 1.9712\n",
            "Epoch [18/50], Learning Rate: 0.008658394705735987\n",
            "Epoch [19/50], Train Accuracy: 45.298 %, Loss: 2.0306\n",
            "Epoch [19/50], Learning Rate: 0.00843850817434701\n",
            "Epoch [20/50], Train Accuracy: 46.212 %, Loss: 1.9643\n",
            "Epoch [20/50], Learning Rate: 0.008205248749256015\n",
            "Epoch [21/50], Train Accuracy: 46.722 %, Loss: 2.1043\n",
            "Epoch [21/50], Learning Rate: 0.007959536998847744\n",
            "Epoch [22/50], Train Accuracy: 47.36 %, Loss: 1.9912\n",
            "Epoch [22/50], Learning Rate: 0.007702342635146034\n",
            "Epoch [23/50], Train Accuracy: 47.59 %, Loss: 1.8463\n",
            "Epoch [23/50], Learning Rate: 0.007434680686803491\n",
            "Epoch [24/50], Train Accuracy: 47.618 %, Loss: 2.0479\n",
            "Epoch [24/50], Learning Rate: 0.0071576074932471105\n",
            "Epoch [25/50], Train Accuracy: 48.102 %, Loss: 2.1600\n",
            "Epoch [25/50], Learning Rate: 0.006872216535789157\n",
            "Epoch [26/50], Train Accuracy: 48.182 %, Loss: 1.8212\n",
            "Epoch [26/50], Learning Rate: 0.006579634122155991\n",
            "Epoch [27/50], Train Accuracy: 48.536 %, Loss: 2.0845\n",
            "Epoch [27/50], Learning Rate: 0.0062810149414660316\n",
            "Epoch [28/50], Train Accuracy: 49.072 %, Loss: 1.8721\n",
            "Epoch [28/50], Learning Rate: 0.005977537507199339\n",
            "Epoch [29/50], Train Accuracy: 49.43 %, Loss: 1.9145\n",
            "Epoch [29/50], Learning Rate: 0.005670399506143308\n",
            "Epoch [30/50], Train Accuracy: 49.852 %, Loss: 1.9795\n",
            "Epoch [30/50], Learning Rate: 0.005360813071670102\n",
            "Epoch [31/50], Train Accuracy: 50.078 %, Loss: 1.6664\n",
            "Epoch [31/50], Learning Rate: 0.005050000000000001\n",
            "Epoch [32/50], Train Accuracy: 50.214 %, Loss: 1.9652\n",
            "Epoch [32/50], Learning Rate: 0.004739186928329899\n",
            "Epoch [33/50], Train Accuracy: 50.578 %, Loss: 1.9596\n",
            "Epoch [33/50], Learning Rate: 0.004429600493856695\n",
            "Epoch [34/50], Train Accuracy: 50.738 %, Loss: 1.8889\n",
            "Epoch [34/50], Learning Rate: 0.0041224624928006635\n",
            "Epoch [35/50], Train Accuracy: 51.208 %, Loss: 1.9474\n",
            "Epoch [35/50], Learning Rate: 0.0038189850585339685\n",
            "Epoch [36/50], Train Accuracy: 51.7 %, Loss: 1.9868\n",
            "Epoch [36/50], Learning Rate: 0.003520365877844012\n",
            "Epoch [37/50], Train Accuracy: 51.522 %, Loss: 1.7839\n",
            "Epoch [37/50], Learning Rate: 0.0032277834642108457\n",
            "Epoch [38/50], Train Accuracy: 51.938 %, Loss: 1.8358\n",
            "Epoch [38/50], Learning Rate: 0.0029423925067528904\n",
            "Epoch [39/50], Train Accuracy: 51.904 %, Loss: 1.7912\n",
            "Epoch [39/50], Learning Rate: 0.002665319313196509\n",
            "Epoch [40/50], Train Accuracy: 52.42 %, Loss: 1.8120\n",
            "Epoch [40/50], Learning Rate: 0.0023976573648539653\n",
            "Epoch [41/50], Train Accuracy: 52.618 %, Loss: 1.7679\n",
            "Epoch [41/50], Learning Rate: 0.0021404630011522584\n",
            "Epoch [42/50], Train Accuracy: 52.768 %, Loss: 1.8268\n",
            "Epoch [42/50], Learning Rate: 0.001894751250743986\n",
            "Epoch [43/50], Train Accuracy: 53.06 %, Loss: 1.7860\n",
            "Epoch [43/50], Learning Rate: 0.001661491825652991\n",
            "Epoch [44/50], Train Accuracy: 52.942 %, Loss: 1.7519\n",
            "Epoch [44/50], Learning Rate: 0.001441605294264014\n",
            "Epoch [45/50], Train Accuracy: 53.446 %, Loss: 1.8043\n",
            "Epoch [45/50], Learning Rate: 0.001235959448259844\n",
            "Epoch [46/50], Train Accuracy: 53.606 %, Loss: 1.7236\n",
            "Epoch [46/50], Learning Rate: 0.0010453658778440107\n",
            "Epoch [47/50], Train Accuracy: 53.556 %, Loss: 1.5547\n",
            "Epoch [47/50], Learning Rate: 0.0008705767687650265\n",
            "Epoch [48/50], Train Accuracy: 53.59 %, Loss: 1.7999\n",
            "Epoch [48/50], Learning Rate: 0.0007122819337828754\n",
            "Epoch [49/50], Train Accuracy: 54.148 %, Loss: 1.8097\n",
            "Epoch [49/50], Learning Rate: 0.0005711060902932043\n",
            "Epoch [50/50], Train Accuracy: 54.248 %, Loss: 1.7886\n",
            "Epoch [50/50], Learning Rate: 0.00044760639485315584\n"
          ]
        }
      ]
    },
    {
      "cell_type": "code",
      "source": [
        "# モデルの刈り込み率を計算する関数を作成\n",
        "def calculate_pruned_ratio(model):\n",
        "    total_weights = 0\n",
        "    total_pruned_weights = 0\n",
        "\n",
        "    for module in model.modules():\n",
        "        # モジュールがSupermaskConvであるか確認\n",
        "        if isinstance(module, SupermaskConv):\n",
        "            # SupermaskConv層の重みを取得\n",
        "            weight = module.weight.data\n",
        "            # 刈り込みを適用した後の重みを取得\n",
        "            subnet = GetSubnet.apply(module.clamped_scores, 1 - module.prune_rate)\n",
        "            pruned_weight = weight * subnet\n",
        "            # 0である要素数を計算\n",
        "            pruned_weights_count = (pruned_weight == 0).sum().item()\n",
        "            total_pruned_weights += pruned_weights_count\n",
        "            # 重みの全要素数を計算\n",
        "            total_weights_count = pruned_weight.numel()\n",
        "            total_weights += total_weights_count\n",
        "\n",
        "    # 刈り込みが行われた割合を計算\n",
        "    pruned_ratio = total_pruned_weights / total_weights\n",
        "    return print(f\"刈り込み率は{pruned_ratio:.3f}です\")\n",
        "\n",
        "# モデルの刈り込み率を確認\n",
        "calculate_pruned_ratio(model)"
      ],
      "metadata": {
        "id": "mdIU4ohVsKjs",
        "colab": {
          "base_uri": "https://localhost:8080/"
        },
        "outputId": "8133cef9-2b0e-4cf6-ffbe-a4eb1d31477e"
      },
      "execution_count": 86,
      "outputs": [
        {
          "output_type": "stream",
          "name": "stdout",
          "text": [
            "刈り込み率は0.700です\n"
          ]
        }
      ]
    },
    {
      "cell_type": "code",
      "source": [
        "# 学習前後のモデルのスコアを比較する関数を作成\n",
        "def check_scores_change(model, model_init):\n",
        "    # 各モデルの名前付きモジュールを順に調べる\n",
        "    for (name, module), (name_init, module_init) in zip(model.named_modules(), model_init.named_modules()):\n",
        "        # 両モジュールがConv2dのインスタンスであるかを確認\n",
        "        if isinstance(module, torch.nn.Conv2d) and isinstance(module_init, torch.nn.Conv2d):\n",
        "            # 両モジュールが'scores'属性を持っているかを確認\n",
        "            if hasattr(module, 'scores') and hasattr(module_init, 'scores'):\n",
        "                # 両モジュールの'scores'属性が一致しているかを確認\n",
        "                # 一致していない場合、変更があったことを示すメッセージを出力\n",
        "                if not torch.equal(module.scores, module_init.scores):\n",
        "                    print(f'{name}のスコアが変化しています')\n",
        "                    return\n",
        "    # すべてのconv層で'scores'が変更されていない場合、その旨を出力\n",
        "    print('すべてのスコアは変化していません')\n",
        "\n",
        "# 学習前後でモデルのスコアが変化していないかを確認\n",
        "check_scores_change(model, model_init)"
      ],
      "metadata": {
        "id": "5J_I6epfsKjs",
        "colab": {
          "base_uri": "https://localhost:8080/"
        },
        "outputId": "cf45109d-6430-4b91-9f41-661d90b9795c"
      },
      "execution_count": 87,
      "outputs": [
        {
          "output_type": "stream",
          "name": "stdout",
          "text": [
            "すべてのスコアは変化していません\n"
          ]
        }
      ]
    },
    {
      "cell_type": "code",
      "source": [
        "# 学習前後のモデルの最終層以外の重みを比較する関数を作成\n",
        "def check_weight_change_except_last(model, model_init):\n",
        "    for (name, param), (name_init, param_init) in zip(model.named_parameters(), model_init.named_parameters()):\n",
        "        # 最終層を除く\n",
        "        if name != 'fc.weight' and name != 'fc.bias':\n",
        "            weights_changed = (param.data != param_init.data).any()\n",
        "            if weights_changed:\n",
        "                return print('最終層以外の重みが変化しています')\n",
        "    return print('最終層以外の重みは変化していません')\n",
        "\n",
        "# 学習前後でモデルの最終層以外の重みが変化していないかを確認\n",
        "check_weight_change_except_last(model, model_init)"
      ],
      "metadata": {
        "id": "8CKWYgN3sKjs",
        "colab": {
          "base_uri": "https://localhost:8080/"
        },
        "outputId": "aef80857-3dce-43c5-de1c-1af72dffc5f4"
      },
      "execution_count": 88,
      "outputs": [
        {
          "output_type": "stream",
          "name": "stdout",
          "text": [
            "最終層以外の重みは変化していません\n"
          ]
        }
      ]
    },
    {
      "cell_type": "code",
      "source": [
        "# モデルの評価\n",
        "model.eval()\n",
        "with torch.no_grad():\n",
        "    total = 0\n",
        "    correct = 0\n",
        "    for images, labels in test_loader_cifar100:\n",
        "        images = images.to(device)\n",
        "        labels = labels.to(device)\n",
        "        outputs = model(images)\n",
        "        _, predicted = torch.max(outputs.data, 1)\n",
        "        total += labels.size(0)\n",
        "        correct += (predicted == labels).sum().item()\n",
        "    # 正解率精度の確認\n",
        "    print('Test Accuracy: {} %'.format(100 * correct / total))"
      ],
      "metadata": {
        "id": "G2ba207QsKjs",
        "colab": {
          "base_uri": "https://localhost:8080/"
        },
        "outputId": "6e33c760-de36-43a9-94f5-20366d948794"
      },
      "execution_count": 89,
      "outputs": [
        {
          "output_type": "stream",
          "name": "stdout",
          "text": [
            "Test Accuracy: 51.12 %\n"
          ]
        }
      ]
    },
    {
      "cell_type": "code",
      "source": [
        "# GPUメモリの解放\n",
        "del model, model_init\n",
        "torch.cuda.empty_cache()"
      ],
      "metadata": {
        "id": "xcVxnxg6sKjs"
      },
      "execution_count": 90,
      "outputs": []
    },
    {
      "cell_type": "markdown",
      "source": [
        "### prune_rate=0.5"
      ],
      "metadata": {
        "id": "8W8kzd_SsKjs"
      }
    },
    {
      "cell_type": "code",
      "source": [
        "# デバイスを設定\n",
        "device = torch.device('cuda' if torch.cuda.is_available() else 'cpu')\n",
        "# モデルを定義\n",
        "model = torch.load('/content/drive/MyDrive/SupermaskWideResNet28_10_CIFAR10_100epochs_pr0.5_normal_CLRS_restest.pth')\n",
        "# 最終層を変更\n",
        "model.fc = nn.Linear(model.fc.in_features, 100)\n",
        "# 最終層以外のパラメータの勾配計算を停止\n",
        "for param in model.parameters():\n",
        "    param.requires_grad = False\n",
        "# 最終層のパラメータのみを学習するように設定\n",
        "for param in model.fc.parameters():\n",
        "    param.requires_grad = True\n",
        "# モデルをデバイスに転送\n",
        "model = model.to(device)\n",
        "# 変更後のモデルの重みを保存\n",
        "model_init = copy.deepcopy(model)\n",
        "\n",
        "# 学習率を設定\n",
        "learning_rate = 0.01\n",
        "# 全体のepoch数を設定\n",
        "num_epochs = 50\n",
        "# warm-upするepoch数を設定\n",
        "warmup_epochs = 5\n",
        "\n",
        "# 損失関数を定義\n",
        "criterion = nn.CrossEntropyLoss()\n",
        "# オプティマイザーを設定\n",
        "optimizer = optim.Adam(model.fc.parameters(), lr=learning_rate)\n",
        "# スケジューラーを設定\n",
        "scheduler = CosineLRScheduler(optimizer, t_initial=num_epochs, lr_min=1e-4, warmup_t=warmup_epochs, warmup_lr_init=1e-4, warmup_prefix=True)\n",
        "\n",
        "# モデルの学習\n",
        "for epoch in range(num_epochs):\n",
        "    total = 0\n",
        "    correct = 0\n",
        "    for i, (images, labels) in enumerate(train_loader_cifar100):\n",
        "        images = images.to(device)\n",
        "        labels = labels.to(device)\n",
        "        # 順伝播\n",
        "        outputs = model(images)\n",
        "        loss = criterion(outputs, labels)\n",
        "        # 逆伝播\n",
        "        optimizer.zero_grad()\n",
        "        loss.backward()\n",
        "        optimizer.step()\n",
        "        _, predicted = torch.max(outputs.data, 1)\n",
        "        # 全データ数\n",
        "        total += labels.size(0)\n",
        "        # 正解数\n",
        "        correct += (predicted == labels).sum().item()\n",
        "    # 正解率精度を計算\n",
        "    train_acc = 100 * correct / total\n",
        "    # 正解率精度と損失を確認\n",
        "    print(\"Epoch [{}/{}], Train Accuracy: {} %, Loss: {:.4f}\".format(epoch+1, num_epochs, 100 * correct / total, loss.item()))\n",
        "    # 1エポック終了後にスケジューラーを更新\n",
        "    scheduler.step(epoch)\n",
        "    # 学習率の確認\n",
        "    print(\"Epoch [{}/{}], Learning Rate: {}\".format(epoch+1, num_epochs, optimizer.param_groups[0]['lr']))\n",
        "\n",
        "\n",
        "# モデルを保存\n",
        "torch.save(model, '/content/drive/MyDrive/SupermaskWideResNet28_10_CIFAR100_from_CIFAR10_100epochs_pr0.5_normal_50epochs_lr0.01_CLRS_restest.pth')"
      ],
      "metadata": {
        "id": "Resn6m1tsKjs",
        "colab": {
          "base_uri": "https://localhost:8080/"
        },
        "outputId": "391de4e3-d55c-41df-f3b8-e3bf84bd1662"
      },
      "execution_count": 91,
      "outputs": [
        {
          "output_type": "stream",
          "name": "stdout",
          "text": [
            "Epoch [1/50], Train Accuracy: 5.4 %, Loss: 4.2357\n",
            "Epoch [1/50], Learning Rate: 0.0001\n",
            "Epoch [2/50], Train Accuracy: 11.62 %, Loss: 3.9726\n",
            "Epoch [2/50], Learning Rate: 0.00208\n",
            "Epoch [3/50], Train Accuracy: 19.454 %, Loss: 3.0973\n",
            "Epoch [3/50], Learning Rate: 0.00406\n",
            "Epoch [4/50], Train Accuracy: 26.306 %, Loss: 2.9551\n",
            "Epoch [4/50], Learning Rate: 0.00604\n",
            "Epoch [5/50], Train Accuracy: 30.668 %, Loss: 2.7534\n",
            "Epoch [5/50], Learning Rate: 0.00802\n",
            "Epoch [6/50], Train Accuracy: 33.276 %, Loss: 2.6828\n",
            "Epoch [6/50], Learning Rate: 0.01\n",
            "Epoch [7/50], Train Accuracy: 35.848 %, Loss: 2.4809\n",
            "Epoch [7/50], Learning Rate: 0.009990232305719944\n",
            "Epoch [8/50], Train Accuracy: 37.77 %, Loss: 2.3202\n",
            "Epoch [8/50], Learning Rate: 0.009960967771506667\n",
            "Epoch [9/50], Train Accuracy: 39.152 %, Loss: 2.3700\n",
            "Epoch [9/50], Learning Rate: 0.00991232189110701\n",
            "Epoch [10/50], Train Accuracy: 40.268 %, Loss: 2.3141\n",
            "Epoch [10/50], Learning Rate: 0.009844486647586723\n",
            "Epoch [11/50], Train Accuracy: 41.286 %, Loss: 2.2520\n",
            "Epoch [11/50], Learning Rate: 0.009757729755661011\n",
            "Epoch [12/50], Train Accuracy: 42.492 %, Loss: 1.9950\n",
            "Epoch [12/50], Learning Rate: 0.009652393605146845\n",
            "Epoch [13/50], Train Accuracy: 43.394 %, Loss: 2.1976\n",
            "Epoch [13/50], Learning Rate: 0.009528893909706798\n",
            "Epoch [14/50], Train Accuracy: 44.024 %, Loss: 2.1892\n",
            "Epoch [14/50], Learning Rate: 0.009387718066217124\n",
            "Epoch [15/50], Train Accuracy: 44.244 %, Loss: 1.9713\n",
            "Epoch [15/50], Learning Rate: 0.009229423231234974\n",
            "Epoch [16/50], Train Accuracy: 44.892 %, Loss: 2.0397\n",
            "Epoch [16/50], Learning Rate: 0.00905463412215599\n",
            "Epoch [17/50], Train Accuracy: 45.246 %, Loss: 1.9063\n",
            "Epoch [17/50], Learning Rate: 0.008864040551740157\n",
            "Epoch [18/50], Train Accuracy: 45.416 %, Loss: 1.9787\n",
            "Epoch [18/50], Learning Rate: 0.008658394705735987\n",
            "Epoch [19/50], Train Accuracy: 46.2 %, Loss: 1.8023\n",
            "Epoch [19/50], Learning Rate: 0.00843850817434701\n",
            "Epoch [20/50], Train Accuracy: 46.904 %, Loss: 1.9195\n",
            "Epoch [20/50], Learning Rate: 0.008205248749256015\n",
            "Epoch [21/50], Train Accuracy: 46.988 %, Loss: 1.9430\n",
            "Epoch [21/50], Learning Rate: 0.007959536998847744\n",
            "Epoch [22/50], Train Accuracy: 47.218 %, Loss: 2.0259\n",
            "Epoch [22/50], Learning Rate: 0.007702342635146034\n",
            "Epoch [23/50], Train Accuracy: 48.014 %, Loss: 2.1147\n",
            "Epoch [23/50], Learning Rate: 0.007434680686803491\n",
            "Epoch [24/50], Train Accuracy: 48.044 %, Loss: 1.7939\n",
            "Epoch [24/50], Learning Rate: 0.0071576074932471105\n",
            "Epoch [25/50], Train Accuracy: 48.416 %, Loss: 1.9755\n",
            "Epoch [25/50], Learning Rate: 0.006872216535789157\n",
            "Epoch [26/50], Train Accuracy: 48.95 %, Loss: 1.9689\n",
            "Epoch [26/50], Learning Rate: 0.006579634122155991\n",
            "Epoch [27/50], Train Accuracy: 49.6 %, Loss: 1.7814\n",
            "Epoch [27/50], Learning Rate: 0.0062810149414660316\n",
            "Epoch [28/50], Train Accuracy: 49.318 %, Loss: 2.0193\n",
            "Epoch [28/50], Learning Rate: 0.005977537507199339\n",
            "Epoch [29/50], Train Accuracy: 49.572 %, Loss: 1.8184\n",
            "Epoch [29/50], Learning Rate: 0.005670399506143308\n",
            "Epoch [30/50], Train Accuracy: 49.924 %, Loss: 1.7188\n",
            "Epoch [30/50], Learning Rate: 0.005360813071670102\n",
            "Epoch [31/50], Train Accuracy: 50.636 %, Loss: 1.7254\n",
            "Epoch [31/50], Learning Rate: 0.005050000000000001\n",
            "Epoch [32/50], Train Accuracy: 50.684 %, Loss: 1.8925\n",
            "Epoch [32/50], Learning Rate: 0.004739186928329899\n",
            "Epoch [33/50], Train Accuracy: 50.99 %, Loss: 1.8168\n",
            "Epoch [33/50], Learning Rate: 0.004429600493856695\n",
            "Epoch [34/50], Train Accuracy: 51.534 %, Loss: 1.8249\n",
            "Epoch [34/50], Learning Rate: 0.0041224624928006635\n",
            "Epoch [35/50], Train Accuracy: 51.41 %, Loss: 1.8957\n",
            "Epoch [35/50], Learning Rate: 0.0038189850585339685\n",
            "Epoch [36/50], Train Accuracy: 51.674 %, Loss: 1.9430\n",
            "Epoch [36/50], Learning Rate: 0.003520365877844012\n",
            "Epoch [37/50], Train Accuracy: 52.038 %, Loss: 1.7623\n",
            "Epoch [37/50], Learning Rate: 0.0032277834642108457\n",
            "Epoch [38/50], Train Accuracy: 52.204 %, Loss: 1.8209\n",
            "Epoch [38/50], Learning Rate: 0.0029423925067528904\n",
            "Epoch [39/50], Train Accuracy: 52.276 %, Loss: 1.8078\n",
            "Epoch [39/50], Learning Rate: 0.002665319313196509\n",
            "Epoch [40/50], Train Accuracy: 52.698 %, Loss: 1.6077\n",
            "Epoch [40/50], Learning Rate: 0.0023976573648539653\n",
            "Epoch [41/50], Train Accuracy: 52.844 %, Loss: 1.7517\n",
            "Epoch [41/50], Learning Rate: 0.0021404630011522584\n",
            "Epoch [42/50], Train Accuracy: 53.11 %, Loss: 1.7575\n",
            "Epoch [42/50], Learning Rate: 0.001894751250743986\n",
            "Epoch [43/50], Train Accuracy: 53.178 %, Loss: 1.7294\n",
            "Epoch [43/50], Learning Rate: 0.001661491825652991\n",
            "Epoch [44/50], Train Accuracy: 53.48 %, Loss: 1.6131\n",
            "Epoch [44/50], Learning Rate: 0.001441605294264014\n",
            "Epoch [45/50], Train Accuracy: 53.81 %, Loss: 1.7486\n",
            "Epoch [45/50], Learning Rate: 0.001235959448259844\n",
            "Epoch [46/50], Train Accuracy: 54.01 %, Loss: 1.6687\n",
            "Epoch [46/50], Learning Rate: 0.0010453658778440107\n",
            "Epoch [47/50], Train Accuracy: 54.002 %, Loss: 1.7516\n",
            "Epoch [47/50], Learning Rate: 0.0008705767687650265\n",
            "Epoch [48/50], Train Accuracy: 54.132 %, Loss: 1.8191\n",
            "Epoch [48/50], Learning Rate: 0.0007122819337828754\n",
            "Epoch [49/50], Train Accuracy: 54.378 %, Loss: 1.7855\n",
            "Epoch [49/50], Learning Rate: 0.0005711060902932043\n",
            "Epoch [50/50], Train Accuracy: 54.414 %, Loss: 1.6896\n",
            "Epoch [50/50], Learning Rate: 0.00044760639485315584\n"
          ]
        }
      ]
    },
    {
      "cell_type": "code",
      "source": [
        "# モデルの刈り込み率を計算する関数を作成\n",
        "def calculate_pruned_ratio(model):\n",
        "    total_weights = 0\n",
        "    total_pruned_weights = 0\n",
        "\n",
        "    for module in model.modules():\n",
        "        # モジュールがSupermaskConvであるか確認\n",
        "        if isinstance(module, SupermaskConv):\n",
        "            # SupermaskConv層の重みを取得\n",
        "            weight = module.weight.data\n",
        "            # 刈り込みを適用した後の重みを取得\n",
        "            subnet = GetSubnet.apply(module.clamped_scores, 1 - module.prune_rate)\n",
        "            pruned_weight = weight * subnet\n",
        "            # 0である要素数を計算\n",
        "            pruned_weights_count = (pruned_weight == 0).sum().item()\n",
        "            total_pruned_weights += pruned_weights_count\n",
        "            # 重みの全要素数を計算\n",
        "            total_weights_count = pruned_weight.numel()\n",
        "            total_weights += total_weights_count\n",
        "\n",
        "    # 刈り込みが行われた割合を計算\n",
        "    pruned_ratio = total_pruned_weights / total_weights\n",
        "    return print(f\"刈り込み率は{pruned_ratio:.3f}です\")\n",
        "\n",
        "# モデルの刈り込み率を確認\n",
        "calculate_pruned_ratio(model)"
      ],
      "metadata": {
        "id": "0_x414z_sKjt",
        "colab": {
          "base_uri": "https://localhost:8080/"
        },
        "outputId": "391ca800-f13a-4e74-8bac-19da0eab8318"
      },
      "execution_count": 92,
      "outputs": [
        {
          "output_type": "stream",
          "name": "stdout",
          "text": [
            "刈り込み率は0.500です\n"
          ]
        }
      ]
    },
    {
      "cell_type": "code",
      "source": [
        "# 学習前後のモデルのスコアを比較する関数を作成\n",
        "def check_scores_change(model, model_init):\n",
        "    # 各モデルの名前付きモジュールを順に調べる\n",
        "    for (name, module), (name_init, module_init) in zip(model.named_modules(), model_init.named_modules()):\n",
        "        # 両モジュールがConv2dのインスタンスであるかを確認\n",
        "        if isinstance(module, torch.nn.Conv2d) and isinstance(module_init, torch.nn.Conv2d):\n",
        "            # 両モジュールが'scores'属性を持っているかを確認\n",
        "            if hasattr(module, 'scores') and hasattr(module_init, 'scores'):\n",
        "                # 両モジュールの'scores'属性が一致しているかを確認\n",
        "                # 一致していない場合、変更があったことを示すメッセージを出力\n",
        "                if not torch.equal(module.scores, module_init.scores):\n",
        "                    print(f'{name}のスコアが変化しています')\n",
        "                    return\n",
        "    # すべてのconv層で'scores'が変更されていない場合、その旨を出力\n",
        "    print('すべてのスコアは変化していません')\n",
        "\n",
        "# 学習前後でモデルのスコアが変化していないかを確認\n",
        "check_scores_change(model, model_init)"
      ],
      "metadata": {
        "id": "pXcOmaxJsKjt",
        "colab": {
          "base_uri": "https://localhost:8080/"
        },
        "outputId": "1d91ee60-13a1-4479-d8b6-2a53b438e726"
      },
      "execution_count": 93,
      "outputs": [
        {
          "output_type": "stream",
          "name": "stdout",
          "text": [
            "すべてのスコアは変化していません\n"
          ]
        }
      ]
    },
    {
      "cell_type": "code",
      "source": [
        "# 学習前後のモデルの最終層以外の重みを比較する関数を作成\n",
        "def check_weight_change_except_last(model, model_init):\n",
        "    for (name, param), (name_init, param_init) in zip(model.named_parameters(), model_init.named_parameters()):\n",
        "        # 最終層を除く\n",
        "        if name != 'fc.weight' and name != 'fc.bias':\n",
        "            weights_changed = (param.data != param_init.data).any()\n",
        "            if weights_changed:\n",
        "                return print('最終層以外の重みが変化しています')\n",
        "    return print('最終層以外の重みは変化していません')\n",
        "\n",
        "# 学習前後でモデルの最終層以外の重みが変化していないかを確認\n",
        "check_weight_change_except_last(model, model_init)"
      ],
      "metadata": {
        "id": "K-9nEL2msKjt",
        "colab": {
          "base_uri": "https://localhost:8080/"
        },
        "outputId": "7802e0a6-fb27-445d-9c64-5f1d3d2852e6"
      },
      "execution_count": 94,
      "outputs": [
        {
          "output_type": "stream",
          "name": "stdout",
          "text": [
            "最終層以外の重みは変化していません\n"
          ]
        }
      ]
    },
    {
      "cell_type": "code",
      "source": [
        "# モデルの評価\n",
        "model.eval()\n",
        "with torch.no_grad():\n",
        "    total = 0\n",
        "    correct = 0\n",
        "    for images, labels in test_loader_cifar100:\n",
        "        images = images.to(device)\n",
        "        labels = labels.to(device)\n",
        "        outputs = model(images)\n",
        "        _, predicted = torch.max(outputs.data, 1)\n",
        "        total += labels.size(0)\n",
        "        correct += (predicted == labels).sum().item()\n",
        "    # 正解率精度の確認\n",
        "    print('Test Accuracy: {} %'.format(100 * correct / total))"
      ],
      "metadata": {
        "id": "bRLJ9NWVsKjt",
        "colab": {
          "base_uri": "https://localhost:8080/"
        },
        "outputId": "f837bee1-8712-4828-9d6f-fd4f3c036c72"
      },
      "execution_count": 95,
      "outputs": [
        {
          "output_type": "stream",
          "name": "stdout",
          "text": [
            "Test Accuracy: 51.19 %\n"
          ]
        }
      ]
    },
    {
      "cell_type": "code",
      "source": [
        "# GPUメモリの解放\n",
        "del model, model_init\n",
        "torch.cuda.empty_cache()"
      ],
      "metadata": {
        "id": "KhAW-8QqsKjt"
      },
      "execution_count": 96,
      "outputs": []
    },
    {
      "cell_type": "markdown",
      "source": [
        "## 学習と評価（100 epochs, init=signed_constant）"
      ],
      "metadata": {
        "id": "_i257mg66Lan"
      }
    },
    {
      "cell_type": "markdown",
      "source": [
        "### prune_rate=0.999"
      ],
      "metadata": {
        "id": "Htel3svDs206"
      }
    },
    {
      "cell_type": "code",
      "source": [
        "# デバイスを設定\n",
        "device = torch.device('cuda' if torch.cuda.is_available() else 'cpu')\n",
        "# モデルを定義\n",
        "model = torch.load('/content/drive/MyDrive/SupermaskWideResNet28_10_CIFAR10_100epochs_pr0.999_constant_CLRS_restest.pth')\n",
        "# 最終層を変更\n",
        "model.fc = nn.Linear(model.fc.in_features, 100)\n",
        "# 最終層以外のパラメータの勾配計算を停止\n",
        "for param in model.parameters():\n",
        "    param.requires_grad = False\n",
        "# 最終層のパラメータのみを学習するように設定\n",
        "for param in model.fc.parameters():\n",
        "    param.requires_grad = True\n",
        "# モデルをデバイスに転送\n",
        "model = model.to(device)\n",
        "# 変更後のモデルの重みを保存\n",
        "model_init = copy.deepcopy(model)\n",
        "\n",
        "# 学習率を設定\n",
        "learning_rate = 0.01\n",
        "# 全体のepoch数を設定\n",
        "num_epochs = 50\n",
        "# warm-upするepoch数を設定\n",
        "warmup_epochs = 5\n",
        "\n",
        "# 損失関数を定義\n",
        "criterion = nn.CrossEntropyLoss()\n",
        "# オプティマイザーを設定\n",
        "optimizer = optim.Adam(model.fc.parameters(), lr=learning_rate)\n",
        "# スケジューラーを設定\n",
        "scheduler = CosineLRScheduler(optimizer, t_initial=num_epochs, lr_min=1e-4, warmup_t=warmup_epochs, warmup_lr_init=1e-4, warmup_prefix=True)\n",
        "\n",
        "# モデルの学習\n",
        "for epoch in range(num_epochs):\n",
        "    total = 0\n",
        "    correct = 0\n",
        "    for i, (images, labels) in enumerate(train_loader_cifar100):\n",
        "        images = images.to(device)\n",
        "        labels = labels.to(device)\n",
        "        # 順伝播\n",
        "        outputs = model(images)\n",
        "        loss = criterion(outputs, labels)\n",
        "        # 逆伝播\n",
        "        optimizer.zero_grad()\n",
        "        loss.backward()\n",
        "        optimizer.step()\n",
        "        _, predicted = torch.max(outputs.data, 1)\n",
        "        # 全データ数\n",
        "        total += labels.size(0)\n",
        "        # 正解数\n",
        "        correct += (predicted == labels).sum().item()\n",
        "    # 正解率精度を計算\n",
        "    train_acc = 100 * correct / total\n",
        "    # 正解率精度と損失を確認\n",
        "    print(\"Epoch [{}/{}], Train Accuracy: {} %, Loss: {:.4f}\".format(epoch+1, num_epochs, 100 * correct / total, loss.item()))\n",
        "    # 1エポック終了後にスケジューラーを更新\n",
        "    scheduler.step(epoch)\n",
        "    # 学習率の確認\n",
        "    print(\"Epoch [{}/{}], Learning Rate: {}\".format(epoch+1, num_epochs, optimizer.param_groups[0]['lr']))\n",
        "\n",
        "\n",
        "# モデルを保存\n",
        "torch.save(model, '/content/drive/MyDrive/SupermaskWideResNet28_10_CIFAR100_from_CIFAR10_100epochs_pr0.999_constant_50epochs_lr0.01_CLRS_restest.pth')"
      ],
      "metadata": {
        "id": "Tn-SMFp7s21G",
        "colab": {
          "base_uri": "https://localhost:8080/"
        },
        "outputId": "53bc22a0-afa8-4822-85b7-b47a7b6708e4"
      },
      "execution_count": 97,
      "outputs": [
        {
          "output_type": "stream",
          "name": "stdout",
          "text": [
            "Epoch [1/50], Train Accuracy: 1.0 %, Loss: 4.6039\n",
            "Epoch [1/50], Learning Rate: 0.0001\n",
            "Epoch [2/50], Train Accuracy: 0.918 %, Loss: 4.6030\n",
            "Epoch [2/50], Learning Rate: 0.00208\n",
            "Epoch [3/50], Train Accuracy: 0.912 %, Loss: 4.6054\n",
            "Epoch [3/50], Learning Rate: 0.00406\n",
            "Epoch [4/50], Train Accuracy: 0.894 %, Loss: 4.6068\n",
            "Epoch [4/50], Learning Rate: 0.00604\n",
            "Epoch [5/50], Train Accuracy: 0.926 %, Loss: 4.6072\n",
            "Epoch [5/50], Learning Rate: 0.00802\n",
            "Epoch [6/50], Train Accuracy: 0.896 %, Loss: 4.6059\n",
            "Epoch [6/50], Learning Rate: 0.01\n",
            "Epoch [7/50], Train Accuracy: 0.908 %, Loss: 4.6074\n",
            "Epoch [7/50], Learning Rate: 0.009990232305719944\n",
            "Epoch [8/50], Train Accuracy: 0.906 %, Loss: 4.6072\n",
            "Epoch [8/50], Learning Rate: 0.009960967771506667\n",
            "Epoch [9/50], Train Accuracy: 0.936 %, Loss: 4.6073\n",
            "Epoch [9/50], Learning Rate: 0.00991232189110701\n",
            "Epoch [10/50], Train Accuracy: 0.928 %, Loss: 4.6074\n",
            "Epoch [10/50], Learning Rate: 0.009844486647586723\n",
            "Epoch [11/50], Train Accuracy: 0.864 %, Loss: 4.6061\n",
            "Epoch [11/50], Learning Rate: 0.009757729755661011\n",
            "Epoch [12/50], Train Accuracy: 0.922 %, Loss: 4.6083\n",
            "Epoch [12/50], Learning Rate: 0.009652393605146845\n",
            "Epoch [13/50], Train Accuracy: 0.892 %, Loss: 4.6058\n",
            "Epoch [13/50], Learning Rate: 0.009528893909706798\n",
            "Epoch [14/50], Train Accuracy: 0.926 %, Loss: 4.6073\n",
            "Epoch [14/50], Learning Rate: 0.009387718066217124\n",
            "Epoch [15/50], Train Accuracy: 0.922 %, Loss: 4.6079\n",
            "Epoch [15/50], Learning Rate: 0.009229423231234974\n",
            "Epoch [16/50], Train Accuracy: 0.892 %, Loss: 4.6063\n",
            "Epoch [16/50], Learning Rate: 0.00905463412215599\n",
            "Epoch [17/50], Train Accuracy: 0.87 %, Loss: 4.6069\n",
            "Epoch [17/50], Learning Rate: 0.008864040551740157\n",
            "Epoch [18/50], Train Accuracy: 0.906 %, Loss: 4.6064\n",
            "Epoch [18/50], Learning Rate: 0.008658394705735987\n",
            "Epoch [19/50], Train Accuracy: 0.86 %, Loss: 4.6087\n",
            "Epoch [19/50], Learning Rate: 0.00843850817434701\n",
            "Epoch [20/50], Train Accuracy: 1.014 %, Loss: 4.6063\n",
            "Epoch [20/50], Learning Rate: 0.008205248749256015\n",
            "Epoch [21/50], Train Accuracy: 0.922 %, Loss: 4.6044\n",
            "Epoch [21/50], Learning Rate: 0.007959536998847744\n",
            "Epoch [22/50], Train Accuracy: 0.852 %, Loss: 4.6073\n",
            "Epoch [22/50], Learning Rate: 0.007702342635146034\n",
            "Epoch [23/50], Train Accuracy: 0.858 %, Loss: 4.6074\n",
            "Epoch [23/50], Learning Rate: 0.007434680686803491\n",
            "Epoch [24/50], Train Accuracy: 0.9 %, Loss: 4.6060\n",
            "Epoch [24/50], Learning Rate: 0.0071576074932471105\n",
            "Epoch [25/50], Train Accuracy: 0.87 %, Loss: 4.6069\n",
            "Epoch [25/50], Learning Rate: 0.006872216535789157\n",
            "Epoch [26/50], Train Accuracy: 0.848 %, Loss: 4.6067\n",
            "Epoch [26/50], Learning Rate: 0.006579634122155991\n",
            "Epoch [27/50], Train Accuracy: 0.84 %, Loss: 4.6066\n",
            "Epoch [27/50], Learning Rate: 0.0062810149414660316\n",
            "Epoch [28/50], Train Accuracy: 0.924 %, Loss: 4.6059\n",
            "Epoch [28/50], Learning Rate: 0.005977537507199339\n",
            "Epoch [29/50], Train Accuracy: 0.892 %, Loss: 4.6054\n",
            "Epoch [29/50], Learning Rate: 0.005670399506143308\n",
            "Epoch [30/50], Train Accuracy: 0.86 %, Loss: 4.6069\n",
            "Epoch [30/50], Learning Rate: 0.005360813071670102\n",
            "Epoch [31/50], Train Accuracy: 0.94 %, Loss: 4.6065\n",
            "Epoch [31/50], Learning Rate: 0.005050000000000001\n",
            "Epoch [32/50], Train Accuracy: 0.914 %, Loss: 4.6070\n",
            "Epoch [32/50], Learning Rate: 0.004739186928329899\n",
            "Epoch [33/50], Train Accuracy: 0.908 %, Loss: 4.6073\n",
            "Epoch [33/50], Learning Rate: 0.004429600493856695\n",
            "Epoch [34/50], Train Accuracy: 0.934 %, Loss: 4.6063\n",
            "Epoch [34/50], Learning Rate: 0.0041224624928006635\n",
            "Epoch [35/50], Train Accuracy: 0.906 %, Loss: 4.6064\n",
            "Epoch [35/50], Learning Rate: 0.0038189850585339685\n",
            "Epoch [36/50], Train Accuracy: 0.88 %, Loss: 4.6061\n",
            "Epoch [36/50], Learning Rate: 0.003520365877844012\n",
            "Epoch [37/50], Train Accuracy: 0.904 %, Loss: 4.6064\n",
            "Epoch [37/50], Learning Rate: 0.0032277834642108457\n",
            "Epoch [38/50], Train Accuracy: 0.854 %, Loss: 4.6062\n",
            "Epoch [38/50], Learning Rate: 0.0029423925067528904\n",
            "Epoch [39/50], Train Accuracy: 0.862 %, Loss: 4.6061\n",
            "Epoch [39/50], Learning Rate: 0.002665319313196509\n",
            "Epoch [40/50], Train Accuracy: 0.838 %, Loss: 4.6061\n",
            "Epoch [40/50], Learning Rate: 0.0023976573648539653\n",
            "Epoch [41/50], Train Accuracy: 0.814 %, Loss: 4.6060\n",
            "Epoch [41/50], Learning Rate: 0.0021404630011522584\n",
            "Epoch [42/50], Train Accuracy: 0.872 %, Loss: 4.6059\n",
            "Epoch [42/50], Learning Rate: 0.001894751250743986\n",
            "Epoch [43/50], Train Accuracy: 0.902 %, Loss: 4.6059\n",
            "Epoch [43/50], Learning Rate: 0.001661491825652991\n",
            "Epoch [44/50], Train Accuracy: 0.894 %, Loss: 4.6056\n",
            "Epoch [44/50], Learning Rate: 0.001441605294264014\n",
            "Epoch [45/50], Train Accuracy: 0.842 %, Loss: 4.6058\n",
            "Epoch [45/50], Learning Rate: 0.001235959448259844\n",
            "Epoch [46/50], Train Accuracy: 0.92 %, Loss: 4.6058\n",
            "Epoch [46/50], Learning Rate: 0.0010453658778440107\n",
            "Epoch [47/50], Train Accuracy: 0.968 %, Loss: 4.6056\n",
            "Epoch [47/50], Learning Rate: 0.0008705767687650265\n",
            "Epoch [48/50], Train Accuracy: 0.866 %, Loss: 4.6056\n",
            "Epoch [48/50], Learning Rate: 0.0007122819337828754\n",
            "Epoch [49/50], Train Accuracy: 0.894 %, Loss: 4.6054\n",
            "Epoch [49/50], Learning Rate: 0.0005711060902932043\n",
            "Epoch [50/50], Train Accuracy: 0.866 %, Loss: 4.6055\n",
            "Epoch [50/50], Learning Rate: 0.00044760639485315584\n"
          ]
        }
      ]
    },
    {
      "cell_type": "code",
      "source": [
        "# モデルの刈り込み率を計算する関数を作成\n",
        "def calculate_pruned_ratio(model):\n",
        "    total_weights = 0\n",
        "    total_pruned_weights = 0\n",
        "\n",
        "    for module in model.modules():\n",
        "        # モジュールがSupermaskConvであるか確認\n",
        "        if isinstance(module, SupermaskConv):\n",
        "            # SupermaskConv層の重みを取得\n",
        "            weight = module.weight.data\n",
        "            # 刈り込みを適用した後の重みを取得\n",
        "            subnet = GetSubnet.apply(module.clamped_scores, 1 - module.prune_rate)\n",
        "            pruned_weight = weight * subnet\n",
        "            # 0である要素数を計算\n",
        "            pruned_weights_count = (pruned_weight == 0).sum().item()\n",
        "            total_pruned_weights += pruned_weights_count\n",
        "            # 重みの全要素数を計算\n",
        "            total_weights_count = pruned_weight.numel()\n",
        "            total_weights += total_weights_count\n",
        "\n",
        "    # 刈り込みが行われた割合を計算\n",
        "    pruned_ratio = total_pruned_weights / total_weights\n",
        "    return print(f\"刈り込み率は{pruned_ratio:.3f}です\")\n",
        "\n",
        "# モデルの刈り込み率を確認\n",
        "calculate_pruned_ratio(model)"
      ],
      "metadata": {
        "id": "UNPEeFvms21G",
        "colab": {
          "base_uri": "https://localhost:8080/"
        },
        "outputId": "4328d3ad-ca99-41bb-b0a2-9376cbb1f065"
      },
      "execution_count": 98,
      "outputs": [
        {
          "output_type": "stream",
          "name": "stdout",
          "text": [
            "刈り込み率は0.999です\n"
          ]
        }
      ]
    },
    {
      "cell_type": "code",
      "source": [
        "# 学習前後のモデルのスコアを比較する関数を作成\n",
        "def check_scores_change(model, model_init):\n",
        "    # 各モデルの名前付きモジュールを順に調べる\n",
        "    for (name, module), (name_init, module_init) in zip(model.named_modules(), model_init.named_modules()):\n",
        "        # 両モジュールがConv2dのインスタンスであるかを確認\n",
        "        if isinstance(module, torch.nn.Conv2d) and isinstance(module_init, torch.nn.Conv2d):\n",
        "            # 両モジュールが'scores'属性を持っているかを確認\n",
        "            if hasattr(module, 'scores') and hasattr(module_init, 'scores'):\n",
        "                # 両モジュールの'scores'属性が一致しているかを確認\n",
        "                # 一致していない場合、変更があったことを示すメッセージを出力\n",
        "                if not torch.equal(module.scores, module_init.scores):\n",
        "                    print(f'{name}のスコアが変化しています')\n",
        "                    return\n",
        "    # すべてのconv層で'scores'が変更されていない場合、その旨を出力\n",
        "    print('すべてのスコアは変化していません')\n",
        "\n",
        "# 学習前後でモデルのスコアが変化していないかを確認\n",
        "check_scores_change(model, model_init)"
      ],
      "metadata": {
        "id": "4Hw5ym78s21G",
        "colab": {
          "base_uri": "https://localhost:8080/"
        },
        "outputId": "9dcd71e6-0171-4518-f674-034cf098c374"
      },
      "execution_count": 99,
      "outputs": [
        {
          "output_type": "stream",
          "name": "stdout",
          "text": [
            "すべてのスコアは変化していません\n"
          ]
        }
      ]
    },
    {
      "cell_type": "code",
      "source": [
        "# 学習前後のモデルの最終層以外の重みを比較する関数を作成\n",
        "def check_weight_change_except_last(model, model_init):\n",
        "    for (name, param), (name_init, param_init) in zip(model.named_parameters(), model_init.named_parameters()):\n",
        "        # 最終層を除く\n",
        "        if name != 'fc.weight' and name != 'fc.bias':\n",
        "            weights_changed = (param.data != param_init.data).any()\n",
        "            if weights_changed:\n",
        "                return print('最終層以外の重みが変化しています')\n",
        "    return print('最終層以外の重みは変化していません')\n",
        "\n",
        "# 学習前後でモデルの最終層以外の重みが変化していないかを確認\n",
        "check_weight_change_except_last(model, model_init)"
      ],
      "metadata": {
        "id": "Yc0q_v-as21H",
        "colab": {
          "base_uri": "https://localhost:8080/"
        },
        "outputId": "c7c41b75-61ec-47b7-e592-f759740dc776"
      },
      "execution_count": 100,
      "outputs": [
        {
          "output_type": "stream",
          "name": "stdout",
          "text": [
            "最終層以外の重みは変化していません\n"
          ]
        }
      ]
    },
    {
      "cell_type": "code",
      "source": [
        "# モデルの評価\n",
        "model.eval()\n",
        "with torch.no_grad():\n",
        "    total = 0\n",
        "    correct = 0\n",
        "    for images, labels in test_loader_cifar100:\n",
        "        images = images.to(device)\n",
        "        labels = labels.to(device)\n",
        "        outputs = model(images)\n",
        "        _, predicted = torch.max(outputs.data, 1)\n",
        "        total += labels.size(0)\n",
        "        correct += (predicted == labels).sum().item()\n",
        "    # 正解率精度の確認\n",
        "    print('Test Accuracy: {} %'.format(100 * correct / total))"
      ],
      "metadata": {
        "id": "wTIz7vT0s21H",
        "colab": {
          "base_uri": "https://localhost:8080/"
        },
        "outputId": "c62dd134-7ad1-4954-c614-b4b275c0b625"
      },
      "execution_count": 101,
      "outputs": [
        {
          "output_type": "stream",
          "name": "stdout",
          "text": [
            "Test Accuracy: 1.0 %\n"
          ]
        }
      ]
    },
    {
      "cell_type": "code",
      "source": [
        "# GPUメモリの解放\n",
        "del model, model_init\n",
        "torch.cuda.empty_cache()"
      ],
      "metadata": {
        "id": "adYD1gbrs21H"
      },
      "execution_count": 102,
      "outputs": []
    },
    {
      "cell_type": "markdown",
      "source": [
        "### prune_rate=0.995"
      ],
      "metadata": {
        "id": "kAI328b9s21H"
      }
    },
    {
      "cell_type": "code",
      "source": [
        "# デバイスを設定\n",
        "device = torch.device('cuda' if torch.cuda.is_available() else 'cpu')\n",
        "# モデルを定義\n",
        "model = torch.load('/content/drive/MyDrive/SupermaskWideResNet28_10_CIFAR10_100epochs_pr0.995_constant_CLRS_restest.pth')\n",
        "# 最終層を変更\n",
        "model.fc = nn.Linear(model.fc.in_features, 100)\n",
        "# 最終層以外のパラメータの勾配計算を停止\n",
        "for param in model.parameters():\n",
        "    param.requires_grad = False\n",
        "# 最終層のパラメータのみを学習するように設定\n",
        "for param in model.fc.parameters():\n",
        "    param.requires_grad = True\n",
        "# モデルをデバイスに転送\n",
        "model = model.to(device)\n",
        "# 変更後のモデルの重みを保存\n",
        "model_init = copy.deepcopy(model)\n",
        "\n",
        "# 学習率を設定\n",
        "learning_rate = 0.01\n",
        "# 全体のepoch数を設定\n",
        "num_epochs = 50\n",
        "# warm-upするepoch数を設定\n",
        "warmup_epochs = 5\n",
        "\n",
        "# 損失関数を定義\n",
        "criterion = nn.CrossEntropyLoss()\n",
        "# オプティマイザーを設定\n",
        "optimizer = optim.Adam(model.fc.parameters(), lr=learning_rate)\n",
        "# スケジューラーを設定\n",
        "scheduler = CosineLRScheduler(optimizer, t_initial=num_epochs, lr_min=1e-4, warmup_t=warmup_epochs, warmup_lr_init=1e-4, warmup_prefix=True)\n",
        "\n",
        "# モデルの学習\n",
        "for epoch in range(num_epochs):\n",
        "    total = 0\n",
        "    correct = 0\n",
        "    for i, (images, labels) in enumerate(train_loader_cifar100):\n",
        "        images = images.to(device)\n",
        "        labels = labels.to(device)\n",
        "        # 順伝播\n",
        "        outputs = model(images)\n",
        "        loss = criterion(outputs, labels)\n",
        "        # 逆伝播\n",
        "        optimizer.zero_grad()\n",
        "        loss.backward()\n",
        "        optimizer.step()\n",
        "        _, predicted = torch.max(outputs.data, 1)\n",
        "        # 全データ数\n",
        "        total += labels.size(0)\n",
        "        # 正解数\n",
        "        correct += (predicted == labels).sum().item()\n",
        "    # 正解率精度を計算\n",
        "    train_acc = 100 * correct / total\n",
        "    # 正解率精度と損失を確認\n",
        "    print(\"Epoch [{}/{}], Train Accuracy: {} %, Loss: {:.4f}\".format(epoch+1, num_epochs, 100 * correct / total, loss.item()))\n",
        "    # 1エポック終了後にスケジューラーを更新\n",
        "    scheduler.step(epoch)\n",
        "    # 学習率の確認\n",
        "    print(\"Epoch [{}/{}], Learning Rate: {}\".format(epoch+1, num_epochs, optimizer.param_groups[0]['lr']))\n",
        "\n",
        "\n",
        "# モデルを保存\n",
        "torch.save(model, '/content/drive/MyDrive/SupermaskWideResNet28_10_CIFAR100_from_CIFAR10_100epochs_pr0.995_constant_50epochs_lr0.01_CLRS_restest.pth')"
      ],
      "metadata": {
        "id": "0qd4qkxos21H",
        "colab": {
          "base_uri": "https://localhost:8080/"
        },
        "outputId": "c4f6e5e5-51ad-42c4-a924-5db4bf08a912"
      },
      "execution_count": 103,
      "outputs": [
        {
          "output_type": "stream",
          "name": "stdout",
          "text": [
            "Epoch [1/50], Train Accuracy: 5.15 %, Loss: 4.3160\n",
            "Epoch [1/50], Learning Rate: 0.0001\n",
            "Epoch [2/50], Train Accuracy: 14.19 %, Loss: 4.0656\n",
            "Epoch [2/50], Learning Rate: 0.00208\n",
            "Epoch [3/50], Train Accuracy: 24.436 %, Loss: 2.9954\n",
            "Epoch [3/50], Learning Rate: 0.00406\n",
            "Epoch [4/50], Train Accuracy: 30.494 %, Loss: 2.7149\n",
            "Epoch [4/50], Learning Rate: 0.00604\n",
            "Epoch [5/50], Train Accuracy: 32.454 %, Loss: 2.7304\n",
            "Epoch [5/50], Learning Rate: 0.00802\n",
            "Epoch [6/50], Train Accuracy: 33.412 %, Loss: 2.5646\n",
            "Epoch [6/50], Learning Rate: 0.01\n",
            "Epoch [7/50], Train Accuracy: 34.764 %, Loss: 2.6155\n",
            "Epoch [7/50], Learning Rate: 0.009990232305719944\n",
            "Epoch [8/50], Train Accuracy: 36.386 %, Loss: 2.3479\n",
            "Epoch [8/50], Learning Rate: 0.009960967771506667\n",
            "Epoch [9/50], Train Accuracy: 37.262 %, Loss: 2.4129\n",
            "Epoch [9/50], Learning Rate: 0.00991232189110701\n",
            "Epoch [10/50], Train Accuracy: 37.964 %, Loss: 2.4146\n",
            "Epoch [10/50], Learning Rate: 0.009844486647586723\n",
            "Epoch [11/50], Train Accuracy: 38.694 %, Loss: 2.5440\n",
            "Epoch [11/50], Learning Rate: 0.009757729755661011\n",
            "Epoch [12/50], Train Accuracy: 39.45 %, Loss: 2.2639\n",
            "Epoch [12/50], Learning Rate: 0.009652393605146845\n",
            "Epoch [13/50], Train Accuracy: 39.752 %, Loss: 2.3013\n",
            "Epoch [13/50], Learning Rate: 0.009528893909706798\n",
            "Epoch [14/50], Train Accuracy: 40.112 %, Loss: 2.5135\n",
            "Epoch [14/50], Learning Rate: 0.009387718066217124\n",
            "Epoch [15/50], Train Accuracy: 40.508 %, Loss: 2.3092\n",
            "Epoch [15/50], Learning Rate: 0.009229423231234974\n",
            "Epoch [16/50], Train Accuracy: 40.938 %, Loss: 2.3786\n",
            "Epoch [16/50], Learning Rate: 0.00905463412215599\n",
            "Epoch [17/50], Train Accuracy: 41.564 %, Loss: 2.3353\n",
            "Epoch [17/50], Learning Rate: 0.008864040551740157\n",
            "Epoch [18/50], Train Accuracy: 41.89 %, Loss: 2.2465\n",
            "Epoch [18/50], Learning Rate: 0.008658394705735987\n",
            "Epoch [19/50], Train Accuracy: 42.084 %, Loss: 2.2613\n",
            "Epoch [19/50], Learning Rate: 0.00843850817434701\n",
            "Epoch [20/50], Train Accuracy: 42.558 %, Loss: 2.2879\n",
            "Epoch [20/50], Learning Rate: 0.008205248749256015\n",
            "Epoch [21/50], Train Accuracy: 42.78 %, Loss: 2.2229\n",
            "Epoch [21/50], Learning Rate: 0.007959536998847744\n",
            "Epoch [22/50], Train Accuracy: 43.058 %, Loss: 2.1772\n",
            "Epoch [22/50], Learning Rate: 0.007702342635146034\n",
            "Epoch [23/50], Train Accuracy: 43.474 %, Loss: 2.1073\n",
            "Epoch [23/50], Learning Rate: 0.007434680686803491\n",
            "Epoch [24/50], Train Accuracy: 43.924 %, Loss: 2.2297\n",
            "Epoch [24/50], Learning Rate: 0.0071576074932471105\n",
            "Epoch [25/50], Train Accuracy: 43.866 %, Loss: 2.2332\n",
            "Epoch [25/50], Learning Rate: 0.006872216535789157\n",
            "Epoch [26/50], Train Accuracy: 43.79 %, Loss: 2.1046\n",
            "Epoch [26/50], Learning Rate: 0.006579634122155991\n",
            "Epoch [27/50], Train Accuracy: 44.572 %, Loss: 2.0203\n",
            "Epoch [27/50], Learning Rate: 0.0062810149414660316\n",
            "Epoch [28/50], Train Accuracy: 44.508 %, Loss: 2.0379\n",
            "Epoch [28/50], Learning Rate: 0.005977537507199339\n",
            "Epoch [29/50], Train Accuracy: 45.144 %, Loss: 2.2295\n",
            "Epoch [29/50], Learning Rate: 0.005670399506143308\n",
            "Epoch [30/50], Train Accuracy: 45.176 %, Loss: 1.9054\n",
            "Epoch [30/50], Learning Rate: 0.005360813071670102\n",
            "Epoch [31/50], Train Accuracy: 45.278 %, Loss: 2.1025\n",
            "Epoch [31/50], Learning Rate: 0.005050000000000001\n",
            "Epoch [32/50], Train Accuracy: 45.742 %, Loss: 2.2982\n",
            "Epoch [32/50], Learning Rate: 0.004739186928329899\n",
            "Epoch [33/50], Train Accuracy: 45.636 %, Loss: 1.8408\n",
            "Epoch [33/50], Learning Rate: 0.004429600493856695\n",
            "Epoch [34/50], Train Accuracy: 45.87 %, Loss: 2.1544\n",
            "Epoch [34/50], Learning Rate: 0.0041224624928006635\n",
            "Epoch [35/50], Train Accuracy: 46.284 %, Loss: 2.1702\n",
            "Epoch [35/50], Learning Rate: 0.0038189850585339685\n",
            "Epoch [36/50], Train Accuracy: 46.452 %, Loss: 2.0540\n",
            "Epoch [36/50], Learning Rate: 0.003520365877844012\n",
            "Epoch [37/50], Train Accuracy: 46.368 %, Loss: 2.1048\n",
            "Epoch [37/50], Learning Rate: 0.0032277834642108457\n",
            "Epoch [38/50], Train Accuracy: 46.736 %, Loss: 2.3288\n",
            "Epoch [38/50], Learning Rate: 0.0029423925067528904\n",
            "Epoch [39/50], Train Accuracy: 47.186 %, Loss: 2.0460\n",
            "Epoch [39/50], Learning Rate: 0.002665319313196509\n",
            "Epoch [40/50], Train Accuracy: 47.4 %, Loss: 1.9629\n",
            "Epoch [40/50], Learning Rate: 0.0023976573648539653\n",
            "Epoch [41/50], Train Accuracy: 47.662 %, Loss: 1.9448\n",
            "Epoch [41/50], Learning Rate: 0.0021404630011522584\n",
            "Epoch [42/50], Train Accuracy: 47.576 %, Loss: 1.9921\n",
            "Epoch [42/50], Learning Rate: 0.001894751250743986\n",
            "Epoch [43/50], Train Accuracy: 47.704 %, Loss: 1.9687\n",
            "Epoch [43/50], Learning Rate: 0.001661491825652991\n",
            "Epoch [44/50], Train Accuracy: 47.906 %, Loss: 2.0601\n",
            "Epoch [44/50], Learning Rate: 0.001441605294264014\n",
            "Epoch [45/50], Train Accuracy: 48.056 %, Loss: 1.8899\n",
            "Epoch [45/50], Learning Rate: 0.001235959448259844\n",
            "Epoch [46/50], Train Accuracy: 48.418 %, Loss: 1.8214\n",
            "Epoch [46/50], Learning Rate: 0.0010453658778440107\n",
            "Epoch [47/50], Train Accuracy: 48.652 %, Loss: 1.9242\n",
            "Epoch [47/50], Learning Rate: 0.0008705767687650265\n",
            "Epoch [48/50], Train Accuracy: 48.566 %, Loss: 2.0253\n",
            "Epoch [48/50], Learning Rate: 0.0007122819337828754\n",
            "Epoch [49/50], Train Accuracy: 48.732 %, Loss: 1.8869\n",
            "Epoch [49/50], Learning Rate: 0.0005711060902932043\n",
            "Epoch [50/50], Train Accuracy: 48.834 %, Loss: 1.9527\n",
            "Epoch [50/50], Learning Rate: 0.00044760639485315584\n"
          ]
        }
      ]
    },
    {
      "cell_type": "code",
      "source": [
        "# モデルの刈り込み率を計算する関数を作成\n",
        "def calculate_pruned_ratio(model):\n",
        "    total_weights = 0\n",
        "    total_pruned_weights = 0\n",
        "\n",
        "    for module in model.modules():\n",
        "        # モジュールがSupermaskConvであるか確認\n",
        "        if isinstance(module, SupermaskConv):\n",
        "            # SupermaskConv層の重みを取得\n",
        "            weight = module.weight.data\n",
        "            # 刈り込みを適用した後の重みを取得\n",
        "            subnet = GetSubnet.apply(module.clamped_scores, 1 - module.prune_rate)\n",
        "            pruned_weight = weight * subnet\n",
        "            # 0である要素数を計算\n",
        "            pruned_weights_count = (pruned_weight == 0).sum().item()\n",
        "            total_pruned_weights += pruned_weights_count\n",
        "            # 重みの全要素数を計算\n",
        "            total_weights_count = pruned_weight.numel()\n",
        "            total_weights += total_weights_count\n",
        "\n",
        "    # 刈り込みが行われた割合を計算\n",
        "    pruned_ratio = total_pruned_weights / total_weights\n",
        "    return print(f\"刈り込み率は{pruned_ratio:.3f}です\")\n",
        "\n",
        "# モデルの刈り込み率を確認\n",
        "calculate_pruned_ratio(model)"
      ],
      "metadata": {
        "id": "r-HW5IK_s21H",
        "colab": {
          "base_uri": "https://localhost:8080/"
        },
        "outputId": "e35aa616-308e-4259-ac93-70eb7d1e4159"
      },
      "execution_count": 104,
      "outputs": [
        {
          "output_type": "stream",
          "name": "stdout",
          "text": [
            "刈り込み率は0.995です\n"
          ]
        }
      ]
    },
    {
      "cell_type": "code",
      "source": [
        "# 学習前後のモデルのスコアを比較する関数を作成\n",
        "def check_scores_change(model, model_init):\n",
        "    # 各モデルの名前付きモジュールを順に調べる\n",
        "    for (name, module), (name_init, module_init) in zip(model.named_modules(), model_init.named_modules()):\n",
        "        # 両モジュールがConv2dのインスタンスであるかを確認\n",
        "        if isinstance(module, torch.nn.Conv2d) and isinstance(module_init, torch.nn.Conv2d):\n",
        "            # 両モジュールが'scores'属性を持っているかを確認\n",
        "            if hasattr(module, 'scores') and hasattr(module_init, 'scores'):\n",
        "                # 両モジュールの'scores'属性が一致しているかを確認\n",
        "                # 一致していない場合、変更があったことを示すメッセージを出力\n",
        "                if not torch.equal(module.scores, module_init.scores):\n",
        "                    print(f'{name}のスコアが変化しています')\n",
        "                    return\n",
        "    # すべてのconv層で'scores'が変更されていない場合、その旨を出力\n",
        "    print('すべてのスコアは変化していません')\n",
        "\n",
        "# 学習前後でモデルのスコアが変化していないかを確認\n",
        "check_scores_change(model, model_init)"
      ],
      "metadata": {
        "id": "1LJb0Krws21H",
        "colab": {
          "base_uri": "https://localhost:8080/"
        },
        "outputId": "35920978-ef5b-46ec-9632-f48234dd1aaa"
      },
      "execution_count": 105,
      "outputs": [
        {
          "output_type": "stream",
          "name": "stdout",
          "text": [
            "すべてのスコアは変化していません\n"
          ]
        }
      ]
    },
    {
      "cell_type": "code",
      "source": [
        "# 学習前後のモデルの最終層以外の重みを比較する関数を作成\n",
        "def check_weight_change_except_last(model, model_init):\n",
        "    for (name, param), (name_init, param_init) in zip(model.named_parameters(), model_init.named_parameters()):\n",
        "        # 最終層を除く\n",
        "        if name != 'fc.weight' and name != 'fc.bias':\n",
        "            weights_changed = (param.data != param_init.data).any()\n",
        "            if weights_changed:\n",
        "                return print('最終層以外の重みが変化しています')\n",
        "    return print('最終層以外の重みは変化していません')\n",
        "\n",
        "# 学習前後でモデルの最終層以外の重みが変化していないかを確認\n",
        "check_weight_change_except_last(model, model_init)"
      ],
      "metadata": {
        "id": "0qCmgtNHs21I",
        "colab": {
          "base_uri": "https://localhost:8080/"
        },
        "outputId": "bca1bfa2-6dd0-42b3-98f5-52be5e969ef1"
      },
      "execution_count": 106,
      "outputs": [
        {
          "output_type": "stream",
          "name": "stdout",
          "text": [
            "最終層以外の重みは変化していません\n"
          ]
        }
      ]
    },
    {
      "cell_type": "code",
      "source": [
        "# モデルの評価\n",
        "model.eval()\n",
        "with torch.no_grad():\n",
        "    total = 0\n",
        "    correct = 0\n",
        "    for images, labels in test_loader_cifar100:\n",
        "        images = images.to(device)\n",
        "        labels = labels.to(device)\n",
        "        outputs = model(images)\n",
        "        _, predicted = torch.max(outputs.data, 1)\n",
        "        total += labels.size(0)\n",
        "        correct += (predicted == labels).sum().item()\n",
        "    # 正解率精度の確認\n",
        "    print('Test Accuracy: {} %'.format(100 * correct / total))"
      ],
      "metadata": {
        "id": "Lfmi-sz_s21I",
        "colab": {
          "base_uri": "https://localhost:8080/"
        },
        "outputId": "14959ae3-4fe7-45a7-c4b4-e812fc254a1b"
      },
      "execution_count": 107,
      "outputs": [
        {
          "output_type": "stream",
          "name": "stdout",
          "text": [
            "Test Accuracy: 47.02 %\n"
          ]
        }
      ]
    },
    {
      "cell_type": "code",
      "source": [
        "# GPUメモリの解放\n",
        "del model, model_init\n",
        "torch.cuda.empty_cache()"
      ],
      "metadata": {
        "id": "8HWIItpbs21I"
      },
      "execution_count": 108,
      "outputs": []
    },
    {
      "cell_type": "markdown",
      "source": [
        "### prune_rate=0.99"
      ],
      "metadata": {
        "id": "N6XhVlw1s21I"
      }
    },
    {
      "cell_type": "code",
      "source": [
        "# デバイスを設定\n",
        "device = torch.device('cuda' if torch.cuda.is_available() else 'cpu')\n",
        "# モデルを定義\n",
        "model = torch.load('/content/drive/MyDrive/SupermaskWideResNet28_10_CIFAR10_100epochs_pr0.99_constant_CLRS_restest.pth')\n",
        "# 最終層を変更\n",
        "model.fc = nn.Linear(model.fc.in_features, 100)\n",
        "# 最終層以外のパラメータの勾配計算を停止\n",
        "for param in model.parameters():\n",
        "    param.requires_grad = False\n",
        "# 最終層のパラメータのみを学習するように設定\n",
        "for param in model.fc.parameters():\n",
        "    param.requires_grad = True\n",
        "# モデルをデバイスに転送\n",
        "model = model.to(device)\n",
        "# 変更後のモデルの重みを保存\n",
        "model_init = copy.deepcopy(model)\n",
        "\n",
        "# 学習率を設定\n",
        "learning_rate = 0.01\n",
        "# 全体のepoch数を設定\n",
        "num_epochs = 50\n",
        "# warm-upするepoch数を設定\n",
        "warmup_epochs = 5\n",
        "\n",
        "# 損失関数を定義\n",
        "criterion = nn.CrossEntropyLoss()\n",
        "# オプティマイザーを設定\n",
        "optimizer = optim.Adam(model.fc.parameters(), lr=learning_rate)\n",
        "# スケジューラーを設定\n",
        "scheduler = CosineLRScheduler(optimizer, t_initial=num_epochs, lr_min=1e-4, warmup_t=warmup_epochs, warmup_lr_init=1e-4, warmup_prefix=True)\n",
        "\n",
        "# モデルの学習\n",
        "for epoch in range(num_epochs):\n",
        "    total = 0\n",
        "    correct = 0\n",
        "    for i, (images, labels) in enumerate(train_loader_cifar100):\n",
        "        images = images.to(device)\n",
        "        labels = labels.to(device)\n",
        "        # 順伝播\n",
        "        outputs = model(images)\n",
        "        loss = criterion(outputs, labels)\n",
        "        # 逆伝播\n",
        "        optimizer.zero_grad()\n",
        "        loss.backward()\n",
        "        optimizer.step()\n",
        "        _, predicted = torch.max(outputs.data, 1)\n",
        "        # 全データ数\n",
        "        total += labels.size(0)\n",
        "        # 正解数\n",
        "        correct += (predicted == labels).sum().item()\n",
        "    # 正解率精度を計算\n",
        "    train_acc = 100 * correct / total\n",
        "    # 正解率精度と損失を確認\n",
        "    print(\"Epoch [{}/{}], Train Accuracy: {} %, Loss: {:.4f}\".format(epoch+1, num_epochs, 100 * correct / total, loss.item()))\n",
        "    # 1エポック終了後にスケジューラーを更新\n",
        "    scheduler.step(epoch)\n",
        "    # 学習率の確認\n",
        "    print(\"Epoch [{}/{}], Learning Rate: {}\".format(epoch+1, num_epochs, optimizer.param_groups[0]['lr']))\n",
        "\n",
        "\n",
        "# モデルを保存\n",
        "torch.save(model, '/content/drive/MyDrive/SupermaskWideResNet28_10_CIFAR100_from_CIFAR10_100epochs_pr0.99_constant_50epochs_lr0.01_CLRS_restest.pth')"
      ],
      "metadata": {
        "id": "DbZHlg62s21I",
        "colab": {
          "base_uri": "https://localhost:8080/"
        },
        "outputId": "8594ad08-67de-4ff1-d203-ab12d4419107"
      },
      "execution_count": 109,
      "outputs": [
        {
          "output_type": "stream",
          "name": "stdout",
          "text": [
            "Epoch [1/50], Train Accuracy: 6.054 %, Loss: 4.2425\n",
            "Epoch [1/50], Learning Rate: 0.0001\n",
            "Epoch [2/50], Train Accuracy: 15.212 %, Loss: 4.0058\n",
            "Epoch [2/50], Learning Rate: 0.00208\n",
            "Epoch [3/50], Train Accuracy: 25.628 %, Loss: 2.7707\n",
            "Epoch [3/50], Learning Rate: 0.00406\n",
            "Epoch [4/50], Train Accuracy: 32.54 %, Loss: 2.6312\n",
            "Epoch [4/50], Learning Rate: 0.00604\n",
            "Epoch [5/50], Train Accuracy: 35.386 %, Loss: 2.5349\n",
            "Epoch [5/50], Learning Rate: 0.00802\n",
            "Epoch [6/50], Train Accuracy: 37.092 %, Loss: 2.4273\n",
            "Epoch [6/50], Learning Rate: 0.01\n",
            "Epoch [7/50], Train Accuracy: 38.348 %, Loss: 2.2774\n",
            "Epoch [7/50], Learning Rate: 0.009990232305719944\n",
            "Epoch [8/50], Train Accuracy: 39.552 %, Loss: 2.4171\n",
            "Epoch [8/50], Learning Rate: 0.009960967771506667\n",
            "Epoch [9/50], Train Accuracy: 41.34 %, Loss: 2.1688\n",
            "Epoch [9/50], Learning Rate: 0.00991232189110701\n",
            "Epoch [10/50], Train Accuracy: 42.168 %, Loss: 2.2473\n",
            "Epoch [10/50], Learning Rate: 0.009844486647586723\n",
            "Epoch [11/50], Train Accuracy: 42.84 %, Loss: 1.9631\n",
            "Epoch [11/50], Learning Rate: 0.009757729755661011\n",
            "Epoch [12/50], Train Accuracy: 43.622 %, Loss: 2.2265\n",
            "Epoch [12/50], Learning Rate: 0.009652393605146845\n",
            "Epoch [13/50], Train Accuracy: 44.096 %, Loss: 2.0462\n",
            "Epoch [13/50], Learning Rate: 0.009528893909706798\n",
            "Epoch [14/50], Train Accuracy: 44.772 %, Loss: 2.1571\n",
            "Epoch [14/50], Learning Rate: 0.009387718066217124\n",
            "Epoch [15/50], Train Accuracy: 45.038 %, Loss: 1.9990\n",
            "Epoch [15/50], Learning Rate: 0.009229423231234974\n",
            "Epoch [16/50], Train Accuracy: 45.646 %, Loss: 2.0226\n",
            "Epoch [16/50], Learning Rate: 0.00905463412215599\n",
            "Epoch [17/50], Train Accuracy: 45.61 %, Loss: 1.9852\n",
            "Epoch [17/50], Learning Rate: 0.008864040551740157\n",
            "Epoch [18/50], Train Accuracy: 46.172 %, Loss: 2.0669\n",
            "Epoch [18/50], Learning Rate: 0.008658394705735987\n",
            "Epoch [19/50], Train Accuracy: 46.834 %, Loss: 2.2671\n",
            "Epoch [19/50], Learning Rate: 0.00843850817434701\n",
            "Epoch [20/50], Train Accuracy: 47.414 %, Loss: 1.9921\n",
            "Epoch [20/50], Learning Rate: 0.008205248749256015\n",
            "Epoch [21/50], Train Accuracy: 47.572 %, Loss: 1.9039\n",
            "Epoch [21/50], Learning Rate: 0.007959536998847744\n",
            "Epoch [22/50], Train Accuracy: 47.62 %, Loss: 1.9455\n",
            "Epoch [22/50], Learning Rate: 0.007702342635146034\n",
            "Epoch [23/50], Train Accuracy: 48.17 %, Loss: 2.0776\n",
            "Epoch [23/50], Learning Rate: 0.007434680686803491\n",
            "Epoch [24/50], Train Accuracy: 48.766 %, Loss: 2.1229\n",
            "Epoch [24/50], Learning Rate: 0.0071576074932471105\n",
            "Epoch [25/50], Train Accuracy: 48.968 %, Loss: 2.0116\n",
            "Epoch [25/50], Learning Rate: 0.006872216535789157\n",
            "Epoch [26/50], Train Accuracy: 49.242 %, Loss: 1.9235\n",
            "Epoch [26/50], Learning Rate: 0.006579634122155991\n",
            "Epoch [27/50], Train Accuracy: 49.244 %, Loss: 1.9628\n",
            "Epoch [27/50], Learning Rate: 0.0062810149414660316\n",
            "Epoch [28/50], Train Accuracy: 49.94 %, Loss: 1.7937\n",
            "Epoch [28/50], Learning Rate: 0.005977537507199339\n",
            "Epoch [29/50], Train Accuracy: 49.978 %, Loss: 1.9481\n",
            "Epoch [29/50], Learning Rate: 0.005670399506143308\n",
            "Epoch [30/50], Train Accuracy: 50.068 %, Loss: 1.9192\n",
            "Epoch [30/50], Learning Rate: 0.005360813071670102\n",
            "Epoch [31/50], Train Accuracy: 50.42 %, Loss: 1.9901\n",
            "Epoch [31/50], Learning Rate: 0.005050000000000001\n",
            "Epoch [32/50], Train Accuracy: 50.528 %, Loss: 1.7630\n",
            "Epoch [32/50], Learning Rate: 0.004739186928329899\n",
            "Epoch [33/50], Train Accuracy: 51.182 %, Loss: 1.8386\n",
            "Epoch [33/50], Learning Rate: 0.004429600493856695\n",
            "Epoch [34/50], Train Accuracy: 51.164 %, Loss: 1.7859\n",
            "Epoch [34/50], Learning Rate: 0.0041224624928006635\n",
            "Epoch [35/50], Train Accuracy: 51.426 %, Loss: 1.8188\n",
            "Epoch [35/50], Learning Rate: 0.0038189850585339685\n",
            "Epoch [36/50], Train Accuracy: 51.682 %, Loss: 1.7425\n",
            "Epoch [36/50], Learning Rate: 0.003520365877844012\n",
            "Epoch [37/50], Train Accuracy: 51.828 %, Loss: 1.7011\n",
            "Epoch [37/50], Learning Rate: 0.0032277834642108457\n",
            "Epoch [38/50], Train Accuracy: 52.222 %, Loss: 1.8351\n",
            "Epoch [38/50], Learning Rate: 0.0029423925067528904\n",
            "Epoch [39/50], Train Accuracy: 52.316 %, Loss: 1.8728\n",
            "Epoch [39/50], Learning Rate: 0.002665319313196509\n",
            "Epoch [40/50], Train Accuracy: 52.766 %, Loss: 1.8045\n",
            "Epoch [40/50], Learning Rate: 0.0023976573648539653\n",
            "Epoch [41/50], Train Accuracy: 52.742 %, Loss: 1.7319\n",
            "Epoch [41/50], Learning Rate: 0.0021404630011522584\n",
            "Epoch [42/50], Train Accuracy: 53.076 %, Loss: 1.7409\n",
            "Epoch [42/50], Learning Rate: 0.001894751250743986\n",
            "Epoch [43/50], Train Accuracy: 53.292 %, Loss: 1.8956\n",
            "Epoch [43/50], Learning Rate: 0.001661491825652991\n",
            "Epoch [44/50], Train Accuracy: 53.538 %, Loss: 1.7305\n",
            "Epoch [44/50], Learning Rate: 0.001441605294264014\n",
            "Epoch [45/50], Train Accuracy: 53.584 %, Loss: 1.7163\n",
            "Epoch [45/50], Learning Rate: 0.001235959448259844\n",
            "Epoch [46/50], Train Accuracy: 53.73 %, Loss: 1.7470\n",
            "Epoch [46/50], Learning Rate: 0.0010453658778440107\n",
            "Epoch [47/50], Train Accuracy: 53.864 %, Loss: 1.7023\n",
            "Epoch [47/50], Learning Rate: 0.0008705767687650265\n",
            "Epoch [48/50], Train Accuracy: 53.768 %, Loss: 1.7481\n",
            "Epoch [48/50], Learning Rate: 0.0007122819337828754\n",
            "Epoch [49/50], Train Accuracy: 53.942 %, Loss: 1.9404\n",
            "Epoch [49/50], Learning Rate: 0.0005711060902932043\n",
            "Epoch [50/50], Train Accuracy: 54.056 %, Loss: 1.8663\n",
            "Epoch [50/50], Learning Rate: 0.00044760639485315584\n"
          ]
        }
      ]
    },
    {
      "cell_type": "code",
      "source": [
        "# モデルの刈り込み率を計算する関数を作成\n",
        "def calculate_pruned_ratio(model):\n",
        "    total_weights = 0\n",
        "    total_pruned_weights = 0\n",
        "\n",
        "    for module in model.modules():\n",
        "        # モジュールがSupermaskConvであるか確認\n",
        "        if isinstance(module, SupermaskConv):\n",
        "            # SupermaskConv層の重みを取得\n",
        "            weight = module.weight.data\n",
        "            # 刈り込みを適用した後の重みを取得\n",
        "            subnet = GetSubnet.apply(module.clamped_scores, 1 - module.prune_rate)\n",
        "            pruned_weight = weight * subnet\n",
        "            # 0である要素数を計算\n",
        "            pruned_weights_count = (pruned_weight == 0).sum().item()\n",
        "            total_pruned_weights += pruned_weights_count\n",
        "            # 重みの全要素数を計算\n",
        "            total_weights_count = pruned_weight.numel()\n",
        "            total_weights += total_weights_count\n",
        "\n",
        "    # 刈り込みが行われた割合を計算\n",
        "    pruned_ratio = total_pruned_weights / total_weights\n",
        "    return print(f\"刈り込み率は{pruned_ratio:.3f}です\")\n",
        "\n",
        "# モデルの刈り込み率を確認\n",
        "calculate_pruned_ratio(model)"
      ],
      "metadata": {
        "id": "lS1L0HJms21I",
        "colab": {
          "base_uri": "https://localhost:8080/"
        },
        "outputId": "622b870a-ab2c-42a9-c302-d7513f4b8763"
      },
      "execution_count": 110,
      "outputs": [
        {
          "output_type": "stream",
          "name": "stdout",
          "text": [
            "刈り込み率は0.990です\n"
          ]
        }
      ]
    },
    {
      "cell_type": "code",
      "source": [
        "# 学習前後のモデルのスコアを比較する関数を作成\n",
        "def check_scores_change(model, model_init):\n",
        "    # 各モデルの名前付きモジュールを順に調べる\n",
        "    for (name, module), (name_init, module_init) in zip(model.named_modules(), model_init.named_modules()):\n",
        "        # 両モジュールがConv2dのインスタンスであるかを確認\n",
        "        if isinstance(module, torch.nn.Conv2d) and isinstance(module_init, torch.nn.Conv2d):\n",
        "            # 両モジュールが'scores'属性を持っているかを確認\n",
        "            if hasattr(module, 'scores') and hasattr(module_init, 'scores'):\n",
        "                # 両モジュールの'scores'属性が一致しているかを確認\n",
        "                # 一致していない場合、変更があったことを示すメッセージを出力\n",
        "                if not torch.equal(module.scores, module_init.scores):\n",
        "                    print(f'{name}のスコアが変化しています')\n",
        "                    return\n",
        "    # すべてのconv層で'scores'が変更されていない場合、その旨を出力\n",
        "    print('すべてのスコアは変化していません')\n",
        "\n",
        "# 学習前後でモデルのスコアが変化していないかを確認\n",
        "check_scores_change(model, model_init)"
      ],
      "metadata": {
        "id": "bliiLq6fs21J",
        "colab": {
          "base_uri": "https://localhost:8080/"
        },
        "outputId": "1a61fbbd-fbaa-4b3f-d321-a36c06143b45"
      },
      "execution_count": 111,
      "outputs": [
        {
          "output_type": "stream",
          "name": "stdout",
          "text": [
            "すべてのスコアは変化していません\n"
          ]
        }
      ]
    },
    {
      "cell_type": "code",
      "source": [
        "# 学習前後のモデルの最終層以外の重みを比較する関数を作成\n",
        "def check_weight_change_except_last(model, model_init):\n",
        "    for (name, param), (name_init, param_init) in zip(model.named_parameters(), model_init.named_parameters()):\n",
        "        # 最終層を除く\n",
        "        if name != 'fc.weight' and name != 'fc.bias':\n",
        "            weights_changed = (param.data != param_init.data).any()\n",
        "            if weights_changed:\n",
        "                return print('最終層以外の重みが変化しています')\n",
        "    return print('最終層以外の重みは変化していません')\n",
        "\n",
        "# 学習前後でモデルの最終層以外の重みが変化していないかを確認\n",
        "check_weight_change_except_last(model, model_init)"
      ],
      "metadata": {
        "id": "hjjVdDxus21J",
        "colab": {
          "base_uri": "https://localhost:8080/"
        },
        "outputId": "de86b65b-870a-447b-fe49-66b21e7eea97"
      },
      "execution_count": 112,
      "outputs": [
        {
          "output_type": "stream",
          "name": "stdout",
          "text": [
            "最終層以外の重みは変化していません\n"
          ]
        }
      ]
    },
    {
      "cell_type": "code",
      "source": [
        "# モデルの評価\n",
        "model.eval()\n",
        "with torch.no_grad():\n",
        "    total = 0\n",
        "    correct = 0\n",
        "    for images, labels in test_loader_cifar100:\n",
        "        images = images.to(device)\n",
        "        labels = labels.to(device)\n",
        "        outputs = model(images)\n",
        "        _, predicted = torch.max(outputs.data, 1)\n",
        "        total += labels.size(0)\n",
        "        correct += (predicted == labels).sum().item()\n",
        "    # 正解率精度の確認\n",
        "    print('Test Accuracy: {} %'.format(100 * correct / total))"
      ],
      "metadata": {
        "id": "tfBGy-xJs21J",
        "colab": {
          "base_uri": "https://localhost:8080/"
        },
        "outputId": "4d37efe5-cc87-42ac-a69e-81323a6aa33e"
      },
      "execution_count": 113,
      "outputs": [
        {
          "output_type": "stream",
          "name": "stdout",
          "text": [
            "Test Accuracy: 52.9 %\n"
          ]
        }
      ]
    },
    {
      "cell_type": "code",
      "source": [
        "# GPUメモリの解放\n",
        "del model, model_init\n",
        "torch.cuda.empty_cache()"
      ],
      "metadata": {
        "id": "zO_k4GEqs21J"
      },
      "execution_count": 114,
      "outputs": []
    },
    {
      "cell_type": "markdown",
      "source": [
        "### prune_rate=0.95"
      ],
      "metadata": {
        "id": "TJ7H2XHys21J"
      }
    },
    {
      "cell_type": "code",
      "source": [
        "# デバイスを設定\n",
        "device = torch.device('cuda' if torch.cuda.is_available() else 'cpu')\n",
        "# モデルを定義\n",
        "model = torch.load('/content/drive/MyDrive/SupermaskWideResNet28_10_CIFAR10_100epochs_pr0.95_constant_CLRS_restest.pth')\n",
        "# 最終層を変更\n",
        "model.fc = nn.Linear(model.fc.in_features, 100)\n",
        "# 最終層以外のパラメータの勾配計算を停止\n",
        "for param in model.parameters():\n",
        "    param.requires_grad = False\n",
        "# 最終層のパラメータのみを学習するように設定\n",
        "for param in model.fc.parameters():\n",
        "    param.requires_grad = True\n",
        "# モデルをデバイスに転送\n",
        "model = model.to(device)\n",
        "# 変更後のモデルの重みを保存\n",
        "model_init = copy.deepcopy(model)\n",
        "\n",
        "# 学習率を設定\n",
        "learning_rate = 0.01\n",
        "# 全体のepoch数を設定\n",
        "num_epochs = 50\n",
        "# warm-upするepoch数を設定\n",
        "warmup_epochs = 5\n",
        "\n",
        "# 損失関数を定義\n",
        "criterion = nn.CrossEntropyLoss()\n",
        "# オプティマイザーを設定\n",
        "optimizer = optim.Adam(model.fc.parameters(), lr=learning_rate)\n",
        "# スケジューラーを設定\n",
        "scheduler = CosineLRScheduler(optimizer, t_initial=num_epochs, lr_min=1e-4, warmup_t=warmup_epochs, warmup_lr_init=1e-4, warmup_prefix=True)\n",
        "\n",
        "# モデルの学習\n",
        "for epoch in range(num_epochs):\n",
        "    total = 0\n",
        "    correct = 0\n",
        "    for i, (images, labels) in enumerate(train_loader_cifar100):\n",
        "        images = images.to(device)\n",
        "        labels = labels.to(device)\n",
        "        # 順伝播\n",
        "        outputs = model(images)\n",
        "        loss = criterion(outputs, labels)\n",
        "        # 逆伝播\n",
        "        optimizer.zero_grad()\n",
        "        loss.backward()\n",
        "        optimizer.step()\n",
        "        _, predicted = torch.max(outputs.data, 1)\n",
        "        # 全データ数\n",
        "        total += labels.size(0)\n",
        "        # 正解数\n",
        "        correct += (predicted == labels).sum().item()\n",
        "    # 正解率精度を計算\n",
        "    train_acc = 100 * correct / total\n",
        "    # 正解率精度と損失を確認\n",
        "    print(\"Epoch [{}/{}], Train Accuracy: {} %, Loss: {:.4f}\".format(epoch+1, num_epochs, 100 * correct / total, loss.item()))\n",
        "    # 1エポック終了後にスケジューラーを更新\n",
        "    scheduler.step(epoch)\n",
        "    # 学習率の確認\n",
        "    print(\"Epoch [{}/{}], Learning Rate: {}\".format(epoch+1, num_epochs, optimizer.param_groups[0]['lr']))\n",
        "\n",
        "\n",
        "# モデルを保存\n",
        "torch.save(model, '/content/drive/MyDrive/SupermaskWideResNet28_10_CIFAR100_from_CIFAR10_100epochs_pr0.95_constant_50epochs_lr0.01_CLRS_restest.pth')"
      ],
      "metadata": {
        "id": "ErQjafPns21J",
        "colab": {
          "base_uri": "https://localhost:8080/"
        },
        "outputId": "9fcc927c-5ba2-4cec-98f1-1015e0bfc846"
      },
      "execution_count": 115,
      "outputs": [
        {
          "output_type": "stream",
          "name": "stdout",
          "text": [
            "Epoch [1/50], Train Accuracy: 6.376 %, Loss: 4.1538\n",
            "Epoch [1/50], Learning Rate: 0.0001\n",
            "Epoch [2/50], Train Accuracy: 14.752 %, Loss: 3.8632\n",
            "Epoch [2/50], Learning Rate: 0.00208\n",
            "Epoch [3/50], Train Accuracy: 21.598 %, Loss: 2.9916\n",
            "Epoch [3/50], Learning Rate: 0.00406\n",
            "Epoch [4/50], Train Accuracy: 28.198 %, Loss: 2.6581\n",
            "Epoch [4/50], Learning Rate: 0.00604\n",
            "Epoch [5/50], Train Accuracy: 31.956 %, Loss: 2.7905\n",
            "Epoch [5/50], Learning Rate: 0.00802\n",
            "Epoch [6/50], Train Accuracy: 34.438 %, Loss: 2.5461\n",
            "Epoch [6/50], Learning Rate: 0.01\n",
            "Epoch [7/50], Train Accuracy: 35.802 %, Loss: 2.3165\n",
            "Epoch [7/50], Learning Rate: 0.009990232305719944\n",
            "Epoch [8/50], Train Accuracy: 38.224 %, Loss: 2.2962\n",
            "Epoch [8/50], Learning Rate: 0.009960967771506667\n",
            "Epoch [9/50], Train Accuracy: 39.344 %, Loss: 2.5288\n",
            "Epoch [9/50], Learning Rate: 0.00991232189110701\n",
            "Epoch [10/50], Train Accuracy: 40.984 %, Loss: 2.2553\n",
            "Epoch [10/50], Learning Rate: 0.009844486647586723\n",
            "Epoch [11/50], Train Accuracy: 41.638 %, Loss: 2.2336\n",
            "Epoch [11/50], Learning Rate: 0.009757729755661011\n",
            "Epoch [12/50], Train Accuracy: 42.83 %, Loss: 2.1577\n",
            "Epoch [12/50], Learning Rate: 0.009652393605146845\n",
            "Epoch [13/50], Train Accuracy: 43.524 %, Loss: 2.1440\n",
            "Epoch [13/50], Learning Rate: 0.009528893909706798\n",
            "Epoch [14/50], Train Accuracy: 43.894 %, Loss: 2.2341\n",
            "Epoch [14/50], Learning Rate: 0.009387718066217124\n",
            "Epoch [15/50], Train Accuracy: 44.592 %, Loss: 1.9875\n",
            "Epoch [15/50], Learning Rate: 0.009229423231234974\n",
            "Epoch [16/50], Train Accuracy: 45.308 %, Loss: 1.9960\n",
            "Epoch [16/50], Learning Rate: 0.00905463412215599\n",
            "Epoch [17/50], Train Accuracy: 45.858 %, Loss: 2.0779\n",
            "Epoch [17/50], Learning Rate: 0.008864040551740157\n",
            "Epoch [18/50], Train Accuracy: 46.048 %, Loss: 2.0849\n",
            "Epoch [18/50], Learning Rate: 0.008658394705735987\n",
            "Epoch [19/50], Train Accuracy: 46.578 %, Loss: 1.8426\n",
            "Epoch [19/50], Learning Rate: 0.00843850817434701\n",
            "Epoch [20/50], Train Accuracy: 47.256 %, Loss: 1.9933\n",
            "Epoch [20/50], Learning Rate: 0.008205248749256015\n",
            "Epoch [21/50], Train Accuracy: 47.12 %, Loss: 1.9567\n",
            "Epoch [21/50], Learning Rate: 0.007959536998847744\n",
            "Epoch [22/50], Train Accuracy: 47.506 %, Loss: 1.9252\n",
            "Epoch [22/50], Learning Rate: 0.007702342635146034\n",
            "Epoch [23/50], Train Accuracy: 48.108 %, Loss: 2.0341\n",
            "Epoch [23/50], Learning Rate: 0.007434680686803491\n",
            "Epoch [24/50], Train Accuracy: 48.14 %, Loss: 1.8939\n",
            "Epoch [24/50], Learning Rate: 0.0071576074932471105\n",
            "Epoch [25/50], Train Accuracy: 48.86 %, Loss: 1.9406\n",
            "Epoch [25/50], Learning Rate: 0.006872216535789157\n",
            "Epoch [26/50], Train Accuracy: 49.148 %, Loss: 1.7912\n",
            "Epoch [26/50], Learning Rate: 0.006579634122155991\n",
            "Epoch [27/50], Train Accuracy: 49.026 %, Loss: 1.8961\n",
            "Epoch [27/50], Learning Rate: 0.0062810149414660316\n",
            "Epoch [28/50], Train Accuracy: 49.716 %, Loss: 1.8595\n",
            "Epoch [28/50], Learning Rate: 0.005977537507199339\n",
            "Epoch [29/50], Train Accuracy: 50.15 %, Loss: 1.8959\n",
            "Epoch [29/50], Learning Rate: 0.005670399506143308\n",
            "Epoch [30/50], Train Accuracy: 50.524 %, Loss: 1.8710\n",
            "Epoch [30/50], Learning Rate: 0.005360813071670102\n",
            "Epoch [31/50], Train Accuracy: 50.634 %, Loss: 1.9181\n",
            "Epoch [31/50], Learning Rate: 0.005050000000000001\n",
            "Epoch [32/50], Train Accuracy: 50.536 %, Loss: 1.7785\n",
            "Epoch [32/50], Learning Rate: 0.004739186928329899\n",
            "Epoch [33/50], Train Accuracy: 51.38 %, Loss: 1.7852\n",
            "Epoch [33/50], Learning Rate: 0.004429600493856695\n",
            "Epoch [34/50], Train Accuracy: 51.358 %, Loss: 1.8388\n",
            "Epoch [34/50], Learning Rate: 0.0041224624928006635\n",
            "Epoch [35/50], Train Accuracy: 51.644 %, Loss: 1.7260\n",
            "Epoch [35/50], Learning Rate: 0.0038189850585339685\n",
            "Epoch [36/50], Train Accuracy: 52.058 %, Loss: 1.5703\n",
            "Epoch [36/50], Learning Rate: 0.003520365877844012\n",
            "Epoch [37/50], Train Accuracy: 52.546 %, Loss: 1.7685\n",
            "Epoch [37/50], Learning Rate: 0.0032277834642108457\n",
            "Epoch [38/50], Train Accuracy: 52.412 %, Loss: 1.8739\n",
            "Epoch [38/50], Learning Rate: 0.0029423925067528904\n",
            "Epoch [39/50], Train Accuracy: 52.856 %, Loss: 1.7316\n",
            "Epoch [39/50], Learning Rate: 0.002665319313196509\n",
            "Epoch [40/50], Train Accuracy: 52.964 %, Loss: 1.8146\n",
            "Epoch [40/50], Learning Rate: 0.0023976573648539653\n",
            "Epoch [41/50], Train Accuracy: 53.53 %, Loss: 1.9343\n",
            "Epoch [41/50], Learning Rate: 0.0021404630011522584\n",
            "Epoch [42/50], Train Accuracy: 53.482 %, Loss: 1.8596\n",
            "Epoch [42/50], Learning Rate: 0.001894751250743986\n",
            "Epoch [43/50], Train Accuracy: 53.672 %, Loss: 1.7732\n",
            "Epoch [43/50], Learning Rate: 0.001661491825652991\n",
            "Epoch [44/50], Train Accuracy: 54.072 %, Loss: 1.6759\n",
            "Epoch [44/50], Learning Rate: 0.001441605294264014\n",
            "Epoch [45/50], Train Accuracy: 53.844 %, Loss: 1.9142\n",
            "Epoch [45/50], Learning Rate: 0.001235959448259844\n",
            "Epoch [46/50], Train Accuracy: 54.414 %, Loss: 1.7282\n",
            "Epoch [46/50], Learning Rate: 0.0010453658778440107\n",
            "Epoch [47/50], Train Accuracy: 54.488 %, Loss: 1.6847\n",
            "Epoch [47/50], Learning Rate: 0.0008705767687650265\n",
            "Epoch [48/50], Train Accuracy: 54.426 %, Loss: 1.8654\n",
            "Epoch [48/50], Learning Rate: 0.0007122819337828754\n",
            "Epoch [49/50], Train Accuracy: 54.844 %, Loss: 1.8006\n",
            "Epoch [49/50], Learning Rate: 0.0005711060902932043\n",
            "Epoch [50/50], Train Accuracy: 54.77 %, Loss: 1.7195\n",
            "Epoch [50/50], Learning Rate: 0.00044760639485315584\n"
          ]
        }
      ]
    },
    {
      "cell_type": "code",
      "source": [
        "# モデルの刈り込み率を計算する関数を作成\n",
        "def calculate_pruned_ratio(model):\n",
        "    total_weights = 0\n",
        "    total_pruned_weights = 0\n",
        "\n",
        "    for module in model.modules():\n",
        "        # モジュールがSupermaskConvであるか確認\n",
        "        if isinstance(module, SupermaskConv):\n",
        "            # SupermaskConv層の重みを取得\n",
        "            weight = module.weight.data\n",
        "            # 刈り込みを適用した後の重みを取得\n",
        "            subnet = GetSubnet.apply(module.clamped_scores, 1 - module.prune_rate)\n",
        "            pruned_weight = weight * subnet\n",
        "            # 0である要素数を計算\n",
        "            pruned_weights_count = (pruned_weight == 0).sum().item()\n",
        "            total_pruned_weights += pruned_weights_count\n",
        "            # 重みの全要素数を計算\n",
        "            total_weights_count = pruned_weight.numel()\n",
        "            total_weights += total_weights_count\n",
        "\n",
        "    # 刈り込みが行われた割合を計算\n",
        "    pruned_ratio = total_pruned_weights / total_weights\n",
        "    return print(f\"刈り込み率は{pruned_ratio:.3f}です\")\n",
        "\n",
        "# モデルの刈り込み率を確認\n",
        "calculate_pruned_ratio(model)"
      ],
      "metadata": {
        "id": "TWR3MV5Us21J",
        "colab": {
          "base_uri": "https://localhost:8080/"
        },
        "outputId": "9abbb2bf-0694-45ee-d2d4-41f2ab51eae8"
      },
      "execution_count": 116,
      "outputs": [
        {
          "output_type": "stream",
          "name": "stdout",
          "text": [
            "刈り込み率は0.950です\n"
          ]
        }
      ]
    },
    {
      "cell_type": "code",
      "source": [
        "# 学習前後のモデルのスコアを比較する関数を作成\n",
        "def check_scores_change(model, model_init):\n",
        "    # 各モデルの名前付きモジュールを順に調べる\n",
        "    for (name, module), (name_init, module_init) in zip(model.named_modules(), model_init.named_modules()):\n",
        "        # 両モジュールがConv2dのインスタンスであるかを確認\n",
        "        if isinstance(module, torch.nn.Conv2d) and isinstance(module_init, torch.nn.Conv2d):\n",
        "            # 両モジュールが'scores'属性を持っているかを確認\n",
        "            if hasattr(module, 'scores') and hasattr(module_init, 'scores'):\n",
        "                # 両モジュールの'scores'属性が一致しているかを確認\n",
        "                # 一致していない場合、変更があったことを示すメッセージを出力\n",
        "                if not torch.equal(module.scores, module_init.scores):\n",
        "                    print(f'{name}のスコアが変化しています')\n",
        "                    return\n",
        "    # すべてのconv層で'scores'が変更されていない場合、その旨を出力\n",
        "    print('すべてのスコアは変化していません')\n",
        "\n",
        "# 学習前後でモデルのスコアが変化していないかを確認\n",
        "check_scores_change(model, model_init)"
      ],
      "metadata": {
        "id": "5DQxTiBGs21J",
        "colab": {
          "base_uri": "https://localhost:8080/"
        },
        "outputId": "b5a7448f-69ae-4663-a64a-6563563278da"
      },
      "execution_count": 117,
      "outputs": [
        {
          "output_type": "stream",
          "name": "stdout",
          "text": [
            "すべてのスコアは変化していません\n"
          ]
        }
      ]
    },
    {
      "cell_type": "code",
      "source": [
        "# 学習前後のモデルの最終層以外の重みを比較する関数を作成\n",
        "def check_weight_change_except_last(model, model_init):\n",
        "    for (name, param), (name_init, param_init) in zip(model.named_parameters(), model_init.named_parameters()):\n",
        "        # 最終層を除く\n",
        "        if name != 'fc.weight' and name != 'fc.bias':\n",
        "            weights_changed = (param.data != param_init.data).any()\n",
        "            if weights_changed:\n",
        "                return print('最終層以外の重みが変化しています')\n",
        "    return print('最終層以外の重みは変化していません')\n",
        "\n",
        "# 学習前後でモデルの最終層以外の重みが変化していないかを確認\n",
        "check_weight_change_except_last(model, model_init)"
      ],
      "metadata": {
        "id": "NzrsH2Dis21J",
        "colab": {
          "base_uri": "https://localhost:8080/"
        },
        "outputId": "bbadd704-1e50-409e-eeb1-f011cc6d7e6e"
      },
      "execution_count": 118,
      "outputs": [
        {
          "output_type": "stream",
          "name": "stdout",
          "text": [
            "最終層以外の重みは変化していません\n"
          ]
        }
      ]
    },
    {
      "cell_type": "code",
      "source": [
        "# モデルの評価\n",
        "model.eval()\n",
        "with torch.no_grad():\n",
        "    total = 0\n",
        "    correct = 0\n",
        "    for images, labels in test_loader_cifar100:\n",
        "        images = images.to(device)\n",
        "        labels = labels.to(device)\n",
        "        outputs = model(images)\n",
        "        _, predicted = torch.max(outputs.data, 1)\n",
        "        total += labels.size(0)\n",
        "        correct += (predicted == labels).sum().item()\n",
        "    # 正解率精度の確認\n",
        "    print('Test Accuracy: {} %'.format(100 * correct / total))"
      ],
      "metadata": {
        "id": "_UoT7wX3s21K",
        "colab": {
          "base_uri": "https://localhost:8080/"
        },
        "outputId": "27cf9410-61c1-4e07-df55-299001bfcca2"
      },
      "execution_count": 119,
      "outputs": [
        {
          "output_type": "stream",
          "name": "stdout",
          "text": [
            "Test Accuracy: 52.01 %\n"
          ]
        }
      ]
    },
    {
      "cell_type": "code",
      "source": [
        "# GPUメモリの解放\n",
        "del model, model_init\n",
        "torch.cuda.empty_cache()"
      ],
      "metadata": {
        "id": "9FtgtCFks21K"
      },
      "execution_count": 120,
      "outputs": []
    },
    {
      "cell_type": "markdown",
      "source": [
        "### prune_rate=0.9"
      ],
      "metadata": {
        "id": "WUxMDoMfs21K"
      }
    },
    {
      "cell_type": "code",
      "source": [
        "# デバイスを設定\n",
        "device = torch.device('cuda' if torch.cuda.is_available() else 'cpu')\n",
        "# モデルを定義\n",
        "model = torch.load('/content/drive/MyDrive/SupermaskWideResNet28_10_CIFAR10_100epochs_pr0.9_constant_CLRS_restest.pth')\n",
        "# 最終層を変更\n",
        "model.fc = nn.Linear(model.fc.in_features, 100)\n",
        "# 最終層以外のパラメータの勾配計算を停止\n",
        "for param in model.parameters():\n",
        "    param.requires_grad = False\n",
        "# 最終層のパラメータのみを学習するように設定\n",
        "for param in model.fc.parameters():\n",
        "    param.requires_grad = True\n",
        "# モデルをデバイスに転送\n",
        "model = model.to(device)\n",
        "# 変更後のモデルの重みを保存\n",
        "model_init = copy.deepcopy(model)\n",
        "\n",
        "# 学習率を設定\n",
        "learning_rate = 0.01\n",
        "# 全体のepoch数を設定\n",
        "num_epochs = 50\n",
        "# warm-upするepoch数を設定\n",
        "warmup_epochs = 5\n",
        "\n",
        "# 損失関数を定義\n",
        "criterion = nn.CrossEntropyLoss()\n",
        "# オプティマイザーを設定\n",
        "optimizer = optim.Adam(model.fc.parameters(), lr=learning_rate)\n",
        "# スケジューラーを設定\n",
        "scheduler = CosineLRScheduler(optimizer, t_initial=num_epochs, lr_min=1e-4, warmup_t=warmup_epochs, warmup_lr_init=1e-4, warmup_prefix=True)\n",
        "\n",
        "# モデルの学習\n",
        "for epoch in range(num_epochs):\n",
        "    total = 0\n",
        "    correct = 0\n",
        "    for i, (images, labels) in enumerate(train_loader_cifar100):\n",
        "        images = images.to(device)\n",
        "        labels = labels.to(device)\n",
        "        # 順伝播\n",
        "        outputs = model(images)\n",
        "        loss = criterion(outputs, labels)\n",
        "        # 逆伝播\n",
        "        optimizer.zero_grad()\n",
        "        loss.backward()\n",
        "        optimizer.step()\n",
        "        _, predicted = torch.max(outputs.data, 1)\n",
        "        # 全データ数\n",
        "        total += labels.size(0)\n",
        "        # 正解数\n",
        "        correct += (predicted == labels).sum().item()\n",
        "    # 正解率精度を計算\n",
        "    train_acc = 100 * correct / total\n",
        "    # 正解率精度と損失を確認\n",
        "    print(\"Epoch [{}/{}], Train Accuracy: {} %, Loss: {:.4f}\".format(epoch+1, num_epochs, 100 * correct / total, loss.item()))\n",
        "    # 1エポック終了後にスケジューラーを更新\n",
        "    scheduler.step(epoch)\n",
        "    # 学習率の確認\n",
        "    print(\"Epoch [{}/{}], Learning Rate: {}\".format(epoch+1, num_epochs, optimizer.param_groups[0]['lr']))\n",
        "\n",
        "\n",
        "# モデルを保存\n",
        "torch.save(model, '/content/drive/MyDrive/SupermaskWideResNet28_10_CIFAR100_from_CIFAR10_100epochs_pr0.9_constant_50epochs_lr0.01_CLRS_restest.pth')"
      ],
      "metadata": {
        "id": "LkANN8ohs21K",
        "colab": {
          "base_uri": "https://localhost:8080/"
        },
        "outputId": "ec9a0d9b-c4f7-469d-ce31-7b39b4da82c9"
      },
      "execution_count": 121,
      "outputs": [
        {
          "output_type": "stream",
          "name": "stdout",
          "text": [
            "Epoch [1/50], Train Accuracy: 6.238 %, Loss: 4.1350\n",
            "Epoch [1/50], Learning Rate: 0.0001\n",
            "Epoch [2/50], Train Accuracy: 13.412 %, Loss: 3.8980\n",
            "Epoch [2/50], Learning Rate: 0.00208\n",
            "Epoch [3/50], Train Accuracy: 20.398 %, Loss: 3.0825\n",
            "Epoch [3/50], Learning Rate: 0.00406\n",
            "Epoch [4/50], Train Accuracy: 26.634 %, Loss: 2.9257\n",
            "Epoch [4/50], Learning Rate: 0.00604\n",
            "Epoch [5/50], Train Accuracy: 30.408 %, Loss: 2.6226\n",
            "Epoch [5/50], Learning Rate: 0.00802\n",
            "Epoch [6/50], Train Accuracy: 33.078 %, Loss: 2.4427\n",
            "Epoch [6/50], Learning Rate: 0.01\n",
            "Epoch [7/50], Train Accuracy: 34.956 %, Loss: 2.5101\n",
            "Epoch [7/50], Learning Rate: 0.009990232305719944\n",
            "Epoch [8/50], Train Accuracy: 37.008 %, Loss: 2.2646\n",
            "Epoch [8/50], Learning Rate: 0.009960967771506667\n",
            "Epoch [9/50], Train Accuracy: 38.882 %, Loss: 2.3551\n",
            "Epoch [9/50], Learning Rate: 0.00991232189110701\n",
            "Epoch [10/50], Train Accuracy: 39.566 %, Loss: 2.3479\n",
            "Epoch [10/50], Learning Rate: 0.009844486647586723\n",
            "Epoch [11/50], Train Accuracy: 40.862 %, Loss: 2.4199\n",
            "Epoch [11/50], Learning Rate: 0.009757729755661011\n",
            "Epoch [12/50], Train Accuracy: 42.134 %, Loss: 2.0925\n",
            "Epoch [12/50], Learning Rate: 0.009652393605146845\n",
            "Epoch [13/50], Train Accuracy: 42.152 %, Loss: 2.2091\n",
            "Epoch [13/50], Learning Rate: 0.009528893909706798\n",
            "Epoch [14/50], Train Accuracy: 43.01 %, Loss: 2.0937\n",
            "Epoch [14/50], Learning Rate: 0.009387718066217124\n",
            "Epoch [15/50], Train Accuracy: 43.94 %, Loss: 2.0846\n",
            "Epoch [15/50], Learning Rate: 0.009229423231234974\n",
            "Epoch [16/50], Train Accuracy: 44.24 %, Loss: 2.0111\n",
            "Epoch [16/50], Learning Rate: 0.00905463412215599\n",
            "Epoch [17/50], Train Accuracy: 44.664 %, Loss: 2.1889\n",
            "Epoch [17/50], Learning Rate: 0.008864040551740157\n",
            "Epoch [18/50], Train Accuracy: 45.104 %, Loss: 2.3205\n",
            "Epoch [18/50], Learning Rate: 0.008658394705735987\n",
            "Epoch [19/50], Train Accuracy: 45.61 %, Loss: 2.1104\n",
            "Epoch [19/50], Learning Rate: 0.00843850817434701\n",
            "Epoch [20/50], Train Accuracy: 46.182 %, Loss: 2.2513\n",
            "Epoch [20/50], Learning Rate: 0.008205248749256015\n",
            "Epoch [21/50], Train Accuracy: 46.432 %, Loss: 2.0715\n",
            "Epoch [21/50], Learning Rate: 0.007959536998847744\n",
            "Epoch [22/50], Train Accuracy: 46.912 %, Loss: 1.9126\n",
            "Epoch [22/50], Learning Rate: 0.007702342635146034\n",
            "Epoch [23/50], Train Accuracy: 46.99 %, Loss: 1.9858\n",
            "Epoch [23/50], Learning Rate: 0.007434680686803491\n",
            "Epoch [24/50], Train Accuracy: 47.758 %, Loss: 2.0595\n",
            "Epoch [24/50], Learning Rate: 0.0071576074932471105\n",
            "Epoch [25/50], Train Accuracy: 47.772 %, Loss: 1.8554\n",
            "Epoch [25/50], Learning Rate: 0.006872216535789157\n",
            "Epoch [26/50], Train Accuracy: 48.324 %, Loss: 1.8801\n",
            "Epoch [26/50], Learning Rate: 0.006579634122155991\n",
            "Epoch [27/50], Train Accuracy: 48.428 %, Loss: 1.8558\n",
            "Epoch [27/50], Learning Rate: 0.0062810149414660316\n",
            "Epoch [28/50], Train Accuracy: 48.912 %, Loss: 1.8803\n",
            "Epoch [28/50], Learning Rate: 0.005977537507199339\n",
            "Epoch [29/50], Train Accuracy: 49.306 %, Loss: 2.0481\n",
            "Epoch [29/50], Learning Rate: 0.005670399506143308\n",
            "Epoch [30/50], Train Accuracy: 49.554 %, Loss: 1.9164\n",
            "Epoch [30/50], Learning Rate: 0.005360813071670102\n",
            "Epoch [31/50], Train Accuracy: 49.78 %, Loss: 1.8755\n",
            "Epoch [31/50], Learning Rate: 0.005050000000000001\n",
            "Epoch [32/50], Train Accuracy: 50.382 %, Loss: 1.7634\n",
            "Epoch [32/50], Learning Rate: 0.004739186928329899\n",
            "Epoch [33/50], Train Accuracy: 50.734 %, Loss: 2.0095\n",
            "Epoch [33/50], Learning Rate: 0.004429600493856695\n",
            "Epoch [34/50], Train Accuracy: 50.552 %, Loss: 1.8280\n",
            "Epoch [34/50], Learning Rate: 0.0041224624928006635\n",
            "Epoch [35/50], Train Accuracy: 51.196 %, Loss: 1.8273\n",
            "Epoch [35/50], Learning Rate: 0.0038189850585339685\n",
            "Epoch [36/50], Train Accuracy: 51.538 %, Loss: 1.7955\n",
            "Epoch [36/50], Learning Rate: 0.003520365877844012\n",
            "Epoch [37/50], Train Accuracy: 51.414 %, Loss: 1.7472\n",
            "Epoch [37/50], Learning Rate: 0.0032277834642108457\n",
            "Epoch [38/50], Train Accuracy: 51.802 %, Loss: 1.7459\n",
            "Epoch [38/50], Learning Rate: 0.0029423925067528904\n",
            "Epoch [39/50], Train Accuracy: 52.138 %, Loss: 1.8451\n",
            "Epoch [39/50], Learning Rate: 0.002665319313196509\n",
            "Epoch [40/50], Train Accuracy: 52.286 %, Loss: 1.7627\n",
            "Epoch [40/50], Learning Rate: 0.0023976573648539653\n",
            "Epoch [41/50], Train Accuracy: 52.94 %, Loss: 1.8019\n",
            "Epoch [41/50], Learning Rate: 0.0021404630011522584\n",
            "Epoch [42/50], Train Accuracy: 52.914 %, Loss: 1.7857\n",
            "Epoch [42/50], Learning Rate: 0.001894751250743986\n",
            "Epoch [43/50], Train Accuracy: 53.0 %, Loss: 1.8059\n",
            "Epoch [43/50], Learning Rate: 0.001661491825652991\n",
            "Epoch [44/50], Train Accuracy: 53.404 %, Loss: 1.6074\n",
            "Epoch [44/50], Learning Rate: 0.001441605294264014\n",
            "Epoch [45/50], Train Accuracy: 53.484 %, Loss: 1.7921\n",
            "Epoch [45/50], Learning Rate: 0.001235959448259844\n",
            "Epoch [46/50], Train Accuracy: 53.566 %, Loss: 1.9206\n",
            "Epoch [46/50], Learning Rate: 0.0010453658778440107\n",
            "Epoch [47/50], Train Accuracy: 54.104 %, Loss: 1.5589\n",
            "Epoch [47/50], Learning Rate: 0.0008705767687650265\n",
            "Epoch [48/50], Train Accuracy: 53.92 %, Loss: 1.6154\n",
            "Epoch [48/50], Learning Rate: 0.0007122819337828754\n",
            "Epoch [49/50], Train Accuracy: 54.362 %, Loss: 1.6306\n",
            "Epoch [49/50], Learning Rate: 0.0005711060902932043\n",
            "Epoch [50/50], Train Accuracy: 54.05 %, Loss: 1.6217\n",
            "Epoch [50/50], Learning Rate: 0.00044760639485315584\n"
          ]
        }
      ]
    },
    {
      "cell_type": "code",
      "source": [
        "# モデルの刈り込み率を計算する関数を作成\n",
        "def calculate_pruned_ratio(model):\n",
        "    total_weights = 0\n",
        "    total_pruned_weights = 0\n",
        "\n",
        "    for module in model.modules():\n",
        "        # モジュールがSupermaskConvであるか確認\n",
        "        if isinstance(module, SupermaskConv):\n",
        "            # SupermaskConv層の重みを取得\n",
        "            weight = module.weight.data\n",
        "            # 刈り込みを適用した後の重みを取得\n",
        "            subnet = GetSubnet.apply(module.clamped_scores, 1 - module.prune_rate)\n",
        "            pruned_weight = weight * subnet\n",
        "            # 0である要素数を計算\n",
        "            pruned_weights_count = (pruned_weight == 0).sum().item()\n",
        "            total_pruned_weights += pruned_weights_count\n",
        "            # 重みの全要素数を計算\n",
        "            total_weights_count = pruned_weight.numel()\n",
        "            total_weights += total_weights_count\n",
        "\n",
        "    # 刈り込みが行われた割合を計算\n",
        "    pruned_ratio = total_pruned_weights / total_weights\n",
        "    return print(f\"刈り込み率は{pruned_ratio:.3f}です\")\n",
        "\n",
        "# モデルの刈り込み率を確認\n",
        "calculate_pruned_ratio(model)"
      ],
      "metadata": {
        "id": "lWABLj1ds21K",
        "colab": {
          "base_uri": "https://localhost:8080/"
        },
        "outputId": "176bfc37-a212-40fd-b9cd-da29db325e32"
      },
      "execution_count": 122,
      "outputs": [
        {
          "output_type": "stream",
          "name": "stdout",
          "text": [
            "刈り込み率は0.900です\n"
          ]
        }
      ]
    },
    {
      "cell_type": "code",
      "source": [
        "# 学習前後のモデルのスコアを比較する関数を作成\n",
        "def check_scores_change(model, model_init):\n",
        "    # 各モデルの名前付きモジュールを順に調べる\n",
        "    for (name, module), (name_init, module_init) in zip(model.named_modules(), model_init.named_modules()):\n",
        "        # 両モジュールがConv2dのインスタンスであるかを確認\n",
        "        if isinstance(module, torch.nn.Conv2d) and isinstance(module_init, torch.nn.Conv2d):\n",
        "            # 両モジュールが'scores'属性を持っているかを確認\n",
        "            if hasattr(module, 'scores') and hasattr(module_init, 'scores'):\n",
        "                # 両モジュールの'scores'属性が一致しているかを確認\n",
        "                # 一致していない場合、変更があったことを示すメッセージを出力\n",
        "                if not torch.equal(module.scores, module_init.scores):\n",
        "                    print(f'{name}のスコアが変化しています')\n",
        "                    return\n",
        "    # すべてのconv層で'scores'が変更されていない場合、その旨を出力\n",
        "    print('すべてのスコアは変化していません')\n",
        "\n",
        "# 学習前後でモデルのスコアが変化していないかを確認\n",
        "check_scores_change(model, model_init)"
      ],
      "metadata": {
        "id": "dc9CZSNAs21K",
        "colab": {
          "base_uri": "https://localhost:8080/"
        },
        "outputId": "5940359a-0183-474d-accb-a9a33014c0ac"
      },
      "execution_count": 123,
      "outputs": [
        {
          "output_type": "stream",
          "name": "stdout",
          "text": [
            "すべてのスコアは変化していません\n"
          ]
        }
      ]
    },
    {
      "cell_type": "code",
      "source": [
        "# 学習前後のモデルの最終層以外の重みを比較する関数を作成\n",
        "def check_weight_change_except_last(model, model_init):\n",
        "    for (name, param), (name_init, param_init) in zip(model.named_parameters(), model_init.named_parameters()):\n",
        "        # 最終層を除く\n",
        "        if name != 'fc.weight' and name != 'fc.bias':\n",
        "            weights_changed = (param.data != param_init.data).any()\n",
        "            if weights_changed:\n",
        "                return print('最終層以外の重みが変化しています')\n",
        "    return print('最終層以外の重みは変化していません')\n",
        "\n",
        "# 学習前後でモデルの最終層以外の重みが変化していないかを確認\n",
        "check_weight_change_except_last(model, model_init)"
      ],
      "metadata": {
        "id": "dsr5A2-6s21K",
        "colab": {
          "base_uri": "https://localhost:8080/"
        },
        "outputId": "5e16a842-4fca-427d-8a82-a190cf85990d"
      },
      "execution_count": 124,
      "outputs": [
        {
          "output_type": "stream",
          "name": "stdout",
          "text": [
            "最終層以外の重みは変化していません\n"
          ]
        }
      ]
    },
    {
      "cell_type": "code",
      "source": [
        "# モデルの評価\n",
        "model.eval()\n",
        "with torch.no_grad():\n",
        "    total = 0\n",
        "    correct = 0\n",
        "    for images, labels in test_loader_cifar100:\n",
        "        images = images.to(device)\n",
        "        labels = labels.to(device)\n",
        "        outputs = model(images)\n",
        "        _, predicted = torch.max(outputs.data, 1)\n",
        "        total += labels.size(0)\n",
        "        correct += (predicted == labels).sum().item()\n",
        "    # 正解率精度の確認\n",
        "    print('Test Accuracy: {} %'.format(100 * correct / total))"
      ],
      "metadata": {
        "id": "6iYQQFccs21K",
        "colab": {
          "base_uri": "https://localhost:8080/"
        },
        "outputId": "158c67d4-4d55-4c5e-de64-d334ec2e7d78"
      },
      "execution_count": 125,
      "outputs": [
        {
          "output_type": "stream",
          "name": "stdout",
          "text": [
            "Test Accuracy: 52.03 %\n"
          ]
        }
      ]
    },
    {
      "cell_type": "code",
      "source": [
        "# GPUメモリの解放\n",
        "del model, model_init\n",
        "torch.cuda.empty_cache()"
      ],
      "metadata": {
        "id": "VCZYzfPis21K"
      },
      "execution_count": 126,
      "outputs": []
    },
    {
      "cell_type": "markdown",
      "source": [
        "### prune_rate=0.7"
      ],
      "metadata": {
        "id": "Cco3ZO64s21K"
      }
    },
    {
      "cell_type": "code",
      "source": [
        "# デバイスを設定\n",
        "device = torch.device('cuda' if torch.cuda.is_available() else 'cpu')\n",
        "# モデルを定義\n",
        "model = torch.load('/content/drive/MyDrive/SupermaskWideResNet28_10_CIFAR10_100epochs_pr0.7_constant_CLRS_restest.pth')\n",
        "# 最終層を変更\n",
        "model.fc = nn.Linear(model.fc.in_features, 100)\n",
        "# 最終層以外のパラメータの勾配計算を停止\n",
        "for param in model.parameters():\n",
        "    param.requires_grad = False\n",
        "# 最終層のパラメータのみを学習するように設定\n",
        "for param in model.fc.parameters():\n",
        "    param.requires_grad = True\n",
        "# モデルをデバイスに転送\n",
        "model = model.to(device)\n",
        "# 変更後のモデルの重みを保存\n",
        "model_init = copy.deepcopy(model)\n",
        "\n",
        "# 学習率を設定\n",
        "learning_rate = 0.01\n",
        "# 全体のepoch数を設定\n",
        "num_epochs = 50\n",
        "# warm-upするepoch数を設定\n",
        "warmup_epochs = 5\n",
        "\n",
        "# 損失関数を定義\n",
        "criterion = nn.CrossEntropyLoss()\n",
        "# オプティマイザーを設定\n",
        "optimizer = optim.Adam(model.fc.parameters(), lr=learning_rate)\n",
        "# スケジューラーを設定\n",
        "scheduler = CosineLRScheduler(optimizer, t_initial=num_epochs, lr_min=1e-4, warmup_t=warmup_epochs, warmup_lr_init=1e-4, warmup_prefix=True)\n",
        "\n",
        "# モデルの学習\n",
        "for epoch in range(num_epochs):\n",
        "    total = 0\n",
        "    correct = 0\n",
        "    for i, (images, labels) in enumerate(train_loader_cifar100):\n",
        "        images = images.to(device)\n",
        "        labels = labels.to(device)\n",
        "        # 順伝播\n",
        "        outputs = model(images)\n",
        "        loss = criterion(outputs, labels)\n",
        "        # 逆伝播\n",
        "        optimizer.zero_grad()\n",
        "        loss.backward()\n",
        "        optimizer.step()\n",
        "        _, predicted = torch.max(outputs.data, 1)\n",
        "        # 全データ数\n",
        "        total += labels.size(0)\n",
        "        # 正解数\n",
        "        correct += (predicted == labels).sum().item()\n",
        "    # 正解率精度を計算\n",
        "    train_acc = 100 * correct / total\n",
        "    # 正解率精度と損失を確認\n",
        "    print(\"Epoch [{}/{}], Train Accuracy: {} %, Loss: {:.4f}\".format(epoch+1, num_epochs, 100 * correct / total, loss.item()))\n",
        "    # 1エポック終了後にスケジューラーを更新\n",
        "    scheduler.step(epoch)\n",
        "    # 学習率の確認\n",
        "    print(\"Epoch [{}/{}], Learning Rate: {}\".format(epoch+1, num_epochs, optimizer.param_groups[0]['lr']))\n",
        "\n",
        "\n",
        "# モデルを保存\n",
        "torch.save(model, '/content/drive/MyDrive/SupermaskWideResNet28_10_CIFAR100_from_CIFAR10_100epochs_pr0.7_constant_50epochs_lr0.01_CLRS_restest.pth')"
      ],
      "metadata": {
        "id": "A6iOOZK2s21L",
        "colab": {
          "base_uri": "https://localhost:8080/"
        },
        "outputId": "b86034c1-05de-4b08-f7cb-c73d127ebadb"
      },
      "execution_count": 127,
      "outputs": [
        {
          "output_type": "stream",
          "name": "stdout",
          "text": [
            "Epoch [1/50], Train Accuracy: 4.946 %, Loss: 4.1929\n",
            "Epoch [1/50], Learning Rate: 0.0001\n",
            "Epoch [2/50], Train Accuracy: 12.538 %, Loss: 3.9462\n",
            "Epoch [2/50], Learning Rate: 0.00208\n",
            "Epoch [3/50], Train Accuracy: 19.998 %, Loss: 3.1612\n",
            "Epoch [3/50], Learning Rate: 0.00406\n",
            "Epoch [4/50], Train Accuracy: 25.962 %, Loss: 2.9487\n",
            "Epoch [4/50], Learning Rate: 0.00604\n",
            "Epoch [5/50], Train Accuracy: 30.506 %, Loss: 2.6849\n",
            "Epoch [5/50], Learning Rate: 0.00802\n",
            "Epoch [6/50], Train Accuracy: 33.738 %, Loss: 2.5751\n",
            "Epoch [6/50], Learning Rate: 0.01\n",
            "Epoch [7/50], Train Accuracy: 35.436 %, Loss: 2.5313\n",
            "Epoch [7/50], Learning Rate: 0.009990232305719944\n",
            "Epoch [8/50], Train Accuracy: 37.412 %, Loss: 2.2094\n",
            "Epoch [8/50], Learning Rate: 0.009960967771506667\n",
            "Epoch [9/50], Train Accuracy: 38.872 %, Loss: 2.2825\n",
            "Epoch [9/50], Learning Rate: 0.00991232189110701\n",
            "Epoch [10/50], Train Accuracy: 40.61 %, Loss: 2.1959\n",
            "Epoch [10/50], Learning Rate: 0.009844486647586723\n",
            "Epoch [11/50], Train Accuracy: 40.886 %, Loss: 2.1982\n",
            "Epoch [11/50], Learning Rate: 0.009757729755661011\n",
            "Epoch [12/50], Train Accuracy: 42.046 %, Loss: 2.1829\n",
            "Epoch [12/50], Learning Rate: 0.009652393605146845\n",
            "Epoch [13/50], Train Accuracy: 43.574 %, Loss: 2.1994\n",
            "Epoch [13/50], Learning Rate: 0.009528893909706798\n",
            "Epoch [14/50], Train Accuracy: 43.338 %, Loss: 2.1450\n",
            "Epoch [14/50], Learning Rate: 0.009387718066217124\n",
            "Epoch [15/50], Train Accuracy: 44.108 %, Loss: 2.3042\n",
            "Epoch [15/50], Learning Rate: 0.009229423231234974\n",
            "Epoch [16/50], Train Accuracy: 45.11 %, Loss: 2.2116\n",
            "Epoch [16/50], Learning Rate: 0.00905463412215599\n",
            "Epoch [17/50], Train Accuracy: 44.906 %, Loss: 2.2386\n",
            "Epoch [17/50], Learning Rate: 0.008864040551740157\n",
            "Epoch [18/50], Train Accuracy: 45.75 %, Loss: 2.0249\n",
            "Epoch [18/50], Learning Rate: 0.008658394705735987\n",
            "Epoch [19/50], Train Accuracy: 46.358 %, Loss: 2.1282\n",
            "Epoch [19/50], Learning Rate: 0.00843850817434701\n",
            "Epoch [20/50], Train Accuracy: 46.38 %, Loss: 2.0516\n",
            "Epoch [20/50], Learning Rate: 0.008205248749256015\n",
            "Epoch [21/50], Train Accuracy: 46.514 %, Loss: 1.9274\n",
            "Epoch [21/50], Learning Rate: 0.007959536998847744\n",
            "Epoch [22/50], Train Accuracy: 47.202 %, Loss: 1.9065\n",
            "Epoch [22/50], Learning Rate: 0.007702342635146034\n",
            "Epoch [23/50], Train Accuracy: 47.874 %, Loss: 1.9929\n",
            "Epoch [23/50], Learning Rate: 0.007434680686803491\n",
            "Epoch [24/50], Train Accuracy: 48.034 %, Loss: 1.8398\n",
            "Epoch [24/50], Learning Rate: 0.0071576074932471105\n",
            "Epoch [25/50], Train Accuracy: 48.418 %, Loss: 1.8714\n",
            "Epoch [25/50], Learning Rate: 0.006872216535789157\n",
            "Epoch [26/50], Train Accuracy: 48.828 %, Loss: 1.9413\n",
            "Epoch [26/50], Learning Rate: 0.006579634122155991\n",
            "Epoch [27/50], Train Accuracy: 49.234 %, Loss: 1.7623\n",
            "Epoch [27/50], Learning Rate: 0.0062810149414660316\n",
            "Epoch [28/50], Train Accuracy: 49.28 %, Loss: 2.0211\n",
            "Epoch [28/50], Learning Rate: 0.005977537507199339\n",
            "Epoch [29/50], Train Accuracy: 49.718 %, Loss: 1.8443\n",
            "Epoch [29/50], Learning Rate: 0.005670399506143308\n",
            "Epoch [30/50], Train Accuracy: 50.206 %, Loss: 1.9434\n",
            "Epoch [30/50], Learning Rate: 0.005360813071670102\n",
            "Epoch [31/50], Train Accuracy: 50.328 %, Loss: 1.8075\n",
            "Epoch [31/50], Learning Rate: 0.005050000000000001\n",
            "Epoch [32/50], Train Accuracy: 50.554 %, Loss: 1.8207\n",
            "Epoch [32/50], Learning Rate: 0.004739186928329899\n",
            "Epoch [33/50], Train Accuracy: 50.76 %, Loss: 1.8595\n",
            "Epoch [33/50], Learning Rate: 0.004429600493856695\n",
            "Epoch [34/50], Train Accuracy: 51.266 %, Loss: 1.8277\n",
            "Epoch [34/50], Learning Rate: 0.0041224624928006635\n",
            "Epoch [35/50], Train Accuracy: 51.498 %, Loss: 1.6361\n",
            "Epoch [35/50], Learning Rate: 0.0038189850585339685\n",
            "Epoch [36/50], Train Accuracy: 51.694 %, Loss: 1.7910\n",
            "Epoch [36/50], Learning Rate: 0.003520365877844012\n",
            "Epoch [37/50], Train Accuracy: 52.13 %, Loss: 1.9800\n",
            "Epoch [37/50], Learning Rate: 0.0032277834642108457\n",
            "Epoch [38/50], Train Accuracy: 52.452 %, Loss: 1.7342\n",
            "Epoch [38/50], Learning Rate: 0.0029423925067528904\n",
            "Epoch [39/50], Train Accuracy: 52.414 %, Loss: 1.7388\n",
            "Epoch [39/50], Learning Rate: 0.002665319313196509\n",
            "Epoch [40/50], Train Accuracy: 52.802 %, Loss: 1.8949\n",
            "Epoch [40/50], Learning Rate: 0.0023976573648539653\n",
            "Epoch [41/50], Train Accuracy: 53.084 %, Loss: 1.7625\n",
            "Epoch [41/50], Learning Rate: 0.0021404630011522584\n",
            "Epoch [42/50], Train Accuracy: 53.204 %, Loss: 1.7794\n",
            "Epoch [42/50], Learning Rate: 0.001894751250743986\n",
            "Epoch [43/50], Train Accuracy: 53.288 %, Loss: 1.7093\n",
            "Epoch [43/50], Learning Rate: 0.001661491825652991\n",
            "Epoch [44/50], Train Accuracy: 53.58 %, Loss: 1.7263\n",
            "Epoch [44/50], Learning Rate: 0.001441605294264014\n",
            "Epoch [45/50], Train Accuracy: 53.834 %, Loss: 1.7186\n",
            "Epoch [45/50], Learning Rate: 0.001235959448259844\n",
            "Epoch [46/50], Train Accuracy: 53.826 %, Loss: 1.7362\n",
            "Epoch [46/50], Learning Rate: 0.0010453658778440107\n",
            "Epoch [47/50], Train Accuracy: 53.916 %, Loss: 1.7415\n",
            "Epoch [47/50], Learning Rate: 0.0008705767687650265\n",
            "Epoch [48/50], Train Accuracy: 54.084 %, Loss: 1.8191\n",
            "Epoch [48/50], Learning Rate: 0.0007122819337828754\n",
            "Epoch [49/50], Train Accuracy: 54.28 %, Loss: 1.6784\n",
            "Epoch [49/50], Learning Rate: 0.0005711060902932043\n",
            "Epoch [50/50], Train Accuracy: 54.414 %, Loss: 1.7133\n",
            "Epoch [50/50], Learning Rate: 0.00044760639485315584\n"
          ]
        }
      ]
    },
    {
      "cell_type": "code",
      "source": [
        "# モデルの刈り込み率を計算する関数を作成\n",
        "def calculate_pruned_ratio(model):\n",
        "    total_weights = 0\n",
        "    total_pruned_weights = 0\n",
        "\n",
        "    for module in model.modules():\n",
        "        # モジュールがSupermaskConvであるか確認\n",
        "        if isinstance(module, SupermaskConv):\n",
        "            # SupermaskConv層の重みを取得\n",
        "            weight = module.weight.data\n",
        "            # 刈り込みを適用した後の重みを取得\n",
        "            subnet = GetSubnet.apply(module.clamped_scores, 1 - module.prune_rate)\n",
        "            pruned_weight = weight * subnet\n",
        "            # 0である要素数を計算\n",
        "            pruned_weights_count = (pruned_weight == 0).sum().item()\n",
        "            total_pruned_weights += pruned_weights_count\n",
        "            # 重みの全要素数を計算\n",
        "            total_weights_count = pruned_weight.numel()\n",
        "            total_weights += total_weights_count\n",
        "\n",
        "    # 刈り込みが行われた割合を計算\n",
        "    pruned_ratio = total_pruned_weights / total_weights\n",
        "    return print(f\"刈り込み率は{pruned_ratio:.3f}です\")\n",
        "\n",
        "# モデルの刈り込み率を確認\n",
        "calculate_pruned_ratio(model)"
      ],
      "metadata": {
        "id": "Jhsabi6fs21L",
        "colab": {
          "base_uri": "https://localhost:8080/"
        },
        "outputId": "b0d9d5ec-2017-459b-e264-454be9601f83"
      },
      "execution_count": 128,
      "outputs": [
        {
          "output_type": "stream",
          "name": "stdout",
          "text": [
            "刈り込み率は0.700です\n"
          ]
        }
      ]
    },
    {
      "cell_type": "code",
      "source": [
        "# 学習前後のモデルのスコアを比較する関数を作成\n",
        "def check_scores_change(model, model_init):\n",
        "    # 各モデルの名前付きモジュールを順に調べる\n",
        "    for (name, module), (name_init, module_init) in zip(model.named_modules(), model_init.named_modules()):\n",
        "        # 両モジュールがConv2dのインスタンスであるかを確認\n",
        "        if isinstance(module, torch.nn.Conv2d) and isinstance(module_init, torch.nn.Conv2d):\n",
        "            # 両モジュールが'scores'属性を持っているかを確認\n",
        "            if hasattr(module, 'scores') and hasattr(module_init, 'scores'):\n",
        "                # 両モジュールの'scores'属性が一致しているかを確認\n",
        "                # 一致していない場合、変更があったことを示すメッセージを出力\n",
        "                if not torch.equal(module.scores, module_init.scores):\n",
        "                    print(f'{name}のスコアが変化しています')\n",
        "                    return\n",
        "    # すべてのconv層で'scores'が変更されていない場合、その旨を出力\n",
        "    print('すべてのスコアは変化していません')\n",
        "\n",
        "# 学習前後でモデルのスコアが変化していないかを確認\n",
        "check_scores_change(model, model_init)"
      ],
      "metadata": {
        "id": "aNxpALBcs21L",
        "colab": {
          "base_uri": "https://localhost:8080/"
        },
        "outputId": "8cbf91ec-bdf9-4529-bbef-984ee544f100"
      },
      "execution_count": 129,
      "outputs": [
        {
          "output_type": "stream",
          "name": "stdout",
          "text": [
            "すべてのスコアは変化していません\n"
          ]
        }
      ]
    },
    {
      "cell_type": "code",
      "source": [
        "# 学習前後のモデルの最終層以外の重みを比較する関数を作成\n",
        "def check_weight_change_except_last(model, model_init):\n",
        "    for (name, param), (name_init, param_init) in zip(model.named_parameters(), model_init.named_parameters()):\n",
        "        # 最終層を除く\n",
        "        if name != 'fc.weight' and name != 'fc.bias':\n",
        "            weights_changed = (param.data != param_init.data).any()\n",
        "            if weights_changed:\n",
        "                return print('最終層以外の重みが変化しています')\n",
        "    return print('最終層以外の重みは変化していません')\n",
        "\n",
        "# 学習前後でモデルの最終層以外の重みが変化していないかを確認\n",
        "check_weight_change_except_last(model, model_init)"
      ],
      "metadata": {
        "id": "nOxbB0UZs21L",
        "colab": {
          "base_uri": "https://localhost:8080/"
        },
        "outputId": "018481a2-0cc6-4854-9e76-3ccbd6953941"
      },
      "execution_count": 130,
      "outputs": [
        {
          "output_type": "stream",
          "name": "stdout",
          "text": [
            "最終層以外の重みは変化していません\n"
          ]
        }
      ]
    },
    {
      "cell_type": "code",
      "source": [
        "# モデルの評価\n",
        "model.eval()\n",
        "with torch.no_grad():\n",
        "    total = 0\n",
        "    correct = 0\n",
        "    for images, labels in test_loader_cifar100:\n",
        "        images = images.to(device)\n",
        "        labels = labels.to(device)\n",
        "        outputs = model(images)\n",
        "        _, predicted = torch.max(outputs.data, 1)\n",
        "        total += labels.size(0)\n",
        "        correct += (predicted == labels).sum().item()\n",
        "    # 正解率精度の確認\n",
        "    print('Test Accuracy: {} %'.format(100 * correct / total))"
      ],
      "metadata": {
        "id": "RFVsb7ZOs21L",
        "colab": {
          "base_uri": "https://localhost:8080/"
        },
        "outputId": "7ec17137-b4b1-449c-ef1c-dfa16e636d6b"
      },
      "execution_count": 131,
      "outputs": [
        {
          "output_type": "stream",
          "name": "stdout",
          "text": [
            "Test Accuracy: 52.36 %\n"
          ]
        }
      ]
    },
    {
      "cell_type": "code",
      "source": [
        "# GPUメモリの解放\n",
        "del model, model_init\n",
        "torch.cuda.empty_cache()"
      ],
      "metadata": {
        "id": "OLnXW3Pjs21L"
      },
      "execution_count": 132,
      "outputs": []
    },
    {
      "cell_type": "markdown",
      "source": [
        "### prune_rate=0.5"
      ],
      "metadata": {
        "id": "NOHLe2YEs21L"
      }
    },
    {
      "cell_type": "code",
      "source": [
        "# デバイスを設定\n",
        "device = torch.device('cuda' if torch.cuda.is_available() else 'cpu')\n",
        "# モデルを定義\n",
        "model = torch.load('/content/drive/MyDrive/SupermaskWideResNet28_10_CIFAR10_100epochs_pr0.5_constant_CLRS_restest.pth')\n",
        "# 最終層を変更\n",
        "model.fc = nn.Linear(model.fc.in_features, 100)\n",
        "# 最終層以外のパラメータの勾配計算を停止\n",
        "for param in model.parameters():\n",
        "    param.requires_grad = False\n",
        "# 最終層のパラメータのみを学習するように設定\n",
        "for param in model.fc.parameters():\n",
        "    param.requires_grad = True\n",
        "# モデルをデバイスに転送\n",
        "model = model.to(device)\n",
        "# 変更後のモデルの重みを保存\n",
        "model_init = copy.deepcopy(model)\n",
        "\n",
        "# 学習率を設定\n",
        "learning_rate = 0.01\n",
        "# 全体のepoch数を設定\n",
        "num_epochs = 50\n",
        "# warm-upするepoch数を設定\n",
        "warmup_epochs = 5\n",
        "\n",
        "# 損失関数を定義\n",
        "criterion = nn.CrossEntropyLoss()\n",
        "# オプティマイザーを設定\n",
        "optimizer = optim.Adam(model.fc.parameters(), lr=learning_rate)\n",
        "# スケジューラーを設定\n",
        "scheduler = CosineLRScheduler(optimizer, t_initial=num_epochs, lr_min=1e-4, warmup_t=warmup_epochs, warmup_lr_init=1e-4, warmup_prefix=True)\n",
        "\n",
        "# モデルの学習\n",
        "for epoch in range(num_epochs):\n",
        "    total = 0\n",
        "    correct = 0\n",
        "    for i, (images, labels) in enumerate(train_loader_cifar100):\n",
        "        images = images.to(device)\n",
        "        labels = labels.to(device)\n",
        "        # 順伝播\n",
        "        outputs = model(images)\n",
        "        loss = criterion(outputs, labels)\n",
        "        # 逆伝播\n",
        "        optimizer.zero_grad()\n",
        "        loss.backward()\n",
        "        optimizer.step()\n",
        "        _, predicted = torch.max(outputs.data, 1)\n",
        "        # 全データ数\n",
        "        total += labels.size(0)\n",
        "        # 正解数\n",
        "        correct += (predicted == labels).sum().item()\n",
        "    # 正解率精度を計算\n",
        "    train_acc = 100 * correct / total\n",
        "    # 正解率精度と損失を確認\n",
        "    print(\"Epoch [{}/{}], Train Accuracy: {} %, Loss: {:.4f}\".format(epoch+1, num_epochs, 100 * correct / total, loss.item()))\n",
        "    # 1エポック終了後にスケジューラーを更新\n",
        "    scheduler.step(epoch)\n",
        "    # 学習率の確認\n",
        "    print(\"Epoch [{}/{}], Learning Rate: {}\".format(epoch+1, num_epochs, optimizer.param_groups[0]['lr']))\n",
        "\n",
        "\n",
        "# モデルを保存\n",
        "torch.save(model, '/content/drive/MyDrive/SupermaskWideResNet28_10_CIFAR100_from_CIFAR10_100epochs_pr0.5_constant_50epochs_lr0.01_CLRS_restest.pth')"
      ],
      "metadata": {
        "id": "702jIUxAs21L",
        "colab": {
          "base_uri": "https://localhost:8080/"
        },
        "outputId": "ff23e4e9-80ad-4c27-e4ab-b2093ed3cb67"
      },
      "execution_count": 133,
      "outputs": [
        {
          "output_type": "stream",
          "name": "stdout",
          "text": [
            "Epoch [1/50], Train Accuracy: 5.762 %, Loss: 4.2113\n",
            "Epoch [1/50], Learning Rate: 0.0001\n",
            "Epoch [2/50], Train Accuracy: 12.712 %, Loss: 3.9149\n",
            "Epoch [2/50], Learning Rate: 0.00208\n",
            "Epoch [3/50], Train Accuracy: 19.966 %, Loss: 3.1003\n",
            "Epoch [3/50], Learning Rate: 0.00406\n",
            "Epoch [4/50], Train Accuracy: 25.986 %, Loss: 2.7814\n",
            "Epoch [4/50], Learning Rate: 0.00604\n",
            "Epoch [5/50], Train Accuracy: 30.126 %, Loss: 2.6914\n",
            "Epoch [5/50], Learning Rate: 0.00802\n",
            "Epoch [6/50], Train Accuracy: 33.524 %, Loss: 2.6593\n",
            "Epoch [6/50], Learning Rate: 0.01\n",
            "Epoch [7/50], Train Accuracy: 35.662 %, Loss: 2.4761\n",
            "Epoch [7/50], Learning Rate: 0.009990232305719944\n",
            "Epoch [8/50], Train Accuracy: 37.572 %, Loss: 2.2825\n",
            "Epoch [8/50], Learning Rate: 0.009960967771506667\n",
            "Epoch [9/50], Train Accuracy: 39.582 %, Loss: 2.2700\n",
            "Epoch [9/50], Learning Rate: 0.00991232189110701\n",
            "Epoch [10/50], Train Accuracy: 40.594 %, Loss: 2.1829\n",
            "Epoch [10/50], Learning Rate: 0.009844486647586723\n",
            "Epoch [11/50], Train Accuracy: 41.588 %, Loss: 2.2076\n",
            "Epoch [11/50], Learning Rate: 0.009757729755661011\n",
            "Epoch [12/50], Train Accuracy: 42.746 %, Loss: 2.1943\n",
            "Epoch [12/50], Learning Rate: 0.009652393605146845\n",
            "Epoch [13/50], Train Accuracy: 43.264 %, Loss: 2.1353\n",
            "Epoch [13/50], Learning Rate: 0.009528893909706798\n",
            "Epoch [14/50], Train Accuracy: 44.186 %, Loss: 2.1011\n",
            "Epoch [14/50], Learning Rate: 0.009387718066217124\n",
            "Epoch [15/50], Train Accuracy: 44.624 %, Loss: 2.0914\n",
            "Epoch [15/50], Learning Rate: 0.009229423231234974\n",
            "Epoch [16/50], Train Accuracy: 44.71 %, Loss: 2.2631\n",
            "Epoch [16/50], Learning Rate: 0.00905463412215599\n",
            "Epoch [17/50], Train Accuracy: 45.766 %, Loss: 2.1759\n",
            "Epoch [17/50], Learning Rate: 0.008864040551740157\n",
            "Epoch [18/50], Train Accuracy: 46.188 %, Loss: 2.1951\n",
            "Epoch [18/50], Learning Rate: 0.008658394705735987\n",
            "Epoch [19/50], Train Accuracy: 46.27 %, Loss: 1.9311\n",
            "Epoch [19/50], Learning Rate: 0.00843850817434701\n",
            "Epoch [20/50], Train Accuracy: 47.046 %, Loss: 1.8709\n",
            "Epoch [20/50], Learning Rate: 0.008205248749256015\n",
            "Epoch [21/50], Train Accuracy: 46.988 %, Loss: 1.8259\n",
            "Epoch [21/50], Learning Rate: 0.007959536998847744\n",
            "Epoch [22/50], Train Accuracy: 47.484 %, Loss: 1.8881\n",
            "Epoch [22/50], Learning Rate: 0.007702342635146034\n",
            "Epoch [23/50], Train Accuracy: 48.246 %, Loss: 2.0154\n",
            "Epoch [23/50], Learning Rate: 0.007434680686803491\n",
            "Epoch [24/50], Train Accuracy: 48.806 %, Loss: 1.9697\n",
            "Epoch [24/50], Learning Rate: 0.0071576074932471105\n",
            "Epoch [25/50], Train Accuracy: 48.846 %, Loss: 1.8149\n",
            "Epoch [25/50], Learning Rate: 0.006872216535789157\n",
            "Epoch [26/50], Train Accuracy: 49.14 %, Loss: 1.7978\n",
            "Epoch [26/50], Learning Rate: 0.006579634122155991\n",
            "Epoch [27/50], Train Accuracy: 49.31 %, Loss: 1.8740\n",
            "Epoch [27/50], Learning Rate: 0.0062810149414660316\n",
            "Epoch [28/50], Train Accuracy: 49.804 %, Loss: 1.9137\n",
            "Epoch [28/50], Learning Rate: 0.005977537507199339\n",
            "Epoch [29/50], Train Accuracy: 49.908 %, Loss: 1.9272\n",
            "Epoch [29/50], Learning Rate: 0.005670399506143308\n",
            "Epoch [30/50], Train Accuracy: 50.524 %, Loss: 1.8537\n",
            "Epoch [30/50], Learning Rate: 0.005360813071670102\n",
            "Epoch [31/50], Train Accuracy: 50.604 %, Loss: 1.7839\n",
            "Epoch [31/50], Learning Rate: 0.005050000000000001\n",
            "Epoch [32/50], Train Accuracy: 50.822 %, Loss: 2.0511\n",
            "Epoch [32/50], Learning Rate: 0.004739186928329899\n",
            "Epoch [33/50], Train Accuracy: 51.39 %, Loss: 1.8068\n",
            "Epoch [33/50], Learning Rate: 0.004429600493856695\n",
            "Epoch [34/50], Train Accuracy: 51.388 %, Loss: 1.8554\n",
            "Epoch [34/50], Learning Rate: 0.0041224624928006635\n",
            "Epoch [35/50], Train Accuracy: 51.906 %, Loss: 1.8163\n",
            "Epoch [35/50], Learning Rate: 0.0038189850585339685\n",
            "Epoch [36/50], Train Accuracy: 51.926 %, Loss: 1.6799\n",
            "Epoch [36/50], Learning Rate: 0.003520365877844012\n",
            "Epoch [37/50], Train Accuracy: 52.55 %, Loss: 1.7058\n",
            "Epoch [37/50], Learning Rate: 0.0032277834642108457\n",
            "Epoch [38/50], Train Accuracy: 52.472 %, Loss: 1.8148\n",
            "Epoch [38/50], Learning Rate: 0.0029423925067528904\n",
            "Epoch [39/50], Train Accuracy: 52.794 %, Loss: 1.5644\n",
            "Epoch [39/50], Learning Rate: 0.002665319313196509\n",
            "Epoch [40/50], Train Accuracy: 53.356 %, Loss: 1.7469\n",
            "Epoch [40/50], Learning Rate: 0.0023976573648539653\n",
            "Epoch [41/50], Train Accuracy: 53.062 %, Loss: 1.6299\n",
            "Epoch [41/50], Learning Rate: 0.0021404630011522584\n",
            "Epoch [42/50], Train Accuracy: 53.54 %, Loss: 1.7267\n",
            "Epoch [42/50], Learning Rate: 0.001894751250743986\n",
            "Epoch [43/50], Train Accuracy: 53.692 %, Loss: 1.6804\n",
            "Epoch [43/50], Learning Rate: 0.001661491825652991\n",
            "Epoch [44/50], Train Accuracy: 53.818 %, Loss: 1.6750\n",
            "Epoch [44/50], Learning Rate: 0.001441605294264014\n",
            "Epoch [45/50], Train Accuracy: 54.096 %, Loss: 1.6925\n",
            "Epoch [45/50], Learning Rate: 0.001235959448259844\n",
            "Epoch [46/50], Train Accuracy: 54.278 %, Loss: 1.7028\n",
            "Epoch [46/50], Learning Rate: 0.0010453658778440107\n",
            "Epoch [47/50], Train Accuracy: 54.456 %, Loss: 1.7250\n",
            "Epoch [47/50], Learning Rate: 0.0008705767687650265\n",
            "Epoch [48/50], Train Accuracy: 54.26 %, Loss: 1.7188\n",
            "Epoch [48/50], Learning Rate: 0.0007122819337828754\n",
            "Epoch [49/50], Train Accuracy: 54.412 %, Loss: 1.7713\n",
            "Epoch [49/50], Learning Rate: 0.0005711060902932043\n",
            "Epoch [50/50], Train Accuracy: 54.398 %, Loss: 1.8762\n",
            "Epoch [50/50], Learning Rate: 0.00044760639485315584\n"
          ]
        }
      ]
    },
    {
      "cell_type": "code",
      "source": [
        "# モデルの刈り込み率を計算する関数を作成\n",
        "def calculate_pruned_ratio(model):\n",
        "    total_weights = 0\n",
        "    total_pruned_weights = 0\n",
        "\n",
        "    for module in model.modules():\n",
        "        # モジュールがSupermaskConvであるか確認\n",
        "        if isinstance(module, SupermaskConv):\n",
        "            # SupermaskConv層の重みを取得\n",
        "            weight = module.weight.data\n",
        "            # 刈り込みを適用した後の重みを取得\n",
        "            subnet = GetSubnet.apply(module.clamped_scores, 1 - module.prune_rate)\n",
        "            pruned_weight = weight * subnet\n",
        "            # 0である要素数を計算\n",
        "            pruned_weights_count = (pruned_weight == 0).sum().item()\n",
        "            total_pruned_weights += pruned_weights_count\n",
        "            # 重みの全要素数を計算\n",
        "            total_weights_count = pruned_weight.numel()\n",
        "            total_weights += total_weights_count\n",
        "\n",
        "    # 刈り込みが行われた割合を計算\n",
        "    pruned_ratio = total_pruned_weights / total_weights\n",
        "    return print(f\"刈り込み率は{pruned_ratio:.3f}です\")\n",
        "\n",
        "# モデルの刈り込み率を確認\n",
        "calculate_pruned_ratio(model)"
      ],
      "metadata": {
        "id": "xk_gOEAns21L",
        "colab": {
          "base_uri": "https://localhost:8080/"
        },
        "outputId": "84b581dc-640d-4202-ca73-3d42307894d8"
      },
      "execution_count": 134,
      "outputs": [
        {
          "output_type": "stream",
          "name": "stdout",
          "text": [
            "刈り込み率は0.500です\n"
          ]
        }
      ]
    },
    {
      "cell_type": "code",
      "source": [
        "# 学習前後のモデルのスコアを比較する関数を作成\n",
        "def check_scores_change(model, model_init):\n",
        "    # 各モデルの名前付きモジュールを順に調べる\n",
        "    for (name, module), (name_init, module_init) in zip(model.named_modules(), model_init.named_modules()):\n",
        "        # 両モジュールがConv2dのインスタンスであるかを確認\n",
        "        if isinstance(module, torch.nn.Conv2d) and isinstance(module_init, torch.nn.Conv2d):\n",
        "            # 両モジュールが'scores'属性を持っているかを確認\n",
        "            if hasattr(module, 'scores') and hasattr(module_init, 'scores'):\n",
        "                # 両モジュールの'scores'属性が一致しているかを確認\n",
        "                # 一致していない場合、変更があったことを示すメッセージを出力\n",
        "                if not torch.equal(module.scores, module_init.scores):\n",
        "                    print(f'{name}のスコアが変化しています')\n",
        "                    return\n",
        "    # すべてのconv層で'scores'が変更されていない場合、その旨を出力\n",
        "    print('すべてのスコアは変化していません')\n",
        "\n",
        "# 学習前後でモデルのスコアが変化していないかを確認\n",
        "check_scores_change(model, model_init)"
      ],
      "metadata": {
        "id": "Pw0PWjias21M",
        "colab": {
          "base_uri": "https://localhost:8080/"
        },
        "outputId": "0f4c3fea-31ea-4772-9ec8-898764cf4443"
      },
      "execution_count": 135,
      "outputs": [
        {
          "output_type": "stream",
          "name": "stdout",
          "text": [
            "すべてのスコアは変化していません\n"
          ]
        }
      ]
    },
    {
      "cell_type": "code",
      "source": [
        "# 学習前後のモデルの最終層以外の重みを比較する関数を作成\n",
        "def check_weight_change_except_last(model, model_init):\n",
        "    for (name, param), (name_init, param_init) in zip(model.named_parameters(), model_init.named_parameters()):\n",
        "        # 最終層を除く\n",
        "        if name != 'fc.weight' and name != 'fc.bias':\n",
        "            weights_changed = (param.data != param_init.data).any()\n",
        "            if weights_changed:\n",
        "                return print('最終層以外の重みが変化しています')\n",
        "    return print('最終層以外の重みは変化していません')\n",
        "\n",
        "# 学習前後でモデルの最終層以外の重みが変化していないかを確認\n",
        "check_weight_change_except_last(model, model_init)"
      ],
      "metadata": {
        "id": "I8aQW-dBs21M",
        "colab": {
          "base_uri": "https://localhost:8080/"
        },
        "outputId": "bdf9e7a4-ba4f-4c1b-8a8b-255be61abf87"
      },
      "execution_count": 136,
      "outputs": [
        {
          "output_type": "stream",
          "name": "stdout",
          "text": [
            "最終層以外の重みは変化していません\n"
          ]
        }
      ]
    },
    {
      "cell_type": "code",
      "source": [
        "# モデルの評価\n",
        "model.eval()\n",
        "with torch.no_grad():\n",
        "    total = 0\n",
        "    correct = 0\n",
        "    for images, labels in test_loader_cifar100:\n",
        "        images = images.to(device)\n",
        "        labels = labels.to(device)\n",
        "        outputs = model(images)\n",
        "        _, predicted = torch.max(outputs.data, 1)\n",
        "        total += labels.size(0)\n",
        "        correct += (predicted == labels).sum().item()\n",
        "    # 正解率精度の確認\n",
        "    print('Test Accuracy: {} %'.format(100 * correct / total))"
      ],
      "metadata": {
        "id": "3q088eN2s21M",
        "colab": {
          "base_uri": "https://localhost:8080/"
        },
        "outputId": "d0519010-1cc8-4bbb-af7f-845cd3690cae"
      },
      "execution_count": 137,
      "outputs": [
        {
          "output_type": "stream",
          "name": "stdout",
          "text": [
            "Test Accuracy: 51.95 %\n"
          ]
        }
      ]
    },
    {
      "cell_type": "code",
      "source": [
        "# GPUメモリの解放\n",
        "del model, model_init\n",
        "torch.cuda.empty_cache()"
      ],
      "metadata": {
        "id": "k9H_mGkns21M"
      },
      "execution_count": 138,
      "outputs": []
    }
  ]
}