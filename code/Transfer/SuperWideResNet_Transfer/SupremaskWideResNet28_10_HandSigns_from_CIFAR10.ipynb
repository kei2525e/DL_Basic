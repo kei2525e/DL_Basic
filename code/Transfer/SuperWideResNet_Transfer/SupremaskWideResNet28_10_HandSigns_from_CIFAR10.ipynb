{
  "nbformat": 4,
  "nbformat_minor": 0,
  "metadata": {
    "colab": {
      "provenance": [],
      "machine_shape": "hm",
      "gpuType": "A100",
      "collapsed_sections": [
        "m-QbZLFlyjCA",
        "cdzvZUWNzQAY",
        "_8vKbM9TzkCb",
        "9aOdldqfyoSt",
        "4rSZ0nNXXi1A",
        "0ty5QkTRkUW5",
        "6ElRLLrbv0op",
        "pKsq6UgsvrGu",
        "jQuP9L3Bxccy",
        "pJyew3dez2Wc",
        "_KprKABkwBxe",
        "2atmPsCD5ThV",
        "a4Ae9a4VE3O2",
        "mcIPdm2gkbP7",
        "X4eX_0UDwK0F",
        "Alvf6x5vwDkh",
        "VFsN4qoY1qFw",
        "B6yICeOH1qFz",
        "xHXKrn9M6L_s",
        "_i257mg66Lan",
        "JieVvX5XFKMT",
        "RZRZkudPkkDd",
        "lIwvJcJBwchg",
        "ZMJwIP8WwUjg",
        "o7FBIYbw4QVa",
        "BCsx6dqv4QVb",
        "PSXOlVSN4QVc"
      ]
    },
    "kernelspec": {
      "name": "python3",
      "display_name": "Python 3"
    },
    "language_info": {
      "name": "python"
    },
    "accelerator": "GPU"
  },
  "cells": [
    {
      "cell_type": "markdown",
      "source": [
        "### ドライブのマウント"
      ],
      "metadata": {
        "id": "m-QbZLFlyjCA"
      }
    },
    {
      "cell_type": "code",
      "execution_count": 1,
      "metadata": {
        "id": "9g8jY7G9ahIa",
        "colab": {
          "base_uri": "https://localhost:8080/"
        },
        "outputId": "24ae3f49-fda8-4647-fd15-2af170e4c2ca"
      },
      "outputs": [
        {
          "output_type": "stream",
          "name": "stdout",
          "text": [
            "Mounted at /content/drive\n"
          ]
        }
      ],
      "source": [
        "# Googleドライブをマウント\n",
        "from google.colab import drive\n",
        "drive.mount('/content/drive')"
      ]
    },
    {
      "cell_type": "markdown",
      "source": [
        "### ライブラリ・モジュールのインポート"
      ],
      "metadata": {
        "id": "cdzvZUWNzQAY"
      }
    },
    {
      "cell_type": "code",
      "source": [
        "# ライブラリの準備\n",
        "!pip install timm\n",
        "import torch\n",
        "import torch.nn as nn\n",
        "import torchvision\n",
        "import torchvision.transforms as transforms\n",
        "import torchvision.datasets as datasets\n",
        "import torch.nn.functional as F\n",
        "import torch.autograd as autograd\n",
        "import torch.optim as optim\n",
        "import torch.optim.lr_scheduler as lr_scheduler\n",
        "from timm.scheduler import CosineLRScheduler\n",
        "import numpy as np\n",
        "import pandas as pd\n",
        "import matplotlib.pyplot as plt\n",
        "import os\n",
        "import math\n",
        "import copy\n",
        "import random\n",
        "from PIL import Image\n",
        "import pickle"
      ],
      "metadata": {
        "id": "l8wfSjPuboGS",
        "colab": {
          "base_uri": "https://localhost:8080/"
        },
        "outputId": "00d2dc63-c860-4b81-9eb2-81c45bfd0ebc"
      },
      "execution_count": 2,
      "outputs": [
        {
          "output_type": "stream",
          "name": "stdout",
          "text": [
            "Collecting timm\n",
            "  Downloading timm-0.9.2-py3-none-any.whl (2.2 MB)\n",
            "\u001b[2K     \u001b[90m━━━━━━━━━━━━━━━━━━━━━━━━━━━━━━━━━━━━━━━━\u001b[0m \u001b[32m2.2/2.2 MB\u001b[0m \u001b[31m15.1 MB/s\u001b[0m eta \u001b[36m0:00:00\u001b[0m\n",
            "\u001b[?25hRequirement already satisfied: torch>=1.7 in /usr/local/lib/python3.10/dist-packages (from timm) (2.0.1+cu118)\n",
            "Requirement already satisfied: torchvision in /usr/local/lib/python3.10/dist-packages (from timm) (0.15.2+cu118)\n",
            "Requirement already satisfied: pyyaml in /usr/local/lib/python3.10/dist-packages (from timm) (6.0.1)\n",
            "Collecting huggingface-hub (from timm)\n",
            "  Downloading huggingface_hub-0.16.4-py3-none-any.whl (268 kB)\n",
            "\u001b[2K     \u001b[90m━━━━━━━━━━━━━━━━━━━━━━━━━━━━━━━━━━━━━━\u001b[0m \u001b[32m268.8/268.8 kB\u001b[0m \u001b[31m21.3 MB/s\u001b[0m eta \u001b[36m0:00:00\u001b[0m\n",
            "\u001b[?25hCollecting safetensors (from timm)\n",
            "  Downloading safetensors-0.3.1-cp310-cp310-manylinux_2_17_x86_64.manylinux2014_x86_64.whl (1.3 MB)\n",
            "\u001b[2K     \u001b[90m━━━━━━━━━━━━━━━━━━━━━━━━━━━━━━━━━━━━━━━━\u001b[0m \u001b[32m1.3/1.3 MB\u001b[0m \u001b[31m32.8 MB/s\u001b[0m eta \u001b[36m0:00:00\u001b[0m\n",
            "\u001b[?25hRequirement already satisfied: filelock in /usr/local/lib/python3.10/dist-packages (from torch>=1.7->timm) (3.12.2)\n",
            "Requirement already satisfied: typing-extensions in /usr/local/lib/python3.10/dist-packages (from torch>=1.7->timm) (4.7.1)\n",
            "Requirement already satisfied: sympy in /usr/local/lib/python3.10/dist-packages (from torch>=1.7->timm) (1.11.1)\n",
            "Requirement already satisfied: networkx in /usr/local/lib/python3.10/dist-packages (from torch>=1.7->timm) (3.1)\n",
            "Requirement already satisfied: jinja2 in /usr/local/lib/python3.10/dist-packages (from torch>=1.7->timm) (3.1.2)\n",
            "Requirement already satisfied: triton==2.0.0 in /usr/local/lib/python3.10/dist-packages (from torch>=1.7->timm) (2.0.0)\n",
            "Requirement already satisfied: cmake in /usr/local/lib/python3.10/dist-packages (from triton==2.0.0->torch>=1.7->timm) (3.25.2)\n",
            "Requirement already satisfied: lit in /usr/local/lib/python3.10/dist-packages (from triton==2.0.0->torch>=1.7->timm) (16.0.6)\n",
            "Requirement already satisfied: fsspec in /usr/local/lib/python3.10/dist-packages (from huggingface-hub->timm) (2023.6.0)\n",
            "Requirement already satisfied: requests in /usr/local/lib/python3.10/dist-packages (from huggingface-hub->timm) (2.27.1)\n",
            "Requirement already satisfied: tqdm>=4.42.1 in /usr/local/lib/python3.10/dist-packages (from huggingface-hub->timm) (4.65.0)\n",
            "Requirement already satisfied: packaging>=20.9 in /usr/local/lib/python3.10/dist-packages (from huggingface-hub->timm) (23.1)\n",
            "Requirement already satisfied: numpy in /usr/local/lib/python3.10/dist-packages (from torchvision->timm) (1.22.4)\n",
            "Requirement already satisfied: pillow!=8.3.*,>=5.3.0 in /usr/local/lib/python3.10/dist-packages (from torchvision->timm) (9.4.0)\n",
            "Requirement already satisfied: MarkupSafe>=2.0 in /usr/local/lib/python3.10/dist-packages (from jinja2->torch>=1.7->timm) (2.1.3)\n",
            "Requirement already satisfied: urllib3<1.27,>=1.21.1 in /usr/local/lib/python3.10/dist-packages (from requests->huggingface-hub->timm) (1.26.16)\n",
            "Requirement already satisfied: certifi>=2017.4.17 in /usr/local/lib/python3.10/dist-packages (from requests->huggingface-hub->timm) (2023.7.22)\n",
            "Requirement already satisfied: charset-normalizer~=2.0.0 in /usr/local/lib/python3.10/dist-packages (from requests->huggingface-hub->timm) (2.0.12)\n",
            "Requirement already satisfied: idna<4,>=2.5 in /usr/local/lib/python3.10/dist-packages (from requests->huggingface-hub->timm) (3.4)\n",
            "Requirement already satisfied: mpmath>=0.19 in /usr/local/lib/python3.10/dist-packages (from sympy->torch>=1.7->timm) (1.3.0)\n",
            "Installing collected packages: safetensors, huggingface-hub, timm\n",
            "Successfully installed huggingface-hub-0.16.4 safetensors-0.3.1 timm-0.9.2\n"
          ]
        }
      ]
    },
    {
      "cell_type": "markdown",
      "source": [
        "### シード値の設定"
      ],
      "metadata": {
        "id": "_8vKbM9TzkCb"
      }
    },
    {
      "cell_type": "code",
      "source": [
        "# シード値を設定\n",
        "def fix_seed(seed=1234):\n",
        "    random.seed(seed)\n",
        "    np.random.seed(seed)\n",
        "    torch.manual_seed(seed)\n",
        "    torch.cuda.manual_seed(seed)\n",
        "\n",
        "fix_seed(seed=1234)"
      ],
      "metadata": {
        "id": "pGX4Zk1LbtPr"
      },
      "execution_count": 3,
      "outputs": []
    },
    {
      "cell_type": "markdown",
      "source": [
        "### データセットの準備"
      ],
      "metadata": {
        "id": "9aOdldqfyoSt"
      }
    },
    {
      "cell_type": "code",
      "source": [
        "# Colabのローカルファイルに自作データをコピー（初めからローカルファイルにアップロードする場合は不要）\n",
        "!cp -r \"/content/drive/MyDrive/HandSigns/\" \"/content/HandSigns/\""
      ],
      "metadata": {
        "id": "Y3PcozNzefyo"
      },
      "execution_count": 4,
      "outputs": []
    },
    {
      "cell_type": "code",
      "source": [
        "# 自作データをリサイズして、ファイル構造を保ったまま新しいフォルダに保存する関数を定義\n",
        "def resize_images(base_dir, new_base_dir, image_size=(32, 32)):\n",
        "    for folder in os.listdir(base_dir):\n",
        "        folder_path = os.path.join(base_dir, folder)\n",
        "        new_folder_path = os.path.join(new_base_dir, folder)\n",
        "        # リサイズした自作データを保存する新しいフォルダを作成\n",
        "        os.makedirs(new_folder_path, exist_ok=True)\n",
        "        for filename in os.listdir(folder_path):\n",
        "            file_path = os.path.join(folder_path, filename)\n",
        "            # 拡張子の確認\n",
        "            if file_path.endswith(('.jpg', '.jpeg')):\n",
        "                # 画像を展開\n",
        "                img = Image.open(file_path)\n",
        "                # 画像をリサイズ\n",
        "                img_resized = img.resize(image_size)\n",
        "                # リサイズした画像を新しいフォルダに保存\n",
        "                img_resized.save(os.path.join(new_folder_path, filename))\n",
        "\n",
        "# 学習用の自作データのディレクトリを設定\n",
        "train_base_dir = '/content/HandSigns/train'\n",
        "# テスト用の自作データのディレクトリを設定\n",
        "test_base_dir = '/content/HandSigns/test'\n",
        "\n",
        "# リサイズした学習用の自作データを保存するディレクトリを設定\n",
        "new_train_base_dir = '/content/HandSigns/resized_train_32'\n",
        "# リサイズしたテスト用の自作データを保存するディレクトリを設定\n",
        "new_test_base_dir = '/content/HandSigns/resized_test_32'\n",
        "# リサイズする大きさを設定\n",
        "image_size = (32, 32)\n",
        "\n",
        "# 学習用の自作データをリサイズ\n",
        "resize_images(train_base_dir, new_train_base_dir, image_size)\n",
        "# テスト用の自作データをリサイズ\n",
        "resize_images(test_base_dir, new_test_base_dir, image_size)"
      ],
      "metadata": {
        "id": "Z8zfdM7qoClj"
      },
      "execution_count": 5,
      "outputs": []
    },
    {
      "cell_type": "code",
      "source": [
        "# 平均値と標準偏差を計算するためのHandSignsの前処理を定義\n",
        "pre_transform_handsigns = transforms.Compose([\n",
        "    transforms.ToTensor()\n",
        "])\n",
        "\n",
        "# 平均値と標準偏差を計算するためのHandSignsデータセットの前処理を定義\n",
        "pre_train_dataset_handsigns = torchvision.datasets.ImageFolder(\"/content/HandSigns/resized_train_32\", transform=pre_transform_handsigns)\n",
        "\n",
        "# 平均値と標準偏差を計算するための変数を初期化\n",
        "pre_mean_handsigns = 0.0\n",
        "pre_std_handsigns = 0.0\n",
        "pre_total_samples_handsigns = len(pre_train_dataset_handsigns)\n",
        "\n",
        "# データセットのすべてのデータポイントに対して平均値と標準偏差を計算\n",
        "for data in pre_train_dataset_handsigns:\n",
        "    pre_image, _ = data\n",
        "    pre_mean_handsigns += pre_image.mean(dim=(1, 2))  # テンソルのチャンネルごとに平均を計算\n",
        "    pre_std_handsigns += pre_image.std(dim=(1, 2))    # テンソルのチャンネルごとに標準偏差を計算\n",
        "\n",
        "# データセット全体の平均値と標準偏差を計算\n",
        "pre_mean_handsigns /= pre_total_samples_handsigns\n",
        "pre_std_handsigns /= pre_total_samples_handsigns\n",
        "\n",
        "print(\"データセット全体の平均値: \", pre_mean_handsigns)\n",
        "print(\"データセット全体の標準偏差: \", pre_std_handsigns)"
      ],
      "metadata": {
        "id": "nmHDAzTx7_mM",
        "colab": {
          "base_uri": "https://localhost:8080/"
        },
        "outputId": "28ee610c-877d-4312-8c1e-20b2ef5131e7"
      },
      "execution_count": 6,
      "outputs": [
        {
          "output_type": "stream",
          "name": "stdout",
          "text": [
            "データセット全体の平均値:  tensor([0.6954, 0.6754, 0.6450])\n",
            "データセット全体の標準偏差:  tensor([0.1331, 0.1565, 0.1689])\n"
          ]
        }
      ]
    },
    {
      "cell_type": "code",
      "source": [
        "# 学習用のHandSignsデータセットの前処理を定義\n",
        "train_transform_handsigns = transforms.Compose([\n",
        "    transforms.RandomCrop(32, padding=4),\n",
        "    transforms.RandomHorizontalFlip(),\n",
        "    transforms.ToTensor(),\n",
        "    transforms.Normalize(mean=pre_mean_handsigns, std=pre_std_handsigns)\n",
        "    ])\n",
        "\n",
        "# テスト用のHandSignsデータセットの前処理を定義\n",
        "test_transform_handsigns = transforms.Compose([\n",
        "    transforms.ToTensor(),\n",
        "    transforms.Normalize(mean=pre_mean_handsigns, std=pre_std_handsigns)\n",
        "    ])\n",
        "\n",
        "# 学習用のHandSignsデータセットの読み込み\n",
        "train_dataset_handsigns = torchvision.datasets.ImageFolder(\"/content/HandSigns/resized_train_32\", transform=train_transform_handsigns)\n",
        "# テスト用のHandSignsデータセットの読み込み\n",
        "test_dataset_handsigns = torchvision.datasets.ImageFolder(\"/content/HandSigns/resized_test_32\", transform=test_transform_handsigns)\n",
        "\n",
        "# 学習用のHandSignsデータローダーを作成\n",
        "train_loader_handsigns = torch.utils.data.DataLoader(dataset=train_dataset_handsigns, batch_size=16, shuffle=True, num_workers=2)\n",
        "# テスト用のHandSignsデータローダーを作成\n",
        "test_loader_handsigns = torch.utils.data.DataLoader(dataset=test_dataset_handsigns, batch_size=16, shuffle=False, num_workers=2)"
      ],
      "metadata": {
        "id": "-HEpFd1if95E"
      },
      "execution_count": 7,
      "outputs": []
    },
    {
      "cell_type": "code",
      "source": [
        "# 学習データのクラス名とラベルの対応を確認\n",
        "print(train_dataset_handsigns.class_to_idx)\n",
        "# テストデータのクラス名とラベルの対応を確認\n",
        "print(test_dataset_handsigns.class_to_idx)"
      ],
      "metadata": {
        "id": "SfjHvYVchpC1",
        "colab": {
          "base_uri": "https://localhost:8080/"
        },
        "outputId": "399f0fae-b2f9-475e-ef55-6dfa073bd800"
      },
      "execution_count": 8,
      "outputs": [
        {
          "output_type": "stream",
          "name": "stdout",
          "text": [
            "{'100000': 0, '100001': 1, '100111': 2, '101000': 3, '110000': 4, '110001': 5, '111000': 6, '111001': 7, '111100': 8, '111111': 9}\n",
            "{'100000': 0, '100001': 1, '100111': 2, '101000': 3, '110000': 4, '110001': 5, '111000': 6, '111001': 7, '111100': 8, '111111': 9}\n"
          ]
        }
      ]
    },
    {
      "cell_type": "code",
      "source": [
        "# イテレータを作成\n",
        "data_iter = iter(train_loader_handsigns)\n",
        "\n",
        "# データを1バッチ分取得\n",
        "images, labels = next(data_iter)\n",
        "\n",
        "# 取得したバッチの画像とラベルの情報を確認\n",
        "print(\"画像の形状:\", images.shape)  # (バッチサイズ, チャンネル数, 高さ, 幅)\n",
        "print(\"ラベル:\", labels)"
      ],
      "metadata": {
        "id": "COkrTTnDknvR",
        "colab": {
          "base_uri": "https://localhost:8080/"
        },
        "outputId": "ee1ef387-c58a-4c54-a33d-c52d4d52183e"
      },
      "execution_count": 9,
      "outputs": [
        {
          "output_type": "stream",
          "name": "stdout",
          "text": [
            "画像の形状: torch.Size([16, 3, 32, 32])\n",
            "ラベル: tensor([3, 7, 4, 1, 3, 5, 6, 9, 9, 5, 3, 0, 4, 0, 2, 1])\n"
          ]
        }
      ]
    },
    {
      "cell_type": "markdown",
      "source": [
        "## モデルの実装"
      ],
      "metadata": {
        "id": "4rSZ0nNXXi1A"
      }
    },
    {
      "cell_type": "code",
      "source": [
        "# 1×1のサブネットワーク獲得用の畳み込みを定義\n",
        "def supermaskconv1x1(in_channels, out_channels, stride=1):\n",
        "    return SupermaskConv(in_channels, out_channels, kernel_size=1, stride=stride, bias=False)\n",
        "\n",
        "# 3×3のサブネットワーク獲得用の畳み込みを定義\n",
        "def supermaskconv3x3(in_channels, out_channels, stride=1):\n",
        "    return SupermaskConv(in_channels, out_channels, kernel_size=3, stride=stride, padding=1, bias=False)"
      ],
      "metadata": {
        "id": "LGXnnKFiXoBI"
      },
      "execution_count": 10,
      "outputs": []
    },
    {
      "cell_type": "code",
      "source": [
        "# サブネットワーク獲得用のバッチ正則化として、非アフィン正規化を使用する（学習可能なパラメータを使用しない）\n",
        "class NonAffineBatchNorm(nn.BatchNorm2d):\n",
        "    def __init__(self, dim):\n",
        "        super(NonAffineBatchNorm, self).__init__(dim, affine=False)"
      ],
      "metadata": {
        "id": "lsTzgaTYXum7"
      },
      "execution_count": 11,
      "outputs": []
    },
    {
      "cell_type": "code",
      "source": [
        "# 各重みにスコアを付与したスコアをソートしてtop k%を使用することでサブネットワークを獲得する\n",
        "class GetSubnet(autograd.Function):\n",
        "    @staticmethod\n",
        "    def forward(ctx, scores, k):\n",
        "        # スコアを複製する\n",
        "        out = scores.clone()\n",
        "        # スコアを昇順でソートする\n",
        "        _, idx = scores.flatten().sort()\n",
        "        # top k%以下のスコアの数\n",
        "        j = int((1 - k) * scores.numel())\n",
        "        # flat_outとoutは同じメモリを参照する（flat_outを変更するとoutにも影響する）\n",
        "        flat_out = out.flatten()\n",
        "        # top k%の要素を1にする\n",
        "        flat_out[idx[j:]] = 1\n",
        "        # top k%以外の要素を0にする\n",
        "        flat_out[idx[:j]] = 0\n",
        "        return out\n",
        "\n",
        "    @staticmethod\n",
        "    def backward(ctx, g):\n",
        "        # 逆伝播時に勾配gをそのまま伝える\n",
        "        return g, None"
      ],
      "metadata": {
        "id": "MWW1Jx9JXzGI"
      },
      "execution_count": 12,
      "outputs": []
    },
    {
      "cell_type": "code",
      "source": [
        "# サブネットワーク獲得用の畳み込みを定義\n",
        "class SupermaskConv(nn.Conv2d):\n",
        "    def __init__(self, *args, **kwargs):\n",
        "        super().__init__(*args, **kwargs)\n",
        "        # 重みと同じ形状のスコアを用意\n",
        "        self.scores = nn.Parameter(torch.Tensor(self.weight.size()))\n",
        "        # スコアを一様分布で初期化\n",
        "        nn.init.kaiming_uniform_(self.scores, a=math.sqrt(5))\n",
        "        # 重みの勾配を無効化する\n",
        "        self.weight.requires_grad = False\n",
        "\n",
        "    def _init_conv(self):\n",
        "        # 重みを一様分布で初期化\n",
        "        if self.init == 'kaiming_uniform':\n",
        "            nn.init.kaiming_uniform_(self.weight, mode='fan_out', nonlinearity='relu')\n",
        "        # 重みを正規分布で初期化\n",
        "        elif self.init == 'kaiming_normal':\n",
        "            nn.init.kaiming_normal_(self.weight, mode='fan_out', nonlinearity='relu')\n",
        "        # 重みを符号つき定数で初期化\n",
        "        elif self.init == 'signed_constant':\n",
        "            fan = nn.init._calculate_correct_fan(self.weight, mode='fan_out')\n",
        "            gain = nn.init.calculate_gain('relu')\n",
        "            std = gain / math.sqrt(fan)\n",
        "            self.weight.data = self.weight.data.sign() * std\n",
        "\n",
        "    def set_init(self, init):\n",
        "        # 初期化手法を設定\n",
        "        self.init = init\n",
        "\n",
        "    def set_prune_rate(self, prune_rate):\n",
        "        # 刈り込み率を設定\n",
        "        self.prune_rate = prune_rate\n",
        "\n",
        "    @property\n",
        "    def clamped_scores(self):\n",
        "        # スコアとして非負の値を返すようにする（重要度を表す）\n",
        "        return self.scores.abs()\n",
        "\n",
        "    def forward(self, x):\n",
        "        # サブネットワークを獲得\n",
        "        subnet = GetSubnet.apply(self.clamped_scores, 1 - self.prune_rate)\n",
        "        # サブネットワークでマスク\n",
        "        w = self.weight * subnet\n",
        "        x = F.conv2d(x, w, self.bias, self.stride, self.padding, self.dilation, self.groups)\n",
        "        return x"
      ],
      "metadata": {
        "id": "GMJZoKQHZQu2"
      },
      "execution_count": 13,
      "outputs": []
    },
    {
      "cell_type": "code",
      "source": [
        "# サブネットワーク獲得用のResidual Blocksを定義\n",
        "class SupermaskBuildingBlock(nn.Module):\n",
        "    def __init__(self, in_channels, out_channels, stride=1):\n",
        "        super().__init__()\n",
        "        self.bn1 = NonAffineBatchNorm(in_channels)\n",
        "        self.conv1 = supermaskconv3x3(in_channels, out_channels, stride)\n",
        "        self.bn2 = NonAffineBatchNorm(out_channels)\n",
        "        self.conv2 = supermaskconv3x3(out_channels, out_channels)\n",
        "        self.dropout = nn.Dropout(p=0.3)\n",
        "        self.relu = nn.ReLU(inplace=True)\n",
        "\n",
        "        # 入力と出力のチャンネル数が異なる場合（strideが1より大きい場合）、ダウンサンプリング\n",
        "        if in_channels != out_channels or stride > 1:\n",
        "            self.shortcut = supermaskconv1x1(in_channels, out_channels, stride)\n",
        "        else:\n",
        "            self.shortcut = nn.Sequential()\n",
        "\n",
        "    def forward(self, x):\n",
        "        out = self.bn1(x)\n",
        "        out = self.relu(out)\n",
        "        out = self.conv1(out)\n",
        "        out = self.bn2(out)\n",
        "        out = self.relu(out)\n",
        "        out = self.dropout(out)\n",
        "        out = self.conv2(out)\n",
        "        # 残差写像と恒等写像の要素毎の和を計算\n",
        "        out += self.shortcut(x)\n",
        "        return out"
      ],
      "metadata": {
        "id": "ESo-AKn0HM3s"
      },
      "execution_count": 14,
      "outputs": []
    },
    {
      "cell_type": "code",
      "source": [
        "class SupermaskWideResNet(nn.Module):\n",
        "    def __init__(self, block, depth, k, num_classes=10):\n",
        "        super().__init__()\n",
        "        assert (depth - 4) % 6 == 0, \"depth should be 6n + 4\"\n",
        "        n = (depth - 4) // 6\n",
        "        channels = [16, 16 * k, 32 * k, 64 * k]\n",
        "        self.conv1 = supermaskconv3x3(3, channels[0])\n",
        "        # Residual Blocks（1)\n",
        "        self.layer1 = self._make_layer(block, channels[0], channels[1], n)\n",
        "        # Residual Blocks（2）\n",
        "        self.layer2 = self._make_layer(block, channels[1], channels[2], n, stride=2)\n",
        "        # Residual Blocks（3）\n",
        "        self.layer3 = self._make_layer(block, channels[2], channels[3], n, stride=2)\n",
        "        self.bn = NonAffineBatchNorm(channels[3])\n",
        "        self.relu = nn.ReLU(inplace=True)\n",
        "        self.avgpool = nn.AdaptiveAvgPool2d((1, 1))\n",
        "        self.fc = nn.Linear(channels[3], num_classes)\n",
        "\n",
        "        # 重みの初期化\n",
        "        for m in self.modules():\n",
        "            if isinstance(m, nn.Conv2d):\n",
        "                # 初期化手法を設定\n",
        "                m.set_init(init)\n",
        "                # 刈り込み率を設定\n",
        "                m.set_prune_rate(prune_rate)\n",
        "                # 重みを初期化\n",
        "                m._init_conv()\n",
        "\n",
        "    # Residual Blocksを作成する関数を定義\n",
        "    def _make_layer(self, block, in_channels, out_channels, blocks, stride=1):\n",
        "        layers = []\n",
        "        # 最初の Residual Block（stride=stride）\n",
        "        layers.append(block(in_channels, out_channels, stride))\n",
        "        # 残りの Residual Block（stride=1）\n",
        "        for _ in range(1, blocks):\n",
        "            layers.append(block(out_channels, out_channels))\n",
        "        return nn.Sequential(*layers)\n",
        "\n",
        "    def forward(self, x):\n",
        "        x = self.conv1(x)\n",
        "        x = self.layer1(x)\n",
        "        x = self.layer2(x)\n",
        "        x = self.layer3(x)\n",
        "        x = self.bn(x)\n",
        "        x = self.relu(x)\n",
        "        x = self.avgpool(x)\n",
        "        x = torch.flatten(x, 1)\n",
        "        x = self.fc(x)\n",
        "        return x"
      ],
      "metadata": {
        "id": "o4DEbfdQH0hs"
      },
      "execution_count": 15,
      "outputs": []
    },
    {
      "cell_type": "markdown",
      "source": [
        "## 学習と評価（100 epochs, init=kaiming_uniform）"
      ],
      "metadata": {
        "id": "b5CnW4IW4iww"
      }
    },
    {
      "cell_type": "markdown",
      "source": [
        "### prune_rate=0.999"
      ],
      "metadata": {
        "id": "XGLNB5K_Eb5D"
      }
    },
    {
      "cell_type": "code",
      "source": [
        "# デバイスを設定\n",
        "device = torch.device('cuda' if torch.cuda.is_available() else 'cpu')\n",
        "# モデルを定義\n",
        "model = torch.load('/content/drive/MyDrive/SupermaskWideResNet28_10_CIFAR10_100epochs_pr0.999_uniform_CLRS_restest.pth')\n",
        "# 最終層を変更\n",
        "model.fc = nn.Linear(model.fc.in_features, 10)\n",
        "# 最終層以外のパラメータの勾配計算を停止\n",
        "for param in model.parameters():\n",
        "    param.requires_grad = False\n",
        "# 最終層のパラメータのみを学習するように設定\n",
        "for param in model.fc.parameters():\n",
        "    param.requires_grad = True\n",
        "# モデルをデバイスに転送\n",
        "model = model.to(device)\n",
        "# 変更後のモデルの重みを保存\n",
        "model_init = copy.deepcopy(model)\n",
        "\n",
        "# 学習率を設定\n",
        "learning_rate = 0.01\n",
        "# 全体のepoch数を設定\n",
        "num_epochs = 50\n",
        "# warm-upするepoch数を設定\n",
        "warmup_epochs = 5\n",
        "\n",
        "# 損失関数を定義\n",
        "criterion = nn.CrossEntropyLoss()\n",
        "# オプティマイザーを設定\n",
        "optimizer = optim.Adam(model.fc.parameters(), lr=learning_rate)\n",
        "# スケジューラーを設定\n",
        "scheduler = CosineLRScheduler(optimizer, t_initial=num_epochs, lr_min=1e-4, warmup_t=warmup_epochs, warmup_lr_init=1e-4, warmup_prefix=True)\n",
        "\n",
        "# モデルの学習\n",
        "for epoch in range(num_epochs):\n",
        "    total = 0\n",
        "    correct = 0\n",
        "    for i, (images, labels) in enumerate(train_loader_handsigns):\n",
        "        images = images.to(device)\n",
        "        labels = labels.to(device)\n",
        "        # 順伝播\n",
        "        outputs = model(images)\n",
        "        loss = criterion(outputs, labels)\n",
        "        # 逆伝播\n",
        "        optimizer.zero_grad()\n",
        "        loss.backward()\n",
        "        optimizer.step()\n",
        "        _, predicted = torch.max(outputs.data, 1)\n",
        "        # 全データ数\n",
        "        total += labels.size(0)\n",
        "        # 正解数\n",
        "        correct += (predicted == labels).sum().item()\n",
        "    # 正解率精度を計算\n",
        "    train_acc = 100 * correct / total\n",
        "    # 正解率精度と損失を確認\n",
        "    print(\"Epoch [{}/{}], Train Accuracy: {} %, Loss: {:.4f}\".format(epoch+1, num_epochs, 100 * correct / total, loss.item()))\n",
        "    # 1エポック終了後にスケジューラーを更新\n",
        "    scheduler.step(epoch)\n",
        "    # 学習率の確認\n",
        "    print(\"Epoch [{}/{}], Learning Rate: {}\".format(epoch+1, num_epochs, optimizer.param_groups[0]['lr']))\n",
        "\n",
        "\n",
        "# モデルを保存\n",
        "torch.save(model, '/content/drive/MyDrive/SupermaskWideResNet28_10_HandSigns_from_CIFAR10_100epochs_pr0.999_uniform_50epochs_lr0.01_CLRS_restest.pth')"
      ],
      "metadata": {
        "id": "AUdmMBeNCokH",
        "colab": {
          "base_uri": "https://localhost:8080/"
        },
        "outputId": "a0af1669-d343-446e-c90d-08fa83f7dcfc"
      },
      "execution_count": 16,
      "outputs": [
        {
          "output_type": "stream",
          "name": "stdout",
          "text": [
            "Epoch [1/50], Train Accuracy: 10.0 %, Loss: 2.3044\n",
            "Epoch [1/50], Learning Rate: 0.0001\n",
            "Epoch [2/50], Train Accuracy: 10.0 %, Loss: 2.3092\n",
            "Epoch [2/50], Learning Rate: 0.00208\n",
            "Epoch [3/50], Train Accuracy: 8.8 %, Loss: 2.3023\n",
            "Epoch [3/50], Learning Rate: 0.00406\n",
            "Epoch [4/50], Train Accuracy: 8.4 %, Loss: 2.3003\n",
            "Epoch [4/50], Learning Rate: 0.00604\n",
            "Epoch [5/50], Train Accuracy: 8.5 %, Loss: 2.3062\n",
            "Epoch [5/50], Learning Rate: 0.00802\n",
            "Epoch [6/50], Train Accuracy: 8.5 %, Loss: 2.3099\n",
            "Epoch [6/50], Learning Rate: 0.01\n",
            "Epoch [7/50], Train Accuracy: 7.7 %, Loss: 2.3182\n",
            "Epoch [7/50], Learning Rate: 0.009990232305719944\n",
            "Epoch [8/50], Train Accuracy: 8.6 %, Loss: 2.3156\n",
            "Epoch [8/50], Learning Rate: 0.009960967771506667\n",
            "Epoch [9/50], Train Accuracy: 7.7 %, Loss: 2.3038\n",
            "Epoch [9/50], Learning Rate: 0.00991232189110701\n",
            "Epoch [10/50], Train Accuracy: 7.7 %, Loss: 2.3079\n",
            "Epoch [10/50], Learning Rate: 0.009844486647586723\n",
            "Epoch [11/50], Train Accuracy: 8.5 %, Loss: 2.3112\n",
            "Epoch [11/50], Learning Rate: 0.009757729755661011\n",
            "Epoch [12/50], Train Accuracy: 10.0 %, Loss: 2.3070\n",
            "Epoch [12/50], Learning Rate: 0.009652393605146845\n",
            "Epoch [13/50], Train Accuracy: 8.8 %, Loss: 2.3068\n",
            "Epoch [13/50], Learning Rate: 0.009528893909706798\n",
            "Epoch [14/50], Train Accuracy: 8.7 %, Loss: 2.3162\n",
            "Epoch [14/50], Learning Rate: 0.009387718066217124\n",
            "Epoch [15/50], Train Accuracy: 9.4 %, Loss: 2.3183\n",
            "Epoch [15/50], Learning Rate: 0.009229423231234974\n",
            "Epoch [16/50], Train Accuracy: 9.1 %, Loss: 2.3170\n",
            "Epoch [16/50], Learning Rate: 0.00905463412215599\n",
            "Epoch [17/50], Train Accuracy: 8.0 %, Loss: 2.3039\n",
            "Epoch [17/50], Learning Rate: 0.008864040551740157\n",
            "Epoch [18/50], Train Accuracy: 8.9 %, Loss: 2.3079\n",
            "Epoch [18/50], Learning Rate: 0.008658394705735987\n",
            "Epoch [19/50], Train Accuracy: 9.2 %, Loss: 2.3016\n",
            "Epoch [19/50], Learning Rate: 0.00843850817434701\n",
            "Epoch [20/50], Train Accuracy: 9.0 %, Loss: 2.3073\n",
            "Epoch [20/50], Learning Rate: 0.008205248749256015\n",
            "Epoch [21/50], Train Accuracy: 8.9 %, Loss: 2.3115\n",
            "Epoch [21/50], Learning Rate: 0.007959536998847744\n",
            "Epoch [22/50], Train Accuracy: 9.3 %, Loss: 2.3044\n",
            "Epoch [22/50], Learning Rate: 0.007702342635146034\n",
            "Epoch [23/50], Train Accuracy: 9.0 %, Loss: 2.3033\n",
            "Epoch [23/50], Learning Rate: 0.007434680686803491\n",
            "Epoch [24/50], Train Accuracy: 8.2 %, Loss: 2.3035\n",
            "Epoch [24/50], Learning Rate: 0.0071576074932471105\n",
            "Epoch [25/50], Train Accuracy: 9.4 %, Loss: 2.3031\n",
            "Epoch [25/50], Learning Rate: 0.006872216535789157\n",
            "Epoch [26/50], Train Accuracy: 7.5 %, Loss: 2.3060\n",
            "Epoch [26/50], Learning Rate: 0.006579634122155991\n",
            "Epoch [27/50], Train Accuracy: 9.1 %, Loss: 2.3110\n",
            "Epoch [27/50], Learning Rate: 0.0062810149414660316\n",
            "Epoch [28/50], Train Accuracy: 9.0 %, Loss: 2.3057\n",
            "Epoch [28/50], Learning Rate: 0.005977537507199339\n",
            "Epoch [29/50], Train Accuracy: 7.9 %, Loss: 2.3085\n",
            "Epoch [29/50], Learning Rate: 0.005670399506143308\n",
            "Epoch [30/50], Train Accuracy: 9.0 %, Loss: 2.3056\n",
            "Epoch [30/50], Learning Rate: 0.005360813071670102\n",
            "Epoch [31/50], Train Accuracy: 9.9 %, Loss: 2.3022\n",
            "Epoch [31/50], Learning Rate: 0.005050000000000001\n",
            "Epoch [32/50], Train Accuracy: 7.9 %, Loss: 2.3055\n",
            "Epoch [32/50], Learning Rate: 0.004739186928329899\n",
            "Epoch [33/50], Train Accuracy: 9.3 %, Loss: 2.3056\n",
            "Epoch [33/50], Learning Rate: 0.004429600493856695\n",
            "Epoch [34/50], Train Accuracy: 8.2 %, Loss: 2.3043\n",
            "Epoch [34/50], Learning Rate: 0.0041224624928006635\n",
            "Epoch [35/50], Train Accuracy: 7.3 %, Loss: 2.3078\n",
            "Epoch [35/50], Learning Rate: 0.0038189850585339685\n",
            "Epoch [36/50], Train Accuracy: 8.5 %, Loss: 2.3066\n",
            "Epoch [36/50], Learning Rate: 0.003520365877844012\n",
            "Epoch [37/50], Train Accuracy: 9.1 %, Loss: 2.3029\n",
            "Epoch [37/50], Learning Rate: 0.0032277834642108457\n",
            "Epoch [38/50], Train Accuracy: 8.8 %, Loss: 2.3047\n",
            "Epoch [38/50], Learning Rate: 0.0029423925067528904\n",
            "Epoch [39/50], Train Accuracy: 7.3 %, Loss: 2.3028\n",
            "Epoch [39/50], Learning Rate: 0.002665319313196509\n",
            "Epoch [40/50], Train Accuracy: 8.5 %, Loss: 2.3072\n",
            "Epoch [40/50], Learning Rate: 0.0023976573648539653\n",
            "Epoch [41/50], Train Accuracy: 7.1 %, Loss: 2.3063\n",
            "Epoch [41/50], Learning Rate: 0.0021404630011522584\n",
            "Epoch [42/50], Train Accuracy: 9.0 %, Loss: 2.3018\n",
            "Epoch [42/50], Learning Rate: 0.001894751250743986\n",
            "Epoch [43/50], Train Accuracy: 8.8 %, Loss: 2.3015\n",
            "Epoch [43/50], Learning Rate: 0.001661491825652991\n",
            "Epoch [44/50], Train Accuracy: 9.3 %, Loss: 2.3031\n",
            "Epoch [44/50], Learning Rate: 0.001441605294264014\n",
            "Epoch [45/50], Train Accuracy: 9.4 %, Loss: 2.3019\n",
            "Epoch [45/50], Learning Rate: 0.001235959448259844\n",
            "Epoch [46/50], Train Accuracy: 7.6 %, Loss: 2.3045\n",
            "Epoch [46/50], Learning Rate: 0.0010453658778440107\n",
            "Epoch [47/50], Train Accuracy: 8.9 %, Loss: 2.3047\n",
            "Epoch [47/50], Learning Rate: 0.0008705767687650265\n",
            "Epoch [48/50], Train Accuracy: 8.2 %, Loss: 2.3020\n",
            "Epoch [48/50], Learning Rate: 0.0007122819337828754\n",
            "Epoch [49/50], Train Accuracy: 8.8 %, Loss: 2.3030\n",
            "Epoch [49/50], Learning Rate: 0.0005711060902932043\n",
            "Epoch [50/50], Train Accuracy: 9.7 %, Loss: 2.3022\n",
            "Epoch [50/50], Learning Rate: 0.00044760639485315584\n"
          ]
        }
      ]
    },
    {
      "cell_type": "code",
      "source": [
        "# モデルの刈り込み率を計算する関数を作成\n",
        "def calculate_pruned_ratio(model):\n",
        "    total_weights = 0\n",
        "    total_pruned_weights = 0\n",
        "\n",
        "    for module in model.modules():\n",
        "        # モジュールがSupermaskConvであるか確認\n",
        "        if isinstance(module, SupermaskConv):\n",
        "            # SupermaskConv層の重みを取得\n",
        "            weight = module.weight.data\n",
        "            # 刈り込みを適用した後の重みを取得\n",
        "            subnet = GetSubnet.apply(module.clamped_scores, 1 - module.prune_rate)\n",
        "            pruned_weight = weight * subnet\n",
        "            # 0である要素数を計算\n",
        "            pruned_weights_count = (pruned_weight == 0).sum().item()\n",
        "            total_pruned_weights += pruned_weights_count\n",
        "            # 重みの全要素数を計算\n",
        "            total_weights_count = pruned_weight.numel()\n",
        "            total_weights += total_weights_count\n",
        "\n",
        "    # 刈り込みが行われた割合を計算\n",
        "    pruned_ratio = total_pruned_weights / total_weights\n",
        "    return print(f\"刈り込み率は{pruned_ratio:.3f}です\")\n",
        "\n",
        "# モデルの刈り込み率を確認\n",
        "calculate_pruned_ratio(model)"
      ],
      "metadata": {
        "id": "etp2AT1Rbptm",
        "colab": {
          "base_uri": "https://localhost:8080/"
        },
        "outputId": "702e73c3-f4eb-4676-96fb-711e3f1ae25a"
      },
      "execution_count": 17,
      "outputs": [
        {
          "output_type": "stream",
          "name": "stdout",
          "text": [
            "刈り込み率は0.999です\n"
          ]
        }
      ]
    },
    {
      "cell_type": "code",
      "source": [
        "# 学習前後のモデルのスコアを比較する関数を作成\n",
        "def check_scores_change(model, model_init):\n",
        "    # 各モデルの名前付きモジュールを順に調べる\n",
        "    for (name, module), (name_init, module_init) in zip(model.named_modules(), model_init.named_modules()):\n",
        "        # 両モジュールがConv2dのインスタンスであるかを確認\n",
        "        if isinstance(module, torch.nn.Conv2d) and isinstance(module_init, torch.nn.Conv2d):\n",
        "            # 両モジュールが'scores'属性を持っているかを確認\n",
        "            if hasattr(module, 'scores') and hasattr(module_init, 'scores'):\n",
        "                # 両モジュールの'scores'属性が一致しているかを確認\n",
        "                # 一致していない場合、変更があったことを示すメッセージを出力\n",
        "                if not torch.equal(module.scores, module_init.scores):\n",
        "                    print(f'{name}のスコアが変化しています')\n",
        "                    return\n",
        "    # すべてのconv層で'scores'が変更されていない場合、その旨を出力\n",
        "    print('すべてのスコアは変化していません')\n",
        "\n",
        "# 学習前後でモデルのスコアが変化していないかを確認\n",
        "check_scores_change(model, model_init)"
      ],
      "metadata": {
        "id": "5a7OBC3PdrKz",
        "colab": {
          "base_uri": "https://localhost:8080/"
        },
        "outputId": "68dc574d-0efb-4759-9854-3b94019c194a"
      },
      "execution_count": 18,
      "outputs": [
        {
          "output_type": "stream",
          "name": "stdout",
          "text": [
            "すべてのスコアは変化していません\n"
          ]
        }
      ]
    },
    {
      "cell_type": "code",
      "source": [
        "# 学習前後のモデルの最終層以外の重みを比較する関数を作成\n",
        "def check_weight_change_except_last(model, model_init):\n",
        "    for (name, param), (name_init, param_init) in zip(model.named_parameters(), model_init.named_parameters()):\n",
        "        # 最終層を除く\n",
        "        if name != 'fc.weight' and name != 'fc.bias':\n",
        "            weights_changed = (param.data != param_init.data).any()\n",
        "            if weights_changed:\n",
        "                return print('最終層以外の重みが変化しています')\n",
        "    return print('最終層以外の重みは変化していません')\n",
        "\n",
        "# 学習前後でモデルの最終層以外の重みが変化していないかを確認\n",
        "check_weight_change_except_last(model, model_init)"
      ],
      "metadata": {
        "id": "mbnhyD8vDdWO",
        "colab": {
          "base_uri": "https://localhost:8080/"
        },
        "outputId": "556c484c-41dc-4306-8203-33cf0ef40b99"
      },
      "execution_count": 19,
      "outputs": [
        {
          "output_type": "stream",
          "name": "stdout",
          "text": [
            "最終層以外の重みは変化していません\n"
          ]
        }
      ]
    },
    {
      "cell_type": "code",
      "source": [
        "# モデルの評価\n",
        "model.eval()\n",
        "with torch.no_grad():\n",
        "    total = 0\n",
        "    correct = 0\n",
        "    for images, labels in test_loader_handsigns:\n",
        "        images = images.to(device)\n",
        "        labels = labels.to(device)\n",
        "        outputs = model(images)\n",
        "        _, predicted = torch.max(outputs.data, 1)\n",
        "        total += labels.size(0)\n",
        "        correct += (predicted == labels).sum().item()\n",
        "    # 正解率精度の確認\n",
        "    print('Test Accuracy: {} %'.format(100 * correct / total))"
      ],
      "metadata": {
        "id": "VPS2IC-WEb5R",
        "colab": {
          "base_uri": "https://localhost:8080/"
        },
        "outputId": "b42b320f-7ee1-4abf-fb01-282fd3db6f51"
      },
      "execution_count": 20,
      "outputs": [
        {
          "output_type": "stream",
          "name": "stdout",
          "text": [
            "Test Accuracy: 10.0 %\n"
          ]
        }
      ]
    },
    {
      "cell_type": "code",
      "source": [
        "# GPUメモリの解放\n",
        "del model, model_init\n",
        "torch.cuda.empty_cache()"
      ],
      "metadata": {
        "id": "NKfkZTN0Eb5R"
      },
      "execution_count": 21,
      "outputs": []
    },
    {
      "cell_type": "markdown",
      "source": [
        "### prune_rate=0.995"
      ],
      "metadata": {
        "id": "NqbMSuRrpjNv"
      }
    },
    {
      "cell_type": "code",
      "source": [
        "# デバイスを設定\n",
        "device = torch.device('cuda' if torch.cuda.is_available() else 'cpu')\n",
        "# モデルを定義\n",
        "model = torch.load('/content/drive/MyDrive/SupermaskWideResNet28_10_CIFAR10_100epochs_pr0.995_uniform_CLRS_restest.pth')\n",
        "# 最終層を変更\n",
        "model.fc = nn.Linear(model.fc.in_features, 10)\n",
        "# 最終層以外のパラメータの勾配計算を停止\n",
        "for param in model.parameters():\n",
        "    param.requires_grad = False\n",
        "# 最終層のパラメータのみを学習するように設定\n",
        "for param in model.fc.parameters():\n",
        "    param.requires_grad = True\n",
        "# モデルをデバイスに転送\n",
        "model = model.to(device)\n",
        "# 変更後のモデルの重みを保存\n",
        "model_init = copy.deepcopy(model)\n",
        "\n",
        "# 学習率を設定\n",
        "learning_rate = 0.01\n",
        "# 全体のepoch数を設定\n",
        "num_epochs = 50\n",
        "# warm-upするepoch数を設定\n",
        "warmup_epochs = 5\n",
        "\n",
        "# 損失関数を定義\n",
        "criterion = nn.CrossEntropyLoss()\n",
        "# オプティマイザーを設定\n",
        "optimizer = optim.Adam(model.fc.parameters(), lr=learning_rate)\n",
        "# スケジューラーを設定\n",
        "scheduler = CosineLRScheduler(optimizer, t_initial=num_epochs, lr_min=1e-4, warmup_t=warmup_epochs, warmup_lr_init=1e-4, warmup_prefix=True)\n",
        "\n",
        "# モデルの学習\n",
        "for epoch in range(num_epochs):\n",
        "    total = 0\n",
        "    correct = 0\n",
        "    for i, (images, labels) in enumerate(train_loader_handsigns):\n",
        "        images = images.to(device)\n",
        "        labels = labels.to(device)\n",
        "        # 順伝播\n",
        "        outputs = model(images)\n",
        "        loss = criterion(outputs, labels)\n",
        "        # 逆伝播\n",
        "        optimizer.zero_grad()\n",
        "        loss.backward()\n",
        "        optimizer.step()\n",
        "        _, predicted = torch.max(outputs.data, 1)\n",
        "        # 全データ数\n",
        "        total += labels.size(0)\n",
        "        # 正解数\n",
        "        correct += (predicted == labels).sum().item()\n",
        "    # 正解率精度を計算\n",
        "    train_acc = 100 * correct / total\n",
        "    # 正解率精度と損失を確認\n",
        "    print(\"Epoch [{}/{}], Train Accuracy: {} %, Loss: {:.4f}\".format(epoch+1, num_epochs, 100 * correct / total, loss.item()))\n",
        "    # 1エポック終了後にスケジューラーを更新\n",
        "    scheduler.step(epoch)\n",
        "    # 学習率の確認\n",
        "    print(\"Epoch [{}/{}], Learning Rate: {}\".format(epoch+1, num_epochs, optimizer.param_groups[0]['lr']))\n",
        "\n",
        "\n",
        "# モデルを保存\n",
        "torch.save(model, '/content/drive/MyDrive/SupermaskWideResNet28_10_HandSigns_from_CIFAR10_100epochs_pr0.995_uniform_50epochs_lr0.01_CLRS_restest.pth')"
      ],
      "metadata": {
        "id": "MkGq7iD0pjN8",
        "colab": {
          "base_uri": "https://localhost:8080/"
        },
        "outputId": "864045b8-7293-49f4-a61a-2a111f421ed3"
      },
      "execution_count": 22,
      "outputs": [
        {
          "output_type": "stream",
          "name": "stdout",
          "text": [
            "Epoch [1/50], Train Accuracy: 13.2 %, Loss: 2.2258\n",
            "Epoch [1/50], Learning Rate: 0.0001\n",
            "Epoch [2/50], Train Accuracy: 22.3 %, Loss: 2.2180\n",
            "Epoch [2/50], Learning Rate: 0.00208\n",
            "Epoch [3/50], Train Accuracy: 25.6 %, Loss: 1.8660\n",
            "Epoch [3/50], Learning Rate: 0.00406\n",
            "Epoch [4/50], Train Accuracy: 35.4 %, Loss: 1.6120\n",
            "Epoch [4/50], Learning Rate: 0.00604\n",
            "Epoch [5/50], Train Accuracy: 36.9 %, Loss: 2.3472\n",
            "Epoch [5/50], Learning Rate: 0.00802\n",
            "Epoch [6/50], Train Accuracy: 39.9 %, Loss: 1.6390\n",
            "Epoch [6/50], Learning Rate: 0.01\n",
            "Epoch [7/50], Train Accuracy: 47.9 %, Loss: 1.9894\n",
            "Epoch [7/50], Learning Rate: 0.009990232305719944\n",
            "Epoch [8/50], Train Accuracy: 47.7 %, Loss: 1.5497\n",
            "Epoch [8/50], Learning Rate: 0.009960967771506667\n",
            "Epoch [9/50], Train Accuracy: 49.1 %, Loss: 1.0380\n",
            "Epoch [9/50], Learning Rate: 0.00991232189110701\n",
            "Epoch [10/50], Train Accuracy: 53.7 %, Loss: 2.0017\n",
            "Epoch [10/50], Learning Rate: 0.009844486647586723\n",
            "Epoch [11/50], Train Accuracy: 50.6 %, Loss: 2.1385\n",
            "Epoch [11/50], Learning Rate: 0.009757729755661011\n",
            "Epoch [12/50], Train Accuracy: 50.6 %, Loss: 2.1257\n",
            "Epoch [12/50], Learning Rate: 0.009652393605146845\n",
            "Epoch [13/50], Train Accuracy: 50.2 %, Loss: 2.6562\n",
            "Epoch [13/50], Learning Rate: 0.009528893909706798\n",
            "Epoch [14/50], Train Accuracy: 54.0 %, Loss: 1.6303\n",
            "Epoch [14/50], Learning Rate: 0.009387718066217124\n",
            "Epoch [15/50], Train Accuracy: 60.8 %, Loss: 2.4077\n",
            "Epoch [15/50], Learning Rate: 0.009229423231234974\n",
            "Epoch [16/50], Train Accuracy: 54.4 %, Loss: 1.0714\n",
            "Epoch [16/50], Learning Rate: 0.00905463412215599\n",
            "Epoch [17/50], Train Accuracy: 56.5 %, Loss: 1.6578\n",
            "Epoch [17/50], Learning Rate: 0.008864040551740157\n",
            "Epoch [18/50], Train Accuracy: 56.4 %, Loss: 2.4601\n",
            "Epoch [18/50], Learning Rate: 0.008658394705735987\n",
            "Epoch [19/50], Train Accuracy: 58.2 %, Loss: 2.5279\n",
            "Epoch [19/50], Learning Rate: 0.00843850817434701\n",
            "Epoch [20/50], Train Accuracy: 59.4 %, Loss: 1.8102\n",
            "Epoch [20/50], Learning Rate: 0.008205248749256015\n",
            "Epoch [21/50], Train Accuracy: 58.7 %, Loss: 2.2157\n",
            "Epoch [21/50], Learning Rate: 0.007959536998847744\n",
            "Epoch [22/50], Train Accuracy: 62.4 %, Loss: 0.9509\n",
            "Epoch [22/50], Learning Rate: 0.007702342635146034\n",
            "Epoch [23/50], Train Accuracy: 60.5 %, Loss: 0.8134\n",
            "Epoch [23/50], Learning Rate: 0.007434680686803491\n",
            "Epoch [24/50], Train Accuracy: 62.6 %, Loss: 0.5948\n",
            "Epoch [24/50], Learning Rate: 0.0071576074932471105\n",
            "Epoch [25/50], Train Accuracy: 62.6 %, Loss: 0.9966\n",
            "Epoch [25/50], Learning Rate: 0.006872216535789157\n",
            "Epoch [26/50], Train Accuracy: 62.8 %, Loss: 1.8495\n",
            "Epoch [26/50], Learning Rate: 0.006579634122155991\n",
            "Epoch [27/50], Train Accuracy: 66.4 %, Loss: 0.8992\n",
            "Epoch [27/50], Learning Rate: 0.0062810149414660316\n",
            "Epoch [28/50], Train Accuracy: 61.7 %, Loss: 1.5906\n",
            "Epoch [28/50], Learning Rate: 0.005977537507199339\n",
            "Epoch [29/50], Train Accuracy: 65.5 %, Loss: 0.4499\n",
            "Epoch [29/50], Learning Rate: 0.005670399506143308\n",
            "Epoch [30/50], Train Accuracy: 64.9 %, Loss: 1.5339\n",
            "Epoch [30/50], Learning Rate: 0.005360813071670102\n",
            "Epoch [31/50], Train Accuracy: 64.6 %, Loss: 1.0895\n",
            "Epoch [31/50], Learning Rate: 0.005050000000000001\n",
            "Epoch [32/50], Train Accuracy: 65.7 %, Loss: 1.5052\n",
            "Epoch [32/50], Learning Rate: 0.004739186928329899\n",
            "Epoch [33/50], Train Accuracy: 67.0 %, Loss: 1.5036\n",
            "Epoch [33/50], Learning Rate: 0.004429600493856695\n",
            "Epoch [34/50], Train Accuracy: 65.3 %, Loss: 1.9572\n",
            "Epoch [34/50], Learning Rate: 0.0041224624928006635\n",
            "Epoch [35/50], Train Accuracy: 67.4 %, Loss: 0.5364\n",
            "Epoch [35/50], Learning Rate: 0.0038189850585339685\n",
            "Epoch [36/50], Train Accuracy: 68.3 %, Loss: 0.6347\n",
            "Epoch [36/50], Learning Rate: 0.003520365877844012\n",
            "Epoch [37/50], Train Accuracy: 67.0 %, Loss: 1.1405\n",
            "Epoch [37/50], Learning Rate: 0.0032277834642108457\n",
            "Epoch [38/50], Train Accuracy: 68.6 %, Loss: 2.1829\n",
            "Epoch [38/50], Learning Rate: 0.0029423925067528904\n",
            "Epoch [39/50], Train Accuracy: 70.5 %, Loss: 1.2864\n",
            "Epoch [39/50], Learning Rate: 0.002665319313196509\n",
            "Epoch [40/50], Train Accuracy: 68.9 %, Loss: 0.8561\n",
            "Epoch [40/50], Learning Rate: 0.0023976573648539653\n",
            "Epoch [41/50], Train Accuracy: 68.8 %, Loss: 0.8840\n",
            "Epoch [41/50], Learning Rate: 0.0021404630011522584\n",
            "Epoch [42/50], Train Accuracy: 69.5 %, Loss: 0.7235\n",
            "Epoch [42/50], Learning Rate: 0.001894751250743986\n",
            "Epoch [43/50], Train Accuracy: 71.2 %, Loss: 1.1755\n",
            "Epoch [43/50], Learning Rate: 0.001661491825652991\n",
            "Epoch [44/50], Train Accuracy: 72.6 %, Loss: 0.8902\n",
            "Epoch [44/50], Learning Rate: 0.001441605294264014\n",
            "Epoch [45/50], Train Accuracy: 73.1 %, Loss: 0.9609\n",
            "Epoch [45/50], Learning Rate: 0.001235959448259844\n",
            "Epoch [46/50], Train Accuracy: 71.4 %, Loss: 1.3444\n",
            "Epoch [46/50], Learning Rate: 0.0010453658778440107\n",
            "Epoch [47/50], Train Accuracy: 71.7 %, Loss: 1.8051\n",
            "Epoch [47/50], Learning Rate: 0.0008705767687650265\n",
            "Epoch [48/50], Train Accuracy: 72.6 %, Loss: 0.7365\n",
            "Epoch [48/50], Learning Rate: 0.0007122819337828754\n",
            "Epoch [49/50], Train Accuracy: 73.1 %, Loss: 1.5224\n",
            "Epoch [49/50], Learning Rate: 0.0005711060902932043\n",
            "Epoch [50/50], Train Accuracy: 72.5 %, Loss: 0.7536\n",
            "Epoch [50/50], Learning Rate: 0.00044760639485315584\n"
          ]
        }
      ]
    },
    {
      "cell_type": "code",
      "source": [
        "# モデルの刈り込み率を計算する関数を作成\n",
        "def calculate_pruned_ratio(model):\n",
        "    total_weights = 0\n",
        "    total_pruned_weights = 0\n",
        "\n",
        "    for module in model.modules():\n",
        "        # モジュールがSupermaskConvであるか確認\n",
        "        if isinstance(module, SupermaskConv):\n",
        "            # SupermaskConv層の重みを取得\n",
        "            weight = module.weight.data\n",
        "            # 刈り込みを適用した後の重みを取得\n",
        "            subnet = GetSubnet.apply(module.clamped_scores, 1 - module.prune_rate)\n",
        "            pruned_weight = weight * subnet\n",
        "            # 0である要素数を計算\n",
        "            pruned_weights_count = (pruned_weight == 0).sum().item()\n",
        "            total_pruned_weights += pruned_weights_count\n",
        "            # 重みの全要素数を計算\n",
        "            total_weights_count = pruned_weight.numel()\n",
        "            total_weights += total_weights_count\n",
        "\n",
        "    # 刈り込みが行われた割合を計算\n",
        "    pruned_ratio = total_pruned_weights / total_weights\n",
        "    return print(f\"刈り込み率は{pruned_ratio:.3f}です\")\n",
        "\n",
        "# モデルの刈り込み率を確認\n",
        "calculate_pruned_ratio(model)"
      ],
      "metadata": {
        "id": "jg3iGXzRpjN9",
        "colab": {
          "base_uri": "https://localhost:8080/"
        },
        "outputId": "682b5f56-0dc5-4c3c-b84a-6fcf03cab48d"
      },
      "execution_count": 23,
      "outputs": [
        {
          "output_type": "stream",
          "name": "stdout",
          "text": [
            "刈り込み率は0.995です\n"
          ]
        }
      ]
    },
    {
      "cell_type": "code",
      "source": [
        "# 学習前後のモデルのスコアを比較する関数を作成\n",
        "def check_scores_change(model, model_init):\n",
        "    # 各モデルの名前付きモジュールを順に調べる\n",
        "    for (name, module), (name_init, module_init) in zip(model.named_modules(), model_init.named_modules()):\n",
        "        # 両モジュールがConv2dのインスタンスであるかを確認\n",
        "        if isinstance(module, torch.nn.Conv2d) and isinstance(module_init, torch.nn.Conv2d):\n",
        "            # 両モジュールが'scores'属性を持っているかを確認\n",
        "            if hasattr(module, 'scores') and hasattr(module_init, 'scores'):\n",
        "                # 両モジュールの'scores'属性が一致しているかを確認\n",
        "                # 一致していない場合、変更があったことを示すメッセージを出力\n",
        "                if not torch.equal(module.scores, module_init.scores):\n",
        "                    print(f'{name}のスコアが変化しています')\n",
        "                    return\n",
        "    # すべてのconv層で'scores'が変更されていない場合、その旨を出力\n",
        "    print('すべてのスコアは変化していません')\n",
        "\n",
        "# 学習前後でモデルのスコアが変化していないかを確認\n",
        "check_scores_change(model, model_init)"
      ],
      "metadata": {
        "id": "7M8dj_pcpjN9",
        "colab": {
          "base_uri": "https://localhost:8080/"
        },
        "outputId": "22d3897f-3039-4483-e915-26ff3de135f3"
      },
      "execution_count": 24,
      "outputs": [
        {
          "output_type": "stream",
          "name": "stdout",
          "text": [
            "すべてのスコアは変化していません\n"
          ]
        }
      ]
    },
    {
      "cell_type": "code",
      "source": [
        "# 学習前後のモデルの最終層以外の重みを比較する関数を作成\n",
        "def check_weight_change_except_last(model, model_init):\n",
        "    for (name, param), (name_init, param_init) in zip(model.named_parameters(), model_init.named_parameters()):\n",
        "        # 最終層を除く\n",
        "        if name != 'fc.weight' and name != 'fc.bias':\n",
        "            weights_changed = (param.data != param_init.data).any()\n",
        "            if weights_changed:\n",
        "                return print('最終層以外の重みが変化しています')\n",
        "    return print('最終層以外の重みは変化していません')\n",
        "\n",
        "# 学習前後でモデルの最終層以外の重みが変化していないかを確認\n",
        "check_weight_change_except_last(model, model_init)"
      ],
      "metadata": {
        "id": "brxdcBfIpjN9",
        "colab": {
          "base_uri": "https://localhost:8080/"
        },
        "outputId": "0fe72615-6f0e-4cb6-b19d-2d7868674d58"
      },
      "execution_count": 25,
      "outputs": [
        {
          "output_type": "stream",
          "name": "stdout",
          "text": [
            "最終層以外の重みは変化していません\n"
          ]
        }
      ]
    },
    {
      "cell_type": "code",
      "source": [
        "# モデルの評価\n",
        "model.eval()\n",
        "with torch.no_grad():\n",
        "    total = 0\n",
        "    correct = 0\n",
        "    for images, labels in test_loader_handsigns:\n",
        "        images = images.to(device)\n",
        "        labels = labels.to(device)\n",
        "        outputs = model(images)\n",
        "        _, predicted = torch.max(outputs.data, 1)\n",
        "        total += labels.size(0)\n",
        "        correct += (predicted == labels).sum().item()\n",
        "    # 正解率精度の確認\n",
        "    print('Test Accuracy: {} %'.format(100 * correct / total))"
      ],
      "metadata": {
        "id": "ZVfoVbqrpjN9",
        "colab": {
          "base_uri": "https://localhost:8080/"
        },
        "outputId": "dc4e50a7-e873-400f-f899-84726148d750"
      },
      "execution_count": 26,
      "outputs": [
        {
          "output_type": "stream",
          "name": "stdout",
          "text": [
            "Test Accuracy: 82.0 %\n"
          ]
        }
      ]
    },
    {
      "cell_type": "code",
      "source": [
        "# GPUメモリの解放\n",
        "del model, model_init\n",
        "torch.cuda.empty_cache()"
      ],
      "metadata": {
        "id": "GoQgBKvNpjN9"
      },
      "execution_count": 27,
      "outputs": []
    },
    {
      "cell_type": "markdown",
      "source": [
        "### prune_rate=0.99"
      ],
      "metadata": {
        "id": "lRIgIz-4pzit"
      }
    },
    {
      "cell_type": "code",
      "source": [
        "# デバイスを設定\n",
        "device = torch.device('cuda' if torch.cuda.is_available() else 'cpu')\n",
        "# モデルを定義\n",
        "model = torch.load('/content/drive/MyDrive/SupermaskWideResNet28_10_CIFAR10_100epochs_pr0.99_uniform_CLRS_restest.pth')\n",
        "# 最終層を変更\n",
        "model.fc = nn.Linear(model.fc.in_features, 10)\n",
        "# 最終層以外のパラメータの勾配計算を停止\n",
        "for param in model.parameters():\n",
        "    param.requires_grad = False\n",
        "# 最終層のパラメータのみを学習するように設定\n",
        "for param in model.fc.parameters():\n",
        "    param.requires_grad = True\n",
        "# モデルをデバイスに転送\n",
        "model = model.to(device)\n",
        "# 変更後のモデルの重みを保存\n",
        "model_init = copy.deepcopy(model)\n",
        "\n",
        "# 学習率を設定\n",
        "learning_rate = 0.01\n",
        "# 全体のepoch数を設定\n",
        "num_epochs = 50\n",
        "# warm-upするepoch数を設定\n",
        "warmup_epochs = 5\n",
        "\n",
        "# 損失関数を定義\n",
        "criterion = nn.CrossEntropyLoss()\n",
        "# オプティマイザーを設定\n",
        "optimizer = optim.Adam(model.fc.parameters(), lr=learning_rate)\n",
        "# スケジューラーを設定\n",
        "scheduler = CosineLRScheduler(optimizer, t_initial=num_epochs, lr_min=1e-4, warmup_t=warmup_epochs, warmup_lr_init=1e-4, warmup_prefix=True)\n",
        "\n",
        "# モデルの学習\n",
        "for epoch in range(num_epochs):\n",
        "    total = 0\n",
        "    correct = 0\n",
        "    for i, (images, labels) in enumerate(train_loader_handsigns):\n",
        "        images = images.to(device)\n",
        "        labels = labels.to(device)\n",
        "        # 順伝播\n",
        "        outputs = model(images)\n",
        "        loss = criterion(outputs, labels)\n",
        "        # 逆伝播\n",
        "        optimizer.zero_grad()\n",
        "        loss.backward()\n",
        "        optimizer.step()\n",
        "        _, predicted = torch.max(outputs.data, 1)\n",
        "        # 全データ数\n",
        "        total += labels.size(0)\n",
        "        # 正解数\n",
        "        correct += (predicted == labels).sum().item()\n",
        "    # 正解率精度を計算\n",
        "    train_acc = 100 * correct / total\n",
        "    # 正解率精度と損失を確認\n",
        "    print(\"Epoch [{}/{}], Train Accuracy: {} %, Loss: {:.4f}\".format(epoch+1, num_epochs, 100 * correct / total, loss.item()))\n",
        "    # 1エポック終了後にスケジューラーを更新\n",
        "    scheduler.step(epoch)\n",
        "    # 学習率の確認\n",
        "    print(\"Epoch [{}/{}], Learning Rate: {}\".format(epoch+1, num_epochs, optimizer.param_groups[0]['lr']))\n",
        "\n",
        "\n",
        "# モデルを保存\n",
        "torch.save(model, '/content/drive/MyDrive/SupermaskWideResNet28_10_HandSigns_from_CIFAR10_100epochs_pr0.99_uniform_50epochs_lr0.01_CLRS_restest.pth')"
      ],
      "metadata": {
        "id": "TU8wv-8hpzit",
        "colab": {
          "base_uri": "https://localhost:8080/"
        },
        "outputId": "ae02bcf8-3dcc-4023-da86-845229c87171"
      },
      "execution_count": 28,
      "outputs": [
        {
          "output_type": "stream",
          "name": "stdout",
          "text": [
            "Epoch [1/50], Train Accuracy: 14.7 %, Loss: 2.3057\n",
            "Epoch [1/50], Learning Rate: 0.0001\n",
            "Epoch [2/50], Train Accuracy: 17.8 %, Loss: 2.2054\n",
            "Epoch [2/50], Learning Rate: 0.00208\n",
            "Epoch [3/50], Train Accuracy: 27.5 %, Loss: 1.6848\n",
            "Epoch [3/50], Learning Rate: 0.00406\n",
            "Epoch [4/50], Train Accuracy: 36.4 %, Loss: 1.8044\n",
            "Epoch [4/50], Learning Rate: 0.00604\n",
            "Epoch [5/50], Train Accuracy: 42.6 %, Loss: 1.5004\n",
            "Epoch [5/50], Learning Rate: 0.00802\n",
            "Epoch [6/50], Train Accuracy: 45.2 %, Loss: 0.6858\n",
            "Epoch [6/50], Learning Rate: 0.01\n",
            "Epoch [7/50], Train Accuracy: 41.7 %, Loss: 1.3652\n",
            "Epoch [7/50], Learning Rate: 0.009990232305719944\n",
            "Epoch [8/50], Train Accuracy: 46.9 %, Loss: 2.9982\n",
            "Epoch [8/50], Learning Rate: 0.009960967771506667\n",
            "Epoch [9/50], Train Accuracy: 48.4 %, Loss: 2.2038\n",
            "Epoch [9/50], Learning Rate: 0.00991232189110701\n",
            "Epoch [10/50], Train Accuracy: 47.3 %, Loss: 1.7571\n",
            "Epoch [10/50], Learning Rate: 0.009844486647586723\n",
            "Epoch [11/50], Train Accuracy: 51.9 %, Loss: 2.4149\n",
            "Epoch [11/50], Learning Rate: 0.009757729755661011\n",
            "Epoch [12/50], Train Accuracy: 52.0 %, Loss: 1.1272\n",
            "Epoch [12/50], Learning Rate: 0.009652393605146845\n",
            "Epoch [13/50], Train Accuracy: 54.7 %, Loss: 1.5114\n",
            "Epoch [13/50], Learning Rate: 0.009528893909706798\n",
            "Epoch [14/50], Train Accuracy: 58.4 %, Loss: 1.4244\n",
            "Epoch [14/50], Learning Rate: 0.009387718066217124\n",
            "Epoch [15/50], Train Accuracy: 56.9 %, Loss: 2.6272\n",
            "Epoch [15/50], Learning Rate: 0.009229423231234974\n",
            "Epoch [16/50], Train Accuracy: 57.1 %, Loss: 1.2478\n",
            "Epoch [16/50], Learning Rate: 0.00905463412215599\n",
            "Epoch [17/50], Train Accuracy: 55.6 %, Loss: 1.4824\n",
            "Epoch [17/50], Learning Rate: 0.008864040551740157\n",
            "Epoch [18/50], Train Accuracy: 57.8 %, Loss: 1.6835\n",
            "Epoch [18/50], Learning Rate: 0.008658394705735987\n",
            "Epoch [19/50], Train Accuracy: 60.2 %, Loss: 1.3472\n",
            "Epoch [19/50], Learning Rate: 0.00843850817434701\n",
            "Epoch [20/50], Train Accuracy: 59.0 %, Loss: 1.9534\n",
            "Epoch [20/50], Learning Rate: 0.008205248749256015\n",
            "Epoch [21/50], Train Accuracy: 59.3 %, Loss: 1.6519\n",
            "Epoch [21/50], Learning Rate: 0.007959536998847744\n",
            "Epoch [22/50], Train Accuracy: 63.1 %, Loss: 1.3813\n",
            "Epoch [22/50], Learning Rate: 0.007702342635146034\n",
            "Epoch [23/50], Train Accuracy: 63.8 %, Loss: 1.0353\n",
            "Epoch [23/50], Learning Rate: 0.007434680686803491\n",
            "Epoch [24/50], Train Accuracy: 60.8 %, Loss: 1.0686\n",
            "Epoch [24/50], Learning Rate: 0.0071576074932471105\n",
            "Epoch [25/50], Train Accuracy: 64.4 %, Loss: 1.3272\n",
            "Epoch [25/50], Learning Rate: 0.006872216535789157\n",
            "Epoch [26/50], Train Accuracy: 62.4 %, Loss: 1.7004\n",
            "Epoch [26/50], Learning Rate: 0.006579634122155991\n",
            "Epoch [27/50], Train Accuracy: 68.5 %, Loss: 1.0541\n",
            "Epoch [27/50], Learning Rate: 0.0062810149414660316\n",
            "Epoch [28/50], Train Accuracy: 69.0 %, Loss: 1.0561\n",
            "Epoch [28/50], Learning Rate: 0.005977537507199339\n",
            "Epoch [29/50], Train Accuracy: 65.7 %, Loss: 1.2845\n",
            "Epoch [29/50], Learning Rate: 0.005670399506143308\n",
            "Epoch [30/50], Train Accuracy: 65.4 %, Loss: 1.7771\n",
            "Epoch [30/50], Learning Rate: 0.005360813071670102\n",
            "Epoch [31/50], Train Accuracy: 67.1 %, Loss: 0.9160\n",
            "Epoch [31/50], Learning Rate: 0.005050000000000001\n",
            "Epoch [32/50], Train Accuracy: 67.4 %, Loss: 0.6810\n",
            "Epoch [32/50], Learning Rate: 0.004739186928329899\n",
            "Epoch [33/50], Train Accuracy: 69.1 %, Loss: 1.3428\n",
            "Epoch [33/50], Learning Rate: 0.004429600493856695\n",
            "Epoch [34/50], Train Accuracy: 69.4 %, Loss: 0.9263\n",
            "Epoch [34/50], Learning Rate: 0.0041224624928006635\n",
            "Epoch [35/50], Train Accuracy: 68.9 %, Loss: 0.7933\n",
            "Epoch [35/50], Learning Rate: 0.0038189850585339685\n",
            "Epoch [36/50], Train Accuracy: 69.3 %, Loss: 0.8966\n",
            "Epoch [36/50], Learning Rate: 0.003520365877844012\n",
            "Epoch [37/50], Train Accuracy: 68.3 %, Loss: 0.6220\n",
            "Epoch [37/50], Learning Rate: 0.0032277834642108457\n",
            "Epoch [38/50], Train Accuracy: 73.3 %, Loss: 1.7121\n",
            "Epoch [38/50], Learning Rate: 0.0029423925067528904\n",
            "Epoch [39/50], Train Accuracy: 73.0 %, Loss: 1.0515\n",
            "Epoch [39/50], Learning Rate: 0.002665319313196509\n",
            "Epoch [40/50], Train Accuracy: 71.4 %, Loss: 1.6083\n",
            "Epoch [40/50], Learning Rate: 0.0023976573648539653\n",
            "Epoch [41/50], Train Accuracy: 72.0 %, Loss: 1.8871\n",
            "Epoch [41/50], Learning Rate: 0.0021404630011522584\n",
            "Epoch [42/50], Train Accuracy: 69.3 %, Loss: 1.2595\n",
            "Epoch [42/50], Learning Rate: 0.001894751250743986\n",
            "Epoch [43/50], Train Accuracy: 72.5 %, Loss: 1.5427\n",
            "Epoch [43/50], Learning Rate: 0.001661491825652991\n",
            "Epoch [44/50], Train Accuracy: 70.2 %, Loss: 1.1581\n",
            "Epoch [44/50], Learning Rate: 0.001441605294264014\n",
            "Epoch [45/50], Train Accuracy: 72.8 %, Loss: 1.1367\n",
            "Epoch [45/50], Learning Rate: 0.001235959448259844\n",
            "Epoch [46/50], Train Accuracy: 75.2 %, Loss: 1.0410\n",
            "Epoch [46/50], Learning Rate: 0.0010453658778440107\n",
            "Epoch [47/50], Train Accuracy: 73.7 %, Loss: 0.5356\n",
            "Epoch [47/50], Learning Rate: 0.0008705767687650265\n",
            "Epoch [48/50], Train Accuracy: 73.6 %, Loss: 0.7138\n",
            "Epoch [48/50], Learning Rate: 0.0007122819337828754\n",
            "Epoch [49/50], Train Accuracy: 74.7 %, Loss: 0.8868\n",
            "Epoch [49/50], Learning Rate: 0.0005711060902932043\n",
            "Epoch [50/50], Train Accuracy: 71.6 %, Loss: 0.6685\n",
            "Epoch [50/50], Learning Rate: 0.00044760639485315584\n"
          ]
        }
      ]
    },
    {
      "cell_type": "code",
      "source": [
        "# モデルの刈り込み率を計算する関数を作成\n",
        "def calculate_pruned_ratio(model):\n",
        "    total_weights = 0\n",
        "    total_pruned_weights = 0\n",
        "\n",
        "    for module in model.modules():\n",
        "        # モジュールがSupermaskConvであるか確認\n",
        "        if isinstance(module, SupermaskConv):\n",
        "            # SupermaskConv層の重みを取得\n",
        "            weight = module.weight.data\n",
        "            # 刈り込みを適用した後の重みを取得\n",
        "            subnet = GetSubnet.apply(module.clamped_scores, 1 - module.prune_rate)\n",
        "            pruned_weight = weight * subnet\n",
        "            # 0である要素数を計算\n",
        "            pruned_weights_count = (pruned_weight == 0).sum().item()\n",
        "            total_pruned_weights += pruned_weights_count\n",
        "            # 重みの全要素数を計算\n",
        "            total_weights_count = pruned_weight.numel()\n",
        "            total_weights += total_weights_count\n",
        "\n",
        "    # 刈り込みが行われた割合を計算\n",
        "    pruned_ratio = total_pruned_weights / total_weights\n",
        "    return print(f\"刈り込み率は{pruned_ratio:.3f}です\")\n",
        "\n",
        "# モデルの刈り込み率を確認\n",
        "calculate_pruned_ratio(model)"
      ],
      "metadata": {
        "id": "v-An9AWNpziu",
        "colab": {
          "base_uri": "https://localhost:8080/"
        },
        "outputId": "c458d394-0cc8-4fcd-cbfa-41ddee521cc0"
      },
      "execution_count": 29,
      "outputs": [
        {
          "output_type": "stream",
          "name": "stdout",
          "text": [
            "刈り込み率は0.990です\n"
          ]
        }
      ]
    },
    {
      "cell_type": "code",
      "source": [
        "# 学習前後のモデルのスコアを比較する関数を作成\n",
        "def check_scores_change(model, model_init):\n",
        "    # 各モデルの名前付きモジュールを順に調べる\n",
        "    for (name, module), (name_init, module_init) in zip(model.named_modules(), model_init.named_modules()):\n",
        "        # 両モジュールがConv2dのインスタンスであるかを確認\n",
        "        if isinstance(module, torch.nn.Conv2d) and isinstance(module_init, torch.nn.Conv2d):\n",
        "            # 両モジュールが'scores'属性を持っているかを確認\n",
        "            if hasattr(module, 'scores') and hasattr(module_init, 'scores'):\n",
        "                # 両モジュールの'scores'属性が一致しているかを確認\n",
        "                # 一致していない場合、変更があったことを示すメッセージを出力\n",
        "                if not torch.equal(module.scores, module_init.scores):\n",
        "                    print(f'{name}のスコアが変化しています')\n",
        "                    return\n",
        "    # すべてのconv層で'scores'が変更されていない場合、その旨を出力\n",
        "    print('すべてのスコアは変化していません')\n",
        "\n",
        "# 学習前後でモデルのスコアが変化していないかを確認\n",
        "check_scores_change(model, model_init)"
      ],
      "metadata": {
        "id": "mHvzdVrrpziu",
        "colab": {
          "base_uri": "https://localhost:8080/"
        },
        "outputId": "6451e3ba-447c-4793-81e6-8ddadd74ab82"
      },
      "execution_count": 30,
      "outputs": [
        {
          "output_type": "stream",
          "name": "stdout",
          "text": [
            "すべてのスコアは変化していません\n"
          ]
        }
      ]
    },
    {
      "cell_type": "code",
      "source": [
        "# 学習前後のモデルの最終層以外の重みを比較する関数を作成\n",
        "def check_weight_change_except_last(model, model_init):\n",
        "    for (name, param), (name_init, param_init) in zip(model.named_parameters(), model_init.named_parameters()):\n",
        "        # 最終層を除く\n",
        "        if name != 'fc.weight' and name != 'fc.bias':\n",
        "            weights_changed = (param.data != param_init.data).any()\n",
        "            if weights_changed:\n",
        "                return print('最終層以外の重みが変化しています')\n",
        "    return print('最終層以外の重みは変化していません')\n",
        "\n",
        "# 学習前後でモデルの最終層以外の重みが変化していないかを確認\n",
        "check_weight_change_except_last(model, model_init)"
      ],
      "metadata": {
        "id": "h6zL_iAfpziu",
        "colab": {
          "base_uri": "https://localhost:8080/"
        },
        "outputId": "d61d5f56-6c34-4dd7-c69b-54254c882535"
      },
      "execution_count": 31,
      "outputs": [
        {
          "output_type": "stream",
          "name": "stdout",
          "text": [
            "最終層以外の重みは変化していません\n"
          ]
        }
      ]
    },
    {
      "cell_type": "code",
      "source": [
        "# モデルの評価\n",
        "model.eval()\n",
        "with torch.no_grad():\n",
        "    total = 0\n",
        "    correct = 0\n",
        "    for images, labels in test_loader_handsigns:\n",
        "        images = images.to(device)\n",
        "        labels = labels.to(device)\n",
        "        outputs = model(images)\n",
        "        _, predicted = torch.max(outputs.data, 1)\n",
        "        total += labels.size(0)\n",
        "        correct += (predicted == labels).sum().item()\n",
        "    # 正解率精度の確認\n",
        "    print('Test Accuracy: {} %'.format(100 * correct / total))"
      ],
      "metadata": {
        "id": "Gn0LIrVEpziu",
        "colab": {
          "base_uri": "https://localhost:8080/"
        },
        "outputId": "5c1473cc-b256-4620-b1d6-abf76124e012"
      },
      "execution_count": 32,
      "outputs": [
        {
          "output_type": "stream",
          "name": "stdout",
          "text": [
            "Test Accuracy: 74.0 %\n"
          ]
        }
      ]
    },
    {
      "cell_type": "code",
      "source": [
        "# GPUメモリの解放\n",
        "del model, model_init\n",
        "torch.cuda.empty_cache()"
      ],
      "metadata": {
        "id": "pKv1NeZFpziu"
      },
      "execution_count": 33,
      "outputs": []
    },
    {
      "cell_type": "markdown",
      "source": [
        "### prune_rate=0.95"
      ],
      "metadata": {
        "id": "_6ADYB7Wp6FQ"
      }
    },
    {
      "cell_type": "code",
      "source": [
        "# デバイスを設定\n",
        "device = torch.device('cuda' if torch.cuda.is_available() else 'cpu')\n",
        "# モデルを定義\n",
        "model = torch.load('/content/drive/MyDrive/SupermaskWideResNet28_10_CIFAR10_100epochs_pr0.95_uniform_CLRS_restest.pth')\n",
        "# 最終層を変更\n",
        "model.fc = nn.Linear(model.fc.in_features, 10)\n",
        "# 最終層以外のパラメータの勾配計算を停止\n",
        "for param in model.parameters():\n",
        "    param.requires_grad = False\n",
        "# 最終層のパラメータのみを学習するように設定\n",
        "for param in model.fc.parameters():\n",
        "    param.requires_grad = True\n",
        "# モデルをデバイスに転送\n",
        "model = model.to(device)\n",
        "# 変更後のモデルの重みを保存\n",
        "model_init = copy.deepcopy(model)\n",
        "\n",
        "# 学習率を設定\n",
        "learning_rate = 0.01\n",
        "# 全体のepoch数を設定\n",
        "num_epochs = 50\n",
        "# warm-upするepoch数を設定\n",
        "warmup_epochs = 5\n",
        "\n",
        "# 損失関数を定義\n",
        "criterion = nn.CrossEntropyLoss()\n",
        "# オプティマイザーを設定\n",
        "optimizer = optim.Adam(model.fc.parameters(), lr=learning_rate)\n",
        "# スケジューラーを設定\n",
        "scheduler = CosineLRScheduler(optimizer, t_initial=num_epochs, lr_min=1e-4, warmup_t=warmup_epochs, warmup_lr_init=1e-4, warmup_prefix=True)\n",
        "\n",
        "# モデルの学習\n",
        "for epoch in range(num_epochs):\n",
        "    total = 0\n",
        "    correct = 0\n",
        "    for i, (images, labels) in enumerate(train_loader_handsigns):\n",
        "        images = images.to(device)\n",
        "        labels = labels.to(device)\n",
        "        # 順伝播\n",
        "        outputs = model(images)\n",
        "        loss = criterion(outputs, labels)\n",
        "        # 逆伝播\n",
        "        optimizer.zero_grad()\n",
        "        loss.backward()\n",
        "        optimizer.step()\n",
        "        _, predicted = torch.max(outputs.data, 1)\n",
        "        # 全データ数\n",
        "        total += labels.size(0)\n",
        "        # 正解数\n",
        "        correct += (predicted == labels).sum().item()\n",
        "    # 正解率精度を計算\n",
        "    train_acc = 100 * correct / total\n",
        "    # 正解率精度と損失を確認\n",
        "    print(\"Epoch [{}/{}], Train Accuracy: {} %, Loss: {:.4f}\".format(epoch+1, num_epochs, 100 * correct / total, loss.item()))\n",
        "    # 1エポック終了後にスケジューラーを更新\n",
        "    scheduler.step(epoch)\n",
        "    # 学習率の確認\n",
        "    print(\"Epoch [{}/{}], Learning Rate: {}\".format(epoch+1, num_epochs, optimizer.param_groups[0]['lr']))\n",
        "\n",
        "\n",
        "# モデルを保存\n",
        "torch.save(model, '/content/drive/MyDrive/SupermaskWideResNet28_10_HandSigns_from_CIFAR10_100epochs_pr0.95_uniform_50epochs_lr0.01_CLRS_restest.pth')"
      ],
      "metadata": {
        "id": "3xDoTvA6qB5k",
        "colab": {
          "base_uri": "https://localhost:8080/"
        },
        "outputId": "c89af944-31ae-4cf4-809f-88fed2aac79d"
      },
      "execution_count": 34,
      "outputs": [
        {
          "output_type": "stream",
          "name": "stdout",
          "text": [
            "Epoch [1/50], Train Accuracy: 15.0 %, Loss: 2.1559\n",
            "Epoch [1/50], Learning Rate: 0.0001\n",
            "Epoch [2/50], Train Accuracy: 22.8 %, Loss: 2.1784\n",
            "Epoch [2/50], Learning Rate: 0.00208\n",
            "Epoch [3/50], Train Accuracy: 27.2 %, Loss: 2.2182\n",
            "Epoch [3/50], Learning Rate: 0.00406\n",
            "Epoch [4/50], Train Accuracy: 29.7 %, Loss: 2.0556\n",
            "Epoch [4/50], Learning Rate: 0.00604\n",
            "Epoch [5/50], Train Accuracy: 32.9 %, Loss: 2.0540\n",
            "Epoch [5/50], Learning Rate: 0.00802\n",
            "Epoch [6/50], Train Accuracy: 34.3 %, Loss: 1.3304\n",
            "Epoch [6/50], Learning Rate: 0.01\n",
            "Epoch [7/50], Train Accuracy: 34.6 %, Loss: 1.9827\n",
            "Epoch [7/50], Learning Rate: 0.009990232305719944\n",
            "Epoch [8/50], Train Accuracy: 38.9 %, Loss: 1.8202\n",
            "Epoch [8/50], Learning Rate: 0.009960967771506667\n",
            "Epoch [9/50], Train Accuracy: 41.7 %, Loss: 0.7806\n",
            "Epoch [9/50], Learning Rate: 0.00991232189110701\n",
            "Epoch [10/50], Train Accuracy: 41.3 %, Loss: 1.6223\n",
            "Epoch [10/50], Learning Rate: 0.009844486647586723\n",
            "Epoch [11/50], Train Accuracy: 42.5 %, Loss: 1.6113\n",
            "Epoch [11/50], Learning Rate: 0.009757729755661011\n",
            "Epoch [12/50], Train Accuracy: 46.3 %, Loss: 1.7666\n",
            "Epoch [12/50], Learning Rate: 0.009652393605146845\n",
            "Epoch [13/50], Train Accuracy: 49.5 %, Loss: 0.9937\n",
            "Epoch [13/50], Learning Rate: 0.009528893909706798\n",
            "Epoch [14/50], Train Accuracy: 49.4 %, Loss: 0.9065\n",
            "Epoch [14/50], Learning Rate: 0.009387718066217124\n",
            "Epoch [15/50], Train Accuracy: 51.1 %, Loss: 1.5989\n",
            "Epoch [15/50], Learning Rate: 0.009229423231234974\n",
            "Epoch [16/50], Train Accuracy: 48.6 %, Loss: 2.1569\n",
            "Epoch [16/50], Learning Rate: 0.00905463412215599\n",
            "Epoch [17/50], Train Accuracy: 50.7 %, Loss: 1.5934\n",
            "Epoch [17/50], Learning Rate: 0.008864040551740157\n",
            "Epoch [18/50], Train Accuracy: 54.3 %, Loss: 1.3543\n",
            "Epoch [18/50], Learning Rate: 0.008658394705735987\n",
            "Epoch [19/50], Train Accuracy: 59.7 %, Loss: 0.6343\n",
            "Epoch [19/50], Learning Rate: 0.00843850817434701\n",
            "Epoch [20/50], Train Accuracy: 55.6 %, Loss: 2.3267\n",
            "Epoch [20/50], Learning Rate: 0.008205248749256015\n",
            "Epoch [21/50], Train Accuracy: 57.5 %, Loss: 0.7356\n",
            "Epoch [21/50], Learning Rate: 0.007959536998847744\n",
            "Epoch [22/50], Train Accuracy: 55.3 %, Loss: 2.2309\n",
            "Epoch [22/50], Learning Rate: 0.007702342635146034\n",
            "Epoch [23/50], Train Accuracy: 58.4 %, Loss: 1.5029\n",
            "Epoch [23/50], Learning Rate: 0.007434680686803491\n",
            "Epoch [24/50], Train Accuracy: 58.6 %, Loss: 2.1348\n",
            "Epoch [24/50], Learning Rate: 0.0071576074932471105\n",
            "Epoch [25/50], Train Accuracy: 59.5 %, Loss: 1.8323\n",
            "Epoch [25/50], Learning Rate: 0.006872216535789157\n",
            "Epoch [26/50], Train Accuracy: 60.0 %, Loss: 0.7751\n",
            "Epoch [26/50], Learning Rate: 0.006579634122155991\n",
            "Epoch [27/50], Train Accuracy: 61.5 %, Loss: 1.4603\n",
            "Epoch [27/50], Learning Rate: 0.0062810149414660316\n",
            "Epoch [28/50], Train Accuracy: 63.2 %, Loss: 1.2409\n",
            "Epoch [28/50], Learning Rate: 0.005977537507199339\n",
            "Epoch [29/50], Train Accuracy: 56.4 %, Loss: 1.5446\n",
            "Epoch [29/50], Learning Rate: 0.005670399506143308\n",
            "Epoch [30/50], Train Accuracy: 61.8 %, Loss: 1.6722\n",
            "Epoch [30/50], Learning Rate: 0.005360813071670102\n",
            "Epoch [31/50], Train Accuracy: 64.4 %, Loss: 1.5512\n",
            "Epoch [31/50], Learning Rate: 0.005050000000000001\n",
            "Epoch [32/50], Train Accuracy: 65.6 %, Loss: 0.7655\n",
            "Epoch [32/50], Learning Rate: 0.004739186928329899\n",
            "Epoch [33/50], Train Accuracy: 66.4 %, Loss: 0.8488\n",
            "Epoch [33/50], Learning Rate: 0.004429600493856695\n",
            "Epoch [34/50], Train Accuracy: 63.5 %, Loss: 1.5603\n",
            "Epoch [34/50], Learning Rate: 0.0041224624928006635\n",
            "Epoch [35/50], Train Accuracy: 67.0 %, Loss: 1.8515\n",
            "Epoch [35/50], Learning Rate: 0.0038189850585339685\n",
            "Epoch [36/50], Train Accuracy: 65.9 %, Loss: 0.5396\n",
            "Epoch [36/50], Learning Rate: 0.003520365877844012\n",
            "Epoch [37/50], Train Accuracy: 68.2 %, Loss: 1.4477\n",
            "Epoch [37/50], Learning Rate: 0.0032277834642108457\n",
            "Epoch [38/50], Train Accuracy: 69.7 %, Loss: 0.9549\n",
            "Epoch [38/50], Learning Rate: 0.0029423925067528904\n",
            "Epoch [39/50], Train Accuracy: 72.0 %, Loss: 0.9221\n",
            "Epoch [39/50], Learning Rate: 0.002665319313196509\n",
            "Epoch [40/50], Train Accuracy: 69.2 %, Loss: 0.9762\n",
            "Epoch [40/50], Learning Rate: 0.0023976573648539653\n",
            "Epoch [41/50], Train Accuracy: 69.9 %, Loss: 0.6483\n",
            "Epoch [41/50], Learning Rate: 0.0021404630011522584\n",
            "Epoch [42/50], Train Accuracy: 72.0 %, Loss: 1.1741\n",
            "Epoch [42/50], Learning Rate: 0.001894751250743986\n",
            "Epoch [43/50], Train Accuracy: 71.3 %, Loss: 1.6160\n",
            "Epoch [43/50], Learning Rate: 0.001661491825652991\n",
            "Epoch [44/50], Train Accuracy: 71.0 %, Loss: 1.2529\n",
            "Epoch [44/50], Learning Rate: 0.001441605294264014\n",
            "Epoch [45/50], Train Accuracy: 73.8 %, Loss: 0.9260\n",
            "Epoch [45/50], Learning Rate: 0.001235959448259844\n",
            "Epoch [46/50], Train Accuracy: 71.3 %, Loss: 0.5926\n",
            "Epoch [46/50], Learning Rate: 0.0010453658778440107\n",
            "Epoch [47/50], Train Accuracy: 71.5 %, Loss: 0.8748\n",
            "Epoch [47/50], Learning Rate: 0.0008705767687650265\n",
            "Epoch [48/50], Train Accuracy: 71.9 %, Loss: 1.4280\n",
            "Epoch [48/50], Learning Rate: 0.0007122819337828754\n",
            "Epoch [49/50], Train Accuracy: 73.9 %, Loss: 1.0955\n",
            "Epoch [49/50], Learning Rate: 0.0005711060902932043\n",
            "Epoch [50/50], Train Accuracy: 71.6 %, Loss: 0.7987\n",
            "Epoch [50/50], Learning Rate: 0.00044760639485315584\n"
          ]
        }
      ]
    },
    {
      "cell_type": "code",
      "source": [
        "# モデルの刈り込み率を計算する関数を作成\n",
        "def calculate_pruned_ratio(model):\n",
        "    total_weights = 0\n",
        "    total_pruned_weights = 0\n",
        "\n",
        "    for module in model.modules():\n",
        "        # モジュールがSupermaskConvであるか確認\n",
        "        if isinstance(module, SupermaskConv):\n",
        "            # SupermaskConv層の重みを取得\n",
        "            weight = module.weight.data\n",
        "            # 刈り込みを適用した後の重みを取得\n",
        "            subnet = GetSubnet.apply(module.clamped_scores, 1 - module.prune_rate)\n",
        "            pruned_weight = weight * subnet\n",
        "            # 0である要素数を計算\n",
        "            pruned_weights_count = (pruned_weight == 0).sum().item()\n",
        "            total_pruned_weights += pruned_weights_count\n",
        "            # 重みの全要素数を計算\n",
        "            total_weights_count = pruned_weight.numel()\n",
        "            total_weights += total_weights_count\n",
        "\n",
        "    # 刈り込みが行われた割合を計算\n",
        "    pruned_ratio = total_pruned_weights / total_weights\n",
        "    return print(f\"刈り込み率は{pruned_ratio:.3f}です\")\n",
        "\n",
        "# モデルの刈り込み率を確認\n",
        "calculate_pruned_ratio(model)"
      ],
      "metadata": {
        "id": "n3NzFshJp6FR",
        "colab": {
          "base_uri": "https://localhost:8080/"
        },
        "outputId": "d82c1754-c609-46a8-e0c8-c386a4b84bba"
      },
      "execution_count": 35,
      "outputs": [
        {
          "output_type": "stream",
          "name": "stdout",
          "text": [
            "刈り込み率は0.950です\n"
          ]
        }
      ]
    },
    {
      "cell_type": "code",
      "source": [
        "# 学習前後のモデルのスコアを比較する関数を作成\n",
        "def check_scores_change(model, model_init):\n",
        "    # 各モデルの名前付きモジュールを順に調べる\n",
        "    for (name, module), (name_init, module_init) in zip(model.named_modules(), model_init.named_modules()):\n",
        "        # 両モジュールがConv2dのインスタンスであるかを確認\n",
        "        if isinstance(module, torch.nn.Conv2d) and isinstance(module_init, torch.nn.Conv2d):\n",
        "            # 両モジュールが'scores'属性を持っているかを確認\n",
        "            if hasattr(module, 'scores') and hasattr(module_init, 'scores'):\n",
        "                # 両モジュールの'scores'属性が一致しているかを確認\n",
        "                # 一致していない場合、変更があったことを示すメッセージを出力\n",
        "                if not torch.equal(module.scores, module_init.scores):\n",
        "                    print(f'{name}のスコアが変化しています')\n",
        "                    return\n",
        "    # すべてのconv層で'scores'が変更されていない場合、その旨を出力\n",
        "    print('すべてのスコアは変化していません')\n",
        "\n",
        "# 学習前後でモデルのスコアが変化していないかを確認\n",
        "check_scores_change(model, model_init)"
      ],
      "metadata": {
        "id": "CpNLpONSp6FS",
        "colab": {
          "base_uri": "https://localhost:8080/"
        },
        "outputId": "41565357-50f0-4101-ee09-a64ea63f9612"
      },
      "execution_count": 36,
      "outputs": [
        {
          "output_type": "stream",
          "name": "stdout",
          "text": [
            "すべてのスコアは変化していません\n"
          ]
        }
      ]
    },
    {
      "cell_type": "code",
      "source": [
        "# 学習前後のモデルの最終層以外の重みを比較する関数を作成\n",
        "def check_weight_change_except_last(model, model_init):\n",
        "    for (name, param), (name_init, param_init) in zip(model.named_parameters(), model_init.named_parameters()):\n",
        "        # 最終層を除く\n",
        "        if name != 'fc.weight' and name != 'fc.bias':\n",
        "            weights_changed = (param.data != param_init.data).any()\n",
        "            if weights_changed:\n",
        "                return print('最終層以外の重みが変化しています')\n",
        "    return print('最終層以外の重みは変化していません')\n",
        "\n",
        "# 学習前後でモデルの最終層以外の重みが変化していないかを確認\n",
        "check_weight_change_except_last(model, model_init)"
      ],
      "metadata": {
        "id": "ZzTrzJ3ip6FS",
        "colab": {
          "base_uri": "https://localhost:8080/"
        },
        "outputId": "8fe1f82f-0144-44b5-bc4f-d593585f02c6"
      },
      "execution_count": 37,
      "outputs": [
        {
          "output_type": "stream",
          "name": "stdout",
          "text": [
            "最終層以外の重みは変化していません\n"
          ]
        }
      ]
    },
    {
      "cell_type": "code",
      "source": [
        "# モデルの評価\n",
        "model.eval()\n",
        "with torch.no_grad():\n",
        "    total = 0\n",
        "    correct = 0\n",
        "    for images, labels in test_loader_handsigns:\n",
        "        images = images.to(device)\n",
        "        labels = labels.to(device)\n",
        "        outputs = model(images)\n",
        "        _, predicted = torch.max(outputs.data, 1)\n",
        "        total += labels.size(0)\n",
        "        correct += (predicted == labels).sum().item()\n",
        "    # 正解率精度の確認\n",
        "    print('Test Accuracy: {} %'.format(100 * correct / total))"
      ],
      "metadata": {
        "id": "shsBdnlYp6FS",
        "colab": {
          "base_uri": "https://localhost:8080/"
        },
        "outputId": "55341279-6c83-442b-8176-3232f06c59b6"
      },
      "execution_count": 38,
      "outputs": [
        {
          "output_type": "stream",
          "name": "stdout",
          "text": [
            "Test Accuracy: 72.0 %\n"
          ]
        }
      ]
    },
    {
      "cell_type": "code",
      "source": [
        "# GPUメモリの解放\n",
        "del model, model_init\n",
        "torch.cuda.empty_cache()"
      ],
      "metadata": {
        "id": "M5kErUQsp6FS"
      },
      "execution_count": 39,
      "outputs": []
    },
    {
      "cell_type": "markdown",
      "source": [
        "### prune_rate=0.9"
      ],
      "metadata": {
        "id": "JZemFpwOqHR-"
      }
    },
    {
      "cell_type": "code",
      "source": [
        "# デバイスを設定\n",
        "device = torch.device('cuda' if torch.cuda.is_available() else 'cpu')\n",
        "# モデルを定義\n",
        "model = torch.load('/content/drive/MyDrive/SupermaskWideResNet28_10_CIFAR10_100epochs_pr0.9_uniform_CLRS_restest.pth')\n",
        "# 最終層を変更\n",
        "model.fc = nn.Linear(model.fc.in_features, 10)\n",
        "# 最終層以外のパラメータの勾配計算を停止\n",
        "for param in model.parameters():\n",
        "    param.requires_grad = False\n",
        "# 最終層のパラメータのみを学習するように設定\n",
        "for param in model.fc.parameters():\n",
        "    param.requires_grad = True\n",
        "# モデルをデバイスに転送\n",
        "model = model.to(device)\n",
        "# 変更後のモデルの重みを保存\n",
        "model_init = copy.deepcopy(model)\n",
        "\n",
        "# 学習率を設定\n",
        "learning_rate = 0.01\n",
        "# 全体のepoch数を設定\n",
        "num_epochs = 50\n",
        "# warm-upするepoch数を設定\n",
        "warmup_epochs = 5\n",
        "\n",
        "# 損失関数を定義\n",
        "criterion = nn.CrossEntropyLoss()\n",
        "# オプティマイザーを設定\n",
        "optimizer = optim.Adam(model.fc.parameters(), lr=learning_rate)\n",
        "# スケジューラーを設定\n",
        "scheduler = CosineLRScheduler(optimizer, t_initial=num_epochs, lr_min=1e-4, warmup_t=warmup_epochs, warmup_lr_init=1e-4, warmup_prefix=True)\n",
        "\n",
        "# モデルの学習\n",
        "for epoch in range(num_epochs):\n",
        "    total = 0\n",
        "    correct = 0\n",
        "    for i, (images, labels) in enumerate(train_loader_handsigns):\n",
        "        images = images.to(device)\n",
        "        labels = labels.to(device)\n",
        "        # 順伝播\n",
        "        outputs = model(images)\n",
        "        loss = criterion(outputs, labels)\n",
        "        # 逆伝播\n",
        "        optimizer.zero_grad()\n",
        "        loss.backward()\n",
        "        optimizer.step()\n",
        "        _, predicted = torch.max(outputs.data, 1)\n",
        "        # 全データ数\n",
        "        total += labels.size(0)\n",
        "        # 正解数\n",
        "        correct += (predicted == labels).sum().item()\n",
        "    # 正解率精度を計算\n",
        "    train_acc = 100 * correct / total\n",
        "    # 正解率精度と損失を確認\n",
        "    print(\"Epoch [{}/{}], Train Accuracy: {} %, Loss: {:.4f}\".format(epoch+1, num_epochs, 100 * correct / total, loss.item()))\n",
        "    # 1エポック終了後にスケジューラーを更新\n",
        "    scheduler.step(epoch)\n",
        "    # 学習率の確認\n",
        "    print(\"Epoch [{}/{}], Learning Rate: {}\".format(epoch+1, num_epochs, optimizer.param_groups[0]['lr']))\n",
        "\n",
        "\n",
        "# モデルを保存\n",
        "torch.save(model, '/content/drive/MyDrive/SupermaskWideResNet28_10_HandSigns_from_CIFAR10_100epochs_pr0.9_uniform_50epochs_lr0.01_CLRS_restest.pth')"
      ],
      "metadata": {
        "id": "IH0Apj5PqHR-",
        "colab": {
          "base_uri": "https://localhost:8080/"
        },
        "outputId": "dfa84076-8f8a-4f31-ee3a-cb440dbef500"
      },
      "execution_count": 40,
      "outputs": [
        {
          "output_type": "stream",
          "name": "stdout",
          "text": [
            "Epoch [1/50], Train Accuracy: 12.7 %, Loss: 2.1678\n",
            "Epoch [1/50], Learning Rate: 0.0001\n",
            "Epoch [2/50], Train Accuracy: 20.0 %, Loss: 2.2084\n",
            "Epoch [2/50], Learning Rate: 0.00208\n",
            "Epoch [3/50], Train Accuracy: 23.8 %, Loss: 2.0929\n",
            "Epoch [3/50], Learning Rate: 0.00406\n",
            "Epoch [4/50], Train Accuracy: 29.4 %, Loss: 2.3959\n",
            "Epoch [4/50], Learning Rate: 0.00604\n",
            "Epoch [5/50], Train Accuracy: 32.0 %, Loss: 1.2363\n",
            "Epoch [5/50], Learning Rate: 0.00802\n",
            "Epoch [6/50], Train Accuracy: 32.7 %, Loss: 1.6678\n",
            "Epoch [6/50], Learning Rate: 0.01\n",
            "Epoch [7/50], Train Accuracy: 36.2 %, Loss: 2.4326\n",
            "Epoch [7/50], Learning Rate: 0.009990232305719944\n",
            "Epoch [8/50], Train Accuracy: 36.0 %, Loss: 1.7655\n",
            "Epoch [8/50], Learning Rate: 0.009960967771506667\n",
            "Epoch [9/50], Train Accuracy: 41.0 %, Loss: 2.3699\n",
            "Epoch [9/50], Learning Rate: 0.00991232189110701\n",
            "Epoch [10/50], Train Accuracy: 41.8 %, Loss: 2.2696\n",
            "Epoch [10/50], Learning Rate: 0.009844486647586723\n",
            "Epoch [11/50], Train Accuracy: 44.8 %, Loss: 3.1209\n",
            "Epoch [11/50], Learning Rate: 0.009757729755661011\n",
            "Epoch [12/50], Train Accuracy: 45.9 %, Loss: 2.1521\n",
            "Epoch [12/50], Learning Rate: 0.009652393605146845\n",
            "Epoch [13/50], Train Accuracy: 50.1 %, Loss: 1.3929\n",
            "Epoch [13/50], Learning Rate: 0.009528893909706798\n",
            "Epoch [14/50], Train Accuracy: 53.3 %, Loss: 1.4235\n",
            "Epoch [14/50], Learning Rate: 0.009387718066217124\n",
            "Epoch [15/50], Train Accuracy: 50.3 %, Loss: 1.2694\n",
            "Epoch [15/50], Learning Rate: 0.009229423231234974\n",
            "Epoch [16/50], Train Accuracy: 52.2 %, Loss: 1.1934\n",
            "Epoch [16/50], Learning Rate: 0.00905463412215599\n",
            "Epoch [17/50], Train Accuracy: 51.8 %, Loss: 1.1535\n",
            "Epoch [17/50], Learning Rate: 0.008864040551740157\n",
            "Epoch [18/50], Train Accuracy: 53.3 %, Loss: 2.4383\n",
            "Epoch [18/50], Learning Rate: 0.008658394705735987\n",
            "Epoch [19/50], Train Accuracy: 53.7 %, Loss: 1.7572\n",
            "Epoch [19/50], Learning Rate: 0.00843850817434701\n",
            "Epoch [20/50], Train Accuracy: 54.0 %, Loss: 1.2400\n",
            "Epoch [20/50], Learning Rate: 0.008205248749256015\n",
            "Epoch [21/50], Train Accuracy: 55.1 %, Loss: 1.5799\n",
            "Epoch [21/50], Learning Rate: 0.007959536998847744\n",
            "Epoch [22/50], Train Accuracy: 58.6 %, Loss: 0.8078\n",
            "Epoch [22/50], Learning Rate: 0.007702342635146034\n",
            "Epoch [23/50], Train Accuracy: 57.0 %, Loss: 1.0803\n",
            "Epoch [23/50], Learning Rate: 0.007434680686803491\n",
            "Epoch [24/50], Train Accuracy: 56.3 %, Loss: 1.5436\n",
            "Epoch [24/50], Learning Rate: 0.0071576074932471105\n",
            "Epoch [25/50], Train Accuracy: 58.7 %, Loss: 1.8459\n",
            "Epoch [25/50], Learning Rate: 0.006872216535789157\n",
            "Epoch [26/50], Train Accuracy: 59.1 %, Loss: 1.3203\n",
            "Epoch [26/50], Learning Rate: 0.006579634122155991\n",
            "Epoch [27/50], Train Accuracy: 60.6 %, Loss: 0.6746\n",
            "Epoch [27/50], Learning Rate: 0.0062810149414660316\n",
            "Epoch [28/50], Train Accuracy: 57.3 %, Loss: 2.1801\n",
            "Epoch [28/50], Learning Rate: 0.005977537507199339\n",
            "Epoch [29/50], Train Accuracy: 60.0 %, Loss: 0.9667\n",
            "Epoch [29/50], Learning Rate: 0.005670399506143308\n",
            "Epoch [30/50], Train Accuracy: 61.2 %, Loss: 0.9566\n",
            "Epoch [30/50], Learning Rate: 0.005360813071670102\n",
            "Epoch [31/50], Train Accuracy: 62.1 %, Loss: 1.2211\n",
            "Epoch [31/50], Learning Rate: 0.005050000000000001\n",
            "Epoch [32/50], Train Accuracy: 62.7 %, Loss: 1.3159\n",
            "Epoch [32/50], Learning Rate: 0.004739186928329899\n",
            "Epoch [33/50], Train Accuracy: 61.7 %, Loss: 0.8136\n",
            "Epoch [33/50], Learning Rate: 0.004429600493856695\n",
            "Epoch [34/50], Train Accuracy: 63.0 %, Loss: 1.4558\n",
            "Epoch [34/50], Learning Rate: 0.0041224624928006635\n",
            "Epoch [35/50], Train Accuracy: 63.8 %, Loss: 0.9160\n",
            "Epoch [35/50], Learning Rate: 0.0038189850585339685\n",
            "Epoch [36/50], Train Accuracy: 68.8 %, Loss: 1.9569\n",
            "Epoch [36/50], Learning Rate: 0.003520365877844012\n",
            "Epoch [37/50], Train Accuracy: 66.9 %, Loss: 0.8016\n",
            "Epoch [37/50], Learning Rate: 0.0032277834642108457\n",
            "Epoch [38/50], Train Accuracy: 67.6 %, Loss: 1.2464\n",
            "Epoch [38/50], Learning Rate: 0.0029423925067528904\n",
            "Epoch [39/50], Train Accuracy: 68.9 %, Loss: 0.5885\n",
            "Epoch [39/50], Learning Rate: 0.002665319313196509\n",
            "Epoch [40/50], Train Accuracy: 68.8 %, Loss: 1.6942\n",
            "Epoch [40/50], Learning Rate: 0.0023976573648539653\n",
            "Epoch [41/50], Train Accuracy: 68.0 %, Loss: 0.6799\n",
            "Epoch [41/50], Learning Rate: 0.0021404630011522584\n",
            "Epoch [42/50], Train Accuracy: 70.0 %, Loss: 1.2516\n",
            "Epoch [42/50], Learning Rate: 0.001894751250743986\n",
            "Epoch [43/50], Train Accuracy: 71.0 %, Loss: 1.0725\n",
            "Epoch [43/50], Learning Rate: 0.001661491825652991\n",
            "Epoch [44/50], Train Accuracy: 72.0 %, Loss: 1.1591\n",
            "Epoch [44/50], Learning Rate: 0.001441605294264014\n",
            "Epoch [45/50], Train Accuracy: 68.8 %, Loss: 1.5133\n",
            "Epoch [45/50], Learning Rate: 0.001235959448259844\n",
            "Epoch [46/50], Train Accuracy: 71.6 %, Loss: 1.0541\n",
            "Epoch [46/50], Learning Rate: 0.0010453658778440107\n",
            "Epoch [47/50], Train Accuracy: 71.9 %, Loss: 0.7576\n",
            "Epoch [47/50], Learning Rate: 0.0008705767687650265\n",
            "Epoch [48/50], Train Accuracy: 71.0 %, Loss: 0.5809\n",
            "Epoch [48/50], Learning Rate: 0.0007122819337828754\n",
            "Epoch [49/50], Train Accuracy: 72.3 %, Loss: 1.0741\n",
            "Epoch [49/50], Learning Rate: 0.0005711060902932043\n",
            "Epoch [50/50], Train Accuracy: 75.1 %, Loss: 0.6977\n",
            "Epoch [50/50], Learning Rate: 0.00044760639485315584\n"
          ]
        }
      ]
    },
    {
      "cell_type": "code",
      "source": [
        "# モデルの刈り込み率を計算する関数を作成\n",
        "def calculate_pruned_ratio(model):\n",
        "    total_weights = 0\n",
        "    total_pruned_weights = 0\n",
        "\n",
        "    for module in model.modules():\n",
        "        # モジュールがSupermaskConvであるか確認\n",
        "        if isinstance(module, SupermaskConv):\n",
        "            # SupermaskConv層の重みを取得\n",
        "            weight = module.weight.data\n",
        "            # 刈り込みを適用した後の重みを取得\n",
        "            subnet = GetSubnet.apply(module.clamped_scores, 1 - module.prune_rate)\n",
        "            pruned_weight = weight * subnet\n",
        "            # 0である要素数を計算\n",
        "            pruned_weights_count = (pruned_weight == 0).sum().item()\n",
        "            total_pruned_weights += pruned_weights_count\n",
        "            # 重みの全要素数を計算\n",
        "            total_weights_count = pruned_weight.numel()\n",
        "            total_weights += total_weights_count\n",
        "\n",
        "    # 刈り込みが行われた割合を計算\n",
        "    pruned_ratio = total_pruned_weights / total_weights\n",
        "    return print(f\"刈り込み率は{pruned_ratio:.3f}です\")\n",
        "\n",
        "# モデルの刈り込み率を確認\n",
        "calculate_pruned_ratio(model)"
      ],
      "metadata": {
        "id": "tbX-WoiHqHR_",
        "colab": {
          "base_uri": "https://localhost:8080/"
        },
        "outputId": "945212ec-bd9e-46f7-cb9d-dfa83222fd0e"
      },
      "execution_count": 41,
      "outputs": [
        {
          "output_type": "stream",
          "name": "stdout",
          "text": [
            "刈り込み率は0.900です\n"
          ]
        }
      ]
    },
    {
      "cell_type": "code",
      "source": [
        "# 学習前後のモデルのスコアを比較する関数を作成\n",
        "def check_scores_change(model, model_init):\n",
        "    # 各モデルの名前付きモジュールを順に調べる\n",
        "    for (name, module), (name_init, module_init) in zip(model.named_modules(), model_init.named_modules()):\n",
        "        # 両モジュールがConv2dのインスタンスであるかを確認\n",
        "        if isinstance(module, torch.nn.Conv2d) and isinstance(module_init, torch.nn.Conv2d):\n",
        "            # 両モジュールが'scores'属性を持っているかを確認\n",
        "            if hasattr(module, 'scores') and hasattr(module_init, 'scores'):\n",
        "                # 両モジュールの'scores'属性が一致しているかを確認\n",
        "                # 一致していない場合、変更があったことを示すメッセージを出力\n",
        "                if not torch.equal(module.scores, module_init.scores):\n",
        "                    print(f'{name}のスコアが変化しています')\n",
        "                    return\n",
        "    # すべてのconv層で'scores'が変更されていない場合、その旨を出力\n",
        "    print('すべてのスコアは変化していません')\n",
        "\n",
        "# 学習前後でモデルのスコアが変化していないかを確認\n",
        "check_scores_change(model, model_init)"
      ],
      "metadata": {
        "id": "Dy8h6ktHqHR_",
        "colab": {
          "base_uri": "https://localhost:8080/"
        },
        "outputId": "e553d957-8cff-458b-da43-8569b065a34a"
      },
      "execution_count": 42,
      "outputs": [
        {
          "output_type": "stream",
          "name": "stdout",
          "text": [
            "すべてのスコアは変化していません\n"
          ]
        }
      ]
    },
    {
      "cell_type": "code",
      "source": [
        "# 学習前後のモデルの最終層以外の重みを比較する関数を作成\n",
        "def check_weight_change_except_last(model, model_init):\n",
        "    for (name, param), (name_init, param_init) in zip(model.named_parameters(), model_init.named_parameters()):\n",
        "        # 最終層を除く\n",
        "        if name != 'fc.weight' and name != 'fc.bias':\n",
        "            weights_changed = (param.data != param_init.data).any()\n",
        "            if weights_changed:\n",
        "                return print('最終層以外の重みが変化しています')\n",
        "    return print('最終層以外の重みは変化していません')\n",
        "\n",
        "# 学習前後でモデルの最終層以外の重みが変化していないかを確認\n",
        "check_weight_change_except_last(model, model_init)"
      ],
      "metadata": {
        "id": "HWqTGq1DqHR_",
        "colab": {
          "base_uri": "https://localhost:8080/"
        },
        "outputId": "626fa4d8-a0f2-45d0-b615-8f39831eff3f"
      },
      "execution_count": 43,
      "outputs": [
        {
          "output_type": "stream",
          "name": "stdout",
          "text": [
            "最終層以外の重みは変化していません\n"
          ]
        }
      ]
    },
    {
      "cell_type": "code",
      "source": [
        "# モデルの評価\n",
        "model.eval()\n",
        "with torch.no_grad():\n",
        "    total = 0\n",
        "    correct = 0\n",
        "    for images, labels in test_loader_handsigns:\n",
        "        images = images.to(device)\n",
        "        labels = labels.to(device)\n",
        "        outputs = model(images)\n",
        "        _, predicted = torch.max(outputs.data, 1)\n",
        "        total += labels.size(0)\n",
        "        correct += (predicted == labels).sum().item()\n",
        "    # 正解率精度の確認\n",
        "    print('Test Accuracy: {} %'.format(100 * correct / total))"
      ],
      "metadata": {
        "id": "z4BAg4wpqHSA",
        "colab": {
          "base_uri": "https://localhost:8080/"
        },
        "outputId": "508e25c4-3908-48c1-883a-83041ddee474"
      },
      "execution_count": 44,
      "outputs": [
        {
          "output_type": "stream",
          "name": "stdout",
          "text": [
            "Test Accuracy: 75.0 %\n"
          ]
        }
      ]
    },
    {
      "cell_type": "code",
      "source": [
        "# GPUメモリの解放\n",
        "del model, model_init\n",
        "torch.cuda.empty_cache()"
      ],
      "metadata": {
        "id": "Hb_KVRnsqHSA"
      },
      "execution_count": 45,
      "outputs": []
    },
    {
      "cell_type": "markdown",
      "source": [
        "### prune_rate=0.7"
      ],
      "metadata": {
        "id": "Y4UVvVqgqNiG"
      }
    },
    {
      "cell_type": "code",
      "source": [
        "# デバイスを設定\n",
        "device = torch.device('cuda' if torch.cuda.is_available() else 'cpu')\n",
        "# モデルを定義\n",
        "model = torch.load('/content/drive/MyDrive/SupermaskWideResNet28_10_CIFAR10_100epochs_pr0.7_uniform_CLRS_restest.pth')\n",
        "# 最終層を変更\n",
        "model.fc = nn.Linear(model.fc.in_features, 10)\n",
        "# 最終層以外のパラメータの勾配計算を停止\n",
        "for param in model.parameters():\n",
        "    param.requires_grad = False\n",
        "# 最終層のパラメータのみを学習するように設定\n",
        "for param in model.fc.parameters():\n",
        "    param.requires_grad = True\n",
        "# モデルをデバイスに転送\n",
        "model = model.to(device)\n",
        "# 変更後のモデルの重みを保存\n",
        "model_init = copy.deepcopy(model)\n",
        "\n",
        "# 学習率を設定\n",
        "learning_rate = 0.01\n",
        "# 全体のepoch数を設定\n",
        "num_epochs = 50\n",
        "# warm-upするepoch数を設定\n",
        "warmup_epochs = 5\n",
        "\n",
        "# 損失関数を定義\n",
        "criterion = nn.CrossEntropyLoss()\n",
        "# オプティマイザーを設定\n",
        "optimizer = optim.Adam(model.fc.parameters(), lr=learning_rate)\n",
        "# スケジューラーを設定\n",
        "scheduler = CosineLRScheduler(optimizer, t_initial=num_epochs, lr_min=1e-4, warmup_t=warmup_epochs, warmup_lr_init=1e-4, warmup_prefix=True)\n",
        "\n",
        "# モデルの学習\n",
        "for epoch in range(num_epochs):\n",
        "    total = 0\n",
        "    correct = 0\n",
        "    for i, (images, labels) in enumerate(train_loader_handsigns):\n",
        "        images = images.to(device)\n",
        "        labels = labels.to(device)\n",
        "        # 順伝播\n",
        "        outputs = model(images)\n",
        "        loss = criterion(outputs, labels)\n",
        "        # 逆伝播\n",
        "        optimizer.zero_grad()\n",
        "        loss.backward()\n",
        "        optimizer.step()\n",
        "        _, predicted = torch.max(outputs.data, 1)\n",
        "        # 全データ数\n",
        "        total += labels.size(0)\n",
        "        # 正解数\n",
        "        correct += (predicted == labels).sum().item()\n",
        "    # 正解率精度を計算\n",
        "    train_acc = 100 * correct / total\n",
        "    # 正解率精度と損失を確認\n",
        "    print(\"Epoch [{}/{}], Train Accuracy: {} %, Loss: {:.4f}\".format(epoch+1, num_epochs, 100 * correct / total, loss.item()))\n",
        "    # 1エポック終了後にスケジューラーを更新\n",
        "    scheduler.step(epoch)\n",
        "    # 学習率の確認\n",
        "    print(\"Epoch [{}/{}], Learning Rate: {}\".format(epoch+1, num_epochs, optimizer.param_groups[0]['lr']))\n",
        "\n",
        "\n",
        "# モデルを保存\n",
        "torch.save(model, '/content/drive/MyDrive/SupermaskWideResNet28_10_HandSigns_from_CIFAR10_100epochs_pr0.7_uniform_50epochs_lr0.01_CLRS_restest.pth')"
      ],
      "metadata": {
        "id": "nxuTMT2UqNiH",
        "colab": {
          "base_uri": "https://localhost:8080/"
        },
        "outputId": "023416f5-4eef-4dde-dce9-4085a22fd8d0"
      },
      "execution_count": 46,
      "outputs": [
        {
          "output_type": "stream",
          "name": "stdout",
          "text": [
            "Epoch [1/50], Train Accuracy: 14.5 %, Loss: 2.2882\n",
            "Epoch [1/50], Learning Rate: 0.0001\n",
            "Epoch [2/50], Train Accuracy: 22.9 %, Loss: 2.1382\n",
            "Epoch [2/50], Learning Rate: 0.00208\n",
            "Epoch [3/50], Train Accuracy: 24.4 %, Loss: 2.0267\n",
            "Epoch [3/50], Learning Rate: 0.00406\n",
            "Epoch [4/50], Train Accuracy: 27.8 %, Loss: 1.6507\n",
            "Epoch [4/50], Learning Rate: 0.00604\n",
            "Epoch [5/50], Train Accuracy: 28.9 %, Loss: 2.0562\n",
            "Epoch [5/50], Learning Rate: 0.00802\n",
            "Epoch [6/50], Train Accuracy: 27.7 %, Loss: 2.1896\n",
            "Epoch [6/50], Learning Rate: 0.01\n",
            "Epoch [7/50], Train Accuracy: 33.2 %, Loss: 2.6141\n",
            "Epoch [7/50], Learning Rate: 0.009990232305719944\n",
            "Epoch [8/50], Train Accuracy: 34.0 %, Loss: 1.9053\n",
            "Epoch [8/50], Learning Rate: 0.009960967771506667\n",
            "Epoch [9/50], Train Accuracy: 36.4 %, Loss: 1.9731\n",
            "Epoch [9/50], Learning Rate: 0.00991232189110701\n",
            "Epoch [10/50], Train Accuracy: 38.2 %, Loss: 2.5187\n",
            "Epoch [10/50], Learning Rate: 0.009844486647586723\n",
            "Epoch [11/50], Train Accuracy: 39.2 %, Loss: 1.3184\n",
            "Epoch [11/50], Learning Rate: 0.009757729755661011\n",
            "Epoch [12/50], Train Accuracy: 41.3 %, Loss: 1.6000\n",
            "Epoch [12/50], Learning Rate: 0.009652393605146845\n",
            "Epoch [13/50], Train Accuracy: 41.1 %, Loss: 2.1517\n",
            "Epoch [13/50], Learning Rate: 0.009528893909706798\n",
            "Epoch [14/50], Train Accuracy: 43.0 %, Loss: 1.8051\n",
            "Epoch [14/50], Learning Rate: 0.009387718066217124\n",
            "Epoch [15/50], Train Accuracy: 46.8 %, Loss: 1.5576\n",
            "Epoch [15/50], Learning Rate: 0.009229423231234974\n",
            "Epoch [16/50], Train Accuracy: 46.5 %, Loss: 0.8143\n",
            "Epoch [16/50], Learning Rate: 0.00905463412215599\n",
            "Epoch [17/50], Train Accuracy: 50.1 %, Loss: 1.6598\n",
            "Epoch [17/50], Learning Rate: 0.008864040551740157\n",
            "Epoch [18/50], Train Accuracy: 50.8 %, Loss: 2.3037\n",
            "Epoch [18/50], Learning Rate: 0.008658394705735987\n",
            "Epoch [19/50], Train Accuracy: 49.2 %, Loss: 1.0432\n",
            "Epoch [19/50], Learning Rate: 0.00843850817434701\n",
            "Epoch [20/50], Train Accuracy: 47.8 %, Loss: 2.3553\n",
            "Epoch [20/50], Learning Rate: 0.008205248749256015\n",
            "Epoch [21/50], Train Accuracy: 52.9 %, Loss: 1.5080\n",
            "Epoch [21/50], Learning Rate: 0.007959536998847744\n",
            "Epoch [22/50], Train Accuracy: 50.0 %, Loss: 1.5027\n",
            "Epoch [22/50], Learning Rate: 0.007702342635146034\n",
            "Epoch [23/50], Train Accuracy: 52.8 %, Loss: 1.4537\n",
            "Epoch [23/50], Learning Rate: 0.007434680686803491\n",
            "Epoch [24/50], Train Accuracy: 54.3 %, Loss: 1.0636\n",
            "Epoch [24/50], Learning Rate: 0.0071576074932471105\n",
            "Epoch [25/50], Train Accuracy: 54.6 %, Loss: 1.7785\n",
            "Epoch [25/50], Learning Rate: 0.006872216535789157\n",
            "Epoch [26/50], Train Accuracy: 56.2 %, Loss: 1.2414\n",
            "Epoch [26/50], Learning Rate: 0.006579634122155991\n",
            "Epoch [27/50], Train Accuracy: 56.5 %, Loss: 1.6695\n",
            "Epoch [27/50], Learning Rate: 0.0062810149414660316\n",
            "Epoch [28/50], Train Accuracy: 55.8 %, Loss: 1.4463\n",
            "Epoch [28/50], Learning Rate: 0.005977537507199339\n",
            "Epoch [29/50], Train Accuracy: 53.0 %, Loss: 1.1939\n",
            "Epoch [29/50], Learning Rate: 0.005670399506143308\n",
            "Epoch [30/50], Train Accuracy: 56.9 %, Loss: 0.9424\n",
            "Epoch [30/50], Learning Rate: 0.005360813071670102\n",
            "Epoch [31/50], Train Accuracy: 59.0 %, Loss: 0.4649\n",
            "Epoch [31/50], Learning Rate: 0.005050000000000001\n",
            "Epoch [32/50], Train Accuracy: 55.0 %, Loss: 1.6793\n",
            "Epoch [32/50], Learning Rate: 0.004739186928329899\n",
            "Epoch [33/50], Train Accuracy: 57.7 %, Loss: 1.2385\n",
            "Epoch [33/50], Learning Rate: 0.004429600493856695\n",
            "Epoch [34/50], Train Accuracy: 59.9 %, Loss: 1.2639\n",
            "Epoch [34/50], Learning Rate: 0.0041224624928006635\n",
            "Epoch [35/50], Train Accuracy: 62.8 %, Loss: 1.6711\n",
            "Epoch [35/50], Learning Rate: 0.0038189850585339685\n",
            "Epoch [36/50], Train Accuracy: 63.3 %, Loss: 1.5068\n",
            "Epoch [36/50], Learning Rate: 0.003520365877844012\n",
            "Epoch [37/50], Train Accuracy: 64.4 %, Loss: 1.3991\n",
            "Epoch [37/50], Learning Rate: 0.0032277834642108457\n",
            "Epoch [38/50], Train Accuracy: 63.2 %, Loss: 0.8561\n",
            "Epoch [38/50], Learning Rate: 0.0029423925067528904\n",
            "Epoch [39/50], Train Accuracy: 64.7 %, Loss: 1.7380\n",
            "Epoch [39/50], Learning Rate: 0.002665319313196509\n",
            "Epoch [40/50], Train Accuracy: 63.4 %, Loss: 0.5336\n",
            "Epoch [40/50], Learning Rate: 0.0023976573648539653\n",
            "Epoch [41/50], Train Accuracy: 65.9 %, Loss: 1.7186\n",
            "Epoch [41/50], Learning Rate: 0.0021404630011522584\n",
            "Epoch [42/50], Train Accuracy: 63.3 %, Loss: 0.9616\n",
            "Epoch [42/50], Learning Rate: 0.001894751250743986\n",
            "Epoch [43/50], Train Accuracy: 68.0 %, Loss: 1.1167\n",
            "Epoch [43/50], Learning Rate: 0.001661491825652991\n",
            "Epoch [44/50], Train Accuracy: 68.1 %, Loss: 1.0828\n",
            "Epoch [44/50], Learning Rate: 0.001441605294264014\n",
            "Epoch [45/50], Train Accuracy: 67.6 %, Loss: 1.1164\n",
            "Epoch [45/50], Learning Rate: 0.001235959448259844\n",
            "Epoch [46/50], Train Accuracy: 67.3 %, Loss: 1.1502\n",
            "Epoch [46/50], Learning Rate: 0.0010453658778440107\n",
            "Epoch [47/50], Train Accuracy: 69.7 %, Loss: 1.4932\n",
            "Epoch [47/50], Learning Rate: 0.0008705767687650265\n",
            "Epoch [48/50], Train Accuracy: 70.4 %, Loss: 1.2786\n",
            "Epoch [48/50], Learning Rate: 0.0007122819337828754\n",
            "Epoch [49/50], Train Accuracy: 68.2 %, Loss: 0.9699\n",
            "Epoch [49/50], Learning Rate: 0.0005711060902932043\n",
            "Epoch [50/50], Train Accuracy: 68.2 %, Loss: 0.5996\n",
            "Epoch [50/50], Learning Rate: 0.00044760639485315584\n"
          ]
        }
      ]
    },
    {
      "cell_type": "code",
      "source": [
        "# モデルの刈り込み率を計算する関数を作成\n",
        "def calculate_pruned_ratio(model):\n",
        "    total_weights = 0\n",
        "    total_pruned_weights = 0\n",
        "\n",
        "    for module in model.modules():\n",
        "        # モジュールがSupermaskConvであるか確認\n",
        "        if isinstance(module, SupermaskConv):\n",
        "            # SupermaskConv層の重みを取得\n",
        "            weight = module.weight.data\n",
        "            # 刈り込みを適用した後の重みを取得\n",
        "            subnet = GetSubnet.apply(module.clamped_scores, 1 - module.prune_rate)\n",
        "            pruned_weight = weight * subnet\n",
        "            # 0である要素数を計算\n",
        "            pruned_weights_count = (pruned_weight == 0).sum().item()\n",
        "            total_pruned_weights += pruned_weights_count\n",
        "            # 重みの全要素数を計算\n",
        "            total_weights_count = pruned_weight.numel()\n",
        "            total_weights += total_weights_count\n",
        "\n",
        "    # 刈り込みが行われた割合を計算\n",
        "    pruned_ratio = total_pruned_weights / total_weights\n",
        "    return print(f\"刈り込み率は{pruned_ratio:.3f}です\")\n",
        "\n",
        "# モデルの刈り込み率を確認\n",
        "calculate_pruned_ratio(model)"
      ],
      "metadata": {
        "id": "kbNrQNCAqNiI",
        "colab": {
          "base_uri": "https://localhost:8080/"
        },
        "outputId": "cb68e77f-4596-4f43-a6ab-1d9e667036b5"
      },
      "execution_count": 47,
      "outputs": [
        {
          "output_type": "stream",
          "name": "stdout",
          "text": [
            "刈り込み率は0.700です\n"
          ]
        }
      ]
    },
    {
      "cell_type": "code",
      "source": [
        "# 学習前後のモデルのスコアを比較する関数を作成\n",
        "def check_scores_change(model, model_init):\n",
        "    # 各モデルの名前付きモジュールを順に調べる\n",
        "    for (name, module), (name_init, module_init) in zip(model.named_modules(), model_init.named_modules()):\n",
        "        # 両モジュールがConv2dのインスタンスであるかを確認\n",
        "        if isinstance(module, torch.nn.Conv2d) and isinstance(module_init, torch.nn.Conv2d):\n",
        "            # 両モジュールが'scores'属性を持っているかを確認\n",
        "            if hasattr(module, 'scores') and hasattr(module_init, 'scores'):\n",
        "                # 両モジュールの'scores'属性が一致しているかを確認\n",
        "                # 一致していない場合、変更があったことを示すメッセージを出力\n",
        "                if not torch.equal(module.scores, module_init.scores):\n",
        "                    print(f'{name}のスコアが変化しています')\n",
        "                    return\n",
        "    # すべてのconv層で'scores'が変更されていない場合、その旨を出力\n",
        "    print('すべてのスコアは変化していません')\n",
        "\n",
        "# 学習前後でモデルのスコアが変化していないかを確認\n",
        "check_scores_change(model, model_init)"
      ],
      "metadata": {
        "id": "ZVWwwKmPqNiI",
        "colab": {
          "base_uri": "https://localhost:8080/"
        },
        "outputId": "fac597bc-e9f9-4ddc-9c30-4f946138c114"
      },
      "execution_count": 48,
      "outputs": [
        {
          "output_type": "stream",
          "name": "stdout",
          "text": [
            "すべてのスコアは変化していません\n"
          ]
        }
      ]
    },
    {
      "cell_type": "code",
      "source": [
        "# 学習前後のモデルの最終層以外の重みを比較する関数を作成\n",
        "def check_weight_change_except_last(model, model_init):\n",
        "    for (name, param), (name_init, param_init) in zip(model.named_parameters(), model_init.named_parameters()):\n",
        "        # 最終層を除く\n",
        "        if name != 'fc.weight' and name != 'fc.bias':\n",
        "            weights_changed = (param.data != param_init.data).any()\n",
        "            if weights_changed:\n",
        "                return print('最終層以外の重みが変化しています')\n",
        "    return print('最終層以外の重みは変化していません')\n",
        "\n",
        "# 学習前後でモデルの最終層以外の重みが変化していないかを確認\n",
        "check_weight_change_except_last(model, model_init)"
      ],
      "metadata": {
        "id": "hGwPZA1QqNiI",
        "colab": {
          "base_uri": "https://localhost:8080/"
        },
        "outputId": "36ab4926-ec21-44d6-cf19-e04341aaaf3e"
      },
      "execution_count": 49,
      "outputs": [
        {
          "output_type": "stream",
          "name": "stdout",
          "text": [
            "最終層以外の重みは変化していません\n"
          ]
        }
      ]
    },
    {
      "cell_type": "code",
      "source": [
        "# モデルの評価\n",
        "model.eval()\n",
        "with torch.no_grad():\n",
        "    total = 0\n",
        "    correct = 0\n",
        "    for images, labels in test_loader_handsigns:\n",
        "        images = images.to(device)\n",
        "        labels = labels.to(device)\n",
        "        outputs = model(images)\n",
        "        _, predicted = torch.max(outputs.data, 1)\n",
        "        total += labels.size(0)\n",
        "        correct += (predicted == labels).sum().item()\n",
        "    # 正解率精度の確認\n",
        "    print('Test Accuracy: {} %'.format(100 * correct / total))"
      ],
      "metadata": {
        "id": "_fUK0AL7qNiI",
        "colab": {
          "base_uri": "https://localhost:8080/"
        },
        "outputId": "c4462601-be1d-4b48-cfea-7f8834da7b03"
      },
      "execution_count": 50,
      "outputs": [
        {
          "output_type": "stream",
          "name": "stdout",
          "text": [
            "Test Accuracy: 75.0 %\n"
          ]
        }
      ]
    },
    {
      "cell_type": "code",
      "source": [
        "# GPUメモリの解放\n",
        "del model, model_init\n",
        "torch.cuda.empty_cache()"
      ],
      "metadata": {
        "id": "P0yCgmcsqNiI"
      },
      "execution_count": 51,
      "outputs": []
    },
    {
      "cell_type": "markdown",
      "source": [
        "### prune_rate=0.5"
      ],
      "metadata": {
        "id": "BxdxiNhUqUtn"
      }
    },
    {
      "cell_type": "code",
      "source": [
        "# デバイスを設定\n",
        "device = torch.device('cuda' if torch.cuda.is_available() else 'cpu')\n",
        "# モデルを定義\n",
        "model = torch.load('/content/drive/MyDrive/SupermaskWideResNet28_10_CIFAR10_100epochs_pr0.5_uniform_CLRS_restest.pth')\n",
        "# 最終層を変更\n",
        "model.fc = nn.Linear(model.fc.in_features, 10)\n",
        "# 最終層以外のパラメータの勾配計算を停止\n",
        "for param in model.parameters():\n",
        "    param.requires_grad = False\n",
        "# 最終層のパラメータのみを学習するように設定\n",
        "for param in model.fc.parameters():\n",
        "    param.requires_grad = True\n",
        "# モデルをデバイスに転送\n",
        "model = model.to(device)\n",
        "# 変更後のモデルの重みを保存\n",
        "model_init = copy.deepcopy(model)\n",
        "\n",
        "# 学習率を設定\n",
        "learning_rate = 0.01\n",
        "# 全体のepoch数を設定\n",
        "num_epochs = 50\n",
        "# warm-upするepoch数を設定\n",
        "warmup_epochs = 5\n",
        "\n",
        "# 損失関数を定義\n",
        "criterion = nn.CrossEntropyLoss()\n",
        "# オプティマイザーを設定\n",
        "optimizer = optim.Adam(model.fc.parameters(), lr=learning_rate)\n",
        "# スケジューラーを設定\n",
        "scheduler = CosineLRScheduler(optimizer, t_initial=num_epochs, lr_min=1e-4, warmup_t=warmup_epochs, warmup_lr_init=1e-4, warmup_prefix=True)\n",
        "\n",
        "# モデルの学習\n",
        "for epoch in range(num_epochs):\n",
        "    total = 0\n",
        "    correct = 0\n",
        "    for i, (images, labels) in enumerate(train_loader_handsigns):\n",
        "        images = images.to(device)\n",
        "        labels = labels.to(device)\n",
        "        # 順伝播\n",
        "        outputs = model(images)\n",
        "        loss = criterion(outputs, labels)\n",
        "        # 逆伝播\n",
        "        optimizer.zero_grad()\n",
        "        loss.backward()\n",
        "        optimizer.step()\n",
        "        _, predicted = torch.max(outputs.data, 1)\n",
        "        # 全データ数\n",
        "        total += labels.size(0)\n",
        "        # 正解数\n",
        "        correct += (predicted == labels).sum().item()\n",
        "    # 正解率精度を計算\n",
        "    train_acc = 100 * correct / total\n",
        "    # 正解率精度と損失を確認\n",
        "    print(\"Epoch [{}/{}], Train Accuracy: {} %, Loss: {:.4f}\".format(epoch+1, num_epochs, 100 * correct / total, loss.item()))\n",
        "    # 1エポック終了後にスケジューラーを更新\n",
        "    scheduler.step(epoch)\n",
        "    # 学習率の確認\n",
        "    print(\"Epoch [{}/{}], Learning Rate: {}\".format(epoch+1, num_epochs, optimizer.param_groups[0]['lr']))\n",
        "\n",
        "\n",
        "# モデルを保存\n",
        "torch.save(model, '/content/drive/MyDrive/SupermaskWideResNet28_10_HandSigns_from_CIFAR10_100epochs_pr0.5_uniform_50epochs_lr0.01_CLRS_restest.pth')"
      ],
      "metadata": {
        "id": "k5t5PfxlqUtn",
        "colab": {
          "base_uri": "https://localhost:8080/"
        },
        "outputId": "38ff8f7a-7876-42ec-df5c-f9ebb0fc227c"
      },
      "execution_count": 52,
      "outputs": [
        {
          "output_type": "stream",
          "name": "stdout",
          "text": [
            "Epoch [1/50], Train Accuracy: 12.7 %, Loss: 2.2573\n",
            "Epoch [1/50], Learning Rate: 0.0001\n",
            "Epoch [2/50], Train Accuracy: 20.0 %, Loss: 2.1193\n",
            "Epoch [2/50], Learning Rate: 0.00208\n",
            "Epoch [3/50], Train Accuracy: 22.2 %, Loss: 1.7600\n",
            "Epoch [3/50], Learning Rate: 0.00406\n",
            "Epoch [4/50], Train Accuracy: 29.4 %, Loss: 1.6703\n",
            "Epoch [4/50], Learning Rate: 0.00604\n",
            "Epoch [5/50], Train Accuracy: 29.2 %, Loss: 3.0711\n",
            "Epoch [5/50], Learning Rate: 0.00802\n",
            "Epoch [6/50], Train Accuracy: 30.1 %, Loss: 1.3414\n",
            "Epoch [6/50], Learning Rate: 0.01\n",
            "Epoch [7/50], Train Accuracy: 30.0 %, Loss: 1.8948\n",
            "Epoch [7/50], Learning Rate: 0.009990232305719944\n",
            "Epoch [8/50], Train Accuracy: 34.5 %, Loss: 1.9441\n",
            "Epoch [8/50], Learning Rate: 0.009960967771506667\n",
            "Epoch [9/50], Train Accuracy: 37.1 %, Loss: 1.7012\n",
            "Epoch [9/50], Learning Rate: 0.00991232189110701\n",
            "Epoch [10/50], Train Accuracy: 37.3 %, Loss: 2.2320\n",
            "Epoch [10/50], Learning Rate: 0.009844486647586723\n",
            "Epoch [11/50], Train Accuracy: 42.4 %, Loss: 2.5399\n",
            "Epoch [11/50], Learning Rate: 0.009757729755661011\n",
            "Epoch [12/50], Train Accuracy: 42.5 %, Loss: 1.9371\n",
            "Epoch [12/50], Learning Rate: 0.009652393605146845\n",
            "Epoch [13/50], Train Accuracy: 42.8 %, Loss: 1.2665\n",
            "Epoch [13/50], Learning Rate: 0.009528893909706798\n",
            "Epoch [14/50], Train Accuracy: 41.7 %, Loss: 1.7743\n",
            "Epoch [14/50], Learning Rate: 0.009387718066217124\n",
            "Epoch [15/50], Train Accuracy: 45.4 %, Loss: 1.6384\n",
            "Epoch [15/50], Learning Rate: 0.009229423231234974\n",
            "Epoch [16/50], Train Accuracy: 47.2 %, Loss: 1.3642\n",
            "Epoch [16/50], Learning Rate: 0.00905463412215599\n",
            "Epoch [17/50], Train Accuracy: 48.0 %, Loss: 1.5869\n",
            "Epoch [17/50], Learning Rate: 0.008864040551740157\n",
            "Epoch [18/50], Train Accuracy: 47.7 %, Loss: 2.1834\n",
            "Epoch [18/50], Learning Rate: 0.008658394705735987\n",
            "Epoch [19/50], Train Accuracy: 50.8 %, Loss: 1.4359\n",
            "Epoch [19/50], Learning Rate: 0.00843850817434701\n",
            "Epoch [20/50], Train Accuracy: 53.3 %, Loss: 2.0467\n",
            "Epoch [20/50], Learning Rate: 0.008205248749256015\n",
            "Epoch [21/50], Train Accuracy: 50.6 %, Loss: 2.6887\n",
            "Epoch [21/50], Learning Rate: 0.007959536998847744\n",
            "Epoch [22/50], Train Accuracy: 49.7 %, Loss: 0.8601\n",
            "Epoch [22/50], Learning Rate: 0.007702342635146034\n",
            "Epoch [23/50], Train Accuracy: 52.9 %, Loss: 0.9476\n",
            "Epoch [23/50], Learning Rate: 0.007434680686803491\n",
            "Epoch [24/50], Train Accuracy: 54.4 %, Loss: 1.6827\n",
            "Epoch [24/50], Learning Rate: 0.0071576074932471105\n",
            "Epoch [25/50], Train Accuracy: 54.8 %, Loss: 2.1716\n",
            "Epoch [25/50], Learning Rate: 0.006872216535789157\n",
            "Epoch [26/50], Train Accuracy: 51.9 %, Loss: 1.2464\n",
            "Epoch [26/50], Learning Rate: 0.006579634122155991\n",
            "Epoch [27/50], Train Accuracy: 54.2 %, Loss: 1.4365\n",
            "Epoch [27/50], Learning Rate: 0.0062810149414660316\n",
            "Epoch [28/50], Train Accuracy: 59.3 %, Loss: 1.1612\n",
            "Epoch [28/50], Learning Rate: 0.005977537507199339\n",
            "Epoch [29/50], Train Accuracy: 58.1 %, Loss: 1.1051\n",
            "Epoch [29/50], Learning Rate: 0.005670399506143308\n",
            "Epoch [30/50], Train Accuracy: 61.0 %, Loss: 1.2650\n",
            "Epoch [30/50], Learning Rate: 0.005360813071670102\n",
            "Epoch [31/50], Train Accuracy: 59.7 %, Loss: 1.1423\n",
            "Epoch [31/50], Learning Rate: 0.005050000000000001\n",
            "Epoch [32/50], Train Accuracy: 60.1 %, Loss: 1.0181\n",
            "Epoch [32/50], Learning Rate: 0.004739186928329899\n",
            "Epoch [33/50], Train Accuracy: 62.5 %, Loss: 1.5439\n",
            "Epoch [33/50], Learning Rate: 0.004429600493856695\n",
            "Epoch [34/50], Train Accuracy: 63.2 %, Loss: 0.9817\n",
            "Epoch [34/50], Learning Rate: 0.0041224624928006635\n",
            "Epoch [35/50], Train Accuracy: 62.8 %, Loss: 1.2817\n",
            "Epoch [35/50], Learning Rate: 0.0038189850585339685\n",
            "Epoch [36/50], Train Accuracy: 64.9 %, Loss: 1.1027\n",
            "Epoch [36/50], Learning Rate: 0.003520365877844012\n",
            "Epoch [37/50], Train Accuracy: 59.8 %, Loss: 1.7250\n",
            "Epoch [37/50], Learning Rate: 0.0032277834642108457\n",
            "Epoch [38/50], Train Accuracy: 65.7 %, Loss: 1.4861\n",
            "Epoch [38/50], Learning Rate: 0.0029423925067528904\n",
            "Epoch [39/50], Train Accuracy: 65.3 %, Loss: 0.8452\n",
            "Epoch [39/50], Learning Rate: 0.002665319313196509\n",
            "Epoch [40/50], Train Accuracy: 64.8 %, Loss: 0.7294\n",
            "Epoch [40/50], Learning Rate: 0.0023976573648539653\n",
            "Epoch [41/50], Train Accuracy: 67.3 %, Loss: 0.8928\n",
            "Epoch [41/50], Learning Rate: 0.0021404630011522584\n",
            "Epoch [42/50], Train Accuracy: 64.3 %, Loss: 1.5458\n",
            "Epoch [42/50], Learning Rate: 0.001894751250743986\n",
            "Epoch [43/50], Train Accuracy: 66.4 %, Loss: 0.8895\n",
            "Epoch [43/50], Learning Rate: 0.001661491825652991\n",
            "Epoch [44/50], Train Accuracy: 69.9 %, Loss: 1.0348\n",
            "Epoch [44/50], Learning Rate: 0.001441605294264014\n",
            "Epoch [45/50], Train Accuracy: 69.6 %, Loss: 0.8259\n",
            "Epoch [45/50], Learning Rate: 0.001235959448259844\n",
            "Epoch [46/50], Train Accuracy: 69.6 %, Loss: 1.3826\n",
            "Epoch [46/50], Learning Rate: 0.0010453658778440107\n",
            "Epoch [47/50], Train Accuracy: 67.9 %, Loss: 0.7679\n",
            "Epoch [47/50], Learning Rate: 0.0008705767687650265\n",
            "Epoch [48/50], Train Accuracy: 70.1 %, Loss: 1.4876\n",
            "Epoch [48/50], Learning Rate: 0.0007122819337828754\n",
            "Epoch [49/50], Train Accuracy: 71.2 %, Loss: 0.8436\n",
            "Epoch [49/50], Learning Rate: 0.0005711060902932043\n",
            "Epoch [50/50], Train Accuracy: 72.2 %, Loss: 0.7827\n",
            "Epoch [50/50], Learning Rate: 0.00044760639485315584\n"
          ]
        }
      ]
    },
    {
      "cell_type": "code",
      "source": [
        "# モデルの刈り込み率を計算する関数を作成\n",
        "def calculate_pruned_ratio(model):\n",
        "    total_weights = 0\n",
        "    total_pruned_weights = 0\n",
        "\n",
        "    for module in model.modules():\n",
        "        # モジュールがSupermaskConvであるか確認\n",
        "        if isinstance(module, SupermaskConv):\n",
        "            # SupermaskConv層の重みを取得\n",
        "            weight = module.weight.data\n",
        "            # 刈り込みを適用した後の重みを取得\n",
        "            subnet = GetSubnet.apply(module.clamped_scores, 1 - module.prune_rate)\n",
        "            pruned_weight = weight * subnet\n",
        "            # 0である要素数を計算\n",
        "            pruned_weights_count = (pruned_weight == 0).sum().item()\n",
        "            total_pruned_weights += pruned_weights_count\n",
        "            # 重みの全要素数を計算\n",
        "            total_weights_count = pruned_weight.numel()\n",
        "            total_weights += total_weights_count\n",
        "\n",
        "    # 刈り込みが行われた割合を計算\n",
        "    pruned_ratio = total_pruned_weights / total_weights\n",
        "    return print(f\"刈り込み率は{pruned_ratio:.3f}です\")\n",
        "\n",
        "# モデルの刈り込み率を確認\n",
        "calculate_pruned_ratio(model)"
      ],
      "metadata": {
        "id": "W97JiUXFqUto",
        "colab": {
          "base_uri": "https://localhost:8080/"
        },
        "outputId": "9d231200-7f23-4e6a-d3ec-bc682719eecd"
      },
      "execution_count": 53,
      "outputs": [
        {
          "output_type": "stream",
          "name": "stdout",
          "text": [
            "刈り込み率は0.500です\n"
          ]
        }
      ]
    },
    {
      "cell_type": "code",
      "source": [
        "# 学習前後のモデルのスコアを比較する関数を作成\n",
        "def check_scores_change(model, model_init):\n",
        "    # 各モデルの名前付きモジュールを順に調べる\n",
        "    for (name, module), (name_init, module_init) in zip(model.named_modules(), model_init.named_modules()):\n",
        "        # 両モジュールがConv2dのインスタンスであるかを確認\n",
        "        if isinstance(module, torch.nn.Conv2d) and isinstance(module_init, torch.nn.Conv2d):\n",
        "            # 両モジュールが'scores'属性を持っているかを確認\n",
        "            if hasattr(module, 'scores') and hasattr(module_init, 'scores'):\n",
        "                # 両モジュールの'scores'属性が一致しているかを確認\n",
        "                # 一致していない場合、変更があったことを示すメッセージを出力\n",
        "                if not torch.equal(module.scores, module_init.scores):\n",
        "                    print(f'{name}のスコアが変化しています')\n",
        "                    return\n",
        "    # すべてのconv層で'scores'が変更されていない場合、その旨を出力\n",
        "    print('すべてのスコアは変化していません')\n",
        "\n",
        "# 学習前後でモデルのスコアが変化していないかを確認\n",
        "check_scores_change(model, model_init)"
      ],
      "metadata": {
        "id": "_igSGIU6qUto",
        "colab": {
          "base_uri": "https://localhost:8080/"
        },
        "outputId": "b7ef26bf-3078-4b62-a937-3574527453eb"
      },
      "execution_count": 54,
      "outputs": [
        {
          "output_type": "stream",
          "name": "stdout",
          "text": [
            "すべてのスコアは変化していません\n"
          ]
        }
      ]
    },
    {
      "cell_type": "code",
      "source": [
        "# 学習前後のモデルの最終層以外の重みを比較する関数を作成\n",
        "def check_weight_change_except_last(model, model_init):\n",
        "    for (name, param), (name_init, param_init) in zip(model.named_parameters(), model_init.named_parameters()):\n",
        "        # 最終層を除く\n",
        "        if name != 'fc.weight' and name != 'fc.bias':\n",
        "            weights_changed = (param.data != param_init.data).any()\n",
        "            if weights_changed:\n",
        "                return print('最終層以外の重みが変化しています')\n",
        "    return print('最終層以外の重みは変化していません')\n",
        "\n",
        "# 学習前後でモデルの最終層以外の重みが変化していないかを確認\n",
        "check_weight_change_except_last(model, model_init)"
      ],
      "metadata": {
        "id": "fOIcNLDzqUto",
        "colab": {
          "base_uri": "https://localhost:8080/"
        },
        "outputId": "c4bd794e-61b9-406f-faf4-4ce663a7cdbc"
      },
      "execution_count": 55,
      "outputs": [
        {
          "output_type": "stream",
          "name": "stdout",
          "text": [
            "最終層以外の重みは変化していません\n"
          ]
        }
      ]
    },
    {
      "cell_type": "code",
      "source": [
        "# モデルの評価\n",
        "model.eval()\n",
        "with torch.no_grad():\n",
        "    total = 0\n",
        "    correct = 0\n",
        "    for images, labels in test_loader_handsigns:\n",
        "        images = images.to(device)\n",
        "        labels = labels.to(device)\n",
        "        outputs = model(images)\n",
        "        _, predicted = torch.max(outputs.data, 1)\n",
        "        total += labels.size(0)\n",
        "        correct += (predicted == labels).sum().item()\n",
        "    # 正解率精度の確認\n",
        "    print('Test Accuracy: {} %'.format(100 * correct / total))"
      ],
      "metadata": {
        "id": "AiKw0GhHqUto",
        "colab": {
          "base_uri": "https://localhost:8080/"
        },
        "outputId": "4b300936-0126-4cce-f998-8fa7621a15b1"
      },
      "execution_count": 56,
      "outputs": [
        {
          "output_type": "stream",
          "name": "stdout",
          "text": [
            "Test Accuracy: 75.0 %\n"
          ]
        }
      ]
    },
    {
      "cell_type": "code",
      "source": [
        "# GPUメモリの解放\n",
        "del model, model_init\n",
        "torch.cuda.empty_cache()"
      ],
      "metadata": {
        "id": "ikDtoXLbqUto"
      },
      "execution_count": 57,
      "outputs": []
    },
    {
      "cell_type": "markdown",
      "source": [
        "## 学習と評価（100 epochs, init=kaiming_normal）"
      ],
      "metadata": {
        "id": "2atmPsCD5ThV"
      }
    },
    {
      "cell_type": "markdown",
      "source": [
        "### prune_rate=0.999"
      ],
      "metadata": {
        "id": "XohYpLpwsKjY"
      }
    },
    {
      "cell_type": "code",
      "source": [
        "# デバイスを設定\n",
        "device = torch.device('cuda' if torch.cuda.is_available() else 'cpu')\n",
        "# モデルを定義\n",
        "model = torch.load('/content/drive/MyDrive/SupermaskWideResNet28_10_CIFAR10_100epochs_pr0.999_normal_CLRS_restest.pth')\n",
        "# 最終層を変更\n",
        "model.fc = nn.Linear(model.fc.in_features, 10)\n",
        "# 最終層以外のパラメータの勾配計算を停止\n",
        "for param in model.parameters():\n",
        "    param.requires_grad = False\n",
        "# 最終層のパラメータのみを学習するように設定\n",
        "for param in model.fc.parameters():\n",
        "    param.requires_grad = True\n",
        "# モデルをデバイスに転送\n",
        "model = model.to(device)\n",
        "# 変更後のモデルの重みを保存\n",
        "model_init = copy.deepcopy(model)\n",
        "\n",
        "# 学習率を設定\n",
        "learning_rate = 0.01\n",
        "# 全体のepoch数を設定\n",
        "num_epochs = 50\n",
        "# warm-upするepoch数を設定\n",
        "warmup_epochs = 5\n",
        "\n",
        "# 損失関数を定義\n",
        "criterion = nn.CrossEntropyLoss()\n",
        "# オプティマイザーを設定\n",
        "optimizer = optim.Adam(model.fc.parameters(), lr=learning_rate)\n",
        "# スケジューラーを設定\n",
        "scheduler = CosineLRScheduler(optimizer, t_initial=num_epochs, lr_min=1e-4, warmup_t=warmup_epochs, warmup_lr_init=1e-4, warmup_prefix=True)\n",
        "\n",
        "# モデルの学習\n",
        "for epoch in range(num_epochs):\n",
        "    total = 0\n",
        "    correct = 0\n",
        "    for i, (images, labels) in enumerate(train_loader_handsigns):\n",
        "        images = images.to(device)\n",
        "        labels = labels.to(device)\n",
        "        # 順伝播\n",
        "        outputs = model(images)\n",
        "        loss = criterion(outputs, labels)\n",
        "        # 逆伝播\n",
        "        optimizer.zero_grad()\n",
        "        loss.backward()\n",
        "        optimizer.step()\n",
        "        _, predicted = torch.max(outputs.data, 1)\n",
        "        # 全データ数\n",
        "        total += labels.size(0)\n",
        "        # 正解数\n",
        "        correct += (predicted == labels).sum().item()\n",
        "    # 正解率精度を計算\n",
        "    train_acc = 100 * correct / total\n",
        "    # 正解率精度と損失を確認\n",
        "    print(\"Epoch [{}/{}], Train Accuracy: {} %, Loss: {:.4f}\".format(epoch+1, num_epochs, 100 * correct / total, loss.item()))\n",
        "    # 1エポック終了後にスケジューラーを更新\n",
        "    scheduler.step(epoch)\n",
        "    # 学習率の確認\n",
        "    print(\"Epoch [{}/{}], Learning Rate: {}\".format(epoch+1, num_epochs, optimizer.param_groups[0]['lr']))\n",
        "\n",
        "\n",
        "# モデルを保存\n",
        "torch.save(model, '/content/drive/MyDrive/SupermaskWideResNet28_10_HandSigns_from_CIFAR10_100epochs_pr0.999_normal_50epochs_lr0.01_CLRS_restest.pth')"
      ],
      "metadata": {
        "id": "AmY2J5YpsKjm",
        "colab": {
          "base_uri": "https://localhost:8080/"
        },
        "outputId": "1e37a2e2-0fe1-471f-bd2c-5b2e9b4bde43"
      },
      "execution_count": 58,
      "outputs": [
        {
          "output_type": "stream",
          "name": "stdout",
          "text": [
            "Epoch [1/50], Train Accuracy: 10.9 %, Loss: 2.2503\n",
            "Epoch [1/50], Learning Rate: 0.0001\n",
            "Epoch [2/50], Train Accuracy: 16.9 %, Loss: 2.2672\n",
            "Epoch [2/50], Learning Rate: 0.00208\n",
            "Epoch [3/50], Train Accuracy: 19.0 %, Loss: 2.1333\n",
            "Epoch [3/50], Learning Rate: 0.00406\n",
            "Epoch [4/50], Train Accuracy: 27.1 %, Loss: 2.0581\n",
            "Epoch [4/50], Learning Rate: 0.00604\n",
            "Epoch [5/50], Train Accuracy: 27.6 %, Loss: 1.4303\n",
            "Epoch [5/50], Learning Rate: 0.00802\n",
            "Epoch [6/50], Train Accuracy: 32.1 %, Loss: 1.7066\n",
            "Epoch [6/50], Learning Rate: 0.01\n",
            "Epoch [7/50], Train Accuracy: 34.1 %, Loss: 2.6780\n",
            "Epoch [7/50], Learning Rate: 0.009990232305719944\n",
            "Epoch [8/50], Train Accuracy: 31.7 %, Loss: 2.6275\n",
            "Epoch [8/50], Learning Rate: 0.009960967771506667\n",
            "Epoch [9/50], Train Accuracy: 35.1 %, Loss: 2.0750\n",
            "Epoch [9/50], Learning Rate: 0.00991232189110701\n",
            "Epoch [10/50], Train Accuracy: 38.1 %, Loss: 1.6093\n",
            "Epoch [10/50], Learning Rate: 0.009844486647586723\n",
            "Epoch [11/50], Train Accuracy: 38.3 %, Loss: 1.6491\n",
            "Epoch [11/50], Learning Rate: 0.009757729755661011\n",
            "Epoch [12/50], Train Accuracy: 36.8 %, Loss: 1.9831\n",
            "Epoch [12/50], Learning Rate: 0.009652393605146845\n",
            "Epoch [13/50], Train Accuracy: 38.5 %, Loss: 1.7230\n",
            "Epoch [13/50], Learning Rate: 0.009528893909706798\n",
            "Epoch [14/50], Train Accuracy: 35.8 %, Loss: 2.7541\n",
            "Epoch [14/50], Learning Rate: 0.009387718066217124\n",
            "Epoch [15/50], Train Accuracy: 43.2 %, Loss: 1.5644\n",
            "Epoch [15/50], Learning Rate: 0.009229423231234974\n",
            "Epoch [16/50], Train Accuracy: 43.1 %, Loss: 1.7227\n",
            "Epoch [16/50], Learning Rate: 0.00905463412215599\n",
            "Epoch [17/50], Train Accuracy: 43.3 %, Loss: 2.1464\n",
            "Epoch [17/50], Learning Rate: 0.008864040551740157\n",
            "Epoch [18/50], Train Accuracy: 39.7 %, Loss: 1.6171\n",
            "Epoch [18/50], Learning Rate: 0.008658394705735987\n",
            "Epoch [19/50], Train Accuracy: 44.3 %, Loss: 1.8578\n",
            "Epoch [19/50], Learning Rate: 0.00843850817434701\n",
            "Epoch [20/50], Train Accuracy: 42.9 %, Loss: 1.8382\n",
            "Epoch [20/50], Learning Rate: 0.008205248749256015\n",
            "Epoch [21/50], Train Accuracy: 45.3 %, Loss: 3.1136\n",
            "Epoch [21/50], Learning Rate: 0.007959536998847744\n",
            "Epoch [22/50], Train Accuracy: 44.7 %, Loss: 1.8380\n",
            "Epoch [22/50], Learning Rate: 0.007702342635146034\n",
            "Epoch [23/50], Train Accuracy: 45.5 %, Loss: 0.8085\n",
            "Epoch [23/50], Learning Rate: 0.007434680686803491\n",
            "Epoch [24/50], Train Accuracy: 43.6 %, Loss: 1.3007\n",
            "Epoch [24/50], Learning Rate: 0.0071576074932471105\n",
            "Epoch [25/50], Train Accuracy: 45.6 %, Loss: 1.7045\n",
            "Epoch [25/50], Learning Rate: 0.006872216535789157\n",
            "Epoch [26/50], Train Accuracy: 43.9 %, Loss: 2.0894\n",
            "Epoch [26/50], Learning Rate: 0.006579634122155991\n",
            "Epoch [27/50], Train Accuracy: 46.7 %, Loss: 1.0753\n",
            "Epoch [27/50], Learning Rate: 0.0062810149414660316\n",
            "Epoch [28/50], Train Accuracy: 47.1 %, Loss: 1.2435\n",
            "Epoch [28/50], Learning Rate: 0.005977537507199339\n",
            "Epoch [29/50], Train Accuracy: 48.1 %, Loss: 1.6652\n",
            "Epoch [29/50], Learning Rate: 0.005670399506143308\n",
            "Epoch [30/50], Train Accuracy: 45.5 %, Loss: 2.4083\n",
            "Epoch [30/50], Learning Rate: 0.005360813071670102\n",
            "Epoch [31/50], Train Accuracy: 50.5 %, Loss: 1.4653\n",
            "Epoch [31/50], Learning Rate: 0.005050000000000001\n",
            "Epoch [32/50], Train Accuracy: 47.4 %, Loss: 1.5363\n",
            "Epoch [32/50], Learning Rate: 0.004739186928329899\n",
            "Epoch [33/50], Train Accuracy: 48.6 %, Loss: 1.4491\n",
            "Epoch [33/50], Learning Rate: 0.004429600493856695\n",
            "Epoch [34/50], Train Accuracy: 48.3 %, Loss: 1.1673\n",
            "Epoch [34/50], Learning Rate: 0.0041224624928006635\n",
            "Epoch [35/50], Train Accuracy: 47.2 %, Loss: 1.4090\n",
            "Epoch [35/50], Learning Rate: 0.0038189850585339685\n",
            "Epoch [36/50], Train Accuracy: 47.7 %, Loss: 1.2073\n",
            "Epoch [36/50], Learning Rate: 0.003520365877844012\n",
            "Epoch [37/50], Train Accuracy: 52.7 %, Loss: 1.8420\n",
            "Epoch [37/50], Learning Rate: 0.0032277834642108457\n",
            "Epoch [38/50], Train Accuracy: 49.7 %, Loss: 1.7996\n",
            "Epoch [38/50], Learning Rate: 0.0029423925067528904\n",
            "Epoch [39/50], Train Accuracy: 52.1 %, Loss: 1.6749\n",
            "Epoch [39/50], Learning Rate: 0.002665319313196509\n",
            "Epoch [40/50], Train Accuracy: 51.5 %, Loss: 2.2468\n",
            "Epoch [40/50], Learning Rate: 0.0023976573648539653\n",
            "Epoch [41/50], Train Accuracy: 49.8 %, Loss: 1.8445\n",
            "Epoch [41/50], Learning Rate: 0.0021404630011522584\n",
            "Epoch [42/50], Train Accuracy: 50.5 %, Loss: 1.0137\n",
            "Epoch [42/50], Learning Rate: 0.001894751250743986\n",
            "Epoch [43/50], Train Accuracy: 50.5 %, Loss: 1.0881\n",
            "Epoch [43/50], Learning Rate: 0.001661491825652991\n",
            "Epoch [44/50], Train Accuracy: 52.6 %, Loss: 1.6240\n",
            "Epoch [44/50], Learning Rate: 0.001441605294264014\n",
            "Epoch [45/50], Train Accuracy: 52.4 %, Loss: 1.7294\n",
            "Epoch [45/50], Learning Rate: 0.001235959448259844\n",
            "Epoch [46/50], Train Accuracy: 51.2 %, Loss: 2.4607\n",
            "Epoch [46/50], Learning Rate: 0.0010453658778440107\n",
            "Epoch [47/50], Train Accuracy: 52.9 %, Loss: 2.0607\n",
            "Epoch [47/50], Learning Rate: 0.0008705767687650265\n",
            "Epoch [48/50], Train Accuracy: 55.6 %, Loss: 0.8576\n",
            "Epoch [48/50], Learning Rate: 0.0007122819337828754\n",
            "Epoch [49/50], Train Accuracy: 53.4 %, Loss: 1.8790\n",
            "Epoch [49/50], Learning Rate: 0.0005711060902932043\n",
            "Epoch [50/50], Train Accuracy: 55.9 %, Loss: 0.7887\n",
            "Epoch [50/50], Learning Rate: 0.00044760639485315584\n"
          ]
        }
      ]
    },
    {
      "cell_type": "code",
      "source": [
        "# モデルの刈り込み率を計算する関数を作成\n",
        "def calculate_pruned_ratio(model):\n",
        "    total_weights = 0\n",
        "    total_pruned_weights = 0\n",
        "\n",
        "    for module in model.modules():\n",
        "        # モジュールがSupermaskConvであるか確認\n",
        "        if isinstance(module, SupermaskConv):\n",
        "            # SupermaskConv層の重みを取得\n",
        "            weight = module.weight.data\n",
        "            # 刈り込みを適用した後の重みを取得\n",
        "            subnet = GetSubnet.apply(module.clamped_scores, 1 - module.prune_rate)\n",
        "            pruned_weight = weight * subnet\n",
        "            # 0である要素数を計算\n",
        "            pruned_weights_count = (pruned_weight == 0).sum().item()\n",
        "            total_pruned_weights += pruned_weights_count\n",
        "            # 重みの全要素数を計算\n",
        "            total_weights_count = pruned_weight.numel()\n",
        "            total_weights += total_weights_count\n",
        "\n",
        "    # 刈り込みが行われた割合を計算\n",
        "    pruned_ratio = total_pruned_weights / total_weights\n",
        "    return print(f\"刈り込み率は{pruned_ratio:.3f}です\")\n",
        "\n",
        "# モデルの刈り込み率を確認\n",
        "calculate_pruned_ratio(model)"
      ],
      "metadata": {
        "id": "9BhXxkuFsKjn",
        "colab": {
          "base_uri": "https://localhost:8080/"
        },
        "outputId": "8f636c10-a485-4947-8712-ec0bfcabe05c"
      },
      "execution_count": 59,
      "outputs": [
        {
          "output_type": "stream",
          "name": "stdout",
          "text": [
            "刈り込み率は0.999です\n"
          ]
        }
      ]
    },
    {
      "cell_type": "code",
      "source": [
        "# 学習前後のモデルのスコアを比較する関数を作成\n",
        "def check_scores_change(model, model_init):\n",
        "    # 各モデルの名前付きモジュールを順に調べる\n",
        "    for (name, module), (name_init, module_init) in zip(model.named_modules(), model_init.named_modules()):\n",
        "        # 両モジュールがConv2dのインスタンスであるかを確認\n",
        "        if isinstance(module, torch.nn.Conv2d) and isinstance(module_init, torch.nn.Conv2d):\n",
        "            # 両モジュールが'scores'属性を持っているかを確認\n",
        "            if hasattr(module, 'scores') and hasattr(module_init, 'scores'):\n",
        "                # 両モジュールの'scores'属性が一致しているかを確認\n",
        "                # 一致していない場合、変更があったことを示すメッセージを出力\n",
        "                if not torch.equal(module.scores, module_init.scores):\n",
        "                    print(f'{name}のスコアが変化しています')\n",
        "                    return\n",
        "    # すべてのconv層で'scores'が変更されていない場合、その旨を出力\n",
        "    print('すべてのスコアは変化していません')\n",
        "\n",
        "# 学習前後でモデルのスコアが変化していないかを確認\n",
        "check_scores_change(model, model_init)"
      ],
      "metadata": {
        "id": "b2_21nPhsKjn",
        "colab": {
          "base_uri": "https://localhost:8080/"
        },
        "outputId": "e8b3b683-86ec-4a67-add5-6799a44bd044"
      },
      "execution_count": 60,
      "outputs": [
        {
          "output_type": "stream",
          "name": "stdout",
          "text": [
            "すべてのスコアは変化していません\n"
          ]
        }
      ]
    },
    {
      "cell_type": "code",
      "source": [
        "# 学習前後のモデルの最終層以外の重みを比較する関数を作成\n",
        "def check_weight_change_except_last(model, model_init):\n",
        "    for (name, param), (name_init, param_init) in zip(model.named_parameters(), model_init.named_parameters()):\n",
        "        # 最終層を除く\n",
        "        if name != 'fc.weight' and name != 'fc.bias':\n",
        "            weights_changed = (param.data != param_init.data).any()\n",
        "            if weights_changed:\n",
        "                return print('最終層以外の重みが変化しています')\n",
        "    return print('最終層以外の重みは変化していません')\n",
        "\n",
        "# 学習前後でモデルの最終層以外の重みが変化していないかを確認\n",
        "check_weight_change_except_last(model, model_init)"
      ],
      "metadata": {
        "id": "gdRkxqThsKjn",
        "colab": {
          "base_uri": "https://localhost:8080/"
        },
        "outputId": "f2267f8e-28f8-4dff-a249-7456dcabb4a9"
      },
      "execution_count": 61,
      "outputs": [
        {
          "output_type": "stream",
          "name": "stdout",
          "text": [
            "最終層以外の重みは変化していません\n"
          ]
        }
      ]
    },
    {
      "cell_type": "code",
      "source": [
        "# モデルの評価\n",
        "model.eval()\n",
        "with torch.no_grad():\n",
        "    total = 0\n",
        "    correct = 0\n",
        "    for images, labels in test_loader_handsigns:\n",
        "        images = images.to(device)\n",
        "        labels = labels.to(device)\n",
        "        outputs = model(images)\n",
        "        _, predicted = torch.max(outputs.data, 1)\n",
        "        total += labels.size(0)\n",
        "        correct += (predicted == labels).sum().item()\n",
        "    # 正解率精度の確認\n",
        "    print('Test Accuracy: {} %'.format(100 * correct / total))"
      ],
      "metadata": {
        "id": "4uT1Zu5xsKjn",
        "colab": {
          "base_uri": "https://localhost:8080/"
        },
        "outputId": "00abf508-b72f-4dea-9204-61f0a9d81625"
      },
      "execution_count": 62,
      "outputs": [
        {
          "output_type": "stream",
          "name": "stdout",
          "text": [
            "Test Accuracy: 62.0 %\n"
          ]
        }
      ]
    },
    {
      "cell_type": "code",
      "source": [
        "# GPUメモリの解放\n",
        "del model, model_init\n",
        "torch.cuda.empty_cache()"
      ],
      "metadata": {
        "id": "-ufE10onsKjo"
      },
      "execution_count": 63,
      "outputs": []
    },
    {
      "cell_type": "markdown",
      "source": [
        "### prune_rate=0.995"
      ],
      "metadata": {
        "id": "ckkkthdAsKjo"
      }
    },
    {
      "cell_type": "code",
      "source": [
        "# デバイスを設定\n",
        "device = torch.device('cuda' if torch.cuda.is_available() else 'cpu')\n",
        "# モデルを定義\n",
        "model = torch.load('/content/drive/MyDrive/SupermaskWideResNet28_10_CIFAR10_100epochs_pr0.995_normal_CLRS_restest.pth')\n",
        "# 最終層を変更\n",
        "model.fc = nn.Linear(model.fc.in_features, 10)\n",
        "# 最終層以外のパラメータの勾配計算を停止\n",
        "for param in model.parameters():\n",
        "    param.requires_grad = False\n",
        "# 最終層のパラメータのみを学習するように設定\n",
        "for param in model.fc.parameters():\n",
        "    param.requires_grad = True\n",
        "# モデルをデバイスに転送\n",
        "model = model.to(device)\n",
        "# 変更後のモデルの重みを保存\n",
        "model_init = copy.deepcopy(model)\n",
        "\n",
        "# 学習率を設定\n",
        "learning_rate = 0.01\n",
        "# 全体のepoch数を設定\n",
        "num_epochs = 50\n",
        "# warm-upするepoch数を設定\n",
        "warmup_epochs = 5\n",
        "\n",
        "# 損失関数を定義\n",
        "criterion = nn.CrossEntropyLoss()\n",
        "# オプティマイザーを設定\n",
        "optimizer = optim.Adam(model.fc.parameters(), lr=learning_rate)\n",
        "# スケジューラーを設定\n",
        "scheduler = CosineLRScheduler(optimizer, t_initial=num_epochs, lr_min=1e-4, warmup_t=warmup_epochs, warmup_lr_init=1e-4, warmup_prefix=True)\n",
        "\n",
        "# モデルの学習\n",
        "for epoch in range(num_epochs):\n",
        "    total = 0\n",
        "    correct = 0\n",
        "    for i, (images, labels) in enumerate(train_loader_handsigns):\n",
        "        images = images.to(device)\n",
        "        labels = labels.to(device)\n",
        "        # 順伝播\n",
        "        outputs = model(images)\n",
        "        loss = criterion(outputs, labels)\n",
        "        # 逆伝播\n",
        "        optimizer.zero_grad()\n",
        "        loss.backward()\n",
        "        optimizer.step()\n",
        "        _, predicted = torch.max(outputs.data, 1)\n",
        "        # 全データ数\n",
        "        total += labels.size(0)\n",
        "        # 正解数\n",
        "        correct += (predicted == labels).sum().item()\n",
        "    # 正解率精度を計算\n",
        "    train_acc = 100 * correct / total\n",
        "    # 正解率精度と損失を確認\n",
        "    print(\"Epoch [{}/{}], Train Accuracy: {} %, Loss: {:.4f}\".format(epoch+1, num_epochs, 100 * correct / total, loss.item()))\n",
        "    # 1エポック終了後にスケジューラーを更新\n",
        "    scheduler.step(epoch)\n",
        "    # 学習率の確認\n",
        "    print(\"Epoch [{}/{}], Learning Rate: {}\".format(epoch+1, num_epochs, optimizer.param_groups[0]['lr']))\n",
        "\n",
        "\n",
        "# モデルを保存\n",
        "torch.save(model, '/content/drive/MyDrive/SupermaskWideResNet28_10_HandSigns_from_CIFAR10_100epochs_pr0.995_normal_50epochs_lr0.01_CLRS_restest.pth')"
      ],
      "metadata": {
        "id": "Ys6GaW9nsKjo",
        "colab": {
          "base_uri": "https://localhost:8080/"
        },
        "outputId": "37daee84-8207-4b05-b8bc-c1af5b210b5f"
      },
      "execution_count": 64,
      "outputs": [
        {
          "output_type": "stream",
          "name": "stdout",
          "text": [
            "Epoch [1/50], Train Accuracy: 11.9 %, Loss: 2.2351\n",
            "Epoch [1/50], Learning Rate: 0.0001\n",
            "Epoch [2/50], Train Accuracy: 15.9 %, Loss: 2.2366\n",
            "Epoch [2/50], Learning Rate: 0.00208\n",
            "Epoch [3/50], Train Accuracy: 24.8 %, Loss: 2.1774\n",
            "Epoch [3/50], Learning Rate: 0.00406\n",
            "Epoch [4/50], Train Accuracy: 31.0 %, Loss: 1.9361\n",
            "Epoch [4/50], Learning Rate: 0.00604\n",
            "Epoch [5/50], Train Accuracy: 38.3 %, Loss: 1.4158\n",
            "Epoch [5/50], Learning Rate: 0.00802\n",
            "Epoch [6/50], Train Accuracy: 38.3 %, Loss: 1.1870\n",
            "Epoch [6/50], Learning Rate: 0.01\n",
            "Epoch [7/50], Train Accuracy: 39.6 %, Loss: 2.7542\n",
            "Epoch [7/50], Learning Rate: 0.009990232305719944\n",
            "Epoch [8/50], Train Accuracy: 44.4 %, Loss: 1.6458\n",
            "Epoch [8/50], Learning Rate: 0.009960967771506667\n",
            "Epoch [9/50], Train Accuracy: 41.8 %, Loss: 1.2548\n",
            "Epoch [9/50], Learning Rate: 0.00991232189110701\n",
            "Epoch [10/50], Train Accuracy: 47.3 %, Loss: 2.4569\n",
            "Epoch [10/50], Learning Rate: 0.009844486647586723\n",
            "Epoch [11/50], Train Accuracy: 49.0 %, Loss: 1.8905\n",
            "Epoch [11/50], Learning Rate: 0.009757729755661011\n",
            "Epoch [12/50], Train Accuracy: 47.9 %, Loss: 1.4186\n",
            "Epoch [12/50], Learning Rate: 0.009652393605146845\n",
            "Epoch [13/50], Train Accuracy: 50.8 %, Loss: 2.7562\n",
            "Epoch [13/50], Learning Rate: 0.009528893909706798\n",
            "Epoch [14/50], Train Accuracy: 52.3 %, Loss: 1.5829\n",
            "Epoch [14/50], Learning Rate: 0.009387718066217124\n",
            "Epoch [15/50], Train Accuracy: 52.5 %, Loss: 1.7271\n",
            "Epoch [15/50], Learning Rate: 0.009229423231234974\n",
            "Epoch [16/50], Train Accuracy: 50.8 %, Loss: 1.1633\n",
            "Epoch [16/50], Learning Rate: 0.00905463412215599\n",
            "Epoch [17/50], Train Accuracy: 52.7 %, Loss: 0.9079\n",
            "Epoch [17/50], Learning Rate: 0.008864040551740157\n",
            "Epoch [18/50], Train Accuracy: 53.0 %, Loss: 1.8714\n",
            "Epoch [18/50], Learning Rate: 0.008658394705735987\n",
            "Epoch [19/50], Train Accuracy: 55.5 %, Loss: 0.7690\n",
            "Epoch [19/50], Learning Rate: 0.00843850817434701\n",
            "Epoch [20/50], Train Accuracy: 56.4 %, Loss: 1.5369\n",
            "Epoch [20/50], Learning Rate: 0.008205248749256015\n",
            "Epoch [21/50], Train Accuracy: 56.3 %, Loss: 2.3138\n",
            "Epoch [21/50], Learning Rate: 0.007959536998847744\n",
            "Epoch [22/50], Train Accuracy: 57.8 %, Loss: 0.8652\n",
            "Epoch [22/50], Learning Rate: 0.007702342635146034\n",
            "Epoch [23/50], Train Accuracy: 56.1 %, Loss: 1.4104\n",
            "Epoch [23/50], Learning Rate: 0.007434680686803491\n",
            "Epoch [24/50], Train Accuracy: 55.9 %, Loss: 2.0438\n",
            "Epoch [24/50], Learning Rate: 0.0071576074932471105\n",
            "Epoch [25/50], Train Accuracy: 60.3 %, Loss: 0.9624\n",
            "Epoch [25/50], Learning Rate: 0.006872216535789157\n",
            "Epoch [26/50], Train Accuracy: 59.8 %, Loss: 1.5647\n",
            "Epoch [26/50], Learning Rate: 0.006579634122155991\n",
            "Epoch [27/50], Train Accuracy: 58.1 %, Loss: 2.3261\n",
            "Epoch [27/50], Learning Rate: 0.0062810149414660316\n",
            "Epoch [28/50], Train Accuracy: 60.5 %, Loss: 1.6148\n",
            "Epoch [28/50], Learning Rate: 0.005977537507199339\n",
            "Epoch [29/50], Train Accuracy: 60.5 %, Loss: 1.5613\n",
            "Epoch [29/50], Learning Rate: 0.005670399506143308\n",
            "Epoch [30/50], Train Accuracy: 62.1 %, Loss: 2.1833\n",
            "Epoch [30/50], Learning Rate: 0.005360813071670102\n",
            "Epoch [31/50], Train Accuracy: 59.8 %, Loss: 1.6750\n",
            "Epoch [31/50], Learning Rate: 0.005050000000000001\n",
            "Epoch [32/50], Train Accuracy: 59.8 %, Loss: 1.0788\n",
            "Epoch [32/50], Learning Rate: 0.004739186928329899\n",
            "Epoch [33/50], Train Accuracy: 60.2 %, Loss: 1.2229\n",
            "Epoch [33/50], Learning Rate: 0.004429600493856695\n",
            "Epoch [34/50], Train Accuracy: 63.9 %, Loss: 1.3621\n",
            "Epoch [34/50], Learning Rate: 0.0041224624928006635\n",
            "Epoch [35/50], Train Accuracy: 62.9 %, Loss: 1.2095\n",
            "Epoch [35/50], Learning Rate: 0.0038189850585339685\n",
            "Epoch [36/50], Train Accuracy: 63.5 %, Loss: 1.7392\n",
            "Epoch [36/50], Learning Rate: 0.003520365877844012\n",
            "Epoch [37/50], Train Accuracy: 61.8 %, Loss: 1.4562\n",
            "Epoch [37/50], Learning Rate: 0.0032277834642108457\n",
            "Epoch [38/50], Train Accuracy: 67.4 %, Loss: 1.1647\n",
            "Epoch [38/50], Learning Rate: 0.0029423925067528904\n",
            "Epoch [39/50], Train Accuracy: 63.8 %, Loss: 1.6576\n",
            "Epoch [39/50], Learning Rate: 0.002665319313196509\n",
            "Epoch [40/50], Train Accuracy: 68.5 %, Loss: 0.9388\n",
            "Epoch [40/50], Learning Rate: 0.0023976573648539653\n",
            "Epoch [41/50], Train Accuracy: 64.8 %, Loss: 0.8575\n",
            "Epoch [41/50], Learning Rate: 0.0021404630011522584\n",
            "Epoch [42/50], Train Accuracy: 65.3 %, Loss: 1.5077\n",
            "Epoch [42/50], Learning Rate: 0.001894751250743986\n",
            "Epoch [43/50], Train Accuracy: 66.8 %, Loss: 0.8793\n",
            "Epoch [43/50], Learning Rate: 0.001661491825652991\n",
            "Epoch [44/50], Train Accuracy: 65.3 %, Loss: 0.8736\n",
            "Epoch [44/50], Learning Rate: 0.001441605294264014\n",
            "Epoch [45/50], Train Accuracy: 65.9 %, Loss: 0.6616\n",
            "Epoch [45/50], Learning Rate: 0.001235959448259844\n",
            "Epoch [46/50], Train Accuracy: 68.6 %, Loss: 0.8506\n",
            "Epoch [46/50], Learning Rate: 0.0010453658778440107\n",
            "Epoch [47/50], Train Accuracy: 67.5 %, Loss: 1.2891\n",
            "Epoch [47/50], Learning Rate: 0.0008705767687650265\n",
            "Epoch [48/50], Train Accuracy: 68.5 %, Loss: 1.2356\n",
            "Epoch [48/50], Learning Rate: 0.0007122819337828754\n",
            "Epoch [49/50], Train Accuracy: 66.5 %, Loss: 0.9300\n",
            "Epoch [49/50], Learning Rate: 0.0005711060902932043\n",
            "Epoch [50/50], Train Accuracy: 68.6 %, Loss: 0.5977\n",
            "Epoch [50/50], Learning Rate: 0.00044760639485315584\n"
          ]
        }
      ]
    },
    {
      "cell_type": "code",
      "source": [
        "# モデルの刈り込み率を計算する関数を作成\n",
        "def calculate_pruned_ratio(model):\n",
        "    total_weights = 0\n",
        "    total_pruned_weights = 0\n",
        "\n",
        "    for module in model.modules():\n",
        "        # モジュールがSupermaskConvであるか確認\n",
        "        if isinstance(module, SupermaskConv):\n",
        "            # SupermaskConv層の重みを取得\n",
        "            weight = module.weight.data\n",
        "            # 刈り込みを適用した後の重みを取得\n",
        "            subnet = GetSubnet.apply(module.clamped_scores, 1 - module.prune_rate)\n",
        "            pruned_weight = weight * subnet\n",
        "            # 0である要素数を計算\n",
        "            pruned_weights_count = (pruned_weight == 0).sum().item()\n",
        "            total_pruned_weights += pruned_weights_count\n",
        "            # 重みの全要素数を計算\n",
        "            total_weights_count = pruned_weight.numel()\n",
        "            total_weights += total_weights_count\n",
        "\n",
        "    # 刈り込みが行われた割合を計算\n",
        "    pruned_ratio = total_pruned_weights / total_weights\n",
        "    return print(f\"刈り込み率は{pruned_ratio:.3f}です\")\n",
        "\n",
        "# モデルの刈り込み率を確認\n",
        "calculate_pruned_ratio(model)"
      ],
      "metadata": {
        "id": "FKdXWvTGsKjo",
        "colab": {
          "base_uri": "https://localhost:8080/"
        },
        "outputId": "4a2f04f6-8563-4d1f-f0b4-9671a8be6fa2"
      },
      "execution_count": 65,
      "outputs": [
        {
          "output_type": "stream",
          "name": "stdout",
          "text": [
            "刈り込み率は0.995です\n"
          ]
        }
      ]
    },
    {
      "cell_type": "code",
      "source": [
        "# 学習前後のモデルのスコアを比較する関数を作成\n",
        "def check_scores_change(model, model_init):\n",
        "    # 各モデルの名前付きモジュールを順に調べる\n",
        "    for (name, module), (name_init, module_init) in zip(model.named_modules(), model_init.named_modules()):\n",
        "        # 両モジュールがConv2dのインスタンスであるかを確認\n",
        "        if isinstance(module, torch.nn.Conv2d) and isinstance(module_init, torch.nn.Conv2d):\n",
        "            # 両モジュールが'scores'属性を持っているかを確認\n",
        "            if hasattr(module, 'scores') and hasattr(module_init, 'scores'):\n",
        "                # 両モジュールの'scores'属性が一致しているかを確認\n",
        "                # 一致していない場合、変更があったことを示すメッセージを出力\n",
        "                if not torch.equal(module.scores, module_init.scores):\n",
        "                    print(f'{name}のスコアが変化しています')\n",
        "                    return\n",
        "    # すべてのconv層で'scores'が変更されていない場合、その旨を出力\n",
        "    print('すべてのスコアは変化していません')\n",
        "\n",
        "# 学習前後でモデルのスコアが変化していないかを確認\n",
        "check_scores_change(model, model_init)"
      ],
      "metadata": {
        "id": "av4C_G4hsKjo",
        "colab": {
          "base_uri": "https://localhost:8080/"
        },
        "outputId": "a33e8fff-cb12-40fc-8016-b619619500a0"
      },
      "execution_count": 66,
      "outputs": [
        {
          "output_type": "stream",
          "name": "stdout",
          "text": [
            "すべてのスコアは変化していません\n"
          ]
        }
      ]
    },
    {
      "cell_type": "code",
      "source": [
        "# 学習前後のモデルの最終層以外の重みを比較する関数を作成\n",
        "def check_weight_change_except_last(model, model_init):\n",
        "    for (name, param), (name_init, param_init) in zip(model.named_parameters(), model_init.named_parameters()):\n",
        "        # 最終層を除く\n",
        "        if name != 'fc.weight' and name != 'fc.bias':\n",
        "            weights_changed = (param.data != param_init.data).any()\n",
        "            if weights_changed:\n",
        "                return print('最終層以外の重みが変化しています')\n",
        "    return print('最終層以外の重みは変化していません')\n",
        "\n",
        "# 学習前後でモデルの最終層以外の重みが変化していないかを確認\n",
        "check_weight_change_except_last(model, model_init)"
      ],
      "metadata": {
        "id": "g-VKHtD_sKjo",
        "colab": {
          "base_uri": "https://localhost:8080/"
        },
        "outputId": "cdb83252-83df-4925-f31c-c6f6c49739af"
      },
      "execution_count": 67,
      "outputs": [
        {
          "output_type": "stream",
          "name": "stdout",
          "text": [
            "最終層以外の重みは変化していません\n"
          ]
        }
      ]
    },
    {
      "cell_type": "code",
      "source": [
        "# モデルの評価\n",
        "model.eval()\n",
        "with torch.no_grad():\n",
        "    total = 0\n",
        "    correct = 0\n",
        "    for images, labels in test_loader_handsigns:\n",
        "        images = images.to(device)\n",
        "        labels = labels.to(device)\n",
        "        outputs = model(images)\n",
        "        _, predicted = torch.max(outputs.data, 1)\n",
        "        total += labels.size(0)\n",
        "        correct += (predicted == labels).sum().item()\n",
        "    # 正解率精度の確認\n",
        "    print('Test Accuracy: {} %'.format(100 * correct / total))"
      ],
      "metadata": {
        "id": "ZCufdW6FsKjo",
        "colab": {
          "base_uri": "https://localhost:8080/"
        },
        "outputId": "391e114d-668c-4cb8-bcc5-b88a2fb5d0c1"
      },
      "execution_count": 68,
      "outputs": [
        {
          "output_type": "stream",
          "name": "stdout",
          "text": [
            "Test Accuracy: 66.0 %\n"
          ]
        }
      ]
    },
    {
      "cell_type": "code",
      "source": [
        "# GPUメモリの解放\n",
        "del model, model_init\n",
        "torch.cuda.empty_cache()"
      ],
      "metadata": {
        "id": "Y9-eOxW1sKjp"
      },
      "execution_count": 69,
      "outputs": []
    },
    {
      "cell_type": "markdown",
      "source": [
        "### prune_rate=0.99"
      ],
      "metadata": {
        "id": "VkScBTgxsKjp"
      }
    },
    {
      "cell_type": "code",
      "source": [
        "# デバイスを設定\n",
        "device = torch.device('cuda' if torch.cuda.is_available() else 'cpu')\n",
        "# モデルを定義\n",
        "model = torch.load('/content/drive/MyDrive/SupermaskWideResNet28_10_CIFAR10_100epochs_pr0.99_normal_CLRS_restest.pth')\n",
        "# 最終層を変更\n",
        "model.fc = nn.Linear(model.fc.in_features, 10)\n",
        "# 最終層以外のパラメータの勾配計算を停止\n",
        "for param in model.parameters():\n",
        "    param.requires_grad = False\n",
        "# 最終層のパラメータのみを学習するように設定\n",
        "for param in model.fc.parameters():\n",
        "    param.requires_grad = True\n",
        "# モデルをデバイスに転送\n",
        "model = model.to(device)\n",
        "# 変更後のモデルの重みを保存\n",
        "model_init = copy.deepcopy(model)\n",
        "\n",
        "# 学習率を設定\n",
        "learning_rate = 0.01\n",
        "# 全体のepoch数を設定\n",
        "num_epochs = 50\n",
        "# warm-upするepoch数を設定\n",
        "warmup_epochs = 5\n",
        "\n",
        "# 損失関数を定義\n",
        "criterion = nn.CrossEntropyLoss()\n",
        "# オプティマイザーを設定\n",
        "optimizer = optim.Adam(model.fc.parameters(), lr=learning_rate)\n",
        "# スケジューラーを設定\n",
        "scheduler = CosineLRScheduler(optimizer, t_initial=num_epochs, lr_min=1e-4, warmup_t=warmup_epochs, warmup_lr_init=1e-4, warmup_prefix=True)\n",
        "\n",
        "# モデルの学習\n",
        "for epoch in range(num_epochs):\n",
        "    total = 0\n",
        "    correct = 0\n",
        "    for i, (images, labels) in enumerate(train_loader_handsigns):\n",
        "        images = images.to(device)\n",
        "        labels = labels.to(device)\n",
        "        # 順伝播\n",
        "        outputs = model(images)\n",
        "        loss = criterion(outputs, labels)\n",
        "        # 逆伝播\n",
        "        optimizer.zero_grad()\n",
        "        loss.backward()\n",
        "        optimizer.step()\n",
        "        _, predicted = torch.max(outputs.data, 1)\n",
        "        # 全データ数\n",
        "        total += labels.size(0)\n",
        "        # 正解数\n",
        "        correct += (predicted == labels).sum().item()\n",
        "    # 正解率精度を計算\n",
        "    train_acc = 100 * correct / total\n",
        "    # 正解率精度と損失を確認\n",
        "    print(\"Epoch [{}/{}], Train Accuracy: {} %, Loss: {:.4f}\".format(epoch+1, num_epochs, 100 * correct / total, loss.item()))\n",
        "    # 1エポック終了後にスケジューラーを更新\n",
        "    scheduler.step(epoch)\n",
        "    # 学習率の確認\n",
        "    print(\"Epoch [{}/{}], Learning Rate: {}\".format(epoch+1, num_epochs, optimizer.param_groups[0]['lr']))\n",
        "\n",
        "\n",
        "# モデルを保存\n",
        "torch.save(model, '/content/drive/MyDrive/SupermaskWideResNet28_10_HandSigns_from_CIFAR10_100epochs_pr0.99_normal_50epochs_lr0.01_CLRS_restest.pth')"
      ],
      "metadata": {
        "id": "QiH_-IeRsKjp",
        "colab": {
          "base_uri": "https://localhost:8080/"
        },
        "outputId": "d43df9d0-fedf-48d6-a4f8-5a5ce465eca3"
      },
      "execution_count": 70,
      "outputs": [
        {
          "output_type": "stream",
          "name": "stdout",
          "text": [
            "Epoch [1/50], Train Accuracy: 12.5 %, Loss: 2.2494\n",
            "Epoch [1/50], Learning Rate: 0.0001\n",
            "Epoch [2/50], Train Accuracy: 21.4 %, Loss: 2.2273\n",
            "Epoch [2/50], Learning Rate: 0.00208\n",
            "Epoch [3/50], Train Accuracy: 27.4 %, Loss: 1.7633\n",
            "Epoch [3/50], Learning Rate: 0.00406\n",
            "Epoch [4/50], Train Accuracy: 35.3 %, Loss: 2.2373\n",
            "Epoch [4/50], Learning Rate: 0.00604\n",
            "Epoch [5/50], Train Accuracy: 38.3 %, Loss: 1.9358\n",
            "Epoch [5/50], Learning Rate: 0.00802\n",
            "Epoch [6/50], Train Accuracy: 41.1 %, Loss: 1.9005\n",
            "Epoch [6/50], Learning Rate: 0.01\n",
            "Epoch [7/50], Train Accuracy: 42.2 %, Loss: 1.7499\n",
            "Epoch [7/50], Learning Rate: 0.009990232305719944\n",
            "Epoch [8/50], Train Accuracy: 45.4 %, Loss: 0.8758\n",
            "Epoch [8/50], Learning Rate: 0.009960967771506667\n",
            "Epoch [9/50], Train Accuracy: 42.6 %, Loss: 1.5054\n",
            "Epoch [9/50], Learning Rate: 0.00991232189110701\n",
            "Epoch [10/50], Train Accuracy: 46.6 %, Loss: 1.0987\n",
            "Epoch [10/50], Learning Rate: 0.009844486647586723\n",
            "Epoch [11/50], Train Accuracy: 53.3 %, Loss: 0.9665\n",
            "Epoch [11/50], Learning Rate: 0.009757729755661011\n",
            "Epoch [12/50], Train Accuracy: 49.5 %, Loss: 2.0862\n",
            "Epoch [12/50], Learning Rate: 0.009652393605146845\n",
            "Epoch [13/50], Train Accuracy: 54.1 %, Loss: 2.1190\n",
            "Epoch [13/50], Learning Rate: 0.009528893909706798\n",
            "Epoch [14/50], Train Accuracy: 55.8 %, Loss: 1.2291\n",
            "Epoch [14/50], Learning Rate: 0.009387718066217124\n",
            "Epoch [15/50], Train Accuracy: 52.9 %, Loss: 2.0277\n",
            "Epoch [15/50], Learning Rate: 0.009229423231234974\n",
            "Epoch [16/50], Train Accuracy: 55.6 %, Loss: 1.9210\n",
            "Epoch [16/50], Learning Rate: 0.00905463412215599\n",
            "Epoch [17/50], Train Accuracy: 56.2 %, Loss: 0.9713\n",
            "Epoch [17/50], Learning Rate: 0.008864040551740157\n",
            "Epoch [18/50], Train Accuracy: 60.2 %, Loss: 0.7373\n",
            "Epoch [18/50], Learning Rate: 0.008658394705735987\n",
            "Epoch [19/50], Train Accuracy: 59.3 %, Loss: 0.8978\n",
            "Epoch [19/50], Learning Rate: 0.00843850817434701\n",
            "Epoch [20/50], Train Accuracy: 60.4 %, Loss: 1.5834\n",
            "Epoch [20/50], Learning Rate: 0.008205248749256015\n",
            "Epoch [21/50], Train Accuracy: 61.5 %, Loss: 1.6901\n",
            "Epoch [21/50], Learning Rate: 0.007959536998847744\n",
            "Epoch [22/50], Train Accuracy: 59.4 %, Loss: 1.0702\n",
            "Epoch [22/50], Learning Rate: 0.007702342635146034\n",
            "Epoch [23/50], Train Accuracy: 60.8 %, Loss: 2.4817\n",
            "Epoch [23/50], Learning Rate: 0.007434680686803491\n",
            "Epoch [24/50], Train Accuracy: 58.6 %, Loss: 1.3455\n",
            "Epoch [24/50], Learning Rate: 0.0071576074932471105\n",
            "Epoch [25/50], Train Accuracy: 61.7 %, Loss: 1.4333\n",
            "Epoch [25/50], Learning Rate: 0.006872216535789157\n",
            "Epoch [26/50], Train Accuracy: 66.6 %, Loss: 0.7067\n",
            "Epoch [26/50], Learning Rate: 0.006579634122155991\n",
            "Epoch [27/50], Train Accuracy: 62.6 %, Loss: 1.7101\n",
            "Epoch [27/50], Learning Rate: 0.0062810149414660316\n",
            "Epoch [28/50], Train Accuracy: 64.6 %, Loss: 1.3427\n",
            "Epoch [28/50], Learning Rate: 0.005977537507199339\n",
            "Epoch [29/50], Train Accuracy: 66.1 %, Loss: 1.5649\n",
            "Epoch [29/50], Learning Rate: 0.005670399506143308\n",
            "Epoch [30/50], Train Accuracy: 65.2 %, Loss: 0.7358\n",
            "Epoch [30/50], Learning Rate: 0.005360813071670102\n",
            "Epoch [31/50], Train Accuracy: 68.1 %, Loss: 1.5043\n",
            "Epoch [31/50], Learning Rate: 0.005050000000000001\n",
            "Epoch [32/50], Train Accuracy: 65.8 %, Loss: 1.2803\n",
            "Epoch [32/50], Learning Rate: 0.004739186928329899\n",
            "Epoch [33/50], Train Accuracy: 64.7 %, Loss: 0.7026\n",
            "Epoch [33/50], Learning Rate: 0.004429600493856695\n",
            "Epoch [34/50], Train Accuracy: 68.3 %, Loss: 0.6783\n",
            "Epoch [34/50], Learning Rate: 0.0041224624928006635\n",
            "Epoch [35/50], Train Accuracy: 68.2 %, Loss: 1.5955\n",
            "Epoch [35/50], Learning Rate: 0.0038189850585339685\n",
            "Epoch [36/50], Train Accuracy: 67.9 %, Loss: 0.9016\n",
            "Epoch [36/50], Learning Rate: 0.003520365877844012\n",
            "Epoch [37/50], Train Accuracy: 66.8 %, Loss: 1.0210\n",
            "Epoch [37/50], Learning Rate: 0.0032277834642108457\n",
            "Epoch [38/50], Train Accuracy: 72.6 %, Loss: 1.1530\n",
            "Epoch [38/50], Learning Rate: 0.0029423925067528904\n",
            "Epoch [39/50], Train Accuracy: 70.2 %, Loss: 1.0011\n",
            "Epoch [39/50], Learning Rate: 0.002665319313196509\n",
            "Epoch [40/50], Train Accuracy: 69.1 %, Loss: 1.2270\n",
            "Epoch [40/50], Learning Rate: 0.0023976573648539653\n",
            "Epoch [41/50], Train Accuracy: 71.8 %, Loss: 1.2990\n",
            "Epoch [41/50], Learning Rate: 0.0021404630011522584\n",
            "Epoch [42/50], Train Accuracy: 69.8 %, Loss: 1.6294\n",
            "Epoch [42/50], Learning Rate: 0.001894751250743986\n",
            "Epoch [43/50], Train Accuracy: 71.0 %, Loss: 1.0015\n",
            "Epoch [43/50], Learning Rate: 0.001661491825652991\n",
            "Epoch [44/50], Train Accuracy: 72.8 %, Loss: 0.8069\n",
            "Epoch [44/50], Learning Rate: 0.001441605294264014\n",
            "Epoch [45/50], Train Accuracy: 72.3 %, Loss: 0.4857\n",
            "Epoch [45/50], Learning Rate: 0.001235959448259844\n",
            "Epoch [46/50], Train Accuracy: 69.7 %, Loss: 0.8153\n",
            "Epoch [46/50], Learning Rate: 0.0010453658778440107\n",
            "Epoch [47/50], Train Accuracy: 72.0 %, Loss: 0.9424\n",
            "Epoch [47/50], Learning Rate: 0.0008705767687650265\n",
            "Epoch [48/50], Train Accuracy: 70.0 %, Loss: 0.7654\n",
            "Epoch [48/50], Learning Rate: 0.0007122819337828754\n",
            "Epoch [49/50], Train Accuracy: 74.6 %, Loss: 0.7849\n",
            "Epoch [49/50], Learning Rate: 0.0005711060902932043\n",
            "Epoch [50/50], Train Accuracy: 72.4 %, Loss: 0.6870\n",
            "Epoch [50/50], Learning Rate: 0.00044760639485315584\n"
          ]
        }
      ]
    },
    {
      "cell_type": "code",
      "source": [
        "# モデルの刈り込み率を計算する関数を作成\n",
        "def calculate_pruned_ratio(model):\n",
        "    total_weights = 0\n",
        "    total_pruned_weights = 0\n",
        "\n",
        "    for module in model.modules():\n",
        "        # モジュールがSupermaskConvであるか確認\n",
        "        if isinstance(module, SupermaskConv):\n",
        "            # SupermaskConv層の重みを取得\n",
        "            weight = module.weight.data\n",
        "            # 刈り込みを適用した後の重みを取得\n",
        "            subnet = GetSubnet.apply(module.clamped_scores, 1 - module.prune_rate)\n",
        "            pruned_weight = weight * subnet\n",
        "            # 0である要素数を計算\n",
        "            pruned_weights_count = (pruned_weight == 0).sum().item()\n",
        "            total_pruned_weights += pruned_weights_count\n",
        "            # 重みの全要素数を計算\n",
        "            total_weights_count = pruned_weight.numel()\n",
        "            total_weights += total_weights_count\n",
        "\n",
        "    # 刈り込みが行われた割合を計算\n",
        "    pruned_ratio = total_pruned_weights / total_weights\n",
        "    return print(f\"刈り込み率は{pruned_ratio:.3f}です\")\n",
        "\n",
        "# モデルの刈り込み率を確認\n",
        "calculate_pruned_ratio(model)"
      ],
      "metadata": {
        "id": "cJfgbkhZsKjp",
        "colab": {
          "base_uri": "https://localhost:8080/"
        },
        "outputId": "05c7c8f8-032d-4b8f-bca2-532c4b7f6e56"
      },
      "execution_count": 71,
      "outputs": [
        {
          "output_type": "stream",
          "name": "stdout",
          "text": [
            "刈り込み率は0.990です\n"
          ]
        }
      ]
    },
    {
      "cell_type": "code",
      "source": [
        "# 学習前後のモデルのスコアを比較する関数を作成\n",
        "def check_scores_change(model, model_init):\n",
        "    # 各モデルの名前付きモジュールを順に調べる\n",
        "    for (name, module), (name_init, module_init) in zip(model.named_modules(), model_init.named_modules()):\n",
        "        # 両モジュールがConv2dのインスタンスであるかを確認\n",
        "        if isinstance(module, torch.nn.Conv2d) and isinstance(module_init, torch.nn.Conv2d):\n",
        "            # 両モジュールが'scores'属性を持っているかを確認\n",
        "            if hasattr(module, 'scores') and hasattr(module_init, 'scores'):\n",
        "                # 両モジュールの'scores'属性が一致しているかを確認\n",
        "                # 一致していない場合、変更があったことを示すメッセージを出力\n",
        "                if not torch.equal(module.scores, module_init.scores):\n",
        "                    print(f'{name}のスコアが変化しています')\n",
        "                    return\n",
        "    # すべてのconv層で'scores'が変更されていない場合、その旨を出力\n",
        "    print('すべてのスコアは変化していません')\n",
        "\n",
        "# 学習前後でモデルのスコアが変化していないかを確認\n",
        "check_scores_change(model, model_init)"
      ],
      "metadata": {
        "id": "nH5bKN32sKjp",
        "colab": {
          "base_uri": "https://localhost:8080/"
        },
        "outputId": "d3df6d9c-f791-4ef0-9ba4-2d1047f5d244"
      },
      "execution_count": 72,
      "outputs": [
        {
          "output_type": "stream",
          "name": "stdout",
          "text": [
            "すべてのスコアは変化していません\n"
          ]
        }
      ]
    },
    {
      "cell_type": "code",
      "source": [
        "# 学習前後のモデルの最終層以外の重みを比較する関数を作成\n",
        "def check_weight_change_except_last(model, model_init):\n",
        "    for (name, param), (name_init, param_init) in zip(model.named_parameters(), model_init.named_parameters()):\n",
        "        # 最終層を除く\n",
        "        if name != 'fc.weight' and name != 'fc.bias':\n",
        "            weights_changed = (param.data != param_init.data).any()\n",
        "            if weights_changed:\n",
        "                return print('最終層以外の重みが変化しています')\n",
        "    return print('最終層以外の重みは変化していません')\n",
        "\n",
        "# 学習前後でモデルの最終層以外の重みが変化していないかを確認\n",
        "check_weight_change_except_last(model, model_init)"
      ],
      "metadata": {
        "id": "HTHezonHsKjp",
        "colab": {
          "base_uri": "https://localhost:8080/"
        },
        "outputId": "27e24bf6-4ecd-4d87-c023-35682ba57f9c"
      },
      "execution_count": 73,
      "outputs": [
        {
          "output_type": "stream",
          "name": "stdout",
          "text": [
            "最終層以外の重みは変化していません\n"
          ]
        }
      ]
    },
    {
      "cell_type": "code",
      "source": [
        "# モデルの評価\n",
        "model.eval()\n",
        "with torch.no_grad():\n",
        "    total = 0\n",
        "    correct = 0\n",
        "    for images, labels in test_loader_handsigns:\n",
        "        images = images.to(device)\n",
        "        labels = labels.to(device)\n",
        "        outputs = model(images)\n",
        "        _, predicted = torch.max(outputs.data, 1)\n",
        "        total += labels.size(0)\n",
        "        correct += (predicted == labels).sum().item()\n",
        "    # 正解率精度の確認\n",
        "    print('Test Accuracy: {} %'.format(100 * correct / total))"
      ],
      "metadata": {
        "id": "6zrYAw0HsKjp",
        "colab": {
          "base_uri": "https://localhost:8080/"
        },
        "outputId": "20618b9e-d88b-4259-b96c-ae03f26ed57f"
      },
      "execution_count": 74,
      "outputs": [
        {
          "output_type": "stream",
          "name": "stdout",
          "text": [
            "Test Accuracy: 76.0 %\n"
          ]
        }
      ]
    },
    {
      "cell_type": "code",
      "source": [
        "# GPUメモリの解放\n",
        "del model, model_init\n",
        "torch.cuda.empty_cache()"
      ],
      "metadata": {
        "id": "lHw2fRutsKjq"
      },
      "execution_count": 75,
      "outputs": []
    },
    {
      "cell_type": "markdown",
      "source": [
        "### prune_rate=0.95"
      ],
      "metadata": {
        "id": "jol7GLjisKjq"
      }
    },
    {
      "cell_type": "code",
      "source": [
        "# デバイスを設定\n",
        "device = torch.device('cuda' if torch.cuda.is_available() else 'cpu')\n",
        "# モデルを定義\n",
        "model = torch.load('/content/drive/MyDrive/SupermaskWideResNet28_10_CIFAR10_100epochs_pr0.95_normal_CLRS_restest.pth')\n",
        "# 最終層を変更\n",
        "model.fc = nn.Linear(model.fc.in_features, 10)\n",
        "# 最終層以外のパラメータの勾配計算を停止\n",
        "for param in model.parameters():\n",
        "    param.requires_grad = False\n",
        "# 最終層のパラメータのみを学習するように設定\n",
        "for param in model.fc.parameters():\n",
        "    param.requires_grad = True\n",
        "# モデルをデバイスに転送\n",
        "model = model.to(device)\n",
        "# 変更後のモデルの重みを保存\n",
        "model_init = copy.deepcopy(model)\n",
        "\n",
        "# 学習率を設定\n",
        "learning_rate = 0.01\n",
        "# 全体のepoch数を設定\n",
        "num_epochs = 50\n",
        "# warm-upするepoch数を設定\n",
        "warmup_epochs = 5\n",
        "\n",
        "# 損失関数を定義\n",
        "criterion = nn.CrossEntropyLoss()\n",
        "# オプティマイザーを設定\n",
        "optimizer = optim.Adam(model.fc.parameters(), lr=learning_rate)\n",
        "# スケジューラーを設定\n",
        "scheduler = CosineLRScheduler(optimizer, t_initial=num_epochs, lr_min=1e-4, warmup_t=warmup_epochs, warmup_lr_init=1e-4, warmup_prefix=True)\n",
        "\n",
        "# モデルの学習\n",
        "for epoch in range(num_epochs):\n",
        "    total = 0\n",
        "    correct = 0\n",
        "    for i, (images, labels) in enumerate(train_loader_handsigns):\n",
        "        images = images.to(device)\n",
        "        labels = labels.to(device)\n",
        "        # 順伝播\n",
        "        outputs = model(images)\n",
        "        loss = criterion(outputs, labels)\n",
        "        # 逆伝播\n",
        "        optimizer.zero_grad()\n",
        "        loss.backward()\n",
        "        optimizer.step()\n",
        "        _, predicted = torch.max(outputs.data, 1)\n",
        "        # 全データ数\n",
        "        total += labels.size(0)\n",
        "        # 正解数\n",
        "        correct += (predicted == labels).sum().item()\n",
        "    # 正解率精度を計算\n",
        "    train_acc = 100 * correct / total\n",
        "    # 正解率精度と損失を確認\n",
        "    print(\"Epoch [{}/{}], Train Accuracy: {} %, Loss: {:.4f}\".format(epoch+1, num_epochs, 100 * correct / total, loss.item()))\n",
        "    # 1エポック終了後にスケジューラーを更新\n",
        "    scheduler.step(epoch)\n",
        "    # 学習率の確認\n",
        "    print(\"Epoch [{}/{}], Learning Rate: {}\".format(epoch+1, num_epochs, optimizer.param_groups[0]['lr']))\n",
        "\n",
        "\n",
        "# モデルを保存\n",
        "torch.save(model, '/content/drive/MyDrive/SupermaskWideResNet28_10_HandSigns_from_CIFAR10_100epochs_pr0.95_normal_50epochs_lr0.01_CLRS_restest.pth')"
      ],
      "metadata": {
        "id": "J_B7bedqsKjq",
        "colab": {
          "base_uri": "https://localhost:8080/"
        },
        "outputId": "ac2fc78f-daa0-4d8a-9ef1-ec222e761aa4"
      },
      "execution_count": 76,
      "outputs": [
        {
          "output_type": "stream",
          "name": "stdout",
          "text": [
            "Epoch [1/50], Train Accuracy: 10.9 %, Loss: 2.1462\n",
            "Epoch [1/50], Learning Rate: 0.0001\n",
            "Epoch [2/50], Train Accuracy: 20.4 %, Loss: 2.1979\n",
            "Epoch [2/50], Learning Rate: 0.00208\n",
            "Epoch [3/50], Train Accuracy: 26.6 %, Loss: 1.8948\n",
            "Epoch [3/50], Learning Rate: 0.00406\n",
            "Epoch [4/50], Train Accuracy: 34.1 %, Loss: 1.4336\n",
            "Epoch [4/50], Learning Rate: 0.00604\n",
            "Epoch [5/50], Train Accuracy: 35.5 %, Loss: 1.7784\n",
            "Epoch [5/50], Learning Rate: 0.00802\n",
            "Epoch [6/50], Train Accuracy: 32.4 %, Loss: 2.4438\n",
            "Epoch [6/50], Learning Rate: 0.01\n",
            "Epoch [7/50], Train Accuracy: 36.7 %, Loss: 2.6818\n",
            "Epoch [7/50], Learning Rate: 0.009990232305719944\n",
            "Epoch [8/50], Train Accuracy: 45.3 %, Loss: 1.4564\n",
            "Epoch [8/50], Learning Rate: 0.009960967771506667\n",
            "Epoch [9/50], Train Accuracy: 42.9 %, Loss: 1.9072\n",
            "Epoch [9/50], Learning Rate: 0.00991232189110701\n",
            "Epoch [10/50], Train Accuracy: 44.5 %, Loss: 1.9327\n",
            "Epoch [10/50], Learning Rate: 0.009844486647586723\n",
            "Epoch [11/50], Train Accuracy: 45.5 %, Loss: 1.3556\n",
            "Epoch [11/50], Learning Rate: 0.009757729755661011\n",
            "Epoch [12/50], Train Accuracy: 49.5 %, Loss: 1.3298\n",
            "Epoch [12/50], Learning Rate: 0.009652393605146845\n",
            "Epoch [13/50], Train Accuracy: 51.2 %, Loss: 2.6996\n",
            "Epoch [13/50], Learning Rate: 0.009528893909706798\n",
            "Epoch [14/50], Train Accuracy: 50.1 %, Loss: 2.3017\n",
            "Epoch [14/50], Learning Rate: 0.009387718066217124\n",
            "Epoch [15/50], Train Accuracy: 52.7 %, Loss: 2.0773\n",
            "Epoch [15/50], Learning Rate: 0.009229423231234974\n",
            "Epoch [16/50], Train Accuracy: 52.4 %, Loss: 1.5575\n",
            "Epoch [16/50], Learning Rate: 0.00905463412215599\n",
            "Epoch [17/50], Train Accuracy: 53.4 %, Loss: 1.9286\n",
            "Epoch [17/50], Learning Rate: 0.008864040551740157\n",
            "Epoch [18/50], Train Accuracy: 53.7 %, Loss: 1.6004\n",
            "Epoch [18/50], Learning Rate: 0.008658394705735987\n",
            "Epoch [19/50], Train Accuracy: 59.1 %, Loss: 1.7063\n",
            "Epoch [19/50], Learning Rate: 0.00843850817434701\n",
            "Epoch [20/50], Train Accuracy: 57.1 %, Loss: 0.6216\n",
            "Epoch [20/50], Learning Rate: 0.008205248749256015\n",
            "Epoch [21/50], Train Accuracy: 59.8 %, Loss: 0.7570\n",
            "Epoch [21/50], Learning Rate: 0.007959536998847744\n",
            "Epoch [22/50], Train Accuracy: 57.8 %, Loss: 0.8066\n",
            "Epoch [22/50], Learning Rate: 0.007702342635146034\n",
            "Epoch [23/50], Train Accuracy: 60.2 %, Loss: 1.2263\n",
            "Epoch [23/50], Learning Rate: 0.007434680686803491\n",
            "Epoch [24/50], Train Accuracy: 60.9 %, Loss: 1.0668\n",
            "Epoch [24/50], Learning Rate: 0.0071576074932471105\n",
            "Epoch [25/50], Train Accuracy: 61.2 %, Loss: 0.6842\n",
            "Epoch [25/50], Learning Rate: 0.006872216535789157\n",
            "Epoch [26/50], Train Accuracy: 62.1 %, Loss: 1.2254\n",
            "Epoch [26/50], Learning Rate: 0.006579634122155991\n",
            "Epoch [27/50], Train Accuracy: 60.6 %, Loss: 1.0199\n",
            "Epoch [27/50], Learning Rate: 0.0062810149414660316\n",
            "Epoch [28/50], Train Accuracy: 61.5 %, Loss: 1.6034\n",
            "Epoch [28/50], Learning Rate: 0.005977537507199339\n",
            "Epoch [29/50], Train Accuracy: 64.2 %, Loss: 1.0802\n",
            "Epoch [29/50], Learning Rate: 0.005670399506143308\n",
            "Epoch [30/50], Train Accuracy: 66.7 %, Loss: 0.7089\n",
            "Epoch [30/50], Learning Rate: 0.005360813071670102\n",
            "Epoch [31/50], Train Accuracy: 63.1 %, Loss: 0.5629\n",
            "Epoch [31/50], Learning Rate: 0.005050000000000001\n",
            "Epoch [32/50], Train Accuracy: 66.3 %, Loss: 0.8513\n",
            "Epoch [32/50], Learning Rate: 0.004739186928329899\n",
            "Epoch [33/50], Train Accuracy: 67.0 %, Loss: 0.7869\n",
            "Epoch [33/50], Learning Rate: 0.004429600493856695\n",
            "Epoch [34/50], Train Accuracy: 64.4 %, Loss: 1.4478\n",
            "Epoch [34/50], Learning Rate: 0.0041224624928006635\n",
            "Epoch [35/50], Train Accuracy: 69.5 %, Loss: 1.0717\n",
            "Epoch [35/50], Learning Rate: 0.0038189850585339685\n",
            "Epoch [36/50], Train Accuracy: 67.1 %, Loss: 0.7155\n",
            "Epoch [36/50], Learning Rate: 0.003520365877844012\n",
            "Epoch [37/50], Train Accuracy: 67.3 %, Loss: 1.4278\n",
            "Epoch [37/50], Learning Rate: 0.0032277834642108457\n",
            "Epoch [38/50], Train Accuracy: 70.5 %, Loss: 0.4541\n",
            "Epoch [38/50], Learning Rate: 0.0029423925067528904\n",
            "Epoch [39/50], Train Accuracy: 68.5 %, Loss: 1.2952\n",
            "Epoch [39/50], Learning Rate: 0.002665319313196509\n",
            "Epoch [40/50], Train Accuracy: 69.9 %, Loss: 0.9562\n",
            "Epoch [40/50], Learning Rate: 0.0023976573648539653\n",
            "Epoch [41/50], Train Accuracy: 70.2 %, Loss: 1.2695\n",
            "Epoch [41/50], Learning Rate: 0.0021404630011522584\n",
            "Epoch [42/50], Train Accuracy: 70.0 %, Loss: 0.8188\n",
            "Epoch [42/50], Learning Rate: 0.001894751250743986\n",
            "Epoch [43/50], Train Accuracy: 70.7 %, Loss: 1.3784\n",
            "Epoch [43/50], Learning Rate: 0.001661491825652991\n",
            "Epoch [44/50], Train Accuracy: 70.0 %, Loss: 1.0034\n",
            "Epoch [44/50], Learning Rate: 0.001441605294264014\n",
            "Epoch [45/50], Train Accuracy: 73.8 %, Loss: 0.7820\n",
            "Epoch [45/50], Learning Rate: 0.001235959448259844\n",
            "Epoch [46/50], Train Accuracy: 74.2 %, Loss: 0.7070\n",
            "Epoch [46/50], Learning Rate: 0.0010453658778440107\n",
            "Epoch [47/50], Train Accuracy: 74.6 %, Loss: 0.4228\n",
            "Epoch [47/50], Learning Rate: 0.0008705767687650265\n",
            "Epoch [48/50], Train Accuracy: 72.8 %, Loss: 1.5506\n",
            "Epoch [48/50], Learning Rate: 0.0007122819337828754\n",
            "Epoch [49/50], Train Accuracy: 74.2 %, Loss: 1.4017\n",
            "Epoch [49/50], Learning Rate: 0.0005711060902932043\n",
            "Epoch [50/50], Train Accuracy: 74.4 %, Loss: 0.9498\n",
            "Epoch [50/50], Learning Rate: 0.00044760639485315584\n"
          ]
        }
      ]
    },
    {
      "cell_type": "code",
      "source": [
        "# モデルの刈り込み率を計算する関数を作成\n",
        "def calculate_pruned_ratio(model):\n",
        "    total_weights = 0\n",
        "    total_pruned_weights = 0\n",
        "\n",
        "    for module in model.modules():\n",
        "        # モジュールがSupermaskConvであるか確認\n",
        "        if isinstance(module, SupermaskConv):\n",
        "            # SupermaskConv層の重みを取得\n",
        "            weight = module.weight.data\n",
        "            # 刈り込みを適用した後の重みを取得\n",
        "            subnet = GetSubnet.apply(module.clamped_scores, 1 - module.prune_rate)\n",
        "            pruned_weight = weight * subnet\n",
        "            # 0である要素数を計算\n",
        "            pruned_weights_count = (pruned_weight == 0).sum().item()\n",
        "            total_pruned_weights += pruned_weights_count\n",
        "            # 重みの全要素数を計算\n",
        "            total_weights_count = pruned_weight.numel()\n",
        "            total_weights += total_weights_count\n",
        "\n",
        "    # 刈り込みが行われた割合を計算\n",
        "    pruned_ratio = total_pruned_weights / total_weights\n",
        "    return print(f\"刈り込み率は{pruned_ratio:.3f}です\")\n",
        "\n",
        "# モデルの刈り込み率を確認\n",
        "calculate_pruned_ratio(model)"
      ],
      "metadata": {
        "id": "1aZxqP9IsKjq",
        "colab": {
          "base_uri": "https://localhost:8080/"
        },
        "outputId": "0b8c828b-b58d-4827-b168-19c676d7d5b4"
      },
      "execution_count": 77,
      "outputs": [
        {
          "output_type": "stream",
          "name": "stdout",
          "text": [
            "刈り込み率は0.950です\n"
          ]
        }
      ]
    },
    {
      "cell_type": "code",
      "source": [
        "# 学習前後のモデルのスコアを比較する関数を作成\n",
        "def check_scores_change(model, model_init):\n",
        "    # 各モデルの名前付きモジュールを順に調べる\n",
        "    for (name, module), (name_init, module_init) in zip(model.named_modules(), model_init.named_modules()):\n",
        "        # 両モジュールがConv2dのインスタンスであるかを確認\n",
        "        if isinstance(module, torch.nn.Conv2d) and isinstance(module_init, torch.nn.Conv2d):\n",
        "            # 両モジュールが'scores'属性を持っているかを確認\n",
        "            if hasattr(module, 'scores') and hasattr(module_init, 'scores'):\n",
        "                # 両モジュールの'scores'属性が一致しているかを確認\n",
        "                # 一致していない場合、変更があったことを示すメッセージを出力\n",
        "                if not torch.equal(module.scores, module_init.scores):\n",
        "                    print(f'{name}のスコアが変化しています')\n",
        "                    return\n",
        "    # すべてのconv層で'scores'が変更されていない場合、その旨を出力\n",
        "    print('すべてのスコアは変化していません')\n",
        "\n",
        "# 学習前後でモデルのスコアが変化していないかを確認\n",
        "check_scores_change(model, model_init)"
      ],
      "metadata": {
        "id": "RFnYJCFQsKjq",
        "colab": {
          "base_uri": "https://localhost:8080/"
        },
        "outputId": "76a4b92e-c834-4abd-be2c-28ebeb133165"
      },
      "execution_count": 78,
      "outputs": [
        {
          "output_type": "stream",
          "name": "stdout",
          "text": [
            "すべてのスコアは変化していません\n"
          ]
        }
      ]
    },
    {
      "cell_type": "code",
      "source": [
        "# 学習前後のモデルの最終層以外の重みを比較する関数を作成\n",
        "def check_weight_change_except_last(model, model_init):\n",
        "    for (name, param), (name_init, param_init) in zip(model.named_parameters(), model_init.named_parameters()):\n",
        "        # 最終層を除く\n",
        "        if name != 'fc.weight' and name != 'fc.bias':\n",
        "            weights_changed = (param.data != param_init.data).any()\n",
        "            if weights_changed:\n",
        "                return print('最終層以外の重みが変化しています')\n",
        "    return print('最終層以外の重みは変化していません')\n",
        "\n",
        "# 学習前後でモデルの最終層以外の重みが変化していないかを確認\n",
        "check_weight_change_except_last(model, model_init)"
      ],
      "metadata": {
        "id": "QDeN9Kt9sKjq",
        "colab": {
          "base_uri": "https://localhost:8080/"
        },
        "outputId": "2854b902-b2f3-4e72-9908-5d389e55b768"
      },
      "execution_count": 79,
      "outputs": [
        {
          "output_type": "stream",
          "name": "stdout",
          "text": [
            "最終層以外の重みは変化していません\n"
          ]
        }
      ]
    },
    {
      "cell_type": "code",
      "source": [
        "# モデルの評価\n",
        "model.eval()\n",
        "with torch.no_grad():\n",
        "    total = 0\n",
        "    correct = 0\n",
        "    for images, labels in test_loader_handsigns:\n",
        "        images = images.to(device)\n",
        "        labels = labels.to(device)\n",
        "        outputs = model(images)\n",
        "        _, predicted = torch.max(outputs.data, 1)\n",
        "        total += labels.size(0)\n",
        "        correct += (predicted == labels).sum().item()\n",
        "    # 正解率精度の確認\n",
        "    print('Test Accuracy: {} %'.format(100 * correct / total))"
      ],
      "metadata": {
        "id": "GxfuSX3GsKjq",
        "colab": {
          "base_uri": "https://localhost:8080/"
        },
        "outputId": "faf202cd-88a6-400a-ed9b-0753897e91ac"
      },
      "execution_count": 80,
      "outputs": [
        {
          "output_type": "stream",
          "name": "stdout",
          "text": [
            "Test Accuracy: 77.0 %\n"
          ]
        }
      ]
    },
    {
      "cell_type": "code",
      "source": [
        "# GPUメモリの解放\n",
        "del model, model_init\n",
        "torch.cuda.empty_cache()"
      ],
      "metadata": {
        "id": "nF-avApBsKjr"
      },
      "execution_count": 81,
      "outputs": []
    },
    {
      "cell_type": "markdown",
      "source": [
        "### prune_rate=0.9"
      ],
      "metadata": {
        "id": "Y1vtYNaysKjr"
      }
    },
    {
      "cell_type": "code",
      "source": [
        "# デバイスを設定\n",
        "device = torch.device('cuda' if torch.cuda.is_available() else 'cpu')\n",
        "# モデルを定義\n",
        "model = torch.load('/content/drive/MyDrive/SupermaskWideResNet28_10_CIFAR10_100epochs_pr0.9_normal_CLRS_restest.pth')\n",
        "# 最終層を変更\n",
        "model.fc = nn.Linear(model.fc.in_features, 10)\n",
        "# 最終層以外のパラメータの勾配計算を停止\n",
        "for param in model.parameters():\n",
        "    param.requires_grad = False\n",
        "# 最終層のパラメータのみを学習するように設定\n",
        "for param in model.fc.parameters():\n",
        "    param.requires_grad = True\n",
        "# モデルをデバイスに転送\n",
        "model = model.to(device)\n",
        "# 変更後のモデルの重みを保存\n",
        "model_init = copy.deepcopy(model)\n",
        "\n",
        "# 学習率を設定\n",
        "learning_rate = 0.01\n",
        "# 全体のepoch数を設定\n",
        "num_epochs = 50\n",
        "# warm-upするepoch数を設定\n",
        "warmup_epochs = 5\n",
        "\n",
        "# 損失関数を定義\n",
        "criterion = nn.CrossEntropyLoss()\n",
        "# オプティマイザーを設定\n",
        "optimizer = optim.Adam(model.fc.parameters(), lr=learning_rate)\n",
        "# スケジューラーを設定\n",
        "scheduler = CosineLRScheduler(optimizer, t_initial=num_epochs, lr_min=1e-4, warmup_t=warmup_epochs, warmup_lr_init=1e-4, warmup_prefix=True)\n",
        "\n",
        "# モデルの学習\n",
        "for epoch in range(num_epochs):\n",
        "    total = 0\n",
        "    correct = 0\n",
        "    for i, (images, labels) in enumerate(train_loader_handsigns):\n",
        "        images = images.to(device)\n",
        "        labels = labels.to(device)\n",
        "        # 順伝播\n",
        "        outputs = model(images)\n",
        "        loss = criterion(outputs, labels)\n",
        "        # 逆伝播\n",
        "        optimizer.zero_grad()\n",
        "        loss.backward()\n",
        "        optimizer.step()\n",
        "        _, predicted = torch.max(outputs.data, 1)\n",
        "        # 全データ数\n",
        "        total += labels.size(0)\n",
        "        # 正解数\n",
        "        correct += (predicted == labels).sum().item()\n",
        "    # 正解率精度を計算\n",
        "    train_acc = 100 * correct / total\n",
        "    # 正解率精度と損失を確認\n",
        "    print(\"Epoch [{}/{}], Train Accuracy: {} %, Loss: {:.4f}\".format(epoch+1, num_epochs, 100 * correct / total, loss.item()))\n",
        "    # 1エポック終了後にスケジューラーを更新\n",
        "    scheduler.step(epoch)\n",
        "    # 学習率の確認\n",
        "    print(\"Epoch [{}/{}], Learning Rate: {}\".format(epoch+1, num_epochs, optimizer.param_groups[0]['lr']))\n",
        "\n",
        "\n",
        "# モデルを保存\n",
        "torch.save(model, '/content/drive/MyDrive/SupermaskWideResNet28_10_HandSigns_from_CIFAR10_100epochs_pr0.9_normal_50epochs_lr0.01_CLRS_restest.pth')"
      ],
      "metadata": {
        "id": "T3yxTJAisKjr",
        "colab": {
          "base_uri": "https://localhost:8080/"
        },
        "outputId": "6e309b4f-3dcf-410e-8452-d8291245cf6c"
      },
      "execution_count": 82,
      "outputs": [
        {
          "output_type": "stream",
          "name": "stdout",
          "text": [
            "Epoch [1/50], Train Accuracy: 10.9 %, Loss: 2.3148\n",
            "Epoch [1/50], Learning Rate: 0.0001\n",
            "Epoch [2/50], Train Accuracy: 19.0 %, Loss: 2.1992\n",
            "Epoch [2/50], Learning Rate: 0.00208\n",
            "Epoch [3/50], Train Accuracy: 25.8 %, Loss: 2.0949\n",
            "Epoch [3/50], Learning Rate: 0.00406\n",
            "Epoch [4/50], Train Accuracy: 28.5 %, Loss: 2.2727\n",
            "Epoch [4/50], Learning Rate: 0.00604\n",
            "Epoch [5/50], Train Accuracy: 29.9 %, Loss: 2.2555\n",
            "Epoch [5/50], Learning Rate: 0.00802\n",
            "Epoch [6/50], Train Accuracy: 35.2 %, Loss: 1.5641\n",
            "Epoch [6/50], Learning Rate: 0.01\n",
            "Epoch [7/50], Train Accuracy: 38.5 %, Loss: 1.3864\n",
            "Epoch [7/50], Learning Rate: 0.009990232305719944\n",
            "Epoch [8/50], Train Accuracy: 37.2 %, Loss: 1.5363\n",
            "Epoch [8/50], Learning Rate: 0.009960967771506667\n",
            "Epoch [9/50], Train Accuracy: 40.0 %, Loss: 1.5134\n",
            "Epoch [9/50], Learning Rate: 0.00991232189110701\n",
            "Epoch [10/50], Train Accuracy: 43.5 %, Loss: 2.0474\n",
            "Epoch [10/50], Learning Rate: 0.009844486647586723\n",
            "Epoch [11/50], Train Accuracy: 44.2 %, Loss: 1.2817\n",
            "Epoch [11/50], Learning Rate: 0.009757729755661011\n",
            "Epoch [12/50], Train Accuracy: 47.6 %, Loss: 1.3774\n",
            "Epoch [12/50], Learning Rate: 0.009652393605146845\n",
            "Epoch [13/50], Train Accuracy: 49.5 %, Loss: 1.4954\n",
            "Epoch [13/50], Learning Rate: 0.009528893909706798\n",
            "Epoch [14/50], Train Accuracy: 47.1 %, Loss: 1.0093\n",
            "Epoch [14/50], Learning Rate: 0.009387718066217124\n",
            "Epoch [15/50], Train Accuracy: 51.8 %, Loss: 1.2633\n",
            "Epoch [15/50], Learning Rate: 0.009229423231234974\n",
            "Epoch [16/50], Train Accuracy: 51.6 %, Loss: 1.7777\n",
            "Epoch [16/50], Learning Rate: 0.00905463412215599\n",
            "Epoch [17/50], Train Accuracy: 49.9 %, Loss: 1.9403\n",
            "Epoch [17/50], Learning Rate: 0.008864040551740157\n",
            "Epoch [18/50], Train Accuracy: 51.7 %, Loss: 0.3700\n",
            "Epoch [18/50], Learning Rate: 0.008658394705735987\n",
            "Epoch [19/50], Train Accuracy: 55.5 %, Loss: 1.6907\n",
            "Epoch [19/50], Learning Rate: 0.00843850817434701\n",
            "Epoch [20/50], Train Accuracy: 54.6 %, Loss: 1.1626\n",
            "Epoch [20/50], Learning Rate: 0.008205248749256015\n",
            "Epoch [21/50], Train Accuracy: 55.0 %, Loss: 1.3998\n",
            "Epoch [21/50], Learning Rate: 0.007959536998847744\n",
            "Epoch [22/50], Train Accuracy: 53.0 %, Loss: 2.2380\n",
            "Epoch [22/50], Learning Rate: 0.007702342635146034\n",
            "Epoch [23/50], Train Accuracy: 56.0 %, Loss: 2.3401\n",
            "Epoch [23/50], Learning Rate: 0.007434680686803491\n",
            "Epoch [24/50], Train Accuracy: 57.2 %, Loss: 1.0619\n",
            "Epoch [24/50], Learning Rate: 0.0071576074932471105\n",
            "Epoch [25/50], Train Accuracy: 59.5 %, Loss: 3.1189\n",
            "Epoch [25/50], Learning Rate: 0.006872216535789157\n",
            "Epoch [26/50], Train Accuracy: 58.4 %, Loss: 1.0593\n",
            "Epoch [26/50], Learning Rate: 0.006579634122155991\n",
            "Epoch [27/50], Train Accuracy: 59.2 %, Loss: 0.8097\n",
            "Epoch [27/50], Learning Rate: 0.0062810149414660316\n",
            "Epoch [28/50], Train Accuracy: 60.3 %, Loss: 1.3448\n",
            "Epoch [28/50], Learning Rate: 0.005977537507199339\n",
            "Epoch [29/50], Train Accuracy: 60.6 %, Loss: 0.9117\n",
            "Epoch [29/50], Learning Rate: 0.005670399506143308\n",
            "Epoch [30/50], Train Accuracy: 60.7 %, Loss: 1.6681\n",
            "Epoch [30/50], Learning Rate: 0.005360813071670102\n",
            "Epoch [31/50], Train Accuracy: 61.6 %, Loss: 0.9886\n",
            "Epoch [31/50], Learning Rate: 0.005050000000000001\n",
            "Epoch [32/50], Train Accuracy: 63.7 %, Loss: 2.1859\n",
            "Epoch [32/50], Learning Rate: 0.004739186928329899\n",
            "Epoch [33/50], Train Accuracy: 62.7 %, Loss: 1.5206\n",
            "Epoch [33/50], Learning Rate: 0.004429600493856695\n",
            "Epoch [34/50], Train Accuracy: 67.8 %, Loss: 1.3872\n",
            "Epoch [34/50], Learning Rate: 0.0041224624928006635\n",
            "Epoch [35/50], Train Accuracy: 65.6 %, Loss: 1.6553\n",
            "Epoch [35/50], Learning Rate: 0.0038189850585339685\n",
            "Epoch [36/50], Train Accuracy: 63.1 %, Loss: 0.7073\n",
            "Epoch [36/50], Learning Rate: 0.003520365877844012\n",
            "Epoch [37/50], Train Accuracy: 68.6 %, Loss: 1.9694\n",
            "Epoch [37/50], Learning Rate: 0.0032277834642108457\n",
            "Epoch [38/50], Train Accuracy: 66.7 %, Loss: 1.5930\n",
            "Epoch [38/50], Learning Rate: 0.0029423925067528904\n",
            "Epoch [39/50], Train Accuracy: 66.4 %, Loss: 0.7965\n",
            "Epoch [39/50], Learning Rate: 0.002665319313196509\n",
            "Epoch [40/50], Train Accuracy: 69.8 %, Loss: 1.7902\n",
            "Epoch [40/50], Learning Rate: 0.0023976573648539653\n",
            "Epoch [41/50], Train Accuracy: 67.4 %, Loss: 1.6850\n",
            "Epoch [41/50], Learning Rate: 0.0021404630011522584\n",
            "Epoch [42/50], Train Accuracy: 70.3 %, Loss: 0.7868\n",
            "Epoch [42/50], Learning Rate: 0.001894751250743986\n",
            "Epoch [43/50], Train Accuracy: 69.3 %, Loss: 1.6125\n",
            "Epoch [43/50], Learning Rate: 0.001661491825652991\n",
            "Epoch [44/50], Train Accuracy: 68.5 %, Loss: 0.9874\n",
            "Epoch [44/50], Learning Rate: 0.001441605294264014\n",
            "Epoch [45/50], Train Accuracy: 71.9 %, Loss: 1.1193\n",
            "Epoch [45/50], Learning Rate: 0.001235959448259844\n",
            "Epoch [46/50], Train Accuracy: 70.8 %, Loss: 1.4297\n",
            "Epoch [46/50], Learning Rate: 0.0010453658778440107\n",
            "Epoch [47/50], Train Accuracy: 70.5 %, Loss: 0.4358\n",
            "Epoch [47/50], Learning Rate: 0.0008705767687650265\n",
            "Epoch [48/50], Train Accuracy: 71.0 %, Loss: 1.3653\n",
            "Epoch [48/50], Learning Rate: 0.0007122819337828754\n",
            "Epoch [49/50], Train Accuracy: 72.0 %, Loss: 0.5834\n",
            "Epoch [49/50], Learning Rate: 0.0005711060902932043\n",
            "Epoch [50/50], Train Accuracy: 68.9 %, Loss: 2.3130\n",
            "Epoch [50/50], Learning Rate: 0.00044760639485315584\n"
          ]
        }
      ]
    },
    {
      "cell_type": "code",
      "source": [
        "# モデルの刈り込み率を計算する関数を作成\n",
        "def calculate_pruned_ratio(model):\n",
        "    total_weights = 0\n",
        "    total_pruned_weights = 0\n",
        "\n",
        "    for module in model.modules():\n",
        "        # モジュールがSupermaskConvであるか確認\n",
        "        if isinstance(module, SupermaskConv):\n",
        "            # SupermaskConv層の重みを取得\n",
        "            weight = module.weight.data\n",
        "            # 刈り込みを適用した後の重みを取得\n",
        "            subnet = GetSubnet.apply(module.clamped_scores, 1 - module.prune_rate)\n",
        "            pruned_weight = weight * subnet\n",
        "            # 0である要素数を計算\n",
        "            pruned_weights_count = (pruned_weight == 0).sum().item()\n",
        "            total_pruned_weights += pruned_weights_count\n",
        "            # 重みの全要素数を計算\n",
        "            total_weights_count = pruned_weight.numel()\n",
        "            total_weights += total_weights_count\n",
        "\n",
        "    # 刈り込みが行われた割合を計算\n",
        "    pruned_ratio = total_pruned_weights / total_weights\n",
        "    return print(f\"刈り込み率は{pruned_ratio:.3f}です\")\n",
        "\n",
        "# モデルの刈り込み率を確認\n",
        "calculate_pruned_ratio(model)"
      ],
      "metadata": {
        "id": "ZCUErTQzsKjr",
        "colab": {
          "base_uri": "https://localhost:8080/"
        },
        "outputId": "a1d3cb37-c6c4-41af-b9ac-04c8a90cb79f"
      },
      "execution_count": 83,
      "outputs": [
        {
          "output_type": "stream",
          "name": "stdout",
          "text": [
            "刈り込み率は0.900です\n"
          ]
        }
      ]
    },
    {
      "cell_type": "code",
      "source": [
        "# 学習前後のモデルのスコアを比較する関数を作成\n",
        "def check_scores_change(model, model_init):\n",
        "    # 各モデルの名前付きモジュールを順に調べる\n",
        "    for (name, module), (name_init, module_init) in zip(model.named_modules(), model_init.named_modules()):\n",
        "        # 両モジュールがConv2dのインスタンスであるかを確認\n",
        "        if isinstance(module, torch.nn.Conv2d) and isinstance(module_init, torch.nn.Conv2d):\n",
        "            # 両モジュールが'scores'属性を持っているかを確認\n",
        "            if hasattr(module, 'scores') and hasattr(module_init, 'scores'):\n",
        "                # 両モジュールの'scores'属性が一致しているかを確認\n",
        "                # 一致していない場合、変更があったことを示すメッセージを出力\n",
        "                if not torch.equal(module.scores, module_init.scores):\n",
        "                    print(f'{name}のスコアが変化しています')\n",
        "                    return\n",
        "    # すべてのconv層で'scores'が変更されていない場合、その旨を出力\n",
        "    print('すべてのスコアは変化していません')\n",
        "\n",
        "# 学習前後でモデルのスコアが変化していないかを確認\n",
        "check_scores_change(model, model_init)"
      ],
      "metadata": {
        "id": "ktJdEMAnsKjr",
        "colab": {
          "base_uri": "https://localhost:8080/"
        },
        "outputId": "900c72fd-1fcd-4a8c-e01c-fc42245432b3"
      },
      "execution_count": 84,
      "outputs": [
        {
          "output_type": "stream",
          "name": "stdout",
          "text": [
            "すべてのスコアは変化していません\n"
          ]
        }
      ]
    },
    {
      "cell_type": "code",
      "source": [
        "# 学習前後のモデルの最終層以外の重みを比較する関数を作成\n",
        "def check_weight_change_except_last(model, model_init):\n",
        "    for (name, param), (name_init, param_init) in zip(model.named_parameters(), model_init.named_parameters()):\n",
        "        # 最終層を除く\n",
        "        if name != 'fc.weight' and name != 'fc.bias':\n",
        "            weights_changed = (param.data != param_init.data).any()\n",
        "            if weights_changed:\n",
        "                return print('最終層以外の重みが変化しています')\n",
        "    return print('最終層以外の重みは変化していません')\n",
        "\n",
        "# 学習前後でモデルの最終層以外の重みが変化していないかを確認\n",
        "check_weight_change_except_last(model, model_init)"
      ],
      "metadata": {
        "id": "qAm-mNessKjr",
        "colab": {
          "base_uri": "https://localhost:8080/"
        },
        "outputId": "fb887fd6-98eb-4330-eeae-3d32a05f8502"
      },
      "execution_count": 85,
      "outputs": [
        {
          "output_type": "stream",
          "name": "stdout",
          "text": [
            "最終層以外の重みは変化していません\n"
          ]
        }
      ]
    },
    {
      "cell_type": "code",
      "source": [
        "# モデルの評価\n",
        "model.eval()\n",
        "with torch.no_grad():\n",
        "    total = 0\n",
        "    correct = 0\n",
        "    for images, labels in test_loader_handsigns:\n",
        "        images = images.to(device)\n",
        "        labels = labels.to(device)\n",
        "        outputs = model(images)\n",
        "        _, predicted = torch.max(outputs.data, 1)\n",
        "        total += labels.size(0)\n",
        "        correct += (predicted == labels).sum().item()\n",
        "    # 正解率精度の確認\n",
        "    print('Test Accuracy: {} %'.format(100 * correct / total))"
      ],
      "metadata": {
        "id": "bZ23nJSnsKjr",
        "colab": {
          "base_uri": "https://localhost:8080/"
        },
        "outputId": "e4b09d75-7bf9-4e5f-c8fe-1f258b59b13e"
      },
      "execution_count": 86,
      "outputs": [
        {
          "output_type": "stream",
          "name": "stdout",
          "text": [
            "Test Accuracy: 67.0 %\n"
          ]
        }
      ]
    },
    {
      "cell_type": "code",
      "source": [
        "# GPUメモリの解放\n",
        "del model, model_init\n",
        "torch.cuda.empty_cache()"
      ],
      "metadata": {
        "id": "RZman30_sKjr"
      },
      "execution_count": 87,
      "outputs": []
    },
    {
      "cell_type": "markdown",
      "source": [
        "### prune_rate=0.7"
      ],
      "metadata": {
        "id": "wkPFUm8TsKjs"
      }
    },
    {
      "cell_type": "code",
      "source": [
        "# デバイスを設定\n",
        "device = torch.device('cuda' if torch.cuda.is_available() else 'cpu')\n",
        "# モデルを定義\n",
        "model = torch.load('/content/drive/MyDrive/SupermaskWideResNet28_10_CIFAR10_100epochs_pr0.7_normal_CLRS_restest.pth')\n",
        "# 最終層を変更\n",
        "model.fc = nn.Linear(model.fc.in_features, 10)\n",
        "# 最終層以外のパラメータの勾配計算を停止\n",
        "for param in model.parameters():\n",
        "    param.requires_grad = False\n",
        "# 最終層のパラメータのみを学習するように設定\n",
        "for param in model.fc.parameters():\n",
        "    param.requires_grad = True\n",
        "# モデルをデバイスに転送\n",
        "model = model.to(device)\n",
        "# 変更後のモデルの重みを保存\n",
        "model_init = copy.deepcopy(model)\n",
        "\n",
        "# 学習率を設定\n",
        "learning_rate = 0.01\n",
        "# 全体のepoch数を設定\n",
        "num_epochs = 50\n",
        "# warm-upするepoch数を設定\n",
        "warmup_epochs = 5\n",
        "\n",
        "# 損失関数を定義\n",
        "criterion = nn.CrossEntropyLoss()\n",
        "# オプティマイザーを設定\n",
        "optimizer = optim.Adam(model.fc.parameters(), lr=learning_rate)\n",
        "# スケジューラーを設定\n",
        "scheduler = CosineLRScheduler(optimizer, t_initial=num_epochs, lr_min=1e-4, warmup_t=warmup_epochs, warmup_lr_init=1e-4, warmup_prefix=True)\n",
        "\n",
        "# モデルの学習\n",
        "for epoch in range(num_epochs):\n",
        "    total = 0\n",
        "    correct = 0\n",
        "    for i, (images, labels) in enumerate(train_loader_handsigns):\n",
        "        images = images.to(device)\n",
        "        labels = labels.to(device)\n",
        "        # 順伝播\n",
        "        outputs = model(images)\n",
        "        loss = criterion(outputs, labels)\n",
        "        # 逆伝播\n",
        "        optimizer.zero_grad()\n",
        "        loss.backward()\n",
        "        optimizer.step()\n",
        "        _, predicted = torch.max(outputs.data, 1)\n",
        "        # 全データ数\n",
        "        total += labels.size(0)\n",
        "        # 正解数\n",
        "        correct += (predicted == labels).sum().item()\n",
        "    # 正解率精度を計算\n",
        "    train_acc = 100 * correct / total\n",
        "    # 正解率精度と損失を確認\n",
        "    print(\"Epoch [{}/{}], Train Accuracy: {} %, Loss: {:.4f}\".format(epoch+1, num_epochs, 100 * correct / total, loss.item()))\n",
        "    # 1エポック終了後にスケジューラーを更新\n",
        "    scheduler.step(epoch)\n",
        "    # 学習率の確認\n",
        "    print(\"Epoch [{}/{}], Learning Rate: {}\".format(epoch+1, num_epochs, optimizer.param_groups[0]['lr']))\n",
        "\n",
        "\n",
        "# モデルを保存\n",
        "torch.save(model, '/content/drive/MyDrive/SupermaskWideResNet28_10_HandSigns_from_CIFAR10_100epochs_pr0.7_normal_50epochs_lr0.01_CLRS_restest.pth')"
      ],
      "metadata": {
        "id": "Le-oqnFvsKjs",
        "colab": {
          "base_uri": "https://localhost:8080/"
        },
        "outputId": "535ef708-c17d-4301-bcbe-f90fea1b660b"
      },
      "execution_count": 88,
      "outputs": [
        {
          "output_type": "stream",
          "name": "stdout",
          "text": [
            "Epoch [1/50], Train Accuracy: 10.5 %, Loss: 2.2793\n",
            "Epoch [1/50], Learning Rate: 0.0001\n",
            "Epoch [2/50], Train Accuracy: 18.5 %, Loss: 2.1051\n",
            "Epoch [2/50], Learning Rate: 0.00208\n",
            "Epoch [3/50], Train Accuracy: 24.7 %, Loss: 1.8313\n",
            "Epoch [3/50], Learning Rate: 0.00406\n",
            "Epoch [4/50], Train Accuracy: 29.4 %, Loss: 2.4959\n",
            "Epoch [4/50], Learning Rate: 0.00604\n",
            "Epoch [5/50], Train Accuracy: 30.8 %, Loss: 1.5960\n",
            "Epoch [5/50], Learning Rate: 0.00802\n",
            "Epoch [6/50], Train Accuracy: 29.4 %, Loss: 2.1962\n",
            "Epoch [6/50], Learning Rate: 0.01\n",
            "Epoch [7/50], Train Accuracy: 32.0 %, Loss: 3.2072\n",
            "Epoch [7/50], Learning Rate: 0.009990232305719944\n",
            "Epoch [8/50], Train Accuracy: 33.0 %, Loss: 2.2695\n",
            "Epoch [8/50], Learning Rate: 0.009960967771506667\n",
            "Epoch [9/50], Train Accuracy: 38.4 %, Loss: 1.3736\n",
            "Epoch [9/50], Learning Rate: 0.00991232189110701\n",
            "Epoch [10/50], Train Accuracy: 38.0 %, Loss: 1.8959\n",
            "Epoch [10/50], Learning Rate: 0.009844486647586723\n",
            "Epoch [11/50], Train Accuracy: 41.6 %, Loss: 2.3081\n",
            "Epoch [11/50], Learning Rate: 0.009757729755661011\n",
            "Epoch [12/50], Train Accuracy: 43.4 %, Loss: 1.6649\n",
            "Epoch [12/50], Learning Rate: 0.009652393605146845\n",
            "Epoch [13/50], Train Accuracy: 45.7 %, Loss: 1.6089\n",
            "Epoch [13/50], Learning Rate: 0.009528893909706798\n",
            "Epoch [14/50], Train Accuracy: 46.8 %, Loss: 1.2198\n",
            "Epoch [14/50], Learning Rate: 0.009387718066217124\n",
            "Epoch [15/50], Train Accuracy: 46.5 %, Loss: 1.0501\n",
            "Epoch [15/50], Learning Rate: 0.009229423231234974\n",
            "Epoch [16/50], Train Accuracy: 47.2 %, Loss: 2.1549\n",
            "Epoch [16/50], Learning Rate: 0.00905463412215599\n",
            "Epoch [17/50], Train Accuracy: 47.5 %, Loss: 1.5254\n",
            "Epoch [17/50], Learning Rate: 0.008864040551740157\n",
            "Epoch [18/50], Train Accuracy: 50.9 %, Loss: 1.3939\n",
            "Epoch [18/50], Learning Rate: 0.008658394705735987\n",
            "Epoch [19/50], Train Accuracy: 50.1 %, Loss: 1.2101\n",
            "Epoch [19/50], Learning Rate: 0.00843850817434701\n",
            "Epoch [20/50], Train Accuracy: 51.1 %, Loss: 1.3299\n",
            "Epoch [20/50], Learning Rate: 0.008205248749256015\n",
            "Epoch [21/50], Train Accuracy: 53.2 %, Loss: 1.6037\n",
            "Epoch [21/50], Learning Rate: 0.007959536998847744\n",
            "Epoch [22/50], Train Accuracy: 56.2 %, Loss: 1.5895\n",
            "Epoch [22/50], Learning Rate: 0.007702342635146034\n",
            "Epoch [23/50], Train Accuracy: 56.6 %, Loss: 1.8863\n",
            "Epoch [23/50], Learning Rate: 0.007434680686803491\n",
            "Epoch [24/50], Train Accuracy: 52.4 %, Loss: 1.6407\n",
            "Epoch [24/50], Learning Rate: 0.0071576074932471105\n",
            "Epoch [25/50], Train Accuracy: 49.6 %, Loss: 2.6347\n",
            "Epoch [25/50], Learning Rate: 0.006872216535789157\n",
            "Epoch [26/50], Train Accuracy: 55.1 %, Loss: 0.9967\n",
            "Epoch [26/50], Learning Rate: 0.006579634122155991\n",
            "Epoch [27/50], Train Accuracy: 58.2 %, Loss: 1.3163\n",
            "Epoch [27/50], Learning Rate: 0.0062810149414660316\n",
            "Epoch [28/50], Train Accuracy: 57.5 %, Loss: 1.8202\n",
            "Epoch [28/50], Learning Rate: 0.005977537507199339\n",
            "Epoch [29/50], Train Accuracy: 59.7 %, Loss: 1.3381\n",
            "Epoch [29/50], Learning Rate: 0.005670399506143308\n",
            "Epoch [30/50], Train Accuracy: 58.5 %, Loss: 2.0793\n",
            "Epoch [30/50], Learning Rate: 0.005360813071670102\n",
            "Epoch [31/50], Train Accuracy: 61.0 %, Loss: 1.8049\n",
            "Epoch [31/50], Learning Rate: 0.005050000000000001\n",
            "Epoch [32/50], Train Accuracy: 60.1 %, Loss: 1.1527\n",
            "Epoch [32/50], Learning Rate: 0.004739186928329899\n",
            "Epoch [33/50], Train Accuracy: 63.0 %, Loss: 1.0487\n",
            "Epoch [33/50], Learning Rate: 0.004429600493856695\n",
            "Epoch [34/50], Train Accuracy: 62.7 %, Loss: 1.3843\n",
            "Epoch [34/50], Learning Rate: 0.0041224624928006635\n",
            "Epoch [35/50], Train Accuracy: 64.1 %, Loss: 1.0375\n",
            "Epoch [35/50], Learning Rate: 0.0038189850585339685\n",
            "Epoch [36/50], Train Accuracy: 62.9 %, Loss: 1.7614\n",
            "Epoch [36/50], Learning Rate: 0.003520365877844012\n",
            "Epoch [37/50], Train Accuracy: 63.8 %, Loss: 2.1562\n",
            "Epoch [37/50], Learning Rate: 0.0032277834642108457\n",
            "Epoch [38/50], Train Accuracy: 63.5 %, Loss: 0.8673\n",
            "Epoch [38/50], Learning Rate: 0.0029423925067528904\n",
            "Epoch [39/50], Train Accuracy: 64.7 %, Loss: 1.0516\n",
            "Epoch [39/50], Learning Rate: 0.002665319313196509\n",
            "Epoch [40/50], Train Accuracy: 64.1 %, Loss: 1.2919\n",
            "Epoch [40/50], Learning Rate: 0.0023976573648539653\n",
            "Epoch [41/50], Train Accuracy: 66.4 %, Loss: 0.9345\n",
            "Epoch [41/50], Learning Rate: 0.0021404630011522584\n",
            "Epoch [42/50], Train Accuracy: 65.7 %, Loss: 1.2791\n",
            "Epoch [42/50], Learning Rate: 0.001894751250743986\n",
            "Epoch [43/50], Train Accuracy: 67.9 %, Loss: 0.8351\n",
            "Epoch [43/50], Learning Rate: 0.001661491825652991\n",
            "Epoch [44/50], Train Accuracy: 68.8 %, Loss: 1.7243\n",
            "Epoch [44/50], Learning Rate: 0.001441605294264014\n",
            "Epoch [45/50], Train Accuracy: 68.9 %, Loss: 1.4211\n",
            "Epoch [45/50], Learning Rate: 0.001235959448259844\n",
            "Epoch [46/50], Train Accuracy: 68.5 %, Loss: 1.3602\n",
            "Epoch [46/50], Learning Rate: 0.0010453658778440107\n",
            "Epoch [47/50], Train Accuracy: 69.5 %, Loss: 0.3092\n",
            "Epoch [47/50], Learning Rate: 0.0008705767687650265\n",
            "Epoch [48/50], Train Accuracy: 69.2 %, Loss: 0.5352\n",
            "Epoch [48/50], Learning Rate: 0.0007122819337828754\n",
            "Epoch [49/50], Train Accuracy: 70.5 %, Loss: 0.9911\n",
            "Epoch [49/50], Learning Rate: 0.0005711060902932043\n",
            "Epoch [50/50], Train Accuracy: 70.7 %, Loss: 1.1812\n",
            "Epoch [50/50], Learning Rate: 0.00044760639485315584\n"
          ]
        }
      ]
    },
    {
      "cell_type": "code",
      "source": [
        "# モデルの刈り込み率を計算する関数を作成\n",
        "def calculate_pruned_ratio(model):\n",
        "    total_weights = 0\n",
        "    total_pruned_weights = 0\n",
        "\n",
        "    for module in model.modules():\n",
        "        # モジュールがSupermaskConvであるか確認\n",
        "        if isinstance(module, SupermaskConv):\n",
        "            # SupermaskConv層の重みを取得\n",
        "            weight = module.weight.data\n",
        "            # 刈り込みを適用した後の重みを取得\n",
        "            subnet = GetSubnet.apply(module.clamped_scores, 1 - module.prune_rate)\n",
        "            pruned_weight = weight * subnet\n",
        "            # 0である要素数を計算\n",
        "            pruned_weights_count = (pruned_weight == 0).sum().item()\n",
        "            total_pruned_weights += pruned_weights_count\n",
        "            # 重みの全要素数を計算\n",
        "            total_weights_count = pruned_weight.numel()\n",
        "            total_weights += total_weights_count\n",
        "\n",
        "    # 刈り込みが行われた割合を計算\n",
        "    pruned_ratio = total_pruned_weights / total_weights\n",
        "    return print(f\"刈り込み率は{pruned_ratio:.3f}です\")\n",
        "\n",
        "# モデルの刈り込み率を確認\n",
        "calculate_pruned_ratio(model)"
      ],
      "metadata": {
        "id": "mdIU4ohVsKjs",
        "colab": {
          "base_uri": "https://localhost:8080/"
        },
        "outputId": "4b59a494-e833-4ccb-cadd-af5858f53cae"
      },
      "execution_count": 89,
      "outputs": [
        {
          "output_type": "stream",
          "name": "stdout",
          "text": [
            "刈り込み率は0.700です\n"
          ]
        }
      ]
    },
    {
      "cell_type": "code",
      "source": [
        "# 学習前後のモデルのスコアを比較する関数を作成\n",
        "def check_scores_change(model, model_init):\n",
        "    # 各モデルの名前付きモジュールを順に調べる\n",
        "    for (name, module), (name_init, module_init) in zip(model.named_modules(), model_init.named_modules()):\n",
        "        # 両モジュールがConv2dのインスタンスであるかを確認\n",
        "        if isinstance(module, torch.nn.Conv2d) and isinstance(module_init, torch.nn.Conv2d):\n",
        "            # 両モジュールが'scores'属性を持っているかを確認\n",
        "            if hasattr(module, 'scores') and hasattr(module_init, 'scores'):\n",
        "                # 両モジュールの'scores'属性が一致しているかを確認\n",
        "                # 一致していない場合、変更があったことを示すメッセージを出力\n",
        "                if not torch.equal(module.scores, module_init.scores):\n",
        "                    print(f'{name}のスコアが変化しています')\n",
        "                    return\n",
        "    # すべてのconv層で'scores'が変更されていない場合、その旨を出力\n",
        "    print('すべてのスコアは変化していません')\n",
        "\n",
        "# 学習前後でモデルのスコアが変化していないかを確認\n",
        "check_scores_change(model, model_init)"
      ],
      "metadata": {
        "id": "5J_I6epfsKjs",
        "colab": {
          "base_uri": "https://localhost:8080/"
        },
        "outputId": "d74acd21-25a5-425a-9094-f8c55af5b08b"
      },
      "execution_count": 90,
      "outputs": [
        {
          "output_type": "stream",
          "name": "stdout",
          "text": [
            "すべてのスコアは変化していません\n"
          ]
        }
      ]
    },
    {
      "cell_type": "code",
      "source": [
        "# 学習前後のモデルの最終層以外の重みを比較する関数を作成\n",
        "def check_weight_change_except_last(model, model_init):\n",
        "    for (name, param), (name_init, param_init) in zip(model.named_parameters(), model_init.named_parameters()):\n",
        "        # 最終層を除く\n",
        "        if name != 'fc.weight' and name != 'fc.bias':\n",
        "            weights_changed = (param.data != param_init.data).any()\n",
        "            if weights_changed:\n",
        "                return print('最終層以外の重みが変化しています')\n",
        "    return print('最終層以外の重みは変化していません')\n",
        "\n",
        "# 学習前後でモデルの最終層以外の重みが変化していないかを確認\n",
        "check_weight_change_except_last(model, model_init)"
      ],
      "metadata": {
        "id": "8CKWYgN3sKjs",
        "colab": {
          "base_uri": "https://localhost:8080/"
        },
        "outputId": "dd789802-1ecb-4136-c30a-3293a923cd60"
      },
      "execution_count": 91,
      "outputs": [
        {
          "output_type": "stream",
          "name": "stdout",
          "text": [
            "最終層以外の重みは変化していません\n"
          ]
        }
      ]
    },
    {
      "cell_type": "code",
      "source": [
        "# モデルの評価\n",
        "model.eval()\n",
        "with torch.no_grad():\n",
        "    total = 0\n",
        "    correct = 0\n",
        "    for images, labels in test_loader_handsigns:\n",
        "        images = images.to(device)\n",
        "        labels = labels.to(device)\n",
        "        outputs = model(images)\n",
        "        _, predicted = torch.max(outputs.data, 1)\n",
        "        total += labels.size(0)\n",
        "        correct += (predicted == labels).sum().item()\n",
        "    # 正解率精度の確認\n",
        "    print('Test Accuracy: {} %'.format(100 * correct / total))"
      ],
      "metadata": {
        "id": "G2ba207QsKjs",
        "colab": {
          "base_uri": "https://localhost:8080/"
        },
        "outputId": "4cab3095-8780-48ce-870d-73c33bbbb569"
      },
      "execution_count": 92,
      "outputs": [
        {
          "output_type": "stream",
          "name": "stdout",
          "text": [
            "Test Accuracy: 67.0 %\n"
          ]
        }
      ]
    },
    {
      "cell_type": "code",
      "source": [
        "# GPUメモリの解放\n",
        "del model, model_init\n",
        "torch.cuda.empty_cache()"
      ],
      "metadata": {
        "id": "xcVxnxg6sKjs"
      },
      "execution_count": 93,
      "outputs": []
    },
    {
      "cell_type": "markdown",
      "source": [
        "### prune_rate=0.5"
      ],
      "metadata": {
        "id": "8W8kzd_SsKjs"
      }
    },
    {
      "cell_type": "code",
      "source": [
        "# デバイスを設定\n",
        "device = torch.device('cuda' if torch.cuda.is_available() else 'cpu')\n",
        "# モデルを定義\n",
        "model = torch.load('/content/drive/MyDrive/SupermaskWideResNet28_10_CIFAR10_100epochs_pr0.5_normal_CLRS_restest.pth')\n",
        "# 最終層を変更\n",
        "model.fc = nn.Linear(model.fc.in_features, 10)\n",
        "# 最終層以外のパラメータの勾配計算を停止\n",
        "for param in model.parameters():\n",
        "    param.requires_grad = False\n",
        "# 最終層のパラメータのみを学習するように設定\n",
        "for param in model.fc.parameters():\n",
        "    param.requires_grad = True\n",
        "# モデルをデバイスに転送\n",
        "model = model.to(device)\n",
        "# 変更後のモデルの重みを保存\n",
        "model_init = copy.deepcopy(model)\n",
        "\n",
        "# 学習率を設定\n",
        "learning_rate = 0.01\n",
        "# 全体のepoch数を設定\n",
        "num_epochs = 50\n",
        "# warm-upするepoch数を設定\n",
        "warmup_epochs = 5\n",
        "\n",
        "# 損失関数を定義\n",
        "criterion = nn.CrossEntropyLoss()\n",
        "# オプティマイザーを設定\n",
        "optimizer = optim.Adam(model.fc.parameters(), lr=learning_rate)\n",
        "# スケジューラーを設定\n",
        "scheduler = CosineLRScheduler(optimizer, t_initial=num_epochs, lr_min=1e-4, warmup_t=warmup_epochs, warmup_lr_init=1e-4, warmup_prefix=True)\n",
        "\n",
        "# モデルの学習\n",
        "for epoch in range(num_epochs):\n",
        "    total = 0\n",
        "    correct = 0\n",
        "    for i, (images, labels) in enumerate(train_loader_handsigns):\n",
        "        images = images.to(device)\n",
        "        labels = labels.to(device)\n",
        "        # 順伝播\n",
        "        outputs = model(images)\n",
        "        loss = criterion(outputs, labels)\n",
        "        # 逆伝播\n",
        "        optimizer.zero_grad()\n",
        "        loss.backward()\n",
        "        optimizer.step()\n",
        "        _, predicted = torch.max(outputs.data, 1)\n",
        "        # 全データ数\n",
        "        total += labels.size(0)\n",
        "        # 正解数\n",
        "        correct += (predicted == labels).sum().item()\n",
        "    # 正解率精度を計算\n",
        "    train_acc = 100 * correct / total\n",
        "    # 正解率精度と損失を確認\n",
        "    print(\"Epoch [{}/{}], Train Accuracy: {} %, Loss: {:.4f}\".format(epoch+1, num_epochs, 100 * correct / total, loss.item()))\n",
        "    # 1エポック終了後にスケジューラーを更新\n",
        "    scheduler.step(epoch)\n",
        "    # 学習率の確認\n",
        "    print(\"Epoch [{}/{}], Learning Rate: {}\".format(epoch+1, num_epochs, optimizer.param_groups[0]['lr']))\n",
        "\n",
        "\n",
        "# モデルを保存\n",
        "torch.save(model, '/content/drive/MyDrive/SupermaskWideResNet28_10_HandSigns_from_CIFAR10_100epochs_pr0.5_normal_50epochs_lr0.01_CLRS_restest.pth')"
      ],
      "metadata": {
        "id": "Resn6m1tsKjs",
        "colab": {
          "base_uri": "https://localhost:8080/"
        },
        "outputId": "5a7761a8-62b5-46a2-b084-b536e233110c"
      },
      "execution_count": 94,
      "outputs": [
        {
          "output_type": "stream",
          "name": "stdout",
          "text": [
            "Epoch [1/50], Train Accuracy: 10.2 %, Loss: 2.2792\n",
            "Epoch [1/50], Learning Rate: 0.0001\n",
            "Epoch [2/50], Train Accuracy: 15.3 %, Loss: 2.2007\n",
            "Epoch [2/50], Learning Rate: 0.00208\n",
            "Epoch [3/50], Train Accuracy: 22.3 %, Loss: 2.0003\n",
            "Epoch [3/50], Learning Rate: 0.00406\n",
            "Epoch [4/50], Train Accuracy: 27.5 %, Loss: 2.5659\n",
            "Epoch [4/50], Learning Rate: 0.00604\n",
            "Epoch [5/50], Train Accuracy: 28.2 %, Loss: 1.5029\n",
            "Epoch [5/50], Learning Rate: 0.00802\n",
            "Epoch [6/50], Train Accuracy: 29.4 %, Loss: 2.3660\n",
            "Epoch [6/50], Learning Rate: 0.01\n",
            "Epoch [7/50], Train Accuracy: 32.3 %, Loss: 3.0989\n",
            "Epoch [7/50], Learning Rate: 0.009990232305719944\n",
            "Epoch [8/50], Train Accuracy: 36.0 %, Loss: 1.6795\n",
            "Epoch [8/50], Learning Rate: 0.009960967771506667\n",
            "Epoch [9/50], Train Accuracy: 39.4 %, Loss: 2.1623\n",
            "Epoch [9/50], Learning Rate: 0.00991232189110701\n",
            "Epoch [10/50], Train Accuracy: 40.0 %, Loss: 1.7037\n",
            "Epoch [10/50], Learning Rate: 0.009844486647586723\n",
            "Epoch [11/50], Train Accuracy: 40.7 %, Loss: 1.7245\n",
            "Epoch [11/50], Learning Rate: 0.009757729755661011\n",
            "Epoch [12/50], Train Accuracy: 41.5 %, Loss: 2.6290\n",
            "Epoch [12/50], Learning Rate: 0.009652393605146845\n",
            "Epoch [13/50], Train Accuracy: 40.2 %, Loss: 2.6911\n",
            "Epoch [13/50], Learning Rate: 0.009528893909706798\n",
            "Epoch [14/50], Train Accuracy: 43.6 %, Loss: 1.6498\n",
            "Epoch [14/50], Learning Rate: 0.009387718066217124\n",
            "Epoch [15/50], Train Accuracy: 47.9 %, Loss: 1.4722\n",
            "Epoch [15/50], Learning Rate: 0.009229423231234974\n",
            "Epoch [16/50], Train Accuracy: 44.5 %, Loss: 2.3879\n",
            "Epoch [16/50], Learning Rate: 0.00905463412215599\n",
            "Epoch [17/50], Train Accuracy: 50.5 %, Loss: 1.8525\n",
            "Epoch [17/50], Learning Rate: 0.008864040551740157\n",
            "Epoch [18/50], Train Accuracy: 48.4 %, Loss: 2.5199\n",
            "Epoch [18/50], Learning Rate: 0.008658394705735987\n",
            "Epoch [19/50], Train Accuracy: 49.7 %, Loss: 1.3707\n",
            "Epoch [19/50], Learning Rate: 0.00843850817434701\n",
            "Epoch [20/50], Train Accuracy: 53.0 %, Loss: 1.8574\n",
            "Epoch [20/50], Learning Rate: 0.008205248749256015\n",
            "Epoch [21/50], Train Accuracy: 53.1 %, Loss: 1.4296\n",
            "Epoch [21/50], Learning Rate: 0.007959536998847744\n",
            "Epoch [22/50], Train Accuracy: 52.7 %, Loss: 0.7902\n",
            "Epoch [22/50], Learning Rate: 0.007702342635146034\n",
            "Epoch [23/50], Train Accuracy: 53.7 %, Loss: 1.1233\n",
            "Epoch [23/50], Learning Rate: 0.007434680686803491\n",
            "Epoch [24/50], Train Accuracy: 59.0 %, Loss: 1.4231\n",
            "Epoch [24/50], Learning Rate: 0.0071576074932471105\n",
            "Epoch [25/50], Train Accuracy: 55.5 %, Loss: 2.4461\n",
            "Epoch [25/50], Learning Rate: 0.006872216535789157\n",
            "Epoch [26/50], Train Accuracy: 54.6 %, Loss: 0.8051\n",
            "Epoch [26/50], Learning Rate: 0.006579634122155991\n",
            "Epoch [27/50], Train Accuracy: 56.7 %, Loss: 1.3516\n",
            "Epoch [27/50], Learning Rate: 0.0062810149414660316\n",
            "Epoch [28/50], Train Accuracy: 57.4 %, Loss: 1.3856\n",
            "Epoch [28/50], Learning Rate: 0.005977537507199339\n",
            "Epoch [29/50], Train Accuracy: 59.6 %, Loss: 1.7774\n",
            "Epoch [29/50], Learning Rate: 0.005670399506143308\n",
            "Epoch [30/50], Train Accuracy: 57.5 %, Loss: 1.5223\n",
            "Epoch [30/50], Learning Rate: 0.005360813071670102\n",
            "Epoch [31/50], Train Accuracy: 61.6 %, Loss: 0.9973\n",
            "Epoch [31/50], Learning Rate: 0.005050000000000001\n",
            "Epoch [32/50], Train Accuracy: 62.4 %, Loss: 1.4978\n",
            "Epoch [32/50], Learning Rate: 0.004739186928329899\n",
            "Epoch [33/50], Train Accuracy: 62.2 %, Loss: 1.0672\n",
            "Epoch [33/50], Learning Rate: 0.004429600493856695\n",
            "Epoch [34/50], Train Accuracy: 63.3 %, Loss: 1.6384\n",
            "Epoch [34/50], Learning Rate: 0.0041224624928006635\n",
            "Epoch [35/50], Train Accuracy: 60.9 %, Loss: 0.9957\n",
            "Epoch [35/50], Learning Rate: 0.0038189850585339685\n",
            "Epoch [36/50], Train Accuracy: 63.9 %, Loss: 1.4042\n",
            "Epoch [36/50], Learning Rate: 0.003520365877844012\n",
            "Epoch [37/50], Train Accuracy: 64.5 %, Loss: 2.1262\n",
            "Epoch [37/50], Learning Rate: 0.0032277834642108457\n",
            "Epoch [38/50], Train Accuracy: 62.4 %, Loss: 1.6747\n",
            "Epoch [38/50], Learning Rate: 0.0029423925067528904\n",
            "Epoch [39/50], Train Accuracy: 63.2 %, Loss: 1.2196\n",
            "Epoch [39/50], Learning Rate: 0.002665319313196509\n",
            "Epoch [40/50], Train Accuracy: 64.2 %, Loss: 1.3187\n",
            "Epoch [40/50], Learning Rate: 0.0023976573648539653\n",
            "Epoch [41/50], Train Accuracy: 66.1 %, Loss: 1.3573\n",
            "Epoch [41/50], Learning Rate: 0.0021404630011522584\n",
            "Epoch [42/50], Train Accuracy: 63.2 %, Loss: 2.0288\n",
            "Epoch [42/50], Learning Rate: 0.001894751250743986\n",
            "Epoch [43/50], Train Accuracy: 68.1 %, Loss: 1.3672\n",
            "Epoch [43/50], Learning Rate: 0.001661491825652991\n",
            "Epoch [44/50], Train Accuracy: 69.3 %, Loss: 1.2834\n",
            "Epoch [44/50], Learning Rate: 0.001441605294264014\n",
            "Epoch [45/50], Train Accuracy: 67.3 %, Loss: 0.8648\n",
            "Epoch [45/50], Learning Rate: 0.001235959448259844\n",
            "Epoch [46/50], Train Accuracy: 69.3 %, Loss: 0.9621\n",
            "Epoch [46/50], Learning Rate: 0.0010453658778440107\n",
            "Epoch [47/50], Train Accuracy: 65.8 %, Loss: 0.8146\n",
            "Epoch [47/50], Learning Rate: 0.0008705767687650265\n",
            "Epoch [48/50], Train Accuracy: 69.9 %, Loss: 0.8592\n",
            "Epoch [48/50], Learning Rate: 0.0007122819337828754\n",
            "Epoch [49/50], Train Accuracy: 68.3 %, Loss: 1.3482\n",
            "Epoch [49/50], Learning Rate: 0.0005711060902932043\n",
            "Epoch [50/50], Train Accuracy: 69.8 %, Loss: 0.6995\n",
            "Epoch [50/50], Learning Rate: 0.00044760639485315584\n"
          ]
        }
      ]
    },
    {
      "cell_type": "code",
      "source": [
        "# モデルの刈り込み率を計算する関数を作成\n",
        "def calculate_pruned_ratio(model):\n",
        "    total_weights = 0\n",
        "    total_pruned_weights = 0\n",
        "\n",
        "    for module in model.modules():\n",
        "        # モジュールがSupermaskConvであるか確認\n",
        "        if isinstance(module, SupermaskConv):\n",
        "            # SupermaskConv層の重みを取得\n",
        "            weight = module.weight.data\n",
        "            # 刈り込みを適用した後の重みを取得\n",
        "            subnet = GetSubnet.apply(module.clamped_scores, 1 - module.prune_rate)\n",
        "            pruned_weight = weight * subnet\n",
        "            # 0である要素数を計算\n",
        "            pruned_weights_count = (pruned_weight == 0).sum().item()\n",
        "            total_pruned_weights += pruned_weights_count\n",
        "            # 重みの全要素数を計算\n",
        "            total_weights_count = pruned_weight.numel()\n",
        "            total_weights += total_weights_count\n",
        "\n",
        "    # 刈り込みが行われた割合を計算\n",
        "    pruned_ratio = total_pruned_weights / total_weights\n",
        "    return print(f\"刈り込み率は{pruned_ratio:.3f}です\")\n",
        "\n",
        "# モデルの刈り込み率を確認\n",
        "calculate_pruned_ratio(model)"
      ],
      "metadata": {
        "id": "0_x414z_sKjt",
        "colab": {
          "base_uri": "https://localhost:8080/"
        },
        "outputId": "e47fec39-4579-4502-a47c-1afe51d7f490"
      },
      "execution_count": 95,
      "outputs": [
        {
          "output_type": "stream",
          "name": "stdout",
          "text": [
            "刈り込み率は0.500です\n"
          ]
        }
      ]
    },
    {
      "cell_type": "code",
      "source": [
        "# 学習前後のモデルのスコアを比較する関数を作成\n",
        "def check_scores_change(model, model_init):\n",
        "    # 各モデルの名前付きモジュールを順に調べる\n",
        "    for (name, module), (name_init, module_init) in zip(model.named_modules(), model_init.named_modules()):\n",
        "        # 両モジュールがConv2dのインスタンスであるかを確認\n",
        "        if isinstance(module, torch.nn.Conv2d) and isinstance(module_init, torch.nn.Conv2d):\n",
        "            # 両モジュールが'scores'属性を持っているかを確認\n",
        "            if hasattr(module, 'scores') and hasattr(module_init, 'scores'):\n",
        "                # 両モジュールの'scores'属性が一致しているかを確認\n",
        "                # 一致していない場合、変更があったことを示すメッセージを出力\n",
        "                if not torch.equal(module.scores, module_init.scores):\n",
        "                    print(f'{name}のスコアが変化しています')\n",
        "                    return\n",
        "    # すべてのconv層で'scores'が変更されていない場合、その旨を出力\n",
        "    print('すべてのスコアは変化していません')\n",
        "\n",
        "# 学習前後でモデルのスコアが変化していないかを確認\n",
        "check_scores_change(model, model_init)"
      ],
      "metadata": {
        "id": "pXcOmaxJsKjt",
        "colab": {
          "base_uri": "https://localhost:8080/"
        },
        "outputId": "959e0097-b91c-4f44-a30f-5f4134ea5730"
      },
      "execution_count": 96,
      "outputs": [
        {
          "output_type": "stream",
          "name": "stdout",
          "text": [
            "すべてのスコアは変化していません\n"
          ]
        }
      ]
    },
    {
      "cell_type": "code",
      "source": [
        "# 学習前後のモデルの最終層以外の重みを比較する関数を作成\n",
        "def check_weight_change_except_last(model, model_init):\n",
        "    for (name, param), (name_init, param_init) in zip(model.named_parameters(), model_init.named_parameters()):\n",
        "        # 最終層を除く\n",
        "        if name != 'fc.weight' and name != 'fc.bias':\n",
        "            weights_changed = (param.data != param_init.data).any()\n",
        "            if weights_changed:\n",
        "                return print('最終層以外の重みが変化しています')\n",
        "    return print('最終層以外の重みは変化していません')\n",
        "\n",
        "# 学習前後でモデルの最終層以外の重みが変化していないかを確認\n",
        "check_weight_change_except_last(model, model_init)"
      ],
      "metadata": {
        "id": "K-9nEL2msKjt",
        "colab": {
          "base_uri": "https://localhost:8080/"
        },
        "outputId": "70779dc9-75ae-4c51-ce57-ca83eb4a6427"
      },
      "execution_count": 97,
      "outputs": [
        {
          "output_type": "stream",
          "name": "stdout",
          "text": [
            "最終層以外の重みは変化していません\n"
          ]
        }
      ]
    },
    {
      "cell_type": "code",
      "source": [
        "# モデルの評価\n",
        "model.eval()\n",
        "with torch.no_grad():\n",
        "    total = 0\n",
        "    correct = 0\n",
        "    for images, labels in test_loader_handsigns:\n",
        "        images = images.to(device)\n",
        "        labels = labels.to(device)\n",
        "        outputs = model(images)\n",
        "        _, predicted = torch.max(outputs.data, 1)\n",
        "        total += labels.size(0)\n",
        "        correct += (predicted == labels).sum().item()\n",
        "    # 正解率精度の確認\n",
        "    print('Test Accuracy: {} %'.format(100 * correct / total))"
      ],
      "metadata": {
        "id": "bRLJ9NWVsKjt",
        "colab": {
          "base_uri": "https://localhost:8080/"
        },
        "outputId": "8039df51-9b3b-43de-fa5b-ec7e23974113"
      },
      "execution_count": 98,
      "outputs": [
        {
          "output_type": "stream",
          "name": "stdout",
          "text": [
            "Test Accuracy: 73.0 %\n"
          ]
        }
      ]
    },
    {
      "cell_type": "code",
      "source": [
        "# GPUメモリの解放\n",
        "del model, model_init\n",
        "torch.cuda.empty_cache()"
      ],
      "metadata": {
        "id": "KhAW-8QqsKjt"
      },
      "execution_count": 99,
      "outputs": []
    },
    {
      "cell_type": "markdown",
      "source": [
        "## 学習と評価（100 epochs, init=signed_constant）"
      ],
      "metadata": {
        "id": "_i257mg66Lan"
      }
    },
    {
      "cell_type": "markdown",
      "source": [
        "### prune_rate=0.999"
      ],
      "metadata": {
        "id": "Htel3svDs206"
      }
    },
    {
      "cell_type": "code",
      "source": [
        "# デバイスを設定\n",
        "device = torch.device('cuda' if torch.cuda.is_available() else 'cpu')\n",
        "# モデルを定義\n",
        "model = torch.load('/content/drive/MyDrive/SupermaskWideResNet28_10_CIFAR10_100epochs_pr0.999_constant_CLRS_restest.pth')\n",
        "# 最終層を変更\n",
        "model.fc = nn.Linear(model.fc.in_features, 10)\n",
        "# 最終層以外のパラメータの勾配計算を停止\n",
        "for param in model.parameters():\n",
        "    param.requires_grad = False\n",
        "# 最終層のパラメータのみを学習するように設定\n",
        "for param in model.fc.parameters():\n",
        "    param.requires_grad = True\n",
        "# モデルをデバイスに転送\n",
        "model = model.to(device)\n",
        "# 変更後のモデルの重みを保存\n",
        "model_init = copy.deepcopy(model)\n",
        "\n",
        "# 学習率を設定\n",
        "learning_rate = 0.01\n",
        "# 全体のepoch数を設定\n",
        "num_epochs = 50\n",
        "# warm-upするepoch数を設定\n",
        "warmup_epochs = 5\n",
        "\n",
        "# 損失関数を定義\n",
        "criterion = nn.CrossEntropyLoss()\n",
        "# オプティマイザーを設定\n",
        "optimizer = optim.Adam(model.fc.parameters(), lr=learning_rate)\n",
        "# スケジューラーを設定\n",
        "scheduler = CosineLRScheduler(optimizer, t_initial=num_epochs, lr_min=1e-4, warmup_t=warmup_epochs, warmup_lr_init=1e-4, warmup_prefix=True)\n",
        "\n",
        "# モデルの学習\n",
        "for epoch in range(num_epochs):\n",
        "    total = 0\n",
        "    correct = 0\n",
        "    for i, (images, labels) in enumerate(train_loader_handsigns):\n",
        "        images = images.to(device)\n",
        "        labels = labels.to(device)\n",
        "        # 順伝播\n",
        "        outputs = model(images)\n",
        "        loss = criterion(outputs, labels)\n",
        "        # 逆伝播\n",
        "        optimizer.zero_grad()\n",
        "        loss.backward()\n",
        "        optimizer.step()\n",
        "        _, predicted = torch.max(outputs.data, 1)\n",
        "        # 全データ数\n",
        "        total += labels.size(0)\n",
        "        # 正解数\n",
        "        correct += (predicted == labels).sum().item()\n",
        "    # 正解率精度を計算\n",
        "    train_acc = 100 * correct / total\n",
        "    # 正解率精度と損失を確認\n",
        "    print(\"Epoch [{}/{}], Train Accuracy: {} %, Loss: {:.4f}\".format(epoch+1, num_epochs, 100 * correct / total, loss.item()))\n",
        "    # 1エポック終了後にスケジューラーを更新\n",
        "    scheduler.step(epoch)\n",
        "    # 学習率の確認\n",
        "    print(\"Epoch [{}/{}], Learning Rate: {}\".format(epoch+1, num_epochs, optimizer.param_groups[0]['lr']))\n",
        "\n",
        "\n",
        "# モデルを保存\n",
        "torch.save(model, '/content/drive/MyDrive/SupermaskWideResNet28_10_HandSigns_from_CIFAR10_100epochs_pr0.999_constant_50epochs_lr0.01_CLRS_restest.pth')"
      ],
      "metadata": {
        "id": "Tn-SMFp7s21G",
        "colab": {
          "base_uri": "https://localhost:8080/"
        },
        "outputId": "6fa35364-61f3-461a-8e43-b0744123731f"
      },
      "execution_count": 100,
      "outputs": [
        {
          "output_type": "stream",
          "name": "stdout",
          "text": [
            "Epoch [1/50], Train Accuracy: 10.0 %, Loss: 2.3022\n",
            "Epoch [1/50], Learning Rate: 0.0001\n",
            "Epoch [2/50], Train Accuracy: 10.0 %, Loss: 2.3036\n",
            "Epoch [2/50], Learning Rate: 0.00208\n",
            "Epoch [3/50], Train Accuracy: 8.8 %, Loss: 2.2977\n",
            "Epoch [3/50], Learning Rate: 0.00406\n",
            "Epoch [4/50], Train Accuracy: 8.0 %, Loss: 2.3009\n",
            "Epoch [4/50], Learning Rate: 0.00604\n",
            "Epoch [5/50], Train Accuracy: 7.3 %, Loss: 2.3045\n",
            "Epoch [5/50], Learning Rate: 0.00802\n",
            "Epoch [6/50], Train Accuracy: 9.4 %, Loss: 2.3096\n",
            "Epoch [6/50], Learning Rate: 0.01\n",
            "Epoch [7/50], Train Accuracy: 8.2 %, Loss: 2.3046\n",
            "Epoch [7/50], Learning Rate: 0.009990232305719944\n",
            "Epoch [8/50], Train Accuracy: 7.9 %, Loss: 2.3110\n",
            "Epoch [8/50], Learning Rate: 0.009960967771506667\n",
            "Epoch [9/50], Train Accuracy: 8.9 %, Loss: 2.3046\n",
            "Epoch [9/50], Learning Rate: 0.00991232189110701\n",
            "Epoch [10/50], Train Accuracy: 7.1 %, Loss: 2.3082\n",
            "Epoch [10/50], Learning Rate: 0.009844486647586723\n",
            "Epoch [11/50], Train Accuracy: 8.6 %, Loss: 2.3039\n",
            "Epoch [11/50], Learning Rate: 0.009757729755661011\n",
            "Epoch [12/50], Train Accuracy: 8.7 %, Loss: 2.3014\n",
            "Epoch [12/50], Learning Rate: 0.009652393605146845\n",
            "Epoch [13/50], Train Accuracy: 7.8 %, Loss: 2.3243\n",
            "Epoch [13/50], Learning Rate: 0.009528893909706798\n",
            "Epoch [14/50], Train Accuracy: 8.9 %, Loss: 2.3072\n",
            "Epoch [14/50], Learning Rate: 0.009387718066217124\n",
            "Epoch [15/50], Train Accuracy: 9.1 %, Loss: 2.3142\n",
            "Epoch [15/50], Learning Rate: 0.009229423231234974\n",
            "Epoch [16/50], Train Accuracy: 8.2 %, Loss: 2.3097\n",
            "Epoch [16/50], Learning Rate: 0.00905463412215599\n",
            "Epoch [17/50], Train Accuracy: 8.9 %, Loss: 2.3114\n",
            "Epoch [17/50], Learning Rate: 0.008864040551740157\n",
            "Epoch [18/50], Train Accuracy: 7.9 %, Loss: 2.3033\n",
            "Epoch [18/50], Learning Rate: 0.008658394705735987\n",
            "Epoch [19/50], Train Accuracy: 8.5 %, Loss: 2.3025\n",
            "Epoch [19/50], Learning Rate: 0.00843850817434701\n",
            "Epoch [20/50], Train Accuracy: 7.3 %, Loss: 2.3111\n",
            "Epoch [20/50], Learning Rate: 0.008205248749256015\n",
            "Epoch [21/50], Train Accuracy: 7.5 %, Loss: 2.3059\n",
            "Epoch [21/50], Learning Rate: 0.007959536998847744\n",
            "Epoch [22/50], Train Accuracy: 8.0 %, Loss: 2.3099\n",
            "Epoch [22/50], Learning Rate: 0.007702342635146034\n",
            "Epoch [23/50], Train Accuracy: 7.8 %, Loss: 2.3021\n",
            "Epoch [23/50], Learning Rate: 0.007434680686803491\n",
            "Epoch [24/50], Train Accuracy: 9.0 %, Loss: 2.3093\n",
            "Epoch [24/50], Learning Rate: 0.0071576074932471105\n",
            "Epoch [25/50], Train Accuracy: 8.5 %, Loss: 2.2986\n",
            "Epoch [25/50], Learning Rate: 0.006872216535789157\n",
            "Epoch [26/50], Train Accuracy: 9.8 %, Loss: 2.3095\n",
            "Epoch [26/50], Learning Rate: 0.006579634122155991\n",
            "Epoch [27/50], Train Accuracy: 8.1 %, Loss: 2.3099\n",
            "Epoch [27/50], Learning Rate: 0.0062810149414660316\n",
            "Epoch [28/50], Train Accuracy: 8.4 %, Loss: 2.3132\n",
            "Epoch [28/50], Learning Rate: 0.005977537507199339\n",
            "Epoch [29/50], Train Accuracy: 7.7 %, Loss: 2.3107\n",
            "Epoch [29/50], Learning Rate: 0.005670399506143308\n",
            "Epoch [30/50], Train Accuracy: 9.3 %, Loss: 2.3075\n",
            "Epoch [30/50], Learning Rate: 0.005360813071670102\n",
            "Epoch [31/50], Train Accuracy: 8.7 %, Loss: 2.3013\n",
            "Epoch [31/50], Learning Rate: 0.005050000000000001\n",
            "Epoch [32/50], Train Accuracy: 8.2 %, Loss: 2.3074\n",
            "Epoch [32/50], Learning Rate: 0.004739186928329899\n",
            "Epoch [33/50], Train Accuracy: 8.5 %, Loss: 2.3059\n",
            "Epoch [33/50], Learning Rate: 0.004429600493856695\n",
            "Epoch [34/50], Train Accuracy: 6.8 %, Loss: 2.3034\n",
            "Epoch [34/50], Learning Rate: 0.0041224624928006635\n",
            "Epoch [35/50], Train Accuracy: 9.1 %, Loss: 2.3053\n",
            "Epoch [35/50], Learning Rate: 0.0038189850585339685\n",
            "Epoch [36/50], Train Accuracy: 7.4 %, Loss: 2.3040\n",
            "Epoch [36/50], Learning Rate: 0.003520365877844012\n",
            "Epoch [37/50], Train Accuracy: 7.9 %, Loss: 2.3056\n",
            "Epoch [37/50], Learning Rate: 0.0032277834642108457\n",
            "Epoch [38/50], Train Accuracy: 6.8 %, Loss: 2.3073\n",
            "Epoch [38/50], Learning Rate: 0.0029423925067528904\n",
            "Epoch [39/50], Train Accuracy: 8.1 %, Loss: 2.3055\n",
            "Epoch [39/50], Learning Rate: 0.002665319313196509\n",
            "Epoch [40/50], Train Accuracy: 8.6 %, Loss: 2.3023\n",
            "Epoch [40/50], Learning Rate: 0.0023976573648539653\n",
            "Epoch [41/50], Train Accuracy: 8.3 %, Loss: 2.3012\n",
            "Epoch [41/50], Learning Rate: 0.0021404630011522584\n",
            "Epoch [42/50], Train Accuracy: 8.0 %, Loss: 2.3039\n",
            "Epoch [42/50], Learning Rate: 0.001894751250743986\n",
            "Epoch [43/50], Train Accuracy: 8.7 %, Loss: 2.3014\n",
            "Epoch [43/50], Learning Rate: 0.001661491825652991\n",
            "Epoch [44/50], Train Accuracy: 9.6 %, Loss: 2.3050\n",
            "Epoch [44/50], Learning Rate: 0.001441605294264014\n",
            "Epoch [45/50], Train Accuracy: 9.0 %, Loss: 2.3036\n",
            "Epoch [45/50], Learning Rate: 0.001235959448259844\n",
            "Epoch [46/50], Train Accuracy: 7.2 %, Loss: 2.3039\n",
            "Epoch [46/50], Learning Rate: 0.0010453658778440107\n",
            "Epoch [47/50], Train Accuracy: 8.5 %, Loss: 2.3031\n",
            "Epoch [47/50], Learning Rate: 0.0008705767687650265\n",
            "Epoch [48/50], Train Accuracy: 10.1 %, Loss: 2.3028\n",
            "Epoch [48/50], Learning Rate: 0.0007122819337828754\n",
            "Epoch [49/50], Train Accuracy: 10.0 %, Loss: 2.3046\n",
            "Epoch [49/50], Learning Rate: 0.0005711060902932043\n",
            "Epoch [50/50], Train Accuracy: 9.0 %, Loss: 2.3031\n",
            "Epoch [50/50], Learning Rate: 0.00044760639485315584\n"
          ]
        }
      ]
    },
    {
      "cell_type": "code",
      "source": [
        "# モデルの刈り込み率を計算する関数を作成\n",
        "def calculate_pruned_ratio(model):\n",
        "    total_weights = 0\n",
        "    total_pruned_weights = 0\n",
        "\n",
        "    for module in model.modules():\n",
        "        # モジュールがSupermaskConvであるか確認\n",
        "        if isinstance(module, SupermaskConv):\n",
        "            # SupermaskConv層の重みを取得\n",
        "            weight = module.weight.data\n",
        "            # 刈り込みを適用した後の重みを取得\n",
        "            subnet = GetSubnet.apply(module.clamped_scores, 1 - module.prune_rate)\n",
        "            pruned_weight = weight * subnet\n",
        "            # 0である要素数を計算\n",
        "            pruned_weights_count = (pruned_weight == 0).sum().item()\n",
        "            total_pruned_weights += pruned_weights_count\n",
        "            # 重みの全要素数を計算\n",
        "            total_weights_count = pruned_weight.numel()\n",
        "            total_weights += total_weights_count\n",
        "\n",
        "    # 刈り込みが行われた割合を計算\n",
        "    pruned_ratio = total_pruned_weights / total_weights\n",
        "    return print(f\"刈り込み率は{pruned_ratio:.3f}です\")\n",
        "\n",
        "# モデルの刈り込み率を確認\n",
        "calculate_pruned_ratio(model)"
      ],
      "metadata": {
        "id": "UNPEeFvms21G",
        "colab": {
          "base_uri": "https://localhost:8080/"
        },
        "outputId": "6f742f8d-4e23-421b-e43e-72f351cd55d2"
      },
      "execution_count": 101,
      "outputs": [
        {
          "output_type": "stream",
          "name": "stdout",
          "text": [
            "刈り込み率は0.999です\n"
          ]
        }
      ]
    },
    {
      "cell_type": "code",
      "source": [
        "# 学習前後のモデルのスコアを比較する関数を作成\n",
        "def check_scores_change(model, model_init):\n",
        "    # 各モデルの名前付きモジュールを順に調べる\n",
        "    for (name, module), (name_init, module_init) in zip(model.named_modules(), model_init.named_modules()):\n",
        "        # 両モジュールがConv2dのインスタンスであるかを確認\n",
        "        if isinstance(module, torch.nn.Conv2d) and isinstance(module_init, torch.nn.Conv2d):\n",
        "            # 両モジュールが'scores'属性を持っているかを確認\n",
        "            if hasattr(module, 'scores') and hasattr(module_init, 'scores'):\n",
        "                # 両モジュールの'scores'属性が一致しているかを確認\n",
        "                # 一致していない場合、変更があったことを示すメッセージを出力\n",
        "                if not torch.equal(module.scores, module_init.scores):\n",
        "                    print(f'{name}のスコアが変化しています')\n",
        "                    return\n",
        "    # すべてのconv層で'scores'が変更されていない場合、その旨を出力\n",
        "    print('すべてのスコアは変化していません')\n",
        "\n",
        "# 学習前後でモデルのスコアが変化していないかを確認\n",
        "check_scores_change(model, model_init)"
      ],
      "metadata": {
        "id": "4Hw5ym78s21G",
        "colab": {
          "base_uri": "https://localhost:8080/"
        },
        "outputId": "ccfdda9c-40d4-472a-c980-ea1d1d5cef1a"
      },
      "execution_count": 102,
      "outputs": [
        {
          "output_type": "stream",
          "name": "stdout",
          "text": [
            "すべてのスコアは変化していません\n"
          ]
        }
      ]
    },
    {
      "cell_type": "code",
      "source": [
        "# 学習前後のモデルの最終層以外の重みを比較する関数を作成\n",
        "def check_weight_change_except_last(model, model_init):\n",
        "    for (name, param), (name_init, param_init) in zip(model.named_parameters(), model_init.named_parameters()):\n",
        "        # 最終層を除く\n",
        "        if name != 'fc.weight' and name != 'fc.bias':\n",
        "            weights_changed = (param.data != param_init.data).any()\n",
        "            if weights_changed:\n",
        "                return print('最終層以外の重みが変化しています')\n",
        "    return print('最終層以外の重みは変化していません')\n",
        "\n",
        "# 学習前後でモデルの最終層以外の重みが変化していないかを確認\n",
        "check_weight_change_except_last(model, model_init)"
      ],
      "metadata": {
        "id": "Yc0q_v-as21H",
        "colab": {
          "base_uri": "https://localhost:8080/"
        },
        "outputId": "715a563b-af21-4a10-be36-963e1f46c64f"
      },
      "execution_count": 103,
      "outputs": [
        {
          "output_type": "stream",
          "name": "stdout",
          "text": [
            "最終層以外の重みは変化していません\n"
          ]
        }
      ]
    },
    {
      "cell_type": "code",
      "source": [
        "# モデルの評価\n",
        "model.eval()\n",
        "with torch.no_grad():\n",
        "    total = 0\n",
        "    correct = 0\n",
        "    for images, labels in test_loader_handsigns:\n",
        "        images = images.to(device)\n",
        "        labels = labels.to(device)\n",
        "        outputs = model(images)\n",
        "        _, predicted = torch.max(outputs.data, 1)\n",
        "        total += labels.size(0)\n",
        "        correct += (predicted == labels).sum().item()\n",
        "    # 正解率精度の確認\n",
        "    print('Test Accuracy: {} %'.format(100 * correct / total))"
      ],
      "metadata": {
        "id": "wTIz7vT0s21H",
        "colab": {
          "base_uri": "https://localhost:8080/"
        },
        "outputId": "ca5b729e-2208-4574-c37d-0522872026cd"
      },
      "execution_count": 104,
      "outputs": [
        {
          "output_type": "stream",
          "name": "stdout",
          "text": [
            "Test Accuracy: 10.0 %\n"
          ]
        }
      ]
    },
    {
      "cell_type": "code",
      "source": [
        "# GPUメモリの解放\n",
        "del model, model_init\n",
        "torch.cuda.empty_cache()"
      ],
      "metadata": {
        "id": "adYD1gbrs21H"
      },
      "execution_count": 105,
      "outputs": []
    },
    {
      "cell_type": "markdown",
      "source": [
        "### prune_rate=0.995"
      ],
      "metadata": {
        "id": "kAI328b9s21H"
      }
    },
    {
      "cell_type": "code",
      "source": [
        "# デバイスを設定\n",
        "device = torch.device('cuda' if torch.cuda.is_available() else 'cpu')\n",
        "# モデルを定義\n",
        "model = torch.load('/content/drive/MyDrive/SupermaskWideResNet28_10_CIFAR10_100epochs_pr0.995_constant_CLRS_restest.pth')\n",
        "# 最終層を変更\n",
        "model.fc = nn.Linear(model.fc.in_features, 10)\n",
        "# 最終層以外のパラメータの勾配計算を停止\n",
        "for param in model.parameters():\n",
        "    param.requires_grad = False\n",
        "# 最終層のパラメータのみを学習するように設定\n",
        "for param in model.fc.parameters():\n",
        "    param.requires_grad = True\n",
        "# モデルをデバイスに転送\n",
        "model = model.to(device)\n",
        "# 変更後のモデルの重みを保存\n",
        "model_init = copy.deepcopy(model)\n",
        "\n",
        "# 学習率を設定\n",
        "learning_rate = 0.01\n",
        "# 全体のepoch数を設定\n",
        "num_epochs = 50\n",
        "# warm-upするepoch数を設定\n",
        "warmup_epochs = 5\n",
        "\n",
        "# 損失関数を定義\n",
        "criterion = nn.CrossEntropyLoss()\n",
        "# オプティマイザーを設定\n",
        "optimizer = optim.Adam(model.fc.parameters(), lr=learning_rate)\n",
        "# スケジューラーを設定\n",
        "scheduler = CosineLRScheduler(optimizer, t_initial=num_epochs, lr_min=1e-4, warmup_t=warmup_epochs, warmup_lr_init=1e-4, warmup_prefix=True)\n",
        "\n",
        "# モデルの学習\n",
        "for epoch in range(num_epochs):\n",
        "    total = 0\n",
        "    correct = 0\n",
        "    for i, (images, labels) in enumerate(train_loader_handsigns):\n",
        "        images = images.to(device)\n",
        "        labels = labels.to(device)\n",
        "        # 順伝播\n",
        "        outputs = model(images)\n",
        "        loss = criterion(outputs, labels)\n",
        "        # 逆伝播\n",
        "        optimizer.zero_grad()\n",
        "        loss.backward()\n",
        "        optimizer.step()\n",
        "        _, predicted = torch.max(outputs.data, 1)\n",
        "        # 全データ数\n",
        "        total += labels.size(0)\n",
        "        # 正解数\n",
        "        correct += (predicted == labels).sum().item()\n",
        "    # 正解率精度を計算\n",
        "    train_acc = 100 * correct / total\n",
        "    # 正解率精度と損失を確認\n",
        "    print(\"Epoch [{}/{}], Train Accuracy: {} %, Loss: {:.4f}\".format(epoch+1, num_epochs, 100 * correct / total, loss.item()))\n",
        "    # 1エポック終了後にスケジューラーを更新\n",
        "    scheduler.step(epoch)\n",
        "    # 学習率の確認\n",
        "    print(\"Epoch [{}/{}], Learning Rate: {}\".format(epoch+1, num_epochs, optimizer.param_groups[0]['lr']))\n",
        "\n",
        "\n",
        "# モデルを保存\n",
        "torch.save(model, '/content/drive/MyDrive/SupermaskWideResNet28_10_HandSigns_from_CIFAR10_100epochs_pr0.995_constant_50epochs_lr0.01_CLRS_restest.pth')"
      ],
      "metadata": {
        "id": "0qd4qkxos21H",
        "colab": {
          "base_uri": "https://localhost:8080/"
        },
        "outputId": "952c4121-83cc-41d1-d6c7-dbd3dfc193a2"
      },
      "execution_count": 106,
      "outputs": [
        {
          "output_type": "stream",
          "name": "stdout",
          "text": [
            "Epoch [1/50], Train Accuracy: 15.9 %, Loss: 2.2778\n",
            "Epoch [1/50], Learning Rate: 0.0001\n",
            "Epoch [2/50], Train Accuracy: 18.8 %, Loss: 2.2367\n",
            "Epoch [2/50], Learning Rate: 0.00208\n",
            "Epoch [3/50], Train Accuracy: 27.2 %, Loss: 1.8281\n",
            "Epoch [3/50], Learning Rate: 0.00406\n",
            "Epoch [4/50], Train Accuracy: 33.6 %, Loss: 1.6149\n",
            "Epoch [4/50], Learning Rate: 0.00604\n",
            "Epoch [5/50], Train Accuracy: 40.4 %, Loss: 3.6689\n",
            "Epoch [5/50], Learning Rate: 0.00802\n",
            "Epoch [6/50], Train Accuracy: 43.3 %, Loss: 2.0949\n",
            "Epoch [6/50], Learning Rate: 0.01\n",
            "Epoch [7/50], Train Accuracy: 46.2 %, Loss: 1.2277\n",
            "Epoch [7/50], Learning Rate: 0.009990232305719944\n",
            "Epoch [8/50], Train Accuracy: 48.6 %, Loss: 2.0840\n",
            "Epoch [8/50], Learning Rate: 0.009960967771506667\n",
            "Epoch [9/50], Train Accuracy: 49.5 %, Loss: 2.3063\n",
            "Epoch [9/50], Learning Rate: 0.00991232189110701\n",
            "Epoch [10/50], Train Accuracy: 52.9 %, Loss: 3.2350\n",
            "Epoch [10/50], Learning Rate: 0.009844486647586723\n",
            "Epoch [11/50], Train Accuracy: 49.4 %, Loss: 1.3347\n",
            "Epoch [11/50], Learning Rate: 0.009757729755661011\n",
            "Epoch [12/50], Train Accuracy: 53.0 %, Loss: 1.7543\n",
            "Epoch [12/50], Learning Rate: 0.009652393605146845\n",
            "Epoch [13/50], Train Accuracy: 54.9 %, Loss: 1.2993\n",
            "Epoch [13/50], Learning Rate: 0.009528893909706798\n",
            "Epoch [14/50], Train Accuracy: 58.1 %, Loss: 0.9147\n",
            "Epoch [14/50], Learning Rate: 0.009387718066217124\n",
            "Epoch [15/50], Train Accuracy: 56.2 %, Loss: 1.0360\n",
            "Epoch [15/50], Learning Rate: 0.009229423231234974\n",
            "Epoch [16/50], Train Accuracy: 55.2 %, Loss: 1.4719\n",
            "Epoch [16/50], Learning Rate: 0.00905463412215599\n",
            "Epoch [17/50], Train Accuracy: 55.7 %, Loss: 1.5743\n",
            "Epoch [17/50], Learning Rate: 0.008864040551740157\n",
            "Epoch [18/50], Train Accuracy: 59.4 %, Loss: 0.8675\n",
            "Epoch [18/50], Learning Rate: 0.008658394705735987\n",
            "Epoch [19/50], Train Accuracy: 63.8 %, Loss: 0.3695\n",
            "Epoch [19/50], Learning Rate: 0.00843850817434701\n",
            "Epoch [20/50], Train Accuracy: 61.8 %, Loss: 1.3596\n",
            "Epoch [20/50], Learning Rate: 0.008205248749256015\n",
            "Epoch [21/50], Train Accuracy: 63.0 %, Loss: 0.9266\n",
            "Epoch [21/50], Learning Rate: 0.007959536998847744\n",
            "Epoch [22/50], Train Accuracy: 61.3 %, Loss: 0.9238\n",
            "Epoch [22/50], Learning Rate: 0.007702342635146034\n",
            "Epoch [23/50], Train Accuracy: 62.0 %, Loss: 0.8239\n",
            "Epoch [23/50], Learning Rate: 0.007434680686803491\n",
            "Epoch [24/50], Train Accuracy: 62.5 %, Loss: 1.0085\n",
            "Epoch [24/50], Learning Rate: 0.0071576074932471105\n",
            "Epoch [25/50], Train Accuracy: 64.6 %, Loss: 1.9082\n",
            "Epoch [25/50], Learning Rate: 0.006872216535789157\n",
            "Epoch [26/50], Train Accuracy: 63.7 %, Loss: 0.9915\n",
            "Epoch [26/50], Learning Rate: 0.006579634122155991\n",
            "Epoch [27/50], Train Accuracy: 62.8 %, Loss: 1.1173\n",
            "Epoch [27/50], Learning Rate: 0.0062810149414660316\n",
            "Epoch [28/50], Train Accuracy: 62.2 %, Loss: 1.1344\n",
            "Epoch [28/50], Learning Rate: 0.005977537507199339\n",
            "Epoch [29/50], Train Accuracy: 62.3 %, Loss: 1.7174\n",
            "Epoch [29/50], Learning Rate: 0.005670399506143308\n",
            "Epoch [30/50], Train Accuracy: 64.4 %, Loss: 1.0248\n",
            "Epoch [30/50], Learning Rate: 0.005360813071670102\n",
            "Epoch [31/50], Train Accuracy: 64.7 %, Loss: 1.2706\n",
            "Epoch [31/50], Learning Rate: 0.005050000000000001\n",
            "Epoch [32/50], Train Accuracy: 67.4 %, Loss: 1.5452\n",
            "Epoch [32/50], Learning Rate: 0.004739186928329899\n",
            "Epoch [33/50], Train Accuracy: 67.0 %, Loss: 0.7072\n",
            "Epoch [33/50], Learning Rate: 0.004429600493856695\n",
            "Epoch [34/50], Train Accuracy: 68.5 %, Loss: 1.3042\n",
            "Epoch [34/50], Learning Rate: 0.0041224624928006635\n",
            "Epoch [35/50], Train Accuracy: 70.6 %, Loss: 0.8869\n",
            "Epoch [35/50], Learning Rate: 0.0038189850585339685\n",
            "Epoch [36/50], Train Accuracy: 70.2 %, Loss: 0.6598\n",
            "Epoch [36/50], Learning Rate: 0.003520365877844012\n",
            "Epoch [37/50], Train Accuracy: 69.7 %, Loss: 1.5605\n",
            "Epoch [37/50], Learning Rate: 0.0032277834642108457\n",
            "Epoch [38/50], Train Accuracy: 69.4 %, Loss: 0.9520\n",
            "Epoch [38/50], Learning Rate: 0.0029423925067528904\n",
            "Epoch [39/50], Train Accuracy: 69.8 %, Loss: 0.5438\n",
            "Epoch [39/50], Learning Rate: 0.002665319313196509\n",
            "Epoch [40/50], Train Accuracy: 70.3 %, Loss: 0.6954\n",
            "Epoch [40/50], Learning Rate: 0.0023976573648539653\n",
            "Epoch [41/50], Train Accuracy: 71.4 %, Loss: 0.4325\n",
            "Epoch [41/50], Learning Rate: 0.0021404630011522584\n",
            "Epoch [42/50], Train Accuracy: 73.1 %, Loss: 1.2842\n",
            "Epoch [42/50], Learning Rate: 0.001894751250743986\n",
            "Epoch [43/50], Train Accuracy: 71.2 %, Loss: 0.5771\n",
            "Epoch [43/50], Learning Rate: 0.001661491825652991\n",
            "Epoch [44/50], Train Accuracy: 71.9 %, Loss: 1.0984\n",
            "Epoch [44/50], Learning Rate: 0.001441605294264014\n",
            "Epoch [45/50], Train Accuracy: 73.6 %, Loss: 1.0158\n",
            "Epoch [45/50], Learning Rate: 0.001235959448259844\n",
            "Epoch [46/50], Train Accuracy: 71.4 %, Loss: 1.2815\n",
            "Epoch [46/50], Learning Rate: 0.0010453658778440107\n",
            "Epoch [47/50], Train Accuracy: 73.6 %, Loss: 0.5896\n",
            "Epoch [47/50], Learning Rate: 0.0008705767687650265\n",
            "Epoch [48/50], Train Accuracy: 75.5 %, Loss: 0.9482\n",
            "Epoch [48/50], Learning Rate: 0.0007122819337828754\n",
            "Epoch [49/50], Train Accuracy: 71.8 %, Loss: 0.8839\n",
            "Epoch [49/50], Learning Rate: 0.0005711060902932043\n",
            "Epoch [50/50], Train Accuracy: 75.7 %, Loss: 0.3819\n",
            "Epoch [50/50], Learning Rate: 0.00044760639485315584\n"
          ]
        }
      ]
    },
    {
      "cell_type": "code",
      "source": [
        "# モデルの刈り込み率を計算する関数を作成\n",
        "def calculate_pruned_ratio(model):\n",
        "    total_weights = 0\n",
        "    total_pruned_weights = 0\n",
        "\n",
        "    for module in model.modules():\n",
        "        # モジュールがSupermaskConvであるか確認\n",
        "        if isinstance(module, SupermaskConv):\n",
        "            # SupermaskConv層の重みを取得\n",
        "            weight = module.weight.data\n",
        "            # 刈り込みを適用した後の重みを取得\n",
        "            subnet = GetSubnet.apply(module.clamped_scores, 1 - module.prune_rate)\n",
        "            pruned_weight = weight * subnet\n",
        "            # 0である要素数を計算\n",
        "            pruned_weights_count = (pruned_weight == 0).sum().item()\n",
        "            total_pruned_weights += pruned_weights_count\n",
        "            # 重みの全要素数を計算\n",
        "            total_weights_count = pruned_weight.numel()\n",
        "            total_weights += total_weights_count\n",
        "\n",
        "    # 刈り込みが行われた割合を計算\n",
        "    pruned_ratio = total_pruned_weights / total_weights\n",
        "    return print(f\"刈り込み率は{pruned_ratio:.3f}です\")\n",
        "\n",
        "# モデルの刈り込み率を確認\n",
        "calculate_pruned_ratio(model)"
      ],
      "metadata": {
        "id": "r-HW5IK_s21H",
        "colab": {
          "base_uri": "https://localhost:8080/"
        },
        "outputId": "b880d34f-dc14-4e8e-8f46-2eadb4a6bc9f"
      },
      "execution_count": 107,
      "outputs": [
        {
          "output_type": "stream",
          "name": "stdout",
          "text": [
            "刈り込み率は0.995です\n"
          ]
        }
      ]
    },
    {
      "cell_type": "code",
      "source": [
        "# 学習前後のモデルのスコアを比較する関数を作成\n",
        "def check_scores_change(model, model_init):\n",
        "    # 各モデルの名前付きモジュールを順に調べる\n",
        "    for (name, module), (name_init, module_init) in zip(model.named_modules(), model_init.named_modules()):\n",
        "        # 両モジュールがConv2dのインスタンスであるかを確認\n",
        "        if isinstance(module, torch.nn.Conv2d) and isinstance(module_init, torch.nn.Conv2d):\n",
        "            # 両モジュールが'scores'属性を持っているかを確認\n",
        "            if hasattr(module, 'scores') and hasattr(module_init, 'scores'):\n",
        "                # 両モジュールの'scores'属性が一致しているかを確認\n",
        "                # 一致していない場合、変更があったことを示すメッセージを出力\n",
        "                if not torch.equal(module.scores, module_init.scores):\n",
        "                    print(f'{name}のスコアが変化しています')\n",
        "                    return\n",
        "    # すべてのconv層で'scores'が変更されていない場合、その旨を出力\n",
        "    print('すべてのスコアは変化していません')\n",
        "\n",
        "# 学習前後でモデルのスコアが変化していないかを確認\n",
        "check_scores_change(model, model_init)"
      ],
      "metadata": {
        "id": "1LJb0Krws21H",
        "colab": {
          "base_uri": "https://localhost:8080/"
        },
        "outputId": "4335ad17-177a-4e32-e131-51a67a5b3131"
      },
      "execution_count": 108,
      "outputs": [
        {
          "output_type": "stream",
          "name": "stdout",
          "text": [
            "すべてのスコアは変化していません\n"
          ]
        }
      ]
    },
    {
      "cell_type": "code",
      "source": [
        "# 学習前後のモデルの最終層以外の重みを比較する関数を作成\n",
        "def check_weight_change_except_last(model, model_init):\n",
        "    for (name, param), (name_init, param_init) in zip(model.named_parameters(), model_init.named_parameters()):\n",
        "        # 最終層を除く\n",
        "        if name != 'fc.weight' and name != 'fc.bias':\n",
        "            weights_changed = (param.data != param_init.data).any()\n",
        "            if weights_changed:\n",
        "                return print('最終層以外の重みが変化しています')\n",
        "    return print('最終層以外の重みは変化していません')\n",
        "\n",
        "# 学習前後でモデルの最終層以外の重みが変化していないかを確認\n",
        "check_weight_change_except_last(model, model_init)"
      ],
      "metadata": {
        "id": "0qCmgtNHs21I",
        "colab": {
          "base_uri": "https://localhost:8080/"
        },
        "outputId": "2b571940-c66e-48dc-f2c0-3c4e6323514d"
      },
      "execution_count": 109,
      "outputs": [
        {
          "output_type": "stream",
          "name": "stdout",
          "text": [
            "最終層以外の重みは変化していません\n"
          ]
        }
      ]
    },
    {
      "cell_type": "code",
      "source": [
        "# モデルの評価\n",
        "model.eval()\n",
        "with torch.no_grad():\n",
        "    total = 0\n",
        "    correct = 0\n",
        "    for images, labels in test_loader_handsigns:\n",
        "        images = images.to(device)\n",
        "        labels = labels.to(device)\n",
        "        outputs = model(images)\n",
        "        _, predicted = torch.max(outputs.data, 1)\n",
        "        total += labels.size(0)\n",
        "        correct += (predicted == labels).sum().item()\n",
        "    # 正解率精度の確認\n",
        "    print('Test Accuracy: {} %'.format(100 * correct / total))"
      ],
      "metadata": {
        "id": "Lfmi-sz_s21I",
        "colab": {
          "base_uri": "https://localhost:8080/"
        },
        "outputId": "60d30d66-b697-4cd9-c209-6037d80d1b57"
      },
      "execution_count": 110,
      "outputs": [
        {
          "output_type": "stream",
          "name": "stdout",
          "text": [
            "Test Accuracy: 86.0 %\n"
          ]
        }
      ]
    },
    {
      "cell_type": "code",
      "source": [
        "# GPUメモリの解放\n",
        "del model, model_init\n",
        "torch.cuda.empty_cache()"
      ],
      "metadata": {
        "id": "8HWIItpbs21I"
      },
      "execution_count": 111,
      "outputs": []
    },
    {
      "cell_type": "markdown",
      "source": [
        "### prune_rate=0.99"
      ],
      "metadata": {
        "id": "N6XhVlw1s21I"
      }
    },
    {
      "cell_type": "code",
      "source": [
        "# デバイスを設定\n",
        "device = torch.device('cuda' if torch.cuda.is_available() else 'cpu')\n",
        "# モデルを定義\n",
        "model = torch.load('/content/drive/MyDrive/SupermaskWideResNet28_10_CIFAR10_100epochs_pr0.99_constant_CLRS_restest.pth')\n",
        "# 最終層を変更\n",
        "model.fc = nn.Linear(model.fc.in_features, 10)\n",
        "# 最終層以外のパラメータの勾配計算を停止\n",
        "for param in model.parameters():\n",
        "    param.requires_grad = False\n",
        "# 最終層のパラメータのみを学習するように設定\n",
        "for param in model.fc.parameters():\n",
        "    param.requires_grad = True\n",
        "# モデルをデバイスに転送\n",
        "model = model.to(device)\n",
        "# 変更後のモデルの重みを保存\n",
        "model_init = copy.deepcopy(model)\n",
        "\n",
        "# 学習率を設定\n",
        "learning_rate = 0.01\n",
        "# 全体のepoch数を設定\n",
        "num_epochs = 50\n",
        "# warm-upするepoch数を設定\n",
        "warmup_epochs = 5\n",
        "\n",
        "# 損失関数を定義\n",
        "criterion = nn.CrossEntropyLoss()\n",
        "# オプティマイザーを設定\n",
        "optimizer = optim.Adam(model.fc.parameters(), lr=learning_rate)\n",
        "# スケジューラーを設定\n",
        "scheduler = CosineLRScheduler(optimizer, t_initial=num_epochs, lr_min=1e-4, warmup_t=warmup_epochs, warmup_lr_init=1e-4, warmup_prefix=True)\n",
        "\n",
        "# モデルの学習\n",
        "for epoch in range(num_epochs):\n",
        "    total = 0\n",
        "    correct = 0\n",
        "    for i, (images, labels) in enumerate(train_loader_handsigns):\n",
        "        images = images.to(device)\n",
        "        labels = labels.to(device)\n",
        "        # 順伝播\n",
        "        outputs = model(images)\n",
        "        loss = criterion(outputs, labels)\n",
        "        # 逆伝播\n",
        "        optimizer.zero_grad()\n",
        "        loss.backward()\n",
        "        optimizer.step()\n",
        "        _, predicted = torch.max(outputs.data, 1)\n",
        "        # 全データ数\n",
        "        total += labels.size(0)\n",
        "        # 正解数\n",
        "        correct += (predicted == labels).sum().item()\n",
        "    # 正解率精度を計算\n",
        "    train_acc = 100 * correct / total\n",
        "    # 正解率精度と損失を確認\n",
        "    print(\"Epoch [{}/{}], Train Accuracy: {} %, Loss: {:.4f}\".format(epoch+1, num_epochs, 100 * correct / total, loss.item()))\n",
        "    # 1エポック終了後にスケジューラーを更新\n",
        "    scheduler.step(epoch)\n",
        "    # 学習率の確認\n",
        "    print(\"Epoch [{}/{}], Learning Rate: {}\".format(epoch+1, num_epochs, optimizer.param_groups[0]['lr']))\n",
        "\n",
        "\n",
        "# モデルを保存\n",
        "torch.save(model, '/content/drive/MyDrive/SupermaskWideResNet28_10_HandSigns_from_CIFAR10_100epochs_pr0.99_constant_50epochs_lr0.01_CLRS_restest.pth')"
      ],
      "metadata": {
        "id": "DbZHlg62s21I",
        "colab": {
          "base_uri": "https://localhost:8080/"
        },
        "outputId": "0120fb00-df71-4b78-c3d0-1689c1f1e884"
      },
      "execution_count": 112,
      "outputs": [
        {
          "output_type": "stream",
          "name": "stdout",
          "text": [
            "Epoch [1/50], Train Accuracy: 11.1 %, Loss: 2.4033\n",
            "Epoch [1/50], Learning Rate: 0.0001\n",
            "Epoch [2/50], Train Accuracy: 18.8 %, Loss: 2.2118\n",
            "Epoch [2/50], Learning Rate: 0.00208\n",
            "Epoch [3/50], Train Accuracy: 25.5 %, Loss: 1.6970\n",
            "Epoch [3/50], Learning Rate: 0.00406\n",
            "Epoch [4/50], Train Accuracy: 32.2 %, Loss: 2.3823\n",
            "Epoch [4/50], Learning Rate: 0.00604\n",
            "Epoch [5/50], Train Accuracy: 38.7 %, Loss: 2.0276\n",
            "Epoch [5/50], Learning Rate: 0.00802\n",
            "Epoch [6/50], Train Accuracy: 40.7 %, Loss: 1.4890\n",
            "Epoch [6/50], Learning Rate: 0.01\n",
            "Epoch [7/50], Train Accuracy: 40.6 %, Loss: 1.6131\n",
            "Epoch [7/50], Learning Rate: 0.009990232305719944\n",
            "Epoch [8/50], Train Accuracy: 45.7 %, Loss: 1.2501\n",
            "Epoch [8/50], Learning Rate: 0.009960967771506667\n",
            "Epoch [9/50], Train Accuracy: 45.4 %, Loss: 2.0851\n",
            "Epoch [9/50], Learning Rate: 0.00991232189110701\n",
            "Epoch [10/50], Train Accuracy: 47.4 %, Loss: 0.9883\n",
            "Epoch [10/50], Learning Rate: 0.009844486647586723\n",
            "Epoch [11/50], Train Accuracy: 49.5 %, Loss: 1.3555\n",
            "Epoch [11/50], Learning Rate: 0.009757729755661011\n",
            "Epoch [12/50], Train Accuracy: 53.4 %, Loss: 1.2315\n",
            "Epoch [12/50], Learning Rate: 0.009652393605146845\n",
            "Epoch [13/50], Train Accuracy: 50.0 %, Loss: 1.4493\n",
            "Epoch [13/50], Learning Rate: 0.009528893909706798\n",
            "Epoch [14/50], Train Accuracy: 54.1 %, Loss: 1.4218\n",
            "Epoch [14/50], Learning Rate: 0.009387718066217124\n",
            "Epoch [15/50], Train Accuracy: 55.5 %, Loss: 2.1992\n",
            "Epoch [15/50], Learning Rate: 0.009229423231234974\n",
            "Epoch [16/50], Train Accuracy: 57.5 %, Loss: 1.2414\n",
            "Epoch [16/50], Learning Rate: 0.00905463412215599\n",
            "Epoch [17/50], Train Accuracy: 55.1 %, Loss: 2.0262\n",
            "Epoch [17/50], Learning Rate: 0.008864040551740157\n",
            "Epoch [18/50], Train Accuracy: 56.9 %, Loss: 0.9491\n",
            "Epoch [18/50], Learning Rate: 0.008658394705735987\n",
            "Epoch [19/50], Train Accuracy: 59.4 %, Loss: 1.9831\n",
            "Epoch [19/50], Learning Rate: 0.00843850817434701\n",
            "Epoch [20/50], Train Accuracy: 56.6 %, Loss: 1.4125\n",
            "Epoch [20/50], Learning Rate: 0.008205248749256015\n",
            "Epoch [21/50], Train Accuracy: 61.6 %, Loss: 1.9258\n",
            "Epoch [21/50], Learning Rate: 0.007959536998847744\n",
            "Epoch [22/50], Train Accuracy: 59.8 %, Loss: 0.9296\n",
            "Epoch [22/50], Learning Rate: 0.007702342635146034\n",
            "Epoch [23/50], Train Accuracy: 60.5 %, Loss: 1.3669\n",
            "Epoch [23/50], Learning Rate: 0.007434680686803491\n",
            "Epoch [24/50], Train Accuracy: 59.0 %, Loss: 1.5710\n",
            "Epoch [24/50], Learning Rate: 0.0071576074932471105\n",
            "Epoch [25/50], Train Accuracy: 63.0 %, Loss: 0.7499\n",
            "Epoch [25/50], Learning Rate: 0.006872216535789157\n",
            "Epoch [26/50], Train Accuracy: 61.5 %, Loss: 1.1542\n",
            "Epoch [26/50], Learning Rate: 0.006579634122155991\n",
            "Epoch [27/50], Train Accuracy: 62.0 %, Loss: 1.1391\n",
            "Epoch [27/50], Learning Rate: 0.0062810149414660316\n",
            "Epoch [28/50], Train Accuracy: 64.5 %, Loss: 1.4038\n",
            "Epoch [28/50], Learning Rate: 0.005977537507199339\n",
            "Epoch [29/50], Train Accuracy: 63.4 %, Loss: 1.1581\n",
            "Epoch [29/50], Learning Rate: 0.005670399506143308\n",
            "Epoch [30/50], Train Accuracy: 65.8 %, Loss: 1.6137\n",
            "Epoch [30/50], Learning Rate: 0.005360813071670102\n",
            "Epoch [31/50], Train Accuracy: 63.9 %, Loss: 2.4504\n",
            "Epoch [31/50], Learning Rate: 0.005050000000000001\n",
            "Epoch [32/50], Train Accuracy: 65.3 %, Loss: 0.7776\n",
            "Epoch [32/50], Learning Rate: 0.004739186928329899\n",
            "Epoch [33/50], Train Accuracy: 66.6 %, Loss: 1.0621\n",
            "Epoch [33/50], Learning Rate: 0.004429600493856695\n",
            "Epoch [34/50], Train Accuracy: 68.2 %, Loss: 1.2125\n",
            "Epoch [34/50], Learning Rate: 0.0041224624928006635\n",
            "Epoch [35/50], Train Accuracy: 69.3 %, Loss: 0.8160\n",
            "Epoch [35/50], Learning Rate: 0.0038189850585339685\n",
            "Epoch [36/50], Train Accuracy: 67.2 %, Loss: 1.5529\n",
            "Epoch [36/50], Learning Rate: 0.003520365877844012\n",
            "Epoch [37/50], Train Accuracy: 68.9 %, Loss: 0.8445\n",
            "Epoch [37/50], Learning Rate: 0.0032277834642108457\n",
            "Epoch [38/50], Train Accuracy: 66.9 %, Loss: 1.3788\n",
            "Epoch [38/50], Learning Rate: 0.0029423925067528904\n",
            "Epoch [39/50], Train Accuracy: 72.3 %, Loss: 0.7991\n",
            "Epoch [39/50], Learning Rate: 0.002665319313196509\n",
            "Epoch [40/50], Train Accuracy: 72.0 %, Loss: 1.4527\n",
            "Epoch [40/50], Learning Rate: 0.0023976573648539653\n",
            "Epoch [41/50], Train Accuracy: 70.0 %, Loss: 1.3615\n",
            "Epoch [41/50], Learning Rate: 0.0021404630011522584\n",
            "Epoch [42/50], Train Accuracy: 69.9 %, Loss: 0.9474\n",
            "Epoch [42/50], Learning Rate: 0.001894751250743986\n",
            "Epoch [43/50], Train Accuracy: 72.3 %, Loss: 0.7369\n",
            "Epoch [43/50], Learning Rate: 0.001661491825652991\n",
            "Epoch [44/50], Train Accuracy: 71.4 %, Loss: 0.8869\n",
            "Epoch [44/50], Learning Rate: 0.001441605294264014\n",
            "Epoch [45/50], Train Accuracy: 71.8 %, Loss: 1.1599\n",
            "Epoch [45/50], Learning Rate: 0.001235959448259844\n",
            "Epoch [46/50], Train Accuracy: 71.4 %, Loss: 0.6972\n",
            "Epoch [46/50], Learning Rate: 0.0010453658778440107\n",
            "Epoch [47/50], Train Accuracy: 73.6 %, Loss: 1.1264\n",
            "Epoch [47/50], Learning Rate: 0.0008705767687650265\n",
            "Epoch [48/50], Train Accuracy: 74.1 %, Loss: 1.2642\n",
            "Epoch [48/50], Learning Rate: 0.0007122819337828754\n",
            "Epoch [49/50], Train Accuracy: 76.1 %, Loss: 0.9467\n",
            "Epoch [49/50], Learning Rate: 0.0005711060902932043\n",
            "Epoch [50/50], Train Accuracy: 74.0 %, Loss: 1.2246\n",
            "Epoch [50/50], Learning Rate: 0.00044760639485315584\n"
          ]
        }
      ]
    },
    {
      "cell_type": "code",
      "source": [
        "# モデルの刈り込み率を計算する関数を作成\n",
        "def calculate_pruned_ratio(model):\n",
        "    total_weights = 0\n",
        "    total_pruned_weights = 0\n",
        "\n",
        "    for module in model.modules():\n",
        "        # モジュールがSupermaskConvであるか確認\n",
        "        if isinstance(module, SupermaskConv):\n",
        "            # SupermaskConv層の重みを取得\n",
        "            weight = module.weight.data\n",
        "            # 刈り込みを適用した後の重みを取得\n",
        "            subnet = GetSubnet.apply(module.clamped_scores, 1 - module.prune_rate)\n",
        "            pruned_weight = weight * subnet\n",
        "            # 0である要素数を計算\n",
        "            pruned_weights_count = (pruned_weight == 0).sum().item()\n",
        "            total_pruned_weights += pruned_weights_count\n",
        "            # 重みの全要素数を計算\n",
        "            total_weights_count = pruned_weight.numel()\n",
        "            total_weights += total_weights_count\n",
        "\n",
        "    # 刈り込みが行われた割合を計算\n",
        "    pruned_ratio = total_pruned_weights / total_weights\n",
        "    return print(f\"刈り込み率は{pruned_ratio:.3f}です\")\n",
        "\n",
        "# モデルの刈り込み率を確認\n",
        "calculate_pruned_ratio(model)"
      ],
      "metadata": {
        "id": "lS1L0HJms21I",
        "colab": {
          "base_uri": "https://localhost:8080/"
        },
        "outputId": "0c8daa49-8219-4fd3-fce9-e577e6e35ad1"
      },
      "execution_count": 113,
      "outputs": [
        {
          "output_type": "stream",
          "name": "stdout",
          "text": [
            "刈り込み率は0.990です\n"
          ]
        }
      ]
    },
    {
      "cell_type": "code",
      "source": [
        "# 学習前後のモデルのスコアを比較する関数を作成\n",
        "def check_scores_change(model, model_init):\n",
        "    # 各モデルの名前付きモジュールを順に調べる\n",
        "    for (name, module), (name_init, module_init) in zip(model.named_modules(), model_init.named_modules()):\n",
        "        # 両モジュールがConv2dのインスタンスであるかを確認\n",
        "        if isinstance(module, torch.nn.Conv2d) and isinstance(module_init, torch.nn.Conv2d):\n",
        "            # 両モジュールが'scores'属性を持っているかを確認\n",
        "            if hasattr(module, 'scores') and hasattr(module_init, 'scores'):\n",
        "                # 両モジュールの'scores'属性が一致しているかを確認\n",
        "                # 一致していない場合、変更があったことを示すメッセージを出力\n",
        "                if not torch.equal(module.scores, module_init.scores):\n",
        "                    print(f'{name}のスコアが変化しています')\n",
        "                    return\n",
        "    # すべてのconv層で'scores'が変更されていない場合、その旨を出力\n",
        "    print('すべてのスコアは変化していません')\n",
        "\n",
        "# 学習前後でモデルのスコアが変化していないかを確認\n",
        "check_scores_change(model, model_init)"
      ],
      "metadata": {
        "id": "bliiLq6fs21J",
        "colab": {
          "base_uri": "https://localhost:8080/"
        },
        "outputId": "ee6f315d-0f63-4b37-ba40-15280eabcdde"
      },
      "execution_count": 114,
      "outputs": [
        {
          "output_type": "stream",
          "name": "stdout",
          "text": [
            "すべてのスコアは変化していません\n"
          ]
        }
      ]
    },
    {
      "cell_type": "code",
      "source": [
        "# 学習前後のモデルの最終層以外の重みを比較する関数を作成\n",
        "def check_weight_change_except_last(model, model_init):\n",
        "    for (name, param), (name_init, param_init) in zip(model.named_parameters(), model_init.named_parameters()):\n",
        "        # 最終層を除く\n",
        "        if name != 'fc.weight' and name != 'fc.bias':\n",
        "            weights_changed = (param.data != param_init.data).any()\n",
        "            if weights_changed:\n",
        "                return print('最終層以外の重みが変化しています')\n",
        "    return print('最終層以外の重みは変化していません')\n",
        "\n",
        "# 学習前後でモデルの最終層以外の重みが変化していないかを確認\n",
        "check_weight_change_except_last(model, model_init)"
      ],
      "metadata": {
        "id": "hjjVdDxus21J",
        "colab": {
          "base_uri": "https://localhost:8080/"
        },
        "outputId": "0ff5316e-ee51-44e1-d834-5df909c98a20"
      },
      "execution_count": 115,
      "outputs": [
        {
          "output_type": "stream",
          "name": "stdout",
          "text": [
            "最終層以外の重みは変化していません\n"
          ]
        }
      ]
    },
    {
      "cell_type": "code",
      "source": [
        "# モデルの評価\n",
        "model.eval()\n",
        "with torch.no_grad():\n",
        "    total = 0\n",
        "    correct = 0\n",
        "    for images, labels in test_loader_handsigns:\n",
        "        images = images.to(device)\n",
        "        labels = labels.to(device)\n",
        "        outputs = model(images)\n",
        "        _, predicted = torch.max(outputs.data, 1)\n",
        "        total += labels.size(0)\n",
        "        correct += (predicted == labels).sum().item()\n",
        "    # 正解率精度の確認\n",
        "    print('Test Accuracy: {} %'.format(100 * correct / total))"
      ],
      "metadata": {
        "id": "tfBGy-xJs21J",
        "colab": {
          "base_uri": "https://localhost:8080/"
        },
        "outputId": "c1a93afe-04e6-4b08-adcf-a65feaaf8e3e"
      },
      "execution_count": 116,
      "outputs": [
        {
          "output_type": "stream",
          "name": "stdout",
          "text": [
            "Test Accuracy: 78.0 %\n"
          ]
        }
      ]
    },
    {
      "cell_type": "code",
      "source": [
        "# GPUメモリの解放\n",
        "del model, model_init\n",
        "torch.cuda.empty_cache()"
      ],
      "metadata": {
        "id": "zO_k4GEqs21J"
      },
      "execution_count": 117,
      "outputs": []
    },
    {
      "cell_type": "markdown",
      "source": [
        "### prune_rate=0.95"
      ],
      "metadata": {
        "id": "TJ7H2XHys21J"
      }
    },
    {
      "cell_type": "code",
      "source": [
        "# デバイスを設定\n",
        "device = torch.device('cuda' if torch.cuda.is_available() else 'cpu')\n",
        "# モデルを定義\n",
        "model = torch.load('/content/drive/MyDrive/SupermaskWideResNet28_10_CIFAR10_100epochs_pr0.95_constant_CLRS_restest.pth')\n",
        "# 最終層を変更\n",
        "model.fc = nn.Linear(model.fc.in_features, 10)\n",
        "# 最終層以外のパラメータの勾配計算を停止\n",
        "for param in model.parameters():\n",
        "    param.requires_grad = False\n",
        "# 最終層のパラメータのみを学習するように設定\n",
        "for param in model.fc.parameters():\n",
        "    param.requires_grad = True\n",
        "# モデルをデバイスに転送\n",
        "model = model.to(device)\n",
        "# 変更後のモデルの重みを保存\n",
        "model_init = copy.deepcopy(model)\n",
        "\n",
        "# 学習率を設定\n",
        "learning_rate = 0.01\n",
        "# 全体のepoch数を設定\n",
        "num_epochs = 50\n",
        "# warm-upするepoch数を設定\n",
        "warmup_epochs = 5\n",
        "\n",
        "# 損失関数を定義\n",
        "criterion = nn.CrossEntropyLoss()\n",
        "# オプティマイザーを設定\n",
        "optimizer = optim.Adam(model.fc.parameters(), lr=learning_rate)\n",
        "# スケジューラーを設定\n",
        "scheduler = CosineLRScheduler(optimizer, t_initial=num_epochs, lr_min=1e-4, warmup_t=warmup_epochs, warmup_lr_init=1e-4, warmup_prefix=True)\n",
        "\n",
        "# モデルの学習\n",
        "for epoch in range(num_epochs):\n",
        "    total = 0\n",
        "    correct = 0\n",
        "    for i, (images, labels) in enumerate(train_loader_handsigns):\n",
        "        images = images.to(device)\n",
        "        labels = labels.to(device)\n",
        "        # 順伝播\n",
        "        outputs = model(images)\n",
        "        loss = criterion(outputs, labels)\n",
        "        # 逆伝播\n",
        "        optimizer.zero_grad()\n",
        "        loss.backward()\n",
        "        optimizer.step()\n",
        "        _, predicted = torch.max(outputs.data, 1)\n",
        "        # 全データ数\n",
        "        total += labels.size(0)\n",
        "        # 正解数\n",
        "        correct += (predicted == labels).sum().item()\n",
        "    # 正解率精度を計算\n",
        "    train_acc = 100 * correct / total\n",
        "    # 正解率精度と損失を確認\n",
        "    print(\"Epoch [{}/{}], Train Accuracy: {} %, Loss: {:.4f}\".format(epoch+1, num_epochs, 100 * correct / total, loss.item()))\n",
        "    # 1エポック終了後にスケジューラーを更新\n",
        "    scheduler.step(epoch)\n",
        "    # 学習率の確認\n",
        "    print(\"Epoch [{}/{}], Learning Rate: {}\".format(epoch+1, num_epochs, optimizer.param_groups[0]['lr']))\n",
        "\n",
        "\n",
        "# モデルを保存\n",
        "torch.save(model, '/content/drive/MyDrive/SupermaskWideResNet28_10_HandSigns_from_CIFAR10_100epochs_pr0.95_constant_50epochs_lr0.01_CLRS_restest.pth')"
      ],
      "metadata": {
        "id": "ErQjafPns21J",
        "colab": {
          "base_uri": "https://localhost:8080/"
        },
        "outputId": "ce066637-4d53-4c11-8fe1-eb9cbf564fc5"
      },
      "execution_count": 118,
      "outputs": [
        {
          "output_type": "stream",
          "name": "stdout",
          "text": [
            "Epoch [1/50], Train Accuracy: 15.4 %, Loss: 2.2170\n",
            "Epoch [1/50], Learning Rate: 0.0001\n",
            "Epoch [2/50], Train Accuracy: 21.7 %, Loss: 1.9506\n",
            "Epoch [2/50], Learning Rate: 0.00208\n",
            "Epoch [3/50], Train Accuracy: 27.9 %, Loss: 1.6224\n",
            "Epoch [3/50], Learning Rate: 0.00406\n",
            "Epoch [4/50], Train Accuracy: 32.1 %, Loss: 1.5595\n",
            "Epoch [4/50], Learning Rate: 0.00604\n",
            "Epoch [5/50], Train Accuracy: 32.2 %, Loss: 1.6114\n",
            "Epoch [5/50], Learning Rate: 0.00802\n",
            "Epoch [6/50], Train Accuracy: 35.2 %, Loss: 1.3436\n",
            "Epoch [6/50], Learning Rate: 0.01\n",
            "Epoch [7/50], Train Accuracy: 37.4 %, Loss: 1.8826\n",
            "Epoch [7/50], Learning Rate: 0.009990232305719944\n",
            "Epoch [8/50], Train Accuracy: 37.9 %, Loss: 1.9725\n",
            "Epoch [8/50], Learning Rate: 0.009960967771506667\n",
            "Epoch [9/50], Train Accuracy: 41.1 %, Loss: 1.3834\n",
            "Epoch [9/50], Learning Rate: 0.00991232189110701\n",
            "Epoch [10/50], Train Accuracy: 40.8 %, Loss: 2.0802\n",
            "Epoch [10/50], Learning Rate: 0.009844486647586723\n",
            "Epoch [11/50], Train Accuracy: 45.1 %, Loss: 1.8893\n",
            "Epoch [11/50], Learning Rate: 0.009757729755661011\n",
            "Epoch [12/50], Train Accuracy: 48.2 %, Loss: 1.9610\n",
            "Epoch [12/50], Learning Rate: 0.009652393605146845\n",
            "Epoch [13/50], Train Accuracy: 48.1 %, Loss: 2.3303\n",
            "Epoch [13/50], Learning Rate: 0.009528893909706798\n",
            "Epoch [14/50], Train Accuracy: 49.8 %, Loss: 2.0777\n",
            "Epoch [14/50], Learning Rate: 0.009387718066217124\n",
            "Epoch [15/50], Train Accuracy: 50.7 %, Loss: 0.8536\n",
            "Epoch [15/50], Learning Rate: 0.009229423231234974\n",
            "Epoch [16/50], Train Accuracy: 50.1 %, Loss: 1.7727\n",
            "Epoch [16/50], Learning Rate: 0.00905463412215599\n",
            "Epoch [17/50], Train Accuracy: 50.0 %, Loss: 1.4898\n",
            "Epoch [17/50], Learning Rate: 0.008864040551740157\n",
            "Epoch [18/50], Train Accuracy: 56.0 %, Loss: 2.0567\n",
            "Epoch [18/50], Learning Rate: 0.008658394705735987\n",
            "Epoch [19/50], Train Accuracy: 51.1 %, Loss: 1.2297\n",
            "Epoch [19/50], Learning Rate: 0.00843850817434701\n",
            "Epoch [20/50], Train Accuracy: 52.1 %, Loss: 2.0193\n",
            "Epoch [20/50], Learning Rate: 0.008205248749256015\n",
            "Epoch [21/50], Train Accuracy: 57.1 %, Loss: 1.2448\n",
            "Epoch [21/50], Learning Rate: 0.007959536998847744\n",
            "Epoch [22/50], Train Accuracy: 58.0 %, Loss: 1.9359\n",
            "Epoch [22/50], Learning Rate: 0.007702342635146034\n",
            "Epoch [23/50], Train Accuracy: 57.1 %, Loss: 1.5558\n",
            "Epoch [23/50], Learning Rate: 0.007434680686803491\n",
            "Epoch [24/50], Train Accuracy: 61.9 %, Loss: 0.7184\n",
            "Epoch [24/50], Learning Rate: 0.0071576074932471105\n",
            "Epoch [25/50], Train Accuracy: 60.0 %, Loss: 1.1067\n",
            "Epoch [25/50], Learning Rate: 0.006872216535789157\n",
            "Epoch [26/50], Train Accuracy: 59.8 %, Loss: 2.0351\n",
            "Epoch [26/50], Learning Rate: 0.006579634122155991\n",
            "Epoch [27/50], Train Accuracy: 58.8 %, Loss: 1.2970\n",
            "Epoch [27/50], Learning Rate: 0.0062810149414660316\n",
            "Epoch [28/50], Train Accuracy: 59.8 %, Loss: 0.7603\n",
            "Epoch [28/50], Learning Rate: 0.005977537507199339\n",
            "Epoch [29/50], Train Accuracy: 63.6 %, Loss: 0.8496\n",
            "Epoch [29/50], Learning Rate: 0.005670399506143308\n",
            "Epoch [30/50], Train Accuracy: 59.7 %, Loss: 1.0458\n",
            "Epoch [30/50], Learning Rate: 0.005360813071670102\n",
            "Epoch [31/50], Train Accuracy: 64.2 %, Loss: 0.6130\n",
            "Epoch [31/50], Learning Rate: 0.005050000000000001\n",
            "Epoch [32/50], Train Accuracy: 62.2 %, Loss: 1.2384\n",
            "Epoch [32/50], Learning Rate: 0.004739186928329899\n",
            "Epoch [33/50], Train Accuracy: 61.4 %, Loss: 0.4195\n",
            "Epoch [33/50], Learning Rate: 0.004429600493856695\n",
            "Epoch [34/50], Train Accuracy: 65.7 %, Loss: 0.7425\n",
            "Epoch [34/50], Learning Rate: 0.0041224624928006635\n",
            "Epoch [35/50], Train Accuracy: 62.3 %, Loss: 0.9857\n",
            "Epoch [35/50], Learning Rate: 0.0038189850585339685\n",
            "Epoch [36/50], Train Accuracy: 66.6 %, Loss: 1.5072\n",
            "Epoch [36/50], Learning Rate: 0.003520365877844012\n",
            "Epoch [37/50], Train Accuracy: 65.5 %, Loss: 0.9973\n",
            "Epoch [37/50], Learning Rate: 0.0032277834642108457\n",
            "Epoch [38/50], Train Accuracy: 68.6 %, Loss: 1.2368\n",
            "Epoch [38/50], Learning Rate: 0.0029423925067528904\n",
            "Epoch [39/50], Train Accuracy: 70.0 %, Loss: 1.0008\n",
            "Epoch [39/50], Learning Rate: 0.002665319313196509\n",
            "Epoch [40/50], Train Accuracy: 67.4 %, Loss: 1.2295\n",
            "Epoch [40/50], Learning Rate: 0.0023976573648539653\n",
            "Epoch [41/50], Train Accuracy: 67.2 %, Loss: 1.0644\n",
            "Epoch [41/50], Learning Rate: 0.0021404630011522584\n",
            "Epoch [42/50], Train Accuracy: 67.5 %, Loss: 1.8438\n",
            "Epoch [42/50], Learning Rate: 0.001894751250743986\n",
            "Epoch [43/50], Train Accuracy: 69.2 %, Loss: 2.4473\n",
            "Epoch [43/50], Learning Rate: 0.001661491825652991\n",
            "Epoch [44/50], Train Accuracy: 70.7 %, Loss: 0.4053\n",
            "Epoch [44/50], Learning Rate: 0.001441605294264014\n",
            "Epoch [45/50], Train Accuracy: 71.2 %, Loss: 0.8455\n",
            "Epoch [45/50], Learning Rate: 0.001235959448259844\n",
            "Epoch [46/50], Train Accuracy: 71.8 %, Loss: 1.0161\n",
            "Epoch [46/50], Learning Rate: 0.0010453658778440107\n",
            "Epoch [47/50], Train Accuracy: 71.1 %, Loss: 0.9659\n",
            "Epoch [47/50], Learning Rate: 0.0008705767687650265\n",
            "Epoch [48/50], Train Accuracy: 72.0 %, Loss: 0.9111\n",
            "Epoch [48/50], Learning Rate: 0.0007122819337828754\n",
            "Epoch [49/50], Train Accuracy: 71.8 %, Loss: 0.7480\n",
            "Epoch [49/50], Learning Rate: 0.0005711060902932043\n",
            "Epoch [50/50], Train Accuracy: 72.6 %, Loss: 0.7922\n",
            "Epoch [50/50], Learning Rate: 0.00044760639485315584\n"
          ]
        }
      ]
    },
    {
      "cell_type": "code",
      "source": [
        "# モデルの刈り込み率を計算する関数を作成\n",
        "def calculate_pruned_ratio(model):\n",
        "    total_weights = 0\n",
        "    total_pruned_weights = 0\n",
        "\n",
        "    for module in model.modules():\n",
        "        # モジュールがSupermaskConvであるか確認\n",
        "        if isinstance(module, SupermaskConv):\n",
        "            # SupermaskConv層の重みを取得\n",
        "            weight = module.weight.data\n",
        "            # 刈り込みを適用した後の重みを取得\n",
        "            subnet = GetSubnet.apply(module.clamped_scores, 1 - module.prune_rate)\n",
        "            pruned_weight = weight * subnet\n",
        "            # 0である要素数を計算\n",
        "            pruned_weights_count = (pruned_weight == 0).sum().item()\n",
        "            total_pruned_weights += pruned_weights_count\n",
        "            # 重みの全要素数を計算\n",
        "            total_weights_count = pruned_weight.numel()\n",
        "            total_weights += total_weights_count\n",
        "\n",
        "    # 刈り込みが行われた割合を計算\n",
        "    pruned_ratio = total_pruned_weights / total_weights\n",
        "    return print(f\"刈り込み率は{pruned_ratio:.3f}です\")\n",
        "\n",
        "# モデルの刈り込み率を確認\n",
        "calculate_pruned_ratio(model)"
      ],
      "metadata": {
        "id": "TWR3MV5Us21J",
        "colab": {
          "base_uri": "https://localhost:8080/"
        },
        "outputId": "0e453a77-43d4-464c-be62-315c145123c1"
      },
      "execution_count": 119,
      "outputs": [
        {
          "output_type": "stream",
          "name": "stdout",
          "text": [
            "刈り込み率は0.950です\n"
          ]
        }
      ]
    },
    {
      "cell_type": "code",
      "source": [
        "# 学習前後のモデルのスコアを比較する関数を作成\n",
        "def check_scores_change(model, model_init):\n",
        "    # 各モデルの名前付きモジュールを順に調べる\n",
        "    for (name, module), (name_init, module_init) in zip(model.named_modules(), model_init.named_modules()):\n",
        "        # 両モジュールがConv2dのインスタンスであるかを確認\n",
        "        if isinstance(module, torch.nn.Conv2d) and isinstance(module_init, torch.nn.Conv2d):\n",
        "            # 両モジュールが'scores'属性を持っているかを確認\n",
        "            if hasattr(module, 'scores') and hasattr(module_init, 'scores'):\n",
        "                # 両モジュールの'scores'属性が一致しているかを確認\n",
        "                # 一致していない場合、変更があったことを示すメッセージを出力\n",
        "                if not torch.equal(module.scores, module_init.scores):\n",
        "                    print(f'{name}のスコアが変化しています')\n",
        "                    return\n",
        "    # すべてのconv層で'scores'が変更されていない場合、その旨を出力\n",
        "    print('すべてのスコアは変化していません')\n",
        "\n",
        "# 学習前後でモデルのスコアが変化していないかを確認\n",
        "check_scores_change(model, model_init)"
      ],
      "metadata": {
        "id": "5DQxTiBGs21J",
        "colab": {
          "base_uri": "https://localhost:8080/"
        },
        "outputId": "4f63817a-b1ef-4edb-babc-6635ff5bb55d"
      },
      "execution_count": 120,
      "outputs": [
        {
          "output_type": "stream",
          "name": "stdout",
          "text": [
            "すべてのスコアは変化していません\n"
          ]
        }
      ]
    },
    {
      "cell_type": "code",
      "source": [
        "# 学習前後のモデルの最終層以外の重みを比較する関数を作成\n",
        "def check_weight_change_except_last(model, model_init):\n",
        "    for (name, param), (name_init, param_init) in zip(model.named_parameters(), model_init.named_parameters()):\n",
        "        # 最終層を除く\n",
        "        if name != 'fc.weight' and name != 'fc.bias':\n",
        "            weights_changed = (param.data != param_init.data).any()\n",
        "            if weights_changed:\n",
        "                return print('最終層以外の重みが変化しています')\n",
        "    return print('最終層以外の重みは変化していません')\n",
        "\n",
        "# 学習前後でモデルの最終層以外の重みが変化していないかを確認\n",
        "check_weight_change_except_last(model, model_init)"
      ],
      "metadata": {
        "id": "NzrsH2Dis21J",
        "colab": {
          "base_uri": "https://localhost:8080/"
        },
        "outputId": "f07487ac-31ee-4919-bcc5-f8fce7df78e6"
      },
      "execution_count": 121,
      "outputs": [
        {
          "output_type": "stream",
          "name": "stdout",
          "text": [
            "最終層以外の重みは変化していません\n"
          ]
        }
      ]
    },
    {
      "cell_type": "code",
      "source": [
        "# モデルの評価\n",
        "model.eval()\n",
        "with torch.no_grad():\n",
        "    total = 0\n",
        "    correct = 0\n",
        "    for images, labels in test_loader_handsigns:\n",
        "        images = images.to(device)\n",
        "        labels = labels.to(device)\n",
        "        outputs = model(images)\n",
        "        _, predicted = torch.max(outputs.data, 1)\n",
        "        total += labels.size(0)\n",
        "        correct += (predicted == labels).sum().item()\n",
        "    # 正解率精度の確認\n",
        "    print('Test Accuracy: {} %'.format(100 * correct / total))"
      ],
      "metadata": {
        "id": "_UoT7wX3s21K",
        "colab": {
          "base_uri": "https://localhost:8080/"
        },
        "outputId": "4129d0f3-532b-438b-8a0f-001e4eb4135d"
      },
      "execution_count": 122,
      "outputs": [
        {
          "output_type": "stream",
          "name": "stdout",
          "text": [
            "Test Accuracy: 73.0 %\n"
          ]
        }
      ]
    },
    {
      "cell_type": "code",
      "source": [
        "# GPUメモリの解放\n",
        "del model, model_init\n",
        "torch.cuda.empty_cache()"
      ],
      "metadata": {
        "id": "9FtgtCFks21K"
      },
      "execution_count": 123,
      "outputs": []
    },
    {
      "cell_type": "markdown",
      "source": [
        "### prune_rate=0.9"
      ],
      "metadata": {
        "id": "WUxMDoMfs21K"
      }
    },
    {
      "cell_type": "code",
      "source": [
        "# デバイスを設定\n",
        "device = torch.device('cuda' if torch.cuda.is_available() else 'cpu')\n",
        "# モデルを定義\n",
        "model = torch.load('/content/drive/MyDrive/SupermaskWideResNet28_10_CIFAR10_100epochs_pr0.9_constant_CLRS_restest.pth')\n",
        "# 最終層を変更\n",
        "model.fc = nn.Linear(model.fc.in_features, 10)\n",
        "# 最終層以外のパラメータの勾配計算を停止\n",
        "for param in model.parameters():\n",
        "    param.requires_grad = False\n",
        "# 最終層のパラメータのみを学習するように設定\n",
        "for param in model.fc.parameters():\n",
        "    param.requires_grad = True\n",
        "# モデルをデバイスに転送\n",
        "model = model.to(device)\n",
        "# 変更後のモデルの重みを保存\n",
        "model_init = copy.deepcopy(model)\n",
        "\n",
        "# 学習率を設定\n",
        "learning_rate = 0.01\n",
        "# 全体のepoch数を設定\n",
        "num_epochs = 50\n",
        "# warm-upするepoch数を設定\n",
        "warmup_epochs = 5\n",
        "\n",
        "# 損失関数を定義\n",
        "criterion = nn.CrossEntropyLoss()\n",
        "# オプティマイザーを設定\n",
        "optimizer = optim.Adam(model.fc.parameters(), lr=learning_rate)\n",
        "# スケジューラーを設定\n",
        "scheduler = CosineLRScheduler(optimizer, t_initial=num_epochs, lr_min=1e-4, warmup_t=warmup_epochs, warmup_lr_init=1e-4, warmup_prefix=True)\n",
        "\n",
        "# モデルの学習\n",
        "for epoch in range(num_epochs):\n",
        "    total = 0\n",
        "    correct = 0\n",
        "    for i, (images, labels) in enumerate(train_loader_handsigns):\n",
        "        images = images.to(device)\n",
        "        labels = labels.to(device)\n",
        "        # 順伝播\n",
        "        outputs = model(images)\n",
        "        loss = criterion(outputs, labels)\n",
        "        # 逆伝播\n",
        "        optimizer.zero_grad()\n",
        "        loss.backward()\n",
        "        optimizer.step()\n",
        "        _, predicted = torch.max(outputs.data, 1)\n",
        "        # 全データ数\n",
        "        total += labels.size(0)\n",
        "        # 正解数\n",
        "        correct += (predicted == labels).sum().item()\n",
        "    # 正解率精度を計算\n",
        "    train_acc = 100 * correct / total\n",
        "    # 正解率精度と損失を確認\n",
        "    print(\"Epoch [{}/{}], Train Accuracy: {} %, Loss: {:.4f}\".format(epoch+1, num_epochs, 100 * correct / total, loss.item()))\n",
        "    # 1エポック終了後にスケジューラーを更新\n",
        "    scheduler.step(epoch)\n",
        "    # 学習率の確認\n",
        "    print(\"Epoch [{}/{}], Learning Rate: {}\".format(epoch+1, num_epochs, optimizer.param_groups[0]['lr']))\n",
        "\n",
        "\n",
        "# モデルを保存\n",
        "torch.save(model, '/content/drive/MyDrive/SupermaskWideResNet28_10_HandSigns_from_CIFAR10_100epochs_pr0.9_constant_50epochs_lr0.01_CLRS_restest.pth')"
      ],
      "metadata": {
        "id": "LkANN8ohs21K",
        "colab": {
          "base_uri": "https://localhost:8080/"
        },
        "outputId": "50cb7aa8-f925-48c2-93f8-0bb494189e10"
      },
      "execution_count": 124,
      "outputs": [
        {
          "output_type": "stream",
          "name": "stdout",
          "text": [
            "Epoch [1/50], Train Accuracy: 14.2 %, Loss: 2.2650\n",
            "Epoch [1/50], Learning Rate: 0.0001\n",
            "Epoch [2/50], Train Accuracy: 20.3 %, Loss: 2.2476\n",
            "Epoch [2/50], Learning Rate: 0.00208\n",
            "Epoch [3/50], Train Accuracy: 27.1 %, Loss: 2.4817\n",
            "Epoch [3/50], Learning Rate: 0.00406\n",
            "Epoch [4/50], Train Accuracy: 27.0 %, Loss: 1.9663\n",
            "Epoch [4/50], Learning Rate: 0.00604\n",
            "Epoch [5/50], Train Accuracy: 31.5 %, Loss: 1.4870\n",
            "Epoch [5/50], Learning Rate: 0.00802\n",
            "Epoch [6/50], Train Accuracy: 31.8 %, Loss: 2.6257\n",
            "Epoch [6/50], Learning Rate: 0.01\n",
            "Epoch [7/50], Train Accuracy: 36.5 %, Loss: 2.5305\n",
            "Epoch [7/50], Learning Rate: 0.009990232305719944\n",
            "Epoch [8/50], Train Accuracy: 37.0 %, Loss: 2.2079\n",
            "Epoch [8/50], Learning Rate: 0.009960967771506667\n",
            "Epoch [9/50], Train Accuracy: 39.8 %, Loss: 1.9980\n",
            "Epoch [9/50], Learning Rate: 0.00991232189110701\n",
            "Epoch [10/50], Train Accuracy: 40.8 %, Loss: 2.0157\n",
            "Epoch [10/50], Learning Rate: 0.009844486647586723\n",
            "Epoch [11/50], Train Accuracy: 45.3 %, Loss: 1.7506\n",
            "Epoch [11/50], Learning Rate: 0.009757729755661011\n",
            "Epoch [12/50], Train Accuracy: 47.0 %, Loss: 1.4489\n",
            "Epoch [12/50], Learning Rate: 0.009652393605146845\n",
            "Epoch [13/50], Train Accuracy: 48.3 %, Loss: 1.4270\n",
            "Epoch [13/50], Learning Rate: 0.009528893909706798\n",
            "Epoch [14/50], Train Accuracy: 49.3 %, Loss: 1.1159\n",
            "Epoch [14/50], Learning Rate: 0.009387718066217124\n",
            "Epoch [15/50], Train Accuracy: 51.5 %, Loss: 1.7931\n",
            "Epoch [15/50], Learning Rate: 0.009229423231234974\n",
            "Epoch [16/50], Train Accuracy: 51.3 %, Loss: 1.9046\n",
            "Epoch [16/50], Learning Rate: 0.00905463412215599\n",
            "Epoch [17/50], Train Accuracy: 49.0 %, Loss: 1.1169\n",
            "Epoch [17/50], Learning Rate: 0.008864040551740157\n",
            "Epoch [18/50], Train Accuracy: 50.2 %, Loss: 2.4937\n",
            "Epoch [18/50], Learning Rate: 0.008658394705735987\n",
            "Epoch [19/50], Train Accuracy: 52.3 %, Loss: 1.6557\n",
            "Epoch [19/50], Learning Rate: 0.00843850817434701\n",
            "Epoch [20/50], Train Accuracy: 52.5 %, Loss: 0.7637\n",
            "Epoch [20/50], Learning Rate: 0.008205248749256015\n",
            "Epoch [21/50], Train Accuracy: 56.4 %, Loss: 1.3507\n",
            "Epoch [21/50], Learning Rate: 0.007959536998847744\n",
            "Epoch [22/50], Train Accuracy: 54.6 %, Loss: 1.4460\n",
            "Epoch [22/50], Learning Rate: 0.007702342635146034\n",
            "Epoch [23/50], Train Accuracy: 56.0 %, Loss: 1.6498\n",
            "Epoch [23/50], Learning Rate: 0.007434680686803491\n",
            "Epoch [24/50], Train Accuracy: 59.7 %, Loss: 1.2376\n",
            "Epoch [24/50], Learning Rate: 0.0071576074932471105\n",
            "Epoch [25/50], Train Accuracy: 55.4 %, Loss: 0.9399\n",
            "Epoch [25/50], Learning Rate: 0.006872216535789157\n",
            "Epoch [26/50], Train Accuracy: 60.3 %, Loss: 1.3611\n",
            "Epoch [26/50], Learning Rate: 0.006579634122155991\n",
            "Epoch [27/50], Train Accuracy: 58.7 %, Loss: 1.2518\n",
            "Epoch [27/50], Learning Rate: 0.0062810149414660316\n",
            "Epoch [28/50], Train Accuracy: 61.6 %, Loss: 1.3103\n",
            "Epoch [28/50], Learning Rate: 0.005977537507199339\n",
            "Epoch [29/50], Train Accuracy: 58.5 %, Loss: 0.5203\n",
            "Epoch [29/50], Learning Rate: 0.005670399506143308\n",
            "Epoch [30/50], Train Accuracy: 62.1 %, Loss: 1.4314\n",
            "Epoch [30/50], Learning Rate: 0.005360813071670102\n",
            "Epoch [31/50], Train Accuracy: 63.3 %, Loss: 1.5942\n",
            "Epoch [31/50], Learning Rate: 0.005050000000000001\n",
            "Epoch [32/50], Train Accuracy: 62.6 %, Loss: 0.7842\n",
            "Epoch [32/50], Learning Rate: 0.004739186928329899\n",
            "Epoch [33/50], Train Accuracy: 61.1 %, Loss: 1.7680\n",
            "Epoch [33/50], Learning Rate: 0.004429600493856695\n",
            "Epoch [34/50], Train Accuracy: 61.8 %, Loss: 1.0210\n",
            "Epoch [34/50], Learning Rate: 0.0041224624928006635\n",
            "Epoch [35/50], Train Accuracy: 64.2 %, Loss: 0.4392\n",
            "Epoch [35/50], Learning Rate: 0.0038189850585339685\n",
            "Epoch [36/50], Train Accuracy: 66.1 %, Loss: 1.7932\n",
            "Epoch [36/50], Learning Rate: 0.003520365877844012\n",
            "Epoch [37/50], Train Accuracy: 64.7 %, Loss: 1.0943\n",
            "Epoch [37/50], Learning Rate: 0.0032277834642108457\n",
            "Epoch [38/50], Train Accuracy: 65.7 %, Loss: 1.4055\n",
            "Epoch [38/50], Learning Rate: 0.0029423925067528904\n",
            "Epoch [39/50], Train Accuracy: 68.2 %, Loss: 0.8668\n",
            "Epoch [39/50], Learning Rate: 0.002665319313196509\n",
            "Epoch [40/50], Train Accuracy: 67.6 %, Loss: 1.5686\n",
            "Epoch [40/50], Learning Rate: 0.0023976573648539653\n",
            "Epoch [41/50], Train Accuracy: 68.2 %, Loss: 0.8584\n",
            "Epoch [41/50], Learning Rate: 0.0021404630011522584\n",
            "Epoch [42/50], Train Accuracy: 66.8 %, Loss: 1.5498\n",
            "Epoch [42/50], Learning Rate: 0.001894751250743986\n",
            "Epoch [43/50], Train Accuracy: 69.9 %, Loss: 0.7434\n",
            "Epoch [43/50], Learning Rate: 0.001661491825652991\n",
            "Epoch [44/50], Train Accuracy: 68.8 %, Loss: 1.2827\n",
            "Epoch [44/50], Learning Rate: 0.001441605294264014\n",
            "Epoch [45/50], Train Accuracy: 71.6 %, Loss: 1.4043\n",
            "Epoch [45/50], Learning Rate: 0.001235959448259844\n",
            "Epoch [46/50], Train Accuracy: 71.2 %, Loss: 1.4035\n",
            "Epoch [46/50], Learning Rate: 0.0010453658778440107\n",
            "Epoch [47/50], Train Accuracy: 69.6 %, Loss: 0.6615\n",
            "Epoch [47/50], Learning Rate: 0.0008705767687650265\n",
            "Epoch [48/50], Train Accuracy: 70.9 %, Loss: 1.0638\n",
            "Epoch [48/50], Learning Rate: 0.0007122819337828754\n",
            "Epoch [49/50], Train Accuracy: 71.4 %, Loss: 0.9211\n",
            "Epoch [49/50], Learning Rate: 0.0005711060902932043\n",
            "Epoch [50/50], Train Accuracy: 71.5 %, Loss: 2.3409\n",
            "Epoch [50/50], Learning Rate: 0.00044760639485315584\n"
          ]
        }
      ]
    },
    {
      "cell_type": "code",
      "source": [
        "# モデルの刈り込み率を計算する関数を作成\n",
        "def calculate_pruned_ratio(model):\n",
        "    total_weights = 0\n",
        "    total_pruned_weights = 0\n",
        "\n",
        "    for module in model.modules():\n",
        "        # モジュールがSupermaskConvであるか確認\n",
        "        if isinstance(module, SupermaskConv):\n",
        "            # SupermaskConv層の重みを取得\n",
        "            weight = module.weight.data\n",
        "            # 刈り込みを適用した後の重みを取得\n",
        "            subnet = GetSubnet.apply(module.clamped_scores, 1 - module.prune_rate)\n",
        "            pruned_weight = weight * subnet\n",
        "            # 0である要素数を計算\n",
        "            pruned_weights_count = (pruned_weight == 0).sum().item()\n",
        "            total_pruned_weights += pruned_weights_count\n",
        "            # 重みの全要素数を計算\n",
        "            total_weights_count = pruned_weight.numel()\n",
        "            total_weights += total_weights_count\n",
        "\n",
        "    # 刈り込みが行われた割合を計算\n",
        "    pruned_ratio = total_pruned_weights / total_weights\n",
        "    return print(f\"刈り込み率は{pruned_ratio:.3f}です\")\n",
        "\n",
        "# モデルの刈り込み率を確認\n",
        "calculate_pruned_ratio(model)"
      ],
      "metadata": {
        "id": "lWABLj1ds21K",
        "colab": {
          "base_uri": "https://localhost:8080/"
        },
        "outputId": "9dfe5797-a5e4-4007-a56e-fb7720a91759"
      },
      "execution_count": 125,
      "outputs": [
        {
          "output_type": "stream",
          "name": "stdout",
          "text": [
            "刈り込み率は0.900です\n"
          ]
        }
      ]
    },
    {
      "cell_type": "code",
      "source": [
        "# 学習前後のモデルのスコアを比較する関数を作成\n",
        "def check_scores_change(model, model_init):\n",
        "    # 各モデルの名前付きモジュールを順に調べる\n",
        "    for (name, module), (name_init, module_init) in zip(model.named_modules(), model_init.named_modules()):\n",
        "        # 両モジュールがConv2dのインスタンスであるかを確認\n",
        "        if isinstance(module, torch.nn.Conv2d) and isinstance(module_init, torch.nn.Conv2d):\n",
        "            # 両モジュールが'scores'属性を持っているかを確認\n",
        "            if hasattr(module, 'scores') and hasattr(module_init, 'scores'):\n",
        "                # 両モジュールの'scores'属性が一致しているかを確認\n",
        "                # 一致していない場合、変更があったことを示すメッセージを出力\n",
        "                if not torch.equal(module.scores, module_init.scores):\n",
        "                    print(f'{name}のスコアが変化しています')\n",
        "                    return\n",
        "    # すべてのconv層で'scores'が変更されていない場合、その旨を出力\n",
        "    print('すべてのスコアは変化していません')\n",
        "\n",
        "# 学習前後でモデルのスコアが変化していないかを確認\n",
        "check_scores_change(model, model_init)"
      ],
      "metadata": {
        "id": "dc9CZSNAs21K",
        "colab": {
          "base_uri": "https://localhost:8080/"
        },
        "outputId": "d57fb439-a15e-45f4-d205-76a893d970df"
      },
      "execution_count": 126,
      "outputs": [
        {
          "output_type": "stream",
          "name": "stdout",
          "text": [
            "すべてのスコアは変化していません\n"
          ]
        }
      ]
    },
    {
      "cell_type": "code",
      "source": [
        "# 学習前後のモデルの最終層以外の重みを比較する関数を作成\n",
        "def check_weight_change_except_last(model, model_init):\n",
        "    for (name, param), (name_init, param_init) in zip(model.named_parameters(), model_init.named_parameters()):\n",
        "        # 最終層を除く\n",
        "        if name != 'fc.weight' and name != 'fc.bias':\n",
        "            weights_changed = (param.data != param_init.data).any()\n",
        "            if weights_changed:\n",
        "                return print('最終層以外の重みが変化しています')\n",
        "    return print('最終層以外の重みは変化していません')\n",
        "\n",
        "# 学習前後でモデルの最終層以外の重みが変化していないかを確認\n",
        "check_weight_change_except_last(model, model_init)"
      ],
      "metadata": {
        "id": "dsr5A2-6s21K",
        "colab": {
          "base_uri": "https://localhost:8080/"
        },
        "outputId": "a16a72ac-bd36-4d01-91d0-89cba852f864"
      },
      "execution_count": 127,
      "outputs": [
        {
          "output_type": "stream",
          "name": "stdout",
          "text": [
            "最終層以外の重みは変化していません\n"
          ]
        }
      ]
    },
    {
      "cell_type": "code",
      "source": [
        "# モデルの評価\n",
        "model.eval()\n",
        "with torch.no_grad():\n",
        "    total = 0\n",
        "    correct = 0\n",
        "    for images, labels in test_loader_handsigns:\n",
        "        images = images.to(device)\n",
        "        labels = labels.to(device)\n",
        "        outputs = model(images)\n",
        "        _, predicted = torch.max(outputs.data, 1)\n",
        "        total += labels.size(0)\n",
        "        correct += (predicted == labels).sum().item()\n",
        "    # 正解率精度の確認\n",
        "    print('Test Accuracy: {} %'.format(100 * correct / total))"
      ],
      "metadata": {
        "id": "6iYQQFccs21K",
        "colab": {
          "base_uri": "https://localhost:8080/"
        },
        "outputId": "8bdd2286-aaa2-4139-c56a-f0f2f4e97174"
      },
      "execution_count": 128,
      "outputs": [
        {
          "output_type": "stream",
          "name": "stdout",
          "text": [
            "Test Accuracy: 64.0 %\n"
          ]
        }
      ]
    },
    {
      "cell_type": "code",
      "source": [
        "# GPUメモリの解放\n",
        "del model, model_init\n",
        "torch.cuda.empty_cache()"
      ],
      "metadata": {
        "id": "VCZYzfPis21K"
      },
      "execution_count": 129,
      "outputs": []
    },
    {
      "cell_type": "markdown",
      "source": [
        "### prune_rate=0.7"
      ],
      "metadata": {
        "id": "Cco3ZO64s21K"
      }
    },
    {
      "cell_type": "code",
      "source": [
        "# デバイスを設定\n",
        "device = torch.device('cuda' if torch.cuda.is_available() else 'cpu')\n",
        "# モデルを定義\n",
        "model = torch.load('/content/drive/MyDrive/SupermaskWideResNet28_10_CIFAR10_100epochs_pr0.7_constant_CLRS_restest.pth')\n",
        "# 最終層を変更\n",
        "model.fc = nn.Linear(model.fc.in_features, 10)\n",
        "# 最終層以外のパラメータの勾配計算を停止\n",
        "for param in model.parameters():\n",
        "    param.requires_grad = False\n",
        "# 最終層のパラメータのみを学習するように設定\n",
        "for param in model.fc.parameters():\n",
        "    param.requires_grad = True\n",
        "# モデルをデバイスに転送\n",
        "model = model.to(device)\n",
        "# 変更後のモデルの重みを保存\n",
        "model_init = copy.deepcopy(model)\n",
        "\n",
        "# 学習率を設定\n",
        "learning_rate = 0.01\n",
        "# 全体のepoch数を設定\n",
        "num_epochs = 50\n",
        "# warm-upするepoch数を設定\n",
        "warmup_epochs = 5\n",
        "\n",
        "# 損失関数を定義\n",
        "criterion = nn.CrossEntropyLoss()\n",
        "# オプティマイザーを設定\n",
        "optimizer = optim.Adam(model.fc.parameters(), lr=learning_rate)\n",
        "# スケジューラーを設定\n",
        "scheduler = CosineLRScheduler(optimizer, t_initial=num_epochs, lr_min=1e-4, warmup_t=warmup_epochs, warmup_lr_init=1e-4, warmup_prefix=True)\n",
        "\n",
        "# モデルの学習\n",
        "for epoch in range(num_epochs):\n",
        "    total = 0\n",
        "    correct = 0\n",
        "    for i, (images, labels) in enumerate(train_loader_handsigns):\n",
        "        images = images.to(device)\n",
        "        labels = labels.to(device)\n",
        "        # 順伝播\n",
        "        outputs = model(images)\n",
        "        loss = criterion(outputs, labels)\n",
        "        # 逆伝播\n",
        "        optimizer.zero_grad()\n",
        "        loss.backward()\n",
        "        optimizer.step()\n",
        "        _, predicted = torch.max(outputs.data, 1)\n",
        "        # 全データ数\n",
        "        total += labels.size(0)\n",
        "        # 正解数\n",
        "        correct += (predicted == labels).sum().item()\n",
        "    # 正解率精度を計算\n",
        "    train_acc = 100 * correct / total\n",
        "    # 正解率精度と損失を確認\n",
        "    print(\"Epoch [{}/{}], Train Accuracy: {} %, Loss: {:.4f}\".format(epoch+1, num_epochs, 100 * correct / total, loss.item()))\n",
        "    # 1エポック終了後にスケジューラーを更新\n",
        "    scheduler.step(epoch)\n",
        "    # 学習率の確認\n",
        "    print(\"Epoch [{}/{}], Learning Rate: {}\".format(epoch+1, num_epochs, optimizer.param_groups[0]['lr']))\n",
        "\n",
        "\n",
        "# モデルを保存\n",
        "torch.save(model, '/content/drive/MyDrive/SupermaskWideResNet28_10_HandSigns_from_CIFAR10_100epochs_pr0.7_constant_50epochs_lr0.01_CLRS_restest.pth')"
      ],
      "metadata": {
        "id": "A6iOOZK2s21L",
        "colab": {
          "base_uri": "https://localhost:8080/"
        },
        "outputId": "2452b9da-d6bf-4c36-ef3a-1cd47308fee9"
      },
      "execution_count": 130,
      "outputs": [
        {
          "output_type": "stream",
          "name": "stdout",
          "text": [
            "Epoch [1/50], Train Accuracy: 13.0 %, Loss: 2.1645\n",
            "Epoch [1/50], Learning Rate: 0.0001\n",
            "Epoch [2/50], Train Accuracy: 22.1 %, Loss: 2.2418\n",
            "Epoch [2/50], Learning Rate: 0.00208\n",
            "Epoch [3/50], Train Accuracy: 28.3 %, Loss: 1.8301\n",
            "Epoch [3/50], Learning Rate: 0.00406\n",
            "Epoch [4/50], Train Accuracy: 29.4 %, Loss: 1.7447\n",
            "Epoch [4/50], Learning Rate: 0.00604\n",
            "Epoch [5/50], Train Accuracy: 31.1 %, Loss: 2.2097\n",
            "Epoch [5/50], Learning Rate: 0.00802\n",
            "Epoch [6/50], Train Accuracy: 31.1 %, Loss: 2.0309\n",
            "Epoch [6/50], Learning Rate: 0.01\n",
            "Epoch [7/50], Train Accuracy: 33.5 %, Loss: 1.7491\n",
            "Epoch [7/50], Learning Rate: 0.009990232305719944\n",
            "Epoch [8/50], Train Accuracy: 35.3 %, Loss: 2.5909\n",
            "Epoch [8/50], Learning Rate: 0.009960967771506667\n",
            "Epoch [9/50], Train Accuracy: 41.1 %, Loss: 1.2838\n",
            "Epoch [9/50], Learning Rate: 0.00991232189110701\n",
            "Epoch [10/50], Train Accuracy: 41.7 %, Loss: 1.1772\n",
            "Epoch [10/50], Learning Rate: 0.009844486647586723\n",
            "Epoch [11/50], Train Accuracy: 42.8 %, Loss: 1.6256\n",
            "Epoch [11/50], Learning Rate: 0.009757729755661011\n",
            "Epoch [12/50], Train Accuracy: 44.7 %, Loss: 0.8902\n",
            "Epoch [12/50], Learning Rate: 0.009652393605146845\n",
            "Epoch [13/50], Train Accuracy: 46.1 %, Loss: 1.8395\n",
            "Epoch [13/50], Learning Rate: 0.009528893909706798\n",
            "Epoch [14/50], Train Accuracy: 44.6 %, Loss: 1.7241\n",
            "Epoch [14/50], Learning Rate: 0.009387718066217124\n",
            "Epoch [15/50], Train Accuracy: 46.6 %, Loss: 2.3515\n",
            "Epoch [15/50], Learning Rate: 0.009229423231234974\n",
            "Epoch [16/50], Train Accuracy: 48.7 %, Loss: 1.9441\n",
            "Epoch [16/50], Learning Rate: 0.00905463412215599\n",
            "Epoch [17/50], Train Accuracy: 49.5 %, Loss: 1.0675\n",
            "Epoch [17/50], Learning Rate: 0.008864040551740157\n",
            "Epoch [18/50], Train Accuracy: 50.2 %, Loss: 1.7315\n",
            "Epoch [18/50], Learning Rate: 0.008658394705735987\n",
            "Epoch [19/50], Train Accuracy: 50.6 %, Loss: 2.3333\n",
            "Epoch [19/50], Learning Rate: 0.00843850817434701\n",
            "Epoch [20/50], Train Accuracy: 52.6 %, Loss: 1.1856\n",
            "Epoch [20/50], Learning Rate: 0.008205248749256015\n",
            "Epoch [21/50], Train Accuracy: 51.6 %, Loss: 1.3348\n",
            "Epoch [21/50], Learning Rate: 0.007959536998847744\n",
            "Epoch [22/50], Train Accuracy: 53.5 %, Loss: 1.4001\n",
            "Epoch [22/50], Learning Rate: 0.007702342635146034\n",
            "Epoch [23/50], Train Accuracy: 55.2 %, Loss: 1.0917\n",
            "Epoch [23/50], Learning Rate: 0.007434680686803491\n",
            "Epoch [24/50], Train Accuracy: 56.4 %, Loss: 1.8366\n",
            "Epoch [24/50], Learning Rate: 0.0071576074932471105\n",
            "Epoch [25/50], Train Accuracy: 57.3 %, Loss: 0.8537\n",
            "Epoch [25/50], Learning Rate: 0.006872216535789157\n",
            "Epoch [26/50], Train Accuracy: 54.2 %, Loss: 2.3780\n",
            "Epoch [26/50], Learning Rate: 0.006579634122155991\n",
            "Epoch [27/50], Train Accuracy: 56.3 %, Loss: 1.2586\n",
            "Epoch [27/50], Learning Rate: 0.0062810149414660316\n",
            "Epoch [28/50], Train Accuracy: 60.0 %, Loss: 1.7155\n",
            "Epoch [28/50], Learning Rate: 0.005977537507199339\n",
            "Epoch [29/50], Train Accuracy: 56.7 %, Loss: 1.4290\n",
            "Epoch [29/50], Learning Rate: 0.005670399506143308\n",
            "Epoch [30/50], Train Accuracy: 56.0 %, Loss: 1.1906\n",
            "Epoch [30/50], Learning Rate: 0.005360813071670102\n",
            "Epoch [31/50], Train Accuracy: 60.9 %, Loss: 0.5856\n",
            "Epoch [31/50], Learning Rate: 0.005050000000000001\n",
            "Epoch [32/50], Train Accuracy: 62.9 %, Loss: 1.2321\n",
            "Epoch [32/50], Learning Rate: 0.004739186928329899\n",
            "Epoch [33/50], Train Accuracy: 60.4 %, Loss: 0.5480\n",
            "Epoch [33/50], Learning Rate: 0.004429600493856695\n",
            "Epoch [34/50], Train Accuracy: 62.2 %, Loss: 1.5215\n",
            "Epoch [34/50], Learning Rate: 0.0041224624928006635\n",
            "Epoch [35/50], Train Accuracy: 63.1 %, Loss: 0.8190\n",
            "Epoch [35/50], Learning Rate: 0.0038189850585339685\n",
            "Epoch [36/50], Train Accuracy: 62.0 %, Loss: 1.0842\n",
            "Epoch [36/50], Learning Rate: 0.003520365877844012\n",
            "Epoch [37/50], Train Accuracy: 63.6 %, Loss: 0.5883\n",
            "Epoch [37/50], Learning Rate: 0.0032277834642108457\n",
            "Epoch [38/50], Train Accuracy: 66.5 %, Loss: 1.2993\n",
            "Epoch [38/50], Learning Rate: 0.0029423925067528904\n",
            "Epoch [39/50], Train Accuracy: 66.6 %, Loss: 0.9454\n",
            "Epoch [39/50], Learning Rate: 0.002665319313196509\n",
            "Epoch [40/50], Train Accuracy: 65.1 %, Loss: 0.8509\n",
            "Epoch [40/50], Learning Rate: 0.0023976573648539653\n",
            "Epoch [41/50], Train Accuracy: 65.3 %, Loss: 1.4004\n",
            "Epoch [41/50], Learning Rate: 0.0021404630011522584\n",
            "Epoch [42/50], Train Accuracy: 65.2 %, Loss: 0.9666\n",
            "Epoch [42/50], Learning Rate: 0.001894751250743986\n",
            "Epoch [43/50], Train Accuracy: 69.4 %, Loss: 1.1626\n",
            "Epoch [43/50], Learning Rate: 0.001661491825652991\n",
            "Epoch [44/50], Train Accuracy: 67.0 %, Loss: 0.4874\n",
            "Epoch [44/50], Learning Rate: 0.001441605294264014\n",
            "Epoch [45/50], Train Accuracy: 67.9 %, Loss: 0.5904\n",
            "Epoch [45/50], Learning Rate: 0.001235959448259844\n",
            "Epoch [46/50], Train Accuracy: 71.4 %, Loss: 0.8043\n",
            "Epoch [46/50], Learning Rate: 0.0010453658778440107\n",
            "Epoch [47/50], Train Accuracy: 67.8 %, Loss: 0.9987\n",
            "Epoch [47/50], Learning Rate: 0.0008705767687650265\n",
            "Epoch [48/50], Train Accuracy: 69.3 %, Loss: 1.0001\n",
            "Epoch [48/50], Learning Rate: 0.0007122819337828754\n",
            "Epoch [49/50], Train Accuracy: 71.5 %, Loss: 0.8427\n",
            "Epoch [49/50], Learning Rate: 0.0005711060902932043\n",
            "Epoch [50/50], Train Accuracy: 70.7 %, Loss: 1.3271\n",
            "Epoch [50/50], Learning Rate: 0.00044760639485315584\n"
          ]
        }
      ]
    },
    {
      "cell_type": "code",
      "source": [
        "# モデルの刈り込み率を計算する関数を作成\n",
        "def calculate_pruned_ratio(model):\n",
        "    total_weights = 0\n",
        "    total_pruned_weights = 0\n",
        "\n",
        "    for module in model.modules():\n",
        "        # モジュールがSupermaskConvであるか確認\n",
        "        if isinstance(module, SupermaskConv):\n",
        "            # SupermaskConv層の重みを取得\n",
        "            weight = module.weight.data\n",
        "            # 刈り込みを適用した後の重みを取得\n",
        "            subnet = GetSubnet.apply(module.clamped_scores, 1 - module.prune_rate)\n",
        "            pruned_weight = weight * subnet\n",
        "            # 0である要素数を計算\n",
        "            pruned_weights_count = (pruned_weight == 0).sum().item()\n",
        "            total_pruned_weights += pruned_weights_count\n",
        "            # 重みの全要素数を計算\n",
        "            total_weights_count = pruned_weight.numel()\n",
        "            total_weights += total_weights_count\n",
        "\n",
        "    # 刈り込みが行われた割合を計算\n",
        "    pruned_ratio = total_pruned_weights / total_weights\n",
        "    return print(f\"刈り込み率は{pruned_ratio:.3f}です\")\n",
        "\n",
        "# モデルの刈り込み率を確認\n",
        "calculate_pruned_ratio(model)"
      ],
      "metadata": {
        "id": "Jhsabi6fs21L",
        "colab": {
          "base_uri": "https://localhost:8080/"
        },
        "outputId": "5b4be917-12ff-41e2-e63b-60a0b577e42a"
      },
      "execution_count": 131,
      "outputs": [
        {
          "output_type": "stream",
          "name": "stdout",
          "text": [
            "刈り込み率は0.700です\n"
          ]
        }
      ]
    },
    {
      "cell_type": "code",
      "source": [
        "# 学習前後のモデルのスコアを比較する関数を作成\n",
        "def check_scores_change(model, model_init):\n",
        "    # 各モデルの名前付きモジュールを順に調べる\n",
        "    for (name, module), (name_init, module_init) in zip(model.named_modules(), model_init.named_modules()):\n",
        "        # 両モジュールがConv2dのインスタンスであるかを確認\n",
        "        if isinstance(module, torch.nn.Conv2d) and isinstance(module_init, torch.nn.Conv2d):\n",
        "            # 両モジュールが'scores'属性を持っているかを確認\n",
        "            if hasattr(module, 'scores') and hasattr(module_init, 'scores'):\n",
        "                # 両モジュールの'scores'属性が一致しているかを確認\n",
        "                # 一致していない場合、変更があったことを示すメッセージを出力\n",
        "                if not torch.equal(module.scores, module_init.scores):\n",
        "                    print(f'{name}のスコアが変化しています')\n",
        "                    return\n",
        "    # すべてのconv層で'scores'が変更されていない場合、その旨を出力\n",
        "    print('すべてのスコアは変化していません')\n",
        "\n",
        "# 学習前後でモデルのスコアが変化していないかを確認\n",
        "check_scores_change(model, model_init)"
      ],
      "metadata": {
        "id": "aNxpALBcs21L",
        "colab": {
          "base_uri": "https://localhost:8080/"
        },
        "outputId": "27d96a15-b207-4963-ffde-ae31273edd0b"
      },
      "execution_count": 132,
      "outputs": [
        {
          "output_type": "stream",
          "name": "stdout",
          "text": [
            "すべてのスコアは変化していません\n"
          ]
        }
      ]
    },
    {
      "cell_type": "code",
      "source": [
        "# 学習前後のモデルの最終層以外の重みを比較する関数を作成\n",
        "def check_weight_change_except_last(model, model_init):\n",
        "    for (name, param), (name_init, param_init) in zip(model.named_parameters(), model_init.named_parameters()):\n",
        "        # 最終層を除く\n",
        "        if name != 'fc.weight' and name != 'fc.bias':\n",
        "            weights_changed = (param.data != param_init.data).any()\n",
        "            if weights_changed:\n",
        "                return print('最終層以外の重みが変化しています')\n",
        "    return print('最終層以外の重みは変化していません')\n",
        "\n",
        "# 学習前後でモデルの最終層以外の重みが変化していないかを確認\n",
        "check_weight_change_except_last(model, model_init)"
      ],
      "metadata": {
        "id": "nOxbB0UZs21L",
        "colab": {
          "base_uri": "https://localhost:8080/"
        },
        "outputId": "a16bdf3d-790b-4c81-e1d0-95a3ffc4a257"
      },
      "execution_count": 133,
      "outputs": [
        {
          "output_type": "stream",
          "name": "stdout",
          "text": [
            "最終層以外の重みは変化していません\n"
          ]
        }
      ]
    },
    {
      "cell_type": "code",
      "source": [
        "# モデルの評価\n",
        "model.eval()\n",
        "with torch.no_grad():\n",
        "    total = 0\n",
        "    correct = 0\n",
        "    for images, labels in test_loader_handsigns:\n",
        "        images = images.to(device)\n",
        "        labels = labels.to(device)\n",
        "        outputs = model(images)\n",
        "        _, predicted = torch.max(outputs.data, 1)\n",
        "        total += labels.size(0)\n",
        "        correct += (predicted == labels).sum().item()\n",
        "    # 正解率精度の確認\n",
        "    print('Test Accuracy: {} %'.format(100 * correct / total))"
      ],
      "metadata": {
        "id": "RFVsb7ZOs21L",
        "colab": {
          "base_uri": "https://localhost:8080/"
        },
        "outputId": "39d87386-d4cf-492a-85e2-d92839402ed2"
      },
      "execution_count": 134,
      "outputs": [
        {
          "output_type": "stream",
          "name": "stdout",
          "text": [
            "Test Accuracy: 74.0 %\n"
          ]
        }
      ]
    },
    {
      "cell_type": "code",
      "source": [
        "# GPUメモリの解放\n",
        "del model, model_init\n",
        "torch.cuda.empty_cache()"
      ],
      "metadata": {
        "id": "OLnXW3Pjs21L"
      },
      "execution_count": 135,
      "outputs": []
    },
    {
      "cell_type": "markdown",
      "source": [
        "### prune_rate=0.5"
      ],
      "metadata": {
        "id": "NOHLe2YEs21L"
      }
    },
    {
      "cell_type": "code",
      "source": [
        "# デバイスを設定\n",
        "device = torch.device('cuda' if torch.cuda.is_available() else 'cpu')\n",
        "# モデルを定義\n",
        "model = torch.load('/content/drive/MyDrive/SupermaskWideResNet28_10_CIFAR10_100epochs_pr0.5_constant_CLRS_restest.pth')\n",
        "# 最終層を変更\n",
        "model.fc = nn.Linear(model.fc.in_features, 10)\n",
        "# 最終層以外のパラメータの勾配計算を停止\n",
        "for param in model.parameters():\n",
        "    param.requires_grad = False\n",
        "# 最終層のパラメータのみを学習するように設定\n",
        "for param in model.fc.parameters():\n",
        "    param.requires_grad = True\n",
        "# モデルをデバイスに転送\n",
        "model = model.to(device)\n",
        "# 変更後のモデルの重みを保存\n",
        "model_init = copy.deepcopy(model)\n",
        "\n",
        "# 学習率を設定\n",
        "learning_rate = 0.01\n",
        "# 全体のepoch数を設定\n",
        "num_epochs = 50\n",
        "# warm-upするepoch数を設定\n",
        "warmup_epochs = 5\n",
        "\n",
        "# 損失関数を定義\n",
        "criterion = nn.CrossEntropyLoss()\n",
        "# オプティマイザーを設定\n",
        "optimizer = optim.Adam(model.fc.parameters(), lr=learning_rate)\n",
        "# スケジューラーを設定\n",
        "scheduler = CosineLRScheduler(optimizer, t_initial=num_epochs, lr_min=1e-4, warmup_t=warmup_epochs, warmup_lr_init=1e-4, warmup_prefix=True)\n",
        "\n",
        "# モデルの学習\n",
        "for epoch in range(num_epochs):\n",
        "    total = 0\n",
        "    correct = 0\n",
        "    for i, (images, labels) in enumerate(train_loader_handsigns):\n",
        "        images = images.to(device)\n",
        "        labels = labels.to(device)\n",
        "        # 順伝播\n",
        "        outputs = model(images)\n",
        "        loss = criterion(outputs, labels)\n",
        "        # 逆伝播\n",
        "        optimizer.zero_grad()\n",
        "        loss.backward()\n",
        "        optimizer.step()\n",
        "        _, predicted = torch.max(outputs.data, 1)\n",
        "        # 全データ数\n",
        "        total += labels.size(0)\n",
        "        # 正解数\n",
        "        correct += (predicted == labels).sum().item()\n",
        "    # 正解率精度を計算\n",
        "    train_acc = 100 * correct / total\n",
        "    # 正解率精度と損失を確認\n",
        "    print(\"Epoch [{}/{}], Train Accuracy: {} %, Loss: {:.4f}\".format(epoch+1, num_epochs, 100 * correct / total, loss.item()))\n",
        "    # 1エポック終了後にスケジューラーを更新\n",
        "    scheduler.step(epoch)\n",
        "    # 学習率の確認\n",
        "    print(\"Epoch [{}/{}], Learning Rate: {}\".format(epoch+1, num_epochs, optimizer.param_groups[0]['lr']))\n",
        "\n",
        "\n",
        "# モデルを保存\n",
        "torch.save(model, '/content/drive/MyDrive/SupermaskWideResNet28_10_HandSigns_from_CIFAR10_100epochs_pr0.5_constant_50epochs_lr0.01_CLRS_restest.pth')"
      ],
      "metadata": {
        "id": "702jIUxAs21L",
        "colab": {
          "base_uri": "https://localhost:8080/"
        },
        "outputId": "3331616d-0098-4273-ec1a-530027b9519a"
      },
      "execution_count": 136,
      "outputs": [
        {
          "output_type": "stream",
          "name": "stdout",
          "text": [
            "Epoch [1/50], Train Accuracy: 11.1 %, Loss: 2.2687\n",
            "Epoch [1/50], Learning Rate: 0.0001\n",
            "Epoch [2/50], Train Accuracy: 19.5 %, Loss: 2.2196\n",
            "Epoch [2/50], Learning Rate: 0.00208\n",
            "Epoch [3/50], Train Accuracy: 23.4 %, Loss: 2.0489\n",
            "Epoch [3/50], Learning Rate: 0.00406\n",
            "Epoch [4/50], Train Accuracy: 29.0 %, Loss: 2.3512\n",
            "Epoch [4/50], Learning Rate: 0.00604\n",
            "Epoch [5/50], Train Accuracy: 29.7 %, Loss: 2.0972\n",
            "Epoch [5/50], Learning Rate: 0.00802\n",
            "Epoch [6/50], Train Accuracy: 32.4 %, Loss: 1.7371\n",
            "Epoch [6/50], Learning Rate: 0.01\n",
            "Epoch [7/50], Train Accuracy: 34.1 %, Loss: 1.7872\n",
            "Epoch [7/50], Learning Rate: 0.009990232305719944\n",
            "Epoch [8/50], Train Accuracy: 37.7 %, Loss: 1.5647\n",
            "Epoch [8/50], Learning Rate: 0.009960967771506667\n",
            "Epoch [9/50], Train Accuracy: 39.0 %, Loss: 1.4475\n",
            "Epoch [9/50], Learning Rate: 0.00991232189110701\n",
            "Epoch [10/50], Train Accuracy: 34.4 %, Loss: 2.0731\n",
            "Epoch [10/50], Learning Rate: 0.009844486647586723\n",
            "Epoch [11/50], Train Accuracy: 44.3 %, Loss: 2.3665\n",
            "Epoch [11/50], Learning Rate: 0.009757729755661011\n",
            "Epoch [12/50], Train Accuracy: 42.1 %, Loss: 1.3120\n",
            "Epoch [12/50], Learning Rate: 0.009652393605146845\n",
            "Epoch [13/50], Train Accuracy: 45.1 %, Loss: 1.9598\n",
            "Epoch [13/50], Learning Rate: 0.009528893909706798\n",
            "Epoch [14/50], Train Accuracy: 44.5 %, Loss: 1.5928\n",
            "Epoch [14/50], Learning Rate: 0.009387718066217124\n",
            "Epoch [15/50], Train Accuracy: 50.7 %, Loss: 1.4527\n",
            "Epoch [15/50], Learning Rate: 0.009229423231234974\n",
            "Epoch [16/50], Train Accuracy: 48.8 %, Loss: 1.0757\n",
            "Epoch [16/50], Learning Rate: 0.00905463412215599\n",
            "Epoch [17/50], Train Accuracy: 49.4 %, Loss: 2.0930\n",
            "Epoch [17/50], Learning Rate: 0.008864040551740157\n",
            "Epoch [18/50], Train Accuracy: 52.0 %, Loss: 2.5108\n",
            "Epoch [18/50], Learning Rate: 0.008658394705735987\n",
            "Epoch [19/50], Train Accuracy: 51.9 %, Loss: 1.2565\n",
            "Epoch [19/50], Learning Rate: 0.00843850817434701\n",
            "Epoch [20/50], Train Accuracy: 53.1 %, Loss: 1.8993\n",
            "Epoch [20/50], Learning Rate: 0.008205248749256015\n",
            "Epoch [21/50], Train Accuracy: 51.7 %, Loss: 0.9714\n",
            "Epoch [21/50], Learning Rate: 0.007959536998847744\n",
            "Epoch [22/50], Train Accuracy: 49.6 %, Loss: 1.8378\n",
            "Epoch [22/50], Learning Rate: 0.007702342635146034\n",
            "Epoch [23/50], Train Accuracy: 54.1 %, Loss: 2.4680\n",
            "Epoch [23/50], Learning Rate: 0.007434680686803491\n",
            "Epoch [24/50], Train Accuracy: 51.6 %, Loss: 1.2791\n",
            "Epoch [24/50], Learning Rate: 0.0071576074932471105\n",
            "Epoch [25/50], Train Accuracy: 55.1 %, Loss: 1.0592\n",
            "Epoch [25/50], Learning Rate: 0.006872216535789157\n",
            "Epoch [26/50], Train Accuracy: 55.7 %, Loss: 1.6830\n",
            "Epoch [26/50], Learning Rate: 0.006579634122155991\n",
            "Epoch [27/50], Train Accuracy: 60.6 %, Loss: 1.5143\n",
            "Epoch [27/50], Learning Rate: 0.0062810149414660316\n",
            "Epoch [28/50], Train Accuracy: 56.3 %, Loss: 1.8281\n",
            "Epoch [28/50], Learning Rate: 0.005977537507199339\n",
            "Epoch [29/50], Train Accuracy: 58.7 %, Loss: 1.3113\n",
            "Epoch [29/50], Learning Rate: 0.005670399506143308\n",
            "Epoch [30/50], Train Accuracy: 57.5 %, Loss: 1.5724\n",
            "Epoch [30/50], Learning Rate: 0.005360813071670102\n",
            "Epoch [31/50], Train Accuracy: 59.0 %, Loss: 1.5208\n",
            "Epoch [31/50], Learning Rate: 0.005050000000000001\n",
            "Epoch [32/50], Train Accuracy: 64.2 %, Loss: 0.5025\n",
            "Epoch [32/50], Learning Rate: 0.004739186928329899\n",
            "Epoch [33/50], Train Accuracy: 60.7 %, Loss: 1.2636\n",
            "Epoch [33/50], Learning Rate: 0.004429600493856695\n",
            "Epoch [34/50], Train Accuracy: 61.6 %, Loss: 0.8568\n",
            "Epoch [34/50], Learning Rate: 0.0041224624928006635\n",
            "Epoch [35/50], Train Accuracy: 63.1 %, Loss: 0.6057\n",
            "Epoch [35/50], Learning Rate: 0.0038189850585339685\n",
            "Epoch [36/50], Train Accuracy: 64.8 %, Loss: 1.4729\n",
            "Epoch [36/50], Learning Rate: 0.003520365877844012\n",
            "Epoch [37/50], Train Accuracy: 66.5 %, Loss: 0.7615\n",
            "Epoch [37/50], Learning Rate: 0.0032277834642108457\n",
            "Epoch [38/50], Train Accuracy: 65.2 %, Loss: 1.3487\n",
            "Epoch [38/50], Learning Rate: 0.0029423925067528904\n",
            "Epoch [39/50], Train Accuracy: 67.5 %, Loss: 0.6503\n",
            "Epoch [39/50], Learning Rate: 0.002665319313196509\n",
            "Epoch [40/50], Train Accuracy: 65.3 %, Loss: 0.8105\n",
            "Epoch [40/50], Learning Rate: 0.0023976573648539653\n",
            "Epoch [41/50], Train Accuracy: 67.2 %, Loss: 0.8691\n",
            "Epoch [41/50], Learning Rate: 0.0021404630011522584\n",
            "Epoch [42/50], Train Accuracy: 66.6 %, Loss: 1.3642\n",
            "Epoch [42/50], Learning Rate: 0.001894751250743986\n",
            "Epoch [43/50], Train Accuracy: 68.4 %, Loss: 1.4645\n",
            "Epoch [43/50], Learning Rate: 0.001661491825652991\n",
            "Epoch [44/50], Train Accuracy: 69.4 %, Loss: 0.5034\n",
            "Epoch [44/50], Learning Rate: 0.001441605294264014\n",
            "Epoch [45/50], Train Accuracy: 67.6 %, Loss: 0.9042\n",
            "Epoch [45/50], Learning Rate: 0.001235959448259844\n",
            "Epoch [46/50], Train Accuracy: 70.8 %, Loss: 1.0611\n",
            "Epoch [46/50], Learning Rate: 0.0010453658778440107\n",
            "Epoch [47/50], Train Accuracy: 72.9 %, Loss: 0.7032\n",
            "Epoch [47/50], Learning Rate: 0.0008705767687650265\n",
            "Epoch [48/50], Train Accuracy: 71.0 %, Loss: 0.8889\n",
            "Epoch [48/50], Learning Rate: 0.0007122819337828754\n",
            "Epoch [49/50], Train Accuracy: 69.6 %, Loss: 0.6773\n",
            "Epoch [49/50], Learning Rate: 0.0005711060902932043\n",
            "Epoch [50/50], Train Accuracy: 71.1 %, Loss: 1.1547\n",
            "Epoch [50/50], Learning Rate: 0.00044760639485315584\n"
          ]
        }
      ]
    },
    {
      "cell_type": "code",
      "source": [
        "# モデルの刈り込み率を計算する関数を作成\n",
        "def calculate_pruned_ratio(model):\n",
        "    total_weights = 0\n",
        "    total_pruned_weights = 0\n",
        "\n",
        "    for module in model.modules():\n",
        "        # モジュールがSupermaskConvであるか確認\n",
        "        if isinstance(module, SupermaskConv):\n",
        "            # SupermaskConv層の重みを取得\n",
        "            weight = module.weight.data\n",
        "            # 刈り込みを適用した後の重みを取得\n",
        "            subnet = GetSubnet.apply(module.clamped_scores, 1 - module.prune_rate)\n",
        "            pruned_weight = weight * subnet\n",
        "            # 0である要素数を計算\n",
        "            pruned_weights_count = (pruned_weight == 0).sum().item()\n",
        "            total_pruned_weights += pruned_weights_count\n",
        "            # 重みの全要素数を計算\n",
        "            total_weights_count = pruned_weight.numel()\n",
        "            total_weights += total_weights_count\n",
        "\n",
        "    # 刈り込みが行われた割合を計算\n",
        "    pruned_ratio = total_pruned_weights / total_weights\n",
        "    return print(f\"刈り込み率は{pruned_ratio:.3f}です\")\n",
        "\n",
        "# モデルの刈り込み率を確認\n",
        "calculate_pruned_ratio(model)"
      ],
      "metadata": {
        "id": "xk_gOEAns21L",
        "colab": {
          "base_uri": "https://localhost:8080/"
        },
        "outputId": "06f47937-25fb-478f-ce40-f34d0ba72069"
      },
      "execution_count": 137,
      "outputs": [
        {
          "output_type": "stream",
          "name": "stdout",
          "text": [
            "刈り込み率は0.500です\n"
          ]
        }
      ]
    },
    {
      "cell_type": "code",
      "source": [
        "# 学習前後のモデルのスコアを比較する関数を作成\n",
        "def check_scores_change(model, model_init):\n",
        "    # 各モデルの名前付きモジュールを順に調べる\n",
        "    for (name, module), (name_init, module_init) in zip(model.named_modules(), model_init.named_modules()):\n",
        "        # 両モジュールがConv2dのインスタンスであるかを確認\n",
        "        if isinstance(module, torch.nn.Conv2d) and isinstance(module_init, torch.nn.Conv2d):\n",
        "            # 両モジュールが'scores'属性を持っているかを確認\n",
        "            if hasattr(module, 'scores') and hasattr(module_init, 'scores'):\n",
        "                # 両モジュールの'scores'属性が一致しているかを確認\n",
        "                # 一致していない場合、変更があったことを示すメッセージを出力\n",
        "                if not torch.equal(module.scores, module_init.scores):\n",
        "                    print(f'{name}のスコアが変化しています')\n",
        "                    return\n",
        "    # すべてのconv層で'scores'が変更されていない場合、その旨を出力\n",
        "    print('すべてのスコアは変化していません')\n",
        "\n",
        "# 学習前後でモデルのスコアが変化していないかを確認\n",
        "check_scores_change(model, model_init)"
      ],
      "metadata": {
        "id": "Pw0PWjias21M",
        "colab": {
          "base_uri": "https://localhost:8080/"
        },
        "outputId": "a7955668-8aef-464b-c914-a20743b253f0"
      },
      "execution_count": 138,
      "outputs": [
        {
          "output_type": "stream",
          "name": "stdout",
          "text": [
            "すべてのスコアは変化していません\n"
          ]
        }
      ]
    },
    {
      "cell_type": "code",
      "source": [
        "# 学習前後のモデルの最終層以外の重みを比較する関数を作成\n",
        "def check_weight_change_except_last(model, model_init):\n",
        "    for (name, param), (name_init, param_init) in zip(model.named_parameters(), model_init.named_parameters()):\n",
        "        # 最終層を除く\n",
        "        if name != 'fc.weight' and name != 'fc.bias':\n",
        "            weights_changed = (param.data != param_init.data).any()\n",
        "            if weights_changed:\n",
        "                return print('最終層以外の重みが変化しています')\n",
        "    return print('最終層以外の重みは変化していません')\n",
        "\n",
        "# 学習前後でモデルの最終層以外の重みが変化していないかを確認\n",
        "check_weight_change_except_last(model, model_init)"
      ],
      "metadata": {
        "id": "I8aQW-dBs21M",
        "colab": {
          "base_uri": "https://localhost:8080/"
        },
        "outputId": "e3b80da4-16f5-4c8f-c4d6-07bcf228263d"
      },
      "execution_count": 139,
      "outputs": [
        {
          "output_type": "stream",
          "name": "stdout",
          "text": [
            "最終層以外の重みは変化していません\n"
          ]
        }
      ]
    },
    {
      "cell_type": "code",
      "source": [
        "# モデルの評価\n",
        "model.eval()\n",
        "with torch.no_grad():\n",
        "    total = 0\n",
        "    correct = 0\n",
        "    for images, labels in test_loader_handsigns:\n",
        "        images = images.to(device)\n",
        "        labels = labels.to(device)\n",
        "        outputs = model(images)\n",
        "        _, predicted = torch.max(outputs.data, 1)\n",
        "        total += labels.size(0)\n",
        "        correct += (predicted == labels).sum().item()\n",
        "    # 正解率精度の確認\n",
        "    print('Test Accuracy: {} %'.format(100 * correct / total))"
      ],
      "metadata": {
        "id": "3q088eN2s21M",
        "colab": {
          "base_uri": "https://localhost:8080/"
        },
        "outputId": "a7c1fca7-4c47-410a-ca0b-7943c6721196"
      },
      "execution_count": 140,
      "outputs": [
        {
          "output_type": "stream",
          "name": "stdout",
          "text": [
            "Test Accuracy: 71.0 %\n"
          ]
        }
      ]
    },
    {
      "cell_type": "code",
      "source": [
        "# GPUメモリの解放\n",
        "del model, model_init\n",
        "torch.cuda.empty_cache()"
      ],
      "metadata": {
        "id": "k9H_mGkns21M"
      },
      "execution_count": 141,
      "outputs": []
    }
  ]
}